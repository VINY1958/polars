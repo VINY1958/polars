{
  "cells": [
    {
      "cell_type": "markdown",
      "metadata": {
        "id": "view-in-github",
        "colab_type": "text"
      },
      "source": [
        "<a href=\"https://colab.research.google.com/github/VINY1958/polars/blob/main/polars_gpu_engine_demo.ipynb\" target=\"_parent\"><img src=\"https://colab.research.google.com/assets/colab-badge.svg\" alt=\"Open In Colab\"/></a>"
      ]
    },
    {
      "cell_type": "markdown",
      "source": [
        "https://www.youtube.com/watch?v=8GoBlwgbirE\n"
      ],
      "metadata": {
        "id": "XM0KXQ_0mvDK"
      },
      "id": "XM0KXQ_0mvDK"
    },
    {
      "cell_type": "markdown",
      "source": [
        "https://github.com/rapidsai-community/showcase/blob/main/accelerated_data_processing_examples/polars_gpu_engine_demo.ipynb?utm_source=influencer&utm_medium=social&utm_campaign=MS"
      ],
      "metadata": {
        "id": "jVN5epeZo44y"
      },
      "id": "jVN5epeZo44y"
    },
    {
      "cell_type": "markdown",
      "id": "3ee31ce0-49be-4f82-ab61-4d7f830ddca7",
      "metadata": {
        "id": "3ee31ce0-49be-4f82-ab61-4d7f830ddca7"
      },
      "source": [
        "## Introduction to the Polars GPU Engine\n",
        "\n",
        "Polars is a popular single machine DataFrame library powered by an OLAP Query Engine. Beginning in the v1.3 release, Polars can now leverage NVIDIA GPUs for even higher performance through its GPU engine (powered by RAPIDS cuDF).\n",
        "\n",
        "Designed to make processing 10-100+ GBs of data feel interactive with just a single GPU, this new engine is built directly into the Polars Lazy API – just pass <font color=\"#76B900\">**engine=\"gpu\"**</font> to the `collect` operation.\n",
        "\n",
        "The GPU engine fully utilizes the Polars optimizer to ensure efficient execution and minimal memory usage, is compatible with the ecosystem of tools built for Polars, and has graceful CPU fallback for unsupported queries.\n",
        "\n",
        "This notebook is a short introduction to the Polars GPU engine, powered by cuDF."
      ]
    },
    {
      "cell_type": "markdown",
      "source": [
        "Polars es una popular biblioteca de datos de datos de una sola máquina alimentada por un motor OLAP Query. A partir de la liberación de V1.3, los polares ahora pueden aprovechar las GPU NVIDIA para un rendimiento aún mayor a través de su motor GPU (alimentado por Rapids CUDF).\n",
        "\n",
        "Diseñado para hacer que el procesamiento de más de 10-100 GB de datos se sienta interactivo con una sola GPU, este nuevo motor se basa directamente en la API Polars Lazy-Just Pass Engine = \"GPU\" para la operación de recolección.\n",
        "\n",
        "El motor GPU utiliza completamente el optimizador Polars para garantizar una ejecución eficiente y un uso mínimo de memoria, es compatible con el ecosistema de herramientas creadas para polares, y tiene un elegante retroceso de la CPU para consultas no compatibles.\n",
        "\n",
        "Este cuaderno es una breve introducción al motor GPU Polars, alimentado por CUDF.\n"
      ],
      "metadata": {
        "id": "gCbHe3amAY2y"
      },
      "id": "gCbHe3amAY2y"
    },
    {
      "cell_type": "code",
      "execution_count": 1,
      "id": "06582ce0-5db4-46e6-8ced-1e65f97e54b1",
      "metadata": {
        "colab": {
          "base_uri": "https://localhost:8080/"
        },
        "id": "06582ce0-5db4-46e6-8ced-1e65f97e54b1",
        "outputId": "219f7dcc-35de-4e6b-af61-e07bac249b3c"
      },
      "outputs": [
        {
          "output_type": "stream",
          "name": "stdout",
          "text": [
            "NVIDIA-SMI has failed because it couldn't communicate with the NVIDIA driver. Make sure that the latest NVIDIA driver is installed and running.\n",
            "\n"
          ]
        }
      ],
      "source": [
        "!nvidia-smi | head"
      ]
    },
    {
      "cell_type": "code",
      "execution_count": 2,
      "id": "91244434-bf27-4c54-8e02-deb0215e4c66",
      "metadata": {
        "colab": {
          "base_uri": "https://localhost:8080/"
        },
        "id": "91244434-bf27-4c54-8e02-deb0215e4c66",
        "outputId": "ae068000-001c-4d42-bc2b-b886ae664f9d"
      },
      "outputs": [
        {
          "output_type": "stream",
          "name": "stdout",
          "text": [
            "Model name:                           Intel(R) Xeon(R) CPU @ 2.20GHz\n",
            "Model:                                79\n",
            "Socket(s):                            1\n"
          ]
        }
      ],
      "source": [
        "!lscpu | grep -E \"Model|Socket\""
      ]
    },
    {
      "cell_type": "markdown",
      "id": "W_-gtW5OFaXw",
      "metadata": {
        "id": "W_-gtW5OFaXw"
      },
      "source": [
        "# Setup"
      ]
    },
    {
      "cell_type": "markdown",
      "id": "TabS5fiHG0dG",
      "metadata": {
        "id": "TabS5fiHG0dG"
      },
      "source": [
        "## Installing the Polars GPU Engine\n",
        "\n",
        "Install Polars with GPU Engine by using a feature flag in the standard pip install command  `pip install polars[gpu] --extra-index-url=https://pypi.nvidia.com`.\n",
        "\n",
        "Since this notebook may be used in environments with an existing Polars installation (e.g., Google Colab), we'll add the `-U` flag to upgrade Polars if it's already present."
      ]
    },
    {
      "cell_type": "markdown",
      "source": [
        "Instale los polares con motor GPU utilizando un indicador de características en el comando estándar de instalación PIP PIP Instale POLARS [GPU] --extra-Index-URL = https: //pypi.nvidia.com.\n",
        "\n",
        "Dado que este cuaderno puede usarse en entornos con una instalación de Polars existente (por ejemplo, Google Colab), agregaremos el indicador -U para actualizar los polares si ya está presente."
      ],
      "metadata": {
        "id": "XdF9ZtArAnl6"
      },
      "id": "XdF9ZtArAnl6"
    },
    {
      "cell_type": "code",
      "execution_count": 3,
      "id": "vu5rC3MQf3wr",
      "metadata": {
        "id": "vu5rC3MQf3wr",
        "colab": {
          "base_uri": "https://localhost:8080/"
        },
        "outputId": "c3f2264d-af93-424f-9469-719c747ef942"
      },
      "outputs": [
        {
          "output_type": "stream",
          "name": "stdout",
          "text": [
            "Looking in indexes: https://pypi.org/simple, https://pypi.nvidia.com\n",
            "Requirement already satisfied: polars[gpu] in /usr/local/lib/python3.10/dist-packages (1.12.0)\n",
            "Requirement already satisfied: cudf-polars-cu12 in /usr/local/lib/python3.10/dist-packages (from polars[gpu]) (24.8.3)\n",
            "Requirement already satisfied: cudf-cu12==24.8.* in /usr/local/lib/python3.10/dist-packages (from cudf-polars-cu12->polars[gpu]) (24.8.3)\n",
            "Requirement already satisfied: cachetools in /usr/local/lib/python3.10/dist-packages (from cudf-cu12==24.8.*->cudf-polars-cu12->polars[gpu]) (5.5.0)\n",
            "Requirement already satisfied: cuda-python<13.0a0,>=12.0 in /usr/local/lib/python3.10/dist-packages (from cudf-cu12==24.8.*->cudf-polars-cu12->polars[gpu]) (12.2.1)\n",
            "Requirement already satisfied: cupy-cuda12x>=12.0.0 in /usr/local/lib/python3.10/dist-packages (from cudf-cu12==24.8.*->cudf-polars-cu12->polars[gpu]) (12.2.0)\n",
            "Requirement already satisfied: fsspec>=0.6.0 in /usr/local/lib/python3.10/dist-packages (from cudf-cu12==24.8.*->cudf-polars-cu12->polars[gpu]) (2024.6.1)\n",
            "Requirement already satisfied: numba>=0.57 in /usr/local/lib/python3.10/dist-packages (from cudf-cu12==24.8.*->cudf-polars-cu12->polars[gpu]) (0.60.0)\n",
            "Requirement already satisfied: numpy<2.0a0,>=1.23 in /usr/local/lib/python3.10/dist-packages (from cudf-cu12==24.8.*->cudf-polars-cu12->polars[gpu]) (1.26.4)\n",
            "Requirement already satisfied: nvtx>=0.2.1 in /usr/local/lib/python3.10/dist-packages (from cudf-cu12==24.8.*->cudf-polars-cu12->polars[gpu]) (0.2.10)\n",
            "Requirement already satisfied: packaging in /usr/local/lib/python3.10/dist-packages (from cudf-cu12==24.8.*->cudf-polars-cu12->polars[gpu]) (24.1)\n",
            "Requirement already satisfied: pandas<2.2.3dev0,>=2.0 in /usr/local/lib/python3.10/dist-packages (from cudf-cu12==24.8.*->cudf-polars-cu12->polars[gpu]) (2.2.2)\n",
            "Requirement already satisfied: pyarrow<16.2.0a0,>=16.1.0 in /usr/local/lib/python3.10/dist-packages (from cudf-cu12==24.8.*->cudf-polars-cu12->polars[gpu]) (16.1.0)\n",
            "Requirement already satisfied: pynvjitlink-cu12 in /usr/local/lib/python3.10/dist-packages (from cudf-cu12==24.8.*->cudf-polars-cu12->polars[gpu]) (0.3.0)\n",
            "Requirement already satisfied: rich in /usr/local/lib/python3.10/dist-packages (from cudf-cu12==24.8.*->cudf-polars-cu12->polars[gpu]) (13.9.3)\n",
            "Requirement already satisfied: rmm-cu12==24.8.* in /usr/local/lib/python3.10/dist-packages (from cudf-cu12==24.8.*->cudf-polars-cu12->polars[gpu]) (24.8.2)\n",
            "Requirement already satisfied: typing_extensions>=4.0.0 in /usr/local/lib/python3.10/dist-packages (from cudf-cu12==24.8.*->cudf-polars-cu12->polars[gpu]) (4.12.2)\n",
            "Requirement already satisfied: cython in /usr/local/lib/python3.10/dist-packages (from cuda-python<13.0a0,>=12.0->cudf-cu12==24.8.*->cudf-polars-cu12->polars[gpu]) (3.0.11)\n",
            "Requirement already satisfied: fastrlock>=0.5 in /usr/local/lib/python3.10/dist-packages (from cupy-cuda12x>=12.0.0->cudf-cu12==24.8.*->cudf-polars-cu12->polars[gpu]) (0.8.2)\n",
            "Requirement already satisfied: llvmlite<0.44,>=0.43.0dev0 in /usr/local/lib/python3.10/dist-packages (from numba>=0.57->cudf-cu12==24.8.*->cudf-polars-cu12->polars[gpu]) (0.43.0)\n",
            "Requirement already satisfied: python-dateutil>=2.8.2 in /usr/local/lib/python3.10/dist-packages (from pandas<2.2.3dev0,>=2.0->cudf-cu12==24.8.*->cudf-polars-cu12->polars[gpu]) (2.8.2)\n",
            "Requirement already satisfied: pytz>=2020.1 in /usr/local/lib/python3.10/dist-packages (from pandas<2.2.3dev0,>=2.0->cudf-cu12==24.8.*->cudf-polars-cu12->polars[gpu]) (2024.2)\n",
            "Requirement already satisfied: tzdata>=2022.7 in /usr/local/lib/python3.10/dist-packages (from pandas<2.2.3dev0,>=2.0->cudf-cu12==24.8.*->cudf-polars-cu12->polars[gpu]) (2024.2)\n",
            "Requirement already satisfied: markdown-it-py>=2.2.0 in /usr/local/lib/python3.10/dist-packages (from rich->cudf-cu12==24.8.*->cudf-polars-cu12->polars[gpu]) (3.0.0)\n",
            "Requirement already satisfied: pygments<3.0.0,>=2.13.0 in /usr/local/lib/python3.10/dist-packages (from rich->cudf-cu12==24.8.*->cudf-polars-cu12->polars[gpu]) (2.18.0)\n",
            "Requirement already satisfied: mdurl~=0.1 in /usr/local/lib/python3.10/dist-packages (from markdown-it-py>=2.2.0->rich->cudf-cu12==24.8.*->cudf-polars-cu12->polars[gpu]) (0.1.2)\n",
            "Requirement already satisfied: six>=1.5 in /usr/local/lib/python3.10/dist-packages (from python-dateutil>=2.8.2->pandas<2.2.3dev0,>=2.0->cudf-cu12==24.8.*->cudf-polars-cu12->polars[gpu]) (1.16.0)\n"
          ]
        }
      ],
      "source": [
        "!pip install -U polars[gpu] --extra-index-url=https://pypi.nvidia.com"
      ]
    },
    {
      "cell_type": "markdown",
      "id": "VennSeDTFf6W",
      "metadata": {
        "id": "VennSeDTFf6W"
      },
      "source": [
        "# Install Other Important Dependencies\n",
        "To use the built-in data visualization capabilities of Polars, you'll need to install a few additional dependencies.  We'll also install pynvml to help us determine which dataset size to use."
      ]
    },
    {
      "cell_type": "markdown",
      "source": [
        "Para usar las capacidades de visualización de datos incorporadas de los polares, deberá instalar algunas dependencias adicionales. También instalaremos pynvml para ayudarnos a determinar qué tamaño de conjunto de datos usar."
      ],
      "metadata": {
        "id": "vHKm9jx9BRnn"
      },
      "id": "vHKm9jx9BRnn"
    },
    {
      "cell_type": "code",
      "execution_count": 4,
      "id": "FkCyRc9ufSWS",
      "metadata": {
        "id": "FkCyRc9ufSWS",
        "colab": {
          "base_uri": "https://localhost:8080/"
        },
        "outputId": "e10978de-dd4b-4487-dd52-02c0fda28eb0"
      },
      "outputs": [
        {
          "output_type": "stream",
          "name": "stdout",
          "text": [
            "Requirement already satisfied: hvplot in /usr/local/lib/python3.10/dist-packages (0.11.1)\n",
            "Requirement already satisfied: jupyter_bokeh in /usr/local/lib/python3.10/dist-packages (4.0.5)\n",
            "Requirement already satisfied: holoviews==1.19 in /usr/local/lib/python3.10/dist-packages (1.19.0)\n",
            "Requirement already satisfied: pynvml in /usr/local/lib/python3.10/dist-packages (11.5.3)\n",
            "Requirement already satisfied: bokeh>=3.1 in /usr/local/lib/python3.10/dist-packages (from holoviews==1.19) (3.4.3)\n",
            "Requirement already satisfied: colorcet in /usr/local/lib/python3.10/dist-packages (from holoviews==1.19) (3.1.0)\n",
            "Requirement already satisfied: numpy>=1.21 in /usr/local/lib/python3.10/dist-packages (from holoviews==1.19) (1.26.4)\n",
            "Requirement already satisfied: packaging in /usr/local/lib/python3.10/dist-packages (from holoviews==1.19) (24.1)\n",
            "Requirement already satisfied: pandas>=1.3 in /usr/local/lib/python3.10/dist-packages (from holoviews==1.19) (2.2.2)\n",
            "Requirement already satisfied: panel>=1.0 in /usr/local/lib/python3.10/dist-packages (from holoviews==1.19) (1.4.5)\n",
            "Requirement already satisfied: param<3.0,>=2.0 in /usr/local/lib/python3.10/dist-packages (from holoviews==1.19) (2.1.1)\n",
            "Requirement already satisfied: pyviz-comms>=2.1 in /usr/local/lib/python3.10/dist-packages (from holoviews==1.19) (3.0.3)\n",
            "Requirement already satisfied: ipywidgets==8.* in /usr/local/lib/python3.10/dist-packages (from jupyter_bokeh) (8.1.5)\n",
            "Requirement already satisfied: Jinja2>=2.9 in /usr/local/lib/python3.10/dist-packages (from bokeh>=3.1->holoviews==1.19) (3.1.4)\n",
            "Requirement already satisfied: contourpy>=1.2 in /usr/local/lib/python3.10/dist-packages (from bokeh>=3.1->holoviews==1.19) (1.3.0)\n",
            "Requirement already satisfied: pillow>=7.1.0 in /usr/local/lib/python3.10/dist-packages (from bokeh>=3.1->holoviews==1.19) (10.4.0)\n",
            "Requirement already satisfied: PyYAML>=3.10 in /usr/local/lib/python3.10/dist-packages (from bokeh>=3.1->holoviews==1.19) (6.0.2)\n",
            "Requirement already satisfied: tornado>=6.2 in /usr/local/lib/python3.10/dist-packages (from bokeh>=3.1->holoviews==1.19) (6.3.3)\n",
            "Requirement already satisfied: xyzservices>=2021.09.1 in /usr/local/lib/python3.10/dist-packages (from bokeh>=3.1->holoviews==1.19) (2024.9.0)\n",
            "Requirement already satisfied: comm>=0.1.3 in /usr/local/lib/python3.10/dist-packages (from ipywidgets==8.*->jupyter_bokeh) (0.2.2)\n",
            "Requirement already satisfied: ipython>=6.1.0 in /usr/local/lib/python3.10/dist-packages (from ipywidgets==8.*->jupyter_bokeh) (7.34.0)\n",
            "Requirement already satisfied: traitlets>=4.3.1 in /usr/local/lib/python3.10/dist-packages (from ipywidgets==8.*->jupyter_bokeh) (5.7.1)\n",
            "Requirement already satisfied: widgetsnbextension~=4.0.12 in /usr/local/lib/python3.10/dist-packages (from ipywidgets==8.*->jupyter_bokeh) (4.0.13)\n",
            "Requirement already satisfied: jupyterlab-widgets~=3.0.12 in /usr/local/lib/python3.10/dist-packages (from ipywidgets==8.*->jupyter_bokeh) (3.0.13)\n",
            "Requirement already satisfied: python-dateutil>=2.8.2 in /usr/local/lib/python3.10/dist-packages (from pandas>=1.3->holoviews==1.19) (2.8.2)\n",
            "Requirement already satisfied: pytz>=2020.1 in /usr/local/lib/python3.10/dist-packages (from pandas>=1.3->holoviews==1.19) (2024.2)\n",
            "Requirement already satisfied: tzdata>=2022.7 in /usr/local/lib/python3.10/dist-packages (from pandas>=1.3->holoviews==1.19) (2024.2)\n",
            "Requirement already satisfied: markdown in /usr/local/lib/python3.10/dist-packages (from panel>=1.0->holoviews==1.19) (3.7)\n",
            "Requirement already satisfied: markdown-it-py in /usr/local/lib/python3.10/dist-packages (from panel>=1.0->holoviews==1.19) (3.0.0)\n",
            "Requirement already satisfied: linkify-it-py in /usr/local/lib/python3.10/dist-packages (from panel>=1.0->holoviews==1.19) (2.0.3)\n",
            "Requirement already satisfied: mdit-py-plugins in /usr/local/lib/python3.10/dist-packages (from panel>=1.0->holoviews==1.19) (0.4.2)\n",
            "Requirement already satisfied: requests in /usr/local/lib/python3.10/dist-packages (from panel>=1.0->holoviews==1.19) (2.32.3)\n",
            "Requirement already satisfied: tqdm>=4.48.0 in /usr/local/lib/python3.10/dist-packages (from panel>=1.0->holoviews==1.19) (4.66.5)\n",
            "Requirement already satisfied: bleach in /usr/local/lib/python3.10/dist-packages (from panel>=1.0->holoviews==1.19) (6.1.0)\n",
            "Requirement already satisfied: typing-extensions in /usr/local/lib/python3.10/dist-packages (from panel>=1.0->holoviews==1.19) (4.12.2)\n",
            "Requirement already satisfied: setuptools>=18.5 in /usr/local/lib/python3.10/dist-packages (from ipython>=6.1.0->ipywidgets==8.*->jupyter_bokeh) (75.1.0)\n",
            "Requirement already satisfied: jedi>=0.16 in /usr/local/lib/python3.10/dist-packages (from ipython>=6.1.0->ipywidgets==8.*->jupyter_bokeh) (0.19.1)\n",
            "Requirement already satisfied: decorator in /usr/local/lib/python3.10/dist-packages (from ipython>=6.1.0->ipywidgets==8.*->jupyter_bokeh) (4.4.2)\n",
            "Requirement already satisfied: pickleshare in /usr/local/lib/python3.10/dist-packages (from ipython>=6.1.0->ipywidgets==8.*->jupyter_bokeh) (0.7.5)\n",
            "Requirement already satisfied: prompt-toolkit!=3.0.0,!=3.0.1,<3.1.0,>=2.0.0 in /usr/local/lib/python3.10/dist-packages (from ipython>=6.1.0->ipywidgets==8.*->jupyter_bokeh) (3.0.48)\n",
            "Requirement already satisfied: pygments in /usr/local/lib/python3.10/dist-packages (from ipython>=6.1.0->ipywidgets==8.*->jupyter_bokeh) (2.18.0)\n",
            "Requirement already satisfied: backcall in /usr/local/lib/python3.10/dist-packages (from ipython>=6.1.0->ipywidgets==8.*->jupyter_bokeh) (0.2.0)\n",
            "Requirement already satisfied: matplotlib-inline in /usr/local/lib/python3.10/dist-packages (from ipython>=6.1.0->ipywidgets==8.*->jupyter_bokeh) (0.1.7)\n",
            "Requirement already satisfied: pexpect>4.3 in /usr/local/lib/python3.10/dist-packages (from ipython>=6.1.0->ipywidgets==8.*->jupyter_bokeh) (4.9.0)\n",
            "Requirement already satisfied: MarkupSafe>=2.0 in /usr/local/lib/python3.10/dist-packages (from Jinja2>=2.9->bokeh>=3.1->holoviews==1.19) (3.0.2)\n",
            "Requirement already satisfied: six>=1.5 in /usr/local/lib/python3.10/dist-packages (from python-dateutil>=2.8.2->pandas>=1.3->holoviews==1.19) (1.16.0)\n",
            "Requirement already satisfied: webencodings in /usr/local/lib/python3.10/dist-packages (from bleach->panel>=1.0->holoviews==1.19) (0.5.1)\n",
            "Requirement already satisfied: uc-micro-py in /usr/local/lib/python3.10/dist-packages (from linkify-it-py->panel>=1.0->holoviews==1.19) (1.0.3)\n",
            "Requirement already satisfied: mdurl~=0.1 in /usr/local/lib/python3.10/dist-packages (from markdown-it-py->panel>=1.0->holoviews==1.19) (0.1.2)\n",
            "Requirement already satisfied: charset-normalizer<4,>=2 in /usr/local/lib/python3.10/dist-packages (from requests->panel>=1.0->holoviews==1.19) (3.4.0)\n",
            "Requirement already satisfied: idna<4,>=2.5 in /usr/local/lib/python3.10/dist-packages (from requests->panel>=1.0->holoviews==1.19) (3.10)\n",
            "Requirement already satisfied: urllib3<3,>=1.21.1 in /usr/local/lib/python3.10/dist-packages (from requests->panel>=1.0->holoviews==1.19) (2.2.3)\n",
            "Requirement already satisfied: certifi>=2017.4.17 in /usr/local/lib/python3.10/dist-packages (from requests->panel>=1.0->holoviews==1.19) (2024.8.30)\n",
            "Requirement already satisfied: parso<0.9.0,>=0.8.3 in /usr/local/lib/python3.10/dist-packages (from jedi>=0.16->ipython>=6.1.0->ipywidgets==8.*->jupyter_bokeh) (0.8.4)\n",
            "Requirement already satisfied: ptyprocess>=0.5 in /usr/local/lib/python3.10/dist-packages (from pexpect>4.3->ipython>=6.1.0->ipywidgets==8.*->jupyter_bokeh) (0.7.0)\n",
            "Requirement already satisfied: wcwidth in /usr/local/lib/python3.10/dist-packages (from prompt-toolkit!=3.0.0,!=3.0.1,<3.1.0,>=2.0.0->ipython>=6.1.0->ipywidgets==8.*->jupyter_bokeh) (0.2.13)\n"
          ]
        }
      ],
      "source": [
        "!pip install hvplot jupyter_bokeh holoviews==1.19 pynvml"
      ]
    },
    {
      "cell_type": "markdown",
      "id": "420f36d3-b9c6-43b1-bdd7-a18ede3a1330",
      "metadata": {
        "id": "420f36d3-b9c6-43b1-bdd7-a18ede3a1330"
      },
      "source": [
        "## Download the Data\n",
        "\n",
        "We'll be working with a roughly 22GB dataset of [simulated financial transactions from Kaggle](https://www.kaggle.com/datasets/conorsully1/simulated-transactions) by default. If you're running this notebook on Google Colab using the T4 GPU in the Colab free tier, we'll download a smaller version of this dataset (about 20% of the size) to fit on the relatively weaker CPU and GPU.\n",
        "\n",
        "We're downloading a copy of this dataset from a GCS bucket hosted by NVIDIA to provide faster download speeds. We'll start by downloading the data. This should take about 30 seconds."
      ]
    },
    {
      "cell_type": "markdown",
      "source": [
        "We'll be working with a roughly 22GB dataset of simulated financial transactions from Kaggle by default. If you're running this notebook on Google Colab using the T4 GPU in the Colab free tier, we'll download a smaller version of this dataset (about 20% of the size) to fit on the relatively weaker CPU and GPU.\n",
        "\n",
        "We're downloading a copy of this dataset from a GCS bucket hosted by NVIDIA to provide faster download speeds. We'll start by downloading the data. This should take about 30 seconds."
      ],
      "metadata": {
        "id": "GhYfNdkbGAK_"
      },
      "id": "GhYfNdkbGAK_"
    },
    {
      "cell_type": "code",
      "source": [
        "!pip install pynvml"
      ],
      "metadata": {
        "colab": {
          "base_uri": "https://localhost:8080/"
        },
        "id": "PaXU5hFb4y_x",
        "outputId": "76adafea-db5b-4f69-ecfb-a9c7a466d33b"
      },
      "id": "PaXU5hFb4y_x",
      "execution_count": 5,
      "outputs": [
        {
          "output_type": "stream",
          "name": "stdout",
          "text": [
            "Requirement already satisfied: pynvml in /usr/local/lib/python3.10/dist-packages (11.5.3)\n"
          ]
        }
      ]
    },
    {
      "cell_type": "code",
      "source": [
        "!apt-get update\n",
        "!apt-get install -y --no-install-recommends cuda-drivers nvidia-driver-470\n",
        "!apt-get install -y nvidia-utils-470 # or the version you need\n",
        "!pip install pynvml"
      ],
      "metadata": {
        "colab": {
          "base_uri": "https://localhost:8080/"
        },
        "id": "2Whw49X86lDn",
        "outputId": "21e9ded9-6ba6-4992-db74-98f9a2c07295"
      },
      "id": "2Whw49X86lDn",
      "execution_count": 6,
      "outputs": [
        {
          "output_type": "stream",
          "name": "stdout",
          "text": [
            "\r0% [Working]\r            \rHit:1 https://cloud.r-project.org/bin/linux/ubuntu jammy-cran40/ InRelease\n",
            "\r0% [Waiting for headers] [Waiting for headers] [Connected to r2u.stat.illinois.edu (192.17.190.167)]\r                                                                                                    \rHit:2 http://archive.ubuntu.com/ubuntu jammy InRelease\n",
            "\r0% [Waiting for headers] [Waiting for headers] [Waiting for headers] [Waiting for headers] [Connecti\r                                                                                                    \rGet:3 http://archive.ubuntu.com/ubuntu jammy-updates InRelease [128 kB]\n",
            "\r0% [3 InRelease 14.2 kB/128 kB 11%] [Waiting for headers] [Waiting for headers] [Waiting for headers\r                                                                                                    \rGet:4 http://security.ubuntu.com/ubuntu jammy-security InRelease [129 kB]\n",
            "\r0% [3 InRelease 15.6 kB/128 kB 12%] [4 InRelease 14.2 kB/129 kB 11%] [Waiting for headers] [Waiting \r                                                                                                    \rHit:5 https://developer.download.nvidia.com/compute/cuda/repos/ubuntu2204/x86_64  InRelease\n",
            "Ign:6 https://r2u.stat.illinois.edu/ubuntu jammy InRelease\n",
            "Hit:7 https://r2u.stat.illinois.edu/ubuntu jammy Release\n",
            "Hit:8 http://archive.ubuntu.com/ubuntu jammy-backports InRelease\n",
            "Hit:9 https://ppa.launchpadcontent.net/deadsnakes/ppa/ubuntu jammy InRelease\n",
            "Hit:10 https://ppa.launchpadcontent.net/graphics-drivers/ppa/ubuntu jammy InRelease\n",
            "Hit:12 https://ppa.launchpadcontent.net/ubuntugis/ppa/ubuntu jammy InRelease\n",
            "Fetched 257 kB in 2s (141 kB/s)\n",
            "Reading package lists... Done\n",
            "W: Skipping acquire of configured file 'main/source/Sources' as repository 'https://r2u.stat.illinois.edu/ubuntu jammy InRelease' does not seem to provide it (sources.list entry misspelt?)\n",
            "Reading package lists... Done\n",
            "Building dependency tree... Done\n",
            "Reading state information... Done\n",
            "Some packages could not be installed. This may mean that you have\n",
            "requested an impossible situation or if you are using the unstable\n",
            "distribution that some required packages have not yet been created\n",
            "or been moved out of Incoming.\n",
            "The following information may help to resolve the situation:\n",
            "\n",
            "The following packages have unmet dependencies:\n",
            " cuda-drivers-560 : Depends: nvidia-driver-560 (>= 560.35.03) but it is not installable or\n",
            "                             nvidia-driver-560-open (>= 560.35.03) but it is not installable or\n",
            "                             nvidia-driver-560-server (>= 560.35.03) but it is not installable or\n",
            "                             nvidia-driver-560-server-open (>= 560.35.03) but it is not installable\n",
            "E: Unable to correct problems, you have held broken packages.\n",
            "Reading package lists... Done\n",
            "Building dependency tree... Done\n",
            "Reading state information... Done\n",
            "nvidia-utils-470 is already the newest version (470.256.02-0ubuntu0.22.04.1).\n",
            "0 upgraded, 0 newly installed, 0 to remove and 50 not upgraded.\n",
            "Requirement already satisfied: pynvml in /usr/local/lib/python3.10/dist-packages (11.5.3)\n"
          ]
        }
      ]
    },
    {
      "cell_type": "code",
      "source": [
        "!apt-get update\n",
        "!apt-get install -y --no-install-recommends cuda-drivers nvidia-driver-470\n",
        "!apt-get install -y nvidia-utils-470 # or the version you need\n",
        "!pip install pynvml\n",
        "\n",
        "import pynvml\n",
        "\n",
        "try:\n",
        "    # Try initializing NVML\n",
        "    pynvml.nvmlInit()\n",
        "    # If initialization is successful, get GPU information\n",
        "    device_name = pynvml.nvmlDeviceGetName(pynvml.nvmlDeviceGetHandleByIndex(0)).decode('utf-8')  # Decode to string\n",
        "    mem_info = pynvml.nvmlDeviceGetMemoryInfo(pynvml.nvmlDeviceGetHandleByIndex(0))\n",
        "    mem = mem_info.total / 1e9\n",
        "\n",
        "    # Download the appropriate parquet file based on GPU memory\n",
        "    if mem < 24:\n",
        "        !wget https://storage.googleapis.com/rapidsai/polars-demo/transactions-t4-20.parquet -O transactions.parquet\n",
        "    else:\n",
        "        !wget https://storage.googleapis.com/rapidsai/polars-demo/transactions.parquet -O transactions.parquet\n",
        "\n",
        "except pynvml.NVMLError_DriverNotLoaded:\n",
        "    # If driver is not loaded, print an informative message and download the smaller file.\n",
        "    print(\"NVIDIA driver is not loaded. Downloading smaller parquet file.\")\n",
        "    !wget https://storage.googleapis.com/rapidsai/polars-demo/transactions-t4-20.parquet -O transactions.parquet\n",
        "\n",
        "# Download the rainfall data\n",
        "!wget https://storage.googleapis.com/rapidsai/polars-demo/rainfall_data_2010_2020.csv"
      ],
      "metadata": {
        "colab": {
          "base_uri": "https://localhost:8080/"
        },
        "id": "5eyTzHPd_288",
        "outputId": "fff24021-6d3c-4a8c-ed06-020c023c9006"
      },
      "id": "5eyTzHPd_288",
      "execution_count": 7,
      "outputs": [
        {
          "output_type": "stream",
          "name": "stdout",
          "text": [
            "\r0% [Working]\r            \rHit:1 http://archive.ubuntu.com/ubuntu jammy InRelease\n",
            "\r0% [Connecting to security.ubuntu.com (185.125.190.82)] [Waiting for headers] [Connected to r2u.stat\r                                                                                                    \rHit:2 http://archive.ubuntu.com/ubuntu jammy-updates InRelease\n",
            "\r                                                                                                    \rHit:3 http://archive.ubuntu.com/ubuntu jammy-backports InRelease\n",
            "\r                                                                                                    \rHit:4 https://cloud.r-project.org/bin/linux/ubuntu jammy-cran40/ InRelease\n",
            "\r                                                                                                    \rHit:5 https://developer.download.nvidia.com/compute/cuda/repos/ubuntu2204/x86_64  InRelease\n",
            "\r0% [Waiting for headers] [Waiting for headers] [Connected to ppa.launchpadcontent.net (185.125.190.8\r                                                                                                    \rHit:6 http://security.ubuntu.com/ubuntu jammy-security InRelease\n",
            "Ign:7 https://r2u.stat.illinois.edu/ubuntu jammy InRelease\n",
            "Hit:8 https://r2u.stat.illinois.edu/ubuntu jammy Release\n",
            "Hit:9 https://ppa.launchpadcontent.net/deadsnakes/ppa/ubuntu jammy InRelease\n",
            "Hit:10 https://ppa.launchpadcontent.net/graphics-drivers/ppa/ubuntu jammy InRelease\n",
            "Hit:11 https://ppa.launchpadcontent.net/ubuntugis/ppa/ubuntu jammy InRelease\n",
            "Reading package lists... Done\n",
            "W: Skipping acquire of configured file 'main/source/Sources' as repository 'https://r2u.stat.illinois.edu/ubuntu jammy InRelease' does not seem to provide it (sources.list entry misspelt?)\n",
            "Reading package lists... Done\n",
            "Building dependency tree... Done\n",
            "Reading state information... Done\n",
            "Some packages could not be installed. This may mean that you have\n",
            "requested an impossible situation or if you are using the unstable\n",
            "distribution that some required packages have not yet been created\n",
            "or been moved out of Incoming.\n",
            "The following information may help to resolve the situation:\n",
            "\n",
            "The following packages have unmet dependencies:\n",
            " cuda-drivers-560 : Depends: nvidia-driver-560 (>= 560.35.03) but it is not installable or\n",
            "                             nvidia-driver-560-open (>= 560.35.03) but it is not installable or\n",
            "                             nvidia-driver-560-server (>= 560.35.03) but it is not installable or\n",
            "                             nvidia-driver-560-server-open (>= 560.35.03) but it is not installable\n",
            "E: Unable to correct problems, you have held broken packages.\n",
            "Reading package lists... Done\n",
            "Building dependency tree... Done\n",
            "Reading state information... Done\n",
            "nvidia-utils-470 is already the newest version (470.256.02-0ubuntu0.22.04.1).\n",
            "0 upgraded, 0 newly installed, 0 to remove and 50 not upgraded.\n",
            "Requirement already satisfied: pynvml in /usr/local/lib/python3.10/dist-packages (11.5.3)\n",
            "NVIDIA driver is not loaded. Downloading smaller parquet file.\n",
            "--2024-10-27 19:25:46--  https://storage.googleapis.com/rapidsai/polars-demo/transactions-t4-20.parquet\n",
            "Resolving storage.googleapis.com (storage.googleapis.com)... 64.233.181.207, 142.251.183.207, 142.251.184.207, ...\n",
            "Connecting to storage.googleapis.com (storage.googleapis.com)|64.233.181.207|:443... connected.\n",
            "HTTP request sent, awaiting response... 200 OK\n",
            "Length: 857658422 (818M) [application/octet-stream]\n",
            "Saving to: ‘transactions.parquet’\n",
            "\n",
            "transactions.parque 100%[===================>] 817.93M   126MB/s    in 13s     \n",
            "\n",
            "2024-10-27 19:25:59 (63.4 MB/s) - ‘transactions.parquet’ saved [857658422/857658422]\n",
            "\n",
            "--2024-10-27 19:25:59--  https://storage.googleapis.com/rapidsai/polars-demo/rainfall_data_2010_2020.csv\n",
            "Resolving storage.googleapis.com (storage.googleapis.com)... 64.233.181.207, 142.251.183.207, 142.251.184.207, ...\n",
            "Connecting to storage.googleapis.com (storage.googleapis.com)|64.233.181.207|:443... connected.\n",
            "HTTP request sent, awaiting response... 200 OK\n",
            "Length: 131421 (128K) [text/csv]\n",
            "Saving to: ‘rainfall_data_2010_2020.csv.1’\n",
            "\n",
            "rainfall_data_2010_ 100%[===================>] 128.34K  --.-KB/s    in 0.002s  \n",
            "\n",
            "2024-10-27 19:25:59 (60.1 MB/s) - ‘rainfall_data_2010_2020.csv.1’ saved [131421/131421]\n",
            "\n"
          ]
        }
      ]
    },
    {
      "cell_type": "markdown",
      "id": "c642c436-05cf-472a-833e-4c8872bdd269",
      "metadata": {
        "id": "c642c436-05cf-472a-833e-4c8872bdd269"
      },
      "source": [
        "## Data License and Terms\n",
        "As this dataset originates from Kaggle, it's governed by a Kaggle dataset-specific license and terms of use.\n",
        "\n",
        "> ### CC0 1.0 Universal\n",
        "> **No Copyright**\n",
        "\n",
        ">The person who associated a work with this deed has dedicated the work to the public domain by waiving all of his or her rights to the work worldwide under copyright law, including all related and neighboring rights, to the extent allowed by law.\n",
        "You can copy, modify, distribute and perform the work, even for commercial purposes, all without asking permission. See Other Information below.\n",
        "\n",
        "> **Other Information**\n",
        "\n",
        ">In no way are the patent or trademark rights of any person affected by CC0, nor are the rights that other persons may have in the work or in how the work is used, such as publicity or privacy rights.\n",
        "Unless expressly stated otherwise, the person who associated a work with this deed makes no warranties about the work, and disclaims liability for all uses of the work, to the fullest extent permitted by applicable law.\n",
        "When using or citing the work, you should not imply endorsement by the author or the affirmer.\n"
      ]
    },
    {
      "cell_type": "markdown",
      "source": [
        "Licencia de datos y términos\n",
        "Como este conjunto de datos se origina en Kaggle, se rige por una licencia y términos de uso específico de conjunto de datos de Kaggle.\n",
        "\n",
        "CC0 1.0 Universal\n",
        "Sin derechos de autor\n",
        "\n",
        "La persona que asoció un trabajo con esta escritura ha dedicado el trabajo al dominio público al renunciar a todos sus derechos sobre el trabajo de todo el mundo bajo la ley de derechos de autor, incluidos todos los derechos relacionados y vecinos, en la medida permitida por la ley. Puede copiar, modificar, distribuir y realizar el trabajo, incluso para fines comerciales, todo sin pedir permiso. Vea otra información a continuación.\n",
        "\n",
        "Otra información\n",
        "\n",
        "De ninguna manera son los derechos de patente o marca registrada de ninguna persona afectada por CC0, ni los derechos que otras personas pueden tener en el trabajo o en cómo se usa el trabajo, como la publicidad o los derechos de privacidad. A menos que se indique expresamente lo contrario, la persona que asoció un trabajo con esta escritura no ofrece garantías sobre el trabajo y renuncia a la responsabilidad por todos los usos del trabajo, en la mayor medida permitida por la ley aplicable. Al usar o citar el trabajo, no debe implicar el respaldo del autor o el afirmador.\n"
      ],
      "metadata": {
        "id": "jSuywPBkGwHi"
      },
      "id": "jSuywPBkGwHi"
    },
    {
      "cell_type": "markdown",
      "id": "a07de20a-ef6f-40fe-ab00-8a11e9c4f1e3",
      "metadata": {
        "id": "a07de20a-ef6f-40fe-ab00-8a11e9c4f1e3"
      },
      "source": [
        "# Getting Started"
      ]
    },
    {
      "cell_type": "markdown",
      "id": "ea333c53-6402-43d6-b196-91d7e199b315",
      "metadata": {
        "id": "ea333c53-6402-43d6-b196-91d7e199b315"
      },
      "source": [
        "With this dataset, we expect to see some meaningful performance benefits using NVIDIA GPUs for computationally heavy queries and limited benefits for basic queries that are primarily bottlenecked by reading data.\n",
        "\n",
        "To begin, let's use Polars to read the parquet file and look at the schema and first few rows."
      ]
    },
    {
      "cell_type": "markdown",
      "source": [
        "Con este conjunto de datos, esperamos ver algunos beneficios de rendimiento significativos utilizando las GPU de NVIDIA para consultas computacionalmente pesadas y beneficios limitados para consultas básicas que son principalmente cuellos de botella mediante la lectura de datos.\n",
        "\n",
        "Para comenzar, usemos polares para leer el archivo de parquet y ver el esquema y las primeras filas."
      ],
      "metadata": {
        "id": "_HR4EFWGINpt"
      },
      "id": "_HR4EFWGINpt"
    },
    {
      "cell_type": "code",
      "execution_count": 8,
      "id": "eb8364ee-3db7-40ae-80bd-76572c4e41ff",
      "metadata": {
        "id": "eb8364ee-3db7-40ae-80bd-76572c4e41ff",
        "tags": [],
        "colab": {
          "base_uri": "https://localhost:8080/",
          "height": 17
        },
        "outputId": "b9dab455-5cc2-48a0-cd99-8d47d1197af9"
      },
      "outputs": [
        {
          "output_type": "display_data",
          "data": {
            "application/javascript": [
              "(function(root) {\n",
              "  function now() {\n",
              "    return new Date();\n",
              "  }\n",
              "\n",
              "  var force = true;\n",
              "  var py_version = '3.4.3'.replace('rc', '-rc.').replace('.dev', '-dev.');\n",
              "  var reloading = false;\n",
              "  var Bokeh = root.Bokeh;\n",
              "\n",
              "  if (typeof (root._bokeh_timeout) === \"undefined\" || force) {\n",
              "    root._bokeh_timeout = Date.now() + 5000;\n",
              "    root._bokeh_failed_load = false;\n",
              "  }\n",
              "\n",
              "  function run_callbacks() {\n",
              "    try {\n",
              "      root._bokeh_onload_callbacks.forEach(function(callback) {\n",
              "        if (callback != null)\n",
              "          callback();\n",
              "      });\n",
              "    } finally {\n",
              "      delete root._bokeh_onload_callbacks;\n",
              "    }\n",
              "    console.debug(\"Bokeh: all callbacks have finished\");\n",
              "  }\n",
              "\n",
              "  function load_libs(css_urls, js_urls, js_modules, js_exports, callback) {\n",
              "    if (css_urls == null) css_urls = [];\n",
              "    if (js_urls == null) js_urls = [];\n",
              "    if (js_modules == null) js_modules = [];\n",
              "    if (js_exports == null) js_exports = {};\n",
              "\n",
              "    root._bokeh_onload_callbacks.push(callback);\n",
              "\n",
              "    if (root._bokeh_is_loading > 0) {\n",
              "      console.debug(\"Bokeh: BokehJS is being loaded, scheduling callback at\", now());\n",
              "      return null;\n",
              "    }\n",
              "    if (js_urls.length === 0 && js_modules.length === 0 && Object.keys(js_exports).length === 0) {\n",
              "      run_callbacks();\n",
              "      return null;\n",
              "    }\n",
              "    if (!reloading) {\n",
              "      console.debug(\"Bokeh: BokehJS not loaded, scheduling load and callback at\", now());\n",
              "    }\n",
              "\n",
              "    function on_load() {\n",
              "      root._bokeh_is_loading--;\n",
              "      if (root._bokeh_is_loading === 0) {\n",
              "        console.debug(\"Bokeh: all BokehJS libraries/stylesheets loaded\");\n",
              "        run_callbacks()\n",
              "      }\n",
              "    }\n",
              "    window._bokeh_on_load = on_load\n",
              "\n",
              "    function on_error() {\n",
              "      console.error(\"failed to load \" + url);\n",
              "    }\n",
              "\n",
              "    var skip = [];\n",
              "    if (window.requirejs) {\n",
              "      window.requirejs.config({'packages': {}, 'paths': {}, 'shim': {}});\n",
              "      root._bokeh_is_loading = css_urls.length + 0;\n",
              "    } else {\n",
              "      root._bokeh_is_loading = css_urls.length + js_urls.length + js_modules.length + Object.keys(js_exports).length;\n",
              "    }\n",
              "\n",
              "    var existing_stylesheets = []\n",
              "    var links = document.getElementsByTagName('link')\n",
              "    for (var i = 0; i < links.length; i++) {\n",
              "      var link = links[i]\n",
              "      if (link.href != null) {\n",
              "\texisting_stylesheets.push(link.href)\n",
              "      }\n",
              "    }\n",
              "    for (var i = 0; i < css_urls.length; i++) {\n",
              "      var url = css_urls[i];\n",
              "      if (existing_stylesheets.indexOf(url) !== -1) {\n",
              "\ton_load()\n",
              "\tcontinue;\n",
              "      }\n",
              "      const element = document.createElement(\"link\");\n",
              "      element.onload = on_load;\n",
              "      element.onerror = on_error;\n",
              "      element.rel = \"stylesheet\";\n",
              "      element.type = \"text/css\";\n",
              "      element.href = url;\n",
              "      console.debug(\"Bokeh: injecting link tag for BokehJS stylesheet: \", url);\n",
              "      document.body.appendChild(element);\n",
              "    }    var existing_scripts = []\n",
              "    var scripts = document.getElementsByTagName('script')\n",
              "    for (var i = 0; i < scripts.length; i++) {\n",
              "      var script = scripts[i]\n",
              "      if (script.src != null) {\n",
              "\texisting_scripts.push(script.src)\n",
              "      }\n",
              "    }\n",
              "    for (var i = 0; i < js_urls.length; i++) {\n",
              "      var url = js_urls[i];\n",
              "      if (skip.indexOf(url) !== -1 || existing_scripts.indexOf(url) !== -1) {\n",
              "\tif (!window.requirejs) {\n",
              "\t  on_load();\n",
              "\t}\n",
              "\tcontinue;\n",
              "      }\n",
              "      var element = document.createElement('script');\n",
              "      element.onload = on_load;\n",
              "      element.onerror = on_error;\n",
              "      element.async = false;\n",
              "      element.src = url;\n",
              "      console.debug(\"Bokeh: injecting script tag for BokehJS library: \", url);\n",
              "      document.head.appendChild(element);\n",
              "    }\n",
              "    for (var i = 0; i < js_modules.length; i++) {\n",
              "      var url = js_modules[i];\n",
              "      if (skip.indexOf(url) !== -1 || existing_scripts.indexOf(url) !== -1) {\n",
              "\tif (!window.requirejs) {\n",
              "\t  on_load();\n",
              "\t}\n",
              "\tcontinue;\n",
              "      }\n",
              "      var element = document.createElement('script');\n",
              "      element.onload = on_load;\n",
              "      element.onerror = on_error;\n",
              "      element.async = false;\n",
              "      element.src = url;\n",
              "      element.type = \"module\";\n",
              "      console.debug(\"Bokeh: injecting script tag for BokehJS library: \", url);\n",
              "      document.head.appendChild(element);\n",
              "    }\n",
              "    for (const name in js_exports) {\n",
              "      var url = js_exports[name];\n",
              "      if (skip.indexOf(url) >= 0 || root[name] != null) {\n",
              "\tif (!window.requirejs) {\n",
              "\t  on_load();\n",
              "\t}\n",
              "\tcontinue;\n",
              "      }\n",
              "      var element = document.createElement('script');\n",
              "      element.onerror = on_error;\n",
              "      element.async = false;\n",
              "      element.type = \"module\";\n",
              "      console.debug(\"Bokeh: injecting script tag for BokehJS library: \", url);\n",
              "      element.textContent = `\n",
              "      import ${name} from \"${url}\"\n",
              "      window.${name} = ${name}\n",
              "      window._bokeh_on_load()\n",
              "      `\n",
              "      document.head.appendChild(element);\n",
              "    }\n",
              "    if (!js_urls.length && !js_modules.length) {\n",
              "      on_load()\n",
              "    }\n",
              "  };\n",
              "\n",
              "  function inject_raw_css(css) {\n",
              "    const element = document.createElement(\"style\");\n",
              "    element.appendChild(document.createTextNode(css));\n",
              "    document.body.appendChild(element);\n",
              "  }\n",
              "\n",
              "  var js_urls = [\"https://cdn.bokeh.org/bokeh/release/bokeh-3.4.3.min.js\", \"https://cdn.bokeh.org/bokeh/release/bokeh-gl-3.4.3.min.js\", \"https://cdn.bokeh.org/bokeh/release/bokeh-widgets-3.4.3.min.js\", \"https://cdn.bokeh.org/bokeh/release/bokeh-tables-3.4.3.min.js\", \"https://cdn.holoviz.org/panel/1.4.5/dist/panel.min.js\"];\n",
              "  var js_modules = [];\n",
              "  var js_exports = {};\n",
              "  var css_urls = [];\n",
              "  var inline_js = [    function(Bokeh) {\n",
              "      Bokeh.set_log_level(\"info\");\n",
              "    },\n",
              "function(Bokeh) {} // ensure no trailing comma for IE\n",
              "  ];\n",
              "\n",
              "  function run_inline_js() {\n",
              "    if ((root.Bokeh !== undefined) || (force === true)) {\n",
              "      for (var i = 0; i < inline_js.length; i++) {\n",
              "\ttry {\n",
              "          inline_js[i].call(root, root.Bokeh);\n",
              "\t} catch(e) {\n",
              "\t  if (!reloading) {\n",
              "\t    throw e;\n",
              "\t  }\n",
              "\t}\n",
              "      }\n",
              "      // Cache old bokeh versions\n",
              "      if (Bokeh != undefined && !reloading) {\n",
              "\tvar NewBokeh = root.Bokeh;\n",
              "\tif (Bokeh.versions === undefined) {\n",
              "\t  Bokeh.versions = new Map();\n",
              "\t}\n",
              "\tif (NewBokeh.version !== Bokeh.version) {\n",
              "\t  Bokeh.versions.set(NewBokeh.version, NewBokeh)\n",
              "\t}\n",
              "\troot.Bokeh = Bokeh;\n",
              "      }} else if (Date.now() < root._bokeh_timeout) {\n",
              "      setTimeout(run_inline_js, 100);\n",
              "    } else if (!root._bokeh_failed_load) {\n",
              "      console.log(\"Bokeh: BokehJS failed to load within specified timeout.\");\n",
              "      root._bokeh_failed_load = true;\n",
              "    }\n",
              "    root._bokeh_is_initializing = false\n",
              "  }\n",
              "\n",
              "  function load_or_wait() {\n",
              "    // Implement a backoff loop that tries to ensure we do not load multiple\n",
              "    // versions of Bokeh and its dependencies at the same time.\n",
              "    // In recent versions we use the root._bokeh_is_initializing flag\n",
              "    // to determine whether there is an ongoing attempt to initialize\n",
              "    // bokeh, however for backward compatibility we also try to ensure\n",
              "    // that we do not start loading a newer (Panel>=1.0 and Bokeh>3) version\n",
              "    // before older versions are fully initialized.\n",
              "    if (root._bokeh_is_initializing && Date.now() > root._bokeh_timeout) {\n",
              "      root._bokeh_is_initializing = false;\n",
              "      root._bokeh_onload_callbacks = undefined;\n",
              "      console.log(\"Bokeh: BokehJS was loaded multiple times but one version failed to initialize.\");\n",
              "      load_or_wait();\n",
              "    } else if (root._bokeh_is_initializing || (typeof root._bokeh_is_initializing === \"undefined\" && root._bokeh_onload_callbacks !== undefined)) {\n",
              "      setTimeout(load_or_wait, 100);\n",
              "    } else {\n",
              "      root._bokeh_is_initializing = true\n",
              "      root._bokeh_onload_callbacks = []\n",
              "      var bokeh_loaded = Bokeh != null && (Bokeh.version === py_version || (Bokeh.versions !== undefined && Bokeh.versions.has(py_version)));\n",
              "      if (!reloading && !bokeh_loaded) {\n",
              "\troot.Bokeh = undefined;\n",
              "      }\n",
              "      load_libs(css_urls, js_urls, js_modules, js_exports, function() {\n",
              "\tconsole.debug(\"Bokeh: BokehJS plotting callback run at\", now());\n",
              "\trun_inline_js();\n",
              "      });\n",
              "    }\n",
              "  }\n",
              "  // Give older versions of the autoload script a head-start to ensure\n",
              "  // they initialize before we start loading newer version.\n",
              "  setTimeout(load_or_wait, 100)\n",
              "}(window));"
            ],
            "application/vnd.holoviews_load.v0+json": "(function(root) {\n  function now() {\n    return new Date();\n  }\n\n  var force = true;\n  var py_version = '3.4.3'.replace('rc', '-rc.').replace('.dev', '-dev.');\n  var reloading = false;\n  var Bokeh = root.Bokeh;\n\n  if (typeof (root._bokeh_timeout) === \"undefined\" || force) {\n    root._bokeh_timeout = Date.now() + 5000;\n    root._bokeh_failed_load = false;\n  }\n\n  function run_callbacks() {\n    try {\n      root._bokeh_onload_callbacks.forEach(function(callback) {\n        if (callback != null)\n          callback();\n      });\n    } finally {\n      delete root._bokeh_onload_callbacks;\n    }\n    console.debug(\"Bokeh: all callbacks have finished\");\n  }\n\n  function load_libs(css_urls, js_urls, js_modules, js_exports, callback) {\n    if (css_urls == null) css_urls = [];\n    if (js_urls == null) js_urls = [];\n    if (js_modules == null) js_modules = [];\n    if (js_exports == null) js_exports = {};\n\n    root._bokeh_onload_callbacks.push(callback);\n\n    if (root._bokeh_is_loading > 0) {\n      console.debug(\"Bokeh: BokehJS is being loaded, scheduling callback at\", now());\n      return null;\n    }\n    if (js_urls.length === 0 && js_modules.length === 0 && Object.keys(js_exports).length === 0) {\n      run_callbacks();\n      return null;\n    }\n    if (!reloading) {\n      console.debug(\"Bokeh: BokehJS not loaded, scheduling load and callback at\", now());\n    }\n\n    function on_load() {\n      root._bokeh_is_loading--;\n      if (root._bokeh_is_loading === 0) {\n        console.debug(\"Bokeh: all BokehJS libraries/stylesheets loaded\");\n        run_callbacks()\n      }\n    }\n    window._bokeh_on_load = on_load\n\n    function on_error() {\n      console.error(\"failed to load \" + url);\n    }\n\n    var skip = [];\n    if (window.requirejs) {\n      window.requirejs.config({'packages': {}, 'paths': {}, 'shim': {}});\n      root._bokeh_is_loading = css_urls.length + 0;\n    } else {\n      root._bokeh_is_loading = css_urls.length + js_urls.length + js_modules.length + Object.keys(js_exports).length;\n    }\n\n    var existing_stylesheets = []\n    var links = document.getElementsByTagName('link')\n    for (var i = 0; i < links.length; i++) {\n      var link = links[i]\n      if (link.href != null) {\n\texisting_stylesheets.push(link.href)\n      }\n    }\n    for (var i = 0; i < css_urls.length; i++) {\n      var url = css_urls[i];\n      if (existing_stylesheets.indexOf(url) !== -1) {\n\ton_load()\n\tcontinue;\n      }\n      const element = document.createElement(\"link\");\n      element.onload = on_load;\n      element.onerror = on_error;\n      element.rel = \"stylesheet\";\n      element.type = \"text/css\";\n      element.href = url;\n      console.debug(\"Bokeh: injecting link tag for BokehJS stylesheet: \", url);\n      document.body.appendChild(element);\n    }    var existing_scripts = []\n    var scripts = document.getElementsByTagName('script')\n    for (var i = 0; i < scripts.length; i++) {\n      var script = scripts[i]\n      if (script.src != null) {\n\texisting_scripts.push(script.src)\n      }\n    }\n    for (var i = 0; i < js_urls.length; i++) {\n      var url = js_urls[i];\n      if (skip.indexOf(url) !== -1 || existing_scripts.indexOf(url) !== -1) {\n\tif (!window.requirejs) {\n\t  on_load();\n\t}\n\tcontinue;\n      }\n      var element = document.createElement('script');\n      element.onload = on_load;\n      element.onerror = on_error;\n      element.async = false;\n      element.src = url;\n      console.debug(\"Bokeh: injecting script tag for BokehJS library: \", url);\n      document.head.appendChild(element);\n    }\n    for (var i = 0; i < js_modules.length; i++) {\n      var url = js_modules[i];\n      if (skip.indexOf(url) !== -1 || existing_scripts.indexOf(url) !== -1) {\n\tif (!window.requirejs) {\n\t  on_load();\n\t}\n\tcontinue;\n      }\n      var element = document.createElement('script');\n      element.onload = on_load;\n      element.onerror = on_error;\n      element.async = false;\n      element.src = url;\n      element.type = \"module\";\n      console.debug(\"Bokeh: injecting script tag for BokehJS library: \", url);\n      document.head.appendChild(element);\n    }\n    for (const name in js_exports) {\n      var url = js_exports[name];\n      if (skip.indexOf(url) >= 0 || root[name] != null) {\n\tif (!window.requirejs) {\n\t  on_load();\n\t}\n\tcontinue;\n      }\n      var element = document.createElement('script');\n      element.onerror = on_error;\n      element.async = false;\n      element.type = \"module\";\n      console.debug(\"Bokeh: injecting script tag for BokehJS library: \", url);\n      element.textContent = `\n      import ${name} from \"${url}\"\n      window.${name} = ${name}\n      window._bokeh_on_load()\n      `\n      document.head.appendChild(element);\n    }\n    if (!js_urls.length && !js_modules.length) {\n      on_load()\n    }\n  };\n\n  function inject_raw_css(css) {\n    const element = document.createElement(\"style\");\n    element.appendChild(document.createTextNode(css));\n    document.body.appendChild(element);\n  }\n\n  var js_urls = [\"https://cdn.bokeh.org/bokeh/release/bokeh-3.4.3.min.js\", \"https://cdn.bokeh.org/bokeh/release/bokeh-gl-3.4.3.min.js\", \"https://cdn.bokeh.org/bokeh/release/bokeh-widgets-3.4.3.min.js\", \"https://cdn.bokeh.org/bokeh/release/bokeh-tables-3.4.3.min.js\", \"https://cdn.holoviz.org/panel/1.4.5/dist/panel.min.js\"];\n  var js_modules = [];\n  var js_exports = {};\n  var css_urls = [];\n  var inline_js = [    function(Bokeh) {\n      Bokeh.set_log_level(\"info\");\n    },\nfunction(Bokeh) {} // ensure no trailing comma for IE\n  ];\n\n  function run_inline_js() {\n    if ((root.Bokeh !== undefined) || (force === true)) {\n      for (var i = 0; i < inline_js.length; i++) {\n\ttry {\n          inline_js[i].call(root, root.Bokeh);\n\t} catch(e) {\n\t  if (!reloading) {\n\t    throw e;\n\t  }\n\t}\n      }\n      // Cache old bokeh versions\n      if (Bokeh != undefined && !reloading) {\n\tvar NewBokeh = root.Bokeh;\n\tif (Bokeh.versions === undefined) {\n\t  Bokeh.versions = new Map();\n\t}\n\tif (NewBokeh.version !== Bokeh.version) {\n\t  Bokeh.versions.set(NewBokeh.version, NewBokeh)\n\t}\n\troot.Bokeh = Bokeh;\n      }} else if (Date.now() < root._bokeh_timeout) {\n      setTimeout(run_inline_js, 100);\n    } else if (!root._bokeh_failed_load) {\n      console.log(\"Bokeh: BokehJS failed to load within specified timeout.\");\n      root._bokeh_failed_load = true;\n    }\n    root._bokeh_is_initializing = false\n  }\n\n  function load_or_wait() {\n    // Implement a backoff loop that tries to ensure we do not load multiple\n    // versions of Bokeh and its dependencies at the same time.\n    // In recent versions we use the root._bokeh_is_initializing flag\n    // to determine whether there is an ongoing attempt to initialize\n    // bokeh, however for backward compatibility we also try to ensure\n    // that we do not start loading a newer (Panel>=1.0 and Bokeh>3) version\n    // before older versions are fully initialized.\n    if (root._bokeh_is_initializing && Date.now() > root._bokeh_timeout) {\n      root._bokeh_is_initializing = false;\n      root._bokeh_onload_callbacks = undefined;\n      console.log(\"Bokeh: BokehJS was loaded multiple times but one version failed to initialize.\");\n      load_or_wait();\n    } else if (root._bokeh_is_initializing || (typeof root._bokeh_is_initializing === \"undefined\" && root._bokeh_onload_callbacks !== undefined)) {\n      setTimeout(load_or_wait, 100);\n    } else {\n      root._bokeh_is_initializing = true\n      root._bokeh_onload_callbacks = []\n      var bokeh_loaded = Bokeh != null && (Bokeh.version === py_version || (Bokeh.versions !== undefined && Bokeh.versions.has(py_version)));\n      if (!reloading && !bokeh_loaded) {\n\troot.Bokeh = undefined;\n      }\n      load_libs(css_urls, js_urls, js_modules, js_exports, function() {\n\tconsole.debug(\"Bokeh: BokehJS plotting callback run at\", now());\n\trun_inline_js();\n      });\n    }\n  }\n  // Give older versions of the autoload script a head-start to ensure\n  // they initialize before we start loading newer version.\n  setTimeout(load_or_wait, 100)\n}(window));"
          },
          "metadata": {}
        },
        {
          "output_type": "display_data",
          "data": {
            "application/vnd.holoviews_load.v0+json": "\nif ((window.PyViz === undefined) || (window.PyViz instanceof HTMLElement)) {\n  window.PyViz = {comms: {}, comm_status:{}, kernels:{}, receivers: {}, plot_index: []}\n}\n\n\n    function JupyterCommManager() {\n    }\n\n    JupyterCommManager.prototype.register_target = function(plot_id, comm_id, msg_handler) {\n      if (window.comm_manager || ((window.Jupyter !== undefined) && (Jupyter.notebook.kernel != null))) {\n        var comm_manager = window.comm_manager || Jupyter.notebook.kernel.comm_manager;\n        comm_manager.register_target(comm_id, function(comm) {\n          comm.on_msg(msg_handler);\n        });\n      } else if ((plot_id in window.PyViz.kernels) && (window.PyViz.kernels[plot_id])) {\n        window.PyViz.kernels[plot_id].registerCommTarget(comm_id, function(comm) {\n          comm.onMsg = msg_handler;\n        });\n      } else if (typeof google != 'undefined' && google.colab.kernel != null) {\n        google.colab.kernel.comms.registerTarget(comm_id, (comm) => {\n          var messages = comm.messages[Symbol.asyncIterator]();\n          function processIteratorResult(result) {\n            var message = result.value;\n            console.log(message)\n            var content = {data: message.data, comm_id};\n            var buffers = []\n            for (var buffer of message.buffers || []) {\n              buffers.push(new DataView(buffer))\n            }\n            var metadata = message.metadata || {};\n            var msg = {content, buffers, metadata}\n            msg_handler(msg);\n            return messages.next().then(processIteratorResult);\n          }\n          return messages.next().then(processIteratorResult);\n        })\n      }\n    }\n\n    JupyterCommManager.prototype.get_client_comm = function(plot_id, comm_id, msg_handler) {\n      if (comm_id in window.PyViz.comms) {\n        return window.PyViz.comms[comm_id];\n      } else if (window.comm_manager || ((window.Jupyter !== undefined) && (Jupyter.notebook.kernel != null))) {\n        var comm_manager = window.comm_manager || Jupyter.notebook.kernel.comm_manager;\n        var comm = comm_manager.new_comm(comm_id, {}, {}, {}, comm_id);\n        if (msg_handler) {\n          comm.on_msg(msg_handler);\n        }\n      } else if ((plot_id in window.PyViz.kernels) && (window.PyViz.kernels[plot_id])) {\n        var comm = window.PyViz.kernels[plot_id].connectToComm(comm_id);\n        comm.open();\n        if (msg_handler) {\n          comm.onMsg = msg_handler;\n        }\n      } else if (typeof google != 'undefined' && google.colab.kernel != null) {\n        var comm_promise = google.colab.kernel.comms.open(comm_id)\n        comm_promise.then((comm) => {\n          window.PyViz.comms[comm_id] = comm;\n          if (msg_handler) {\n            var messages = comm.messages[Symbol.asyncIterator]();\n            function processIteratorResult(result) {\n              var message = result.value;\n              var content = {data: message.data};\n              var metadata = message.metadata || {comm_id};\n              var msg = {content, metadata}\n              msg_handler(msg);\n              return messages.next().then(processIteratorResult);\n            }\n            return messages.next().then(processIteratorResult);\n          }\n        }) \n        var sendClosure = (data, metadata, buffers, disposeOnDone) => {\n          return comm_promise.then((comm) => {\n            comm.send(data, metadata, buffers, disposeOnDone);\n          });\n        };\n        var comm = {\n          send: sendClosure\n        };\n      }\n      window.PyViz.comms[comm_id] = comm;\n      return comm;\n    }\n    window.PyViz.comm_manager = new JupyterCommManager();\n    \n\n\nvar JS_MIME_TYPE = 'application/javascript';\nvar HTML_MIME_TYPE = 'text/html';\nvar EXEC_MIME_TYPE = 'application/vnd.holoviews_exec.v0+json';\nvar CLASS_NAME = 'output';\n\n/**\n * Render data to the DOM node\n */\nfunction render(props, node) {\n  var div = document.createElement(\"div\");\n  var script = document.createElement(\"script\");\n  node.appendChild(div);\n  node.appendChild(script);\n}\n\n/**\n * Handle when a new output is added\n */\nfunction handle_add_output(event, handle) {\n  var output_area = handle.output_area;\n  var output = handle.output;\n  if ((output.data == undefined) || (!output.data.hasOwnProperty(EXEC_MIME_TYPE))) {\n    return\n  }\n  var id = output.metadata[EXEC_MIME_TYPE][\"id\"];\n  var toinsert = output_area.element.find(\".\" + CLASS_NAME.split(' ')[0]);\n  if (id !== undefined) {\n    var nchildren = toinsert.length;\n    var html_node = toinsert[nchildren-1].children[0];\n    html_node.innerHTML = output.data[HTML_MIME_TYPE];\n    var scripts = [];\n    var nodelist = html_node.querySelectorAll(\"script\");\n    for (var i in nodelist) {\n      if (nodelist.hasOwnProperty(i)) {\n        scripts.push(nodelist[i])\n      }\n    }\n\n    scripts.forEach( function (oldScript) {\n      var newScript = document.createElement(\"script\");\n      var attrs = [];\n      var nodemap = oldScript.attributes;\n      for (var j in nodemap) {\n        if (nodemap.hasOwnProperty(j)) {\n          attrs.push(nodemap[j])\n        }\n      }\n      attrs.forEach(function(attr) { newScript.setAttribute(attr.name, attr.value) });\n      newScript.appendChild(document.createTextNode(oldScript.innerHTML));\n      oldScript.parentNode.replaceChild(newScript, oldScript);\n    });\n    if (JS_MIME_TYPE in output.data) {\n      toinsert[nchildren-1].children[1].textContent = output.data[JS_MIME_TYPE];\n    }\n    output_area._hv_plot_id = id;\n    if ((window.Bokeh !== undefined) && (id in Bokeh.index)) {\n      window.PyViz.plot_index[id] = Bokeh.index[id];\n    } else {\n      window.PyViz.plot_index[id] = null;\n    }\n  } else if (output.metadata[EXEC_MIME_TYPE][\"server_id\"] !== undefined) {\n    var bk_div = document.createElement(\"div\");\n    bk_div.innerHTML = output.data[HTML_MIME_TYPE];\n    var script_attrs = bk_div.children[0].attributes;\n    for (var i = 0; i < script_attrs.length; i++) {\n      toinsert[toinsert.length - 1].childNodes[1].setAttribute(script_attrs[i].name, script_attrs[i].value);\n    }\n    // store reference to server id on output_area\n    output_area._bokeh_server_id = output.metadata[EXEC_MIME_TYPE][\"server_id\"];\n  }\n}\n\n/**\n * Handle when an output is cleared or removed\n */\nfunction handle_clear_output(event, handle) {\n  var id = handle.cell.output_area._hv_plot_id;\n  var server_id = handle.cell.output_area._bokeh_server_id;\n  if (((id === undefined) || !(id in PyViz.plot_index)) && (server_id !== undefined)) { return; }\n  var comm = window.PyViz.comm_manager.get_client_comm(\"hv-extension-comm\", \"hv-extension-comm\", function () {});\n  if (server_id !== null) {\n    comm.send({event_type: 'server_delete', 'id': server_id});\n    return;\n  } else if (comm !== null) {\n    comm.send({event_type: 'delete', 'id': id});\n  }\n  delete PyViz.plot_index[id];\n  if ((window.Bokeh !== undefined) & (id in window.Bokeh.index)) {\n    var doc = window.Bokeh.index[id].model.document\n    doc.clear();\n    const i = window.Bokeh.documents.indexOf(doc);\n    if (i > -1) {\n      window.Bokeh.documents.splice(i, 1);\n    }\n  }\n}\n\n/**\n * Handle kernel restart event\n */\nfunction handle_kernel_cleanup(event, handle) {\n  delete PyViz.comms[\"hv-extension-comm\"];\n  window.PyViz.plot_index = {}\n}\n\n/**\n * Handle update_display_data messages\n */\nfunction handle_update_output(event, handle) {\n  handle_clear_output(event, {cell: {output_area: handle.output_area}})\n  handle_add_output(event, handle)\n}\n\nfunction register_renderer(events, OutputArea) {\n  function append_mime(data, metadata, element) {\n    // create a DOM node to render to\n    var toinsert = this.create_output_subarea(\n    metadata,\n    CLASS_NAME,\n    EXEC_MIME_TYPE\n    );\n    this.keyboard_manager.register_events(toinsert);\n    // Render to node\n    var props = {data: data, metadata: metadata[EXEC_MIME_TYPE]};\n    render(props, toinsert[0]);\n    element.append(toinsert);\n    return toinsert\n  }\n\n  events.on('output_added.OutputArea', handle_add_output);\n  events.on('output_updated.OutputArea', handle_update_output);\n  events.on('clear_output.CodeCell', handle_clear_output);\n  events.on('delete.Cell', handle_clear_output);\n  events.on('kernel_ready.Kernel', handle_kernel_cleanup);\n\n  OutputArea.prototype.register_mime_type(EXEC_MIME_TYPE, append_mime, {\n    safe: true,\n    index: 0\n  });\n}\n\nif (window.Jupyter !== undefined) {\n  try {\n    var events = require('base/js/events');\n    var OutputArea = require('notebook/js/outputarea').OutputArea;\n    if (OutputArea.prototype.mime_types().indexOf(EXEC_MIME_TYPE) == -1) {\n      register_renderer(events, OutputArea);\n    }\n  } catch(err) {\n  }\n}\n",
            "application/javascript": [
              "\n",
              "if ((window.PyViz === undefined) || (window.PyViz instanceof HTMLElement)) {\n",
              "  window.PyViz = {comms: {}, comm_status:{}, kernels:{}, receivers: {}, plot_index: []}\n",
              "}\n",
              "\n",
              "\n",
              "    function JupyterCommManager() {\n",
              "    }\n",
              "\n",
              "    JupyterCommManager.prototype.register_target = function(plot_id, comm_id, msg_handler) {\n",
              "      if (window.comm_manager || ((window.Jupyter !== undefined) && (Jupyter.notebook.kernel != null))) {\n",
              "        var comm_manager = window.comm_manager || Jupyter.notebook.kernel.comm_manager;\n",
              "        comm_manager.register_target(comm_id, function(comm) {\n",
              "          comm.on_msg(msg_handler);\n",
              "        });\n",
              "      } else if ((plot_id in window.PyViz.kernels) && (window.PyViz.kernels[plot_id])) {\n",
              "        window.PyViz.kernels[plot_id].registerCommTarget(comm_id, function(comm) {\n",
              "          comm.onMsg = msg_handler;\n",
              "        });\n",
              "      } else if (typeof google != 'undefined' && google.colab.kernel != null) {\n",
              "        google.colab.kernel.comms.registerTarget(comm_id, (comm) => {\n",
              "          var messages = comm.messages[Symbol.asyncIterator]();\n",
              "          function processIteratorResult(result) {\n",
              "            var message = result.value;\n",
              "            console.log(message)\n",
              "            var content = {data: message.data, comm_id};\n",
              "            var buffers = []\n",
              "            for (var buffer of message.buffers || []) {\n",
              "              buffers.push(new DataView(buffer))\n",
              "            }\n",
              "            var metadata = message.metadata || {};\n",
              "            var msg = {content, buffers, metadata}\n",
              "            msg_handler(msg);\n",
              "            return messages.next().then(processIteratorResult);\n",
              "          }\n",
              "          return messages.next().then(processIteratorResult);\n",
              "        })\n",
              "      }\n",
              "    }\n",
              "\n",
              "    JupyterCommManager.prototype.get_client_comm = function(plot_id, comm_id, msg_handler) {\n",
              "      if (comm_id in window.PyViz.comms) {\n",
              "        return window.PyViz.comms[comm_id];\n",
              "      } else if (window.comm_manager || ((window.Jupyter !== undefined) && (Jupyter.notebook.kernel != null))) {\n",
              "        var comm_manager = window.comm_manager || Jupyter.notebook.kernel.comm_manager;\n",
              "        var comm = comm_manager.new_comm(comm_id, {}, {}, {}, comm_id);\n",
              "        if (msg_handler) {\n",
              "          comm.on_msg(msg_handler);\n",
              "        }\n",
              "      } else if ((plot_id in window.PyViz.kernels) && (window.PyViz.kernels[plot_id])) {\n",
              "        var comm = window.PyViz.kernels[plot_id].connectToComm(comm_id);\n",
              "        comm.open();\n",
              "        if (msg_handler) {\n",
              "          comm.onMsg = msg_handler;\n",
              "        }\n",
              "      } else if (typeof google != 'undefined' && google.colab.kernel != null) {\n",
              "        var comm_promise = google.colab.kernel.comms.open(comm_id)\n",
              "        comm_promise.then((comm) => {\n",
              "          window.PyViz.comms[comm_id] = comm;\n",
              "          if (msg_handler) {\n",
              "            var messages = comm.messages[Symbol.asyncIterator]();\n",
              "            function processIteratorResult(result) {\n",
              "              var message = result.value;\n",
              "              var content = {data: message.data};\n",
              "              var metadata = message.metadata || {comm_id};\n",
              "              var msg = {content, metadata}\n",
              "              msg_handler(msg);\n",
              "              return messages.next().then(processIteratorResult);\n",
              "            }\n",
              "            return messages.next().then(processIteratorResult);\n",
              "          }\n",
              "        }) \n",
              "        var sendClosure = (data, metadata, buffers, disposeOnDone) => {\n",
              "          return comm_promise.then((comm) => {\n",
              "            comm.send(data, metadata, buffers, disposeOnDone);\n",
              "          });\n",
              "        };\n",
              "        var comm = {\n",
              "          send: sendClosure\n",
              "        };\n",
              "      }\n",
              "      window.PyViz.comms[comm_id] = comm;\n",
              "      return comm;\n",
              "    }\n",
              "    window.PyViz.comm_manager = new JupyterCommManager();\n",
              "    \n",
              "\n",
              "\n",
              "var JS_MIME_TYPE = 'application/javascript';\n",
              "var HTML_MIME_TYPE = 'text/html';\n",
              "var EXEC_MIME_TYPE = 'application/vnd.holoviews_exec.v0+json';\n",
              "var CLASS_NAME = 'output';\n",
              "\n",
              "/**\n",
              " * Render data to the DOM node\n",
              " */\n",
              "function render(props, node) {\n",
              "  var div = document.createElement(\"div\");\n",
              "  var script = document.createElement(\"script\");\n",
              "  node.appendChild(div);\n",
              "  node.appendChild(script);\n",
              "}\n",
              "\n",
              "/**\n",
              " * Handle when a new output is added\n",
              " */\n",
              "function handle_add_output(event, handle) {\n",
              "  var output_area = handle.output_area;\n",
              "  var output = handle.output;\n",
              "  if ((output.data == undefined) || (!output.data.hasOwnProperty(EXEC_MIME_TYPE))) {\n",
              "    return\n",
              "  }\n",
              "  var id = output.metadata[EXEC_MIME_TYPE][\"id\"];\n",
              "  var toinsert = output_area.element.find(\".\" + CLASS_NAME.split(' ')[0]);\n",
              "  if (id !== undefined) {\n",
              "    var nchildren = toinsert.length;\n",
              "    var html_node = toinsert[nchildren-1].children[0];\n",
              "    html_node.innerHTML = output.data[HTML_MIME_TYPE];\n",
              "    var scripts = [];\n",
              "    var nodelist = html_node.querySelectorAll(\"script\");\n",
              "    for (var i in nodelist) {\n",
              "      if (nodelist.hasOwnProperty(i)) {\n",
              "        scripts.push(nodelist[i])\n",
              "      }\n",
              "    }\n",
              "\n",
              "    scripts.forEach( function (oldScript) {\n",
              "      var newScript = document.createElement(\"script\");\n",
              "      var attrs = [];\n",
              "      var nodemap = oldScript.attributes;\n",
              "      for (var j in nodemap) {\n",
              "        if (nodemap.hasOwnProperty(j)) {\n",
              "          attrs.push(nodemap[j])\n",
              "        }\n",
              "      }\n",
              "      attrs.forEach(function(attr) { newScript.setAttribute(attr.name, attr.value) });\n",
              "      newScript.appendChild(document.createTextNode(oldScript.innerHTML));\n",
              "      oldScript.parentNode.replaceChild(newScript, oldScript);\n",
              "    });\n",
              "    if (JS_MIME_TYPE in output.data) {\n",
              "      toinsert[nchildren-1].children[1].textContent = output.data[JS_MIME_TYPE];\n",
              "    }\n",
              "    output_area._hv_plot_id = id;\n",
              "    if ((window.Bokeh !== undefined) && (id in Bokeh.index)) {\n",
              "      window.PyViz.plot_index[id] = Bokeh.index[id];\n",
              "    } else {\n",
              "      window.PyViz.plot_index[id] = null;\n",
              "    }\n",
              "  } else if (output.metadata[EXEC_MIME_TYPE][\"server_id\"] !== undefined) {\n",
              "    var bk_div = document.createElement(\"div\");\n",
              "    bk_div.innerHTML = output.data[HTML_MIME_TYPE];\n",
              "    var script_attrs = bk_div.children[0].attributes;\n",
              "    for (var i = 0; i < script_attrs.length; i++) {\n",
              "      toinsert[toinsert.length - 1].childNodes[1].setAttribute(script_attrs[i].name, script_attrs[i].value);\n",
              "    }\n",
              "    // store reference to server id on output_area\n",
              "    output_area._bokeh_server_id = output.metadata[EXEC_MIME_TYPE][\"server_id\"];\n",
              "  }\n",
              "}\n",
              "\n",
              "/**\n",
              " * Handle when an output is cleared or removed\n",
              " */\n",
              "function handle_clear_output(event, handle) {\n",
              "  var id = handle.cell.output_area._hv_plot_id;\n",
              "  var server_id = handle.cell.output_area._bokeh_server_id;\n",
              "  if (((id === undefined) || !(id in PyViz.plot_index)) && (server_id !== undefined)) { return; }\n",
              "  var comm = window.PyViz.comm_manager.get_client_comm(\"hv-extension-comm\", \"hv-extension-comm\", function () {});\n",
              "  if (server_id !== null) {\n",
              "    comm.send({event_type: 'server_delete', 'id': server_id});\n",
              "    return;\n",
              "  } else if (comm !== null) {\n",
              "    comm.send({event_type: 'delete', 'id': id});\n",
              "  }\n",
              "  delete PyViz.plot_index[id];\n",
              "  if ((window.Bokeh !== undefined) & (id in window.Bokeh.index)) {\n",
              "    var doc = window.Bokeh.index[id].model.document\n",
              "    doc.clear();\n",
              "    const i = window.Bokeh.documents.indexOf(doc);\n",
              "    if (i > -1) {\n",
              "      window.Bokeh.documents.splice(i, 1);\n",
              "    }\n",
              "  }\n",
              "}\n",
              "\n",
              "/**\n",
              " * Handle kernel restart event\n",
              " */\n",
              "function handle_kernel_cleanup(event, handle) {\n",
              "  delete PyViz.comms[\"hv-extension-comm\"];\n",
              "  window.PyViz.plot_index = {}\n",
              "}\n",
              "\n",
              "/**\n",
              " * Handle update_display_data messages\n",
              " */\n",
              "function handle_update_output(event, handle) {\n",
              "  handle_clear_output(event, {cell: {output_area: handle.output_area}})\n",
              "  handle_add_output(event, handle)\n",
              "}\n",
              "\n",
              "function register_renderer(events, OutputArea) {\n",
              "  function append_mime(data, metadata, element) {\n",
              "    // create a DOM node to render to\n",
              "    var toinsert = this.create_output_subarea(\n",
              "    metadata,\n",
              "    CLASS_NAME,\n",
              "    EXEC_MIME_TYPE\n",
              "    );\n",
              "    this.keyboard_manager.register_events(toinsert);\n",
              "    // Render to node\n",
              "    var props = {data: data, metadata: metadata[EXEC_MIME_TYPE]};\n",
              "    render(props, toinsert[0]);\n",
              "    element.append(toinsert);\n",
              "    return toinsert\n",
              "  }\n",
              "\n",
              "  events.on('output_added.OutputArea', handle_add_output);\n",
              "  events.on('output_updated.OutputArea', handle_update_output);\n",
              "  events.on('clear_output.CodeCell', handle_clear_output);\n",
              "  events.on('delete.Cell', handle_clear_output);\n",
              "  events.on('kernel_ready.Kernel', handle_kernel_cleanup);\n",
              "\n",
              "  OutputArea.prototype.register_mime_type(EXEC_MIME_TYPE, append_mime, {\n",
              "    safe: true,\n",
              "    index: 0\n",
              "  });\n",
              "}\n",
              "\n",
              "if (window.Jupyter !== undefined) {\n",
              "  try {\n",
              "    var events = require('base/js/events');\n",
              "    var OutputArea = require('notebook/js/outputarea').OutputArea;\n",
              "    if (OutputArea.prototype.mime_types().indexOf(EXEC_MIME_TYPE) == -1) {\n",
              "      register_renderer(events, OutputArea);\n",
              "    }\n",
              "  } catch(err) {\n",
              "  }\n",
              "}\n"
            ]
          },
          "metadata": {}
        },
        {
          "output_type": "display_data",
          "data": {
            "text/html": [
              "<style>*[data-root-id],\n",
              "*[data-root-id] > * {\n",
              "  box-sizing: border-box;\n",
              "  font-family: var(--jp-ui-font-family);\n",
              "  font-size: var(--jp-ui-font-size1);\n",
              "  color: var(--vscode-editor-foreground, var(--jp-ui-font-color1));\n",
              "}\n",
              "\n",
              "/* Override VSCode background color */\n",
              ".cell-output-ipywidget-background:has(\n",
              "    > .cell-output-ipywidget-background > .lm-Widget > *[data-root-id]\n",
              "  ),\n",
              ".cell-output-ipywidget-background:has(> .lm-Widget > *[data-root-id]) {\n",
              "  background-color: transparent !important;\n",
              "}\n",
              "</style>"
            ]
          },
          "metadata": {}
        },
        {
          "output_type": "display_data",
          "data": {
            "text/html": [
              "<div id='p1002'>\n",
              "  <div id=\"aa926cc7-ec69-4374-825e-18cd3bf23378\" data-root-id=\"p1002\" style=\"display: contents;\"></div>\n",
              "</div>\n",
              "<script type=\"application/javascript\">(function(root) {\n",
              "  var docs_json = {\"7570b611-fda0-48ac-ab1e-6d5b5e187704\":{\"version\":\"3.4.3\",\"title\":\"Bokeh Application\",\"roots\":[{\"type\":\"object\",\"name\":\"panel.models.browser.BrowserInfo\",\"id\":\"p1002\"},{\"type\":\"object\",\"name\":\"panel.models.comm_manager.CommManager\",\"id\":\"p1003\",\"attributes\":{\"plot_id\":\"p1002\",\"comm_id\":\"2ee85729c9314bff9fc3ecfa43518bc5\",\"client_comm_id\":\"eb3f3593cf574955b76b70ca7fefab2b\"}}],\"defs\":[{\"type\":\"model\",\"name\":\"ReactiveHTML1\"},{\"type\":\"model\",\"name\":\"FlexBox1\",\"properties\":[{\"name\":\"align_content\",\"kind\":\"Any\",\"default\":\"flex-start\"},{\"name\":\"align_items\",\"kind\":\"Any\",\"default\":\"flex-start\"},{\"name\":\"flex_direction\",\"kind\":\"Any\",\"default\":\"row\"},{\"name\":\"flex_wrap\",\"kind\":\"Any\",\"default\":\"wrap\"},{\"name\":\"gap\",\"kind\":\"Any\",\"default\":\"\"},{\"name\":\"justify_content\",\"kind\":\"Any\",\"default\":\"flex-start\"}]},{\"type\":\"model\",\"name\":\"FloatPanel1\",\"properties\":[{\"name\":\"config\",\"kind\":\"Any\",\"default\":{\"type\":\"map\"}},{\"name\":\"contained\",\"kind\":\"Any\",\"default\":true},{\"name\":\"position\",\"kind\":\"Any\",\"default\":\"right-top\"},{\"name\":\"offsetx\",\"kind\":\"Any\",\"default\":null},{\"name\":\"offsety\",\"kind\":\"Any\",\"default\":null},{\"name\":\"theme\",\"kind\":\"Any\",\"default\":\"primary\"},{\"name\":\"status\",\"kind\":\"Any\",\"default\":\"normalized\"}]},{\"type\":\"model\",\"name\":\"GridStack1\",\"properties\":[{\"name\":\"mode\",\"kind\":\"Any\",\"default\":\"warn\"},{\"name\":\"ncols\",\"kind\":\"Any\",\"default\":null},{\"name\":\"nrows\",\"kind\":\"Any\",\"default\":null},{\"name\":\"allow_resize\",\"kind\":\"Any\",\"default\":true},{\"name\":\"allow_drag\",\"kind\":\"Any\",\"default\":true},{\"name\":\"state\",\"kind\":\"Any\",\"default\":[]}]},{\"type\":\"model\",\"name\":\"drag1\",\"properties\":[{\"name\":\"slider_width\",\"kind\":\"Any\",\"default\":5},{\"name\":\"slider_color\",\"kind\":\"Any\",\"default\":\"black\"},{\"name\":\"value\",\"kind\":\"Any\",\"default\":50}]},{\"type\":\"model\",\"name\":\"click1\",\"properties\":[{\"name\":\"terminal_output\",\"kind\":\"Any\",\"default\":\"\"},{\"name\":\"debug_name\",\"kind\":\"Any\",\"default\":\"\"},{\"name\":\"clears\",\"kind\":\"Any\",\"default\":0}]},{\"type\":\"model\",\"name\":\"FastWrapper1\",\"properties\":[{\"name\":\"object\",\"kind\":\"Any\",\"default\":null},{\"name\":\"style\",\"kind\":\"Any\",\"default\":null}]},{\"type\":\"model\",\"name\":\"NotificationAreaBase1\",\"properties\":[{\"name\":\"js_events\",\"kind\":\"Any\",\"default\":{\"type\":\"map\"}},{\"name\":\"position\",\"kind\":\"Any\",\"default\":\"bottom-right\"},{\"name\":\"_clear\",\"kind\":\"Any\",\"default\":0}]},{\"type\":\"model\",\"name\":\"NotificationArea1\",\"properties\":[{\"name\":\"js_events\",\"kind\":\"Any\",\"default\":{\"type\":\"map\"}},{\"name\":\"notifications\",\"kind\":\"Any\",\"default\":[]},{\"name\":\"position\",\"kind\":\"Any\",\"default\":\"bottom-right\"},{\"name\":\"_clear\",\"kind\":\"Any\",\"default\":0},{\"name\":\"types\",\"kind\":\"Any\",\"default\":[{\"type\":\"map\",\"entries\":[[\"type\",\"warning\"],[\"background\",\"#ffc107\"],[\"icon\",{\"type\":\"map\",\"entries\":[[\"className\",\"fas fa-exclamation-triangle\"],[\"tagName\",\"i\"],[\"color\",\"white\"]]}]]},{\"type\":\"map\",\"entries\":[[\"type\",\"info\"],[\"background\",\"#007bff\"],[\"icon\",{\"type\":\"map\",\"entries\":[[\"className\",\"fas fa-info-circle\"],[\"tagName\",\"i\"],[\"color\",\"white\"]]}]]}]}]},{\"type\":\"model\",\"name\":\"Notification\",\"properties\":[{\"name\":\"background\",\"kind\":\"Any\",\"default\":null},{\"name\":\"duration\",\"kind\":\"Any\",\"default\":3000},{\"name\":\"icon\",\"kind\":\"Any\",\"default\":null},{\"name\":\"message\",\"kind\":\"Any\",\"default\":\"\"},{\"name\":\"notification_type\",\"kind\":\"Any\",\"default\":null},{\"name\":\"_destroyed\",\"kind\":\"Any\",\"default\":false}]},{\"type\":\"model\",\"name\":\"TemplateActions1\",\"properties\":[{\"name\":\"open_modal\",\"kind\":\"Any\",\"default\":0},{\"name\":\"close_modal\",\"kind\":\"Any\",\"default\":0}]},{\"type\":\"model\",\"name\":\"BootstrapTemplateActions1\",\"properties\":[{\"name\":\"open_modal\",\"kind\":\"Any\",\"default\":0},{\"name\":\"close_modal\",\"kind\":\"Any\",\"default\":0}]},{\"type\":\"model\",\"name\":\"TemplateEditor1\",\"properties\":[{\"name\":\"layout\",\"kind\":\"Any\",\"default\":[]}]},{\"type\":\"model\",\"name\":\"MaterialTemplateActions1\",\"properties\":[{\"name\":\"open_modal\",\"kind\":\"Any\",\"default\":0},{\"name\":\"close_modal\",\"kind\":\"Any\",\"default\":0}]},{\"type\":\"model\",\"name\":\"copy_to_clipboard1\",\"properties\":[{\"name\":\"fill\",\"kind\":\"Any\",\"default\":\"none\"},{\"name\":\"value\",\"kind\":\"Any\",\"default\":null}]}]}};\n",
              "  var render_items = [{\"docid\":\"7570b611-fda0-48ac-ab1e-6d5b5e187704\",\"roots\":{\"p1002\":\"aa926cc7-ec69-4374-825e-18cd3bf23378\"},\"root_ids\":[\"p1002\"]}];\n",
              "  var docs = Object.values(docs_json)\n",
              "  if (!docs) {\n",
              "    return\n",
              "  }\n",
              "  const py_version = docs[0].version.replace('rc', '-rc.').replace('.dev', '-dev.')\n",
              "  async function embed_document(root) {\n",
              "    var Bokeh = get_bokeh(root)\n",
              "    await Bokeh.embed.embed_items_notebook(docs_json, render_items);\n",
              "    for (const render_item of render_items) {\n",
              "      for (const root_id of render_item.root_ids) {\n",
              "\tconst id_el = document.getElementById(root_id)\n",
              "\tif (id_el.children.length && id_el.children[0].hasAttribute('data-root-id')) {\n",
              "\t  const root_el = id_el.children[0]\n",
              "\t  root_el.id = root_el.id + '-rendered'\n",
              "\t  for (const child of root_el.children) {\n",
              "            // Ensure JupyterLab does not capture keyboard shortcuts\n",
              "            // see: https://jupyterlab.readthedocs.io/en/4.1.x/extension/notebook.html#keyboard-interaction-model\n",
              "\t    child.setAttribute('data-lm-suppress-shortcuts', 'true')\n",
              "\t  }\n",
              "\t}\n",
              "      }\n",
              "    }\n",
              "  }\n",
              "  function get_bokeh(root) {\n",
              "    if (root.Bokeh === undefined) {\n",
              "      return null\n",
              "    } else if (root.Bokeh.version !== py_version) {\n",
              "      if (root.Bokeh.versions === undefined || !root.Bokeh.versions.has(py_version)) {\n",
              "\treturn null\n",
              "      }\n",
              "      return root.Bokeh.versions.get(py_version);\n",
              "    } else if (root.Bokeh.version === py_version) {\n",
              "      return root.Bokeh\n",
              "    }\n",
              "    return null\n",
              "  }\n",
              "  function is_loaded(root) {\n",
              "    var Bokeh = get_bokeh(root)\n",
              "    return (Bokeh != null && Bokeh.Panel !== undefined)\n",
              "  }\n",
              "  if (is_loaded(root)) {\n",
              "    embed_document(root);\n",
              "  } else {\n",
              "    var attempts = 0;\n",
              "    var timer = setInterval(function(root) {\n",
              "      if (is_loaded(root)) {\n",
              "        clearInterval(timer);\n",
              "        embed_document(root);\n",
              "      } else if (document.readyState == \"complete\") {\n",
              "        attempts++;\n",
              "        if (attempts > 200) {\n",
              "          clearInterval(timer);\n",
              "\t  var Bokeh = get_bokeh(root)\n",
              "\t  if (Bokeh == null || Bokeh.Panel == null) {\n",
              "            console.warn(\"Panel: ERROR: Unable to run Panel code because Bokeh or Panel library is missing\");\n",
              "\t  } else {\n",
              "\t    console.warn(\"Panel: WARNING: Attempting to render but not all required libraries could be resolved.\")\n",
              "\t    embed_document(root)\n",
              "\t  }\n",
              "        }\n",
              "      }\n",
              "    }, 25, root)\n",
              "  }\n",
              "})(window);</script>"
            ],
            "application/vnd.holoviews_exec.v0+json": ""
          },
          "metadata": {
            "application/vnd.holoviews_exec.v0+json": {
              "id": "p1002"
            }
          }
        }
      ],
      "source": [
        "import polars as pl\n",
        "import hvplot.polars # Using the hvplot as the plotting backend\n",
        "from polars.testing import assert_frame_equal"
      ]
    },
    {
      "cell_type": "code",
      "execution_count": 9,
      "id": "isB8fVBAqqDJ",
      "metadata": {
        "colab": {
          "base_uri": "https://localhost:8080/",
          "height": 36
        },
        "id": "isB8fVBAqqDJ",
        "outputId": "6d99cdae-ba93-4138-fda4-8674558edec4"
      },
      "outputs": [
        {
          "output_type": "execute_result",
          "data": {
            "text/plain": [
              "'1.12.0'"
            ],
            "application/vnd.google.colaboratory.intrinsic+json": {
              "type": "string"
            }
          },
          "metadata": {},
          "execution_count": 9
        }
      ],
      "source": [
        "pl.__version__ # Make sure the version is >= `1.6.0`; If not restart the session."
      ]
    },
    {
      "cell_type": "code",
      "execution_count": 10,
      "id": "a04f58fd-3df5-44ee-9a59-67d5c5146b08",
      "metadata": {
        "id": "a04f58fd-3df5-44ee-9a59-67d5c5146b08",
        "tags": []
      },
      "outputs": [],
      "source": [
        "transactions = pl.scan_parquet(\"transactions.parquet\")"
      ]
    },
    {
      "cell_type": "code",
      "source": [
        "import os\n",
        "import polars as pl\n",
        "\n",
        "# Get the current working directory\n",
        "current_directory = os.getcwd()\n",
        "print(f\"Current working directory: {current_directory}\")\n",
        "\n",
        "# Construct the full path to the Parquet file\n",
        "file_path = os.path.join(current_directory, \"transactions.parquet\")\n",
        "\n",
        "# Check if the file exists\n",
        "if os.path.exists(file_path):\n",
        "    print(f\"File found at: {file_path}\")\n",
        "    transactions = pl.scan_parquet(file_path) # Change this line\n",
        "    transactions.collect_schema()\n",
        "else:\n",
        "    print(f\"File not found at: {file_path}\")\n",
        "    print(\"Please make sure the 'transactions.parquet' file is in the current directory or provide the correct path.\")"
      ],
      "metadata": {
        "colab": {
          "base_uri": "https://localhost:8080/"
        },
        "id": "hMBeVXW84qmr",
        "outputId": "69ec20ba-b1be-45aa-f65c-4a6161ddeae3"
      },
      "id": "hMBeVXW84qmr",
      "execution_count": 11,
      "outputs": [
        {
          "output_type": "stream",
          "name": "stdout",
          "text": [
            "Current working directory: /content\n",
            "File found at: /content/transactions.parquet\n"
          ]
        }
      ]
    },
    {
      "cell_type": "code",
      "source": [
        "transactions.collect()"
      ],
      "metadata": {
        "colab": {
          "base_uri": "https://localhost:8080/",
          "height": 443
        },
        "id": "IgPADuZs8o4A",
        "outputId": "f8fb0920-4a84-4dd9-edb3-4a640d8f3b9c"
      },
      "id": "IgPADuZs8o4A",
      "execution_count": 12,
      "outputs": [
        {
          "output_type": "execute_result",
          "data": {
            "text/plain": [
              "shape: (52_393_943, 10)\n",
              "┌────────────┬────────────┬──────────┬─────────────────┬───┬───────┬─────┬───────────────┬─────────┐\n",
              "│ CUST_ID    ┆ START_DATE ┆ END_DATE ┆ TRANS_ID        ┆ … ┆ MONTH ┆ DAY ┆ EXP_TYPE      ┆ AMOUNT  │\n",
              "│ ---        ┆ ---        ┆ ---      ┆ ---             ┆   ┆ ---   ┆ --- ┆ ---           ┆ ---     │\n",
              "│ str        ┆ date       ┆ date     ┆ str             ┆   ┆ i64   ┆ i64 ┆ str           ┆ f64     │\n",
              "╞════════════╪════════════╪══════════╪═════════════════╪═══╪═══════╪═════╪═══════════════╪═════════╡\n",
              "│ CI6XLYUMQK ┆ 2015-05-01 ┆ null     ┆ T8I9ZB5A6X90UG8 ┆ … ┆ 9     ┆ 11  ┆ Motor/Travel  ┆ 20.27   │\n",
              "│ CI6XLYUMQK ┆ 2015-05-01 ┆ null     ┆ TZ4JSLS7SC7FO9H ┆ … ┆ 2     ┆ 8   ┆ Motor/Travel  ┆ 12.85   │\n",
              "│ CI6XLYUMQK ┆ 2015-05-01 ┆ null     ┆ TTUKRDDJ6B6F42H ┆ … ┆ 8     ┆ 1   ┆ Housing       ┆ 383.8   │\n",
              "│ CI6XLYUMQK ┆ 2015-05-01 ┆ null     ┆ TDUHFRUKGPPI6HD ┆ … ┆ 3     ┆ 16  ┆ Entertainment ┆ 5.72    │\n",
              "│ CI6XLYUMQK ┆ 2015-05-01 ┆ null     ┆ T0JBZHBMSVRFMMD ┆ … ┆ 5     ┆ 15  ┆ Entertainment ┆ 11.06   │\n",
              "│ …          ┆ …          ┆ …        ┆ …               ┆ … ┆ …     ┆ …   ┆ …             ┆ …       │\n",
              "│ CDM6EPDW8A ┆ 2017-07-01 ┆ null     ┆ TBEPJBHH7QIWUQK ┆ … ┆ 3     ┆ 9   ┆ Entertainment ┆ 53.46   │\n",
              "│ CDM6EPDW8A ┆ 2017-07-01 ┆ null     ┆ T6FNDF7HXYDQGE5 ┆ … ┆ 9     ┆ 24  ┆ Entertainment ┆ 62.27   │\n",
              "│ CDM6EPDW8A ┆ 2017-07-01 ┆ null     ┆ TVFAEMNFM83OCB9 ┆ … ┆ 5     ┆ 11  ┆ Motor/Travel  ┆ 2005.97 │\n",
              "│ CDM6EPDW8A ┆ 2017-07-01 ┆ null     ┆ TIHKQWKIHLXNRF8 ┆ … ┆ 3     ┆ 6   ┆ Groceries     ┆ 174.82  │\n",
              "│ CDM6EPDW8A ┆ 2017-07-01 ┆ null     ┆ TM9N6S7J82X3ZJB ┆ … ┆ 7     ┆ 14  ┆ Entertainment ┆ 61.41   │\n",
              "└────────────┴────────────┴──────────┴─────────────────┴───┴───────┴─────┴───────────────┴─────────┘"
            ],
            "text/html": [
              "<div><style>\n",
              ".dataframe > thead > tr,\n",
              ".dataframe > tbody > tr {\n",
              "  text-align: right;\n",
              "  white-space: pre-wrap;\n",
              "}\n",
              "</style>\n",
              "<small>shape: (52_393_943, 10)</small><table border=\"1\" class=\"dataframe\"><thead><tr><th>CUST_ID</th><th>START_DATE</th><th>END_DATE</th><th>TRANS_ID</th><th>DATE</th><th>YEAR</th><th>MONTH</th><th>DAY</th><th>EXP_TYPE</th><th>AMOUNT</th></tr><tr><td>str</td><td>date</td><td>date</td><td>str</td><td>date</td><td>i64</td><td>i64</td><td>i64</td><td>str</td><td>f64</td></tr></thead><tbody><tr><td>&quot;CI6XLYUMQK&quot;</td><td>2015-05-01</td><td>null</td><td>&quot;T8I9ZB5A6X90UG8&quot;</td><td>2015-09-11</td><td>2015</td><td>9</td><td>11</td><td>&quot;Motor/Travel&quot;</td><td>20.27</td></tr><tr><td>&quot;CI6XLYUMQK&quot;</td><td>2015-05-01</td><td>null</td><td>&quot;TZ4JSLS7SC7FO9H&quot;</td><td>2017-02-08</td><td>2017</td><td>2</td><td>8</td><td>&quot;Motor/Travel&quot;</td><td>12.85</td></tr><tr><td>&quot;CI6XLYUMQK&quot;</td><td>2015-05-01</td><td>null</td><td>&quot;TTUKRDDJ6B6F42H&quot;</td><td>2015-08-01</td><td>2015</td><td>8</td><td>1</td><td>&quot;Housing&quot;</td><td>383.8</td></tr><tr><td>&quot;CI6XLYUMQK&quot;</td><td>2015-05-01</td><td>null</td><td>&quot;TDUHFRUKGPPI6HD&quot;</td><td>2019-03-16</td><td>2019</td><td>3</td><td>16</td><td>&quot;Entertainment&quot;</td><td>5.72</td></tr><tr><td>&quot;CI6XLYUMQK&quot;</td><td>2015-05-01</td><td>null</td><td>&quot;T0JBZHBMSVRFMMD&quot;</td><td>2015-05-15</td><td>2015</td><td>5</td><td>15</td><td>&quot;Entertainment&quot;</td><td>11.06</td></tr><tr><td>&hellip;</td><td>&hellip;</td><td>&hellip;</td><td>&hellip;</td><td>&hellip;</td><td>&hellip;</td><td>&hellip;</td><td>&hellip;</td><td>&hellip;</td><td>&hellip;</td></tr><tr><td>&quot;CDM6EPDW8A&quot;</td><td>2017-07-01</td><td>null</td><td>&quot;TBEPJBHH7QIWUQK&quot;</td><td>2019-03-09</td><td>2019</td><td>3</td><td>9</td><td>&quot;Entertainment&quot;</td><td>53.46</td></tr><tr><td>&quot;CDM6EPDW8A&quot;</td><td>2017-07-01</td><td>null</td><td>&quot;T6FNDF7HXYDQGE5&quot;</td><td>2019-09-24</td><td>2019</td><td>9</td><td>24</td><td>&quot;Entertainment&quot;</td><td>62.27</td></tr><tr><td>&quot;CDM6EPDW8A&quot;</td><td>2017-07-01</td><td>null</td><td>&quot;TVFAEMNFM83OCB9&quot;</td><td>2020-05-11</td><td>2020</td><td>5</td><td>11</td><td>&quot;Motor/Travel&quot;</td><td>2005.97</td></tr><tr><td>&quot;CDM6EPDW8A&quot;</td><td>2017-07-01</td><td>null</td><td>&quot;TIHKQWKIHLXNRF8&quot;</td><td>2020-03-06</td><td>2020</td><td>3</td><td>6</td><td>&quot;Groceries&quot;</td><td>174.82</td></tr><tr><td>&quot;CDM6EPDW8A&quot;</td><td>2017-07-01</td><td>null</td><td>&quot;TM9N6S7J82X3ZJB&quot;</td><td>2020-07-14</td><td>2020</td><td>7</td><td>14</td><td>&quot;Entertainment&quot;</td><td>61.41</td></tr></tbody></table></div>"
            ]
          },
          "metadata": {},
          "execution_count": 12
        }
      ]
    },
    {
      "cell_type": "code",
      "source": [
        "from google.colab import drive\n",
        "drive.mount('/content/drive')"
      ],
      "metadata": {
        "colab": {
          "base_uri": "https://localhost:8080/"
        },
        "id": "wZ8l5io89bsC",
        "outputId": "5127ecf0-86ed-4f70-bb6f-20a58af9476c"
      },
      "id": "wZ8l5io89bsC",
      "execution_count": 13,
      "outputs": [
        {
          "output_type": "stream",
          "name": "stdout",
          "text": [
            "Mounted at /content/drive\n"
          ]
        }
      ]
    },
    {
      "cell_type": "code",
      "execution_count": 14,
      "id": "86b44c08-a229-41b3-8e22-59f03eee68fd",
      "metadata": {
        "colab": {
          "base_uri": "https://localhost:8080/",
          "height": 255
        },
        "id": "86b44c08-a229-41b3-8e22-59f03eee68fd",
        "outputId": "f9c98bea-cb6d-41db-da8e-48ba620a4507"
      },
      "outputs": [
        {
          "output_type": "execute_result",
          "data": {
            "text/plain": [
              "shape: (5, 10)\n",
              "┌────────────┬────────────┬──────────┬─────────────────┬───┬───────┬─────┬───────────────┬────────┐\n",
              "│ CUST_ID    ┆ START_DATE ┆ END_DATE ┆ TRANS_ID        ┆ … ┆ MONTH ┆ DAY ┆ EXP_TYPE      ┆ AMOUNT │\n",
              "│ ---        ┆ ---        ┆ ---      ┆ ---             ┆   ┆ ---   ┆ --- ┆ ---           ┆ ---    │\n",
              "│ str        ┆ date       ┆ date     ┆ str             ┆   ┆ i64   ┆ i64 ┆ str           ┆ f64    │\n",
              "╞════════════╪════════════╪══════════╪═════════════════╪═══╪═══════╪═════╪═══════════════╪════════╡\n",
              "│ CI6XLYUMQK ┆ 2015-05-01 ┆ null     ┆ T8I9ZB5A6X90UG8 ┆ … ┆ 9     ┆ 11  ┆ Motor/Travel  ┆ 20.27  │\n",
              "│ CI6XLYUMQK ┆ 2015-05-01 ┆ null     ┆ TZ4JSLS7SC7FO9H ┆ … ┆ 2     ┆ 8   ┆ Motor/Travel  ┆ 12.85  │\n",
              "│ CI6XLYUMQK ┆ 2015-05-01 ┆ null     ┆ TTUKRDDJ6B6F42H ┆ … ┆ 8     ┆ 1   ┆ Housing       ┆ 383.8  │\n",
              "│ CI6XLYUMQK ┆ 2015-05-01 ┆ null     ┆ TDUHFRUKGPPI6HD ┆ … ┆ 3     ┆ 16  ┆ Entertainment ┆ 5.72   │\n",
              "│ CI6XLYUMQK ┆ 2015-05-01 ┆ null     ┆ T0JBZHBMSVRFMMD ┆ … ┆ 5     ┆ 15  ┆ Entertainment ┆ 11.06  │\n",
              "└────────────┴────────────┴──────────┴─────────────────┴───┴───────┴─────┴───────────────┴────────┘"
            ],
            "text/html": [
              "<div><style>\n",
              ".dataframe > thead > tr,\n",
              ".dataframe > tbody > tr {\n",
              "  text-align: right;\n",
              "  white-space: pre-wrap;\n",
              "}\n",
              "</style>\n",
              "<small>shape: (5, 10)</small><table border=\"1\" class=\"dataframe\"><thead><tr><th>CUST_ID</th><th>START_DATE</th><th>END_DATE</th><th>TRANS_ID</th><th>DATE</th><th>YEAR</th><th>MONTH</th><th>DAY</th><th>EXP_TYPE</th><th>AMOUNT</th></tr><tr><td>str</td><td>date</td><td>date</td><td>str</td><td>date</td><td>i64</td><td>i64</td><td>i64</td><td>str</td><td>f64</td></tr></thead><tbody><tr><td>&quot;CI6XLYUMQK&quot;</td><td>2015-05-01</td><td>null</td><td>&quot;T8I9ZB5A6X90UG8&quot;</td><td>2015-09-11</td><td>2015</td><td>9</td><td>11</td><td>&quot;Motor/Travel&quot;</td><td>20.27</td></tr><tr><td>&quot;CI6XLYUMQK&quot;</td><td>2015-05-01</td><td>null</td><td>&quot;TZ4JSLS7SC7FO9H&quot;</td><td>2017-02-08</td><td>2017</td><td>2</td><td>8</td><td>&quot;Motor/Travel&quot;</td><td>12.85</td></tr><tr><td>&quot;CI6XLYUMQK&quot;</td><td>2015-05-01</td><td>null</td><td>&quot;TTUKRDDJ6B6F42H&quot;</td><td>2015-08-01</td><td>2015</td><td>8</td><td>1</td><td>&quot;Housing&quot;</td><td>383.8</td></tr><tr><td>&quot;CI6XLYUMQK&quot;</td><td>2015-05-01</td><td>null</td><td>&quot;TDUHFRUKGPPI6HD&quot;</td><td>2019-03-16</td><td>2019</td><td>3</td><td>16</td><td>&quot;Entertainment&quot;</td><td>5.72</td></tr><tr><td>&quot;CI6XLYUMQK&quot;</td><td>2015-05-01</td><td>null</td><td>&quot;T0JBZHBMSVRFMMD&quot;</td><td>2015-05-15</td><td>2015</td><td>5</td><td>15</td><td>&quot;Entertainment&quot;</td><td>11.06</td></tr></tbody></table></div>"
            ]
          },
          "metadata": {},
          "execution_count": 14
        }
      ],
      "source": [
        "transactions.head(5).collect()"
      ]
    },
    {
      "cell_type": "code",
      "source": [
        "###data = pl.scan_csv(\"transactions.csv\")"
      ],
      "metadata": {
        "id": "mUBHbBRLAWxl"
      },
      "id": "mUBHbBRLAWxl",
      "execution_count": 15,
      "outputs": []
    },
    {
      "cell_type": "code",
      "source": [
        "####data.collect_schema()\n",
        "##data.sink_parquet(\"transactions.parquet\") achico el archivo"
      ],
      "metadata": {
        "id": "TxThOQPjAe4H"
      },
      "id": "TxThOQPjAe4H",
      "execution_count": 16,
      "outputs": []
    },
    {
      "cell_type": "code",
      "source": [
        "transactions.select(pl.col('CUST_ID').n_unique()).collect(engine='gpu')"
      ],
      "metadata": {
        "colab": {
          "base_uri": "https://localhost:8080/",
          "height": 129
        },
        "id": "QdwbMnunHPsV",
        "outputId": "796f8406-b357-4c5c-c738-7a65b83f5dd1"
      },
      "id": "QdwbMnunHPsV",
      "execution_count": 17,
      "outputs": [
        {
          "output_type": "execute_result",
          "data": {
            "text/plain": [
              "shape: (1, 1)\n",
              "┌─────────┐\n",
              "│ CUST_ID │\n",
              "│ ---     │\n",
              "│ u32     │\n",
              "╞═════════╡\n",
              "│ 14282   │\n",
              "└─────────┘"
            ],
            "text/html": [
              "<div><style>\n",
              ".dataframe > thead > tr,\n",
              ".dataframe > tbody > tr {\n",
              "  text-align: right;\n",
              "  white-space: pre-wrap;\n",
              "}\n",
              "</style>\n",
              "<small>shape: (1, 1)</small><table border=\"1\" class=\"dataframe\"><thead><tr><th>CUST_ID</th></tr><tr><td>u32</td></tr></thead><tbody><tr><td>14282</td></tr></tbody></table></div>"
            ]
          },
          "metadata": {},
          "execution_count": 17
        }
      ]
    },
    {
      "cell_type": "code",
      "source": [
        "transactions.schema"
      ],
      "metadata": {
        "colab": {
          "base_uri": "https://localhost:8080/"
        },
        "id": "Ek3qOx9rn5ar",
        "outputId": "3b8e2e35-0134-4705-db16-710d315f3592"
      },
      "id": "Ek3qOx9rn5ar",
      "execution_count": 18,
      "outputs": [
        {
          "output_type": "stream",
          "name": "stderr",
          "text": [
            "<ipython-input-18-e18b1eccf6b4>:1: PerformanceWarning: Resolving the schema of a LazyFrame is a potentially expensive operation. Use `LazyFrame.collect_schema()` to get the schema without this warning.\n",
            "  transactions.schema\n"
          ]
        },
        {
          "output_type": "execute_result",
          "data": {
            "text/plain": [
              "Schema([('CUST_ID', String),\n",
              "        ('START_DATE', Date),\n",
              "        ('END_DATE', Date),\n",
              "        ('TRANS_ID', String),\n",
              "        ('DATE', Date),\n",
              "        ('YEAR', Int64),\n",
              "        ('MONTH', Int64),\n",
              "        ('DAY', Int64),\n",
              "        ('EXP_TYPE', String),\n",
              "        ('AMOUNT', Float64)])"
            ]
          },
          "metadata": {},
          "execution_count": 18
        }
      ]
    },
    {
      "cell_type": "code",
      "source": [
        "transactions.collect(engine='gpu')"
      ],
      "metadata": {
        "colab": {
          "base_uri": "https://localhost:8080/",
          "height": 443
        },
        "id": "mpBossI_n-Da",
        "outputId": "0099211f-0b74-4e5f-d4e1-695f29cd0dbb"
      },
      "id": "mpBossI_n-Da",
      "execution_count": 19,
      "outputs": [
        {
          "output_type": "execute_result",
          "data": {
            "text/plain": [
              "shape: (52_393_943, 10)\n",
              "┌────────────┬────────────┬──────────┬─────────────────┬───┬───────┬─────┬───────────────┬─────────┐\n",
              "│ CUST_ID    ┆ START_DATE ┆ END_DATE ┆ TRANS_ID        ┆ … ┆ MONTH ┆ DAY ┆ EXP_TYPE      ┆ AMOUNT  │\n",
              "│ ---        ┆ ---        ┆ ---      ┆ ---             ┆   ┆ ---   ┆ --- ┆ ---           ┆ ---     │\n",
              "│ str        ┆ date       ┆ date     ┆ str             ┆   ┆ i64   ┆ i64 ┆ str           ┆ f64     │\n",
              "╞════════════╪════════════╪══════════╪═════════════════╪═══╪═══════╪═════╪═══════════════╪═════════╡\n",
              "│ CI6XLYUMQK ┆ 2015-05-01 ┆ null     ┆ T8I9ZB5A6X90UG8 ┆ … ┆ 9     ┆ 11  ┆ Motor/Travel  ┆ 20.27   │\n",
              "│ CI6XLYUMQK ┆ 2015-05-01 ┆ null     ┆ TZ4JSLS7SC7FO9H ┆ … ┆ 2     ┆ 8   ┆ Motor/Travel  ┆ 12.85   │\n",
              "│ CI6XLYUMQK ┆ 2015-05-01 ┆ null     ┆ TTUKRDDJ6B6F42H ┆ … ┆ 8     ┆ 1   ┆ Housing       ┆ 383.8   │\n",
              "│ CI6XLYUMQK ┆ 2015-05-01 ┆ null     ┆ TDUHFRUKGPPI6HD ┆ … ┆ 3     ┆ 16  ┆ Entertainment ┆ 5.72    │\n",
              "│ CI6XLYUMQK ┆ 2015-05-01 ┆ null     ┆ T0JBZHBMSVRFMMD ┆ … ┆ 5     ┆ 15  ┆ Entertainment ┆ 11.06   │\n",
              "│ …          ┆ …          ┆ …        ┆ …               ┆ … ┆ …     ┆ …   ┆ …             ┆ …       │\n",
              "│ CDM6EPDW8A ┆ 2017-07-01 ┆ null     ┆ TBEPJBHH7QIWUQK ┆ … ┆ 3     ┆ 9   ┆ Entertainment ┆ 53.46   │\n",
              "│ CDM6EPDW8A ┆ 2017-07-01 ┆ null     ┆ T6FNDF7HXYDQGE5 ┆ … ┆ 9     ┆ 24  ┆ Entertainment ┆ 62.27   │\n",
              "│ CDM6EPDW8A ┆ 2017-07-01 ┆ null     ┆ TVFAEMNFM83OCB9 ┆ … ┆ 5     ┆ 11  ┆ Motor/Travel  ┆ 2005.97 │\n",
              "│ CDM6EPDW8A ┆ 2017-07-01 ┆ null     ┆ TIHKQWKIHLXNRF8 ┆ … ┆ 3     ┆ 6   ┆ Groceries     ┆ 174.82  │\n",
              "│ CDM6EPDW8A ┆ 2017-07-01 ┆ null     ┆ TM9N6S7J82X3ZJB ┆ … ┆ 7     ┆ 14  ┆ Entertainment ┆ 61.41   │\n",
              "└────────────┴────────────┴──────────┴─────────────────┴───┴───────┴─────┴───────────────┴─────────┘"
            ],
            "text/html": [
              "<div><style>\n",
              ".dataframe > thead > tr,\n",
              ".dataframe > tbody > tr {\n",
              "  text-align: right;\n",
              "  white-space: pre-wrap;\n",
              "}\n",
              "</style>\n",
              "<small>shape: (52_393_943, 10)</small><table border=\"1\" class=\"dataframe\"><thead><tr><th>CUST_ID</th><th>START_DATE</th><th>END_DATE</th><th>TRANS_ID</th><th>DATE</th><th>YEAR</th><th>MONTH</th><th>DAY</th><th>EXP_TYPE</th><th>AMOUNT</th></tr><tr><td>str</td><td>date</td><td>date</td><td>str</td><td>date</td><td>i64</td><td>i64</td><td>i64</td><td>str</td><td>f64</td></tr></thead><tbody><tr><td>&quot;CI6XLYUMQK&quot;</td><td>2015-05-01</td><td>null</td><td>&quot;T8I9ZB5A6X90UG8&quot;</td><td>2015-09-11</td><td>2015</td><td>9</td><td>11</td><td>&quot;Motor/Travel&quot;</td><td>20.27</td></tr><tr><td>&quot;CI6XLYUMQK&quot;</td><td>2015-05-01</td><td>null</td><td>&quot;TZ4JSLS7SC7FO9H&quot;</td><td>2017-02-08</td><td>2017</td><td>2</td><td>8</td><td>&quot;Motor/Travel&quot;</td><td>12.85</td></tr><tr><td>&quot;CI6XLYUMQK&quot;</td><td>2015-05-01</td><td>null</td><td>&quot;TTUKRDDJ6B6F42H&quot;</td><td>2015-08-01</td><td>2015</td><td>8</td><td>1</td><td>&quot;Housing&quot;</td><td>383.8</td></tr><tr><td>&quot;CI6XLYUMQK&quot;</td><td>2015-05-01</td><td>null</td><td>&quot;TDUHFRUKGPPI6HD&quot;</td><td>2019-03-16</td><td>2019</td><td>3</td><td>16</td><td>&quot;Entertainment&quot;</td><td>5.72</td></tr><tr><td>&quot;CI6XLYUMQK&quot;</td><td>2015-05-01</td><td>null</td><td>&quot;T0JBZHBMSVRFMMD&quot;</td><td>2015-05-15</td><td>2015</td><td>5</td><td>15</td><td>&quot;Entertainment&quot;</td><td>11.06</td></tr><tr><td>&hellip;</td><td>&hellip;</td><td>&hellip;</td><td>&hellip;</td><td>&hellip;</td><td>&hellip;</td><td>&hellip;</td><td>&hellip;</td><td>&hellip;</td><td>&hellip;</td></tr><tr><td>&quot;CDM6EPDW8A&quot;</td><td>2017-07-01</td><td>null</td><td>&quot;TBEPJBHH7QIWUQK&quot;</td><td>2019-03-09</td><td>2019</td><td>3</td><td>9</td><td>&quot;Entertainment&quot;</td><td>53.46</td></tr><tr><td>&quot;CDM6EPDW8A&quot;</td><td>2017-07-01</td><td>null</td><td>&quot;T6FNDF7HXYDQGE5&quot;</td><td>2019-09-24</td><td>2019</td><td>9</td><td>24</td><td>&quot;Entertainment&quot;</td><td>62.27</td></tr><tr><td>&quot;CDM6EPDW8A&quot;</td><td>2017-07-01</td><td>null</td><td>&quot;TVFAEMNFM83OCB9&quot;</td><td>2020-05-11</td><td>2020</td><td>5</td><td>11</td><td>&quot;Motor/Travel&quot;</td><td>2005.97</td></tr><tr><td>&quot;CDM6EPDW8A&quot;</td><td>2017-07-01</td><td>null</td><td>&quot;TIHKQWKIHLXNRF8&quot;</td><td>2020-03-06</td><td>2020</td><td>3</td><td>6</td><td>&quot;Groceries&quot;</td><td>174.82</td></tr><tr><td>&quot;CDM6EPDW8A&quot;</td><td>2017-07-01</td><td>null</td><td>&quot;TM9N6S7J82X3ZJB&quot;</td><td>2020-07-14</td><td>2020</td><td>7</td><td>14</td><td>&quot;Entertainment&quot;</td><td>61.41</td></tr></tbody></table></div>"
            ]
          },
          "metadata": {},
          "execution_count": 19
        }
      ]
    },
    {
      "cell_type": "code",
      "source": [
        "transactions.filter(\n",
        "    (pl.col(\"YEAR\") == 2020) &\n",
        "    (pl.col(\"EXP_TYPE\") == \"Housing\")\n",
        ").select(\n",
        "    pl.sum(\"AMOUNT\").cast(pl.Int64)\n",
        ").collect(engine=\"gpu\")"
      ],
      "metadata": {
        "colab": {
          "base_uri": "https://localhost:8080/",
          "height": 129
        },
        "id": "Uci0b6UhIrvF",
        "outputId": "ded06a51-b83e-480b-e480-1c68255b5435"
      },
      "id": "Uci0b6UhIrvF",
      "execution_count": 20,
      "outputs": [
        {
          "output_type": "execute_result",
          "data": {
            "text/plain": [
              "shape: (1, 1)\n",
              "┌──────────┐\n",
              "│ AMOUNT   │\n",
              "│ ---      │\n",
              "│ i64      │\n",
              "╞══════════╡\n",
              "│ 55734527 │\n",
              "└──────────┘"
            ],
            "text/html": [
              "<div><style>\n",
              ".dataframe > thead > tr,\n",
              ".dataframe > tbody > tr {\n",
              "  text-align: right;\n",
              "  white-space: pre-wrap;\n",
              "}\n",
              "</style>\n",
              "<small>shape: (1, 1)</small><table border=\"1\" class=\"dataframe\"><thead><tr><th>AMOUNT</th></tr><tr><td>i64</td></tr></thead><tbody><tr><td>55734527</td></tr></tbody></table></div>"
            ]
          },
          "metadata": {},
          "execution_count": 20
        }
      ]
    },
    {
      "cell_type": "code",
      "source": [
        "transactions.group_by(\n",
        "    \"EXP_TYPE\"\n",
        ").agg(\n",
        "    pl.sum(\"AMOUNT\")\n",
        ").sort(\n",
        "    by=\"AMOUNT\", descending=True\n",
        ").collect(engine=\"gpu\")"
      ],
      "metadata": {
        "id": "sS62HX_bKfQq"
      },
      "id": "sS62HX_bKfQq",
      "execution_count": null,
      "outputs": []
    },
    {
      "cell_type": "code",
      "source": [
        "transactions.filter(\n",
        "    pl.col(\"EXP_TYPE\").is_in([\"Motor/Travel\", \"Housing\"])\n",
        ").group_by(\n",
        "    \"EXP_TYPE\"\n",
        ").agg(\n",
        "    pl.sum(\"AMOUNT\")\n",
        ").sort(\n",
        "    by=\"AMOUNT\", descending=True\n",
        ").collect(engine=\"gpu\")\n",
        "transactions.filter(\n",
        "    pl.col(\"EXP_TYPE\").is_in([\"Motor/Travel\", \"Housing\"])\n",
        ").group_by(\n",
        "    \"EXP_TYPE\"\n",
        ").agg(\n",
        "    pl.sum(\"AMOUNT\")\n",
        ").sort(\n",
        "    by=\"AMOUNT\", descending=True\n",
        ").collect(engine=\"gpu\")\n",
        "transactions.group_by(\n",
        "    \"EXP_TYPE\"\n",
        ").agg(\n",
        "    [\n",
        "        pl.sum(\"AMOUNT\"),\n",
        "        pl.mean(\"AMOUNT\").alias(\"AVERAGE\"),\n",
        "        pl.count(\"AMOUNT\").alias(\"COUNT\") # This line was incorrectly indented. Moved inside agg()\n",
        "    ]\n",
        ").sort(\n",
        "    by=\"AMOUNT\", descending=True\n",
        ").collect(engine=\"gpu\")\n",
        "# The following lines were causing the error. Removed them.\n",
        "#        pl.count(\"AMOUNT\").alias(\"COUNT\")\n",
        "#).sort(\n",
        "#    by=\"AMOUNT\", descending=True"
      ],
      "metadata": {
        "id": "DVP5EnYOWutM"
      },
      "id": "DVP5EnYOWutM",
      "execution_count": null,
      "outputs": []
    },
    {
      "cell_type": "code",
      "source": [
        "transactions.filter(\n",
        "    pl.col(\"EXP_TYPE\").is_in ([\"Motor/Travel\", \"Housing\"])\n",
        ").group_by(\n",
        "    \"EXP_TYPE\"\n",
        ").agg(\n",
        "    pl.sum(\"AMOUNT\")\n",
        ").sort(\n",
        "    by=\"AMOUNT\", descending=True\n",
        ").collect(engine=\"gpu\")\n",
        "transactions.filter(\n",
        "    pl.col(\"EXP_TYPE\").is_in([\"Motor/Travel\", \"Housing\"])\n",
        ").group_by(\n",
        "    \"EXP_TYPE\"\n",
        ").agg(\n",
        "    pl.sum(\"AMOUNT\")\n",
        ").sort(\n",
        "    by=\"AMOUNT\", descending=True\n",
        ").collect(engine=\"gpu\")\n",
        "transactions.group_by(\n",
        "    \"EXP_TYPE\"\n",
        ").agg(\n",
        "    [\n",
        "        pl.sum(\"AMOUNT\"),\n",
        "        pl.mean(\"AMOUNT\").alias(\"AVERAGE\"),\n",
        "        pl.count(\"AMOUNT\").alias(\"COUNT\")\n",
        "    ]\n",
        ").sort(\n",
        "    by=\"AMOUNT\", descending=True\n",
        ").collect(engine=\"gpu\")\n",
        "# The error was caused by these lines. They were outside the agg() function and indented unnecessarily.\n",
        "# I have removed them to fix the error.\n",
        "# pl.count(\"AMOUNT\").alias(\"COUNT\") # This line was incorrectly placed outside the agg() function.\n",
        "# ).sort(\n",
        "#     by=\"AMOUNT\", descending=True\n",
        "# ).collect(engine=\"gpu\")"
      ],
      "metadata": {
        "id": "WUVrtPozW9A3"
      },
      "id": "WUVrtPozW9A3",
      "execution_count": null,
      "outputs": []
    },
    {
      "cell_type": "code",
      "source": [
        "\n",
        "\n",
        "transactions.filter(\n",
        "    pl.col(\"EXP_TYPE\").is_in ([\"Motor/Travel\", \"Housing\"])\n",
        ").group_by(\n",
        "    \"EXP_TYPE\"\n",
        ").agg(\n",
        "    pl.sum(\"AMOUNT\")\n",
        ").sort(\n",
        "    by=\"AMOUNT\", descending=True\n",
        ").collect(engine=\"gpu\")\n",
        "transactions.filter(\n",
        "    pl.col(\"EXP_TYPE\").is_in([\"Motor/Travel\", \"Housing\"])\n",
        ").group_by(\n",
        "    \"EXP_TYPE\"\n",
        ").agg(\n",
        "    pl.sum(\"AMOUNT\")\n",
        ").sort(\n",
        "    by=\"AMOUNT\", descending=True\n",
        ").collect(engine=\"gpu\")\n",
        "transactions.group_by(\n",
        "    \"EXP_TYPE\"\n",
        ").agg(\n",
        "    [\n",
        "        pl.sum(\"AMOUNT\"),\n",
        "        pl.mean(\"AMOUNT\").alias(\"AVERAGE\"),\n",
        "        pl.count(\"AMOUNT\").alias(\"COUNT\")\n",
        "    ] # The extra pl.count line was removed from here. It was causing the indentation error as it was outside the agg() function\n",
        ").sort(\n",
        "    by=\"AMOUNT\", descending=True\n",
        ").collect(engine=\"gpu\")\n",
        "# The following lines were causing the error due to incorrect indentation\n",
        "#        pl.count(\"AMOUNT\").alias(\"COUNT\")\n",
        "#).sort(\n",
        "#    by=\"AMOUNT\", descending=True\n",
        "#).collect(engine=\"gpu\")"
      ],
      "metadata": {
        "id": "CvacTr1JXIlX"
      },
      "id": "CvacTr1JXIlX",
      "execution_count": null,
      "outputs": []
    },
    {
      "cell_type": "code",
      "source": [
        "transactions.group_by(\n",
        "    \"EXP_TYPE\"\n",
        ").agg(\n",
        "    pl.sum(\"AMOUNT\")\n",
        ").sort(\n",
        "    by=\"AMOUNT\", descending=True\n",
        ").collect(engine=\"gpu\")\n",
        "transactions.group_by(\n",
        "    \"EXP_TYPE\"\n",
        ").agg(\n",
        "    [\n",
        "        pl.sum(\"AMOUNT\"),\n",
        "        pl.mean(\"AMOUNT\").alias(\"AVERAGE\"),\n",
        "        pl.count(\"AMOUNT\").alias(\"COUNT\")\n",
        "    ]\n",
        ").sort(\n",
        "    by=\"AMOUNT\", descending=True\n",
        ").collect(engine=\"gpu\").plot.bar(x=\"EXP_TYPE\", y=\"AVERAGE\")\n",
        "transactions.group_by(\n",
        "    \"EXP_TYPE\"\n",
        ").agg(\n",
        "    pl.sum(\"AMOUNT\")\n",
        ").sort(\n",
        "    by=\"AMOUNT\", descending=True\n",
        ").collect(engine=\"gpu\")\n",
        "transactions.group_by(\n",
        "    \"EXP_TYPE\"\n",
        ").agg(\n",
        "    [\n",
        "        pl.sum(\"AMOUNT\"),\n",
        "        pl.mean(\"AMOUNT\").alias(\"AVERAGE\"),\n",
        "        pl.count(\"AMOUNT\").alias(\"COUNT\")\n",
        "    ]\n",
        ").sort(\n",
        "    by=\"AMOUNT\", descending=True\n",
        ").collect(engine=\"gpu\").plot.bar(x=\"EXP_TYPE\", y=\"AVERAGE\")\n",
        "transactions.group_by(\n",
        "    \"EXP_TYPE\"\n",
        ").agg(\n",
        "    pl.sum(\"AMOUNT\")\n",
        ").sort(\n",
        "    by=\"AMOUNT\", descending=True\n",
        ").collect(engine=\"gpu\")\n",
        "transactions.group_by(\n",
        "    \"EXP_TYPE\"\n",
        ").agg(\n",
        "    [\n",
        "        pl.sum(\"AMOUNT\"),\n",
        "        pl.mean(\"AMOUNT\").alias(\"AVERAGE\"),\n",
        "        pl.count(\"AMOUNT\").alias(\"COUNT\")\n",
        "    ]\n",
        ").sort(\n",
        "    by=\"AMOUNT\", descending=True\n",
        ").collect(engine=\"gpu\").plot.bar(x=\"EXP_TYPE\", y=\"AVERAGE\")\n",
        ").agg(\n",
        "    [\n",
        "        pl.sum(\"AMOUNT\"),\n",
        "        pl.mean(\"AMOUNT\").alias(\"AVERAGE\"),\n",
        "        pl.count(\"AMOUNT\").alias(\"COUNT\")\n",
        "    ]\n",
        ").sort(\n",
        "    by=\"AMOUNT\", descending=True\n",
        ").collect(engine=\"gpu\").plot.bar(x=\"EXP_TYPE\", y=\"AVERAGE\")\n",
        "#).sort( #removed this line, it was causing a syntax error\n",
        "#    by=\"AMOUNT\", descending=True\n",
        "#).collect(engine=\"gpu\").plot.bar(x=\"EXP_TYPE\", y=\"AVERAGE\")"
      ],
      "metadata": {
        "id": "WFlYGSDxP0F3"
      },
      "id": "WFlYGSDxP0F3",
      "execution_count": null,
      "outputs": []
    },
    {
      "cell_type": "code",
      "source": [
        "import altair as alt\n",
        "##alt.data_transformers.enable(\"vegafusion\")"
      ],
      "metadata": {
        "id": "6svSnIb5YCeG"
      },
      "id": "6svSnIb5YCeG",
      "execution_count": null,
      "outputs": []
    },
    {
      "cell_type": "code",
      "source": [
        "!pip install --upgrade altair>=5.4.0"
      ],
      "metadata": {
        "id": "E7cGnsqRYb7d"
      },
      "id": "E7cGnsqRYb7d",
      "execution_count": null,
      "outputs": []
    },
    {
      "cell_type": "code",
      "source": [
        "import polars as pl\n",
        "import altair as alt # Import altair\n",
        "\n",
        "# ... your code ...\n",
        "\n",
        "transactions.head(100).collect(engine=\"gpu\").plot.scatter(\n",
        "    x=\"AMOUNT\", y=\"DATE\", color=\"EXP_TYPE\"\n",
        ").properties(width=750)"
      ],
      "metadata": {
        "id": "1eB798QCYffH"
      },
      "id": "1eB798QCYffH",
      "execution_count": null,
      "outputs": []
    },
    {
      "cell_type": "code",
      "source": [
        "transactions.head(1000).collect(engine=\"gpu\").plot.scatter(\n",
        "    x=\"AMOUNT\", y=\"DATE\", color=\"EXP_TYPE\"\n",
        ").properties(width=750)"
      ],
      "metadata": {
        "id": "szDUZVktQaWN"
      },
      "id": "szDUZVktQaWN",
      "execution_count": null,
      "outputs": []
    },
    {
      "cell_type": "code",
      "source": [
        "transactions.head(1000).collect(engine=\"gpu\").plot.scatter(\n",
        "    x=\"AMOUNT\", y=\"DATE\"\n",
        ").properties(width=750).mark_point(size=250, strokeWidth=1)"
      ],
      "metadata": {
        "id": "Rt6De4stRSBC"
      },
      "id": "Rt6De4stRSBC",
      "execution_count": null,
      "outputs": []
    },
    {
      "cell_type": "code",
      "source": [
        "!pip install vegafusion"
      ],
      "metadata": {
        "id": "M-VY8haPUI9w"
      },
      "id": "M-VY8haPUI9w",
      "execution_count": null,
      "outputs": []
    },
    {
      "cell_type": "code",
      "source": [
        "!pip install vegafusion # Ensure vegafusion is installed\n",
        "import altair as alt\n",
        "# Import vegafusion to potentially register the entry point\n",
        "import vegafusion\n",
        "###alt.data_transformers.enable(\"vegafusion\")"
      ],
      "metadata": {
        "id": "g_A_NE0iYwC6"
      },
      "id": "g_A_NE0iYwC6",
      "execution_count": null,
      "outputs": []
    },
    {
      "cell_type": "code",
      "source": [
        "import altair as alt\n",
        "alt.data_transformers.enable(\"vegafusion\")"
      ],
      "metadata": {
        "id": "qWVf83ZKThpI"
      },
      "id": "qWVf83ZKThpI",
      "execution_count": null,
      "outputs": []
    },
    {
      "cell_type": "code",
      "source": [
        "transactions.head(100).collect(engine=\"gpu\").plot.scatter(\n",
        "    x=\"AMOUNT\", y=\"DATE\", color=\"EXP_TYPE\", tooltip=[\n",
        "        \"TRANSACTION_ID\",\"CUST_ID\", \"DATE\", \"EXP_TYPE\"\n",
        "    ]\n",
        ").properties(\n",
        "    width=750, title=\"Expense Amountsand Type Over Time\"\n",
        ").mark_circle(\n",
        "    size=250, strokeWidth=1\n",
        ")"
      ],
      "metadata": {
        "id": "CkVS6i2BSUX5"
      },
      "id": "CkVS6i2BSUX5",
      "execution_count": null,
      "outputs": []
    },
    {
      "cell_type": "code",
      "source": [
        "import plotly.express as px"
      ],
      "metadata": {
        "id": "q81D9lwMY9O9"
      },
      "id": "q81D9lwMY9O9",
      "execution_count": null,
      "outputs": []
    },
    {
      "cell_type": "markdown",
      "source": [
        "placa de hv\n",
        "Si importa hvplot.polars, registra un método HVPLOT que puede usar para crear gráficos interactivos usando HVPLOT."
      ],
      "metadata": {
        "id": "8MdC_dupcKeR"
      },
      "id": "8MdC_dupcKeR"
    },
    {
      "cell_type": "code",
      "source": [
        "!pip install hvplot"
      ],
      "metadata": {
        "id": "KJYoztSgcO0o"
      },
      "id": "KJYoztSgcO0o",
      "execution_count": null,
      "outputs": []
    },
    {
      "cell_type": "code",
      "source": [
        "import hvplot.polars"
      ],
      "metadata": {
        "id": "fmyCI0cgcN-a"
      },
      "id": "fmyCI0cgcN-a",
      "execution_count": null,
      "outputs": []
    },
    {
      "cell_type": "code",
      "source": [
        "transactions.head(1000000).collect(engine=\"gpu\").plot.scatter(\n",
        "    x=\"AMOUNT\", y=\"DATE\", color=\"EXP_TYPE\", tooltip=[\n",
        "        \"TRANSACTION_ID\",\"CUST_ID\", \"DATE\", \"EXP_TYPE\"\n",
        "    ]).properties(\n",
        "    width=750, title=\"Expense Amountsand Type Over Time\"\n",
        ").mark_circle(\n",
        "    size=250, strokeWidth=1\n",
        ").properties(\n",
        "    width=750, title=\"Expense Amountsand Type Over Time\"\n",
        ").mark_circle(\n",
        "    size=250, strokeWidth=1\n",
        ")"
      ],
      "metadata": {
        "id": "Gp9OCPbaUW4T"
      },
      "id": "Gp9OCPbaUW4T",
      "execution_count": null,
      "outputs": []
    },
    {
      "cell_type": "markdown",
      "id": "fa5da5a9-4ca5-473b-a99f-b5ef4711e70e",
      "metadata": {
        "id": "fa5da5a9-4ca5-473b-a99f-b5ef4711e70e"
      },
      "source": [
        "This dataset has a mix of data types (strings, dates, integers, and floats), some missing values, and it looks like the dates were actually parsed as strings. We'll need to handle that during some of our analysis."
      ]
    },
    {
      "cell_type": "markdown",
      "source": [
        "Este conjunto de datos tiene una combinación de tipos de datos (cadenas, fechas, enteros y flotadores), algunos valores faltantes, y parece que las fechas en realidad se analizaron como cadenas. Tendremos que manejar eso durante algunos de nuestro análisis."
      ],
      "metadata": {
        "id": "dYkOJFtjIsxi"
      },
      "id": "dYkOJFtjIsxi"
    },
    {
      "cell_type": "markdown",
      "id": "bfc44e41-191c-4cee-8d99-29a47d5f3b78",
      "metadata": {
        "id": "bfc44e41-191c-4cee-8d99-29a47d5f3b78"
      },
      "source": [
        "# Our first GPU operation: Total aggregate transaction amount"
      ]
    },
    {
      "cell_type": "markdown",
      "id": "551e3232-b815-4b96-8f49-343f6ce07af9",
      "metadata": {
        "id": "551e3232-b815-4b96-8f49-343f6ce07af9"
      },
      "source": [
        "With Polars, to calculate the total spending in of all transactions we simply `sum` the `AMOUNT` column:"
      ]
    },
    {
      "cell_type": "markdown",
      "source": [
        "Con polares, para calcular el gasto total en todas las transacciones, simplemente sumamos la columna de monto:"
      ],
      "metadata": {
        "id": "pdyqAUiHJL2W"
      },
      "id": "pdyqAUiHJL2W"
    },
    {
      "cell_type": "code",
      "execution_count": null,
      "id": "f4960ea1-a1fd-4af9-a08b-2dc6210117af",
      "metadata": {
        "id": "f4960ea1-a1fd-4af9-a08b-2dc6210117af",
        "tags": []
      },
      "outputs": [],
      "source": [
        "transactions.select(pl.col(\"AMOUNT\").sum()).collect()"
      ]
    },
    {
      "cell_type": "markdown",
      "id": "fd4a8068-5e43-4188-b268-1358af945048",
      "metadata": {
        "id": "fd4a8068-5e43-4188-b268-1358af945048"
      },
      "source": [
        "Looks like we're handling a high total transaction volume. Let's run the same query on the GPU.\n",
        "\n",
        "To use a GPU, we just need to tell Polars to use the GPU engine when we call `collect` by passing `engine=\"gpu\"` as a parameter.\n",
        "\n",
        "\n",
        "```python\n",
        "transactions.select(pl.col(\"AMOUNT\").sum()).collect(engine=\"gpu\")\n",
        "```\n",
        "\n",
        "The default configuration is likely the right choice for most workloads, but sometimes we want more control. We can provide more detailed configuration options (such as which device to run on and a variety of other options) by passing a Polars `GPUEngine` object to the `engine` parameter instead.\n",
        "\n",
        "\n",
        "In this notebook, we'll use `pl.GPUEngine`. The default configuration has transparent CPU fallback for unsupported operations, so if we execute an unsupported query we don't get an error. To prove we're running on the GPU, we'll pass a configured engine object that will raise an error if we can't run the query.\n",
        "\n",
        "_If you're running with [jupyterlab-nvdashboard](https://developer.nvidia.com/blog/maximize-gpu-performance-with-near-real-time-usage-stats-on-nvdashboard-v0-10/) you should see the GPU Memory and Utilization tick up._"
      ]
    },
    {
      "cell_type": "markdown",
      "source": [
        "🤓\n",
        "\n",
        "996 / 5.000\n",
        "Parece que estamos manejando un volumen de transacción total alto. Ejecutemos la misma consulta en la GPU.\n",
        "\n",
        "Para usar una GPU, solo necesitamos indicarle a los polares que usen el motor GPU cuando llamamos a recolectar el motor = \"GPU\" como parámetro.\n",
        "\n",
        "transacciones.select (pl.col (\"cantidad\"). Sum ()). Collect (Engine = \"GPU\")\n",
        "La configuración predeterminada es probablemente la opción correcta para la mayoría de las cargas de trabajo, pero a veces queremos más control. Podemos proporcionar opciones de configuración más detalladas (como qué dispositivo ejecutar y una variedad de otras opciones) pasando un objeto Polar GpuEngine al parámetro del motor.\n",
        "\n",
        "En este cuaderno, usaremos pl.gpuEngine. La configuración predeterminada tiene alternativa de CPU transparente para operaciones no compatibles, por lo que si ejecutamos una consulta no compatible, no recibimos un error. Para demostrar que nos estamos ejecutando en la GPU, pasaremos un objeto de motor configurado que aumentará un error si no podemos ejecutar la consulta.\n",
        "\n",
        "Si estás ejecutando con JupyterLab-NvDashboard, deberías ver la memoria de GPU y la utilización marcada.\n",
        "Enviar comentarios\n"
      ],
      "metadata": {
        "id": "USmIR9wxLbLg"
      },
      "id": "USmIR9wxLbLg"
    },
    {
      "cell_type": "code",
      "execution_count": null,
      "id": "308471b8-1086-470c-ac32-95e8af55fc9a",
      "metadata": {
        "id": "308471b8-1086-470c-ac32-95e8af55fc9a"
      },
      "outputs": [],
      "source": [
        "gpu_engine = pl.GPUEngine(\n",
        "    device=0, # This is the default\n",
        "    raise_on_fail=True, # Fail loudly if we can't run on the GPU.\n",
        ")"
      ]
    },
    {
      "cell_type": "markdown",
      "id": "9b96dc10-65b0-4399-a09e-bf6e0c94438c",
      "metadata": {
        "id": "9b96dc10-65b0-4399-a09e-bf6e0c94438c"
      },
      "source": [
        "The very first collection on the GPU will take a couple of seconds. The GPU engine is lazy-loaded so that even if the necessary packages are installed, Polars' fast import times are not affected. Consequently, when we trigger GPU execution for the first time, we load a number of additional packages, and initialize GPU-specific data structures and contexts."
      ]
    },
    {
      "cell_type": "markdown",
      "source": [
        "La primera colección en la GPU tomará un par de segundos. El motor GPU está cargado de perezoso para que incluso si se instalan los paquetes necesarios, los rápidos tiempos de importación de Polars no se ven afectados. En consecuencia, cuando activamos la ejecución de GPU por primera vez, cargamos una serie de paquetes adicionales e inicializamos las estructuras y contextos de datos específicos de GPU."
      ],
      "metadata": {
        "id": "Qt0ljTR5Lufo"
      },
      "id": "Qt0ljTR5Lufo"
    },
    {
      "cell_type": "code",
      "source": [
        "transactions.select(pl.col(\"AMOUNT\").sum()).collect()"
      ],
      "metadata": {
        "id": "w-WZO-iAoTxc"
      },
      "id": "w-WZO-iAoTxc",
      "execution_count": null,
      "outputs": []
    },
    {
      "cell_type": "code",
      "execution_count": null,
      "id": "986c74e0-94b7-48e4-9921-fb2a17a252f5",
      "metadata": {
        "id": "986c74e0-94b7-48e4-9921-fb2a17a252f5"
      },
      "outputs": [],
      "source": [
        "transactions.select(pl.col(\"AMOUNT\").sum()).collect()"
      ]
    },
    {
      "cell_type": "markdown",
      "id": "e87175dd-e11c-4146-92ae-4afd3417071b",
      "metadata": {
        "id": "e87175dd-e11c-4146-92ae-4afd3417071b"
      },
      "source": [
        "We probably don't need a GPU for such a simple operation on this dataset. But when we start doing more complex analysis, the high-bandwidth memory and compute power of GPUs will make things much more interactive."
      ]
    },
    {
      "cell_type": "markdown",
      "source": [
        "Probablemente no necesitemos una GPU para una operación tan simple en este conjunto de datos. Pero cuando comenzamos a hacer un análisis más complejo, la memoria de alto ancho de banda y el poder de calcular de las GPU hará que las cosas sean mucho más interactivas."
      ],
      "metadata": {
        "id": "bh6S_1TpLnOo"
      },
      "id": "bh6S_1TpLnOo"
    },
    {
      "cell_type": "markdown",
      "id": "30466c12-ab87-4800-9bbb-5207197bb444",
      "metadata": {
        "id": "30466c12-ab87-4800-9bbb-5207197bb444"
      },
      "source": [
        "# More Complex Analysis"
      ]
    },
    {
      "cell_type": "markdown",
      "id": "c715ceee-36ea-4b0f-a826-882afaddf23c",
      "metadata": {
        "id": "c715ceee-36ea-4b0f-a826-882afaddf23c"
      },
      "source": [
        "While the data is synthetic, it's representative of the kinds of datasets that come up in financial services, retail/e-commerce, consumer internet, and other industries.\n",
        "\n",
        "With this data, we can see how using GPU-accelerated Polars provides a significant productivity boosts by exploring common business questions like:\n",
        "\n",
        "1. Which customers have the largest total transctions?\n",
        "2. What's the per-month transaction amount for each spending category over time?\n",
        "3. How does weather effect the transactions for each category?\n",
        "\n",
        "Because this data is synthentic, the results won't be meaningful in terms of business conclusions. Rather, we are motivating _why_ using this GPU engine is useful in terms of perfomance and cost reduction. We'll prove that the CPU and GPU engine get the same results in the first example, but as we move throughout the notebook we'll take this for granted and focus on CPU and GPU timings.\n",
        "\n",
        "Let's start with our first question."
      ]
    },
    {
      "cell_type": "markdown",
      "source": [
        "Si bien los datos son sintéticos, es representativo de los tipos de conjuntos de datos que surgen en servicios financieros, comercio minorista/e-comercio, Internet de consumo y otras industrias.\n",
        "\n",
        "Con estos datos, podemos ver cómo el uso de polares acelerados con GPU proporciona un aumento significativo de la productividad al explorar preguntas comerciales comunes como:\n",
        "\n",
        "¿Qué clientes tienen las trascciones totales más grandes?\n",
        "¿Cuál es el monto de la transacción por mes para cada categoría de gastos con el tiempo?\n",
        "¿Cómo afecta el clima las transacciones para cada categoría?\n",
        "Debido a que estos datos son sinténticos, los resultados no serán significativos en términos de conclusiones comerciales. Más bien, estamos motivando por qué usar este motor GPU es útil en términos de perfomencia y reducción de costos. Probaremos que la CPU y el motor GPU obtienen los mismos resultados en el primer ejemplo, pero a medida que avanzamos a lo largo del cuaderno, daremos esto por sentado y nos enfocaremos en los tiempos de CPU y GPU.\n",
        "\n",
        "Comencemos con nuestra primera pregunta.\n"
      ],
      "metadata": {
        "id": "pRe9sSs-MQF1"
      },
      "id": "pRe9sSs-MQF1"
    },
    {
      "cell_type": "markdown",
      "id": "d0ff0679-e562-437c-b5e8-882c88e04393",
      "metadata": {
        "id": "d0ff0679-e562-437c-b5e8-882c88e04393"
      },
      "source": [
        "## Which customers have the largest total transactions?"
      ]
    },
    {
      "cell_type": "code",
      "execution_count": null,
      "id": "7ac30d66-a58b-4b72-83d6-99c0646b9e3c",
      "metadata": {
        "id": "7ac30d66-a58b-4b72-83d6-99c0646b9e3c"
      },
      "outputs": [],
      "source": [
        "%%time\n",
        "\n",
        "res_cpu = (\n",
        "    transactions\n",
        "    .group_by(\"CUST_ID\")\n",
        "    .agg(pl.col(\"AMOUNT\").sum())\n",
        "    .sort(by=\"AMOUNT\", descending=True)\n",
        "    .head()\n",
        "    .collect()\n",
        ")\n",
        "res_cpu"
      ]
    },
    {
      "cell_type": "code",
      "execution_count": null,
      "id": "3c67acfc-531f-49a2-8485-b665d33468a7",
      "metadata": {
        "id": "3c67acfc-531f-49a2-8485-b665d33468a7"
      },
      "outputs": [],
      "source": [
        "%%time\n",
        "\n",
        "res_gpu = (\n",
        "    transactions\n",
        "    .group_by(\"CUST_ID\")\n",
        "    .agg(pl.col(\"AMOUNT\").sum())\n",
        "    .sort(by=\"AMOUNT\", descending=True)\n",
        "    .head()\n",
        "    .collect()\n",
        ")\n",
        "res_gpu"
      ]
    },
    {
      "cell_type": "code",
      "execution_count": null,
      "id": "03c876f1-495b-4cf9-ad4c-0a16ed53ce32",
      "metadata": {
        "id": "03c876f1-495b-4cf9-ad4c-0a16ed53ce32"
      },
      "outputs": [],
      "source": [
        "assert_frame_equal(res_cpu, res_gpu)"
      ]
    },
    {
      "cell_type": "markdown",
      "id": "3ec2e276-6ed2-47f2-b968-85586896a854",
      "metadata": {
        "id": "3ec2e276-6ed2-47f2-b968-85586896a854"
      },
      "source": [
        "Great! We see a nice performance gain when using the GPU engine and we've confirmed the results are equal."
      ]
    },
    {
      "cell_type": "markdown",
      "id": "4acabf65-ee3f-4e88-9d05-206c776bcb3d",
      "metadata": {
        "id": "4acabf65-ee3f-4e88-9d05-206c776bcb3d"
      },
      "source": [
        "In addition to the Dataframe interface, Polars also has an SQL interface. We can also use this with the GPU engine, since Polars translates both the DataFrame and SQL interfaces into a query execution plan."
      ]
    },
    {
      "cell_type": "markdown",
      "source": [
        "¡Excelente! Vemos una buena ganancia de rendimiento al usar el motor GPU y hemos confirmado que los resultados son iguales.\n",
        "\n",
        "Además de la interfaz DataFrame, Polars también tiene una interfaz SQL. También podemos usar esto con el motor GPU, ya que Polars traduce las interfaces DataFrame y SQL en un plan de ejecución de consultas."
      ],
      "metadata": {
        "id": "FyhLT7DRMdyv"
      },
      "id": "FyhLT7DRMdyv"
    },
    {
      "cell_type": "markdown",
      "source": [
        "¡Excelente! Vemos una buena ganancia de rendimiento al usar el motor GPU y hemos confirmado que los resultados son iguales.\n",
        "\n",
        "Además de la interfaz DataFrame, Polars también tiene una interfaz SQL. También podemos usar esto con el motor GPU, ya que Polars traduce las interfaces DataFrame y SQL en un plan de ejecución de consultas.\n",
        "\n",
        "¡Excelente! Vemos una Buena Ganancia de Rendimiento Al Usar El Motor Gpu y Hemos Confirmado Que Los Resultados Son IGuales.\n",
        "\n",
        "Además de la Interfaz DataFrame, Polars También Tiene una Interfaz SQL. También Podemos USAR ESTO CON EL MOTOR GPU, YA QE POLARS CRODUCE LAS Interfaces DataFrame y Sql en Un Plan de Ejecución de Consultas.\n"
      ],
      "metadata": {
        "id": "HkQK1FcUNUdX"
      },
      "id": "HkQK1FcUNUdX"
    },
    {
      "cell_type": "code",
      "source": [
        "import polars as pl\n",
        "\n",
        "query = \"\"\"\n",
        "SELECT CUST_ID, SUM(AMOUNT) as sum_amt\n",
        "FROM transactions\n",
        "GROUP BY CUST_ID\n",
        "ORDER BY sum_amt desc\n",
        "LIMIT 5\n",
        "\"\"\"\n",
        "\n",
        "# Try collecting without the GPU engine first\n",
        "print(pl.sql(query).collect())\n",
        "\n",
        "# If successful, try collecting with the GPU engine but disable optimizations\n",
        "print(pl.sql(query).collect()) # Disable optimizations to see if it helps"
      ],
      "metadata": {
        "id": "4wbF8WEaNmSJ"
      },
      "id": "4wbF8WEaNmSJ",
      "execution_count": null,
      "outputs": []
    },
    {
      "cell_type": "code",
      "execution_count": null,
      "id": "5b9a25d0-f777-4bb9-9c74-e15690675938",
      "metadata": {
        "id": "5b9a25d0-f777-4bb9-9c74-e15690675938"
      },
      "outputs": [],
      "source": [
        "query = \"\"\"\n",
        "SELECT CUST_ID, SUM(AMOUNT) as sum_amt\n",
        "FROM transactions\n",
        "GROUP BY CUST_ID\n",
        "ORDER BY sum_amt desc\n",
        "LIMIT 5\n",
        "\"\"\"\n",
        "\n",
        "%time pl.sql(query).collect()\n",
        "%time pl.sql(query).collect()"
      ]
    },
    {
      "cell_type": "markdown",
      "id": "27c9efa0-1c69-4039-8a7b-7a55cb1ecf78",
      "metadata": {
        "id": "27c9efa0-1c69-4039-8a7b-7a55cb1ecf78"
      },
      "source": [
        "## Which customers have the largest single transaction?\n",
        "\n",
        "Customer `CP2KXQSX9I` had the largest total transactions over time (on the full dataset), but they might not have the largest single transaction. Let's find the top customers by single transaction amount."
      ]
    },
    {
      "cell_type": "markdown",
      "source": [
        "¿Qué clientes tienen la transacción individual más grande?\n",
        "El cliente CP2KXQSX9I tuvo las transacciones totales más grandes con el tiempo (en el conjunto de datos completo), pero podrían no tener la transacción única más grande. Encontremos los mejores clientes por cantidad de transacción única."
      ],
      "metadata": {
        "id": "pb13ZEg7MlE7"
      },
      "id": "pb13ZEg7MlE7"
    },
    {
      "cell_type": "code",
      "execution_count": null,
      "id": "b26080e3-9b35-45cc-8a7e-c78926467ae8",
      "metadata": {
        "id": "b26080e3-9b35-45cc-8a7e-c78926467ae8"
      },
      "outputs": [],
      "source": [
        "%%time\n",
        "\n",
        "(\n",
        "    transactions\n",
        "    .group_by(\"CUST_ID\")\n",
        "    .agg(pl.col(\"AMOUNT\").max().alias(\"max_amount\"))\n",
        "    .sort(by=\"max_amount\", descending=True)\n",
        "    .head()\n",
        "    .collect()\n",
        ")"
      ]
    },
    {
      "cell_type": "code",
      "execution_count": null,
      "id": "c696b693-fb50-4336-b06e-ca137ffb8897",
      "metadata": {
        "id": "c696b693-fb50-4336-b06e-ca137ffb8897"
      },
      "outputs": [],
      "source": [
        "%%time\n",
        "\n",
        "(\n",
        "    transactions\n",
        "    .group_by(\"CUST_ID\")\n",
        "    .agg(pl.col(\"AMOUNT\").max().alias(\"max_amount\"))\n",
        "    .sort(by=\"max_amount\", descending=True)\n",
        "    .head()\n",
        "    .collect())\n"
      ]
    },
    {
      "cell_type": "markdown",
      "id": "7080def6-d4e5-408c-8c8b-83a0895b0c3b",
      "metadata": {
        "id": "7080def6-d4e5-408c-8c8b-83a0895b0c3b"
      },
      "source": [
        "Again, we see a nice speedup using the GPU engine."
      ]
    },
    {
      "cell_type": "markdown",
      "id": "d0f33dad-b5f3-446d-a63e-95d907ab1cc8",
      "metadata": {
        "id": "d0f33dad-b5f3-446d-a63e-95d907ab1cc8"
      },
      "source": [
        "## Investigating a specific customer\n",
        "\n",
        "Let's explore the transactions of a single customer now. What was `CIP0I11MG2`'s largest transaction?"
      ]
    },
    {
      "cell_type": "markdown",
      "source": [
        "Nuevamente, vemos una buena aceleración usando el motor GPU.\n",
        "\n",
        "Investigar un cliente específico\n",
        "Exploremos las transacciones de un solo cliente ahora. ¿Cuál fue la transacción más grande de CIP0I11MG2?"
      ],
      "metadata": {
        "id": "KQMizHomMpK4"
      },
      "id": "KQMizHomMpK4"
    },
    {
      "cell_type": "code",
      "execution_count": null,
      "id": "048e08be-5e30-41fa-a344-e2eb46e0085c",
      "metadata": {
        "id": "048e08be-5e30-41fa-a344-e2eb46e0085c"
      },
      "outputs": [],
      "source": [
        "%%time\n",
        "\n",
        "(\n",
        "    transactions\n",
        "    .filter(pl.col(\"CUST_ID\") == \"CIP0I11MG2\")\n",
        "    .select(pl.col(\"AMOUNT\").max())\n",
        "    .collect()\n",
        ")"
      ]
    },
    {
      "cell_type": "code",
      "source": [
        "!pip install altair==5.4.0"
      ],
      "metadata": {
        "id": "Suold7fcapu6"
      },
      "id": "Suold7fcapu6",
      "execution_count": null,
      "outputs": []
    },
    {
      "cell_type": "code",
      "source": [
        "import altair as alt"
      ],
      "metadata": {
        "id": "eTuwxHjWaz4X"
      },
      "id": "eTuwxHjWaz4X",
      "execution_count": null,
      "outputs": []
    },
    {
      "cell_type": "code",
      "source": [
        "import polars as pl\n",
        "import plotly.express as px\n",
        "\n",
        "# Assuming 'transactions' is your Polars DataFrame\n",
        "filtered_data = transactions.filter(pl.col(\"CUST_ID\") == \"CIP0I11MG2\")\n",
        "max_amount = filtered_data.select(pl.col(\"AMOUNT\").max()).collect()[0, 0]\n",
        "\n",
        "# Create a new Polars DataFrame with the maximum amount repeated\n",
        "histogram_data = pl.DataFrame({\"AMOUNT\": [max_amount] * 1000})  # Adjust the number of repetitions as needed\n",
        "\n",
        "# Convert to Pandas DataFrame\n",
        "pandas_df = histogram_data.to_pandas()\n",
        "\n",
        "# Create the histogram using Plotly\n",
        "fig = px.histogram(pandas_df, x=\"AMOUNT\", nbins=20, title=\"Histogram of Maximum Amounts for CUST_ID 'CIP0I11MG2'\")\n",
        "fig.show()"
      ],
      "metadata": {
        "id": "KGNGgiZVbk1y"
      },
      "id": "KGNGgiZVbk1y",
      "execution_count": null,
      "outputs": []
    },
    {
      "cell_type": "code",
      "execution_count": null,
      "id": "95a01a3d-f400-4439-b30b-09860439058a",
      "metadata": {
        "id": "95a01a3d-f400-4439-b30b-09860439058a"
      },
      "outputs": [],
      "source": [
        "%%time\n",
        "\n",
        "(\n",
        "    transactions\n",
        "    .filter(pl.col(\"CUST_ID\") == \"CIP0I11MG2\")\n",
        "    .select(pl.col(\"AMOUNT\").max())\n",
        "    .collect().alt.hist()\n",
        ")"
      ]
    },
    {
      "cell_type": "markdown",
      "id": "fc6b01b0-13ec-4dcc-bd8e-26f193a54d21",
      "metadata": {
        "id": "fc6b01b0-13ec-4dcc-bd8e-26f193a54d21"
      },
      "source": [
        "### Sidebar: Why was performance using the CPU and GPU engines similar for this query?"
      ]
    },
    {
      "cell_type": "markdown",
      "id": "b1a705fe-bb1e-440e-ad5a-829e68971298",
      "metadata": {
        "id": "b1a705fe-bb1e-440e-ad5a-829e68971298"
      },
      "source": [
        "What we've seen so far is that, for many common queries, we see significant performance increases when we use the GPU. But for this last one, things were more similar.\n",
        "\n",
        "Using Polars on a GPU isn't **always** a surefire winner in terms of speed compared to Polars on a CPU. For simple queries that aren't computationally heavy, like the last query, we're often limited by the speed that we can read results from disk.\n",
        "\n",
        "Let's confirm this by profiling."
      ]
    },
    {
      "cell_type": "markdown",
      "source": [
        "Barra lateral: ¿Por qué el rendimiento utilizaba los motores CPU y GPU similar para esta consulta?\n",
        "Lo que hemos visto hasta ahora es que, para muchas consultas comunes, vemos aumentos significativos de rendimiento cuando usamos la GPU. Pero para este último, las cosas fueron más similares.\n",
        "\n",
        "El uso de polares en una GPU no siempre es un ganador seguro en términos de velocidad en comparación con los polares en una CPU. Para consultas simples que no son computacionalmente pesadas, como la última consulta, a menudo estamos limitados por la velocidad que podemos leer los resultados del disco.\n",
        "\n",
        "Confirmemos esto mediante el perfil.\n"
      ],
      "metadata": {
        "id": "MSXDBlKQMtYs"
      },
      "id": "MSXDBlKQMtYs"
    },
    {
      "cell_type": "code",
      "execution_count": null,
      "id": "85acb8c5-4965-4b3d-bda6-cc484bae765a",
      "metadata": {
        "id": "85acb8c5-4965-4b3d-bda6-cc484bae765a"
      },
      "outputs": [],
      "source": [
        "res, prof = (\n",
        "    transactions\n",
        "    .filter(pl.col(\"CUST_ID\") == \"CIP0I11MG2\")\n",
        "    .select(pl.col(\"AMOUNT\").max())\n",
        "    .profile()\n",
        ")\n",
        "\n",
        "prof.with_columns(\n",
        "    ((pl.col(\"end\") - pl.col(\"start\")) / pl.col(\"end\").max() * 100)\n",
        "    .alias(\"pct_time_spent\")\n",
        ")"
      ]
    },
    {
      "cell_type": "markdown",
      "id": "920ecf53-726a-467b-9493-c86cfab66e74",
      "metadata": {
        "id": "920ecf53-726a-467b-9493-c86cfab66e74"
      },
      "source": [
        "We spent 99.9%+ of the time just reading the data. Polars can use the GPU-accelerated Parquet reader to read this data, but ultimately when we're **IO bound** like this, there's less opportunity for GPU-acceleration.\n",
        "\n",
        "Let's try an even more computationally intense query."
      ]
    },
    {
      "cell_type": "markdown",
      "source": [
        "Gastamos más del 99.9%de las veces solo leyendo los datos. Los polares pueden usar el lector de parquet acelerado por GPU para leer estos datos, pero en última instancia, cuando estamos atados a IO así, hay menos oportunidades para la aceleración de GPU.\n",
        "\n",
        "Intentemos una consulta aún más intensa computacionalmente."
      ],
      "metadata": {
        "id": "XgJ20ivXMytB"
      },
      "id": "XgJ20ivXMytB"
    },
    {
      "cell_type": "markdown",
      "id": "3967525b-00da-488f-beba-6c14b74371de",
      "metadata": {
        "id": "3967525b-00da-488f-beba-6c14b74371de"
      },
      "source": [
        "## What's the per-month transaction amount for each category over time?\n",
        "\n",
        "For this query, we'll group and sort down to the individual month, which takes more work."
      ]
    },
    {
      "cell_type": "markdown",
      "source": [
        "¿Cuál es el monto de la transacción por mes para cada categoría con el tiempo?\n",
        "Para esta consulta, agruparemos y clasificaremos al mes individual, lo que requiere más trabajo."
      ],
      "metadata": {
        "id": "-Yd6aB8uM3H6"
      },
      "id": "-Yd6aB8uM3H6"
    },
    {
      "cell_type": "code",
      "execution_count": null,
      "id": "c40ca24a-abfd-4652-afe6-2d709f07d038",
      "metadata": {
        "id": "c40ca24a-abfd-4652-afe6-2d709f07d038"
      },
      "outputs": [],
      "source": [
        "%%time\n",
        "\n",
        "res = (\n",
        "    transactions\n",
        "    .group_by([\"EXP_TYPE\", \"YEAR\", \"MONTH\"])\n",
        "    .agg(pl.mean(\"AMOUNT\"))\n",
        "    .sort([\"EXP_TYPE\", \"YEAR\", \"MONTH\"])\n",
        "    .collect()\n",
        ")"
      ]
    },
    {
      "cell_type": "code",
      "execution_count": null,
      "id": "a4810ebe-41b1-46f3-b3a6-9b4ffd9ad4f3",
      "metadata": {
        "id": "a4810ebe-41b1-46f3-b3a6-9b4ffd9ad4f3"
      },
      "outputs": [],
      "source": [
        "%%time\n",
        "\n",
        "res = (\n",
        "    transactions\n",
        "    .group_by([\"EXP_TYPE\", \"YEAR\", \"MONTH\"])\n",
        "    .agg(pl.mean(\"AMOUNT\"))\n",
        "    .sort([\"EXP_TYPE\", \"YEAR\", \"MONTH\"])\n",
        "    .collect(engine=gpu_engine)\n",
        ")"
      ]
    },
    {
      "cell_type": "markdown",
      "id": "9f5c9e6e-de8f-4b62-8799-e39dfc9ce61e",
      "metadata": {
        "id": "9f5c9e6e-de8f-4b62-8799-e39dfc9ce61e"
      },
      "source": [
        "Again, since this query does more work we see strong performance benefits on the GPU."
      ]
    },
    {
      "cell_type": "markdown",
      "id": "a50c5318-0aa7-46be-b0e0-e98f7306ead4",
      "metadata": {
        "id": "a50c5318-0aa7-46be-b0e0-e98f7306ead4"
      },
      "source": [
        "## Interoperability\n",
        "\n",
        "As mentioned in the introduction, all results will be materialized as standard CPU Polars DataFrames.\n",
        "\n",
        "That means that any results from GPU-accelerated queries interoperate seamlessly with the rest of the polars ecosystem. For example, we can use Polars' built-in plotting functionality on the result we created from the GPU engine.\n",
        "\n",
        "**Colab Note**: Using HoloViews/Bokeh in Colab is not fully supported, so plots may not render correctly."
      ]
    },
    {
      "cell_type": "markdown",
      "source": [
        "Nuevamente, dado que esta consulta hace más trabajo, vemos fuertes beneficios de rendimiento en la GPU.\n",
        "\n",
        "Interoperabilidad\n",
        "Como se mencionó en la introducción, todos los resultados se materializarán como marcos de datos de Polars de CPU estándar.\n",
        "\n",
        "Eso significa que cualquier resultado de consultas aceleradas por GPU interopere a la perfección con el resto del ecosistema Polars. Por ejemplo, podemos usar la funcionalidad de trazado incorporada de Polars en el resultado que creamos desde el motor GPU.\n",
        "\n",
        "Nota de Colab: El uso de Holoviews/Bokeh en Colab no es completamente compatible, por lo que las tramas pueden no rendir correctamente.\n"
      ],
      "metadata": {
        "id": "n4p4yS45M_bj"
      },
      "id": "n4p4yS45M_bj"
    },
    {
      "cell_type": "code",
      "execution_count": null,
      "id": "27802e3a-0fe8-4642-a7fd-9b00f709181d",
      "metadata": {
        "id": "27802e3a-0fe8-4642-a7fd-9b00f709181d"
      },
      "outputs": [],
      "source": [
        "res = res.with_columns(\n",
        "    pl.datetime(pl.col(\"YEAR\"), pl.col(\"MONTH\"), day=1)\n",
        "    .alias(\"year-mon\")\n",
        ")\n",
        "\n",
        "res.hvplot.scatter(x=\"year-mon\", y=\"AMOUNT\", by=\"EXP_TYPE\")"
      ]
    },
    {
      "cell_type": "code",
      "execution_count": null,
      "id": "ZbOWHP_YY3Am",
      "metadata": {
        "id": "ZbOWHP_YY3Am"
      },
      "outputs": [],
      "source": [
        "res"
      ]
    },
    {
      "cell_type": "markdown",
      "id": "649143e3-cd2c-4f4b-9fb0-120c395beb41",
      "metadata": {
        "id": "649143e3-cd2c-4f4b-9fb0-120c395beb41"
      },
      "source": [
        "Interoperability goes in the other direction, too. We can use materialized CPU DataFrames in downstream operations on the GPU. Polars will handle any necessary CPU/GPU conversions for us, which we'll see shortly."
      ]
    },
    {
      "cell_type": "markdown",
      "id": "6adda121-d709-4f4d-abc2-66e8f056873e",
      "metadata": {
        "id": "6adda121-d709-4f4d-abc2-66e8f056873e"
      },
      "source": [
        "# Moving Beyond Our Single Dataset\n",
        "\n",
        "Let's bring in some weather data to evaluate if transactions are impacted by weather. For example, spending behavior for certain categories could be influenced by whether it's raining or even _how much_ it's raining.\n",
        "\n",
        "Like our transactions dataset, here we'll use a simulated rainfall dataset."
      ]
    },
    {
      "cell_type": "markdown",
      "id": "cba0ded1-05bd-4bc4-9e87-70db2231fe92",
      "metadata": {
        "id": "cba0ded1-05bd-4bc4-9e87-70db2231fe92"
      },
      "source": [
        "## Is more rain related to more transactions across specific categories?\n",
        "\n",
        "Our rainfall dataset is a CSV file, so we'll use the CSV reader here and take a look at a few rows.\n",
        "\n",
        "In this case, we'll load the data using the CPU to highlight how smoothly Polars handles mixing CPU and GPU objects."
      ]
    },
    {
      "cell_type": "markdown",
      "source": [
        "La interoperabilidad también va en la otra dirección. Podemos usar los marcos de datos de CPU materializados en las operaciones aguas abajo en la GPU. Los polares manejarán las conversiones de CPU/GPU necesarias para nosotros, que veremos en breve.\n",
        "\n",
        "Ir más allá de nuestro conjunto de datos único\n",
        "Traemos algunos datos meteorológicos para evaluar si las transacciones se ven afectadas por el clima. Por ejemplo, el comportamiento del gasto para ciertas categorías podría verse influenciado por si lloven o incluso cuánto está lloviendo.\n",
        "\n",
        "Al igual que nuestro conjunto de datos de transacciones, aquí usaremos un conjunto de datos de lluvia simulada.\n",
        "\n",
        "¿Está más lluvia relacionada con más transacciones en categorías específicas?\n",
        "Nuestro conjunto de datos de lluvia es un archivo CSV, por lo que usaremos el lector CSV aquí y echaremos un vistazo a algunas filas.\n",
        "\n",
        "En este caso, cargaremos los datos utilizando la CPU para resaltar cómo los polares sin problemas manejan los objetos de CPU y GPU.\n"
      ],
      "metadata": {
        "id": "BHoa9g5LPI_E"
      },
      "id": "BHoa9g5LPI_E"
    },
    {
      "cell_type": "code",
      "execution_count": null,
      "id": "8756b895-59fb-42b6-8d85-2c38a69c06a0",
      "metadata": {
        "id": "8756b895-59fb-42b6-8d85-2c38a69c06a0"
      },
      "outputs": [],
      "source": [
        "names = ['Location', 'Rainfall (inches)', 'Date', 'YEAR', 'MONTH', 'DAY']\n",
        "\n",
        "weather = pl.scan_csv(\"rainfall_data_2010_2020.csv\", new_columns=names)\n",
        "weather.head().collect()"
      ]
    },
    {
      "cell_type": "markdown",
      "id": "412ce849-c518-4e70-a236-fb6077b0010a",
      "metadata": {
        "id": "412ce849-c518-4e70-a236-fb6077b0010a"
      },
      "source": [
        "Data is often messy. We've got dates in this CSV file, but they weren't parsed as dates by the CSV reader due to the format. We can easily clean this up by typecasting, after which we'll materialize the DataFrame in CPU memory."
      ]
    },
    {
      "cell_type": "markdown",
      "source": [
        "Los datos a menudo son complicados. Tenemos fechas en este archivo CSV, pero el lector de CSV no las analizó como fechas debido al formato. Podemos limpiarlo fácilmente esto mediante Typecasting, después de lo cual materializaremos el marco de datos en la memoria de la CPU."
      ],
      "metadata": {
        "id": "TAAQg4IFPNi1"
      },
      "id": "TAAQg4IFPNi1"
    },
    {
      "cell_type": "code",
      "execution_count": null,
      "id": "fc9f8525-d80c-430d-8baa-6bde0f1d7753",
      "metadata": {
        "id": "fc9f8525-d80c-430d-8baa-6bde0f1d7753"
      },
      "outputs": [],
      "source": [
        "weather_cleaned = (\n",
        "    weather\n",
        "    .with_columns(pl.col(\"Date\").cast(pl.Utf8).str.strptime(pl.Date(), \"%Y%m%d\"))\n",
        "    .collect()\n",
        ")"
      ]
    },
    {
      "cell_type": "markdown",
      "id": "e0e84402-6b5d-4a2b-878e-cd72a0613fb1",
      "metadata": {
        "id": "e0e84402-6b5d-4a2b-878e-cd72a0613fb1"
      },
      "source": [
        "To answer the original question about rainfall and spending, we need to join these datasets together.\n",
        "\n",
        "We can pass this CPU in-memory DataFrame to a Polars Lazy API query by calling `.lazy()`."
      ]
    },
    {
      "cell_type": "markdown",
      "source": [
        "Para responder a la pregunta original sobre lluvia y gastos, necesitamos unir estos conjuntos de datos juntos.\n",
        "\n",
        "Podemos pasar esta CPU en la memoria de datos a una consulta de la API Lazy de Polars llamando a .lazy ()."
      ],
      "metadata": {
        "id": "tX-WL9WEPRtN"
      },
      "id": "tX-WL9WEPRtN"
    },
    {
      "cell_type": "code",
      "execution_count": null,
      "id": "899d0901-a4f5-4f08-87dc-90464c15796f",
      "metadata": {
        "id": "899d0901-a4f5-4f08-87dc-90464c15796f"
      },
      "outputs": [],
      "source": [
        "%%time\n",
        "\n",
        "(\n",
        "    transactions\n",
        "    .join(\n",
        "        other=weather_cleaned.lazy(),\n",
        "        left_on=\"DATE\",\n",
        "        right_on=\"Date\",\n",
        "        how=\"inner\"\n",
        "    )\n",
        "    .group_by([\"EXP_TYPE\", \"DATE\"])\n",
        "    .agg(pl.mean(\"Rainfall (inches)\"))\n",
        "    .sort([\"DATE\", \"EXP_TYPE\", \"Rainfall (inches)\"])\n",
        "    .head()\n",
        "    .collect()\n",
        ")"
      ]
    },
    {
      "cell_type": "markdown",
      "id": "8d45dbf4-cc57-4b4a-a8bd-4877c9044c64",
      "metadata": {
        "id": "8d45dbf4-cc57-4b4a-a8bd-4877c9044c64"
      },
      "source": [
        "When we run the same query on the GPU, Polars handles the CPU / GPU transfers for us under the hood."
      ]
    },
    {
      "cell_type": "markdown",
      "source": [
        "Cuando ejecutamos la misma consulta en la GPU, Polars maneja las transferencias CPU / GPU para nosotros debajo del capó."
      ],
      "metadata": {
        "id": "T-poztZiPVWe"
      },
      "id": "T-poztZiPVWe"
    },
    {
      "cell_type": "code",
      "execution_count": null,
      "id": "1d959209-4803-4c31-8f22-1fda809ca1d0",
      "metadata": {
        "id": "1d959209-4803-4c31-8f22-1fda809ca1d0"
      },
      "outputs": [],
      "source": [
        "%%time\n",
        "\n",
        "(\n",
        "    transactions\n",
        "    .join(\n",
        "        other=weather_cleaned.lazy(),\n",
        "        left_on=\"DATE\",\n",
        "        right_on=\"Date\",\n",
        "        how=\"inner\"\n",
        "    )\n",
        "    .group_by([\"EXP_TYPE\", \"DATE\"])\n",
        "    .agg(pl.mean(\"Rainfall (inches)\"))\n",
        "    .sort([\"DATE\", \"EXP_TYPE\", \"Rainfall (inches)\"])\n",
        "    .head()\n",
        "    .collect(engine=gpu_engine)\n",
        ")"
      ]
    },
    {
      "cell_type": "markdown",
      "id": "4a91bde7-5366-4843-9103-1a8067605d97",
      "metadata": {
        "id": "4a91bde7-5366-4843-9103-1a8067605d97"
      },
      "source": [
        "Let's demonstrate some more of the native plotting facilities in Polars by answering the question in more holistic fashion.\n",
        "\n",
        "We'll make a plot of total rainfall and total amount spent per month for each year and each type of expenditure."
      ]
    },
    {
      "cell_type": "markdown",
      "source": [
        "Demostremos algunas más de las instalaciones de trama nativas en polares respondiendo la pregunta de manera más holística.\n",
        "\n",
        "Haremos una parcela de lluvia total y la cantidad total gastada por mes por cada año y cada tipo de gastos."
      ],
      "metadata": {
        "id": "uUhF0Ce1PbHf"
      },
      "id": "uUhF0Ce1PbHf"
    },
    {
      "cell_type": "code",
      "execution_count": null,
      "id": "96d4bdd5-1513-4ab9-8706-8efe69697c89",
      "metadata": {
        "id": "96d4bdd5-1513-4ab9-8706-8efe69697c89"
      },
      "outputs": [],
      "source": [
        "res = (\n",
        "    transactions\n",
        "    .join(\n",
        "        other=weather_cleaned.lazy(),\n",
        "        left_on=\"DATE\",\n",
        "        right_on=\"Date\",\n",
        "        how=\"inner\"\n",
        "    )\n",
        "    .group_by([\"EXP_TYPE\", \"YEAR\", \"MONTH\"])\n",
        "    .agg(pl.sum(\"Rainfall (inches)\"), pl.sum(\"AMOUNT\"))\n",
        "    .sort([\"YEAR\", \"MONTH\"])\n",
        "    .collect(engine=gpu_engine)\n",
        ")\n",
        "\n",
        "res"
      ]
    },
    {
      "cell_type": "code",
      "execution_count": null,
      "id": "af3df206-7379-409d-b0c1-e03b04c09a4c",
      "metadata": {
        "id": "af3df206-7379-409d-b0c1-e03b04c09a4c"
      },
      "outputs": [],
      "source": [
        "(\n",
        "    res\n",
        "    .with_columns(\n",
        "        pl.date(pl.col(\"YEAR\"), pl.col(\"MONTH\"), 1).alias(\"date-month\"),\n",
        "        pl.col(\"Rainfall (inches)\")*100,\n",
        "    )\n",
        "    .hvplot.line(\n",
        "        x=\"date-month\", y=[\"AMOUNT\", \"Rainfall (inches)\"],\n",
        "        by=['EXP_TYPE'],\n",
        "        rot=45,\n",
        "    )\n",
        ")"
      ]
    },
    {
      "cell_type": "markdown",
      "id": "1bf4c85a-c0d6-449a-afc0-9ddfa972a6f8",
      "metadata": {
        "id": "1bf4c85a-c0d6-449a-afc0-9ddfa972a6f8"
      },
      "source": [
        "We intially constructed the GPU engine with `raise_on_fail=True` to demonstrate the breadth of GPU support. Now, we'll demonstrate how a not yet GPU supported feature is handled gracefully when we set `raise_on_fail=False` (the default behavior for `engine=\"gpu\"`).\n",
        "\n",
        "When we use `rolling_mean`, our query smoothly falls back to the CPU to continue running rather than failing."
      ]
    },
    {
      "cell_type": "markdown",
      "source": [
        "Construimos intencionalmente el motor GPU con Raise_on_Fail = True para demostrar la amplitud del soporte de GPU. Ahora, demostraremos cómo una característica compatible con GPU aún no se maneja con gracia cuando establecemos Rais_on_Fail = False (el comportamiento predeterminado para Engine = \"GPU\").\n",
        "\n",
        "Cuando usamos Rolling_mean, nuestra consulta recae suavemente a la CPU para continuar funcionando en lugar de fallar."
      ],
      "metadata": {
        "id": "ik9jvQPT5rm3"
      },
      "id": "ik9jvQPT5rm3"
    },
    {
      "cell_type": "code",
      "execution_count": null,
      "id": "d981aadf-240e-4b42-bd07-923b36c2f74a",
      "metadata": {
        "id": "d981aadf-240e-4b42-bd07-923b36c2f74a"
      },
      "outputs": [],
      "source": [
        "engine_with_fallback = pl.GPUEngine(\n",
        "    device=0, # This is the default\n",
        "    raise_on_fail=False, # Fallback to CPU if we can't run on the GPU (this is the default)\n",
        ")"
      ]
    },
    {
      "cell_type": "code",
      "execution_count": null,
      "id": "242bd5cc-9aa3-4e9a-8095-c7c46cea5075",
      "metadata": {
        "id": "242bd5cc-9aa3-4e9a-8095-c7c46cea5075"
      },
      "outputs": [],
      "source": [
        "%%time\n",
        "\n",
        "result = transactions.with_columns(\n",
        "    pl.col('AMOUNT').rolling_mean(\n",
        "        window_size=7\n",
        "    )\n",
        "     .alias('rolling_avg')\n",
        ").collect(engine=engine_with_fallback)\n",
        "\n",
        "result.head()"
      ]
    },
    {
      "cell_type": "markdown",
      "id": "0f1117ca-8667-49d7-a97e-1e01d9b2aa4b",
      "metadata": {
        "id": "0f1117ca-8667-49d7-a97e-1e01d9b2aa4b"
      },
      "source": [
        "# Conclusion\n",
        "\n",
        "With the new Polars GPU engine powered by cuDF, you can potentially get significant performance gains and lower costs for workflows processing 10-100+ GB of data.\n",
        "\n",
        "To learn more, we encourage you to visit the Polars GPU Support documentation or visit rapids.ai/cudf-polars."
      ]
    },
    {
      "cell_type": "markdown",
      "source": [
        "Con el nuevo motor de GPU Polars alimentado por CUDF, puede obtener ganancias de rendimiento significativas y menores costos para los flujos de trabajo que procesan 10-100+ GB de datos.\n",
        "\n",
        "Para obtener más información, le recomendamos que visite la documentación de soporte de GPU de Polars o visite Rapids.ai/cudf-polars."
      ],
      "metadata": {
        "id": "RJvCJ6uRPhn5"
      },
      "id": "RJvCJ6uRPhn5"
    },
    {
      "cell_type": "code",
      "execution_count": null,
      "id": "5oxdKkfnnFq9",
      "metadata": {
        "id": "5oxdKkfnnFq9"
      },
      "outputs": [],
      "source": []
    }
  ],
  "metadata": {
    "accelerator": "GPU",
    "colab": {
      "gpuType": "T4",
      "provenance": [],
      "include_colab_link": true
    },
    "kernelspec": {
      "display_name": "Python 3",
      "name": "python3"
    },
    "language_info": {
      "codemirror_mode": {
        "name": "ipython",
        "version": 3
      },
      "file_extension": ".py",
      "mimetype": "text/x-python",
      "name": "python",
      "nbconvert_exporter": "python",
      "pygments_lexer": "ipython3",
      "version": "3.11.9"
    }
  },
  "nbformat": 4,
  "nbformat_minor": 5
}