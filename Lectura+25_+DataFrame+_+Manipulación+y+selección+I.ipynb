{
  "cells": [
    {
      "cell_type": "markdown",
      "id": "20cb070c-89bf-4c3c-86c1-a59d077b2614",
      "metadata": {
        "id": "20cb070c-89bf-4c3c-86c1-a59d077b2614"
      },
      "source": [
        "# Lectura 25: DataFrame - Manipulación y selección I"
      ]
    },
    {
      "cell_type": "code",
      "source": [
        "from google.colab import drive\n",
        "drive.mount('/content/drive')"
      ],
      "metadata": {
        "colab": {
          "base_uri": "https://localhost:8080/"
        },
        "id": "XnnSUve2viA6",
        "outputId": "c0fa04cc-7c26-4c9a-fdb1-ea4f3b409f2d"
      },
      "id": "XnnSUve2viA6",
      "execution_count": null,
      "outputs": [
        {
          "output_type": "stream",
          "name": "stdout",
          "text": [
            "Mounted at /content/drive\n"
          ]
        }
      ]
    },
    {
      "cell_type": "code",
      "source": [
        "import polars as pl\n",
        "\n",
        "vuelos = pl.read_parquet('/content/drive/MyDrive/polars/seccion04/data_l25/vuelos.parquet', use_pyarrow=True)\n",
        "\n",
        "display(vuelos)"
      ],
      "metadata": {
        "colab": {
          "base_uri": "https://localhost:8080/",
          "height": 463
        },
        "id": "6qYogoHIptcP",
        "outputId": "6a8dae90-671e-453e-9d0e-639c6b46a176"
      },
      "id": "6qYogoHIptcP",
      "execution_count": 10,
      "outputs": [
        {
          "output_type": "display_data",
          "data": {
            "text/plain": [
              "shape: (5_819_079, 31)\n",
              "┌──────┬───────┬─────┬─────────────┬───┬──────────────┬──────────────┬──────────────┬──────────────┐\n",
              "│ YEAR ┆ MONTH ┆ DAY ┆ DAY_OF_WEEK ┆ … ┆ SECURITY_DEL ┆ AIRLINE_DELA ┆ LATE_AIRCRAF ┆ WEATHER_DELA │\n",
              "│ ---  ┆ ---   ┆ --- ┆ ---         ┆   ┆ AY           ┆ Y            ┆ T_DELAY      ┆ Y            │\n",
              "│ i32  ┆ i32   ┆ i32 ┆ i32         ┆   ┆ ---          ┆ ---          ┆ ---          ┆ ---          │\n",
              "│      ┆       ┆     ┆             ┆   ┆ i32          ┆ i32          ┆ i32          ┆ i32          │\n",
              "╞══════╪═══════╪═════╪═════════════╪═══╪══════════════╪══════════════╪══════════════╪══════════════╡\n",
              "│ 2015 ┆ 1     ┆ 1   ┆ 4           ┆ … ┆ null         ┆ null         ┆ null         ┆ null         │\n",
              "│ 2015 ┆ 1     ┆ 1   ┆ 4           ┆ … ┆ null         ┆ null         ┆ null         ┆ null         │\n",
              "│ 2015 ┆ 1     ┆ 1   ┆ 4           ┆ … ┆ null         ┆ null         ┆ null         ┆ null         │\n",
              "│ 2015 ┆ 1     ┆ 1   ┆ 4           ┆ … ┆ null         ┆ null         ┆ null         ┆ null         │\n",
              "│ 2015 ┆ 1     ┆ 1   ┆ 4           ┆ … ┆ null         ┆ null         ┆ null         ┆ null         │\n",
              "│ …    ┆ …     ┆ …   ┆ …           ┆ … ┆ …            ┆ …            ┆ …            ┆ …            │\n",
              "│ 2015 ┆ 12    ┆ 31  ┆ 4           ┆ … ┆ null         ┆ null         ┆ null         ┆ null         │\n",
              "│ 2015 ┆ 12    ┆ 31  ┆ 4           ┆ … ┆ null         ┆ null         ┆ null         ┆ null         │\n",
              "│ 2015 ┆ 12    ┆ 31  ┆ 4           ┆ … ┆ null         ┆ null         ┆ null         ┆ null         │\n",
              "│ 2015 ┆ 12    ┆ 31  ┆ 4           ┆ … ┆ null         ┆ null         ┆ null         ┆ null         │\n",
              "│ 2015 ┆ 12    ┆ 31  ┆ 4           ┆ … ┆ null         ┆ null         ┆ null         ┆ null         │\n",
              "└──────┴───────┴─────┴─────────────┴───┴──────────────┴──────────────┴──────────────┴──────────────┘"
            ],
            "text/html": [
              "<div><style>\n",
              ".dataframe > thead > tr,\n",
              ".dataframe > tbody > tr {\n",
              "  text-align: right;\n",
              "  white-space: pre-wrap;\n",
              "}\n",
              "</style>\n",
              "<small>shape: (5_819_079, 31)</small><table border=\"1\" class=\"dataframe\"><thead><tr><th>YEAR</th><th>MONTH</th><th>DAY</th><th>DAY_OF_WEEK</th><th>AIRLINE</th><th>FLIGHT_NUMBER</th><th>TAIL_NUMBER</th><th>ORIGIN_AIRPORT</th><th>DESTINATION_AIRPORT</th><th>SCHEDULED_DEPARTURE</th><th>DEPARTURE_TIME</th><th>DEPARTURE_DELAY</th><th>TAXI_OUT</th><th>WHEELS_OFF</th><th>SCHEDULED_TIME</th><th>ELAPSED_TIME</th><th>AIR_TIME</th><th>DISTANCE</th><th>WHEELS_ON</th><th>TAXI_IN</th><th>SCHEDULED_ARRIVAL</th><th>ARRIVAL_TIME</th><th>ARRIVAL_DELAY</th><th>DIVERTED</th><th>CANCELLED</th><th>CANCELLATION_REASON</th><th>AIR_SYSTEM_DELAY</th><th>SECURITY_DELAY</th><th>AIRLINE_DELAY</th><th>LATE_AIRCRAFT_DELAY</th><th>WEATHER_DELAY</th></tr><tr><td>i32</td><td>i32</td><td>i32</td><td>i32</td><td>str</td><td>i32</td><td>str</td><td>str</td><td>str</td><td>i32</td><td>i32</td><td>i32</td><td>i32</td><td>i32</td><td>i32</td><td>i32</td><td>i32</td><td>i32</td><td>i32</td><td>i32</td><td>i32</td><td>i32</td><td>i32</td><td>i32</td><td>i32</td><td>str</td><td>i32</td><td>i32</td><td>i32</td><td>i32</td><td>i32</td></tr></thead><tbody><tr><td>2015</td><td>1</td><td>1</td><td>4</td><td>&quot;AS&quot;</td><td>98</td><td>&quot;N407AS&quot;</td><td>&quot;ANC&quot;</td><td>&quot;SEA&quot;</td><td>5</td><td>2354</td><td>-11</td><td>21</td><td>15</td><td>205</td><td>194</td><td>169</td><td>1448</td><td>404</td><td>4</td><td>430</td><td>408</td><td>-22</td><td>0</td><td>0</td><td>null</td><td>null</td><td>null</td><td>null</td><td>null</td><td>null</td></tr><tr><td>2015</td><td>1</td><td>1</td><td>4</td><td>&quot;AA&quot;</td><td>2336</td><td>&quot;N3KUAA&quot;</td><td>&quot;LAX&quot;</td><td>&quot;PBI&quot;</td><td>10</td><td>2</td><td>-8</td><td>12</td><td>14</td><td>280</td><td>279</td><td>263</td><td>2330</td><td>737</td><td>4</td><td>750</td><td>741</td><td>-9</td><td>0</td><td>0</td><td>null</td><td>null</td><td>null</td><td>null</td><td>null</td><td>null</td></tr><tr><td>2015</td><td>1</td><td>1</td><td>4</td><td>&quot;US&quot;</td><td>840</td><td>&quot;N171US&quot;</td><td>&quot;SFO&quot;</td><td>&quot;CLT&quot;</td><td>20</td><td>18</td><td>-2</td><td>16</td><td>34</td><td>286</td><td>293</td><td>266</td><td>2296</td><td>800</td><td>11</td><td>806</td><td>811</td><td>5</td><td>0</td><td>0</td><td>null</td><td>null</td><td>null</td><td>null</td><td>null</td><td>null</td></tr><tr><td>2015</td><td>1</td><td>1</td><td>4</td><td>&quot;AA&quot;</td><td>258</td><td>&quot;N3HYAA&quot;</td><td>&quot;LAX&quot;</td><td>&quot;MIA&quot;</td><td>20</td><td>15</td><td>-5</td><td>15</td><td>30</td><td>285</td><td>281</td><td>258</td><td>2342</td><td>748</td><td>8</td><td>805</td><td>756</td><td>-9</td><td>0</td><td>0</td><td>null</td><td>null</td><td>null</td><td>null</td><td>null</td><td>null</td></tr><tr><td>2015</td><td>1</td><td>1</td><td>4</td><td>&quot;AS&quot;</td><td>135</td><td>&quot;N527AS&quot;</td><td>&quot;SEA&quot;</td><td>&quot;ANC&quot;</td><td>25</td><td>24</td><td>-1</td><td>11</td><td>35</td><td>235</td><td>215</td><td>199</td><td>1448</td><td>254</td><td>5</td><td>320</td><td>259</td><td>-21</td><td>0</td><td>0</td><td>null</td><td>null</td><td>null</td><td>null</td><td>null</td><td>null</td></tr><tr><td>&hellip;</td><td>&hellip;</td><td>&hellip;</td><td>&hellip;</td><td>&hellip;</td><td>&hellip;</td><td>&hellip;</td><td>&hellip;</td><td>&hellip;</td><td>&hellip;</td><td>&hellip;</td><td>&hellip;</td><td>&hellip;</td><td>&hellip;</td><td>&hellip;</td><td>&hellip;</td><td>&hellip;</td><td>&hellip;</td><td>&hellip;</td><td>&hellip;</td><td>&hellip;</td><td>&hellip;</td><td>&hellip;</td><td>&hellip;</td><td>&hellip;</td><td>&hellip;</td><td>&hellip;</td><td>&hellip;</td><td>&hellip;</td><td>&hellip;</td><td>&hellip;</td></tr><tr><td>2015</td><td>12</td><td>31</td><td>4</td><td>&quot;B6&quot;</td><td>688</td><td>&quot;N657JB&quot;</td><td>&quot;LAX&quot;</td><td>&quot;BOS&quot;</td><td>2359</td><td>2355</td><td>-4</td><td>22</td><td>17</td><td>320</td><td>298</td><td>272</td><td>2611</td><td>749</td><td>4</td><td>819</td><td>753</td><td>-26</td><td>0</td><td>0</td><td>null</td><td>null</td><td>null</td><td>null</td><td>null</td><td>null</td></tr><tr><td>2015</td><td>12</td><td>31</td><td>4</td><td>&quot;B6&quot;</td><td>745</td><td>&quot;N828JB&quot;</td><td>&quot;JFK&quot;</td><td>&quot;PSE&quot;</td><td>2359</td><td>2355</td><td>-4</td><td>17</td><td>12</td><td>227</td><td>215</td><td>195</td><td>1617</td><td>427</td><td>3</td><td>446</td><td>430</td><td>-16</td><td>0</td><td>0</td><td>null</td><td>null</td><td>null</td><td>null</td><td>null</td><td>null</td></tr><tr><td>2015</td><td>12</td><td>31</td><td>4</td><td>&quot;B6&quot;</td><td>1503</td><td>&quot;N913JB&quot;</td><td>&quot;JFK&quot;</td><td>&quot;SJU&quot;</td><td>2359</td><td>2350</td><td>-9</td><td>17</td><td>7</td><td>221</td><td>222</td><td>197</td><td>1598</td><td>424</td><td>8</td><td>440</td><td>432</td><td>-8</td><td>0</td><td>0</td><td>null</td><td>null</td><td>null</td><td>null</td><td>null</td><td>null</td></tr><tr><td>2015</td><td>12</td><td>31</td><td>4</td><td>&quot;B6&quot;</td><td>333</td><td>&quot;N527JB&quot;</td><td>&quot;MCO&quot;</td><td>&quot;SJU&quot;</td><td>2359</td><td>2353</td><td>-6</td><td>10</td><td>3</td><td>161</td><td>157</td><td>144</td><td>1189</td><td>327</td><td>3</td><td>340</td><td>330</td><td>-10</td><td>0</td><td>0</td><td>null</td><td>null</td><td>null</td><td>null</td><td>null</td><td>null</td></tr><tr><td>2015</td><td>12</td><td>31</td><td>4</td><td>&quot;B6&quot;</td><td>839</td><td>&quot;N534JB&quot;</td><td>&quot;JFK&quot;</td><td>&quot;BQN&quot;</td><td>2359</td><td>14</td><td>15</td><td>14</td><td>28</td><td>221</td><td>208</td><td>189</td><td>1576</td><td>437</td><td>5</td><td>440</td><td>442</td><td>2</td><td>0</td><td>0</td><td>null</td><td>null</td><td>null</td><td>null</td><td>null</td><td>null</td></tr></tbody></table></div>"
            ]
          },
          "metadata": {}
        }
      ]
    },
    {
      "cell_type": "code",
      "source": [
        "import polars as pl\n",
        "\n",
        "vuelos = pl.read_parquet('/content/drive/Mydrive/polars/seccion04/data_l25/vuelos.parquet', use_pyarrow=True)\n",
        "\n",
        "display(vuelos)"
      ],
      "metadata": {
        "colab": {
          "base_uri": "https://localhost:8080/",
          "height": 377
        },
        "id": "mhNwNjd1wBWq",
        "outputId": "6a81bc23-e1e7-4c7c-8ebc-aa9009684a69"
      },
      "id": "mhNwNjd1wBWq",
      "execution_count": 11,
      "outputs": [
        {
          "output_type": "error",
          "ename": "FileNotFoundError",
          "evalue": "/content/drive/Mydrive/polars/seccion04/data_l25/vuelos.parquet",
          "traceback": [
            "\u001b[0;31m---------------------------------------------------------------------------\u001b[0m",
            "\u001b[0;31mFileNotFoundError\u001b[0m                         Traceback (most recent call last)",
            "\u001b[0;32m<ipython-input-11-99fd52d84485>\u001b[0m in \u001b[0;36m<cell line: 3>\u001b[0;34m()\u001b[0m\n\u001b[1;32m      1\u001b[0m \u001b[0;32mimport\u001b[0m \u001b[0mpolars\u001b[0m \u001b[0;32mas\u001b[0m \u001b[0mpl\u001b[0m\u001b[0;34m\u001b[0m\u001b[0;34m\u001b[0m\u001b[0m\n\u001b[1;32m      2\u001b[0m \u001b[0;34m\u001b[0m\u001b[0m\n\u001b[0;32m----> 3\u001b[0;31m \u001b[0mvuelos\u001b[0m \u001b[0;34m=\u001b[0m \u001b[0mpl\u001b[0m\u001b[0;34m.\u001b[0m\u001b[0mread_parquet\u001b[0m\u001b[0;34m(\u001b[0m\u001b[0;34m'/content/drive/Mydrive/polars/seccion04/data_l25/vuelos.parquet'\u001b[0m\u001b[0;34m,\u001b[0m \u001b[0muse_pyarrow\u001b[0m\u001b[0;34m=\u001b[0m\u001b[0;32mTrue\u001b[0m\u001b[0;34m)\u001b[0m\u001b[0;34m\u001b[0m\u001b[0;34m\u001b[0m\u001b[0m\n\u001b[0m\u001b[1;32m      4\u001b[0m \u001b[0;34m\u001b[0m\u001b[0m\n\u001b[1;32m      5\u001b[0m \u001b[0mdisplay\u001b[0m\u001b[0;34m(\u001b[0m\u001b[0mvuelos\u001b[0m\u001b[0;34m)\u001b[0m\u001b[0;34m\u001b[0m\u001b[0;34m\u001b[0m\u001b[0m\n",
            "\u001b[0;32m/usr/local/lib/python3.10/dist-packages/polars/_utils/deprecation.py\u001b[0m in \u001b[0;36mwrapper\u001b[0;34m(*args, **kwargs)\u001b[0m\n\u001b[1;32m     89\u001b[0m                 \u001b[0mold_name\u001b[0m\u001b[0;34m,\u001b[0m \u001b[0mnew_name\u001b[0m\u001b[0;34m,\u001b[0m \u001b[0mkwargs\u001b[0m\u001b[0;34m,\u001b[0m \u001b[0mfunction\u001b[0m\u001b[0;34m.\u001b[0m\u001b[0m__qualname__\u001b[0m\u001b[0;34m,\u001b[0m \u001b[0mversion\u001b[0m\u001b[0;34m\u001b[0m\u001b[0;34m\u001b[0m\u001b[0m\n\u001b[1;32m     90\u001b[0m             )\n\u001b[0;32m---> 91\u001b[0;31m             \u001b[0;32mreturn\u001b[0m \u001b[0mfunction\u001b[0m\u001b[0;34m(\u001b[0m\u001b[0;34m*\u001b[0m\u001b[0margs\u001b[0m\u001b[0;34m,\u001b[0m \u001b[0;34m**\u001b[0m\u001b[0mkwargs\u001b[0m\u001b[0;34m)\u001b[0m\u001b[0;34m\u001b[0m\u001b[0;34m\u001b[0m\u001b[0m\n\u001b[0m\u001b[1;32m     92\u001b[0m \u001b[0;34m\u001b[0m\u001b[0m\n\u001b[1;32m     93\u001b[0m         \u001b[0mwrapper\u001b[0m\u001b[0;34m.\u001b[0m\u001b[0m__signature__\u001b[0m \u001b[0;34m=\u001b[0m \u001b[0minspect\u001b[0m\u001b[0;34m.\u001b[0m\u001b[0msignature\u001b[0m\u001b[0;34m(\u001b[0m\u001b[0mfunction\u001b[0m\u001b[0;34m)\u001b[0m  \u001b[0;31m# type: ignore[attr-defined]\u001b[0m\u001b[0;34m\u001b[0m\u001b[0;34m\u001b[0m\u001b[0m\n",
            "\u001b[0;32m/usr/local/lib/python3.10/dist-packages/polars/_utils/deprecation.py\u001b[0m in \u001b[0;36mwrapper\u001b[0;34m(*args, **kwargs)\u001b[0m\n\u001b[1;32m     89\u001b[0m                 \u001b[0mold_name\u001b[0m\u001b[0;34m,\u001b[0m \u001b[0mnew_name\u001b[0m\u001b[0;34m,\u001b[0m \u001b[0mkwargs\u001b[0m\u001b[0;34m,\u001b[0m \u001b[0mfunction\u001b[0m\u001b[0;34m.\u001b[0m\u001b[0m__qualname__\u001b[0m\u001b[0;34m,\u001b[0m \u001b[0mversion\u001b[0m\u001b[0;34m\u001b[0m\u001b[0;34m\u001b[0m\u001b[0m\n\u001b[1;32m     90\u001b[0m             )\n\u001b[0;32m---> 91\u001b[0;31m             \u001b[0;32mreturn\u001b[0m \u001b[0mfunction\u001b[0m\u001b[0;34m(\u001b[0m\u001b[0;34m*\u001b[0m\u001b[0margs\u001b[0m\u001b[0;34m,\u001b[0m \u001b[0;34m**\u001b[0m\u001b[0mkwargs\u001b[0m\u001b[0;34m)\u001b[0m\u001b[0;34m\u001b[0m\u001b[0;34m\u001b[0m\u001b[0m\n\u001b[0m\u001b[1;32m     92\u001b[0m \u001b[0;34m\u001b[0m\u001b[0m\n\u001b[1;32m     93\u001b[0m         \u001b[0mwrapper\u001b[0m\u001b[0;34m.\u001b[0m\u001b[0m__signature__\u001b[0m \u001b[0;34m=\u001b[0m \u001b[0minspect\u001b[0m\u001b[0;34m.\u001b[0m\u001b[0msignature\u001b[0m\u001b[0;34m(\u001b[0m\u001b[0mfunction\u001b[0m\u001b[0;34m)\u001b[0m  \u001b[0;31m# type: ignore[attr-defined]\u001b[0m\u001b[0;34m\u001b[0m\u001b[0;34m\u001b[0m\u001b[0m\n",
            "\u001b[0;32m/usr/local/lib/python3.10/dist-packages/polars/io/parquet/functions.py\u001b[0m in \u001b[0;36mread_parquet\u001b[0;34m(source, columns, n_rows, row_index_name, row_index_offset, parallel, use_statistics, hive_partitioning, glob, hive_schema, try_parse_hive_dates, rechunk, low_memory, storage_options, retries, use_pyarrow, pyarrow_options, memory_map)\u001b[0m\n\u001b[1;32m    157\u001b[0m             )\n\u001b[1;32m    158\u001b[0m             \u001b[0;32mraise\u001b[0m \u001b[0mTypeError\u001b[0m\u001b[0;34m(\u001b[0m\u001b[0mmsg\u001b[0m\u001b[0;34m)\u001b[0m\u001b[0;34m\u001b[0m\u001b[0;34m\u001b[0m\u001b[0m\n\u001b[0;32m--> 159\u001b[0;31m         return _read_parquet_with_pyarrow(\n\u001b[0m\u001b[1;32m    160\u001b[0m             \u001b[0msource\u001b[0m\u001b[0;34m,\u001b[0m\u001b[0;34m\u001b[0m\u001b[0;34m\u001b[0m\u001b[0m\n\u001b[1;32m    161\u001b[0m             \u001b[0mcolumns\u001b[0m\u001b[0;34m=\u001b[0m\u001b[0mcolumns\u001b[0m\u001b[0;34m,\u001b[0m\u001b[0;34m\u001b[0m\u001b[0;34m\u001b[0m\u001b[0m\n",
            "\u001b[0;32m/usr/local/lib/python3.10/dist-packages/polars/io/parquet/functions.py\u001b[0m in \u001b[0;36m_read_parquet_with_pyarrow\u001b[0;34m(source, columns, storage_options, pyarrow_options, memory_map, rechunk)\u001b[0m\n\u001b[1;32m    230\u001b[0m         \u001b[0mstorage_options\u001b[0m\u001b[0;34m=\u001b[0m\u001b[0mstorage_options\u001b[0m\u001b[0;34m,\u001b[0m\u001b[0;34m\u001b[0m\u001b[0;34m\u001b[0m\u001b[0m\n\u001b[1;32m    231\u001b[0m     ) as source_prep:\n\u001b[0;32m--> 232\u001b[0;31m         pa_table = pyarrow_parquet.read_table(\n\u001b[0m\u001b[1;32m    233\u001b[0m             \u001b[0msource_prep\u001b[0m\u001b[0;34m,\u001b[0m\u001b[0;34m\u001b[0m\u001b[0;34m\u001b[0m\u001b[0m\n\u001b[1;32m    234\u001b[0m             \u001b[0mmemory_map\u001b[0m\u001b[0;34m=\u001b[0m\u001b[0mmemory_map\u001b[0m\u001b[0;34m,\u001b[0m\u001b[0;34m\u001b[0m\u001b[0;34m\u001b[0m\u001b[0m\n",
            "\u001b[0;32m/usr/local/lib/python3.10/dist-packages/pyarrow/parquet/core.py\u001b[0m in \u001b[0;36mread_table\u001b[0;34m(source, columns, use_threads, metadata, schema, use_pandas_metadata, read_dictionary, memory_map, buffer_size, partitioning, filesystem, filters, use_legacy_dataset, ignore_prefixes, pre_buffer, coerce_int96_timestamp_unit, decryption_properties, thrift_string_size_limit, thrift_container_size_limit)\u001b[0m\n\u001b[1;32m   2954\u001b[0m             )\n\u001b[1;32m   2955\u001b[0m         \u001b[0;32mtry\u001b[0m\u001b[0;34m:\u001b[0m\u001b[0;34m\u001b[0m\u001b[0;34m\u001b[0m\u001b[0m\n\u001b[0;32m-> 2956\u001b[0;31m             dataset = _ParquetDatasetV2(\n\u001b[0m\u001b[1;32m   2957\u001b[0m                 \u001b[0msource\u001b[0m\u001b[0;34m,\u001b[0m\u001b[0;34m\u001b[0m\u001b[0;34m\u001b[0m\u001b[0m\n\u001b[1;32m   2958\u001b[0m                 \u001b[0mschema\u001b[0m\u001b[0;34m=\u001b[0m\u001b[0mschema\u001b[0m\u001b[0;34m,\u001b[0m\u001b[0;34m\u001b[0m\u001b[0;34m\u001b[0m\u001b[0m\n",
            "\u001b[0;32m/usr/local/lib/python3.10/dist-packages/pyarrow/parquet/core.py\u001b[0m in \u001b[0;36m__init__\u001b[0;34m(self, path_or_paths, filesystem, filters, partitioning, read_dictionary, buffer_size, memory_map, ignore_prefixes, pre_buffer, coerce_int96_timestamp_unit, schema, decryption_properties, thrift_string_size_limit, thrift_container_size_limit, **kwargs)\u001b[0m\n\u001b[1;32m   2505\u001b[0m                 infer_dictionary=True)\n\u001b[1;32m   2506\u001b[0m \u001b[0;34m\u001b[0m\u001b[0m\n\u001b[0;32m-> 2507\u001b[0;31m         self._dataset = ds.dataset(path_or_paths, filesystem=filesystem,\n\u001b[0m\u001b[1;32m   2508\u001b[0m                                    \u001b[0mschema\u001b[0m\u001b[0;34m=\u001b[0m\u001b[0mschema\u001b[0m\u001b[0;34m,\u001b[0m \u001b[0mformat\u001b[0m\u001b[0;34m=\u001b[0m\u001b[0mparquet_format\u001b[0m\u001b[0;34m,\u001b[0m\u001b[0;34m\u001b[0m\u001b[0;34m\u001b[0m\u001b[0m\n\u001b[1;32m   2509\u001b[0m                                    \u001b[0mpartitioning\u001b[0m\u001b[0;34m=\u001b[0m\u001b[0mpartitioning\u001b[0m\u001b[0;34m,\u001b[0m\u001b[0;34m\u001b[0m\u001b[0;34m\u001b[0m\u001b[0m\n",
            "\u001b[0;32m/usr/local/lib/python3.10/dist-packages/pyarrow/dataset.py\u001b[0m in \u001b[0;36mdataset\u001b[0;34m(source, schema, format, filesystem, partitioning, partition_base_dir, exclude_invalid_files, ignore_prefixes)\u001b[0m\n\u001b[1;32m    780\u001b[0m \u001b[0;34m\u001b[0m\u001b[0m\n\u001b[1;32m    781\u001b[0m     \u001b[0;32mif\u001b[0m \u001b[0m_is_path_like\u001b[0m\u001b[0;34m(\u001b[0m\u001b[0msource\u001b[0m\u001b[0;34m)\u001b[0m\u001b[0;34m:\u001b[0m\u001b[0;34m\u001b[0m\u001b[0;34m\u001b[0m\u001b[0m\n\u001b[0;32m--> 782\u001b[0;31m         \u001b[0;32mreturn\u001b[0m \u001b[0m_filesystem_dataset\u001b[0m\u001b[0;34m(\u001b[0m\u001b[0msource\u001b[0m\u001b[0;34m,\u001b[0m \u001b[0;34m**\u001b[0m\u001b[0mkwargs\u001b[0m\u001b[0;34m)\u001b[0m\u001b[0;34m\u001b[0m\u001b[0;34m\u001b[0m\u001b[0m\n\u001b[0m\u001b[1;32m    783\u001b[0m     \u001b[0;32melif\u001b[0m \u001b[0misinstance\u001b[0m\u001b[0;34m(\u001b[0m\u001b[0msource\u001b[0m\u001b[0;34m,\u001b[0m \u001b[0;34m(\u001b[0m\u001b[0mtuple\u001b[0m\u001b[0;34m,\u001b[0m \u001b[0mlist\u001b[0m\u001b[0;34m)\u001b[0m\u001b[0;34m)\u001b[0m\u001b[0;34m:\u001b[0m\u001b[0;34m\u001b[0m\u001b[0;34m\u001b[0m\u001b[0m\n\u001b[1;32m    784\u001b[0m         \u001b[0;32mif\u001b[0m \u001b[0mall\u001b[0m\u001b[0;34m(\u001b[0m\u001b[0m_is_path_like\u001b[0m\u001b[0;34m(\u001b[0m\u001b[0melem\u001b[0m\u001b[0;34m)\u001b[0m \u001b[0;32mfor\u001b[0m \u001b[0melem\u001b[0m \u001b[0;32min\u001b[0m \u001b[0msource\u001b[0m\u001b[0;34m)\u001b[0m\u001b[0;34m:\u001b[0m\u001b[0;34m\u001b[0m\u001b[0;34m\u001b[0m\u001b[0m\n",
            "\u001b[0;32m/usr/local/lib/python3.10/dist-packages/pyarrow/dataset.py\u001b[0m in \u001b[0;36m_filesystem_dataset\u001b[0;34m(source, schema, filesystem, partitioning, format, partition_base_dir, exclude_invalid_files, selector_ignore_prefixes)\u001b[0m\n\u001b[1;32m    463\u001b[0m         \u001b[0mfs\u001b[0m\u001b[0;34m,\u001b[0m \u001b[0mpaths_or_selector\u001b[0m \u001b[0;34m=\u001b[0m \u001b[0m_ensure_multiple_sources\u001b[0m\u001b[0;34m(\u001b[0m\u001b[0msource\u001b[0m\u001b[0;34m,\u001b[0m \u001b[0mfilesystem\u001b[0m\u001b[0;34m)\u001b[0m\u001b[0;34m\u001b[0m\u001b[0;34m\u001b[0m\u001b[0m\n\u001b[1;32m    464\u001b[0m     \u001b[0;32melse\u001b[0m\u001b[0;34m:\u001b[0m\u001b[0;34m\u001b[0m\u001b[0;34m\u001b[0m\u001b[0m\n\u001b[0;32m--> 465\u001b[0;31m         \u001b[0mfs\u001b[0m\u001b[0;34m,\u001b[0m \u001b[0mpaths_or_selector\u001b[0m \u001b[0;34m=\u001b[0m \u001b[0m_ensure_single_source\u001b[0m\u001b[0;34m(\u001b[0m\u001b[0msource\u001b[0m\u001b[0;34m,\u001b[0m \u001b[0mfilesystem\u001b[0m\u001b[0;34m)\u001b[0m\u001b[0;34m\u001b[0m\u001b[0;34m\u001b[0m\u001b[0m\n\u001b[0m\u001b[1;32m    466\u001b[0m \u001b[0;34m\u001b[0m\u001b[0m\n\u001b[1;32m    467\u001b[0m     options = FileSystemFactoryOptions(\n",
            "\u001b[0;32m/usr/local/lib/python3.10/dist-packages/pyarrow/dataset.py\u001b[0m in \u001b[0;36m_ensure_single_source\u001b[0;34m(path, filesystem)\u001b[0m\n\u001b[1;32m    439\u001b[0m         \u001b[0mpaths_or_selector\u001b[0m \u001b[0;34m=\u001b[0m \u001b[0;34m[\u001b[0m\u001b[0mpath\u001b[0m\u001b[0;34m]\u001b[0m\u001b[0;34m\u001b[0m\u001b[0;34m\u001b[0m\u001b[0m\n\u001b[1;32m    440\u001b[0m     \u001b[0;32melse\u001b[0m\u001b[0;34m:\u001b[0m\u001b[0;34m\u001b[0m\u001b[0;34m\u001b[0m\u001b[0m\n\u001b[0;32m--> 441\u001b[0;31m         \u001b[0;32mraise\u001b[0m \u001b[0mFileNotFoundError\u001b[0m\u001b[0;34m(\u001b[0m\u001b[0mpath\u001b[0m\u001b[0;34m)\u001b[0m\u001b[0;34m\u001b[0m\u001b[0;34m\u001b[0m\u001b[0m\n\u001b[0m\u001b[1;32m    442\u001b[0m \u001b[0;34m\u001b[0m\u001b[0m\n\u001b[1;32m    443\u001b[0m     \u001b[0;32mreturn\u001b[0m \u001b[0mfilesystem\u001b[0m\u001b[0;34m,\u001b[0m \u001b[0mpaths_or_selector\u001b[0m\u001b[0;34m\u001b[0m\u001b[0;34m\u001b[0m\u001b[0m\n",
            "\u001b[0;31mFileNotFoundError\u001b[0m: /content/drive/Mydrive/polars/seccion04/data_l25/vuelos.parquet"
          ]
        }
      ]
    },
    {
      "cell_type": "code",
      "source": [
        "import polars as pl\n",
        "\n",
        "vuelos = pl.read_parquet('/content/vuelos.parquet', use_pyarrow=True)\n",
        "\n",
        "display(vuelos)"
      ],
      "metadata": {
        "colab": {
          "base_uri": "https://localhost:8080/",
          "height": 463
        },
        "id": "LEdIk3NVvz7Z",
        "outputId": "f5473a80-d9f8-4140-a313-2c04b45b2b2a"
      },
      "id": "LEdIk3NVvz7Z",
      "execution_count": null,
      "outputs": [
        {
          "output_type": "display_data",
          "data": {
            "text/plain": [
              "shape: (5_819_079, 31)\n",
              "┌──────┬───────┬─────┬─────────────┬───┬──────────────┬──────────────┬──────────────┬──────────────┐\n",
              "│ YEAR ┆ MONTH ┆ DAY ┆ DAY_OF_WEEK ┆ … ┆ SECURITY_DEL ┆ AIRLINE_DELA ┆ LATE_AIRCRAF ┆ WEATHER_DELA │\n",
              "│ ---  ┆ ---   ┆ --- ┆ ---         ┆   ┆ AY           ┆ Y            ┆ T_DELAY      ┆ Y            │\n",
              "│ i32  ┆ i32   ┆ i32 ┆ i32         ┆   ┆ ---          ┆ ---          ┆ ---          ┆ ---          │\n",
              "│      ┆       ┆     ┆             ┆   ┆ i32          ┆ i32          ┆ i32          ┆ i32          │\n",
              "╞══════╪═══════╪═════╪═════════════╪═══╪══════════════╪══════════════╪══════════════╪══════════════╡\n",
              "│ 2015 ┆ 1     ┆ 1   ┆ 4           ┆ … ┆ null         ┆ null         ┆ null         ┆ null         │\n",
              "│ 2015 ┆ 1     ┆ 1   ┆ 4           ┆ … ┆ null         ┆ null         ┆ null         ┆ null         │\n",
              "│ 2015 ┆ 1     ┆ 1   ┆ 4           ┆ … ┆ null         ┆ null         ┆ null         ┆ null         │\n",
              "│ 2015 ┆ 1     ┆ 1   ┆ 4           ┆ … ┆ null         ┆ null         ┆ null         ┆ null         │\n",
              "│ 2015 ┆ 1     ┆ 1   ┆ 4           ┆ … ┆ null         ┆ null         ┆ null         ┆ null         │\n",
              "│ …    ┆ …     ┆ …   ┆ …           ┆ … ┆ …            ┆ …            ┆ …            ┆ …            │\n",
              "│ 2015 ┆ 12    ┆ 31  ┆ 4           ┆ … ┆ null         ┆ null         ┆ null         ┆ null         │\n",
              "│ 2015 ┆ 12    ┆ 31  ┆ 4           ┆ … ┆ null         ┆ null         ┆ null         ┆ null         │\n",
              "│ 2015 ┆ 12    ┆ 31  ┆ 4           ┆ … ┆ null         ┆ null         ┆ null         ┆ null         │\n",
              "│ 2015 ┆ 12    ┆ 31  ┆ 4           ┆ … ┆ null         ┆ null         ┆ null         ┆ null         │\n",
              "│ 2015 ┆ 12    ┆ 31  ┆ 4           ┆ … ┆ null         ┆ null         ┆ null         ┆ null         │\n",
              "└──────┴───────┴─────┴─────────────┴───┴──────────────┴──────────────┴──────────────┴──────────────┘"
            ],
            "text/html": [
              "<div><style>\n",
              ".dataframe > thead > tr,\n",
              ".dataframe > tbody > tr {\n",
              "  text-align: right;\n",
              "  white-space: pre-wrap;\n",
              "}\n",
              "</style>\n",
              "<small>shape: (5_819_079, 31)</small><table border=\"1\" class=\"dataframe\"><thead><tr><th>YEAR</th><th>MONTH</th><th>DAY</th><th>DAY_OF_WEEK</th><th>AIRLINE</th><th>FLIGHT_NUMBER</th><th>TAIL_NUMBER</th><th>ORIGIN_AIRPORT</th><th>DESTINATION_AIRPORT</th><th>SCHEDULED_DEPARTURE</th><th>DEPARTURE_TIME</th><th>DEPARTURE_DELAY</th><th>TAXI_OUT</th><th>WHEELS_OFF</th><th>SCHEDULED_TIME</th><th>ELAPSED_TIME</th><th>AIR_TIME</th><th>DISTANCE</th><th>WHEELS_ON</th><th>TAXI_IN</th><th>SCHEDULED_ARRIVAL</th><th>ARRIVAL_TIME</th><th>ARRIVAL_DELAY</th><th>DIVERTED</th><th>CANCELLED</th><th>CANCELLATION_REASON</th><th>AIR_SYSTEM_DELAY</th><th>SECURITY_DELAY</th><th>AIRLINE_DELAY</th><th>LATE_AIRCRAFT_DELAY</th><th>WEATHER_DELAY</th></tr><tr><td>i32</td><td>i32</td><td>i32</td><td>i32</td><td>str</td><td>i32</td><td>str</td><td>str</td><td>str</td><td>i32</td><td>i32</td><td>i32</td><td>i32</td><td>i32</td><td>i32</td><td>i32</td><td>i32</td><td>i32</td><td>i32</td><td>i32</td><td>i32</td><td>i32</td><td>i32</td><td>i32</td><td>i32</td><td>str</td><td>i32</td><td>i32</td><td>i32</td><td>i32</td><td>i32</td></tr></thead><tbody><tr><td>2015</td><td>1</td><td>1</td><td>4</td><td>&quot;AS&quot;</td><td>98</td><td>&quot;N407AS&quot;</td><td>&quot;ANC&quot;</td><td>&quot;SEA&quot;</td><td>5</td><td>2354</td><td>-11</td><td>21</td><td>15</td><td>205</td><td>194</td><td>169</td><td>1448</td><td>404</td><td>4</td><td>430</td><td>408</td><td>-22</td><td>0</td><td>0</td><td>null</td><td>null</td><td>null</td><td>null</td><td>null</td><td>null</td></tr><tr><td>2015</td><td>1</td><td>1</td><td>4</td><td>&quot;AA&quot;</td><td>2336</td><td>&quot;N3KUAA&quot;</td><td>&quot;LAX&quot;</td><td>&quot;PBI&quot;</td><td>10</td><td>2</td><td>-8</td><td>12</td><td>14</td><td>280</td><td>279</td><td>263</td><td>2330</td><td>737</td><td>4</td><td>750</td><td>741</td><td>-9</td><td>0</td><td>0</td><td>null</td><td>null</td><td>null</td><td>null</td><td>null</td><td>null</td></tr><tr><td>2015</td><td>1</td><td>1</td><td>4</td><td>&quot;US&quot;</td><td>840</td><td>&quot;N171US&quot;</td><td>&quot;SFO&quot;</td><td>&quot;CLT&quot;</td><td>20</td><td>18</td><td>-2</td><td>16</td><td>34</td><td>286</td><td>293</td><td>266</td><td>2296</td><td>800</td><td>11</td><td>806</td><td>811</td><td>5</td><td>0</td><td>0</td><td>null</td><td>null</td><td>null</td><td>null</td><td>null</td><td>null</td></tr><tr><td>2015</td><td>1</td><td>1</td><td>4</td><td>&quot;AA&quot;</td><td>258</td><td>&quot;N3HYAA&quot;</td><td>&quot;LAX&quot;</td><td>&quot;MIA&quot;</td><td>20</td><td>15</td><td>-5</td><td>15</td><td>30</td><td>285</td><td>281</td><td>258</td><td>2342</td><td>748</td><td>8</td><td>805</td><td>756</td><td>-9</td><td>0</td><td>0</td><td>null</td><td>null</td><td>null</td><td>null</td><td>null</td><td>null</td></tr><tr><td>2015</td><td>1</td><td>1</td><td>4</td><td>&quot;AS&quot;</td><td>135</td><td>&quot;N527AS&quot;</td><td>&quot;SEA&quot;</td><td>&quot;ANC&quot;</td><td>25</td><td>24</td><td>-1</td><td>11</td><td>35</td><td>235</td><td>215</td><td>199</td><td>1448</td><td>254</td><td>5</td><td>320</td><td>259</td><td>-21</td><td>0</td><td>0</td><td>null</td><td>null</td><td>null</td><td>null</td><td>null</td><td>null</td></tr><tr><td>&hellip;</td><td>&hellip;</td><td>&hellip;</td><td>&hellip;</td><td>&hellip;</td><td>&hellip;</td><td>&hellip;</td><td>&hellip;</td><td>&hellip;</td><td>&hellip;</td><td>&hellip;</td><td>&hellip;</td><td>&hellip;</td><td>&hellip;</td><td>&hellip;</td><td>&hellip;</td><td>&hellip;</td><td>&hellip;</td><td>&hellip;</td><td>&hellip;</td><td>&hellip;</td><td>&hellip;</td><td>&hellip;</td><td>&hellip;</td><td>&hellip;</td><td>&hellip;</td><td>&hellip;</td><td>&hellip;</td><td>&hellip;</td><td>&hellip;</td><td>&hellip;</td></tr><tr><td>2015</td><td>12</td><td>31</td><td>4</td><td>&quot;B6&quot;</td><td>688</td><td>&quot;N657JB&quot;</td><td>&quot;LAX&quot;</td><td>&quot;BOS&quot;</td><td>2359</td><td>2355</td><td>-4</td><td>22</td><td>17</td><td>320</td><td>298</td><td>272</td><td>2611</td><td>749</td><td>4</td><td>819</td><td>753</td><td>-26</td><td>0</td><td>0</td><td>null</td><td>null</td><td>null</td><td>null</td><td>null</td><td>null</td></tr><tr><td>2015</td><td>12</td><td>31</td><td>4</td><td>&quot;B6&quot;</td><td>745</td><td>&quot;N828JB&quot;</td><td>&quot;JFK&quot;</td><td>&quot;PSE&quot;</td><td>2359</td><td>2355</td><td>-4</td><td>17</td><td>12</td><td>227</td><td>215</td><td>195</td><td>1617</td><td>427</td><td>3</td><td>446</td><td>430</td><td>-16</td><td>0</td><td>0</td><td>null</td><td>null</td><td>null</td><td>null</td><td>null</td><td>null</td></tr><tr><td>2015</td><td>12</td><td>31</td><td>4</td><td>&quot;B6&quot;</td><td>1503</td><td>&quot;N913JB&quot;</td><td>&quot;JFK&quot;</td><td>&quot;SJU&quot;</td><td>2359</td><td>2350</td><td>-9</td><td>17</td><td>7</td><td>221</td><td>222</td><td>197</td><td>1598</td><td>424</td><td>8</td><td>440</td><td>432</td><td>-8</td><td>0</td><td>0</td><td>null</td><td>null</td><td>null</td><td>null</td><td>null</td><td>null</td></tr><tr><td>2015</td><td>12</td><td>31</td><td>4</td><td>&quot;B6&quot;</td><td>333</td><td>&quot;N527JB&quot;</td><td>&quot;MCO&quot;</td><td>&quot;SJU&quot;</td><td>2359</td><td>2353</td><td>-6</td><td>10</td><td>3</td><td>161</td><td>157</td><td>144</td><td>1189</td><td>327</td><td>3</td><td>340</td><td>330</td><td>-10</td><td>0</td><td>0</td><td>null</td><td>null</td><td>null</td><td>null</td><td>null</td><td>null</td></tr><tr><td>2015</td><td>12</td><td>31</td><td>4</td><td>&quot;B6&quot;</td><td>839</td><td>&quot;N534JB&quot;</td><td>&quot;JFK&quot;</td><td>&quot;BQN&quot;</td><td>2359</td><td>14</td><td>15</td><td>14</td><td>28</td><td>221</td><td>208</td><td>189</td><td>1576</td><td>437</td><td>5</td><td>440</td><td>442</td><td>2</td><td>0</td><td>0</td><td>null</td><td>null</td><td>null</td><td>null</td><td>null</td><td>null</td></tr></tbody></table></div>"
            ]
          },
          "metadata": {}
        }
      ]
    },
    {
      "cell_type": "markdown",
      "id": "e2e3b2a8-b507-469a-aed0-0999dafe3cba",
      "metadata": {
        "id": "e2e3b2a8-b507-469a-aed0-0999dafe3cba"
      },
      "source": [
        "### Retornar los k elementos más pequeños"
      ]
    },
    {
      "cell_type": "markdown",
      "id": "d578a1a7-6fdc-4ffb-9067-389246c7d097",
      "metadata": {
        "id": "d578a1a7-6fdc-4ffb-9067-389246c7d097"
      },
      "source": [
        "La función `botton_k` retorna los k elementos más pequeños del DataFrame. Le podemos indicar la cantidad de elementos que deseamos mostrar y por cual columna ordenar para obtener el resultado."
      ]
    },
    {
      "cell_type": "code",
      "source": [
        "vuelos.bottom_k(5, by='DISTANCE')  ## 5 elementos y la columna por donde debemos ordenar el resultado by= columna"
      ],
      "metadata": {
        "colab": {
          "base_uri": "https://localhost:8080/",
          "height": 274
        },
        "id": "dURt3QPxy3hi",
        "outputId": "427f4c62-6bc5-4138-997e-4393c783b3cf"
      },
      "id": "dURt3QPxy3hi",
      "execution_count": null,
      "outputs": [
        {
          "output_type": "execute_result",
          "data": {
            "text/plain": [
              "shape: (5, 31)\n",
              "┌──────┬───────┬─────┬─────────────┬───┬──────────────┬──────────────┬──────────────┬──────────────┐\n",
              "│ YEAR ┆ MONTH ┆ DAY ┆ DAY_OF_WEEK ┆ … ┆ SECURITY_DEL ┆ AIRLINE_DELA ┆ LATE_AIRCRAF ┆ WEATHER_DELA │\n",
              "│ ---  ┆ ---   ┆ --- ┆ ---         ┆   ┆ AY           ┆ Y            ┆ T_DELAY      ┆ Y            │\n",
              "│ i32  ┆ i32   ┆ i32 ┆ i32         ┆   ┆ ---          ┆ ---          ┆ ---          ┆ ---          │\n",
              "│      ┆       ┆     ┆             ┆   ┆ i32          ┆ i32          ┆ i32          ┆ i32          │\n",
              "╞══════╪═══════╪═════╪═════════════╪═══╪══════════════╪══════════════╪══════════════╪══════════════╡\n",
              "│ 2015 ┆ 4     ┆ 20  ┆ 1           ┆ … ┆ null         ┆ null         ┆ null         ┆ null         │\n",
              "│ 2015 ┆ 1     ┆ 28  ┆ 3           ┆ … ┆ 0            ┆ 0            ┆ 48           ┆ 0            │\n",
              "│ 2015 ┆ 1     ┆ 2   ┆ 5           ┆ … ┆ null         ┆ null         ┆ null         ┆ null         │\n",
              "│ 2015 ┆ 1     ┆ 2   ┆ 5           ┆ … ┆ 0            ┆ 0            ┆ 14           ┆ 0            │\n",
              "│ 2015 ┆ 1     ┆ 3   ┆ 6           ┆ … ┆ null         ┆ null         ┆ null         ┆ null         │\n",
              "└──────┴───────┴─────┴─────────────┴───┴──────────────┴──────────────┴──────────────┴──────────────┘"
            ],
            "text/html": [
              "<div><style>\n",
              ".dataframe > thead > tr,\n",
              ".dataframe > tbody > tr {\n",
              "  text-align: right;\n",
              "  white-space: pre-wrap;\n",
              "}\n",
              "</style>\n",
              "<small>shape: (5, 31)</small><table border=\"1\" class=\"dataframe\"><thead><tr><th>YEAR</th><th>MONTH</th><th>DAY</th><th>DAY_OF_WEEK</th><th>AIRLINE</th><th>FLIGHT_NUMBER</th><th>TAIL_NUMBER</th><th>ORIGIN_AIRPORT</th><th>DESTINATION_AIRPORT</th><th>SCHEDULED_DEPARTURE</th><th>DEPARTURE_TIME</th><th>DEPARTURE_DELAY</th><th>TAXI_OUT</th><th>WHEELS_OFF</th><th>SCHEDULED_TIME</th><th>ELAPSED_TIME</th><th>AIR_TIME</th><th>DISTANCE</th><th>WHEELS_ON</th><th>TAXI_IN</th><th>SCHEDULED_ARRIVAL</th><th>ARRIVAL_TIME</th><th>ARRIVAL_DELAY</th><th>DIVERTED</th><th>CANCELLED</th><th>CANCELLATION_REASON</th><th>AIR_SYSTEM_DELAY</th><th>SECURITY_DELAY</th><th>AIRLINE_DELAY</th><th>LATE_AIRCRAFT_DELAY</th><th>WEATHER_DELAY</th></tr><tr><td>i32</td><td>i32</td><td>i32</td><td>i32</td><td>str</td><td>i32</td><td>str</td><td>str</td><td>str</td><td>i32</td><td>i32</td><td>i32</td><td>i32</td><td>i32</td><td>i32</td><td>i32</td><td>i32</td><td>i32</td><td>i32</td><td>i32</td><td>i32</td><td>i32</td><td>i32</td><td>i32</td><td>i32</td><td>str</td><td>i32</td><td>i32</td><td>i32</td><td>i32</td><td>i32</td></tr></thead><tbody><tr><td>2015</td><td>4</td><td>20</td><td>1</td><td>&quot;AA&quot;</td><td>1297</td><td>&quot;N3BHAA&quot;</td><td>&quot;EWR&quot;</td><td>&quot;JFK&quot;</td><td>1040</td><td>1232</td><td>112</td><td>null</td><td>null</td><td>27</td><td>null</td><td>null</td><td>21</td><td>null</td><td>null</td><td>1107</td><td>null</td><td>null</td><td>0</td><td>1</td><td>&quot;C&quot;</td><td>null</td><td>null</td><td>null</td><td>null</td><td>null</td></tr><tr><td>2015</td><td>1</td><td>28</td><td>3</td><td>&quot;AS&quot;</td><td>64</td><td>&quot;N765AS&quot;</td><td>&quot;PSG&quot;</td><td>&quot;WRG&quot;</td><td>1524</td><td>1612</td><td>48</td><td>9</td><td>1621</td><td>25</td><td>26</td><td>14</td><td>31</td><td>1635</td><td>3</td><td>1549</td><td>1638</td><td>49</td><td>0</td><td>0</td><td>null</td><td>1</td><td>0</td><td>0</td><td>48</td><td>0</td></tr><tr><td>2015</td><td>1</td><td>2</td><td>5</td><td>&quot;AS&quot;</td><td>65</td><td>&quot;N764AS&quot;</td><td>&quot;WRG&quot;</td><td>&quot;PSG&quot;</td><td>1100</td><td>1036</td><td>-24</td><td>7</td><td>1043</td><td>26</td><td>24</td><td>15</td><td>31</td><td>1058</td><td>2</td><td>1126</td><td>1100</td><td>-26</td><td>0</td><td>0</td><td>null</td><td>null</td><td>null</td><td>null</td><td>null</td><td>null</td></tr><tr><td>2015</td><td>1</td><td>2</td><td>5</td><td>&quot;AS&quot;</td><td>64</td><td>&quot;N762AS&quot;</td><td>&quot;PSG&quot;</td><td>&quot;WRG&quot;</td><td>1524</td><td>1538</td><td>14</td><td>9</td><td>1547</td><td>23</td><td>27</td><td>13</td><td>31</td><td>1600</td><td>5</td><td>1547</td><td>1605</td><td>18</td><td>0</td><td>0</td><td>null</td><td>4</td><td>0</td><td>0</td><td>14</td><td>0</td></tr><tr><td>2015</td><td>1</td><td>3</td><td>6</td><td>&quot;AS&quot;</td><td>65</td><td>&quot;N788AS&quot;</td><td>&quot;WRG&quot;</td><td>&quot;PSG&quot;</td><td>1100</td><td>1051</td><td>-9</td><td>3</td><td>1054</td><td>26</td><td>18</td><td>11</td><td>31</td><td>1105</td><td>4</td><td>1126</td><td>1109</td><td>-17</td><td>0</td><td>0</td><td>null</td><td>null</td><td>null</td><td>null</td><td>null</td><td>null</td></tr></tbody></table></div>"
            ]
          },
          "metadata": {},
          "execution_count": 9
        }
      ]
    },
    {
      "cell_type": "code",
      "source": [
        "vuelos.bottom_k(5, by='DISTANCE').sort(by='DISTANCE', nulls_last=True)"
      ],
      "metadata": {
        "colab": {
          "base_uri": "https://localhost:8080/",
          "height": 274
        },
        "id": "RtUDUya6zU8V",
        "outputId": "cee4c81b-0e86-4d35-fb9b-24e65560b72d"
      },
      "id": "RtUDUya6zU8V",
      "execution_count": null,
      "outputs": [
        {
          "output_type": "execute_result",
          "data": {
            "text/plain": [
              "shape: (5, 31)\n",
              "┌──────┬───────┬─────┬─────────────┬───┬──────────────┬──────────────┬──────────────┬──────────────┐\n",
              "│ YEAR ┆ MONTH ┆ DAY ┆ DAY_OF_WEEK ┆ … ┆ SECURITY_DEL ┆ AIRLINE_DELA ┆ LATE_AIRCRAF ┆ WEATHER_DELA │\n",
              "│ ---  ┆ ---   ┆ --- ┆ ---         ┆   ┆ AY           ┆ Y            ┆ T_DELAY      ┆ Y            │\n",
              "│ i32  ┆ i32   ┆ i32 ┆ i32         ┆   ┆ ---          ┆ ---          ┆ ---          ┆ ---          │\n",
              "│      ┆       ┆     ┆             ┆   ┆ i32          ┆ i32          ┆ i32          ┆ i32          │\n",
              "╞══════╪═══════╪═════╪═════════════╪═══╪══════════════╪══════════════╪══════════════╪══════════════╡\n",
              "│ 2015 ┆ 4     ┆ 20  ┆ 1           ┆ … ┆ null         ┆ null         ┆ null         ┆ null         │\n",
              "│ 2015 ┆ 1     ┆ 28  ┆ 3           ┆ … ┆ 0            ┆ 0            ┆ 48           ┆ 0            │\n",
              "│ 2015 ┆ 1     ┆ 2   ┆ 5           ┆ … ┆ null         ┆ null         ┆ null         ┆ null         │\n",
              "│ 2015 ┆ 1     ┆ 2   ┆ 5           ┆ … ┆ 0            ┆ 0            ┆ 14           ┆ 0            │\n",
              "│ 2015 ┆ 1     ┆ 3   ┆ 6           ┆ … ┆ null         ┆ null         ┆ null         ┆ null         │\n",
              "└──────┴───────┴─────┴─────────────┴───┴──────────────┴──────────────┴──────────────┴──────────────┘"
            ],
            "text/html": [
              "<div><style>\n",
              ".dataframe > thead > tr,\n",
              ".dataframe > tbody > tr {\n",
              "  text-align: right;\n",
              "  white-space: pre-wrap;\n",
              "}\n",
              "</style>\n",
              "<small>shape: (5, 31)</small><table border=\"1\" class=\"dataframe\"><thead><tr><th>YEAR</th><th>MONTH</th><th>DAY</th><th>DAY_OF_WEEK</th><th>AIRLINE</th><th>FLIGHT_NUMBER</th><th>TAIL_NUMBER</th><th>ORIGIN_AIRPORT</th><th>DESTINATION_AIRPORT</th><th>SCHEDULED_DEPARTURE</th><th>DEPARTURE_TIME</th><th>DEPARTURE_DELAY</th><th>TAXI_OUT</th><th>WHEELS_OFF</th><th>SCHEDULED_TIME</th><th>ELAPSED_TIME</th><th>AIR_TIME</th><th>DISTANCE</th><th>WHEELS_ON</th><th>TAXI_IN</th><th>SCHEDULED_ARRIVAL</th><th>ARRIVAL_TIME</th><th>ARRIVAL_DELAY</th><th>DIVERTED</th><th>CANCELLED</th><th>CANCELLATION_REASON</th><th>AIR_SYSTEM_DELAY</th><th>SECURITY_DELAY</th><th>AIRLINE_DELAY</th><th>LATE_AIRCRAFT_DELAY</th><th>WEATHER_DELAY</th></tr><tr><td>i32</td><td>i32</td><td>i32</td><td>i32</td><td>str</td><td>i32</td><td>str</td><td>str</td><td>str</td><td>i32</td><td>i32</td><td>i32</td><td>i32</td><td>i32</td><td>i32</td><td>i32</td><td>i32</td><td>i32</td><td>i32</td><td>i32</td><td>i32</td><td>i32</td><td>i32</td><td>i32</td><td>i32</td><td>str</td><td>i32</td><td>i32</td><td>i32</td><td>i32</td><td>i32</td></tr></thead><tbody><tr><td>2015</td><td>4</td><td>20</td><td>1</td><td>&quot;AA&quot;</td><td>1297</td><td>&quot;N3BHAA&quot;</td><td>&quot;EWR&quot;</td><td>&quot;JFK&quot;</td><td>1040</td><td>1232</td><td>112</td><td>null</td><td>null</td><td>27</td><td>null</td><td>null</td><td>21</td><td>null</td><td>null</td><td>1107</td><td>null</td><td>null</td><td>0</td><td>1</td><td>&quot;C&quot;</td><td>null</td><td>null</td><td>null</td><td>null</td><td>null</td></tr><tr><td>2015</td><td>1</td><td>28</td><td>3</td><td>&quot;AS&quot;</td><td>64</td><td>&quot;N765AS&quot;</td><td>&quot;PSG&quot;</td><td>&quot;WRG&quot;</td><td>1524</td><td>1612</td><td>48</td><td>9</td><td>1621</td><td>25</td><td>26</td><td>14</td><td>31</td><td>1635</td><td>3</td><td>1549</td><td>1638</td><td>49</td><td>0</td><td>0</td><td>null</td><td>1</td><td>0</td><td>0</td><td>48</td><td>0</td></tr><tr><td>2015</td><td>1</td><td>2</td><td>5</td><td>&quot;AS&quot;</td><td>65</td><td>&quot;N764AS&quot;</td><td>&quot;WRG&quot;</td><td>&quot;PSG&quot;</td><td>1100</td><td>1036</td><td>-24</td><td>7</td><td>1043</td><td>26</td><td>24</td><td>15</td><td>31</td><td>1058</td><td>2</td><td>1126</td><td>1100</td><td>-26</td><td>0</td><td>0</td><td>null</td><td>null</td><td>null</td><td>null</td><td>null</td><td>null</td></tr><tr><td>2015</td><td>1</td><td>2</td><td>5</td><td>&quot;AS&quot;</td><td>64</td><td>&quot;N762AS&quot;</td><td>&quot;PSG&quot;</td><td>&quot;WRG&quot;</td><td>1524</td><td>1538</td><td>14</td><td>9</td><td>1547</td><td>23</td><td>27</td><td>13</td><td>31</td><td>1600</td><td>5</td><td>1547</td><td>1605</td><td>18</td><td>0</td><td>0</td><td>null</td><td>4</td><td>0</td><td>0</td><td>14</td><td>0</td></tr><tr><td>2015</td><td>1</td><td>3</td><td>6</td><td>&quot;AS&quot;</td><td>65</td><td>&quot;N788AS&quot;</td><td>&quot;WRG&quot;</td><td>&quot;PSG&quot;</td><td>1100</td><td>1051</td><td>-9</td><td>3</td><td>1054</td><td>26</td><td>18</td><td>11</td><td>31</td><td>1105</td><td>4</td><td>1126</td><td>1109</td><td>-17</td><td>0</td><td>0</td><td>null</td><td>null</td><td>null</td><td>null</td><td>null</td><td>null</td></tr></tbody></table></div>"
            ]
          },
          "metadata": {},
          "execution_count": 10
        }
      ]
    },
    {
      "cell_type": "markdown",
      "id": "3e5d0d56-2012-4a34-a9ae-7eae6c7af301",
      "metadata": {
        "id": "3e5d0d56-2012-4a34-a9ae-7eae6c7af301"
      },
      "source": [
        "Podemos cambiar el orden con el parámetro `descending=True`"
      ]
    },
    {
      "cell_type": "code",
      "source": [
        "vuelos.bottom_k(5, by='DEPARTURE_DELAY', descending=True).sort(by='DEPARTURE_DELAY', nulls_last=True) # Sort the result of bottom_k and use nulls_last in the sort function"
      ],
      "metadata": {
        "colab": {
          "base_uri": "https://localhost:8080/",
          "height": 312
        },
        "id": "3V9TM-dUzl4f",
        "outputId": "c16dbfb1-6841-46c9-82c7-ee3450f93879"
      },
      "id": "3V9TM-dUzl4f",
      "execution_count": null,
      "outputs": [
        {
          "output_type": "stream",
          "name": "stderr",
          "text": [
            "<ipython-input-11-b2c189e20cc8>:1: DeprecationWarning: The argument `descending` for `DataFrame.bottom_k` is deprecated. It has been renamed to `reverse`.\n",
            "  vuelos.bottom_k(5, by='DEPARTURE_DELAY', descending=True).sort(by='DEPARTURE_DELAY', nulls_last=True) # Sort the result of bottom_k and use nulls_last in the sort function\n"
          ]
        },
        {
          "output_type": "execute_result",
          "data": {
            "text/plain": [
              "shape: (5, 31)\n",
              "┌──────┬───────┬─────┬─────────────┬───┬──────────────┬──────────────┬──────────────┬──────────────┐\n",
              "│ YEAR ┆ MONTH ┆ DAY ┆ DAY_OF_WEEK ┆ … ┆ SECURITY_DEL ┆ AIRLINE_DELA ┆ LATE_AIRCRAF ┆ WEATHER_DELA │\n",
              "│ ---  ┆ ---   ┆ --- ┆ ---         ┆   ┆ AY           ┆ Y            ┆ T_DELAY      ┆ Y            │\n",
              "│ i32  ┆ i32   ┆ i32 ┆ i32         ┆   ┆ ---          ┆ ---          ┆ ---          ┆ ---          │\n",
              "│      ┆       ┆     ┆             ┆   ┆ i32          ┆ i32          ┆ i32          ┆ i32          │\n",
              "╞══════╪═══════╪═════╪═════════════╪═══╪══════════════╪══════════════╪══════════════╪══════════════╡\n",
              "│ 2015 ┆ 11    ┆ 27  ┆ 5           ┆ … ┆ 0            ┆ 1631         ┆ 0            ┆ 0            │\n",
              "│ 2015 ┆ 12    ┆ 31  ┆ 4           ┆ … ┆ 0            ┆ 1636         ┆ 0            ┆ 0            │\n",
              "│ 2015 ┆ 9     ┆ 13  ┆ 7           ┆ … ┆ 0            ┆ 1665         ┆ 0            ┆ 0            │\n",
              "│ 2015 ┆ 8     ┆ 1   ┆ 6           ┆ … ┆ 0            ┆ 1878         ┆ 0            ┆ 0            │\n",
              "│ 2015 ┆ 1     ┆ 23  ┆ 5           ┆ … ┆ 0            ┆ 1971         ┆ 0            ┆ 0            │\n",
              "└──────┴───────┴─────┴─────────────┴───┴──────────────┴──────────────┴──────────────┴──────────────┘"
            ],
            "text/html": [
              "<div><style>\n",
              ".dataframe > thead > tr,\n",
              ".dataframe > tbody > tr {\n",
              "  text-align: right;\n",
              "  white-space: pre-wrap;\n",
              "}\n",
              "</style>\n",
              "<small>shape: (5, 31)</small><table border=\"1\" class=\"dataframe\"><thead><tr><th>YEAR</th><th>MONTH</th><th>DAY</th><th>DAY_OF_WEEK</th><th>AIRLINE</th><th>FLIGHT_NUMBER</th><th>TAIL_NUMBER</th><th>ORIGIN_AIRPORT</th><th>DESTINATION_AIRPORT</th><th>SCHEDULED_DEPARTURE</th><th>DEPARTURE_TIME</th><th>DEPARTURE_DELAY</th><th>TAXI_OUT</th><th>WHEELS_OFF</th><th>SCHEDULED_TIME</th><th>ELAPSED_TIME</th><th>AIR_TIME</th><th>DISTANCE</th><th>WHEELS_ON</th><th>TAXI_IN</th><th>SCHEDULED_ARRIVAL</th><th>ARRIVAL_TIME</th><th>ARRIVAL_DELAY</th><th>DIVERTED</th><th>CANCELLED</th><th>CANCELLATION_REASON</th><th>AIR_SYSTEM_DELAY</th><th>SECURITY_DELAY</th><th>AIRLINE_DELAY</th><th>LATE_AIRCRAFT_DELAY</th><th>WEATHER_DELAY</th></tr><tr><td>i32</td><td>i32</td><td>i32</td><td>i32</td><td>str</td><td>i32</td><td>str</td><td>str</td><td>str</td><td>i32</td><td>i32</td><td>i32</td><td>i32</td><td>i32</td><td>i32</td><td>i32</td><td>i32</td><td>i32</td><td>i32</td><td>i32</td><td>i32</td><td>i32</td><td>i32</td><td>i32</td><td>i32</td><td>str</td><td>i32</td><td>i32</td><td>i32</td><td>i32</td><td>i32</td></tr></thead><tbody><tr><td>2015</td><td>11</td><td>27</td><td>5</td><td>&quot;AA&quot;</td><td>2559</td><td>&quot;N489AA&quot;</td><td>&quot;DTW&quot;</td><td>&quot;ORD&quot;</td><td>1027</td><td>1338</td><td>1631</td><td>14</td><td>1352</td><td>82</td><td>89</td><td>56</td><td>235</td><td>1348</td><td>19</td><td>1049</td><td>1407</td><td>1638</td><td>0</td><td>0</td><td>null</td><td>7</td><td>0</td><td>1631</td><td>0</td><td>0</td></tr><tr><td>2015</td><td>12</td><td>31</td><td>4</td><td>&quot;AA&quot;</td><td>2214</td><td>&quot;N4XKAA&quot;</td><td>&quot;ABQ&quot;</td><td>&quot;DFW&quot;</td><td>1041</td><td>1410</td><td>1649</td><td>12</td><td>1422</td><td>104</td><td>91</td><td>69</td><td>569</td><td>1631</td><td>10</td><td>1325</td><td>1641</td><td>1636</td><td>0</td><td>0</td><td>null</td><td>0</td><td>0</td><td>1636</td><td>0</td><td>0</td></tr><tr><td>2015</td><td>9</td><td>13</td><td>7</td><td>&quot;AA&quot;</td><td>1063</td><td>&quot;N3CAAA&quot;</td><td>&quot;SAN&quot;</td><td>&quot;DFW&quot;</td><td>700</td><td>1050</td><td>1670</td><td>26</td><td>1116</td><td>179</td><td>174</td><td>142</td><td>1171</td><td>1538</td><td>6</td><td>1159</td><td>1544</td><td>1665</td><td>0</td><td>0</td><td>null</td><td>0</td><td>0</td><td>1665</td><td>0</td><td>0</td></tr><tr><td>2015</td><td>8</td><td>1</td><td>6</td><td>&quot;AA&quot;</td><td>96</td><td>&quot;N479AA&quot;</td><td>&quot;RIC&quot;</td><td>&quot;DFW&quot;</td><td>709</td><td>1427</td><td>1878</td><td>28</td><td>1455</td><td>185</td><td>205</td><td>156</td><td>1158</td><td>1631</td><td>21</td><td>914</td><td>1652</td><td>1898</td><td>0</td><td>0</td><td>null</td><td>20</td><td>0</td><td>1878</td><td>0</td><td>0</td></tr><tr><td>2015</td><td>1</td><td>23</td><td>5</td><td>&quot;AA&quot;</td><td>1322</td><td>&quot;N598AA&quot;</td><td>&quot;BHM&quot;</td><td>&quot;DFW&quot;</td><td>700</td><td>1608</td><td>1988</td><td>13</td><td>1621</td><td>134</td><td>117</td><td>99</td><td>597</td><td>1800</td><td>5</td><td>914</td><td>1805</td><td>1971</td><td>0</td><td>0</td><td>null</td><td>0</td><td>0</td><td>1971</td><td>0</td><td>0</td></tr></tbody></table></div>"
            ]
          },
          "metadata": {},
          "execution_count": 11
        }
      ]
    },
    {
      "cell_type": "markdown",
      "id": "a9fe5ace-4df4-4fca-b552-75e28bb39dea",
      "metadata": {
        "id": "a9fe5ace-4df4-4fca-b552-75e28bb39dea"
      },
      "source": [
        "Podemos incluso ordenar por más de una columna y en ese caso le debemos pasar al parámetro `by` una lista con los nombres de las columnas."
      ]
    },
    {
      "cell_type": "code",
      "source": [
        "vuelos.bottom_k(10, by=['DISTANCE', 'AIR_TIME']).sort(by=['DISTANCE', 'AIR_TIME'], nulls_last=True)  ## ordenamos por dos columnas y usamos sort para nulls_last"
      ],
      "metadata": {
        "colab": {
          "base_uri": "https://localhost:8080/",
          "height": 431
        },
        "id": "_m2CF4oFzz5R",
        "outputId": "be2f2d90-2594-497a-b82e-1e0a5be5dffa"
      },
      "id": "_m2CF4oFzz5R",
      "execution_count": null,
      "outputs": [
        {
          "output_type": "execute_result",
          "data": {
            "text/plain": [
              "shape: (10, 31)\n",
              "┌──────┬───────┬─────┬─────────────┬───┬──────────────┬──────────────┬──────────────┬──────────────┐\n",
              "│ YEAR ┆ MONTH ┆ DAY ┆ DAY_OF_WEEK ┆ … ┆ SECURITY_DEL ┆ AIRLINE_DELA ┆ LATE_AIRCRAF ┆ WEATHER_DELA │\n",
              "│ ---  ┆ ---   ┆ --- ┆ ---         ┆   ┆ AY           ┆ Y            ┆ T_DELAY      ┆ Y            │\n",
              "│ i32  ┆ i32   ┆ i32 ┆ i32         ┆   ┆ ---          ┆ ---          ┆ ---          ┆ ---          │\n",
              "│      ┆       ┆     ┆             ┆   ┆ i32          ┆ i32          ┆ i32          ┆ i32          │\n",
              "╞══════╪═══════╪═════╪═════════════╪═══╪══════════════╪══════════════╪══════════════╪══════════════╡\n",
              "│ 2015 ┆ 4     ┆ 20  ┆ 1           ┆ … ┆ null         ┆ null         ┆ null         ┆ null         │\n",
              "│ 2015 ┆ 10    ┆ 16  ┆ 5           ┆ … ┆ null         ┆ null         ┆ null         ┆ null         │\n",
              "│ 2015 ┆ 2     ┆ 17  ┆ 2           ┆ … ┆ null         ┆ null         ┆ null         ┆ null         │\n",
              "│ 2015 ┆ 3     ┆ 3   ┆ 2           ┆ … ┆ null         ┆ null         ┆ null         ┆ null         │\n",
              "│ 2015 ┆ 6     ┆ 21  ┆ 7           ┆ … ┆ null         ┆ null         ┆ null         ┆ null         │\n",
              "│ 2015 ┆ 6     ┆ 24  ┆ 3           ┆ … ┆ null         ┆ null         ┆ null         ┆ null         │\n",
              "│ 2015 ┆ 7     ┆ 8   ┆ 3           ┆ … ┆ null         ┆ null         ┆ null         ┆ null         │\n",
              "│ 2015 ┆ 9     ┆ 20  ┆ 7           ┆ … ┆ null         ┆ null         ┆ null         ┆ null         │\n",
              "│ 2015 ┆ 7     ┆ 22  ┆ 3           ┆ … ┆ null         ┆ null         ┆ null         ┆ null         │\n",
              "│ 2015 ┆ 3     ┆ 9   ┆ 1           ┆ … ┆ null         ┆ null         ┆ null         ┆ null         │\n",
              "└──────┴───────┴─────┴─────────────┴───┴──────────────┴──────────────┴──────────────┴──────────────┘"
            ],
            "text/html": [
              "<div><style>\n",
              ".dataframe > thead > tr,\n",
              ".dataframe > tbody > tr {\n",
              "  text-align: right;\n",
              "  white-space: pre-wrap;\n",
              "}\n",
              "</style>\n",
              "<small>shape: (10, 31)</small><table border=\"1\" class=\"dataframe\"><thead><tr><th>YEAR</th><th>MONTH</th><th>DAY</th><th>DAY_OF_WEEK</th><th>AIRLINE</th><th>FLIGHT_NUMBER</th><th>TAIL_NUMBER</th><th>ORIGIN_AIRPORT</th><th>DESTINATION_AIRPORT</th><th>SCHEDULED_DEPARTURE</th><th>DEPARTURE_TIME</th><th>DEPARTURE_DELAY</th><th>TAXI_OUT</th><th>WHEELS_OFF</th><th>SCHEDULED_TIME</th><th>ELAPSED_TIME</th><th>AIR_TIME</th><th>DISTANCE</th><th>WHEELS_ON</th><th>TAXI_IN</th><th>SCHEDULED_ARRIVAL</th><th>ARRIVAL_TIME</th><th>ARRIVAL_DELAY</th><th>DIVERTED</th><th>CANCELLED</th><th>CANCELLATION_REASON</th><th>AIR_SYSTEM_DELAY</th><th>SECURITY_DELAY</th><th>AIRLINE_DELAY</th><th>LATE_AIRCRAFT_DELAY</th><th>WEATHER_DELAY</th></tr><tr><td>i32</td><td>i32</td><td>i32</td><td>i32</td><td>str</td><td>i32</td><td>str</td><td>str</td><td>str</td><td>i32</td><td>i32</td><td>i32</td><td>i32</td><td>i32</td><td>i32</td><td>i32</td><td>i32</td><td>i32</td><td>i32</td><td>i32</td><td>i32</td><td>i32</td><td>i32</td><td>i32</td><td>i32</td><td>str</td><td>i32</td><td>i32</td><td>i32</td><td>i32</td><td>i32</td></tr></thead><tbody><tr><td>2015</td><td>4</td><td>20</td><td>1</td><td>&quot;AA&quot;</td><td>1297</td><td>&quot;N3BHAA&quot;</td><td>&quot;EWR&quot;</td><td>&quot;JFK&quot;</td><td>1040</td><td>1232</td><td>112</td><td>null</td><td>null</td><td>27</td><td>null</td><td>null</td><td>21</td><td>null</td><td>null</td><td>1107</td><td>null</td><td>null</td><td>0</td><td>1</td><td>&quot;C&quot;</td><td>null</td><td>null</td><td>null</td><td>null</td><td>null</td></tr><tr><td>2015</td><td>10</td><td>16</td><td>5</td><td>&quot;AS&quot;</td><td>65</td><td>&quot;N762AS&quot;</td><td>&quot;15841&quot;</td><td>&quot;14256&quot;</td><td>1110</td><td>1055</td><td>-15</td><td>9</td><td>1104</td><td>24</td><td>21</td><td>7</td><td>31</td><td>1111</td><td>5</td><td>1134</td><td>1116</td><td>-18</td><td>0</td><td>0</td><td>null</td><td>null</td><td>null</td><td>null</td><td>null</td><td>null</td></tr><tr><td>2015</td><td>2</td><td>17</td><td>2</td><td>&quot;AS&quot;</td><td>65</td><td>&quot;N706AS&quot;</td><td>&quot;WRG&quot;</td><td>&quot;PSG&quot;</td><td>1100</td><td>1043</td><td>-17</td><td>4</td><td>1047</td><td>25</td><td>15</td><td>7</td><td>31</td><td>1054</td><td>4</td><td>1125</td><td>1058</td><td>-27</td><td>0</td><td>0</td><td>null</td><td>null</td><td>null</td><td>null</td><td>null</td><td>null</td></tr><tr><td>2015</td><td>3</td><td>3</td><td>2</td><td>&quot;AS&quot;</td><td>64</td><td>&quot;N762AS&quot;</td><td>&quot;PSG&quot;</td><td>&quot;WRG&quot;</td><td>1524</td><td>1515</td><td>-9</td><td>4</td><td>1519</td><td>24</td><td>15</td><td>7</td><td>31</td><td>1526</td><td>4</td><td>1548</td><td>1530</td><td>-18</td><td>0</td><td>0</td><td>null</td><td>null</td><td>null</td><td>null</td><td>null</td><td>null</td></tr><tr><td>2015</td><td>6</td><td>21</td><td>7</td><td>&quot;AS&quot;</td><td>64</td><td>&quot;N768AS&quot;</td><td>&quot;PSG&quot;</td><td>&quot;WRG&quot;</td><td>1621</td><td>1610</td><td>-11</td><td>10</td><td>1620</td><td>24</td><td>22</td><td>7</td><td>31</td><td>1627</td><td>5</td><td>1645</td><td>1632</td><td>-13</td><td>0</td><td>0</td><td>null</td><td>null</td><td>null</td><td>null</td><td>null</td><td>null</td></tr><tr><td>2015</td><td>6</td><td>24</td><td>3</td><td>&quot;AS&quot;</td><td>65</td><td>&quot;N762AS&quot;</td><td>&quot;WRG&quot;</td><td>&quot;PSG&quot;</td><td>1053</td><td>1106</td><td>13</td><td>4</td><td>1110</td><td>18</td><td>15</td><td>7</td><td>31</td><td>1117</td><td>4</td><td>1111</td><td>1121</td><td>10</td><td>0</td><td>0</td><td>null</td><td>null</td><td>null</td><td>null</td><td>null</td><td>null</td></tr><tr><td>2015</td><td>7</td><td>8</td><td>3</td><td>&quot;AS&quot;</td><td>65</td><td>&quot;N795AS&quot;</td><td>&quot;WRG&quot;</td><td>&quot;PSG&quot;</td><td>1053</td><td>1051</td><td>-2</td><td>5</td><td>1056</td><td>18</td><td>16</td><td>7</td><td>31</td><td>1103</td><td>4</td><td>1111</td><td>1107</td><td>-4</td><td>0</td><td>0</td><td>null</td><td>null</td><td>null</td><td>null</td><td>null</td><td>null</td></tr><tr><td>2015</td><td>9</td><td>20</td><td>7</td><td>&quot;AS&quot;</td><td>65</td><td>&quot;N796AS&quot;</td><td>&quot;WRG&quot;</td><td>&quot;PSG&quot;</td><td>1110</td><td>1100</td><td>-10</td><td>5</td><td>1105</td><td>22</td><td>17</td><td>7</td><td>31</td><td>1112</td><td>5</td><td>1132</td><td>1117</td><td>-15</td><td>0</td><td>0</td><td>null</td><td>null</td><td>null</td><td>null</td><td>null</td><td>null</td></tr><tr><td>2015</td><td>7</td><td>22</td><td>3</td><td>&quot;AS&quot;</td><td>65</td><td>&quot;N767AS&quot;</td><td>&quot;WRG&quot;</td><td>&quot;PSG&quot;</td><td>1053</td><td>1040</td><td>-13</td><td>3</td><td>1043</td><td>20</td><td>14</td><td>8</td><td>31</td><td>1051</td><td>3</td><td>1113</td><td>1054</td><td>-19</td><td>0</td><td>0</td><td>null</td><td>null</td><td>null</td><td>null</td><td>null</td><td>null</td></tr><tr><td>2015</td><td>3</td><td>9</td><td>1</td><td>&quot;AS&quot;</td><td>65</td><td>&quot;N797AS&quot;</td><td>&quot;WRG&quot;</td><td>&quot;PSG&quot;</td><td>1101</td><td>1054</td><td>-7</td><td>8</td><td>1102</td><td>20</td><td>21</td><td>8</td><td>31</td><td>1110</td><td>5</td><td>1121</td><td>1115</td><td>-6</td><td>0</td><td>0</td><td>null</td><td>null</td><td>null</td><td>null</td><td>null</td><td>null</td></tr></tbody></table></div>"
            ]
          },
          "metadata": {},
          "execution_count": 12
        }
      ]
    },
    {
      "cell_type": "markdown",
      "id": "b6a32e8c-1db0-4b53-827d-eb2c4fbffb6a",
      "metadata": {
        "id": "b6a32e8c-1db0-4b53-827d-eb2c4fbffb6a"
      },
      "source": [
        "### Eliminar columnas del DataFrame"
      ]
    },
    {
      "cell_type": "markdown",
      "id": "de01ece1-b969-4344-9f11-248ab540a0e8",
      "metadata": {
        "id": "de01ece1-b969-4344-9f11-248ab540a0e8"
      },
      "source": [
        "La función `drop` elimina la(s) columna(s) seleccionada(s) y devuelve un nuevo DataFrame."
      ]
    },
    {
      "cell_type": "code",
      "execution_count": null,
      "id": "8f4c8e36-6d26-4d58-9f7b-6fdb981a9462",
      "metadata": {
        "tags": [],
        "colab": {
          "base_uri": "https://localhost:8080/",
          "height": 463
        },
        "id": "8f4c8e36-6d26-4d58-9f7b-6fdb981a9462",
        "outputId": "4a55fe32-fdd9-48a2-84df-8eed3cadf661"
      },
      "outputs": [
        {
          "output_type": "execute_result",
          "data": {
            "text/plain": [
              "shape: (5_819_079, 30)\n",
              "┌──────┬───────┬─────┬─────────────┬───┬──────────────┬──────────────┬──────────────┬──────────────┐\n",
              "│ YEAR ┆ MONTH ┆ DAY ┆ DAY_OF_WEEK ┆ … ┆ AIR_SYSTEM_D ┆ SECURITY_DEL ┆ AIRLINE_DELA ┆ LATE_AIRCRAF │\n",
              "│ ---  ┆ ---   ┆ --- ┆ ---         ┆   ┆ ELAY         ┆ AY           ┆ Y            ┆ T_DELAY      │\n",
              "│ i32  ┆ i32   ┆ i32 ┆ i32         ┆   ┆ ---          ┆ ---          ┆ ---          ┆ ---          │\n",
              "│      ┆       ┆     ┆             ┆   ┆ i32          ┆ i32          ┆ i32          ┆ i32          │\n",
              "╞══════╪═══════╪═════╪═════════════╪═══╪══════════════╪══════════════╪══════════════╪══════════════╡\n",
              "│ 2015 ┆ 1     ┆ 1   ┆ 4           ┆ … ┆ null         ┆ null         ┆ null         ┆ null         │\n",
              "│ 2015 ┆ 1     ┆ 1   ┆ 4           ┆ … ┆ null         ┆ null         ┆ null         ┆ null         │\n",
              "│ 2015 ┆ 1     ┆ 1   ┆ 4           ┆ … ┆ null         ┆ null         ┆ null         ┆ null         │\n",
              "│ 2015 ┆ 1     ┆ 1   ┆ 4           ┆ … ┆ null         ┆ null         ┆ null         ┆ null         │\n",
              "│ 2015 ┆ 1     ┆ 1   ┆ 4           ┆ … ┆ null         ┆ null         ┆ null         ┆ null         │\n",
              "│ …    ┆ …     ┆ …   ┆ …           ┆ … ┆ …            ┆ …            ┆ …            ┆ …            │\n",
              "│ 2015 ┆ 12    ┆ 31  ┆ 4           ┆ … ┆ null         ┆ null         ┆ null         ┆ null         │\n",
              "│ 2015 ┆ 12    ┆ 31  ┆ 4           ┆ … ┆ null         ┆ null         ┆ null         ┆ null         │\n",
              "│ 2015 ┆ 12    ┆ 31  ┆ 4           ┆ … ┆ null         ┆ null         ┆ null         ┆ null         │\n",
              "│ 2015 ┆ 12    ┆ 31  ┆ 4           ┆ … ┆ null         ┆ null         ┆ null         ┆ null         │\n",
              "│ 2015 ┆ 12    ┆ 31  ┆ 4           ┆ … ┆ null         ┆ null         ┆ null         ┆ null         │\n",
              "└──────┴───────┴─────┴─────────────┴───┴──────────────┴──────────────┴──────────────┴──────────────┘"
            ],
            "text/html": [
              "<div><style>\n",
              ".dataframe > thead > tr,\n",
              ".dataframe > tbody > tr {\n",
              "  text-align: right;\n",
              "  white-space: pre-wrap;\n",
              "}\n",
              "</style>\n",
              "<small>shape: (5_819_079, 30)</small><table border=\"1\" class=\"dataframe\"><thead><tr><th>YEAR</th><th>MONTH</th><th>DAY</th><th>DAY_OF_WEEK</th><th>AIRLINE</th><th>FLIGHT_NUMBER</th><th>TAIL_NUMBER</th><th>ORIGIN_AIRPORT</th><th>DESTINATION_AIRPORT</th><th>SCHEDULED_DEPARTURE</th><th>DEPARTURE_TIME</th><th>DEPARTURE_DELAY</th><th>TAXI_OUT</th><th>WHEELS_OFF</th><th>SCHEDULED_TIME</th><th>ELAPSED_TIME</th><th>AIR_TIME</th><th>DISTANCE</th><th>WHEELS_ON</th><th>TAXI_IN</th><th>SCHEDULED_ARRIVAL</th><th>ARRIVAL_TIME</th><th>ARRIVAL_DELAY</th><th>DIVERTED</th><th>CANCELLED</th><th>CANCELLATION_REASON</th><th>AIR_SYSTEM_DELAY</th><th>SECURITY_DELAY</th><th>AIRLINE_DELAY</th><th>LATE_AIRCRAFT_DELAY</th></tr><tr><td>i32</td><td>i32</td><td>i32</td><td>i32</td><td>str</td><td>i32</td><td>str</td><td>str</td><td>str</td><td>i32</td><td>i32</td><td>i32</td><td>i32</td><td>i32</td><td>i32</td><td>i32</td><td>i32</td><td>i32</td><td>i32</td><td>i32</td><td>i32</td><td>i32</td><td>i32</td><td>i32</td><td>i32</td><td>str</td><td>i32</td><td>i32</td><td>i32</td><td>i32</td></tr></thead><tbody><tr><td>2015</td><td>1</td><td>1</td><td>4</td><td>&quot;AS&quot;</td><td>98</td><td>&quot;N407AS&quot;</td><td>&quot;ANC&quot;</td><td>&quot;SEA&quot;</td><td>5</td><td>2354</td><td>-11</td><td>21</td><td>15</td><td>205</td><td>194</td><td>169</td><td>1448</td><td>404</td><td>4</td><td>430</td><td>408</td><td>-22</td><td>0</td><td>0</td><td>null</td><td>null</td><td>null</td><td>null</td><td>null</td></tr><tr><td>2015</td><td>1</td><td>1</td><td>4</td><td>&quot;AA&quot;</td><td>2336</td><td>&quot;N3KUAA&quot;</td><td>&quot;LAX&quot;</td><td>&quot;PBI&quot;</td><td>10</td><td>2</td><td>-8</td><td>12</td><td>14</td><td>280</td><td>279</td><td>263</td><td>2330</td><td>737</td><td>4</td><td>750</td><td>741</td><td>-9</td><td>0</td><td>0</td><td>null</td><td>null</td><td>null</td><td>null</td><td>null</td></tr><tr><td>2015</td><td>1</td><td>1</td><td>4</td><td>&quot;US&quot;</td><td>840</td><td>&quot;N171US&quot;</td><td>&quot;SFO&quot;</td><td>&quot;CLT&quot;</td><td>20</td><td>18</td><td>-2</td><td>16</td><td>34</td><td>286</td><td>293</td><td>266</td><td>2296</td><td>800</td><td>11</td><td>806</td><td>811</td><td>5</td><td>0</td><td>0</td><td>null</td><td>null</td><td>null</td><td>null</td><td>null</td></tr><tr><td>2015</td><td>1</td><td>1</td><td>4</td><td>&quot;AA&quot;</td><td>258</td><td>&quot;N3HYAA&quot;</td><td>&quot;LAX&quot;</td><td>&quot;MIA&quot;</td><td>20</td><td>15</td><td>-5</td><td>15</td><td>30</td><td>285</td><td>281</td><td>258</td><td>2342</td><td>748</td><td>8</td><td>805</td><td>756</td><td>-9</td><td>0</td><td>0</td><td>null</td><td>null</td><td>null</td><td>null</td><td>null</td></tr><tr><td>2015</td><td>1</td><td>1</td><td>4</td><td>&quot;AS&quot;</td><td>135</td><td>&quot;N527AS&quot;</td><td>&quot;SEA&quot;</td><td>&quot;ANC&quot;</td><td>25</td><td>24</td><td>-1</td><td>11</td><td>35</td><td>235</td><td>215</td><td>199</td><td>1448</td><td>254</td><td>5</td><td>320</td><td>259</td><td>-21</td><td>0</td><td>0</td><td>null</td><td>null</td><td>null</td><td>null</td><td>null</td></tr><tr><td>&hellip;</td><td>&hellip;</td><td>&hellip;</td><td>&hellip;</td><td>&hellip;</td><td>&hellip;</td><td>&hellip;</td><td>&hellip;</td><td>&hellip;</td><td>&hellip;</td><td>&hellip;</td><td>&hellip;</td><td>&hellip;</td><td>&hellip;</td><td>&hellip;</td><td>&hellip;</td><td>&hellip;</td><td>&hellip;</td><td>&hellip;</td><td>&hellip;</td><td>&hellip;</td><td>&hellip;</td><td>&hellip;</td><td>&hellip;</td><td>&hellip;</td><td>&hellip;</td><td>&hellip;</td><td>&hellip;</td><td>&hellip;</td><td>&hellip;</td></tr><tr><td>2015</td><td>12</td><td>31</td><td>4</td><td>&quot;B6&quot;</td><td>688</td><td>&quot;N657JB&quot;</td><td>&quot;LAX&quot;</td><td>&quot;BOS&quot;</td><td>2359</td><td>2355</td><td>-4</td><td>22</td><td>17</td><td>320</td><td>298</td><td>272</td><td>2611</td><td>749</td><td>4</td><td>819</td><td>753</td><td>-26</td><td>0</td><td>0</td><td>null</td><td>null</td><td>null</td><td>null</td><td>null</td></tr><tr><td>2015</td><td>12</td><td>31</td><td>4</td><td>&quot;B6&quot;</td><td>745</td><td>&quot;N828JB&quot;</td><td>&quot;JFK&quot;</td><td>&quot;PSE&quot;</td><td>2359</td><td>2355</td><td>-4</td><td>17</td><td>12</td><td>227</td><td>215</td><td>195</td><td>1617</td><td>427</td><td>3</td><td>446</td><td>430</td><td>-16</td><td>0</td><td>0</td><td>null</td><td>null</td><td>null</td><td>null</td><td>null</td></tr><tr><td>2015</td><td>12</td><td>31</td><td>4</td><td>&quot;B6&quot;</td><td>1503</td><td>&quot;N913JB&quot;</td><td>&quot;JFK&quot;</td><td>&quot;SJU&quot;</td><td>2359</td><td>2350</td><td>-9</td><td>17</td><td>7</td><td>221</td><td>222</td><td>197</td><td>1598</td><td>424</td><td>8</td><td>440</td><td>432</td><td>-8</td><td>0</td><td>0</td><td>null</td><td>null</td><td>null</td><td>null</td><td>null</td></tr><tr><td>2015</td><td>12</td><td>31</td><td>4</td><td>&quot;B6&quot;</td><td>333</td><td>&quot;N527JB&quot;</td><td>&quot;MCO&quot;</td><td>&quot;SJU&quot;</td><td>2359</td><td>2353</td><td>-6</td><td>10</td><td>3</td><td>161</td><td>157</td><td>144</td><td>1189</td><td>327</td><td>3</td><td>340</td><td>330</td><td>-10</td><td>0</td><td>0</td><td>null</td><td>null</td><td>null</td><td>null</td><td>null</td></tr><tr><td>2015</td><td>12</td><td>31</td><td>4</td><td>&quot;B6&quot;</td><td>839</td><td>&quot;N534JB&quot;</td><td>&quot;JFK&quot;</td><td>&quot;BQN&quot;</td><td>2359</td><td>14</td><td>15</td><td>14</td><td>28</td><td>221</td><td>208</td><td>189</td><td>1576</td><td>437</td><td>5</td><td>440</td><td>442</td><td>2</td><td>0</td><td>0</td><td>null</td><td>null</td><td>null</td><td>null</td><td>null</td></tr></tbody></table></div>"
            ]
          },
          "metadata": {},
          "execution_count": 13
        }
      ],
      "source": [
        "vuelos.drop('WEATHER_DELAY')  ## eliminacion de la columna\n",
        "\n"
      ]
    },
    {
      "cell_type": "code",
      "source": [
        "vuelos.drop(['WEATHER_DELAY', 'LATE_AIRCRAFT_DELAY']) ## en una lista señalamos las que debe borrar"
      ],
      "metadata": {
        "colab": {
          "base_uri": "https://localhost:8080/",
          "height": 463
        },
        "id": "tlhAPNeTz-bL",
        "outputId": "645fd50a-7940-4df5-8a90-7cbd384fc1c4"
      },
      "id": "tlhAPNeTz-bL",
      "execution_count": null,
      "outputs": [
        {
          "output_type": "execute_result",
          "data": {
            "text/plain": [
              "shape: (5_819_079, 29)\n",
              "┌──────┬───────┬─────┬─────────────┬───┬──────────────┬──────────────┬──────────────┬──────────────┐\n",
              "│ YEAR ┆ MONTH ┆ DAY ┆ DAY_OF_WEEK ┆ … ┆ CANCELLATION ┆ AIR_SYSTEM_D ┆ SECURITY_DEL ┆ AIRLINE_DELA │\n",
              "│ ---  ┆ ---   ┆ --- ┆ ---         ┆   ┆ _REASON      ┆ ELAY         ┆ AY           ┆ Y            │\n",
              "│ i32  ┆ i32   ┆ i32 ┆ i32         ┆   ┆ ---          ┆ ---          ┆ ---          ┆ ---          │\n",
              "│      ┆       ┆     ┆             ┆   ┆ str          ┆ i32          ┆ i32          ┆ i32          │\n",
              "╞══════╪═══════╪═════╪═════════════╪═══╪══════════════╪══════════════╪══════════════╪══════════════╡\n",
              "│ 2015 ┆ 1     ┆ 1   ┆ 4           ┆ … ┆ null         ┆ null         ┆ null         ┆ null         │\n",
              "│ 2015 ┆ 1     ┆ 1   ┆ 4           ┆ … ┆ null         ┆ null         ┆ null         ┆ null         │\n",
              "│ 2015 ┆ 1     ┆ 1   ┆ 4           ┆ … ┆ null         ┆ null         ┆ null         ┆ null         │\n",
              "│ 2015 ┆ 1     ┆ 1   ┆ 4           ┆ … ┆ null         ┆ null         ┆ null         ┆ null         │\n",
              "│ 2015 ┆ 1     ┆ 1   ┆ 4           ┆ … ┆ null         ┆ null         ┆ null         ┆ null         │\n",
              "│ …    ┆ …     ┆ …   ┆ …           ┆ … ┆ …            ┆ …            ┆ …            ┆ …            │\n",
              "│ 2015 ┆ 12    ┆ 31  ┆ 4           ┆ … ┆ null         ┆ null         ┆ null         ┆ null         │\n",
              "│ 2015 ┆ 12    ┆ 31  ┆ 4           ┆ … ┆ null         ┆ null         ┆ null         ┆ null         │\n",
              "│ 2015 ┆ 12    ┆ 31  ┆ 4           ┆ … ┆ null         ┆ null         ┆ null         ┆ null         │\n",
              "│ 2015 ┆ 12    ┆ 31  ┆ 4           ┆ … ┆ null         ┆ null         ┆ null         ┆ null         │\n",
              "│ 2015 ┆ 12    ┆ 31  ┆ 4           ┆ … ┆ null         ┆ null         ┆ null         ┆ null         │\n",
              "└──────┴───────┴─────┴─────────────┴───┴──────────────┴──────────────┴──────────────┴──────────────┘"
            ],
            "text/html": [
              "<div><style>\n",
              ".dataframe > thead > tr,\n",
              ".dataframe > tbody > tr {\n",
              "  text-align: right;\n",
              "  white-space: pre-wrap;\n",
              "}\n",
              "</style>\n",
              "<small>shape: (5_819_079, 29)</small><table border=\"1\" class=\"dataframe\"><thead><tr><th>YEAR</th><th>MONTH</th><th>DAY</th><th>DAY_OF_WEEK</th><th>AIRLINE</th><th>FLIGHT_NUMBER</th><th>TAIL_NUMBER</th><th>ORIGIN_AIRPORT</th><th>DESTINATION_AIRPORT</th><th>SCHEDULED_DEPARTURE</th><th>DEPARTURE_TIME</th><th>DEPARTURE_DELAY</th><th>TAXI_OUT</th><th>WHEELS_OFF</th><th>SCHEDULED_TIME</th><th>ELAPSED_TIME</th><th>AIR_TIME</th><th>DISTANCE</th><th>WHEELS_ON</th><th>TAXI_IN</th><th>SCHEDULED_ARRIVAL</th><th>ARRIVAL_TIME</th><th>ARRIVAL_DELAY</th><th>DIVERTED</th><th>CANCELLED</th><th>CANCELLATION_REASON</th><th>AIR_SYSTEM_DELAY</th><th>SECURITY_DELAY</th><th>AIRLINE_DELAY</th></tr><tr><td>i32</td><td>i32</td><td>i32</td><td>i32</td><td>str</td><td>i32</td><td>str</td><td>str</td><td>str</td><td>i32</td><td>i32</td><td>i32</td><td>i32</td><td>i32</td><td>i32</td><td>i32</td><td>i32</td><td>i32</td><td>i32</td><td>i32</td><td>i32</td><td>i32</td><td>i32</td><td>i32</td><td>i32</td><td>str</td><td>i32</td><td>i32</td><td>i32</td></tr></thead><tbody><tr><td>2015</td><td>1</td><td>1</td><td>4</td><td>&quot;AS&quot;</td><td>98</td><td>&quot;N407AS&quot;</td><td>&quot;ANC&quot;</td><td>&quot;SEA&quot;</td><td>5</td><td>2354</td><td>-11</td><td>21</td><td>15</td><td>205</td><td>194</td><td>169</td><td>1448</td><td>404</td><td>4</td><td>430</td><td>408</td><td>-22</td><td>0</td><td>0</td><td>null</td><td>null</td><td>null</td><td>null</td></tr><tr><td>2015</td><td>1</td><td>1</td><td>4</td><td>&quot;AA&quot;</td><td>2336</td><td>&quot;N3KUAA&quot;</td><td>&quot;LAX&quot;</td><td>&quot;PBI&quot;</td><td>10</td><td>2</td><td>-8</td><td>12</td><td>14</td><td>280</td><td>279</td><td>263</td><td>2330</td><td>737</td><td>4</td><td>750</td><td>741</td><td>-9</td><td>0</td><td>0</td><td>null</td><td>null</td><td>null</td><td>null</td></tr><tr><td>2015</td><td>1</td><td>1</td><td>4</td><td>&quot;US&quot;</td><td>840</td><td>&quot;N171US&quot;</td><td>&quot;SFO&quot;</td><td>&quot;CLT&quot;</td><td>20</td><td>18</td><td>-2</td><td>16</td><td>34</td><td>286</td><td>293</td><td>266</td><td>2296</td><td>800</td><td>11</td><td>806</td><td>811</td><td>5</td><td>0</td><td>0</td><td>null</td><td>null</td><td>null</td><td>null</td></tr><tr><td>2015</td><td>1</td><td>1</td><td>4</td><td>&quot;AA&quot;</td><td>258</td><td>&quot;N3HYAA&quot;</td><td>&quot;LAX&quot;</td><td>&quot;MIA&quot;</td><td>20</td><td>15</td><td>-5</td><td>15</td><td>30</td><td>285</td><td>281</td><td>258</td><td>2342</td><td>748</td><td>8</td><td>805</td><td>756</td><td>-9</td><td>0</td><td>0</td><td>null</td><td>null</td><td>null</td><td>null</td></tr><tr><td>2015</td><td>1</td><td>1</td><td>4</td><td>&quot;AS&quot;</td><td>135</td><td>&quot;N527AS&quot;</td><td>&quot;SEA&quot;</td><td>&quot;ANC&quot;</td><td>25</td><td>24</td><td>-1</td><td>11</td><td>35</td><td>235</td><td>215</td><td>199</td><td>1448</td><td>254</td><td>5</td><td>320</td><td>259</td><td>-21</td><td>0</td><td>0</td><td>null</td><td>null</td><td>null</td><td>null</td></tr><tr><td>&hellip;</td><td>&hellip;</td><td>&hellip;</td><td>&hellip;</td><td>&hellip;</td><td>&hellip;</td><td>&hellip;</td><td>&hellip;</td><td>&hellip;</td><td>&hellip;</td><td>&hellip;</td><td>&hellip;</td><td>&hellip;</td><td>&hellip;</td><td>&hellip;</td><td>&hellip;</td><td>&hellip;</td><td>&hellip;</td><td>&hellip;</td><td>&hellip;</td><td>&hellip;</td><td>&hellip;</td><td>&hellip;</td><td>&hellip;</td><td>&hellip;</td><td>&hellip;</td><td>&hellip;</td><td>&hellip;</td><td>&hellip;</td></tr><tr><td>2015</td><td>12</td><td>31</td><td>4</td><td>&quot;B6&quot;</td><td>688</td><td>&quot;N657JB&quot;</td><td>&quot;LAX&quot;</td><td>&quot;BOS&quot;</td><td>2359</td><td>2355</td><td>-4</td><td>22</td><td>17</td><td>320</td><td>298</td><td>272</td><td>2611</td><td>749</td><td>4</td><td>819</td><td>753</td><td>-26</td><td>0</td><td>0</td><td>null</td><td>null</td><td>null</td><td>null</td></tr><tr><td>2015</td><td>12</td><td>31</td><td>4</td><td>&quot;B6&quot;</td><td>745</td><td>&quot;N828JB&quot;</td><td>&quot;JFK&quot;</td><td>&quot;PSE&quot;</td><td>2359</td><td>2355</td><td>-4</td><td>17</td><td>12</td><td>227</td><td>215</td><td>195</td><td>1617</td><td>427</td><td>3</td><td>446</td><td>430</td><td>-16</td><td>0</td><td>0</td><td>null</td><td>null</td><td>null</td><td>null</td></tr><tr><td>2015</td><td>12</td><td>31</td><td>4</td><td>&quot;B6&quot;</td><td>1503</td><td>&quot;N913JB&quot;</td><td>&quot;JFK&quot;</td><td>&quot;SJU&quot;</td><td>2359</td><td>2350</td><td>-9</td><td>17</td><td>7</td><td>221</td><td>222</td><td>197</td><td>1598</td><td>424</td><td>8</td><td>440</td><td>432</td><td>-8</td><td>0</td><td>0</td><td>null</td><td>null</td><td>null</td><td>null</td></tr><tr><td>2015</td><td>12</td><td>31</td><td>4</td><td>&quot;B6&quot;</td><td>333</td><td>&quot;N527JB&quot;</td><td>&quot;MCO&quot;</td><td>&quot;SJU&quot;</td><td>2359</td><td>2353</td><td>-6</td><td>10</td><td>3</td><td>161</td><td>157</td><td>144</td><td>1189</td><td>327</td><td>3</td><td>340</td><td>330</td><td>-10</td><td>0</td><td>0</td><td>null</td><td>null</td><td>null</td><td>null</td></tr><tr><td>2015</td><td>12</td><td>31</td><td>4</td><td>&quot;B6&quot;</td><td>839</td><td>&quot;N534JB&quot;</td><td>&quot;JFK&quot;</td><td>&quot;BQN&quot;</td><td>2359</td><td>14</td><td>15</td><td>14</td><td>28</td><td>221</td><td>208</td><td>189</td><td>1576</td><td>437</td><td>5</td><td>440</td><td>442</td><td>2</td><td>0</td><td>0</td><td>null</td><td>null</td><td>null</td><td>null</td></tr></tbody></table></div>"
            ]
          },
          "metadata": {},
          "execution_count": 14
        }
      ]
    },
    {
      "cell_type": "markdown",
      "id": "1e2f8af0-8106-462a-a4c8-f3b8e2b0cebe",
      "metadata": {
        "id": "1e2f8af0-8106-462a-a4c8-f3b8e2b0cebe"
      },
      "source": [
        "La función `drop_in_place` elimina la columna seleccionada y retorna la columna eliminada. Tenga en cuenta que esta opción si cambia el DataFrame al cual se le aplica esta función."
      ]
    },
    {
      "cell_type": "code",
      "execution_count": null,
      "id": "ccdf4131-418a-4feb-aca3-9565ad886f08",
      "metadata": {
        "tags": [],
        "colab": {
          "base_uri": "https://localhost:8080/",
          "height": 463
        },
        "id": "ccdf4131-418a-4feb-aca3-9565ad886f08",
        "outputId": "da4dfbd5-d42b-4f8b-e2f3-bf7978893224"
      },
      "outputs": [
        {
          "output_type": "display_data",
          "data": {
            "text/plain": [
              "shape: (5_819_079, 30)\n",
              "┌──────┬───────┬─────┬─────────────┬───┬──────────────┬──────────────┬──────────────┬──────────────┐\n",
              "│ YEAR ┆ MONTH ┆ DAY ┆ DAY_OF_WEEK ┆ … ┆ AIR_SYSTEM_D ┆ SECURITY_DEL ┆ AIRLINE_DELA ┆ LATE_AIRCRAF │\n",
              "│ ---  ┆ ---   ┆ --- ┆ ---         ┆   ┆ ELAY         ┆ AY           ┆ Y            ┆ T_DELAY      │\n",
              "│ i32  ┆ i32   ┆ i32 ┆ i32         ┆   ┆ ---          ┆ ---          ┆ ---          ┆ ---          │\n",
              "│      ┆       ┆     ┆             ┆   ┆ i32          ┆ i32          ┆ i32          ┆ i32          │\n",
              "╞══════╪═══════╪═════╪═════════════╪═══╪══════════════╪══════════════╪══════════════╪══════════════╡\n",
              "│ 2015 ┆ 1     ┆ 1   ┆ 4           ┆ … ┆ null         ┆ null         ┆ null         ┆ null         │\n",
              "│ 2015 ┆ 1     ┆ 1   ┆ 4           ┆ … ┆ null         ┆ null         ┆ null         ┆ null         │\n",
              "│ 2015 ┆ 1     ┆ 1   ┆ 4           ┆ … ┆ null         ┆ null         ┆ null         ┆ null         │\n",
              "│ 2015 ┆ 1     ┆ 1   ┆ 4           ┆ … ┆ null         ┆ null         ┆ null         ┆ null         │\n",
              "│ 2015 ┆ 1     ┆ 1   ┆ 4           ┆ … ┆ null         ┆ null         ┆ null         ┆ null         │\n",
              "│ …    ┆ …     ┆ …   ┆ …           ┆ … ┆ …            ┆ …            ┆ …            ┆ …            │\n",
              "│ 2015 ┆ 12    ┆ 31  ┆ 4           ┆ … ┆ null         ┆ null         ┆ null         ┆ null         │\n",
              "│ 2015 ┆ 12    ┆ 31  ┆ 4           ┆ … ┆ null         ┆ null         ┆ null         ┆ null         │\n",
              "│ 2015 ┆ 12    ┆ 31  ┆ 4           ┆ … ┆ null         ┆ null         ┆ null         ┆ null         │\n",
              "│ 2015 ┆ 12    ┆ 31  ┆ 4           ┆ … ┆ null         ┆ null         ┆ null         ┆ null         │\n",
              "│ 2015 ┆ 12    ┆ 31  ┆ 4           ┆ … ┆ null         ┆ null         ┆ null         ┆ null         │\n",
              "└──────┴───────┴─────┴─────────────┴───┴──────────────┴──────────────┴──────────────┴──────────────┘"
            ],
            "text/html": [
              "<div><style>\n",
              ".dataframe > thead > tr,\n",
              ".dataframe > tbody > tr {\n",
              "  text-align: right;\n",
              "  white-space: pre-wrap;\n",
              "}\n",
              "</style>\n",
              "<small>shape: (5_819_079, 30)</small><table border=\"1\" class=\"dataframe\"><thead><tr><th>YEAR</th><th>MONTH</th><th>DAY</th><th>DAY_OF_WEEK</th><th>AIRLINE</th><th>FLIGHT_NUMBER</th><th>TAIL_NUMBER</th><th>ORIGIN_AIRPORT</th><th>DESTINATION_AIRPORT</th><th>SCHEDULED_DEPARTURE</th><th>DEPARTURE_TIME</th><th>DEPARTURE_DELAY</th><th>TAXI_OUT</th><th>WHEELS_OFF</th><th>SCHEDULED_TIME</th><th>ELAPSED_TIME</th><th>AIR_TIME</th><th>DISTANCE</th><th>WHEELS_ON</th><th>TAXI_IN</th><th>SCHEDULED_ARRIVAL</th><th>ARRIVAL_TIME</th><th>ARRIVAL_DELAY</th><th>DIVERTED</th><th>CANCELLED</th><th>CANCELLATION_REASON</th><th>AIR_SYSTEM_DELAY</th><th>SECURITY_DELAY</th><th>AIRLINE_DELAY</th><th>LATE_AIRCRAFT_DELAY</th></tr><tr><td>i32</td><td>i32</td><td>i32</td><td>i32</td><td>str</td><td>i32</td><td>str</td><td>str</td><td>str</td><td>i32</td><td>i32</td><td>i32</td><td>i32</td><td>i32</td><td>i32</td><td>i32</td><td>i32</td><td>i32</td><td>i32</td><td>i32</td><td>i32</td><td>i32</td><td>i32</td><td>i32</td><td>i32</td><td>str</td><td>i32</td><td>i32</td><td>i32</td><td>i32</td></tr></thead><tbody><tr><td>2015</td><td>1</td><td>1</td><td>4</td><td>&quot;AS&quot;</td><td>98</td><td>&quot;N407AS&quot;</td><td>&quot;ANC&quot;</td><td>&quot;SEA&quot;</td><td>5</td><td>2354</td><td>-11</td><td>21</td><td>15</td><td>205</td><td>194</td><td>169</td><td>1448</td><td>404</td><td>4</td><td>430</td><td>408</td><td>-22</td><td>0</td><td>0</td><td>null</td><td>null</td><td>null</td><td>null</td><td>null</td></tr><tr><td>2015</td><td>1</td><td>1</td><td>4</td><td>&quot;AA&quot;</td><td>2336</td><td>&quot;N3KUAA&quot;</td><td>&quot;LAX&quot;</td><td>&quot;PBI&quot;</td><td>10</td><td>2</td><td>-8</td><td>12</td><td>14</td><td>280</td><td>279</td><td>263</td><td>2330</td><td>737</td><td>4</td><td>750</td><td>741</td><td>-9</td><td>0</td><td>0</td><td>null</td><td>null</td><td>null</td><td>null</td><td>null</td></tr><tr><td>2015</td><td>1</td><td>1</td><td>4</td><td>&quot;US&quot;</td><td>840</td><td>&quot;N171US&quot;</td><td>&quot;SFO&quot;</td><td>&quot;CLT&quot;</td><td>20</td><td>18</td><td>-2</td><td>16</td><td>34</td><td>286</td><td>293</td><td>266</td><td>2296</td><td>800</td><td>11</td><td>806</td><td>811</td><td>5</td><td>0</td><td>0</td><td>null</td><td>null</td><td>null</td><td>null</td><td>null</td></tr><tr><td>2015</td><td>1</td><td>1</td><td>4</td><td>&quot;AA&quot;</td><td>258</td><td>&quot;N3HYAA&quot;</td><td>&quot;LAX&quot;</td><td>&quot;MIA&quot;</td><td>20</td><td>15</td><td>-5</td><td>15</td><td>30</td><td>285</td><td>281</td><td>258</td><td>2342</td><td>748</td><td>8</td><td>805</td><td>756</td><td>-9</td><td>0</td><td>0</td><td>null</td><td>null</td><td>null</td><td>null</td><td>null</td></tr><tr><td>2015</td><td>1</td><td>1</td><td>4</td><td>&quot;AS&quot;</td><td>135</td><td>&quot;N527AS&quot;</td><td>&quot;SEA&quot;</td><td>&quot;ANC&quot;</td><td>25</td><td>24</td><td>-1</td><td>11</td><td>35</td><td>235</td><td>215</td><td>199</td><td>1448</td><td>254</td><td>5</td><td>320</td><td>259</td><td>-21</td><td>0</td><td>0</td><td>null</td><td>null</td><td>null</td><td>null</td><td>null</td></tr><tr><td>&hellip;</td><td>&hellip;</td><td>&hellip;</td><td>&hellip;</td><td>&hellip;</td><td>&hellip;</td><td>&hellip;</td><td>&hellip;</td><td>&hellip;</td><td>&hellip;</td><td>&hellip;</td><td>&hellip;</td><td>&hellip;</td><td>&hellip;</td><td>&hellip;</td><td>&hellip;</td><td>&hellip;</td><td>&hellip;</td><td>&hellip;</td><td>&hellip;</td><td>&hellip;</td><td>&hellip;</td><td>&hellip;</td><td>&hellip;</td><td>&hellip;</td><td>&hellip;</td><td>&hellip;</td><td>&hellip;</td><td>&hellip;</td><td>&hellip;</td></tr><tr><td>2015</td><td>12</td><td>31</td><td>4</td><td>&quot;B6&quot;</td><td>688</td><td>&quot;N657JB&quot;</td><td>&quot;LAX&quot;</td><td>&quot;BOS&quot;</td><td>2359</td><td>2355</td><td>-4</td><td>22</td><td>17</td><td>320</td><td>298</td><td>272</td><td>2611</td><td>749</td><td>4</td><td>819</td><td>753</td><td>-26</td><td>0</td><td>0</td><td>null</td><td>null</td><td>null</td><td>null</td><td>null</td></tr><tr><td>2015</td><td>12</td><td>31</td><td>4</td><td>&quot;B6&quot;</td><td>745</td><td>&quot;N828JB&quot;</td><td>&quot;JFK&quot;</td><td>&quot;PSE&quot;</td><td>2359</td><td>2355</td><td>-4</td><td>17</td><td>12</td><td>227</td><td>215</td><td>195</td><td>1617</td><td>427</td><td>3</td><td>446</td><td>430</td><td>-16</td><td>0</td><td>0</td><td>null</td><td>null</td><td>null</td><td>null</td><td>null</td></tr><tr><td>2015</td><td>12</td><td>31</td><td>4</td><td>&quot;B6&quot;</td><td>1503</td><td>&quot;N913JB&quot;</td><td>&quot;JFK&quot;</td><td>&quot;SJU&quot;</td><td>2359</td><td>2350</td><td>-9</td><td>17</td><td>7</td><td>221</td><td>222</td><td>197</td><td>1598</td><td>424</td><td>8</td><td>440</td><td>432</td><td>-8</td><td>0</td><td>0</td><td>null</td><td>null</td><td>null</td><td>null</td><td>null</td></tr><tr><td>2015</td><td>12</td><td>31</td><td>4</td><td>&quot;B6&quot;</td><td>333</td><td>&quot;N527JB&quot;</td><td>&quot;MCO&quot;</td><td>&quot;SJU&quot;</td><td>2359</td><td>2353</td><td>-6</td><td>10</td><td>3</td><td>161</td><td>157</td><td>144</td><td>1189</td><td>327</td><td>3</td><td>340</td><td>330</td><td>-10</td><td>0</td><td>0</td><td>null</td><td>null</td><td>null</td><td>null</td><td>null</td></tr><tr><td>2015</td><td>12</td><td>31</td><td>4</td><td>&quot;B6&quot;</td><td>839</td><td>&quot;N534JB&quot;</td><td>&quot;JFK&quot;</td><td>&quot;BQN&quot;</td><td>2359</td><td>14</td><td>15</td><td>14</td><td>28</td><td>221</td><td>208</td><td>189</td><td>1576</td><td>437</td><td>5</td><td>440</td><td>442</td><td>2</td><td>0</td><td>0</td><td>null</td><td>null</td><td>null</td><td>null</td><td>null</td></tr></tbody></table></div>"
            ]
          },
          "metadata": {}
        }
      ],
      "source": [
        "vuelos.drop_in_place('WEATHER_DELAY')  ## eliminar la columna en el dataframe original\n",
        "\n",
        "display(vuelos)"
      ]
    },
    {
      "cell_type": "code",
      "source": [
        "vuelos.columns"
      ],
      "metadata": {
        "colab": {
          "base_uri": "https://localhost:8080/"
        },
        "id": "J8STr-Do0jZB",
        "outputId": "71640924-534e-4909-a400-e16948e5a186"
      },
      "id": "J8STr-Do0jZB",
      "execution_count": null,
      "outputs": [
        {
          "output_type": "execute_result",
          "data": {
            "text/plain": [
              "['YEAR',\n",
              " 'MONTH',\n",
              " 'DAY',\n",
              " 'DAY_OF_WEEK',\n",
              " 'AIRLINE',\n",
              " 'FLIGHT_NUMBER',\n",
              " 'TAIL_NUMBER',\n",
              " 'ORIGIN_AIRPORT',\n",
              " 'DESTINATION_AIRPORT',\n",
              " 'SCHEDULED_DEPARTURE',\n",
              " 'DEPARTURE_TIME',\n",
              " 'DEPARTURE_DELAY',\n",
              " 'TAXI_OUT',\n",
              " 'WHEELS_OFF',\n",
              " 'SCHEDULED_TIME',\n",
              " 'ELAPSED_TIME',\n",
              " 'AIR_TIME',\n",
              " 'DISTANCE',\n",
              " 'WHEELS_ON',\n",
              " 'TAXI_IN',\n",
              " 'SCHEDULED_ARRIVAL',\n",
              " 'ARRIVAL_TIME',\n",
              " 'ARRIVAL_DELAY',\n",
              " 'DIVERTED',\n",
              " 'CANCELLED',\n",
              " 'CANCELLATION_REASON',\n",
              " 'AIR_SYSTEM_DELAY',\n",
              " 'SECURITY_DELAY',\n",
              " 'AIRLINE_DELAY',\n",
              " 'LATE_AIRCRAFT_DELAY']"
            ]
          },
          "metadata": {},
          "execution_count": 16
        }
      ]
    },
    {
      "cell_type": "markdown",
      "id": "a1888609-c647-4519-b14b-90175831c3bc",
      "metadata": {
        "id": "a1888609-c647-4519-b14b-90175831c3bc"
      },
      "source": [
        "### Eliminar todas las filas que contengan valores nulos"
      ]
    },
    {
      "cell_type": "code",
      "source": [
        "vuelos.height ## nuemro de filas del dataframe"
      ],
      "metadata": {
        "colab": {
          "base_uri": "https://localhost:8080/"
        },
        "id": "5c_ziUH-0oUR",
        "outputId": "9b6ca5dd-5c9f-45a9-a925-2d6a8fbbe39d"
      },
      "id": "5c_ziUH-0oUR",
      "execution_count": null,
      "outputs": [
        {
          "output_type": "execute_result",
          "data": {
            "text/plain": [
              "5819079"
            ]
          },
          "metadata": {},
          "execution_count": 17
        }
      ]
    },
    {
      "cell_type": "code",
      "execution_count": null,
      "id": "e1091fec-1e49-4b10-aedb-43b859579f46",
      "metadata": {
        "tags": [],
        "colab": {
          "base_uri": "https://localhost:8080/",
          "height": 118
        },
        "id": "e1091fec-1e49-4b10-aedb-43b859579f46",
        "outputId": "bff13ee6-a1ff-4455-b406-991bd0525b39"
      },
      "outputs": [
        {
          "output_type": "execute_result",
          "data": {
            "text/plain": [
              "shape: (0, 30)\n",
              "┌──────┬───────┬─────┬─────────────┬───┬──────────────┬──────────────┬──────────────┬──────────────┐\n",
              "│ YEAR ┆ MONTH ┆ DAY ┆ DAY_OF_WEEK ┆ … ┆ AIR_SYSTEM_D ┆ SECURITY_DEL ┆ AIRLINE_DELA ┆ LATE_AIRCRAF │\n",
              "│ ---  ┆ ---   ┆ --- ┆ ---         ┆   ┆ ELAY         ┆ AY           ┆ Y            ┆ T_DELAY      │\n",
              "│ i32  ┆ i32   ┆ i32 ┆ i32         ┆   ┆ ---          ┆ ---          ┆ ---          ┆ ---          │\n",
              "│      ┆       ┆     ┆             ┆   ┆ i32          ┆ i32          ┆ i32          ┆ i32          │\n",
              "╞══════╪═══════╪═════╪═════════════╪═══╪══════════════╪══════════════╪══════════════╪══════════════╡\n",
              "└──────┴───────┴─────┴─────────────┴───┴──────────────┴──────────────┴──────────────┴──────────────┘"
            ],
            "text/html": [
              "<div><style>\n",
              ".dataframe > thead > tr,\n",
              ".dataframe > tbody > tr {\n",
              "  text-align: right;\n",
              "  white-space: pre-wrap;\n",
              "}\n",
              "</style>\n",
              "<small>shape: (0, 30)</small><table border=\"1\" class=\"dataframe\"><thead><tr><th>YEAR</th><th>MONTH</th><th>DAY</th><th>DAY_OF_WEEK</th><th>AIRLINE</th><th>FLIGHT_NUMBER</th><th>TAIL_NUMBER</th><th>ORIGIN_AIRPORT</th><th>DESTINATION_AIRPORT</th><th>SCHEDULED_DEPARTURE</th><th>DEPARTURE_TIME</th><th>DEPARTURE_DELAY</th><th>TAXI_OUT</th><th>WHEELS_OFF</th><th>SCHEDULED_TIME</th><th>ELAPSED_TIME</th><th>AIR_TIME</th><th>DISTANCE</th><th>WHEELS_ON</th><th>TAXI_IN</th><th>SCHEDULED_ARRIVAL</th><th>ARRIVAL_TIME</th><th>ARRIVAL_DELAY</th><th>DIVERTED</th><th>CANCELLED</th><th>CANCELLATION_REASON</th><th>AIR_SYSTEM_DELAY</th><th>SECURITY_DELAY</th><th>AIRLINE_DELAY</th><th>LATE_AIRCRAFT_DELAY</th></tr><tr><td>i32</td><td>i32</td><td>i32</td><td>i32</td><td>str</td><td>i32</td><td>str</td><td>str</td><td>str</td><td>i32</td><td>i32</td><td>i32</td><td>i32</td><td>i32</td><td>i32</td><td>i32</td><td>i32</td><td>i32</td><td>i32</td><td>i32</td><td>i32</td><td>i32</td><td>i32</td><td>i32</td><td>i32</td><td>str</td><td>i32</td><td>i32</td><td>i32</td><td>i32</td></tr></thead><tbody></tbody></table></div>"
            ]
          },
          "metadata": {},
          "execution_count": 18
        }
      ],
      "source": [
        "vuelos.drop_nulls() ## nos da un dataframe vacio no hay filas con nulos"
      ]
    },
    {
      "cell_type": "markdown",
      "id": "c8f2a9b1-7fcf-4118-8217-408079f114bf",
      "metadata": {
        "id": "c8f2a9b1-7fcf-4118-8217-408079f114bf"
      },
      "source": [
        "Esta es la forma más sencilla de utilizar esta función, pero existen formas más avanzadas con las cuales podríamos por ejemplo borrar solo aquellas filas donde exista un nulo en las columnas de tipo enteras. Veamos un ejemplo."
      ]
    },
    {
      "cell_type": "code",
      "execution_count": null,
      "id": "a5914152-89d5-42f3-93d3-cd77d3faba58",
      "metadata": {
        "colab": {
          "base_uri": "https://localhost:8080/",
          "height": 463
        },
        "id": "a5914152-89d5-42f3-93d3-cd77d3faba58",
        "outputId": "1eaba6e4-c66e-4439-eb4f-66d4f96358f1"
      },
      "outputs": [
        {
          "output_type": "execute_result",
          "data": {
            "text/plain": [
              "shape: (1_063_439, 30)\n",
              "┌──────┬───────┬─────┬─────────────┬───┬──────────────┬──────────────┬──────────────┬──────────────┐\n",
              "│ YEAR ┆ MONTH ┆ DAY ┆ DAY_OF_WEEK ┆ … ┆ AIR_SYSTEM_D ┆ SECURITY_DEL ┆ AIRLINE_DELA ┆ LATE_AIRCRAF │\n",
              "│ ---  ┆ ---   ┆ --- ┆ ---         ┆   ┆ ELAY         ┆ AY           ┆ Y            ┆ T_DELAY      │\n",
              "│ i32  ┆ i32   ┆ i32 ┆ i32         ┆   ┆ ---          ┆ ---          ┆ ---          ┆ ---          │\n",
              "│      ┆       ┆     ┆             ┆   ┆ i32          ┆ i32          ┆ i32          ┆ i32          │\n",
              "╞══════╪═══════╪═════╪═════════════╪═══╪══════════════╪══════════════╪══════════════╪══════════════╡\n",
              "│ 2015 ┆ 1     ┆ 1   ┆ 4           ┆ … ┆ 25           ┆ 0            ┆ 0            ┆ 0            │\n",
              "│ 2015 ┆ 1     ┆ 1   ┆ 4           ┆ … ┆ 43           ┆ 0            ┆ 0            ┆ 0            │\n",
              "│ 2015 ┆ 1     ┆ 1   ┆ 4           ┆ … ┆ 0            ┆ 0            ┆ 15           ┆ 0            │\n",
              "│ 2015 ┆ 1     ┆ 1   ┆ 4           ┆ … ┆ 20           ┆ 0            ┆ 0            ┆ 0            │\n",
              "│ 2015 ┆ 1     ┆ 1   ┆ 4           ┆ … ┆ 0            ┆ 0            ┆ 85           ┆ 0            │\n",
              "│ …    ┆ …     ┆ …   ┆ …           ┆ … ┆ …            ┆ …            ┆ …            ┆ …            │\n",
              "│ 2015 ┆ 12    ┆ 31  ┆ 4           ┆ … ┆ 0            ┆ 0            ┆ 17           ┆ 3            │\n",
              "│ 2015 ┆ 12    ┆ 31  ┆ 4           ┆ … ┆ 12           ┆ 0            ┆ 16           ┆ 0            │\n",
              "│ 2015 ┆ 12    ┆ 31  ┆ 4           ┆ … ┆ 15           ┆ 0            ┆ 13           ┆ 0            │\n",
              "│ 2015 ┆ 12    ┆ 31  ┆ 4           ┆ … ┆ 0            ┆ 0            ┆ 159          ┆ 0            │\n",
              "│ 2015 ┆ 12    ┆ 31  ┆ 4           ┆ … ┆ 1            ┆ 0            ┆ 16           ┆ 0            │\n",
              "└──────┴───────┴─────┴─────────────┴───┴──────────────┴──────────────┴──────────────┴──────────────┘"
            ],
            "text/html": [
              "<div><style>\n",
              ".dataframe > thead > tr,\n",
              ".dataframe > tbody > tr {\n",
              "  text-align: right;\n",
              "  white-space: pre-wrap;\n",
              "}\n",
              "</style>\n",
              "<small>shape: (1_063_439, 30)</small><table border=\"1\" class=\"dataframe\"><thead><tr><th>YEAR</th><th>MONTH</th><th>DAY</th><th>DAY_OF_WEEK</th><th>AIRLINE</th><th>FLIGHT_NUMBER</th><th>TAIL_NUMBER</th><th>ORIGIN_AIRPORT</th><th>DESTINATION_AIRPORT</th><th>SCHEDULED_DEPARTURE</th><th>DEPARTURE_TIME</th><th>DEPARTURE_DELAY</th><th>TAXI_OUT</th><th>WHEELS_OFF</th><th>SCHEDULED_TIME</th><th>ELAPSED_TIME</th><th>AIR_TIME</th><th>DISTANCE</th><th>WHEELS_ON</th><th>TAXI_IN</th><th>SCHEDULED_ARRIVAL</th><th>ARRIVAL_TIME</th><th>ARRIVAL_DELAY</th><th>DIVERTED</th><th>CANCELLED</th><th>CANCELLATION_REASON</th><th>AIR_SYSTEM_DELAY</th><th>SECURITY_DELAY</th><th>AIRLINE_DELAY</th><th>LATE_AIRCRAFT_DELAY</th></tr><tr><td>i32</td><td>i32</td><td>i32</td><td>i32</td><td>str</td><td>i32</td><td>str</td><td>str</td><td>str</td><td>i32</td><td>i32</td><td>i32</td><td>i32</td><td>i32</td><td>i32</td><td>i32</td><td>i32</td><td>i32</td><td>i32</td><td>i32</td><td>i32</td><td>i32</td><td>i32</td><td>i32</td><td>i32</td><td>str</td><td>i32</td><td>i32</td><td>i32</td><td>i32</td></tr></thead><tbody><tr><td>2015</td><td>1</td><td>1</td><td>4</td><td>&quot;NK&quot;</td><td>597</td><td>&quot;N528NK&quot;</td><td>&quot;MSP&quot;</td><td>&quot;FLL&quot;</td><td>115</td><td>127</td><td>12</td><td>14</td><td>141</td><td>207</td><td>220</td><td>166</td><td>1487</td><td>527</td><td>40</td><td>542</td><td>607</td><td>25</td><td>0</td><td>0</td><td>null</td><td>25</td><td>0</td><td>0</td><td>0</td></tr><tr><td>2015</td><td>1</td><td>1</td><td>4</td><td>&quot;NK&quot;</td><td>168</td><td>&quot;N629NK&quot;</td><td>&quot;PHX&quot;</td><td>&quot;ORD&quot;</td><td>125</td><td>237</td><td>72</td><td>9</td><td>246</td><td>204</td><td>175</td><td>156</td><td>1440</td><td>622</td><td>10</td><td>549</td><td>632</td><td>43</td><td>0</td><td>0</td><td>null</td><td>43</td><td>0</td><td>0</td><td>0</td></tr><tr><td>2015</td><td>1</td><td>1</td><td>4</td><td>&quot;HA&quot;</td><td>17</td><td>&quot;N389HA&quot;</td><td>&quot;LAS&quot;</td><td>&quot;HNL&quot;</td><td>145</td><td>145</td><td>0</td><td>16</td><td>201</td><td>370</td><td>385</td><td>361</td><td>2762</td><td>602</td><td>8</td><td>555</td><td>610</td><td>15</td><td>0</td><td>0</td><td>null</td><td>0</td><td>0</td><td>15</td><td>0</td></tr><tr><td>2015</td><td>1</td><td>1</td><td>4</td><td>&quot;B6&quot;</td><td>1030</td><td>&quot;N239JB&quot;</td><td>&quot;BQN&quot;</td><td>&quot;MCO&quot;</td><td>307</td><td>304</td><td>-3</td><td>25</td><td>329</td><td>173</td><td>196</td><td>160</td><td>1129</td><td>509</td><td>11</td><td>500</td><td>520</td><td>20</td><td>0</td><td>0</td><td>null</td><td>20</td><td>0</td><td>0</td><td>0</td></tr><tr><td>2015</td><td>1</td><td>1</td><td>4</td><td>&quot;B6&quot;</td><td>2134</td><td>&quot;N307JB&quot;</td><td>&quot;SJU&quot;</td><td>&quot;MCO&quot;</td><td>400</td><td>535</td><td>95</td><td>9</td><td>544</td><td>185</td><td>175</td><td>163</td><td>1189</td><td>727</td><td>3</td><td>605</td><td>730</td><td>85</td><td>0</td><td>0</td><td>null</td><td>0</td><td>0</td><td>85</td><td>0</td></tr><tr><td>&hellip;</td><td>&hellip;</td><td>&hellip;</td><td>&hellip;</td><td>&hellip;</td><td>&hellip;</td><td>&hellip;</td><td>&hellip;</td><td>&hellip;</td><td>&hellip;</td><td>&hellip;</td><td>&hellip;</td><td>&hellip;</td><td>&hellip;</td><td>&hellip;</td><td>&hellip;</td><td>&hellip;</td><td>&hellip;</td><td>&hellip;</td><td>&hellip;</td><td>&hellip;</td><td>&hellip;</td><td>&hellip;</td><td>&hellip;</td><td>&hellip;</td><td>&hellip;</td><td>&hellip;</td><td>&hellip;</td><td>&hellip;</td><td>&hellip;</td></tr><tr><td>2015</td><td>12</td><td>31</td><td>4</td><td>&quot;B6&quot;</td><td>1029</td><td>&quot;N328JB&quot;</td><td>&quot;MCO&quot;</td><td>&quot;BQN&quot;</td><td>2342</td><td>3</td><td>21</td><td>10</td><td>13</td><td>163</td><td>162</td><td>145</td><td>1129</td><td>338</td><td>7</td><td>325</td><td>345</td><td>20</td><td>0</td><td>0</td><td>null</td><td>0</td><td>0</td><td>17</td><td>3</td></tr><tr><td>2015</td><td>12</td><td>31</td><td>4</td><td>&quot;AS&quot;</td><td>28</td><td>&quot;N477AS&quot;</td><td>&quot;SEA&quot;</td><td>&quot;MSP&quot;</td><td>2355</td><td>11</td><td>16</td><td>10</td><td>21</td><td>192</td><td>204</td><td>189</td><td>1399</td><td>530</td><td>5</td><td>507</td><td>535</td><td>28</td><td>0</td><td>0</td><td>null</td><td>12</td><td>0</td><td>16</td><td>0</td></tr><tr><td>2015</td><td>12</td><td>31</td><td>4</td><td>&quot;NK&quot;</td><td>371</td><td>&quot;N661NK&quot;</td><td>&quot;FLL&quot;</td><td>&quot;BQN&quot;</td><td>2358</td><td>11</td><td>13</td><td>15</td><td>26</td><td>140</td><td>155</td><td>121</td><td>982</td><td>327</td><td>19</td><td>318</td><td>346</td><td>28</td><td>0</td><td>0</td><td>null</td><td>15</td><td>0</td><td>13</td><td>0</td></tr><tr><td>2015</td><td>12</td><td>31</td><td>4</td><td>&quot;B6&quot;</td><td>1248</td><td>&quot;N948JB&quot;</td><td>&quot;LAS&quot;</td><td>&quot;JFK&quot;</td><td>2359</td><td>238</td><td>159</td><td>34</td><td>312</td><td>282</td><td>282</td><td>243</td><td>2248</td><td>1015</td><td>5</td><td>741</td><td>1020</td><td>159</td><td>0</td><td>0</td><td>null</td><td>0</td><td>0</td><td>159</td><td>0</td></tr><tr><td>2015</td><td>12</td><td>31</td><td>4</td><td>&quot;B6&quot;</td><td>802</td><td>&quot;N589JB&quot;</td><td>&quot;SLC&quot;</td><td>&quot;MCO&quot;</td><td>2359</td><td>15</td><td>16</td><td>14</td><td>29</td><td>249</td><td>250</td><td>211</td><td>1931</td><td>600</td><td>25</td><td>608</td><td>625</td><td>17</td><td>0</td><td>0</td><td>null</td><td>1</td><td>0</td><td>16</td><td>0</td></tr></tbody></table></div>"
            ]
          },
          "metadata": {},
          "execution_count": 19
        }
      ],
      "source": [
        "import polars.selectors as cs\n",
        "\n",
        "vuelos.drop_nulls(  ### le indicamos la estategia con el parametro subset columnas de tipo enteras filas nulos columnas enteras\n",
        "    subset=cs.integer()\n",
        ")"
      ]
    },
    {
      "cell_type": "code",
      "source": [
        "vuelos.head(3)"
      ],
      "metadata": {
        "colab": {
          "base_uri": "https://localhost:8080/",
          "height": 212
        },
        "id": "Et3BZ14Q1G7l",
        "outputId": "52aa9327-22ab-4cc5-9f83-68cf1ca0d577"
      },
      "id": "Et3BZ14Q1G7l",
      "execution_count": null,
      "outputs": [
        {
          "output_type": "execute_result",
          "data": {
            "text/plain": [
              "shape: (3, 30)\n",
              "┌──────┬───────┬─────┬─────────────┬───┬──────────────┬──────────────┬──────────────┬──────────────┐\n",
              "│ YEAR ┆ MONTH ┆ DAY ┆ DAY_OF_WEEK ┆ … ┆ AIR_SYSTEM_D ┆ SECURITY_DEL ┆ AIRLINE_DELA ┆ LATE_AIRCRAF │\n",
              "│ ---  ┆ ---   ┆ --- ┆ ---         ┆   ┆ ELAY         ┆ AY           ┆ Y            ┆ T_DELAY      │\n",
              "│ i32  ┆ i32   ┆ i32 ┆ i32         ┆   ┆ ---          ┆ ---          ┆ ---          ┆ ---          │\n",
              "│      ┆       ┆     ┆             ┆   ┆ i32          ┆ i32          ┆ i32          ┆ i32          │\n",
              "╞══════╪═══════╪═════╪═════════════╪═══╪══════════════╪══════════════╪══════════════╪══════════════╡\n",
              "│ 2015 ┆ 1     ┆ 1   ┆ 4           ┆ … ┆ null         ┆ null         ┆ null         ┆ null         │\n",
              "│ 2015 ┆ 1     ┆ 1   ┆ 4           ┆ … ┆ null         ┆ null         ┆ null         ┆ null         │\n",
              "│ 2015 ┆ 1     ┆ 1   ┆ 4           ┆ … ┆ null         ┆ null         ┆ null         ┆ null         │\n",
              "└──────┴───────┴─────┴─────────────┴───┴──────────────┴──────────────┴──────────────┴──────────────┘"
            ],
            "text/html": [
              "<div><style>\n",
              ".dataframe > thead > tr,\n",
              ".dataframe > tbody > tr {\n",
              "  text-align: right;\n",
              "  white-space: pre-wrap;\n",
              "}\n",
              "</style>\n",
              "<small>shape: (3, 30)</small><table border=\"1\" class=\"dataframe\"><thead><tr><th>YEAR</th><th>MONTH</th><th>DAY</th><th>DAY_OF_WEEK</th><th>AIRLINE</th><th>FLIGHT_NUMBER</th><th>TAIL_NUMBER</th><th>ORIGIN_AIRPORT</th><th>DESTINATION_AIRPORT</th><th>SCHEDULED_DEPARTURE</th><th>DEPARTURE_TIME</th><th>DEPARTURE_DELAY</th><th>TAXI_OUT</th><th>WHEELS_OFF</th><th>SCHEDULED_TIME</th><th>ELAPSED_TIME</th><th>AIR_TIME</th><th>DISTANCE</th><th>WHEELS_ON</th><th>TAXI_IN</th><th>SCHEDULED_ARRIVAL</th><th>ARRIVAL_TIME</th><th>ARRIVAL_DELAY</th><th>DIVERTED</th><th>CANCELLED</th><th>CANCELLATION_REASON</th><th>AIR_SYSTEM_DELAY</th><th>SECURITY_DELAY</th><th>AIRLINE_DELAY</th><th>LATE_AIRCRAFT_DELAY</th></tr><tr><td>i32</td><td>i32</td><td>i32</td><td>i32</td><td>str</td><td>i32</td><td>str</td><td>str</td><td>str</td><td>i32</td><td>i32</td><td>i32</td><td>i32</td><td>i32</td><td>i32</td><td>i32</td><td>i32</td><td>i32</td><td>i32</td><td>i32</td><td>i32</td><td>i32</td><td>i32</td><td>i32</td><td>i32</td><td>str</td><td>i32</td><td>i32</td><td>i32</td><td>i32</td></tr></thead><tbody><tr><td>2015</td><td>1</td><td>1</td><td>4</td><td>&quot;AS&quot;</td><td>98</td><td>&quot;N407AS&quot;</td><td>&quot;ANC&quot;</td><td>&quot;SEA&quot;</td><td>5</td><td>2354</td><td>-11</td><td>21</td><td>15</td><td>205</td><td>194</td><td>169</td><td>1448</td><td>404</td><td>4</td><td>430</td><td>408</td><td>-22</td><td>0</td><td>0</td><td>null</td><td>null</td><td>null</td><td>null</td><td>null</td></tr><tr><td>2015</td><td>1</td><td>1</td><td>4</td><td>&quot;AA&quot;</td><td>2336</td><td>&quot;N3KUAA&quot;</td><td>&quot;LAX&quot;</td><td>&quot;PBI&quot;</td><td>10</td><td>2</td><td>-8</td><td>12</td><td>14</td><td>280</td><td>279</td><td>263</td><td>2330</td><td>737</td><td>4</td><td>750</td><td>741</td><td>-9</td><td>0</td><td>0</td><td>null</td><td>null</td><td>null</td><td>null</td><td>null</td></tr><tr><td>2015</td><td>1</td><td>1</td><td>4</td><td>&quot;US&quot;</td><td>840</td><td>&quot;N171US&quot;</td><td>&quot;SFO&quot;</td><td>&quot;CLT&quot;</td><td>20</td><td>18</td><td>-2</td><td>16</td><td>34</td><td>286</td><td>293</td><td>266</td><td>2296</td><td>800</td><td>11</td><td>806</td><td>811</td><td>5</td><td>0</td><td>0</td><td>null</td><td>null</td><td>null</td><td>null</td><td>null</td></tr></tbody></table></div>"
            ]
          },
          "metadata": {},
          "execution_count": 20
        }
      ]
    },
    {
      "cell_type": "markdown",
      "id": "1c76a7dd-aa14-445d-af63-ccc7c205e7c3",
      "metadata": {
        "id": "1c76a7dd-aa14-445d-af63-ccc7c205e7c3"
      },
      "source": [
        "Este tipo de ejemplos y otros los pueden consultar en la documentación de Polars si desean profundizar en el tema.\n",
        "\n",
        "[Ver ejemplos más avanzados](https://pola-rs.github.io/polars/py-polars/html/reference/dataframe/api/polars.DataFrame.drop_nulls.html#polars.DataFrame.drop_nulls)"
      ]
    },
    {
      "cell_type": "markdown",
      "id": "33a16cd6-b409-4472-8888-65969ef976f7",
      "metadata": {
        "id": "33a16cd6-b409-4472-8888-65969ef976f7"
      },
      "source": [
        "### Rellenar valores nulos"
      ]
    },
    {
      "cell_type": "markdown",
      "id": "e426cdd7-558e-4658-858a-0e14fce64725",
      "metadata": {
        "id": "e426cdd7-558e-4658-858a-0e14fce64725"
      },
      "source": [
        "La forma más sencilla de rellenar los valores nulos es proporcionarle a la función `fill_null` el valor con el cual deseamos rellenar los nulos."
      ]
    },
    {
      "cell_type": "code",
      "execution_count": null,
      "id": "c7411f8c-f794-4d6c-a832-d262a94887a0",
      "metadata": {
        "tags": [],
        "colab": {
          "base_uri": "https://localhost:8080/",
          "height": 463
        },
        "id": "c7411f8c-f794-4d6c-a832-d262a94887a0",
        "outputId": "c61a1d43-42da-4bcf-ce03-86c5c62af9c5"
      },
      "outputs": [
        {
          "output_type": "execute_result",
          "data": {
            "text/plain": [
              "shape: (5_819_079, 30)\n",
              "┌──────┬───────┬─────┬─────────────┬───┬──────────────┬──────────────┬──────────────┬──────────────┐\n",
              "│ YEAR ┆ MONTH ┆ DAY ┆ DAY_OF_WEEK ┆ … ┆ AIR_SYSTEM_D ┆ SECURITY_DEL ┆ AIRLINE_DELA ┆ LATE_AIRCRAF │\n",
              "│ ---  ┆ ---   ┆ --- ┆ ---         ┆   ┆ ELAY         ┆ AY           ┆ Y            ┆ T_DELAY      │\n",
              "│ i32  ┆ i32   ┆ i32 ┆ i32         ┆   ┆ ---          ┆ ---          ┆ ---          ┆ ---          │\n",
              "│      ┆       ┆     ┆             ┆   ┆ i32          ┆ i32          ┆ i32          ┆ i32          │\n",
              "╞══════╪═══════╪═════╪═════════════╪═══╪══════════════╪══════════════╪══════════════╪══════════════╡\n",
              "│ 2015 ┆ 1     ┆ 1   ┆ 4           ┆ … ┆ -99          ┆ -99          ┆ -99          ┆ -99          │\n",
              "│ 2015 ┆ 1     ┆ 1   ┆ 4           ┆ … ┆ -99          ┆ -99          ┆ -99          ┆ -99          │\n",
              "│ 2015 ┆ 1     ┆ 1   ┆ 4           ┆ … ┆ -99          ┆ -99          ┆ -99          ┆ -99          │\n",
              "│ 2015 ┆ 1     ┆ 1   ┆ 4           ┆ … ┆ -99          ┆ -99          ┆ -99          ┆ -99          │\n",
              "│ 2015 ┆ 1     ┆ 1   ┆ 4           ┆ … ┆ -99          ┆ -99          ┆ -99          ┆ -99          │\n",
              "│ …    ┆ …     ┆ …   ┆ …           ┆ … ┆ …            ┆ …            ┆ …            ┆ …            │\n",
              "│ 2015 ┆ 12    ┆ 31  ┆ 4           ┆ … ┆ -99          ┆ -99          ┆ -99          ┆ -99          │\n",
              "│ 2015 ┆ 12    ┆ 31  ┆ 4           ┆ … ┆ -99          ┆ -99          ┆ -99          ┆ -99          │\n",
              "│ 2015 ┆ 12    ┆ 31  ┆ 4           ┆ … ┆ -99          ┆ -99          ┆ -99          ┆ -99          │\n",
              "│ 2015 ┆ 12    ┆ 31  ┆ 4           ┆ … ┆ -99          ┆ -99          ┆ -99          ┆ -99          │\n",
              "│ 2015 ┆ 12    ┆ 31  ┆ 4           ┆ … ┆ -99          ┆ -99          ┆ -99          ┆ -99          │\n",
              "└──────┴───────┴─────┴─────────────┴───┴──────────────┴──────────────┴──────────────┴──────────────┘"
            ],
            "text/html": [
              "<div><style>\n",
              ".dataframe > thead > tr,\n",
              ".dataframe > tbody > tr {\n",
              "  text-align: right;\n",
              "  white-space: pre-wrap;\n",
              "}\n",
              "</style>\n",
              "<small>shape: (5_819_079, 30)</small><table border=\"1\" class=\"dataframe\"><thead><tr><th>YEAR</th><th>MONTH</th><th>DAY</th><th>DAY_OF_WEEK</th><th>AIRLINE</th><th>FLIGHT_NUMBER</th><th>TAIL_NUMBER</th><th>ORIGIN_AIRPORT</th><th>DESTINATION_AIRPORT</th><th>SCHEDULED_DEPARTURE</th><th>DEPARTURE_TIME</th><th>DEPARTURE_DELAY</th><th>TAXI_OUT</th><th>WHEELS_OFF</th><th>SCHEDULED_TIME</th><th>ELAPSED_TIME</th><th>AIR_TIME</th><th>DISTANCE</th><th>WHEELS_ON</th><th>TAXI_IN</th><th>SCHEDULED_ARRIVAL</th><th>ARRIVAL_TIME</th><th>ARRIVAL_DELAY</th><th>DIVERTED</th><th>CANCELLED</th><th>CANCELLATION_REASON</th><th>AIR_SYSTEM_DELAY</th><th>SECURITY_DELAY</th><th>AIRLINE_DELAY</th><th>LATE_AIRCRAFT_DELAY</th></tr><tr><td>i32</td><td>i32</td><td>i32</td><td>i32</td><td>str</td><td>i32</td><td>str</td><td>str</td><td>str</td><td>i32</td><td>i32</td><td>i32</td><td>i32</td><td>i32</td><td>i32</td><td>i32</td><td>i32</td><td>i32</td><td>i32</td><td>i32</td><td>i32</td><td>i32</td><td>i32</td><td>i32</td><td>i32</td><td>str</td><td>i32</td><td>i32</td><td>i32</td><td>i32</td></tr></thead><tbody><tr><td>2015</td><td>1</td><td>1</td><td>4</td><td>&quot;AS&quot;</td><td>98</td><td>&quot;N407AS&quot;</td><td>&quot;ANC&quot;</td><td>&quot;SEA&quot;</td><td>5</td><td>2354</td><td>-11</td><td>21</td><td>15</td><td>205</td><td>194</td><td>169</td><td>1448</td><td>404</td><td>4</td><td>430</td><td>408</td><td>-22</td><td>0</td><td>0</td><td>null</td><td>-99</td><td>-99</td><td>-99</td><td>-99</td></tr><tr><td>2015</td><td>1</td><td>1</td><td>4</td><td>&quot;AA&quot;</td><td>2336</td><td>&quot;N3KUAA&quot;</td><td>&quot;LAX&quot;</td><td>&quot;PBI&quot;</td><td>10</td><td>2</td><td>-8</td><td>12</td><td>14</td><td>280</td><td>279</td><td>263</td><td>2330</td><td>737</td><td>4</td><td>750</td><td>741</td><td>-9</td><td>0</td><td>0</td><td>null</td><td>-99</td><td>-99</td><td>-99</td><td>-99</td></tr><tr><td>2015</td><td>1</td><td>1</td><td>4</td><td>&quot;US&quot;</td><td>840</td><td>&quot;N171US&quot;</td><td>&quot;SFO&quot;</td><td>&quot;CLT&quot;</td><td>20</td><td>18</td><td>-2</td><td>16</td><td>34</td><td>286</td><td>293</td><td>266</td><td>2296</td><td>800</td><td>11</td><td>806</td><td>811</td><td>5</td><td>0</td><td>0</td><td>null</td><td>-99</td><td>-99</td><td>-99</td><td>-99</td></tr><tr><td>2015</td><td>1</td><td>1</td><td>4</td><td>&quot;AA&quot;</td><td>258</td><td>&quot;N3HYAA&quot;</td><td>&quot;LAX&quot;</td><td>&quot;MIA&quot;</td><td>20</td><td>15</td><td>-5</td><td>15</td><td>30</td><td>285</td><td>281</td><td>258</td><td>2342</td><td>748</td><td>8</td><td>805</td><td>756</td><td>-9</td><td>0</td><td>0</td><td>null</td><td>-99</td><td>-99</td><td>-99</td><td>-99</td></tr><tr><td>2015</td><td>1</td><td>1</td><td>4</td><td>&quot;AS&quot;</td><td>135</td><td>&quot;N527AS&quot;</td><td>&quot;SEA&quot;</td><td>&quot;ANC&quot;</td><td>25</td><td>24</td><td>-1</td><td>11</td><td>35</td><td>235</td><td>215</td><td>199</td><td>1448</td><td>254</td><td>5</td><td>320</td><td>259</td><td>-21</td><td>0</td><td>0</td><td>null</td><td>-99</td><td>-99</td><td>-99</td><td>-99</td></tr><tr><td>&hellip;</td><td>&hellip;</td><td>&hellip;</td><td>&hellip;</td><td>&hellip;</td><td>&hellip;</td><td>&hellip;</td><td>&hellip;</td><td>&hellip;</td><td>&hellip;</td><td>&hellip;</td><td>&hellip;</td><td>&hellip;</td><td>&hellip;</td><td>&hellip;</td><td>&hellip;</td><td>&hellip;</td><td>&hellip;</td><td>&hellip;</td><td>&hellip;</td><td>&hellip;</td><td>&hellip;</td><td>&hellip;</td><td>&hellip;</td><td>&hellip;</td><td>&hellip;</td><td>&hellip;</td><td>&hellip;</td><td>&hellip;</td><td>&hellip;</td></tr><tr><td>2015</td><td>12</td><td>31</td><td>4</td><td>&quot;B6&quot;</td><td>688</td><td>&quot;N657JB&quot;</td><td>&quot;LAX&quot;</td><td>&quot;BOS&quot;</td><td>2359</td><td>2355</td><td>-4</td><td>22</td><td>17</td><td>320</td><td>298</td><td>272</td><td>2611</td><td>749</td><td>4</td><td>819</td><td>753</td><td>-26</td><td>0</td><td>0</td><td>null</td><td>-99</td><td>-99</td><td>-99</td><td>-99</td></tr><tr><td>2015</td><td>12</td><td>31</td><td>4</td><td>&quot;B6&quot;</td><td>745</td><td>&quot;N828JB&quot;</td><td>&quot;JFK&quot;</td><td>&quot;PSE&quot;</td><td>2359</td><td>2355</td><td>-4</td><td>17</td><td>12</td><td>227</td><td>215</td><td>195</td><td>1617</td><td>427</td><td>3</td><td>446</td><td>430</td><td>-16</td><td>0</td><td>0</td><td>null</td><td>-99</td><td>-99</td><td>-99</td><td>-99</td></tr><tr><td>2015</td><td>12</td><td>31</td><td>4</td><td>&quot;B6&quot;</td><td>1503</td><td>&quot;N913JB&quot;</td><td>&quot;JFK&quot;</td><td>&quot;SJU&quot;</td><td>2359</td><td>2350</td><td>-9</td><td>17</td><td>7</td><td>221</td><td>222</td><td>197</td><td>1598</td><td>424</td><td>8</td><td>440</td><td>432</td><td>-8</td><td>0</td><td>0</td><td>null</td><td>-99</td><td>-99</td><td>-99</td><td>-99</td></tr><tr><td>2015</td><td>12</td><td>31</td><td>4</td><td>&quot;B6&quot;</td><td>333</td><td>&quot;N527JB&quot;</td><td>&quot;MCO&quot;</td><td>&quot;SJU&quot;</td><td>2359</td><td>2353</td><td>-6</td><td>10</td><td>3</td><td>161</td><td>157</td><td>144</td><td>1189</td><td>327</td><td>3</td><td>340</td><td>330</td><td>-10</td><td>0</td><td>0</td><td>null</td><td>-99</td><td>-99</td><td>-99</td><td>-99</td></tr><tr><td>2015</td><td>12</td><td>31</td><td>4</td><td>&quot;B6&quot;</td><td>839</td><td>&quot;N534JB&quot;</td><td>&quot;JFK&quot;</td><td>&quot;BQN&quot;</td><td>2359</td><td>14</td><td>15</td><td>14</td><td>28</td><td>221</td><td>208</td><td>189</td><td>1576</td><td>437</td><td>5</td><td>440</td><td>442</td><td>2</td><td>0</td><td>0</td><td>null</td><td>-99</td><td>-99</td><td>-99</td><td>-99</td></tr></tbody></table></div>"
            ]
          },
          "metadata": {},
          "execution_count": 21
        }
      ],
      "source": [
        "vuelos.fill_null(-99) ##funcion fill_null"
      ]
    },
    {
      "cell_type": "code",
      "source": [
        "vuelos.head()"
      ],
      "metadata": {
        "colab": {
          "base_uri": "https://localhost:8080/",
          "height": 274
        },
        "id": "jCMBdt761fHp",
        "outputId": "1002b2ce-f54d-451e-9d02-5f9a1773c607"
      },
      "id": "jCMBdt761fHp",
      "execution_count": null,
      "outputs": [
        {
          "output_type": "execute_result",
          "data": {
            "text/plain": [
              "shape: (5, 30)\n",
              "┌──────┬───────┬─────┬─────────────┬───┬──────────────┬──────────────┬──────────────┬──────────────┐\n",
              "│ YEAR ┆ MONTH ┆ DAY ┆ DAY_OF_WEEK ┆ … ┆ AIR_SYSTEM_D ┆ SECURITY_DEL ┆ AIRLINE_DELA ┆ LATE_AIRCRAF │\n",
              "│ ---  ┆ ---   ┆ --- ┆ ---         ┆   ┆ ELAY         ┆ AY           ┆ Y            ┆ T_DELAY      │\n",
              "│ i32  ┆ i32   ┆ i32 ┆ i32         ┆   ┆ ---          ┆ ---          ┆ ---          ┆ ---          │\n",
              "│      ┆       ┆     ┆             ┆   ┆ i32          ┆ i32          ┆ i32          ┆ i32          │\n",
              "╞══════╪═══════╪═════╪═════════════╪═══╪══════════════╪══════════════╪══════════════╪══════════════╡\n",
              "│ 2015 ┆ 1     ┆ 1   ┆ 4           ┆ … ┆ null         ┆ null         ┆ null         ┆ null         │\n",
              "│ 2015 ┆ 1     ┆ 1   ┆ 4           ┆ … ┆ null         ┆ null         ┆ null         ┆ null         │\n",
              "│ 2015 ┆ 1     ┆ 1   ┆ 4           ┆ … ┆ null         ┆ null         ┆ null         ┆ null         │\n",
              "│ 2015 ┆ 1     ┆ 1   ┆ 4           ┆ … ┆ null         ┆ null         ┆ null         ┆ null         │\n",
              "│ 2015 ┆ 1     ┆ 1   ┆ 4           ┆ … ┆ null         ┆ null         ┆ null         ┆ null         │\n",
              "└──────┴───────┴─────┴─────────────┴───┴──────────────┴──────────────┴──────────────┴──────────────┘"
            ],
            "text/html": [
              "<div><style>\n",
              ".dataframe > thead > tr,\n",
              ".dataframe > tbody > tr {\n",
              "  text-align: right;\n",
              "  white-space: pre-wrap;\n",
              "}\n",
              "</style>\n",
              "<small>shape: (5, 30)</small><table border=\"1\" class=\"dataframe\"><thead><tr><th>YEAR</th><th>MONTH</th><th>DAY</th><th>DAY_OF_WEEK</th><th>AIRLINE</th><th>FLIGHT_NUMBER</th><th>TAIL_NUMBER</th><th>ORIGIN_AIRPORT</th><th>DESTINATION_AIRPORT</th><th>SCHEDULED_DEPARTURE</th><th>DEPARTURE_TIME</th><th>DEPARTURE_DELAY</th><th>TAXI_OUT</th><th>WHEELS_OFF</th><th>SCHEDULED_TIME</th><th>ELAPSED_TIME</th><th>AIR_TIME</th><th>DISTANCE</th><th>WHEELS_ON</th><th>TAXI_IN</th><th>SCHEDULED_ARRIVAL</th><th>ARRIVAL_TIME</th><th>ARRIVAL_DELAY</th><th>DIVERTED</th><th>CANCELLED</th><th>CANCELLATION_REASON</th><th>AIR_SYSTEM_DELAY</th><th>SECURITY_DELAY</th><th>AIRLINE_DELAY</th><th>LATE_AIRCRAFT_DELAY</th></tr><tr><td>i32</td><td>i32</td><td>i32</td><td>i32</td><td>str</td><td>i32</td><td>str</td><td>str</td><td>str</td><td>i32</td><td>i32</td><td>i32</td><td>i32</td><td>i32</td><td>i32</td><td>i32</td><td>i32</td><td>i32</td><td>i32</td><td>i32</td><td>i32</td><td>i32</td><td>i32</td><td>i32</td><td>i32</td><td>str</td><td>i32</td><td>i32</td><td>i32</td><td>i32</td></tr></thead><tbody><tr><td>2015</td><td>1</td><td>1</td><td>4</td><td>&quot;AS&quot;</td><td>98</td><td>&quot;N407AS&quot;</td><td>&quot;ANC&quot;</td><td>&quot;SEA&quot;</td><td>5</td><td>2354</td><td>-11</td><td>21</td><td>15</td><td>205</td><td>194</td><td>169</td><td>1448</td><td>404</td><td>4</td><td>430</td><td>408</td><td>-22</td><td>0</td><td>0</td><td>null</td><td>null</td><td>null</td><td>null</td><td>null</td></tr><tr><td>2015</td><td>1</td><td>1</td><td>4</td><td>&quot;AA&quot;</td><td>2336</td><td>&quot;N3KUAA&quot;</td><td>&quot;LAX&quot;</td><td>&quot;PBI&quot;</td><td>10</td><td>2</td><td>-8</td><td>12</td><td>14</td><td>280</td><td>279</td><td>263</td><td>2330</td><td>737</td><td>4</td><td>750</td><td>741</td><td>-9</td><td>0</td><td>0</td><td>null</td><td>null</td><td>null</td><td>null</td><td>null</td></tr><tr><td>2015</td><td>1</td><td>1</td><td>4</td><td>&quot;US&quot;</td><td>840</td><td>&quot;N171US&quot;</td><td>&quot;SFO&quot;</td><td>&quot;CLT&quot;</td><td>20</td><td>18</td><td>-2</td><td>16</td><td>34</td><td>286</td><td>293</td><td>266</td><td>2296</td><td>800</td><td>11</td><td>806</td><td>811</td><td>5</td><td>0</td><td>0</td><td>null</td><td>null</td><td>null</td><td>null</td><td>null</td></tr><tr><td>2015</td><td>1</td><td>1</td><td>4</td><td>&quot;AA&quot;</td><td>258</td><td>&quot;N3HYAA&quot;</td><td>&quot;LAX&quot;</td><td>&quot;MIA&quot;</td><td>20</td><td>15</td><td>-5</td><td>15</td><td>30</td><td>285</td><td>281</td><td>258</td><td>2342</td><td>748</td><td>8</td><td>805</td><td>756</td><td>-9</td><td>0</td><td>0</td><td>null</td><td>null</td><td>null</td><td>null</td><td>null</td></tr><tr><td>2015</td><td>1</td><td>1</td><td>4</td><td>&quot;AS&quot;</td><td>135</td><td>&quot;N527AS&quot;</td><td>&quot;SEA&quot;</td><td>&quot;ANC&quot;</td><td>25</td><td>24</td><td>-1</td><td>11</td><td>35</td><td>235</td><td>215</td><td>199</td><td>1448</td><td>254</td><td>5</td><td>320</td><td>259</td><td>-21</td><td>0</td><td>0</td><td>null</td><td>null</td><td>null</td><td>null</td><td>null</td></tr></tbody></table></div>"
            ]
          },
          "metadata": {},
          "execution_count": 22
        }
      ]
    },
    {
      "cell_type": "markdown",
      "id": "f85b48fa-1b36-4e3f-8a03-6b17c16c6e76",
      "metadata": {
        "id": "f85b48fa-1b36-4e3f-8a03-6b17c16c6e76"
      },
      "source": [
        "En caso de que deseemos emplear una estrategia en particular para rellenar los nulos podemos usar el parámetro `strategy` el cual puede tomar los siguientes valores `None, ‘forward’, ‘backward’, ‘min’, ‘max’, ‘mean’, ‘zero’, ‘one’`. Por ejemplo, rellenemos los nulos con el máximo de las columnas."
      ]
    },
    {
      "cell_type": "code",
      "execution_count": null,
      "id": "f17ef2f6-42b6-4589-8f7c-e08cd189ea9d",
      "metadata": {
        "tags": [],
        "colab": {
          "base_uri": "https://localhost:8080/",
          "height": 463
        },
        "id": "f17ef2f6-42b6-4589-8f7c-e08cd189ea9d",
        "outputId": "138f19af-fff4-43d2-ecd3-9538530bb6f6"
      },
      "outputs": [
        {
          "output_type": "execute_result",
          "data": {
            "text/plain": [
              "shape: (5_819_079, 30)\n",
              "┌──────┬───────┬─────┬─────────────┬───┬──────────────┬──────────────┬──────────────┬──────────────┐\n",
              "│ YEAR ┆ MONTH ┆ DAY ┆ DAY_OF_WEEK ┆ … ┆ AIR_SYSTEM_D ┆ SECURITY_DEL ┆ AIRLINE_DELA ┆ LATE_AIRCRAF │\n",
              "│ ---  ┆ ---   ┆ --- ┆ ---         ┆   ┆ ELAY         ┆ AY           ┆ Y            ┆ T_DELAY      │\n",
              "│ i32  ┆ i32   ┆ i32 ┆ i32         ┆   ┆ ---          ┆ ---          ┆ ---          ┆ ---          │\n",
              "│      ┆       ┆     ┆             ┆   ┆ i32          ┆ i32          ┆ i32          ┆ i32          │\n",
              "╞══════╪═══════╪═════╪═════════════╪═══╪══════════════╪══════════════╪══════════════╪══════════════╡\n",
              "│ 2015 ┆ 1     ┆ 1   ┆ 4           ┆ … ┆ 1134         ┆ 573          ┆ 1971         ┆ 1331         │\n",
              "│ 2015 ┆ 1     ┆ 1   ┆ 4           ┆ … ┆ 1134         ┆ 573          ┆ 1971         ┆ 1331         │\n",
              "│ 2015 ┆ 1     ┆ 1   ┆ 4           ┆ … ┆ 1134         ┆ 573          ┆ 1971         ┆ 1331         │\n",
              "│ 2015 ┆ 1     ┆ 1   ┆ 4           ┆ … ┆ 1134         ┆ 573          ┆ 1971         ┆ 1331         │\n",
              "│ 2015 ┆ 1     ┆ 1   ┆ 4           ┆ … ┆ 1134         ┆ 573          ┆ 1971         ┆ 1331         │\n",
              "│ …    ┆ …     ┆ …   ┆ …           ┆ … ┆ …            ┆ …            ┆ …            ┆ …            │\n",
              "│ 2015 ┆ 12    ┆ 31  ┆ 4           ┆ … ┆ 1134         ┆ 573          ┆ 1971         ┆ 1331         │\n",
              "│ 2015 ┆ 12    ┆ 31  ┆ 4           ┆ … ┆ 1134         ┆ 573          ┆ 1971         ┆ 1331         │\n",
              "│ 2015 ┆ 12    ┆ 31  ┆ 4           ┆ … ┆ 1134         ┆ 573          ┆ 1971         ┆ 1331         │\n",
              "│ 2015 ┆ 12    ┆ 31  ┆ 4           ┆ … ┆ 1134         ┆ 573          ┆ 1971         ┆ 1331         │\n",
              "│ 2015 ┆ 12    ┆ 31  ┆ 4           ┆ … ┆ 1134         ┆ 573          ┆ 1971         ┆ 1331         │\n",
              "└──────┴───────┴─────┴─────────────┴───┴──────────────┴──────────────┴──────────────┴──────────────┘"
            ],
            "text/html": [
              "<div><style>\n",
              ".dataframe > thead > tr,\n",
              ".dataframe > tbody > tr {\n",
              "  text-align: right;\n",
              "  white-space: pre-wrap;\n",
              "}\n",
              "</style>\n",
              "<small>shape: (5_819_079, 30)</small><table border=\"1\" class=\"dataframe\"><thead><tr><th>YEAR</th><th>MONTH</th><th>DAY</th><th>DAY_OF_WEEK</th><th>AIRLINE</th><th>FLIGHT_NUMBER</th><th>TAIL_NUMBER</th><th>ORIGIN_AIRPORT</th><th>DESTINATION_AIRPORT</th><th>SCHEDULED_DEPARTURE</th><th>DEPARTURE_TIME</th><th>DEPARTURE_DELAY</th><th>TAXI_OUT</th><th>WHEELS_OFF</th><th>SCHEDULED_TIME</th><th>ELAPSED_TIME</th><th>AIR_TIME</th><th>DISTANCE</th><th>WHEELS_ON</th><th>TAXI_IN</th><th>SCHEDULED_ARRIVAL</th><th>ARRIVAL_TIME</th><th>ARRIVAL_DELAY</th><th>DIVERTED</th><th>CANCELLED</th><th>CANCELLATION_REASON</th><th>AIR_SYSTEM_DELAY</th><th>SECURITY_DELAY</th><th>AIRLINE_DELAY</th><th>LATE_AIRCRAFT_DELAY</th></tr><tr><td>i32</td><td>i32</td><td>i32</td><td>i32</td><td>str</td><td>i32</td><td>str</td><td>str</td><td>str</td><td>i32</td><td>i32</td><td>i32</td><td>i32</td><td>i32</td><td>i32</td><td>i32</td><td>i32</td><td>i32</td><td>i32</td><td>i32</td><td>i32</td><td>i32</td><td>i32</td><td>i32</td><td>i32</td><td>str</td><td>i32</td><td>i32</td><td>i32</td><td>i32</td></tr></thead><tbody><tr><td>2015</td><td>1</td><td>1</td><td>4</td><td>&quot;AS&quot;</td><td>98</td><td>&quot;N407AS&quot;</td><td>&quot;ANC&quot;</td><td>&quot;SEA&quot;</td><td>5</td><td>2354</td><td>-11</td><td>21</td><td>15</td><td>205</td><td>194</td><td>169</td><td>1448</td><td>404</td><td>4</td><td>430</td><td>408</td><td>-22</td><td>0</td><td>0</td><td>&quot;D&quot;</td><td>1134</td><td>573</td><td>1971</td><td>1331</td></tr><tr><td>2015</td><td>1</td><td>1</td><td>4</td><td>&quot;AA&quot;</td><td>2336</td><td>&quot;N3KUAA&quot;</td><td>&quot;LAX&quot;</td><td>&quot;PBI&quot;</td><td>10</td><td>2</td><td>-8</td><td>12</td><td>14</td><td>280</td><td>279</td><td>263</td><td>2330</td><td>737</td><td>4</td><td>750</td><td>741</td><td>-9</td><td>0</td><td>0</td><td>&quot;D&quot;</td><td>1134</td><td>573</td><td>1971</td><td>1331</td></tr><tr><td>2015</td><td>1</td><td>1</td><td>4</td><td>&quot;US&quot;</td><td>840</td><td>&quot;N171US&quot;</td><td>&quot;SFO&quot;</td><td>&quot;CLT&quot;</td><td>20</td><td>18</td><td>-2</td><td>16</td><td>34</td><td>286</td><td>293</td><td>266</td><td>2296</td><td>800</td><td>11</td><td>806</td><td>811</td><td>5</td><td>0</td><td>0</td><td>&quot;D&quot;</td><td>1134</td><td>573</td><td>1971</td><td>1331</td></tr><tr><td>2015</td><td>1</td><td>1</td><td>4</td><td>&quot;AA&quot;</td><td>258</td><td>&quot;N3HYAA&quot;</td><td>&quot;LAX&quot;</td><td>&quot;MIA&quot;</td><td>20</td><td>15</td><td>-5</td><td>15</td><td>30</td><td>285</td><td>281</td><td>258</td><td>2342</td><td>748</td><td>8</td><td>805</td><td>756</td><td>-9</td><td>0</td><td>0</td><td>&quot;D&quot;</td><td>1134</td><td>573</td><td>1971</td><td>1331</td></tr><tr><td>2015</td><td>1</td><td>1</td><td>4</td><td>&quot;AS&quot;</td><td>135</td><td>&quot;N527AS&quot;</td><td>&quot;SEA&quot;</td><td>&quot;ANC&quot;</td><td>25</td><td>24</td><td>-1</td><td>11</td><td>35</td><td>235</td><td>215</td><td>199</td><td>1448</td><td>254</td><td>5</td><td>320</td><td>259</td><td>-21</td><td>0</td><td>0</td><td>&quot;D&quot;</td><td>1134</td><td>573</td><td>1971</td><td>1331</td></tr><tr><td>&hellip;</td><td>&hellip;</td><td>&hellip;</td><td>&hellip;</td><td>&hellip;</td><td>&hellip;</td><td>&hellip;</td><td>&hellip;</td><td>&hellip;</td><td>&hellip;</td><td>&hellip;</td><td>&hellip;</td><td>&hellip;</td><td>&hellip;</td><td>&hellip;</td><td>&hellip;</td><td>&hellip;</td><td>&hellip;</td><td>&hellip;</td><td>&hellip;</td><td>&hellip;</td><td>&hellip;</td><td>&hellip;</td><td>&hellip;</td><td>&hellip;</td><td>&hellip;</td><td>&hellip;</td><td>&hellip;</td><td>&hellip;</td><td>&hellip;</td></tr><tr><td>2015</td><td>12</td><td>31</td><td>4</td><td>&quot;B6&quot;</td><td>688</td><td>&quot;N657JB&quot;</td><td>&quot;LAX&quot;</td><td>&quot;BOS&quot;</td><td>2359</td><td>2355</td><td>-4</td><td>22</td><td>17</td><td>320</td><td>298</td><td>272</td><td>2611</td><td>749</td><td>4</td><td>819</td><td>753</td><td>-26</td><td>0</td><td>0</td><td>&quot;D&quot;</td><td>1134</td><td>573</td><td>1971</td><td>1331</td></tr><tr><td>2015</td><td>12</td><td>31</td><td>4</td><td>&quot;B6&quot;</td><td>745</td><td>&quot;N828JB&quot;</td><td>&quot;JFK&quot;</td><td>&quot;PSE&quot;</td><td>2359</td><td>2355</td><td>-4</td><td>17</td><td>12</td><td>227</td><td>215</td><td>195</td><td>1617</td><td>427</td><td>3</td><td>446</td><td>430</td><td>-16</td><td>0</td><td>0</td><td>&quot;D&quot;</td><td>1134</td><td>573</td><td>1971</td><td>1331</td></tr><tr><td>2015</td><td>12</td><td>31</td><td>4</td><td>&quot;B6&quot;</td><td>1503</td><td>&quot;N913JB&quot;</td><td>&quot;JFK&quot;</td><td>&quot;SJU&quot;</td><td>2359</td><td>2350</td><td>-9</td><td>17</td><td>7</td><td>221</td><td>222</td><td>197</td><td>1598</td><td>424</td><td>8</td><td>440</td><td>432</td><td>-8</td><td>0</td><td>0</td><td>&quot;D&quot;</td><td>1134</td><td>573</td><td>1971</td><td>1331</td></tr><tr><td>2015</td><td>12</td><td>31</td><td>4</td><td>&quot;B6&quot;</td><td>333</td><td>&quot;N527JB&quot;</td><td>&quot;MCO&quot;</td><td>&quot;SJU&quot;</td><td>2359</td><td>2353</td><td>-6</td><td>10</td><td>3</td><td>161</td><td>157</td><td>144</td><td>1189</td><td>327</td><td>3</td><td>340</td><td>330</td><td>-10</td><td>0</td><td>0</td><td>&quot;D&quot;</td><td>1134</td><td>573</td><td>1971</td><td>1331</td></tr><tr><td>2015</td><td>12</td><td>31</td><td>4</td><td>&quot;B6&quot;</td><td>839</td><td>&quot;N534JB&quot;</td><td>&quot;JFK&quot;</td><td>&quot;BQN&quot;</td><td>2359</td><td>14</td><td>15</td><td>14</td><td>28</td><td>221</td><td>208</td><td>189</td><td>1576</td><td>437</td><td>5</td><td>440</td><td>442</td><td>2</td><td>0</td><td>0</td><td>&quot;D&quot;</td><td>1134</td><td>573</td><td>1971</td><td>1331</td></tr></tbody></table></div>"
            ]
          },
          "metadata": {},
          "execution_count": 23
        }
      ],
      "source": [
        "vuelos.fill_null(strategy='max')  ## parametro strategy ‘forward’, ‘backward’, ‘min’, ‘max’, ‘mean’, ‘zero’, ‘one’"
      ]
    },
    {
      "cell_type": "markdown",
      "id": "9991e46c-9686-47e4-86ae-8731d3ee3f66",
      "metadata": {
        "id": "9991e46c-9686-47e4-86ae-8731d3ee3f66"
      },
      "source": [
        "De igual forma para más detalles sobre esta función pueden consultar la documentación.\n",
        "\n",
        "[Consultar documentación](https://pola-rs.github.io/polars/py-polars/html/reference/dataframe/api/polars.DataFrame.fill_null.html#polars.DataFrame.fill_null)"
      ]
    },
    {
      "cell_type": "markdown",
      "id": "a8a79019-82b5-46f1-bc96-8ac76e872b0b",
      "metadata": {
        "id": "a8a79019-82b5-46f1-bc96-8ac76e872b0b"
      },
      "source": [
        "### Filtrar un DataFrame"
      ]
    },
    {
      "cell_type": "code",
      "execution_count": null,
      "id": "c474ec79-24b8-4a67-a0fb-48aef10347de",
      "metadata": {
        "tags": [],
        "colab": {
          "base_uri": "https://localhost:8080/",
          "height": 463
        },
        "id": "c474ec79-24b8-4a67-a0fb-48aef10347de",
        "outputId": "80d5c154-5fe8-4d03-d863-1d9298160307"
      },
      "outputs": [
        {
          "output_type": "execute_result",
          "data": {
            "text/plain": [
              "shape: (2_913_301, 30)\n",
              "┌──────┬───────┬─────┬─────────────┬───┬──────────────┬──────────────┬──────────────┬──────────────┐\n",
              "│ YEAR ┆ MONTH ┆ DAY ┆ DAY_OF_WEEK ┆ … ┆ AIR_SYSTEM_D ┆ SECURITY_DEL ┆ AIRLINE_DELA ┆ LATE_AIRCRAF │\n",
              "│ ---  ┆ ---   ┆ --- ┆ ---         ┆   ┆ ELAY         ┆ AY           ┆ Y            ┆ T_DELAY      │\n",
              "│ i32  ┆ i32   ┆ i32 ┆ i32         ┆   ┆ ---          ┆ ---          ┆ ---          ┆ ---          │\n",
              "│      ┆       ┆     ┆             ┆   ┆ i32          ┆ i32          ┆ i32          ┆ i32          │\n",
              "╞══════╪═══════╪═════╪═════════════╪═══╪══════════════╪══════════════╪══════════════╪══════════════╡\n",
              "│ 2015 ┆ 1     ┆ 1   ┆ 4           ┆ … ┆ null         ┆ null         ┆ null         ┆ null         │\n",
              "│ 2015 ┆ 1     ┆ 1   ┆ 4           ┆ … ┆ null         ┆ null         ┆ null         ┆ null         │\n",
              "│ 2015 ┆ 1     ┆ 1   ┆ 4           ┆ … ┆ null         ┆ null         ┆ null         ┆ null         │\n",
              "│ 2015 ┆ 1     ┆ 1   ┆ 4           ┆ … ┆ null         ┆ null         ┆ null         ┆ null         │\n",
              "│ 2015 ┆ 1     ┆ 1   ┆ 4           ┆ … ┆ null         ┆ null         ┆ null         ┆ null         │\n",
              "│ …    ┆ …     ┆ …   ┆ …           ┆ … ┆ …            ┆ …            ┆ …            ┆ …            │\n",
              "│ 2015 ┆ 12    ┆ 31  ┆ 4           ┆ … ┆ null         ┆ null         ┆ null         ┆ null         │\n",
              "│ 2015 ┆ 12    ┆ 31  ┆ 4           ┆ … ┆ null         ┆ null         ┆ null         ┆ null         │\n",
              "│ 2015 ┆ 12    ┆ 31  ┆ 4           ┆ … ┆ null         ┆ null         ┆ null         ┆ null         │\n",
              "│ 2015 ┆ 12    ┆ 31  ┆ 4           ┆ … ┆ null         ┆ null         ┆ null         ┆ null         │\n",
              "│ 2015 ┆ 12    ┆ 31  ┆ 4           ┆ … ┆ null         ┆ null         ┆ null         ┆ null         │\n",
              "└──────┴───────┴─────┴─────────────┴───┴──────────────┴──────────────┴──────────────┴──────────────┘"
            ],
            "text/html": [
              "<div><style>\n",
              ".dataframe > thead > tr,\n",
              ".dataframe > tbody > tr {\n",
              "  text-align: right;\n",
              "  white-space: pre-wrap;\n",
              "}\n",
              "</style>\n",
              "<small>shape: (2_913_301, 30)</small><table border=\"1\" class=\"dataframe\"><thead><tr><th>YEAR</th><th>MONTH</th><th>DAY</th><th>DAY_OF_WEEK</th><th>AIRLINE</th><th>FLIGHT_NUMBER</th><th>TAIL_NUMBER</th><th>ORIGIN_AIRPORT</th><th>DESTINATION_AIRPORT</th><th>SCHEDULED_DEPARTURE</th><th>DEPARTURE_TIME</th><th>DEPARTURE_DELAY</th><th>TAXI_OUT</th><th>WHEELS_OFF</th><th>SCHEDULED_TIME</th><th>ELAPSED_TIME</th><th>AIR_TIME</th><th>DISTANCE</th><th>WHEELS_ON</th><th>TAXI_IN</th><th>SCHEDULED_ARRIVAL</th><th>ARRIVAL_TIME</th><th>ARRIVAL_DELAY</th><th>DIVERTED</th><th>CANCELLED</th><th>CANCELLATION_REASON</th><th>AIR_SYSTEM_DELAY</th><th>SECURITY_DELAY</th><th>AIRLINE_DELAY</th><th>LATE_AIRCRAFT_DELAY</th></tr><tr><td>i32</td><td>i32</td><td>i32</td><td>i32</td><td>str</td><td>i32</td><td>str</td><td>str</td><td>str</td><td>i32</td><td>i32</td><td>i32</td><td>i32</td><td>i32</td><td>i32</td><td>i32</td><td>i32</td><td>i32</td><td>i32</td><td>i32</td><td>i32</td><td>i32</td><td>i32</td><td>i32</td><td>i32</td><td>str</td><td>i32</td><td>i32</td><td>i32</td><td>i32</td></tr></thead><tbody><tr><td>2015</td><td>1</td><td>1</td><td>4</td><td>&quot;DL&quot;</td><td>806</td><td>&quot;N3730B&quot;</td><td>&quot;SFO&quot;</td><td>&quot;MSP&quot;</td><td>25</td><td>20</td><td>-5</td><td>18</td><td>38</td><td>217</td><td>230</td><td>206</td><td>1589</td><td>604</td><td>6</td><td>602</td><td>610</td><td>8</td><td>0</td><td>0</td><td>null</td><td>null</td><td>null</td><td>null</td><td>null</td></tr><tr><td>2015</td><td>1</td><td>1</td><td>4</td><td>&quot;DL&quot;</td><td>1173</td><td>&quot;N826DN&quot;</td><td>&quot;LAS&quot;</td><td>&quot;ATL&quot;</td><td>30</td><td>33</td><td>3</td><td>12</td><td>45</td><td>221</td><td>203</td><td>186</td><td>1747</td><td>651</td><td>5</td><td>711</td><td>656</td><td>-15</td><td>0</td><td>0</td><td>null</td><td>null</td><td>null</td><td>null</td><td>null</td></tr><tr><td>2015</td><td>1</td><td>1</td><td>4</td><td>&quot;DL&quot;</td><td>2336</td><td>&quot;N958DN&quot;</td><td>&quot;DEN&quot;</td><td>&quot;ATL&quot;</td><td>30</td><td>24</td><td>-6</td><td>12</td><td>36</td><td>173</td><td>149</td><td>133</td><td>1199</td><td>449</td><td>4</td><td>523</td><td>453</td><td>-30</td><td>0</td><td>0</td><td>null</td><td>null</td><td>null</td><td>null</td><td>null</td></tr><tr><td>2015</td><td>1</td><td>1</td><td>4</td><td>&quot;DL&quot;</td><td>1434</td><td>&quot;N547US&quot;</td><td>&quot;LAX&quot;</td><td>&quot;MSP&quot;</td><td>35</td><td>35</td><td>0</td><td>18</td><td>53</td><td>214</td><td>210</td><td>188</td><td>1535</td><td>601</td><td>4</td><td>609</td><td>605</td><td>-4</td><td>0</td><td>0</td><td>null</td><td>null</td><td>null</td><td>null</td><td>null</td></tr><tr><td>2015</td><td>1</td><td>1</td><td>4</td><td>&quot;DL&quot;</td><td>2324</td><td>&quot;N3751B&quot;</td><td>&quot;SLC&quot;</td><td>&quot;ATL&quot;</td><td>40</td><td>34</td><td>-6</td><td>18</td><td>52</td><td>215</td><td>199</td><td>176</td><td>1590</td><td>548</td><td>5</td><td>615</td><td>553</td><td>-22</td><td>0</td><td>0</td><td>null</td><td>null</td><td>null</td><td>null</td><td>null</td></tr><tr><td>&hellip;</td><td>&hellip;</td><td>&hellip;</td><td>&hellip;</td><td>&hellip;</td><td>&hellip;</td><td>&hellip;</td><td>&hellip;</td><td>&hellip;</td><td>&hellip;</td><td>&hellip;</td><td>&hellip;</td><td>&hellip;</td><td>&hellip;</td><td>&hellip;</td><td>&hellip;</td><td>&hellip;</td><td>&hellip;</td><td>&hellip;</td><td>&hellip;</td><td>&hellip;</td><td>&hellip;</td><td>&hellip;</td><td>&hellip;</td><td>&hellip;</td><td>&hellip;</td><td>&hellip;</td><td>&hellip;</td><td>&hellip;</td><td>&hellip;</td></tr><tr><td>2015</td><td>12</td><td>31</td><td>4</td><td>&quot;B6&quot;</td><td>688</td><td>&quot;N657JB&quot;</td><td>&quot;LAX&quot;</td><td>&quot;BOS&quot;</td><td>2359</td><td>2355</td><td>-4</td><td>22</td><td>17</td><td>320</td><td>298</td><td>272</td><td>2611</td><td>749</td><td>4</td><td>819</td><td>753</td><td>-26</td><td>0</td><td>0</td><td>null</td><td>null</td><td>null</td><td>null</td><td>null</td></tr><tr><td>2015</td><td>12</td><td>31</td><td>4</td><td>&quot;B6&quot;</td><td>745</td><td>&quot;N828JB&quot;</td><td>&quot;JFK&quot;</td><td>&quot;PSE&quot;</td><td>2359</td><td>2355</td><td>-4</td><td>17</td><td>12</td><td>227</td><td>215</td><td>195</td><td>1617</td><td>427</td><td>3</td><td>446</td><td>430</td><td>-16</td><td>0</td><td>0</td><td>null</td><td>null</td><td>null</td><td>null</td><td>null</td></tr><tr><td>2015</td><td>12</td><td>31</td><td>4</td><td>&quot;B6&quot;</td><td>1503</td><td>&quot;N913JB&quot;</td><td>&quot;JFK&quot;</td><td>&quot;SJU&quot;</td><td>2359</td><td>2350</td><td>-9</td><td>17</td><td>7</td><td>221</td><td>222</td><td>197</td><td>1598</td><td>424</td><td>8</td><td>440</td><td>432</td><td>-8</td><td>0</td><td>0</td><td>null</td><td>null</td><td>null</td><td>null</td><td>null</td></tr><tr><td>2015</td><td>12</td><td>31</td><td>4</td><td>&quot;B6&quot;</td><td>333</td><td>&quot;N527JB&quot;</td><td>&quot;MCO&quot;</td><td>&quot;SJU&quot;</td><td>2359</td><td>2353</td><td>-6</td><td>10</td><td>3</td><td>161</td><td>157</td><td>144</td><td>1189</td><td>327</td><td>3</td><td>340</td><td>330</td><td>-10</td><td>0</td><td>0</td><td>null</td><td>null</td><td>null</td><td>null</td><td>null</td></tr><tr><td>2015</td><td>12</td><td>31</td><td>4</td><td>&quot;B6&quot;</td><td>839</td><td>&quot;N534JB&quot;</td><td>&quot;JFK&quot;</td><td>&quot;BQN&quot;</td><td>2359</td><td>14</td><td>15</td><td>14</td><td>28</td><td>221</td><td>208</td><td>189</td><td>1576</td><td>437</td><td>5</td><td>440</td><td>442</td><td>2</td><td>0</td><td>0</td><td>null</td><td>null</td><td>null</td><td>null</td><td>null</td></tr></tbody></table></div>"
            ]
          },
          "metadata": {},
          "execution_count": 24
        }
      ],
      "source": [
        "from polars import col\n",
        "\n",
        "vuelos.filter(col('MONTH') > 10)  ## filter y proponemos la condicion para filtrar\n",
        "\n",
        "vuelos.filter((col('DAY') > 15) & (col('AIRLINE').str.starts_with('A')))\n",
        "\n",
        "vuelos.filter((col('MONTH') > 7) | (col('AIRLINE').str.starts_with('D')))"
      ]
    },
    {
      "cell_type": "code",
      "source": [
        "vuelos.filter((col('DAY') > 15) & (col('AIRLINE').str.starts_with('A')))  ## y col aeriolinea comience con la letra a\n",
        "\n"
      ],
      "metadata": {
        "colab": {
          "base_uri": "https://localhost:8080/",
          "height": 463
        },
        "id": "dlxpIqps2Dfd",
        "outputId": "2f1b69f3-d923-4c90-de05-8ec47cefbfa4"
      },
      "id": "dlxpIqps2Dfd",
      "execution_count": null,
      "outputs": [
        {
          "output_type": "execute_result",
          "data": {
            "text/plain": [
              "shape: (455_878, 30)\n",
              "┌──────┬───────┬─────┬─────────────┬───┬──────────────┬──────────────┬──────────────┬──────────────┐\n",
              "│ YEAR ┆ MONTH ┆ DAY ┆ DAY_OF_WEEK ┆ … ┆ AIR_SYSTEM_D ┆ SECURITY_DEL ┆ AIRLINE_DELA ┆ LATE_AIRCRAF │\n",
              "│ ---  ┆ ---   ┆ --- ┆ ---         ┆   ┆ ELAY         ┆ AY           ┆ Y            ┆ T_DELAY      │\n",
              "│ i32  ┆ i32   ┆ i32 ┆ i32         ┆   ┆ ---          ┆ ---          ┆ ---          ┆ ---          │\n",
              "│      ┆       ┆     ┆             ┆   ┆ i32          ┆ i32          ┆ i32          ┆ i32          │\n",
              "╞══════╪═══════╪═════╪═════════════╪═══╪══════════════╪══════════════╪══════════════╪══════════════╡\n",
              "│ 2015 ┆ 1     ┆ 16  ┆ 5           ┆ … ┆ 0            ┆ 0            ┆ 53           ┆ 0            │\n",
              "│ 2015 ┆ 1     ┆ 16  ┆ 5           ┆ … ┆ null         ┆ null         ┆ null         ┆ null         │\n",
              "│ 2015 ┆ 1     ┆ 16  ┆ 5           ┆ … ┆ null         ┆ null         ┆ null         ┆ null         │\n",
              "│ 2015 ┆ 1     ┆ 16  ┆ 5           ┆ … ┆ null         ┆ null         ┆ null         ┆ null         │\n",
              "│ 2015 ┆ 1     ┆ 16  ┆ 5           ┆ … ┆ null         ┆ null         ┆ null         ┆ null         │\n",
              "│ …    ┆ …     ┆ …   ┆ …           ┆ … ┆ …            ┆ …            ┆ …            ┆ …            │\n",
              "│ 2015 ┆ 12    ┆ 31  ┆ 4           ┆ … ┆ null         ┆ null         ┆ null         ┆ null         │\n",
              "│ 2015 ┆ 12    ┆ 31  ┆ 4           ┆ … ┆ null         ┆ null         ┆ null         ┆ null         │\n",
              "│ 2015 ┆ 12    ┆ 31  ┆ 4           ┆ … ┆ null         ┆ null         ┆ null         ┆ null         │\n",
              "│ 2015 ┆ 12    ┆ 31  ┆ 4           ┆ … ┆ null         ┆ null         ┆ null         ┆ null         │\n",
              "│ 2015 ┆ 12    ┆ 31  ┆ 4           ┆ … ┆ null         ┆ null         ┆ null         ┆ null         │\n",
              "└──────┴───────┴─────┴─────────────┴───┴──────────────┴──────────────┴──────────────┴──────────────┘"
            ],
            "text/html": [
              "<div><style>\n",
              ".dataframe > thead > tr,\n",
              ".dataframe > tbody > tr {\n",
              "  text-align: right;\n",
              "  white-space: pre-wrap;\n",
              "}\n",
              "</style>\n",
              "<small>shape: (455_878, 30)</small><table border=\"1\" class=\"dataframe\"><thead><tr><th>YEAR</th><th>MONTH</th><th>DAY</th><th>DAY_OF_WEEK</th><th>AIRLINE</th><th>FLIGHT_NUMBER</th><th>TAIL_NUMBER</th><th>ORIGIN_AIRPORT</th><th>DESTINATION_AIRPORT</th><th>SCHEDULED_DEPARTURE</th><th>DEPARTURE_TIME</th><th>DEPARTURE_DELAY</th><th>TAXI_OUT</th><th>WHEELS_OFF</th><th>SCHEDULED_TIME</th><th>ELAPSED_TIME</th><th>AIR_TIME</th><th>DISTANCE</th><th>WHEELS_ON</th><th>TAXI_IN</th><th>SCHEDULED_ARRIVAL</th><th>ARRIVAL_TIME</th><th>ARRIVAL_DELAY</th><th>DIVERTED</th><th>CANCELLED</th><th>CANCELLATION_REASON</th><th>AIR_SYSTEM_DELAY</th><th>SECURITY_DELAY</th><th>AIRLINE_DELAY</th><th>LATE_AIRCRAFT_DELAY</th></tr><tr><td>i32</td><td>i32</td><td>i32</td><td>i32</td><td>str</td><td>i32</td><td>str</td><td>str</td><td>str</td><td>i32</td><td>i32</td><td>i32</td><td>i32</td><td>i32</td><td>i32</td><td>i32</td><td>i32</td><td>i32</td><td>i32</td><td>i32</td><td>i32</td><td>i32</td><td>i32</td><td>i32</td><td>i32</td><td>str</td><td>i32</td><td>i32</td><td>i32</td><td>i32</td></tr></thead><tbody><tr><td>2015</td><td>1</td><td>16</td><td>5</td><td>&quot;AA&quot;</td><td>2400</td><td>&quot;N3BHAA&quot;</td><td>&quot;LAX&quot;</td><td>&quot;DFW&quot;</td><td>5</td><td>109</td><td>64</td><td>10</td><td>119</td><td>169</td><td>158</td><td>141</td><td>1235</td><td>540</td><td>7</td><td>454</td><td>547</td><td>53</td><td>0</td><td>0</td><td>null</td><td>0</td><td>0</td><td>53</td><td>0</td></tr><tr><td>2015</td><td>1</td><td>16</td><td>5</td><td>&quot;AA&quot;</td><td>258</td><td>&quot;N3HSAA&quot;</td><td>&quot;LAX&quot;</td><td>&quot;MIA&quot;</td><td>20</td><td>16</td><td>-4</td><td>24</td><td>40</td><td>284</td><td>284</td><td>253</td><td>2342</td><td>753</td><td>7</td><td>804</td><td>800</td><td>-4</td><td>0</td><td>0</td><td>null</td><td>null</td><td>null</td><td>null</td><td>null</td></tr><tr><td>2015</td><td>1</td><td>16</td><td>5</td><td>&quot;AA&quot;</td><td>1112</td><td>&quot;N3KAAA&quot;</td><td>&quot;SFO&quot;</td><td>&quot;DFW&quot;</td><td>30</td><td>39</td><td>9</td><td>12</td><td>51</td><td>189</td><td>188</td><td>172</td><td>1464</td><td>543</td><td>4</td><td>539</td><td>547</td><td>8</td><td>0</td><td>0</td><td>null</td><td>null</td><td>null</td><td>null</td><td>null</td></tr><tr><td>2015</td><td>1</td><td>16</td><td>5</td><td>&quot;AA&quot;</td><td>1674</td><td>&quot;N3LYAA&quot;</td><td>&quot;LAS&quot;</td><td>&quot;MIA&quot;</td><td>45</td><td>45</td><td>0</td><td>15</td><td>100</td><td>264</td><td>254</td><td>229</td><td>2174</td><td>749</td><td>10</td><td>809</td><td>759</td><td>-10</td><td>0</td><td>0</td><td>null</td><td>null</td><td>null</td><td>null</td><td>null</td></tr><tr><td>2015</td><td>1</td><td>16</td><td>5</td><td>&quot;AS&quot;</td><td>108</td><td>&quot;N526AS&quot;</td><td>&quot;ANC&quot;</td><td>&quot;SEA&quot;</td><td>45</td><td>46</td><td>1</td><td>16</td><td>102</td><td>199</td><td>200</td><td>180</td><td>1448</td><td>502</td><td>4</td><td>504</td><td>506</td><td>2</td><td>0</td><td>0</td><td>null</td><td>null</td><td>null</td><td>null</td><td>null</td></tr><tr><td>&hellip;</td><td>&hellip;</td><td>&hellip;</td><td>&hellip;</td><td>&hellip;</td><td>&hellip;</td><td>&hellip;</td><td>&hellip;</td><td>&hellip;</td><td>&hellip;</td><td>&hellip;</td><td>&hellip;</td><td>&hellip;</td><td>&hellip;</td><td>&hellip;</td><td>&hellip;</td><td>&hellip;</td><td>&hellip;</td><td>&hellip;</td><td>&hellip;</td><td>&hellip;</td><td>&hellip;</td><td>&hellip;</td><td>&hellip;</td><td>&hellip;</td><td>&hellip;</td><td>&hellip;</td><td>&hellip;</td><td>&hellip;</td><td>&hellip;</td></tr><tr><td>2015</td><td>12</td><td>31</td><td>4</td><td>&quot;AS&quot;</td><td>175</td><td>&quot;N431AS&quot;</td><td>&quot;LAX&quot;</td><td>&quot;ANC&quot;</td><td>2355</td><td>2350</td><td>-5</td><td>16</td><td>6</td><td>350</td><td>310</td><td>291</td><td>2345</td><td>357</td><td>3</td><td>445</td><td>400</td><td>-45</td><td>0</td><td>0</td><td>null</td><td>null</td><td>null</td><td>null</td><td>null</td></tr><tr><td>2015</td><td>12</td><td>31</td><td>4</td><td>&quot;AS&quot;</td><td>471</td><td>&quot;N570AS&quot;</td><td>&quot;LAX&quot;</td><td>&quot;SEA&quot;</td><td>2355</td><td>2353</td><td>-2</td><td>17</td><td>10</td><td>169</td><td>152</td><td>132</td><td>954</td><td>222</td><td>3</td><td>244</td><td>225</td><td>-19</td><td>0</td><td>0</td><td>null</td><td>null</td><td>null</td><td>null</td><td>null</td></tr><tr><td>2015</td><td>12</td><td>31</td><td>4</td><td>&quot;AS&quot;</td><td>850</td><td>&quot;N536AS&quot;</td><td>&quot;KOA&quot;</td><td>&quot;SEA&quot;</td><td>2355</td><td>2352</td><td>-3</td><td>16</td><td>8</td><td>355</td><td>320</td><td>298</td><td>2688</td><td>706</td><td>6</td><td>750</td><td>712</td><td>-38</td><td>0</td><td>0</td><td>null</td><td>null</td><td>null</td><td>null</td><td>null</td></tr><tr><td>2015</td><td>12</td><td>31</td><td>4</td><td>&quot;AA&quot;</td><td>2342</td><td>&quot;N3DLAA&quot;</td><td>&quot;DEN&quot;</td><td>&quot;MIA&quot;</td><td>2359</td><td>2351</td><td>-8</td><td>18</td><td>9</td><td>224</td><td>214</td><td>190</td><td>1709</td><td>519</td><td>6</td><td>543</td><td>525</td><td>-18</td><td>0</td><td>0</td><td>null</td><td>null</td><td>null</td><td>null</td><td>null</td></tr><tr><td>2015</td><td>12</td><td>31</td><td>4</td><td>&quot;AA&quot;</td><td>219</td><td>&quot;N3LYAA&quot;</td><td>&quot;LAX&quot;</td><td>&quot;ORD&quot;</td><td>2359</td><td>2358</td><td>-1</td><td>23</td><td>21</td><td>244</td><td>226</td><td>198</td><td>1744</td><td>539</td><td>5</td><td>603</td><td>544</td><td>-19</td><td>0</td><td>0</td><td>null</td><td>null</td><td>null</td><td>null</td><td>null</td></tr></tbody></table></div>"
            ]
          },
          "metadata": {},
          "execution_count": 25
        }
      ]
    },
    {
      "cell_type": "code",
      "source": [
        "vuelos.filter((col('MONTH') > 7) | (col('AIRLINE').str.starts_with('D')))  ## or"
      ],
      "metadata": {
        "colab": {
          "base_uri": "https://localhost:8080/",
          "height": 463
        },
        "id": "b-lawNJR2ExI",
        "outputId": "ecdb663c-4f5e-448f-92dd-789f0308d34f"
      },
      "id": "b-lawNJR2ExI",
      "execution_count": null,
      "outputs": [
        {
          "output_type": "execute_result",
          "data": {
            "text/plain": [
              "shape: (2_913_301, 30)\n",
              "┌──────┬───────┬─────┬─────────────┬───┬──────────────┬──────────────┬──────────────┬──────────────┐\n",
              "│ YEAR ┆ MONTH ┆ DAY ┆ DAY_OF_WEEK ┆ … ┆ AIR_SYSTEM_D ┆ SECURITY_DEL ┆ AIRLINE_DELA ┆ LATE_AIRCRAF │\n",
              "│ ---  ┆ ---   ┆ --- ┆ ---         ┆   ┆ ELAY         ┆ AY           ┆ Y            ┆ T_DELAY      │\n",
              "│ i32  ┆ i32   ┆ i32 ┆ i32         ┆   ┆ ---          ┆ ---          ┆ ---          ┆ ---          │\n",
              "│      ┆       ┆     ┆             ┆   ┆ i32          ┆ i32          ┆ i32          ┆ i32          │\n",
              "╞══════╪═══════╪═════╪═════════════╪═══╪══════════════╪══════════════╪══════════════╪══════════════╡\n",
              "│ 2015 ┆ 1     ┆ 1   ┆ 4           ┆ … ┆ null         ┆ null         ┆ null         ┆ null         │\n",
              "│ 2015 ┆ 1     ┆ 1   ┆ 4           ┆ … ┆ null         ┆ null         ┆ null         ┆ null         │\n",
              "│ 2015 ┆ 1     ┆ 1   ┆ 4           ┆ … ┆ null         ┆ null         ┆ null         ┆ null         │\n",
              "│ 2015 ┆ 1     ┆ 1   ┆ 4           ┆ … ┆ null         ┆ null         ┆ null         ┆ null         │\n",
              "│ 2015 ┆ 1     ┆ 1   ┆ 4           ┆ … ┆ null         ┆ null         ┆ null         ┆ null         │\n",
              "│ …    ┆ …     ┆ …   ┆ …           ┆ … ┆ …            ┆ …            ┆ …            ┆ …            │\n",
              "│ 2015 ┆ 12    ┆ 31  ┆ 4           ┆ … ┆ null         ┆ null         ┆ null         ┆ null         │\n",
              "│ 2015 ┆ 12    ┆ 31  ┆ 4           ┆ … ┆ null         ┆ null         ┆ null         ┆ null         │\n",
              "│ 2015 ┆ 12    ┆ 31  ┆ 4           ┆ … ┆ null         ┆ null         ┆ null         ┆ null         │\n",
              "│ 2015 ┆ 12    ┆ 31  ┆ 4           ┆ … ┆ null         ┆ null         ┆ null         ┆ null         │\n",
              "│ 2015 ┆ 12    ┆ 31  ┆ 4           ┆ … ┆ null         ┆ null         ┆ null         ┆ null         │\n",
              "└──────┴───────┴─────┴─────────────┴───┴──────────────┴──────────────┴──────────────┴──────────────┘"
            ],
            "text/html": [
              "<div><style>\n",
              ".dataframe > thead > tr,\n",
              ".dataframe > tbody > tr {\n",
              "  text-align: right;\n",
              "  white-space: pre-wrap;\n",
              "}\n",
              "</style>\n",
              "<small>shape: (2_913_301, 30)</small><table border=\"1\" class=\"dataframe\"><thead><tr><th>YEAR</th><th>MONTH</th><th>DAY</th><th>DAY_OF_WEEK</th><th>AIRLINE</th><th>FLIGHT_NUMBER</th><th>TAIL_NUMBER</th><th>ORIGIN_AIRPORT</th><th>DESTINATION_AIRPORT</th><th>SCHEDULED_DEPARTURE</th><th>DEPARTURE_TIME</th><th>DEPARTURE_DELAY</th><th>TAXI_OUT</th><th>WHEELS_OFF</th><th>SCHEDULED_TIME</th><th>ELAPSED_TIME</th><th>AIR_TIME</th><th>DISTANCE</th><th>WHEELS_ON</th><th>TAXI_IN</th><th>SCHEDULED_ARRIVAL</th><th>ARRIVAL_TIME</th><th>ARRIVAL_DELAY</th><th>DIVERTED</th><th>CANCELLED</th><th>CANCELLATION_REASON</th><th>AIR_SYSTEM_DELAY</th><th>SECURITY_DELAY</th><th>AIRLINE_DELAY</th><th>LATE_AIRCRAFT_DELAY</th></tr><tr><td>i32</td><td>i32</td><td>i32</td><td>i32</td><td>str</td><td>i32</td><td>str</td><td>str</td><td>str</td><td>i32</td><td>i32</td><td>i32</td><td>i32</td><td>i32</td><td>i32</td><td>i32</td><td>i32</td><td>i32</td><td>i32</td><td>i32</td><td>i32</td><td>i32</td><td>i32</td><td>i32</td><td>i32</td><td>str</td><td>i32</td><td>i32</td><td>i32</td><td>i32</td></tr></thead><tbody><tr><td>2015</td><td>1</td><td>1</td><td>4</td><td>&quot;DL&quot;</td><td>806</td><td>&quot;N3730B&quot;</td><td>&quot;SFO&quot;</td><td>&quot;MSP&quot;</td><td>25</td><td>20</td><td>-5</td><td>18</td><td>38</td><td>217</td><td>230</td><td>206</td><td>1589</td><td>604</td><td>6</td><td>602</td><td>610</td><td>8</td><td>0</td><td>0</td><td>null</td><td>null</td><td>null</td><td>null</td><td>null</td></tr><tr><td>2015</td><td>1</td><td>1</td><td>4</td><td>&quot;DL&quot;</td><td>1173</td><td>&quot;N826DN&quot;</td><td>&quot;LAS&quot;</td><td>&quot;ATL&quot;</td><td>30</td><td>33</td><td>3</td><td>12</td><td>45</td><td>221</td><td>203</td><td>186</td><td>1747</td><td>651</td><td>5</td><td>711</td><td>656</td><td>-15</td><td>0</td><td>0</td><td>null</td><td>null</td><td>null</td><td>null</td><td>null</td></tr><tr><td>2015</td><td>1</td><td>1</td><td>4</td><td>&quot;DL&quot;</td><td>2336</td><td>&quot;N958DN&quot;</td><td>&quot;DEN&quot;</td><td>&quot;ATL&quot;</td><td>30</td><td>24</td><td>-6</td><td>12</td><td>36</td><td>173</td><td>149</td><td>133</td><td>1199</td><td>449</td><td>4</td><td>523</td><td>453</td><td>-30</td><td>0</td><td>0</td><td>null</td><td>null</td><td>null</td><td>null</td><td>null</td></tr><tr><td>2015</td><td>1</td><td>1</td><td>4</td><td>&quot;DL&quot;</td><td>1434</td><td>&quot;N547US&quot;</td><td>&quot;LAX&quot;</td><td>&quot;MSP&quot;</td><td>35</td><td>35</td><td>0</td><td>18</td><td>53</td><td>214</td><td>210</td><td>188</td><td>1535</td><td>601</td><td>4</td><td>609</td><td>605</td><td>-4</td><td>0</td><td>0</td><td>null</td><td>null</td><td>null</td><td>null</td><td>null</td></tr><tr><td>2015</td><td>1</td><td>1</td><td>4</td><td>&quot;DL&quot;</td><td>2324</td><td>&quot;N3751B&quot;</td><td>&quot;SLC&quot;</td><td>&quot;ATL&quot;</td><td>40</td><td>34</td><td>-6</td><td>18</td><td>52</td><td>215</td><td>199</td><td>176</td><td>1590</td><td>548</td><td>5</td><td>615</td><td>553</td><td>-22</td><td>0</td><td>0</td><td>null</td><td>null</td><td>null</td><td>null</td><td>null</td></tr><tr><td>&hellip;</td><td>&hellip;</td><td>&hellip;</td><td>&hellip;</td><td>&hellip;</td><td>&hellip;</td><td>&hellip;</td><td>&hellip;</td><td>&hellip;</td><td>&hellip;</td><td>&hellip;</td><td>&hellip;</td><td>&hellip;</td><td>&hellip;</td><td>&hellip;</td><td>&hellip;</td><td>&hellip;</td><td>&hellip;</td><td>&hellip;</td><td>&hellip;</td><td>&hellip;</td><td>&hellip;</td><td>&hellip;</td><td>&hellip;</td><td>&hellip;</td><td>&hellip;</td><td>&hellip;</td><td>&hellip;</td><td>&hellip;</td><td>&hellip;</td></tr><tr><td>2015</td><td>12</td><td>31</td><td>4</td><td>&quot;B6&quot;</td><td>688</td><td>&quot;N657JB&quot;</td><td>&quot;LAX&quot;</td><td>&quot;BOS&quot;</td><td>2359</td><td>2355</td><td>-4</td><td>22</td><td>17</td><td>320</td><td>298</td><td>272</td><td>2611</td><td>749</td><td>4</td><td>819</td><td>753</td><td>-26</td><td>0</td><td>0</td><td>null</td><td>null</td><td>null</td><td>null</td><td>null</td></tr><tr><td>2015</td><td>12</td><td>31</td><td>4</td><td>&quot;B6&quot;</td><td>745</td><td>&quot;N828JB&quot;</td><td>&quot;JFK&quot;</td><td>&quot;PSE&quot;</td><td>2359</td><td>2355</td><td>-4</td><td>17</td><td>12</td><td>227</td><td>215</td><td>195</td><td>1617</td><td>427</td><td>3</td><td>446</td><td>430</td><td>-16</td><td>0</td><td>0</td><td>null</td><td>null</td><td>null</td><td>null</td><td>null</td></tr><tr><td>2015</td><td>12</td><td>31</td><td>4</td><td>&quot;B6&quot;</td><td>1503</td><td>&quot;N913JB&quot;</td><td>&quot;JFK&quot;</td><td>&quot;SJU&quot;</td><td>2359</td><td>2350</td><td>-9</td><td>17</td><td>7</td><td>221</td><td>222</td><td>197</td><td>1598</td><td>424</td><td>8</td><td>440</td><td>432</td><td>-8</td><td>0</td><td>0</td><td>null</td><td>null</td><td>null</td><td>null</td><td>null</td></tr><tr><td>2015</td><td>12</td><td>31</td><td>4</td><td>&quot;B6&quot;</td><td>333</td><td>&quot;N527JB&quot;</td><td>&quot;MCO&quot;</td><td>&quot;SJU&quot;</td><td>2359</td><td>2353</td><td>-6</td><td>10</td><td>3</td><td>161</td><td>157</td><td>144</td><td>1189</td><td>327</td><td>3</td><td>340</td><td>330</td><td>-10</td><td>0</td><td>0</td><td>null</td><td>null</td><td>null</td><td>null</td><td>null</td></tr><tr><td>2015</td><td>12</td><td>31</td><td>4</td><td>&quot;B6&quot;</td><td>839</td><td>&quot;N534JB&quot;</td><td>&quot;JFK&quot;</td><td>&quot;BQN&quot;</td><td>2359</td><td>14</td><td>15</td><td>14</td><td>28</td><td>221</td><td>208</td><td>189</td><td>1576</td><td>437</td><td>5</td><td>440</td><td>442</td><td>2</td><td>0</td><td>0</td><td>null</td><td>null</td><td>null</td><td>null</td><td>null</td></tr></tbody></table></div>"
            ]
          },
          "metadata": {},
          "execution_count": 26
        }
      ]
    },
    {
      "cell_type": "markdown",
      "id": "de193233-f84b-4512-9c76-31253f66ac2e",
      "metadata": {
        "id": "de193233-f84b-4512-9c76-31253f66ac2e"
      },
      "source": [
        "### Trabajo con columnas"
      ]
    },
    {
      "cell_type": "markdown",
      "id": "18b135db-7af2-49c4-aac0-0aee59ae1efc",
      "metadata": {
        "id": "18b135db-7af2-49c4-aac0-0aee59ae1efc"
      },
      "source": [
        "#### Obtener una columna por nombre"
      ]
    },
    {
      "cell_type": "code",
      "execution_count": null,
      "id": "9051719a-c03e-44c8-aaef-349ca97246a8",
      "metadata": {
        "tags": [],
        "colab": {
          "base_uri": "https://localhost:8080/",
          "height": 443
        },
        "id": "9051719a-c03e-44c8-aaef-349ca97246a8",
        "outputId": "0845f2e0-9ff3-451a-fc09-535952feba5b"
      },
      "outputs": [
        {
          "output_type": "execute_result",
          "data": {
            "text/plain": [
              "shape: (5_819_079,)\n",
              "Series: 'MONTH' [i32]\n",
              "[\n",
              "\t1\n",
              "\t1\n",
              "\t1\n",
              "\t1\n",
              "\t1\n",
              "\t…\n",
              "\t12\n",
              "\t12\n",
              "\t12\n",
              "\t12\n",
              "\t12\n",
              "]"
            ],
            "text/html": [
              "<div><style>\n",
              ".dataframe > thead > tr,\n",
              ".dataframe > tbody > tr {\n",
              "  text-align: right;\n",
              "  white-space: pre-wrap;\n",
              "}\n",
              "</style>\n",
              "<small>shape: (5_819_079,)</small><table border=\"1\" class=\"dataframe\"><thead><tr><th>MONTH</th></tr><tr><td>i32</td></tr></thead><tbody><tr><td>1</td></tr><tr><td>1</td></tr><tr><td>1</td></tr><tr><td>1</td></tr><tr><td>1</td></tr><tr><td>&hellip;</td></tr><tr><td>12</td></tr><tr><td>12</td></tr><tr><td>12</td></tr><tr><td>12</td></tr><tr><td>12</td></tr></tbody></table></div>"
            ]
          },
          "metadata": {},
          "execution_count": 27
        }
      ],
      "source": [
        "vuelos.get_column('MONTH') ## obtenemos una columna"
      ]
    },
    {
      "cell_type": "markdown",
      "id": "74c5eafc-f683-4fab-bbe1-622320e04b69",
      "metadata": {
        "id": "74c5eafc-f683-4fab-bbe1-622320e04b69"
      },
      "source": [
        "#### Obtener el índice de una columna por nombre"
      ]
    },
    {
      "cell_type": "code",
      "execution_count": null,
      "id": "b079de3a-9595-4ceb-9c18-e9c83b156e08",
      "metadata": {
        "tags": [],
        "colab": {
          "base_uri": "https://localhost:8080/"
        },
        "id": "b079de3a-9595-4ceb-9c18-e9c83b156e08",
        "outputId": "858abc1a-0a5c-4dc4-986d-357f31284881"
      },
      "outputs": [
        {
          "output_type": "execute_result",
          "data": {
            "text/plain": [
              "1"
            ]
          },
          "metadata": {},
          "execution_count": 28
        }
      ],
      "source": [
        "vuelos.get_column_index('MONTH') ## el indice de una columna posicion"
      ]
    },
    {
      "cell_type": "code",
      "source": [
        "vuelos.height  ## filas"
      ],
      "metadata": {
        "colab": {
          "base_uri": "https://localhost:8080/"
        },
        "id": "SMlU9XPm29la",
        "outputId": "51d577cb-8f6f-4b3a-debb-f4ada29dadb3"
      },
      "id": "SMlU9XPm29la",
      "execution_count": null,
      "outputs": [
        {
          "output_type": "execute_result",
          "data": {
            "text/plain": [
              "5819079"
            ]
          },
          "metadata": {},
          "execution_count": 29
        }
      ]
    },
    {
      "cell_type": "markdown",
      "id": "2c4a959a-f711-4003-ab79-db9e60ec64bf",
      "metadata": {
        "id": "2c4a959a-f711-4003-ab79-db9e60ec64bf"
      },
      "source": [
        "#### Insertar una Serie en cierto índice de columna"
      ]
    },
    {
      "cell_type": "markdown",
      "id": "9b534792-28d1-405f-abfa-f469c7e89100",
      "metadata": {
        "id": "9b534792-28d1-405f-abfa-f469c7e89100"
      },
      "source": [
        "La función `insert_column` inserta una Serie en el número de índice de columna proporcionado y modifica \"in-place\" el DataFrame."
      ]
    },
    {
      "cell_type": "code",
      "execution_count": null,
      "id": "3ca95656-a680-4184-a587-1dbe4b6b44d8",
      "metadata": {
        "tags": [],
        "id": "3ca95656-a680-4184-a587-1dbe4b6b44d8"
      },
      "outputs": [],
      "source": [
        "p = pl.Series('index', [item for item in range(5819079)])  ## le proporcionamos el indice\n",
        "\n"
      ]
    },
    {
      "cell_type": "code",
      "source": [
        "\n",
        "vuelos.insert_column(0, p)## insertamos la nueva columna y la serie"
      ],
      "metadata": {
        "colab": {
          "base_uri": "https://localhost:8080/",
          "height": 463
        },
        "id": "JzIq_4xI3ON-",
        "outputId": "d9eaa537-6e05-4719-f247-89d72a365352"
      },
      "id": "JzIq_4xI3ON-",
      "execution_count": null,
      "outputs": [
        {
          "output_type": "execute_result",
          "data": {
            "text/plain": [
              "shape: (5_819_079, 31)\n",
              "┌─────────┬──────┬───────┬─────┬───┬───────────────┬───────────────┬───────────────┬───────────────┐\n",
              "│ index   ┆ YEAR ┆ MONTH ┆ DAY ┆ … ┆ AIR_SYSTEM_DE ┆ SECURITY_DELA ┆ AIRLINE_DELAY ┆ LATE_AIRCRAFT │\n",
              "│ ---     ┆ ---  ┆ ---   ┆ --- ┆   ┆ LAY           ┆ Y             ┆ ---           ┆ _DELAY        │\n",
              "│ i64     ┆ i32  ┆ i32   ┆ i32 ┆   ┆ ---           ┆ ---           ┆ i32           ┆ ---           │\n",
              "│         ┆      ┆       ┆     ┆   ┆ i32           ┆ i32           ┆               ┆ i32           │\n",
              "╞═════════╪══════╪═══════╪═════╪═══╪═══════════════╪═══════════════╪═══════════════╪═══════════════╡\n",
              "│ 0       ┆ 2015 ┆ 1     ┆ 1   ┆ … ┆ null          ┆ null          ┆ null          ┆ null          │\n",
              "│ 1       ┆ 2015 ┆ 1     ┆ 1   ┆ … ┆ null          ┆ null          ┆ null          ┆ null          │\n",
              "│ 2       ┆ 2015 ┆ 1     ┆ 1   ┆ … ┆ null          ┆ null          ┆ null          ┆ null          │\n",
              "│ 3       ┆ 2015 ┆ 1     ┆ 1   ┆ … ┆ null          ┆ null          ┆ null          ┆ null          │\n",
              "│ 4       ┆ 2015 ┆ 1     ┆ 1   ┆ … ┆ null          ┆ null          ┆ null          ┆ null          │\n",
              "│ …       ┆ …    ┆ …     ┆ …   ┆ … ┆ …             ┆ …             ┆ …             ┆ …             │\n",
              "│ 5819074 ┆ 2015 ┆ 12    ┆ 31  ┆ … ┆ null          ┆ null          ┆ null          ┆ null          │\n",
              "│ 5819075 ┆ 2015 ┆ 12    ┆ 31  ┆ … ┆ null          ┆ null          ┆ null          ┆ null          │\n",
              "│ 5819076 ┆ 2015 ┆ 12    ┆ 31  ┆ … ┆ null          ┆ null          ┆ null          ┆ null          │\n",
              "│ 5819077 ┆ 2015 ┆ 12    ┆ 31  ┆ … ┆ null          ┆ null          ┆ null          ┆ null          │\n",
              "│ 5819078 ┆ 2015 ┆ 12    ┆ 31  ┆ … ┆ null          ┆ null          ┆ null          ┆ null          │\n",
              "└─────────┴──────┴───────┴─────┴───┴───────────────┴───────────────┴───────────────┴───────────────┘"
            ],
            "text/html": [
              "<div><style>\n",
              ".dataframe > thead > tr,\n",
              ".dataframe > tbody > tr {\n",
              "  text-align: right;\n",
              "  white-space: pre-wrap;\n",
              "}\n",
              "</style>\n",
              "<small>shape: (5_819_079, 31)</small><table border=\"1\" class=\"dataframe\"><thead><tr><th>index</th><th>YEAR</th><th>MONTH</th><th>DAY</th><th>DAY_OF_WEEK</th><th>AIRLINE</th><th>FLIGHT_NUMBER</th><th>TAIL_NUMBER</th><th>ORIGIN_AIRPORT</th><th>DESTINATION_AIRPORT</th><th>SCHEDULED_DEPARTURE</th><th>DEPARTURE_TIME</th><th>DEPARTURE_DELAY</th><th>TAXI_OUT</th><th>WHEELS_OFF</th><th>SCHEDULED_TIME</th><th>ELAPSED_TIME</th><th>AIR_TIME</th><th>DISTANCE</th><th>WHEELS_ON</th><th>TAXI_IN</th><th>SCHEDULED_ARRIVAL</th><th>ARRIVAL_TIME</th><th>ARRIVAL_DELAY</th><th>DIVERTED</th><th>CANCELLED</th><th>CANCELLATION_REASON</th><th>AIR_SYSTEM_DELAY</th><th>SECURITY_DELAY</th><th>AIRLINE_DELAY</th><th>LATE_AIRCRAFT_DELAY</th></tr><tr><td>i64</td><td>i32</td><td>i32</td><td>i32</td><td>i32</td><td>str</td><td>i32</td><td>str</td><td>str</td><td>str</td><td>i32</td><td>i32</td><td>i32</td><td>i32</td><td>i32</td><td>i32</td><td>i32</td><td>i32</td><td>i32</td><td>i32</td><td>i32</td><td>i32</td><td>i32</td><td>i32</td><td>i32</td><td>i32</td><td>str</td><td>i32</td><td>i32</td><td>i32</td><td>i32</td></tr></thead><tbody><tr><td>0</td><td>2015</td><td>1</td><td>1</td><td>4</td><td>&quot;AS&quot;</td><td>98</td><td>&quot;N407AS&quot;</td><td>&quot;ANC&quot;</td><td>&quot;SEA&quot;</td><td>5</td><td>2354</td><td>-11</td><td>21</td><td>15</td><td>205</td><td>194</td><td>169</td><td>1448</td><td>404</td><td>4</td><td>430</td><td>408</td><td>-22</td><td>0</td><td>0</td><td>null</td><td>null</td><td>null</td><td>null</td><td>null</td></tr><tr><td>1</td><td>2015</td><td>1</td><td>1</td><td>4</td><td>&quot;AA&quot;</td><td>2336</td><td>&quot;N3KUAA&quot;</td><td>&quot;LAX&quot;</td><td>&quot;PBI&quot;</td><td>10</td><td>2</td><td>-8</td><td>12</td><td>14</td><td>280</td><td>279</td><td>263</td><td>2330</td><td>737</td><td>4</td><td>750</td><td>741</td><td>-9</td><td>0</td><td>0</td><td>null</td><td>null</td><td>null</td><td>null</td><td>null</td></tr><tr><td>2</td><td>2015</td><td>1</td><td>1</td><td>4</td><td>&quot;US&quot;</td><td>840</td><td>&quot;N171US&quot;</td><td>&quot;SFO&quot;</td><td>&quot;CLT&quot;</td><td>20</td><td>18</td><td>-2</td><td>16</td><td>34</td><td>286</td><td>293</td><td>266</td><td>2296</td><td>800</td><td>11</td><td>806</td><td>811</td><td>5</td><td>0</td><td>0</td><td>null</td><td>null</td><td>null</td><td>null</td><td>null</td></tr><tr><td>3</td><td>2015</td><td>1</td><td>1</td><td>4</td><td>&quot;AA&quot;</td><td>258</td><td>&quot;N3HYAA&quot;</td><td>&quot;LAX&quot;</td><td>&quot;MIA&quot;</td><td>20</td><td>15</td><td>-5</td><td>15</td><td>30</td><td>285</td><td>281</td><td>258</td><td>2342</td><td>748</td><td>8</td><td>805</td><td>756</td><td>-9</td><td>0</td><td>0</td><td>null</td><td>null</td><td>null</td><td>null</td><td>null</td></tr><tr><td>4</td><td>2015</td><td>1</td><td>1</td><td>4</td><td>&quot;AS&quot;</td><td>135</td><td>&quot;N527AS&quot;</td><td>&quot;SEA&quot;</td><td>&quot;ANC&quot;</td><td>25</td><td>24</td><td>-1</td><td>11</td><td>35</td><td>235</td><td>215</td><td>199</td><td>1448</td><td>254</td><td>5</td><td>320</td><td>259</td><td>-21</td><td>0</td><td>0</td><td>null</td><td>null</td><td>null</td><td>null</td><td>null</td></tr><tr><td>&hellip;</td><td>&hellip;</td><td>&hellip;</td><td>&hellip;</td><td>&hellip;</td><td>&hellip;</td><td>&hellip;</td><td>&hellip;</td><td>&hellip;</td><td>&hellip;</td><td>&hellip;</td><td>&hellip;</td><td>&hellip;</td><td>&hellip;</td><td>&hellip;</td><td>&hellip;</td><td>&hellip;</td><td>&hellip;</td><td>&hellip;</td><td>&hellip;</td><td>&hellip;</td><td>&hellip;</td><td>&hellip;</td><td>&hellip;</td><td>&hellip;</td><td>&hellip;</td><td>&hellip;</td><td>&hellip;</td><td>&hellip;</td><td>&hellip;</td><td>&hellip;</td></tr><tr><td>5819074</td><td>2015</td><td>12</td><td>31</td><td>4</td><td>&quot;B6&quot;</td><td>688</td><td>&quot;N657JB&quot;</td><td>&quot;LAX&quot;</td><td>&quot;BOS&quot;</td><td>2359</td><td>2355</td><td>-4</td><td>22</td><td>17</td><td>320</td><td>298</td><td>272</td><td>2611</td><td>749</td><td>4</td><td>819</td><td>753</td><td>-26</td><td>0</td><td>0</td><td>null</td><td>null</td><td>null</td><td>null</td><td>null</td></tr><tr><td>5819075</td><td>2015</td><td>12</td><td>31</td><td>4</td><td>&quot;B6&quot;</td><td>745</td><td>&quot;N828JB&quot;</td><td>&quot;JFK&quot;</td><td>&quot;PSE&quot;</td><td>2359</td><td>2355</td><td>-4</td><td>17</td><td>12</td><td>227</td><td>215</td><td>195</td><td>1617</td><td>427</td><td>3</td><td>446</td><td>430</td><td>-16</td><td>0</td><td>0</td><td>null</td><td>null</td><td>null</td><td>null</td><td>null</td></tr><tr><td>5819076</td><td>2015</td><td>12</td><td>31</td><td>4</td><td>&quot;B6&quot;</td><td>1503</td><td>&quot;N913JB&quot;</td><td>&quot;JFK&quot;</td><td>&quot;SJU&quot;</td><td>2359</td><td>2350</td><td>-9</td><td>17</td><td>7</td><td>221</td><td>222</td><td>197</td><td>1598</td><td>424</td><td>8</td><td>440</td><td>432</td><td>-8</td><td>0</td><td>0</td><td>null</td><td>null</td><td>null</td><td>null</td><td>null</td></tr><tr><td>5819077</td><td>2015</td><td>12</td><td>31</td><td>4</td><td>&quot;B6&quot;</td><td>333</td><td>&quot;N527JB&quot;</td><td>&quot;MCO&quot;</td><td>&quot;SJU&quot;</td><td>2359</td><td>2353</td><td>-6</td><td>10</td><td>3</td><td>161</td><td>157</td><td>144</td><td>1189</td><td>327</td><td>3</td><td>340</td><td>330</td><td>-10</td><td>0</td><td>0</td><td>null</td><td>null</td><td>null</td><td>null</td><td>null</td></tr><tr><td>5819078</td><td>2015</td><td>12</td><td>31</td><td>4</td><td>&quot;B6&quot;</td><td>839</td><td>&quot;N534JB&quot;</td><td>&quot;JFK&quot;</td><td>&quot;BQN&quot;</td><td>2359</td><td>14</td><td>15</td><td>14</td><td>28</td><td>221</td><td>208</td><td>189</td><td>1576</td><td>437</td><td>5</td><td>440</td><td>442</td><td>2</td><td>0</td><td>0</td><td>null</td><td>null</td><td>null</td><td>null</td><td>null</td></tr></tbody></table></div>"
            ]
          },
          "metadata": {},
          "execution_count": 31
        }
      ]
    },
    {
      "cell_type": "markdown",
      "id": "f3df4b48-30b1-47fb-922f-fc2c1e4defe7",
      "metadata": {
        "id": "f3df4b48-30b1-47fb-922f-fc2c1e4defe7"
      },
      "source": [
        "#### Obtener el nombre de las columnas del DataFrame"
      ]
    },
    {
      "cell_type": "code",
      "source": [
        "vuelos.columns"
      ],
      "metadata": {
        "colab": {
          "base_uri": "https://localhost:8080/"
        },
        "id": "o9HZn3q85RS3",
        "outputId": "66fa39a7-81ed-44da-afd7-d684bcf7f1eb"
      },
      "id": "o9HZn3q85RS3",
      "execution_count": null,
      "outputs": [
        {
          "output_type": "execute_result",
          "data": {
            "text/plain": [
              "['index',\n",
              " 'YEAR',\n",
              " 'MONTH',\n",
              " 'DAY',\n",
              " 'DAY_OF_WEEK',\n",
              " 'AIRLINE',\n",
              " 'FLIGHT_NUMBER',\n",
              " 'TAIL_NUMBER',\n",
              " 'ORIGIN_AIRPORT',\n",
              " 'DESTINATION_AIRPORT',\n",
              " 'SCHEDULED_DEPARTURE',\n",
              " 'DEPARTURE_TIME',\n",
              " 'DEPARTURE_DELAY',\n",
              " 'TAXI_OUT',\n",
              " 'WHEELS_OFF',\n",
              " 'SCHEDULED_TIME',\n",
              " 'ELAPSED_TIME',\n",
              " 'AIR_TIME',\n",
              " 'DISTANCE',\n",
              " 'WHEELS_ON',\n",
              " 'TAXI_IN',\n",
              " 'SCHEDULED_ARRIVAL',\n",
              " 'ARRIVAL_TIME',\n",
              " 'ARRIVAL_DELAY',\n",
              " 'DIVERTED',\n",
              " 'CANCELLED',\n",
              " 'CANCELLATION_REASON',\n",
              " 'AIR_SYSTEM_DELAY',\n",
              " 'SECURITY_DELAY',\n",
              " 'AIRLINE_DELAY',\n",
              " 'LATE_AIRCRAFT_DELAY']"
            ]
          },
          "metadata": {},
          "execution_count": 33
        }
      ]
    },
    {
      "cell_type": "code",
      "execution_count": null,
      "id": "0cc2cadf-6932-4ce5-bf46-0aede8fd4a25",
      "metadata": {
        "tags": [],
        "colab": {
          "base_uri": "https://localhost:8080/"
        },
        "id": "0cc2cadf-6932-4ce5-bf46-0aede8fd4a25",
        "outputId": "6fe12d26-49fb-4200-9163-9fa6b893f7e2"
      },
      "outputs": [
        {
          "output_type": "execute_result",
          "data": {
            "text/plain": [
              "['index',\n",
              " 'YEAR',\n",
              " 'MONTH',\n",
              " 'DAY',\n",
              " 'DAY_OF_WEEK',\n",
              " 'AIRLINE',\n",
              " 'FLIGHT_NUMBER',\n",
              " 'TAIL_NUMBER',\n",
              " 'ORIGIN_AIRPORT',\n",
              " 'DESTINATION_AIRPORT',\n",
              " 'SCHEDULED_DEPARTURE',\n",
              " 'DEPARTURE_TIME',\n",
              " 'DEPARTURE_DELAY',\n",
              " 'TAXI_OUT',\n",
              " 'WHEELS_OFF',\n",
              " 'SCHEDULED_TIME',\n",
              " 'ELAPSED_TIME',\n",
              " 'AIR_TIME',\n",
              " 'DISTANCE',\n",
              " 'WHEELS_ON',\n",
              " 'TAXI_IN',\n",
              " 'SCHEDULED_ARRIVAL',\n",
              " 'ARRIVAL_TIME',\n",
              " 'ARRIVAL_DELAY',\n",
              " 'DIVERTED',\n",
              " 'CANCELLED',\n",
              " 'CANCELLATION_REASON',\n",
              " 'AIR_SYSTEM_DELAY',\n",
              " 'SECURITY_DELAY',\n",
              " 'AIRLINE_DELAY',\n",
              " 'LATE_AIRCRAFT_DELAY']"
            ]
          },
          "metadata": {},
          "execution_count": 32
        }
      ],
      "source": [
        "[item.name for item in vuelos.iter_columns()]"
      ]
    }
  ],
  "metadata": {
    "kernelspec": {
      "display_name": "Python 3 (ipykernel)",
      "language": "python",
      "name": "python3"
    },
    "language_info": {
      "codemirror_mode": {
        "name": "ipython",
        "version": 3
      },
      "file_extension": ".py",
      "mimetype": "text/x-python",
      "name": "python",
      "nbconvert_exporter": "python",
      "pygments_lexer": "ipython3",
      "version": "3.8.13"
    },
    "colab": {
      "provenance": []
    }
  },
  "nbformat": 4,
  "nbformat_minor": 5
}