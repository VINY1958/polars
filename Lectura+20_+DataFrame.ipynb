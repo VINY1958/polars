{
  "cells": [
    {
      "cell_type": "markdown",
      "id": "7c98295c-7dc5-4597-bc2d-3105c9ac9340",
      "metadata": {
        "id": "7c98295c-7dc5-4597-bc2d-3105c9ac9340"
      },
      "source": [
        "# Lectura 20: DataFrame"
      ]
    },
    {
      "cell_type": "markdown",
      "id": "d2140dd2-e6e8-4cbc-9063-0efff667ba43",
      "metadata": {
        "id": "d2140dd2-e6e8-4cbc-9063-0efff667ba43"
      },
      "source": [
        "Un DataFrame es una estructura de datos bidimensional, es decir, tiene filas y columnas. El DataFrame está respaldado por una serie y podría verse como una abstracción de una colección (por ejemplo, una lista) de series."
      ]
    },
    {
      "cell_type": "markdown",
      "id": "04ec8506-dfae-4bde-b7df-a39d7dac5a56",
      "metadata": {
        "id": "04ec8506-dfae-4bde-b7df-a39d7dac5a56"
      },
      "source": [
        "### Crear un DataFrame"
      ]
    },
    {
      "cell_type": "markdown",
      "source": [
        "###estudiar como manipular los dataFrame"
      ],
      "metadata": {
        "id": "j-4a2RSAQX3d"
      },
      "id": "j-4a2RSAQX3d"
    },
    {
      "cell_type": "markdown",
      "source": [
        "## Forma correcta de crear un dataframe en forma manual como un diccionario"
      ],
      "metadata": {
        "id": "dgDEFqgLRkog"
      },
      "id": "dgDEFqgLRkog"
    },
    {
      "cell_type": "code",
      "execution_count": 1,
      "id": "79729106-fac3-49af-92d8-7f47aac73b85",
      "metadata": {
        "tags": [],
        "colab": {
          "base_uri": "https://localhost:8080/"
        },
        "id": "79729106-fac3-49af-92d8-7f47aac73b85",
        "outputId": "5ce57085-36a2-4f8f-bca1-571fcce9fdf9"
      },
      "outputs": [
        {
          "output_type": "stream",
          "name": "stdout",
          "text": [
            "shape: (3, 3)\n",
            "┌────────┬──────┬─────────┐\n",
            "│ nombre ┆ edad ┆ salario │\n",
            "│ ---    ┆ ---  ┆ ---     │\n",
            "│ str    ┆ i64  ┆ f64     │\n",
            "╞════════╪══════╪═════════╡\n",
            "│ Jose   ┆ 30   ┆ 124.5   │\n",
            "│ Laura  ┆ 23   ┆ 564.0   │\n",
            "│ Rosa   ┆ 40   ┆ 323.2   │\n",
            "└────────┴──────┴─────────┘\n"
          ]
        }
      ],
      "source": [
        "import polars as pl\n",
        "from datetime import datetime\n",
        "\n",
        "df_manual = pl.DataFrame(\n",
        "    {\n",
        "        'nombre': ['Jose', 'Laura', 'Rosa'],\n",
        "        'edad': [30, 23, 40],\n",
        "        'salario': [124.5, 564.0, 323.2]\n",
        "    }\n",
        ")\n",
        "\n",
        "print(df_manual)"
      ]
    },
    {
      "cell_type": "markdown",
      "id": "fade34af-5811-4119-bbbf-223924e389a3",
      "metadata": {
        "id": "fade34af-5811-4119-bbbf-223924e389a3"
      },
      "source": [
        "### Ver los datos de un DataFrame\n",
        "\n",
        "Primeramente leeremos los datos en un DataFrame"
      ]
    },
    {
      "cell_type": "code",
      "execution_count": 4,
      "id": "9ef41202-c695-449c-a87a-6f8873282748",
      "metadata": {
        "colab": {
          "base_uri": "https://localhost:8080/"
        },
        "id": "9ef41202-c695-449c-a87a-6f8873282748",
        "outputId": "3aaec19b-0845-4d89-c7c3-b97d76fc6213"
      },
      "outputs": [
        {
          "output_type": "stream",
          "name": "stdout",
          "text": [
            "shape: (48_137, 16)\n",
            "┌───────────┬───────────┬───────────┬───────────┬───┬───────────┬───────────┬───────────┬──────────┐\n",
            "│ video_id  ┆ trending_ ┆ title     ┆ channel_t ┆ … ┆ comments_ ┆ ratings_d ┆ video_err ┆ descript │\n",
            "│ ---       ┆ date      ┆ ---       ┆ itle      ┆   ┆ disabled  ┆ isabled   ┆ or_or_rem ┆ ion      │\n",
            "│ str       ┆ ---       ┆ str       ┆ ---       ┆   ┆ ---       ┆ ---       ┆ oved      ┆ ---      │\n",
            "│           ┆ str       ┆           ┆ str       ┆   ┆ str       ┆ str       ┆ ---       ┆ str      │\n",
            "│           ┆           ┆           ┆           ┆   ┆           ┆           ┆ str       ┆          │\n",
            "╞═══════════╪═══════════╪═══════════╪═══════════╪═══╪═══════════╪═══════════╪═══════════╪══════════╡\n",
            "│ 2kyS6SvSY ┆ 17.14.11  ┆ WE WANT   ┆ CaseyNeis ┆ … ┆ False     ┆ False     ┆ False     ┆ SHANTELL │\n",
            "│ SE        ┆           ┆ TO TALK   ┆ tat       ┆   ┆           ┆           ┆           ┆ 'S       │\n",
            "│           ┆           ┆ ABOUT OUR ┆           ┆   ┆           ┆           ┆           ┆ CHANNEL  │\n",
            "│           ┆           ┆ MARR…     ┆           ┆   ┆           ┆           ┆           ┆ - https: │\n",
            "│           ┆           ┆           ┆           ┆   ┆           ┆           ┆           ┆ //w…     │\n",
            "│ 1ZAPwfrtA ┆ 17.14.11  ┆ The Trump ┆ LastWeekT ┆ … ┆ False     ┆ False     ┆ False     ┆ One year │\n",
            "│ FY        ┆           ┆ Presidenc ┆ onight    ┆   ┆           ┆           ┆           ┆ after    │\n",
            "│           ┆           ┆ y: Last   ┆           ┆   ┆           ┆           ┆           ┆ the pres │\n",
            "│           ┆           ┆ Wee…      ┆           ┆   ┆           ┆           ┆           ┆ identia… │\n",
            "│ 5qpjK5DgC ┆ 17.14.11  ┆ Racist    ┆ Rudy      ┆ … ┆ False     ┆ False     ┆ False     ┆ WATCH MY │\n",
            "│ t4        ┆           ┆ Superman  ┆ Mancuso   ┆   ┆           ┆           ┆           ┆ PREVIOUS │\n",
            "│           ┆           ┆ | Rudy    ┆           ┆   ┆           ┆           ┆           ┆ VIDEO ▶  │\n",
            "│           ┆           ┆ Mancuso…  ┆           ┆   ┆           ┆           ┆           ┆ \\n\\n…    │\n",
            "│ puqaWrEC7 ┆ 17.14.11  ┆ Nickelbac ┆ Good      ┆ … ┆ False     ┆ False     ┆ False     ┆ Today we │\n",
            "│ tY        ┆           ┆ k Lyrics: ┆ Mythical  ┆   ┆           ┆           ┆           ┆ find out │\n",
            "│           ┆           ┆ Real or   ┆ Morning   ┆   ┆           ┆           ┆           ┆ if Link  │\n",
            "│           ┆           ┆ Fak…      ┆           ┆   ┆           ┆           ┆           ┆ is a…    │\n",
            "│ d380meD0W ┆ 17.14.11  ┆ I Dare    ┆ nigahiga  ┆ … ┆ False     ┆ False     ┆ False     ┆ I know   │\n",
            "│ 0M        ┆           ┆ You:      ┆           ┆   ┆           ┆           ┆           ┆ it's     │\n",
            "│           ┆           ┆ GOING     ┆           ┆   ┆           ┆           ┆           ┆ been a   │\n",
            "│           ┆           ┆ BALD!?    ┆           ┆   ┆           ┆           ┆           ┆ while    │\n",
            "│           ┆           ┆           ┆           ┆   ┆           ┆           ┆           ┆ since…   │\n",
            "│ …         ┆ …         ┆ …         ┆ …         ┆ … ┆ …         ┆ …         ┆ …         ┆ …        │\n",
            "│ BZt0qjTWN ┆ 18.14.06  ┆ The Cat   ┆ AaronsAni ┆ … ┆ False     ┆ False     ┆ False     ┆ The Cat  │\n",
            "│ hw        ┆           ┆ Who       ┆ mals      ┆   ┆           ┆           ┆           ┆ Who      │\n",
            "│           ┆           ┆ Caught    ┆           ┆   ┆           ┆           ┆           ┆ Caught   │\n",
            "│           ┆           ┆ the Laser ┆           ┆   ┆           ┆           ┆           ┆ the      │\n",
            "│           ┆           ┆           ┆           ┆   ┆           ┆           ┆           ┆ Laser -… │\n",
            "│ 1h7KV2sjU ┆ 18.14.06  ┆ True      ┆ zefrank1  ┆ … ┆ False     ┆ False     ┆ False     ┆ null     │\n",
            "│ WY        ┆           ┆ Facts :   ┆           ┆   ┆           ┆           ┆           ┆          │\n",
            "│           ┆           ┆ Ant       ┆           ┆   ┆           ┆           ┆           ┆          │\n",
            "│           ┆           ┆ Mutualism ┆           ┆   ┆           ┆           ┆           ┆          │\n",
            "│ D6Oy4Lfoq ┆ 18.14.06  ┆ I GAVE    ┆ Brad      ┆ … ┆ False     ┆ False     ┆ False     ┆ I had so │\n",
            "│ sU        ┆           ┆ SAFIYA    ┆ Mondo     ┆   ┆           ┆           ┆           ┆ much fun │\n",
            "│           ┆           ┆ NYGAARD A ┆           ┆   ┆           ┆           ┆           ┆ transfor │\n",
            "│           ┆           ┆ PERFEC…   ┆           ┆   ┆           ┆           ┆           ┆ ming…    │\n",
            "│ oV0zkMe1K ┆ 18.14.06  ┆ How Black ┆ How It    ┆ … ┆ False     ┆ False     ┆ False     ┆ How      │\n",
            "│ 8s        ┆           ┆ Panther   ┆ Should    ┆   ┆           ┆           ┆           ┆ Black    │\n",
            "│           ┆           ┆ Should    ┆ Have      ┆   ┆           ┆           ┆           ┆ Panther  │\n",
            "│           ┆           ┆ Have …    ┆ Ended     ┆   ┆           ┆           ┆           ┆ Should   │\n",
            "│           ┆           ┆           ┆           ┆   ┆           ┆           ┆           ┆ Have …   │\n",
            "│ ooyjaVdt- ┆ 18.14.06  ┆ Official  ┆ Call of   ┆ … ┆ False     ┆ False     ┆ False     ┆ Call of  │\n",
            "│ jA        ┆           ┆ Call of   ┆ Duty      ┆   ┆           ┆           ┆           ┆ Duty:    │\n",
            "│           ┆           ┆ Duty®:    ┆           ┆   ┆           ┆           ┆           ┆ Black    │\n",
            "│           ┆           ┆ Black …   ┆           ┆   ┆           ┆           ┆           ┆ Ops 4    │\n",
            "│           ┆           ┆           ┆           ┆   ┆           ┆           ┆           ┆ Mult…    │\n",
            "└───────────┴───────────┴───────────┴───────────┴───┴───────────┴───────────┴───────────┴──────────┘\n"
          ]
        }
      ],
      "source": [
        "df = pl.read_parquet('/content/drive/MyDrive/polars/seccion04/data/datos.parquet', use_pyarrow=True)\n",
        "\n",
        "print(df)"
      ]
    },
    {
      "cell_type": "code",
      "source": [
        "from google.colab import drive\n",
        "drive.mount('/content/drive')"
      ],
      "metadata": {
        "colab": {
          "base_uri": "https://localhost:8080/"
        },
        "id": "Pvrf4VHNQ6pl",
        "outputId": "40efdfd1-a37e-43fa-badd-246a3a2b7f48"
      },
      "id": "Pvrf4VHNQ6pl",
      "execution_count": 3,
      "outputs": [
        {
          "output_type": "stream",
          "name": "stdout",
          "text": [
            "Mounted at /content/drive\n"
          ]
        }
      ]
    },
    {
      "cell_type": "markdown",
      "id": "9eaac38b-9397-42b2-bb07-e970d6181990",
      "metadata": {
        "id": "9eaac38b-9397-42b2-bb07-e970d6181990"
      },
      "source": [
        "#### Head"
      ]
    },
    {
      "cell_type": "markdown",
      "id": "529e11dd-446b-4a29-8ab9-d69d31e124f2",
      "metadata": {
        "id": "529e11dd-446b-4a29-8ab9-d69d31e124f2"
      },
      "source": [
        "La función `head` muestra de forma predeterminada las primeras 5 filas de un DataFrame. Puede especificar el número de filas que desea ver (por ejemplo, `df.head(10)`."
      ]
    },
    {
      "cell_type": "code",
      "execution_count": 5,
      "id": "359458a8-14fc-4348-b506-53c2e1a5e2b5",
      "metadata": {
        "tags": [],
        "colab": {
          "base_uri": "https://localhost:8080/",
          "height": 368
        },
        "id": "359458a8-14fc-4348-b506-53c2e1a5e2b5",
        "outputId": "f77fbcf6-afe9-4f9a-b496-f41bcc095151"
      },
      "outputs": [
        {
          "output_type": "execute_result",
          "data": {
            "text/plain": [
              "shape: (3, 16)\n",
              "┌───────────┬───────────┬───────────┬───────────┬───┬───────────┬───────────┬───────────┬──────────┐\n",
              "│ video_id  ┆ trending_ ┆ title     ┆ channel_t ┆ … ┆ comments_ ┆ ratings_d ┆ video_err ┆ descript │\n",
              "│ ---       ┆ date      ┆ ---       ┆ itle      ┆   ┆ disabled  ┆ isabled   ┆ or_or_rem ┆ ion      │\n",
              "│ str       ┆ ---       ┆ str       ┆ ---       ┆   ┆ ---       ┆ ---       ┆ oved      ┆ ---      │\n",
              "│           ┆ str       ┆           ┆ str       ┆   ┆ str       ┆ str       ┆ ---       ┆ str      │\n",
              "│           ┆           ┆           ┆           ┆   ┆           ┆           ┆ str       ┆          │\n",
              "╞═══════════╪═══════════╪═══════════╪═══════════╪═══╪═══════════╪═══════════╪═══════════╪══════════╡\n",
              "│ 2kyS6SvSY ┆ 17.14.11  ┆ WE WANT   ┆ CaseyNeis ┆ … ┆ False     ┆ False     ┆ False     ┆ SHANTELL │\n",
              "│ SE        ┆           ┆ TO TALK   ┆ tat       ┆   ┆           ┆           ┆           ┆ 'S       │\n",
              "│           ┆           ┆ ABOUT OUR ┆           ┆   ┆           ┆           ┆           ┆ CHANNEL  │\n",
              "│           ┆           ┆ MARR…     ┆           ┆   ┆           ┆           ┆           ┆ - https: │\n",
              "│           ┆           ┆           ┆           ┆   ┆           ┆           ┆           ┆ //w…     │\n",
              "│ 1ZAPwfrtA ┆ 17.14.11  ┆ The Trump ┆ LastWeekT ┆ … ┆ False     ┆ False     ┆ False     ┆ One year │\n",
              "│ FY        ┆           ┆ Presidenc ┆ onight    ┆   ┆           ┆           ┆           ┆ after    │\n",
              "│           ┆           ┆ y: Last   ┆           ┆   ┆           ┆           ┆           ┆ the pres │\n",
              "│           ┆           ┆ Wee…      ┆           ┆   ┆           ┆           ┆           ┆ identia… │\n",
              "│ 5qpjK5DgC ┆ 17.14.11  ┆ Racist    ┆ Rudy      ┆ … ┆ False     ┆ False     ┆ False     ┆ WATCH MY │\n",
              "│ t4        ┆           ┆ Superman  ┆ Mancuso   ┆   ┆           ┆           ┆           ┆ PREVIOUS │\n",
              "│           ┆           ┆ | Rudy    ┆           ┆   ┆           ┆           ┆           ┆ VIDEO ▶  │\n",
              "│           ┆           ┆ Mancuso…  ┆           ┆   ┆           ┆           ┆           ┆ \\n\\n…    │\n",
              "└───────────┴───────────┴───────────┴───────────┴───┴───────────┴───────────┴───────────┴──────────┘"
            ],
            "text/html": [
              "<div><style>\n",
              ".dataframe > thead > tr,\n",
              ".dataframe > tbody > tr {\n",
              "  text-align: right;\n",
              "  white-space: pre-wrap;\n",
              "}\n",
              "</style>\n",
              "<small>shape: (3, 16)</small><table border=\"1\" class=\"dataframe\"><thead><tr><th>video_id</th><th>trending_date</th><th>title</th><th>channel_title</th><th>category_id</th><th>publish_time</th><th>tags</th><th>views</th><th>likes</th><th>dislikes</th><th>comment_count</th><th>thumbnail_link</th><th>comments_disabled</th><th>ratings_disabled</th><th>video_error_or_removed</th><th>description</th></tr><tr><td>str</td><td>str</td><td>str</td><td>str</td><td>str</td><td>datetime[ns]</td><td>str</td><td>i32</td><td>i32</td><td>i32</td><td>i32</td><td>str</td><td>str</td><td>str</td><td>str</td><td>str</td></tr></thead><tbody><tr><td>&quot;2kyS6SvSYSE&quot;</td><td>&quot;17.14.11&quot;</td><td>&quot;WE WANT TO TALK ABOUT OUR MARR…</td><td>&quot;CaseyNeistat&quot;</td><td>&quot;22&quot;</td><td>2017-11-13 17:13:01</td><td>&quot;SHANtell martin&quot;</td><td>748374</td><td>57527</td><td>2966</td><td>15954</td><td>&quot;https://i.ytimg.com/vi/2kyS6Sv…</td><td>&quot;False&quot;</td><td>&quot;False&quot;</td><td>&quot;False&quot;</td><td>&quot;SHANTELL&#x27;S CHANNEL - https://w…</td></tr><tr><td>&quot;1ZAPwfrtAFY&quot;</td><td>&quot;17.14.11&quot;</td><td>&quot;The Trump Presidency: Last Wee…</td><td>&quot;LastWeekTonight&quot;</td><td>&quot;24&quot;</td><td>2017-11-13 07:30:00</td><td>&quot;&quot;last week tonight trump presi…</td><td>2418783</td><td>97185</td><td>6146</td><td>12703</td><td>&quot;https://i.ytimg.com/vi/1ZAPwfr…</td><td>&quot;False&quot;</td><td>&quot;False&quot;</td><td>&quot;False&quot;</td><td>&quot;One year after the presidentia…</td></tr><tr><td>&quot;5qpjK5DgCt4&quot;</td><td>&quot;17.14.11&quot;</td><td>&quot;Racist Superman | Rudy Mancuso…</td><td>&quot;Rudy Mancuso&quot;</td><td>&quot;23&quot;</td><td>2017-11-12 19:05:24</td><td>&quot;&quot;racist superman&quot;|&quot;rudy&quot;|&quot;manc…</td><td>3191434</td><td>146033</td><td>5339</td><td>8181</td><td>&quot;https://i.ytimg.com/vi/5qpjK5D…</td><td>&quot;False&quot;</td><td>&quot;False&quot;</td><td>&quot;False&quot;</td><td>&quot;WATCH MY PREVIOUS VIDEO ▶ \\n\\n…</td></tr></tbody></table></div>"
            ]
          },
          "metadata": {},
          "execution_count": 5
        }
      ],
      "source": [
        "df.head(3)"
      ]
    },
    {
      "cell_type": "code",
      "execution_count": 6,
      "id": "3836e83c-dc39-4265-b302-83577db10b21",
      "metadata": {
        "colab": {
          "base_uri": "https://localhost:8080/",
          "height": 900
        },
        "id": "3836e83c-dc39-4265-b302-83577db10b21",
        "outputId": "c8b77556-8d5a-4fc5-960c-8cf196d07e65"
      },
      "outputs": [
        {
          "output_type": "execute_result",
          "data": {
            "text/plain": [
              "shape: (10, 16)\n",
              "┌───────────┬───────────┬───────────┬───────────┬───┬───────────┬───────────┬───────────┬──────────┐\n",
              "│ video_id  ┆ trending_ ┆ title     ┆ channel_t ┆ … ┆ comments_ ┆ ratings_d ┆ video_err ┆ descript │\n",
              "│ ---       ┆ date      ┆ ---       ┆ itle      ┆   ┆ disabled  ┆ isabled   ┆ or_or_rem ┆ ion      │\n",
              "│ str       ┆ ---       ┆ str       ┆ ---       ┆   ┆ ---       ┆ ---       ┆ oved      ┆ ---      │\n",
              "│           ┆ str       ┆           ┆ str       ┆   ┆ str       ┆ str       ┆ ---       ┆ str      │\n",
              "│           ┆           ┆           ┆           ┆   ┆           ┆           ┆ str       ┆          │\n",
              "╞═══════════╪═══════════╪═══════════╪═══════════╪═══╪═══════════╪═══════════╪═══════════╪══════════╡\n",
              "│ 2kyS6SvSY ┆ 17.14.11  ┆ WE WANT   ┆ CaseyNeis ┆ … ┆ False     ┆ False     ┆ False     ┆ SHANTELL │\n",
              "│ SE        ┆           ┆ TO TALK   ┆ tat       ┆   ┆           ┆           ┆           ┆ 'S       │\n",
              "│           ┆           ┆ ABOUT OUR ┆           ┆   ┆           ┆           ┆           ┆ CHANNEL  │\n",
              "│           ┆           ┆ MARR…     ┆           ┆   ┆           ┆           ┆           ┆ - https: │\n",
              "│           ┆           ┆           ┆           ┆   ┆           ┆           ┆           ┆ //w…     │\n",
              "│ 1ZAPwfrtA ┆ 17.14.11  ┆ The Trump ┆ LastWeekT ┆ … ┆ False     ┆ False     ┆ False     ┆ One year │\n",
              "│ FY        ┆           ┆ Presidenc ┆ onight    ┆   ┆           ┆           ┆           ┆ after    │\n",
              "│           ┆           ┆ y: Last   ┆           ┆   ┆           ┆           ┆           ┆ the pres │\n",
              "│           ┆           ┆ Wee…      ┆           ┆   ┆           ┆           ┆           ┆ identia… │\n",
              "│ 5qpjK5DgC ┆ 17.14.11  ┆ Racist    ┆ Rudy      ┆ … ┆ False     ┆ False     ┆ False     ┆ WATCH MY │\n",
              "│ t4        ┆           ┆ Superman  ┆ Mancuso   ┆   ┆           ┆           ┆           ┆ PREVIOUS │\n",
              "│           ┆           ┆ | Rudy    ┆           ┆   ┆           ┆           ┆           ┆ VIDEO ▶  │\n",
              "│           ┆           ┆ Mancuso…  ┆           ┆   ┆           ┆           ┆           ┆ \\n\\n…    │\n",
              "│ puqaWrEC7 ┆ 17.14.11  ┆ Nickelbac ┆ Good      ┆ … ┆ False     ┆ False     ┆ False     ┆ Today we │\n",
              "│ tY        ┆           ┆ k Lyrics: ┆ Mythical  ┆   ┆           ┆           ┆           ┆ find out │\n",
              "│           ┆           ┆ Real or   ┆ Morning   ┆   ┆           ┆           ┆           ┆ if Link  │\n",
              "│           ┆           ┆ Fak…      ┆           ┆   ┆           ┆           ┆           ┆ is a…    │\n",
              "│ d380meD0W ┆ 17.14.11  ┆ I Dare    ┆ nigahiga  ┆ … ┆ False     ┆ False     ┆ False     ┆ I know   │\n",
              "│ 0M        ┆           ┆ You:      ┆           ┆   ┆           ┆           ┆           ┆ it's     │\n",
              "│           ┆           ┆ GOING     ┆           ┆   ┆           ┆           ┆           ┆ been a   │\n",
              "│           ┆           ┆ BALD!?    ┆           ┆   ┆           ┆           ┆           ┆ while    │\n",
              "│           ┆           ┆           ┆           ┆   ┆           ┆           ┆           ┆ since…   │\n",
              "│ gHZ1Qz0Ki ┆ 17.14.11  ┆ 2 Weeks   ┆ iJustine  ┆ … ┆ False     ┆ False     ┆ False     ┆ Using    │\n",
              "│ KM        ┆           ┆ with      ┆           ┆   ┆           ┆           ┆           ┆ the      │\n",
              "│           ┆           ┆ iPhone X  ┆           ┆   ┆           ┆           ┆           ┆ iPhone   │\n",
              "│           ┆           ┆           ┆           ┆   ┆           ┆           ┆           ┆ for the  │\n",
              "│           ┆           ┆           ┆           ┆   ┆           ┆           ┆           ┆ past …   │\n",
              "│ 39idVpFF7 ┆ 17.14.11  ┆ Roy Moore ┆ Saturday  ┆ … ┆ False     ┆ False     ┆ False     ┆ Embattle │\n",
              "│ NQ        ┆           ┆ & Jeff    ┆ Night     ┆   ┆           ┆           ┆           ┆ d        │\n",
              "│           ┆           ┆ Sessions  ┆ Live      ┆   ┆           ┆           ┆           ┆ Alabama  │\n",
              "│           ┆           ┆ Cold…     ┆           ┆   ┆           ┆           ┆           ┆ Senate   │\n",
              "│           ┆           ┆           ┆           ┆   ┆           ┆           ┆           ┆ candi…   │\n",
              "│ nc99ccSXS ┆ 17.14.11  ┆ 5 Ice     ┆ CrazyRuss ┆ … ┆ False     ┆ False     ┆ False     ┆ Ice      │\n",
              "│ T0        ┆           ┆ Cream     ┆ ianHacker ┆   ┆           ┆           ┆           ┆ Cream    │\n",
              "│           ┆           ┆ Gadgets   ┆           ┆   ┆           ┆           ┆           ┆ Pint Com │\n",
              "│           ┆           ┆ put to    ┆           ┆   ┆           ┆           ┆           ┆ bination │\n",
              "│           ┆           ┆ the…      ┆           ┆   ┆           ┆           ┆           ┆ Loc…     │\n",
              "│ jr9QtXwC9 ┆ 17.14.11  ┆ The       ┆ 20th      ┆ … ┆ False     ┆ False     ┆ False     ┆ Inspired │\n",
              "│ vc        ┆           ┆ Greatest  ┆ Century   ┆   ┆           ┆           ┆           ┆ by the   │\n",
              "│           ┆           ┆ Showman | ┆ Fox       ┆   ┆           ┆           ┆           ┆ imaginat │\n",
              "│           ┆           ┆ Officia…  ┆           ┆   ┆           ┆           ┆           ┆ ion of…  │\n",
              "│ TUmyygCMM ┆ 17.14.11  ┆ Why the   ┆ Vox       ┆ … ┆ False     ┆ False     ┆ False     ┆ For now, │\n",
              "│ GA        ┆           ┆ rise of   ┆           ┆   ┆           ┆           ┆           ┆ at       │\n",
              "│           ┆           ┆ the       ┆           ┆   ┆           ┆           ┆           ┆ least,   │\n",
              "│           ┆           ┆ robots    ┆           ┆   ┆           ┆           ┆           ┆ we have  │\n",
              "│           ┆           ┆ won…      ┆           ┆   ┆           ┆           ┆           ┆ bet…     │\n",
              "└───────────┴───────────┴───────────┴───────────┴───┴───────────┴───────────┴───────────┴──────────┘"
            ],
            "text/html": [
              "<div><style>\n",
              ".dataframe > thead > tr,\n",
              ".dataframe > tbody > tr {\n",
              "  text-align: right;\n",
              "  white-space: pre-wrap;\n",
              "}\n",
              "</style>\n",
              "<small>shape: (10, 16)</small><table border=\"1\" class=\"dataframe\"><thead><tr><th>video_id</th><th>trending_date</th><th>title</th><th>channel_title</th><th>category_id</th><th>publish_time</th><th>tags</th><th>views</th><th>likes</th><th>dislikes</th><th>comment_count</th><th>thumbnail_link</th><th>comments_disabled</th><th>ratings_disabled</th><th>video_error_or_removed</th><th>description</th></tr><tr><td>str</td><td>str</td><td>str</td><td>str</td><td>str</td><td>datetime[ns]</td><td>str</td><td>i32</td><td>i32</td><td>i32</td><td>i32</td><td>str</td><td>str</td><td>str</td><td>str</td><td>str</td></tr></thead><tbody><tr><td>&quot;2kyS6SvSYSE&quot;</td><td>&quot;17.14.11&quot;</td><td>&quot;WE WANT TO TALK ABOUT OUR MARR…</td><td>&quot;CaseyNeistat&quot;</td><td>&quot;22&quot;</td><td>2017-11-13 17:13:01</td><td>&quot;SHANtell martin&quot;</td><td>748374</td><td>57527</td><td>2966</td><td>15954</td><td>&quot;https://i.ytimg.com/vi/2kyS6Sv…</td><td>&quot;False&quot;</td><td>&quot;False&quot;</td><td>&quot;False&quot;</td><td>&quot;SHANTELL&#x27;S CHANNEL - https://w…</td></tr><tr><td>&quot;1ZAPwfrtAFY&quot;</td><td>&quot;17.14.11&quot;</td><td>&quot;The Trump Presidency: Last Wee…</td><td>&quot;LastWeekTonight&quot;</td><td>&quot;24&quot;</td><td>2017-11-13 07:30:00</td><td>&quot;&quot;last week tonight trump presi…</td><td>2418783</td><td>97185</td><td>6146</td><td>12703</td><td>&quot;https://i.ytimg.com/vi/1ZAPwfr…</td><td>&quot;False&quot;</td><td>&quot;False&quot;</td><td>&quot;False&quot;</td><td>&quot;One year after the presidentia…</td></tr><tr><td>&quot;5qpjK5DgCt4&quot;</td><td>&quot;17.14.11&quot;</td><td>&quot;Racist Superman | Rudy Mancuso…</td><td>&quot;Rudy Mancuso&quot;</td><td>&quot;23&quot;</td><td>2017-11-12 19:05:24</td><td>&quot;&quot;racist superman&quot;|&quot;rudy&quot;|&quot;manc…</td><td>3191434</td><td>146033</td><td>5339</td><td>8181</td><td>&quot;https://i.ytimg.com/vi/5qpjK5D…</td><td>&quot;False&quot;</td><td>&quot;False&quot;</td><td>&quot;False&quot;</td><td>&quot;WATCH MY PREVIOUS VIDEO ▶ \\n\\n…</td></tr><tr><td>&quot;puqaWrEC7tY&quot;</td><td>&quot;17.14.11&quot;</td><td>&quot;Nickelback Lyrics: Real or Fak…</td><td>&quot;Good Mythical Morning&quot;</td><td>&quot;24&quot;</td><td>2017-11-13 11:00:04</td><td>&quot;&quot;rhett and link&quot;|&quot;gmm&quot;|&quot;good m…</td><td>343168</td><td>10172</td><td>666</td><td>2146</td><td>&quot;https://i.ytimg.com/vi/puqaWrE…</td><td>&quot;False&quot;</td><td>&quot;False&quot;</td><td>&quot;False&quot;</td><td>&quot;Today we find out if Link is a…</td></tr><tr><td>&quot;d380meD0W0M&quot;</td><td>&quot;17.14.11&quot;</td><td>&quot;I Dare You: GOING BALD!?&quot;</td><td>&quot;nigahiga&quot;</td><td>&quot;24&quot;</td><td>2017-11-12 18:01:41</td><td>&quot;&quot;ryan&quot;|&quot;higa&quot;|&quot;higatv&quot;|&quot;nigahi…</td><td>2095731</td><td>132235</td><td>1989</td><td>17518</td><td>&quot;https://i.ytimg.com/vi/d380meD…</td><td>&quot;False&quot;</td><td>&quot;False&quot;</td><td>&quot;False&quot;</td><td>&quot;I know it&#x27;s been a while since…</td></tr><tr><td>&quot;gHZ1Qz0KiKM&quot;</td><td>&quot;17.14.11&quot;</td><td>&quot;2 Weeks with iPhone X&quot;</td><td>&quot;iJustine&quot;</td><td>&quot;28&quot;</td><td>2017-11-13 19:07:23</td><td>&quot;&quot;ijustine&quot;|&quot;week with iPhone X…</td><td>119180</td><td>9763</td><td>511</td><td>1434</td><td>&quot;https://i.ytimg.com/vi/gHZ1Qz0…</td><td>&quot;False&quot;</td><td>&quot;False&quot;</td><td>&quot;False&quot;</td><td>&quot;Using the iPhone for the past …</td></tr><tr><td>&quot;39idVpFF7NQ&quot;</td><td>&quot;17.14.11&quot;</td><td>&quot;Roy Moore &amp; Jeff Sessions Cold…</td><td>&quot;Saturday Night Live&quot;</td><td>&quot;24&quot;</td><td>2017-11-12 05:37:17</td><td>&quot;&quot;SNL&quot;|&quot;Saturday Night Live&quot;|&quot;S…</td><td>2103417</td><td>15993</td><td>2445</td><td>1970</td><td>&quot;https://i.ytimg.com/vi/39idVpF…</td><td>&quot;False&quot;</td><td>&quot;False&quot;</td><td>&quot;False&quot;</td><td>&quot;Embattled Alabama Senate candi…</td></tr><tr><td>&quot;nc99ccSXST0&quot;</td><td>&quot;17.14.11&quot;</td><td>&quot;5 Ice Cream Gadgets put to the…</td><td>&quot;CrazyRussianHacker&quot;</td><td>&quot;28&quot;</td><td>2017-11-12 21:50:37</td><td>&quot;&quot;5 Ice Cream Gadgets&quot;|&quot;Ice Cre…</td><td>817732</td><td>23663</td><td>778</td><td>3432</td><td>&quot;https://i.ytimg.com/vi/nc99ccS…</td><td>&quot;False&quot;</td><td>&quot;False&quot;</td><td>&quot;False&quot;</td><td>&quot;Ice Cream Pint Combination Loc…</td></tr><tr><td>&quot;jr9QtXwC9vc&quot;</td><td>&quot;17.14.11&quot;</td><td>&quot;The Greatest Showman | Officia…</td><td>&quot;20th Century Fox&quot;</td><td>&quot;1&quot;</td><td>2017-11-13 14:00:23</td><td>&quot;&quot;Trailer&quot;|&quot;Hugh Jackman&quot;|&quot;Mich…</td><td>826059</td><td>3543</td><td>119</td><td>340</td><td>&quot;https://i.ytimg.com/vi/jr9QtXw…</td><td>&quot;False&quot;</td><td>&quot;False&quot;</td><td>&quot;False&quot;</td><td>&quot;Inspired by the imagination of…</td></tr><tr><td>&quot;TUmyygCMMGA&quot;</td><td>&quot;17.14.11&quot;</td><td>&quot;Why the rise of the robots won…</td><td>&quot;Vox&quot;</td><td>&quot;25&quot;</td><td>2017-11-13 13:45:16</td><td>&quot;&quot;vox.com&quot;|&quot;vox&quot;|&quot;explain&quot;|&quot;shi…</td><td>256426</td><td>12654</td><td>1363</td><td>2368</td><td>&quot;https://i.ytimg.com/vi/TUmyygC…</td><td>&quot;False&quot;</td><td>&quot;False&quot;</td><td>&quot;False&quot;</td><td>&quot;For now, at least, we have bet…</td></tr></tbody></table></div>"
            ]
          },
          "metadata": {},
          "execution_count": 6
        }
      ],
      "source": [
        "df.head(10)"
      ]
    },
    {
      "cell_type": "markdown",
      "id": "403f8092-5584-4316-8a70-4b0071bdc260",
      "metadata": {
        "id": "403f8092-5584-4316-8a70-4b0071bdc260"
      },
      "source": [
        "#### Tail"
      ]
    },
    {
      "cell_type": "markdown",
      "id": "b03d290e-3faa-46df-8940-13c546767ecb",
      "metadata": {
        "id": "b03d290e-3faa-46df-8940-13c546767ecb"
      },
      "source": [
        "La función `tail` muestra las últimas 5 filas de un DataFrame. También puede especificar la cantidad de filas que desea ver, similar a `head`."
      ]
    },
    {
      "cell_type": "code",
      "execution_count": 7,
      "id": "e50ffc59-fcd1-460f-bf83-196af8ded200",
      "metadata": {
        "tags": [],
        "colab": {
          "base_uri": "https://localhost:8080/",
          "height": 702
        },
        "id": "e50ffc59-fcd1-460f-bf83-196af8ded200",
        "outputId": "febde4bd-4d10-44e7-cecb-a2e7a6e26e78"
      },
      "outputs": [
        {
          "output_type": "execute_result",
          "data": {
            "text/plain": [
              "shape: (7, 16)\n",
              "┌───────────┬───────────┬───────────┬───────────┬───┬───────────┬───────────┬───────────┬──────────┐\n",
              "│ video_id  ┆ trending_ ┆ title     ┆ channel_t ┆ … ┆ comments_ ┆ ratings_d ┆ video_err ┆ descript │\n",
              "│ ---       ┆ date      ┆ ---       ┆ itle      ┆   ┆ disabled  ┆ isabled   ┆ or_or_rem ┆ ion      │\n",
              "│ str       ┆ ---       ┆ str       ┆ ---       ┆   ┆ ---       ┆ ---       ┆ oved      ┆ ---      │\n",
              "│           ┆ str       ┆           ┆ str       ┆   ┆ str       ┆ str       ┆ ---       ┆ str      │\n",
              "│           ┆           ┆           ┆           ┆   ┆           ┆           ┆ str       ┆          │\n",
              "╞═══════════╪═══════════╪═══════════╪═══════════╪═══╪═══════════╪═══════════╪═══════════╪══════════╡\n",
              "│ ju_inUnrL ┆ 18.14.06  ┆ Fifth     ┆ FifthHarm ┆ … ┆ False     ┆ False     ┆ False     ┆ Fifth    │\n",
              "│ c4        ┆           ┆ Harmony - ┆ onyVEVO   ┆   ┆           ┆           ┆           ┆ Harmony  │\n",
              "│           ┆           ┆ Don't Say ┆           ┆   ┆           ┆           ┆           ┆ availabl │\n",
              "│           ┆           ┆ You …     ┆           ┆   ┆           ┆           ┆           ┆ e at     │\n",
              "│           ┆           ┆           ┆           ┆   ┆           ┆           ┆           ┆ iTu…     │\n",
              "│ 1PhPYr_9z ┆ 18.14.06  ┆ BTS Plays ┆ BuzzFeed  ┆ … ┆ False     ┆ False     ┆ False     ┆ BTS with │\n",
              "│ RY        ┆           ┆ With      ┆ Celeb     ┆   ┆           ┆           ┆           ┆ the PPS, │\n",
              "│           ┆           ┆ Puppies   ┆           ┆   ┆           ┆           ┆           ┆ the pupp │\n",
              "│           ┆           ┆ While A…  ┆           ┆   ┆           ┆           ┆           ┆ ies.…    │\n",
              "│ BZt0qjTWN ┆ 18.14.06  ┆ The Cat   ┆ AaronsAni ┆ … ┆ False     ┆ False     ┆ False     ┆ The Cat  │\n",
              "│ hw        ┆           ┆ Who       ┆ mals      ┆   ┆           ┆           ┆           ┆ Who      │\n",
              "│           ┆           ┆ Caught    ┆           ┆   ┆           ┆           ┆           ┆ Caught   │\n",
              "│           ┆           ┆ the Laser ┆           ┆   ┆           ┆           ┆           ┆ the      │\n",
              "│           ┆           ┆           ┆           ┆   ┆           ┆           ┆           ┆ Laser -… │\n",
              "│ 1h7KV2sjU ┆ 18.14.06  ┆ True      ┆ zefrank1  ┆ … ┆ False     ┆ False     ┆ False     ┆ null     │\n",
              "│ WY        ┆           ┆ Facts :   ┆           ┆   ┆           ┆           ┆           ┆          │\n",
              "│           ┆           ┆ Ant       ┆           ┆   ┆           ┆           ┆           ┆          │\n",
              "│           ┆           ┆ Mutualism ┆           ┆   ┆           ┆           ┆           ┆          │\n",
              "│ D6Oy4Lfoq ┆ 18.14.06  ┆ I GAVE    ┆ Brad      ┆ … ┆ False     ┆ False     ┆ False     ┆ I had so │\n",
              "│ sU        ┆           ┆ SAFIYA    ┆ Mondo     ┆   ┆           ┆           ┆           ┆ much fun │\n",
              "│           ┆           ┆ NYGAARD A ┆           ┆   ┆           ┆           ┆           ┆ transfor │\n",
              "│           ┆           ┆ PERFEC…   ┆           ┆   ┆           ┆           ┆           ┆ ming…    │\n",
              "│ oV0zkMe1K ┆ 18.14.06  ┆ How Black ┆ How It    ┆ … ┆ False     ┆ False     ┆ False     ┆ How      │\n",
              "│ 8s        ┆           ┆ Panther   ┆ Should    ┆   ┆           ┆           ┆           ┆ Black    │\n",
              "│           ┆           ┆ Should    ┆ Have      ┆   ┆           ┆           ┆           ┆ Panther  │\n",
              "│           ┆           ┆ Have …    ┆ Ended     ┆   ┆           ┆           ┆           ┆ Should   │\n",
              "│           ┆           ┆           ┆           ┆   ┆           ┆           ┆           ┆ Have …   │\n",
              "│ ooyjaVdt- ┆ 18.14.06  ┆ Official  ┆ Call of   ┆ … ┆ False     ┆ False     ┆ False     ┆ Call of  │\n",
              "│ jA        ┆           ┆ Call of   ┆ Duty      ┆   ┆           ┆           ┆           ┆ Duty:    │\n",
              "│           ┆           ┆ Duty®:    ┆           ┆   ┆           ┆           ┆           ┆ Black    │\n",
              "│           ┆           ┆ Black …   ┆           ┆   ┆           ┆           ┆           ┆ Ops 4    │\n",
              "│           ┆           ┆           ┆           ┆   ┆           ┆           ┆           ┆ Mult…    │\n",
              "└───────────┴───────────┴───────────┴───────────┴───┴───────────┴───────────┴───────────┴──────────┘"
            ],
            "text/html": [
              "<div><style>\n",
              ".dataframe > thead > tr,\n",
              ".dataframe > tbody > tr {\n",
              "  text-align: right;\n",
              "  white-space: pre-wrap;\n",
              "}\n",
              "</style>\n",
              "<small>shape: (7, 16)</small><table border=\"1\" class=\"dataframe\"><thead><tr><th>video_id</th><th>trending_date</th><th>title</th><th>channel_title</th><th>category_id</th><th>publish_time</th><th>tags</th><th>views</th><th>likes</th><th>dislikes</th><th>comment_count</th><th>thumbnail_link</th><th>comments_disabled</th><th>ratings_disabled</th><th>video_error_or_removed</th><th>description</th></tr><tr><td>str</td><td>str</td><td>str</td><td>str</td><td>str</td><td>datetime[ns]</td><td>str</td><td>i32</td><td>i32</td><td>i32</td><td>i32</td><td>str</td><td>str</td><td>str</td><td>str</td><td>str</td></tr></thead><tbody><tr><td>&quot;ju_inUnrLc4&quot;</td><td>&quot;18.14.06&quot;</td><td>&quot;Fifth Harmony - Don&#x27;t Say You …</td><td>&quot;FifthHarmonyVEVO&quot;</td><td>&quot;10&quot;</td><td>2018-05-18 07:00:08</td><td>&quot;&quot;fifth hamony&quot;|&quot;harmonizers&quot;|&quot;…</td><td>23502572</td><td>676467</td><td>15993</td><td>52432</td><td>&quot;https://i.ytimg.com/vi/ju_inUn…</td><td>&quot;False&quot;</td><td>&quot;False&quot;</td><td>&quot;False&quot;</td><td>&quot;Fifth Harmony available at iTu…</td></tr><tr><td>&quot;1PhPYr_9zRY&quot;</td><td>&quot;18.14.06&quot;</td><td>&quot;BTS Plays With Puppies While A…</td><td>&quot;BuzzFeed Celeb&quot;</td><td>&quot;22&quot;</td><td>2018-05-18 16:39:29</td><td>&quot;&quot;BuzzFeed&quot;|&quot;BuzzFeedVideo&quot;|&quot;Pu…</td><td>8259128</td><td>645888</td><td>4052</td><td>62610</td><td>&quot;https://i.ytimg.com/vi/1PhPYr_…</td><td>&quot;False&quot;</td><td>&quot;False&quot;</td><td>&quot;False&quot;</td><td>&quot;BTS with the PPS, the puppies.…</td></tr><tr><td>&quot;BZt0qjTWNhw&quot;</td><td>&quot;18.14.06&quot;</td><td>&quot;The Cat Who Caught the Laser&quot;</td><td>&quot;AaronsAnimals&quot;</td><td>&quot;15&quot;</td><td>2018-05-18 13:00:04</td><td>&quot;&quot;aarons animals&quot;|&quot;aarons&quot;|&quot;ani…</td><td>1685609</td><td>38160</td><td>1385</td><td>2657</td><td>&quot;https://i.ytimg.com/vi/BZt0qjT…</td><td>&quot;False&quot;</td><td>&quot;False&quot;</td><td>&quot;False&quot;</td><td>&quot;The Cat Who Caught the Laser -…</td></tr><tr><td>&quot;1h7KV2sjUWY&quot;</td><td>&quot;18.14.06&quot;</td><td>&quot;True Facts : Ant Mutualism&quot;</td><td>&quot;zefrank1&quot;</td><td>&quot;22&quot;</td><td>2018-05-18 01:00:06</td><td>&quot;[none]&quot;</td><td>1064798</td><td>60008</td><td>382</td><td>3936</td><td>&quot;https://i.ytimg.com/vi/1h7KV2s…</td><td>&quot;False&quot;</td><td>&quot;False&quot;</td><td>&quot;False&quot;</td><td>null</td></tr><tr><td>&quot;D6Oy4LfoqsU&quot;</td><td>&quot;18.14.06&quot;</td><td>&quot;I GAVE SAFIYA NYGAARD A PERFEC…</td><td>&quot;Brad Mondo&quot;</td><td>&quot;24&quot;</td><td>2018-05-18 17:34:22</td><td>&quot;&quot;I gave safiya nygaard a perfe…</td><td>1066451</td><td>48068</td><td>1032</td><td>3992</td><td>&quot;https://i.ytimg.com/vi/D6Oy4Lf…</td><td>&quot;False&quot;</td><td>&quot;False&quot;</td><td>&quot;False&quot;</td><td>&quot;I had so much fun transforming…</td></tr><tr><td>&quot;oV0zkMe1K8s&quot;</td><td>&quot;18.14.06&quot;</td><td>&quot;How Black Panther Should Have …</td><td>&quot;How It Should Have Ended&quot;</td><td>&quot;1&quot;</td><td>2018-05-17 17:00:04</td><td>&quot;&quot;Black Panther&quot;|&quot;HISHE&quot;|&quot;Marve…</td><td>5660813</td><td>192957</td><td>2846</td><td>13088</td><td>&quot;https://i.ytimg.com/vi/oV0zkMe…</td><td>&quot;False&quot;</td><td>&quot;False&quot;</td><td>&quot;False&quot;</td><td>&quot;How Black Panther Should Have …</td></tr><tr><td>&quot;ooyjaVdt-jA&quot;</td><td>&quot;18.14.06&quot;</td><td>&quot;Official Call of Duty®: Black …</td><td>&quot;Call of Duty&quot;</td><td>&quot;20&quot;</td><td>2018-05-17 17:09:38</td><td>&quot;&quot;call of duty&quot;|&quot;cod&quot;|&quot;activisi…</td><td>10306119</td><td>357079</td><td>212976</td><td>144795</td><td>&quot;https://i.ytimg.com/vi/ooyjaVd…</td><td>&quot;False&quot;</td><td>&quot;False&quot;</td><td>&quot;False&quot;</td><td>&quot;Call of Duty: Black Ops 4 Mult…</td></tr></tbody></table></div>"
            ]
          },
          "metadata": {},
          "execution_count": 7
        }
      ],
      "source": [
        "df.tail(7)"
      ]
    },
    {
      "cell_type": "code",
      "execution_count": 8,
      "id": "8324449a-e495-40e7-ae81-64b424c483a2",
      "metadata": {
        "colab": {
          "base_uri": "https://localhost:8080/",
          "height": 702
        },
        "id": "8324449a-e495-40e7-ae81-64b424c483a2",
        "outputId": "dda11115-adab-48c4-f01b-410798005535"
      },
      "outputs": [
        {
          "output_type": "execute_result",
          "data": {
            "text/plain": [
              "shape: (7, 16)\n",
              "┌───────────┬───────────┬───────────┬───────────┬───┬───────────┬───────────┬───────────┬──────────┐\n",
              "│ video_id  ┆ trending_ ┆ title     ┆ channel_t ┆ … ┆ comments_ ┆ ratings_d ┆ video_err ┆ descript │\n",
              "│ ---       ┆ date      ┆ ---       ┆ itle      ┆   ┆ disabled  ┆ isabled   ┆ or_or_rem ┆ ion      │\n",
              "│ str       ┆ ---       ┆ str       ┆ ---       ┆   ┆ ---       ┆ ---       ┆ oved      ┆ ---      │\n",
              "│           ┆ str       ┆           ┆ str       ┆   ┆ str       ┆ str       ┆ ---       ┆ str      │\n",
              "│           ┆           ┆           ┆           ┆   ┆           ┆           ┆ str       ┆          │\n",
              "╞═══════════╪═══════════╪═══════════╪═══════════╪═══╪═══════════╪═══════════╪═══════════╪══════════╡\n",
              "│ ju_inUnrL ┆ 18.14.06  ┆ Fifth     ┆ FifthHarm ┆ … ┆ False     ┆ False     ┆ False     ┆ Fifth    │\n",
              "│ c4        ┆           ┆ Harmony - ┆ onyVEVO   ┆   ┆           ┆           ┆           ┆ Harmony  │\n",
              "│           ┆           ┆ Don't Say ┆           ┆   ┆           ┆           ┆           ┆ availabl │\n",
              "│           ┆           ┆ You …     ┆           ┆   ┆           ┆           ┆           ┆ e at     │\n",
              "│           ┆           ┆           ┆           ┆   ┆           ┆           ┆           ┆ iTu…     │\n",
              "│ 1PhPYr_9z ┆ 18.14.06  ┆ BTS Plays ┆ BuzzFeed  ┆ … ┆ False     ┆ False     ┆ False     ┆ BTS with │\n",
              "│ RY        ┆           ┆ With      ┆ Celeb     ┆   ┆           ┆           ┆           ┆ the PPS, │\n",
              "│           ┆           ┆ Puppies   ┆           ┆   ┆           ┆           ┆           ┆ the pupp │\n",
              "│           ┆           ┆ While A…  ┆           ┆   ┆           ┆           ┆           ┆ ies.…    │\n",
              "│ BZt0qjTWN ┆ 18.14.06  ┆ The Cat   ┆ AaronsAni ┆ … ┆ False     ┆ False     ┆ False     ┆ The Cat  │\n",
              "│ hw        ┆           ┆ Who       ┆ mals      ┆   ┆           ┆           ┆           ┆ Who      │\n",
              "│           ┆           ┆ Caught    ┆           ┆   ┆           ┆           ┆           ┆ Caught   │\n",
              "│           ┆           ┆ the Laser ┆           ┆   ┆           ┆           ┆           ┆ the      │\n",
              "│           ┆           ┆           ┆           ┆   ┆           ┆           ┆           ┆ Laser -… │\n",
              "│ 1h7KV2sjU ┆ 18.14.06  ┆ True      ┆ zefrank1  ┆ … ┆ False     ┆ False     ┆ False     ┆ null     │\n",
              "│ WY        ┆           ┆ Facts :   ┆           ┆   ┆           ┆           ┆           ┆          │\n",
              "│           ┆           ┆ Ant       ┆           ┆   ┆           ┆           ┆           ┆          │\n",
              "│           ┆           ┆ Mutualism ┆           ┆   ┆           ┆           ┆           ┆          │\n",
              "│ D6Oy4Lfoq ┆ 18.14.06  ┆ I GAVE    ┆ Brad      ┆ … ┆ False     ┆ False     ┆ False     ┆ I had so │\n",
              "│ sU        ┆           ┆ SAFIYA    ┆ Mondo     ┆   ┆           ┆           ┆           ┆ much fun │\n",
              "│           ┆           ┆ NYGAARD A ┆           ┆   ┆           ┆           ┆           ┆ transfor │\n",
              "│           ┆           ┆ PERFEC…   ┆           ┆   ┆           ┆           ┆           ┆ ming…    │\n",
              "│ oV0zkMe1K ┆ 18.14.06  ┆ How Black ┆ How It    ┆ … ┆ False     ┆ False     ┆ False     ┆ How      │\n",
              "│ 8s        ┆           ┆ Panther   ┆ Should    ┆   ┆           ┆           ┆           ┆ Black    │\n",
              "│           ┆           ┆ Should    ┆ Have      ┆   ┆           ┆           ┆           ┆ Panther  │\n",
              "│           ┆           ┆ Have …    ┆ Ended     ┆   ┆           ┆           ┆           ┆ Should   │\n",
              "│           ┆           ┆           ┆           ┆   ┆           ┆           ┆           ┆ Have …   │\n",
              "│ ooyjaVdt- ┆ 18.14.06  ┆ Official  ┆ Call of   ┆ … ┆ False     ┆ False     ┆ False     ┆ Call of  │\n",
              "│ jA        ┆           ┆ Call of   ┆ Duty      ┆   ┆           ┆           ┆           ┆ Duty:    │\n",
              "│           ┆           ┆ Duty®:    ┆           ┆   ┆           ┆           ┆           ┆ Black    │\n",
              "│           ┆           ┆ Black …   ┆           ┆   ┆           ┆           ┆           ┆ Ops 4    │\n",
              "│           ┆           ┆           ┆           ┆   ┆           ┆           ┆           ┆ Mult…    │\n",
              "└───────────┴───────────┴───────────┴───────────┴───┴───────────┴───────────┴───────────┴──────────┘"
            ],
            "text/html": [
              "<div><style>\n",
              ".dataframe > thead > tr,\n",
              ".dataframe > tbody > tr {\n",
              "  text-align: right;\n",
              "  white-space: pre-wrap;\n",
              "}\n",
              "</style>\n",
              "<small>shape: (7, 16)</small><table border=\"1\" class=\"dataframe\"><thead><tr><th>video_id</th><th>trending_date</th><th>title</th><th>channel_title</th><th>category_id</th><th>publish_time</th><th>tags</th><th>views</th><th>likes</th><th>dislikes</th><th>comment_count</th><th>thumbnail_link</th><th>comments_disabled</th><th>ratings_disabled</th><th>video_error_or_removed</th><th>description</th></tr><tr><td>str</td><td>str</td><td>str</td><td>str</td><td>str</td><td>datetime[ns]</td><td>str</td><td>i32</td><td>i32</td><td>i32</td><td>i32</td><td>str</td><td>str</td><td>str</td><td>str</td><td>str</td></tr></thead><tbody><tr><td>&quot;ju_inUnrLc4&quot;</td><td>&quot;18.14.06&quot;</td><td>&quot;Fifth Harmony - Don&#x27;t Say You …</td><td>&quot;FifthHarmonyVEVO&quot;</td><td>&quot;10&quot;</td><td>2018-05-18 07:00:08</td><td>&quot;&quot;fifth hamony&quot;|&quot;harmonizers&quot;|&quot;…</td><td>23502572</td><td>676467</td><td>15993</td><td>52432</td><td>&quot;https://i.ytimg.com/vi/ju_inUn…</td><td>&quot;False&quot;</td><td>&quot;False&quot;</td><td>&quot;False&quot;</td><td>&quot;Fifth Harmony available at iTu…</td></tr><tr><td>&quot;1PhPYr_9zRY&quot;</td><td>&quot;18.14.06&quot;</td><td>&quot;BTS Plays With Puppies While A…</td><td>&quot;BuzzFeed Celeb&quot;</td><td>&quot;22&quot;</td><td>2018-05-18 16:39:29</td><td>&quot;&quot;BuzzFeed&quot;|&quot;BuzzFeedVideo&quot;|&quot;Pu…</td><td>8259128</td><td>645888</td><td>4052</td><td>62610</td><td>&quot;https://i.ytimg.com/vi/1PhPYr_…</td><td>&quot;False&quot;</td><td>&quot;False&quot;</td><td>&quot;False&quot;</td><td>&quot;BTS with the PPS, the puppies.…</td></tr><tr><td>&quot;BZt0qjTWNhw&quot;</td><td>&quot;18.14.06&quot;</td><td>&quot;The Cat Who Caught the Laser&quot;</td><td>&quot;AaronsAnimals&quot;</td><td>&quot;15&quot;</td><td>2018-05-18 13:00:04</td><td>&quot;&quot;aarons animals&quot;|&quot;aarons&quot;|&quot;ani…</td><td>1685609</td><td>38160</td><td>1385</td><td>2657</td><td>&quot;https://i.ytimg.com/vi/BZt0qjT…</td><td>&quot;False&quot;</td><td>&quot;False&quot;</td><td>&quot;False&quot;</td><td>&quot;The Cat Who Caught the Laser -…</td></tr><tr><td>&quot;1h7KV2sjUWY&quot;</td><td>&quot;18.14.06&quot;</td><td>&quot;True Facts : Ant Mutualism&quot;</td><td>&quot;zefrank1&quot;</td><td>&quot;22&quot;</td><td>2018-05-18 01:00:06</td><td>&quot;[none]&quot;</td><td>1064798</td><td>60008</td><td>382</td><td>3936</td><td>&quot;https://i.ytimg.com/vi/1h7KV2s…</td><td>&quot;False&quot;</td><td>&quot;False&quot;</td><td>&quot;False&quot;</td><td>null</td></tr><tr><td>&quot;D6Oy4LfoqsU&quot;</td><td>&quot;18.14.06&quot;</td><td>&quot;I GAVE SAFIYA NYGAARD A PERFEC…</td><td>&quot;Brad Mondo&quot;</td><td>&quot;24&quot;</td><td>2018-05-18 17:34:22</td><td>&quot;&quot;I gave safiya nygaard a perfe…</td><td>1066451</td><td>48068</td><td>1032</td><td>3992</td><td>&quot;https://i.ytimg.com/vi/D6Oy4Lf…</td><td>&quot;False&quot;</td><td>&quot;False&quot;</td><td>&quot;False&quot;</td><td>&quot;I had so much fun transforming…</td></tr><tr><td>&quot;oV0zkMe1K8s&quot;</td><td>&quot;18.14.06&quot;</td><td>&quot;How Black Panther Should Have …</td><td>&quot;How It Should Have Ended&quot;</td><td>&quot;1&quot;</td><td>2018-05-17 17:00:04</td><td>&quot;&quot;Black Panther&quot;|&quot;HISHE&quot;|&quot;Marve…</td><td>5660813</td><td>192957</td><td>2846</td><td>13088</td><td>&quot;https://i.ytimg.com/vi/oV0zkMe…</td><td>&quot;False&quot;</td><td>&quot;False&quot;</td><td>&quot;False&quot;</td><td>&quot;How Black Panther Should Have …</td></tr><tr><td>&quot;ooyjaVdt-jA&quot;</td><td>&quot;18.14.06&quot;</td><td>&quot;Official Call of Duty®: Black …</td><td>&quot;Call of Duty&quot;</td><td>&quot;20&quot;</td><td>2018-05-17 17:09:38</td><td>&quot;&quot;call of duty&quot;|&quot;cod&quot;|&quot;activisi…</td><td>10306119</td><td>357079</td><td>212976</td><td>144795</td><td>&quot;https://i.ytimg.com/vi/ooyjaVd…</td><td>&quot;False&quot;</td><td>&quot;False&quot;</td><td>&quot;False&quot;</td><td>&quot;Call of Duty: Black Ops 4 Mult…</td></tr></tbody></table></div>"
            ]
          },
          "metadata": {},
          "execution_count": 8
        }
      ],
      "source": [
        "df.tail(7)"
      ]
    },
    {
      "cell_type": "markdown",
      "id": "fa708719-756c-4207-b89c-3e9b3a0de44e",
      "metadata": {
        "id": "fa708719-756c-4207-b89c-3e9b3a0de44e"
      },
      "source": [
        "#### Sample"
      ]
    },
    {
      "cell_type": "markdown",
      "id": "d1376f70-4a2e-4773-8efc-655444452b15",
      "metadata": {
        "id": "d1376f70-4a2e-4773-8efc-655444452b15"
      },
      "source": [
        "Si desea obtener una impresión de los datos de su DataFrame, también puede utilizar `sample`. Con `sample`, obtienes un número n de filas aleatorias del DataFrame."
      ]
    },
    {
      "cell_type": "code",
      "execution_count": 9,
      "id": "6aa19b4e-a925-4503-be8e-7924ff751086",
      "metadata": {
        "tags": [],
        "colab": {
          "base_uri": "https://localhost:8080/",
          "height": 285
        },
        "id": "6aa19b4e-a925-4503-be8e-7924ff751086",
        "outputId": "00c0ebad-8186-4093-c1cb-8d40765e8071"
      },
      "outputs": [
        {
          "output_type": "execute_result",
          "data": {
            "text/plain": [
              "shape: (2, 16)\n",
              "┌───────────┬───────────┬───────────┬───────────┬───┬───────────┬───────────┬───────────┬──────────┐\n",
              "│ video_id  ┆ trending_ ┆ title     ┆ channel_t ┆ … ┆ comments_ ┆ ratings_d ┆ video_err ┆ descript │\n",
              "│ ---       ┆ date      ┆ ---       ┆ itle      ┆   ┆ disabled  ┆ isabled   ┆ or_or_rem ┆ ion      │\n",
              "│ str       ┆ ---       ┆ str       ┆ ---       ┆   ┆ ---       ┆ ---       ┆ oved      ┆ ---      │\n",
              "│           ┆ str       ┆           ┆ str       ┆   ┆ str       ┆ str       ┆ ---       ┆ str      │\n",
              "│           ┆           ┆           ┆           ┆   ┆           ┆           ┆ str       ┆          │\n",
              "╞═══════════╪═══════════╪═══════════╪═══════════╪═══╪═══════════╪═══════════╪═══════════╪══════════╡\n",
              "│ VllA1V5M3 ┆ 18.01.01  ┆ Republica ┆ Late      ┆ … ┆ False     ┆ False     ┆ False     ┆ Seth     │\n",
              "│ 8E        ┆           ┆ ns Praise ┆ Night     ┆   ┆           ┆           ┆           ┆ takes a  │\n",
              "│           ┆           ┆ Trump;    ┆ with Seth ┆   ┆           ┆           ┆           ┆ closer   │\n",
              "│           ┆           ┆ Trum…     ┆ Meyers    ┆   ┆           ┆           ┆           ┆ look at  │\n",
              "│           ┆           ┆           ┆           ┆   ┆           ┆           ┆           ┆ Re…      │\n",
              "│ jzIE_oKG9 ┆ 18.23.03  ┆ Spill     ┆ The Late  ┆ … ┆ False     ┆ False     ┆ False     ┆ James    │\n",
              "│ PU        ┆           ┆ Your Guts ┆ Late Show ┆   ┆           ┆           ┆           ┆ invites  │\n",
              "│           ┆           ┆ or Fill   ┆ with      ┆   ┆           ┆           ┆           ┆ his      │\n",
              "│           ┆           ┆ Your G…   ┆ James …   ┆   ┆           ┆           ┆           ┆ guests   │\n",
              "│           ┆           ┆           ┆           ┆   ┆           ┆           ┆           ┆ Drew …   │\n",
              "└───────────┴───────────┴───────────┴───────────┴───┴───────────┴───────────┴───────────┴──────────┘"
            ],
            "text/html": [
              "<div><style>\n",
              ".dataframe > thead > tr,\n",
              ".dataframe > tbody > tr {\n",
              "  text-align: right;\n",
              "  white-space: pre-wrap;\n",
              "}\n",
              "</style>\n",
              "<small>shape: (2, 16)</small><table border=\"1\" class=\"dataframe\"><thead><tr><th>video_id</th><th>trending_date</th><th>title</th><th>channel_title</th><th>category_id</th><th>publish_time</th><th>tags</th><th>views</th><th>likes</th><th>dislikes</th><th>comment_count</th><th>thumbnail_link</th><th>comments_disabled</th><th>ratings_disabled</th><th>video_error_or_removed</th><th>description</th></tr><tr><td>str</td><td>str</td><td>str</td><td>str</td><td>str</td><td>datetime[ns]</td><td>str</td><td>i32</td><td>i32</td><td>i32</td><td>i32</td><td>str</td><td>str</td><td>str</td><td>str</td><td>str</td></tr></thead><tbody><tr><td>&quot;VllA1V5M38E&quot;</td><td>&quot;18.01.01&quot;</td><td>&quot;Republicans Praise Trump; Trum…</td><td>&quot;Late Night with Seth Meyers&quot;</td><td>&quot;23&quot;</td><td>2017-12-22 02:00:01</td><td>&quot;&quot;late night&quot;|&quot;seth meyers&quot;|&quot;cl…</td><td>2138143</td><td>22135</td><td>2804</td><td>5201</td><td>&quot;https://i.ytimg.com/vi/VllA1V5…</td><td>&quot;False&quot;</td><td>&quot;False&quot;</td><td>&quot;False&quot;</td><td>&quot;Seth takes a closer look at Re…</td></tr><tr><td>&quot;jzIE_oKG9PU&quot;</td><td>&quot;18.23.03&quot;</td><td>&quot;Spill Your Guts or Fill Your G…</td><td>&quot;The Late Late Show with James …</td><td>&quot;24&quot;</td><td>2018-03-22 06:03:06</td><td>&quot;&quot;The Late Late Show&quot;|&quot;Late Lat…</td><td>1393971</td><td>28302</td><td>1198</td><td>2155</td><td>&quot;https://i.ytimg.com/vi/jzIE_oK…</td><td>&quot;False&quot;</td><td>&quot;False&quot;</td><td>&quot;False&quot;</td><td>&quot;James invites his guests Drew …</td></tr></tbody></table></div>"
            ]
          },
          "metadata": {},
          "execution_count": 9
        }
      ],
      "source": [
        "df.sample(2)  ## se obtiene un numero de filas aleatorias del dataframe"
      ]
    },
    {
      "cell_type": "markdown",
      "id": "37d914ec-ec8b-4a8a-8898-e5e076d75b04",
      "metadata": {
        "id": "37d914ec-ec8b-4a8a-8898-e5e076d75b04"
      },
      "source": [
        "#### Describe"
      ]
    },
    {
      "cell_type": "markdown",
      "id": "b52483d9-ba89-4f9d-935e-b6225c0145a1",
      "metadata": {
        "id": "b52483d9-ba89-4f9d-935e-b6225c0145a1"
      },
      "source": [
        "`describe` devuelve las estadísticas resumidas del DataFrame. Proporcionará varias estadísticas rápidas si es posible."
      ]
    },
    {
      "cell_type": "code",
      "source": [
        "df.columns"
      ],
      "metadata": {
        "colab": {
          "base_uri": "https://localhost:8080/"
        },
        "id": "eW8mkqi3Sr1J",
        "outputId": "4f6bcf78-dc52-4b18-ee59-853c58b7bc17"
      },
      "id": "eW8mkqi3Sr1J",
      "execution_count": 12,
      "outputs": [
        {
          "output_type": "execute_result",
          "data": {
            "text/plain": [
              "['video_id',\n",
              " 'trending_date',\n",
              " 'title',\n",
              " 'channel_title',\n",
              " 'category_id',\n",
              " 'publish_time',\n",
              " 'tags',\n",
              " 'views',\n",
              " 'likes',\n",
              " 'dislikes',\n",
              " 'comment_count',\n",
              " 'thumbnail_link',\n",
              " 'comments_disabled',\n",
              " 'ratings_disabled',\n",
              " 'video_error_or_removed',\n",
              " 'description']"
            ]
          },
          "metadata": {},
          "execution_count": 12
        }
      ]
    },
    {
      "cell_type": "code",
      "execution_count": 20,
      "id": "faf20d19-8419-4965-81db-a4b080033c23",
      "metadata": {
        "tags": [],
        "colab": {
          "base_uri": "https://localhost:8080/",
          "height": 591
        },
        "id": "faf20d19-8419-4965-81db-a4b080033c23",
        "outputId": "3c85520f-daf8-405b-d486-ca268bee642b"
      },
      "outputs": [
        {
          "output_type": "execute_result",
          "data": {
            "text/plain": [
              "shape: (9, 17)\n",
              "┌───────────┬───────────┬───────────┬───────────┬───┬───────────┬───────────┬───────────┬──────────┐\n",
              "│ statistic ┆ video_id  ┆ trending_ ┆ title     ┆ … ┆ comments_ ┆ ratings_d ┆ video_err ┆ descript │\n",
              "│ ---       ┆ ---       ┆ date      ┆ ---       ┆   ┆ disabled  ┆ isabled   ┆ or_or_rem ┆ ion      │\n",
              "│ str       ┆ str       ┆ ---       ┆ str       ┆   ┆ ---       ┆ ---       ┆ oved      ┆ ---      │\n",
              "│           ┆           ┆ str       ┆           ┆   ┆ str       ┆ str       ┆ ---       ┆ str      │\n",
              "│           ┆           ┆           ┆           ┆   ┆           ┆           ┆ str       ┆          │\n",
              "╞═══════════╪═══════════╪═══════════╪═══════════╪═══╪═══════════╪═══════════╪═══════════╪══════════╡\n",
              "│ count     ┆ 48137     ┆ 42385     ┆ 42235     ┆ … ┆ 41022     ┆ 40960     ┆ 40960     ┆ 40390    │\n",
              "│ null_coun ┆ 0         ┆ 5752      ┆ 5902      ┆ … ┆ 7115      ┆ 7177      ┆ 7177      ┆ 7747     │\n",
              "│ t         ┆           ┆           ┆           ┆   ┆           ┆           ┆           ┆          │\n",
              "│ mean      ┆ null      ┆ null      ┆ null      ┆ … ┆ null      ┆ null      ┆ null      ┆ null     │\n",
              "│ std       ┆ null      ┆ null      ┆ null      ┆ … ┆ null      ┆ null      ┆ null      ┆ null     │\n",
              "│ min       ┆ -0CMnp02r ┆  #157     ┆ AP has    ┆ … ┆  Wiz Kid  ┆ Ralph and ┆  Philips  ┆          │\n",
              "│           ┆ NY        ┆           ┆ covered   ┆   ┆           ┆ Rickey’s  ┆           ┆          │\n",
              "│           ┆           ┆           ┆ all the   ┆   ┆           ┆           ┆           ┆          │\n",
              "│           ┆           ┆           ┆ major …   ┆   ┆           ┆           ┆           ┆          │\n",
              "│ 25%       ┆ null      ┆ null      ┆ null      ┆ … ┆ null      ┆ null      ┆ null      ┆ null     │\n",
              "│ 50%       ┆ null      ┆ null      ┆ null      ┆ … ┆ null      ┆ null      ┆ null      ┆ null     │\n",
              "│ 75%       ┆ null      ┆ null      ┆ null      ┆ … ┆ null      ┆ null      ┆ null      ┆ null     │\n",
              "│ max       ┆ zzQsGL_F9 ┆ ”         ┆ 😱 $1,145 ┆ … ┆ True      ┆ True      ┆ True      ┆ 😍 Subsc │\n",
              "│           ┆ _c        ┆ “Gorillas ┆ iPhone    ┆   ┆           ┆           ┆           ┆ ribe to  │\n",
              "│           ┆           ┆ in the    ┆ Case!!    ┆   ┆           ┆           ┆           ┆ my       │\n",
              "│           ┆           ┆ Mist”)    ┆           ┆   ┆           ┆           ┆           ┆ channel  │\n",
              "│           ┆           ┆ and …     ┆           ┆   ┆           ┆           ┆           ┆ : ht…    │\n",
              "└───────────┴───────────┴───────────┴───────────┴───┴───────────┴───────────┴───────────┴──────────┘"
            ],
            "text/html": [
              "<div><style>\n",
              ".dataframe > thead > tr,\n",
              ".dataframe > tbody > tr {\n",
              "  text-align: right;\n",
              "  white-space: pre-wrap;\n",
              "}\n",
              "</style>\n",
              "<small>shape: (9, 17)</small><table border=\"1\" class=\"dataframe\"><thead><tr><th>statistic</th><th>video_id</th><th>trending_date</th><th>title</th><th>channel_title</th><th>category_id</th><th>publish_time</th><th>tags</th><th>views</th><th>likes</th><th>dislikes</th><th>comment_count</th><th>thumbnail_link</th><th>comments_disabled</th><th>ratings_disabled</th><th>video_error_or_removed</th><th>description</th></tr><tr><td>str</td><td>str</td><td>str</td><td>str</td><td>str</td><td>str</td><td>str</td><td>str</td><td>f64</td><td>f64</td><td>f64</td><td>f64</td><td>str</td><td>str</td><td>str</td><td>str</td><td>str</td></tr></thead><tbody><tr><td>&quot;count&quot;</td><td>&quot;48137&quot;</td><td>&quot;42385&quot;</td><td>&quot;42235&quot;</td><td>&quot;42112&quot;</td><td>&quot;41845&quot;</td><td>&quot;40949&quot;</td><td>&quot;41116&quot;</td><td>40949.0</td><td>40949.0</td><td>40949.0</td><td>40949.0</td><td>&quot;41035&quot;</td><td>&quot;41022&quot;</td><td>&quot;40960&quot;</td><td>&quot;40960&quot;</td><td>&quot;40390&quot;</td></tr><tr><td>&quot;null_count&quot;</td><td>&quot;0&quot;</td><td>&quot;5752&quot;</td><td>&quot;5902&quot;</td><td>&quot;6025&quot;</td><td>&quot;6292&quot;</td><td>&quot;7188&quot;</td><td>&quot;7021&quot;</td><td>7188.0</td><td>7188.0</td><td>7188.0</td><td>7188.0</td><td>&quot;7102&quot;</td><td>&quot;7115&quot;</td><td>&quot;7177&quot;</td><td>&quot;7177&quot;</td><td>&quot;7747&quot;</td></tr><tr><td>&quot;mean&quot;</td><td>null</td><td>null</td><td>null</td><td>null</td><td>null</td><td>&quot;2018-02-11 01:00:49.258589&quot;</td><td>null</td><td>2.3608e6</td><td>74266.702435</td><td>3711.400889</td><td>8446.803683</td><td>null</td><td>null</td><td>null</td><td>null</td><td>null</td></tr><tr><td>&quot;std&quot;</td><td>null</td><td>null</td><td>null</td><td>null</td><td>null</td><td>null</td><td>null</td><td>7.3941e6</td><td>228885.338209</td><td>29029.705945</td><td>37430.486994</td><td>null</td><td>null</td><td>null</td><td>null</td><td>null</td></tr><tr><td>&quot;min&quot;</td><td>&quot;-0CMnp02rNY&quot;</td><td>&quot; #157&quot;</td><td>&quot; AP has covered all the major …</td><td>&quot; &amp; trying new things and adven…</td><td>&quot; Dalessandro’s&quot;</td><td>&quot;2006-07-23 08:24:11&quot;</td><td>&quot; 2017. -- KONG: ...&quot;</td><td>549.0</td><td>0.0</td><td>0.0</td><td>0.0</td><td>&quot; Sonny’s&quot;</td><td>&quot; Wiz Kid&quot;</td><td>&quot; Ralph and Rickey’s&quot;</td><td>&quot; Philips&quot;</td><td>&quot; &quot;</td></tr><tr><td>&quot;25%&quot;</td><td>null</td><td>null</td><td>null</td><td>null</td><td>null</td><td>&quot;2017-12-27 21:00:00&quot;</td><td>null</td><td>242329.0</td><td>5424.0</td><td>202.0</td><td>614.0</td><td>null</td><td>null</td><td>null</td><td>null</td><td>null</td></tr><tr><td>&quot;50%&quot;</td><td>null</td><td>null</td><td>null</td><td>null</td><td>null</td><td>&quot;2018-02-21 16:19:27&quot;</td><td>null</td><td>681861.0</td><td>18091.0</td><td>631.0</td><td>1856.0</td><td>null</td><td>null</td><td>null</td><td>null</td><td>null</td></tr><tr><td>&quot;75%&quot;</td><td>null</td><td>null</td><td>null</td><td>null</td><td>null</td><td>&quot;2018-04-16 17:20:26&quot;</td><td>null</td><td>1.823157e6</td><td>55417.0</td><td>1938.0</td><td>5755.0</td><td>null</td><td>null</td><td>null</td><td>null</td><td>null</td></tr><tr><td>&quot;max&quot;</td><td>&quot;zzQsGL_F9_c&quot;</td><td>&quot;” “Gorillas in the Mist”) and …</td><td>&quot;😱 $1,145 iPhone Case!!&quot;</td><td>&quot;영국남자 Korean Englishman&quot;</td><td>&quot;43&quot;</td><td>&quot;2018-06-14 01:31:53&quot;</td><td>&quot;yt:cc=on&quot;</td><td>2.25211923e8</td><td>5.613827e6</td><td>1.67442e6</td><td>1.36158e6</td><td>&quot;https://i.ytimg.com/vi/zzQsGL_…</td><td>&quot;True&quot;</td><td>&quot;True&quot;</td><td>&quot;True&quot;</td><td>&quot;😍 Subscribe to my channel : ht…</td></tr></tbody></table></div>"
            ]
          },
          "metadata": {},
          "execution_count": 20
        }
      ],
      "source": [
        "df.describe()"
      ]
    },
    {
      "cell_type": "code",
      "source": [
        "df.dtypes"
      ],
      "metadata": {
        "colab": {
          "base_uri": "https://localhost:8080/"
        },
        "id": "onynZix0w4WZ",
        "outputId": "f4a103df-c69d-4a2f-8fb6-482296efc3a0"
      },
      "id": "onynZix0w4WZ",
      "execution_count": 13,
      "outputs": [
        {
          "output_type": "execute_result",
          "data": {
            "text/plain": [
              "[String,\n",
              " String,\n",
              " String,\n",
              " String,\n",
              " String,\n",
              " Datetime(time_unit='ns', time_zone=None),\n",
              " String,\n",
              " Int32,\n",
              " Int32,\n",
              " Int32,\n",
              " Int32,\n",
              " String,\n",
              " String,\n",
              " String,\n",
              " String,\n",
              " String]"
            ]
          },
          "metadata": {},
          "execution_count": 13
        }
      ]
    },
    {
      "cell_type": "code",
      "source": [
        "df.schema ## devuelve un esquema columna y tipo de dato"
      ],
      "metadata": {
        "colab": {
          "base_uri": "https://localhost:8080/"
        },
        "id": "2UWcrT1qxOa8",
        "outputId": "5b6f45a0-bb50-46ba-9017-cd50022772d3"
      },
      "id": "2UWcrT1qxOa8",
      "execution_count": 14,
      "outputs": [
        {
          "output_type": "execute_result",
          "data": {
            "text/plain": [
              "Schema([('video_id', String),\n",
              "        ('trending_date', String),\n",
              "        ('title', String),\n",
              "        ('channel_title', String),\n",
              "        ('category_id', String),\n",
              "        ('publish_time', Datetime(time_unit='ns', time_zone=None)),\n",
              "        ('tags', String),\n",
              "        ('views', Int32),\n",
              "        ('likes', Int32),\n",
              "        ('dislikes', Int32),\n",
              "        ('comment_count', Int32),\n",
              "        ('thumbnail_link', String),\n",
              "        ('comments_disabled', String),\n",
              "        ('ratings_disabled', String),\n",
              "        ('video_error_or_removed', String),\n",
              "        ('description', String)])"
            ]
          },
          "metadata": {},
          "execution_count": 14
        }
      ]
    },
    {
      "cell_type": "code",
      "source": [
        "import warnings\n",
        "warnings.filterwarnings(\"ignore\")"
      ],
      "metadata": {
        "id": "XOVUMDrtS2OC"
      },
      "id": "XOVUMDrtS2OC",
      "execution_count": 17,
      "outputs": []
    },
    {
      "cell_type": "code",
      "source": [
        "df.approx_n_unique() ## devuelve la cantidad de valores unicos"
      ],
      "metadata": {
        "colab": {
          "base_uri": "https://localhost:8080/",
          "height": 149
        },
        "id": "tk3Te5VxxRh1",
        "outputId": "2025306a-a986-4778-dfcd-8b428a6cfd23"
      },
      "id": "tk3Te5VxxRh1",
      "execution_count": 18,
      "outputs": [
        {
          "output_type": "execute_result",
          "data": {
            "text/plain": [
              "shape: (1, 16)\n",
              "┌──────────┬────────────┬───────┬────────────┬───┬────────────┬────────────┬───────────┬───────────┐\n",
              "│ video_id ┆ trending_d ┆ title ┆ channel_ti ┆ … ┆ comments_d ┆ ratings_di ┆ video_err ┆ descripti │\n",
              "│ ---      ┆ ate        ┆ ---   ┆ tle        ┆   ┆ isabled    ┆ sabled     ┆ or_or_rem ┆ on        │\n",
              "│ u32      ┆ ---        ┆ u32   ┆ ---        ┆   ┆ ---        ┆ ---        ┆ oved      ┆ ---       │\n",
              "│          ┆ u32        ┆       ┆ u32        ┆   ┆ u32        ┆ u32        ┆ ---       ┆ u32       │\n",
              "│          ┆            ┆       ┆            ┆   ┆            ┆            ┆ u32       ┆           │\n",
              "╞══════════╪════════════╪═══════╪════════════╪═══╪════════════╪════════════╪═══════════╪═══════════╡\n",
              "│ 6887     ┆ 283        ┆ 6534  ┆ 2274       ┆ … ┆ 6          ┆ 5          ┆ 5         ┆ 6886      │\n",
              "└──────────┴────────────┴───────┴────────────┴───┴────────────┴────────────┴───────────┴───────────┘"
            ],
            "text/html": [
              "<div><style>\n",
              ".dataframe > thead > tr,\n",
              ".dataframe > tbody > tr {\n",
              "  text-align: right;\n",
              "  white-space: pre-wrap;\n",
              "}\n",
              "</style>\n",
              "<small>shape: (1, 16)</small><table border=\"1\" class=\"dataframe\"><thead><tr><th>video_id</th><th>trending_date</th><th>title</th><th>channel_title</th><th>category_id</th><th>publish_time</th><th>tags</th><th>views</th><th>likes</th><th>dislikes</th><th>comment_count</th><th>thumbnail_link</th><th>comments_disabled</th><th>ratings_disabled</th><th>video_error_or_removed</th><th>description</th></tr><tr><td>u32</td><td>u32</td><td>u32</td><td>u32</td><td>u32</td><td>u32</td><td>u32</td><td>u32</td><td>u32</td><td>u32</td><td>u32</td><td>u32</td><td>u32</td><td>u32</td><td>u32</td><td>u32</td></tr></thead><tbody><tr><td>6887</td><td>283</td><td>6534</td><td>2274</td><td>51</td><td>6284</td><td>6104</td><td>40327</td><td>29703</td><td>8537</td><td>13696</td><td>6296</td><td>6</td><td>5</td><td>5</td><td>6886</td></tr></tbody></table></div>"
            ]
          },
          "metadata": {},
          "execution_count": 18
        }
      ]
    },
    {
      "cell_type": "code",
      "source": [
        "df.describe().transpose() ## devuelve la estadistica del df transpuesta"
      ],
      "metadata": {
        "colab": {
          "base_uri": "https://localhost:8080/",
          "height": 443
        },
        "id": "AZrVDmamxhtN",
        "outputId": "52e34ce7-f448-49a4-b465-8489f60ffe7a"
      },
      "id": "AZrVDmamxhtN",
      "execution_count": 19,
      "outputs": [
        {
          "output_type": "execute_result",
          "data": {
            "text/plain": [
              "shape: (17, 9)\n",
              "┌──────────┬────────────┬──────────┬──────────┬───┬──────────┬──────────┬──────────┬───────────────┐\n",
              "│ column_0 ┆ column_1   ┆ column_2 ┆ column_3 ┆ … ┆ column_5 ┆ column_6 ┆ column_7 ┆ column_8      │\n",
              "│ ---      ┆ ---        ┆ ---      ┆ ---      ┆   ┆ ---      ┆ ---      ┆ ---      ┆ ---           │\n",
              "│ str      ┆ str        ┆ str      ┆ str      ┆   ┆ str      ┆ str      ┆ str      ┆ str           │\n",
              "╞══════════╪════════════╪══════════╪══════════╪═══╪══════════╪══════════╪══════════╪═══════════════╡\n",
              "│ count    ┆ null_count ┆ mean     ┆ std      ┆ … ┆ 25%      ┆ 50%      ┆ 75%      ┆ max           │\n",
              "│ 48137    ┆ 0          ┆ null     ┆ null     ┆ … ┆ null     ┆ null     ┆ null     ┆ zzQsGL_F9_c   │\n",
              "│ 42385    ┆ 5752       ┆ null     ┆ null     ┆ … ┆ null     ┆ null     ┆ null     ┆ ” “Gorillas   │\n",
              "│          ┆            ┆          ┆          ┆   ┆          ┆          ┆          ┆ in the Mist”) │\n",
              "│          ┆            ┆          ┆          ┆   ┆          ┆          ┆          ┆ and …         │\n",
              "│ 42235    ┆ 5902       ┆ null     ┆ null     ┆ … ┆ null     ┆ null     ┆ null     ┆ 😱 $1,145     │\n",
              "│          ┆            ┆          ┆          ┆   ┆          ┆          ┆          ┆ iPhone Case!! │\n",
              "│ 42112    ┆ 6025       ┆ null     ┆ null     ┆ … ┆ null     ┆ null     ┆ null     ┆ 영국남자      │\n",
              "│          ┆            ┆          ┆          ┆   ┆          ┆          ┆          ┆ Korean        │\n",
              "│          ┆            ┆          ┆          ┆   ┆          ┆          ┆          ┆ Englishman    │\n",
              "│ …        ┆ …          ┆ …        ┆ …        ┆ … ┆ …        ┆ …        ┆ …        ┆ …             │\n",
              "│ 41035    ┆ 7102       ┆ null     ┆ null     ┆ … ┆ null     ┆ null     ┆ null     ┆ https://i.yti │\n",
              "│          ┆            ┆          ┆          ┆   ┆          ┆          ┆          ┆ mg.com/vi/zzQ │\n",
              "│          ┆            ┆          ┆          ┆   ┆          ┆          ┆          ┆ sGL_…         │\n",
              "│ 41022    ┆ 7115       ┆ null     ┆ null     ┆ … ┆ null     ┆ null     ┆ null     ┆ True          │\n",
              "│ 40960    ┆ 7177       ┆ null     ┆ null     ┆ … ┆ null     ┆ null     ┆ null     ┆ True          │\n",
              "│ 40960    ┆ 7177       ┆ null     ┆ null     ┆ … ┆ null     ┆ null     ┆ null     ┆ True          │\n",
              "│ 40390    ┆ 7747       ┆ null     ┆ null     ┆ … ┆ null     ┆ null     ┆ null     ┆ 😍 Subscribe  │\n",
              "│          ┆            ┆          ┆          ┆   ┆          ┆          ┆          ┆ to my channel │\n",
              "│          ┆            ┆          ┆          ┆   ┆          ┆          ┆          ┆ : ht…         │\n",
              "└──────────┴────────────┴──────────┴──────────┴───┴──────────┴──────────┴──────────┴───────────────┘"
            ],
            "text/html": [
              "<div><style>\n",
              ".dataframe > thead > tr,\n",
              ".dataframe > tbody > tr {\n",
              "  text-align: right;\n",
              "  white-space: pre-wrap;\n",
              "}\n",
              "</style>\n",
              "<small>shape: (17, 9)</small><table border=\"1\" class=\"dataframe\"><thead><tr><th>column_0</th><th>column_1</th><th>column_2</th><th>column_3</th><th>column_4</th><th>column_5</th><th>column_6</th><th>column_7</th><th>column_8</th></tr><tr><td>str</td><td>str</td><td>str</td><td>str</td><td>str</td><td>str</td><td>str</td><td>str</td><td>str</td></tr></thead><tbody><tr><td>&quot;count&quot;</td><td>&quot;null_count&quot;</td><td>&quot;mean&quot;</td><td>&quot;std&quot;</td><td>&quot;min&quot;</td><td>&quot;25%&quot;</td><td>&quot;50%&quot;</td><td>&quot;75%&quot;</td><td>&quot;max&quot;</td></tr><tr><td>&quot;48137&quot;</td><td>&quot;0&quot;</td><td>null</td><td>null</td><td>&quot;-0CMnp02rNY&quot;</td><td>null</td><td>null</td><td>null</td><td>&quot;zzQsGL_F9_c&quot;</td></tr><tr><td>&quot;42385&quot;</td><td>&quot;5752&quot;</td><td>null</td><td>null</td><td>&quot; #157&quot;</td><td>null</td><td>null</td><td>null</td><td>&quot;” “Gorillas in the Mist”) and …</td></tr><tr><td>&quot;42235&quot;</td><td>&quot;5902&quot;</td><td>null</td><td>null</td><td>&quot; AP has covered all the major …</td><td>null</td><td>null</td><td>null</td><td>&quot;😱 $1,145 iPhone Case!!&quot;</td></tr><tr><td>&quot;42112&quot;</td><td>&quot;6025&quot;</td><td>null</td><td>null</td><td>&quot; &amp; trying new things and adven…</td><td>null</td><td>null</td><td>null</td><td>&quot;영국남자 Korean Englishman&quot;</td></tr><tr><td>&hellip;</td><td>&hellip;</td><td>&hellip;</td><td>&hellip;</td><td>&hellip;</td><td>&hellip;</td><td>&hellip;</td><td>&hellip;</td><td>&hellip;</td></tr><tr><td>&quot;41035&quot;</td><td>&quot;7102&quot;</td><td>null</td><td>null</td><td>&quot; Sonny’s&quot;</td><td>null</td><td>null</td><td>null</td><td>&quot;https://i.ytimg.com/vi/zzQsGL_…</td></tr><tr><td>&quot;41022&quot;</td><td>&quot;7115&quot;</td><td>null</td><td>null</td><td>&quot; Wiz Kid&quot;</td><td>null</td><td>null</td><td>null</td><td>&quot;True&quot;</td></tr><tr><td>&quot;40960&quot;</td><td>&quot;7177&quot;</td><td>null</td><td>null</td><td>&quot; Ralph and Rickey’s&quot;</td><td>null</td><td>null</td><td>null</td><td>&quot;True&quot;</td></tr><tr><td>&quot;40960&quot;</td><td>&quot;7177&quot;</td><td>null</td><td>null</td><td>&quot; Philips&quot;</td><td>null</td><td>null</td><td>null</td><td>&quot;True&quot;</td></tr><tr><td>&quot;40390&quot;</td><td>&quot;7747&quot;</td><td>null</td><td>null</td><td>&quot; &quot;</td><td>null</td><td>null</td><td>null</td><td>&quot;😍 Subscribe to my channel : ht…</td></tr></tbody></table></div>"
            ]
          },
          "metadata": {},
          "execution_count": 19
        }
      ]
    },
    {
      "cell_type": "code",
      "source": [
        "df.estimated_size() ## devuelve la cantidad de bytes del df"
      ],
      "metadata": {
        "colab": {
          "base_uri": "https://localhost:8080/"
        },
        "id": "w3vwE36zxtBf",
        "outputId": "ee1fa3b2-9ea5-4cd1-9c42-7c40a80f61b2"
      },
      "id": "w3vwE36zxtBf",
      "execution_count": 21,
      "outputs": [
        {
          "output_type": "execute_result",
          "data": {
            "text/plain": [
              "61204003"
            ]
          },
          "metadata": {},
          "execution_count": 21
        }
      ]
    },
    {
      "cell_type": "code",
      "source": [
        "df.glimpse() ### muestra una vista previa del df"
      ],
      "metadata": {
        "colab": {
          "base_uri": "https://localhost:8080/"
        },
        "id": "2UQra8MYxwfH",
        "outputId": "d83e684c-d57a-442e-e980-c9915bc80357"
      },
      "id": "2UQra8MYxwfH",
      "execution_count": 22,
      "outputs": [
        {
          "output_type": "stream",
          "name": "stdout",
          "text": [
            "Rows: 48137\n",
            "Columns: 16\n",
            "$ video_id                        <str> '2kyS6SvSYSE', '1ZAPwfrtAFY', '5qpjK5DgCt4', 'puqaWrEC7tY', 'd380meD0W0M', 'gHZ1Qz0KiKM', '39idVpFF7NQ', 'nc99ccSXST0', 'jr9QtXwC9vc', 'TUmyygCMMGA'\n",
            "$ trending_date                   <str> '17.14.11', '17.14.11', '17.14.11', '17.14.11', '17.14.11', '17.14.11', '17.14.11', '17.14.11', '17.14.11', '17.14.11'\n",
            "$ title                           <str> 'WE WANT TO TALK ABOUT OUR MARRIAGE', 'The Trump Presidency: Last Week Tonight with John Oliver (HBO)', 'Racist Superman | Rudy Mancuso, King Bach & Lele Pons', 'Nickelback Lyrics: Real or Fake?', 'I Dare You: GOING BALD!?', '2 Weeks with iPhone X', 'Roy Moore & Jeff Sessions Cold Open - SNL', '5 Ice Cream Gadgets put to the Test', 'The Greatest Showman | Official Trailer 2 [HD] | 20th Century FOX', 'Why the rise of the robots won’t mean the end of work'\n",
            "$ channel_title                   <str> 'CaseyNeistat', 'LastWeekTonight', 'Rudy Mancuso', 'Good Mythical Morning', 'nigahiga', 'iJustine', 'Saturday Night Live', 'CrazyRussianHacker', '20th Century Fox', 'Vox'\n",
            "$ category_id                     <str> '22', '24', '23', '24', '24', '28', '24', '28', '1', '25'\n",
            "$ publish_time           <datetime[ns]> 2017-11-13 17:13:01, 2017-11-13 07:30:00, 2017-11-12 19:05:24, 2017-11-13 11:00:04, 2017-11-12 18:01:41, 2017-11-13 19:07:23, 2017-11-12 05:37:17, 2017-11-12 21:50:37, 2017-11-13 14:00:23, 2017-11-13 13:45:16\n",
            "$ tags                            <str> 'SHANtell martin', '\"last week tonight trump presidency\"|\"last week tonight donald trump\"|\"john oliver trump\"|\"donald trump\"', '\"racist superman\"|\"rudy\"|\"mancuso\"|\"king\"|\"bach\"|\"racist\"|\"superman\"|\"love\"|\"rudy mancuso poo bear black white official music video\"|\"iphone x by pineapple\"|\"lelepons\"|\"hannahstocking\"|\"rudymancuso\"|\"inanna\"|\"anwar\"|\"sarkis\"|\"shots\"|\"shotsstudios\"|\"alesso\"|\"anitta\"|\"brazil\"|\"Getting My Driver\\'s License | Lele Pons\"', '\"rhett and link\"|\"gmm\"|\"good mythical morning\"|\"rhett and link good mythical morning\"|\"good mythical morning rhett and link\"|\"mythical morning\"|\"Season 12\"|\"nickelback lyrics\"|\"nickelback lyrics real or fake\"|\"nickelback\"|\"nickelback songs\"|\"nickelback song\"|\"rhett link nickelback\"|\"gmm nickelback\"|\"lyrics (website category)\"|\"nickelback (musical group)\"|\"rock\"|\"music\"|\"lyrics\"|\"chad kroeger\"|\"canada\"|\"music (industry)\"|\"mythical\"|\"gmm challenge\"|\"comedy\"|\"funny\"|\"challenge\"', '\"ryan\"|\"higa\"|\"higatv\"|\"nigahiga\"|\"i dare you\"|\"idy\"|\"rhpc\"|\"dares\"|\"no truth\"|\"comments\"|\"comedy\"|\"funny\"|\"stupid\"|\"fail\"', '\"ijustine\"|\"week with iPhone X\"|\"iphone x\"|\"apple\"|\"iphone\"|\"iphone x review\"|\"iphone x unboxing\"', '\"SNL\"|\"Saturday Night Live\"|\"SNL Season 43\"|\"Episode 1730\"|\"Tiffany Haddish\"|\"Roy Moore\"|\"Mikey Day\"|\"Mike Pence\"|\"Beck Bennett\"|\"Jeff Sessions\"|\"Kate McKinnon\"|\"s43\"|\"s43e5\"|\"episode 5\"|\"live\"|\"new york\"|\"comedy\"|\"sketch\"|\"funny\"|\"hilarious\"|\"late night\"|\"host\"|\"music\"|\"guest\"|\"laugh\"|\"impersonation\"|\"actor\"|\"improv\"|\"musician\"|\"comedian\"|\"actress\"|\"If Loving You Is Wrong\"|\"Oprah Winfrey\"|\"OWN\"|\"Girls Trip\"|\"The Carmichael Show\"|\"Keanu\"|\"Taylor Swift\"|\"Reputation\"|\"Look What You Made Me Do\"|\"ready for it?\"|\"cold open\"', '\"5 Ice Cream Gadgets\"|\"Ice Cream\"|\"Cream Sandwich Maker\"|\"gadgets\"|\"gadget review\"|\"review\"|\"unboxing\"|\"kitchen gadgets\"|\"Gadgets put to the Test\"|\"testing\"|\"10 Kitchen Gadgets\"|\"7 Camping Coffee Gadgets\"|\"10 Kitchen Gadgets put to the Test\"', '\"Trailer\"|\"Hugh Jackman\"|\"Michelle Williams\"|\"Zac Efron\"|\"Zendaya\"|\"Rebecca Ferguson\"|\"pasek and paul\"|\"la la land\"|\"moulin rouge\"|\"high school musical\"|\"hugh jackman musical\"|\"zac efron musical\"|\"musical\"|\"the greatest showman\"|\"greatest showman\"|\"Michael Gracey\"|\"P.T. Barnum\"|\"Barnum and Bailey\"|\"Barnum Circus\"|\"Barnum and Bailey Circus\"|\"20th century fox\"|\"greatest showman trailer\"|\"trailer\"|\"official trailer\"|\"the greatest showman trailer\"|\"logan\"|\"Benj Pasek\"|\"Justin Paul\"', '\"vox.com\"|\"vox\"|\"explain\"|\"shift change\"|\"future of work\"|\"automation\"|\"robots\"|\"jobs\"|\"technological unemployment\"|\"joss fong\"|\"heidi shierholz\"|\"martin ford\"|\"rise of the robots\"|\"humans\"|\"workers\"|\"employment\"|\"economics\"|\"macroeconomics\"|\"silicon valley\"|\"basic income\"'\n",
            "$ views                           <i32> 748374, 2418783, 3191434, 343168, 2095731, 119180, 2103417, 817732, 826059, 256426\n",
            "$ likes                           <i32> 57527, 97185, 146033, 10172, 132235, 9763, 15993, 23663, 3543, 12654\n",
            "$ dislikes                        <i32> 2966, 6146, 5339, 666, 1989, 511, 2445, 778, 119, 1363\n",
            "$ comment_count                   <i32> 15954, 12703, 8181, 2146, 17518, 1434, 1970, 3432, 340, 2368\n",
            "$ thumbnail_link                  <str> 'https://i.ytimg.com/vi/2kyS6SvSYSE/default.jpg', 'https://i.ytimg.com/vi/1ZAPwfrtAFY/default.jpg', 'https://i.ytimg.com/vi/5qpjK5DgCt4/default.jpg', 'https://i.ytimg.com/vi/puqaWrEC7tY/default.jpg', 'https://i.ytimg.com/vi/d380meD0W0M/default.jpg', 'https://i.ytimg.com/vi/gHZ1Qz0KiKM/default.jpg', 'https://i.ytimg.com/vi/39idVpFF7NQ/default.jpg', 'https://i.ytimg.com/vi/nc99ccSXST0/default.jpg', 'https://i.ytimg.com/vi/jr9QtXwC9vc/default.jpg', 'https://i.ytimg.com/vi/TUmyygCMMGA/default.jpg'\n",
            "$ comments_disabled               <str> 'False', 'False', 'False', 'False', 'False', 'False', 'False', 'False', 'False', 'False'\n",
            "$ ratings_disabled                <str> 'False', 'False', 'False', 'False', 'False', 'False', 'False', 'False', 'False', 'False'\n",
            "$ video_error_or_removed          <str> 'False', 'False', 'False', 'False', 'False', 'False', 'False', 'False', 'False', 'False'\n",
            "$ description                     <str> \"SHANTELL'S CHANNEL - https://www.youtube.com/shantellmartin\\\\nCANDICE - https://www.lovebilly.com\\\\n\\\\nfilmed this video in 4k on this -- http://amzn.to/2sTDnRZ\\\\nwith this lens -- http://amzn.to/2rUJOmD\\\\nbig drone - http://tinyurl.com/h4ft3oy\\\\nOTHER GEAR ---  http://amzn.to/2o3GLX5\\\\nSony CAMERA http://amzn.to/2nOBmnv\\\\nOLD CAMERA; http://amzn.to/2o2cQBT\\\\nMAIN LENS; http://amzn.to/2od5gBJ\\\\nBIG SONY CAMERA; http://amzn.to/2nrdJRO\\\\nBIG Canon CAMERA; http://tinyurl.com/jn4q4vz\\\\nBENDY TRIPOD THING; http://tinyurl.com/gw3ylz2\\\\nYOU NEED THIS FOR THE BENDY TRIPOD; http://tinyurl.com/j8mzzua\\\\nWIDE LENS; http://tinyurl.com/jkfcm8t\\\\nMORE EXPENSIVE WIDE LENS; http://tinyurl.com/zrdgtou\\\\nSMALL CAMERA; http://tinyurl.com/hrrzhor\\\\nMICROPHONE; http://tinyurl.com/zefm4jy\\\\nOTHER MICROPHONE; http://tinyurl.com/jxgpj86\\\\nOLD DRONE (cheaper but still great);http://tinyurl.com/zcfmnmd\\\\n\\\\nfollow me; on http://instagram.com/caseyneistat\\\\non https://www.facebook.com/cneistat\\\\non https://twitter.com/CaseyNeistat\\\\n\\\\namazing intro song by https://soundcloud.com/discoteeth\\\\n\\\\nad disclosure.  THIS IS NOT AN AD.  not selling or promoting anything.  but samsung did produce the Shantell Video as a 'GALAXY PROJECT' which is an initiative that enables creators like Shantell and me to make projects we might otherwise not have the opportunity to make.  hope that's clear.  if not ask in the comments and i'll answer any specifics.\", \"One year after the presidential election, John Oliver discusses what we've learned so far and enlists our catheter cowboy to teach Donald Trump what he hasn't.\\\\n\\\\nConnect with Last Week Tonight online...\\\\n\\\\nSubscribe to the Last Week Tonight YouTube channel for more almost news as it almost happens: www.youtube.com/user/LastWeekTonight\\\\n\\\\nFind Last Week Tonight on Facebook like your mom would: http://Facebook.com/LastWeekTonight\\\\n\\\\nFollow us on Twitter for news about jokes and jokes about news: http://Twitter.com/LastWeekTonight\\\\n\\\\nVisit our official site for all that other stuff at once: http://www.hbo.com/lastweektonight\", 'WATCH MY PREVIOUS VIDEO ▶ \\\\n\\\\nSUBSCRIBE ► https://www.youtube.com/channel/UC5jkXpfnBhlDjqh0ir5FsIQ?sub_confirmation=1\\\\n\\\\nTHANKS FOR WATCHING! LIKE & SUBSCRIBE FOR MORE VIDEOS!\\\\n-----------------------------------------------------------\\\\nFIND ME ON: \\\\nInstagram | http://instagram.com/rudymancuso\\\\nTwitter | http://twitter.com/rudymancuso\\\\nFacebook | http://facebook.com/rudymancuso\\\\n\\\\nCAST: \\\\nRudy Mancuso | http://youtube.com/c/rudymancuso\\\\nLele Pons | http://youtube.com/c/lelepons\\\\nKing Bach | https://youtube.com/user/BachelorsPadTv\\\\n\\\\nVideo Effects: \\\\nCaleb Natale | https://instagram.com/calebnatale\\\\n\\\\nPA:\\\\nPaulina Gregory\\\\n\\\\n\\\\nShots Studios Channels:\\\\nAlesso | https://youtube.com/c/alesso\\\\nAnitta | http://youtube.com/c/anitta\\\\nAnwar Jibawi | http://youtube.com/c/anwar\\\\nAwkward Puppets | http://youtube.com/c/awkwardpuppets\\\\nHannah Stocking | http://youtube.com/c/hannahstocking\\\\nInanna Sarkis | http://youtube.com/c/inanna\\\\nLele Pons | http://youtube.com/c/lelepons\\\\nMaejor | http://youtube.com/c/maejor\\\\nMike Tyson | http://youtube.com/c/miketyson \\\\nRudy Mancuso | http://youtube.com/c/rudymancuso\\\\nShots Studios | http://youtube.com/c/shots\\\\n\\\\n#Rudy\\\\n#RudyMancuso', \"Today we find out if Link is a Nickelback amateur or a secret Nickelback devotee. GMM #1218\\\\nDon't miss an all new Ear Biscuits: https://goo.gl/xeZNQt\\\\nWatch Part 4: https://youtu.be/MhCdiiB8CQg | Watch Part 2: https://youtu.be/7qiOrNao9fg\\\\nWatch today's episode from the start: http://bit.ly/GMM1218\\\\n\\\\nPick up all of the official GMM merch only at https://mythical.store\\\\n\\\\nFollow Rhett & Link: \\\\nInstagram: https://instagram.com/rhettandlink\\\\nFacebook: https://facebook.com/rhettandlink\\\\nTwitter: https://twitter.com/rhettandlink\\\\nTumblr: https://rhettandlink.tumblr.com\\\\nSnapchat: @realrhettlink\\\\nWebsite: https://mythical.co/\\\\n\\\\nCheck Out Our Other Mythical Channels:\\\\nGood Mythical MORE: https://youtube.com/goodmythicalmore\\\\nRhett & Link: https://youtube.com/rhettandlink\\\\nThis Is Mythical: https://youtube.com/thisismythical\\\\nEar Biscuits: https://applepodcasts.com/earbiscuits\\\\n\\\\nWant to send us something? https://mythical.co/contact\\\\nHave you made a Wheel of Mythicality intro video? Submit it here: https://bit.ly/GMMWheelIntro\\\\n\\\\nIntro Animation by Digital Twigs: https://www.digitaltwigs.com\\\\nIntro & Outro Music by Jeff Zeigler & Sarah Schimeneck https://www.jeffzeigler.com\\\\nWheel of Mythicality theme: https://www.royaltyfreemusiclibrary.com/\\\\nAll Supplemental Music fromOpus 1 Music: https://opus1.sourceaudio.com/\\\\nWe use ‘The Mouse’ by Blue Microphones https://www.bluemic.com/mouse/\", \"I know it's been a while since we did this show, but we're back with what might be the best episode yet!\\\\nLeave your dares in the comment section! \\\\n\\\\nOrder my book how to write good \\\\nhttp://higatv.com/ryan-higas-how-to-write-good-pre-order-links/\\\\n\\\\nJust Launched New Official Store\\\\nhttps://www.gianthugs.com/collections/ryan\\\\n\\\\nHigaTV Channel\\\\nhttp://www.youtube.com/higatv\\\\n\\\\nTwitter\\\\nhttp://www.twitter.com/therealryanhiga\\\\n\\\\nFacebook\\\\nhttp://www.facebook.com/higatv\\\\n\\\\nWebsite\\\\nhttp://www.higatv.com\\\\n\\\\nInstagram\\\\nhttp://www.instagram.com/notryanhiga\\\\n\\\\nSend us mail or whatever you want here!\\\\nPO Box 232355\\\\nLas Vegas, NV 89105\", \"Using the iPhone for the past two weeks -- here's my thoughts!\\\\nAll my iPhone X Videos: https://www.youtube.com/watch?v=vqztGUwhRlQ&list=PLoYRB6C09WUDbCndtEDELX-Fpk_pgATvF\\\\n► SUBSCRIBE FOR MORE VIDEOS: http://www.youtube.com/subscription_center?add_user=ijustine\\\\n► Get my BOOK! http://ijustinebook.com\\\\n► Get my iOS 10 STICKERS! http://ijustinestickers.com\\\\n\\\\n▼ SOCIAL\\\\nhttp://instagram.com/ijustine\\\\nhttp://facebook.com/ijustine\\\\nhttp://twitter.com/ijustine\\\\nSnapchat: iJustine\\\\n\\\\n————————————\\\\n\\\\n▼ STUFF I USE TO MAKE VIDEOS\\\\n\\\\nSony rx100 V - http://amzn.to/2jesbxA\\\\nG7X ii - http://amzn.to/2f6n2Bs\\\\nCanon 80D - http://amzn.to/2eRKhQo\\\\nSony A7s ii - http://amzn.to/2ebLR16\\\\nSony a6500 - http://amzn.to/2okeG2a\\\\nGoPro Hero 5 - http://amzn.to/2e1KyhM\\\\nGoPro Hero 5 Session - http://amzn.to/2oksMQT\\\\nEpidemic Sound - https://goo.gl/Pe7GTL \\\\n\\\\nFavorite lenses: \\\\nCanon EF 24-70mm - http://amzn.to/2dT7mFr\\\\nCanon EF-S 10-18mm - http://amzn.to/2dT62SU\\\\nSony 16-35mm (full frame) - http://amzn.to/2ftPaTf\\\\nSony Distagon 35mm (full frame) - http://amzn.to/2oB0XQj\\\\nSony 10-18mm wide angle - http://amzn.to/2e1Myqz\\\\n\\\\nRode Small on camera microphone - http://amzn.to/2fkiVGJ\\\\nRode Larger (battery required) microphone - http://amzn.to/2ftNkl8\\\\nSony XLR adapter Microphone - http://amzn.to/2kCcIDH\\\\nSmall Sony Microphone - http://amzn.to/2oX7Eih\\\\n\\\\nFavorite SD Card - http://amzn.to/2oWRGoD\\\\n\\\\nDJI Mavic Pro - http://amzn.to/2f6nL5E\\\\nPhantom 4 Pro - http://amzn.to/2pbDrN1\\\\nPhantom 4 Pro Plus  - http://amzn.to/2oX63Jz\", 'Embattled Alabama Senate candidate Roy Moore (Mikey Day) meets with Vice President Mike Pence (Beck Bennett) and Attorney General Jeff Sessions (Kate McKinnon).\\\\n\\\\n#SNL #SNL43\\\\n\\\\nGet more SNL: http://www.nbc.com/saturday-night-live\\\\nFull Episodes: http://www.nbc.com/saturday-night-liv...\\\\n\\\\nLike SNL: https://www.facebook.com/snl\\\\nFollow SNL: https://twitter.com/nbcsnl\\\\nSNL Tumblr: http://nbcsnl.tumblr.com/\\\\nSNL Instagram: http://instagram.com/nbcsnl \\\\nSNL Pinterest: http://www.pinterest.com/nbcsnl/', \"Ice Cream Pint Combination Lock - http://amzn.to/2ACipdI\\\\nMini Ice Cream Sandwich Maker - http://amzn.to/2ACiX3g\\\\nMotorized Ice Cream Cone - http://amzn.to/2jkrYdg\\\\nBall Ice Cream Maker - http://amzn.to/2AEbtwE\\\\nScoop and Stack - http://amzn.to/2zEMhGo\\\\n\\\\nSubscribe to: \\\\n2nd channel - https://www.youtube.com/user/origami768\\\\ninstagram https://instagram.com/crazyrussianhacker/\\\\nfacebook - https://www.facebook.com/CrazyRussianHacker\\\\n\\\\nDON'T TRY THIS AT HOME!\\\\n\\\\nBusiness email: crh.inquire@gmail.com\\\\n\\\\nFAN MAIL:  \\\\nCRAZY RUSSIAN HACKER\\\\nP.O. Box 49\\\\nWaynesville, NC 28786\\\\n\\\\nDISCLAIMER: In this video description contains affiliate links, which means that if you click on one of the product links, I’ll receive a small commission.\", 'Inspired by the imagination of P.T. Barnum, The Greatest Showman is an original musical that celebrates the birth of show business & tells of a visionary who rose from nothing to create a spectacle that became a worldwide sensation.\\\\n\\\\nIn Theaters This Christmas\\\\n\\\\nDirected By Michael Gracey\\\\nCast: Hugh Jackman, Michelle Williams, Zac Efron, Zendaya, Rebecca Ferguson\\\\n\\\\nSUBSCRIBE: http://bit.ly/FOXSubscribe\\\\n\\\\n\\\\nVisit the Official Site Here: http://www.foxmovies.com/movies/the-greatest-showman\\\\nLike The Greatest Showman on FACEBOOK: http://fox.co/GreatestShowmanFB\\\\nFollow The Greatest Showman on TWITTER: http://fox.co/GreatestShowmanTW\\\\nFollow The Greatest Showman on INSTAGRAM: http://fox.co/GreatestShowmanIG\\\\n\\\\n#GreatestShowman\\\\n\\\\nAbout 20th Century FOX:\\\\nOfficial YouTube Channel for 20th Century Fox Movies. Home of Avatar, Aliens, X-Men, Die Hard, Deadpool, Ice Age, Alvin and the Chipmunks, Rio, Peanuts, Maze Runner, Planet of the Apes, Wolverine and many more.\\\\n\\\\nConnect with 20th Century FOX Online:\\\\nVisit the 20th Century FOX WEBSITE: http://bit.ly/FOXMovie\\\\nLike 20th Century FOX on FACEBOOK: http://bit.ly/FOXFacebook\\\\nFollow 20th Century FOX on TWITTER: http://bit.ly/TwitterFOX\\\\n\\\\nThe Greatest Showman | Official Trailer 2 [HD] | 20th Century FOX\\\\nhttp://www.youtube.com/user/FoxMovies', \"For now, at least, we have better things to worry about.\\\\n\\\\n\\\\nSubscribe to our channel! http://goo.gl/0bsAjO\\\\n\\\\nSources: \\\\nhttps://economics.mit.edu/files/11563\\\\nhttps://www.aeaweb.org/full_issue.php?doi=10.1257/jep.29.3#page=33\\\\nhttp://voxeu.org/article/how-computer-automation-affects-occupations\\\\nhttps://www.opensocietyfoundations.org/sites/default/files/future-work-lit-review-20150428.pdf\\\\nhttps://obamawhitehouse.archives.gov/sites/whitehouse.gov/files/documents/Artificial-Intelligence-Automation-Economy.PDF\\\\nhttps://www.vox.com/2015/7/27/9038829/automation-myth\\\\nhttps://www.amazon.com/dp/B00PWX7RPG/ref=dp-kindle-redirect\\\\nhttps://www.amazon.com/Second-Machine-Age-Prosperity-Technologies-ebook/dp/B00D97HPQI/ref=sr_1_1\\\\nhttps://www.amazon.com/New-Division-Labor-Computers-Creating/dp/0691124027/ref=sr_1_1?\\\\nhttps://www.oxfordmartin.ox.ac.uk/downloads/academic/The_Future_of_Employment.pdf\\\\n\\\\nClips:\\\\nhttps://www.youtube.com/watch?v=VTlV0Y5yAww\\\\nhttps://www.youtube.com/watch?v=_luhn7TLfWU\\\\nhttps://www.youtube.com/watch?v=rVlhMGQgDkY\\\\nhttps://www.youtube.com/watch?v=rCoFKUJ_8Yo\\\\nhttps://www.youtube.com/watch?v=yeyn9zzrC84\\\\nhttps://www.youtube.com/watch?v=7Pq-S557XQU\\\\nhttps://www.youtube.com/watch?v=WSKi8HfcxEk\\\\n\\\\n///\\\\n\\\\nRecent advancements in artificial intelligence and robotics have commentators worrying about the coming obsolescence of the human worker. Some in Silicon Valley are even calling for a basic minimum income provided by the government for everyone, under the assumption that work will become scarce. But many economists are skeptical of these claims, because the notion that the the economy offers a fixed amount of work has been debunked time and time again over the centuries and current economic data show no signs of a productivity boom. Fortunately, we don't need to divine the future of the labor market in order to prepare for it. \\\\n\\\\n///\\\\n\\\\nVox.com is a news website that helps you cut through the noise and understand what's really driving the events in the headlines. Check out http://www.vox.com to get up to speed on everything from Kurdistan to the Kim Kardashian app. \\\\n\\\\nCheck out our full video catalog: http://goo.gl/IZONyE\\\\nFollow Vox on Twitter: http://goo.gl/XFrZ5H\\\\nOr on Facebook: http://goo.gl/U2g06o\"\n",
            "\n"
          ]
        }
      ]
    },
    {
      "cell_type": "code",
      "source": [
        "df.is_duplicated() ## devuelve los duplicados del df"
      ],
      "metadata": {
        "colab": {
          "base_uri": "https://localhost:8080/",
          "height": 425
        },
        "id": "GjUiDA02xzsY",
        "outputId": "7fad02ae-faad-4da7-a0f0-6ee6ed6ec9e4"
      },
      "id": "GjUiDA02xzsY",
      "execution_count": 23,
      "outputs": [
        {
          "output_type": "execute_result",
          "data": {
            "text/plain": [
              "shape: (48_137,)\n",
              "Series: '' [bool]\n",
              "[\n",
              "\tfalse\n",
              "\tfalse\n",
              "\tfalse\n",
              "\tfalse\n",
              "\tfalse\n",
              "\t…\n",
              "\tfalse\n",
              "\tfalse\n",
              "\tfalse\n",
              "\tfalse\n",
              "\tfalse\n",
              "]"
            ],
            "text/html": [
              "<div><style>\n",
              ".dataframe > thead > tr,\n",
              ".dataframe > tbody > tr {\n",
              "  text-align: right;\n",
              "  white-space: pre-wrap;\n",
              "}\n",
              "</style>\n",
              "<small>shape: (48_137,)</small><table border=\"1\" class=\"dataframe\"><thead><tr><th></th></tr><tr><td>bool</td></tr></thead><tbody><tr><td>false</td></tr><tr><td>false</td></tr><tr><td>false</td></tr><tr><td>false</td></tr><tr><td>false</td></tr><tr><td>&hellip;</td></tr><tr><td>false</td></tr><tr><td>false</td></tr><tr><td>false</td></tr><tr><td>false</td></tr><tr><td>false</td></tr></tbody></table></div>"
            ]
          },
          "metadata": {},
          "execution_count": 23
        }
      ]
    },
    {
      "cell_type": "code",
      "source": [
        "df.filter(df.is_duplicated())  ##filtra los duplicados"
      ],
      "metadata": {
        "colab": {
          "base_uri": "https://localhost:8080/",
          "height": 549
        },
        "id": "YygyID8xx3VA",
        "outputId": "33ef753c-a62d-486c-fbb1-afabe56e9b1c"
      },
      "id": "YygyID8xx3VA",
      "execution_count": 24,
      "outputs": [
        {
          "output_type": "execute_result",
          "data": {
            "text/plain": [
              "shape: (7_213, 16)\n",
              "┌───────────┬───────────┬───────────┬───────────┬───┬───────────┬───────────┬───────────┬──────────┐\n",
              "│ video_id  ┆ trending_ ┆ title     ┆ channel_t ┆ … ┆ comments_ ┆ ratings_d ┆ video_err ┆ descript │\n",
              "│ ---       ┆ date      ┆ ---       ┆ itle      ┆   ┆ disabled  ┆ isabled   ┆ or_or_rem ┆ ion      │\n",
              "│ str       ┆ ---       ┆ str       ┆ ---       ┆   ┆ ---       ┆ ---       ┆ oved      ┆ ---      │\n",
              "│           ┆ str       ┆           ┆ str       ┆   ┆ str       ┆ str       ┆ ---       ┆ str      │\n",
              "│           ┆           ┆           ┆           ┆   ┆           ┆           ┆ str       ┆          │\n",
              "╞═══════════╪═══════════╪═══════════╪═══════════╪═══╪═══════════╪═══════════╪═══════════╪══════════╡\n",
              "│ \\nSubscri ┆ null      ┆ null      ┆ null      ┆ … ┆ null      ┆ null      ┆ null      ┆ null     │\n",
              "│ be to WWE ┆           ┆           ┆           ┆   ┆           ┆           ┆           ┆          │\n",
              "│ on        ┆           ┆           ┆           ┆   ┆           ┆           ┆           ┆          │\n",
              "│ YouTube:… ┆           ┆           ┆           ┆   ┆           ┆           ┆           ┆          │\n",
              "│ \\nVisit   ┆ null      ┆ null      ┆ null      ┆ … ┆ null      ┆ null      ┆ null      ┆ null     │\n",
              "│ WWE.com:  ┆           ┆           ┆           ┆   ┆           ┆           ┆           ┆          │\n",
              "│ http://go ┆           ┆           ┆           ┆   ┆           ┆           ┆           ┆          │\n",
              "│ o.gl…     ┆           ┆           ┆           ┆   ┆           ┆           ┆           ┆          │\n",
              "│ \\nMust-Se ┆ null      ┆ null      ┆ null      ┆ … ┆ null      ┆ null      ┆ null      ┆ null     │\n",
              "│ e WWE     ┆           ┆           ┆           ┆   ┆           ┆           ┆           ┆          │\n",
              "│ videos on ┆           ┆           ┆           ┆   ┆           ┆           ┆           ┆          │\n",
              "│ YouTu…    ┆           ┆           ┆           ┆   ┆           ┆           ┆           ┆          │\n",
              "│ \\n        ┆ null      ┆ null      ┆ null      ┆ … ┆ null      ┆ null      ┆ null      ┆ null     │\n",
              "│ \\nABOUT   ┆ null      ┆ null      ┆ null      ┆ … ┆ null      ┆ null      ┆ null      ┆ null     │\n",
              "│ BON       ┆           ┆           ┆           ┆   ┆           ┆           ┆           ┆          │\n",
              "│ APPÉTIT   ┆           ┆           ┆           ┆   ┆           ┆           ┆           ┆          │\n",
              "│ …         ┆ …         ┆ …         ┆ …         ┆ … ┆ …         ┆ …         ┆ …         ┆ …        │\n",
              "│ For more  ┆ GQ has    ┆ providing ┆  culture  ┆ … ┆ sports    ┆ null      ┆ null      ┆ null     │\n",
              "│ than 50   ┆ been the  ┆ definitiv ┆           ┆   ┆ and more. ┆           ┆           ┆          │\n",
              "│ years     ┆ premier   ┆ e         ┆           ┆   ┆           ┆           ┆           ┆          │\n",
              "│           ┆ men’s…    ┆ coverage… ┆           ┆   ┆           ┆           ┆           ┆          │\n",
              "│ https://w ┆ null      ┆ null      ┆ null      ┆ … ┆ null      ┆ null      ┆ null      ┆ null     │\n",
              "│ ww.youtub ┆           ┆           ┆           ┆   ┆           ┆           ┆           ┆          │\n",
              "│ e.com/use ┆           ┆           ┆           ┆   ┆           ┆           ┆           ┆          │\n",
              "│ r/G…      ┆           ┆           ┆           ┆   ┆           ┆           ┆           ┆          │\n",
              "│ Shawn     ┆ null      ┆ null      ┆ null      ┆ … ┆ null      ┆ null      ┆ null      ┆ null     │\n",
              "│ Mendes'   ┆           ┆           ┆           ┆   ┆           ┆           ┆           ┆          │\n",
              "│ self      ┆           ┆           ┆           ┆   ┆           ┆           ┆           ┆          │\n",
              "│ titled    ┆           ┆           ┆           ┆   ┆           ┆           ┆           ┆          │\n",
              "│ albu…     ┆           ┆           ┆           ┆   ┆           ┆           ┆           ┆          │\n",
              "│ ABOUT     ┆ null      ┆ null      ┆ null      ┆ … ┆ null      ┆ null      ┆ null      ┆ null     │\n",
              "│ WIRED     ┆           ┆           ┆           ┆   ┆           ┆           ┆           ┆          │\n",
              "│ WIRED is  ┆ WIRED     ┆ innovatio ┆ and cultu ┆ … ┆ null      ┆ null      ┆ null      ┆ null     │\n",
              "│ where     ┆ explores  ┆ n         ┆ re.Shawn  ┆   ┆           ┆           ┆           ┆          │\n",
              "│ tomorrow  ┆ the       ┆           ┆ Mendes    ┆   ┆           ┆           ┆           ┆          │\n",
              "│ is rea…   ┆ future of ┆           ┆ Answ…     ┆   ┆           ┆           ┆           ┆          │\n",
              "│           ┆ …         ┆           ┆           ┆   ┆           ┆           ┆           ┆          │\n",
              "└───────────┴───────────┴───────────┴───────────┴───┴───────────┴───────────┴───────────┴──────────┘"
            ],
            "text/html": [
              "<div><style>\n",
              ".dataframe > thead > tr,\n",
              ".dataframe > tbody > tr {\n",
              "  text-align: right;\n",
              "  white-space: pre-wrap;\n",
              "}\n",
              "</style>\n",
              "<small>shape: (7_213, 16)</small><table border=\"1\" class=\"dataframe\"><thead><tr><th>video_id</th><th>trending_date</th><th>title</th><th>channel_title</th><th>category_id</th><th>publish_time</th><th>tags</th><th>views</th><th>likes</th><th>dislikes</th><th>comment_count</th><th>thumbnail_link</th><th>comments_disabled</th><th>ratings_disabled</th><th>video_error_or_removed</th><th>description</th></tr><tr><td>str</td><td>str</td><td>str</td><td>str</td><td>str</td><td>datetime[ns]</td><td>str</td><td>i32</td><td>i32</td><td>i32</td><td>i32</td><td>str</td><td>str</td><td>str</td><td>str</td><td>str</td></tr></thead><tbody><tr><td>&quot;\\nSubscribe to WWE on YouTube:…</td><td>null</td><td>null</td><td>null</td><td>null</td><td>null</td><td>null</td><td>null</td><td>null</td><td>null</td><td>null</td><td>null</td><td>null</td><td>null</td><td>null</td><td>null</td></tr><tr><td>&quot;\\nVisit WWE.com: http://goo.gl…</td><td>null</td><td>null</td><td>null</td><td>null</td><td>null</td><td>null</td><td>null</td><td>null</td><td>null</td><td>null</td><td>null</td><td>null</td><td>null</td><td>null</td><td>null</td></tr><tr><td>&quot;\\nMust-See WWE videos on YouTu…</td><td>null</td><td>null</td><td>null</td><td>null</td><td>null</td><td>null</td><td>null</td><td>null</td><td>null</td><td>null</td><td>null</td><td>null</td><td>null</td><td>null</td><td>null</td></tr><tr><td>&quot;\\n&quot;</td><td>null</td><td>null</td><td>null</td><td>null</td><td>null</td><td>null</td><td>null</td><td>null</td><td>null</td><td>null</td><td>null</td><td>null</td><td>null</td><td>null</td><td>null</td></tr><tr><td>&quot;\\nABOUT BON APPÉTIT&quot;</td><td>null</td><td>null</td><td>null</td><td>null</td><td>null</td><td>null</td><td>null</td><td>null</td><td>null</td><td>null</td><td>null</td><td>null</td><td>null</td><td>null</td><td>null</td></tr><tr><td>&hellip;</td><td>&hellip;</td><td>&hellip;</td><td>&hellip;</td><td>&hellip;</td><td>&hellip;</td><td>&hellip;</td><td>&hellip;</td><td>&hellip;</td><td>&hellip;</td><td>&hellip;</td><td>&hellip;</td><td>&hellip;</td><td>&hellip;</td><td>&hellip;</td><td>&hellip;</td></tr><tr><td>&quot;For more than 50 years&quot;</td><td>&quot; GQ has been the premier men’s…</td><td>&quot; providing definitive coverage…</td><td>&quot; culture&quot;</td><td>&quot; politics and more. In that tr…</td><td>null</td><td>&quot; from entertainment and sports…</td><td>null</td><td>null</td><td>null</td><td>null</td><td>&quot; music&quot;</td><td>&quot; sports and more.&quot;</td><td>null</td><td>null</td><td>null</td></tr><tr><td>&quot;https://www.youtube.com/user/G…</td><td>null</td><td>null</td><td>null</td><td>null</td><td>null</td><td>null</td><td>null</td><td>null</td><td>null</td><td>null</td><td>null</td><td>null</td><td>null</td><td>null</td><td>null</td></tr><tr><td>&quot;Shawn Mendes&#x27; self titled albu…</td><td>null</td><td>null</td><td>null</td><td>null</td><td>null</td><td>null</td><td>null</td><td>null</td><td>null</td><td>null</td><td>null</td><td>null</td><td>null</td><td>null</td><td>null</td></tr><tr><td>&quot;ABOUT WIRED&quot;</td><td>null</td><td>null</td><td>null</td><td>null</td><td>null</td><td>null</td><td>null</td><td>null</td><td>null</td><td>null</td><td>null</td><td>null</td><td>null</td><td>null</td><td>null</td></tr><tr><td>&quot;WIRED is where tomorrow is rea…</td><td>&quot; WIRED explores the future of …</td><td>&quot; innovation&quot;</td><td>&quot; and culture.Shawn Mendes Answ…</td><td>null</td><td>null</td><td>null</td><td>null</td><td>null</td><td>null</td><td>null</td><td>null</td><td>null</td><td>null</td><td>null</td><td>null</td></tr></tbody></table></div>"
            ]
          },
          "metadata": {},
          "execution_count": 24
        }
      ]
    },
    {
      "cell_type": "code",
      "source": [
        "df.is_empty() ### devuelve si el df esta vacio"
      ],
      "metadata": {
        "colab": {
          "base_uri": "https://localhost:8080/"
        },
        "id": "oAX4HfXix7Pw",
        "outputId": "1077dcfe-ce27-4350-cef2-0488cd3ed518"
      },
      "id": "oAX4HfXix7Pw",
      "execution_count": 25,
      "outputs": [
        {
          "output_type": "execute_result",
          "data": {
            "text/plain": [
              "False"
            ]
          },
          "metadata": {},
          "execution_count": 25
        }
      ]
    },
    {
      "cell_type": "code",
      "source": [
        "df.is_unique() ### devuelve los valores unicos"
      ],
      "metadata": {
        "colab": {
          "base_uri": "https://localhost:8080/",
          "height": 425
        },
        "id": "-xnGi2MRx_0A",
        "outputId": "67b63dfa-a3ab-4fe4-ae58-5d5b5a196843"
      },
      "id": "-xnGi2MRx_0A",
      "execution_count": 26,
      "outputs": [
        {
          "output_type": "execute_result",
          "data": {
            "text/plain": [
              "shape: (48_137,)\n",
              "Series: '' [bool]\n",
              "[\n",
              "\ttrue\n",
              "\ttrue\n",
              "\ttrue\n",
              "\ttrue\n",
              "\ttrue\n",
              "\t…\n",
              "\ttrue\n",
              "\ttrue\n",
              "\ttrue\n",
              "\ttrue\n",
              "\ttrue\n",
              "]"
            ],
            "text/html": [
              "<div><style>\n",
              ".dataframe > thead > tr,\n",
              ".dataframe > tbody > tr {\n",
              "  text-align: right;\n",
              "  white-space: pre-wrap;\n",
              "}\n",
              "</style>\n",
              "<small>shape: (48_137,)</small><table border=\"1\" class=\"dataframe\"><thead><tr><th></th></tr><tr><td>bool</td></tr></thead><tbody><tr><td>true</td></tr><tr><td>true</td></tr><tr><td>true</td></tr><tr><td>true</td></tr><tr><td>true</td></tr><tr><td>&hellip;</td></tr><tr><td>true</td></tr><tr><td>true</td></tr><tr><td>true</td></tr><tr><td>true</td></tr><tr><td>true</td></tr></tbody></table></div>"
            ]
          },
          "metadata": {},
          "execution_count": 26
        }
      ]
    },
    {
      "cell_type": "code",
      "source": [
        "df.filter(df.is_unique()) ##filtro de los unicos"
      ],
      "metadata": {
        "colab": {
          "base_uri": "https://localhost:8080/",
          "height": 949
        },
        "id": "f1kOlWiDyC5J",
        "outputId": "cc913701-dfb2-434e-91d6-0ce5c62116ee"
      },
      "id": "f1kOlWiDyC5J",
      "execution_count": 28,
      "outputs": [
        {
          "output_type": "execute_result",
          "data": {
            "text/plain": [
              "shape: (40_924, 16)\n",
              "┌───────────┬───────────┬───────────┬───────────┬───┬───────────┬───────────┬───────────┬──────────┐\n",
              "│ video_id  ┆ trending_ ┆ title     ┆ channel_t ┆ … ┆ comments_ ┆ ratings_d ┆ video_err ┆ descript │\n",
              "│ ---       ┆ date      ┆ ---       ┆ itle      ┆   ┆ disabled  ┆ isabled   ┆ or_or_rem ┆ ion      │\n",
              "│ str       ┆ ---       ┆ str       ┆ ---       ┆   ┆ ---       ┆ ---       ┆ oved      ┆ ---      │\n",
              "│           ┆ str       ┆           ┆ str       ┆   ┆ str       ┆ str       ┆ ---       ┆ str      │\n",
              "│           ┆           ┆           ┆           ┆   ┆           ┆           ┆ str       ┆          │\n",
              "╞═══════════╪═══════════╪═══════════╪═══════════╪═══╪═══════════╪═══════════╪═══════════╪══════════╡\n",
              "│ 2kyS6SvSY ┆ 17.14.11  ┆ WE WANT   ┆ CaseyNeis ┆ … ┆ False     ┆ False     ┆ False     ┆ SHANTELL │\n",
              "│ SE        ┆           ┆ TO TALK   ┆ tat       ┆   ┆           ┆           ┆           ┆ 'S       │\n",
              "│           ┆           ┆ ABOUT OUR ┆           ┆   ┆           ┆           ┆           ┆ CHANNEL  │\n",
              "│           ┆           ┆ MARR…     ┆           ┆   ┆           ┆           ┆           ┆ - https: │\n",
              "│           ┆           ┆           ┆           ┆   ┆           ┆           ┆           ┆ //w…     │\n",
              "│ 1ZAPwfrtA ┆ 17.14.11  ┆ The Trump ┆ LastWeekT ┆ … ┆ False     ┆ False     ┆ False     ┆ One year │\n",
              "│ FY        ┆           ┆ Presidenc ┆ onight    ┆   ┆           ┆           ┆           ┆ after    │\n",
              "│           ┆           ┆ y: Last   ┆           ┆   ┆           ┆           ┆           ┆ the pres │\n",
              "│           ┆           ┆ Wee…      ┆           ┆   ┆           ┆           ┆           ┆ identia… │\n",
              "│ 5qpjK5DgC ┆ 17.14.11  ┆ Racist    ┆ Rudy      ┆ … ┆ False     ┆ False     ┆ False     ┆ WATCH MY │\n",
              "│ t4        ┆           ┆ Superman  ┆ Mancuso   ┆   ┆           ┆           ┆           ┆ PREVIOUS │\n",
              "│           ┆           ┆ | Rudy    ┆           ┆   ┆           ┆           ┆           ┆ VIDEO ▶  │\n",
              "│           ┆           ┆ Mancuso…  ┆           ┆   ┆           ┆           ┆           ┆ \\n\\n…    │\n",
              "│ puqaWrEC7 ┆ 17.14.11  ┆ Nickelbac ┆ Good      ┆ … ┆ False     ┆ False     ┆ False     ┆ Today we │\n",
              "│ tY        ┆           ┆ k Lyrics: ┆ Mythical  ┆   ┆           ┆           ┆           ┆ find out │\n",
              "│           ┆           ┆ Real or   ┆ Morning   ┆   ┆           ┆           ┆           ┆ if Link  │\n",
              "│           ┆           ┆ Fak…      ┆           ┆   ┆           ┆           ┆           ┆ is a…    │\n",
              "│ d380meD0W ┆ 17.14.11  ┆ I Dare    ┆ nigahiga  ┆ … ┆ False     ┆ False     ┆ False     ┆ I know   │\n",
              "│ 0M        ┆           ┆ You:      ┆           ┆   ┆           ┆           ┆           ┆ it's     │\n",
              "│           ┆           ┆ GOING     ┆           ┆   ┆           ┆           ┆           ┆ been a   │\n",
              "│           ┆           ┆ BALD!?    ┆           ┆   ┆           ┆           ┆           ┆ while    │\n",
              "│           ┆           ┆           ┆           ┆   ┆           ┆           ┆           ┆ since…   │\n",
              "│ …         ┆ …         ┆ …         ┆ …         ┆ … ┆ …         ┆ …         ┆ …         ┆ …        │\n",
              "│ BZt0qjTWN ┆ 18.14.06  ┆ The Cat   ┆ AaronsAni ┆ … ┆ False     ┆ False     ┆ False     ┆ The Cat  │\n",
              "│ hw        ┆           ┆ Who       ┆ mals      ┆   ┆           ┆           ┆           ┆ Who      │\n",
              "│           ┆           ┆ Caught    ┆           ┆   ┆           ┆           ┆           ┆ Caught   │\n",
              "│           ┆           ┆ the Laser ┆           ┆   ┆           ┆           ┆           ┆ the      │\n",
              "│           ┆           ┆           ┆           ┆   ┆           ┆           ┆           ┆ Laser -… │\n",
              "│ 1h7KV2sjU ┆ 18.14.06  ┆ True      ┆ zefrank1  ┆ … ┆ False     ┆ False     ┆ False     ┆ null     │\n",
              "│ WY        ┆           ┆ Facts :   ┆           ┆   ┆           ┆           ┆           ┆          │\n",
              "│           ┆           ┆ Ant       ┆           ┆   ┆           ┆           ┆           ┆          │\n",
              "│           ┆           ┆ Mutualism ┆           ┆   ┆           ┆           ┆           ┆          │\n",
              "│ D6Oy4Lfoq ┆ 18.14.06  ┆ I GAVE    ┆ Brad      ┆ … ┆ False     ┆ False     ┆ False     ┆ I had so │\n",
              "│ sU        ┆           ┆ SAFIYA    ┆ Mondo     ┆   ┆           ┆           ┆           ┆ much fun │\n",
              "│           ┆           ┆ NYGAARD A ┆           ┆   ┆           ┆           ┆           ┆ transfor │\n",
              "│           ┆           ┆ PERFEC…   ┆           ┆   ┆           ┆           ┆           ┆ ming…    │\n",
              "│ oV0zkMe1K ┆ 18.14.06  ┆ How Black ┆ How It    ┆ … ┆ False     ┆ False     ┆ False     ┆ How      │\n",
              "│ 8s        ┆           ┆ Panther   ┆ Should    ┆   ┆           ┆           ┆           ┆ Black    │\n",
              "│           ┆           ┆ Should    ┆ Have      ┆   ┆           ┆           ┆           ┆ Panther  │\n",
              "│           ┆           ┆ Have …    ┆ Ended     ┆   ┆           ┆           ┆           ┆ Should   │\n",
              "│           ┆           ┆           ┆           ┆   ┆           ┆           ┆           ┆ Have …   │\n",
              "│ ooyjaVdt- ┆ 18.14.06  ┆ Official  ┆ Call of   ┆ … ┆ False     ┆ False     ┆ False     ┆ Call of  │\n",
              "│ jA        ┆           ┆ Call of   ┆ Duty      ┆   ┆           ┆           ┆           ┆ Duty:    │\n",
              "│           ┆           ┆ Duty®:    ┆           ┆   ┆           ┆           ┆           ┆ Black    │\n",
              "│           ┆           ┆ Black …   ┆           ┆   ┆           ┆           ┆           ┆ Ops 4    │\n",
              "│           ┆           ┆           ┆           ┆   ┆           ┆           ┆           ┆ Mult…    │\n",
              "└───────────┴───────────┴───────────┴───────────┴───┴───────────┴───────────┴───────────┴──────────┘"
            ],
            "text/html": [
              "<div><style>\n",
              ".dataframe > thead > tr,\n",
              ".dataframe > tbody > tr {\n",
              "  text-align: right;\n",
              "  white-space: pre-wrap;\n",
              "}\n",
              "</style>\n",
              "<small>shape: (40_924, 16)</small><table border=\"1\" class=\"dataframe\"><thead><tr><th>video_id</th><th>trending_date</th><th>title</th><th>channel_title</th><th>category_id</th><th>publish_time</th><th>tags</th><th>views</th><th>likes</th><th>dislikes</th><th>comment_count</th><th>thumbnail_link</th><th>comments_disabled</th><th>ratings_disabled</th><th>video_error_or_removed</th><th>description</th></tr><tr><td>str</td><td>str</td><td>str</td><td>str</td><td>str</td><td>datetime[ns]</td><td>str</td><td>i32</td><td>i32</td><td>i32</td><td>i32</td><td>str</td><td>str</td><td>str</td><td>str</td><td>str</td></tr></thead><tbody><tr><td>&quot;2kyS6SvSYSE&quot;</td><td>&quot;17.14.11&quot;</td><td>&quot;WE WANT TO TALK ABOUT OUR MARR…</td><td>&quot;CaseyNeistat&quot;</td><td>&quot;22&quot;</td><td>2017-11-13 17:13:01</td><td>&quot;SHANtell martin&quot;</td><td>748374</td><td>57527</td><td>2966</td><td>15954</td><td>&quot;https://i.ytimg.com/vi/2kyS6Sv…</td><td>&quot;False&quot;</td><td>&quot;False&quot;</td><td>&quot;False&quot;</td><td>&quot;SHANTELL&#x27;S CHANNEL - https://w…</td></tr><tr><td>&quot;1ZAPwfrtAFY&quot;</td><td>&quot;17.14.11&quot;</td><td>&quot;The Trump Presidency: Last Wee…</td><td>&quot;LastWeekTonight&quot;</td><td>&quot;24&quot;</td><td>2017-11-13 07:30:00</td><td>&quot;&quot;last week tonight trump presi…</td><td>2418783</td><td>97185</td><td>6146</td><td>12703</td><td>&quot;https://i.ytimg.com/vi/1ZAPwfr…</td><td>&quot;False&quot;</td><td>&quot;False&quot;</td><td>&quot;False&quot;</td><td>&quot;One year after the presidentia…</td></tr><tr><td>&quot;5qpjK5DgCt4&quot;</td><td>&quot;17.14.11&quot;</td><td>&quot;Racist Superman | Rudy Mancuso…</td><td>&quot;Rudy Mancuso&quot;</td><td>&quot;23&quot;</td><td>2017-11-12 19:05:24</td><td>&quot;&quot;racist superman&quot;|&quot;rudy&quot;|&quot;manc…</td><td>3191434</td><td>146033</td><td>5339</td><td>8181</td><td>&quot;https://i.ytimg.com/vi/5qpjK5D…</td><td>&quot;False&quot;</td><td>&quot;False&quot;</td><td>&quot;False&quot;</td><td>&quot;WATCH MY PREVIOUS VIDEO ▶ \\n\\n…</td></tr><tr><td>&quot;puqaWrEC7tY&quot;</td><td>&quot;17.14.11&quot;</td><td>&quot;Nickelback Lyrics: Real or Fak…</td><td>&quot;Good Mythical Morning&quot;</td><td>&quot;24&quot;</td><td>2017-11-13 11:00:04</td><td>&quot;&quot;rhett and link&quot;|&quot;gmm&quot;|&quot;good m…</td><td>343168</td><td>10172</td><td>666</td><td>2146</td><td>&quot;https://i.ytimg.com/vi/puqaWrE…</td><td>&quot;False&quot;</td><td>&quot;False&quot;</td><td>&quot;False&quot;</td><td>&quot;Today we find out if Link is a…</td></tr><tr><td>&quot;d380meD0W0M&quot;</td><td>&quot;17.14.11&quot;</td><td>&quot;I Dare You: GOING BALD!?&quot;</td><td>&quot;nigahiga&quot;</td><td>&quot;24&quot;</td><td>2017-11-12 18:01:41</td><td>&quot;&quot;ryan&quot;|&quot;higa&quot;|&quot;higatv&quot;|&quot;nigahi…</td><td>2095731</td><td>132235</td><td>1989</td><td>17518</td><td>&quot;https://i.ytimg.com/vi/d380meD…</td><td>&quot;False&quot;</td><td>&quot;False&quot;</td><td>&quot;False&quot;</td><td>&quot;I know it&#x27;s been a while since…</td></tr><tr><td>&hellip;</td><td>&hellip;</td><td>&hellip;</td><td>&hellip;</td><td>&hellip;</td><td>&hellip;</td><td>&hellip;</td><td>&hellip;</td><td>&hellip;</td><td>&hellip;</td><td>&hellip;</td><td>&hellip;</td><td>&hellip;</td><td>&hellip;</td><td>&hellip;</td><td>&hellip;</td></tr><tr><td>&quot;BZt0qjTWNhw&quot;</td><td>&quot;18.14.06&quot;</td><td>&quot;The Cat Who Caught the Laser&quot;</td><td>&quot;AaronsAnimals&quot;</td><td>&quot;15&quot;</td><td>2018-05-18 13:00:04</td><td>&quot;&quot;aarons animals&quot;|&quot;aarons&quot;|&quot;ani…</td><td>1685609</td><td>38160</td><td>1385</td><td>2657</td><td>&quot;https://i.ytimg.com/vi/BZt0qjT…</td><td>&quot;False&quot;</td><td>&quot;False&quot;</td><td>&quot;False&quot;</td><td>&quot;The Cat Who Caught the Laser -…</td></tr><tr><td>&quot;1h7KV2sjUWY&quot;</td><td>&quot;18.14.06&quot;</td><td>&quot;True Facts : Ant Mutualism&quot;</td><td>&quot;zefrank1&quot;</td><td>&quot;22&quot;</td><td>2018-05-18 01:00:06</td><td>&quot;[none]&quot;</td><td>1064798</td><td>60008</td><td>382</td><td>3936</td><td>&quot;https://i.ytimg.com/vi/1h7KV2s…</td><td>&quot;False&quot;</td><td>&quot;False&quot;</td><td>&quot;False&quot;</td><td>null</td></tr><tr><td>&quot;D6Oy4LfoqsU&quot;</td><td>&quot;18.14.06&quot;</td><td>&quot;I GAVE SAFIYA NYGAARD A PERFEC…</td><td>&quot;Brad Mondo&quot;</td><td>&quot;24&quot;</td><td>2018-05-18 17:34:22</td><td>&quot;&quot;I gave safiya nygaard a perfe…</td><td>1066451</td><td>48068</td><td>1032</td><td>3992</td><td>&quot;https://i.ytimg.com/vi/D6Oy4Lf…</td><td>&quot;False&quot;</td><td>&quot;False&quot;</td><td>&quot;False&quot;</td><td>&quot;I had so much fun transforming…</td></tr><tr><td>&quot;oV0zkMe1K8s&quot;</td><td>&quot;18.14.06&quot;</td><td>&quot;How Black Panther Should Have …</td><td>&quot;How It Should Have Ended&quot;</td><td>&quot;1&quot;</td><td>2018-05-17 17:00:04</td><td>&quot;&quot;Black Panther&quot;|&quot;HISHE&quot;|&quot;Marve…</td><td>5660813</td><td>192957</td><td>2846</td><td>13088</td><td>&quot;https://i.ytimg.com/vi/oV0zkMe…</td><td>&quot;False&quot;</td><td>&quot;False&quot;</td><td>&quot;False&quot;</td><td>&quot;How Black Panther Should Have …</td></tr><tr><td>&quot;ooyjaVdt-jA&quot;</td><td>&quot;18.14.06&quot;</td><td>&quot;Official Call of Duty®: Black …</td><td>&quot;Call of Duty&quot;</td><td>&quot;20&quot;</td><td>2018-05-17 17:09:38</td><td>&quot;&quot;call of duty&quot;|&quot;cod&quot;|&quot;activisi…</td><td>10306119</td><td>357079</td><td>212976</td><td>144795</td><td>&quot;https://i.ytimg.com/vi/ooyjaVd…</td><td>&quot;False&quot;</td><td>&quot;False&quot;</td><td>&quot;False&quot;</td><td>&quot;Call of Duty: Black Ops 4 Mult…</td></tr></tbody></table></div>"
            ]
          },
          "metadata": {},
          "execution_count": 28
        }
      ]
    },
    {
      "cell_type": "code",
      "source": [
        "df.n_chunks() ## Obtenga la cantidad de fragmentos utilizados por los ChunkedArrays de este DataFrame."
      ],
      "metadata": {
        "colab": {
          "base_uri": "https://localhost:8080/"
        },
        "id": "sOYUYlHpyHeK",
        "outputId": "a2419f5e-9e01-47a3-dd7d-89b0b628f7e4"
      },
      "id": "sOYUYlHpyHeK",
      "execution_count": 29,
      "outputs": [
        {
          "output_type": "execute_result",
          "data": {
            "text/plain": [
              "1"
            ]
          },
          "metadata": {},
          "execution_count": 29
        }
      ]
    },
    {
      "cell_type": "code",
      "source": [
        "df.n_unique() ## Obtenga la cantidad de fragmentos utilizados por los ChunkedArrays de este DataFrame."
      ],
      "metadata": {
        "colab": {
          "base_uri": "https://localhost:8080/"
        },
        "id": "XFO82nb6yLMy",
        "outputId": "4529d63e-04f7-4bcd-f927-84a235bd951c"
      },
      "id": "XFO82nb6yLMy",
      "execution_count": null,
      "outputs": [
        {
          "output_type": "execute_result",
          "data": {
            "text/plain": [
              "41428"
            ]
          },
          "metadata": {},
          "execution_count": 21
        }
      ]
    },
    {
      "cell_type": "code",
      "source": [
        "df.null_count() ##Cree un nuevo DataFrame que muestre los recuentos nulos por columna."
      ],
      "metadata": {
        "colab": {
          "base_uri": "https://localhost:8080/",
          "height": 149
        },
        "id": "JR3q6cbByOXS",
        "outputId": "9bced5fc-29f8-4c15-8e77-bfc02baa1293"
      },
      "id": "JR3q6cbByOXS",
      "execution_count": 30,
      "outputs": [
        {
          "output_type": "execute_result",
          "data": {
            "text/plain": [
              "shape: (1, 16)\n",
              "┌──────────┬────────────┬───────┬────────────┬───┬────────────┬────────────┬───────────┬───────────┐\n",
              "│ video_id ┆ trending_d ┆ title ┆ channel_ti ┆ … ┆ comments_d ┆ ratings_di ┆ video_err ┆ descripti │\n",
              "│ ---      ┆ ate        ┆ ---   ┆ tle        ┆   ┆ isabled    ┆ sabled     ┆ or_or_rem ┆ on        │\n",
              "│ u32      ┆ ---        ┆ u32   ┆ ---        ┆   ┆ ---        ┆ ---        ┆ oved      ┆ ---       │\n",
              "│          ┆ u32        ┆       ┆ u32        ┆   ┆ u32        ┆ u32        ┆ ---       ┆ u32       │\n",
              "│          ┆            ┆       ┆            ┆   ┆            ┆            ┆ u32       ┆           │\n",
              "╞══════════╪════════════╪═══════╪════════════╪═══╪════════════╪════════════╪═══════════╪═══════════╡\n",
              "│ 0        ┆ 5752       ┆ 5902  ┆ 6025       ┆ … ┆ 7115       ┆ 7177       ┆ 7177      ┆ 7747      │\n",
              "└──────────┴────────────┴───────┴────────────┴───┴────────────┴────────────┴───────────┴───────────┘"
            ],
            "text/html": [
              "<div><style>\n",
              ".dataframe > thead > tr,\n",
              ".dataframe > tbody > tr {\n",
              "  text-align: right;\n",
              "  white-space: pre-wrap;\n",
              "}\n",
              "</style>\n",
              "<small>shape: (1, 16)</small><table border=\"1\" class=\"dataframe\"><thead><tr><th>video_id</th><th>trending_date</th><th>title</th><th>channel_title</th><th>category_id</th><th>publish_time</th><th>tags</th><th>views</th><th>likes</th><th>dislikes</th><th>comment_count</th><th>thumbnail_link</th><th>comments_disabled</th><th>ratings_disabled</th><th>video_error_or_removed</th><th>description</th></tr><tr><td>u32</td><td>u32</td><td>u32</td><td>u32</td><td>u32</td><td>u32</td><td>u32</td><td>u32</td><td>u32</td><td>u32</td><td>u32</td><td>u32</td><td>u32</td><td>u32</td><td>u32</td><td>u32</td></tr></thead><tbody><tr><td>0</td><td>5752</td><td>5902</td><td>6025</td><td>6292</td><td>7188</td><td>7021</td><td>7188</td><td>7188</td><td>7188</td><td>7188</td><td>7102</td><td>7115</td><td>7177</td><td>7177</td><td>7747</td></tr></tbody></table></div>"
            ]
          },
          "metadata": {},
          "execution_count": 30
        }
      ]
    },
    {
      "cell_type": "code",
      "source": [
        "df.hash_rows() ### Cree un nuevo DataFrame que muestre los recuentos nulos por columna."
      ],
      "metadata": {
        "colab": {
          "base_uri": "https://localhost:8080/",
          "height": 425
        },
        "id": "oFd4-7nIyR4O",
        "outputId": "0008538c-a5dc-428b-c839-0cfbb126d41c"
      },
      "id": "oFd4-7nIyR4O",
      "execution_count": 31,
      "outputs": [
        {
          "output_type": "execute_result",
          "data": {
            "text/plain": [
              "shape: (48_137,)\n",
              "Series: '' [u64]\n",
              "[\n",
              "\t10133721305131956340\n",
              "\t2307824063674077200\n",
              "\t18056118864698801208\n",
              "\t1408425142755780614\n",
              "\t8511548595927768441\n",
              "\t…\n",
              "\t16830005556728419502\n",
              "\t4599609043636766945\n",
              "\t528575329820457945\n",
              "\t9708608277214437644\n",
              "\t1167794786903100696\n",
              "]"
            ],
            "text/html": [
              "<div><style>\n",
              ".dataframe > thead > tr,\n",
              ".dataframe > tbody > tr {\n",
              "  text-align: right;\n",
              "  white-space: pre-wrap;\n",
              "}\n",
              "</style>\n",
              "<small>shape: (48_137,)</small><table border=\"1\" class=\"dataframe\"><thead><tr><th></th></tr><tr><td>u64</td></tr></thead><tbody><tr><td>10133721305131956340</td></tr><tr><td>2307824063674077200</td></tr><tr><td>18056118864698801208</td></tr><tr><td>1408425142755780614</td></tr><tr><td>8511548595927768441</td></tr><tr><td>&hellip;</td></tr><tr><td>16830005556728419502</td></tr><tr><td>4599609043636766945</td></tr><tr><td>528575329820457945</td></tr><tr><td>9708608277214437644</td></tr><tr><td>1167794786903100696</td></tr></tbody></table></div>"
            ]
          },
          "metadata": {},
          "execution_count": 31
        }
      ]
    },
    {
      "cell_type": "code",
      "source": [
        "df.fold(lambda s1, s2: s1 + s2) ### cree un dataframe"
      ],
      "metadata": {
        "colab": {
          "base_uri": "https://localhost:8080/",
          "height": 443
        },
        "id": "S65FTJgDyVic",
        "outputId": "ccdd8764-19ad-461f-8b42-e3237dae68fc"
      },
      "id": "S65FTJgDyVic",
      "execution_count": 32,
      "outputs": [
        {
          "output_type": "execute_result",
          "data": {
            "text/plain": [
              "shape: (48_137,)\n",
              "Series: 'video_id' [str]\n",
              "[\n",
              "\t\"2kyS6SvSYSE17.14.11WE WANT TO …\n",
              "\t\"1ZAPwfrtAFY17.14.11The Trump P…\n",
              "\t\"5qpjK5DgCt417.14.11Racist Supe…\n",
              "\t\"puqaWrEC7tY17.14.11Nickelback …\n",
              "\t\"d380meD0W0M17.14.11I Dare You:…\n",
              "\t…\n",
              "\t\"BZt0qjTWNhw18.14.06The Cat Who…\n",
              "\tnull\n",
              "\t\"D6Oy4LfoqsU18.14.06I GAVE SAFI…\n",
              "\t\"oV0zkMe1K8s18.14.06How Black P…\n",
              "\t\"ooyjaVdt-jA18.14.06Official Ca…\n",
              "]"
            ],
            "text/html": [
              "<div><style>\n",
              ".dataframe > thead > tr,\n",
              ".dataframe > tbody > tr {\n",
              "  text-align: right;\n",
              "  white-space: pre-wrap;\n",
              "}\n",
              "</style>\n",
              "<small>shape: (48_137,)</small><table border=\"1\" class=\"dataframe\"><thead><tr><th>video_id</th></tr><tr><td>str</td></tr></thead><tbody><tr><td>&quot;2kyS6SvSYSE17.14.11WE WANT TO …</td></tr><tr><td>&quot;1ZAPwfrtAFY17.14.11The Trump P…</td></tr><tr><td>&quot;5qpjK5DgCt417.14.11Racist Supe…</td></tr><tr><td>&quot;puqaWrEC7tY17.14.11Nickelback …</td></tr><tr><td>&quot;d380meD0W0M17.14.11I Dare You:…</td></tr><tr><td>&hellip;</td></tr><tr><td>&quot;BZt0qjTWNhw18.14.06The Cat Who…</td></tr><tr><td>null</td></tr><tr><td>&quot;D6Oy4LfoqsU18.14.06I GAVE SAFI…</td></tr><tr><td>&quot;oV0zkMe1K8s18.14.06How Black P…</td></tr><tr><td>&quot;ooyjaVdt-jA18.14.06Official Ca…</td></tr></tbody></table></div>"
            ]
          },
          "metadata": {},
          "execution_count": 32
        }
      ]
    },
    {
      "cell_type": "code",
      "source": [
        "df.width ## Get the number of columns"
      ],
      "metadata": {
        "colab": {
          "base_uri": "https://localhost:8080/"
        },
        "id": "ARJZfvRVyYw0",
        "outputId": "6a8fc065-0755-423d-f6b3-6d8f8be0a5d8"
      },
      "id": "ARJZfvRVyYw0",
      "execution_count": 33,
      "outputs": [
        {
          "output_type": "execute_result",
          "data": {
            "text/plain": [
              "16"
            ]
          },
          "metadata": {},
          "execution_count": 33
        }
      ]
    },
    {
      "cell_type": "code",
      "source": [
        "df.shape ## filas y columnas"
      ],
      "metadata": {
        "colab": {
          "base_uri": "https://localhost:8080/"
        },
        "id": "CZTM1k93ybhk",
        "outputId": "8551e145-86c8-4067-df17-40d46c064e9f"
      },
      "id": "CZTM1k93ybhk",
      "execution_count": 34,
      "outputs": [
        {
          "output_type": "execute_result",
          "data": {
            "text/plain": [
              "(48137, 16)"
            ]
          },
          "metadata": {},
          "execution_count": 34
        }
      ]
    },
    {
      "cell_type": "code",
      "source": [
        "df['category_id'].value_counts()"
      ],
      "metadata": {
        "colab": {
          "base_uri": "https://localhost:8080/",
          "height": 443
        },
        "id": "FiWsT7x_Uj53",
        "outputId": "ef2a8dc4-1114-4964-961b-53d3311c85a8"
      },
      "id": "FiWsT7x_Uj53",
      "execution_count": 44,
      "outputs": [
        {
          "output_type": "execute_result",
          "data": {
            "text/plain": [
              "shape: (51, 2)\n",
              "┌─────────────────────────────────┬───────┐\n",
              "│ category_id                     ┆ count │\n",
              "│ ---                             ┆ ---   │\n",
              "│ str                             ┆ u32   │\n",
              "╞═════════════════════════════════╪═══════╡\n",
              "│  and restaurant menus from the… ┆ 2     │\n",
              "│  moisturizers                   ┆ 9     │\n",
              "│ 24                              ┆ 9964  │\n",
              "│  and restaurant menus from the… ┆ 7     │\n",
              "│  dining destinations            ┆ 151   │\n",
              "│ …                               ┆ …     │\n",
              "│  no I'm not a lesbian           ┆ 4     │\n",
              "│  and videos from beauty expert… ┆ 40    │\n",
              "│ 29                              ┆ 57    │\n",
              "│  travel                         ┆ 39    │\n",
              "│  because we are always doing s… ┆ 2     │\n",
              "└─────────────────────────────────┴───────┘"
            ],
            "text/html": [
              "<div><style>\n",
              ".dataframe > thead > tr,\n",
              ".dataframe > tbody > tr {\n",
              "  text-align: right;\n",
              "  white-space: pre-wrap;\n",
              "}\n",
              "</style>\n",
              "<small>shape: (51, 2)</small><table border=\"1\" class=\"dataframe\"><thead><tr><th>category_id</th><th>count</th></tr><tr><td>str</td><td>u32</td></tr></thead><tbody><tr><td>&quot; and restaurant menus from the…</td><td>2</td></tr><tr><td>&quot; moisturizers&quot;</td><td>9</td></tr><tr><td>&quot;24&quot;</td><td>9964</td></tr><tr><td>&quot; and restaurant menus from the…</td><td>7</td></tr><tr><td>&quot; dining destinations&quot;</td><td>151</td></tr><tr><td>&hellip;</td><td>&hellip;</td></tr><tr><td>&quot; no I&#x27;m not a lesbian&quot;</td><td>4</td></tr><tr><td>&quot; and videos from beauty expert…</td><td>40</td></tr><tr><td>&quot;29&quot;</td><td>57</td></tr><tr><td>&quot; travel&quot;</td><td>39</td></tr><tr><td>&quot; because we are always doing s…</td><td>2</td></tr></tbody></table></div>"
            ]
          },
          "metadata": {},
          "execution_count": 44
        }
      ]
    },
    {
      "cell_type": "code",
      "source": [
        "df['category_id'].value_counts().sum() ## Obtenga el valor de la columna [video_id]"
      ],
      "metadata": {
        "colab": {
          "base_uri": "https://localhost:8080/",
          "height": 129
        },
        "id": "PJXzLau6USMX",
        "outputId": "eea10515-03d0-40ef-e6f6-982f700f67f0"
      },
      "id": "PJXzLau6USMX",
      "execution_count": 45,
      "outputs": [
        {
          "output_type": "execute_result",
          "data": {
            "text/plain": [
              "shape: (1, 2)\n",
              "┌─────────────┬───────┐\n",
              "│ category_id ┆ count │\n",
              "│ ---         ┆ ---   │\n",
              "│ str         ┆ u32   │\n",
              "╞═════════════╪═══════╡\n",
              "│ null        ┆ 48137 │\n",
              "└─────────────┴───────┘"
            ],
            "text/html": [
              "<div><style>\n",
              ".dataframe > thead > tr,\n",
              ".dataframe > tbody > tr {\n",
              "  text-align: right;\n",
              "  white-space: pre-wrap;\n",
              "}\n",
              "</style>\n",
              "<small>shape: (1, 2)</small><table border=\"1\" class=\"dataframe\"><thead><tr><th>category_id</th><th>count</th></tr><tr><td>str</td><td>u32</td></tr></thead><tbody><tr><td>null</td><td>48137</td></tr></tbody></table></div>"
            ]
          },
          "metadata": {},
          "execution_count": 45
        }
      ]
    },
    {
      "cell_type": "code",
      "source": [
        "df.flags ## Asignación de nombres de columnas a indicadores de columnas .//Obtener las banderas que están establecidas en las columnas de este DataFram"
      ],
      "metadata": {
        "colab": {
          "base_uri": "https://localhost:8080/"
        },
        "id": "zYCGajkoyenO",
        "outputId": "af08f233-8314-430d-f83f-52ea10ca77a8"
      },
      "id": "zYCGajkoyenO",
      "execution_count": 35,
      "outputs": [
        {
          "output_type": "execute_result",
          "data": {
            "text/plain": [
              "{'video_id': {'SORTED_ASC': False, 'SORTED_DESC': False},\n",
              " 'trending_date': {'SORTED_ASC': False, 'SORTED_DESC': False},\n",
              " 'title': {'SORTED_ASC': False, 'SORTED_DESC': False},\n",
              " 'channel_title': {'SORTED_ASC': False, 'SORTED_DESC': False},\n",
              " 'category_id': {'SORTED_ASC': False, 'SORTED_DESC': False},\n",
              " 'publish_time': {'SORTED_ASC': False, 'SORTED_DESC': False},\n",
              " 'tags': {'SORTED_ASC': False, 'SORTED_DESC': False},\n",
              " 'views': {'SORTED_ASC': False, 'SORTED_DESC': False},\n",
              " 'likes': {'SORTED_ASC': False, 'SORTED_DESC': False},\n",
              " 'dislikes': {'SORTED_ASC': False, 'SORTED_DESC': False},\n",
              " 'comment_count': {'SORTED_ASC': False, 'SORTED_DESC': False},\n",
              " 'thumbnail_link': {'SORTED_ASC': False, 'SORTED_DESC': False},\n",
              " 'comments_disabled': {'SORTED_ASC': False, 'SORTED_DESC': False},\n",
              " 'ratings_disabled': {'SORTED_ASC': False, 'SORTED_DESC': False},\n",
              " 'video_error_or_removed': {'SORTED_ASC': False, 'SORTED_DESC': False},\n",
              " 'description': {'SORTED_ASC': False, 'SORTED_DESC': False}}"
            ]
          },
          "metadata": {},
          "execution_count": 35
        }
      ]
    },
    {
      "cell_type": "code",
      "source": [
        "df.columns ## nombres de las columnas"
      ],
      "metadata": {
        "colab": {
          "base_uri": "https://localhost:8080/"
        },
        "id": "EjZ9Wq_1ykPF",
        "outputId": "1f187387-563f-4ec6-c394-a98e6ec07a8d"
      },
      "id": "EjZ9Wq_1ykPF",
      "execution_count": 36,
      "outputs": [
        {
          "output_type": "execute_result",
          "data": {
            "text/plain": [
              "['video_id',\n",
              " 'trending_date',\n",
              " 'title',\n",
              " 'channel_title',\n",
              " 'category_id',\n",
              " 'publish_time',\n",
              " 'tags',\n",
              " 'views',\n",
              " 'likes',\n",
              " 'dislikes',\n",
              " 'comment_count',\n",
              " 'thumbnail_link',\n",
              " 'comments_disabled',\n",
              " 'ratings_disabled',\n",
              " 'video_error_or_removed',\n",
              " 'description']"
            ]
          },
          "metadata": {},
          "execution_count": 36
        }
      ]
    },
    {
      "cell_type": "code",
      "source": [
        "df.head(3)"
      ],
      "metadata": {
        "colab": {
          "base_uri": "https://localhost:8080/",
          "height": 368
        },
        "id": "BlKVO6EIyoh2",
        "outputId": "67732fcd-794a-4757-89ab-e70276d0a53f"
      },
      "id": "BlKVO6EIyoh2",
      "execution_count": 37,
      "outputs": [
        {
          "output_type": "execute_result",
          "data": {
            "text/plain": [
              "shape: (3, 16)\n",
              "┌───────────┬───────────┬───────────┬───────────┬───┬───────────┬───────────┬───────────┬──────────┐\n",
              "│ video_id  ┆ trending_ ┆ title     ┆ channel_t ┆ … ┆ comments_ ┆ ratings_d ┆ video_err ┆ descript │\n",
              "│ ---       ┆ date      ┆ ---       ┆ itle      ┆   ┆ disabled  ┆ isabled   ┆ or_or_rem ┆ ion      │\n",
              "│ str       ┆ ---       ┆ str       ┆ ---       ┆   ┆ ---       ┆ ---       ┆ oved      ┆ ---      │\n",
              "│           ┆ str       ┆           ┆ str       ┆   ┆ str       ┆ str       ┆ ---       ┆ str      │\n",
              "│           ┆           ┆           ┆           ┆   ┆           ┆           ┆ str       ┆          │\n",
              "╞═══════════╪═══════════╪═══════════╪═══════════╪═══╪═══════════╪═══════════╪═══════════╪══════════╡\n",
              "│ 2kyS6SvSY ┆ 17.14.11  ┆ WE WANT   ┆ CaseyNeis ┆ … ┆ False     ┆ False     ┆ False     ┆ SHANTELL │\n",
              "│ SE        ┆           ┆ TO TALK   ┆ tat       ┆   ┆           ┆           ┆           ┆ 'S       │\n",
              "│           ┆           ┆ ABOUT OUR ┆           ┆   ┆           ┆           ┆           ┆ CHANNEL  │\n",
              "│           ┆           ┆ MARR…     ┆           ┆   ┆           ┆           ┆           ┆ - https: │\n",
              "│           ┆           ┆           ┆           ┆   ┆           ┆           ┆           ┆ //w…     │\n",
              "│ 1ZAPwfrtA ┆ 17.14.11  ┆ The Trump ┆ LastWeekT ┆ … ┆ False     ┆ False     ┆ False     ┆ One year │\n",
              "│ FY        ┆           ┆ Presidenc ┆ onight    ┆   ┆           ┆           ┆           ┆ after    │\n",
              "│           ┆           ┆ y: Last   ┆           ┆   ┆           ┆           ┆           ┆ the pres │\n",
              "│           ┆           ┆ Wee…      ┆           ┆   ┆           ┆           ┆           ┆ identia… │\n",
              "│ 5qpjK5DgC ┆ 17.14.11  ┆ Racist    ┆ Rudy      ┆ … ┆ False     ┆ False     ┆ False     ┆ WATCH MY │\n",
              "│ t4        ┆           ┆ Superman  ┆ Mancuso   ┆   ┆           ┆           ┆           ┆ PREVIOUS │\n",
              "│           ┆           ┆ | Rudy    ┆           ┆   ┆           ┆           ┆           ┆ VIDEO ▶  │\n",
              "│           ┆           ┆ Mancuso…  ┆           ┆   ┆           ┆           ┆           ┆ \\n\\n…    │\n",
              "└───────────┴───────────┴───────────┴───────────┴───┴───────────┴───────────┴───────────┴──────────┘"
            ],
            "text/html": [
              "<div><style>\n",
              ".dataframe > thead > tr,\n",
              ".dataframe > tbody > tr {\n",
              "  text-align: right;\n",
              "  white-space: pre-wrap;\n",
              "}\n",
              "</style>\n",
              "<small>shape: (3, 16)</small><table border=\"1\" class=\"dataframe\"><thead><tr><th>video_id</th><th>trending_date</th><th>title</th><th>channel_title</th><th>category_id</th><th>publish_time</th><th>tags</th><th>views</th><th>likes</th><th>dislikes</th><th>comment_count</th><th>thumbnail_link</th><th>comments_disabled</th><th>ratings_disabled</th><th>video_error_or_removed</th><th>description</th></tr><tr><td>str</td><td>str</td><td>str</td><td>str</td><td>str</td><td>datetime[ns]</td><td>str</td><td>i32</td><td>i32</td><td>i32</td><td>i32</td><td>str</td><td>str</td><td>str</td><td>str</td><td>str</td></tr></thead><tbody><tr><td>&quot;2kyS6SvSYSE&quot;</td><td>&quot;17.14.11&quot;</td><td>&quot;WE WANT TO TALK ABOUT OUR MARR…</td><td>&quot;CaseyNeistat&quot;</td><td>&quot;22&quot;</td><td>2017-11-13 17:13:01</td><td>&quot;SHANtell martin&quot;</td><td>748374</td><td>57527</td><td>2966</td><td>15954</td><td>&quot;https://i.ytimg.com/vi/2kyS6Sv…</td><td>&quot;False&quot;</td><td>&quot;False&quot;</td><td>&quot;False&quot;</td><td>&quot;SHANTELL&#x27;S CHANNEL - https://w…</td></tr><tr><td>&quot;1ZAPwfrtAFY&quot;</td><td>&quot;17.14.11&quot;</td><td>&quot;The Trump Presidency: Last Wee…</td><td>&quot;LastWeekTonight&quot;</td><td>&quot;24&quot;</td><td>2017-11-13 07:30:00</td><td>&quot;&quot;last week tonight trump presi…</td><td>2418783</td><td>97185</td><td>6146</td><td>12703</td><td>&quot;https://i.ytimg.com/vi/1ZAPwfr…</td><td>&quot;False&quot;</td><td>&quot;False&quot;</td><td>&quot;False&quot;</td><td>&quot;One year after the presidentia…</td></tr><tr><td>&quot;5qpjK5DgCt4&quot;</td><td>&quot;17.14.11&quot;</td><td>&quot;Racist Superman | Rudy Mancuso…</td><td>&quot;Rudy Mancuso&quot;</td><td>&quot;23&quot;</td><td>2017-11-12 19:05:24</td><td>&quot;&quot;racist superman&quot;|&quot;rudy&quot;|&quot;manc…</td><td>3191434</td><td>146033</td><td>5339</td><td>8181</td><td>&quot;https://i.ytimg.com/vi/5qpjK5D…</td><td>&quot;False&quot;</td><td>&quot;False&quot;</td><td>&quot;False&quot;</td><td>&quot;WATCH MY PREVIOUS VIDEO ▶ \\n\\n…</td></tr></tbody></table></div>"
            ]
          },
          "metadata": {},
          "execution_count": 37
        }
      ]
    }
  ],
  "metadata": {
    "kernelspec": {
      "display_name": "Python 3 (ipykernel)",
      "language": "python",
      "name": "python3"
    },
    "language_info": {
      "codemirror_mode": {
        "name": "ipython",
        "version": 3
      },
      "file_extension": ".py",
      "mimetype": "text/x-python",
      "name": "python",
      "nbconvert_exporter": "python",
      "pygments_lexer": "ipython3",
      "version": "3.9.6"
    },
    "colab": {
      "provenance": []
    }
  },
  "nbformat": 4,
  "nbformat_minor": 5
}