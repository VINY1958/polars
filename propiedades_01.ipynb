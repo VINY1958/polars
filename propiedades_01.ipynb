{
  "cells": [
    {
      "cell_type": "markdown",
      "metadata": {
        "id": "view-in-github",
        "colab_type": "text"
      },
      "source": [
        "<a href=\"https://colab.research.google.com/github/VINY1958/polars/blob/main/propiedades_01.ipynb\" target=\"_parent\"><img src=\"https://colab.research.google.com/assets/colab-badge.svg\" alt=\"Open In Colab\"/></a>"
      ]
    },
    {
      "cell_type": "markdown",
      "source": [
        "<p align=\"center\">\n",
        "<img src=\"https://github.com/cristiandarioortegayubro/BDS/blob/main/images/Logo%20Pandas.png?raw=true\">\n",
        "</p>\n"
      ],
      "metadata": {
        "id": "mogSPUfQhyTK"
      },
      "id": "mogSPUfQhyTK"
    },
    {
      "cell_type": "markdown",
      "source": [
        "#<font color=\"DeepPink\">**Análisis de datos de propiedades inmuebles**</font>"
      ],
      "metadata": {
        "id": "G6F-bbUnZov7"
      },
      "id": "G6F-bbUnZov7"
    },
    {
      "cell_type": "markdown",
      "source": [
        "- http://blog.properati.com.ar/properati-tools/\n",
        "- https://www.properati.com.ar/data"
      ],
      "metadata": {
        "id": "PAxBnjV1aJlK"
      },
      "id": "PAxBnjV1aJlK"
    },
    {
      "cell_type": "markdown",
      "source": [
        "![](https://blog.properati.com.ar/wp-content/uploads/2023/01/barrio-norte-buenos-aires-1128x484.jpg)"
      ],
      "metadata": {
        "id": "H2Zq_77_s72E"
      },
      "id": "H2Zq_77_s72E"
    },
    {
      "cell_type": "markdown",
      "id": "c6549ba7-e07b-4ace-bd81-e8f81e9d6bcd",
      "metadata": {
        "id": "c6549ba7-e07b-4ace-bd81-e8f81e9d6bcd"
      },
      "source": [
        "# <font color=\"DeepPink\">**Limpiar y graficar...**"
      ]
    },
    {
      "cell_type": "markdown",
      "source": [
        "<p align=\"justify\">\n",
        "👀 Nos encontramos iniciando un nuevo proyecto, nuestra empresa es una pequeña inmobiliaria que quiere fusionar el potencial del manejo de datos con la venta/alquiler de propiedades.\n",
        "<br><br>\n",
        "Al ser una pequeña empresa el <mark>Departamento de Datos</mark> esta compuesto por una persona: nosotros 🥶 .\n",
        "<br><br>\n",
        "Esto quiere decir que vamos a absorber los roles de:\n",
        "\n",
        "- Ingeniero de Datos, y\n",
        "- Analista de Datos.\n"
      ],
      "metadata": {
        "id": "Mi4H1Ydsy9gh"
      },
      "id": "Mi4H1Ydsy9gh"
    },
    {
      "cell_type": "markdown",
      "id": "9c77b7d0-bea3-4772-a168-60349409b1a3",
      "metadata": {
        "id": "9c77b7d0-bea3-4772-a168-60349409b1a3"
      },
      "source": [
        "## <font color=\"DeepPink\">**Ingesta de datos de propiedades**"
      ]
    },
    {
      "cell_type": "markdown",
      "id": "614cb164",
      "metadata": {
        "id": "614cb164"
      },
      "source": [
        "<p align=\"jusfify\">\n",
        "✅ El dataset central de este proyecto de propiedades de Argentina, tiene la siguientes columnas:\n",
        "<br><br>\n",
        "\n",
        "- **id** - Identificador del aviso. No es único: si el aviso es actualizado por la inmobiliaria (nueva versión del aviso) se crea un nuevo registro con la misma id pero distintas fechas: de alta y de baja.\n",
        "- **ad_type** - Tipo de aviso (Propiedad, Desarrollo/Proyecto).\n",
        "- **start_date** - Fecha de alta del aviso.\n",
        "- **end_date** - Fecha de baja del aviso.\n",
        "- **created_on** - Fecha de alta de la primera versión del aviso.\n",
        "- **lat** - Latitud.\n",
        "- **lon** - Longitud.\n",
        "- **l1** - Nivel administrativo 1: país.\n",
        "- **l2** - Nivel administrativo 2: usualmente provincia.\n",
        "- **l3** - Nivel administrativo 3: usualmente ciudad.\n",
        "- **l4** - Nivel administrativo 4: usualmente barrio.\n",
        "- **l5** - sin informacion\n",
        "- **l6** - sin informacion\n",
        "- **rooms** - Cantidad de ambientes\n",
        "- **bedrooms** - Cantidad de dormitorios\n",
        "- **bathrooms** - Cantidad de baños.\n",
        "- **surface_total** - Superficie total en m².\n",
        "- **surface_covered** - Superficie cubierta en m².\n",
        "- **price** - Precio publicado en el anuncio.\n",
        "- **currency** - Moneda del precio publicado.\n",
        "- **price_period** - Periodo del precio (Diario, Semanal, Mensual)\n",
        "- **title** - Título del anuncio.\n",
        "- **description** - Descripción del anuncio.\n",
        "- **property_type**: - Caracteristicas de la propiedad\n",
        "- **operation_type**: - Caracteristicas de la operacion ['Venta', 'Alquiler', 'Alquiler temporal']"
      ]
    },
    {
      "cell_type": "markdown",
      "source": [
        "## <font color=\"DeepPink\">**Habilitando módulos para el proyecto**"
      ],
      "metadata": {
        "id": "akkMOa8Lz0TL"
      },
      "id": "akkMOa8Lz0TL"
    },
    {
      "cell_type": "markdown",
      "source": [
        "###<font color=\"DeepPink\">**Para analisis de datos**"
      ],
      "metadata": {
        "id": "KHhKEDMu2KUK"
      },
      "id": "KHhKEDMu2KUK"
    },
    {
      "cell_type": "code",
      "source": [
        "import pandas as pd\n",
        "import numpy as np"
      ],
      "metadata": {
        "id": "8YyzmxiMz8Nx"
      },
      "id": "8YyzmxiMz8Nx",
      "execution_count": null,
      "outputs": []
    },
    {
      "cell_type": "markdown",
      "source": [
        "###<font color=\"DeepPink\">**Para gráficos**"
      ],
      "metadata": {
        "id": "pEZgoAZb2RVp"
      },
      "id": "pEZgoAZb2RVp"
    },
    {
      "cell_type": "code",
      "source": [
        "import plotly.express as px"
      ],
      "metadata": {
        "id": "v7UBjDaV0OQY"
      },
      "id": "v7UBjDaV0OQY",
      "execution_count": null,
      "outputs": []
    },
    {
      "cell_type": "markdown",
      "id": "d546b882-c289-4cae-99cb-2ea5e3072f71",
      "metadata": {
        "id": "d546b882-c289-4cae-99cb-2ea5e3072f71"
      },
      "source": [
        "# <font color=\"DeepPink\">**Ingesta de los datos...**"
      ]
    },
    {
      "cell_type": "markdown",
      "source": [
        "## <font color=\"DeepPink\">**Conexión y lectura de los datos...**"
      ],
      "metadata": {
        "id": "JXfhWFY6rXWD"
      },
      "id": "JXfhWFY6rXWD"
    },
    {
      "cell_type": "code",
      "source": [
        "# from google.colab import drive\n",
        "# drive.mount('/content/drive')"
      ],
      "metadata": {
        "id": "Ez3FblDTjZlq"
      },
      "id": "Ez3FblDTjZlq",
      "execution_count": null,
      "outputs": []
    },
    {
      "cell_type": "markdown",
      "source": [
        "## <font color=\"DeepPink\">**Dataframe de Pandas 🐼**"
      ],
      "metadata": {
        "id": "mOhmI4FrrdKc"
      },
      "id": "mOhmI4FrrdKc"
    },
    {
      "cell_type": "code",
      "source": [
        "prop = pd.read_csv('/content/ar_properties.csv',\n",
        "                   #compression='gzip',\n",
        "                   header=0,\n",
        "                   sep=',',\n",
        "                   quotechar='\"')"
      ],
      "metadata": {
        "id": "QuXzmGm6f8oO",
        "colab": {
          "base_uri": "https://localhost:8080/",
          "height": 386
        },
        "outputId": "494b4681-cd6e-4a0c-cebe-901d7cd87360"
      },
      "id": "QuXzmGm6f8oO",
      "execution_count": null,
      "outputs": [
        {
          "output_type": "error",
          "ename": "FileNotFoundError",
          "evalue": "[Errno 2] No such file or directory: '/content/ar_properties.csv'",
          "traceback": [
            "\u001b[0;31m---------------------------------------------------------------------------\u001b[0m",
            "\u001b[0;31mFileNotFoundError\u001b[0m                         Traceback (most recent call last)",
            "\u001b[0;32m<ipython-input-4-9d8a559b094f>\u001b[0m in \u001b[0;36m<cell line: 1>\u001b[0;34m()\u001b[0m\n\u001b[0;32m----> 1\u001b[0;31m prop = pd.read_csv('/content/ar_properties.csv',\n\u001b[0m\u001b[1;32m      2\u001b[0m                    \u001b[0;31m#compression='gzip',\u001b[0m\u001b[0;34m\u001b[0m\u001b[0;34m\u001b[0m\u001b[0m\n\u001b[1;32m      3\u001b[0m                    \u001b[0mheader\u001b[0m\u001b[0;34m=\u001b[0m\u001b[0;36m0\u001b[0m\u001b[0;34m,\u001b[0m\u001b[0;34m\u001b[0m\u001b[0;34m\u001b[0m\u001b[0m\n\u001b[1;32m      4\u001b[0m                    \u001b[0msep\u001b[0m\u001b[0;34m=\u001b[0m\u001b[0;34m','\u001b[0m\u001b[0;34m,\u001b[0m\u001b[0;34m\u001b[0m\u001b[0;34m\u001b[0m\u001b[0m\n\u001b[1;32m      5\u001b[0m                    quotechar='\"')\n",
            "\u001b[0;32m/usr/local/lib/python3.10/dist-packages/pandas/io/parsers/readers.py\u001b[0m in \u001b[0;36mread_csv\u001b[0;34m(filepath_or_buffer, sep, delimiter, header, names, index_col, usecols, dtype, engine, converters, true_values, false_values, skipinitialspace, skiprows, skipfooter, nrows, na_values, keep_default_na, na_filter, verbose, skip_blank_lines, parse_dates, infer_datetime_format, keep_date_col, date_parser, date_format, dayfirst, cache_dates, iterator, chunksize, compression, thousands, decimal, lineterminator, quotechar, quoting, doublequote, escapechar, comment, encoding, encoding_errors, dialect, on_bad_lines, delim_whitespace, low_memory, memory_map, float_precision, storage_options, dtype_backend)\u001b[0m\n\u001b[1;32m    946\u001b[0m     \u001b[0mkwds\u001b[0m\u001b[0;34m.\u001b[0m\u001b[0mupdate\u001b[0m\u001b[0;34m(\u001b[0m\u001b[0mkwds_defaults\u001b[0m\u001b[0;34m)\u001b[0m\u001b[0;34m\u001b[0m\u001b[0;34m\u001b[0m\u001b[0m\n\u001b[1;32m    947\u001b[0m \u001b[0;34m\u001b[0m\u001b[0m\n\u001b[0;32m--> 948\u001b[0;31m     \u001b[0;32mreturn\u001b[0m \u001b[0m_read\u001b[0m\u001b[0;34m(\u001b[0m\u001b[0mfilepath_or_buffer\u001b[0m\u001b[0;34m,\u001b[0m \u001b[0mkwds\u001b[0m\u001b[0;34m)\u001b[0m\u001b[0;34m\u001b[0m\u001b[0;34m\u001b[0m\u001b[0m\n\u001b[0m\u001b[1;32m    949\u001b[0m \u001b[0;34m\u001b[0m\u001b[0m\n\u001b[1;32m    950\u001b[0m \u001b[0;34m\u001b[0m\u001b[0m\n",
            "\u001b[0;32m/usr/local/lib/python3.10/dist-packages/pandas/io/parsers/readers.py\u001b[0m in \u001b[0;36m_read\u001b[0;34m(filepath_or_buffer, kwds)\u001b[0m\n\u001b[1;32m    609\u001b[0m \u001b[0;34m\u001b[0m\u001b[0m\n\u001b[1;32m    610\u001b[0m     \u001b[0;31m# Create the parser.\u001b[0m\u001b[0;34m\u001b[0m\u001b[0;34m\u001b[0m\u001b[0m\n\u001b[0;32m--> 611\u001b[0;31m     \u001b[0mparser\u001b[0m \u001b[0;34m=\u001b[0m \u001b[0mTextFileReader\u001b[0m\u001b[0;34m(\u001b[0m\u001b[0mfilepath_or_buffer\u001b[0m\u001b[0;34m,\u001b[0m \u001b[0;34m**\u001b[0m\u001b[0mkwds\u001b[0m\u001b[0;34m)\u001b[0m\u001b[0;34m\u001b[0m\u001b[0;34m\u001b[0m\u001b[0m\n\u001b[0m\u001b[1;32m    612\u001b[0m \u001b[0;34m\u001b[0m\u001b[0m\n\u001b[1;32m    613\u001b[0m     \u001b[0;32mif\u001b[0m \u001b[0mchunksize\u001b[0m \u001b[0;32mor\u001b[0m \u001b[0miterator\u001b[0m\u001b[0;34m:\u001b[0m\u001b[0;34m\u001b[0m\u001b[0;34m\u001b[0m\u001b[0m\n",
            "\u001b[0;32m/usr/local/lib/python3.10/dist-packages/pandas/io/parsers/readers.py\u001b[0m in \u001b[0;36m__init__\u001b[0;34m(self, f, engine, **kwds)\u001b[0m\n\u001b[1;32m   1446\u001b[0m \u001b[0;34m\u001b[0m\u001b[0m\n\u001b[1;32m   1447\u001b[0m         \u001b[0mself\u001b[0m\u001b[0;34m.\u001b[0m\u001b[0mhandles\u001b[0m\u001b[0;34m:\u001b[0m \u001b[0mIOHandles\u001b[0m \u001b[0;34m|\u001b[0m \u001b[0;32mNone\u001b[0m \u001b[0;34m=\u001b[0m \u001b[0;32mNone\u001b[0m\u001b[0;34m\u001b[0m\u001b[0;34m\u001b[0m\u001b[0m\n\u001b[0;32m-> 1448\u001b[0;31m         \u001b[0mself\u001b[0m\u001b[0;34m.\u001b[0m\u001b[0m_engine\u001b[0m \u001b[0;34m=\u001b[0m \u001b[0mself\u001b[0m\u001b[0;34m.\u001b[0m\u001b[0m_make_engine\u001b[0m\u001b[0;34m(\u001b[0m\u001b[0mf\u001b[0m\u001b[0;34m,\u001b[0m \u001b[0mself\u001b[0m\u001b[0;34m.\u001b[0m\u001b[0mengine\u001b[0m\u001b[0;34m)\u001b[0m\u001b[0;34m\u001b[0m\u001b[0;34m\u001b[0m\u001b[0m\n\u001b[0m\u001b[1;32m   1449\u001b[0m \u001b[0;34m\u001b[0m\u001b[0m\n\u001b[1;32m   1450\u001b[0m     \u001b[0;32mdef\u001b[0m \u001b[0mclose\u001b[0m\u001b[0;34m(\u001b[0m\u001b[0mself\u001b[0m\u001b[0;34m)\u001b[0m \u001b[0;34m->\u001b[0m \u001b[0;32mNone\u001b[0m\u001b[0;34m:\u001b[0m\u001b[0;34m\u001b[0m\u001b[0;34m\u001b[0m\u001b[0m\n",
            "\u001b[0;32m/usr/local/lib/python3.10/dist-packages/pandas/io/parsers/readers.py\u001b[0m in \u001b[0;36m_make_engine\u001b[0;34m(self, f, engine)\u001b[0m\n\u001b[1;32m   1703\u001b[0m                 \u001b[0;32mif\u001b[0m \u001b[0;34m\"b\"\u001b[0m \u001b[0;32mnot\u001b[0m \u001b[0;32min\u001b[0m \u001b[0mmode\u001b[0m\u001b[0;34m:\u001b[0m\u001b[0;34m\u001b[0m\u001b[0;34m\u001b[0m\u001b[0m\n\u001b[1;32m   1704\u001b[0m                     \u001b[0mmode\u001b[0m \u001b[0;34m+=\u001b[0m \u001b[0;34m\"b\"\u001b[0m\u001b[0;34m\u001b[0m\u001b[0;34m\u001b[0m\u001b[0m\n\u001b[0;32m-> 1705\u001b[0;31m             self.handles = get_handle(\n\u001b[0m\u001b[1;32m   1706\u001b[0m                 \u001b[0mf\u001b[0m\u001b[0;34m,\u001b[0m\u001b[0;34m\u001b[0m\u001b[0;34m\u001b[0m\u001b[0m\n\u001b[1;32m   1707\u001b[0m                 \u001b[0mmode\u001b[0m\u001b[0;34m,\u001b[0m\u001b[0;34m\u001b[0m\u001b[0;34m\u001b[0m\u001b[0m\n",
            "\u001b[0;32m/usr/local/lib/python3.10/dist-packages/pandas/io/common.py\u001b[0m in \u001b[0;36mget_handle\u001b[0;34m(path_or_buf, mode, encoding, compression, memory_map, is_text, errors, storage_options)\u001b[0m\n\u001b[1;32m    861\u001b[0m         \u001b[0;32mif\u001b[0m \u001b[0mioargs\u001b[0m\u001b[0;34m.\u001b[0m\u001b[0mencoding\u001b[0m \u001b[0;32mand\u001b[0m \u001b[0;34m\"b\"\u001b[0m \u001b[0;32mnot\u001b[0m \u001b[0;32min\u001b[0m \u001b[0mioargs\u001b[0m\u001b[0;34m.\u001b[0m\u001b[0mmode\u001b[0m\u001b[0;34m:\u001b[0m\u001b[0;34m\u001b[0m\u001b[0;34m\u001b[0m\u001b[0m\n\u001b[1;32m    862\u001b[0m             \u001b[0;31m# Encoding\u001b[0m\u001b[0;34m\u001b[0m\u001b[0;34m\u001b[0m\u001b[0m\n\u001b[0;32m--> 863\u001b[0;31m             handle = open(\n\u001b[0m\u001b[1;32m    864\u001b[0m                 \u001b[0mhandle\u001b[0m\u001b[0;34m,\u001b[0m\u001b[0;34m\u001b[0m\u001b[0;34m\u001b[0m\u001b[0m\n\u001b[1;32m    865\u001b[0m                 \u001b[0mioargs\u001b[0m\u001b[0;34m.\u001b[0m\u001b[0mmode\u001b[0m\u001b[0;34m,\u001b[0m\u001b[0;34m\u001b[0m\u001b[0;34m\u001b[0m\u001b[0m\n",
            "\u001b[0;31mFileNotFoundError\u001b[0m: [Errno 2] No such file or directory: '/content/ar_properties.csv'"
          ]
        }
      ]
    },
    {
      "cell_type": "code",
      "source": [
        "prop"
      ],
      "metadata": {
        "id": "Gp_N_y0_r7Nb"
      },
      "id": "Gp_N_y0_r7Nb",
      "execution_count": null,
      "outputs": []
    },
    {
      "cell_type": "code",
      "execution_count": null,
      "id": "25b04fa1",
      "metadata": {
        "id": "25b04fa1"
      },
      "outputs": [],
      "source": [
        "prop.head()"
      ]
    },
    {
      "cell_type": "code",
      "source": [
        "prop.tail()"
      ],
      "metadata": {
        "id": "Dh437zE40u9k"
      },
      "id": "Dh437zE40u9k",
      "execution_count": null,
      "outputs": []
    },
    {
      "cell_type": "code",
      "execution_count": null,
      "id": "be399657",
      "metadata": {
        "id": "be399657"
      },
      "outputs": [],
      "source": [
        "# Constatando la dimensionalidad del dataframe\n",
        "prop.shape\n",
        "print(f\"El conjunto de datos contiene {prop.shape[0]} filas y {prop.shape[1]} columnas\")"
      ]
    },
    {
      "cell_type": "code",
      "source": [
        "# Resumen del dataframe\n",
        "prop.info()"
      ],
      "metadata": {
        "id": "3uG9R1_o1gPQ"
      },
      "id": "3uG9R1_o1gPQ",
      "execution_count": null,
      "outputs": []
    },
    {
      "cell_type": "markdown",
      "source": [
        "### <font color=\"DeepPink\">**Análisis descriptivo de variables numéricas...**"
      ],
      "metadata": {
        "id": "AKvQpRPZtIOu"
      },
      "id": "AKvQpRPZtIOu"
    },
    {
      "cell_type": "code",
      "source": [
        "# analisis descriptivo del archivo\n",
        "prop.describe().round(2).T"
      ],
      "metadata": {
        "id": "DUa-RYCz1Htb"
      },
      "id": "DUa-RYCz1Htb",
      "execution_count": null,
      "outputs": []
    },
    {
      "cell_type": "markdown",
      "source": [
        "### <font color=\"DeepPink\">**Análisis descriptivo de variables categóricas...**"
      ],
      "metadata": {
        "id": "_3Y9Etp61Q5N"
      },
      "id": "_3Y9Etp61Q5N"
    },
    {
      "cell_type": "code",
      "source": [
        "# analisis descriptivo del archivo con variables no numéricas\n",
        "prop.describe(include=[object]).T"
      ],
      "metadata": {
        "id": "AcEaEYMY1RUr"
      },
      "id": "AcEaEYMY1RUr",
      "execution_count": null,
      "outputs": []
    },
    {
      "cell_type": "markdown",
      "source": [
        "### <font color=\"DeepPink\">**Verificando valores nulos...**"
      ],
      "metadata": {
        "id": "WD0CC_fe16mq"
      },
      "id": "WD0CC_fe16mq"
    },
    {
      "cell_type": "code",
      "source": [
        "# Verificar valores nulos del dataframe prop\n",
        "nulos =  prop.isna().sum().sort_values(ascending = False)\n",
        "nulos.name = \"Cantidad de nulos\"\n",
        "nulos"
      ],
      "metadata": {
        "id": "YJqevOJq87cQ"
      },
      "id": "YJqevOJq87cQ",
      "execution_count": null,
      "outputs": []
    },
    {
      "cell_type": "markdown",
      "source": [
        "### <font color=\"DeepPink\">**Verificando valores duplicados...**"
      ],
      "metadata": {
        "id": "8TTCzbtq2A45"
      },
      "id": "8TTCzbtq2A45"
    },
    {
      "cell_type": "code",
      "source": [
        "# Verificar si hay duplicados\n",
        "prop.duplicated().sum()"
      ],
      "metadata": {
        "id": "tDliPtfl2EhG"
      },
      "id": "tDliPtfl2EhG",
      "execution_count": null,
      "outputs": []
    },
    {
      "cell_type": "markdown",
      "source": [
        "#<font color=\"DeepPink\">**Limpieza de los Datos**"
      ],
      "metadata": {
        "id": "CHx_L_R11kcs"
      },
      "id": "CHx_L_R11kcs"
    },
    {
      "cell_type": "markdown",
      "id": "42978649",
      "metadata": {
        "id": "42978649"
      },
      "source": [
        "### <font color=\"DeepPink\">**Nulos en porcentaje...**"
      ]
    },
    {
      "cell_type": "code",
      "source": [
        "# Porcentaje de los nulos\n",
        "porcentaje_nulo = round((prop.isna().sum()/prop.shape[0])*100, 2).sort_values(ascending = False)\n",
        "porcentaje_nulo.name = \"Porcentaje de nulos\"\n",
        "porcentaje_nulo"
      ],
      "metadata": {
        "id": "swWvj34C_HQ8"
      },
      "id": "swWvj34C_HQ8",
      "execution_count": null,
      "outputs": []
    },
    {
      "cell_type": "markdown",
      "source": [
        "### <font color=\"DeepPink\">**Tratamiento de nulos...**"
      ],
      "metadata": {
        "id": "BBq2RB8hvmK1"
      },
      "id": "BBq2RB8hvmK1"
    },
    {
      "cell_type": "markdown",
      "id": "c0f5c3ed",
      "metadata": {
        "id": "c0f5c3ed"
      },
      "source": [
        "✅ **Eliminar columnas que tengan mas del $30$% de nulos**"
      ]
    },
    {
      "cell_type": "code",
      "source": [
        "# Elimino columnas que tienen mas del 30% de nulos (análisis por columna)\n",
        "prop.dropna(axis=1, thresh = (1000000*0.7), inplace = True)"
      ],
      "metadata": {
        "id": "9a7_ha_8ARAV"
      },
      "id": "9a7_ha_8ARAV",
      "execution_count": null,
      "outputs": []
    },
    {
      "cell_type": "code",
      "source": [
        "# Porcentaje de los nulos\n",
        "porcentaje_nulo = round((prop.isna().sum()/prop.shape[0])*100, 2).sort_values(ascending = False)\n",
        "porcentaje_nulo.name = \"Porcentaje de nulos\"\n",
        "porcentaje_nulo"
      ],
      "metadata": {
        "id": "hRmYswHxQmP5"
      },
      "id": "hRmYswHxQmP5",
      "execution_count": null,
      "outputs": []
    },
    {
      "cell_type": "code",
      "source": [
        "prop.info()"
      ],
      "metadata": {
        "id": "ie_f3kvlCIhk"
      },
      "id": "ie_f3kvlCIhk",
      "execution_count": null,
      "outputs": []
    },
    {
      "cell_type": "markdown",
      "id": "080fb4a6",
      "metadata": {
        "id": "080fb4a6"
      },
      "source": [
        "✅ **Quedarse con solo los registros que tienen un $90$%**"
      ]
    },
    {
      "cell_type": "code",
      "source": [
        "prop.dropna(axis = 0, inplace = True, thresh = int(18 * 0.9))"
      ],
      "metadata": {
        "id": "B8YEa7eCjHr-"
      },
      "id": "B8YEa7eCjHr-",
      "execution_count": null,
      "outputs": []
    },
    {
      "cell_type": "code",
      "source": [
        "prop.shape"
      ],
      "metadata": {
        "id": "-1ex4iUKOI33"
      },
      "id": "-1ex4iUKOI33",
      "execution_count": null,
      "outputs": []
    },
    {
      "cell_type": "code",
      "source": [
        "prop.info()"
      ],
      "metadata": {
        "id": "5NKt6YfgDdg_"
      },
      "id": "5NKt6YfgDdg_",
      "execution_count": null,
      "outputs": []
    },
    {
      "cell_type": "markdown",
      "source": [
        "### <font color=\"DeepPink\">**Filtrando a Mendoza...**"
      ],
      "metadata": {
        "id": "ur7cwO5h0_YJ"
      },
      "id": "ur7cwO5h0_YJ"
    },
    {
      "cell_type": "markdown",
      "id": "586f9ec0",
      "metadata": {
        "id": "586f9ec0"
      },
      "source": [
        "✅ **El analisis se realizará sobre la Provincia de Mendoza**"
      ]
    },
    {
      "cell_type": "code",
      "source": [
        "# Valores unicos de la serie l2 (localidad 2)\n",
        "prop.l2.unique()"
      ],
      "metadata": {
        "id": "TsTKVIaZn_8I"
      },
      "id": "TsTKVIaZn_8I",
      "execution_count": null,
      "outputs": []
    },
    {
      "cell_type": "code",
      "source": [
        "# filtrado por localidad = Mendoza\n",
        "prop = prop.query('l2 == \"Mendoza\"')"
      ],
      "metadata": {
        "id": "XZq7oWfCD7Xp"
      },
      "id": "XZq7oWfCD7Xp",
      "execution_count": null,
      "outputs": []
    },
    {
      "cell_type": "code",
      "source": [
        "# Otra forma de filtrar\n",
        "# prop = prop[(prop.l2 == \"Mendoza\")]"
      ],
      "metadata": {
        "id": "4PElUCwinjw5"
      },
      "id": "4PElUCwinjw5",
      "execution_count": null,
      "outputs": []
    },
    {
      "cell_type": "code",
      "source": [
        "# dimensionalidad del dataframe\n",
        "prop.shape"
      ],
      "metadata": {
        "id": "NdbMat21nrMH"
      },
      "id": "NdbMat21nrMH",
      "execution_count": null,
      "outputs": []
    },
    {
      "cell_type": "code",
      "source": [
        "prop"
      ],
      "metadata": {
        "id": "ZRSaX_AbDWW9"
      },
      "id": "ZRSaX_AbDWW9",
      "execution_count": null,
      "outputs": []
    },
    {
      "cell_type": "markdown",
      "id": "586fa634",
      "metadata": {
        "id": "586fa634"
      },
      "source": [
        "✅ **Chequear que en columna l1 que representa al pais, deberia existir solo un valor: Argentina. Si hay otros valores eliminarlos...***"
      ]
    },
    {
      "cell_type": "code",
      "execution_count": null,
      "id": "30f98095",
      "metadata": {
        "id": "30f98095"
      },
      "outputs": [],
      "source": [
        "# Chequeando que solo exista el valor Argentina\n",
        "prop.l1.unique()"
      ]
    },
    {
      "cell_type": "code",
      "source": [
        "# Conteo de valores para la serie l1\n",
        "prop.l1.value_counts()"
      ],
      "metadata": {
        "id": "CFARlKLioaqt"
      },
      "id": "CFARlKLioaqt",
      "execution_count": null,
      "outputs": []
    },
    {
      "cell_type": "markdown",
      "id": "7c5da49a",
      "metadata": {
        "id": "7c5da49a"
      },
      "source": [
        "✅ **Eliminar las columnas:**\n",
        "\n",
        "- **id** porque ya sabemos que todos los registros son diferentes y no vamos a usar esta columna para identificarlos.\n",
        "- **l1** porque solo tiene un valor: Argentina. No aporta informacion a los datos.\n",
        "- **description** y **title** porque no contamos con herramientas de NLP para volverlas informacion para visualizar o modelizar.\n"
      ]
    },
    {
      "cell_type": "code",
      "source": [
        "prop.shape"
      ],
      "metadata": {
        "id": "G1Srjdt111ip"
      },
      "id": "G1Srjdt111ip",
      "execution_count": null,
      "outputs": []
    },
    {
      "cell_type": "code",
      "source": [
        "prop.columns"
      ],
      "metadata": {
        "id": "x4CiHf3LLeLD"
      },
      "id": "x4CiHf3LLeLD",
      "execution_count": null,
      "outputs": []
    },
    {
      "cell_type": "code",
      "source": [
        "# Eliminando las columnas\n",
        "prop = prop.drop(columns=[\"id\",\"l1\",\"description\",\"title\"])"
      ],
      "metadata": {
        "id": "9JBQyFq0pakB"
      },
      "id": "9JBQyFq0pakB",
      "execution_count": null,
      "outputs": []
    },
    {
      "cell_type": "code",
      "source": [
        "prop.columns"
      ],
      "metadata": {
        "id": "uInOJiMCqq2y"
      },
      "id": "uInOJiMCqq2y",
      "execution_count": null,
      "outputs": []
    },
    {
      "cell_type": "code",
      "source": [
        "prop.shape"
      ],
      "metadata": {
        "id": "eJ-pLWaXq4Kv"
      },
      "id": "eJ-pLWaXq4Kv",
      "execution_count": null,
      "outputs": []
    },
    {
      "cell_type": "markdown",
      "id": "e415e0d3",
      "metadata": {
        "id": "e415e0d3"
      },
      "source": [
        "✅ **Sospechamos que las columnas ```start_date``` y ```created_on``` en este caso tienen los mismos valores, chequearlo, si son iguales eliminar la columna ```created_on```...**"
      ]
    },
    {
      "cell_type": "code",
      "source": [
        "prop.columns"
      ],
      "metadata": {
        "id": "ZXPjuuIGsdOI"
      },
      "id": "ZXPjuuIGsdOI",
      "execution_count": null,
      "outputs": []
    },
    {
      "cell_type": "code",
      "source": [
        "prop.shape"
      ],
      "metadata": {
        "id": "6gbVOW9nsjS-"
      },
      "id": "6gbVOW9nsjS-",
      "execution_count": null,
      "outputs": []
    },
    {
      "cell_type": "code",
      "execution_count": null,
      "id": "69cf434a",
      "metadata": {
        "id": "69cf434a"
      },
      "outputs": [],
      "source": [
        "(prop.loc[:,'start_date'] == prop.loc[:,'created_on']).sum()"
      ]
    },
    {
      "cell_type": "code",
      "source": [
        "prop = prop.drop(columns=[\"created_on\"]) # por mas que sea un solo elemento, colocarlo como lista"
      ],
      "metadata": {
        "id": "WvM_mUe5stqh"
      },
      "id": "WvM_mUe5stqh",
      "execution_count": null,
      "outputs": []
    },
    {
      "cell_type": "code",
      "source": [
        "prop.shape"
      ],
      "metadata": {
        "id": "IzKdpjuFs3S4"
      },
      "id": "IzKdpjuFs3S4",
      "execution_count": null,
      "outputs": []
    },
    {
      "cell_type": "markdown",
      "id": "7e53fc57",
      "metadata": {
        "id": "7e53fc57"
      },
      "source": [
        "✅ **Vamos a analizar la columna ```ad_type```, que tipos de datos unicos tiene, si solo tiene un tipo de dato categorico eliminarla porque no aporta información...**"
      ]
    },
    {
      "cell_type": "code",
      "source": [
        "prop.ad_type.unique()"
      ],
      "metadata": {
        "id": "XWXykTCG2lAN"
      },
      "id": "XWXykTCG2lAN",
      "execution_count": null,
      "outputs": []
    },
    {
      "cell_type": "code",
      "execution_count": null,
      "id": "b30193f1",
      "metadata": {
        "id": "b30193f1"
      },
      "outputs": [],
      "source": [
        "prop.ad_type.value_counts()"
      ]
    },
    {
      "cell_type": "code",
      "source": [
        "prop = prop.drop(columns=[\"ad_type\"])"
      ],
      "metadata": {
        "id": "SCTVjfgVtLan"
      },
      "id": "SCTVjfgVtLan",
      "execution_count": null,
      "outputs": []
    },
    {
      "cell_type": "code",
      "source": [
        "prop.shape"
      ],
      "metadata": {
        "id": "Qe13fPpjtk-o"
      },
      "id": "Qe13fPpjtk-o",
      "execution_count": null,
      "outputs": []
    },
    {
      "cell_type": "code",
      "source": [
        "prop.info()"
      ],
      "metadata": {
        "id": "yo_39eUOM6E3"
      },
      "id": "yo_39eUOM6E3",
      "execution_count": null,
      "outputs": []
    },
    {
      "cell_type": "markdown",
      "source": [
        "## <font color=\"DeepPink\"> **Latitud y longitud**"
      ],
      "metadata": {
        "id": "uzxsAsS8F6zJ"
      },
      "id": "uzxsAsS8F6zJ"
    },
    {
      "cell_type": "markdown",
      "id": "3d20ff22",
      "metadata": {
        "id": "3d20ff22"
      },
      "source": [
        "✅ **Vamos a analizar la calidad de los datos en las columnas de lat y lon. Buscaremos posibles outliers o datos incorrectos, para eso calcula para Mendozas columnas: el promedio, el maximo y el minimo...**"
      ]
    },
    {
      "cell_type": "code",
      "execution_count": null,
      "id": "116fa060",
      "metadata": {
        "id": "116fa060"
      },
      "outputs": [],
      "source": [
        "round(prop.lat.describe(),2)"
      ]
    },
    {
      "cell_type": "code",
      "source": [
        "round(prop.lon.describe(),2)"
      ],
      "metadata": {
        "id": "0MZ7IHCWZR0R"
      },
      "id": "0MZ7IHCWZR0R",
      "execution_count": null,
      "outputs": []
    },
    {
      "cell_type": "code",
      "source": [
        "px.box(prop, y=\"lat\", template=\"gridon\")"
      ],
      "metadata": {
        "id": "cfYzxZZO3FbO"
      },
      "id": "cfYzxZZO3FbO",
      "execution_count": null,
      "outputs": []
    },
    {
      "cell_type": "code",
      "source": [
        "px.box(prop, y=\"lon\", template=\"gridon\")"
      ],
      "metadata": {
        "id": "vSC-wRV-3rss"
      },
      "id": "vSC-wRV-3rss",
      "execution_count": null,
      "outputs": []
    },
    {
      "cell_type": "markdown",
      "id": "87f32a7b",
      "metadata": {
        "id": "87f32a7b"
      },
      "source": [
        "✅ **Evidentemente hay ciertos puntos que son incorrectos, sus coordenadas caen fuera de la Provincia de Mendoza. Para eso buscamos cuales son los valores frontera para la latitud y longitud**\n",
        "\n",
        "✅ **Estimamos un segmentos de latitudes de [-34, -32] y longitudes de [-69 a -68]**\n",
        "\n",
        "✅ **Eliminar todo lo que este fuera de esos rangos (no eliminar valores NaN)**"
      ]
    },
    {
      "cell_type": "code",
      "execution_count": null,
      "id": "16ed77a5",
      "metadata": {
        "id": "16ed77a5"
      },
      "outputs": [],
      "source": [
        "prop = prop[prop.lat.between(-34, -32) & prop.lon.between(-69, -68)]"
      ]
    },
    {
      "cell_type": "code",
      "source": [
        "prop.shape"
      ],
      "metadata": {
        "id": "Z4p6xrN-sptf"
      },
      "id": "Z4p6xrN-sptf",
      "execution_count": null,
      "outputs": []
    },
    {
      "cell_type": "code",
      "source": [
        "round(prop.lat.describe(),2)"
      ],
      "metadata": {
        "id": "C_Y3wEftbybl"
      },
      "id": "C_Y3wEftbybl",
      "execution_count": null,
      "outputs": []
    },
    {
      "cell_type": "code",
      "source": [
        "round(prop.lon.describe(),2)"
      ],
      "metadata": {
        "id": "FR80JjzAcD7G"
      },
      "id": "FR80JjzAcD7G",
      "execution_count": null,
      "outputs": []
    },
    {
      "cell_type": "code",
      "source": [
        "px.box(prop, y=\"lat\", template=\"gridon\")"
      ],
      "metadata": {
        "id": "CmryQ76v4Qf-"
      },
      "id": "CmryQ76v4Qf-",
      "execution_count": null,
      "outputs": []
    },
    {
      "cell_type": "code",
      "source": [
        "px.box(prop, y=\"lon\", template=\"gridon\")"
      ],
      "metadata": {
        "id": "D8VVwRbd4WqB"
      },
      "id": "D8VVwRbd4WqB",
      "execution_count": null,
      "outputs": []
    },
    {
      "cell_type": "markdown",
      "source": [
        "## <font color=\"DeepPink\">**Otras tareas puntuales de limpieza...**"
      ],
      "metadata": {
        "id": "D2GncUg-5TwW"
      },
      "id": "D2GncUg-5TwW"
    },
    {
      "cell_type": "markdown",
      "id": "9eba570e",
      "metadata": {
        "id": "9eba570e"
      },
      "source": [
        "✅ **Vamos a eliminar los NaN de la columna l3**"
      ]
    },
    {
      "cell_type": "code",
      "execution_count": null,
      "id": "ee1e510a",
      "metadata": {
        "id": "ee1e510a"
      },
      "outputs": [],
      "source": [
        "prop.isna().sum().sort_values(ascending = False)"
      ]
    },
    {
      "cell_type": "code",
      "source": [
        "round((prop.isna().sum()*100/prop.shape[0]),2).sort_values(ascending = False)"
      ],
      "metadata": {
        "id": "m5-XDO8tdS75"
      },
      "id": "m5-XDO8tdS75",
      "execution_count": null,
      "outputs": []
    },
    {
      "cell_type": "code",
      "source": [
        "prop.shape"
      ],
      "metadata": {
        "id": "hc1glC0NQwEB"
      },
      "id": "hc1glC0NQwEB",
      "execution_count": null,
      "outputs": []
    },
    {
      "cell_type": "code",
      "source": [
        "# Eliminar una columna\n",
        "prop.dropna(subset=[\"l3\"], inplace = True)"
      ],
      "metadata": {
        "id": "nHMevBamc0Zt"
      },
      "id": "nHMevBamc0Zt",
      "execution_count": null,
      "outputs": []
    },
    {
      "cell_type": "code",
      "source": [
        "prop.shape"
      ],
      "metadata": {
        "id": "rVl0BhhCtfVF"
      },
      "id": "rVl0BhhCtfVF",
      "execution_count": null,
      "outputs": []
    },
    {
      "cell_type": "code",
      "source": [
        "6301-777"
      ],
      "metadata": {
        "id": "SxbTP431Q4tG"
      },
      "id": "SxbTP431Q4tG",
      "execution_count": null,
      "outputs": []
    },
    {
      "cell_type": "markdown",
      "id": "2f583013",
      "metadata": {
        "id": "2f583013"
      },
      "source": [
        "✅ **Volvemos a ver el porcentaje de nulos de cada columna...**"
      ]
    },
    {
      "cell_type": "code",
      "execution_count": null,
      "id": "0f2da68b",
      "metadata": {
        "id": "0f2da68b"
      },
      "outputs": [],
      "source": [
        "round((prop.isna().sum()*100/prop.shape[0]),2).sort_values(ascending = False)"
      ]
    },
    {
      "cell_type": "markdown",
      "id": "47fb5b49",
      "metadata": {
        "id": "47fb5b49"
      },
      "source": [
        "✅ **Veamos los valores unicos de la columna ```property_type```**"
      ]
    },
    {
      "cell_type": "code",
      "execution_count": null,
      "id": "044b4d81",
      "metadata": {
        "id": "044b4d81"
      },
      "outputs": [],
      "source": [
        "prop.property_type.unique()"
      ]
    },
    {
      "cell_type": "code",
      "source": [
        "prop.property_type.value_counts()"
      ],
      "metadata": {
        "id": "WAR7zrjT6TII"
      },
      "id": "WAR7zrjT6TII",
      "execution_count": null,
      "outputs": []
    },
    {
      "cell_type": "markdown",
      "id": "661f9634",
      "metadata": {
        "id": "661f9634"
      },
      "source": [
        "✅ **La columna se ve bien, hacemos lo mismo con ```operation_type```**"
      ]
    },
    {
      "cell_type": "code",
      "execution_count": null,
      "id": "2ab77001",
      "metadata": {
        "id": "2ab77001"
      },
      "outputs": [],
      "source": [
        "prop.operation_type.unique()"
      ]
    },
    {
      "cell_type": "code",
      "source": [
        "prop.operation_type.value_counts()"
      ],
      "metadata": {
        "id": "qqCNGTcC6jw8"
      },
      "id": "qqCNGTcC6jw8",
      "execution_count": null,
      "outputs": []
    },
    {
      "cell_type": "markdown",
      "id": "ad8b991b",
      "metadata": {
        "id": "ad8b991b"
      },
      "source": [
        "✅ **La columna se ve bien. Nos quedan price, currency, bathrooms y rooms.**\n",
        "\n",
        "✅ **Vamos a currency, veamos los valores unicos de esta columna...**"
      ]
    },
    {
      "cell_type": "code",
      "execution_count": null,
      "id": "76faf2c0",
      "metadata": {
        "id": "76faf2c0"
      },
      "outputs": [],
      "source": [
        "prop.currency.unique()"
      ]
    },
    {
      "cell_type": "code",
      "source": [
        "prop.currency.value_counts()"
      ],
      "metadata": {
        "id": "PQkqkaxbRXXN"
      },
      "id": "PQkqkaxbRXXN",
      "execution_count": null,
      "outputs": []
    },
    {
      "cell_type": "markdown",
      "id": "22b47d75",
      "metadata": {
        "id": "22b47d75"
      },
      "source": [
        "✅ **Tenemos el peso argentino y el dolar. Veamos los registros con NaN.**"
      ]
    },
    {
      "cell_type": "code",
      "execution_count": null,
      "id": "afe4d858",
      "metadata": {
        "id": "afe4d858"
      },
      "outputs": [],
      "source": [
        "prop[(prop.currency != \"ARS\") & (prop.currency != \"USD\")]"
      ]
    },
    {
      "cell_type": "markdown",
      "id": "1a699d94",
      "metadata": {
        "id": "1a699d94"
      },
      "source": [
        "✅ **Decidimos eliminar los registros con NaN de la columna currency.**"
      ]
    },
    {
      "cell_type": "code",
      "execution_count": null,
      "id": "c73a4908",
      "metadata": {
        "id": "c73a4908"
      },
      "outputs": [],
      "source": [
        "prop.dropna(subset=[\"currency\"], inplace = True)"
      ]
    },
    {
      "cell_type": "code",
      "source": [
        "prop.currency.unique()"
      ],
      "metadata": {
        "id": "CL0mm7dRHheQ"
      },
      "id": "CL0mm7dRHheQ",
      "execution_count": null,
      "outputs": []
    },
    {
      "cell_type": "code",
      "source": [
        "prop.shape"
      ],
      "metadata": {
        "id": "3d9oXgM3t3L7"
      },
      "id": "3d9oXgM3t3L7",
      "execution_count": null,
      "outputs": []
    },
    {
      "cell_type": "code",
      "source": [
        "prop.currency.value_counts()"
      ],
      "metadata": {
        "id": "1FMTfAVnR2VL"
      },
      "id": "1FMTfAVnR2VL",
      "execution_count": null,
      "outputs": []
    },
    {
      "cell_type": "markdown",
      "id": "bebf4f8e",
      "metadata": {
        "id": "bebf4f8e"
      },
      "source": [
        "✅ **Volvemos a analizar el porcentaje de NaN de cada columna.**"
      ]
    },
    {
      "cell_type": "code",
      "execution_count": null,
      "id": "0095cc40",
      "metadata": {
        "scrolled": true,
        "id": "0095cc40"
      },
      "outputs": [],
      "source": [
        "round((prop.isna().sum()*100/prop.shape[0]),2).sort_values(ascending = False)"
      ]
    },
    {
      "cell_type": "markdown",
      "id": "e301f86c",
      "metadata": {
        "id": "e301f86c"
      },
      "source": [
        "✅ **Ahora vamos a crear una nueva columna llamada precio con el valor de las propiedades en dolares. Utilizar estas cotizaciones**\n",
        "\n",
        "1 dolar = $ 1280 pesos argentinos"
      ]
    },
    {
      "cell_type": "code",
      "source": [
        "cotizacion = 1280"
      ],
      "metadata": {
        "id": "39zQjbv-So-q"
      },
      "id": "39zQjbv-So-q",
      "execution_count": null,
      "outputs": []
    },
    {
      "cell_type": "code",
      "execution_count": null,
      "id": "071c6155",
      "metadata": {
        "id": "071c6155"
      },
      "outputs": [],
      "source": [
        "prop.currency.unique()"
      ]
    },
    {
      "cell_type": "code",
      "source": [
        "condicion = [(prop.currency == \"ARS\"),\n",
        "             (prop.currency == \"USD\")]"
      ],
      "metadata": {
        "id": "MZYi_xz08KeK"
      },
      "id": "MZYi_xz08KeK",
      "execution_count": null,
      "outputs": []
    },
    {
      "cell_type": "code",
      "source": [
        "eleccion = [(prop.price / cotizacion), (prop.price)]"
      ],
      "metadata": {
        "id": "jMlzGHxI8f2N"
      },
      "id": "jMlzGHxI8f2N",
      "execution_count": null,
      "outputs": []
    },
    {
      "cell_type": "code",
      "source": [
        "prop[\"precio\"] = np.select(condicion, eleccion)"
      ],
      "metadata": {
        "id": "X8WRoWyp8wl8"
      },
      "id": "X8WRoWyp8wl8",
      "execution_count": null,
      "outputs": []
    },
    {
      "cell_type": "code",
      "source": [
        "prop.shape"
      ],
      "metadata": {
        "id": "JAYX82wGmMy1"
      },
      "id": "JAYX82wGmMy1",
      "execution_count": null,
      "outputs": []
    },
    {
      "cell_type": "markdown",
      "source": [
        "## <font color=\"DeepPink\"> **Alquiler y Alquiler temporal**"
      ],
      "metadata": {
        "id": "Qxf2-NcZH4yy"
      },
      "id": "Qxf2-NcZH4yy"
    },
    {
      "cell_type": "markdown",
      "id": "c7bfbe47",
      "metadata": {
        "id": "c7bfbe47"
      },
      "source": [
        "✅ **Vamos a centrar el analisis en Venta, eliminamos los registros de Alquiler y Alquiler temporal...**"
      ]
    },
    {
      "cell_type": "code",
      "execution_count": null,
      "id": "4d2f8a44",
      "metadata": {
        "id": "4d2f8a44"
      },
      "outputs": [],
      "source": [
        "prop.operation_type.unique()"
      ]
    },
    {
      "cell_type": "code",
      "source": [
        "prop = prop.query(\"operation_type == 'Venta'\")"
      ],
      "metadata": {
        "id": "5BTjRQz29Wtl"
      },
      "id": "5BTjRQz29Wtl",
      "execution_count": null,
      "outputs": []
    },
    {
      "cell_type": "code",
      "source": [
        "prop.operation_type.unique()"
      ],
      "metadata": {
        "id": "ANRijyson_oa"
      },
      "id": "ANRijyson_oa",
      "execution_count": null,
      "outputs": []
    },
    {
      "cell_type": "code",
      "source": [
        "prop.shape"
      ],
      "metadata": {
        "id": "XZp3rW7Fn1cp"
      },
      "id": "XZp3rW7Fn1cp",
      "execution_count": null,
      "outputs": []
    },
    {
      "cell_type": "markdown",
      "source": [
        "## <font color=\"DeepPink\"> **Precios de las propiedades**"
      ],
      "metadata": {
        "id": "K9id7zD7-RX9"
      },
      "id": "K9id7zD7-RX9"
    },
    {
      "cell_type": "markdown",
      "id": "21e1b4b9",
      "metadata": {
        "id": "21e1b4b9"
      },
      "source": [
        "✅ **Ordenar por la columna precio de forma tanto ascendente como descendente y ver los registros mas caros y mas baratos para buscar posibles datos incorrectos...**"
      ]
    },
    {
      "cell_type": "code",
      "execution_count": null,
      "id": "b01eb0f1",
      "metadata": {
        "id": "b01eb0f1"
      },
      "outputs": [],
      "source": [
        "prop.sort_values(by=[\"precio\"], ascending=False)"
      ]
    },
    {
      "cell_type": "code",
      "source": [
        "prop.sort_values(by=[\"precio\"], ascending=True)"
      ],
      "metadata": {
        "id": "6Gx6vNPt92x0"
      },
      "id": "6Gx6vNPt92x0",
      "execution_count": null,
      "outputs": []
    },
    {
      "cell_type": "markdown",
      "source": [
        "## <font color=\"DeepPink\"> **Registros entre 20000 dolares o 120000**"
      ],
      "metadata": {
        "id": "gXZ7Cwu5Ibp-"
      },
      "id": "gXZ7Cwu5Ibp-"
    },
    {
      "cell_type": "code",
      "source": [
        "precio_describe = round(prop.precio.describe(),2)"
      ],
      "metadata": {
        "id": "fyyjL6TqQDeS"
      },
      "id": "fyyjL6TqQDeS",
      "execution_count": null,
      "outputs": []
    },
    {
      "cell_type": "code",
      "source": [
        "precio_describe"
      ],
      "metadata": {
        "id": "uBiTI7atQJ9i"
      },
      "id": "uBiTI7atQJ9i",
      "execution_count": null,
      "outputs": []
    },
    {
      "cell_type": "code",
      "source": [
        "precio_describe[\"25%\"]"
      ],
      "metadata": {
        "id": "P25tesCkQOYm"
      },
      "id": "P25tesCkQOYm",
      "execution_count": null,
      "outputs": []
    },
    {
      "cell_type": "code",
      "source": [
        "precio_describe[\"75%\"]"
      ],
      "metadata": {
        "id": "Lt4JAJP9QTnW"
      },
      "id": "Lt4JAJP9QTnW",
      "execution_count": null,
      "outputs": []
    },
    {
      "cell_type": "markdown",
      "id": "3cdfdbe6",
      "metadata": {
        "id": "3cdfdbe6"
      },
      "source": [
        "✅ **Eliminar los registros cuyo precio sea inferior a 20000 dolares o mayor a 120000 dolares...**"
      ]
    },
    {
      "cell_type": "code",
      "source": [
        "prop.shape"
      ],
      "metadata": {
        "id": "eggcQYhl_AX-"
      },
      "id": "eggcQYhl_AX-",
      "execution_count": null,
      "outputs": []
    },
    {
      "cell_type": "code",
      "source": [
        "prop = prop[~((prop.precio <= precio_describe[\"25%\"]) | (prop.precio >= precio_describe[\"75%\"]))]"
      ],
      "metadata": {
        "id": "LN9dvvzenLmz"
      },
      "id": "LN9dvvzenLmz",
      "execution_count": null,
      "outputs": []
    },
    {
      "cell_type": "code",
      "source": [
        "prop.shape"
      ],
      "metadata": {
        "id": "UrELgrFv_IYi"
      },
      "id": "UrELgrFv_IYi",
      "execution_count": null,
      "outputs": []
    },
    {
      "cell_type": "code",
      "source": [
        "prop.precio.describe()"
      ],
      "metadata": {
        "id": "WxaNN_EeUzAY"
      },
      "id": "WxaNN_EeUzAY",
      "execution_count": null,
      "outputs": []
    },
    {
      "cell_type": "markdown",
      "source": [
        "## <font color=\"DeepPink\"> **Analizando otras variables...**"
      ],
      "metadata": {
        "id": "tA7OugOv_H-k"
      },
      "id": "tA7OugOv_H-k"
    },
    {
      "cell_type": "markdown",
      "id": "d7932dd9",
      "metadata": {
        "id": "d7932dd9"
      },
      "source": [
        "✅ **Vamos ahora a la columna bathrooms, eliminamos los registros cuyo valor en bathrooms sea mayor al de rooms + 1**"
      ]
    },
    {
      "cell_type": "code",
      "source": [
        "prop.rooms.unique()"
      ],
      "metadata": {
        "id": "uBToxUjLC6N3"
      },
      "id": "uBToxUjLC6N3",
      "execution_count": null,
      "outputs": []
    },
    {
      "cell_type": "code",
      "execution_count": null,
      "id": "e63b97c9",
      "metadata": {
        "id": "e63b97c9"
      },
      "outputs": [],
      "source": [
        "prop.bathrooms.unique()"
      ]
    },
    {
      "cell_type": "code",
      "source": [
        "prop = prop[~(prop.bathrooms > (prop.rooms + 1))]"
      ],
      "metadata": {
        "id": "cEfEJ0EuDETZ"
      },
      "id": "cEfEJ0EuDETZ",
      "execution_count": null,
      "outputs": []
    },
    {
      "cell_type": "code",
      "source": [
        "prop.shape"
      ],
      "metadata": {
        "id": "ydNsiFvJFHIg"
      },
      "id": "ydNsiFvJFHIg",
      "execution_count": null,
      "outputs": []
    },
    {
      "cell_type": "markdown",
      "id": "0eb97f4f",
      "metadata": {
        "id": "0eb97f4f"
      },
      "source": [
        "✅ **Ordenar el dataset por la cantidad de baños tanto ascendente como de forma descendente para ver posibles registros incorrectos...**"
      ]
    },
    {
      "cell_type": "code",
      "execution_count": null,
      "id": "99d48de8",
      "metadata": {
        "id": "99d48de8"
      },
      "outputs": [],
      "source": [
        "prop.sort_values(by=[\"bathrooms\"], ascending=False)"
      ]
    },
    {
      "cell_type": "code",
      "source": [
        "prop.sort_values(by=[\"bathrooms\"], ascending=True)"
      ],
      "metadata": {
        "id": "2wR7ZZtHPvIe"
      },
      "id": "2wR7ZZtHPvIe",
      "execution_count": null,
      "outputs": []
    },
    {
      "cell_type": "markdown",
      "id": "2b6f1cd1",
      "metadata": {
        "id": "2b6f1cd1"
      },
      "source": [
        "✅ **Eliminar los registros que tengan mas de $6$ baños o mas de $10$ habitaciones...**"
      ]
    },
    {
      "cell_type": "code",
      "source": [
        "prop.shape"
      ],
      "metadata": {
        "id": "qQSv5Bg7Qfs8"
      },
      "id": "qQSv5Bg7Qfs8",
      "execution_count": null,
      "outputs": []
    },
    {
      "cell_type": "code",
      "execution_count": null,
      "id": "b78acd68",
      "metadata": {
        "id": "b78acd68"
      },
      "outputs": [],
      "source": [
        "prop = prop.loc[~((prop.bathrooms > 6) | (prop.rooms > 10)),:]"
      ]
    },
    {
      "cell_type": "markdown",
      "id": "e9d2167f",
      "metadata": {
        "id": "e9d2167f"
      },
      "source": [
        "✅ **Eliminar la columna ```price``` y ```currency```, ya que vamos a utilizar la columna precio...**"
      ]
    },
    {
      "cell_type": "code",
      "execution_count": null,
      "id": "07f1e1f0",
      "metadata": {
        "id": "07f1e1f0"
      },
      "outputs": [],
      "source": [
        "prop = prop.drop(columns=[\"price\", \"currency\"])"
      ]
    },
    {
      "cell_type": "code",
      "source": [
        "prop.shape"
      ],
      "metadata": {
        "id": "MIR4H6ZcQsXc"
      },
      "id": "MIR4H6ZcQsXc",
      "execution_count": null,
      "outputs": []
    },
    {
      "cell_type": "markdown",
      "source": [
        "## <font color=\"DeepPink\"> **Rellenando valores faltantes**\n"
      ],
      "metadata": {
        "id": "QiQjjpgZ4kx7"
      },
      "id": "QiQjjpgZ4kx7"
    },
    {
      "cell_type": "markdown",
      "id": "483867c9",
      "metadata": {
        "id": "483867c9"
      },
      "source": [
        "✅ **Rellenar los NaN de bathrooms con la mediana de la columna bathrooms, hacer lo mismo con la columna rooms con la mediana de la columna rooms...**"
      ]
    },
    {
      "cell_type": "code",
      "source": [
        "prop.bathrooms.unique()"
      ],
      "metadata": {
        "id": "TlxxDms4GxFI"
      },
      "id": "TlxxDms4GxFI",
      "execution_count": null,
      "outputs": []
    },
    {
      "cell_type": "code",
      "execution_count": null,
      "id": "f0ef4792",
      "metadata": {
        "id": "f0ef4792"
      },
      "outputs": [],
      "source": [
        "median_bathrooms = prop.bathrooms.median()"
      ]
    },
    {
      "cell_type": "code",
      "source": [
        "median_rooms = prop.rooms.median()"
      ],
      "metadata": {
        "id": "ntK4uk6JWCXR"
      },
      "id": "ntK4uk6JWCXR",
      "execution_count": null,
      "outputs": []
    },
    {
      "cell_type": "code",
      "source": [
        "prop.bathrooms.fillna(value=median_bathrooms, inplace = True)\n",
        "prop.rooms.fillna(value=median_rooms, inplace = True)"
      ],
      "metadata": {
        "id": "ptn6kCmcWSWH"
      },
      "id": "ptn6kCmcWSWH",
      "execution_count": null,
      "outputs": []
    },
    {
      "cell_type": "code",
      "source": [
        "prop.bathrooms = prop.bathrooms.astype(int)\n",
        "prop.rooms = prop.rooms.astype(int)"
      ],
      "metadata": {
        "id": "87QZkNDdQeXq"
      },
      "id": "87QZkNDdQeXq",
      "execution_count": null,
      "outputs": []
    },
    {
      "cell_type": "code",
      "source": [
        "prop.info()"
      ],
      "metadata": {
        "id": "UV7Zy0ROXTMR"
      },
      "id": "UV7Zy0ROXTMR",
      "execution_count": null,
      "outputs": []
    },
    {
      "cell_type": "markdown",
      "id": "de837883",
      "metadata": {
        "id": "de837883"
      },
      "source": [
        "✅ **Volvemos a analizar el porcentaje de NaN de cada columna. No deberia de existir ningun NaN en nuestro dataframe...**"
      ]
    },
    {
      "cell_type": "code",
      "execution_count": null,
      "id": "01c58003",
      "metadata": {
        "id": "01c58003"
      },
      "outputs": [],
      "source": [
        "round((prop.isna().sum()*100/prop.shape[0]),2).sort_values(ascending = False)"
      ]
    },
    {
      "cell_type": "code",
      "source": [
        "prop.shape"
      ],
      "metadata": {
        "id": "Op1ngcqSW0uw"
      },
      "id": "Op1ngcqSW0uw",
      "execution_count": null,
      "outputs": []
    },
    {
      "cell_type": "markdown",
      "id": "5673d40a",
      "metadata": {
        "id": "5673d40a"
      },
      "source": [
        "✅ **Parece ser que el formato se encuentra correcto, vamos a aplicar una pequeña comprobacion logica: la fecha start_date puede ser igual o menor que end_date, nunca mayor. Si ocurre esto, eliminar los registros que contienen estos errores.**"
      ]
    },
    {
      "cell_type": "code",
      "execution_count": null,
      "id": "a17237ca",
      "metadata": {
        "id": "a17237ca"
      },
      "outputs": [],
      "source": [
        "prop[(prop.start_date <= prop.end_date)]"
      ]
    },
    {
      "cell_type": "markdown",
      "id": "9dff95a8",
      "metadata": {
        "id": "9dff95a8"
      },
      "source": [
        "✅ **Vamos a pasar las columnas start_date y end_date, que son strings, a formato datetime. Recorda que el formato de fecha que tenemos en nuestras columnas de fecha es %Y/%m/%d**"
      ]
    },
    {
      "cell_type": "code",
      "source": [
        "prop.info()"
      ],
      "metadata": {
        "id": "SfIdN-8nHzR4"
      },
      "id": "SfIdN-8nHzR4",
      "execution_count": null,
      "outputs": []
    },
    {
      "cell_type": "code",
      "execution_count": null,
      "id": "a1f4dc01",
      "metadata": {
        "id": "a1f4dc01"
      },
      "outputs": [],
      "source": [
        "prop.start_date = pd.to_datetime(prop[\"start_date\"], format = \"mixed\")"
      ]
    },
    {
      "cell_type": "code",
      "source": [
        "prop.end_date = pd.to_datetime(prop[\"end_date\"], format = \"mixed\")"
      ],
      "metadata": {
        "id": "J4LLDjIPZIU0"
      },
      "id": "J4LLDjIPZIU0",
      "execution_count": null,
      "outputs": []
    },
    {
      "cell_type": "markdown",
      "id": "4929e316",
      "metadata": {
        "id": "4929e316"
      },
      "source": [
        "⏰ **Al tratar de pasar la columna end_date a datetime nos sale un error, hay un registro que lo esta causando, investigar que registro causa este error...**"
      ]
    },
    {
      "cell_type": "markdown",
      "id": "91bb3750",
      "metadata": {
        "id": "91bb3750"
      },
      "source": [
        "**Hay muchos registros que tienen como end_date 9999-12-31, como la documentacion es de mala calidad, la misma no especifica que significa que el end_date tenga este valor, pero aplicando un poco de sentido comun deducimos que los registros que tienen esta fecha significa que el aviso no se dio de baja, por lo cual no se vendio.**\n",
        "\n",
        "✅ **Cambiar los registros con esta fecha, cambiandola a la fecha de la primera publicacion de python por parte de Guido van Rossum: 1991-02-20**.\n",
        "\n",
        "✅ **Los registros con esta fecha seran los que aun no se vendieron.**"
      ]
    },
    {
      "cell_type": "code",
      "execution_count": null,
      "id": "c029425f",
      "metadata": {
        "id": "c029425f"
      },
      "outputs": [],
      "source": [
        "prop['end_date'].replace('9999-12-31', '1991-02-20', inplace=True)"
      ]
    },
    {
      "cell_type": "markdown",
      "id": "99b95e37",
      "metadata": {
        "id": "99b95e37"
      },
      "source": [
        "✅ **Ahora si pasar la columna end_date a datetime...**"
      ]
    },
    {
      "cell_type": "code",
      "execution_count": null,
      "id": "909791e0",
      "metadata": {
        "id": "909791e0"
      },
      "outputs": [],
      "source": [
        "prop.end_date = pd.to_datetime(prop[\"end_date\"], format = \"mixed\")"
      ]
    },
    {
      "cell_type": "code",
      "source": [
        "prop.info()"
      ],
      "metadata": {
        "id": "X2BO_tk-sJPG"
      },
      "id": "X2BO_tk-sJPG",
      "execution_count": null,
      "outputs": []
    },
    {
      "cell_type": "markdown",
      "id": "4d758ab6",
      "metadata": {
        "id": "4d758ab6"
      },
      "source": [
        "✅ **Vamos a cambiar el nombre de las columnas de la siguiente manera:...**\n",
        "\n",
        "- start_date => inicio\n",
        "- end_date => fin\n",
        "- lat => lat\n",
        "- lon => lon\n",
        "- l2 => zona\n",
        "- l3 => departamento\n",
        "- rooms => ambientes\n",
        "- bathrooms => baños\n",
        "- property_type => tipo\n",
        "- operation_type => operacion\n",
        "- precio => precio\n"
      ]
    },
    {
      "cell_type": "code",
      "execution_count": null,
      "id": "6926d9f3",
      "metadata": {
        "id": "6926d9f3"
      },
      "outputs": [],
      "source": [
        "columnas = ['Inicio',\n",
        "           'Fin',\n",
        "           'Lat',\n",
        "           'Lon',\n",
        "           'Zona',\n",
        "           'Departamento',\n",
        "           'Ambientes',\n",
        "           'Baños',\n",
        "           'Tipo',\n",
        "           'Operacion',\n",
        "           'Precio']"
      ]
    },
    {
      "cell_type": "code",
      "source": [
        "prop.columns = columnas"
      ],
      "metadata": {
        "id": "I4wkyxQ2s64X"
      },
      "id": "I4wkyxQ2s64X",
      "execution_count": null,
      "outputs": []
    },
    {
      "cell_type": "code",
      "source": [
        "prop.head(3)"
      ],
      "metadata": {
        "id": "mabIUoA2tCD-"
      },
      "id": "mabIUoA2tCD-",
      "execution_count": null,
      "outputs": []
    },
    {
      "cell_type": "markdown",
      "id": "118e13d8",
      "metadata": {
        "id": "118e13d8"
      },
      "source": [
        "✅ **Por ultimo, reinicia el indice...**"
      ]
    },
    {
      "cell_type": "code",
      "execution_count": null,
      "id": "50a8eb9f",
      "metadata": {
        "id": "50a8eb9f"
      },
      "outputs": [],
      "source": [
        "prop.reset_index(drop=True, inplace=True)\n",
        "prop.head(5)"
      ]
    },
    {
      "cell_type": "code",
      "source": [
        "prop.shape"
      ],
      "metadata": {
        "id": "XtElx8sutsO-"
      },
      "id": "XtElx8sutsO-",
      "execution_count": null,
      "outputs": []
    },
    {
      "cell_type": "markdown",
      "id": "19ee256f-503a-42fa-9621-bc3318161eb5",
      "metadata": {
        "id": "19ee256f-503a-42fa-9621-bc3318161eb5"
      },
      "source": [
        "#<font color=\"DeepPink\"> **Análisis gráfico de los Datos**"
      ]
    },
    {
      "cell_type": "markdown",
      "id": "85806571",
      "metadata": {
        "id": "85806571"
      },
      "source": [
        "✅ **El dueño de la inmobiliaria donde pertencemos no sabe lo que quiere, tampoco entiende que datos interesantes podriamos sacar de este dataset.**\n",
        "\n",
        "**Por eso nuestro objetivo es encontrar posibles datos curiosos sobre el mismo. Algunos ejemplos de datos curiosos podrian ser:**\n",
        "\n",
        "- cantidad de propiedades por Departamento\n",
        "- media de precios por Departamento\n",
        "- media de precios por Departamento\n",
        "- promedio de precio por tipo de propiedad\n",
        "- cantidad de ventas\n",
        "- cualquier cosa que te parezca interesante\n",
        "\n",
        "\n"
      ]
    },
    {
      "cell_type": "code",
      "source": [
        "prop.columns"
      ],
      "metadata": {
        "id": "ZG0Uc-qWK4g0"
      },
      "id": "ZG0Uc-qWK4g0",
      "execution_count": null,
      "outputs": []
    },
    {
      "cell_type": "code",
      "source": [
        "prop.head(3)"
      ],
      "metadata": {
        "id": "4YqeZ-xGLg5u"
      },
      "id": "4YqeZ-xGLg5u",
      "execution_count": null,
      "outputs": []
    },
    {
      "cell_type": "markdown",
      "source": [
        "##<font color=\"DeepPink\"> **Gráfico de Dispersión Geográfico**"
      ],
      "metadata": {
        "id": "8r5XgOzeTjd0"
      },
      "id": "8r5XgOzeTjd0"
    },
    {
      "cell_type": "markdown",
      "source": [
        "###<font color=\"DeepPink\"> **Todas las propiedades**"
      ],
      "metadata": {
        "id": "zW1kDcGYYcFF"
      },
      "id": "zW1kDcGYYcFF"
    },
    {
      "cell_type": "code",
      "source": [
        "px.scatter_mapbox(prop,\n",
        "                  title=\"Todas las propiedades\",\n",
        "                  lat=\"Lat\",\n",
        "                  lon=\"Lon\",\n",
        "                  color=\"Precio\",\n",
        "                  size=\"Precio\",\n",
        "                  template=\"gridon\",\n",
        "                  ).update_layout(mapbox_style=\"open-street-map\")"
      ],
      "metadata": {
        "id": "DfpRRif1ZBht"
      },
      "id": "DfpRRif1ZBht",
      "execution_count": null,
      "outputs": []
    },
    {
      "cell_type": "code",
      "source": [
        "fig = px.scatter_mapbox(prop,\n",
        "                        title=\"Todas las propiedades\",\n",
        "                        lat=\"Lat\",\n",
        "                        lon=\"Lon\",\n",
        "                        color=\"Precio\",\n",
        "                        size=\"Precio\",\n",
        "                        template=\"gridon\",\n",
        "                        )\n",
        "\n",
        "fig.update_layout(mapbox_style=\"open-street-map\")\n",
        "fig.show()"
      ],
      "metadata": {
        "id": "NqEkB-tSKh0y"
      },
      "id": "NqEkB-tSKh0y",
      "execution_count": null,
      "outputs": []
    },
    {
      "cell_type": "code",
      "source": [
        "fig = px.scatter_mapbox(prop,\n",
        "                        title=\"Todas las propiedades\",\n",
        "                        lat=\"Lat\",\n",
        "                        lon=\"Lon\",\n",
        "                        color=\"Tipo\",\n",
        "                        size=\"Precio\",\n",
        "                        template=\"gridon\",\n",
        "                        )\n",
        "\n",
        "fig.update_layout(mapbox_style=\"open-street-map\")\n",
        "fig.show()"
      ],
      "metadata": {
        "id": "4JleeAAilVU8"
      },
      "id": "4JleeAAilVU8",
      "execution_count": null,
      "outputs": []
    },
    {
      "cell_type": "markdown",
      "source": [
        "###<font color=\"DeepPink\"> **Propiedades Casas**"
      ],
      "metadata": {
        "id": "0litdJZuYjKs"
      },
      "id": "0litdJZuYjKs"
    },
    {
      "cell_type": "code",
      "source": [
        "prop.query(\"Tipo == 'Casa'\").head(3)"
      ],
      "metadata": {
        "id": "UobVWkPzVE3o"
      },
      "id": "UobVWkPzVE3o",
      "execution_count": null,
      "outputs": []
    },
    {
      "cell_type": "code",
      "source": [
        "prop.query(\"Tipo == 'Casa'\").shape"
      ],
      "metadata": {
        "id": "qWu2EZz9a-pK"
      },
      "id": "qWu2EZz9a-pK",
      "execution_count": null,
      "outputs": []
    },
    {
      "cell_type": "code",
      "source": [
        "fig = px.scatter_mapbox(prop.query(\"Tipo == 'Casa'\"),\n",
        "                        title=\"Todas las Casas\",\n",
        "                        lat=\"Lat\",\n",
        "                        lon=\"Lon\",\n",
        "                        color=\"Precio\",\n",
        "                        size=\"Precio\",\n",
        "                        template=\"gridon\"\n",
        "                        )\n",
        "\n",
        "fig.update_layout(mapbox_style=\"open-street-map\")\n",
        "fig.show()"
      ],
      "metadata": {
        "id": "Vxh1CWA8VCqC"
      },
      "id": "Vxh1CWA8VCqC",
      "execution_count": null,
      "outputs": []
    },
    {
      "cell_type": "markdown",
      "source": [
        "##<font color=\"DeepPink\"> **Histograma**"
      ],
      "metadata": {
        "id": "n5-yFJugYrUd"
      },
      "id": "n5-yFJugYrUd"
    },
    {
      "cell_type": "code",
      "source": [
        "prop.columns"
      ],
      "metadata": {
        "id": "p_YfQmS_itVt"
      },
      "id": "p_YfQmS_itVt",
      "execution_count": null,
      "outputs": []
    },
    {
      "cell_type": "markdown",
      "source": [
        "###<font color=\"DeepPink\"> **Cantidad de Ambientes**"
      ],
      "metadata": {
        "id": "v7FD-N6GT-hd"
      },
      "id": "v7FD-N6GT-hd"
    },
    {
      "cell_type": "code",
      "source": [
        "fig = px.histogram(prop.Ambientes.sort_values(),\n",
        "                   x=\"Ambientes\",\n",
        "                   color=\"Ambientes\",\n",
        "                   text_auto=True,\n",
        "                   title=\"Cantidad de Ambientes\",\n",
        "                   template=\"gridon\").update_layout(bargap=0.2)\n",
        "\n",
        "fig.show()"
      ],
      "metadata": {
        "id": "ys13SO18YyjX"
      },
      "id": "ys13SO18YyjX",
      "execution_count": null,
      "outputs": []
    },
    {
      "cell_type": "markdown",
      "source": [
        "###<font color=\"DeepPink\"> **Cantidad de Baños**"
      ],
      "metadata": {
        "id": "KTHYTpKEUGs8"
      },
      "id": "KTHYTpKEUGs8"
    },
    {
      "cell_type": "code",
      "source": [
        "fig = px.histogram(prop.Baños.sort_values(),\n",
        "                   x=\"Baños\",\n",
        "                   color=\"Baños\",\n",
        "                   text_auto=True,\n",
        "                   title=\"Cantidad de Baños\",\n",
        "                   template=\"gridon\").update_layout(bargap=0.2)\n",
        "\n",
        "fig.show()"
      ],
      "metadata": {
        "id": "yioTIeytTgg3"
      },
      "id": "yioTIeytTgg3",
      "execution_count": null,
      "outputs": []
    },
    {
      "cell_type": "markdown",
      "source": [
        "###<font color=\"DeepPink\"> **Tipo de Propiedades**"
      ],
      "metadata": {
        "id": "5jztQiMTjCCq"
      },
      "id": "5jztQiMTjCCq"
    },
    {
      "cell_type": "code",
      "source": [
        "fig = px.histogram(prop.Tipo,\n",
        "                   x=\"Tipo\",\n",
        "                   color=\"Tipo\",\n",
        "                   text_auto=True,\n",
        "                   title=\"Tipo de Propiedades\",\n",
        "                   template=\"gridon\").update_layout(bargap=0.2)\n",
        "\n",
        "fig.show()"
      ],
      "metadata": {
        "id": "jdH_MqYzi2x8"
      },
      "id": "jdH_MqYzi2x8",
      "execution_count": null,
      "outputs": []
    },
    {
      "cell_type": "markdown",
      "source": [
        "##<font color=\"DeepPink\"> **Gráfico Sunburst**"
      ],
      "metadata": {
        "id": "BjjxgCarnP57"
      },
      "id": "BjjxgCarnP57"
    },
    {
      "cell_type": "code",
      "source": [
        "prop.head(3)\n"
      ],
      "metadata": {
        "id": "bTOb6WJ0ni-B"
      },
      "id": "bTOb6WJ0ni-B",
      "execution_count": null,
      "outputs": []
    },
    {
      "cell_type": "code",
      "source": [
        "df = prop.query(\"Departamento == 'Mendoza' | Departamento == 'Godoy Cruz' | Departamento == 'Las Heras'\")"
      ],
      "metadata": {
        "id": "Dv5CRxqlryPL"
      },
      "id": "Dv5CRxqlryPL",
      "execution_count": null,
      "outputs": []
    },
    {
      "cell_type": "code",
      "source": [
        "fig = px.sunburst(df,\n",
        "                  path=['Zona', 'Departamento','Tipo'],\n",
        "                  values='Precio',\n",
        "                  color='Tipo',\n",
        "                  title=\"Sunburst por Departamento y Tipo de Propiedad\",\n",
        "                  template=\"gridon\")\n",
        "fig.show()"
      ],
      "metadata": {
        "id": "b5U2nDL5nTmO"
      },
      "id": "b5U2nDL5nTmO",
      "execution_count": null,
      "outputs": []
    },
    {
      "cell_type": "code",
      "source": [
        "df = df.query(\"Tipo == 'Lote' or Tipo == 'Departamento' or Tipo == 'Casa'\")"
      ],
      "metadata": {
        "id": "OarcYs3TvH9z"
      },
      "id": "OarcYs3TvH9z",
      "execution_count": null,
      "outputs": []
    },
    {
      "cell_type": "code",
      "source": [
        "fig = px.sunburst(df,\n",
        "                  path=['Operacion','Departamento','Tipo'],\n",
        "                  values='Precio',\n",
        "                  color='Tipo',\n",
        "                  title=\"Sunburst por Departamento y Tipo de Propiedad\",\n",
        "                  template=\"gridon\")\n",
        "fig.show()"
      ],
      "metadata": {
        "id": "zVeIZ0SWuf-f"
      },
      "id": "zVeIZ0SWuf-f",
      "execution_count": null,
      "outputs": []
    }
  ],
  "metadata": {
    "kernelspec": {
      "display_name": "Python 3 (ipykernel)",
      "language": "python",
      "name": "python3"
    },
    "language_info": {
      "codemirror_mode": {
        "name": "ipython",
        "version": 3
      },
      "file_extension": ".py",
      "mimetype": "text/x-python",
      "name": "python",
      "nbconvert_exporter": "python",
      "pygments_lexer": "ipython3",
      "version": "3.9.7"
    },
    "colab": {
      "provenance": [],
      "include_colab_link": true
    }
  },
  "nbformat": 4,
  "nbformat_minor": 5
}