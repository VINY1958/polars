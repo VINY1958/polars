{
  "cells": [
    {
      "cell_type": "markdown",
      "id": "f747f7d3-875f-4b1b-9afe-49fc92859fdc",
      "metadata": {
        "id": "f747f7d3-875f-4b1b-9afe-49fc92859fdc"
      },
      "source": [
        "# Lectura 07: Series - Agregaciones"
      ]
    },
    {
      "cell_type": "markdown",
      "id": "5d7ece3f-cdb8-421e-9dbf-f6ae14e94ea3",
      "metadata": {
        "id": "5d7ece3f-cdb8-421e-9dbf-f6ae14e94ea3"
      },
      "source": [
        "### Agregaciones"
      ]
    },
    {
      "cell_type": "markdown",
      "id": "07531b41-747d-4140-ac73-dc3eb47b853d",
      "metadata": {
        "id": "07531b41-747d-4140-ac73-dc3eb47b853d"
      },
      "source": [
        "A continuación veremos algunos de los métodos que podemos aplicar sobre una serie de Polars y que están dentro de la categoría de Agregaciones."
      ]
    },
    {
      "cell_type": "code",
      "execution_count": 1,
      "id": "0db787e3-2c2d-4819-938f-86b71fd6589d",
      "metadata": {
        "tags": [],
        "id": "0db787e3-2c2d-4819-938f-86b71fd6589d"
      },
      "outputs": [],
      "source": [
        "import polars as pl"
      ]
    },
    {
      "cell_type": "code",
      "execution_count": 2,
      "id": "666549bf-24a7-4bff-aab4-91b281880ea5",
      "metadata": {
        "tags": [],
        "id": "666549bf-24a7-4bff-aab4-91b281880ea5"
      },
      "outputs": [],
      "source": [
        "s1 = pl.Series('num', [1,2,3,4,5,6,7])"
      ]
    },
    {
      "cell_type": "markdown",
      "id": "19785086-81a5-49cf-ada5-5d0012257b41",
      "metadata": {
        "id": "19785086-81a5-49cf-ada5-5d0012257b41"
      },
      "source": [
        "### Mínimo y máximo"
      ]
    },
    {
      "cell_type": "code",
      "execution_count": 3,
      "id": "faac1188-5b09-40be-aa15-5eb3b28f697f",
      "metadata": {
        "tags": [],
        "colab": {
          "base_uri": "https://localhost:8080/"
        },
        "id": "faac1188-5b09-40be-aa15-5eb3b28f697f",
        "outputId": "9600ea08-8c95-43d9-ed10-772f9f43e840"
      },
      "outputs": [
        {
          "output_type": "execute_result",
          "data": {
            "text/plain": [
              "1"
            ]
          },
          "metadata": {},
          "execution_count": 3
        }
      ],
      "source": [
        "s1.min()"
      ]
    },
    {
      "cell_type": "code",
      "execution_count": 4,
      "id": "c28dbadd-6fe5-43a9-bf3e-0ae6049b315f",
      "metadata": {
        "tags": [],
        "colab": {
          "base_uri": "https://localhost:8080/"
        },
        "id": "c28dbadd-6fe5-43a9-bf3e-0ae6049b315f",
        "outputId": "be2c0544-ee00-4697-986e-87cc2e99a38b"
      },
      "outputs": [
        {
          "output_type": "execute_result",
          "data": {
            "text/plain": [
              "7"
            ]
          },
          "metadata": {},
          "execution_count": 4
        }
      ],
      "source": [
        "s1.max()"
      ]
    },
    {
      "cell_type": "markdown",
      "id": "c7d00c54-0a34-42f3-a0f1-b4bd4176a1fb",
      "metadata": {
        "id": "c7d00c54-0a34-42f3-a0f1-b4bd4176a1fb"
      },
      "source": [
        "### Media, mediana y moda"
      ]
    },
    {
      "cell_type": "code",
      "execution_count": 5,
      "id": "5ab17732-0c93-4953-bcd4-a71cffbd9520",
      "metadata": {
        "tags": [],
        "colab": {
          "base_uri": "https://localhost:8080/"
        },
        "id": "5ab17732-0c93-4953-bcd4-a71cffbd9520",
        "outputId": "44bef24a-948f-48b6-e9a0-c1d0ca3cf73f"
      },
      "outputs": [
        {
          "output_type": "execute_result",
          "data": {
            "text/plain": [
              "4.0"
            ]
          },
          "metadata": {},
          "execution_count": 5
        }
      ],
      "source": [
        "s1.mean()"
      ]
    },
    {
      "cell_type": "code",
      "execution_count": 6,
      "id": "795b294e-f0e0-4e45-ba0c-6d669c22b3dc",
      "metadata": {
        "tags": [],
        "colab": {
          "base_uri": "https://localhost:8080/"
        },
        "id": "795b294e-f0e0-4e45-ba0c-6d669c22b3dc",
        "outputId": "e78da9b1-1a21-42f2-aeea-a133e07d9dce"
      },
      "outputs": [
        {
          "output_type": "execute_result",
          "data": {
            "text/plain": [
              "4.0"
            ]
          },
          "metadata": {},
          "execution_count": 6
        }
      ],
      "source": [
        "s1.median()"
      ]
    },
    {
      "cell_type": "code",
      "execution_count": 7,
      "id": "65e0c852-d740-40c7-a99e-6868c4339f23",
      "metadata": {
        "tags": [],
        "colab": {
          "base_uri": "https://localhost:8080/",
          "height": 129
        },
        "id": "65e0c852-d740-40c7-a99e-6868c4339f23",
        "outputId": "2663ddfa-14f6-4323-d3c5-18d10238b98d"
      },
      "outputs": [
        {
          "output_type": "execute_result",
          "data": {
            "text/plain": [
              "shape: (1,)\n",
              "Series: 'num' [i64]\n",
              "[\n",
              "\t4\n",
              "]"
            ],
            "text/html": [
              "<div><style>\n",
              ".dataframe > thead > tr,\n",
              ".dataframe > tbody > tr {\n",
              "  text-align: right;\n",
              "  white-space: pre-wrap;\n",
              "}\n",
              "</style>\n",
              "<small>shape: (1,)</small><table border=\"1\" class=\"dataframe\"><thead><tr><th>num</th></tr><tr><td>i64</td></tr></thead><tbody><tr><td>4</td></tr></tbody></table></div>"
            ]
          },
          "metadata": {},
          "execution_count": 7
        }
      ],
      "source": [
        "s2 = pl.Series(\"num\", [2,2,1,4,4,4,5])\n",
        "\n",
        "s2.mode()"
      ]
    },
    {
      "cell_type": "code",
      "source": [
        "print(s2)"
      ],
      "metadata": {
        "colab": {
          "base_uri": "https://localhost:8080/"
        },
        "id": "5pCPAwKSe3qt",
        "outputId": "91ac2307-bef9-4e10-8ad2-4cde426a71bb"
      },
      "id": "5pCPAwKSe3qt",
      "execution_count": 8,
      "outputs": [
        {
          "output_type": "stream",
          "name": "stdout",
          "text": [
            "shape: (7,)\n",
            "Series: 'num' [i64]\n",
            "[\n",
            "\t2\n",
            "\t2\n",
            "\t1\n",
            "\t4\n",
            "\t4\n",
            "\t4\n",
            "\t5\n",
            "]\n"
          ]
        }
      ]
    },
    {
      "cell_type": "code",
      "source": [
        "s3 = pl.Series(\"num\", [2,2,1,4,4,4,5], strict=False, dtype=pl.Int8)"
      ],
      "metadata": {
        "id": "o1feQhiJe-Ht"
      },
      "id": "o1feQhiJe-Ht",
      "execution_count": 9,
      "outputs": []
    },
    {
      "cell_type": "code",
      "source": [
        "print(s3)"
      ],
      "metadata": {
        "colab": {
          "base_uri": "https://localhost:8080/"
        },
        "id": "TurYCzPTfGj3",
        "outputId": "71339f9a-861c-4bed-9d04-5ffebb3a41e7"
      },
      "id": "TurYCzPTfGj3",
      "execution_count": 10,
      "outputs": [
        {
          "output_type": "stream",
          "name": "stdout",
          "text": [
            "shape: (7,)\n",
            "Series: 'num' [i8]\n",
            "[\n",
            "\t2\n",
            "\t2\n",
            "\t1\n",
            "\t4\n",
            "\t4\n",
            "\t4\n",
            "\t5\n",
            "]\n"
          ]
        }
      ]
    },
    {
      "cell_type": "markdown",
      "id": "1868fd35-cf58-4025-af30-8334412d565d",
      "metadata": {
        "id": "1868fd35-cf58-4025-af30-8334412d565d"
      },
      "source": [
        "### Suma y Producto"
      ]
    },
    {
      "cell_type": "code",
      "execution_count": 11,
      "id": "6d2f977a-add7-4d2f-98b0-78494ffd5574",
      "metadata": {
        "tags": [],
        "colab": {
          "base_uri": "https://localhost:8080/"
        },
        "id": "6d2f977a-add7-4d2f-98b0-78494ffd5574",
        "outputId": "9103e3df-8ef8-475c-830c-330e42ee0051"
      },
      "outputs": [
        {
          "output_type": "execute_result",
          "data": {
            "text/plain": [
              "28"
            ]
          },
          "metadata": {},
          "execution_count": 11
        }
      ],
      "source": [
        "s1.sum()"
      ]
    },
    {
      "cell_type": "code",
      "execution_count": 12,
      "id": "787f880c-053b-405f-9c2a-e582cddd5b1b",
      "metadata": {
        "tags": [],
        "colab": {
          "base_uri": "https://localhost:8080/"
        },
        "id": "787f880c-053b-405f-9c2a-e582cddd5b1b",
        "outputId": "507b5968-f5a9-4c22-be72-06d871569973"
      },
      "outputs": [
        {
          "output_type": "execute_result",
          "data": {
            "text/plain": [
              "5040"
            ]
          },
          "metadata": {},
          "execution_count": 12
        }
      ],
      "source": [
        "s1.product()"
      ]
    },
    {
      "cell_type": "markdown",
      "id": "9a8d1ad6-da13-4a10-8622-7c7186ef9f44",
      "metadata": {
        "id": "9a8d1ad6-da13-4a10-8622-7c7186ef9f44"
      },
      "source": [
        "### Varianza y desviación estándar"
      ]
    },
    {
      "cell_type": "code",
      "execution_count": 13,
      "id": "edb8f119-c4d5-4abf-8e12-f58fba2e6cae",
      "metadata": {
        "tags": [],
        "colab": {
          "base_uri": "https://localhost:8080/"
        },
        "id": "edb8f119-c4d5-4abf-8e12-f58fba2e6cae",
        "outputId": "0b08bea9-df0c-4a1a-8426-dd540645b8fc"
      },
      "outputs": [
        {
          "output_type": "execute_result",
          "data": {
            "text/plain": [
              "4.666666666666667"
            ]
          },
          "metadata": {},
          "execution_count": 13
        }
      ],
      "source": [
        "s1.var()"
      ]
    },
    {
      "cell_type": "code",
      "execution_count": 14,
      "id": "426688c3-f2eb-4868-9af2-1a62365e12f3",
      "metadata": {
        "tags": [],
        "colab": {
          "base_uri": "https://localhost:8080/"
        },
        "id": "426688c3-f2eb-4868-9af2-1a62365e12f3",
        "outputId": "5aa02929-72c0-46db-b93c-5aeb4578c2c8"
      },
      "outputs": [
        {
          "output_type": "execute_result",
          "data": {
            "text/plain": [
              "2.160246899469287"
            ]
          },
          "metadata": {},
          "execution_count": 14
        }
      ],
      "source": [
        "s1.std()"
      ]
    },
    {
      "cell_type": "markdown",
      "id": "c3c11b27-295b-4206-a7d9-0b1b74961ed0",
      "metadata": {
        "id": "c3c11b27-295b-4206-a7d9-0b1b74961ed0"
      },
      "source": [
        "### Obtener el índice del mayor y el menor valor"
      ]
    },
    {
      "cell_type": "code",
      "source": [
        "print(s1)"
      ],
      "metadata": {
        "colab": {
          "base_uri": "https://localhost:8080/"
        },
        "id": "tIVuA-e5fWXx",
        "outputId": "973bead4-8322-4786-d278-9c26c0faa206"
      },
      "id": "tIVuA-e5fWXx",
      "execution_count": null,
      "outputs": [
        {
          "output_type": "stream",
          "name": "stdout",
          "text": [
            "shape: (7,)\n",
            "Series: 'num' [i64]\n",
            "[\n",
            "\t1\n",
            "\t2\n",
            "\t3\n",
            "\t4\n",
            "\t5\n",
            "\t6\n",
            "\t7\n",
            "]\n"
          ]
        }
      ]
    },
    {
      "cell_type": "code",
      "execution_count": 15,
      "id": "c5f4c088-ef80-4b33-9437-06c387379c20",
      "metadata": {
        "tags": [],
        "colab": {
          "base_uri": "https://localhost:8080/"
        },
        "id": "c5f4c088-ef80-4b33-9437-06c387379c20",
        "outputId": "eadea86f-28c8-48c5-d3be-4c9311b1247b"
      },
      "outputs": [
        {
          "output_type": "stream",
          "name": "stdout",
          "text": [
            "6\n",
            "0\n"
          ]
        }
      ],
      "source": [
        "print(s1.arg_max())  ## el indice maximo es el ultimo 6\n",
        "print(s1.arg_min())  ## el indice minimo es el primero 0"
      ]
    },
    {
      "cell_type": "markdown",
      "source": [
        "las series estan indexadas desde 0"
      ],
      "metadata": {
        "id": "qMDKd4DKfxYD"
      },
      "id": "qMDKd4DKfxYD"
    },
    {
      "cell_type": "markdown",
      "id": "10814b25-75a9-49e3-953d-851a197af448",
      "metadata": {
        "id": "10814b25-75a9-49e3-953d-851a197af448"
      },
      "source": [
        "### Agregar los valores de una serie a una lista"
      ]
    },
    {
      "cell_type": "code",
      "source": [
        "print(s1)"
      ],
      "metadata": {
        "colab": {
          "base_uri": "https://localhost:8080/"
        },
        "id": "hpDPc-2a6xg3",
        "outputId": "c5361d37-0cbb-4217-86f5-508b933761e1"
      },
      "id": "hpDPc-2a6xg3",
      "execution_count": 18,
      "outputs": [
        {
          "output_type": "stream",
          "name": "stdout",
          "text": [
            "shape: (7,)\n",
            "Series: 'num' [i64]\n",
            "[\n",
            "\t1\n",
            "\t2\n",
            "\t3\n",
            "\t4\n",
            "\t5\n",
            "\t6\n",
            "\t7\n",
            "]\n"
          ]
        }
      ]
    },
    {
      "cell_type": "code",
      "execution_count": 19,
      "id": "8697b8ff-88ad-4b3b-b986-e57987d8bfce",
      "metadata": {
        "tags": [],
        "colab": {
          "base_uri": "https://localhost:8080/",
          "height": 129
        },
        "id": "8697b8ff-88ad-4b3b-b986-e57987d8bfce",
        "outputId": "d2aa7ad4-9979-4fbd-8b98-883e2bad08d7"
      },
      "outputs": [
        {
          "output_type": "execute_result",
          "data": {
            "text/plain": [
              "shape: (1,)\n",
              "Series: 'num' [list[i64]]\n",
              "[\n",
              "\t[1, 2, … 7]\n",
              "]"
            ],
            "text/html": [
              "<div><style>\n",
              ".dataframe > thead > tr,\n",
              ".dataframe > tbody > tr {\n",
              "  text-align: right;\n",
              "  white-space: pre-wrap;\n",
              "}\n",
              "</style>\n",
              "<small>shape: (1,)</small><table border=\"1\" class=\"dataframe\"><thead><tr><th>num</th></tr><tr><td>list[i64]</td></tr></thead><tbody><tr><td>[1, 2, … 7]</td></tr></tbody></table></div>"
            ]
          },
          "metadata": {},
          "execution_count": 19
        }
      ],
      "source": [
        "s1.implode()  ## se utiliza funcion implode"
      ]
    }
  ],
  "metadata": {
    "kernelspec": {
      "display_name": "Python 3 (ipykernel)",
      "language": "python",
      "name": "python3"
    },
    "language_info": {
      "codemirror_mode": {
        "name": "ipython",
        "version": 3
      },
      "file_extension": ".py",
      "mimetype": "text/x-python",
      "name": "python",
      "nbconvert_exporter": "python",
      "pygments_lexer": "ipython3",
      "version": "3.9.6"
    },
    "colab": {
      "provenance": []
    }
  },
  "nbformat": 4,
  "nbformat_minor": 5
}