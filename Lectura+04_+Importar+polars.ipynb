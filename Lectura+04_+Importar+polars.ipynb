{
  "cells": [
    {
      "cell_type": "markdown",
      "id": "298cc689-c191-425d-b2a1-43c728071743",
      "metadata": {
        "id": "298cc689-c191-425d-b2a1-43c728071743"
      },
      "source": [
        "# Lectura 04: Importar polars"
      ]
    },
    {
      "cell_type": "markdown",
      "id": "68355d75-85cc-4335-91d2-673b347e18ed",
      "metadata": {
        "id": "68355d75-85cc-4335-91d2-673b347e18ed"
      },
      "source": [
        "## Importar Polars"
      ]
    },
    {
      "cell_type": "markdown",
      "id": "b5aa4957-7de8-4ed5-8981-84d73ab02c46",
      "metadata": {
        "id": "b5aa4957-7de8-4ed5-8981-84d73ab02c46"
      },
      "source": [
        "Usualmente la librería de Polars se importa de la siguiente manera:"
      ]
    },
    {
      "cell_type": "code",
      "execution_count": 1,
      "id": "b3176883-f321-4a41-be01-930cf5978b3e",
      "metadata": {
        "tags": [],
        "id": "b3176883-f321-4a41-be01-930cf5978b3e"
      },
      "outputs": [],
      "source": [
        "import polars as pl"
      ]
    },
    {
      "cell_type": "markdown",
      "id": "b68a73f0-fc7a-4f6c-850e-c4f149b70517",
      "metadata": {
        "id": "b68a73f0-fc7a-4f6c-850e-c4f149b70517"
      },
      "source": [
        "# Ejecutar la primera sentencia de Polars"
      ]
    },
    {
      "cell_type": "code",
      "execution_count": 2,
      "id": "f4862080-4b99-4a6b-bfe3-d6a55c8b19dc",
      "metadata": {
        "tags": [],
        "id": "f4862080-4b99-4a6b-bfe3-d6a55c8b19dc"
      },
      "outputs": [],
      "source": [
        "df = pl.DataFrame(\n",
        "     {\n",
        "         \"numeros\": [1, 2, 3],\n",
        "         \"colores\": [\"rojo\", \"azul\", \"verde\"],\n",
        "         \"pais\": [\"Cuba\", \"Mexico\", \"Francia\"]\n",
        "     }\n",
        " )"
      ]
    },
    {
      "cell_type": "markdown",
      "id": "0cedcc65-7ae2-44bb-a6b8-85111192de6b",
      "metadata": {
        "id": "0cedcc65-7ae2-44bb-a6b8-85111192de6b"
      },
      "source": [
        "# Mostrar el DataFrame"
      ]
    },
    {
      "cell_type": "code",
      "execution_count": 3,
      "id": "5340ab28-10fa-4788-8d88-b3c3c879f962",
      "metadata": {
        "tags": [],
        "colab": {
          "base_uri": "https://localhost:8080/",
          "height": 192
        },
        "id": "5340ab28-10fa-4788-8d88-b3c3c879f962",
        "outputId": "eab5375b-858d-41e3-bfaf-382603037cf7"
      },
      "outputs": [
        {
          "output_type": "execute_result",
          "data": {
            "text/plain": [
              "shape: (3, 3)\n",
              "┌─────────┬─────────┬─────────┐\n",
              "│ numeros ┆ colores ┆ pais    │\n",
              "│ ---     ┆ ---     ┆ ---     │\n",
              "│ i64     ┆ str     ┆ str     │\n",
              "╞═════════╪═════════╪═════════╡\n",
              "│ 1       ┆ rojo    ┆ Cuba    │\n",
              "│ 2       ┆ azul    ┆ Mexico  │\n",
              "│ 3       ┆ verde   ┆ Francia │\n",
              "└─────────┴─────────┴─────────┘"
            ],
            "text/html": [
              "<div><style>\n",
              ".dataframe > thead > tr,\n",
              ".dataframe > tbody > tr {\n",
              "  text-align: right;\n",
              "  white-space: pre-wrap;\n",
              "}\n",
              "</style>\n",
              "<small>shape: (3, 3)</small><table border=\"1\" class=\"dataframe\"><thead><tr><th>numeros</th><th>colores</th><th>pais</th></tr><tr><td>i64</td><td>str</td><td>str</td></tr></thead><tbody><tr><td>1</td><td>&quot;rojo&quot;</td><td>&quot;Cuba&quot;</td></tr><tr><td>2</td><td>&quot;azul&quot;</td><td>&quot;Mexico&quot;</td></tr><tr><td>3</td><td>&quot;verde&quot;</td><td>&quot;Francia&quot;</td></tr></tbody></table></div>"
            ]
          },
          "metadata": {},
          "execution_count": 3
        }
      ],
      "source": [
        "df"
      ]
    },
    {
      "cell_type": "code",
      "source": [
        "from google.colab import drive\n",
        "drive.mount('/content/drive')"
      ],
      "metadata": {
        "colab": {
          "base_uri": "https://localhost:8080/"
        },
        "id": "arhy-OX9bDQH",
        "outputId": "c6a3cc86-4072-4c23-f9bc-5a4a59d5b33b"
      },
      "id": "arhy-OX9bDQH",
      "execution_count": 4,
      "outputs": [
        {
          "output_type": "stream",
          "name": "stdout",
          "text": [
            "Drive already mounted at /content/drive; to attempt to forcibly remount, call drive.mount(\"/content/drive\", force_remount=True).\n"
          ]
        }
      ]
    },
    {
      "cell_type": "code",
      "source": [
        "file_path = ('/content/drive/MyDrive/polars/seccion01/chess_games.csv')"
      ],
      "metadata": {
        "id": "lMzdgmR1a_KT"
      },
      "id": "lMzdgmR1a_KT",
      "execution_count": 5,
      "outputs": []
    },
    {
      "cell_type": "code",
      "source": [
        "pl.scan_csv(file_path).head()"
      ],
      "metadata": {
        "colab": {
          "base_uri": "https://localhost:8080/",
          "height": 244
        },
        "id": "3IdnWKUrhTg0",
        "outputId": "4d88bcc1-b2ac-4f5b-91ed-94209af53840"
      },
      "id": "3IdnWKUrhTg0",
      "execution_count": 6,
      "outputs": [
        {
          "output_type": "execute_result",
          "data": {
            "text/plain": [
              "<LazyFrame at 0x7EA91837A500>"
            ],
            "text/html": [
              "<h4>NAIVE QUERY PLAN</h4><p>run <b>LazyFrame.show_graph()</b> to see the optimized version</p><?xml version=\"1.0\" encoding=\"UTF-8\" standalone=\"no\"?>\n",
              "<!DOCTYPE svg PUBLIC \"-//W3C//DTD SVG 1.1//EN\"\n",
              " \"http://www.w3.org/Graphics/SVG/1.1/DTD/svg11.dtd\">\n",
              "<!-- Generated by graphviz version 2.43.0 (0)\n",
              " -->\n",
              "<!-- Title: polars_query Pages: 1 -->\n",
              "<svg width=\"418pt\" height=\"118pt\"\n",
              " viewBox=\"0.00 0.00 418.00 118.00\" xmlns=\"http://www.w3.org/2000/svg\" xmlns:xlink=\"http://www.w3.org/1999/xlink\">\n",
              "<g id=\"graph0\" class=\"graph\" transform=\"scale(1 1) rotate(0) translate(4 114)\">\n",
              "<title>polars_query</title>\n",
              "<polygon fill=\"white\" stroke=\"transparent\" points=\"-4,4 -4,-114 414,-114 414,4 -4,4\"/>\n",
              "<!-- p1 -->\n",
              "<g id=\"node1\" class=\"node\">\n",
              "<title>p1</title>\n",
              "<polygon fill=\"none\" stroke=\"black\" points=\"275.5,-110 134.5,-110 134.5,-74 275.5,-74 275.5,-110\"/>\n",
              "<text text-anchor=\"middle\" x=\"205\" y=\"-88.3\" font-family=\"Times,serif\" font-size=\"14.00\">SLICE offset: 0; len: 5</text>\n",
              "</g>\n",
              "<!-- p2 -->\n",
              "<g id=\"node2\" class=\"node\">\n",
              "<title>p2</title>\n",
              "<polygon fill=\"none\" stroke=\"black\" points=\"410,-38 0,-38 0,0 410,0 410,-38\"/>\n",
              "<text text-anchor=\"middle\" x=\"205\" y=\"-22.8\" font-family=\"Times,serif\" font-size=\"14.00\">Csv SCAN [/content/drive/MyDrive/polars/seccion01/chess_games.csv]</text>\n",
              "<text text-anchor=\"middle\" x=\"205\" y=\"-7.8\" font-family=\"Times,serif\" font-size=\"14.00\">π */15;</text>\n",
              "</g>\n",
              "<!-- p1&#45;&#45;p2 -->\n",
              "<g id=\"edge1\" class=\"edge\">\n",
              "<title>p1&#45;&#45;p2</title>\n",
              "<path fill=\"none\" stroke=\"black\" d=\"M205,-73.81C205,-62.98 205,-49.01 205,-38.02\"/>\n",
              "</g>\n",
              "</g>\n",
              "</svg>\n"
            ]
          },
          "metadata": {},
          "execution_count": 6
        }
      ]
    },
    {
      "cell_type": "markdown",
      "source": [
        "###Leer un archivo polars"
      ],
      "metadata": {
        "id": "vAuCtFXEhwOA"
      },
      "id": "vAuCtFXEhwOA"
    },
    {
      "cell_type": "code",
      "source": [
        "pl.scan_csv(file_path).head(3).collect()"
      ],
      "metadata": {
        "colab": {
          "base_uri": "https://localhost:8080/",
          "height": 594
        },
        "id": "5wPHQlC1hcKB",
        "outputId": "a092ca9c-83eb-4311-d77d-c43bf6901048"
      },
      "id": "5wPHQlC1hcKB",
      "execution_count": 7,
      "outputs": [
        {
          "output_type": "execute_result",
          "data": {
            "text/plain": [
              "shape: (3, 15)\n",
              "┌────────────┬────────────┬───────────┬────────┬───┬───────────┬───────────┬───────────┬───────────┐\n",
              "│ Event      ┆ White      ┆ Black     ┆ Result ┆ … ┆ Opening   ┆ TimeContr ┆ Terminati ┆ AN        │\n",
              "│ ---        ┆ ---        ┆ ---       ┆ ---    ┆   ┆ ---       ┆ ol        ┆ on        ┆ ---       │\n",
              "│ str        ┆ str        ┆ str       ┆ str    ┆   ┆ str       ┆ ---       ┆ ---       ┆ str       │\n",
              "│            ┆            ┆           ┆        ┆   ┆           ┆ str       ┆ str       ┆           │\n",
              "╞════════════╪════════════╪═══════════╪════════╪═══╪═══════════╪═══════════╪═══════════╪═══════════╡\n",
              "│ Classical  ┆ eisaaaa    ┆ HAMID449  ┆ 1-0    ┆ … ┆ Slav      ┆ 300+5     ┆ Time      ┆ 1. d4 d5  │\n",
              "│            ┆            ┆           ┆        ┆   ┆ Defense   ┆           ┆ forfeit   ┆ 2. c4 c6  │\n",
              "│            ┆            ┆           ┆        ┆   ┆           ┆           ┆           ┆ 3. e3 a6  │\n",
              "│            ┆            ┆           ┆        ┆   ┆           ┆           ┆           ┆ 4. …      │\n",
              "│  Blitz     ┆ go4jas     ┆ Sergei197 ┆ 0-1    ┆ … ┆ King's    ┆ 300+0     ┆ Normal    ┆ 1. e4 e5  │\n",
              "│            ┆            ┆ 3         ┆        ┆   ┆ Pawn      ┆           ┆           ┆ 2. b3 Nf6 │\n",
              "│            ┆            ┆           ┆        ┆   ┆ Opening:  ┆           ┆           ┆ 3. Bb2    │\n",
              "│            ┆            ┆           ┆        ┆   ┆ 2.b3      ┆           ┆           ┆ Nc6 …     │\n",
              "│ Blitz      ┆ Evangelist ┆ kafune    ┆ 1-0    ┆ … ┆ Scandinav ┆ 180+0     ┆ Time      ┆ 1. e4 d5  │\n",
              "│ tournament ┆ aizac      ┆           ┆        ┆   ┆ ian       ┆           ┆ forfeit   ┆ 2. exd5   │\n",
              "│            ┆            ┆           ┆        ┆   ┆ Defense:  ┆           ┆           ┆ Qxd5 3.   │\n",
              "│            ┆            ┆           ┆        ┆   ┆ Mieses-K… ┆           ┆           ┆ Nf3 B…    │\n",
              "└────────────┴────────────┴───────────┴────────┴───┴───────────┴───────────┴───────────┴───────────┘"
            ],
            "text/html": [
              "<div><style>\n",
              ".dataframe > thead > tr,\n",
              ".dataframe > tbody > tr {\n",
              "  text-align: right;\n",
              "  white-space: pre-wrap;\n",
              "}\n",
              "</style>\n",
              "<small>shape: (3, 15)</small><table border=\"1\" class=\"dataframe\"><thead><tr><th>Event</th><th>White</th><th>Black</th><th>Result</th><th>UTCDate</th><th>UTCTime</th><th>WhiteElo</th><th>BlackElo</th><th>WhiteRatingDiff</th><th>BlackRatingDiff</th><th>ECO</th><th>Opening</th><th>TimeControl</th><th>Termination</th><th>AN</th></tr><tr><td>str</td><td>str</td><td>str</td><td>str</td><td>str</td><td>str</td><td>i64</td><td>i64</td><td>f64</td><td>f64</td><td>str</td><td>str</td><td>str</td><td>str</td><td>str</td></tr></thead><tbody><tr><td>&quot; Classical &quot;</td><td>&quot;eisaaaa&quot;</td><td>&quot;HAMID449&quot;</td><td>&quot;1-0&quot;</td><td>&quot;2016.06.30&quot;</td><td>&quot;22:00:01&quot;</td><td>1901</td><td>1896</td><td>11.0</td><td>-11.0</td><td>&quot;D10&quot;</td><td>&quot;Slav Defense&quot;</td><td>&quot;300+5&quot;</td><td>&quot;Time forfeit&quot;</td><td>&quot;1. d4 d5 2. c4 c6 3. e3 a6 4. …</td></tr><tr><td>&quot; Blitz &quot;</td><td>&quot;go4jas&quot;</td><td>&quot;Sergei1973&quot;</td><td>&quot;0-1&quot;</td><td>&quot;2016.06.30&quot;</td><td>&quot;22:00:01&quot;</td><td>1641</td><td>1627</td><td>-11.0</td><td>12.0</td><td>&quot;C20&quot;</td><td>&quot;King&#x27;s Pawn Opening: 2.b3&quot;</td><td>&quot;300+0&quot;</td><td>&quot;Normal&quot;</td><td>&quot;1. e4 e5 2. b3 Nf6 3. Bb2 Nc6 …</td></tr><tr><td>&quot; Blitz tournament &quot;</td><td>&quot;Evangelistaizac&quot;</td><td>&quot;kafune&quot;</td><td>&quot;1-0&quot;</td><td>&quot;2016.06.30&quot;</td><td>&quot;22:00:02&quot;</td><td>1647</td><td>1688</td><td>13.0</td><td>-13.0</td><td>&quot;B01&quot;</td><td>&quot;Scandinavian Defense: Mieses-K…</td><td>&quot;180+0&quot;</td><td>&quot;Time forfeit&quot;</td><td>&quot;1. e4 d5 2. exd5 Qxd5 3. Nf3 B…</td></tr></tbody></table></div>"
            ]
          },
          "metadata": {},
          "execution_count": 7
        }
      ]
    },
    {
      "cell_type": "markdown",
      "source": [
        "## Rapidez"
      ],
      "metadata": {
        "id": "imGUCou8iFns"
      },
      "id": "imGUCou8iFns"
    },
    {
      "cell_type": "code",
      "source": [
        "import pandas as pd"
      ],
      "metadata": {
        "id": "RfI4zBNSjQGt"
      },
      "id": "RfI4zBNSjQGt",
      "execution_count": 8,
      "outputs": []
    },
    {
      "cell_type": "code",
      "source": [
        "%%timeit -n1 -r1\n",
        "pl.read_csv(file_path)"
      ],
      "metadata": {
        "colab": {
          "base_uri": "https://localhost:8080/"
        },
        "id": "DMi6sqOajfBt",
        "outputId": "8cb5841f-cd85-49d9-b8b9-3e694f6c4d73"
      },
      "id": "DMi6sqOajfBt",
      "execution_count": 9,
      "outputs": [
        {
          "output_type": "stream",
          "name": "stdout",
          "text": [
            "26.7 s ± 0 ns per loop (mean ± std. dev. of 1 run, 1 loop each)\n"
          ]
        }
      ]
    },
    {
      "cell_type": "code",
      "source": [
        "%%timeit -n1 -r1\n",
        "pd.read_csv(file_path, engine='pyarrow')"
      ],
      "metadata": {
        "colab": {
          "base_uri": "https://localhost:8080/"
        },
        "id": "5M1_TfZThqtw",
        "outputId": "f6ca47bb-dbf3-4c3a-f7ef-fecdbfaf9e63"
      },
      "id": "5M1_TfZThqtw",
      "execution_count": 10,
      "outputs": [
        {
          "output_type": "stream",
          "name": "stdout",
          "text": [
            "42.9 s ± 0 ns per loop (mean ± std. dev. of 1 run, 1 loop each)\n"
          ]
        }
      ]
    },
    {
      "cell_type": "markdown",
      "source": [
        "## es mas rapido que pandas con optimizaciones"
      ],
      "metadata": {
        "id": "L3av3EImoYbg"
      },
      "id": "L3av3EImoYbg"
    },
    {
      "cell_type": "markdown",
      "source": [
        "## Optimizaciones de consultas en forma automatica"
      ],
      "metadata": {
        "id": "MTId9Bj_oeN-"
      },
      "id": "MTId9Bj_oeN-"
    },
    {
      "cell_type": "code",
      "source": [
        "%%timeit -n1 -r1\n",
        "(\n",
        "pl.scan_csv(file_path)\n",
        ".group_by('Event')\n",
        ".agg(\n",
        "    min_elo_white=pl.col('WhiteElo').mean(),\n",
        "    max_elo_black=pl.col('BlackElo').mean()\n",
        ")\n",
        ").collect()\n"
      ],
      "metadata": {
        "colab": {
          "base_uri": "https://localhost:8080/"
        },
        "id": "6cRcYLeSo3eI",
        "outputId": "d35e9d15-8bad-4494-b552-39790f749984"
      },
      "id": "6cRcYLeSo3eI",
      "execution_count": 13,
      "outputs": [
        {
          "output_type": "stream",
          "name": "stdout",
          "text": [
            "22.1 s ± 0 ns per loop (mean ± std. dev. of 1 run, 1 loop each)\n"
          ]
        }
      ]
    },
    {
      "cell_type": "code",
      "source": [
        "%%timeit -n1 -r1\n",
        "\n",
        " (\n",
        "     pd.read_csv(file_path, engine='pyarrow', usecols=['Event', 'WhiteElo', 'BlackElo'])\n",
        "     .groupby('Event')\n",
        "     .agg(\n",
        "         {\n",
        "               'WhiteElo':['mean'],\n",
        "               'BlackElo':['mean']\n",
        "         }\n",
        " )\n"
      ],
      "metadata": {
        "colab": {
          "base_uri": "https://localhost:8080/",
          "height": 613
        },
        "id": "f3BGSpCdqDvx",
        "outputId": "e27cd42f-d2b2-4c82-c544-1b92551827c9"
      },
      "id": "f3BGSpCdqDvx",
      "execution_count": 30,
      "outputs": [
        {
          "output_type": "error",
          "ename": "SyntaxError",
          "evalue": "incomplete input (<unknown>, line 9)",
          "traceback": [
            "Traceback \u001b[0;36m(most recent call last)\u001b[0m:\n",
            "  File \u001b[1;32m\"/usr/local/lib/python3.10/dist-packages/IPython/core/interactiveshell.py\"\u001b[0m, line \u001b[1;32m3553\u001b[0m, in \u001b[1;35mrun_code\u001b[0m\n    exec(code_obj, self.user_global_ns, self.user_ns)\n",
            "  File \u001b[1;32m\"<ipython-input-30-bd1b2a123f3c>\"\u001b[0m, line \u001b[1;32m1\u001b[0m, in \u001b[1;35m<cell line: 1>\u001b[0m\n    get_ipython().run_cell_magic('timeit', '-n1 -r1', \"\\n (\\n     pd.read_csv(file_path, engine='pyarrow', usecols=['Event', 'WhiteElo', 'BlackElo'])\\n     .groupby('Event')\\n     .agg(\\n         {\\n               'WhiteElo':['mean'],\\n               'BlackElo':['mean']\\n         }\\n )\\n\")\n",
            "  File \u001b[1;32m\"/usr/local/lib/python3.10/dist-packages/google/colab/_shell.py\"\u001b[0m, line \u001b[1;32m334\u001b[0m, in \u001b[1;35mrun_cell_magic\u001b[0m\n    return super().run_cell_magic(magic_name, line, cell)\n",
            "  File \u001b[1;32m\"/usr/local/lib/python3.10/dist-packages/IPython/core/interactiveshell.py\"\u001b[0m, line \u001b[1;32m2473\u001b[0m, in \u001b[1;35mrun_cell_magic\u001b[0m\n    result = fn(*args, **kwargs)\n",
            "  File \u001b[1;32m\"<decorator-gen-53>\"\u001b[0m, line \u001b[1;32m2\u001b[0m, in \u001b[1;35mtimeit\u001b[0m\n",
            "  File \u001b[1;32m\"/usr/local/lib/python3.10/dist-packages/IPython/core/magic.py\"\u001b[0m, line \u001b[1;32m187\u001b[0m, in \u001b[1;35m<lambda>\u001b[0m\n    call = lambda f, *a, **k: f(*a, **k)\n",
            "  File \u001b[1;32m\"/usr/local/lib/python3.10/dist-packages/IPython/core/magics/execution.py\"\u001b[0m, line \u001b[1;32m1126\u001b[0m, in \u001b[1;35mtimeit\u001b[0m\n    ast_stmt = self.shell.compile.ast_parse(transform(cell))\n",
            "\u001b[0;36m  File \u001b[0;32m\"/usr/local/lib/python3.10/dist-packages/IPython/core/compilerop.py\"\u001b[0;36m, line \u001b[0;32m101\u001b[0;36m, in \u001b[0;35mast_parse\u001b[0;36m\u001b[0m\n\u001b[0;31m    return compile(source, filename, symbol, self.flags | PyCF_ONLY_AST, 1)\u001b[0m\n",
            "\u001b[0;36m  File \u001b[0;32m\"<unknown>\"\u001b[0;36m, line \u001b[0;32m9\u001b[0m\n\u001b[0;31m    )\u001b[0m\n\u001b[0m     ^\u001b[0m\n\u001b[0;31mSyntaxError\u001b[0m\u001b[0;31m:\u001b[0m incomplete input\n"
          ]
        }
      ]
    },
    {
      "cell_type": "code",
      "source": [
        "df1 = pl.DataFrame(\n",
        "     {\n",
        "         \"num\": [1, 2, 3],\n",
        "         \"colores\": [\"rojo\", \"azul\", \"verde\"],\n",
        "         \"pais\": [\"Cuba\", \"Mexico\", \"Francia\"]\n",
        "     }\n",
        " )"
      ],
      "metadata": {
        "id": "ozez8B-Mum_e"
      },
      "id": "ozez8B-Mum_e",
      "execution_count": 31,
      "outputs": []
    },
    {
      "cell_type": "code",
      "source": [
        "print(df1)"
      ],
      "metadata": {
        "colab": {
          "base_uri": "https://localhost:8080/"
        },
        "id": "QgcPJS8uur4e",
        "outputId": "287e31e3-6304-49d6-820c-ea5ea6c1d093"
      },
      "id": "QgcPJS8uur4e",
      "execution_count": 33,
      "outputs": [
        {
          "output_type": "stream",
          "name": "stdout",
          "text": [
            "shape: (3, 3)\n",
            "┌─────┬─────────┬─────────┐\n",
            "│ num ┆ colores ┆ pais    │\n",
            "│ --- ┆ ---     ┆ ---     │\n",
            "│ i64 ┆ str     ┆ str     │\n",
            "╞═════╪═════════╪═════════╡\n",
            "│ 1   ┆ rojo    ┆ Cuba    │\n",
            "│ 2   ┆ azul    ┆ Mexico  │\n",
            "│ 3   ┆ verde   ┆ Francia │\n",
            "└─────┴─────────┴─────────┘\n"
          ]
        }
      ]
    },
    {
      "cell_type": "code",
      "source": [
        "df1.columns"
      ],
      "metadata": {
        "colab": {
          "base_uri": "https://localhost:8080/"
        },
        "id": "EF7e2MU0u9kR",
        "outputId": "9d47a775-d87a-4b35-f8cb-3642d78e9822"
      },
      "id": "EF7e2MU0u9kR",
      "execution_count": 35,
      "outputs": [
        {
          "output_type": "execute_result",
          "data": {
            "text/plain": [
              "['num', 'colores', 'pais']"
            ]
          },
          "metadata": {},
          "execution_count": 35
        }
      ]
    }
  ],
  "metadata": {
    "kernelspec": {
      "display_name": "Python 3 (ipykernel)",
      "language": "python",
      "name": "python3"
    },
    "language_info": {
      "codemirror_mode": {
        "name": "ipython",
        "version": 3
      },
      "file_extension": ".py",
      "mimetype": "text/x-python",
      "name": "python",
      "nbconvert_exporter": "python",
      "pygments_lexer": "ipython3",
      "version": "3.9.6"
    },
    "colab": {
      "provenance": []
    }
  },
  "nbformat": 4,
  "nbformat_minor": 5
}