{
  "cells": [
    {
      "cell_type": "markdown",
      "id": "376fcc06-a316-47ee-9037-d619d967b72c",
      "metadata": {
        "id": "376fcc06-a316-47ee-9037-d619d967b72c"
      },
      "source": [
        "# Lectura 10: Series - Booleanos y Categorías"
      ]
    },
    {
      "cell_type": "code",
      "execution_count": 1,
      "id": "f9b30752-ab26-4c76-993f-8922a7e4b778",
      "metadata": {
        "tags": [],
        "id": "f9b30752-ab26-4c76-993f-8922a7e4b778"
      },
      "outputs": [],
      "source": [
        "import polars as pl\n",
        "\n",
        "s1 = pl.Series('bool', [True, True, True])\n",
        "\n",
        "s2 = pl.Series('bool', [False, True, True])\n",
        "\n",
        "s3 = pl.Series([False, False])"
      ]
    },
    {
      "cell_type": "code",
      "source": [
        "s_cat = pl.Series('clientes', ['oro', 'plata', 'oro', 'bronce', 'bronce'], dtype=pl.Categorical) ## categoria categoricas"
      ],
      "metadata": {
        "id": "5KC4uV9crZm2"
      },
      "id": "5KC4uV9crZm2",
      "execution_count": 5,
      "outputs": []
    },
    {
      "cell_type": "code",
      "source": [
        "s_cat"
      ],
      "metadata": {
        "colab": {
          "base_uri": "https://localhost:8080/",
          "height": 254
        },
        "id": "fBqWz9EErw-h",
        "outputId": "95f0a6da-241d-42de-fefd-3f2329db25a6"
      },
      "id": "fBqWz9EErw-h",
      "execution_count": 6,
      "outputs": [
        {
          "output_type": "execute_result",
          "data": {
            "text/plain": [
              "shape: (5,)\n",
              "Series: 'clientes' [cat]\n",
              "[\n",
              "\t\"oro\"\n",
              "\t\"plata\"\n",
              "\t\"oro\"\n",
              "\t\"bronce\"\n",
              "\t\"bronce\"\n",
              "]"
            ],
            "text/html": [
              "<div><style>\n",
              ".dataframe > thead > tr,\n",
              ".dataframe > tbody > tr {\n",
              "  text-align: right;\n",
              "  white-space: pre-wrap;\n",
              "}\n",
              "</style>\n",
              "<small>shape: (5,)</small><table border=\"1\" class=\"dataframe\"><thead><tr><th>clientes</th></tr><tr><td>cat</td></tr></thead><tbody><tr><td>&quot;oro&quot;</td></tr><tr><td>&quot;plata&quot;</td></tr><tr><td>&quot;oro&quot;</td></tr><tr><td>&quot;bronce&quot;</td></tr><tr><td>&quot;bronce&quot;</td></tr></tbody></table></div>"
            ]
          },
          "metadata": {},
          "execution_count": 6
        }
      ]
    },
    {
      "cell_type": "markdown",
      "id": "8ea1bd4e-c4d6-46e4-83fd-8515be593175",
      "metadata": {
        "id": "8ea1bd4e-c4d6-46e4-83fd-8515be593175"
      },
      "source": [
        "### Verificar si todos los valores de la serie son `True`"
      ]
    },
    {
      "cell_type": "code",
      "execution_count": 2,
      "id": "85ab5a5a-1b7c-4595-a047-e88b63c2464c",
      "metadata": {
        "tags": [],
        "colab": {
          "base_uri": "https://localhost:8080/"
        },
        "id": "85ab5a5a-1b7c-4595-a047-e88b63c2464c",
        "outputId": "ad22621d-8a88-4430-d831-75bf72614b51"
      },
      "outputs": [
        {
          "output_type": "execute_result",
          "data": {
            "text/plain": [
              "True"
            ]
          },
          "metadata": {},
          "execution_count": 2
        }
      ],
      "source": [
        "s1.all()"
      ]
    },
    {
      "cell_type": "code",
      "execution_count": 3,
      "id": "59c0f9e1-fed6-4b69-845a-d79327aa2aaa",
      "metadata": {
        "tags": [],
        "colab": {
          "base_uri": "https://localhost:8080/"
        },
        "id": "59c0f9e1-fed6-4b69-845a-d79327aa2aaa",
        "outputId": "dd433c38-63e3-42e1-c761-e60ac7341a43"
      },
      "outputs": [
        {
          "output_type": "execute_result",
          "data": {
            "text/plain": [
              "False"
            ]
          },
          "metadata": {},
          "execution_count": 3
        }
      ],
      "source": [
        "s2.all()"
      ]
    },
    {
      "cell_type": "code",
      "source": [
        "s3.all()"
      ],
      "metadata": {
        "colab": {
          "base_uri": "https://localhost:8080/"
        },
        "id": "uZajQssZr0JZ",
        "outputId": "08398cbd-49d3-45ea-d102-abc399faf8fa"
      },
      "id": "uZajQssZr0JZ",
      "execution_count": 7,
      "outputs": [
        {
          "output_type": "execute_result",
          "data": {
            "text/plain": [
              "False"
            ]
          },
          "metadata": {},
          "execution_count": 7
        }
      ]
    },
    {
      "cell_type": "markdown",
      "id": "681266cf-8336-43bd-b285-361da9c14b49",
      "metadata": {
        "id": "681266cf-8336-43bd-b285-361da9c14b49"
      },
      "source": [
        "### Verificar si alguno de los valores de la serie es `True`"
      ]
    },
    {
      "cell_type": "code",
      "execution_count": 10,
      "id": "3d54b494-8097-43f7-bb02-a2d28ac97971",
      "metadata": {
        "tags": [],
        "colab": {
          "base_uri": "https://localhost:8080/"
        },
        "id": "3d54b494-8097-43f7-bb02-a2d28ac97971",
        "outputId": "67456fdc-17f9-4d75-cdc1-df5dae2f60be"
      },
      "outputs": [
        {
          "output_type": "execute_result",
          "data": {
            "text/plain": [
              "True"
            ]
          },
          "metadata": {},
          "execution_count": 10
        }
      ],
      "source": [
        "s1.any()  ## si alguno de los valores es verdadero"
      ]
    },
    {
      "cell_type": "code",
      "execution_count": 11,
      "id": "e3ca577f-800c-424f-9e6b-f115152a0df5",
      "metadata": {
        "tags": [],
        "colab": {
          "base_uri": "https://localhost:8080/"
        },
        "id": "e3ca577f-800c-424f-9e6b-f115152a0df5",
        "outputId": "bda1d34d-43bd-42e0-8ad9-6bbf46abb0a8"
      },
      "outputs": [
        {
          "output_type": "execute_result",
          "data": {
            "text/plain": [
              "False"
            ]
          },
          "metadata": {},
          "execution_count": 11
        }
      ],
      "source": [
        "s3.any()"
      ]
    },
    {
      "cell_type": "markdown",
      "id": "0abca9c0-0373-4b66-a8b0-69a6224b3564",
      "metadata": {
        "id": "0abca9c0-0373-4b66-a8b0-69a6224b3564"
      },
      "source": [
        "### Negar una serie booleana"
      ]
    },
    {
      "cell_type": "code",
      "execution_count": 12,
      "id": "36c99505-ed93-4e7e-bdbf-f46a00ce0e4f",
      "metadata": {
        "tags": [],
        "colab": {
          "base_uri": "https://localhost:8080/",
          "height": 143
        },
        "id": "36c99505-ed93-4e7e-bdbf-f46a00ce0e4f",
        "outputId": "ab584f45-5d10-489b-e8e0-a5921936cfff"
      },
      "outputs": [
        {
          "output_type": "execute_result",
          "data": {
            "text/plain": [
              "shape: (2,)\n",
              "Series: '' [bool]\n",
              "[\n",
              "\ttrue\n",
              "\ttrue\n",
              "]"
            ],
            "text/html": [
              "<div><style>\n",
              ".dataframe > thead > tr,\n",
              ".dataframe > tbody > tr {\n",
              "  text-align: right;\n",
              "  white-space: pre-wrap;\n",
              "}\n",
              "</style>\n",
              "<small>shape: (2,)</small><table border=\"1\" class=\"dataframe\"><thead><tr><th></th></tr><tr><td>bool</td></tr></thead><tbody><tr><td>true</td></tr><tr><td>true</td></tr></tbody></table></div>"
            ]
          },
          "metadata": {},
          "execution_count": 12
        }
      ],
      "source": [
        "s3.not_()  ## negar una serie booleana"
      ]
    },
    {
      "cell_type": "markdown",
      "id": "476397ff-9112-4a1b-b0c4-aca90e6a0786",
      "metadata": {
        "id": "476397ff-9112-4a1b-b0c4-aca90e6a0786"
      },
      "source": [
        "# Categorías"
      ]
    },
    {
      "cell_type": "code",
      "execution_count": 13,
      "id": "0f00e028-5c88-4b17-b07e-eaa83c56f7a2",
      "metadata": {
        "tags": [],
        "id": "0f00e028-5c88-4b17-b07e-eaa83c56f7a2"
      },
      "outputs": [],
      "source": [
        "s_cat = pl.Series('clientes', ['oro', 'plata', 'oro', 'bronce', 'bronce'], dtype=pl.Categorical)"
      ]
    },
    {
      "cell_type": "code",
      "source": [
        "s_cat"
      ],
      "metadata": {
        "colab": {
          "base_uri": "https://localhost:8080/",
          "height": 254
        },
        "id": "8xKg5VEzsMuT",
        "outputId": "94bdcf96-8128-44ee-ec63-bf9b2931751e"
      },
      "id": "8xKg5VEzsMuT",
      "execution_count": 14,
      "outputs": [
        {
          "output_type": "execute_result",
          "data": {
            "text/plain": [
              "shape: (5,)\n",
              "Series: 'clientes' [cat]\n",
              "[\n",
              "\t\"oro\"\n",
              "\t\"plata\"\n",
              "\t\"oro\"\n",
              "\t\"bronce\"\n",
              "\t\"bronce\"\n",
              "]"
            ],
            "text/html": [
              "<div><style>\n",
              ".dataframe > thead > tr,\n",
              ".dataframe > tbody > tr {\n",
              "  text-align: right;\n",
              "  white-space: pre-wrap;\n",
              "}\n",
              "</style>\n",
              "<small>shape: (5,)</small><table border=\"1\" class=\"dataframe\"><thead><tr><th>clientes</th></tr><tr><td>cat</td></tr></thead><tbody><tr><td>&quot;oro&quot;</td></tr><tr><td>&quot;plata&quot;</td></tr><tr><td>&quot;oro&quot;</td></tr><tr><td>&quot;bronce&quot;</td></tr><tr><td>&quot;bronce&quot;</td></tr></tbody></table></div>"
            ]
          },
          "metadata": {},
          "execution_count": 14
        }
      ]
    },
    {
      "cell_type": "markdown",
      "id": "1337c5d5-5a0f-47b1-aff3-73b7884531fb",
      "metadata": {
        "id": "1337c5d5-5a0f-47b1-aff3-73b7884531fb"
      },
      "source": [
        "### Obtener las categorías de la serie"
      ]
    },
    {
      "cell_type": "code",
      "execution_count": 15,
      "id": "e18b616e-8730-48ca-ab1b-2809afe5c5c8",
      "metadata": {
        "tags": [],
        "colab": {
          "base_uri": "https://localhost:8080/",
          "height": 192
        },
        "id": "e18b616e-8730-48ca-ab1b-2809afe5c5c8",
        "outputId": "78910051-c39e-4414-8bf8-ddea0a2787f0"
      },
      "outputs": [
        {
          "output_type": "execute_result",
          "data": {
            "text/plain": [
              "shape: (3,)\n",
              "Series: 'clientes' [str]\n",
              "[\n",
              "\t\"oro\"\n",
              "\t\"plata\"\n",
              "\t\"bronce\"\n",
              "]"
            ],
            "text/html": [
              "<div><style>\n",
              ".dataframe > thead > tr,\n",
              ".dataframe > tbody > tr {\n",
              "  text-align: right;\n",
              "  white-space: pre-wrap;\n",
              "}\n",
              "</style>\n",
              "<small>shape: (3,)</small><table border=\"1\" class=\"dataframe\"><thead><tr><th>clientes</th></tr><tr><td>str</td></tr></thead><tbody><tr><td>&quot;oro&quot;</td></tr><tr><td>&quot;plata&quot;</td></tr><tr><td>&quot;bronce&quot;</td></tr></tbody></table></div>"
            ]
          },
          "metadata": {},
          "execution_count": 15
        }
      ],
      "source": [
        "s_cat.cat.get_categories()## atributo cat get_categories"
      ]
    },
    {
      "cell_type": "markdown",
      "id": "f57f3802-3cf0-4b6e-8e22-741e001e0e54",
      "metadata": {
        "id": "f57f3802-3cf0-4b6e-8e22-741e001e0e54"
      },
      "source": [
        "### Determinar como una serie categórica debe ser ordenada"
      ]
    },
    {
      "cell_type": "markdown",
      "id": "7ac64d2b-3c6d-44f1-9d7e-59f817f166d2",
      "metadata": {
        "id": "7ac64d2b-3c6d-44f1-9d7e-59f817f166d2"
      },
      "source": [
        "Si tratamos de ordenar la serie directamente obtenemos el siguiente resultado"
      ]
    },
    {
      "cell_type": "code",
      "execution_count": 17,
      "id": "18023203-954c-42b9-9539-bc997ff12a99",
      "metadata": {
        "tags": [],
        "colab": {
          "base_uri": "https://localhost:8080/",
          "height": 254
        },
        "id": "18023203-954c-42b9-9539-bc997ff12a99",
        "outputId": "314771d4-2492-4776-ae0e-3c30b88eb3c9"
      },
      "outputs": [
        {
          "output_type": "execute_result",
          "data": {
            "text/plain": [
              "shape: (5,)\n",
              "Series: 'clientes' [cat]\n",
              "[\n",
              "\t\"oro\"\n",
              "\t\"oro\"\n",
              "\t\"plata\"\n",
              "\t\"bronce\"\n",
              "\t\"bronce\"\n",
              "]"
            ],
            "text/html": [
              "<div><style>\n",
              ".dataframe > thead > tr,\n",
              ".dataframe > tbody > tr {\n",
              "  text-align: right;\n",
              "  white-space: pre-wrap;\n",
              "}\n",
              "</style>\n",
              "<small>shape: (5,)</small><table border=\"1\" class=\"dataframe\"><thead><tr><th>clientes</th></tr><tr><td>cat</td></tr></thead><tbody><tr><td>&quot;oro&quot;</td></tr><tr><td>&quot;oro&quot;</td></tr><tr><td>&quot;plata&quot;</td></tr><tr><td>&quot;bronce&quot;</td></tr><tr><td>&quot;bronce&quot;</td></tr></tbody></table></div>"
            ]
          },
          "metadata": {},
          "execution_count": 17
        }
      ],
      "source": [
        "s_cat.sort()  ## el orden predeterminado de las categorias"
      ]
    },
    {
      "cell_type": "markdown",
      "id": "c9f0aecd-7bf9-4762-be67-90d088c5d437",
      "metadata": {
        "id": "c9f0aecd-7bf9-4762-be67-90d088c5d437"
      },
      "source": [
        "El orden predeterminado se basa en la representación física de las categorías para determinar el orden y es la opción por defecto. Si queremos obtener un orden alfabético deberíamos cambiar esto"
      ]
    },
    {
      "cell_type": "code",
      "source": [
        "s_cat.sort()"
      ],
      "metadata": {
        "colab": {
          "base_uri": "https://localhost:8080/",
          "height": 254
        },
        "id": "mLmVexo_thTW",
        "outputId": "c46fc480-0517-432f-8673-3ba58a8d9638"
      },
      "id": "mLmVexo_thTW",
      "execution_count": 31,
      "outputs": [
        {
          "output_type": "execute_result",
          "data": {
            "text/plain": [
              "shape: (5,)\n",
              "Series: 'clientes' [cat]\n",
              "[\n",
              "\t\"oro\"\n",
              "\t\"oro\"\n",
              "\t\"plata\"\n",
              "\t\"bronce\"\n",
              "\t\"bronce\"\n",
              "]"
            ],
            "text/html": [
              "<div><style>\n",
              ".dataframe > thead > tr,\n",
              ".dataframe > tbody > tr {\n",
              "  text-align: right;\n",
              "  white-space: pre-wrap;\n",
              "}\n",
              "</style>\n",
              "<small>shape: (5,)</small><table border=\"1\" class=\"dataframe\"><thead><tr><th>clientes</th></tr><tr><td>cat</td></tr></thead><tbody><tr><td>&quot;oro&quot;</td></tr><tr><td>&quot;oro&quot;</td></tr><tr><td>&quot;plata&quot;</td></tr><tr><td>&quot;bronce&quot;</td></tr><tr><td>&quot;bronce&quot;</td></tr></tbody></table></div>"
            ]
          },
          "metadata": {},
          "execution_count": 31
        }
      ]
    },
    {
      "cell_type": "code",
      "source": [
        "from typing_extensions import OrderedDict\n",
        "s_cat.sort(OrderedDict='lexical')  ## orden alfabetico"
      ],
      "metadata": {
        "colab": {
          "base_uri": "https://localhost:8080/",
          "height": 167
        },
        "id": "TIzh-TKHtHli",
        "outputId": "d69af829-61a7-484b-c35f-ff4c3b1a3e11"
      },
      "id": "TIzh-TKHtHli",
      "execution_count": 27,
      "outputs": [
        {
          "output_type": "error",
          "ename": "TypeError",
          "evalue": "Series.sort() got an unexpected keyword argument 'OrderedDict'",
          "traceback": [
            "\u001b[0;31m---------------------------------------------------------------------------\u001b[0m",
            "\u001b[0;31mTypeError\u001b[0m                                 Traceback (most recent call last)",
            "\u001b[0;32m<ipython-input-27-2971fb39bb14>\u001b[0m in \u001b[0;36m<cell line: 2>\u001b[0;34m()\u001b[0m\n\u001b[1;32m      1\u001b[0m \u001b[0;32mfrom\u001b[0m \u001b[0mtyping_extensions\u001b[0m \u001b[0;32mimport\u001b[0m \u001b[0mOrderedDict\u001b[0m\u001b[0;34m\u001b[0m\u001b[0;34m\u001b[0m\u001b[0m\n\u001b[0;32m----> 2\u001b[0;31m \u001b[0ms_cat\u001b[0m\u001b[0;34m.\u001b[0m\u001b[0msort\u001b[0m\u001b[0;34m(\u001b[0m\u001b[0mOrderedDict\u001b[0m\u001b[0;34m=\u001b[0m\u001b[0;34m'lexical'\u001b[0m\u001b[0;34m)\u001b[0m  \u001b[0;31m## orden alfabetico\u001b[0m\u001b[0;34m\u001b[0m\u001b[0;34m\u001b[0m\u001b[0m\n\u001b[0m",
            "\u001b[0;31mTypeError\u001b[0m: Series.sort() got an unexpected keyword argument 'OrderedDict'"
          ]
        }
      ]
    },
    {
      "cell_type": "code",
      "execution_count": 35,
      "id": "8286cb94-81b9-435c-a94f-e94655e0b3f4",
      "metadata": {
        "tags": [],
        "colab": {
          "base_uri": "https://localhost:8080/",
          "height": 223
        },
        "id": "8286cb94-81b9-435c-a94f-e94655e0b3f4",
        "outputId": "7f05673d-e8eb-47ba-fcc1-9a0440fb5f62"
      },
      "outputs": [
        {
          "output_type": "error",
          "ename": "AttributeError",
          "evalue": "'CatNameSpace' object has no attribute 'set_ordering'",
          "traceback": [
            "\u001b[0;31m---------------------------------------------------------------------------\u001b[0m",
            "\u001b[0;31mAttributeError\u001b[0m                            Traceback (most recent call last)",
            "\u001b[0;32m<ipython-input-35-4d0bd30c6798>\u001b[0m in \u001b[0;36m<cell line: 1>\u001b[0;34m()\u001b[0m\n\u001b[0;32m----> 1\u001b[0;31m \u001b[0ms_cat_lexical\u001b[0m \u001b[0;34m=\u001b[0m \u001b[0ms_cat\u001b[0m\u001b[0;34m.\u001b[0m\u001b[0mcat\u001b[0m\u001b[0;34m.\u001b[0m\u001b[0mset_ordering\u001b[0m\u001b[0;34m(\u001b[0m\u001b[0;34m)\u001b[0m  \u001b[0;31m### orden alfabetico\u001b[0m\u001b[0;34m\u001b[0m\u001b[0;34m\u001b[0m\u001b[0m\n\u001b[0m\u001b[1;32m      2\u001b[0m \u001b[0;34m\u001b[0m\u001b[0m\n\u001b[1;32m      3\u001b[0m \u001b[0ms_cat_lexical\u001b[0m\u001b[0;34m\u001b[0m\u001b[0;34m\u001b[0m\u001b[0m\n\u001b[1;32m      4\u001b[0m \u001b[0;34m\u001b[0m\u001b[0m\n\u001b[1;32m      5\u001b[0m \u001b[0ms_cat_lexical\u001b[0m\u001b[0;34m.\u001b[0m\u001b[0msort\u001b[0m\u001b[0;34m(\u001b[0m\u001b[0;34m)\u001b[0m\u001b[0;34m\u001b[0m\u001b[0;34m\u001b[0m\u001b[0m\n",
            "\u001b[0;31mAttributeError\u001b[0m: 'CatNameSpace' object has no attribute 'set_ordering'"
          ]
        }
      ],
      "source": [
        "s_cat_lexical = s_cat.cat.set_ordering()  ### orden alfabetico\n",
        "\n",
        "s_cat_lexical\n",
        "\n",
        "s_cat_lexical.sort()"
      ]
    },
    {
      "cell_type": "markdown",
      "source": [
        "analizar no funciona el s_cat.cat.set_ordering('lexical')  ### orden alfabetico"
      ],
      "metadata": {
        "id": "T2uRbymws_6j"
      },
      "id": "T2uRbymws_6j"
    },
    {
      "cell_type": "markdown",
      "id": "4a6f3c99-c0e4-43e5-a894-3c80ffdbcbc8",
      "metadata": {
        "id": "4a6f3c99-c0e4-43e5-a894-3c80ffdbcbc8"
      },
      "source": [
        "Si deseamos saber cual es el orden que se está empleando para ordenar la serie de tipo categórica podemos utilizar el siguiente método"
      ]
    },
    {
      "cell_type": "code",
      "execution_count": 32,
      "id": "e0bd3b34-8ebc-4eac-830b-d82009b4dfe6",
      "metadata": {
        "tags": [],
        "colab": {
          "base_uri": "https://localhost:8080/",
          "height": 186
        },
        "id": "e0bd3b34-8ebc-4eac-830b-d82009b4dfe6",
        "outputId": "5bec4bd9-7e7b-4f93-b30e-e6b8b7ad90b1"
      },
      "outputs": [
        {
          "output_type": "error",
          "ename": "NameError",
          "evalue": "name 's_cat_lexical' is not defined",
          "traceback": [
            "\u001b[0;31m---------------------------------------------------------------------------\u001b[0m",
            "\u001b[0;31mNameError\u001b[0m                                 Traceback (most recent call last)",
            "\u001b[0;32m<ipython-input-32-5411956fa99d>\u001b[0m in \u001b[0;36m<cell line: 3>\u001b[0;34m()\u001b[0m\n\u001b[1;32m      1\u001b[0m \u001b[0ms_cat\u001b[0m\u001b[0;34m.\u001b[0m\u001b[0mcat\u001b[0m\u001b[0;34m.\u001b[0m\u001b[0muses_lexical_ordering\u001b[0m\u001b[0;34m(\u001b[0m\u001b[0;34m)\u001b[0m\u001b[0;34m\u001b[0m\u001b[0;34m\u001b[0m\u001b[0m\n\u001b[1;32m      2\u001b[0m \u001b[0;34m\u001b[0m\u001b[0m\n\u001b[0;32m----> 3\u001b[0;31m \u001b[0ms_cat_lexical\u001b[0m\u001b[0;34m.\u001b[0m\u001b[0mcat\u001b[0m\u001b[0;34m.\u001b[0m\u001b[0muses_lexical_ordering\u001b[0m\u001b[0;34m(\u001b[0m\u001b[0;34m)\u001b[0m\u001b[0;34m\u001b[0m\u001b[0;34m\u001b[0m\u001b[0m\n\u001b[0m",
            "\u001b[0;31mNameError\u001b[0m: name 's_cat_lexical' is not defined"
          ]
        }
      ],
      "source": [
        "s_cat.cat.uses_lexical_ordering()\n",
        "\n",
        "s_cat_lexical.cat.uses_lexical_ordering()"
      ]
    },
    {
      "cell_type": "code",
      "source": [
        "s_cat.cat.uses_lexical_ordering()  ## la serie original no emplea orden alfabetico"
      ],
      "metadata": {
        "colab": {
          "base_uri": "https://localhost:8080/"
        },
        "id": "FTwZuXqSt2pq",
        "outputId": "d3bba432-0c20-444f-b077-f50a9774d44b"
      },
      "id": "FTwZuXqSt2pq",
      "execution_count": 34,
      "outputs": [
        {
          "output_type": "execute_result",
          "data": {
            "text/plain": [
              "False"
            ]
          },
          "metadata": {},
          "execution_count": 34
        }
      ]
    }
  ],
  "metadata": {
    "kernelspec": {
      "display_name": "Python 3 (ipykernel)",
      "language": "python",
      "name": "python3"
    },
    "language_info": {
      "codemirror_mode": {
        "name": "ipython",
        "version": 3
      },
      "file_extension": ".py",
      "mimetype": "text/x-python",
      "name": "python",
      "nbconvert_exporter": "python",
      "pygments_lexer": "ipython3",
      "version": "3.9.6"
    },
    "colab": {
      "provenance": []
    }
  },
  "nbformat": 4,
  "nbformat_minor": 5
}