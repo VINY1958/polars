{
  "nbformat": 4,
  "nbformat_minor": 0,
  "metadata": {
    "colab": {
      "provenance": []
    },
    "kernelspec": {
      "name": "python3",
      "display_name": "Python 3"
    },
    "language_info": {
      "name": "python"
    }
  },
  "cells": [
    {
      "cell_type": "code",
      "execution_count": null,
      "metadata": {
        "id": "qYIOFlJ9O2Rj"
      },
      "outputs": [],
      "source": [
        "import polars as pl"
      ]
    },
    {
      "cell_type": "markdown",
      "source": [
        "## con la api lazy polars no ejecuta la consulta linea por linea, api lazy permite aplicar optimizador de consulta\n",
        "##conjunto de datos mas grandes de la memoria\n",
        "## puede ayudarnos a optimizar los resultados"
      ],
      "metadata": {
        "id": "OWM5SujdQBaf"
      }
    },
    {
      "cell_type": "code",
      "source": [
        "query = (\n",
        "    pl.scan_parquet('/content/vuelos.parquet')\n",
        "    .with_columns(\n",
        "      pl.col('AIR_TIME')/ 60\n",
        "    )\n",
        "    .filter(pl.col('MONTH')> 10)\n",
        "\n",
        ")"
      ],
      "metadata": {
        "id": "iRtX7JEmP6U_"
      },
      "execution_count": 2,
      "outputs": []
    },
    {
      "cell_type": "code",
      "source": [
        "type(query)"
      ],
      "metadata": {
        "colab": {
          "base_uri": "https://localhost:8080/",
          "height": 220
        },
        "id": "EiBZt86GSKO4",
        "outputId": "62951ae7-f8f6-4b3d-bf2c-e9383ee115c0"
      },
      "execution_count": 9,
      "outputs": [
        {
          "output_type": "execute_result",
          "data": {
            "text/plain": [
              "polars.lazyframe.frame.LazyFrame"
            ],
            "text/html": [
              "<div style=\"max-width:800px; border: 1px solid var(--colab-border-color);\"><style>\n",
              "      pre.function-repr-contents {\n",
              "        overflow-x: auto;\n",
              "        padding: 8px 12px;\n",
              "        max-height: 500px;\n",
              "      }\n",
              "\n",
              "      pre.function-repr-contents.function-repr-contents-collapsed {\n",
              "        cursor: pointer;\n",
              "        max-height: 100px;\n",
              "      }\n",
              "    </style>\n",
              "    <pre style=\"white-space: initial; background:\n",
              "         var(--colab-secondary-surface-color); padding: 8px 12px;\n",
              "         border-bottom: 1px solid var(--colab-border-color);\"><b>polars.lazyframe.frame.LazyFrame</b><br/>def __init__(data: FrameInitTypes | None=None, schema: SchemaDefinition | None=None, *, schema_overrides: SchemaDict | None=None, strict: bool=True, orient: Orientation | None=None, infer_schema_length: int | None=N_INFER_DEFAULT, nan_to_null: bool=False)</pre><pre class=\"function-repr-contents function-repr-contents-collapsed\" style=\"\"><a class=\"filepath\" style=\"display:none\" href=\"#\">/usr/local/lib/python3.10/dist-packages/polars/lazyframe/frame.py</a>Representation of a Lazy computation graph/query against a DataFrame.\n",
              "\n",
              "This allows for whole-query optimisation in addition to parallelism, and\n",
              "is the preferred (and highest-performance) mode of operation for polars.\n",
              "\n",
              "Parameters\n",
              "----------\n",
              "data : dict, Sequence, ndarray, Series, or pandas.DataFrame\n",
              "    Two-dimensional data in various forms; dict input must contain Sequences,\n",
              "    Generators, or a `range`. Sequence may contain Series or other Sequences.\n",
              "schema : Sequence of str, (str,DataType) pairs, or a {str:DataType,} dict\n",
              "    The LazyFrame schema may be declared in several ways:\n",
              "\n",
              "    * As a dict of {name:type} pairs; if type is None, it will be auto-inferred.\n",
              "    * As a list of column names; in this case types are automatically inferred.\n",
              "    * As a list of (name,type) pairs; this is equivalent to the dictionary form.\n",
              "\n",
              "    If you supply a list of column names that does not match the names in the\n",
              "    underlying data, the names given here will overwrite them. The number\n",
              "    of names given in the schema should match the underlying data dimensions.\n",
              "schema_overrides : dict, default None\n",
              "    Support type specification or override of one or more columns; note that\n",
              "    any dtypes inferred from the schema param will be overridden.\n",
              "\n",
              "    The number of entries in the schema should match the underlying data\n",
              "    dimensions, unless a sequence of dictionaries is being passed, in which case\n",
              "    a *partial* schema can be declared to prevent specific fields from being loaded.\n",
              "strict : bool, default True\n",
              "    Throw an error if any `data` value does not exactly match the given or inferred\n",
              "    data type for that column. If set to `False`, values that do not match the data\n",
              "    type are cast to that data type or, if casting is not possible, set to null\n",
              "    instead.\n",
              "orient : {&#x27;col&#x27;, &#x27;row&#x27;}, default None\n",
              "    Whether to interpret two-dimensional data as columns or as rows. If None,\n",
              "    the orientation is inferred by matching the columns and data dimensions. If\n",
              "    this does not yield conclusive results, column orientation is used.\n",
              "infer_schema_length : int or None\n",
              "    The maximum number of rows to scan for schema inference. If set to `None`, the\n",
              "    full data may be scanned *(this can be slow)*. This parameter only applies if\n",
              "    the input data is a sequence or generator of rows; other input is read as-is.\n",
              "nan_to_null : bool, default False\n",
              "    If the data comes from one or more numpy arrays, can optionally convert input\n",
              "    data np.nan values to null instead. This is a no-op for all other input data.\n",
              "\n",
              "Notes\n",
              "-----\n",
              "Initialising `LazyFrame(...)` directly is equivalent to `DataFrame(...).lazy()`.\n",
              "\n",
              "Examples\n",
              "--------\n",
              "Constructing a LazyFrame directly from a dictionary:\n",
              "\n",
              "&gt;&gt;&gt; data = {&quot;a&quot;: [1, 2], &quot;b&quot;: [3, 4]}\n",
              "&gt;&gt;&gt; lf = pl.LazyFrame(data)\n",
              "&gt;&gt;&gt; lf.collect()\n",
              "shape: (2, 2)\n",
              "┌─────┬─────┐\n",
              "│ a   ┆ b   │\n",
              "│ --- ┆ --- │\n",
              "│ i64 ┆ i64 │\n",
              "╞═════╪═════╡\n",
              "│ 1   ┆ 3   │\n",
              "│ 2   ┆ 4   │\n",
              "└─────┴─────┘\n",
              "\n",
              "Notice that the dtypes are automatically inferred as Polars Int64:\n",
              "\n",
              "&gt;&gt;&gt; lf.collect_schema().dtypes()\n",
              "[Int64, Int64]\n",
              "\n",
              "To specify a more detailed/specific frame schema you can supply the `schema`\n",
              "parameter with a dictionary of (name,dtype) pairs...\n",
              "\n",
              "&gt;&gt;&gt; data = {&quot;col1&quot;: [0, 2], &quot;col2&quot;: [3, 7]}\n",
              "&gt;&gt;&gt; lf2 = pl.LazyFrame(data, schema={&quot;col1&quot;: pl.Float32, &quot;col2&quot;: pl.Int64})\n",
              "&gt;&gt;&gt; lf2.collect()\n",
              "shape: (2, 2)\n",
              "┌──────┬──────┐\n",
              "│ col1 ┆ col2 │\n",
              "│ ---  ┆ ---  │\n",
              "│ f32  ┆ i64  │\n",
              "╞══════╪══════╡\n",
              "│ 0.0  ┆ 3    │\n",
              "│ 2.0  ┆ 7    │\n",
              "└──────┴──────┘\n",
              "\n",
              "...a sequence of (name,dtype) pairs...\n",
              "\n",
              "&gt;&gt;&gt; data = {&quot;col1&quot;: [1, 2], &quot;col2&quot;: [3, 4]}\n",
              "&gt;&gt;&gt; lf3 = pl.LazyFrame(data, schema=[(&quot;col1&quot;, pl.Float32), (&quot;col2&quot;, pl.Int64)])\n",
              "&gt;&gt;&gt; lf3.collect()\n",
              "shape: (2, 2)\n",
              "┌──────┬──────┐\n",
              "│ col1 ┆ col2 │\n",
              "│ ---  ┆ ---  │\n",
              "│ f32  ┆ i64  │\n",
              "╞══════╪══════╡\n",
              "│ 1.0  ┆ 3    │\n",
              "│ 2.0  ┆ 4    │\n",
              "└──────┴──────┘\n",
              "\n",
              "...or a list of typed Series.\n",
              "\n",
              "&gt;&gt;&gt; data = [\n",
              "...     pl.Series(&quot;col1&quot;, [1, 2], dtype=pl.Float32),\n",
              "...     pl.Series(&quot;col2&quot;, [3, 4], dtype=pl.Int64),\n",
              "... ]\n",
              "&gt;&gt;&gt; lf4 = pl.LazyFrame(data)\n",
              "&gt;&gt;&gt; lf4.collect()\n",
              "shape: (2, 2)\n",
              "┌──────┬──────┐\n",
              "│ col1 ┆ col2 │\n",
              "│ ---  ┆ ---  │\n",
              "│ f32  ┆ i64  │\n",
              "╞══════╪══════╡\n",
              "│ 1.0  ┆ 3    │\n",
              "│ 2.0  ┆ 4    │\n",
              "└──────┴──────┘\n",
              "\n",
              "Constructing a LazyFrame from a numpy ndarray, specifying column names:\n",
              "\n",
              "&gt;&gt;&gt; import numpy as np\n",
              "&gt;&gt;&gt; data = np.array([(1, 2), (3, 4)], dtype=np.int64)\n",
              "&gt;&gt;&gt; lf5 = pl.LazyFrame(data, schema=[&quot;a&quot;, &quot;b&quot;], orient=&quot;col&quot;)\n",
              "&gt;&gt;&gt; lf5.collect()\n",
              "shape: (2, 2)\n",
              "┌─────┬─────┐\n",
              "│ a   ┆ b   │\n",
              "│ --- ┆ --- │\n",
              "│ i64 ┆ i64 │\n",
              "╞═════╪═════╡\n",
              "│ 1   ┆ 3   │\n",
              "│ 2   ┆ 4   │\n",
              "└─────┴─────┘\n",
              "\n",
              "Constructing a LazyFrame from a list of lists, row orientation specified:\n",
              "\n",
              "&gt;&gt;&gt; data = [[1, 2, 3], [4, 5, 6]]\n",
              "&gt;&gt;&gt; lf6 = pl.LazyFrame(data, schema=[&quot;a&quot;, &quot;b&quot;, &quot;c&quot;], orient=&quot;row&quot;)\n",
              "&gt;&gt;&gt; lf6.collect()\n",
              "shape: (2, 3)\n",
              "┌─────┬─────┬─────┐\n",
              "│ a   ┆ b   ┆ c   │\n",
              "│ --- ┆ --- ┆ --- │\n",
              "│ i64 ┆ i64 ┆ i64 │\n",
              "╞═════╪═════╪═════╡\n",
              "│ 1   ┆ 2   ┆ 3   │\n",
              "│ 4   ┆ 5   ┆ 6   │\n",
              "└─────┴─────┴─────┘</pre>\n",
              "      <script>\n",
              "      if (google.colab.kernel.accessAllowed && google.colab.files && google.colab.files.view) {\n",
              "        for (const element of document.querySelectorAll('.filepath')) {\n",
              "          element.style.display = 'block'\n",
              "          element.onclick = (event) => {\n",
              "            event.preventDefault();\n",
              "            event.stopPropagation();\n",
              "            google.colab.files.view(element.textContent, 139);\n",
              "          };\n",
              "        }\n",
              "      }\n",
              "      for (const element of document.querySelectorAll('.function-repr-contents')) {\n",
              "        element.onclick = (event) => {\n",
              "          event.preventDefault();\n",
              "          event.stopPropagation();\n",
              "          element.classList.toggle('function-repr-contents-collapsed');\n",
              "        };\n",
              "      }\n",
              "      </script>\n",
              "      </div>"
            ]
          },
          "metadata": {},
          "execution_count": 9
        }
      ]
    },
    {
      "cell_type": "code",
      "source": [
        "query"
      ],
      "metadata": {
        "colab": {
          "base_uri": "https://localhost:8080/",
          "height": 340
        },
        "id": "DjsKgvBlSG6R",
        "outputId": "0df35436-1ea0-4a91-d9ff-888fb6a4a6aa"
      },
      "execution_count": 3,
      "outputs": [
        {
          "output_type": "execute_result",
          "data": {
            "text/plain": [
              "<LazyFrame at 0x7A8F2F115DE0>"
            ],
            "text/html": [
              "<h4>NAIVE QUERY PLAN</h4><p>run <b>LazyFrame.show_graph()</b> to see the optimized version</p><?xml version=\"1.0\" encoding=\"UTF-8\" standalone=\"no\"?>\n",
              "<!DOCTYPE svg PUBLIC \"-//W3C//DTD SVG 1.1//EN\"\n",
              " \"http://www.w3.org/Graphics/SVG/1.1/DTD/svg11.dtd\">\n",
              "<!-- Generated by graphviz version 2.43.0 (0)\n",
              " -->\n",
              "<!-- Title: polars_query Pages: 1 -->\n",
              "<svg width=\"297pt\" height=\"190pt\"\n",
              " viewBox=\"0.00 0.00 297.00 190.00\" xmlns=\"http://www.w3.org/2000/svg\" xmlns:xlink=\"http://www.w3.org/1999/xlink\">\n",
              "<g id=\"graph0\" class=\"graph\" transform=\"scale(1 1) rotate(0) translate(4 186)\">\n",
              "<title>polars_query</title>\n",
              "<polygon fill=\"white\" stroke=\"transparent\" points=\"-4,4 -4,-186 293,-186 293,4 -4,4\"/>\n",
              "<!-- p1 -->\n",
              "<g id=\"node1\" class=\"node\">\n",
              "<title>p1</title>\n",
              "<polygon fill=\"none\" stroke=\"black\" points=\"260.5,-182 28.5,-182 28.5,-146 260.5,-146 260.5,-182\"/>\n",
              "<text text-anchor=\"middle\" x=\"144.5\" y=\"-160.3\" font-family=\"Times,serif\" font-size=\"14.00\">FILTER BY [(col(&quot;MONTH&quot;)) &gt; (10)]</text>\n",
              "</g>\n",
              "<!-- p2 -->\n",
              "<g id=\"node2\" class=\"node\">\n",
              "<title>p2</title>\n",
              "<polygon fill=\"none\" stroke=\"black\" points=\"289,-110 0,-110 0,-74 289,-74 289,-110\"/>\n",
              "<text text-anchor=\"middle\" x=\"144.5\" y=\"-88.3\" font-family=\"Times,serif\" font-size=\"14.00\">WITH COLUMNS [[(col(&quot;AIR_TIME&quot;)) / (60)]]</text>\n",
              "</g>\n",
              "<!-- p1&#45;&#45;p2 -->\n",
              "<g id=\"edge1\" class=\"edge\">\n",
              "<title>p1&#45;&#45;p2</title>\n",
              "<path fill=\"none\" stroke=\"black\" d=\"M144.5,-145.7C144.5,-134.85 144.5,-120.92 144.5,-110.1\"/>\n",
              "</g>\n",
              "<!-- p3 -->\n",
              "<g id=\"node3\" class=\"node\">\n",
              "<title>p3</title>\n",
              "<polygon fill=\"none\" stroke=\"black\" points=\"263,-38 26,-38 26,0 263,0 263,-38\"/>\n",
              "<text text-anchor=\"middle\" x=\"144.5\" y=\"-22.8\" font-family=\"Times,serif\" font-size=\"14.00\">Parquet SCAN [/content/vuelos.parquet]</text>\n",
              "<text text-anchor=\"middle\" x=\"144.5\" y=\"-7.8\" font-family=\"Times,serif\" font-size=\"14.00\">π */31;</text>\n",
              "</g>\n",
              "<!-- p2&#45;&#45;p3 -->\n",
              "<g id=\"edge2\" class=\"edge\">\n",
              "<title>p2&#45;&#45;p3</title>\n",
              "<path fill=\"none\" stroke=\"black\" d=\"M144.5,-73.81C144.5,-62.98 144.5,-49.01 144.5,-38.02\"/>\n",
              "</g>\n",
              "</g>\n",
              "</svg>\n"
            ]
          },
          "metadata": {},
          "execution_count": 3
        }
      ]
    },
    {
      "cell_type": "code",
      "source": [
        "query.collect() ## desarrollar la consulta"
      ],
      "metadata": {
        "colab": {
          "base_uri": "https://localhost:8080/",
          "height": 463
        },
        "id": "UEB5zVADScym",
        "outputId": "2c3f9c8d-b535-4f68-a449-122f4aa35785"
      },
      "execution_count": 11,
      "outputs": [
        {
          "output_type": "execute_result",
          "data": {
            "text/plain": [
              "shape: (947_202, 31)\n",
              "┌──────┬───────┬─────┬─────────────┬───┬──────────────┬──────────────┬──────────────┬──────────────┐\n",
              "│ YEAR ┆ MONTH ┆ DAY ┆ DAY_OF_WEEK ┆ … ┆ SECURITY_DEL ┆ AIRLINE_DELA ┆ LATE_AIRCRAF ┆ WEATHER_DELA │\n",
              "│ ---  ┆ ---   ┆ --- ┆ ---         ┆   ┆ AY           ┆ Y            ┆ T_DELAY      ┆ Y            │\n",
              "│ i32  ┆ i32   ┆ i32 ┆ i32         ┆   ┆ ---          ┆ ---          ┆ ---          ┆ ---          │\n",
              "│      ┆       ┆     ┆             ┆   ┆ i32          ┆ i32          ┆ i32          ┆ i32          │\n",
              "╞══════╪═══════╪═════╪═════════════╪═══╪══════════════╪══════════════╪══════════════╪══════════════╡\n",
              "│ 2015 ┆ 11    ┆ 1   ┆ 7           ┆ … ┆ null         ┆ null         ┆ null         ┆ null         │\n",
              "│ 2015 ┆ 11    ┆ 1   ┆ 7           ┆ … ┆ null         ┆ null         ┆ null         ┆ null         │\n",
              "│ 2015 ┆ 11    ┆ 1   ┆ 7           ┆ … ┆ null         ┆ null         ┆ null         ┆ null         │\n",
              "│ 2015 ┆ 11    ┆ 1   ┆ 7           ┆ … ┆ null         ┆ null         ┆ null         ┆ null         │\n",
              "│ 2015 ┆ 11    ┆ 1   ┆ 7           ┆ … ┆ null         ┆ null         ┆ null         ┆ null         │\n",
              "│ …    ┆ …     ┆ …   ┆ …           ┆ … ┆ …            ┆ …            ┆ …            ┆ …            │\n",
              "│ 2015 ┆ 12    ┆ 31  ┆ 4           ┆ … ┆ null         ┆ null         ┆ null         ┆ null         │\n",
              "│ 2015 ┆ 12    ┆ 31  ┆ 4           ┆ … ┆ null         ┆ null         ┆ null         ┆ null         │\n",
              "│ 2015 ┆ 12    ┆ 31  ┆ 4           ┆ … ┆ null         ┆ null         ┆ null         ┆ null         │\n",
              "│ 2015 ┆ 12    ┆ 31  ┆ 4           ┆ … ┆ null         ┆ null         ┆ null         ┆ null         │\n",
              "│ 2015 ┆ 12    ┆ 31  ┆ 4           ┆ … ┆ null         ┆ null         ┆ null         ┆ null         │\n",
              "└──────┴───────┴─────┴─────────────┴───┴──────────────┴──────────────┴──────────────┴──────────────┘"
            ],
            "text/html": [
              "<div><style>\n",
              ".dataframe > thead > tr,\n",
              ".dataframe > tbody > tr {\n",
              "  text-align: right;\n",
              "  white-space: pre-wrap;\n",
              "}\n",
              "</style>\n",
              "<small>shape: (947_202, 31)</small><table border=\"1\" class=\"dataframe\"><thead><tr><th>YEAR</th><th>MONTH</th><th>DAY</th><th>DAY_OF_WEEK</th><th>AIRLINE</th><th>FLIGHT_NUMBER</th><th>TAIL_NUMBER</th><th>ORIGIN_AIRPORT</th><th>DESTINATION_AIRPORT</th><th>SCHEDULED_DEPARTURE</th><th>DEPARTURE_TIME</th><th>DEPARTURE_DELAY</th><th>TAXI_OUT</th><th>WHEELS_OFF</th><th>SCHEDULED_TIME</th><th>ELAPSED_TIME</th><th>AIR_TIME</th><th>DISTANCE</th><th>WHEELS_ON</th><th>TAXI_IN</th><th>SCHEDULED_ARRIVAL</th><th>ARRIVAL_TIME</th><th>ARRIVAL_DELAY</th><th>DIVERTED</th><th>CANCELLED</th><th>CANCELLATION_REASON</th><th>AIR_SYSTEM_DELAY</th><th>SECURITY_DELAY</th><th>AIRLINE_DELAY</th><th>LATE_AIRCRAFT_DELAY</th><th>WEATHER_DELAY</th></tr><tr><td>i32</td><td>i32</td><td>i32</td><td>i32</td><td>str</td><td>i32</td><td>str</td><td>str</td><td>str</td><td>i32</td><td>i32</td><td>i32</td><td>i32</td><td>i32</td><td>i32</td><td>i32</td><td>f64</td><td>i32</td><td>i32</td><td>i32</td><td>i32</td><td>i32</td><td>i32</td><td>i32</td><td>i32</td><td>str</td><td>i32</td><td>i32</td><td>i32</td><td>i32</td><td>i32</td></tr></thead><tbody><tr><td>2015</td><td>11</td><td>1</td><td>7</td><td>&quot;NK&quot;</td><td>612</td><td>&quot;N602NK&quot;</td><td>&quot;LAS&quot;</td><td>&quot;MSP&quot;</td><td>5</td><td>7</td><td>2</td><td>17</td><td>24</td><td>177</td><td>177</td><td>2.566667</td><td>1299</td><td>358</td><td>6</td><td>402</td><td>404</td><td>2</td><td>0</td><td>0</td><td>null</td><td>null</td><td>null</td><td>null</td><td>null</td><td>null</td></tr><tr><td>2015</td><td>11</td><td>1</td><td>7</td><td>&quot;UA&quot;</td><td>680</td><td>&quot;N76516&quot;</td><td>&quot;SFO&quot;</td><td>&quot;ORD&quot;</td><td>14</td><td>19</td><td>5</td><td>15</td><td>34</td><td>258</td><td>231</td><td>3.516667</td><td>1846</td><td>505</td><td>5</td><td>532</td><td>510</td><td>-22</td><td>0</td><td>0</td><td>null</td><td>null</td><td>null</td><td>null</td><td>null</td><td>null</td></tr><tr><td>2015</td><td>11</td><td>1</td><td>7</td><td>&quot;AA&quot;</td><td>260</td><td>&quot;N3KTAA&quot;</td><td>&quot;LAX&quot;</td><td>&quot;MIA&quot;</td><td>15</td><td>6</td><td>-9</td><td>30</td><td>36</td><td>296</td><td>313</td><td>4.5</td><td>2342</td><td>706</td><td>13</td><td>711</td><td>719</td><td>8</td><td>0</td><td>0</td><td>null</td><td>null</td><td>null</td><td>null</td><td>null</td><td>null</td></tr><tr><td>2015</td><td>11</td><td>1</td><td>7</td><td>&quot;UA&quot;</td><td>910</td><td>&quot;N76503&quot;</td><td>&quot;LAX&quot;</td><td>&quot;ORD&quot;</td><td>31</td><td>27</td><td>-4</td><td>14</td><td>41</td><td>248</td><td>231</td><td>3.516667</td><td>1744</td><td>512</td><td>6</td><td>539</td><td>518</td><td>-21</td><td>0</td><td>0</td><td>null</td><td>null</td><td>null</td><td>null</td><td>null</td><td>null</td></tr><tr><td>2015</td><td>11</td><td>1</td><td>7</td><td>&quot;UA&quot;</td><td>1888</td><td>null</td><td>&quot;LAS&quot;</td><td>&quot;IAH&quot;</td><td>41</td><td>null</td><td>null</td><td>null</td><td>null</td><td>172</td><td>null</td><td>null</td><td>1222</td><td>null</td><td>null</td><td>433</td><td>null</td><td>null</td><td>0</td><td>1</td><td>&quot;A&quot;</td><td>null</td><td>null</td><td>null</td><td>null</td><td>null</td></tr><tr><td>&hellip;</td><td>&hellip;</td><td>&hellip;</td><td>&hellip;</td><td>&hellip;</td><td>&hellip;</td><td>&hellip;</td><td>&hellip;</td><td>&hellip;</td><td>&hellip;</td><td>&hellip;</td><td>&hellip;</td><td>&hellip;</td><td>&hellip;</td><td>&hellip;</td><td>&hellip;</td><td>&hellip;</td><td>&hellip;</td><td>&hellip;</td><td>&hellip;</td><td>&hellip;</td><td>&hellip;</td><td>&hellip;</td><td>&hellip;</td><td>&hellip;</td><td>&hellip;</td><td>&hellip;</td><td>&hellip;</td><td>&hellip;</td><td>&hellip;</td><td>&hellip;</td></tr><tr><td>2015</td><td>12</td><td>31</td><td>4</td><td>&quot;B6&quot;</td><td>688</td><td>&quot;N657JB&quot;</td><td>&quot;LAX&quot;</td><td>&quot;BOS&quot;</td><td>2359</td><td>2355</td><td>-4</td><td>22</td><td>17</td><td>320</td><td>298</td><td>4.533333</td><td>2611</td><td>749</td><td>4</td><td>819</td><td>753</td><td>-26</td><td>0</td><td>0</td><td>null</td><td>null</td><td>null</td><td>null</td><td>null</td><td>null</td></tr><tr><td>2015</td><td>12</td><td>31</td><td>4</td><td>&quot;B6&quot;</td><td>745</td><td>&quot;N828JB&quot;</td><td>&quot;JFK&quot;</td><td>&quot;PSE&quot;</td><td>2359</td><td>2355</td><td>-4</td><td>17</td><td>12</td><td>227</td><td>215</td><td>3.25</td><td>1617</td><td>427</td><td>3</td><td>446</td><td>430</td><td>-16</td><td>0</td><td>0</td><td>null</td><td>null</td><td>null</td><td>null</td><td>null</td><td>null</td></tr><tr><td>2015</td><td>12</td><td>31</td><td>4</td><td>&quot;B6&quot;</td><td>1503</td><td>&quot;N913JB&quot;</td><td>&quot;JFK&quot;</td><td>&quot;SJU&quot;</td><td>2359</td><td>2350</td><td>-9</td><td>17</td><td>7</td><td>221</td><td>222</td><td>3.283333</td><td>1598</td><td>424</td><td>8</td><td>440</td><td>432</td><td>-8</td><td>0</td><td>0</td><td>null</td><td>null</td><td>null</td><td>null</td><td>null</td><td>null</td></tr><tr><td>2015</td><td>12</td><td>31</td><td>4</td><td>&quot;B6&quot;</td><td>333</td><td>&quot;N527JB&quot;</td><td>&quot;MCO&quot;</td><td>&quot;SJU&quot;</td><td>2359</td><td>2353</td><td>-6</td><td>10</td><td>3</td><td>161</td><td>157</td><td>2.4</td><td>1189</td><td>327</td><td>3</td><td>340</td><td>330</td><td>-10</td><td>0</td><td>0</td><td>null</td><td>null</td><td>null</td><td>null</td><td>null</td><td>null</td></tr><tr><td>2015</td><td>12</td><td>31</td><td>4</td><td>&quot;B6&quot;</td><td>839</td><td>&quot;N534JB&quot;</td><td>&quot;JFK&quot;</td><td>&quot;BQN&quot;</td><td>2359</td><td>14</td><td>15</td><td>14</td><td>28</td><td>221</td><td>208</td><td>3.15</td><td>1576</td><td>437</td><td>5</td><td>440</td><td>442</td><td>2</td><td>0</td><td>0</td><td>null</td><td>null</td><td>null</td><td>null</td><td>null</td><td>null</td></tr></tbody></table></div>"
            ]
          },
          "metadata": {},
          "execution_count": 11
        }
      ]
    },
    {
      "cell_type": "markdown",
      "source": [
        "##forma alternativa de acceder a la api lazy de polars"
      ],
      "metadata": {
        "id": "Ly_dMFUbS6cu"
      }
    },
    {
      "cell_type": "code",
      "source": [
        "df = pl.DataFrame(\n",
        "  {\n",
        "        'id':[1,2,3],\n",
        "        'nombre':['Rosa','Jose','Pedro']\n",
        "    }\n",
        "\n",
        ")"
      ],
      "metadata": {
        "id": "dggG7MloS_vi"
      },
      "execution_count": 14,
      "outputs": []
    },
    {
      "cell_type": "code",
      "source": [
        "df"
      ],
      "metadata": {
        "colab": {
          "base_uri": "https://localhost:8080/",
          "height": 192
        },
        "id": "_lS3I4lWTiyt",
        "outputId": "73833a79-3b51-4771-8b14-5ec629348f7e"
      },
      "execution_count": 15,
      "outputs": [
        {
          "output_type": "execute_result",
          "data": {
            "text/plain": [
              "shape: (3, 2)\n",
              "┌─────┬────────┐\n",
              "│ id  ┆ nombre │\n",
              "│ --- ┆ ---    │\n",
              "│ i64 ┆ str    │\n",
              "╞═════╪════════╡\n",
              "│ 1   ┆ Rosa   │\n",
              "│ 2   ┆ Jose   │\n",
              "│ 3   ┆ Pedro  │\n",
              "└─────┴────────┘"
            ],
            "text/html": [
              "<div><style>\n",
              ".dataframe > thead > tr,\n",
              ".dataframe > tbody > tr {\n",
              "  text-align: right;\n",
              "  white-space: pre-wrap;\n",
              "}\n",
              "</style>\n",
              "<small>shape: (3, 2)</small><table border=\"1\" class=\"dataframe\"><thead><tr><th>id</th><th>nombre</th></tr><tr><td>i64</td><td>str</td></tr></thead><tbody><tr><td>1</td><td>&quot;Rosa&quot;</td></tr><tr><td>2</td><td>&quot;Jose&quot;</td></tr><tr><td>3</td><td>&quot;Pedro&quot;</td></tr></tbody></table></div>"
            ]
          },
          "metadata": {},
          "execution_count": 15
        }
      ]
    },
    {
      "cell_type": "code",
      "source": [
        "df_lazy = df.lazy()"
      ],
      "metadata": {
        "id": "52d9HqGJTlN7"
      },
      "execution_count": 16,
      "outputs": []
    },
    {
      "cell_type": "code",
      "source": [
        "print(df_lazy) ## la consulta del lazy frame establece los nombres de las columnas y los tipos de datos"
      ],
      "metadata": {
        "colab": {
          "base_uri": "https://localhost:8080/"
        },
        "id": "ajwW_6ZcTv7f",
        "outputId": "b6ec1be2-4f54-4074-c0b7-9a02da1d02dc"
      },
      "execution_count": 20,
      "outputs": [
        {
          "output_type": "stream",
          "name": "stdout",
          "text": [
            "naive plan: (run LazyFrame.explain(optimized=True) to see the optimized plan)\n",
            "\n",
            "DF [\"id\", \"nombre\"]; PROJECT */2 COLUMNS; SELECTION: None\n"
          ]
        }
      ]
    },
    {
      "cell_type": "code",
      "source": [
        "df_lazy"
      ],
      "metadata": {
        "colab": {
          "base_uri": "https://localhost:8080/",
          "height": 168
        },
        "id": "cZ0UepU6Tqkh",
        "outputId": "4f21c775-0533-4663-e6a0-dd794513c269"
      },
      "execution_count": 18,
      "outputs": [
        {
          "output_type": "execute_result",
          "data": {
            "text/plain": [
              "<LazyFrame at 0x7A8EB2AD0430>"
            ],
            "text/html": [
              "<h4>NAIVE QUERY PLAN</h4><p>run <b>LazyFrame.show_graph()</b> to see the optimized version</p><?xml version=\"1.0\" encoding=\"UTF-8\" standalone=\"no\"?>\n",
              "<!DOCTYPE svg PUBLIC \"-//W3C//DTD SVG 1.1//EN\"\n",
              " \"http://www.w3.org/Graphics/SVG/1.1/DTD/svg11.dtd\">\n",
              "<!-- Generated by graphviz version 2.43.0 (0)\n",
              " -->\n",
              "<!-- Title: polars_query Pages: 1 -->\n",
              "<svg width=\"67pt\" height=\"61pt\"\n",
              " viewBox=\"0.00 0.00 67.00 61.00\" xmlns=\"http://www.w3.org/2000/svg\" xmlns:xlink=\"http://www.w3.org/1999/xlink\">\n",
              "<g id=\"graph0\" class=\"graph\" transform=\"scale(1 1) rotate(0) translate(4 57)\">\n",
              "<title>polars_query</title>\n",
              "<polygon fill=\"white\" stroke=\"transparent\" points=\"-4,4 -4,-57 63,-57 63,4 -4,4\"/>\n",
              "<!-- p1 -->\n",
              "<g id=\"node1\" class=\"node\">\n",
              "<title>p1</title>\n",
              "<polygon fill=\"none\" stroke=\"black\" points=\"59,-53 0,-53 0,0 59,0 59,-53\"/>\n",
              "<text text-anchor=\"middle\" x=\"29.5\" y=\"-37.8\" font-family=\"Times,serif\" font-size=\"14.00\">TABLE</text>\n",
              "<text text-anchor=\"middle\" x=\"29.5\" y=\"-22.8\" font-family=\"Times,serif\" font-size=\"14.00\">π */2;</text>\n",
              "<text text-anchor=\"middle\" x=\"29.5\" y=\"-7.8\" font-family=\"Times,serif\" font-size=\"14.00\">σ None</text>\n",
              "</g>\n",
              "</g>\n",
              "</svg>\n"
            ]
          },
          "metadata": {},
          "execution_count": 18
        }
      ]
    },
    {
      "cell_type": "markdown",
      "source": [
        "## podemos ver el dataframe lazy con el metodo schema, .schema\n",
        "## comprobacion de los tipos de datos del lazy frame\n",
        "## en la api lazy polars comprobara el dataframe antes de comprobar los datos\n",
        "## la verificacion se realiza al verificar la consulta lazy"
      ],
      "metadata": {
        "id": "T36VwBLFT8oJ"
      }
    },
    {
      "cell_type": "code",
      "source": [
        "df.schema"
      ],
      "metadata": {
        "colab": {
          "base_uri": "https://localhost:8080/"
        },
        "id": "ZIFWdWgxUerq",
        "outputId": "7578b8b6-6d67-47b8-b49c-1b9f10800c20"
      },
      "execution_count": 21,
      "outputs": [
        {
          "output_type": "execute_result",
          "data": {
            "text/plain": [
              "Schema([('id', Int64), ('nombre', String)])"
            ]
          },
          "metadata": {},
          "execution_count": 21
        }
      ]
    },
    {
      "cell_type": "code",
      "source": [
        "df_lazy.schema"
      ],
      "metadata": {
        "colab": {
          "base_uri": "https://localhost:8080/"
        },
        "id": "Oheh9FOeUhZD",
        "outputId": "6578c490-7380-432d-b6c5-232627b3584b"
      },
      "execution_count": 22,
      "outputs": [
        {
          "output_type": "stream",
          "name": "stderr",
          "text": [
            "<ipython-input-22-d20a04ec1c64>:1: PerformanceWarning: Resolving the schema of a LazyFrame is a potentially expensive operation. Use `LazyFrame.collect_schema()` to get the schema without this warning.\n",
            "  df_lazy.schema\n"
          ]
        },
        {
          "output_type": "execute_result",
          "data": {
            "text/plain": [
              "Schema([('id', Int64), ('nombre', String)])"
            ]
          },
          "metadata": {},
          "execution_count": 22
        }
      ]
    },
    {
      "cell_type": "code",
      "source": [
        "df"
      ],
      "metadata": {
        "colab": {
          "base_uri": "https://localhost:8080/",
          "height": 192
        },
        "id": "m173z5nlU2B2",
        "outputId": "57c75a5a-5d85-4b6b-9bb1-4a07da2d223a"
      },
      "execution_count": 24,
      "outputs": [
        {
          "output_type": "execute_result",
          "data": {
            "text/plain": [
              "shape: (3, 2)\n",
              "┌─────┬────────┐\n",
              "│ id  ┆ nombre │\n",
              "│ --- ┆ ---    │\n",
              "│ i64 ┆ str    │\n",
              "╞═════╪════════╡\n",
              "│ 1   ┆ Rosa   │\n",
              "│ 2   ┆ Jose   │\n",
              "│ 3   ┆ Pedro  │\n",
              "└─────┴────────┘"
            ],
            "text/html": [
              "<div><style>\n",
              ".dataframe > thead > tr,\n",
              ".dataframe > tbody > tr {\n",
              "  text-align: right;\n",
              "  white-space: pre-wrap;\n",
              "}\n",
              "</style>\n",
              "<small>shape: (3, 2)</small><table border=\"1\" class=\"dataframe\"><thead><tr><th>id</th><th>nombre</th></tr><tr><td>i64</td><td>str</td></tr></thead><tbody><tr><td>1</td><td>&quot;Rosa&quot;</td></tr><tr><td>2</td><td>&quot;Jose&quot;</td></tr><tr><td>3</td><td>&quot;Pedro&quot;</td></tr></tbody></table></div>"
            ]
          },
          "metadata": {},
          "execution_count": 24
        }
      ]
    },
    {
      "cell_type": "code",
      "source": [
        "df_lazy.with_columns(pl.col('id').round(0)).collect()"
      ],
      "metadata": {
        "colab": {
          "base_uri": "https://localhost:8080/",
          "height": 192
        },
        "id": "4JtKkdyGUlo7",
        "outputId": "f9366638-b46b-4a35-f7c4-8c4b2f196e8c"
      },
      "execution_count": 26,
      "outputs": [
        {
          "output_type": "execute_result",
          "data": {
            "text/plain": [
              "shape: (3, 2)\n",
              "┌─────┬────────┐\n",
              "│ id  ┆ nombre │\n",
              "│ --- ┆ ---    │\n",
              "│ i64 ┆ str    │\n",
              "╞═════╪════════╡\n",
              "│ 1   ┆ Rosa   │\n",
              "│ 2   ┆ Jose   │\n",
              "│ 3   ┆ Pedro  │\n",
              "└─────┴────────┘"
            ],
            "text/html": [
              "<div><style>\n",
              ".dataframe > thead > tr,\n",
              ".dataframe > tbody > tr {\n",
              "  text-align: right;\n",
              "  white-space: pre-wrap;\n",
              "}\n",
              "</style>\n",
              "<small>shape: (3, 2)</small><table border=\"1\" class=\"dataframe\"><thead><tr><th>id</th><th>nombre</th></tr><tr><td>i64</td><td>str</td></tr></thead><tbody><tr><td>1</td><td>&quot;Rosa&quot;</td></tr><tr><td>2</td><td>&quot;Jose&quot;</td></tr><tr><td>3</td><td>&quot;Pedro&quot;</td></tr></tbody></table></div>"
            ]
          },
          "metadata": {},
          "execution_count": 26
        }
      ]
    },
    {
      "cell_type": "markdown",
      "source": [
        "## en la api lazy se debe conocer el esquema el optimizador de consulta podra inferir , si el esquema no se conoce de antemano no se hace , ejemplo pivot\n",
        "pivot NO ESTA DISPOPNIBLE EN API lazy"
      ],
      "metadata": {
        "id": "GHwbUdF9VD_g"
      }
    },
    {
      "cell_type": "markdown",
      "source": [
        "## ejecutar el pipeline en modo lazy\n",
        "## ejecutar el pipeline con .collect\n",
        "## hacer la operacion que no sea lazy en el dataframe\n",
        "##Convertir la salida nuevamente en a unlazy Frame y continuar en modo lazy"
      ],
      "metadata": {
        "id": "CktaE5TvVUgm"
      }
    },
    {
      "cell_type": "code",
      "source": [
        "lazy_eager_query =(\n",
        "    pl.scan_parquet('/content/vuelos.parquet')\n",
        "    .with_columns(pl.col('AIR_TIME')/ 60)\n",
        ".collect()\n",
        ".pivot(\n",
        "        index='AIRLINE',columns='MONTH', values='AIR_TIME',aggfunc='mean'\n",
        ")"
      ],
      "metadata": {
        "colab": {
          "base_uri": "https://localhost:8080/",
          "height": 111
        },
        "id": "Pq7eXg_YVtQW",
        "outputId": "b3ff19e7-f5ed-4aa6-fc41-0c8519c3acee"
      },
      "execution_count": 43,
      "outputs": [
        {
          "output_type": "error",
          "ename": "SyntaxError",
          "evalue": "incomplete input (<ipython-input-43-ecf0e4c881a6>, line 7)",
          "traceback": [
            "\u001b[0;36m  File \u001b[0;32m\"<ipython-input-43-ecf0e4c881a6>\"\u001b[0;36m, line \u001b[0;32m7\u001b[0m\n\u001b[0;31m    )\u001b[0m\n\u001b[0m     ^\u001b[0m\n\u001b[0;31mSyntaxError\u001b[0m\u001b[0;31m:\u001b[0m incomplete input\n"
          ]
        }
      ]
    },
    {
      "cell_type": "code",
      "source": [
        ".lazy()\n",
        "    .filter(pl.col('AIRLINE')=='AA')\n",
        "    .collect()\n",
        "    )"
      ],
      "metadata": {
        "colab": {
          "base_uri": "https://localhost:8080/",
          "height": 111
        },
        "id": "TdFPI2y9XB9s",
        "outputId": "2a76f8b5-007e-46cf-c727-767987fd41cb"
      },
      "execution_count": 44,
      "outputs": [
        {
          "output_type": "error",
          "ename": "SyntaxError",
          "evalue": "unmatched ')' (<ipython-input-44-56cb7eb1cdcc>, line 4)",
          "traceback": [
            "\u001b[0;36m  File \u001b[0;32m\"<ipython-input-44-56cb7eb1cdcc>\"\u001b[0;36m, line \u001b[0;32m4\u001b[0m\n\u001b[0;31m    )\u001b[0m\n\u001b[0m    ^\u001b[0m\n\u001b[0;31mSyntaxError\u001b[0m\u001b[0;31m:\u001b[0m unmatched ')'\n"
          ]
        }
      ]
    }
  ]
}