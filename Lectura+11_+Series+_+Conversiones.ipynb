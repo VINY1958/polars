{
  "cells": [
    {
      "cell_type": "markdown",
      "id": "89f62ddd-3e5f-41f0-9018-14cc0a4ab43f",
      "metadata": {
        "id": "89f62ddd-3e5f-41f0-9018-14cc0a4ab43f"
      },
      "source": [
        "# Lectura 11: Series - Conversiones"
      ]
    },
    {
      "cell_type": "markdown",
      "id": "38cfd00a-da02-4378-b692-b2b2cb4174c0",
      "metadata": {
        "id": "38cfd00a-da02-4378-b692-b2b2cb4174c0"
      },
      "source": [
        "### Convertir una serie a un arreglo de tipo Arrow"
      ]
    },
    {
      "cell_type": "code",
      "execution_count": 1,
      "id": "6344fc5a-8090-45ff-9bf0-722db004bf5d",
      "metadata": {
        "tags": [],
        "id": "6344fc5a-8090-45ff-9bf0-722db004bf5d"
      },
      "outputs": [],
      "source": [
        "import polars as pl\n",
        "\n",
        "s1 = pl.Series('num', [1,2,3])"
      ]
    },
    {
      "cell_type": "code",
      "execution_count": 3,
      "id": "8d8951c9-6354-4eb0-a3cc-87c83543b815",
      "metadata": {
        "tags": [],
        "colab": {
          "base_uri": "https://localhost:8080/"
        },
        "id": "8d8951c9-6354-4eb0-a3cc-87c83543b815",
        "outputId": "fa8b406f-50fd-4100-dfa1-25461a2bdf75"
      },
      "outputs": [
        {
          "output_type": "execute_result",
          "data": {
            "text/plain": [
              "<pyarrow.lib.Int64Array object at 0x7e7a58099f00>\n",
              "[\n",
              "  1,\n",
              "  2,\n",
              "  3\n",
              "]"
            ]
          },
          "metadata": {},
          "execution_count": 3
        }
      ],
      "source": [
        "s_arrow = s1.to_arrow()\n",
        "\n",
        "s_arrow  ## convertido a un arreglo de tipo arrow"
      ]
    },
    {
      "cell_type": "code",
      "execution_count": 4,
      "id": "1b7479a0-e102-4948-84d8-2d272547bf8b",
      "metadata": {
        "tags": [],
        "colab": {
          "base_uri": "https://localhost:8080/"
        },
        "id": "1b7479a0-e102-4948-84d8-2d272547bf8b",
        "outputId": "fabdf8a4-2ab3-4092-b8fa-8b2b945cc616"
      },
      "outputs": [
        {
          "output_type": "execute_result",
          "data": {
            "text/plain": [
              "<pyarrow.lib.LargeStringArray object at 0x7e7a5809a1a0>\n",
              "[\n",
              "  \"verde\",\n",
              "  \"negro\"\n",
              "]"
            ]
          },
          "metadata": {},
          "execution_count": 4
        }
      ],
      "source": [
        "s2 = pl.Series('texto', ['verde', 'negro'])\n",
        "\n",
        "s2_arrow = s2.to_arrow()\n",
        "\n",
        "s2_arrow"
      ]
    },
    {
      "cell_type": "code",
      "source": [
        "type (s2_arrow)"
      ],
      "metadata": {
        "colab": {
          "base_uri": "https://localhost:8080/"
        },
        "id": "E2N2vggdvK41",
        "outputId": "c8a49692-9976-416e-e07d-38edc3f40f5d"
      },
      "id": "E2N2vggdvK41",
      "execution_count": 5,
      "outputs": [
        {
          "output_type": "execute_result",
          "data": {
            "text/plain": [
              "pyarrow.lib.LargeStringArray"
            ]
          },
          "metadata": {},
          "execution_count": 5
        }
      ]
    },
    {
      "cell_type": "markdown",
      "id": "1c66b59a-1d02-40bc-b741-0b67431907ed",
      "metadata": {
        "id": "1c66b59a-1d02-40bc-b741-0b67431907ed"
      },
      "source": [
        "### Convertir una serie a una lista de Python"
      ]
    },
    {
      "cell_type": "code",
      "execution_count": 7,
      "id": "5e3f7354-6b0f-4d1c-ae31-173c567e10c6",
      "metadata": {
        "tags": [],
        "colab": {
          "base_uri": "https://localhost:8080/"
        },
        "id": "5e3f7354-6b0f-4d1c-ae31-173c567e10c6",
        "outputId": "2637f40a-ddc9-4683-b5dc-b337b5fe0578"
      },
      "outputs": [
        {
          "output_type": "stream",
          "name": "stdout",
          "text": [
            "<class 'list'>\n"
          ]
        },
        {
          "output_type": "execute_result",
          "data": {
            "text/plain": [
              "[1, 2, 3]"
            ]
          },
          "metadata": {},
          "execution_count": 7
        }
      ],
      "source": [
        "s1_list = s1.to_list()  ### funcion to_list elementos de la serie de polars en lista de python\n",
        "\n",
        "print(type(s1_list))\n",
        "\n",
        "s1_list"
      ]
    },
    {
      "cell_type": "markdown",
      "id": "9e9a2446-abc3-46f2-a794-9a8002926bef",
      "metadata": {
        "id": "9e9a2446-abc3-46f2-a794-9a8002926bef"
      },
      "source": [
        "### Convertir una serie a Numpy"
      ]
    },
    {
      "cell_type": "code",
      "execution_count": 8,
      "id": "1c72d4f9-21e9-4650-a0bd-4d9492efb0e2",
      "metadata": {
        "tags": [],
        "colab": {
          "base_uri": "https://localhost:8080/"
        },
        "id": "1c72d4f9-21e9-4650-a0bd-4d9492efb0e2",
        "outputId": "07107098-edff-429e-b299-58f0bb0c9e8a"
      },
      "outputs": [
        {
          "output_type": "stream",
          "name": "stdout",
          "text": [
            "int64\n"
          ]
        },
        {
          "output_type": "execute_result",
          "data": {
            "text/plain": [
              "array([1, 2, 3])"
            ]
          },
          "metadata": {},
          "execution_count": 8
        }
      ],
      "source": [
        "s1_numpy = s1.to_numpy() ## serie de polars a un elemento numpy\n",
        "\n",
        "print(s1_numpy.dtype)\n",
        "\n",
        "s1_numpy"
      ]
    },
    {
      "cell_type": "markdown",
      "id": "af2f751a-4393-4945-952a-08ad66408c7c",
      "metadata": {
        "id": "af2f751a-4393-4945-952a-08ad66408c7c"
      },
      "source": [
        "### Convertir una serie de Polars a una serie de Pandas"
      ]
    },
    {
      "cell_type": "markdown",
      "id": "25ed0694-ea72-4b01-839e-78d792de50bc",
      "metadata": {
        "id": "25ed0694-ea72-4b01-839e-78d792de50bc"
      },
      "source": [
        "Esta operación requiere que `panda` y `pyarrow` estén instalados."
      ]
    },
    {
      "cell_type": "code",
      "source": [
        "import pandas as pd\n",
        "import pyarrow as pa"
      ],
      "metadata": {
        "id": "xaTcmvAfvku4"
      },
      "id": "xaTcmvAfvku4",
      "execution_count": 9,
      "outputs": []
    },
    {
      "cell_type": "code",
      "execution_count": 10,
      "id": "90ab13e7-4f9c-43d6-99cc-62b1857b159c",
      "metadata": {
        "tags": [],
        "colab": {
          "base_uri": "https://localhost:8080/",
          "height": 197
        },
        "id": "90ab13e7-4f9c-43d6-99cc-62b1857b159c",
        "outputId": "fa4a9f69-367e-480d-b0e4-baaf73fc49c6"
      },
      "outputs": [
        {
          "output_type": "stream",
          "name": "stdout",
          "text": [
            "int64\n"
          ]
        },
        {
          "output_type": "execute_result",
          "data": {
            "text/plain": [
              "0    1\n",
              "1    2\n",
              "2    3\n",
              "Name: num, dtype: int64"
            ],
            "text/html": [
              "<div>\n",
              "<style scoped>\n",
              "    .dataframe tbody tr th:only-of-type {\n",
              "        vertical-align: middle;\n",
              "    }\n",
              "\n",
              "    .dataframe tbody tr th {\n",
              "        vertical-align: top;\n",
              "    }\n",
              "\n",
              "    .dataframe thead th {\n",
              "        text-align: right;\n",
              "    }\n",
              "</style>\n",
              "<table border=\"1\" class=\"dataframe\">\n",
              "  <thead>\n",
              "    <tr style=\"text-align: right;\">\n",
              "      <th></th>\n",
              "      <th>num</th>\n",
              "    </tr>\n",
              "  </thead>\n",
              "  <tbody>\n",
              "    <tr>\n",
              "      <th>0</th>\n",
              "      <td>1</td>\n",
              "    </tr>\n",
              "    <tr>\n",
              "      <th>1</th>\n",
              "      <td>2</td>\n",
              "    </tr>\n",
              "    <tr>\n",
              "      <th>2</th>\n",
              "      <td>3</td>\n",
              "    </tr>\n",
              "  </tbody>\n",
              "</table>\n",
              "</div><br><label><b>dtype:</b> int64</label>"
            ]
          },
          "metadata": {},
          "execution_count": 10
        }
      ],
      "source": [
        "s1_pandas = s1.to_pandas()\n",
        "\n",
        "print(s1_pandas.dtype)\n",
        "\n",
        "s1_pandas"
      ]
    },
    {
      "cell_type": "markdown",
      "id": "046f1f20-10b0-49bf-b1e8-4bfeefceff54",
      "metadata": {
        "id": "046f1f20-10b0-49bf-b1e8-4bfeefceff54"
      },
      "source": [
        "### Castear una serie de Polars a una DataFrame de Polars"
      ]
    },
    {
      "cell_type": "code",
      "execution_count": 12,
      "id": "35c3ebd6-6838-4583-adeb-2fbfe1733368",
      "metadata": {
        "tags": [],
        "colab": {
          "base_uri": "https://localhost:8080/",
          "height": 192
        },
        "id": "35c3ebd6-6838-4583-adeb-2fbfe1733368",
        "outputId": "31f70145-8776-440e-a223-8b20ba16e174"
      },
      "outputs": [
        {
          "output_type": "execute_result",
          "data": {
            "text/plain": [
              "shape: (3, 1)\n",
              "┌─────┐\n",
              "│ num │\n",
              "│ --- │\n",
              "│ i64 │\n",
              "╞═════╡\n",
              "│ 1   │\n",
              "│ 2   │\n",
              "│ 3   │\n",
              "└─────┘"
            ],
            "text/html": [
              "<div><style>\n",
              ".dataframe > thead > tr,\n",
              ".dataframe > tbody > tr {\n",
              "  text-align: right;\n",
              "  white-space: pre-wrap;\n",
              "}\n",
              "</style>\n",
              "<small>shape: (3, 1)</small><table border=\"1\" class=\"dataframe\"><thead><tr><th>num</th></tr><tr><td>i64</td></tr></thead><tbody><tr><td>1</td></tr><tr><td>2</td></tr><tr><td>3</td></tr></tbody></table></div>"
            ]
          },
          "metadata": {},
          "execution_count": 12
        }
      ],
      "source": [
        "s1_df = s1.to_frame()  ## funcion to_frame de polars a un dataframe de pandas\n",
        "\n",
        "s1_df  ## dataframe de polars"
      ]
    },
    {
      "cell_type": "markdown",
      "source": [
        "##otros metodos listas arreglos, metodos matematicos"
      ],
      "metadata": {
        "id": "Kj8R__oZwBub"
      },
      "id": "Kj8R__oZwBub"
    },
    {
      "cell_type": "code",
      "source": [
        "frutas = pl.Series(\"fruta\",[ \"  uva\", \"naranjA \", \"FresA \", \"mangO\"])"
      ],
      "metadata": {
        "id": "-jwEVvGnwIhz"
      },
      "id": "-jwEVvGnwIhz",
      "execution_count": 24,
      "outputs": []
    },
    {
      "cell_type": "code",
      "source": [
        "frutas"
      ],
      "metadata": {
        "colab": {
          "base_uri": "https://localhost:8080/",
          "height": 223
        },
        "id": "kPMBiKtvwiHS",
        "outputId": "281b3958-a611-4033-bc0e-7af603983136"
      },
      "id": "kPMBiKtvwiHS",
      "execution_count": 25,
      "outputs": [
        {
          "output_type": "execute_result",
          "data": {
            "text/plain": [
              "shape: (4,)\n",
              "Series: 'fruta' [str]\n",
              "[\n",
              "\t\"  uva\"\n",
              "\t\"naranjA \"\n",
              "\t\"FresA \"\n",
              "\t\"mangO\"\n",
              "]"
            ],
            "text/html": [
              "<div><style>\n",
              ".dataframe > thead > tr,\n",
              ".dataframe > tbody > tr {\n",
              "  text-align: right;\n",
              "  white-space: pre-wrap;\n",
              "}\n",
              "</style>\n",
              "<small>shape: (4,)</small><table border=\"1\" class=\"dataframe\"><thead><tr><th>fruta</th></tr><tr><td>str</td></tr></thead><tbody><tr><td>&quot;  uva&quot;</td></tr><tr><td>&quot;naranjA &quot;</td></tr><tr><td>&quot;FresA &quot;</td></tr><tr><td>&quot;mangO&quot;</td></tr></tbody></table></div>"
            ]
          },
          "metadata": {},
          "execution_count": 25
        }
      ]
    },
    {
      "cell_type": "code",
      "source": [
        "frutas_b = frutas.str.strip_chars().str.to_lowercase()"
      ],
      "metadata": {
        "id": "-YqrUu3Axtn6"
      },
      "id": "-YqrUu3Axtn6",
      "execution_count": 26,
      "outputs": []
    },
    {
      "cell_type": "code",
      "source": [
        "frutas_b ## todos en minuscula y ninguno tiene espacios en blanco al inicio ni al final"
      ],
      "metadata": {
        "colab": {
          "base_uri": "https://localhost:8080/",
          "height": 223
        },
        "id": "zP5f27GJx9jb",
        "outputId": "5fee0421-9be3-4798-8f22-55e962aee774"
      },
      "id": "zP5f27GJx9jb",
      "execution_count": 28,
      "outputs": [
        {
          "output_type": "execute_result",
          "data": {
            "text/plain": [
              "shape: (4,)\n",
              "Series: 'fruta' [str]\n",
              "[\n",
              "\t\"uva\"\n",
              "\t\"naranja\"\n",
              "\t\"fresa\"\n",
              "\t\"mango\"\n",
              "]"
            ],
            "text/html": [
              "<div><style>\n",
              ".dataframe > thead > tr,\n",
              ".dataframe > tbody > tr {\n",
              "  text-align: right;\n",
              "  white-space: pre-wrap;\n",
              "}\n",
              "</style>\n",
              "<small>shape: (4,)</small><table border=\"1\" class=\"dataframe\"><thead><tr><th>fruta</th></tr><tr><td>str</td></tr></thead><tbody><tr><td>&quot;uva&quot;</td></tr><tr><td>&quot;naranja&quot;</td></tr><tr><td>&quot;fresa&quot;</td></tr><tr><td>&quot;mango&quot;</td></tr></tbody></table></div>"
            ]
          },
          "metadata": {},
          "execution_count": 28
        }
      ]
    },
    {
      "cell_type": "code",
      "source": [
        "frutas_ter_a = frutas_b.str.ends_with(\"a\")  ## crear una serie con los elementos que terminan con la letra a"
      ],
      "metadata": {
        "id": "QFOzqFrDyLrs"
      },
      "id": "QFOzqFrDyLrs",
      "execution_count": 31,
      "outputs": []
    },
    {
      "cell_type": "code",
      "source": [
        "frutas_ter_a"
      ],
      "metadata": {
        "colab": {
          "base_uri": "https://localhost:8080/",
          "height": 223
        },
        "id": "IO0k9TiLycyP",
        "outputId": "d6cc07b5-9026-4e05-efc3-3cb823301e9a"
      },
      "id": "IO0k9TiLycyP",
      "execution_count": 30,
      "outputs": [
        {
          "output_type": "execute_result",
          "data": {
            "text/plain": [
              "shape: (4,)\n",
              "Series: 'fruta' [bool]\n",
              "[\n",
              "\ttrue\n",
              "\ttrue\n",
              "\ttrue\n",
              "\tfalse\n",
              "]"
            ],
            "text/html": [
              "<div><style>\n",
              ".dataframe > thead > tr,\n",
              ".dataframe > tbody > tr {\n",
              "  text-align: right;\n",
              "  white-space: pre-wrap;\n",
              "}\n",
              "</style>\n",
              "<small>shape: (4,)</small><table border=\"1\" class=\"dataframe\"><thead><tr><th>fruta</th></tr><tr><td>bool</td></tr></thead><tbody><tr><td>true</td></tr><tr><td>true</td></tr><tr><td>true</td></tr><tr><td>false</td></tr></tbody></table></div>"
            ]
          },
          "metadata": {},
          "execution_count": 30
        }
      ]
    },
    {
      "cell_type": "code",
      "source": [
        "frutas_a = frutas_b.str.replace_all(\"a\",\"o\") ## reemplazo la letra a por o"
      ],
      "metadata": {
        "id": "xqy1XqxUymtA"
      },
      "id": "xqy1XqxUymtA",
      "execution_count": 34,
      "outputs": []
    },
    {
      "cell_type": "code",
      "source": [
        "frutas_a"
      ],
      "metadata": {
        "colab": {
          "base_uri": "https://localhost:8080/",
          "height": 223
        },
        "id": "UZBn5LGGy1Jj",
        "outputId": "aac47718-bc49-4ddb-b12c-539cef11f5ac"
      },
      "id": "UZBn5LGGy1Jj",
      "execution_count": 33,
      "outputs": [
        {
          "output_type": "execute_result",
          "data": {
            "text/plain": [
              "shape: (4,)\n",
              "Series: 'fruta' [str]\n",
              "[\n",
              "\t\"uvo\"\n",
              "\t\"noronjo\"\n",
              "\t\"freso\"\n",
              "\t\"mongo\"\n",
              "]"
            ],
            "text/html": [
              "<div><style>\n",
              ".dataframe > thead > tr,\n",
              ".dataframe > tbody > tr {\n",
              "  text-align: right;\n",
              "  white-space: pre-wrap;\n",
              "}\n",
              "</style>\n",
              "<small>shape: (4,)</small><table border=\"1\" class=\"dataframe\"><thead><tr><th>fruta</th></tr><tr><td>str</td></tr></thead><tbody><tr><td>&quot;uvo&quot;</td></tr><tr><td>&quot;noronjo&quot;</td></tr><tr><td>&quot;freso&quot;</td></tr><tr><td>&quot;mongo&quot;</td></tr></tbody></table></div>"
            ]
          },
          "metadata": {},
          "execution_count": 33
        }
      ]
    },
    {
      "cell_type": "markdown",
      "source": [
        "##ejercicio 02-."
      ],
      "metadata": {
        "id": "q2Rw8ffdy7Cy"
      },
      "id": "q2Rw8ffdy7Cy"
    },
    {
      "cell_type": "markdown",
      "source": [
        "##Cree una nueva serie a partir de la obtenida en el inciso b que indique verdadero o falso si el elemento de la serie termina en la letra a."
      ],
      "metadata": {
        "id": "syibComMw08C"
      },
      "id": "syibComMw08C"
    },
    {
      "cell_type": "code",
      "source": [
        "num = pl.Series(\"num\", [6, 6, 3, 23, 20, 12, 2, 15])"
      ],
      "metadata": {
        "id": "w5JSA3O9w51S"
      },
      "id": "w5JSA3O9w51S",
      "execution_count": 35,
      "outputs": []
    },
    {
      "cell_type": "code",
      "source": [
        "num"
      ],
      "metadata": {
        "colab": {
          "base_uri": "https://localhost:8080/",
          "height": 349
        },
        "id": "qS-xzaLoxBVl",
        "outputId": "bbd3200f-43b3-4076-976a-404fe46417f0"
      },
      "id": "qS-xzaLoxBVl",
      "execution_count": 36,
      "outputs": [
        {
          "output_type": "execute_result",
          "data": {
            "text/plain": [
              "shape: (8,)\n",
              "Series: 'num' [i64]\n",
              "[\n",
              "\t6\n",
              "\t6\n",
              "\t3\n",
              "\t23\n",
              "\t20\n",
              "\t12\n",
              "\t2\n",
              "\t15\n",
              "]"
            ],
            "text/html": [
              "<div><style>\n",
              ".dataframe > thead > tr,\n",
              ".dataframe > tbody > tr {\n",
              "  text-align: right;\n",
              "  white-space: pre-wrap;\n",
              "}\n",
              "</style>\n",
              "<small>shape: (8,)</small><table border=\"1\" class=\"dataframe\"><thead><tr><th>num</th></tr><tr><td>i64</td></tr></thead><tbody><tr><td>6</td></tr><tr><td>6</td></tr><tr><td>3</td></tr><tr><td>23</td></tr><tr><td>20</td></tr><tr><td>12</td></tr><tr><td>2</td></tr><tr><td>15</td></tr></tbody></table></div>"
            ]
          },
          "metadata": {},
          "execution_count": 36
        }
      ]
    },
    {
      "cell_type": "code",
      "source": [
        "num.max()"
      ],
      "metadata": {
        "colab": {
          "base_uri": "https://localhost:8080/"
        },
        "id": "Tvh6QfCXxD0D",
        "outputId": "53456158-1d8f-450f-8a5d-756861da7359"
      },
      "id": "Tvh6QfCXxD0D",
      "execution_count": 37,
      "outputs": [
        {
          "output_type": "execute_result",
          "data": {
            "text/plain": [
              "23"
            ]
          },
          "metadata": {},
          "execution_count": 37
        }
      ]
    },
    {
      "cell_type": "code",
      "source": [
        "num.min()"
      ],
      "metadata": {
        "colab": {
          "base_uri": "https://localhost:8080/"
        },
        "id": "vhhmlDrKxGW7",
        "outputId": "37e3e01e-706a-43be-a2fc-01327e9c3dba"
      },
      "id": "vhhmlDrKxGW7",
      "execution_count": 39,
      "outputs": [
        {
          "output_type": "execute_result",
          "data": {
            "text/plain": [
              "2"
            ]
          },
          "metadata": {},
          "execution_count": 39
        }
      ]
    },
    {
      "cell_type": "code",
      "source": [
        "num.mean()"
      ],
      "metadata": {
        "colab": {
          "base_uri": "https://localhost:8080/"
        },
        "id": "zRJkZM7nzIis",
        "outputId": "cfd9707b-cf20-4264-80e9-898fb5b49dc2"
      },
      "id": "zRJkZM7nzIis",
      "execution_count": 40,
      "outputs": [
        {
          "output_type": "execute_result",
          "data": {
            "text/plain": [
              "10.875"
            ]
          },
          "metadata": {},
          "execution_count": 40
        }
      ]
    },
    {
      "cell_type": "code",
      "source": [
        "num.sum()"
      ],
      "metadata": {
        "colab": {
          "base_uri": "https://localhost:8080/"
        },
        "id": "fOq8zcGazMO0",
        "outputId": "b87a3478-c562-4429-c854-673f28965114"
      },
      "id": "fOq8zcGazMO0",
      "execution_count": 41,
      "outputs": [
        {
          "output_type": "execute_result",
          "data": {
            "text/plain": [
              "87"
            ]
          },
          "metadata": {},
          "execution_count": 41
        }
      ]
    },
    {
      "cell_type": "code",
      "source": [
        "print(f\"el maximo {num.max()}\")  ## hacer todos los ejemplos"
      ],
      "metadata": {
        "colab": {
          "base_uri": "https://localhost:8080/"
        },
        "id": "N3uu6KoezRB2",
        "outputId": "e884ac90-a0c5-4e5d-848f-8f9cbfd954ee"
      },
      "id": "N3uu6KoezRB2",
      "execution_count": 43,
      "outputs": [
        {
          "output_type": "stream",
          "name": "stdout",
          "text": [
            "el maximo 23\n"
          ]
        }
      ]
    },
    {
      "cell_type": "markdown",
      "source": [
        "##factorial de un numero 1!"
      ],
      "metadata": {
        "id": "OtAKaVJDzjOy"
      },
      "id": "OtAKaVJDzjOy"
    },
    {
      "cell_type": "code",
      "source": [
        "def factorial(n:int):\n",
        "  if n == 0:\n",
        "    return 1\n",
        "  else:\n",
        "    return n * factorial(n-1)"
      ],
      "metadata": {
        "id": "TIszTX_mzfPf"
      },
      "id": "TIszTX_mzfPf",
      "execution_count": 46,
      "outputs": []
    },
    {
      "cell_type": "code",
      "source": [
        "def factorial(n:int):\n",
        "  if n == 0:\n",
        "    return 1\n",
        "  else:\n",
        "    s = pl.Series(\"num\", list(range(1,n+1)))\n",
        "    return s.product()"
      ],
      "metadata": {
        "id": "TK2M0NLa0ACr"
      },
      "id": "TK2M0NLa0ACr",
      "execution_count": 47,
      "outputs": []
    },
    {
      "cell_type": "code",
      "source": [
        "factorial(0)"
      ],
      "metadata": {
        "colab": {
          "base_uri": "https://localhost:8080/"
        },
        "id": "3lRTWD0E0TYm",
        "outputId": "8d427c16-3f3f-4a5d-c464-6ad922878946"
      },
      "id": "3lRTWD0E0TYm",
      "execution_count": 48,
      "outputs": [
        {
          "output_type": "execute_result",
          "data": {
            "text/plain": [
              "1"
            ]
          },
          "metadata": {},
          "execution_count": 48
        }
      ]
    },
    {
      "cell_type": "code",
      "source": [
        "factorial(3)"
      ],
      "metadata": {
        "colab": {
          "base_uri": "https://localhost:8080/"
        },
        "id": "sbupxvmD0V3H",
        "outputId": "120bbd0d-b05e-4c82-a4cb-7658a51e0b05"
      },
      "id": "sbupxvmD0V3H",
      "execution_count": 49,
      "outputs": [
        {
          "output_type": "execute_result",
          "data": {
            "text/plain": [
              "6"
            ]
          },
          "metadata": {},
          "execution_count": 49
        }
      ]
    },
    {
      "cell_type": "code",
      "source": [
        "factorial(5)"
      ],
      "metadata": {
        "colab": {
          "base_uri": "https://localhost:8080/"
        },
        "id": "eE-bspbS0ZvP",
        "outputId": "1fd5a667-d372-4659-a4c9-df38fd9f12ad"
      },
      "id": "eE-bspbS0ZvP",
      "execution_count": 50,
      "outputs": [
        {
          "output_type": "execute_result",
          "data": {
            "text/plain": [
              "120"
            ]
          },
          "metadata": {},
          "execution_count": 50
        }
      ]
    },
    {
      "cell_type": "code",
      "source": [
        "1*2*3*4*5"
      ],
      "metadata": {
        "colab": {
          "base_uri": "https://localhost:8080/"
        },
        "id": "TcKc4Bl00dFB",
        "outputId": "9c09a26c-d971-428b-f5d4-f3df5f1d66e3"
      },
      "id": "TcKc4Bl00dFB",
      "execution_count": 51,
      "outputs": [
        {
          "output_type": "execute_result",
          "data": {
            "text/plain": [
              "120"
            ]
          },
          "metadata": {},
          "execution_count": 51
        }
      ]
    }
  ],
  "metadata": {
    "kernelspec": {
      "display_name": "Python 3 (ipykernel)",
      "language": "python",
      "name": "python3"
    },
    "language_info": {
      "codemirror_mode": {
        "name": "ipython",
        "version": 3
      },
      "file_extension": ".py",
      "mimetype": "text/x-python",
      "name": "python",
      "nbconvert_exporter": "python",
      "pygments_lexer": "ipython3",
      "version": "3.9.6"
    },
    "colab": {
      "provenance": []
    }
  },
  "nbformat": 4,
  "nbformat_minor": 5
}