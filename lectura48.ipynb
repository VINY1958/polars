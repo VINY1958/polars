{
  "nbformat": 4,
  "nbformat_minor": 0,
  "metadata": {
    "colab": {
      "provenance": []
    },
    "kernelspec": {
      "name": "python3",
      "display_name": "Python 3"
    },
    "language_info": {
      "name": "python"
    }
  },
  "cells": [
    {
      "cell_type": "code",
      "source": [
        "import polars as pl"
      ],
      "metadata": {
        "id": "SzUQ3O5vW4Ia"
      },
      "execution_count": 2,
      "outputs": []
    },
    {
      "cell_type": "markdown",
      "source": [
        "## SELECTORES"
      ],
      "metadata": {
        "id": "6d_3JcfmVgxg"
      }
    },
    {
      "cell_type": "code",
      "execution_count": 3,
      "metadata": {
        "id": "2CJYinB2Vadg"
      },
      "outputs": [],
      "source": [
        "salarios = pl.DataFrame(\n",
        "    {\n",
        "        'lenguaje': ['Python', 'Scala', 'C','Python' , 'Scala', 'Java'],\n",
        "        'puesto': ['Sr','Sr','Jr','Jr','Sr','Jr'],\n",
        "        'salario':[5000,7000,10000,4500,5400,6000],\n",
        "        'experiencia': [3,5,8,2,4,2]\n",
        "        }\n",
        ")"
      ]
    },
    {
      "cell_type": "code",
      "source": [
        "operaciones = pl.DataFrame(\n",
        "  schema= {\n",
        "      \"a\": pl.UInt32,\n",
        "      \"b\": pl.Float64,\n",
        "      \"c\": pl.Float64,\n",
        "      \"d\": pl.Boolean,\n",
        "      \"e\": pl.Time,\n",
        "      \"f\": pl.Date,\n",
        "      \"g\": pl.Duration,\n",
        "      \"h\": pl.Datetime(\"ms\"),\n",
        "      \"i\": pl.String,\n",
        "\n",
        "  },\n",
        ")"
      ],
      "metadata": {
        "id": "bdT4tGFiXERy"
      },
      "execution_count": 6,
      "outputs": []
    },
    {
      "cell_type": "code",
      "source": [
        "salarios"
      ],
      "metadata": {
        "colab": {
          "base_uri": "https://localhost:8080/",
          "height": 286
        },
        "id": "QBGi1M47YK9j",
        "outputId": "02bf25e9-3ed1-463a-cc24-2027263e0dd8"
      },
      "execution_count": 7,
      "outputs": [
        {
          "output_type": "execute_result",
          "data": {
            "text/plain": [
              "shape: (6, 4)\n",
              "┌──────────┬────────┬─────────┬─────────────┐\n",
              "│ lenguaje ┆ puesto ┆ salario ┆ experiencia │\n",
              "│ ---      ┆ ---    ┆ ---     ┆ ---         │\n",
              "│ str      ┆ str    ┆ i64     ┆ i64         │\n",
              "╞══════════╪════════╪═════════╪═════════════╡\n",
              "│ Python   ┆ Sr     ┆ 5000    ┆ 3           │\n",
              "│ Scala    ┆ Sr     ┆ 7000    ┆ 5           │\n",
              "│ C        ┆ Jr     ┆ 10000   ┆ 8           │\n",
              "│ Python   ┆ Jr     ┆ 4500    ┆ 2           │\n",
              "│ Scala    ┆ Sr     ┆ 5400    ┆ 4           │\n",
              "│ Java     ┆ Jr     ┆ 6000    ┆ 2           │\n",
              "└──────────┴────────┴─────────┴─────────────┘"
            ],
            "text/html": [
              "<div><style>\n",
              ".dataframe > thead > tr,\n",
              ".dataframe > tbody > tr {\n",
              "  text-align: right;\n",
              "  white-space: pre-wrap;\n",
              "}\n",
              "</style>\n",
              "<small>shape: (6, 4)</small><table border=\"1\" class=\"dataframe\"><thead><tr><th>lenguaje</th><th>puesto</th><th>salario</th><th>experiencia</th></tr><tr><td>str</td><td>str</td><td>i64</td><td>i64</td></tr></thead><tbody><tr><td>&quot;Python&quot;</td><td>&quot;Sr&quot;</td><td>5000</td><td>3</td></tr><tr><td>&quot;Scala&quot;</td><td>&quot;Sr&quot;</td><td>7000</td><td>5</td></tr><tr><td>&quot;C&quot;</td><td>&quot;Jr&quot;</td><td>10000</td><td>8</td></tr><tr><td>&quot;Python&quot;</td><td>&quot;Jr&quot;</td><td>4500</td><td>2</td></tr><tr><td>&quot;Scala&quot;</td><td>&quot;Sr&quot;</td><td>5400</td><td>4</td></tr><tr><td>&quot;Java&quot;</td><td>&quot;Jr&quot;</td><td>6000</td><td>2</td></tr></tbody></table></div>"
            ]
          },
          "metadata": {},
          "execution_count": 7
        }
      ]
    },
    {
      "cell_type": "code",
      "source": [
        "operaciones"
      ],
      "metadata": {
        "colab": {
          "base_uri": "https://localhost:8080/",
          "height": 98
        },
        "id": "TjUPaRuJYNcD",
        "outputId": "9136b437-585d-4294-af18-8c0882919625"
      },
      "execution_count": 8,
      "outputs": [
        {
          "output_type": "execute_result",
          "data": {
            "text/plain": [
              "shape: (0, 9)\n",
              "┌─────┬─────┬─────┬──────┬───┬──────┬──────────────┬──────────────┬─────┐\n",
              "│ a   ┆ b   ┆ c   ┆ d    ┆ … ┆ f    ┆ g            ┆ h            ┆ i   │\n",
              "│ --- ┆ --- ┆ --- ┆ ---  ┆   ┆ ---  ┆ ---          ┆ ---          ┆ --- │\n",
              "│ u32 ┆ f64 ┆ f64 ┆ bool ┆   ┆ date ┆ duration[μs] ┆ datetime[ms] ┆ str │\n",
              "╞═════╪═════╪═════╪══════╪═══╪══════╪══════════════╪══════════════╪═════╡\n",
              "└─────┴─────┴─────┴──────┴───┴──────┴──────────────┴──────────────┴─────┘"
            ],
            "text/html": [
              "<div><style>\n",
              ".dataframe > thead > tr,\n",
              ".dataframe > tbody > tr {\n",
              "  text-align: right;\n",
              "  white-space: pre-wrap;\n",
              "}\n",
              "</style>\n",
              "<small>shape: (0, 9)</small><table border=\"1\" class=\"dataframe\"><thead><tr><th>a</th><th>b</th><th>c</th><th>d</th><th>e</th><th>f</th><th>g</th><th>h</th><th>i</th></tr><tr><td>u32</td><td>f64</td><td>f64</td><td>bool</td><td>time</td><td>date</td><td>duration[μs]</td><td>datetime[ms]</td><td>str</td></tr></thead><tbody></tbody></table></div>"
            ]
          },
          "metadata": {},
          "execution_count": 8
        }
      ]
    },
    {
      "cell_type": "code",
      "source": [
        "import polars.selectors as cs"
      ],
      "metadata": {
        "id": "Em-wG-hpYRTD"
      },
      "execution_count": 9,
      "outputs": []
    },
    {
      "cell_type": "code",
      "source": [
        "salarios"
      ],
      "metadata": {
        "colab": {
          "base_uri": "https://localhost:8080/",
          "height": 286
        },
        "id": "jaDMlBEQYcs8",
        "outputId": "1acdec66-7fd0-461e-c9c0-755b00981be0"
      },
      "execution_count": 10,
      "outputs": [
        {
          "output_type": "execute_result",
          "data": {
            "text/plain": [
              "shape: (6, 4)\n",
              "┌──────────┬────────┬─────────┬─────────────┐\n",
              "│ lenguaje ┆ puesto ┆ salario ┆ experiencia │\n",
              "│ ---      ┆ ---    ┆ ---     ┆ ---         │\n",
              "│ str      ┆ str    ┆ i64     ┆ i64         │\n",
              "╞══════════╪════════╪═════════╪═════════════╡\n",
              "│ Python   ┆ Sr     ┆ 5000    ┆ 3           │\n",
              "│ Scala    ┆ Sr     ┆ 7000    ┆ 5           │\n",
              "│ C        ┆ Jr     ┆ 10000   ┆ 8           │\n",
              "│ Python   ┆ Jr     ┆ 4500    ┆ 2           │\n",
              "│ Scala    ┆ Sr     ┆ 5400    ┆ 4           │\n",
              "│ Java     ┆ Jr     ┆ 6000    ┆ 2           │\n",
              "└──────────┴────────┴─────────┴─────────────┘"
            ],
            "text/html": [
              "<div><style>\n",
              ".dataframe > thead > tr,\n",
              ".dataframe > tbody > tr {\n",
              "  text-align: right;\n",
              "  white-space: pre-wrap;\n",
              "}\n",
              "</style>\n",
              "<small>shape: (6, 4)</small><table border=\"1\" class=\"dataframe\"><thead><tr><th>lenguaje</th><th>puesto</th><th>salario</th><th>experiencia</th></tr><tr><td>str</td><td>str</td><td>i64</td><td>i64</td></tr></thead><tbody><tr><td>&quot;Python&quot;</td><td>&quot;Sr&quot;</td><td>5000</td><td>3</td></tr><tr><td>&quot;Scala&quot;</td><td>&quot;Sr&quot;</td><td>7000</td><td>5</td></tr><tr><td>&quot;C&quot;</td><td>&quot;Jr&quot;</td><td>10000</td><td>8</td></tr><tr><td>&quot;Python&quot;</td><td>&quot;Jr&quot;</td><td>4500</td><td>2</td></tr><tr><td>&quot;Scala&quot;</td><td>&quot;Sr&quot;</td><td>5400</td><td>4</td></tr><tr><td>&quot;Java&quot;</td><td>&quot;Jr&quot;</td><td>6000</td><td>2</td></tr></tbody></table></div>"
            ]
          },
          "metadata": {},
          "execution_count": 10
        }
      ]
    },
    {
      "cell_type": "code",
      "source": [
        "salarios.group_by(cs.string()).agg(\n",
        "    cs.numeric().mean().name.suffix('_avg')\n",
        ")"
      ],
      "metadata": {
        "colab": {
          "base_uri": "https://localhost:8080/",
          "height": 255
        },
        "id": "ZQmP1trdYhH2",
        "outputId": "51908b63-4ab7-4675-8d9e-977b4a985416"
      },
      "execution_count": 14,
      "outputs": [
        {
          "output_type": "execute_result",
          "data": {
            "text/plain": [
              "shape: (5, 4)\n",
              "┌──────────┬────────┬─────────────┬─────────────────┐\n",
              "│ lenguaje ┆ puesto ┆ salario_avg ┆ experiencia_avg │\n",
              "│ ---      ┆ ---    ┆ ---         ┆ ---             │\n",
              "│ str      ┆ str    ┆ f64         ┆ f64             │\n",
              "╞══════════╪════════╪═════════════╪═════════════════╡\n",
              "│ Python   ┆ Sr     ┆ 5000.0      ┆ 3.0             │\n",
              "│ Java     ┆ Jr     ┆ 6000.0      ┆ 2.0             │\n",
              "│ C        ┆ Jr     ┆ 10000.0     ┆ 8.0             │\n",
              "│ Scala    ┆ Sr     ┆ 6200.0      ┆ 4.5             │\n",
              "│ Python   ┆ Jr     ┆ 4500.0      ┆ 2.0             │\n",
              "└──────────┴────────┴─────────────┴─────────────────┘"
            ],
            "text/html": [
              "<div><style>\n",
              ".dataframe > thead > tr,\n",
              ".dataframe > tbody > tr {\n",
              "  text-align: right;\n",
              "  white-space: pre-wrap;\n",
              "}\n",
              "</style>\n",
              "<small>shape: (5, 4)</small><table border=\"1\" class=\"dataframe\"><thead><tr><th>lenguaje</th><th>puesto</th><th>salario_avg</th><th>experiencia_avg</th></tr><tr><td>str</td><td>str</td><td>f64</td><td>f64</td></tr></thead><tbody><tr><td>&quot;Python&quot;</td><td>&quot;Sr&quot;</td><td>5000.0</td><td>3.0</td></tr><tr><td>&quot;Java&quot;</td><td>&quot;Jr&quot;</td><td>6000.0</td><td>2.0</td></tr><tr><td>&quot;C&quot;</td><td>&quot;Jr&quot;</td><td>10000.0</td><td>8.0</td></tr><tr><td>&quot;Scala&quot;</td><td>&quot;Sr&quot;</td><td>6200.0</td><td>4.5</td></tr><tr><td>&quot;Python&quot;</td><td>&quot;Jr&quot;</td><td>4500.0</td><td>2.0</td></tr></tbody></table></div>"
            ]
          },
          "metadata": {},
          "execution_count": 14
        }
      ]
    },
    {
      "cell_type": "code",
      "source": [
        "operaciones.select(\n",
        "    cs.numeric() | cs.string()\n",
        ")"
      ],
      "metadata": {
        "colab": {
          "base_uri": "https://localhost:8080/",
          "height": 98
        },
        "id": "KrGUj3VfZII7",
        "outputId": "967de8a5-139d-4fc3-a8b4-5790557c24bd"
      },
      "execution_count": 16,
      "outputs": [
        {
          "output_type": "execute_result",
          "data": {
            "text/plain": [
              "shape: (0, 4)\n",
              "┌─────┬─────┬─────┬─────┐\n",
              "│ a   ┆ b   ┆ c   ┆ i   │\n",
              "│ --- ┆ --- ┆ --- ┆ --- │\n",
              "│ u32 ┆ f64 ┆ f64 ┆ str │\n",
              "╞═════╪═════╪═════╪═════╡\n",
              "└─────┴─────┴─────┴─────┘"
            ],
            "text/html": [
              "<div><style>\n",
              ".dataframe > thead > tr,\n",
              ".dataframe > tbody > tr {\n",
              "  text-align: right;\n",
              "  white-space: pre-wrap;\n",
              "}\n",
              "</style>\n",
              "<small>shape: (0, 4)</small><table border=\"1\" class=\"dataframe\"><thead><tr><th>a</th><th>b</th><th>c</th><th>i</th></tr><tr><td>u32</td><td>f64</td><td>f64</td><td>str</td></tr></thead><tbody></tbody></table></div>"
            ]
          },
          "metadata": {},
          "execution_count": 16
        }
      ]
    },
    {
      "cell_type": "code",
      "source": [
        "operaciones.select(\n",
        "    cs.temporal() & cs.matches('g|h')\n",
        ")"
      ],
      "metadata": {
        "colab": {
          "base_uri": "https://localhost:8080/",
          "height": 98
        },
        "id": "J-am9xdgZmg3",
        "outputId": "59e2848f-c88b-44dd-ae73-083b7f52cd6d"
      },
      "execution_count": 17,
      "outputs": [
        {
          "output_type": "execute_result",
          "data": {
            "text/plain": [
              "shape: (0, 2)\n",
              "┌──────────────┬──────────────┐\n",
              "│ g            ┆ h            │\n",
              "│ ---          ┆ ---          │\n",
              "│ duration[μs] ┆ datetime[ms] │\n",
              "╞══════════════╪══════════════╡\n",
              "└──────────────┴──────────────┘"
            ],
            "text/html": [
              "<div><style>\n",
              ".dataframe > thead > tr,\n",
              ".dataframe > tbody > tr {\n",
              "  text-align: right;\n",
              "  white-space: pre-wrap;\n",
              "}\n",
              "</style>\n",
              "<small>shape: (0, 2)</small><table border=\"1\" class=\"dataframe\"><thead><tr><th>g</th><th>h</th></tr><tr><td>duration[μs]</td><td>datetime[ms]</td></tr></thead><tbody></tbody></table></div>"
            ]
          },
          "metadata": {},
          "execution_count": 17
        }
      ]
    },
    {
      "cell_type": "code",
      "source": [
        "operaciones.select(\n",
        "    cs.numeric() - cs.first()\n",
        ")"
      ],
      "metadata": {
        "colab": {
          "base_uri": "https://localhost:8080/",
          "height": 98
        },
        "id": "XwK1GuYgaFAr",
        "outputId": "0759b351-77a3-44ad-9e17-10fa174ac74a"
      },
      "execution_count": 18,
      "outputs": [
        {
          "output_type": "execute_result",
          "data": {
            "text/plain": [
              "shape: (0, 2)\n",
              "┌─────┬─────┐\n",
              "│ b   ┆ c   │\n",
              "│ --- ┆ --- │\n",
              "│ f64 ┆ f64 │\n",
              "╞═════╪═════╡\n",
              "└─────┴─────┘"
            ],
            "text/html": [
              "<div><style>\n",
              ".dataframe > thead > tr,\n",
              ".dataframe > tbody > tr {\n",
              "  text-align: right;\n",
              "  white-space: pre-wrap;\n",
              "}\n",
              "</style>\n",
              "<small>shape: (0, 2)</small><table border=\"1\" class=\"dataframe\"><thead><tr><th>b</th><th>c</th></tr><tr><td>f64</td><td>f64</td></tr></thead><tbody></tbody></table></div>"
            ]
          },
          "metadata": {},
          "execution_count": 18
        }
      ]
    },
    {
      "cell_type": "code",
      "source": [
        "operaciones.select(\n",
        "      ~cs.numeric()\n",
        ")"
      ],
      "metadata": {
        "colab": {
          "base_uri": "https://localhost:8080/",
          "height": 98
        },
        "id": "G2_XesoiaaSu",
        "outputId": "4a413dee-7540-4eba-a8ca-1d7b2d99fba2"
      },
      "execution_count": 20,
      "outputs": [
        {
          "output_type": "execute_result",
          "data": {
            "text/plain": [
              "shape: (0, 6)\n",
              "┌──────┬──────┬──────┬──────────────┬──────────────┬─────┐\n",
              "│ d    ┆ e    ┆ f    ┆ g            ┆ h            ┆ i   │\n",
              "│ ---  ┆ ---  ┆ ---  ┆ ---          ┆ ---          ┆ --- │\n",
              "│ bool ┆ time ┆ date ┆ duration[μs] ┆ datetime[ms] ┆ str │\n",
              "╞══════╪══════╪══════╪══════════════╪══════════════╪═════╡\n",
              "└──────┴──────┴──────┴──────────────┴──────────────┴─────┘"
            ],
            "text/html": [
              "<div><style>\n",
              ".dataframe > thead > tr,\n",
              ".dataframe > tbody > tr {\n",
              "  text-align: right;\n",
              "  white-space: pre-wrap;\n",
              "}\n",
              "</style>\n",
              "<small>shape: (0, 6)</small><table border=\"1\" class=\"dataframe\"><thead><tr><th>d</th><th>e</th><th>f</th><th>g</th><th>h</th><th>i</th></tr><tr><td>bool</td><td>time</td><td>date</td><td>duration[μs]</td><td>datetime[ms]</td><td>str</td></tr></thead><tbody></tbody></table></div>"
            ]
          },
          "metadata": {},
          "execution_count": 20
        }
      ]
    },
    {
      "cell_type": "markdown",
      "source": [
        "### LECTURA 49-funciones de seleccion"
      ],
      "metadata": {
        "id": "C8xJH-8vbBbh"
      }
    },
    {
      "cell_type": "code",
      "source": [
        "df = pl.DataFrame(\n",
        "    schema={\n",
        "        \"edad\": pl.UInt32,\n",
        "        \"salario\": pl.Float64,\n",
        "        \"estatura\": pl.Float32,\n",
        "        \"residente\": pl.Boolean,\n",
        "        \"hora\": pl.Time,\n",
        "        \"nacimiento\": pl.Date,\n",
        "        \"trabajando\": pl.Duration,\n",
        "        \"log\": pl.Datetime(\"ms\"),\n",
        "        \"direccion\": pl.String,\n",
        "    },\n",
        ")"
      ],
      "metadata": {
        "id": "teuv5Vh4bBJD"
      },
      "execution_count": 21,
      "outputs": []
    },
    {
      "cell_type": "code",
      "source": [
        "df"
      ],
      "metadata": {
        "colab": {
          "base_uri": "https://localhost:8080/",
          "height": 98
        },
        "id": "3m4iCWNScm4w",
        "outputId": "a599d280-b783-42d6-d99b-d2ba03a82fd8"
      },
      "execution_count": 22,
      "outputs": [
        {
          "output_type": "execute_result",
          "data": {
            "text/plain": [
              "shape: (0, 9)\n",
              "┌──────┬─────────┬──────────┬───────────┬───┬────────────┬──────────────┬──────────────┬───────────┐\n",
              "│ edad ┆ salario ┆ estatura ┆ residente ┆ … ┆ nacimiento ┆ trabajando   ┆ log          ┆ direccion │\n",
              "│ ---  ┆ ---     ┆ ---      ┆ ---       ┆   ┆ ---        ┆ ---          ┆ ---          ┆ ---       │\n",
              "│ u32  ┆ f64     ┆ f32      ┆ bool      ┆   ┆ date       ┆ duration[μs] ┆ datetime[ms] ┆ str       │\n",
              "╞══════╪═════════╪══════════╪═══════════╪═══╪════════════╪══════════════╪══════════════╪═══════════╡\n",
              "└──────┴─────────┴──────────┴───────────┴───┴────────────┴──────────────┴──────────────┴───────────┘"
            ],
            "text/html": [
              "<div><style>\n",
              ".dataframe > thead > tr,\n",
              ".dataframe > tbody > tr {\n",
              "  text-align: right;\n",
              "  white-space: pre-wrap;\n",
              "}\n",
              "</style>\n",
              "<small>shape: (0, 9)</small><table border=\"1\" class=\"dataframe\"><thead><tr><th>edad</th><th>salario</th><th>estatura</th><th>residente</th><th>hora</th><th>nacimiento</th><th>trabajando</th><th>log</th><th>direccion</th></tr><tr><td>u32</td><td>f64</td><td>f32</td><td>bool</td><td>time</td><td>date</td><td>duration[μs]</td><td>datetime[ms]</td><td>str</td></tr></thead><tbody></tbody></table></div>"
            ]
          },
          "metadata": {},
          "execution_count": 22
        }
      ]
    },
    {
      "cell_type": "code",
      "source": [
        "import polars.selectors as cs"
      ],
      "metadata": {
        "id": "nooXoKzNcqLA"
      },
      "execution_count": 23,
      "outputs": []
    },
    {
      "cell_type": "code",
      "source": [
        "df.select(\n",
        "    cs.by_dtype(pl.String, pl.Date)\n",
        ")"
      ],
      "metadata": {
        "colab": {
          "base_uri": "https://localhost:8080/",
          "height": 98
        },
        "id": "4mtdUTmAcvBg",
        "outputId": "fc46e989-8ce9-470c-b11d-90b4c754c521"
      },
      "execution_count": 24,
      "outputs": [
        {
          "output_type": "execute_result",
          "data": {
            "text/plain": [
              "shape: (0, 2)\n",
              "┌────────────┬───────────┐\n",
              "│ nacimiento ┆ direccion │\n",
              "│ ---        ┆ ---       │\n",
              "│ date       ┆ str       │\n",
              "╞════════════╪═══════════╡\n",
              "└────────────┴───────────┘"
            ],
            "text/html": [
              "<div><style>\n",
              ".dataframe > thead > tr,\n",
              ".dataframe > tbody > tr {\n",
              "  text-align: right;\n",
              "  white-space: pre-wrap;\n",
              "}\n",
              "</style>\n",
              "<small>shape: (0, 2)</small><table border=\"1\" class=\"dataframe\"><thead><tr><th>nacimiento</th><th>direccion</th></tr><tr><td>date</td><td>str</td></tr></thead><tbody></tbody></table></div>"
            ]
          },
          "metadata": {},
          "execution_count": 24
        }
      ]
    },
    {
      "cell_type": "code",
      "source": [
        "df.select(\n",
        "    cs.contains('re')\n",
        ")"
      ],
      "metadata": {
        "colab": {
          "base_uri": "https://localhost:8080/",
          "height": 98
        },
        "id": "ZOXVTPTddtgF",
        "outputId": "745ea742-53a8-40b6-d1a9-cd547334f388"
      },
      "execution_count": 25,
      "outputs": [
        {
          "output_type": "execute_result",
          "data": {
            "text/plain": [
              "shape: (0, 2)\n",
              "┌───────────┬───────────┐\n",
              "│ residente ┆ direccion │\n",
              "│ ---       ┆ ---       │\n",
              "│ bool      ┆ str       │\n",
              "╞═══════════╪═══════════╡\n",
              "└───────────┴───────────┘"
            ],
            "text/html": [
              "<div><style>\n",
              ".dataframe > thead > tr,\n",
              ".dataframe > tbody > tr {\n",
              "  text-align: right;\n",
              "  white-space: pre-wrap;\n",
              "}\n",
              "</style>\n",
              "<small>shape: (0, 2)</small><table border=\"1\" class=\"dataframe\"><thead><tr><th>residente</th><th>direccion</th></tr><tr><td>bool</td><td>str</td></tr></thead><tbody></tbody></table></div>"
            ]
          },
          "metadata": {},
          "execution_count": 25
        }
      ]
    },
    {
      "cell_type": "markdown",
      "source": [
        "## LECTURA 50- FUNCIONES DE CONVERSION"
      ],
      "metadata": {
        "id": "N2_i-_Yue9ts"
      }
    },
    {
      "cell_type": "code",
      "source": [],
      "metadata": {
        "id": "001kRGPGg05T"
      },
      "execution_count": null,
      "outputs": []
    },
    {
      "cell_type": "code",
      "source": [
        "import pyarrow.parquet as pq\n",
        "import polars as pl"
      ],
      "metadata": {
        "id": "XAZ0IUYXfF0N"
      },
      "execution_count": 3,
      "outputs": []
    },
    {
      "cell_type": "code",
      "source": [
        "valores = [['a','b','c'], [1,2,3]]"
      ],
      "metadata": {
        "id": "BCjpDBmIfQ2H"
      },
      "execution_count": 4,
      "outputs": []
    },
    {
      "cell_type": "code",
      "source": [
        "valores"
      ],
      "metadata": {
        "colab": {
          "base_uri": "https://localhost:8080/"
        },
        "id": "WUnBS52lfkFA",
        "outputId": "d23c9f56-bb18-4f14-e64b-393089ddd5f3"
      },
      "execution_count": 5,
      "outputs": [
        {
          "output_type": "execute_result",
          "data": {
            "text/plain": [
              "[['a', 'b', 'c'], [1, 2, 3]]"
            ]
          },
          "metadata": {},
          "execution_count": 5
        }
      ]
    },
    {
      "cell_type": "code",
      "source": [
        "diccionario = {\"id\": [1,2,3], 'letra': ['x','y','z']}"
      ],
      "metadata": {
        "id": "VYHiCfp-fmcQ"
      },
      "execution_count": 6,
      "outputs": []
    },
    {
      "cell_type": "code",
      "source": [
        "diccionario"
      ],
      "metadata": {
        "colab": {
          "base_uri": "https://localhost:8080/"
        },
        "id": "73jiqxcqf35E",
        "outputId": "7188f0a4-3e05-4013-c931-475e28d590e1"
      },
      "execution_count": 7,
      "outputs": [
        {
          "output_type": "execute_result",
          "data": {
            "text/plain": [
              "{'id': [1, 2, 3], 'letra': ['x', 'y', 'z']}"
            ]
          },
          "metadata": {},
          "execution_count": 7
        }
      ]
    },
    {
      "cell_type": "code",
      "source": [
        "tabla_vuelos = pq.read_table('/content/drive/MyDrive/polars/seccion05/vuelos/vuelos.parquet')"
      ],
      "metadata": {
        "id": "6D51Ld8tgGpm"
      },
      "execution_count": 9,
      "outputs": []
    },
    {
      "cell_type": "code",
      "source": [
        "tabla_vuelos"
      ],
      "metadata": {
        "colab": {
          "base_uri": "https://localhost:8080/"
        },
        "id": "R4lnGBrthbvo",
        "outputId": "463a2bad-5d12-4840-a36b-aef2b3fe1cfc"
      },
      "execution_count": 10,
      "outputs": [
        {
          "output_type": "execute_result",
          "data": {
            "text/plain": [
              "pyarrow.Table\n",
              "YEAR: int32\n",
              "MONTH: int32\n",
              "DAY: int32\n",
              "DAY_OF_WEEK: int32\n",
              "AIRLINE: string\n",
              "FLIGHT_NUMBER: int32\n",
              "TAIL_NUMBER: string\n",
              "ORIGIN_AIRPORT: string\n",
              "DESTINATION_AIRPORT: string\n",
              "SCHEDULED_DEPARTURE: int32\n",
              "DEPARTURE_TIME: int32\n",
              "DEPARTURE_DELAY: int32\n",
              "TAXI_OUT: int32\n",
              "WHEELS_OFF: int32\n",
              "SCHEDULED_TIME: int32\n",
              "ELAPSED_TIME: int32\n",
              "AIR_TIME: int32\n",
              "DISTANCE: int32\n",
              "WHEELS_ON: int32\n",
              "TAXI_IN: int32\n",
              "SCHEDULED_ARRIVAL: int32\n",
              "ARRIVAL_TIME: int32\n",
              "ARRIVAL_DELAY: int32\n",
              "DIVERTED: int32\n",
              "CANCELLED: int32\n",
              "CANCELLATION_REASON: string\n",
              "AIR_SYSTEM_DELAY: int32\n",
              "SECURITY_DELAY: int32\n",
              "AIRLINE_DELAY: int32\n",
              "LATE_AIRCRAFT_DELAY: int32\n",
              "WEATHER_DELAY: int32\n",
              "----\n",
              "YEAR: [[2015,2015,2015,2015,2015,...,2015,2015,2015,2015,2015],[2015,2015,2015,2015,2015,...,2015,2015,2015,2015,2015],...,[2015,2015,2015,2015,2015,...,2015,2015,2015,2015,2015],[2015,2015,2015,2015,2015,...,2015,2015,2015,2015,2015]]\n",
              "MONTH: [[1,1,1,1,1,...,1,1,1,1,1],[1,1,1,1,1,...,1,1,1,1,1],...,[12,12,12,12,12,...,12,12,12,12,12],[12,12,12,12,12,...,12,12,12,12,12]]\n",
              "DAY: [[1,1,1,1,1,...,9,9,9,9,9],[9,9,9,9,9,...,18,18,18,18,18],...,[18,18,18,18,18,...,26,26,26,26,26],[26,26,26,26,26,...,31,31,31,31,31]]\n",
              "DAY_OF_WEEK: [[4,4,4,4,4,...,5,5,5,5,5],[5,5,5,5,5,...,7,7,7,7,7],...,[5,5,5,5,5,...,6,6,6,6,6],[6,6,6,6,6,...,4,4,4,4,4]]\n",
              "AIRLINE: [[\"AS\",\"AA\",\"US\",\"AA\",\"AS\",...,\"WN\",\"WN\",\"WN\",\"WN\",\"WN\"],[\"WN\",\"WN\",\"WN\",\"WN\",\"WN\",...,\"EV\",\"EV\",\"F9\",\"HA\",\"MQ\"],...,[\"DL\",\"DL\",\"DL\",\"F9\",\"F9\",...,\"DL\",\"DL\",\"DL\",\"EV\",\"F9\"],[\"NK\",\"NK\",\"NK\",\"NK\",\"NK\",...,\"B6\",\"B6\",\"B6\",\"B6\",\"B6\"]]\n",
              "FLIGHT_NUMBER: [[98,2336,840,258,135,...,3587,2771,599,7,285],[274,3851,483,469,2352,...,5455,6067,1278,120,2939],...,[2351,803,832,1001,918,...,2398,2561,2803,6072,337],[779,706,821,869,749,...,688,745,1503,333,839]]\n",
              "TAIL_NUMBER: [[\"N407AS\",\"N3KUAA\",\"N171US\",\"N3HYAA\",\"N527AS\",...,\"N372SW\",\"N550WN\",\"N658SW\",\"N251WN\",\"N8633A\"],[\"N960WN\",\"N964WN\",\"N379SW\",\"N787SA\",\"N242WN\",...,\"N926EV\",\"N12142\",\"N912FR\",\"N493HA\",\"N683MQ\"],...,[\"N956DN\",\"N917DE\",\"N6700\",\"N208FR\",\"N927FR\",...,\"N607AT\",\"N963AT\",\"N905DE\",\"N12195\",\"N223FR\"],[\"N601NK\",\"N639NK\",\"N506NK\",\"N533NK\",\"N621NK\",...,\"N657JB\",\"N828JB\",\"N913JB\",\"N527JB\",\"N534JB\"]]\n",
              "ORIGIN_AIRPORT: [[\"ANC\",\"LAX\",\"SFO\",\"LAX\",\"SEA\",...,\"BWI\",\"CMH\",\"DEN\",\"HOU\",\"PHX\"],[\"RSW\",\"SEA\",\"ABQ\",\"ATL\",\"ATL\",...,\"DTW\",\"LBB\",\"MCO\",\"HNL\",\"DFW\"],...,[\"RDU\",\"CVG\",\"SLC\",\"PHL\",\"MCO\",...,\"DTW\",\"ATL\",\"JFK\",\"IND\",\"MSP\"],[\"LGA\",\"DTW\",\"BWI\",\"LAS\",\"MSP\",...,\"LAX\",\"JFK\",\"JFK\",\"MCO\",\"JFK\"]]\n",
              "DESTINATION_AIRPORT: [[\"SEA\",\"PBI\",\"CLT\",\"MIA\",\"ANC\",...,\"PWM\",\"MDW\",\"SDF\",\"ATL\",\"DEN\"],[\"IND\",\"MKE\",\"DEN\",\"CAK\",\"DTW\",...,\"CID\",\"DEN\",\"PHL\",\"KOA\",\"FWA\"],...,[\"ATL\",\"MCO\",\"DCA\",\"MIA\",\"TTN\",...,\"DCA\",\"GSP\",\"MSY\",\"ORD\",\"DEN\"],[\"FLL\",\"LAX\",\"ATL\",\"PDX\",\"DFW\",...,\"BOS\",\"PSE\",\"SJU\",\"SJU\",\"BQN\"]]\n",
              "SCHEDULED_DEPARTURE: [[5,10,20,20,25,...,1030,1030,1030,1030,1030],[1030,1030,1030,1030,1030,...,850,850,850,850,850],...,[945,945,945,945,945,...,1955,1955,1955,1955,1955],[1955,1955,1955,1955,1955,...,2359,2359,2359,2359,2359]]\n",
              "..."
            ]
          },
          "metadata": {},
          "execution_count": 10
        }
      ]
    },
    {
      "cell_type": "code",
      "source": [
        "vuelos_df = pl.from_arrow(tabla_vuelos)  ### Crear un DataFrame o una Serie a partir de una Tabla o Matriz de Flechas."
      ],
      "metadata": {
        "id": "o1emIV1JhoUC"
      },
      "execution_count": 12,
      "outputs": []
    },
    {
      "cell_type": "code",
      "source": [
        "print(vuelos_df)"
      ],
      "metadata": {
        "colab": {
          "base_uri": "https://localhost:8080/"
        },
        "id": "j15x1ggXiKJ_",
        "outputId": "06bc26ab-784c-46e2-dd6c-cf4e8e74601f"
      },
      "execution_count": 14,
      "outputs": [
        {
          "output_type": "stream",
          "name": "stdout",
          "text": [
            "shape: (5_819_079, 31)\n",
            "┌──────┬───────┬─────┬─────────────┬───┬──────────────┬──────────────┬──────────────┬──────────────┐\n",
            "│ YEAR ┆ MONTH ┆ DAY ┆ DAY_OF_WEEK ┆ … ┆ SECURITY_DEL ┆ AIRLINE_DELA ┆ LATE_AIRCRAF ┆ WEATHER_DELA │\n",
            "│ ---  ┆ ---   ┆ --- ┆ ---         ┆   ┆ AY           ┆ Y            ┆ T_DELAY      ┆ Y            │\n",
            "│ i32  ┆ i32   ┆ i32 ┆ i32         ┆   ┆ ---          ┆ ---          ┆ ---          ┆ ---          │\n",
            "│      ┆       ┆     ┆             ┆   ┆ i32          ┆ i32          ┆ i32          ┆ i32          │\n",
            "╞══════╪═══════╪═════╪═════════════╪═══╪══════════════╪══════════════╪══════════════╪══════════════╡\n",
            "│ 2015 ┆ 1     ┆ 1   ┆ 4           ┆ … ┆ null         ┆ null         ┆ null         ┆ null         │\n",
            "│ 2015 ┆ 1     ┆ 1   ┆ 4           ┆ … ┆ null         ┆ null         ┆ null         ┆ null         │\n",
            "│ 2015 ┆ 1     ┆ 1   ┆ 4           ┆ … ┆ null         ┆ null         ┆ null         ┆ null         │\n",
            "│ 2015 ┆ 1     ┆ 1   ┆ 4           ┆ … ┆ null         ┆ null         ┆ null         ┆ null         │\n",
            "│ 2015 ┆ 1     ┆ 1   ┆ 4           ┆ … ┆ null         ┆ null         ┆ null         ┆ null         │\n",
            "│ …    ┆ …     ┆ …   ┆ …           ┆ … ┆ …            ┆ …            ┆ …            ┆ …            │\n",
            "│ 2015 ┆ 12    ┆ 31  ┆ 4           ┆ … ┆ null         ┆ null         ┆ null         ┆ null         │\n",
            "│ 2015 ┆ 12    ┆ 31  ┆ 4           ┆ … ┆ null         ┆ null         ┆ null         ┆ null         │\n",
            "│ 2015 ┆ 12    ┆ 31  ┆ 4           ┆ … ┆ null         ┆ null         ┆ null         ┆ null         │\n",
            "│ 2015 ┆ 12    ┆ 31  ┆ 4           ┆ … ┆ null         ┆ null         ┆ null         ┆ null         │\n",
            "│ 2015 ┆ 12    ┆ 31  ┆ 4           ┆ … ┆ null         ┆ null         ┆ null         ┆ null         │\n",
            "└──────┴───────┴─────┴─────────────┴───┴──────────────┴──────────────┴──────────────┴──────────────┘\n"
          ]
        }
      ]
    },
    {
      "cell_type": "code",
      "source": [
        "vuelos_pd = tabla_vuelos.to_pandas()"
      ],
      "metadata": {
        "id": "0A6-Of0giQHA"
      },
      "execution_count": 15,
      "outputs": []
    },
    {
      "cell_type": "code",
      "source": [
        "vuelos_pd"
      ],
      "metadata": {
        "colab": {
          "base_uri": "https://localhost:8080/",
          "height": 443
        },
        "id": "8g3pqEF7iaaY",
        "outputId": "c8e39e4b-efa2-4e29-830d-a492b699924c"
      },
      "execution_count": 16,
      "outputs": [
        {
          "output_type": "execute_result",
          "data": {
            "text/plain": [
              "         YEAR  MONTH  DAY  DAY_OF_WEEK AIRLINE  FLIGHT_NUMBER TAIL_NUMBER  \\\n",
              "0        2015      1    1            4      AS             98      N407AS   \n",
              "1        2015      1    1            4      AA           2336      N3KUAA   \n",
              "2        2015      1    1            4      US            840      N171US   \n",
              "3        2015      1    1            4      AA            258      N3HYAA   \n",
              "4        2015      1    1            4      AS            135      N527AS   \n",
              "...       ...    ...  ...          ...     ...            ...         ...   \n",
              "5819074  2015     12   31            4      B6            688      N657JB   \n",
              "5819075  2015     12   31            4      B6            745      N828JB   \n",
              "5819076  2015     12   31            4      B6           1503      N913JB   \n",
              "5819077  2015     12   31            4      B6            333      N527JB   \n",
              "5819078  2015     12   31            4      B6            839      N534JB   \n",
              "\n",
              "        ORIGIN_AIRPORT DESTINATION_AIRPORT  SCHEDULED_DEPARTURE  ...  \\\n",
              "0                  ANC                 SEA                    5  ...   \n",
              "1                  LAX                 PBI                   10  ...   \n",
              "2                  SFO                 CLT                   20  ...   \n",
              "3                  LAX                 MIA                   20  ...   \n",
              "4                  SEA                 ANC                   25  ...   \n",
              "...                ...                 ...                  ...  ...   \n",
              "5819074            LAX                 BOS                 2359  ...   \n",
              "5819075            JFK                 PSE                 2359  ...   \n",
              "5819076            JFK                 SJU                 2359  ...   \n",
              "5819077            MCO                 SJU                 2359  ...   \n",
              "5819078            JFK                 BQN                 2359  ...   \n",
              "\n",
              "         ARRIVAL_TIME  ARRIVAL_DELAY  DIVERTED  CANCELLED  \\\n",
              "0               408.0          -22.0         0          0   \n",
              "1               741.0           -9.0         0          0   \n",
              "2               811.0            5.0         0          0   \n",
              "3               756.0           -9.0         0          0   \n",
              "4               259.0          -21.0         0          0   \n",
              "...               ...            ...       ...        ...   \n",
              "5819074         753.0          -26.0         0          0   \n",
              "5819075         430.0          -16.0         0          0   \n",
              "5819076         432.0           -8.0         0          0   \n",
              "5819077         330.0          -10.0         0          0   \n",
              "5819078         442.0            2.0         0          0   \n",
              "\n",
              "         CANCELLATION_REASON  AIR_SYSTEM_DELAY  SECURITY_DELAY  AIRLINE_DELAY  \\\n",
              "0                       None               NaN             NaN            NaN   \n",
              "1                       None               NaN             NaN            NaN   \n",
              "2                       None               NaN             NaN            NaN   \n",
              "3                       None               NaN             NaN            NaN   \n",
              "4                       None               NaN             NaN            NaN   \n",
              "...                      ...               ...             ...            ...   \n",
              "5819074                 None               NaN             NaN            NaN   \n",
              "5819075                 None               NaN             NaN            NaN   \n",
              "5819076                 None               NaN             NaN            NaN   \n",
              "5819077                 None               NaN             NaN            NaN   \n",
              "5819078                 None               NaN             NaN            NaN   \n",
              "\n",
              "         LATE_AIRCRAFT_DELAY  WEATHER_DELAY  \n",
              "0                        NaN            NaN  \n",
              "1                        NaN            NaN  \n",
              "2                        NaN            NaN  \n",
              "3                        NaN            NaN  \n",
              "4                        NaN            NaN  \n",
              "...                      ...            ...  \n",
              "5819074                  NaN            NaN  \n",
              "5819075                  NaN            NaN  \n",
              "5819076                  NaN            NaN  \n",
              "5819077                  NaN            NaN  \n",
              "5819078                  NaN            NaN  \n",
              "\n",
              "[5819079 rows x 31 columns]"
            ],
            "text/html": [
              "\n",
              "  <div id=\"df-34287d2e-b4fa-47c2-95c6-87a44bc991bb\" class=\"colab-df-container\">\n",
              "    <div>\n",
              "<style scoped>\n",
              "    .dataframe tbody tr th:only-of-type {\n",
              "        vertical-align: middle;\n",
              "    }\n",
              "\n",
              "    .dataframe tbody tr th {\n",
              "        vertical-align: top;\n",
              "    }\n",
              "\n",
              "    .dataframe thead th {\n",
              "        text-align: right;\n",
              "    }\n",
              "</style>\n",
              "<table border=\"1\" class=\"dataframe\">\n",
              "  <thead>\n",
              "    <tr style=\"text-align: right;\">\n",
              "      <th></th>\n",
              "      <th>YEAR</th>\n",
              "      <th>MONTH</th>\n",
              "      <th>DAY</th>\n",
              "      <th>DAY_OF_WEEK</th>\n",
              "      <th>AIRLINE</th>\n",
              "      <th>FLIGHT_NUMBER</th>\n",
              "      <th>TAIL_NUMBER</th>\n",
              "      <th>ORIGIN_AIRPORT</th>\n",
              "      <th>DESTINATION_AIRPORT</th>\n",
              "      <th>SCHEDULED_DEPARTURE</th>\n",
              "      <th>...</th>\n",
              "      <th>ARRIVAL_TIME</th>\n",
              "      <th>ARRIVAL_DELAY</th>\n",
              "      <th>DIVERTED</th>\n",
              "      <th>CANCELLED</th>\n",
              "      <th>CANCELLATION_REASON</th>\n",
              "      <th>AIR_SYSTEM_DELAY</th>\n",
              "      <th>SECURITY_DELAY</th>\n",
              "      <th>AIRLINE_DELAY</th>\n",
              "      <th>LATE_AIRCRAFT_DELAY</th>\n",
              "      <th>WEATHER_DELAY</th>\n",
              "    </tr>\n",
              "  </thead>\n",
              "  <tbody>\n",
              "    <tr>\n",
              "      <th>0</th>\n",
              "      <td>2015</td>\n",
              "      <td>1</td>\n",
              "      <td>1</td>\n",
              "      <td>4</td>\n",
              "      <td>AS</td>\n",
              "      <td>98</td>\n",
              "      <td>N407AS</td>\n",
              "      <td>ANC</td>\n",
              "      <td>SEA</td>\n",
              "      <td>5</td>\n",
              "      <td>...</td>\n",
              "      <td>408.0</td>\n",
              "      <td>-22.0</td>\n",
              "      <td>0</td>\n",
              "      <td>0</td>\n",
              "      <td>None</td>\n",
              "      <td>NaN</td>\n",
              "      <td>NaN</td>\n",
              "      <td>NaN</td>\n",
              "      <td>NaN</td>\n",
              "      <td>NaN</td>\n",
              "    </tr>\n",
              "    <tr>\n",
              "      <th>1</th>\n",
              "      <td>2015</td>\n",
              "      <td>1</td>\n",
              "      <td>1</td>\n",
              "      <td>4</td>\n",
              "      <td>AA</td>\n",
              "      <td>2336</td>\n",
              "      <td>N3KUAA</td>\n",
              "      <td>LAX</td>\n",
              "      <td>PBI</td>\n",
              "      <td>10</td>\n",
              "      <td>...</td>\n",
              "      <td>741.0</td>\n",
              "      <td>-9.0</td>\n",
              "      <td>0</td>\n",
              "      <td>0</td>\n",
              "      <td>None</td>\n",
              "      <td>NaN</td>\n",
              "      <td>NaN</td>\n",
              "      <td>NaN</td>\n",
              "      <td>NaN</td>\n",
              "      <td>NaN</td>\n",
              "    </tr>\n",
              "    <tr>\n",
              "      <th>2</th>\n",
              "      <td>2015</td>\n",
              "      <td>1</td>\n",
              "      <td>1</td>\n",
              "      <td>4</td>\n",
              "      <td>US</td>\n",
              "      <td>840</td>\n",
              "      <td>N171US</td>\n",
              "      <td>SFO</td>\n",
              "      <td>CLT</td>\n",
              "      <td>20</td>\n",
              "      <td>...</td>\n",
              "      <td>811.0</td>\n",
              "      <td>5.0</td>\n",
              "      <td>0</td>\n",
              "      <td>0</td>\n",
              "      <td>None</td>\n",
              "      <td>NaN</td>\n",
              "      <td>NaN</td>\n",
              "      <td>NaN</td>\n",
              "      <td>NaN</td>\n",
              "      <td>NaN</td>\n",
              "    </tr>\n",
              "    <tr>\n",
              "      <th>3</th>\n",
              "      <td>2015</td>\n",
              "      <td>1</td>\n",
              "      <td>1</td>\n",
              "      <td>4</td>\n",
              "      <td>AA</td>\n",
              "      <td>258</td>\n",
              "      <td>N3HYAA</td>\n",
              "      <td>LAX</td>\n",
              "      <td>MIA</td>\n",
              "      <td>20</td>\n",
              "      <td>...</td>\n",
              "      <td>756.0</td>\n",
              "      <td>-9.0</td>\n",
              "      <td>0</td>\n",
              "      <td>0</td>\n",
              "      <td>None</td>\n",
              "      <td>NaN</td>\n",
              "      <td>NaN</td>\n",
              "      <td>NaN</td>\n",
              "      <td>NaN</td>\n",
              "      <td>NaN</td>\n",
              "    </tr>\n",
              "    <tr>\n",
              "      <th>4</th>\n",
              "      <td>2015</td>\n",
              "      <td>1</td>\n",
              "      <td>1</td>\n",
              "      <td>4</td>\n",
              "      <td>AS</td>\n",
              "      <td>135</td>\n",
              "      <td>N527AS</td>\n",
              "      <td>SEA</td>\n",
              "      <td>ANC</td>\n",
              "      <td>25</td>\n",
              "      <td>...</td>\n",
              "      <td>259.0</td>\n",
              "      <td>-21.0</td>\n",
              "      <td>0</td>\n",
              "      <td>0</td>\n",
              "      <td>None</td>\n",
              "      <td>NaN</td>\n",
              "      <td>NaN</td>\n",
              "      <td>NaN</td>\n",
              "      <td>NaN</td>\n",
              "      <td>NaN</td>\n",
              "    </tr>\n",
              "    <tr>\n",
              "      <th>...</th>\n",
              "      <td>...</td>\n",
              "      <td>...</td>\n",
              "      <td>...</td>\n",
              "      <td>...</td>\n",
              "      <td>...</td>\n",
              "      <td>...</td>\n",
              "      <td>...</td>\n",
              "      <td>...</td>\n",
              "      <td>...</td>\n",
              "      <td>...</td>\n",
              "      <td>...</td>\n",
              "      <td>...</td>\n",
              "      <td>...</td>\n",
              "      <td>...</td>\n",
              "      <td>...</td>\n",
              "      <td>...</td>\n",
              "      <td>...</td>\n",
              "      <td>...</td>\n",
              "      <td>...</td>\n",
              "      <td>...</td>\n",
              "      <td>...</td>\n",
              "    </tr>\n",
              "    <tr>\n",
              "      <th>5819074</th>\n",
              "      <td>2015</td>\n",
              "      <td>12</td>\n",
              "      <td>31</td>\n",
              "      <td>4</td>\n",
              "      <td>B6</td>\n",
              "      <td>688</td>\n",
              "      <td>N657JB</td>\n",
              "      <td>LAX</td>\n",
              "      <td>BOS</td>\n",
              "      <td>2359</td>\n",
              "      <td>...</td>\n",
              "      <td>753.0</td>\n",
              "      <td>-26.0</td>\n",
              "      <td>0</td>\n",
              "      <td>0</td>\n",
              "      <td>None</td>\n",
              "      <td>NaN</td>\n",
              "      <td>NaN</td>\n",
              "      <td>NaN</td>\n",
              "      <td>NaN</td>\n",
              "      <td>NaN</td>\n",
              "    </tr>\n",
              "    <tr>\n",
              "      <th>5819075</th>\n",
              "      <td>2015</td>\n",
              "      <td>12</td>\n",
              "      <td>31</td>\n",
              "      <td>4</td>\n",
              "      <td>B6</td>\n",
              "      <td>745</td>\n",
              "      <td>N828JB</td>\n",
              "      <td>JFK</td>\n",
              "      <td>PSE</td>\n",
              "      <td>2359</td>\n",
              "      <td>...</td>\n",
              "      <td>430.0</td>\n",
              "      <td>-16.0</td>\n",
              "      <td>0</td>\n",
              "      <td>0</td>\n",
              "      <td>None</td>\n",
              "      <td>NaN</td>\n",
              "      <td>NaN</td>\n",
              "      <td>NaN</td>\n",
              "      <td>NaN</td>\n",
              "      <td>NaN</td>\n",
              "    </tr>\n",
              "    <tr>\n",
              "      <th>5819076</th>\n",
              "      <td>2015</td>\n",
              "      <td>12</td>\n",
              "      <td>31</td>\n",
              "      <td>4</td>\n",
              "      <td>B6</td>\n",
              "      <td>1503</td>\n",
              "      <td>N913JB</td>\n",
              "      <td>JFK</td>\n",
              "      <td>SJU</td>\n",
              "      <td>2359</td>\n",
              "      <td>...</td>\n",
              "      <td>432.0</td>\n",
              "      <td>-8.0</td>\n",
              "      <td>0</td>\n",
              "      <td>0</td>\n",
              "      <td>None</td>\n",
              "      <td>NaN</td>\n",
              "      <td>NaN</td>\n",
              "      <td>NaN</td>\n",
              "      <td>NaN</td>\n",
              "      <td>NaN</td>\n",
              "    </tr>\n",
              "    <tr>\n",
              "      <th>5819077</th>\n",
              "      <td>2015</td>\n",
              "      <td>12</td>\n",
              "      <td>31</td>\n",
              "      <td>4</td>\n",
              "      <td>B6</td>\n",
              "      <td>333</td>\n",
              "      <td>N527JB</td>\n",
              "      <td>MCO</td>\n",
              "      <td>SJU</td>\n",
              "      <td>2359</td>\n",
              "      <td>...</td>\n",
              "      <td>330.0</td>\n",
              "      <td>-10.0</td>\n",
              "      <td>0</td>\n",
              "      <td>0</td>\n",
              "      <td>None</td>\n",
              "      <td>NaN</td>\n",
              "      <td>NaN</td>\n",
              "      <td>NaN</td>\n",
              "      <td>NaN</td>\n",
              "      <td>NaN</td>\n",
              "    </tr>\n",
              "    <tr>\n",
              "      <th>5819078</th>\n",
              "      <td>2015</td>\n",
              "      <td>12</td>\n",
              "      <td>31</td>\n",
              "      <td>4</td>\n",
              "      <td>B6</td>\n",
              "      <td>839</td>\n",
              "      <td>N534JB</td>\n",
              "      <td>JFK</td>\n",
              "      <td>BQN</td>\n",
              "      <td>2359</td>\n",
              "      <td>...</td>\n",
              "      <td>442.0</td>\n",
              "      <td>2.0</td>\n",
              "      <td>0</td>\n",
              "      <td>0</td>\n",
              "      <td>None</td>\n",
              "      <td>NaN</td>\n",
              "      <td>NaN</td>\n",
              "      <td>NaN</td>\n",
              "      <td>NaN</td>\n",
              "      <td>NaN</td>\n",
              "    </tr>\n",
              "  </tbody>\n",
              "</table>\n",
              "<p>5819079 rows × 31 columns</p>\n",
              "</div>\n",
              "    <div class=\"colab-df-buttons\">\n",
              "\n",
              "  <div class=\"colab-df-container\">\n",
              "    <button class=\"colab-df-convert\" onclick=\"convertToInteractive('df-34287d2e-b4fa-47c2-95c6-87a44bc991bb')\"\n",
              "            title=\"Convert this dataframe to an interactive table.\"\n",
              "            style=\"display:none;\">\n",
              "\n",
              "  <svg xmlns=\"http://www.w3.org/2000/svg\" height=\"24px\" viewBox=\"0 -960 960 960\">\n",
              "    <path d=\"M120-120v-720h720v720H120Zm60-500h600v-160H180v160Zm220 220h160v-160H400v160Zm0 220h160v-160H400v160ZM180-400h160v-160H180v160Zm440 0h160v-160H620v160ZM180-180h160v-160H180v160Zm440 0h160v-160H620v160Z\"/>\n",
              "  </svg>\n",
              "    </button>\n",
              "\n",
              "  <style>\n",
              "    .colab-df-container {\n",
              "      display:flex;\n",
              "      gap: 12px;\n",
              "    }\n",
              "\n",
              "    .colab-df-convert {\n",
              "      background-color: #E8F0FE;\n",
              "      border: none;\n",
              "      border-radius: 50%;\n",
              "      cursor: pointer;\n",
              "      display: none;\n",
              "      fill: #1967D2;\n",
              "      height: 32px;\n",
              "      padding: 0 0 0 0;\n",
              "      width: 32px;\n",
              "    }\n",
              "\n",
              "    .colab-df-convert:hover {\n",
              "      background-color: #E2EBFA;\n",
              "      box-shadow: 0px 1px 2px rgba(60, 64, 67, 0.3), 0px 1px 3px 1px rgba(60, 64, 67, 0.15);\n",
              "      fill: #174EA6;\n",
              "    }\n",
              "\n",
              "    .colab-df-buttons div {\n",
              "      margin-bottom: 4px;\n",
              "    }\n",
              "\n",
              "    [theme=dark] .colab-df-convert {\n",
              "      background-color: #3B4455;\n",
              "      fill: #D2E3FC;\n",
              "    }\n",
              "\n",
              "    [theme=dark] .colab-df-convert:hover {\n",
              "      background-color: #434B5C;\n",
              "      box-shadow: 0px 1px 3px 1px rgba(0, 0, 0, 0.15);\n",
              "      filter: drop-shadow(0px 1px 2px rgba(0, 0, 0, 0.3));\n",
              "      fill: #FFFFFF;\n",
              "    }\n",
              "  </style>\n",
              "\n",
              "    <script>\n",
              "      const buttonEl =\n",
              "        document.querySelector('#df-34287d2e-b4fa-47c2-95c6-87a44bc991bb button.colab-df-convert');\n",
              "      buttonEl.style.display =\n",
              "        google.colab.kernel.accessAllowed ? 'block' : 'none';\n",
              "\n",
              "      async function convertToInteractive(key) {\n",
              "        const element = document.querySelector('#df-34287d2e-b4fa-47c2-95c6-87a44bc991bb');\n",
              "        const dataTable =\n",
              "          await google.colab.kernel.invokeFunction('convertToInteractive',\n",
              "                                                    [key], {});\n",
              "        if (!dataTable) return;\n",
              "\n",
              "        const docLinkHtml = 'Like what you see? Visit the ' +\n",
              "          '<a target=\"_blank\" href=https://colab.research.google.com/notebooks/data_table.ipynb>data table notebook</a>'\n",
              "          + ' to learn more about interactive tables.';\n",
              "        element.innerHTML = '';\n",
              "        dataTable['output_type'] = 'display_data';\n",
              "        await google.colab.output.renderOutput(dataTable, element);\n",
              "        const docLink = document.createElement('div');\n",
              "        docLink.innerHTML = docLinkHtml;\n",
              "        element.appendChild(docLink);\n",
              "      }\n",
              "    </script>\n",
              "  </div>\n",
              "\n",
              "\n",
              "<div id=\"df-4eb3c020-49ea-4f70-b2d9-8ff12c56e64d\">\n",
              "  <button class=\"colab-df-quickchart\" onclick=\"quickchart('df-4eb3c020-49ea-4f70-b2d9-8ff12c56e64d')\"\n",
              "            title=\"Suggest charts\"\n",
              "            style=\"display:none;\">\n",
              "\n",
              "<svg xmlns=\"http://www.w3.org/2000/svg\" height=\"24px\"viewBox=\"0 0 24 24\"\n",
              "     width=\"24px\">\n",
              "    <g>\n",
              "        <path d=\"M19 3H5c-1.1 0-2 .9-2 2v14c0 1.1.9 2 2 2h14c1.1 0 2-.9 2-2V5c0-1.1-.9-2-2-2zM9 17H7v-7h2v7zm4 0h-2V7h2v10zm4 0h-2v-4h2v4z\"/>\n",
              "    </g>\n",
              "</svg>\n",
              "  </button>\n",
              "\n",
              "<style>\n",
              "  .colab-df-quickchart {\n",
              "      --bg-color: #E8F0FE;\n",
              "      --fill-color: #1967D2;\n",
              "      --hover-bg-color: #E2EBFA;\n",
              "      --hover-fill-color: #174EA6;\n",
              "      --disabled-fill-color: #AAA;\n",
              "      --disabled-bg-color: #DDD;\n",
              "  }\n",
              "\n",
              "  [theme=dark] .colab-df-quickchart {\n",
              "      --bg-color: #3B4455;\n",
              "      --fill-color: #D2E3FC;\n",
              "      --hover-bg-color: #434B5C;\n",
              "      --hover-fill-color: #FFFFFF;\n",
              "      --disabled-bg-color: #3B4455;\n",
              "      --disabled-fill-color: #666;\n",
              "  }\n",
              "\n",
              "  .colab-df-quickchart {\n",
              "    background-color: var(--bg-color);\n",
              "    border: none;\n",
              "    border-radius: 50%;\n",
              "    cursor: pointer;\n",
              "    display: none;\n",
              "    fill: var(--fill-color);\n",
              "    height: 32px;\n",
              "    padding: 0;\n",
              "    width: 32px;\n",
              "  }\n",
              "\n",
              "  .colab-df-quickchart:hover {\n",
              "    background-color: var(--hover-bg-color);\n",
              "    box-shadow: 0 1px 2px rgba(60, 64, 67, 0.3), 0 1px 3px 1px rgba(60, 64, 67, 0.15);\n",
              "    fill: var(--button-hover-fill-color);\n",
              "  }\n",
              "\n",
              "  .colab-df-quickchart-complete:disabled,\n",
              "  .colab-df-quickchart-complete:disabled:hover {\n",
              "    background-color: var(--disabled-bg-color);\n",
              "    fill: var(--disabled-fill-color);\n",
              "    box-shadow: none;\n",
              "  }\n",
              "\n",
              "  .colab-df-spinner {\n",
              "    border: 2px solid var(--fill-color);\n",
              "    border-color: transparent;\n",
              "    border-bottom-color: var(--fill-color);\n",
              "    animation:\n",
              "      spin 1s steps(1) infinite;\n",
              "  }\n",
              "\n",
              "  @keyframes spin {\n",
              "    0% {\n",
              "      border-color: transparent;\n",
              "      border-bottom-color: var(--fill-color);\n",
              "      border-left-color: var(--fill-color);\n",
              "    }\n",
              "    20% {\n",
              "      border-color: transparent;\n",
              "      border-left-color: var(--fill-color);\n",
              "      border-top-color: var(--fill-color);\n",
              "    }\n",
              "    30% {\n",
              "      border-color: transparent;\n",
              "      border-left-color: var(--fill-color);\n",
              "      border-top-color: var(--fill-color);\n",
              "      border-right-color: var(--fill-color);\n",
              "    }\n",
              "    40% {\n",
              "      border-color: transparent;\n",
              "      border-right-color: var(--fill-color);\n",
              "      border-top-color: var(--fill-color);\n",
              "    }\n",
              "    60% {\n",
              "      border-color: transparent;\n",
              "      border-right-color: var(--fill-color);\n",
              "    }\n",
              "    80% {\n",
              "      border-color: transparent;\n",
              "      border-right-color: var(--fill-color);\n",
              "      border-bottom-color: var(--fill-color);\n",
              "    }\n",
              "    90% {\n",
              "      border-color: transparent;\n",
              "      border-bottom-color: var(--fill-color);\n",
              "    }\n",
              "  }\n",
              "</style>\n",
              "\n",
              "  <script>\n",
              "    async function quickchart(key) {\n",
              "      const quickchartButtonEl =\n",
              "        document.querySelector('#' + key + ' button');\n",
              "      quickchartButtonEl.disabled = true;  // To prevent multiple clicks.\n",
              "      quickchartButtonEl.classList.add('colab-df-spinner');\n",
              "      try {\n",
              "        const charts = await google.colab.kernel.invokeFunction(\n",
              "            'suggestCharts', [key], {});\n",
              "      } catch (error) {\n",
              "        console.error('Error during call to suggestCharts:', error);\n",
              "      }\n",
              "      quickchartButtonEl.classList.remove('colab-df-spinner');\n",
              "      quickchartButtonEl.classList.add('colab-df-quickchart-complete');\n",
              "    }\n",
              "    (() => {\n",
              "      let quickchartButtonEl =\n",
              "        document.querySelector('#df-4eb3c020-49ea-4f70-b2d9-8ff12c56e64d button');\n",
              "      quickchartButtonEl.style.display =\n",
              "        google.colab.kernel.accessAllowed ? 'block' : 'none';\n",
              "    })();\n",
              "  </script>\n",
              "</div>\n",
              "\n",
              "  <div id=\"id_348d268b-da24-496d-b20e-c2a02c8b8e8d\">\n",
              "    <style>\n",
              "      .colab-df-generate {\n",
              "        background-color: #E8F0FE;\n",
              "        border: none;\n",
              "        border-radius: 50%;\n",
              "        cursor: pointer;\n",
              "        display: none;\n",
              "        fill: #1967D2;\n",
              "        height: 32px;\n",
              "        padding: 0 0 0 0;\n",
              "        width: 32px;\n",
              "      }\n",
              "\n",
              "      .colab-df-generate:hover {\n",
              "        background-color: #E2EBFA;\n",
              "        box-shadow: 0px 1px 2px rgba(60, 64, 67, 0.3), 0px 1px 3px 1px rgba(60, 64, 67, 0.15);\n",
              "        fill: #174EA6;\n",
              "      }\n",
              "\n",
              "      [theme=dark] .colab-df-generate {\n",
              "        background-color: #3B4455;\n",
              "        fill: #D2E3FC;\n",
              "      }\n",
              "\n",
              "      [theme=dark] .colab-df-generate:hover {\n",
              "        background-color: #434B5C;\n",
              "        box-shadow: 0px 1px 3px 1px rgba(0, 0, 0, 0.15);\n",
              "        filter: drop-shadow(0px 1px 2px rgba(0, 0, 0, 0.3));\n",
              "        fill: #FFFFFF;\n",
              "      }\n",
              "    </style>\n",
              "    <button class=\"colab-df-generate\" onclick=\"generateWithVariable('vuelos_pd')\"\n",
              "            title=\"Generate code using this dataframe.\"\n",
              "            style=\"display:none;\">\n",
              "\n",
              "  <svg xmlns=\"http://www.w3.org/2000/svg\" height=\"24px\"viewBox=\"0 0 24 24\"\n",
              "       width=\"24px\">\n",
              "    <path d=\"M7,19H8.4L18.45,9,17,7.55,7,17.6ZM5,21V16.75L18.45,3.32a2,2,0,0,1,2.83,0l1.4,1.43a1.91,1.91,0,0,1,.58,1.4,1.91,1.91,0,0,1-.58,1.4L9.25,21ZM18.45,9,17,7.55Zm-12,3A5.31,5.31,0,0,0,4.9,8.1,5.31,5.31,0,0,0,1,6.5,5.31,5.31,0,0,0,4.9,4.9,5.31,5.31,0,0,0,6.5,1,5.31,5.31,0,0,0,8.1,4.9,5.31,5.31,0,0,0,12,6.5,5.46,5.46,0,0,0,6.5,12Z\"/>\n",
              "  </svg>\n",
              "    </button>\n",
              "    <script>\n",
              "      (() => {\n",
              "      const buttonEl =\n",
              "        document.querySelector('#id_348d268b-da24-496d-b20e-c2a02c8b8e8d button.colab-df-generate');\n",
              "      buttonEl.style.display =\n",
              "        google.colab.kernel.accessAllowed ? 'block' : 'none';\n",
              "\n",
              "      buttonEl.onclick = () => {\n",
              "        google.colab.notebook.generateWithVariable('vuelos_pd');\n",
              "      }\n",
              "      })();\n",
              "    </script>\n",
              "  </div>\n",
              "\n",
              "    </div>\n",
              "  </div>\n"
            ],
            "application/vnd.google.colaboratory.intrinsic+json": {
              "type": "dataframe",
              "variable_name": "vuelos_pd"
            }
          },
          "metadata": {},
          "execution_count": 16
        }
      ]
    },
    {
      "cell_type": "code",
      "source": [
        "vuelos_df = pl.from_pandas(vuelos_pd)\n",
        "print(vuelos_df)"
      ],
      "metadata": {
        "colab": {
          "base_uri": "https://localhost:8080/"
        },
        "id": "aWo6Z1nDijz5",
        "outputId": "0c1e0ac9-487d-4ed4-d331-3e4900257bbb"
      },
      "execution_count": 17,
      "outputs": [
        {
          "output_type": "stream",
          "name": "stdout",
          "text": [
            "shape: (5_819_079, 31)\n",
            "┌──────┬───────┬─────┬─────────────┬───┬──────────────┬──────────────┬──────────────┬──────────────┐\n",
            "│ YEAR ┆ MONTH ┆ DAY ┆ DAY_OF_WEEK ┆ … ┆ SECURITY_DEL ┆ AIRLINE_DELA ┆ LATE_AIRCRAF ┆ WEATHER_DELA │\n",
            "│ ---  ┆ ---   ┆ --- ┆ ---         ┆   ┆ AY           ┆ Y            ┆ T_DELAY      ┆ Y            │\n",
            "│ i32  ┆ i32   ┆ i32 ┆ i32         ┆   ┆ ---          ┆ ---          ┆ ---          ┆ ---          │\n",
            "│      ┆       ┆     ┆             ┆   ┆ f64          ┆ f64          ┆ f64          ┆ f64          │\n",
            "╞══════╪═══════╪═════╪═════════════╪═══╪══════════════╪══════════════╪══════════════╪══════════════╡\n",
            "│ 2015 ┆ 1     ┆ 1   ┆ 4           ┆ … ┆ null         ┆ null         ┆ null         ┆ null         │\n",
            "│ 2015 ┆ 1     ┆ 1   ┆ 4           ┆ … ┆ null         ┆ null         ┆ null         ┆ null         │\n",
            "│ 2015 ┆ 1     ┆ 1   ┆ 4           ┆ … ┆ null         ┆ null         ┆ null         ┆ null         │\n",
            "│ 2015 ┆ 1     ┆ 1   ┆ 4           ┆ … ┆ null         ┆ null         ┆ null         ┆ null         │\n",
            "│ 2015 ┆ 1     ┆ 1   ┆ 4           ┆ … ┆ null         ┆ null         ┆ null         ┆ null         │\n",
            "│ …    ┆ …     ┆ …   ┆ …           ┆ … ┆ …            ┆ …            ┆ …            ┆ …            │\n",
            "│ 2015 ┆ 12    ┆ 31  ┆ 4           ┆ … ┆ null         ┆ null         ┆ null         ┆ null         │\n",
            "│ 2015 ┆ 12    ┆ 31  ┆ 4           ┆ … ┆ null         ┆ null         ┆ null         ┆ null         │\n",
            "│ 2015 ┆ 12    ┆ 31  ┆ 4           ┆ … ┆ null         ┆ null         ┆ null         ┆ null         │\n",
            "│ 2015 ┆ 12    ┆ 31  ┆ 4           ┆ … ┆ null         ┆ null         ┆ null         ┆ null         │\n",
            "│ 2015 ┆ 12    ┆ 31  ┆ 4           ┆ … ┆ null         ┆ null         ┆ null         ┆ null         │\n",
            "└──────┴───────┴─────┴─────────────┴───┴──────────────┴──────────────┴──────────────┴──────────────┘\n"
          ]
        }
      ]
    },
    {
      "cell_type": "code",
      "source": [
        "vuelos_np = vuelos_pd.to_numpy()"
      ],
      "metadata": {
        "id": "YEgo8_r4jCG8"
      },
      "execution_count": 18,
      "outputs": []
    },
    {
      "cell_type": "code",
      "source": [
        "type(vuelos_np)"
      ],
      "metadata": {
        "colab": {
          "base_uri": "https://localhost:8080/"
        },
        "id": "eKBazKe1jM5X",
        "outputId": "29ff83c6-bb5e-48fc-916c-046385283b4c"
      },
      "execution_count": 19,
      "outputs": [
        {
          "output_type": "execute_result",
          "data": {
            "text/plain": [
              "numpy.ndarray"
            ]
          },
          "metadata": {},
          "execution_count": 19
        }
      ]
    },
    {
      "cell_type": "code",
      "source": [
        "vuelos_np"
      ],
      "metadata": {
        "colab": {
          "base_uri": "https://localhost:8080/"
        },
        "id": "YMHYcw0yjS0P",
        "outputId": "4e63daf4-ddd4-46b9-aebe-8876a088d510"
      },
      "execution_count": 20,
      "outputs": [
        {
          "output_type": "execute_result",
          "data": {
            "text/plain": [
              "array([[2015, 1, 1, ..., nan, nan, nan],\n",
              "       [2015, 1, 1, ..., nan, nan, nan],\n",
              "       [2015, 1, 1, ..., nan, nan, nan],\n",
              "       ...,\n",
              "       [2015, 12, 31, ..., nan, nan, nan],\n",
              "       [2015, 12, 31, ..., nan, nan, nan],\n",
              "       [2015, 12, 31, ..., nan, nan, nan]], dtype=object)"
            ]
          },
          "metadata": {},
          "execution_count": 20
        }
      ]
    },
    {
      "cell_type": "code",
      "source": [
        "vuelos_nf = pl.from_numpy(vuelos_np)\n",
        "print(vuelos_nf)"
      ],
      "metadata": {
        "colab": {
          "base_uri": "https://localhost:8080/"
        },
        "id": "JEOma-zIjZ0b",
        "outputId": "ad03cbcb-d6f8-4ea7-ae8e-eceba3932c5f"
      },
      "execution_count": 21,
      "outputs": [
        {
          "output_type": "stream",
          "name": "stdout",
          "text": [
            "shape: (5_819_079, 31)\n",
            "┌──────────┬──────────┬──────────┬──────────┬───┬───────────┬───────────┬───────────┬───────────┐\n",
            "│ column_0 ┆ column_1 ┆ column_2 ┆ column_3 ┆ … ┆ column_27 ┆ column_28 ┆ column_29 ┆ column_30 │\n",
            "│ ---      ┆ ---      ┆ ---      ┆ ---      ┆   ┆ ---       ┆ ---       ┆ ---       ┆ ---       │\n",
            "│ object   ┆ object   ┆ object   ┆ object   ┆   ┆ object    ┆ object    ┆ object    ┆ object    │\n",
            "╞══════════╪══════════╪══════════╪══════════╪═══╪═══════════╪═══════════╪═══════════╪═══════════╡\n",
            "│ 2015     ┆ 1        ┆ 1        ┆ 4        ┆ … ┆ nan       ┆ nan       ┆ nan       ┆ nan       │\n",
            "│ 2015     ┆ 1        ┆ 1        ┆ 4        ┆ … ┆ nan       ┆ nan       ┆ nan       ┆ nan       │\n",
            "│ 2015     ┆ 1        ┆ 1        ┆ 4        ┆ … ┆ nan       ┆ nan       ┆ nan       ┆ nan       │\n",
            "│ 2015     ┆ 1        ┆ 1        ┆ 4        ┆ … ┆ nan       ┆ nan       ┆ nan       ┆ nan       │\n",
            "│ 2015     ┆ 1        ┆ 1        ┆ 4        ┆ … ┆ nan       ┆ nan       ┆ nan       ┆ nan       │\n",
            "│ …        ┆ …        ┆ …        ┆ …        ┆ … ┆ …         ┆ …         ┆ …         ┆ …         │\n",
            "│ 2015     ┆ 12       ┆ 31       ┆ 4        ┆ … ┆ nan       ┆ nan       ┆ nan       ┆ nan       │\n",
            "│ 2015     ┆ 12       ┆ 31       ┆ 4        ┆ … ┆ nan       ┆ nan       ┆ nan       ┆ nan       │\n",
            "│ 2015     ┆ 12       ┆ 31       ┆ 4        ┆ … ┆ nan       ┆ nan       ┆ nan       ┆ nan       │\n",
            "│ 2015     ┆ 12       ┆ 31       ┆ 4        ┆ … ┆ nan       ┆ nan       ┆ nan       ┆ nan       │\n",
            "│ 2015     ┆ 12       ┆ 31       ┆ 4        ┆ … ┆ nan       ┆ nan       ┆ nan       ┆ nan       │\n",
            "└──────────┴──────────┴──────────┴──────────┴───┴───────────┴───────────┴───────────┴───────────┘\n"
          ]
        }
      ]
    },
    {
      "cell_type": "code",
      "source": [
        "valores"
      ],
      "metadata": {
        "colab": {
          "base_uri": "https://localhost:8080/"
        },
        "id": "QHTrp2P_jj_p",
        "outputId": "09fadc98-c7cd-4aa6-ff76-31474e36c038"
      },
      "execution_count": 22,
      "outputs": [
        {
          "output_type": "execute_result",
          "data": {
            "text/plain": [
              "[['a', 'b', 'c'], [1, 2, 3]]"
            ]
          },
          "metadata": {},
          "execution_count": 22
        }
      ]
    },
    {
      "cell_type": "code",
      "source": [
        "diccionario"
      ],
      "metadata": {
        "colab": {
          "base_uri": "https://localhost:8080/"
        },
        "id": "57CfiNRmjnZk",
        "outputId": "56a718b6-dd54-4153-c193-5889fa909ff1"
      },
      "execution_count": 23,
      "outputs": [
        {
          "output_type": "execute_result",
          "data": {
            "text/plain": [
              "{'id': [1, 2, 3], 'letra': ['x', 'y', 'z']}"
            ]
          },
          "metadata": {},
          "execution_count": 23
        }
      ]
    },
    {
      "cell_type": "code",
      "source": [
        "df_valores = pl.from_records(valores,schema=['letra', 'id'])"
      ],
      "metadata": {
        "id": "pKm1BNMwjt4N"
      },
      "execution_count": 26,
      "outputs": []
    },
    {
      "cell_type": "code",
      "source": [
        "df_valores"
      ],
      "metadata": {
        "colab": {
          "base_uri": "https://localhost:8080/",
          "height": 192
        },
        "id": "_aHVAcT6kOE3",
        "outputId": "e42cb061-7b1a-4693-d2c3-3215ffa9d9da"
      },
      "execution_count": 27,
      "outputs": [
        {
          "output_type": "execute_result",
          "data": {
            "text/plain": [
              "shape: (3, 2)\n",
              "┌───────┬─────┐\n",
              "│ letra ┆ id  │\n",
              "│ ---   ┆ --- │\n",
              "│ str   ┆ i64 │\n",
              "╞═══════╪═════╡\n",
              "│ a     ┆ 1   │\n",
              "│ b     ┆ 2   │\n",
              "│ c     ┆ 3   │\n",
              "└───────┴─────┘"
            ],
            "text/html": [
              "<div><style>\n",
              ".dataframe > thead > tr,\n",
              ".dataframe > tbody > tr {\n",
              "  text-align: right;\n",
              "  white-space: pre-wrap;\n",
              "}\n",
              "</style>\n",
              "<small>shape: (3, 2)</small><table border=\"1\" class=\"dataframe\"><thead><tr><th>letra</th><th>id</th></tr><tr><td>str</td><td>i64</td></tr></thead><tbody><tr><td>&quot;a&quot;</td><td>1</td></tr><tr><td>&quot;b&quot;</td><td>2</td></tr><tr><td>&quot;c&quot;</td><td>3</td></tr></tbody></table></div>"
            ]
          },
          "metadata": {},
          "execution_count": 27
        }
      ]
    },
    {
      "cell_type": "code",
      "source": [
        "print(df_valores)"
      ],
      "metadata": {
        "colab": {
          "base_uri": "https://localhost:8080/"
        },
        "id": "9KRyrhsMkT3g",
        "outputId": "17722f44-b9d3-4003-b953-f0c8d8b39698"
      },
      "execution_count": 28,
      "outputs": [
        {
          "output_type": "stream",
          "name": "stdout",
          "text": [
            "shape: (3, 2)\n",
            "┌───────┬─────┐\n",
            "│ letra ┆ id  │\n",
            "│ ---   ┆ --- │\n",
            "│ str   ┆ i64 │\n",
            "╞═══════╪═════╡\n",
            "│ a     ┆ 1   │\n",
            "│ b     ┆ 2   │\n",
            "│ c     ┆ 3   │\n",
            "└───────┴─────┘\n"
          ]
        }
      ]
    },
    {
      "cell_type": "code",
      "source": [
        "df_diccionario = pl.from_dict(diccionario)"
      ],
      "metadata": {
        "id": "Lbtio-eckYiA"
      },
      "execution_count": 29,
      "outputs": []
    },
    {
      "cell_type": "code",
      "source": [
        "print(df_diccionario)"
      ],
      "metadata": {
        "colab": {
          "base_uri": "https://localhost:8080/"
        },
        "id": "OEyrjI2Nkfe7",
        "outputId": "c9c9f0c1-0073-44de-b3b9-0bfda8d83fab"
      },
      "execution_count": 32,
      "outputs": [
        {
          "output_type": "stream",
          "name": "stdout",
          "text": [
            "shape: (3, 2)\n",
            "┌─────┬───────┐\n",
            "│ id  ┆ letra │\n",
            "│ --- ┆ ---   │\n",
            "│ i64 ┆ str   │\n",
            "╞═════╪═══════╡\n",
            "│ 1   ┆ x     │\n",
            "│ 2   ┆ y     │\n",
            "│ 3   ┆ z     │\n",
            "└─────┴───────┘\n"
          ]
        }
      ]
    },
    {
      "cell_type": "code",
      "source": [
        "df_str = pl.from_repr(\n",
        "\"\"\"\n",
        "shape: (3, 2)\n",
        "┌─────┬───────┐\n",
        "│ id  ┆ letra │\n",
        "│ --- ┆ ---   │\n",
        "│ i64 ┆ str   │\n",
        "╞═════╪═══════╡\n",
        "│ 1   ┆ x     │\n",
        "│ 2   ┆ y     │\n",
        "│ 3   ┆ z     │\n",
        "└─────┴───────┘\n",
        "\"\"\"\n",
        ")\n",
        "print(df_str)"
      ],
      "metadata": {
        "colab": {
          "base_uri": "https://localhost:8080/"
        },
        "id": "PrZj5LGAkk9L",
        "outputId": "58542e93-1b1b-44fd-a274-f10ad0ced092"
      },
      "execution_count": 33,
      "outputs": [
        {
          "output_type": "stream",
          "name": "stdout",
          "text": [
            "shape: (3, 2)\n",
            "┌─────┬───────┐\n",
            "│ id  ┆ letra │\n",
            "│ --- ┆ ---   │\n",
            "│ i64 ┆ str   │\n",
            "╞═════╪═══════╡\n",
            "│ 1   ┆ x     │\n",
            "│ 2   ┆ y     │\n",
            "│ 3   ┆ z     │\n",
            "└─────┴───────┘\n"
          ]
        }
      ]
    },
    {
      "cell_type": "markdown",
      "source": [
        "# **LECTURA 51-OTRAS FUNCIONES **"
      ],
      "metadata": {
        "id": "o1sp04wqmZ76"
      }
    },
    {
      "cell_type": "code",
      "source": [
        "import polars as pl\n",
        "from polars import col"
      ],
      "metadata": {
        "id": "DEHVs3CBmm7l"
      },
      "execution_count": 6,
      "outputs": []
    },
    {
      "cell_type": "code",
      "source": [
        "df1 = pl.DataFrame(\n",
        "    {\n",
        "        'nombre': ['Jose'],\n",
        "        'sexo': ['M'],\n",
        "    }\n",
        ")"
      ],
      "metadata": {
        "id": "cwZ1zGx2muqF"
      },
      "execution_count": 7,
      "outputs": []
    },
    {
      "cell_type": "code",
      "source": [
        "df2 = pl.DataFrame(\n",
        "    {\n",
        "        'nombre': ['Rosa','Teresa'],\n",
        "        'sexo': ['F','F'],\n",
        "    }\n",
        ")"
      ],
      "metadata": {
        "id": "daHvLkrQnM1A"
      },
      "execution_count": 8,
      "outputs": []
    },
    {
      "cell_type": "code",
      "source": [
        "query_1 = (\n",
        "    pl.scan_parquet('/content/drive/MyDrive/polars/seccion05/vuelos/vuelos.parquet')\n",
        "    .bottom_k(20,by='DEPARTURE_TIME', descending=True)\n",
        ")"
      ],
      "metadata": {
        "colab": {
          "base_uri": "https://localhost:8080/"
        },
        "id": "oBXcIby2nbwM",
        "outputId": "6aa5af41-8c71-4891-ec77-8930d0221b42"
      },
      "execution_count": 9,
      "outputs": [
        {
          "output_type": "stream",
          "name": "stderr",
          "text": [
            "<ipython-input-9-a296a14bbf05>:2: DeprecationWarning: The argument `descending` for `LazyFrame.bottom_k` is deprecated. It has been renamed to `reverse`.\n",
            "  pl.scan_parquet('/content/drive/MyDrive/polars/seccion05/vuelos/vuelos.parquet')\n"
          ]
        }
      ]
    },
    {
      "cell_type": "code",
      "source": [
        "import polars as pl"
      ],
      "metadata": {
        "id": "Us_Ia0ERo_4g"
      },
      "execution_count": 2,
      "outputs": []
    },
    {
      "cell_type": "code",
      "source": [
        "query_2 = (\n",
        "    pl.scan_parquet('/content/drive/MyDrive/polars/seccion05/vuelos/vuelos.parquet')\n",
        "    .filter((pl.col('MONTH')>6) & (pl.col('DEPARTURE_DELAY')<0)) # Add parentheses around the entire filter expression\n",
        "    .select(\n",
        "        pl.col('MONTH'),\n",
        "        pl.col('DEPARTURE_DELAY'),\n",
        "    )\n",
        ")"
      ],
      "metadata": {
        "id": "2Z4ctSx0pFHh"
      },
      "execution_count": 4,
      "outputs": []
    },
    {
      "cell_type": "code",
      "source": [
        "df = pl.concat([df1,df2])\n",
        "print(df)"
      ],
      "metadata": {
        "colab": {
          "base_uri": "https://localhost:8080/"
        },
        "id": "mFy27pPSpVIC",
        "outputId": "dd3cfb1d-b2a7-454b-9d98-3f519cb709e6"
      },
      "execution_count": 10,
      "outputs": [
        {
          "output_type": "stream",
          "name": "stdout",
          "text": [
            "shape: (3, 2)\n",
            "┌────────┬──────┐\n",
            "│ nombre ┆ sexo │\n",
            "│ ---    ┆ ---  │\n",
            "│ str    ┆ str  │\n",
            "╞════════╪══════╡\n",
            "│ Jose   ┆ M    │\n",
            "│ Rosa   ┆ F    │\n",
            "│ Teresa ┆ F    │\n",
            "└────────┴──────┘\n"
          ]
        }
      ]
    },
    {
      "cell_type": "code",
      "source": [
        "df2 = df2.rename({'nombre': 'n', 'sexo': 's'})\n",
        "df2"
      ],
      "metadata": {
        "colab": {
          "base_uri": "https://localhost:8080/",
          "height": 160
        },
        "id": "KvoWbydops8m",
        "outputId": "492a77c6-059e-4a79-b1be-18bf97cd8198"
      },
      "execution_count": 11,
      "outputs": [
        {
          "output_type": "execute_result",
          "data": {
            "text/plain": [
              "shape: (2, 2)\n",
              "┌────────┬─────┐\n",
              "│ n      ┆ s   │\n",
              "│ ---    ┆ --- │\n",
              "│ str    ┆ str │\n",
              "╞════════╪═════╡\n",
              "│ Rosa   ┆ F   │\n",
              "│ Teresa ┆ F   │\n",
              "└────────┴─────┘"
            ],
            "text/html": [
              "<div><style>\n",
              ".dataframe > thead > tr,\n",
              ".dataframe > tbody > tr {\n",
              "  text-align: right;\n",
              "  white-space: pre-wrap;\n",
              "}\n",
              "</style>\n",
              "<small>shape: (2, 2)</small><table border=\"1\" class=\"dataframe\"><thead><tr><th>n</th><th>s</th></tr><tr><td>str</td><td>str</td></tr></thead><tbody><tr><td>&quot;Rosa&quot;</td><td>&quot;F&quot;</td></tr><tr><td>&quot;Teresa&quot;</td><td>&quot;F&quot;</td></tr></tbody></table></div>"
            ]
          },
          "metadata": {},
          "execution_count": 11
        }
      ]
    },
    {
      "cell_type": "code",
      "source": [
        "df_1 = pl.concat([df1,df2], how='horizontal')\n",
        "print(df_1)"
      ],
      "metadata": {
        "colab": {
          "base_uri": "https://localhost:8080/"
        },
        "id": "V3IG2YMcsJqC",
        "outputId": "e17de8cb-5622-49cd-e438-266a763ea85a"
      },
      "execution_count": 13,
      "outputs": [
        {
          "output_type": "stream",
          "name": "stdout",
          "text": [
            "shape: (2, 4)\n",
            "┌────────┬──────┬────────┬─────┐\n",
            "│ nombre ┆ sexo ┆ n      ┆ s   │\n",
            "│ ---    ┆ ---  ┆ ---    ┆ --- │\n",
            "│ str    ┆ str  ┆ str    ┆ str │\n",
            "╞════════╪══════╪════════╪═════╡\n",
            "│ Jose   ┆ M    ┆ Rosa   ┆ F   │\n",
            "│ null   ┆ null ┆ Teresa ┆ F   │\n",
            "└────────┴──────┴────────┴─────┘\n"
          ]
        }
      ]
    },
    {
      "cell_type": "code",
      "source": [
        "df1,df2 = pl.collect_all([query_1,query_2])"
      ],
      "metadata": {
        "id": "alTaYP5xs4TI"
      },
      "execution_count": 15,
      "outputs": []
    },
    {
      "cell_type": "code",
      "source": [
        "print(df1)"
      ],
      "metadata": {
        "colab": {
          "base_uri": "https://localhost:8080/"
        },
        "id": "XIYdnhzItQjj",
        "outputId": "059bce86-ba0e-45b5-a512-d6295d5c9e6c"
      },
      "execution_count": 16,
      "outputs": [
        {
          "output_type": "stream",
          "name": "stdout",
          "text": [
            "shape: (20, 31)\n",
            "┌──────┬───────┬─────┬─────────────┬───┬──────────────┬──────────────┬──────────────┬──────────────┐\n",
            "│ YEAR ┆ MONTH ┆ DAY ┆ DAY_OF_WEEK ┆ … ┆ SECURITY_DEL ┆ AIRLINE_DELA ┆ LATE_AIRCRAF ┆ WEATHER_DELA │\n",
            "│ ---  ┆ ---   ┆ --- ┆ ---         ┆   ┆ AY           ┆ Y            ┆ T_DELAY      ┆ Y            │\n",
            "│ i32  ┆ i32   ┆ i32 ┆ i32         ┆   ┆ ---          ┆ ---          ┆ ---          ┆ ---          │\n",
            "│      ┆       ┆     ┆             ┆   ┆ i32          ┆ i32          ┆ i32          ┆ i32          │\n",
            "╞══════╪═══════╪═════╪═════════════╪═══╪══════════════╪══════════════╪══════════════╪══════════════╡\n",
            "│ 2015 ┆ 2     ┆ 1   ┆ 7           ┆ … ┆ 0            ┆ 11           ┆ 0            ┆ 0            │\n",
            "│ 2015 ┆ 1     ┆ 2   ┆ 5           ┆ … ┆ null         ┆ null         ┆ null         ┆ null         │\n",
            "│ 2015 ┆ 1     ┆ 2   ┆ 5           ┆ … ┆ null         ┆ null         ┆ null         ┆ null         │\n",
            "│ 2015 ┆ 1     ┆ 3   ┆ 6           ┆ … ┆ 0            ┆ 361          ┆ 0            ┆ 0            │\n",
            "│ 2015 ┆ 1     ┆ 4   ┆ 7           ┆ … ┆ 0            ┆ 0            ┆ 0            ┆ 245          │\n",
            "│ …    ┆ …     ┆ …   ┆ …           ┆ … ┆ …            ┆ …            ┆ …            ┆ …            │\n",
            "│ 2015 ┆ 1     ┆ 11  ┆ 7           ┆ … ┆ 0            ┆ 96           ┆ 0            ┆ 0            │\n",
            "│ 2015 ┆ 1     ┆ 11  ┆ 7           ┆ … ┆ null         ┆ null         ┆ null         ┆ null         │\n",
            "│ 2015 ┆ 1     ┆ 12  ┆ 1           ┆ … ┆ null         ┆ null         ┆ null         ┆ null         │\n",
            "│ 2015 ┆ 1     ┆ 12  ┆ 1           ┆ … ┆ 0            ┆ 0            ┆ 96           ┆ 33           │\n",
            "│ 2015 ┆ 1     ┆ 12  ┆ 1           ┆ … ┆ 0            ┆ 0            ┆ 0            ┆ 111          │\n",
            "└──────┴───────┴─────┴─────────────┴───┴──────────────┴──────────────┴──────────────┴──────────────┘\n"
          ]
        }
      ]
    },
    {
      "cell_type": "code",
      "source": [
        "print(df2)"
      ],
      "metadata": {
        "colab": {
          "base_uri": "https://localhost:8080/"
        },
        "id": "vlMC5kO1tXNT",
        "outputId": "cee811af-0f62-496b-8ecc-b693f3fb52e5"
      },
      "execution_count": 17,
      "outputs": [
        {
          "output_type": "stream",
          "name": "stdout",
          "text": [
            "shape: (1_712_529, 2)\n",
            "┌───────┬─────────────────┐\n",
            "│ MONTH ┆ DEPARTURE_DELAY │\n",
            "│ ---   ┆ ---             │\n",
            "│ i32   ┆ i32             │\n",
            "╞═══════╪═════════════════╡\n",
            "│ 7     ┆ -5              │\n",
            "│ 7     ┆ -5              │\n",
            "│ 7     ┆ -5              │\n",
            "│ 7     ┆ -7              │\n",
            "│ 7     ┆ -2              │\n",
            "│ …     ┆ …               │\n",
            "│ 12    ┆ -1              │\n",
            "│ 12    ┆ -4              │\n",
            "│ 12    ┆ -4              │\n",
            "│ 12    ┆ -9              │\n",
            "│ 12    ┆ -6              │\n",
            "└───────┴─────────────────┘\n"
          ]
        }
      ]
    }
  ]
}