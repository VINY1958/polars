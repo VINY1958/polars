{
  "cells": [
    {
      "cell_type": "markdown",
      "id": "f07d3907-cb8b-484f-99b2-6b6fcf14a41f",
      "metadata": {
        "id": "f07d3907-cb8b-484f-99b2-6b6fcf14a41f"
      },
      "source": [
        "# Lectura 16: JSON"
      ]
    },
    {
      "cell_type": "markdown",
      "id": "16cb7ce4-e050-4fb8-adc2-4ea0ee8124bb",
      "metadata": {
        "id": "16cb7ce4-e050-4fb8-adc2-4ea0ee8124bb"
      },
      "source": [
        "### `read_json`"
      ]
    },
    {
      "cell_type": "markdown",
      "id": "af1d8ac2-28d3-4369-b15b-fb3caed34802",
      "metadata": {
        "id": "af1d8ac2-28d3-4369-b15b-fb3caed34802"
      },
      "source": [
        "Con la función `read_json` vamos a poder crear un DataFrame a partir de la lectura de un archivo JSON."
      ]
    },
    {
      "cell_type": "markdown",
      "id": "6002509f-18d5-42a4-9c01-6e0f693ea5f0",
      "metadata": {
        "id": "6002509f-18d5-42a4-9c01-6e0f693ea5f0"
      },
      "source": [
        "A continuación mostramos una captura de cómo debe estar estructurado un archivo JSON para que pueda ser leído por esta función.\n",
        "\n",
        "<img src=\"./img/json.png\">"
      ]
    },
    {
      "cell_type": "code",
      "source": [
        "from google.colab import drive\n",
        "drive.mount('/content/drive')"
      ],
      "metadata": {
        "colab": {
          "base_uri": "https://localhost:8080/"
        },
        "id": "C8otyAipzzYJ",
        "outputId": "ea5ecd60-9ea4-44c4-f30d-93157e75d65c"
      },
      "id": "C8otyAipzzYJ",
      "execution_count": 1,
      "outputs": [
        {
          "output_type": "stream",
          "name": "stdout",
          "text": [
            "Mounted at /content/drive\n"
          ]
        }
      ]
    },
    {
      "cell_type": "code",
      "execution_count": 2,
      "id": "93d325f9-dcb6-4965-b392-df3c2fb838be",
      "metadata": {
        "tags": [],
        "id": "93d325f9-dcb6-4965-b392-df3c2fb838be"
      },
      "outputs": [],
      "source": [
        "import polars as pl"
      ]
    },
    {
      "cell_type": "code",
      "source": [
        "df1 = pl.read_json('/content/drive/MyDrive/polars/seccion03/json/data.json')\n",
        "\n",
        "print(df1)"
      ],
      "metadata": {
        "colab": {
          "base_uri": "https://localhost:8080/"
        },
        "id": "TVWeIchqEYH2",
        "outputId": "af1bd6a8-060e-4308-ab06-12dbba5b150e"
      },
      "id": "TVWeIchqEYH2",
      "execution_count": 4,
      "outputs": [
        {
          "output_type": "stream",
          "name": "stdout",
          "text": [
            "shape: (1, 1)\n",
            "┌─────────────────────────────────┐\n",
            "│ columns                         │\n",
            "│ ---                             │\n",
            "│ list[struct[4]]                 │\n",
            "╞═════════════════════════════════╡\n",
            "│ [{\"color\",\"Utf8\",\"\",[\"rojo\", \"… │\n",
            "└─────────────────────────────────┘\n"
          ]
        }
      ]
    },
    {
      "cell_type": "code",
      "execution_count": 5,
      "id": "00b3c495-0136-482f-8c7f-1b270d5eb1b6",
      "metadata": {
        "tags": [],
        "colab": {
          "base_uri": "https://localhost:8080/"
        },
        "id": "00b3c495-0136-482f-8c7f-1b270d5eb1b6",
        "outputId": "f8e16e19-48b3-46a2-8159-f814d39cf61f"
      },
      "outputs": [
        {
          "output_type": "stream",
          "name": "stdout",
          "text": [
            "shape: (1, 1)\n",
            "┌─────────────────────────────────┐\n",
            "│ columns                         │\n",
            "│ ---                             │\n",
            "│ list[struct[4]]                 │\n",
            "╞═════════════════════════════════╡\n",
            "│ [{\"color\",\"Utf8\",\"\",[\"rojo\", \"… │\n",
            "└─────────────────────────────────┘\n"
          ]
        }
      ],
      "source": [
        "df = pl.read_json('/content/drive/MyDrive/polars/seccion03/json/data.json')\n",
        "\n",
        "print(df)"
      ]
    },
    {
      "cell_type": "markdown",
      "id": "fa5d26e3-87ec-4311-837b-9d3c06c1ea0b",
      "metadata": {
        "id": "fa5d26e3-87ec-4311-837b-9d3c06c1ea0b"
      },
      "source": [
        "### `read_ndjson`\n",
        "\n",
        "Con la función `read_ndjson` vamos a poder crear un DataFrame a partir de la lectura de un archivo JSON delimitado por una nueva línea.\n",
        "\n",
        "A continuación mostramos una captura de cómo debe estar estructurado un archivo JSON para que pueda ser leído por esta función.\n",
        "\n",
        "<img src=\"./img/ndjson.png\">"
      ]
    },
    {
      "cell_type": "code",
      "execution_count": 6,
      "id": "095fafbe-3f1d-4251-b098-6838c2f4791b",
      "metadata": {
        "tags": [],
        "colab": {
          "base_uri": "https://localhost:8080/"
        },
        "id": "095fafbe-3f1d-4251-b098-6838c2f4791b",
        "outputId": "80e114fd-b050-4105-d016-ba6d57447b97"
      },
      "outputs": [
        {
          "output_type": "stream",
          "name": "stdout",
          "text": [
            "shape: (3, 4)\n",
            "┌───────┬──────┬────────────┬──────┐\n",
            "│ color ┆ edad ┆ fecha      ┆ pais │\n",
            "│ ---   ┆ ---  ┆ ---        ┆ ---  │\n",
            "│ str   ┆ str  ┆ str        ┆ str  │\n",
            "╞═══════╪══════╪════════════╪══════╡\n",
            "│ rojo  ┆ 23   ┆ 2021-02-21 ┆ MX   │\n",
            "│ azul  ┆ 56   ┆ 2021-06-10 ┆ CA   │\n",
            "│ verde ┆ 32   ┆ 2020-06-02 ┆ US   │\n",
            "└───────┴──────┴────────────┴──────┘\n"
          ]
        }
      ],
      "source": [
        "df1 = pl.read_ndjson('/content/drive/MyDrive/polars/seccion03/json/ndjson.json')\n",
        "\n",
        "print(df1)"
      ]
    },
    {
      "cell_type": "markdown",
      "id": "55645520-1f0d-4bdb-88df-7538f6e4160a",
      "metadata": {
        "id": "55645520-1f0d-4bdb-88df-7538f6e4160a"
      },
      "source": [
        "### `scan_ndjson`\n",
        "\n",
        "Esta función permite leer de forma lazy un archivo JSON delimitado por nuevas líneas.\n",
        "\n",
        "Esto permite que el optimizador de consultas baje los predicados y las proyecciones al nivel de escaneo, lo que reduce potencialmente la sobrecarga de memoria."
      ]
    },
    {
      "cell_type": "code",
      "execution_count": 7,
      "id": "9dc781f3-e82c-400c-a9df-251aaa97da35",
      "metadata": {
        "tags": [],
        "colab": {
          "base_uri": "https://localhost:8080/"
        },
        "id": "9dc781f3-e82c-400c-a9df-251aaa97da35",
        "outputId": "b085113d-9deb-478e-a1be-4bca8b85cd87"
      },
      "outputs": [
        {
          "output_type": "stream",
          "name": "stdout",
          "text": [
            "shape: (3, 4)\n",
            "┌───────┬──────┬────────────┬──────┐\n",
            "│ color ┆ edad ┆ fecha      ┆ pais │\n",
            "│ ---   ┆ ---  ┆ ---        ┆ ---  │\n",
            "│ str   ┆ str  ┆ str        ┆ str  │\n",
            "╞═══════╪══════╪════════════╪══════╡\n",
            "│ rojo  ┆ 23   ┆ 2021-02-21 ┆ MX   │\n",
            "│ azul  ┆ 56   ┆ 2021-06-10 ┆ CA   │\n",
            "│ verde ┆ 32   ┆ 2020-06-02 ┆ US   │\n",
            "└───────┴──────┴────────────┴──────┘\n"
          ]
        }
      ],
      "source": [
        "df2 = pl.scan_ndjson('/content/drive/MyDrive/polars/seccion03/json/ndjson.json')\n",
        "\n",
        "print(df2.collect())"
      ]
    },
    {
      "cell_type": "markdown",
      "id": "caac3558-e3f8-43e6-9313-c7d535971e01",
      "metadata": {
        "id": "caac3558-e3f8-43e6-9313-c7d535971e01"
      },
      "source": [
        "### `write_json`\n",
        "\n",
        "Con esta función seremos capaz de escribir un archivo JSON. Para ello debemos crear la carpeta `salida` y dentro escribiremos el archivo JSON."
      ]
    },
    {
      "cell_type": "code",
      "execution_count": 8,
      "id": "b4d24389-1d87-44e6-abcc-724047f6a8e0",
      "metadata": {
        "tags": [],
        "id": "b4d24389-1d87-44e6-abcc-724047f6a8e0"
      },
      "outputs": [],
      "source": [
        "df.write_json('/content/drive/MyDrive/polars/seccion03/json/ndjson.json')"
      ]
    },
    {
      "cell_type": "code",
      "source": [
        "print(df)"
      ],
      "metadata": {
        "colab": {
          "base_uri": "https://localhost:8080/"
        },
        "id": "d2oFq0yUFjX7",
        "outputId": "1956f287-7062-4b01-d9a2-d4f3af6497c2"
      },
      "id": "d2oFq0yUFjX7",
      "execution_count": 9,
      "outputs": [
        {
          "output_type": "stream",
          "name": "stdout",
          "text": [
            "shape: (1, 1)\n",
            "┌─────────────────────────────────┐\n",
            "│ columns                         │\n",
            "│ ---                             │\n",
            "│ list[struct[4]]                 │\n",
            "╞═════════════════════════════════╡\n",
            "│ [{\"color\",\"Utf8\",\"\",[\"rojo\", \"… │\n",
            "└─────────────────────────────────┘\n"
          ]
        }
      ]
    },
    {
      "cell_type": "markdown",
      "id": "54d6c77d-19db-431c-8b46-999dae72c560",
      "metadata": {
        "id": "54d6c77d-19db-431c-8b46-999dae72c560"
      },
      "source": [
        "### `write_ndjson`\n",
        "\n",
        "Con esta función seremos capaz de escribir un archivo JSON delimitado por una nueva línea."
      ]
    },
    {
      "cell_type": "code",
      "execution_count": 11,
      "id": "3261812b-6466-47ef-9da9-28281a792597",
      "metadata": {
        "tags": [],
        "id": "3261812b-6466-47ef-9da9-28281a792597"
      },
      "outputs": [],
      "source": [
        "df.write_ndjson('/content/drive/MyDrive/polars/seccion03/json/data.json')"
      ]
    },
    {
      "cell_type": "code",
      "source": [
        "df"
      ],
      "metadata": {
        "colab": {
          "base_uri": "https://localhost:8080/",
          "height": 129
        },
        "id": "7vLhN3jnF2lY",
        "outputId": "ab58e6d0-2b13-4d7d-b66e-a2566452b495"
      },
      "id": "7vLhN3jnF2lY",
      "execution_count": 12,
      "outputs": [
        {
          "output_type": "execute_result",
          "data": {
            "text/plain": [
              "shape: (1, 1)\n",
              "┌─────────────────────────────────┐\n",
              "│ columns                         │\n",
              "│ ---                             │\n",
              "│ list[struct[4]]                 │\n",
              "╞═════════════════════════════════╡\n",
              "│ [{\"color\",\"Utf8\",\"\",[\"rojo\", \"… │\n",
              "└─────────────────────────────────┘"
            ],
            "text/html": [
              "<div><style>\n",
              ".dataframe > thead > tr,\n",
              ".dataframe > tbody > tr {\n",
              "  text-align: right;\n",
              "  white-space: pre-wrap;\n",
              "}\n",
              "</style>\n",
              "<small>shape: (1, 1)</small><table border=\"1\" class=\"dataframe\"><thead><tr><th>columns</th></tr><tr><td>list[struct[4]]</td></tr></thead><tbody><tr><td>[{&quot;color&quot;,&quot;Utf8&quot;,&quot;&quot;,[&quot;rojo&quot;, &quot;azul&quot;, &quot;verde&quot;]}, {&quot;edad&quot;,&quot;Utf8&quot;,&quot;&quot;,[&quot;23&quot;, &quot;56&quot;, &quot;32&quot;]}, … {&quot;pais&quot;,&quot;Utf8&quot;,&quot;&quot;,[&quot;MX&quot;, &quot;CA&quot;, &quot;US&quot;]}]</td></tr></tbody></table></div>"
            ]
          },
          "metadata": {},
          "execution_count": 12
        }
      ]
    }
  ],
  "metadata": {
    "kernelspec": {
      "display_name": "Python 3 (ipykernel)",
      "language": "python",
      "name": "python3"
    },
    "language_info": {
      "codemirror_mode": {
        "name": "ipython",
        "version": 3
      },
      "file_extension": ".py",
      "mimetype": "text/x-python",
      "name": "python",
      "nbconvert_exporter": "python",
      "pygments_lexer": "ipython3",
      "version": "3.9.6"
    },
    "colab": {
      "provenance": []
    }
  },
  "nbformat": 4,
  "nbformat_minor": 5
}