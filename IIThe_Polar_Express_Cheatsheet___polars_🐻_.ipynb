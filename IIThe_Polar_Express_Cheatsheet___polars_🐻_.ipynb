{
  "cells": [
    {
      "cell_type": "markdown",
      "metadata": {
        "id": "view-in-github",
        "colab_type": "text"
      },
      "source": [
        "<a href=\"https://colab.research.google.com/github/VINY1958/polars/blob/main/IIThe_Polar_Express_Cheatsheet___polars_%F0%9F%90%BB_.ipynb\" target=\"_parent\"><img src=\"https://colab.research.google.com/assets/colab-badge.svg\" alt=\"Open In Colab\"/></a>"
      ]
    },
    {
      "cell_type": "markdown",
      "id": "a413d91c-c585-4f2c-84c4-4a57b2cf4372",
      "metadata": {
        "id": "a413d91c-c585-4f2c-84c4-4a57b2cf4372"
      },
      "source": [
        "# [Polars](https://www.pola.rs/) Cheat Sheet\n",
        "\n",
        "[![Polars cheat sheet: download as PDF](https://img.shields.io/badge/Polars%20cheat%20sheet-Download%20as%20PDF-green)](https://franzdiebold.github.io/polars-cheat-sheet/Polars_cheat_sheet.pdf)\n",
        "\n",
        "Most examples were taken from the official [Polars user guide](https://pola-rs.github.io/polars-book/user-guide/).\n",
        "\n",
        "By Franz Diebold ([diebold.io](https://www.diebold.io)), inspired by [Pandas Cheat Sheet](https://pandas.pydata.org/Pandas_Cheat_Sheet.pdf)."
      ]
    },
    {
      "cell_type": "markdown",
      "id": "8da10053-1ff7-49a6-bb81-3abd21ff6701",
      "metadata": {
        "id": "8da10053-1ff7-49a6-bb81-3abd21ff6701"
      },
      "source": [
        "### Install"
      ]
    },
    {
      "cell_type": "code",
      "execution_count": 1,
      "id": "dfcf679b-a9f4-4d8d-9db8-d293078b55df",
      "metadata": {
        "id": "dfcf679b-a9f4-4d8d-9db8-d293078b55df",
        "colab": {
          "base_uri": "https://localhost:8080/"
        },
        "outputId": "2e0d264e-a681-48fd-b72a-63ae59b1266e"
      },
      "outputs": [
        {
          "output_type": "stream",
          "name": "stdout",
          "text": [
            "Requirement already satisfied: polars in /usr/local/lib/python3.10/dist-packages (1.7.1)\n"
          ]
        }
      ],
      "source": [
        "!pip install polars"
      ]
    },
    {
      "cell_type": "markdown",
      "id": "c31fa6b4-f2e8-4846-bcd3-cfbf6607f926",
      "metadata": {
        "id": "c31fa6b4-f2e8-4846-bcd3-cfbf6607f926"
      },
      "source": [
        "### Import"
      ]
    },
    {
      "cell_type": "code",
      "execution_count": 2,
      "id": "3d49a140-6a2d-420d-a74b-ca92c2e67e26",
      "metadata": {
        "pycharm": {
          "is_executing": true
        },
        "id": "3d49a140-6a2d-420d-a74b-ca92c2e67e26"
      },
      "outputs": [],
      "source": [
        "import polars as pl"
      ]
    },
    {
      "cell_type": "markdown",
      "id": "19dddd3a-80e1-4309-8472-07d8fcb79c99",
      "metadata": {
        "id": "19dddd3a-80e1-4309-8472-07d8fcb79c99"
      },
      "source": [
        "### Creating/reading DataFrames"
      ]
    },
    {
      "cell_type": "code",
      "execution_count": 3,
      "id": "c36161bf-1ad1-4966-a6d6-40cbb9dc6a6d",
      "metadata": {
        "id": "c36161bf-1ad1-4966-a6d6-40cbb9dc6a6d"
      },
      "outputs": [],
      "source": [
        "# Create DataFrame\n",
        "df = pl.DataFrame(\n",
        "    {\n",
        "        \"nrs\": [1, 2, 3, None, 5],\n",
        "        \"names\": [\"foo\", \"ham\", \"spam\", \"egg\", None],\n",
        "        \"random\": [0.3, 0.7, 0.1, 0.9, 0.6],\n",
        "        \"groups\": [\"A\", \"A\", \"B\", \"C\", \"B\"],\n",
        "    }\n",
        ")"
      ]
    },
    {
      "cell_type": "code",
      "source": [
        "df"
      ],
      "metadata": {
        "colab": {
          "base_uri": "https://localhost:8080/",
          "height": 254
        },
        "id": "X4z13sf3douW",
        "outputId": "c1e424ad-0198-4020-d162-3af27d98b963"
      },
      "id": "X4z13sf3douW",
      "execution_count": 4,
      "outputs": [
        {
          "output_type": "execute_result",
          "data": {
            "text/plain": [
              "shape: (5, 4)\n",
              "┌──────┬───────┬────────┬────────┐\n",
              "│ nrs  ┆ names ┆ random ┆ groups │\n",
              "│ ---  ┆ ---   ┆ ---    ┆ ---    │\n",
              "│ i64  ┆ str   ┆ f64    ┆ str    │\n",
              "╞══════╪═══════╪════════╪════════╡\n",
              "│ 1    ┆ foo   ┆ 0.3    ┆ A      │\n",
              "│ 2    ┆ ham   ┆ 0.7    ┆ A      │\n",
              "│ 3    ┆ spam  ┆ 0.1    ┆ B      │\n",
              "│ null ┆ egg   ┆ 0.9    ┆ C      │\n",
              "│ 5    ┆ null  ┆ 0.6    ┆ B      │\n",
              "└──────┴───────┴────────┴────────┘"
            ],
            "text/html": [
              "<div><style>\n",
              ".dataframe > thead > tr,\n",
              ".dataframe > tbody > tr {\n",
              "  text-align: right;\n",
              "  white-space: pre-wrap;\n",
              "}\n",
              "</style>\n",
              "<small>shape: (5, 4)</small><table border=\"1\" class=\"dataframe\"><thead><tr><th>nrs</th><th>names</th><th>random</th><th>groups</th></tr><tr><td>i64</td><td>str</td><td>f64</td><td>str</td></tr></thead><tbody><tr><td>1</td><td>&quot;foo&quot;</td><td>0.3</td><td>&quot;A&quot;</td></tr><tr><td>2</td><td>&quot;ham&quot;</td><td>0.7</td><td>&quot;A&quot;</td></tr><tr><td>3</td><td>&quot;spam&quot;</td><td>0.1</td><td>&quot;B&quot;</td></tr><tr><td>null</td><td>&quot;egg&quot;</td><td>0.9</td><td>&quot;C&quot;</td></tr><tr><td>5</td><td>null</td><td>0.6</td><td>&quot;B&quot;</td></tr></tbody></table></div>"
            ]
          },
          "metadata": {},
          "execution_count": 4
        }
      ]
    },
    {
      "cell_type": "code",
      "source": [
        "\n",
        "\n",
        "# Read CSV using the raw data URL\n",
        "df1 = pl.read_csv(\"https://raw.githubusercontent.com/VINY1958/datasets/main/iris.csv\", has_header=True)"
      ],
      "metadata": {
        "id": "zI_gyoe7bDFN"
      },
      "id": "zI_gyoe7bDFN",
      "execution_count": 5,
      "outputs": []
    },
    {
      "cell_type": "code",
      "source": [
        "df1"
      ],
      "metadata": {
        "colab": {
          "base_uri": "https://localhost:8080/",
          "height": 443
        },
        "id": "5kq0TWoHbID8",
        "outputId": "d4997f04-99d3-493d-e7d3-86ace5c2621f"
      },
      "id": "5kq0TWoHbID8",
      "execution_count": 6,
      "outputs": [
        {
          "output_type": "execute_result",
          "data": {
            "text/plain": [
              "shape: (150, 5)\n",
              "┌──────────────┬─────────────┬──────────────┬─────────────┬───────────┐\n",
              "│ sepal.length ┆ sepal.width ┆ petal.length ┆ petal.width ┆ variety   │\n",
              "│ ---          ┆ ---         ┆ ---          ┆ ---         ┆ ---       │\n",
              "│ f64          ┆ f64         ┆ f64          ┆ f64         ┆ str       │\n",
              "╞══════════════╪═════════════╪══════════════╪═════════════╪═══════════╡\n",
              "│ 5.1          ┆ 3.5         ┆ 1.4          ┆ 0.2         ┆ Setosa    │\n",
              "│ 4.9          ┆ 3.0         ┆ 1.4          ┆ 0.2         ┆ Setosa    │\n",
              "│ 4.7          ┆ 3.2         ┆ 1.3          ┆ 0.2         ┆ Setosa    │\n",
              "│ 4.6          ┆ 3.1         ┆ 1.5          ┆ 0.2         ┆ Setosa    │\n",
              "│ 5.0          ┆ 3.6         ┆ 1.4          ┆ 0.2         ┆ Setosa    │\n",
              "│ …            ┆ …           ┆ …            ┆ …           ┆ …         │\n",
              "│ 6.7          ┆ 3.0         ┆ 5.2          ┆ 2.3         ┆ Virginica │\n",
              "│ 6.3          ┆ 2.5         ┆ 5.0          ┆ 1.9         ┆ Virginica │\n",
              "│ 6.5          ┆ 3.0         ┆ 5.2          ┆ 2.0         ┆ Virginica │\n",
              "│ 6.2          ┆ 3.4         ┆ 5.4          ┆ 2.3         ┆ Virginica │\n",
              "│ 5.9          ┆ 3.0         ┆ 5.1          ┆ 1.8         ┆ Virginica │\n",
              "└──────────────┴─────────────┴──────────────┴─────────────┴───────────┘"
            ],
            "text/html": [
              "<div><style>\n",
              ".dataframe > thead > tr,\n",
              ".dataframe > tbody > tr {\n",
              "  text-align: right;\n",
              "  white-space: pre-wrap;\n",
              "}\n",
              "</style>\n",
              "<small>shape: (150, 5)</small><table border=\"1\" class=\"dataframe\"><thead><tr><th>sepal.length</th><th>sepal.width</th><th>petal.length</th><th>petal.width</th><th>variety</th></tr><tr><td>f64</td><td>f64</td><td>f64</td><td>f64</td><td>str</td></tr></thead><tbody><tr><td>5.1</td><td>3.5</td><td>1.4</td><td>0.2</td><td>&quot;Setosa&quot;</td></tr><tr><td>4.9</td><td>3.0</td><td>1.4</td><td>0.2</td><td>&quot;Setosa&quot;</td></tr><tr><td>4.7</td><td>3.2</td><td>1.3</td><td>0.2</td><td>&quot;Setosa&quot;</td></tr><tr><td>4.6</td><td>3.1</td><td>1.5</td><td>0.2</td><td>&quot;Setosa&quot;</td></tr><tr><td>5.0</td><td>3.6</td><td>1.4</td><td>0.2</td><td>&quot;Setosa&quot;</td></tr><tr><td>&hellip;</td><td>&hellip;</td><td>&hellip;</td><td>&hellip;</td><td>&hellip;</td></tr><tr><td>6.7</td><td>3.0</td><td>5.2</td><td>2.3</td><td>&quot;Virginica&quot;</td></tr><tr><td>6.3</td><td>2.5</td><td>5.0</td><td>1.9</td><td>&quot;Virginica&quot;</td></tr><tr><td>6.5</td><td>3.0</td><td>5.2</td><td>2.0</td><td>&quot;Virginica&quot;</td></tr><tr><td>6.2</td><td>3.4</td><td>5.4</td><td>2.3</td><td>&quot;Virginica&quot;</td></tr><tr><td>5.9</td><td>3.0</td><td>5.1</td><td>1.8</td><td>&quot;Virginica&quot;</td></tr></tbody></table></div>"
            ]
          },
          "metadata": {},
          "execution_count": 6
        }
      ]
    },
    {
      "cell_type": "code",
      "source": [
        "from google.colab import drive\n",
        "drive.mount('/content/drive')"
      ],
      "metadata": {
        "colab": {
          "base_uri": "https://localhost:8080/"
        },
        "id": "f-saB_IlrIPi",
        "outputId": "2faa8092-9bf1-49d8-8449-95457dc4f4a8"
      },
      "id": "f-saB_IlrIPi",
      "execution_count": 7,
      "outputs": [
        {
          "output_type": "stream",
          "name": "stdout",
          "text": [
            "Mounted at /content/drive\n"
          ]
        }
      ]
    },
    {
      "cell_type": "markdown",
      "source": [
        "##lectura 32"
      ],
      "metadata": {
        "id": "a0w-illacWYl"
      },
      "id": "a0w-illacWYl"
    },
    {
      "cell_type": "markdown",
      "source": [
        "con la api lazy polars no ejecuta la consulta linea por linea, api lazy permite aplicar optimizador de consulta\n",
        "conjunto de datos mas grandes de la memoria\n",
        "puede ayudarnos a optimizar los resultados"
      ],
      "metadata": {
        "id": "76EVUWuIcdG2"
      },
      "id": "76EVUWuIcdG2"
    },
    {
      "cell_type": "code",
      "source": [
        "df1 = pl.scan_parquet('/content/drive/MyDrive/polars/seccion04/vuelos/vuelos.parquet')"
      ],
      "metadata": {
        "id": "REw7KdnRdMSS"
      },
      "id": "REw7KdnRdMSS",
      "execution_count": 8,
      "outputs": []
    },
    {
      "cell_type": "code",
      "source": [
        "df1.select()"
      ],
      "metadata": {
        "colab": {
          "base_uri": "https://localhost:8080/",
          "height": 264
        },
        "id": "AcB2xc_zda1B",
        "outputId": "98cbd7c1-766b-492d-ac81-897d14b304f4"
      },
      "id": "AcB2xc_zda1B",
      "execution_count": 10,
      "outputs": [
        {
          "output_type": "execute_result",
          "data": {
            "text/plain": [
              "<LazyFrame at 0x7C1506A734C0>"
            ],
            "text/html": [
              "<h4>NAIVE QUERY PLAN</h4><p>run <b>LazyFrame.show_graph()</b> to see the optimized version</p><?xml version=\"1.0\" encoding=\"UTF-8\" standalone=\"no\"?>\n",
              "<!DOCTYPE svg PUBLIC \"-//W3C//DTD SVG 1.1//EN\"\n",
              " \"http://www.w3.org/Graphics/SVG/1.1/DTD/svg11.dtd\">\n",
              "<!-- Generated by graphviz version 2.43.0 (0)\n",
              " -->\n",
              "<!-- Title: polars_query Pages: 1 -->\n",
              "<svg width=\"67pt\" height=\"133pt\"\n",
              " viewBox=\"0.00 0.00 67.00 133.00\" xmlns=\"http://www.w3.org/2000/svg\" xmlns:xlink=\"http://www.w3.org/1999/xlink\">\n",
              "<g id=\"graph0\" class=\"graph\" transform=\"scale(1 1) rotate(0) translate(4 129)\">\n",
              "<title>polars_query</title>\n",
              "<polygon fill=\"white\" stroke=\"transparent\" points=\"-4,4 -4,-129 63,-129 63,4 -4,4\"/>\n",
              "<!-- p1 -->\n",
              "<g id=\"node1\" class=\"node\">\n",
              "<title>p1</title>\n",
              "<polygon fill=\"none\" stroke=\"black\" points=\"56.5,-125 2.5,-125 2.5,-89 56.5,-89 56.5,-125\"/>\n",
              "<text text-anchor=\"middle\" x=\"29.5\" y=\"-103.3\" font-family=\"Times,serif\" font-size=\"14.00\">π 0/0</text>\n",
              "</g>\n",
              "<!-- p2 -->\n",
              "<g id=\"node2\" class=\"node\">\n",
              "<title>p2</title>\n",
              "<polygon fill=\"none\" stroke=\"black\" points=\"59,-53 0,-53 0,0 59,0 59,-53\"/>\n",
              "<text text-anchor=\"middle\" x=\"29.5\" y=\"-37.8\" font-family=\"Times,serif\" font-size=\"14.00\">TABLE</text>\n",
              "<text text-anchor=\"middle\" x=\"29.5\" y=\"-22.8\" font-family=\"Times,serif\" font-size=\"14.00\">π */0;</text>\n",
              "<text text-anchor=\"middle\" x=\"29.5\" y=\"-7.8\" font-family=\"Times,serif\" font-size=\"14.00\">σ None</text>\n",
              "</g>\n",
              "<!-- p1&#45;&#45;p2 -->\n",
              "<g id=\"edge1\" class=\"edge\">\n",
              "<title>p1&#45;&#45;p2</title>\n",
              "<path fill=\"none\" stroke=\"black\" d=\"M29.5,-88.97C29.5,-78.51 29.5,-64.9 29.5,-53.16\"/>\n",
              "</g>\n",
              "</g>\n",
              "</svg>\n"
            ]
          },
          "metadata": {},
          "execution_count": 10
        }
      ]
    },
    {
      "cell_type": "code",
      "source": [
        "query = (\n",
        "    pl.scan_parquet('/content/drive/MyDrive/polars/seccion04/vuelos/vuelos.parquet')\n",
        "    .with_columns(\n",
        "      pl.col('AIR_TIME')/ 60\n",
        "    )\n",
        "    .filter(pl.col('MONTH')> 10)\n",
        "\n",
        ")"
      ],
      "metadata": {
        "id": "CWqFbZiGcf5W"
      },
      "id": "CWqFbZiGcf5W",
      "execution_count": 11,
      "outputs": []
    },
    {
      "cell_type": "code",
      "source": [
        "query"
      ],
      "metadata": {
        "colab": {
          "base_uri": "https://localhost:8080/",
          "height": 340
        },
        "id": "OmD_NVFVc_Gp",
        "outputId": "533ce1b7-1632-40da-cee4-9221a3c9eb1f"
      },
      "id": "OmD_NVFVc_Gp",
      "execution_count": 12,
      "outputs": [
        {
          "output_type": "execute_result",
          "data": {
            "text/plain": [
              "<LazyFrame at 0x7C1506A70D00>"
            ],
            "text/html": [
              "<h4>NAIVE QUERY PLAN</h4><p>run <b>LazyFrame.show_graph()</b> to see the optimized version</p><?xml version=\"1.0\" encoding=\"UTF-8\" standalone=\"no\"?>\n",
              "<!DOCTYPE svg PUBLIC \"-//W3C//DTD SVG 1.1//EN\"\n",
              " \"http://www.w3.org/Graphics/SVG/1.1/DTD/svg11.dtd\">\n",
              "<!-- Generated by graphviz version 2.43.0 (0)\n",
              " -->\n",
              "<!-- Title: polars_query Pages: 1 -->\n",
              "<svg width=\"464pt\" height=\"190pt\"\n",
              " viewBox=\"0.00 0.00 464.00 190.00\" xmlns=\"http://www.w3.org/2000/svg\" xmlns:xlink=\"http://www.w3.org/1999/xlink\">\n",
              "<g id=\"graph0\" class=\"graph\" transform=\"scale(1 1) rotate(0) translate(4 186)\">\n",
              "<title>polars_query</title>\n",
              "<polygon fill=\"white\" stroke=\"transparent\" points=\"-4,4 -4,-186 460,-186 460,4 -4,4\"/>\n",
              "<!-- p1 -->\n",
              "<g id=\"node1\" class=\"node\">\n",
              "<title>p1</title>\n",
              "<polygon fill=\"none\" stroke=\"black\" points=\"344,-182 112,-182 112,-146 344,-146 344,-182\"/>\n",
              "<text text-anchor=\"middle\" x=\"228\" y=\"-160.3\" font-family=\"Times,serif\" font-size=\"14.00\">FILTER BY [(col(&quot;MONTH&quot;)) &gt; (10)]</text>\n",
              "</g>\n",
              "<!-- p2 -->\n",
              "<g id=\"node2\" class=\"node\">\n",
              "<title>p2</title>\n",
              "<polygon fill=\"none\" stroke=\"black\" points=\"372.5,-110 83.5,-110 83.5,-74 372.5,-74 372.5,-110\"/>\n",
              "<text text-anchor=\"middle\" x=\"228\" y=\"-88.3\" font-family=\"Times,serif\" font-size=\"14.00\">WITH COLUMNS [[(col(&quot;AIR_TIME&quot;)) / (60)]]</text>\n",
              "</g>\n",
              "<!-- p1&#45;&#45;p2 -->\n",
              "<g id=\"edge1\" class=\"edge\">\n",
              "<title>p1&#45;&#45;p2</title>\n",
              "<path fill=\"none\" stroke=\"black\" d=\"M228,-145.7C228,-134.85 228,-120.92 228,-110.1\"/>\n",
              "</g>\n",
              "<!-- p3 -->\n",
              "<g id=\"node3\" class=\"node\">\n",
              "<title>p3</title>\n",
              "<polygon fill=\"none\" stroke=\"black\" points=\"456,-38 0,-38 0,0 456,0 456,-38\"/>\n",
              "<text text-anchor=\"middle\" x=\"228\" y=\"-22.8\" font-family=\"Times,serif\" font-size=\"14.00\">Parquet SCAN [/content/drive/MyDrive/polars/seccion04/vuelos/vuelos.parquet]</text>\n",
              "<text text-anchor=\"middle\" x=\"228\" y=\"-7.8\" font-family=\"Times,serif\" font-size=\"14.00\">π */31;</text>\n",
              "</g>\n",
              "<!-- p2&#45;&#45;p3 -->\n",
              "<g id=\"edge2\" class=\"edge\">\n",
              "<title>p2&#45;&#45;p3</title>\n",
              "<path fill=\"none\" stroke=\"black\" d=\"M228,-73.81C228,-62.98 228,-49.01 228,-38.02\"/>\n",
              "</g>\n",
              "</g>\n",
              "</svg>\n"
            ]
          },
          "metadata": {},
          "execution_count": 12
        }
      ]
    },
    {
      "cell_type": "code",
      "source": [
        "query.collect()"
      ],
      "metadata": {
        "colab": {
          "base_uri": "https://localhost:8080/",
          "height": 463
        },
        "id": "CDG1rcwMdBxA",
        "outputId": "d880e325-067b-41fe-e7e2-903525543fae"
      },
      "id": "CDG1rcwMdBxA",
      "execution_count": 13,
      "outputs": [
        {
          "output_type": "execute_result",
          "data": {
            "text/plain": [
              "shape: (947_202, 31)\n",
              "┌──────┬───────┬─────┬─────────────┬───┬──────────────┬──────────────┬──────────────┬──────────────┐\n",
              "│ YEAR ┆ MONTH ┆ DAY ┆ DAY_OF_WEEK ┆ … ┆ SECURITY_DEL ┆ AIRLINE_DELA ┆ LATE_AIRCRAF ┆ WEATHER_DELA │\n",
              "│ ---  ┆ ---   ┆ --- ┆ ---         ┆   ┆ AY           ┆ Y            ┆ T_DELAY      ┆ Y            │\n",
              "│ i32  ┆ i32   ┆ i32 ┆ i32         ┆   ┆ ---          ┆ ---          ┆ ---          ┆ ---          │\n",
              "│      ┆       ┆     ┆             ┆   ┆ i32          ┆ i32          ┆ i32          ┆ i32          │\n",
              "╞══════╪═══════╪═════╪═════════════╪═══╪══════════════╪══════════════╪══════════════╪══════════════╡\n",
              "│ 2015 ┆ 11    ┆ 1   ┆ 7           ┆ … ┆ null         ┆ null         ┆ null         ┆ null         │\n",
              "│ 2015 ┆ 11    ┆ 1   ┆ 7           ┆ … ┆ null         ┆ null         ┆ null         ┆ null         │\n",
              "│ 2015 ┆ 11    ┆ 1   ┆ 7           ┆ … ┆ null         ┆ null         ┆ null         ┆ null         │\n",
              "│ 2015 ┆ 11    ┆ 1   ┆ 7           ┆ … ┆ null         ┆ null         ┆ null         ┆ null         │\n",
              "│ 2015 ┆ 11    ┆ 1   ┆ 7           ┆ … ┆ null         ┆ null         ┆ null         ┆ null         │\n",
              "│ …    ┆ …     ┆ …   ┆ …           ┆ … ┆ …            ┆ …            ┆ …            ┆ …            │\n",
              "│ 2015 ┆ 12    ┆ 31  ┆ 4           ┆ … ┆ null         ┆ null         ┆ null         ┆ null         │\n",
              "│ 2015 ┆ 12    ┆ 31  ┆ 4           ┆ … ┆ null         ┆ null         ┆ null         ┆ null         │\n",
              "│ 2015 ┆ 12    ┆ 31  ┆ 4           ┆ … ┆ null         ┆ null         ┆ null         ┆ null         │\n",
              "│ 2015 ┆ 12    ┆ 31  ┆ 4           ┆ … ┆ null         ┆ null         ┆ null         ┆ null         │\n",
              "│ 2015 ┆ 12    ┆ 31  ┆ 4           ┆ … ┆ null         ┆ null         ┆ null         ┆ null         │\n",
              "└──────┴───────┴─────┴─────────────┴───┴──────────────┴──────────────┴──────────────┴──────────────┘"
            ],
            "text/html": [
              "<div><style>\n",
              ".dataframe > thead > tr,\n",
              ".dataframe > tbody > tr {\n",
              "  text-align: right;\n",
              "  white-space: pre-wrap;\n",
              "}\n",
              "</style>\n",
              "<small>shape: (947_202, 31)</small><table border=\"1\" class=\"dataframe\"><thead><tr><th>YEAR</th><th>MONTH</th><th>DAY</th><th>DAY_OF_WEEK</th><th>AIRLINE</th><th>FLIGHT_NUMBER</th><th>TAIL_NUMBER</th><th>ORIGIN_AIRPORT</th><th>DESTINATION_AIRPORT</th><th>SCHEDULED_DEPARTURE</th><th>DEPARTURE_TIME</th><th>DEPARTURE_DELAY</th><th>TAXI_OUT</th><th>WHEELS_OFF</th><th>SCHEDULED_TIME</th><th>ELAPSED_TIME</th><th>AIR_TIME</th><th>DISTANCE</th><th>WHEELS_ON</th><th>TAXI_IN</th><th>SCHEDULED_ARRIVAL</th><th>ARRIVAL_TIME</th><th>ARRIVAL_DELAY</th><th>DIVERTED</th><th>CANCELLED</th><th>CANCELLATION_REASON</th><th>AIR_SYSTEM_DELAY</th><th>SECURITY_DELAY</th><th>AIRLINE_DELAY</th><th>LATE_AIRCRAFT_DELAY</th><th>WEATHER_DELAY</th></tr><tr><td>i32</td><td>i32</td><td>i32</td><td>i32</td><td>str</td><td>i32</td><td>str</td><td>str</td><td>str</td><td>i32</td><td>i32</td><td>i32</td><td>i32</td><td>i32</td><td>i32</td><td>i32</td><td>f64</td><td>i32</td><td>i32</td><td>i32</td><td>i32</td><td>i32</td><td>i32</td><td>i32</td><td>i32</td><td>str</td><td>i32</td><td>i32</td><td>i32</td><td>i32</td><td>i32</td></tr></thead><tbody><tr><td>2015</td><td>11</td><td>1</td><td>7</td><td>&quot;NK&quot;</td><td>612</td><td>&quot;N602NK&quot;</td><td>&quot;LAS&quot;</td><td>&quot;MSP&quot;</td><td>5</td><td>7</td><td>2</td><td>17</td><td>24</td><td>177</td><td>177</td><td>2.566667</td><td>1299</td><td>358</td><td>6</td><td>402</td><td>404</td><td>2</td><td>0</td><td>0</td><td>null</td><td>null</td><td>null</td><td>null</td><td>null</td><td>null</td></tr><tr><td>2015</td><td>11</td><td>1</td><td>7</td><td>&quot;UA&quot;</td><td>680</td><td>&quot;N76516&quot;</td><td>&quot;SFO&quot;</td><td>&quot;ORD&quot;</td><td>14</td><td>19</td><td>5</td><td>15</td><td>34</td><td>258</td><td>231</td><td>3.516667</td><td>1846</td><td>505</td><td>5</td><td>532</td><td>510</td><td>-22</td><td>0</td><td>0</td><td>null</td><td>null</td><td>null</td><td>null</td><td>null</td><td>null</td></tr><tr><td>2015</td><td>11</td><td>1</td><td>7</td><td>&quot;AA&quot;</td><td>260</td><td>&quot;N3KTAA&quot;</td><td>&quot;LAX&quot;</td><td>&quot;MIA&quot;</td><td>15</td><td>6</td><td>-9</td><td>30</td><td>36</td><td>296</td><td>313</td><td>4.5</td><td>2342</td><td>706</td><td>13</td><td>711</td><td>719</td><td>8</td><td>0</td><td>0</td><td>null</td><td>null</td><td>null</td><td>null</td><td>null</td><td>null</td></tr><tr><td>2015</td><td>11</td><td>1</td><td>7</td><td>&quot;UA&quot;</td><td>910</td><td>&quot;N76503&quot;</td><td>&quot;LAX&quot;</td><td>&quot;ORD&quot;</td><td>31</td><td>27</td><td>-4</td><td>14</td><td>41</td><td>248</td><td>231</td><td>3.516667</td><td>1744</td><td>512</td><td>6</td><td>539</td><td>518</td><td>-21</td><td>0</td><td>0</td><td>null</td><td>null</td><td>null</td><td>null</td><td>null</td><td>null</td></tr><tr><td>2015</td><td>11</td><td>1</td><td>7</td><td>&quot;UA&quot;</td><td>1888</td><td>null</td><td>&quot;LAS&quot;</td><td>&quot;IAH&quot;</td><td>41</td><td>null</td><td>null</td><td>null</td><td>null</td><td>172</td><td>null</td><td>null</td><td>1222</td><td>null</td><td>null</td><td>433</td><td>null</td><td>null</td><td>0</td><td>1</td><td>&quot;A&quot;</td><td>null</td><td>null</td><td>null</td><td>null</td><td>null</td></tr><tr><td>&hellip;</td><td>&hellip;</td><td>&hellip;</td><td>&hellip;</td><td>&hellip;</td><td>&hellip;</td><td>&hellip;</td><td>&hellip;</td><td>&hellip;</td><td>&hellip;</td><td>&hellip;</td><td>&hellip;</td><td>&hellip;</td><td>&hellip;</td><td>&hellip;</td><td>&hellip;</td><td>&hellip;</td><td>&hellip;</td><td>&hellip;</td><td>&hellip;</td><td>&hellip;</td><td>&hellip;</td><td>&hellip;</td><td>&hellip;</td><td>&hellip;</td><td>&hellip;</td><td>&hellip;</td><td>&hellip;</td><td>&hellip;</td><td>&hellip;</td><td>&hellip;</td></tr><tr><td>2015</td><td>12</td><td>31</td><td>4</td><td>&quot;B6&quot;</td><td>688</td><td>&quot;N657JB&quot;</td><td>&quot;LAX&quot;</td><td>&quot;BOS&quot;</td><td>2359</td><td>2355</td><td>-4</td><td>22</td><td>17</td><td>320</td><td>298</td><td>4.533333</td><td>2611</td><td>749</td><td>4</td><td>819</td><td>753</td><td>-26</td><td>0</td><td>0</td><td>null</td><td>null</td><td>null</td><td>null</td><td>null</td><td>null</td></tr><tr><td>2015</td><td>12</td><td>31</td><td>4</td><td>&quot;B6&quot;</td><td>745</td><td>&quot;N828JB&quot;</td><td>&quot;JFK&quot;</td><td>&quot;PSE&quot;</td><td>2359</td><td>2355</td><td>-4</td><td>17</td><td>12</td><td>227</td><td>215</td><td>3.25</td><td>1617</td><td>427</td><td>3</td><td>446</td><td>430</td><td>-16</td><td>0</td><td>0</td><td>null</td><td>null</td><td>null</td><td>null</td><td>null</td><td>null</td></tr><tr><td>2015</td><td>12</td><td>31</td><td>4</td><td>&quot;B6&quot;</td><td>1503</td><td>&quot;N913JB&quot;</td><td>&quot;JFK&quot;</td><td>&quot;SJU&quot;</td><td>2359</td><td>2350</td><td>-9</td><td>17</td><td>7</td><td>221</td><td>222</td><td>3.283333</td><td>1598</td><td>424</td><td>8</td><td>440</td><td>432</td><td>-8</td><td>0</td><td>0</td><td>null</td><td>null</td><td>null</td><td>null</td><td>null</td><td>null</td></tr><tr><td>2015</td><td>12</td><td>31</td><td>4</td><td>&quot;B6&quot;</td><td>333</td><td>&quot;N527JB&quot;</td><td>&quot;MCO&quot;</td><td>&quot;SJU&quot;</td><td>2359</td><td>2353</td><td>-6</td><td>10</td><td>3</td><td>161</td><td>157</td><td>2.4</td><td>1189</td><td>327</td><td>3</td><td>340</td><td>330</td><td>-10</td><td>0</td><td>0</td><td>null</td><td>null</td><td>null</td><td>null</td><td>null</td><td>null</td></tr><tr><td>2015</td><td>12</td><td>31</td><td>4</td><td>&quot;B6&quot;</td><td>839</td><td>&quot;N534JB&quot;</td><td>&quot;JFK&quot;</td><td>&quot;BQN&quot;</td><td>2359</td><td>14</td><td>15</td><td>14</td><td>28</td><td>221</td><td>208</td><td>3.15</td><td>1576</td><td>437</td><td>5</td><td>440</td><td>442</td><td>2</td><td>0</td><td>0</td><td>null</td><td>null</td><td>null</td><td>null</td><td>null</td><td>null</td></tr></tbody></table></div>"
            ]
          },
          "metadata": {},
          "execution_count": 13
        }
      ]
    },
    {
      "cell_type": "markdown",
      "source": [
        "###forma alternativa de acceder a la api lazy de polars"
      ],
      "metadata": {
        "id": "jwyL0M2ueWiK"
      },
      "id": "jwyL0M2ueWiK"
    },
    {
      "cell_type": "code",
      "source": [
        "df2 = pl.DataFrame(\n",
        "  {\n",
        "        'id':[1,2,3],\n",
        "        'nombre':['Rosa','Jose','Pedro']\n",
        "    }\n",
        "\n",
        ")"
      ],
      "metadata": {
        "id": "_sOJVIv5eaeN"
      },
      "id": "_sOJVIv5eaeN",
      "execution_count": 14,
      "outputs": []
    },
    {
      "cell_type": "code",
      "source": [
        "df2"
      ],
      "metadata": {
        "colab": {
          "base_uri": "https://localhost:8080/",
          "height": 192
        },
        "id": "CiqUqyYtecj-",
        "outputId": "e102161f-a14e-4b33-c55c-c7e40c0a754f"
      },
      "id": "CiqUqyYtecj-",
      "execution_count": 15,
      "outputs": [
        {
          "output_type": "execute_result",
          "data": {
            "text/plain": [
              "shape: (3, 2)\n",
              "┌─────┬────────┐\n",
              "│ id  ┆ nombre │\n",
              "│ --- ┆ ---    │\n",
              "│ i64 ┆ str    │\n",
              "╞═════╪════════╡\n",
              "│ 1   ┆ Rosa   │\n",
              "│ 2   ┆ Jose   │\n",
              "│ 3   ┆ Pedro  │\n",
              "└─────┴────────┘"
            ],
            "text/html": [
              "<div><style>\n",
              ".dataframe > thead > tr,\n",
              ".dataframe > tbody > tr {\n",
              "  text-align: right;\n",
              "  white-space: pre-wrap;\n",
              "}\n",
              "</style>\n",
              "<small>shape: (3, 2)</small><table border=\"1\" class=\"dataframe\"><thead><tr><th>id</th><th>nombre</th></tr><tr><td>i64</td><td>str</td></tr></thead><tbody><tr><td>1</td><td>&quot;Rosa&quot;</td></tr><tr><td>2</td><td>&quot;Jose&quot;</td></tr><tr><td>3</td><td>&quot;Pedro&quot;</td></tr></tbody></table></div>"
            ]
          },
          "metadata": {},
          "execution_count": 15
        }
      ]
    },
    {
      "cell_type": "code",
      "source": [
        "df2_lazy = df2.lazy()"
      ],
      "metadata": {
        "id": "kXTviXxnei3r"
      },
      "id": "kXTviXxnei3r",
      "execution_count": 16,
      "outputs": []
    },
    {
      "cell_type": "code",
      "source": [
        "print(df2_lazy) ## la consulta del lazy frame establece los nombres de las columnas y los tipos de datos"
      ],
      "metadata": {
        "colab": {
          "base_uri": "https://localhost:8080/"
        },
        "id": "ppFpGNreen0Q",
        "outputId": "e8f53565-27f2-4807-d586-27f29aaad496"
      },
      "id": "ppFpGNreen0Q",
      "execution_count": 18,
      "outputs": [
        {
          "output_type": "stream",
          "name": "stdout",
          "text": [
            "naive plan: (run LazyFrame.explain(optimized=True) to see the optimized plan)\n",
            "\n",
            "DF [\"id\", \"nombre\"]; PROJECT */2 COLUMNS; SELECTION: None\n"
          ]
        }
      ]
    },
    {
      "cell_type": "code",
      "source": [
        "df2_lazy.explain(optimized=True)"
      ],
      "metadata": {
        "colab": {
          "base_uri": "https://localhost:8080/",
          "height": 36
        },
        "id": "-ztx7TYietAe",
        "outputId": "2025eb88-b9fd-4f60-ddad-c0aa3efa226f"
      },
      "id": "-ztx7TYietAe",
      "execution_count": 21,
      "outputs": [
        {
          "output_type": "execute_result",
          "data": {
            "text/plain": [
              "'DF [\"id\", \"nombre\"]; PROJECT */2 COLUMNS; SELECTION: None'"
            ],
            "application/vnd.google.colaboratory.intrinsic+json": {
              "type": "string"
            }
          },
          "metadata": {},
          "execution_count": 21
        }
      ]
    },
    {
      "cell_type": "code",
      "source": [
        "df2_lazy"
      ],
      "metadata": {
        "colab": {
          "base_uri": "https://localhost:8080/",
          "height": 168
        },
        "id": "R8t9TnSie1uH",
        "outputId": "cea4e19d-ae2d-4153-cea1-588e78889b59"
      },
      "id": "R8t9TnSie1uH",
      "execution_count": 23,
      "outputs": [
        {
          "output_type": "execute_result",
          "data": {
            "text/plain": [
              "<LazyFrame at 0x7C1506A70550>"
            ],
            "text/html": [
              "<h4>NAIVE QUERY PLAN</h4><p>run <b>LazyFrame.show_graph()</b> to see the optimized version</p><?xml version=\"1.0\" encoding=\"UTF-8\" standalone=\"no\"?>\n",
              "<!DOCTYPE svg PUBLIC \"-//W3C//DTD SVG 1.1//EN\"\n",
              " \"http://www.w3.org/Graphics/SVG/1.1/DTD/svg11.dtd\">\n",
              "<!-- Generated by graphviz version 2.43.0 (0)\n",
              " -->\n",
              "<!-- Title: polars_query Pages: 1 -->\n",
              "<svg width=\"67pt\" height=\"61pt\"\n",
              " viewBox=\"0.00 0.00 67.00 61.00\" xmlns=\"http://www.w3.org/2000/svg\" xmlns:xlink=\"http://www.w3.org/1999/xlink\">\n",
              "<g id=\"graph0\" class=\"graph\" transform=\"scale(1 1) rotate(0) translate(4 57)\">\n",
              "<title>polars_query</title>\n",
              "<polygon fill=\"white\" stroke=\"transparent\" points=\"-4,4 -4,-57 63,-57 63,4 -4,4\"/>\n",
              "<!-- p1 -->\n",
              "<g id=\"node1\" class=\"node\">\n",
              "<title>p1</title>\n",
              "<polygon fill=\"none\" stroke=\"black\" points=\"59,-53 0,-53 0,0 59,0 59,-53\"/>\n",
              "<text text-anchor=\"middle\" x=\"29.5\" y=\"-37.8\" font-family=\"Times,serif\" font-size=\"14.00\">TABLE</text>\n",
              "<text text-anchor=\"middle\" x=\"29.5\" y=\"-22.8\" font-family=\"Times,serif\" font-size=\"14.00\">π */2;</text>\n",
              "<text text-anchor=\"middle\" x=\"29.5\" y=\"-7.8\" font-family=\"Times,serif\" font-size=\"14.00\">σ None</text>\n",
              "</g>\n",
              "</g>\n",
              "</svg>\n"
            ]
          },
          "metadata": {},
          "execution_count": 23
        }
      ]
    },
    {
      "cell_type": "markdown",
      "source": [
        "##podemos ver el dataframe lazy con el metodo schema, .schema\n",
        "comprobacion de los tipos de datos del lazy frame\n",
        "en la api lazy polars comprobara el dataframe antes de comprobar los datos\n",
        "la verificacion se realiza al verificar la consulta lazy"
      ],
      "metadata": {
        "id": "j8zGblWqfQoe"
      },
      "id": "j8zGblWqfQoe"
    },
    {
      "cell_type": "code",
      "source": [
        "df2.schema"
      ],
      "metadata": {
        "colab": {
          "base_uri": "https://localhost:8080/"
        },
        "id": "7Mi6WZsbfUA0",
        "outputId": "815c0510-66d7-4148-bc80-fd6e46c1ad84"
      },
      "id": "7Mi6WZsbfUA0",
      "execution_count": 25,
      "outputs": [
        {
          "output_type": "execute_result",
          "data": {
            "text/plain": [
              "Schema([('id', Int64), ('nombre', String)])"
            ]
          },
          "metadata": {},
          "execution_count": 25
        }
      ]
    },
    {
      "cell_type": "code",
      "source": [
        "df2_lazy.schema"
      ],
      "metadata": {
        "colab": {
          "base_uri": "https://localhost:8080/"
        },
        "id": "A6P_8dW3fgLn",
        "outputId": "d6c4a2fe-bee3-46ba-9327-3d1b0d66961c"
      },
      "id": "A6P_8dW3fgLn",
      "execution_count": 26,
      "outputs": [
        {
          "output_type": "stream",
          "name": "stderr",
          "text": [
            "<ipython-input-26-a3c065f6a69b>:1: PerformanceWarning: Resolving the schema of a LazyFrame is a potentially expensive operation. Use `LazyFrame.collect_schema()` to get the schema without this warning.\n",
            "  df2_lazy.schema\n"
          ]
        },
        {
          "output_type": "execute_result",
          "data": {
            "text/plain": [
              "Schema([('id', Int64), ('nombre', String)])"
            ]
          },
          "metadata": {},
          "execution_count": 26
        }
      ]
    },
    {
      "cell_type": "code",
      "source": [
        "df2"
      ],
      "metadata": {
        "colab": {
          "base_uri": "https://localhost:8080/",
          "height": 192
        },
        "id": "vZAc0xjOfpy_",
        "outputId": "55a712a9-f0af-45de-9dff-b35b5b0f5c23"
      },
      "id": "vZAc0xjOfpy_",
      "execution_count": 27,
      "outputs": [
        {
          "output_type": "execute_result",
          "data": {
            "text/plain": [
              "shape: (3, 2)\n",
              "┌─────┬────────┐\n",
              "│ id  ┆ nombre │\n",
              "│ --- ┆ ---    │\n",
              "│ i64 ┆ str    │\n",
              "╞═════╪════════╡\n",
              "│ 1   ┆ Rosa   │\n",
              "│ 2   ┆ Jose   │\n",
              "│ 3   ┆ Pedro  │\n",
              "└─────┴────────┘"
            ],
            "text/html": [
              "<div><style>\n",
              ".dataframe > thead > tr,\n",
              ".dataframe > tbody > tr {\n",
              "  text-align: right;\n",
              "  white-space: pre-wrap;\n",
              "}\n",
              "</style>\n",
              "<small>shape: (3, 2)</small><table border=\"1\" class=\"dataframe\"><thead><tr><th>id</th><th>nombre</th></tr><tr><td>i64</td><td>str</td></tr></thead><tbody><tr><td>1</td><td>&quot;Rosa&quot;</td></tr><tr><td>2</td><td>&quot;Jose&quot;</td></tr><tr><td>3</td><td>&quot;Pedro&quot;</td></tr></tbody></table></div>"
            ]
          },
          "metadata": {},
          "execution_count": 27
        }
      ]
    },
    {
      "cell_type": "code",
      "source": [
        "df2_lazy.with_columns(pl.col('id').round(0)).collect()"
      ],
      "metadata": {
        "colab": {
          "base_uri": "https://localhost:8080/",
          "height": 192
        },
        "id": "AXf1ITG4fum_",
        "outputId": "863b1cda-90f1-41a4-81ff-ca14844c51af"
      },
      "id": "AXf1ITG4fum_",
      "execution_count": 28,
      "outputs": [
        {
          "output_type": "execute_result",
          "data": {
            "text/plain": [
              "shape: (3, 2)\n",
              "┌─────┬────────┐\n",
              "│ id  ┆ nombre │\n",
              "│ --- ┆ ---    │\n",
              "│ i64 ┆ str    │\n",
              "╞═════╪════════╡\n",
              "│ 1   ┆ Rosa   │\n",
              "│ 2   ┆ Jose   │\n",
              "│ 3   ┆ Pedro  │\n",
              "└─────┴────────┘"
            ],
            "text/html": [
              "<div><style>\n",
              ".dataframe > thead > tr,\n",
              ".dataframe > tbody > tr {\n",
              "  text-align: right;\n",
              "  white-space: pre-wrap;\n",
              "}\n",
              "</style>\n",
              "<small>shape: (3, 2)</small><table border=\"1\" class=\"dataframe\"><thead><tr><th>id</th><th>nombre</th></tr><tr><td>i64</td><td>str</td></tr></thead><tbody><tr><td>1</td><td>&quot;Rosa&quot;</td></tr><tr><td>2</td><td>&quot;Jose&quot;</td></tr><tr><td>3</td><td>&quot;Pedro&quot;</td></tr></tbody></table></div>"
            ]
          },
          "metadata": {},
          "execution_count": 28
        }
      ]
    },
    {
      "cell_type": "markdown",
      "source": [
        "en la api lazy se debe conocer el esquema el optimizador de consulta podra inferir , si el esquema no se conoce de antemano no se hace , ejemplo pivot\n",
        "pivot NO ESTA DISPOPNIBLE EN API lazy"
      ],
      "metadata": {
        "id": "vE_tnIddf3zx"
      },
      "id": "vE_tnIddf3zx"
    },
    {
      "cell_type": "markdown",
      "source": [
        "ejecutar el pipeline en modo lazy\n",
        "ejecutar el pipeline con .collect\n",
        "hacer la operacion que no sea lazy en el dataframe\n",
        "Convertir la salida nuevamente en a unlazy Frame y continuar en modo lazy"
      ],
      "metadata": {
        "id": "XIcg9JUwf-ra"
      },
      "id": "XIcg9JUwf-ra"
    },
    {
      "cell_type": "code",
      "source": [
        "df3 = pl.scan_csv('/content/drive/MyDrive/polars/seccion03/dataCSV.csv')\n",
        "df3"
      ],
      "metadata": {
        "colab": {
          "base_uri": "https://localhost:8080/",
          "height": 148
        },
        "id": "l7h0ADJ7izuZ",
        "outputId": "a7a2afd8-725b-4716-da6d-db0a45cc547a"
      },
      "id": "l7h0ADJ7izuZ",
      "execution_count": 56,
      "outputs": [
        {
          "output_type": "execute_result",
          "data": {
            "text/plain": [
              "<LazyFrame at 0x7C1506A740A0>"
            ],
            "text/html": [
              "<h4>NAIVE QUERY PLAN</h4><p>run <b>LazyFrame.show_graph()</b> to see the optimized version</p><?xml version=\"1.0\" encoding=\"UTF-8\" standalone=\"no\"?>\n",
              "<!DOCTYPE svg PUBLIC \"-//W3C//DTD SVG 1.1//EN\"\n",
              " \"http://www.w3.org/Graphics/SVG/1.1/DTD/svg11.dtd\">\n",
              "<!-- Generated by graphviz version 2.43.0 (0)\n",
              " -->\n",
              "<!-- Title: polars_query Pages: 1 -->\n",
              "<svg width=\"394pt\" height=\"46pt\"\n",
              " viewBox=\"0.00 0.00 394.00 46.00\" xmlns=\"http://www.w3.org/2000/svg\" xmlns:xlink=\"http://www.w3.org/1999/xlink\">\n",
              "<g id=\"graph0\" class=\"graph\" transform=\"scale(1 1) rotate(0) translate(4 42)\">\n",
              "<title>polars_query</title>\n",
              "<polygon fill=\"white\" stroke=\"transparent\" points=\"-4,4 -4,-42 390,-42 390,4 -4,4\"/>\n",
              "<!-- p1 -->\n",
              "<g id=\"node1\" class=\"node\">\n",
              "<title>p1</title>\n",
              "<polygon fill=\"none\" stroke=\"black\" points=\"386,-38 0,-38 0,0 386,0 386,-38\"/>\n",
              "<text text-anchor=\"middle\" x=\"193\" y=\"-22.8\" font-family=\"Times,serif\" font-size=\"14.00\">Csv SCAN [/content/drive/MyDrive/polars/seccion03/dataCSV.csv]</text>\n",
              "<text text-anchor=\"middle\" x=\"193\" y=\"-7.8\" font-family=\"Times,serif\" font-size=\"14.00\">π */16;</text>\n",
              "</g>\n",
              "</g>\n",
              "</svg>\n"
            ]
          },
          "metadata": {},
          "execution_count": 56
        }
      ]
    },
    {
      "cell_type": "code",
      "source": [
        "df3.collect().head(3)"
      ],
      "metadata": {
        "colab": {
          "base_uri": "https://localhost:8080/",
          "height": 368
        },
        "id": "X8sbT0z_jU9u",
        "outputId": "95c3d912-8937-47bf-c145-132c1bc5ff49"
      },
      "id": "X8sbT0z_jU9u",
      "execution_count": 59,
      "outputs": [
        {
          "output_type": "execute_result",
          "data": {
            "text/plain": [
              "shape: (3, 16)\n",
              "┌───────────┬───────────┬───────────┬───────────┬───┬───────────┬───────────┬───────────┬──────────┐\n",
              "│ video_id  ┆ trending_ ┆ title     ┆ channel_t ┆ … ┆ comments_ ┆ ratings_d ┆ video_err ┆ descript │\n",
              "│ ---       ┆ date      ┆ ---       ┆ itle      ┆   ┆ disabled  ┆ isabled   ┆ or_or_rem ┆ ion      │\n",
              "│ str       ┆ ---       ┆ str       ┆ ---       ┆   ┆ ---       ┆ ---       ┆ oved      ┆ ---      │\n",
              "│           ┆ str       ┆           ┆ str       ┆   ┆ bool      ┆ bool      ┆ ---       ┆ str      │\n",
              "│           ┆           ┆           ┆           ┆   ┆           ┆           ┆ bool      ┆          │\n",
              "╞═══════════╪═══════════╪═══════════╪═══════════╪═══╪═══════════╪═══════════╪═══════════╪══════════╡\n",
              "│ 2kyS6SvSY ┆ 17.14.11  ┆ WE WANT   ┆ CaseyNeis ┆ … ┆ false     ┆ false     ┆ false     ┆ SHANTELL │\n",
              "│ SE        ┆           ┆ TO TALK   ┆ tat       ┆   ┆           ┆           ┆           ┆ 'S       │\n",
              "│           ┆           ┆ ABOUT OUR ┆           ┆   ┆           ┆           ┆           ┆ CHANNEL  │\n",
              "│           ┆           ┆ MARR…     ┆           ┆   ┆           ┆           ┆           ┆ - https: │\n",
              "│           ┆           ┆           ┆           ┆   ┆           ┆           ┆           ┆ //w…     │\n",
              "│ 1ZAPwfrtA ┆ 17.14.11  ┆ The Trump ┆ LastWeekT ┆ … ┆ false     ┆ false     ┆ false     ┆ One year │\n",
              "│ FY        ┆           ┆ Presidenc ┆ onight    ┆   ┆           ┆           ┆           ┆ after    │\n",
              "│           ┆           ┆ y: Last   ┆           ┆   ┆           ┆           ┆           ┆ the pres │\n",
              "│           ┆           ┆ Wee…      ┆           ┆   ┆           ┆           ┆           ┆ identia… │\n",
              "│ 5qpjK5DgC ┆ 17.14.11  ┆ Racist    ┆ Rudy      ┆ … ┆ false     ┆ false     ┆ false     ┆ WATCH MY │\n",
              "│ t4        ┆           ┆ Superman  ┆ Mancuso   ┆   ┆           ┆           ┆           ┆ PREVIOUS │\n",
              "│           ┆           ┆ | Rudy    ┆           ┆   ┆           ┆           ┆           ┆ VIDEO ▶  │\n",
              "│           ┆           ┆ Mancuso…  ┆           ┆   ┆           ┆           ┆           ┆ \\n\\n…    │\n",
              "└───────────┴───────────┴───────────┴───────────┴───┴───────────┴───────────┴───────────┴──────────┘"
            ],
            "text/html": [
              "<div><style>\n",
              ".dataframe > thead > tr,\n",
              ".dataframe > tbody > tr {\n",
              "  text-align: right;\n",
              "  white-space: pre-wrap;\n",
              "}\n",
              "</style>\n",
              "<small>shape: (3, 16)</small><table border=\"1\" class=\"dataframe\"><thead><tr><th>video_id</th><th>trending_date</th><th>title</th><th>channel_title</th><th>category_id</th><th>publish_time</th><th>tags</th><th>views</th><th>likes</th><th>dislikes</th><th>comment_count</th><th>thumbnail_link</th><th>comments_disabled</th><th>ratings_disabled</th><th>video_error_or_removed</th><th>description</th></tr><tr><td>str</td><td>str</td><td>str</td><td>str</td><td>i64</td><td>str</td><td>str</td><td>i64</td><td>i64</td><td>i64</td><td>i64</td><td>str</td><td>bool</td><td>bool</td><td>bool</td><td>str</td></tr></thead><tbody><tr><td>&quot;2kyS6SvSYSE&quot;</td><td>&quot;17.14.11&quot;</td><td>&quot;WE WANT TO TALK ABOUT OUR MARR…</td><td>&quot;CaseyNeistat&quot;</td><td>22</td><td>&quot;2017-11-13T17:13:01.000Z&quot;</td><td>&quot;SHANtell martin&quot;</td><td>748374</td><td>57527</td><td>2966</td><td>15954</td><td>&quot;https://i.ytimg.com/vi/2kyS6Sv…</td><td>false</td><td>false</td><td>false</td><td>&quot;SHANTELL&#x27;S CHANNEL - https://w…</td></tr><tr><td>&quot;1ZAPwfrtAFY&quot;</td><td>&quot;17.14.11&quot;</td><td>&quot;The Trump Presidency: Last Wee…</td><td>&quot;LastWeekTonight&quot;</td><td>24</td><td>&quot;2017-11-13T07:30:00.000Z&quot;</td><td>&quot;last week tonight trump presid…</td><td>2418783</td><td>97185</td><td>6146</td><td>12703</td><td>&quot;https://i.ytimg.com/vi/1ZAPwfr…</td><td>false</td><td>false</td><td>false</td><td>&quot;One year after the presidentia…</td></tr><tr><td>&quot;5qpjK5DgCt4&quot;</td><td>&quot;17.14.11&quot;</td><td>&quot;Racist Superman | Rudy Mancuso…</td><td>&quot;Rudy Mancuso&quot;</td><td>23</td><td>&quot;2017-11-12T19:05:24.000Z&quot;</td><td>&quot;racist superman|rudy|mancuso|k…</td><td>3191434</td><td>146033</td><td>5339</td><td>8181</td><td>&quot;https://i.ytimg.com/vi/5qpjK5D…</td><td>false</td><td>false</td><td>false</td><td>&quot;WATCH MY PREVIOUS VIDEO ▶ \\n\\n…</td></tr></tbody></table></div>"
            ]
          },
          "metadata": {},
          "execution_count": 59
        }
      ]
    },
    {
      "cell_type": "markdown",
      "source": [
        "lazy_eager_query =(\n",
        "    pl.scan_parquet('/content/vuelos.parquet')\n",
        "    .with_columns(pl.col('AIR_TIME')/ 60)\n",
        ".collect()\n",
        ".pivot(\n",
        "        index='AIRLINE',columns='MONTH', values='AIR_TIME',aggfunc='mean'\n",
        ")"
      ],
      "metadata": {
        "id": "4jztZJOGjfEG"
      },
      "id": "4jztZJOGjfEG"
    },
    {
      "cell_type": "markdown",
      "source": [
        ".lazy()\n",
        "    .filter(pl.col('AIRLINE')=='AA')\n",
        "    .collect()\n",
        "    )"
      ],
      "metadata": {
        "id": "oHkwba2ZjhvP"
      },
      "id": "oHkwba2ZjhvP"
    },
    {
      "cell_type": "code",
      "source": [
        "df3.columns"
      ],
      "metadata": {
        "colab": {
          "base_uri": "https://localhost:8080/"
        },
        "id": "nJL2n0N7j5pi",
        "outputId": "434a9748-d6bf-46d8-b855-97557e1d0e5e"
      },
      "id": "nJL2n0N7j5pi",
      "execution_count": 58,
      "outputs": [
        {
          "output_type": "stream",
          "name": "stderr",
          "text": [
            "<ipython-input-58-5354ac78f1f0>:1: PerformanceWarning: Determining the column names of a LazyFrame requires resolving its schema, which is a potentially expensive operation. Use `LazyFrame.collect_schema().names()` to get the column names without this warning.\n",
            "  df3.columns\n"
          ]
        },
        {
          "output_type": "execute_result",
          "data": {
            "text/plain": [
              "['video_id',\n",
              " 'trending_date',\n",
              " 'title',\n",
              " 'channel_title',\n",
              " 'category_id',\n",
              " 'publish_time',\n",
              " 'tags',\n",
              " 'views',\n",
              " 'likes',\n",
              " 'dislikes',\n",
              " 'comment_count',\n",
              " 'thumbnail_link',\n",
              " 'comments_disabled',\n",
              " 'ratings_disabled',\n",
              " 'video_error_or_removed',\n",
              " 'description']"
            ]
          },
          "metadata": {},
          "execution_count": 58
        }
      ]
    },
    {
      "cell_type": "code",
      "source": [
        "lazy_eager_query =(\n",
        "    pl.scan_csv('/content/drive/MyDrive/polars/seccion03/dataCSV.csv')\n",
        "    .with_columns(pl.col('views')> 100000)\n",
        ".collect()\n",
        ".pivot(\n",
        "        index='video_id',columns='likes', values='likes',aggregate_function='mean'\n",
        "))"
      ],
      "metadata": {
        "colab": {
          "base_uri": "https://localhost:8080/"
        },
        "id": "I6jYl0wSkLq1",
        "outputId": "2a6f603f-40c0-4081-c5eb-2dba4658100b"
      },
      "id": "I6jYl0wSkLq1",
      "execution_count": 63,
      "outputs": [
        {
          "output_type": "stream",
          "name": "stderr",
          "text": [
            "<ipython-input-63-b91b887ff27b>:2: DeprecationWarning: The argument `columns` for `DataFrame.pivot` is deprecated. It has been renamed to `on`.\n",
            "  pl.scan_csv('/content/drive/MyDrive/polars/seccion03/dataCSV.csv')\n"
          ]
        }
      ]
    },
    {
      "cell_type": "code",
      "source": [
        "lazy_eager_query"
      ],
      "metadata": {
        "colab": {
          "base_uri": "https://localhost:8080/",
          "height": 463
        },
        "id": "H2YPJIsjk56b",
        "outputId": "fb973023-a564-47d9-d50d-aa21000a8c3c"
      },
      "id": "H2YPJIsjk56b",
      "execution_count": 81,
      "outputs": [
        {
          "output_type": "execute_result",
          "data": {
            "text/plain": [
              "shape: (6_351, 29_851)\n",
              "┌─────────────┬─────────┬─────────┬──────────┬───┬───────┬───────┬────────┬────────┐\n",
              "│ video_id    ┆ 57527   ┆ 97185   ┆ 146033   ┆ … ┆ 60008 ┆ 48068 ┆ 192957 ┆ 357079 │\n",
              "│ ---         ┆ ---     ┆ ---     ┆ ---      ┆   ┆ ---   ┆ ---   ┆ ---    ┆ ---    │\n",
              "│ str         ┆ f64     ┆ f64     ┆ f64      ┆   ┆ f64   ┆ f64   ┆ f64    ┆ f64    │\n",
              "╞═════════════╪═════════╪═════════╪══════════╪═══╪═══════╪═══════╪════════╪════════╡\n",
              "│ 2kyS6SvSYSE ┆ 57527.0 ┆ null    ┆ null     ┆ … ┆ null  ┆ null  ┆ null   ┆ null   │\n",
              "│ 1ZAPwfrtAFY ┆ null    ┆ 97185.0 ┆ null     ┆ … ┆ null  ┆ null  ┆ null   ┆ null   │\n",
              "│ 5qpjK5DgCt4 ┆ null    ┆ null    ┆ 146033.0 ┆ … ┆ null  ┆ null  ┆ null   ┆ null   │\n",
              "│ puqaWrEC7tY ┆ null    ┆ null    ┆ null     ┆ … ┆ null  ┆ null  ┆ null   ┆ null   │\n",
              "│ d380meD0W0M ┆ null    ┆ null    ┆ null     ┆ … ┆ null  ┆ null  ┆ null   ┆ null   │\n",
              "│ …           ┆ …       ┆ …       ┆ …        ┆ … ┆ …     ┆ …     ┆ …      ┆ …      │\n",
              "│ dS5Thrl-4Kc ┆ null    ┆ null    ┆ null     ┆ … ┆ null  ┆ null  ┆ null   ┆ null   │\n",
              "│ JGm9Y_hFqNk ┆ null    ┆ null    ┆ null     ┆ … ┆ null  ┆ null  ┆ null   ┆ null   │\n",
              "│ 6h8QgZF5Qu4 ┆ null    ┆ null    ┆ null     ┆ … ┆ null  ┆ null  ┆ null   ┆ null   │\n",
              "│ mpnshdmtE2Y ┆ null    ┆ null    ┆ null     ┆ … ┆ null  ┆ null  ┆ null   ┆ null   │\n",
              "│ yz7Xq3T0YPs ┆ null    ┆ null    ┆ null     ┆ … ┆ null  ┆ null  ┆ null   ┆ null   │\n",
              "└─────────────┴─────────┴─────────┴──────────┴───┴───────┴───────┴────────┴────────┘"
            ],
            "text/html": [
              "<div><style>\n",
              ".dataframe > thead > tr,\n",
              ".dataframe > tbody > tr {\n",
              "  text-align: right;\n",
              "  white-space: pre-wrap;\n",
              "}\n",
              "</style>\n",
              "<small>shape: (6_351, 29_851)</small><table border=\"1\" class=\"dataframe\"><thead><tr><th>video_id</th><th>57527</th><th>97185</th><th>146033</th><th>10172</th><th>132235</th><th>9763</th><th>15993</th><th>23663</th><th>3543</th><th>12654</th><th>655</th><th>1576</th><th>114188</th><th>7848</th><th>7473</th><th>9419</th><th>8011</th><th>5398</th><th>11963</th><th>8421</th><th>9586</th><th>3585</th><th>11758</th><th>1707</th><th>4884</th><th>8676</th><th>4687</th><th>9033</th><th>156</th><th>715</th><th>4035</th><th>119</th><th>787419</th><th>3781</th><th>1661</th><th>2486</th><th>&hellip;</th><th>56557</th><th>455949</th><th>181069</th><th>90500</th><th>15128</th><th>77408</th><th>230427</th><th>140462</th><th>75642</th><th>162795</th><th>105783</th><th>41623</th><th>634770</th><th>518106</th><th>28479</th><th>6583</th><th>50919</th><th>835657</th><th>129865</th><th>46673</th><th>20248</th><th>48889</th><th>196635</th><th>19930</th><th>189265</th><th>109945</th><th>266267</th><th>628861</th><th>210802</th><th>45128</th><th>676467</th><th>645888</th><th>38160</th><th>60008</th><th>48068</th><th>192957</th><th>357079</th></tr><tr><td>str</td><td>f64</td><td>f64</td><td>f64</td><td>f64</td><td>f64</td><td>f64</td><td>f64</td><td>f64</td><td>f64</td><td>f64</td><td>f64</td><td>f64</td><td>f64</td><td>f64</td><td>f64</td><td>f64</td><td>f64</td><td>f64</td><td>f64</td><td>f64</td><td>f64</td><td>f64</td><td>f64</td><td>f64</td><td>f64</td><td>f64</td><td>f64</td><td>f64</td><td>f64</td><td>f64</td><td>f64</td><td>f64</td><td>f64</td><td>f64</td><td>f64</td><td>f64</td><td>&hellip;</td><td>f64</td><td>f64</td><td>f64</td><td>f64</td><td>f64</td><td>f64</td><td>f64</td><td>f64</td><td>f64</td><td>f64</td><td>f64</td><td>f64</td><td>f64</td><td>f64</td><td>f64</td><td>f64</td><td>f64</td><td>f64</td><td>f64</td><td>f64</td><td>f64</td><td>f64</td><td>f64</td><td>f64</td><td>f64</td><td>f64</td><td>f64</td><td>f64</td><td>f64</td><td>f64</td><td>f64</td><td>f64</td><td>f64</td><td>f64</td><td>f64</td><td>f64</td><td>f64</td></tr></thead><tbody><tr><td>&quot;2kyS6SvSYSE&quot;</td><td>57527.0</td><td>null</td><td>null</td><td>null</td><td>null</td><td>null</td><td>null</td><td>null</td><td>null</td><td>null</td><td>null</td><td>null</td><td>null</td><td>null</td><td>null</td><td>null</td><td>null</td><td>null</td><td>null</td><td>null</td><td>null</td><td>null</td><td>null</td><td>null</td><td>null</td><td>null</td><td>null</td><td>null</td><td>null</td><td>null</td><td>null</td><td>null</td><td>null</td><td>null</td><td>null</td><td>null</td><td>&hellip;</td><td>null</td><td>null</td><td>null</td><td>null</td><td>null</td><td>null</td><td>null</td><td>null</td><td>null</td><td>null</td><td>null</td><td>null</td><td>null</td><td>null</td><td>null</td><td>null</td><td>null</td><td>null</td><td>null</td><td>null</td><td>null</td><td>null</td><td>null</td><td>null</td><td>null</td><td>null</td><td>null</td><td>null</td><td>null</td><td>null</td><td>null</td><td>null</td><td>null</td><td>null</td><td>null</td><td>null</td><td>null</td></tr><tr><td>&quot;1ZAPwfrtAFY&quot;</td><td>null</td><td>97185.0</td><td>null</td><td>null</td><td>null</td><td>null</td><td>null</td><td>null</td><td>null</td><td>null</td><td>null</td><td>null</td><td>null</td><td>null</td><td>null</td><td>null</td><td>null</td><td>null</td><td>null</td><td>null</td><td>null</td><td>null</td><td>null</td><td>null</td><td>null</td><td>null</td><td>null</td><td>null</td><td>null</td><td>null</td><td>null</td><td>null</td><td>null</td><td>null</td><td>null</td><td>null</td><td>&hellip;</td><td>null</td><td>null</td><td>null</td><td>null</td><td>null</td><td>null</td><td>null</td><td>null</td><td>null</td><td>null</td><td>null</td><td>null</td><td>null</td><td>null</td><td>null</td><td>null</td><td>null</td><td>null</td><td>null</td><td>null</td><td>null</td><td>null</td><td>null</td><td>null</td><td>null</td><td>null</td><td>null</td><td>null</td><td>null</td><td>null</td><td>null</td><td>null</td><td>null</td><td>null</td><td>null</td><td>null</td><td>null</td></tr><tr><td>&quot;5qpjK5DgCt4&quot;</td><td>null</td><td>null</td><td>146033.0</td><td>null</td><td>null</td><td>null</td><td>null</td><td>null</td><td>null</td><td>null</td><td>null</td><td>null</td><td>null</td><td>null</td><td>null</td><td>null</td><td>null</td><td>null</td><td>null</td><td>null</td><td>null</td><td>null</td><td>null</td><td>null</td><td>null</td><td>null</td><td>null</td><td>null</td><td>null</td><td>null</td><td>null</td><td>null</td><td>null</td><td>null</td><td>null</td><td>null</td><td>&hellip;</td><td>null</td><td>null</td><td>null</td><td>null</td><td>null</td><td>null</td><td>null</td><td>null</td><td>null</td><td>null</td><td>null</td><td>null</td><td>null</td><td>null</td><td>null</td><td>null</td><td>null</td><td>null</td><td>null</td><td>null</td><td>null</td><td>null</td><td>null</td><td>null</td><td>null</td><td>null</td><td>null</td><td>null</td><td>null</td><td>null</td><td>null</td><td>null</td><td>null</td><td>null</td><td>null</td><td>null</td><td>null</td></tr><tr><td>&quot;puqaWrEC7tY&quot;</td><td>null</td><td>null</td><td>null</td><td>10172.0</td><td>null</td><td>null</td><td>null</td><td>null</td><td>null</td><td>null</td><td>null</td><td>null</td><td>null</td><td>null</td><td>null</td><td>null</td><td>null</td><td>null</td><td>null</td><td>null</td><td>null</td><td>null</td><td>null</td><td>null</td><td>null</td><td>null</td><td>null</td><td>null</td><td>null</td><td>null</td><td>null</td><td>null</td><td>null</td><td>null</td><td>null</td><td>null</td><td>&hellip;</td><td>null</td><td>null</td><td>null</td><td>null</td><td>null</td><td>null</td><td>null</td><td>null</td><td>null</td><td>null</td><td>null</td><td>null</td><td>null</td><td>null</td><td>null</td><td>null</td><td>null</td><td>null</td><td>null</td><td>null</td><td>null</td><td>null</td><td>null</td><td>null</td><td>null</td><td>null</td><td>null</td><td>null</td><td>null</td><td>null</td><td>null</td><td>null</td><td>null</td><td>null</td><td>null</td><td>null</td><td>null</td></tr><tr><td>&quot;d380meD0W0M&quot;</td><td>null</td><td>null</td><td>null</td><td>null</td><td>132235.0</td><td>null</td><td>null</td><td>null</td><td>null</td><td>null</td><td>null</td><td>null</td><td>null</td><td>null</td><td>null</td><td>null</td><td>null</td><td>null</td><td>null</td><td>null</td><td>null</td><td>null</td><td>null</td><td>null</td><td>null</td><td>null</td><td>null</td><td>null</td><td>null</td><td>null</td><td>null</td><td>null</td><td>null</td><td>null</td><td>null</td><td>null</td><td>&hellip;</td><td>null</td><td>null</td><td>null</td><td>null</td><td>null</td><td>null</td><td>null</td><td>null</td><td>null</td><td>null</td><td>null</td><td>null</td><td>null</td><td>null</td><td>null</td><td>null</td><td>null</td><td>null</td><td>null</td><td>null</td><td>null</td><td>null</td><td>null</td><td>null</td><td>null</td><td>null</td><td>null</td><td>null</td><td>null</td><td>null</td><td>null</td><td>null</td><td>null</td><td>null</td><td>null</td><td>null</td><td>null</td></tr><tr><td>&hellip;</td><td>&hellip;</td><td>&hellip;</td><td>&hellip;</td><td>&hellip;</td><td>&hellip;</td><td>&hellip;</td><td>&hellip;</td><td>&hellip;</td><td>&hellip;</td><td>&hellip;</td><td>&hellip;</td><td>&hellip;</td><td>&hellip;</td><td>&hellip;</td><td>&hellip;</td><td>&hellip;</td><td>&hellip;</td><td>&hellip;</td><td>&hellip;</td><td>&hellip;</td><td>&hellip;</td><td>&hellip;</td><td>&hellip;</td><td>&hellip;</td><td>&hellip;</td><td>&hellip;</td><td>&hellip;</td><td>&hellip;</td><td>&hellip;</td><td>&hellip;</td><td>&hellip;</td><td>&hellip;</td><td>&hellip;</td><td>&hellip;</td><td>&hellip;</td><td>&hellip;</td><td>&hellip;</td><td>&hellip;</td><td>&hellip;</td><td>&hellip;</td><td>&hellip;</td><td>&hellip;</td><td>&hellip;</td><td>&hellip;</td><td>&hellip;</td><td>&hellip;</td><td>&hellip;</td><td>&hellip;</td><td>&hellip;</td><td>&hellip;</td><td>&hellip;</td><td>&hellip;</td><td>&hellip;</td><td>&hellip;</td><td>&hellip;</td><td>&hellip;</td><td>&hellip;</td><td>&hellip;</td><td>&hellip;</td><td>&hellip;</td><td>&hellip;</td><td>&hellip;</td><td>&hellip;</td><td>&hellip;</td><td>&hellip;</td><td>&hellip;</td><td>&hellip;</td><td>&hellip;</td><td>&hellip;</td><td>&hellip;</td><td>&hellip;</td><td>&hellip;</td><td>&hellip;</td><td>&hellip;</td></tr><tr><td>&quot;dS5Thrl-4Kc&quot;</td><td>null</td><td>null</td><td>null</td><td>null</td><td>null</td><td>null</td><td>null</td><td>null</td><td>null</td><td>null</td><td>null</td><td>null</td><td>null</td><td>null</td><td>null</td><td>null</td><td>null</td><td>null</td><td>null</td><td>null</td><td>null</td><td>null</td><td>null</td><td>null</td><td>null</td><td>null</td><td>null</td><td>null</td><td>null</td><td>null</td><td>null</td><td>null</td><td>null</td><td>null</td><td>null</td><td>null</td><td>&hellip;</td><td>null</td><td>null</td><td>null</td><td>null</td><td>null</td><td>null</td><td>null</td><td>null</td><td>null</td><td>null</td><td>null</td><td>null</td><td>null</td><td>null</td><td>null</td><td>null</td><td>null</td><td>null</td><td>null</td><td>null</td><td>null</td><td>null</td><td>null</td><td>null</td><td>null</td><td>null</td><td>null</td><td>null</td><td>null</td><td>null</td><td>null</td><td>null</td><td>null</td><td>null</td><td>null</td><td>null</td><td>null</td></tr><tr><td>&quot;JGm9Y_hFqNk&quot;</td><td>null</td><td>null</td><td>null</td><td>null</td><td>null</td><td>null</td><td>null</td><td>null</td><td>null</td><td>null</td><td>null</td><td>null</td><td>null</td><td>null</td><td>null</td><td>null</td><td>null</td><td>null</td><td>null</td><td>null</td><td>null</td><td>null</td><td>null</td><td>null</td><td>null</td><td>null</td><td>null</td><td>null</td><td>null</td><td>null</td><td>null</td><td>null</td><td>null</td><td>null</td><td>null</td><td>null</td><td>&hellip;</td><td>null</td><td>null</td><td>null</td><td>null</td><td>null</td><td>null</td><td>null</td><td>null</td><td>null</td><td>null</td><td>null</td><td>null</td><td>null</td><td>null</td><td>null</td><td>null</td><td>null</td><td>null</td><td>null</td><td>null</td><td>null</td><td>null</td><td>null</td><td>null</td><td>null</td><td>null</td><td>null</td><td>null</td><td>null</td><td>null</td><td>null</td><td>null</td><td>null</td><td>null</td><td>null</td><td>null</td><td>null</td></tr><tr><td>&quot;6h8QgZF5Qu4&quot;</td><td>null</td><td>null</td><td>null</td><td>null</td><td>null</td><td>null</td><td>null</td><td>null</td><td>null</td><td>null</td><td>null</td><td>null</td><td>null</td><td>null</td><td>null</td><td>null</td><td>null</td><td>null</td><td>null</td><td>null</td><td>null</td><td>null</td><td>null</td><td>null</td><td>null</td><td>null</td><td>null</td><td>null</td><td>null</td><td>null</td><td>null</td><td>null</td><td>null</td><td>null</td><td>null</td><td>null</td><td>&hellip;</td><td>null</td><td>null</td><td>null</td><td>null</td><td>null</td><td>null</td><td>null</td><td>null</td><td>null</td><td>null</td><td>null</td><td>null</td><td>null</td><td>null</td><td>null</td><td>null</td><td>null</td><td>null</td><td>null</td><td>null</td><td>null</td><td>null</td><td>null</td><td>null</td><td>null</td><td>null</td><td>null</td><td>null</td><td>null</td><td>null</td><td>null</td><td>null</td><td>null</td><td>null</td><td>null</td><td>null</td><td>null</td></tr><tr><td>&quot;mpnshdmtE2Y&quot;</td><td>null</td><td>null</td><td>null</td><td>null</td><td>null</td><td>null</td><td>null</td><td>null</td><td>null</td><td>null</td><td>null</td><td>null</td><td>null</td><td>null</td><td>null</td><td>null</td><td>null</td><td>null</td><td>null</td><td>null</td><td>null</td><td>null</td><td>null</td><td>null</td><td>null</td><td>null</td><td>null</td><td>null</td><td>null</td><td>null</td><td>null</td><td>null</td><td>null</td><td>null</td><td>null</td><td>null</td><td>&hellip;</td><td>null</td><td>null</td><td>null</td><td>null</td><td>null</td><td>null</td><td>null</td><td>null</td><td>null</td><td>null</td><td>null</td><td>null</td><td>null</td><td>null</td><td>null</td><td>null</td><td>null</td><td>null</td><td>null</td><td>null</td><td>null</td><td>null</td><td>null</td><td>null</td><td>null</td><td>null</td><td>null</td><td>null</td><td>null</td><td>null</td><td>null</td><td>null</td><td>null</td><td>null</td><td>null</td><td>null</td><td>null</td></tr><tr><td>&quot;yz7Xq3T0YPs&quot;</td><td>null</td><td>null</td><td>null</td><td>null</td><td>null</td><td>null</td><td>null</td><td>null</td><td>null</td><td>null</td><td>null</td><td>null</td><td>null</td><td>null</td><td>null</td><td>null</td><td>null</td><td>null</td><td>null</td><td>null</td><td>null</td><td>null</td><td>null</td><td>null</td><td>null</td><td>null</td><td>null</td><td>null</td><td>null</td><td>null</td><td>null</td><td>null</td><td>null</td><td>null</td><td>null</td><td>null</td><td>&hellip;</td><td>null</td><td>null</td><td>null</td><td>null</td><td>null</td><td>null</td><td>null</td><td>null</td><td>null</td><td>null</td><td>null</td><td>null</td><td>null</td><td>null</td><td>null</td><td>null</td><td>null</td><td>null</td><td>null</td><td>null</td><td>null</td><td>null</td><td>null</td><td>null</td><td>null</td><td>null</td><td>null</td><td>null</td><td>null</td><td>null</td><td>null</td><td>null</td><td>null</td><td>null</td><td>null</td><td>null</td><td>null</td></tr></tbody></table></div>"
            ]
          },
          "metadata": {},
          "execution_count": 81
        }
      ]
    },
    {
      "cell_type": "code",
      "source": [
        "df3.collect()"
      ],
      "metadata": {
        "colab": {
          "base_uri": "https://localhost:8080/",
          "height": 949
        },
        "id": "5D4LY4XGlJBV",
        "outputId": "8e39582a-96ab-466c-a632-ae0a8eed1080"
      },
      "id": "5D4LY4XGlJBV",
      "execution_count": 67,
      "outputs": [
        {
          "output_type": "execute_result",
          "data": {
            "text/plain": [
              "shape: (40_949, 16)\n",
              "┌───────────┬───────────┬───────────┬───────────┬───┬───────────┬───────────┬───────────┬──────────┐\n",
              "│ video_id  ┆ trending_ ┆ title     ┆ channel_t ┆ … ┆ comments_ ┆ ratings_d ┆ video_err ┆ descript │\n",
              "│ ---       ┆ date      ┆ ---       ┆ itle      ┆   ┆ disabled  ┆ isabled   ┆ or_or_rem ┆ ion      │\n",
              "│ str       ┆ ---       ┆ str       ┆ ---       ┆   ┆ ---       ┆ ---       ┆ oved      ┆ ---      │\n",
              "│           ┆ str       ┆           ┆ str       ┆   ┆ bool      ┆ bool      ┆ ---       ┆ str      │\n",
              "│           ┆           ┆           ┆           ┆   ┆           ┆           ┆ bool      ┆          │\n",
              "╞═══════════╪═══════════╪═══════════╪═══════════╪═══╪═══════════╪═══════════╪═══════════╪══════════╡\n",
              "│ 2kyS6SvSY ┆ 17.14.11  ┆ WE WANT   ┆ CaseyNeis ┆ … ┆ false     ┆ false     ┆ false     ┆ SHANTELL │\n",
              "│ SE        ┆           ┆ TO TALK   ┆ tat       ┆   ┆           ┆           ┆           ┆ 'S       │\n",
              "│           ┆           ┆ ABOUT OUR ┆           ┆   ┆           ┆           ┆           ┆ CHANNEL  │\n",
              "│           ┆           ┆ MARR…     ┆           ┆   ┆           ┆           ┆           ┆ - https: │\n",
              "│           ┆           ┆           ┆           ┆   ┆           ┆           ┆           ┆ //w…     │\n",
              "│ 1ZAPwfrtA ┆ 17.14.11  ┆ The Trump ┆ LastWeekT ┆ … ┆ false     ┆ false     ┆ false     ┆ One year │\n",
              "│ FY        ┆           ┆ Presidenc ┆ onight    ┆   ┆           ┆           ┆           ┆ after    │\n",
              "│           ┆           ┆ y: Last   ┆           ┆   ┆           ┆           ┆           ┆ the pres │\n",
              "│           ┆           ┆ Wee…      ┆           ┆   ┆           ┆           ┆           ┆ identia… │\n",
              "│ 5qpjK5DgC ┆ 17.14.11  ┆ Racist    ┆ Rudy      ┆ … ┆ false     ┆ false     ┆ false     ┆ WATCH MY │\n",
              "│ t4        ┆           ┆ Superman  ┆ Mancuso   ┆   ┆           ┆           ┆           ┆ PREVIOUS │\n",
              "│           ┆           ┆ | Rudy    ┆           ┆   ┆           ┆           ┆           ┆ VIDEO ▶  │\n",
              "│           ┆           ┆ Mancuso…  ┆           ┆   ┆           ┆           ┆           ┆ \\n\\n…    │\n",
              "│ puqaWrEC7 ┆ 17.14.11  ┆ Nickelbac ┆ Good      ┆ … ┆ false     ┆ false     ┆ false     ┆ Today we │\n",
              "│ tY        ┆           ┆ k Lyrics: ┆ Mythical  ┆   ┆           ┆           ┆           ┆ find out │\n",
              "│           ┆           ┆ Real or   ┆ Morning   ┆   ┆           ┆           ┆           ┆ if Link  │\n",
              "│           ┆           ┆ Fak…      ┆           ┆   ┆           ┆           ┆           ┆ is a…    │\n",
              "│ d380meD0W ┆ 17.14.11  ┆ I Dare    ┆ nigahiga  ┆ … ┆ false     ┆ false     ┆ false     ┆ I know   │\n",
              "│ 0M        ┆           ┆ You:      ┆           ┆   ┆           ┆           ┆           ┆ it's     │\n",
              "│           ┆           ┆ GOING     ┆           ┆   ┆           ┆           ┆           ┆ been a   │\n",
              "│           ┆           ┆ BALD!?    ┆           ┆   ┆           ┆           ┆           ┆ while    │\n",
              "│           ┆           ┆           ┆           ┆   ┆           ┆           ┆           ┆ since…   │\n",
              "│ …         ┆ …         ┆ …         ┆ …         ┆ … ┆ …         ┆ …         ┆ …         ┆ …        │\n",
              "│ BZt0qjTWN ┆ 18.14.06  ┆ The Cat   ┆ AaronsAni ┆ … ┆ false     ┆ false     ┆ false     ┆ The Cat  │\n",
              "│ hw        ┆           ┆ Who       ┆ mals      ┆   ┆           ┆           ┆           ┆ Who      │\n",
              "│           ┆           ┆ Caught    ┆           ┆   ┆           ┆           ┆           ┆ Caught   │\n",
              "│           ┆           ┆ the Laser ┆           ┆   ┆           ┆           ┆           ┆ the      │\n",
              "│           ┆           ┆           ┆           ┆   ┆           ┆           ┆           ┆ Laser -… │\n",
              "│ 1h7KV2sjU ┆ 18.14.06  ┆ True      ┆ zefrank1  ┆ … ┆ false     ┆ false     ┆ false     ┆          │\n",
              "│ WY        ┆           ┆ Facts :   ┆           ┆   ┆           ┆           ┆           ┆          │\n",
              "│           ┆           ┆ Ant       ┆           ┆   ┆           ┆           ┆           ┆          │\n",
              "│           ┆           ┆ Mutualism ┆           ┆   ┆           ┆           ┆           ┆          │\n",
              "│ D6Oy4Lfoq ┆ 18.14.06  ┆ I GAVE    ┆ Brad      ┆ … ┆ false     ┆ false     ┆ false     ┆ I had so │\n",
              "│ sU        ┆           ┆ SAFIYA    ┆ Mondo     ┆   ┆           ┆           ┆           ┆ much fun │\n",
              "│           ┆           ┆ NYGAARD A ┆           ┆   ┆           ┆           ┆           ┆ transfor │\n",
              "│           ┆           ┆ PERFEC…   ┆           ┆   ┆           ┆           ┆           ┆ ming…    │\n",
              "│ oV0zkMe1K ┆ 18.14.06  ┆ How Black ┆ How It    ┆ … ┆ false     ┆ false     ┆ false     ┆ How      │\n",
              "│ 8s        ┆           ┆ Panther   ┆ Should    ┆   ┆           ┆           ┆           ┆ Black    │\n",
              "│           ┆           ┆ Should    ┆ Have      ┆   ┆           ┆           ┆           ┆ Panther  │\n",
              "│           ┆           ┆ Have …    ┆ Ended     ┆   ┆           ┆           ┆           ┆ Should   │\n",
              "│           ┆           ┆           ┆           ┆   ┆           ┆           ┆           ┆ Have …   │\n",
              "│ ooyjaVdt- ┆ 18.14.06  ┆ Official  ┆ Call of   ┆ … ┆ false     ┆ false     ┆ false     ┆ Call of  │\n",
              "│ jA        ┆           ┆ Call of   ┆ Duty      ┆   ┆           ┆           ┆           ┆ Duty:    │\n",
              "│           ┆           ┆ Duty®:    ┆           ┆   ┆           ┆           ┆           ┆ Black    │\n",
              "│           ┆           ┆ Black …   ┆           ┆   ┆           ┆           ┆           ┆ Ops 4    │\n",
              "│           ┆           ┆           ┆           ┆   ┆           ┆           ┆           ┆ Mult…    │\n",
              "└───────────┴───────────┴───────────┴───────────┴───┴───────────┴───────────┴───────────┴──────────┘"
            ],
            "text/html": [
              "<div><style>\n",
              ".dataframe > thead > tr,\n",
              ".dataframe > tbody > tr {\n",
              "  text-align: right;\n",
              "  white-space: pre-wrap;\n",
              "}\n",
              "</style>\n",
              "<small>shape: (40_949, 16)</small><table border=\"1\" class=\"dataframe\"><thead><tr><th>video_id</th><th>trending_date</th><th>title</th><th>channel_title</th><th>category_id</th><th>publish_time</th><th>tags</th><th>views</th><th>likes</th><th>dislikes</th><th>comment_count</th><th>thumbnail_link</th><th>comments_disabled</th><th>ratings_disabled</th><th>video_error_or_removed</th><th>description</th></tr><tr><td>str</td><td>str</td><td>str</td><td>str</td><td>i64</td><td>str</td><td>str</td><td>i64</td><td>i64</td><td>i64</td><td>i64</td><td>str</td><td>bool</td><td>bool</td><td>bool</td><td>str</td></tr></thead><tbody><tr><td>&quot;2kyS6SvSYSE&quot;</td><td>&quot;17.14.11&quot;</td><td>&quot;WE WANT TO TALK ABOUT OUR MARR…</td><td>&quot;CaseyNeistat&quot;</td><td>22</td><td>&quot;2017-11-13T17:13:01.000Z&quot;</td><td>&quot;SHANtell martin&quot;</td><td>748374</td><td>57527</td><td>2966</td><td>15954</td><td>&quot;https://i.ytimg.com/vi/2kyS6Sv…</td><td>false</td><td>false</td><td>false</td><td>&quot;SHANTELL&#x27;S CHANNEL - https://w…</td></tr><tr><td>&quot;1ZAPwfrtAFY&quot;</td><td>&quot;17.14.11&quot;</td><td>&quot;The Trump Presidency: Last Wee…</td><td>&quot;LastWeekTonight&quot;</td><td>24</td><td>&quot;2017-11-13T07:30:00.000Z&quot;</td><td>&quot;last week tonight trump presid…</td><td>2418783</td><td>97185</td><td>6146</td><td>12703</td><td>&quot;https://i.ytimg.com/vi/1ZAPwfr…</td><td>false</td><td>false</td><td>false</td><td>&quot;One year after the presidentia…</td></tr><tr><td>&quot;5qpjK5DgCt4&quot;</td><td>&quot;17.14.11&quot;</td><td>&quot;Racist Superman | Rudy Mancuso…</td><td>&quot;Rudy Mancuso&quot;</td><td>23</td><td>&quot;2017-11-12T19:05:24.000Z&quot;</td><td>&quot;racist superman|rudy|mancuso|k…</td><td>3191434</td><td>146033</td><td>5339</td><td>8181</td><td>&quot;https://i.ytimg.com/vi/5qpjK5D…</td><td>false</td><td>false</td><td>false</td><td>&quot;WATCH MY PREVIOUS VIDEO ▶ \\n\\n…</td></tr><tr><td>&quot;puqaWrEC7tY&quot;</td><td>&quot;17.14.11&quot;</td><td>&quot;Nickelback Lyrics: Real or Fak…</td><td>&quot;Good Mythical Morning&quot;</td><td>24</td><td>&quot;2017-11-13T11:00:04.000Z&quot;</td><td>&quot;rhett and link|gmm|good mythic…</td><td>343168</td><td>10172</td><td>666</td><td>2146</td><td>&quot;https://i.ytimg.com/vi/puqaWrE…</td><td>false</td><td>false</td><td>false</td><td>&quot;Today we find out if Link is a…</td></tr><tr><td>&quot;d380meD0W0M&quot;</td><td>&quot;17.14.11&quot;</td><td>&quot;I Dare You: GOING BALD!?&quot;</td><td>&quot;nigahiga&quot;</td><td>24</td><td>&quot;2017-11-12T18:01:41.000Z&quot;</td><td>&quot;ryan|higa|higatv|nigahiga|i da…</td><td>2095731</td><td>132235</td><td>1989</td><td>17518</td><td>&quot;https://i.ytimg.com/vi/d380meD…</td><td>false</td><td>false</td><td>false</td><td>&quot;I know it&#x27;s been a while since…</td></tr><tr><td>&hellip;</td><td>&hellip;</td><td>&hellip;</td><td>&hellip;</td><td>&hellip;</td><td>&hellip;</td><td>&hellip;</td><td>&hellip;</td><td>&hellip;</td><td>&hellip;</td><td>&hellip;</td><td>&hellip;</td><td>&hellip;</td><td>&hellip;</td><td>&hellip;</td><td>&hellip;</td></tr><tr><td>&quot;BZt0qjTWNhw&quot;</td><td>&quot;18.14.06&quot;</td><td>&quot;The Cat Who Caught the Laser&quot;</td><td>&quot;AaronsAnimals&quot;</td><td>15</td><td>&quot;2018-05-18T13:00:04.000Z&quot;</td><td>&quot;aarons animals|aarons|animals|…</td><td>1685609</td><td>38160</td><td>1385</td><td>2657</td><td>&quot;https://i.ytimg.com/vi/BZt0qjT…</td><td>false</td><td>false</td><td>false</td><td>&quot;The Cat Who Caught the Laser -…</td></tr><tr><td>&quot;1h7KV2sjUWY&quot;</td><td>&quot;18.14.06&quot;</td><td>&quot;True Facts : Ant Mutualism&quot;</td><td>&quot;zefrank1&quot;</td><td>22</td><td>&quot;2018-05-18T01:00:06.000Z&quot;</td><td>&quot;[none]&quot;</td><td>1064798</td><td>60008</td><td>382</td><td>3936</td><td>&quot;https://i.ytimg.com/vi/1h7KV2s…</td><td>false</td><td>false</td><td>false</td><td>&quot;&quot;</td></tr><tr><td>&quot;D6Oy4LfoqsU&quot;</td><td>&quot;18.14.06&quot;</td><td>&quot;I GAVE SAFIYA NYGAARD A PERFEC…</td><td>&quot;Brad Mondo&quot;</td><td>24</td><td>&quot;2018-05-18T17:34:22.000Z&quot;</td><td>&quot;I gave safiya nygaard a perfec…</td><td>1066451</td><td>48068</td><td>1032</td><td>3992</td><td>&quot;https://i.ytimg.com/vi/D6Oy4Lf…</td><td>false</td><td>false</td><td>false</td><td>&quot;I had so much fun transforming…</td></tr><tr><td>&quot;oV0zkMe1K8s&quot;</td><td>&quot;18.14.06&quot;</td><td>&quot;How Black Panther Should Have …</td><td>&quot;How It Should Have Ended&quot;</td><td>1</td><td>&quot;2018-05-17T17:00:04.000Z&quot;</td><td>&quot;Black Panther|HISHE|Marvel|Inf…</td><td>5660813</td><td>192957</td><td>2846</td><td>13088</td><td>&quot;https://i.ytimg.com/vi/oV0zkMe…</td><td>false</td><td>false</td><td>false</td><td>&quot;How Black Panther Should Have …</td></tr><tr><td>&quot;ooyjaVdt-jA&quot;</td><td>&quot;18.14.06&quot;</td><td>&quot;Official Call of Duty®: Black …</td><td>&quot;Call of Duty&quot;</td><td>20</td><td>&quot;2018-05-17T17:09:38.000Z&quot;</td><td>&quot;call of duty|cod|activision|Bl…</td><td>10306119</td><td>357079</td><td>212976</td><td>144795</td><td>&quot;https://i.ytimg.com/vi/ooyjaVd…</td><td>false</td><td>false</td><td>false</td><td>&quot;Call of Duty: Black Ops 4 Mult…</td></tr></tbody></table></div>"
            ]
          },
          "metadata": {},
          "execution_count": 67
        }
      ]
    },
    {
      "cell_type": "markdown",
      "source": [
        "### filtro desastrosos jajajaja"
      ],
      "metadata": {
        "id": "iaiXfMWelS8o"
      },
      "id": "iaiXfMWelS8o"
    },
    {
      "cell_type": "code",
      "source": [
        "df3.lazy()\\\n",
        "    .filter(pl.col('channel_title')=='Rudy Mancuso')\\\n",
        "    .collect()"
      ],
      "metadata": {
        "colab": {
          "base_uri": "https://localhost:8080/",
          "height": 983
        },
        "id": "D2S8wWtvmAQi",
        "outputId": "feb69d9e-4b5f-4e93-959c-566b03552c1d"
      },
      "id": "D2S8wWtvmAQi",
      "execution_count": 75,
      "outputs": [
        {
          "output_type": "execute_result",
          "data": {
            "text/plain": [
              "shape: (74, 16)\n",
              "┌───────────┬───────────┬───────────┬───────────┬───┬───────────┬───────────┬───────────┬──────────┐\n",
              "│ video_id  ┆ trending_ ┆ title     ┆ channel_t ┆ … ┆ comments_ ┆ ratings_d ┆ video_err ┆ descript │\n",
              "│ ---       ┆ date      ┆ ---       ┆ itle      ┆   ┆ disabled  ┆ isabled   ┆ or_or_rem ┆ ion      │\n",
              "│ str       ┆ ---       ┆ str       ┆ ---       ┆   ┆ ---       ┆ ---       ┆ oved      ┆ ---      │\n",
              "│           ┆ str       ┆           ┆ str       ┆   ┆ bool      ┆ bool      ┆ ---       ┆ str      │\n",
              "│           ┆           ┆           ┆           ┆   ┆           ┆           ┆ bool      ┆          │\n",
              "╞═══════════╪═══════════╪═══════════╪═══════════╪═══╪═══════════╪═══════════╪═══════════╪══════════╡\n",
              "│ 5qpjK5DgC ┆ 17.14.11  ┆ Racist    ┆ Rudy      ┆ … ┆ false     ┆ false     ┆ false     ┆ WATCH MY │\n",
              "│ t4        ┆           ┆ Superman  ┆ Mancuso   ┆   ┆           ┆           ┆           ┆ PREVIOUS │\n",
              "│           ┆           ┆ | Rudy    ┆           ┆   ┆           ┆           ┆           ┆ VIDEO ▶  │\n",
              "│           ┆           ┆ Mancuso…  ┆           ┆   ┆           ┆           ┆           ┆ \\n\\n…    │\n",
              "│ 5qpjK5DgC ┆ 17.15.11  ┆ Racist    ┆ Rudy      ┆ … ┆ false     ┆ false     ┆ false     ┆ WATCH MY │\n",
              "│ t4        ┆           ┆ Superman  ┆ Mancuso   ┆   ┆           ┆           ┆           ┆ PREVIOUS │\n",
              "│           ┆           ┆ | Rudy    ┆           ┆   ┆           ┆           ┆           ┆ VIDEO ▶  │\n",
              "│           ┆           ┆ Mancuso…  ┆           ┆   ┆           ┆           ┆           ┆ \\n\\n…    │\n",
              "│ 5qpjK5DgC ┆ 17.16.11  ┆ Racist    ┆ Rudy      ┆ … ┆ false     ┆ false     ┆ false     ┆ WATCH MY │\n",
              "│ t4        ┆           ┆ Superman  ┆ Mancuso   ┆   ┆           ┆           ┆           ┆ PREVIOUS │\n",
              "│           ┆           ┆ | Rudy    ┆           ┆   ┆           ┆           ┆           ┆ VIDEO ▶  │\n",
              "│           ┆           ┆ Mancuso…  ┆           ┆   ┆           ┆           ┆           ┆ \\n\\n…    │\n",
              "│ 5qpjK5DgC ┆ 17.17.11  ┆ Racist    ┆ Rudy      ┆ … ┆ false     ┆ false     ┆ false     ┆ WATCH MY │\n",
              "│ t4        ┆           ┆ Superman  ┆ Mancuso   ┆   ┆           ┆           ┆           ┆ PREVIOUS │\n",
              "│           ┆           ┆ | Rudy    ┆           ┆   ┆           ┆           ┆           ┆ VIDEO ▶  │\n",
              "│           ┆           ┆ Mancuso…  ┆           ┆   ┆           ┆           ┆           ┆ \\n\\n…    │\n",
              "│ 5qpjK5DgC ┆ 17.18.11  ┆ Racist    ┆ Rudy      ┆ … ┆ false     ┆ false     ┆ false     ┆ WATCH MY │\n",
              "│ t4        ┆           ┆ Superman  ┆ Mancuso   ┆   ┆           ┆           ┆           ┆ PREVIOUS │\n",
              "│           ┆           ┆ | Rudy    ┆           ┆   ┆           ┆           ┆           ┆ VIDEO ▶  │\n",
              "│           ┆           ┆ Mancuso…  ┆           ┆   ┆           ┆           ┆           ┆ \\n\\n…    │\n",
              "│ …         ┆ …         ┆ …         ┆ …         ┆ … ┆ …         ┆ …         ┆ …         ┆ …        │\n",
              "│ oLDbO545a ┆ 18.10.06  ┆ Terrible  ┆ Rudy      ┆ … ┆ false     ┆ false     ┆ false     ┆ WATCH    │\n",
              "│ KQ        ┆           ┆ Magicians ┆ Mancuso   ┆   ┆           ┆           ┆           ┆ MORE ▶   │\n",
              "│           ┆           ┆ | Rudy    ┆           ┆   ┆           ┆           ┆           ┆ https:// │\n",
              "│           ┆           ┆ Manc…     ┆           ┆   ┆           ┆           ┆           ┆ youtu.be │\n",
              "│           ┆           ┆           ┆           ┆   ┆           ┆           ┆           ┆ /…       │\n",
              "│ oLDbO545a ┆ 18.11.06  ┆ Terrible  ┆ Rudy      ┆ … ┆ false     ┆ false     ┆ false     ┆ WATCH    │\n",
              "│ KQ        ┆           ┆ Magicians ┆ Mancuso   ┆   ┆           ┆           ┆           ┆ MORE ▶   │\n",
              "│           ┆           ┆ | Rudy    ┆           ┆   ┆           ┆           ┆           ┆ https:// │\n",
              "│           ┆           ┆ Manc…     ┆           ┆   ┆           ┆           ┆           ┆ youtu.be │\n",
              "│           ┆           ┆           ┆           ┆   ┆           ┆           ┆           ┆ /…       │\n",
              "│ oLDbO545a ┆ 18.12.06  ┆ Terrible  ┆ Rudy      ┆ … ┆ false     ┆ false     ┆ false     ┆ WATCH    │\n",
              "│ KQ        ┆           ┆ Magicians ┆ Mancuso   ┆   ┆           ┆           ┆           ┆ MORE ▶   │\n",
              "│           ┆           ┆ | Rudy    ┆           ┆   ┆           ┆           ┆           ┆ https:// │\n",
              "│           ┆           ┆ Manc…     ┆           ┆   ┆           ┆           ┆           ┆ youtu.be │\n",
              "│           ┆           ┆           ┆           ┆   ┆           ┆           ┆           ┆ /…       │\n",
              "│ oLDbO545a ┆ 18.13.06  ┆ Terrible  ┆ Rudy      ┆ … ┆ false     ┆ false     ┆ false     ┆ WATCH    │\n",
              "│ KQ        ┆           ┆ Magicians ┆ Mancuso   ┆   ┆           ┆           ┆           ┆ MORE ▶   │\n",
              "│           ┆           ┆ | Rudy    ┆           ┆   ┆           ┆           ┆           ┆ https:// │\n",
              "│           ┆           ┆ Manc…     ┆           ┆   ┆           ┆           ┆           ┆ youtu.be │\n",
              "│           ┆           ┆           ┆           ┆   ┆           ┆           ┆           ┆ /…       │\n",
              "│ oLDbO545a ┆ 18.14.06  ┆ Terrible  ┆ Rudy      ┆ … ┆ false     ┆ false     ┆ false     ┆ WATCH    │\n",
              "│ KQ        ┆           ┆ Magicians ┆ Mancuso   ┆   ┆           ┆           ┆           ┆ MORE ▶   │\n",
              "│           ┆           ┆ | Rudy    ┆           ┆   ┆           ┆           ┆           ┆ https:// │\n",
              "│           ┆           ┆ Manc…     ┆           ┆   ┆           ┆           ┆           ┆ youtu.be │\n",
              "│           ┆           ┆           ┆           ┆   ┆           ┆           ┆           ┆ /…       │\n",
              "└───────────┴───────────┴───────────┴───────────┴───┴───────────┴───────────┴───────────┴──────────┘"
            ],
            "text/html": [
              "<div><style>\n",
              ".dataframe > thead > tr,\n",
              ".dataframe > tbody > tr {\n",
              "  text-align: right;\n",
              "  white-space: pre-wrap;\n",
              "}\n",
              "</style>\n",
              "<small>shape: (74, 16)</small><table border=\"1\" class=\"dataframe\"><thead><tr><th>video_id</th><th>trending_date</th><th>title</th><th>channel_title</th><th>category_id</th><th>publish_time</th><th>tags</th><th>views</th><th>likes</th><th>dislikes</th><th>comment_count</th><th>thumbnail_link</th><th>comments_disabled</th><th>ratings_disabled</th><th>video_error_or_removed</th><th>description</th></tr><tr><td>str</td><td>str</td><td>str</td><td>str</td><td>i64</td><td>str</td><td>str</td><td>i64</td><td>i64</td><td>i64</td><td>i64</td><td>str</td><td>bool</td><td>bool</td><td>bool</td><td>str</td></tr></thead><tbody><tr><td>&quot;5qpjK5DgCt4&quot;</td><td>&quot;17.14.11&quot;</td><td>&quot;Racist Superman | Rudy Mancuso…</td><td>&quot;Rudy Mancuso&quot;</td><td>23</td><td>&quot;2017-11-12T19:05:24.000Z&quot;</td><td>&quot;racist superman|rudy|mancuso|k…</td><td>3191434</td><td>146033</td><td>5339</td><td>8181</td><td>&quot;https://i.ytimg.com/vi/5qpjK5D…</td><td>false</td><td>false</td><td>false</td><td>&quot;WATCH MY PREVIOUS VIDEO ▶ \\n\\n…</td></tr><tr><td>&quot;5qpjK5DgCt4&quot;</td><td>&quot;17.15.11&quot;</td><td>&quot;Racist Superman | Rudy Mancuso…</td><td>&quot;Rudy Mancuso&quot;</td><td>23</td><td>&quot;2017-11-12T19:05:24.000Z&quot;</td><td>&quot;racist superman|rudy|mancuso|k…</td><td>4326684</td><td>167696</td><td>6730</td><td>9265</td><td>&quot;https://i.ytimg.com/vi/5qpjK5D…</td><td>false</td><td>false</td><td>false</td><td>&quot;WATCH MY PREVIOUS VIDEO ▶ \\n\\n…</td></tr><tr><td>&quot;5qpjK5DgCt4&quot;</td><td>&quot;17.16.11&quot;</td><td>&quot;Racist Superman | Rudy Mancuso…</td><td>&quot;Rudy Mancuso&quot;</td><td>23</td><td>&quot;2017-11-12T19:05:24.000Z&quot;</td><td>&quot;racist superman|rudy|mancuso|k…</td><td>4576001</td><td>172379</td><td>6952</td><td>9440</td><td>&quot;https://i.ytimg.com/vi/5qpjK5D…</td><td>false</td><td>false</td><td>false</td><td>&quot;WATCH MY PREVIOUS VIDEO ▶ \\n\\n…</td></tr><tr><td>&quot;5qpjK5DgCt4&quot;</td><td>&quot;17.17.11&quot;</td><td>&quot;Racist Superman | Rudy Mancuso…</td><td>&quot;Rudy Mancuso&quot;</td><td>23</td><td>&quot;2017-11-12T19:05:24.000Z&quot;</td><td>&quot;racist superman|rudy|mancuso|k…</td><td>4737269</td><td>175762</td><td>7017</td><td>9557</td><td>&quot;https://i.ytimg.com/vi/5qpjK5D…</td><td>false</td><td>false</td><td>false</td><td>&quot;WATCH MY PREVIOUS VIDEO ▶ \\n\\n…</td></tr><tr><td>&quot;5qpjK5DgCt4&quot;</td><td>&quot;17.18.11&quot;</td><td>&quot;Racist Superman | Rudy Mancuso…</td><td>&quot;Rudy Mancuso&quot;</td><td>23</td><td>&quot;2017-11-12T19:05:24.000Z&quot;</td><td>&quot;racist superman|rudy|mancuso|k…</td><td>4949674</td><td>180201</td><td>7042</td><td>9687</td><td>&quot;https://i.ytimg.com/vi/5qpjK5D…</td><td>false</td><td>false</td><td>false</td><td>&quot;WATCH MY PREVIOUS VIDEO ▶ \\n\\n…</td></tr><tr><td>&hellip;</td><td>&hellip;</td><td>&hellip;</td><td>&hellip;</td><td>&hellip;</td><td>&hellip;</td><td>&hellip;</td><td>&hellip;</td><td>&hellip;</td><td>&hellip;</td><td>&hellip;</td><td>&hellip;</td><td>&hellip;</td><td>&hellip;</td><td>&hellip;</td><td>&hellip;</td></tr><tr><td>&quot;oLDbO545aKQ&quot;</td><td>&quot;18.10.06&quot;</td><td>&quot;Terrible Magicians | Rudy Manc…</td><td>&quot;Rudy Mancuso&quot;</td><td>10</td><td>&quot;2018-05-21T21:00:33.000Z&quot;</td><td>&quot;terrible magicians|rudy|mancus…</td><td>3756259</td><td>195392</td><td>4479</td><td>11143</td><td>&quot;https://i.ytimg.com/vi/oLDbO54…</td><td>false</td><td>false</td><td>false</td><td>&quot;WATCH MORE ▶ https://youtu.be/…</td></tr><tr><td>&quot;oLDbO545aKQ&quot;</td><td>&quot;18.11.06&quot;</td><td>&quot;Terrible Magicians | Rudy Manc…</td><td>&quot;Rudy Mancuso&quot;</td><td>10</td><td>&quot;2018-05-21T21:00:33.000Z&quot;</td><td>&quot;terrible magicians|rudy|mancus…</td><td>3766328</td><td>195543</td><td>4483</td><td>11157</td><td>&quot;https://i.ytimg.com/vi/oLDbO54…</td><td>false</td><td>false</td><td>false</td><td>&quot;WATCH MORE ▶ https://youtu.be/…</td></tr><tr><td>&quot;oLDbO545aKQ&quot;</td><td>&quot;18.12.06&quot;</td><td>&quot;Terrible Magicians | Rudy Manc…</td><td>&quot;Rudy Mancuso&quot;</td><td>10</td><td>&quot;2018-05-21T21:00:33.000Z&quot;</td><td>&quot;terrible magicians|rudy|mancus…</td><td>3787506</td><td>195963</td><td>4492</td><td>11180</td><td>&quot;https://i.ytimg.com/vi/oLDbO54…</td><td>false</td><td>false</td><td>false</td><td>&quot;WATCH MORE ▶ https://youtu.be/…</td></tr><tr><td>&quot;oLDbO545aKQ&quot;</td><td>&quot;18.13.06&quot;</td><td>&quot;Terrible Magicians | Rudy Manc…</td><td>&quot;Rudy Mancuso&quot;</td><td>10</td><td>&quot;2018-05-21T21:00:33.000Z&quot;</td><td>&quot;terrible magicians|rudy|mancus…</td><td>3805747</td><td>196261</td><td>4502</td><td>11187</td><td>&quot;https://i.ytimg.com/vi/oLDbO54…</td><td>false</td><td>false</td><td>false</td><td>&quot;WATCH MORE ▶ https://youtu.be/…</td></tr><tr><td>&quot;oLDbO545aKQ&quot;</td><td>&quot;18.14.06&quot;</td><td>&quot;Terrible Magicians | Rudy Manc…</td><td>&quot;Rudy Mancuso&quot;</td><td>10</td><td>&quot;2018-05-21T21:00:33.000Z&quot;</td><td>&quot;terrible magicians|rudy|mancus…</td><td>3825440</td><td>196635</td><td>4514</td><td>11203</td><td>&quot;https://i.ytimg.com/vi/oLDbO54…</td><td>false</td><td>false</td><td>false</td><td>&quot;WATCH MORE ▶ https://youtu.be/…</td></tr></tbody></table></div>"
            ]
          },
          "metadata": {},
          "execution_count": 75
        }
      ]
    },
    {
      "cell_type": "markdown",
      "source": [
        "### LECTURA 33"
      ],
      "metadata": {
        "id": "54cGO9LMmIGN"
      },
      "id": "54cGO9LMmIGN"
    },
    {
      "cell_type": "code",
      "source": [
        "df2_lazy.show_graph(optimized=True)"
      ],
      "metadata": {
        "colab": {
          "base_uri": "https://localhost:8080/",
          "height": 102
        },
        "id": "L0MwtFDTmRfG",
        "outputId": "22be9145-4238-45f1-f1d9-541bd29da82f"
      },
      "id": "L0MwtFDTmRfG",
      "execution_count": 77,
      "outputs": [
        {
          "output_type": "display_data",
          "data": {
            "text/plain": [
              "<IPython.core.display.SVG object>"
            ],
            "image/svg+xml": "<svg xmlns=\"http://www.w3.org/2000/svg\" xmlns:xlink=\"http://www.w3.org/1999/xlink\" width=\"67pt\" height=\"61pt\" viewBox=\"0.00 0.00 67.00 61.00\">\n<g id=\"graph0\" class=\"graph\" transform=\"scale(1 1) rotate(0) translate(4 57)\">\n<title>polars_query</title>\n<polygon fill=\"white\" stroke=\"transparent\" points=\"-4,4 -4,-57 63,-57 63,4 -4,4\"/>\n<!-- p1 -->\n<g id=\"node1\" class=\"node\">\n<title>p1</title>\n<polygon fill=\"none\" stroke=\"black\" points=\"59,-53 0,-53 0,0 59,0 59,-53\"/>\n<text text-anchor=\"middle\" x=\"29.5\" y=\"-37.8\" font-family=\"Times,serif\" font-size=\"14.00\">TABLE</text>\n<text text-anchor=\"middle\" x=\"29.5\" y=\"-22.8\" font-family=\"Times,serif\" font-size=\"14.00\">π */2;</text>\n<text text-anchor=\"middle\" x=\"29.5\" y=\"-7.8\" font-family=\"Times,serif\" font-size=\"14.00\">σ None</text>\n</g>\n</g>\n</svg>"
          },
          "metadata": {}
        }
      ]
    },
    {
      "cell_type": "markdown",
      "source": [
        "###se lee de abajo hacia arriba, ejemplor cada rectangulo correponde a una etapa del plan de consulta\n",
        "el simbolo,sigma significa a seleccion\n",
        "el simbolo pi proyeccion de un conjunto de columnas"
      ],
      "metadata": {
        "id": "98pxOA9Emiah"
      },
      "id": "98pxOA9Emiah"
    },
    {
      "cell_type": "code",
      "source": [
        "query.show_graph()"
      ],
      "metadata": {
        "colab": {
          "base_uri": "https://localhost:8080/",
          "height": 198
        },
        "id": "uPIJzOUbnP0K",
        "outputId": "d5a47a6b-dfa1-4355-dd2c-e65ff9aa38a1"
      },
      "id": "uPIJzOUbnP0K",
      "execution_count": 78,
      "outputs": [
        {
          "output_type": "display_data",
          "data": {
            "text/plain": [
              "<IPython.core.display.SVG object>"
            ],
            "image/svg+xml": "<svg xmlns=\"http://www.w3.org/2000/svg\" xmlns:xlink=\"http://www.w3.org/1999/xlink\" width=\"464pt\" height=\"133pt\" viewBox=\"0.00 0.00 464.00 133.00\">\n<g id=\"graph0\" class=\"graph\" transform=\"scale(1 1) rotate(0) translate(4 129)\">\n<title>polars_query</title>\n<polygon fill=\"white\" stroke=\"transparent\" points=\"-4,4 -4,-129 460,-129 460,4 -4,4\"/>\n<!-- p1 -->\n<g id=\"node1\" class=\"node\">\n<title>p1</title>\n<polygon fill=\"none\" stroke=\"black\" points=\"372.5,-125 83.5,-125 83.5,-89 372.5,-89 372.5,-125\"/>\n<text text-anchor=\"middle\" x=\"228\" y=\"-103.3\" font-family=\"Times,serif\" font-size=\"14.00\">WITH COLUMNS [[(col(&quot;AIR_TIME&quot;)) / (60)]]</text>\n</g>\n<!-- p2 -->\n<g id=\"node2\" class=\"node\">\n<title>p2</title>\n<polygon fill=\"none\" stroke=\"black\" points=\"456,-53 0,-53 0,0 456,0 456,-53\"/>\n<text text-anchor=\"middle\" x=\"228\" y=\"-37.8\" font-family=\"Times,serif\" font-size=\"14.00\">Parquet SCAN [/content/drive/MyDrive/polars/seccion04/vuelos/vuelos.parquet]</text>\n<text text-anchor=\"middle\" x=\"228\" y=\"-22.8\" font-family=\"Times,serif\" font-size=\"14.00\">π */31;</text>\n<text text-anchor=\"middle\" x=\"228\" y=\"-7.8\" font-family=\"Times,serif\" font-size=\"14.00\">σ [(col(&quot;MONTH&quot;)) &gt; (10)]</text>\n</g>\n<!-- p1&#45;&#45;p2 -->\n<g id=\"edge1\" class=\"edge\">\n<title>p1--p2</title>\n<path fill=\"none\" stroke=\"black\" d=\"M228,-88.97C228,-78.51 228,-64.9 228,-53.16\"/>\n</g>\n</g>\n</svg>"
          },
          "metadata": {}
        }
      ]
    },
    {
      "cell_type": "markdown",
      "source": [
        "# **alternativa de visualizacion del plan de consulta**"
      ],
      "metadata": {
        "id": "WcXVpbh_nT_e"
      },
      "id": "WcXVpbh_nT_e"
    },
    {
      "cell_type": "code",
      "source": [
        "query"
      ],
      "metadata": {
        "colab": {
          "base_uri": "https://localhost:8080/",
          "height": 340
        },
        "id": "EyNPhL4FoCfd",
        "outputId": "e8055b4e-9c50-4b75-f700-2738037afe5a"
      },
      "id": "EyNPhL4FoCfd",
      "execution_count": 83,
      "outputs": [
        {
          "output_type": "execute_result",
          "data": {
            "text/plain": [
              "<LazyFrame at 0x7C1506A70D00>"
            ],
            "text/html": [
              "<h4>NAIVE QUERY PLAN</h4><p>run <b>LazyFrame.show_graph()</b> to see the optimized version</p><?xml version=\"1.0\" encoding=\"UTF-8\" standalone=\"no\"?>\n",
              "<!DOCTYPE svg PUBLIC \"-//W3C//DTD SVG 1.1//EN\"\n",
              " \"http://www.w3.org/Graphics/SVG/1.1/DTD/svg11.dtd\">\n",
              "<!-- Generated by graphviz version 2.43.0 (0)\n",
              " -->\n",
              "<!-- Title: polars_query Pages: 1 -->\n",
              "<svg width=\"464pt\" height=\"190pt\"\n",
              " viewBox=\"0.00 0.00 464.00 190.00\" xmlns=\"http://www.w3.org/2000/svg\" xmlns:xlink=\"http://www.w3.org/1999/xlink\">\n",
              "<g id=\"graph0\" class=\"graph\" transform=\"scale(1 1) rotate(0) translate(4 186)\">\n",
              "<title>polars_query</title>\n",
              "<polygon fill=\"white\" stroke=\"transparent\" points=\"-4,4 -4,-186 460,-186 460,4 -4,4\"/>\n",
              "<!-- p1 -->\n",
              "<g id=\"node1\" class=\"node\">\n",
              "<title>p1</title>\n",
              "<polygon fill=\"none\" stroke=\"black\" points=\"344,-182 112,-182 112,-146 344,-146 344,-182\"/>\n",
              "<text text-anchor=\"middle\" x=\"228\" y=\"-160.3\" font-family=\"Times,serif\" font-size=\"14.00\">FILTER BY [(col(&quot;MONTH&quot;)) &gt; (10)]</text>\n",
              "</g>\n",
              "<!-- p2 -->\n",
              "<g id=\"node2\" class=\"node\">\n",
              "<title>p2</title>\n",
              "<polygon fill=\"none\" stroke=\"black\" points=\"372.5,-110 83.5,-110 83.5,-74 372.5,-74 372.5,-110\"/>\n",
              "<text text-anchor=\"middle\" x=\"228\" y=\"-88.3\" font-family=\"Times,serif\" font-size=\"14.00\">WITH COLUMNS [[(col(&quot;AIR_TIME&quot;)) / (60)]]</text>\n",
              "</g>\n",
              "<!-- p1&#45;&#45;p2 -->\n",
              "<g id=\"edge1\" class=\"edge\">\n",
              "<title>p1&#45;&#45;p2</title>\n",
              "<path fill=\"none\" stroke=\"black\" d=\"M228,-145.7C228,-134.85 228,-120.92 228,-110.1\"/>\n",
              "</g>\n",
              "<!-- p3 -->\n",
              "<g id=\"node3\" class=\"node\">\n",
              "<title>p3</title>\n",
              "<polygon fill=\"none\" stroke=\"black\" points=\"456,-38 0,-38 0,0 456,0 456,-38\"/>\n",
              "<text text-anchor=\"middle\" x=\"228\" y=\"-22.8\" font-family=\"Times,serif\" font-size=\"14.00\">Parquet SCAN [/content/drive/MyDrive/polars/seccion04/vuelos/vuelos.parquet]</text>\n",
              "<text text-anchor=\"middle\" x=\"228\" y=\"-7.8\" font-family=\"Times,serif\" font-size=\"14.00\">π */31;</text>\n",
              "</g>\n",
              "<!-- p2&#45;&#45;p3 -->\n",
              "<g id=\"edge2\" class=\"edge\">\n",
              "<title>p2&#45;&#45;p3</title>\n",
              "<path fill=\"none\" stroke=\"black\" d=\"M228,-73.81C228,-62.98 228,-49.01 228,-38.02\"/>\n",
              "</g>\n",
              "</g>\n",
              "</svg>\n"
            ]
          },
          "metadata": {},
          "execution_count": 83
        }
      ]
    },
    {
      "cell_type": "code",
      "source": [
        "query.explain(optimized=True)"
      ],
      "metadata": {
        "colab": {
          "base_uri": "https://localhost:8080/",
          "height": 54
        },
        "id": "KT6zF17FnXOW",
        "outputId": "0bfe838c-b257-421e-db05-63d3f7707fa1"
      },
      "id": "KT6zF17FnXOW",
      "execution_count": 79,
      "outputs": [
        {
          "output_type": "execute_result",
          "data": {
            "text/plain": [
              "' WITH_COLUMNS:\\n [[(col(\"AIR_TIME\")) / (60)]] \\n  Parquet SCAN [/content/drive/MyDrive/polars/seccion04/vuelos/vuelos.parquet]\\n  PROJECT */31 COLUMNS\\n  SELECTION: [(col(\"MONTH\")) > (10)]'"
            ],
            "application/vnd.google.colaboratory.intrinsic+json": {
              "type": "string"
            }
          },
          "metadata": {},
          "execution_count": 79
        }
      ]
    },
    {
      "cell_type": "code",
      "source": [
        "query.explain(optimized=False)"
      ],
      "metadata": {
        "colab": {
          "base_uri": "https://localhost:8080/",
          "height": 54
        },
        "id": "hfRrWWkMnaJQ",
        "outputId": "919e39a9-7bf4-4ea2-85b1-4ffe74ba4c6e"
      },
      "id": "hfRrWWkMnaJQ",
      "execution_count": 80,
      "outputs": [
        {
          "output_type": "execute_result",
          "data": {
            "text/plain": [
              "'FILTER [(col(\"MONTH\")) > (10)] FROM\\n   WITH_COLUMNS:\\n   [[(col(\"AIR_TIME\")) / (60)]] \\n    Parquet SCAN [/content/drive/MyDrive/polars/seccion04/vuelos/vuelos.parquet]\\n    PROJECT */31 COLUMNS'"
            ],
            "application/vnd.google.colaboratory.intrinsic+json": {
              "type": "string"
            }
          },
          "metadata": {},
          "execution_count": 80
        }
      ]
    },
    {
      "cell_type": "code",
      "source": [
        "query.explain()"
      ],
      "metadata": {
        "colab": {
          "base_uri": "https://localhost:8080/",
          "height": 54
        },
        "id": "vvvWZxhPoHg9",
        "outputId": "c11fc9fa-0e1c-467a-9fc0-1806b915f27d"
      },
      "id": "vvvWZxhPoHg9",
      "execution_count": 84,
      "outputs": [
        {
          "output_type": "execute_result",
          "data": {
            "text/plain": [
              "' WITH_COLUMNS:\\n [[(col(\"AIR_TIME\")) / (60)]] \\n  Parquet SCAN [/content/drive/MyDrive/polars/seccion04/vuelos/vuelos.parquet]\\n  PROJECT */31 COLUMNS\\n  SELECTION: [(col(\"MONTH\")) > (10)]'"
            ],
            "application/vnd.google.colaboratory.intrinsic+json": {
              "type": "string"
            }
          },
          "metadata": {},
          "execution_count": 84
        }
      ]
    },
    {
      "cell_type": "markdown",
      "source": [
        "##nos brinda el mejor resultado posible"
      ],
      "metadata": {
        "id": "wRkxK4UMoLB6"
      },
      "id": "wRkxK4UMoLB6"
    },
    {
      "cell_type": "code",
      "source": [
        "query.collect()## consulta en el dataset completo 2,4 que coinciden con el resultado"
      ],
      "metadata": {
        "colab": {
          "base_uri": "https://localhost:8080/",
          "height": 463
        },
        "id": "B620_5GwoRNJ",
        "outputId": "251246a0-748d-4de5-9874-14e685376ae2"
      },
      "id": "B620_5GwoRNJ",
      "execution_count": 85,
      "outputs": [
        {
          "output_type": "execute_result",
          "data": {
            "text/plain": [
              "shape: (947_202, 31)\n",
              "┌──────┬───────┬─────┬─────────────┬───┬──────────────┬──────────────┬──────────────┬──────────────┐\n",
              "│ YEAR ┆ MONTH ┆ DAY ┆ DAY_OF_WEEK ┆ … ┆ SECURITY_DEL ┆ AIRLINE_DELA ┆ LATE_AIRCRAF ┆ WEATHER_DELA │\n",
              "│ ---  ┆ ---   ┆ --- ┆ ---         ┆   ┆ AY           ┆ Y            ┆ T_DELAY      ┆ Y            │\n",
              "│ i32  ┆ i32   ┆ i32 ┆ i32         ┆   ┆ ---          ┆ ---          ┆ ---          ┆ ---          │\n",
              "│      ┆       ┆     ┆             ┆   ┆ i32          ┆ i32          ┆ i32          ┆ i32          │\n",
              "╞══════╪═══════╪═════╪═════════════╪═══╪══════════════╪══════════════╪══════════════╪══════════════╡\n",
              "│ 2015 ┆ 11    ┆ 1   ┆ 7           ┆ … ┆ null         ┆ null         ┆ null         ┆ null         │\n",
              "│ 2015 ┆ 11    ┆ 1   ┆ 7           ┆ … ┆ null         ┆ null         ┆ null         ┆ null         │\n",
              "│ 2015 ┆ 11    ┆ 1   ┆ 7           ┆ … ┆ null         ┆ null         ┆ null         ┆ null         │\n",
              "│ 2015 ┆ 11    ┆ 1   ┆ 7           ┆ … ┆ null         ┆ null         ┆ null         ┆ null         │\n",
              "│ 2015 ┆ 11    ┆ 1   ┆ 7           ┆ … ┆ null         ┆ null         ┆ null         ┆ null         │\n",
              "│ …    ┆ …     ┆ …   ┆ …           ┆ … ┆ …            ┆ …            ┆ …            ┆ …            │\n",
              "│ 2015 ┆ 12    ┆ 31  ┆ 4           ┆ … ┆ null         ┆ null         ┆ null         ┆ null         │\n",
              "│ 2015 ┆ 12    ┆ 31  ┆ 4           ┆ … ┆ null         ┆ null         ┆ null         ┆ null         │\n",
              "│ 2015 ┆ 12    ┆ 31  ┆ 4           ┆ … ┆ null         ┆ null         ┆ null         ┆ null         │\n",
              "│ 2015 ┆ 12    ┆ 31  ┆ 4           ┆ … ┆ null         ┆ null         ┆ null         ┆ null         │\n",
              "│ 2015 ┆ 12    ┆ 31  ┆ 4           ┆ … ┆ null         ┆ null         ┆ null         ┆ null         │\n",
              "└──────┴───────┴─────┴─────────────┴───┴──────────────┴──────────────┴──────────────┴──────────────┘"
            ],
            "text/html": [
              "<div><style>\n",
              ".dataframe > thead > tr,\n",
              ".dataframe > tbody > tr {\n",
              "  text-align: right;\n",
              "  white-space: pre-wrap;\n",
              "}\n",
              "</style>\n",
              "<small>shape: (947_202, 31)</small><table border=\"1\" class=\"dataframe\"><thead><tr><th>YEAR</th><th>MONTH</th><th>DAY</th><th>DAY_OF_WEEK</th><th>AIRLINE</th><th>FLIGHT_NUMBER</th><th>TAIL_NUMBER</th><th>ORIGIN_AIRPORT</th><th>DESTINATION_AIRPORT</th><th>SCHEDULED_DEPARTURE</th><th>DEPARTURE_TIME</th><th>DEPARTURE_DELAY</th><th>TAXI_OUT</th><th>WHEELS_OFF</th><th>SCHEDULED_TIME</th><th>ELAPSED_TIME</th><th>AIR_TIME</th><th>DISTANCE</th><th>WHEELS_ON</th><th>TAXI_IN</th><th>SCHEDULED_ARRIVAL</th><th>ARRIVAL_TIME</th><th>ARRIVAL_DELAY</th><th>DIVERTED</th><th>CANCELLED</th><th>CANCELLATION_REASON</th><th>AIR_SYSTEM_DELAY</th><th>SECURITY_DELAY</th><th>AIRLINE_DELAY</th><th>LATE_AIRCRAFT_DELAY</th><th>WEATHER_DELAY</th></tr><tr><td>i32</td><td>i32</td><td>i32</td><td>i32</td><td>str</td><td>i32</td><td>str</td><td>str</td><td>str</td><td>i32</td><td>i32</td><td>i32</td><td>i32</td><td>i32</td><td>i32</td><td>i32</td><td>f64</td><td>i32</td><td>i32</td><td>i32</td><td>i32</td><td>i32</td><td>i32</td><td>i32</td><td>i32</td><td>str</td><td>i32</td><td>i32</td><td>i32</td><td>i32</td><td>i32</td></tr></thead><tbody><tr><td>2015</td><td>11</td><td>1</td><td>7</td><td>&quot;NK&quot;</td><td>612</td><td>&quot;N602NK&quot;</td><td>&quot;LAS&quot;</td><td>&quot;MSP&quot;</td><td>5</td><td>7</td><td>2</td><td>17</td><td>24</td><td>177</td><td>177</td><td>2.566667</td><td>1299</td><td>358</td><td>6</td><td>402</td><td>404</td><td>2</td><td>0</td><td>0</td><td>null</td><td>null</td><td>null</td><td>null</td><td>null</td><td>null</td></tr><tr><td>2015</td><td>11</td><td>1</td><td>7</td><td>&quot;UA&quot;</td><td>680</td><td>&quot;N76516&quot;</td><td>&quot;SFO&quot;</td><td>&quot;ORD&quot;</td><td>14</td><td>19</td><td>5</td><td>15</td><td>34</td><td>258</td><td>231</td><td>3.516667</td><td>1846</td><td>505</td><td>5</td><td>532</td><td>510</td><td>-22</td><td>0</td><td>0</td><td>null</td><td>null</td><td>null</td><td>null</td><td>null</td><td>null</td></tr><tr><td>2015</td><td>11</td><td>1</td><td>7</td><td>&quot;AA&quot;</td><td>260</td><td>&quot;N3KTAA&quot;</td><td>&quot;LAX&quot;</td><td>&quot;MIA&quot;</td><td>15</td><td>6</td><td>-9</td><td>30</td><td>36</td><td>296</td><td>313</td><td>4.5</td><td>2342</td><td>706</td><td>13</td><td>711</td><td>719</td><td>8</td><td>0</td><td>0</td><td>null</td><td>null</td><td>null</td><td>null</td><td>null</td><td>null</td></tr><tr><td>2015</td><td>11</td><td>1</td><td>7</td><td>&quot;UA&quot;</td><td>910</td><td>&quot;N76503&quot;</td><td>&quot;LAX&quot;</td><td>&quot;ORD&quot;</td><td>31</td><td>27</td><td>-4</td><td>14</td><td>41</td><td>248</td><td>231</td><td>3.516667</td><td>1744</td><td>512</td><td>6</td><td>539</td><td>518</td><td>-21</td><td>0</td><td>0</td><td>null</td><td>null</td><td>null</td><td>null</td><td>null</td><td>null</td></tr><tr><td>2015</td><td>11</td><td>1</td><td>7</td><td>&quot;UA&quot;</td><td>1888</td><td>null</td><td>&quot;LAS&quot;</td><td>&quot;IAH&quot;</td><td>41</td><td>null</td><td>null</td><td>null</td><td>null</td><td>172</td><td>null</td><td>null</td><td>1222</td><td>null</td><td>null</td><td>433</td><td>null</td><td>null</td><td>0</td><td>1</td><td>&quot;A&quot;</td><td>null</td><td>null</td><td>null</td><td>null</td><td>null</td></tr><tr><td>&hellip;</td><td>&hellip;</td><td>&hellip;</td><td>&hellip;</td><td>&hellip;</td><td>&hellip;</td><td>&hellip;</td><td>&hellip;</td><td>&hellip;</td><td>&hellip;</td><td>&hellip;</td><td>&hellip;</td><td>&hellip;</td><td>&hellip;</td><td>&hellip;</td><td>&hellip;</td><td>&hellip;</td><td>&hellip;</td><td>&hellip;</td><td>&hellip;</td><td>&hellip;</td><td>&hellip;</td><td>&hellip;</td><td>&hellip;</td><td>&hellip;</td><td>&hellip;</td><td>&hellip;</td><td>&hellip;</td><td>&hellip;</td><td>&hellip;</td><td>&hellip;</td></tr><tr><td>2015</td><td>12</td><td>31</td><td>4</td><td>&quot;B6&quot;</td><td>688</td><td>&quot;N657JB&quot;</td><td>&quot;LAX&quot;</td><td>&quot;BOS&quot;</td><td>2359</td><td>2355</td><td>-4</td><td>22</td><td>17</td><td>320</td><td>298</td><td>4.533333</td><td>2611</td><td>749</td><td>4</td><td>819</td><td>753</td><td>-26</td><td>0</td><td>0</td><td>null</td><td>null</td><td>null</td><td>null</td><td>null</td><td>null</td></tr><tr><td>2015</td><td>12</td><td>31</td><td>4</td><td>&quot;B6&quot;</td><td>745</td><td>&quot;N828JB&quot;</td><td>&quot;JFK&quot;</td><td>&quot;PSE&quot;</td><td>2359</td><td>2355</td><td>-4</td><td>17</td><td>12</td><td>227</td><td>215</td><td>3.25</td><td>1617</td><td>427</td><td>3</td><td>446</td><td>430</td><td>-16</td><td>0</td><td>0</td><td>null</td><td>null</td><td>null</td><td>null</td><td>null</td><td>null</td></tr><tr><td>2015</td><td>12</td><td>31</td><td>4</td><td>&quot;B6&quot;</td><td>1503</td><td>&quot;N913JB&quot;</td><td>&quot;JFK&quot;</td><td>&quot;SJU&quot;</td><td>2359</td><td>2350</td><td>-9</td><td>17</td><td>7</td><td>221</td><td>222</td><td>3.283333</td><td>1598</td><td>424</td><td>8</td><td>440</td><td>432</td><td>-8</td><td>0</td><td>0</td><td>null</td><td>null</td><td>null</td><td>null</td><td>null</td><td>null</td></tr><tr><td>2015</td><td>12</td><td>31</td><td>4</td><td>&quot;B6&quot;</td><td>333</td><td>&quot;N527JB&quot;</td><td>&quot;MCO&quot;</td><td>&quot;SJU&quot;</td><td>2359</td><td>2353</td><td>-6</td><td>10</td><td>3</td><td>161</td><td>157</td><td>2.4</td><td>1189</td><td>327</td><td>3</td><td>340</td><td>330</td><td>-10</td><td>0</td><td>0</td><td>null</td><td>null</td><td>null</td><td>null</td><td>null</td><td>null</td></tr><tr><td>2015</td><td>12</td><td>31</td><td>4</td><td>&quot;B6&quot;</td><td>839</td><td>&quot;N534JB&quot;</td><td>&quot;JFK&quot;</td><td>&quot;BQN&quot;</td><td>2359</td><td>14</td><td>15</td><td>14</td><td>28</td><td>221</td><td>208</td><td>3.15</td><td>1576</td><td>437</td><td>5</td><td>440</td><td>442</td><td>2</td><td>0</td><td>0</td><td>null</td><td>null</td><td>null</td><td>null</td><td>null</td><td>null</td></tr></tbody></table></div>"
            ]
          },
          "metadata": {},
          "execution_count": 85
        }
      ]
    },
    {
      "cell_type": "markdown",
      "source": [
        "los lazy frame son planes de consulta una promesa de calculo, utilicemos despues se va a calcular de nuevo en ese plan de consulta\n",
        "si se necesita mas memoria de la que se necesita se aplica el modo streaming=True habilitamos ese modo\n",
        "LA API LAZY no cuenta cuantas columnas hay en cada etapa de la consulta"
      ],
      "metadata": {
        "id": "Ui78aU3HpFkz"
      },
      "id": "Ui78aU3HpFkz"
    },
    {
      "cell_type": "code",
      "source": [
        "query = (\n",
        "    pl.scan_parquet('/content/drive/MyDrive/polars/seccion04/vuelos/vuelos.parquet')\n",
        "    .filter(pl.col('AIR_TIME')>100)\n",
        ")\n",
        "query.fetch(n_rows=20)  ## 20 filas de esta consulta"
      ],
      "metadata": {
        "colab": {
          "base_uri": "https://localhost:8080/",
          "height": 500
        },
        "id": "2EL62XqZpKfW",
        "outputId": "d0ae28ba-0b78-4352-8b30-f3442118ec2b"
      },
      "id": "2EL62XqZpKfW",
      "execution_count": 86,
      "outputs": [
        {
          "output_type": "stream",
          "name": "stderr",
          "text": [
            "<ipython-input-86-b18d1a6b52aa>:5: DeprecationWarning: `LazyFrame.fetch` is deprecated. `LazyFrame.fetch` is deprecated; use `LazyFrame.collect` instead, in conjunction with a call to `head`.\n",
            "  query.fetch(n_rows=20)  ## 20 filas de esta consulta\n"
          ]
        },
        {
          "output_type": "execute_result",
          "data": {
            "text/plain": [
              "shape: (20, 31)\n",
              "┌──────┬───────┬─────┬─────────────┬───┬──────────────┬──────────────┬──────────────┬──────────────┐\n",
              "│ YEAR ┆ MONTH ┆ DAY ┆ DAY_OF_WEEK ┆ … ┆ SECURITY_DEL ┆ AIRLINE_DELA ┆ LATE_AIRCRAF ┆ WEATHER_DELA │\n",
              "│ ---  ┆ ---   ┆ --- ┆ ---         ┆   ┆ AY           ┆ Y            ┆ T_DELAY      ┆ Y            │\n",
              "│ i32  ┆ i32   ┆ i32 ┆ i32         ┆   ┆ ---          ┆ ---          ┆ ---          ┆ ---          │\n",
              "│      ┆       ┆     ┆             ┆   ┆ i32          ┆ i32          ┆ i32          ┆ i32          │\n",
              "╞══════╪═══════╪═════╪═════════════╪═══╪══════════════╪══════════════╪══════════════╪══════════════╡\n",
              "│ 2015 ┆ 1     ┆ 1   ┆ 4           ┆ … ┆ null         ┆ null         ┆ null         ┆ null         │\n",
              "│ 2015 ┆ 1     ┆ 1   ┆ 4           ┆ … ┆ null         ┆ null         ┆ null         ┆ null         │\n",
              "│ 2015 ┆ 1     ┆ 1   ┆ 4           ┆ … ┆ null         ┆ null         ┆ null         ┆ null         │\n",
              "│ 2015 ┆ 1     ┆ 1   ┆ 4           ┆ … ┆ null         ┆ null         ┆ null         ┆ null         │\n",
              "│ 2015 ┆ 1     ┆ 1   ┆ 4           ┆ … ┆ null         ┆ null         ┆ null         ┆ null         │\n",
              "│ …    ┆ …     ┆ …   ┆ …           ┆ … ┆ …            ┆ …            ┆ …            ┆ …            │\n",
              "│ 2015 ┆ 1     ┆ 1   ┆ 4           ┆ … ┆ null         ┆ null         ┆ null         ┆ null         │\n",
              "│ 2015 ┆ 1     ┆ 1   ┆ 4           ┆ … ┆ null         ┆ null         ┆ null         ┆ null         │\n",
              "│ 2015 ┆ 1     ┆ 1   ┆ 4           ┆ … ┆ null         ┆ null         ┆ null         ┆ null         │\n",
              "│ 2015 ┆ 1     ┆ 1   ┆ 4           ┆ … ┆ null         ┆ null         ┆ null         ┆ null         │\n",
              "│ 2015 ┆ 1     ┆ 1   ┆ 4           ┆ … ┆ null         ┆ null         ┆ null         ┆ null         │\n",
              "└──────┴───────┴─────┴─────────────┴───┴──────────────┴──────────────┴──────────────┴──────────────┘"
            ],
            "text/html": [
              "<div><style>\n",
              ".dataframe > thead > tr,\n",
              ".dataframe > tbody > tr {\n",
              "  text-align: right;\n",
              "  white-space: pre-wrap;\n",
              "}\n",
              "</style>\n",
              "<small>shape: (20, 31)</small><table border=\"1\" class=\"dataframe\"><thead><tr><th>YEAR</th><th>MONTH</th><th>DAY</th><th>DAY_OF_WEEK</th><th>AIRLINE</th><th>FLIGHT_NUMBER</th><th>TAIL_NUMBER</th><th>ORIGIN_AIRPORT</th><th>DESTINATION_AIRPORT</th><th>SCHEDULED_DEPARTURE</th><th>DEPARTURE_TIME</th><th>DEPARTURE_DELAY</th><th>TAXI_OUT</th><th>WHEELS_OFF</th><th>SCHEDULED_TIME</th><th>ELAPSED_TIME</th><th>AIR_TIME</th><th>DISTANCE</th><th>WHEELS_ON</th><th>TAXI_IN</th><th>SCHEDULED_ARRIVAL</th><th>ARRIVAL_TIME</th><th>ARRIVAL_DELAY</th><th>DIVERTED</th><th>CANCELLED</th><th>CANCELLATION_REASON</th><th>AIR_SYSTEM_DELAY</th><th>SECURITY_DELAY</th><th>AIRLINE_DELAY</th><th>LATE_AIRCRAFT_DELAY</th><th>WEATHER_DELAY</th></tr><tr><td>i32</td><td>i32</td><td>i32</td><td>i32</td><td>str</td><td>i32</td><td>str</td><td>str</td><td>str</td><td>i32</td><td>i32</td><td>i32</td><td>i32</td><td>i32</td><td>i32</td><td>i32</td><td>i32</td><td>i32</td><td>i32</td><td>i32</td><td>i32</td><td>i32</td><td>i32</td><td>i32</td><td>i32</td><td>str</td><td>i32</td><td>i32</td><td>i32</td><td>i32</td><td>i32</td></tr></thead><tbody><tr><td>2015</td><td>1</td><td>1</td><td>4</td><td>&quot;AS&quot;</td><td>98</td><td>&quot;N407AS&quot;</td><td>&quot;ANC&quot;</td><td>&quot;SEA&quot;</td><td>5</td><td>2354</td><td>-11</td><td>21</td><td>15</td><td>205</td><td>194</td><td>169</td><td>1448</td><td>404</td><td>4</td><td>430</td><td>408</td><td>-22</td><td>0</td><td>0</td><td>null</td><td>null</td><td>null</td><td>null</td><td>null</td><td>null</td></tr><tr><td>2015</td><td>1</td><td>1</td><td>4</td><td>&quot;AA&quot;</td><td>2336</td><td>&quot;N3KUAA&quot;</td><td>&quot;LAX&quot;</td><td>&quot;PBI&quot;</td><td>10</td><td>2</td><td>-8</td><td>12</td><td>14</td><td>280</td><td>279</td><td>263</td><td>2330</td><td>737</td><td>4</td><td>750</td><td>741</td><td>-9</td><td>0</td><td>0</td><td>null</td><td>null</td><td>null</td><td>null</td><td>null</td><td>null</td></tr><tr><td>2015</td><td>1</td><td>1</td><td>4</td><td>&quot;US&quot;</td><td>840</td><td>&quot;N171US&quot;</td><td>&quot;SFO&quot;</td><td>&quot;CLT&quot;</td><td>20</td><td>18</td><td>-2</td><td>16</td><td>34</td><td>286</td><td>293</td><td>266</td><td>2296</td><td>800</td><td>11</td><td>806</td><td>811</td><td>5</td><td>0</td><td>0</td><td>null</td><td>null</td><td>null</td><td>null</td><td>null</td><td>null</td></tr><tr><td>2015</td><td>1</td><td>1</td><td>4</td><td>&quot;AA&quot;</td><td>258</td><td>&quot;N3HYAA&quot;</td><td>&quot;LAX&quot;</td><td>&quot;MIA&quot;</td><td>20</td><td>15</td><td>-5</td><td>15</td><td>30</td><td>285</td><td>281</td><td>258</td><td>2342</td><td>748</td><td>8</td><td>805</td><td>756</td><td>-9</td><td>0</td><td>0</td><td>null</td><td>null</td><td>null</td><td>null</td><td>null</td><td>null</td></tr><tr><td>2015</td><td>1</td><td>1</td><td>4</td><td>&quot;AS&quot;</td><td>135</td><td>&quot;N527AS&quot;</td><td>&quot;SEA&quot;</td><td>&quot;ANC&quot;</td><td>25</td><td>24</td><td>-1</td><td>11</td><td>35</td><td>235</td><td>215</td><td>199</td><td>1448</td><td>254</td><td>5</td><td>320</td><td>259</td><td>-21</td><td>0</td><td>0</td><td>null</td><td>null</td><td>null</td><td>null</td><td>null</td><td>null</td></tr><tr><td>&hellip;</td><td>&hellip;</td><td>&hellip;</td><td>&hellip;</td><td>&hellip;</td><td>&hellip;</td><td>&hellip;</td><td>&hellip;</td><td>&hellip;</td><td>&hellip;</td><td>&hellip;</td><td>&hellip;</td><td>&hellip;</td><td>&hellip;</td><td>&hellip;</td><td>&hellip;</td><td>&hellip;</td><td>&hellip;</td><td>&hellip;</td><td>&hellip;</td><td>&hellip;</td><td>&hellip;</td><td>&hellip;</td><td>&hellip;</td><td>&hellip;</td><td>&hellip;</td><td>&hellip;</td><td>&hellip;</td><td>&hellip;</td><td>&hellip;</td><td>&hellip;</td></tr><tr><td>2015</td><td>1</td><td>1</td><td>4</td><td>&quot;AS&quot;</td><td>108</td><td>&quot;N309AS&quot;</td><td>&quot;ANC&quot;</td><td>&quot;SEA&quot;</td><td>45</td><td>41</td><td>-4</td><td>17</td><td>58</td><td>204</td><td>194</td><td>173</td><td>1448</td><td>451</td><td>4</td><td>509</td><td>455</td><td>-14</td><td>0</td><td>0</td><td>null</td><td>null</td><td>null</td><td>null</td><td>null</td><td>null</td></tr><tr><td>2015</td><td>1</td><td>1</td><td>4</td><td>&quot;DL&quot;</td><td>1560</td><td>&quot;N3743H&quot;</td><td>&quot;ANC&quot;</td><td>&quot;SEA&quot;</td><td>45</td><td>31</td><td>-14</td><td>25</td><td>56</td><td>210</td><td>200</td><td>171</td><td>1448</td><td>447</td><td>4</td><td>515</td><td>451</td><td>-24</td><td>0</td><td>0</td><td>null</td><td>null</td><td>null</td><td>null</td><td>null</td><td>null</td></tr><tr><td>2015</td><td>1</td><td>1</td><td>4</td><td>&quot;UA&quot;</td><td>1197</td><td>&quot;N78448&quot;</td><td>&quot;SFO&quot;</td><td>&quot;IAH&quot;</td><td>48</td><td>42</td><td>-6</td><td>11</td><td>53</td><td>218</td><td>217</td><td>199</td><td>1635</td><td>612</td><td>7</td><td>626</td><td>619</td><td>-7</td><td>0</td><td>0</td><td>null</td><td>null</td><td>null</td><td>null</td><td>null</td><td>null</td></tr><tr><td>2015</td><td>1</td><td>1</td><td>4</td><td>&quot;AS&quot;</td><td>122</td><td>&quot;N413AS&quot;</td><td>&quot;ANC&quot;</td><td>&quot;PDX&quot;</td><td>50</td><td>46</td><td>-4</td><td>11</td><td>57</td><td>215</td><td>201</td><td>187</td><td>1542</td><td>504</td><td>3</td><td>525</td><td>507</td><td>-18</td><td>0</td><td>0</td><td>null</td><td>null</td><td>null</td><td>null</td><td>null</td><td>null</td></tr><tr><td>2015</td><td>1</td><td>1</td><td>4</td><td>&quot;DL&quot;</td><td>1670</td><td>&quot;N806DN&quot;</td><td>&quot;PDX&quot;</td><td>&quot;MSP&quot;</td><td>50</td><td>45</td><td>-5</td><td>9</td><td>54</td><td>193</td><td>186</td><td>171</td><td>1426</td><td>545</td><td>6</td><td>603</td><td>551</td><td>-12</td><td>0</td><td>0</td><td>null</td><td>null</td><td>null</td><td>null</td><td>null</td><td>null</td></tr></tbody></table></div>"
            ]
          },
          "metadata": {},
          "execution_count": 86
        }
      ]
    },
    {
      "cell_type": "markdown",
      "source": [
        "## LECTURA 34"
      ],
      "metadata": {
        "id": "hVayiXbEp6b6"
      },
      "id": "hVayiXbEp6b6"
    },
    {
      "cell_type": "markdown",
      "source": [
        "LAZY FRAME AGREGACIONES"
      ],
      "metadata": {
        "id": "EwGMcfiRqH5v"
      },
      "id": "EwGMcfiRqH5v"
    },
    {
      "cell_type": "code",
      "source": [
        "import polars as pl\n",
        "from polars import col"
      ],
      "metadata": {
        "id": "PZr8981CqIYP"
      },
      "id": "PZr8981CqIYP",
      "execution_count": 87,
      "outputs": []
    },
    {
      "cell_type": "code",
      "source": [
        "path = ('/content/drive/MyDrive/polars/seccion04/vuelos/vuelos.parquet')"
      ],
      "metadata": {
        "id": "ulJJAKgEqiy8"
      },
      "id": "ulJJAKgEqiy8",
      "execution_count": 88,
      "outputs": []
    },
    {
      "cell_type": "code",
      "source": [
        "df"
      ],
      "metadata": {
        "colab": {
          "base_uri": "https://localhost:8080/",
          "height": 463
        },
        "id": "mI18Qhwa6fPV",
        "outputId": "6a7ae7a9-defa-449e-e00a-c2d976f76d3e"
      },
      "id": "mI18Qhwa6fPV",
      "execution_count": 101,
      "outputs": [
        {
          "output_type": "execute_result",
          "data": {
            "text/plain": [
              "shape: (5_819_079, 31)\n",
              "┌──────┬───────┬─────┬─────────────┬───┬──────────────┬──────────────┬──────────────┬──────────────┐\n",
              "│ YEAR ┆ MONTH ┆ DAY ┆ DAY_OF_WEEK ┆ … ┆ SECURITY_DEL ┆ AIRLINE_DELA ┆ LATE_AIRCRAF ┆ WEATHER_DELA │\n",
              "│ ---  ┆ ---   ┆ --- ┆ ---         ┆   ┆ AY           ┆ Y            ┆ T_DELAY      ┆ Y            │\n",
              "│ i32  ┆ i32   ┆ i32 ┆ i32         ┆   ┆ ---          ┆ ---          ┆ ---          ┆ ---          │\n",
              "│      ┆       ┆     ┆             ┆   ┆ i32          ┆ i32          ┆ i32          ┆ i32          │\n",
              "╞══════╪═══════╪═════╪═════════════╪═══╪══════════════╪══════════════╪══════════════╪══════════════╡\n",
              "│ 2015 ┆ 1     ┆ 1   ┆ 4           ┆ … ┆ null         ┆ null         ┆ null         ┆ null         │\n",
              "│ 2015 ┆ 1     ┆ 1   ┆ 4           ┆ … ┆ null         ┆ null         ┆ null         ┆ null         │\n",
              "│ 2015 ┆ 1     ┆ 1   ┆ 4           ┆ … ┆ null         ┆ null         ┆ null         ┆ null         │\n",
              "│ 2015 ┆ 1     ┆ 1   ┆ 4           ┆ … ┆ null         ┆ null         ┆ null         ┆ null         │\n",
              "│ 2015 ┆ 1     ┆ 1   ┆ 4           ┆ … ┆ null         ┆ null         ┆ null         ┆ null         │\n",
              "│ …    ┆ …     ┆ …   ┆ …           ┆ … ┆ …            ┆ …            ┆ …            ┆ …            │\n",
              "│ 2015 ┆ 12    ┆ 31  ┆ 4           ┆ … ┆ null         ┆ null         ┆ null         ┆ null         │\n",
              "│ 2015 ┆ 12    ┆ 31  ┆ 4           ┆ … ┆ null         ┆ null         ┆ null         ┆ null         │\n",
              "│ 2015 ┆ 12    ┆ 31  ┆ 4           ┆ … ┆ null         ┆ null         ┆ null         ┆ null         │\n",
              "│ 2015 ┆ 12    ┆ 31  ┆ 4           ┆ … ┆ null         ┆ null         ┆ null         ┆ null         │\n",
              "│ 2015 ┆ 12    ┆ 31  ┆ 4           ┆ … ┆ null         ┆ null         ┆ null         ┆ null         │\n",
              "└──────┴───────┴─────┴─────────────┴───┴──────────────┴──────────────┴──────────────┴──────────────┘"
            ],
            "text/html": [
              "<div><style>\n",
              ".dataframe > thead > tr,\n",
              ".dataframe > tbody > tr {\n",
              "  text-align: right;\n",
              "  white-space: pre-wrap;\n",
              "}\n",
              "</style>\n",
              "<small>shape: (5_819_079, 31)</small><table border=\"1\" class=\"dataframe\"><thead><tr><th>YEAR</th><th>MONTH</th><th>DAY</th><th>DAY_OF_WEEK</th><th>AIRLINE</th><th>FLIGHT_NUMBER</th><th>TAIL_NUMBER</th><th>ORIGIN_AIRPORT</th><th>DESTINATION_AIRPORT</th><th>SCHEDULED_DEPARTURE</th><th>DEPARTURE_TIME</th><th>DEPARTURE_DELAY</th><th>TAXI_OUT</th><th>WHEELS_OFF</th><th>SCHEDULED_TIME</th><th>ELAPSED_TIME</th><th>AIR_TIME</th><th>DISTANCE</th><th>WHEELS_ON</th><th>TAXI_IN</th><th>SCHEDULED_ARRIVAL</th><th>ARRIVAL_TIME</th><th>ARRIVAL_DELAY</th><th>DIVERTED</th><th>CANCELLED</th><th>CANCELLATION_REASON</th><th>AIR_SYSTEM_DELAY</th><th>SECURITY_DELAY</th><th>AIRLINE_DELAY</th><th>LATE_AIRCRAFT_DELAY</th><th>WEATHER_DELAY</th></tr><tr><td>i32</td><td>i32</td><td>i32</td><td>i32</td><td>str</td><td>i32</td><td>str</td><td>str</td><td>str</td><td>i32</td><td>i32</td><td>i32</td><td>i32</td><td>i32</td><td>i32</td><td>i32</td><td>i32</td><td>i32</td><td>i32</td><td>i32</td><td>i32</td><td>i32</td><td>i32</td><td>i32</td><td>i32</td><td>str</td><td>i32</td><td>i32</td><td>i32</td><td>i32</td><td>i32</td></tr></thead><tbody><tr><td>2015</td><td>1</td><td>1</td><td>4</td><td>&quot;AS&quot;</td><td>98</td><td>&quot;N407AS&quot;</td><td>&quot;ANC&quot;</td><td>&quot;SEA&quot;</td><td>5</td><td>2354</td><td>-11</td><td>21</td><td>15</td><td>205</td><td>194</td><td>169</td><td>1448</td><td>404</td><td>4</td><td>430</td><td>408</td><td>-22</td><td>0</td><td>0</td><td>null</td><td>null</td><td>null</td><td>null</td><td>null</td><td>null</td></tr><tr><td>2015</td><td>1</td><td>1</td><td>4</td><td>&quot;AA&quot;</td><td>2336</td><td>&quot;N3KUAA&quot;</td><td>&quot;LAX&quot;</td><td>&quot;PBI&quot;</td><td>10</td><td>2</td><td>-8</td><td>12</td><td>14</td><td>280</td><td>279</td><td>263</td><td>2330</td><td>737</td><td>4</td><td>750</td><td>741</td><td>-9</td><td>0</td><td>0</td><td>null</td><td>null</td><td>null</td><td>null</td><td>null</td><td>null</td></tr><tr><td>2015</td><td>1</td><td>1</td><td>4</td><td>&quot;US&quot;</td><td>840</td><td>&quot;N171US&quot;</td><td>&quot;SFO&quot;</td><td>&quot;CLT&quot;</td><td>20</td><td>18</td><td>-2</td><td>16</td><td>34</td><td>286</td><td>293</td><td>266</td><td>2296</td><td>800</td><td>11</td><td>806</td><td>811</td><td>5</td><td>0</td><td>0</td><td>null</td><td>null</td><td>null</td><td>null</td><td>null</td><td>null</td></tr><tr><td>2015</td><td>1</td><td>1</td><td>4</td><td>&quot;AA&quot;</td><td>258</td><td>&quot;N3HYAA&quot;</td><td>&quot;LAX&quot;</td><td>&quot;MIA&quot;</td><td>20</td><td>15</td><td>-5</td><td>15</td><td>30</td><td>285</td><td>281</td><td>258</td><td>2342</td><td>748</td><td>8</td><td>805</td><td>756</td><td>-9</td><td>0</td><td>0</td><td>null</td><td>null</td><td>null</td><td>null</td><td>null</td><td>null</td></tr><tr><td>2015</td><td>1</td><td>1</td><td>4</td><td>&quot;AS&quot;</td><td>135</td><td>&quot;N527AS&quot;</td><td>&quot;SEA&quot;</td><td>&quot;ANC&quot;</td><td>25</td><td>24</td><td>-1</td><td>11</td><td>35</td><td>235</td><td>215</td><td>199</td><td>1448</td><td>254</td><td>5</td><td>320</td><td>259</td><td>-21</td><td>0</td><td>0</td><td>null</td><td>null</td><td>null</td><td>null</td><td>null</td><td>null</td></tr><tr><td>&hellip;</td><td>&hellip;</td><td>&hellip;</td><td>&hellip;</td><td>&hellip;</td><td>&hellip;</td><td>&hellip;</td><td>&hellip;</td><td>&hellip;</td><td>&hellip;</td><td>&hellip;</td><td>&hellip;</td><td>&hellip;</td><td>&hellip;</td><td>&hellip;</td><td>&hellip;</td><td>&hellip;</td><td>&hellip;</td><td>&hellip;</td><td>&hellip;</td><td>&hellip;</td><td>&hellip;</td><td>&hellip;</td><td>&hellip;</td><td>&hellip;</td><td>&hellip;</td><td>&hellip;</td><td>&hellip;</td><td>&hellip;</td><td>&hellip;</td><td>&hellip;</td></tr><tr><td>2015</td><td>12</td><td>31</td><td>4</td><td>&quot;B6&quot;</td><td>688</td><td>&quot;N657JB&quot;</td><td>&quot;LAX&quot;</td><td>&quot;BOS&quot;</td><td>2359</td><td>2355</td><td>-4</td><td>22</td><td>17</td><td>320</td><td>298</td><td>272</td><td>2611</td><td>749</td><td>4</td><td>819</td><td>753</td><td>-26</td><td>0</td><td>0</td><td>null</td><td>null</td><td>null</td><td>null</td><td>null</td><td>null</td></tr><tr><td>2015</td><td>12</td><td>31</td><td>4</td><td>&quot;B6&quot;</td><td>745</td><td>&quot;N828JB&quot;</td><td>&quot;JFK&quot;</td><td>&quot;PSE&quot;</td><td>2359</td><td>2355</td><td>-4</td><td>17</td><td>12</td><td>227</td><td>215</td><td>195</td><td>1617</td><td>427</td><td>3</td><td>446</td><td>430</td><td>-16</td><td>0</td><td>0</td><td>null</td><td>null</td><td>null</td><td>null</td><td>null</td><td>null</td></tr><tr><td>2015</td><td>12</td><td>31</td><td>4</td><td>&quot;B6&quot;</td><td>1503</td><td>&quot;N913JB&quot;</td><td>&quot;JFK&quot;</td><td>&quot;SJU&quot;</td><td>2359</td><td>2350</td><td>-9</td><td>17</td><td>7</td><td>221</td><td>222</td><td>197</td><td>1598</td><td>424</td><td>8</td><td>440</td><td>432</td><td>-8</td><td>0</td><td>0</td><td>null</td><td>null</td><td>null</td><td>null</td><td>null</td><td>null</td></tr><tr><td>2015</td><td>12</td><td>31</td><td>4</td><td>&quot;B6&quot;</td><td>333</td><td>&quot;N527JB&quot;</td><td>&quot;MCO&quot;</td><td>&quot;SJU&quot;</td><td>2359</td><td>2353</td><td>-6</td><td>10</td><td>3</td><td>161</td><td>157</td><td>144</td><td>1189</td><td>327</td><td>3</td><td>340</td><td>330</td><td>-10</td><td>0</td><td>0</td><td>null</td><td>null</td><td>null</td><td>null</td><td>null</td><td>null</td></tr><tr><td>2015</td><td>12</td><td>31</td><td>4</td><td>&quot;B6&quot;</td><td>839</td><td>&quot;N534JB&quot;</td><td>&quot;JFK&quot;</td><td>&quot;BQN&quot;</td><td>2359</td><td>14</td><td>15</td><td>14</td><td>28</td><td>221</td><td>208</td><td>189</td><td>1576</td><td>437</td><td>5</td><td>440</td><td>442</td><td>2</td><td>0</td><td>0</td><td>null</td><td>null</td><td>null</td><td>null</td><td>null</td><td>null</td></tr></tbody></table></div>"
            ]
          },
          "metadata": {},
          "execution_count": 101
        }
      ]
    },
    {
      "cell_type": "code",
      "source": [
        "df1"
      ],
      "metadata": {
        "colab": {
          "base_uri": "https://localhost:8080/",
          "height": 148
        },
        "id": "kw0-w0yd6ift",
        "outputId": "f2a317d3-06cb-401e-9766-a6f0c265cefd"
      },
      "id": "kw0-w0yd6ift",
      "execution_count": 102,
      "outputs": [
        {
          "output_type": "execute_result",
          "data": {
            "text/plain": [
              "<LazyFrame at 0x7C1506A71390>"
            ],
            "text/html": [
              "<h4>NAIVE QUERY PLAN</h4><p>run <b>LazyFrame.show_graph()</b> to see the optimized version</p><?xml version=\"1.0\" encoding=\"UTF-8\" standalone=\"no\"?>\n",
              "<!DOCTYPE svg PUBLIC \"-//W3C//DTD SVG 1.1//EN\"\n",
              " \"http://www.w3.org/Graphics/SVG/1.1/DTD/svg11.dtd\">\n",
              "<!-- Generated by graphviz version 2.43.0 (0)\n",
              " -->\n",
              "<!-- Title: polars_query Pages: 1 -->\n",
              "<svg width=\"464pt\" height=\"46pt\"\n",
              " viewBox=\"0.00 0.00 464.00 46.00\" xmlns=\"http://www.w3.org/2000/svg\" xmlns:xlink=\"http://www.w3.org/1999/xlink\">\n",
              "<g id=\"graph0\" class=\"graph\" transform=\"scale(1 1) rotate(0) translate(4 42)\">\n",
              "<title>polars_query</title>\n",
              "<polygon fill=\"white\" stroke=\"transparent\" points=\"-4,4 -4,-42 460,-42 460,4 -4,4\"/>\n",
              "<!-- p1 -->\n",
              "<g id=\"node1\" class=\"node\">\n",
              "<title>p1</title>\n",
              "<polygon fill=\"none\" stroke=\"black\" points=\"456,-38 0,-38 0,0 456,0 456,-38\"/>\n",
              "<text text-anchor=\"middle\" x=\"228\" y=\"-22.8\" font-family=\"Times,serif\" font-size=\"14.00\">Parquet SCAN [/content/drive/MyDrive/polars/seccion04/vuelos/vuelos.parquet]</text>\n",
              "<text text-anchor=\"middle\" x=\"228\" y=\"-7.8\" font-family=\"Times,serif\" font-size=\"14.00\">π */31;</text>\n",
              "</g>\n",
              "</g>\n",
              "</svg>\n"
            ]
          },
          "metadata": {},
          "execution_count": 102
        }
      ]
    },
    {
      "cell_type": "code",
      "source": [
        "df2"
      ],
      "metadata": {
        "colab": {
          "base_uri": "https://localhost:8080/",
          "height": 192
        },
        "id": "s06yrWBm6maV",
        "outputId": "19cfd5e8-e05f-4ab0-97f4-4269d7362157"
      },
      "id": "s06yrWBm6maV",
      "execution_count": 103,
      "outputs": [
        {
          "output_type": "execute_result",
          "data": {
            "text/plain": [
              "shape: (3, 2)\n",
              "┌─────┬────────┐\n",
              "│ id  ┆ nombre │\n",
              "│ --- ┆ ---    │\n",
              "│ i64 ┆ str    │\n",
              "╞═════╪════════╡\n",
              "│ 1   ┆ Rosa   │\n",
              "│ 2   ┆ Jose   │\n",
              "│ 3   ┆ Pedro  │\n",
              "└─────┴────────┘"
            ],
            "text/html": [
              "<div><style>\n",
              ".dataframe > thead > tr,\n",
              ".dataframe > tbody > tr {\n",
              "  text-align: right;\n",
              "  white-space: pre-wrap;\n",
              "}\n",
              "</style>\n",
              "<small>shape: (3, 2)</small><table border=\"1\" class=\"dataframe\"><thead><tr><th>id</th><th>nombre</th></tr><tr><td>i64</td><td>str</td></tr></thead><tbody><tr><td>1</td><td>&quot;Rosa&quot;</td></tr><tr><td>2</td><td>&quot;Jose&quot;</td></tr><tr><td>3</td><td>&quot;Pedro&quot;</td></tr></tbody></table></div>"
            ]
          },
          "metadata": {},
          "execution_count": 103
        }
      ]
    },
    {
      "cell_type": "code",
      "source": [
        "df3.collect().head(2)"
      ],
      "metadata": {
        "colab": {
          "base_uri": "https://localhost:8080/",
          "height": 319
        },
        "id": "5WVNTwsH6oxu",
        "outputId": "3261c4f1-71e2-41b7-b632-0e79312147e9"
      },
      "id": "5WVNTwsH6oxu",
      "execution_count": 107,
      "outputs": [
        {
          "output_type": "execute_result",
          "data": {
            "text/plain": [
              "shape: (2, 16)\n",
              "┌───────────┬───────────┬───────────┬───────────┬───┬───────────┬───────────┬───────────┬──────────┐\n",
              "│ video_id  ┆ trending_ ┆ title     ┆ channel_t ┆ … ┆ comments_ ┆ ratings_d ┆ video_err ┆ descript │\n",
              "│ ---       ┆ date      ┆ ---       ┆ itle      ┆   ┆ disabled  ┆ isabled   ┆ or_or_rem ┆ ion      │\n",
              "│ str       ┆ ---       ┆ str       ┆ ---       ┆   ┆ ---       ┆ ---       ┆ oved      ┆ ---      │\n",
              "│           ┆ str       ┆           ┆ str       ┆   ┆ bool      ┆ bool      ┆ ---       ┆ str      │\n",
              "│           ┆           ┆           ┆           ┆   ┆           ┆           ┆ bool      ┆          │\n",
              "╞═══════════╪═══════════╪═══════════╪═══════════╪═══╪═══════════╪═══════════╪═══════════╪══════════╡\n",
              "│ 2kyS6SvSY ┆ 17.14.11  ┆ WE WANT   ┆ CaseyNeis ┆ … ┆ false     ┆ false     ┆ false     ┆ SHANTELL │\n",
              "│ SE        ┆           ┆ TO TALK   ┆ tat       ┆   ┆           ┆           ┆           ┆ 'S       │\n",
              "│           ┆           ┆ ABOUT OUR ┆           ┆   ┆           ┆           ┆           ┆ CHANNEL  │\n",
              "│           ┆           ┆ MARR…     ┆           ┆   ┆           ┆           ┆           ┆ - https: │\n",
              "│           ┆           ┆           ┆           ┆   ┆           ┆           ┆           ┆ //w…     │\n",
              "│ 1ZAPwfrtA ┆ 17.14.11  ┆ The Trump ┆ LastWeekT ┆ … ┆ false     ┆ false     ┆ false     ┆ One year │\n",
              "│ FY        ┆           ┆ Presidenc ┆ onight    ┆   ┆           ┆           ┆           ┆ after    │\n",
              "│           ┆           ┆ y: Last   ┆           ┆   ┆           ┆           ┆           ┆ the pres │\n",
              "│           ┆           ┆ Wee…      ┆           ┆   ┆           ┆           ┆           ┆ identia… │\n",
              "└───────────┴───────────┴───────────┴───────────┴───┴───────────┴───────────┴───────────┴──────────┘"
            ],
            "text/html": [
              "<div><style>\n",
              ".dataframe > thead > tr,\n",
              ".dataframe > tbody > tr {\n",
              "  text-align: right;\n",
              "  white-space: pre-wrap;\n",
              "}\n",
              "</style>\n",
              "<small>shape: (2, 16)</small><table border=\"1\" class=\"dataframe\"><thead><tr><th>video_id</th><th>trending_date</th><th>title</th><th>channel_title</th><th>category_id</th><th>publish_time</th><th>tags</th><th>views</th><th>likes</th><th>dislikes</th><th>comment_count</th><th>thumbnail_link</th><th>comments_disabled</th><th>ratings_disabled</th><th>video_error_or_removed</th><th>description</th></tr><tr><td>str</td><td>str</td><td>str</td><td>str</td><td>i64</td><td>str</td><td>str</td><td>i64</td><td>i64</td><td>i64</td><td>i64</td><td>str</td><td>bool</td><td>bool</td><td>bool</td><td>str</td></tr></thead><tbody><tr><td>&quot;2kyS6SvSYSE&quot;</td><td>&quot;17.14.11&quot;</td><td>&quot;WE WANT TO TALK ABOUT OUR MARR…</td><td>&quot;CaseyNeistat&quot;</td><td>22</td><td>&quot;2017-11-13T17:13:01.000Z&quot;</td><td>&quot;SHANtell martin&quot;</td><td>748374</td><td>57527</td><td>2966</td><td>15954</td><td>&quot;https://i.ytimg.com/vi/2kyS6Sv…</td><td>false</td><td>false</td><td>false</td><td>&quot;SHANTELL&#x27;S CHANNEL - https://w…</td></tr><tr><td>&quot;1ZAPwfrtAFY&quot;</td><td>&quot;17.14.11&quot;</td><td>&quot;The Trump Presidency: Last Wee…</td><td>&quot;LastWeekTonight&quot;</td><td>24</td><td>&quot;2017-11-13T07:30:00.000Z&quot;</td><td>&quot;last week tonight trump presid…</td><td>2418783</td><td>97185</td><td>6146</td><td>12703</td><td>&quot;https://i.ytimg.com/vi/1ZAPwfr…</td><td>false</td><td>false</td><td>false</td><td>&quot;One year after the presidentia…</td></tr></tbody></table></div>"
            ]
          },
          "metadata": {},
          "execution_count": 107
        }
      ]
    },
    {
      "cell_type": "code",
      "source": [
        "df3.columns"
      ],
      "metadata": {
        "colab": {
          "base_uri": "https://localhost:8080/"
        },
        "id": "ZX3trafO6z_4",
        "outputId": "8664710d-2cf8-4865-fed1-c26671c0f348"
      },
      "id": "ZX3trafO6z_4",
      "execution_count": 108,
      "outputs": [
        {
          "output_type": "stream",
          "name": "stderr",
          "text": [
            "<ipython-input-108-5354ac78f1f0>:1: PerformanceWarning: Determining the column names of a LazyFrame requires resolving its schema, which is a potentially expensive operation. Use `LazyFrame.collect_schema().names()` to get the column names without this warning.\n",
            "  df3.columns\n"
          ]
        },
        {
          "output_type": "execute_result",
          "data": {
            "text/plain": [
              "['video_id',\n",
              " 'trending_date',\n",
              " 'title',\n",
              " 'channel_title',\n",
              " 'category_id',\n",
              " 'publish_time',\n",
              " 'tags',\n",
              " 'views',\n",
              " 'likes',\n",
              " 'dislikes',\n",
              " 'comment_count',\n",
              " 'thumbnail_link',\n",
              " 'comments_disabled',\n",
              " 'ratings_disabled',\n",
              " 'video_error_or_removed',\n",
              " 'description']"
            ]
          },
          "metadata": {},
          "execution_count": 108
        }
      ]
    },
    {
      "cell_type": "code",
      "source": [
        "df1.collect().head(3)"
      ],
      "metadata": {
        "colab": {
          "base_uri": "https://localhost:8080/",
          "height": 212
        },
        "id": "Q5lT0iiO64vH",
        "outputId": "8a82a449-038d-4580-b381-a8acf4561cb6"
      },
      "id": "Q5lT0iiO64vH",
      "execution_count": 110,
      "outputs": [
        {
          "output_type": "execute_result",
          "data": {
            "text/plain": [
              "shape: (3, 31)\n",
              "┌──────┬───────┬─────┬─────────────┬───┬──────────────┬──────────────┬──────────────┬──────────────┐\n",
              "│ YEAR ┆ MONTH ┆ DAY ┆ DAY_OF_WEEK ┆ … ┆ SECURITY_DEL ┆ AIRLINE_DELA ┆ LATE_AIRCRAF ┆ WEATHER_DELA │\n",
              "│ ---  ┆ ---   ┆ --- ┆ ---         ┆   ┆ AY           ┆ Y            ┆ T_DELAY      ┆ Y            │\n",
              "│ i32  ┆ i32   ┆ i32 ┆ i32         ┆   ┆ ---          ┆ ---          ┆ ---          ┆ ---          │\n",
              "│      ┆       ┆     ┆             ┆   ┆ i32          ┆ i32          ┆ i32          ┆ i32          │\n",
              "╞══════╪═══════╪═════╪═════════════╪═══╪══════════════╪══════════════╪══════════════╪══════════════╡\n",
              "│ 2015 ┆ 1     ┆ 1   ┆ 4           ┆ … ┆ null         ┆ null         ┆ null         ┆ null         │\n",
              "│ 2015 ┆ 1     ┆ 1   ┆ 4           ┆ … ┆ null         ┆ null         ┆ null         ┆ null         │\n",
              "│ 2015 ┆ 1     ┆ 1   ┆ 4           ┆ … ┆ null         ┆ null         ┆ null         ┆ null         │\n",
              "└──────┴───────┴─────┴─────────────┴───┴──────────────┴──────────────┴──────────────┴──────────────┘"
            ],
            "text/html": [
              "<div><style>\n",
              ".dataframe > thead > tr,\n",
              ".dataframe > tbody > tr {\n",
              "  text-align: right;\n",
              "  white-space: pre-wrap;\n",
              "}\n",
              "</style>\n",
              "<small>shape: (3, 31)</small><table border=\"1\" class=\"dataframe\"><thead><tr><th>YEAR</th><th>MONTH</th><th>DAY</th><th>DAY_OF_WEEK</th><th>AIRLINE</th><th>FLIGHT_NUMBER</th><th>TAIL_NUMBER</th><th>ORIGIN_AIRPORT</th><th>DESTINATION_AIRPORT</th><th>SCHEDULED_DEPARTURE</th><th>DEPARTURE_TIME</th><th>DEPARTURE_DELAY</th><th>TAXI_OUT</th><th>WHEELS_OFF</th><th>SCHEDULED_TIME</th><th>ELAPSED_TIME</th><th>AIR_TIME</th><th>DISTANCE</th><th>WHEELS_ON</th><th>TAXI_IN</th><th>SCHEDULED_ARRIVAL</th><th>ARRIVAL_TIME</th><th>ARRIVAL_DELAY</th><th>DIVERTED</th><th>CANCELLED</th><th>CANCELLATION_REASON</th><th>AIR_SYSTEM_DELAY</th><th>SECURITY_DELAY</th><th>AIRLINE_DELAY</th><th>LATE_AIRCRAFT_DELAY</th><th>WEATHER_DELAY</th></tr><tr><td>i32</td><td>i32</td><td>i32</td><td>i32</td><td>str</td><td>i32</td><td>str</td><td>str</td><td>str</td><td>i32</td><td>i32</td><td>i32</td><td>i32</td><td>i32</td><td>i32</td><td>i32</td><td>i32</td><td>i32</td><td>i32</td><td>i32</td><td>i32</td><td>i32</td><td>i32</td><td>i32</td><td>i32</td><td>str</td><td>i32</td><td>i32</td><td>i32</td><td>i32</td><td>i32</td></tr></thead><tbody><tr><td>2015</td><td>1</td><td>1</td><td>4</td><td>&quot;AS&quot;</td><td>98</td><td>&quot;N407AS&quot;</td><td>&quot;ANC&quot;</td><td>&quot;SEA&quot;</td><td>5</td><td>2354</td><td>-11</td><td>21</td><td>15</td><td>205</td><td>194</td><td>169</td><td>1448</td><td>404</td><td>4</td><td>430</td><td>408</td><td>-22</td><td>0</td><td>0</td><td>null</td><td>null</td><td>null</td><td>null</td><td>null</td><td>null</td></tr><tr><td>2015</td><td>1</td><td>1</td><td>4</td><td>&quot;AA&quot;</td><td>2336</td><td>&quot;N3KUAA&quot;</td><td>&quot;LAX&quot;</td><td>&quot;PBI&quot;</td><td>10</td><td>2</td><td>-8</td><td>12</td><td>14</td><td>280</td><td>279</td><td>263</td><td>2330</td><td>737</td><td>4</td><td>750</td><td>741</td><td>-9</td><td>0</td><td>0</td><td>null</td><td>null</td><td>null</td><td>null</td><td>null</td><td>null</td></tr><tr><td>2015</td><td>1</td><td>1</td><td>4</td><td>&quot;US&quot;</td><td>840</td><td>&quot;N171US&quot;</td><td>&quot;SFO&quot;</td><td>&quot;CLT&quot;</td><td>20</td><td>18</td><td>-2</td><td>16</td><td>34</td><td>286</td><td>293</td><td>266</td><td>2296</td><td>800</td><td>11</td><td>806</td><td>811</td><td>5</td><td>0</td><td>0</td><td>null</td><td>null</td><td>null</td><td>null</td><td>null</td><td>null</td></tr></tbody></table></div>"
            ]
          },
          "metadata": {},
          "execution_count": 110
        }
      ]
    },
    {
      "cell_type": "code",
      "source": [
        "df.lazy()"
      ],
      "metadata": {
        "colab": {
          "base_uri": "https://localhost:8080/",
          "height": 168
        },
        "id": "v09_63b67gKV",
        "outputId": "b149c983-09d6-4087-9e77-633f9abf8bac"
      },
      "id": "v09_63b67gKV",
      "execution_count": 111,
      "outputs": [
        {
          "output_type": "execute_result",
          "data": {
            "text/plain": [
              "<LazyFrame at 0x7C1506AC1240>"
            ],
            "text/html": [
              "<h4>NAIVE QUERY PLAN</h4><p>run <b>LazyFrame.show_graph()</b> to see the optimized version</p><?xml version=\"1.0\" encoding=\"UTF-8\" standalone=\"no\"?>\n",
              "<!DOCTYPE svg PUBLIC \"-//W3C//DTD SVG 1.1//EN\"\n",
              " \"http://www.w3.org/Graphics/SVG/1.1/DTD/svg11.dtd\">\n",
              "<!-- Generated by graphviz version 2.43.0 (0)\n",
              " -->\n",
              "<!-- Title: polars_query Pages: 1 -->\n",
              "<svg width=\"67pt\" height=\"61pt\"\n",
              " viewBox=\"0.00 0.00 67.00 61.00\" xmlns=\"http://www.w3.org/2000/svg\" xmlns:xlink=\"http://www.w3.org/1999/xlink\">\n",
              "<g id=\"graph0\" class=\"graph\" transform=\"scale(1 1) rotate(0) translate(4 57)\">\n",
              "<title>polars_query</title>\n",
              "<polygon fill=\"white\" stroke=\"transparent\" points=\"-4,4 -4,-57 63,-57 63,4 -4,4\"/>\n",
              "<!-- p1 -->\n",
              "<g id=\"node1\" class=\"node\">\n",
              "<title>p1</title>\n",
              "<polygon fill=\"none\" stroke=\"black\" points=\"59,-53 0,-53 0,0 59,0 59,-53\"/>\n",
              "<text text-anchor=\"middle\" x=\"29.5\" y=\"-37.8\" font-family=\"Times,serif\" font-size=\"14.00\">TABLE</text>\n",
              "<text text-anchor=\"middle\" x=\"29.5\" y=\"-22.8\" font-family=\"Times,serif\" font-size=\"14.00\">π */31;</text>\n",
              "<text text-anchor=\"middle\" x=\"29.5\" y=\"-7.8\" font-family=\"Times,serif\" font-size=\"14.00\">σ None</text>\n",
              "</g>\n",
              "</g>\n",
              "</svg>\n"
            ]
          },
          "metadata": {},
          "execution_count": 111
        }
      ]
    },
    {
      "cell_type": "code",
      "source": [
        "df1.lazy()"
      ],
      "metadata": {
        "colab": {
          "base_uri": "https://localhost:8080/",
          "height": 148
        },
        "id": "i5olhxPB7j8G",
        "outputId": "fb28e80b-f9eb-4632-edba-8b93008fa2da"
      },
      "id": "i5olhxPB7j8G",
      "execution_count": 112,
      "outputs": [
        {
          "output_type": "execute_result",
          "data": {
            "text/plain": [
              "<LazyFrame at 0x7C1506A71390>"
            ],
            "text/html": [
              "<h4>NAIVE QUERY PLAN</h4><p>run <b>LazyFrame.show_graph()</b> to see the optimized version</p><?xml version=\"1.0\" encoding=\"UTF-8\" standalone=\"no\"?>\n",
              "<!DOCTYPE svg PUBLIC \"-//W3C//DTD SVG 1.1//EN\"\n",
              " \"http://www.w3.org/Graphics/SVG/1.1/DTD/svg11.dtd\">\n",
              "<!-- Generated by graphviz version 2.43.0 (0)\n",
              " -->\n",
              "<!-- Title: polars_query Pages: 1 -->\n",
              "<svg width=\"464pt\" height=\"46pt\"\n",
              " viewBox=\"0.00 0.00 464.00 46.00\" xmlns=\"http://www.w3.org/2000/svg\" xmlns:xlink=\"http://www.w3.org/1999/xlink\">\n",
              "<g id=\"graph0\" class=\"graph\" transform=\"scale(1 1) rotate(0) translate(4 42)\">\n",
              "<title>polars_query</title>\n",
              "<polygon fill=\"white\" stroke=\"transparent\" points=\"-4,4 -4,-42 460,-42 460,4 -4,4\"/>\n",
              "<!-- p1 -->\n",
              "<g id=\"node1\" class=\"node\">\n",
              "<title>p1</title>\n",
              "<polygon fill=\"none\" stroke=\"black\" points=\"456,-38 0,-38 0,0 456,0 456,-38\"/>\n",
              "<text text-anchor=\"middle\" x=\"228\" y=\"-22.8\" font-family=\"Times,serif\" font-size=\"14.00\">Parquet SCAN [/content/drive/MyDrive/polars/seccion04/vuelos/vuelos.parquet]</text>\n",
              "<text text-anchor=\"middle\" x=\"228\" y=\"-7.8\" font-family=\"Times,serif\" font-size=\"14.00\">π */31;</text>\n",
              "</g>\n",
              "</g>\n",
              "</svg>\n"
            ]
          },
          "metadata": {},
          "execution_count": 112
        }
      ]
    },
    {
      "cell_type": "code",
      "source": [
        "df2.lazy()"
      ],
      "metadata": {
        "colab": {
          "base_uri": "https://localhost:8080/",
          "height": 168
        },
        "id": "HO07tXxI8wMI",
        "outputId": "1ba24f44-2c02-430e-ef8b-f27abc2bf20a"
      },
      "id": "HO07tXxI8wMI",
      "execution_count": 117,
      "outputs": [
        {
          "output_type": "execute_result",
          "data": {
            "text/plain": [
              "<LazyFrame at 0x7C15069A3370>"
            ],
            "text/html": [
              "<h4>NAIVE QUERY PLAN</h4><p>run <b>LazyFrame.show_graph()</b> to see the optimized version</p><?xml version=\"1.0\" encoding=\"UTF-8\" standalone=\"no\"?>\n",
              "<!DOCTYPE svg PUBLIC \"-//W3C//DTD SVG 1.1//EN\"\n",
              " \"http://www.w3.org/Graphics/SVG/1.1/DTD/svg11.dtd\">\n",
              "<!-- Generated by graphviz version 2.43.0 (0)\n",
              " -->\n",
              "<!-- Title: polars_query Pages: 1 -->\n",
              "<svg width=\"67pt\" height=\"61pt\"\n",
              " viewBox=\"0.00 0.00 67.00 61.00\" xmlns=\"http://www.w3.org/2000/svg\" xmlns:xlink=\"http://www.w3.org/1999/xlink\">\n",
              "<g id=\"graph0\" class=\"graph\" transform=\"scale(1 1) rotate(0) translate(4 57)\">\n",
              "<title>polars_query</title>\n",
              "<polygon fill=\"white\" stroke=\"transparent\" points=\"-4,4 -4,-57 63,-57 63,4 -4,4\"/>\n",
              "<!-- p1 -->\n",
              "<g id=\"node1\" class=\"node\">\n",
              "<title>p1</title>\n",
              "<polygon fill=\"none\" stroke=\"black\" points=\"59,-53 0,-53 0,0 59,0 59,-53\"/>\n",
              "<text text-anchor=\"middle\" x=\"29.5\" y=\"-37.8\" font-family=\"Times,serif\" font-size=\"14.00\">TABLE</text>\n",
              "<text text-anchor=\"middle\" x=\"29.5\" y=\"-22.8\" font-family=\"Times,serif\" font-size=\"14.00\">π */2;</text>\n",
              "<text text-anchor=\"middle\" x=\"29.5\" y=\"-7.8\" font-family=\"Times,serif\" font-size=\"14.00\">σ None</text>\n",
              "</g>\n",
              "</g>\n",
              "</svg>\n"
            ]
          },
          "metadata": {},
          "execution_count": 117
        }
      ]
    },
    {
      "cell_type": "code",
      "source": [
        "df3.lazy()"
      ],
      "metadata": {
        "colab": {
          "base_uri": "https://localhost:8080/",
          "height": 148
        },
        "id": "tH_SdKR18y-n",
        "outputId": "d80dd863-6204-4cc2-a7f1-0a09b0f067fd"
      },
      "id": "tH_SdKR18y-n",
      "execution_count": 118,
      "outputs": [
        {
          "output_type": "execute_result",
          "data": {
            "text/plain": [
              "<LazyFrame at 0x7C1506A740A0>"
            ],
            "text/html": [
              "<h4>NAIVE QUERY PLAN</h4><p>run <b>LazyFrame.show_graph()</b> to see the optimized version</p><?xml version=\"1.0\" encoding=\"UTF-8\" standalone=\"no\"?>\n",
              "<!DOCTYPE svg PUBLIC \"-//W3C//DTD SVG 1.1//EN\"\n",
              " \"http://www.w3.org/Graphics/SVG/1.1/DTD/svg11.dtd\">\n",
              "<!-- Generated by graphviz version 2.43.0 (0)\n",
              " -->\n",
              "<!-- Title: polars_query Pages: 1 -->\n",
              "<svg width=\"394pt\" height=\"46pt\"\n",
              " viewBox=\"0.00 0.00 394.00 46.00\" xmlns=\"http://www.w3.org/2000/svg\" xmlns:xlink=\"http://www.w3.org/1999/xlink\">\n",
              "<g id=\"graph0\" class=\"graph\" transform=\"scale(1 1) rotate(0) translate(4 42)\">\n",
              "<title>polars_query</title>\n",
              "<polygon fill=\"white\" stroke=\"transparent\" points=\"-4,4 -4,-42 390,-42 390,4 -4,4\"/>\n",
              "<!-- p1 -->\n",
              "<g id=\"node1\" class=\"node\">\n",
              "<title>p1</title>\n",
              "<polygon fill=\"none\" stroke=\"black\" points=\"386,-38 0,-38 0,0 386,0 386,-38\"/>\n",
              "<text text-anchor=\"middle\" x=\"193\" y=\"-22.8\" font-family=\"Times,serif\" font-size=\"14.00\">Csv SCAN [/content/drive/MyDrive/polars/seccion03/dataCSV.csv]</text>\n",
              "<text text-anchor=\"middle\" x=\"193\" y=\"-7.8\" font-family=\"Times,serif\" font-size=\"14.00\">π */16;</text>\n",
              "</g>\n",
              "</g>\n",
              "</svg>\n"
            ]
          },
          "metadata": {},
          "execution_count": 118
        }
      ]
    },
    {
      "cell_type": "code",
      "source": [
        "df4.lazy()"
      ],
      "metadata": {
        "colab": {
          "base_uri": "https://localhost:8080/",
          "height": 168
        },
        "id": "EtoxcIHY81-I",
        "outputId": "920b3b8e-8d13-406c-885c-a4a9bd60665c"
      },
      "id": "EtoxcIHY81-I",
      "execution_count": 119,
      "outputs": [
        {
          "output_type": "execute_result",
          "data": {
            "text/plain": [
              "<LazyFrame at 0x7C150660E440>"
            ],
            "text/html": [
              "<h4>NAIVE QUERY PLAN</h4><p>run <b>LazyFrame.show_graph()</b> to see the optimized version</p><?xml version=\"1.0\" encoding=\"UTF-8\" standalone=\"no\"?>\n",
              "<!DOCTYPE svg PUBLIC \"-//W3C//DTD SVG 1.1//EN\"\n",
              " \"http://www.w3.org/Graphics/SVG/1.1/DTD/svg11.dtd\">\n",
              "<!-- Generated by graphviz version 2.43.0 (0)\n",
              " -->\n",
              "<!-- Title: polars_query Pages: 1 -->\n",
              "<svg width=\"67pt\" height=\"61pt\"\n",
              " viewBox=\"0.00 0.00 67.00 61.00\" xmlns=\"http://www.w3.org/2000/svg\" xmlns:xlink=\"http://www.w3.org/1999/xlink\">\n",
              "<g id=\"graph0\" class=\"graph\" transform=\"scale(1 1) rotate(0) translate(4 57)\">\n",
              "<title>polars_query</title>\n",
              "<polygon fill=\"white\" stroke=\"transparent\" points=\"-4,4 -4,-57 63,-57 63,4 -4,4\"/>\n",
              "<!-- p1 -->\n",
              "<g id=\"node1\" class=\"node\">\n",
              "<title>p1</title>\n",
              "<polygon fill=\"none\" stroke=\"black\" points=\"59,-53 0,-53 0,0 59,0 59,-53\"/>\n",
              "<text text-anchor=\"middle\" x=\"29.5\" y=\"-37.8\" font-family=\"Times,serif\" font-size=\"14.00\">TABLE</text>\n",
              "<text text-anchor=\"middle\" x=\"29.5\" y=\"-22.8\" font-family=\"Times,serif\" font-size=\"14.00\">π */31;</text>\n",
              "<text text-anchor=\"middle\" x=\"29.5\" y=\"-7.8\" font-family=\"Times,serif\" font-size=\"14.00\">σ None</text>\n",
              "</g>\n",
              "</g>\n",
              "</svg>\n"
            ]
          },
          "metadata": {},
          "execution_count": 119
        }
      ]
    },
    {
      "cell_type": "code",
      "source": [
        "lf = pl.LazyFrame(\n",
        "    {\n",
        "        'id': [1,2,3],\n",
        "        'nombre':['juan','pedro','maria']\n",
        "    }\n",
        ")\n"
      ],
      "metadata": {
        "id": "qMl88cS6sKNd"
      },
      "id": "qMl88cS6sKNd",
      "execution_count": 90,
      "outputs": []
    },
    {
      "cell_type": "code",
      "source": [
        "lf"
      ],
      "metadata": {
        "colab": {
          "base_uri": "https://localhost:8080/",
          "height": 168
        },
        "id": "84TCeDtC49a2",
        "outputId": "0fb203de-be9b-45c6-e371-38f4dd518c5f"
      },
      "id": "84TCeDtC49a2",
      "execution_count": 91,
      "outputs": [
        {
          "output_type": "execute_result",
          "data": {
            "text/plain": [
              "<LazyFrame at 0x7C150660C610>"
            ],
            "text/html": [
              "<h4>NAIVE QUERY PLAN</h4><p>run <b>LazyFrame.show_graph()</b> to see the optimized version</p><?xml version=\"1.0\" encoding=\"UTF-8\" standalone=\"no\"?>\n",
              "<!DOCTYPE svg PUBLIC \"-//W3C//DTD SVG 1.1//EN\"\n",
              " \"http://www.w3.org/Graphics/SVG/1.1/DTD/svg11.dtd\">\n",
              "<!-- Generated by graphviz version 2.43.0 (0)\n",
              " -->\n",
              "<!-- Title: polars_query Pages: 1 -->\n",
              "<svg width=\"67pt\" height=\"61pt\"\n",
              " viewBox=\"0.00 0.00 67.00 61.00\" xmlns=\"http://www.w3.org/2000/svg\" xmlns:xlink=\"http://www.w3.org/1999/xlink\">\n",
              "<g id=\"graph0\" class=\"graph\" transform=\"scale(1 1) rotate(0) translate(4 57)\">\n",
              "<title>polars_query</title>\n",
              "<polygon fill=\"white\" stroke=\"transparent\" points=\"-4,4 -4,-57 63,-57 63,4 -4,4\"/>\n",
              "<!-- p1 -->\n",
              "<g id=\"node1\" class=\"node\">\n",
              "<title>p1</title>\n",
              "<polygon fill=\"none\" stroke=\"black\" points=\"59,-53 0,-53 0,0 59,0 59,-53\"/>\n",
              "<text text-anchor=\"middle\" x=\"29.5\" y=\"-37.8\" font-family=\"Times,serif\" font-size=\"14.00\">TABLE</text>\n",
              "<text text-anchor=\"middle\" x=\"29.5\" y=\"-22.8\" font-family=\"Times,serif\" font-size=\"14.00\">π */2;</text>\n",
              "<text text-anchor=\"middle\" x=\"29.5\" y=\"-7.8\" font-family=\"Times,serif\" font-size=\"14.00\">σ None</text>\n",
              "</g>\n",
              "</g>\n",
              "</svg>\n"
            ]
          },
          "metadata": {},
          "execution_count": 91
        }
      ]
    },
    {
      "cell_type": "code",
      "source": [
        "lf.collect()"
      ],
      "metadata": {
        "colab": {
          "base_uri": "https://localhost:8080/",
          "height": 192
        },
        "id": "T6VjWFBu5FTp",
        "outputId": "c89eb0e5-70bf-4d7d-c52f-d21c1eadabf2"
      },
      "id": "T6VjWFBu5FTp",
      "execution_count": 92,
      "outputs": [
        {
          "output_type": "execute_result",
          "data": {
            "text/plain": [
              "shape: (3, 2)\n",
              "┌─────┬────────┐\n",
              "│ id  ┆ nombre │\n",
              "│ --- ┆ ---    │\n",
              "│ i64 ┆ str    │\n",
              "╞═════╪════════╡\n",
              "│ 1   ┆ juan   │\n",
              "│ 2   ┆ pedro  │\n",
              "│ 3   ┆ maria  │\n",
              "└─────┴────────┘"
            ],
            "text/html": [
              "<div><style>\n",
              ".dataframe > thead > tr,\n",
              ".dataframe > tbody > tr {\n",
              "  text-align: right;\n",
              "  white-space: pre-wrap;\n",
              "}\n",
              "</style>\n",
              "<small>shape: (3, 2)</small><table border=\"1\" class=\"dataframe\"><thead><tr><th>id</th><th>nombre</th></tr><tr><td>i64</td><td>str</td></tr></thead><tbody><tr><td>1</td><td>&quot;juan&quot;</td></tr><tr><td>2</td><td>&quot;pedro&quot;</td></tr><tr><td>3</td><td>&quot;maria&quot;</td></tr></tbody></table></div>"
            ]
          },
          "metadata": {},
          "execution_count": 92
        }
      ]
    },
    {
      "cell_type": "code",
      "source": [
        "df4 = pl.read_parquet('/content/drive/MyDrive/polars/seccion04/vuelos/vuelos.parquet')\n",
        "df4"
      ],
      "metadata": {
        "colab": {
          "base_uri": "https://localhost:8080/",
          "height": 463
        },
        "id": "EwJZTQVj5Ibq",
        "outputId": "27ee5756-9f3c-427a-87e9-cc8e358ac88c"
      },
      "id": "EwJZTQVj5Ibq",
      "execution_count": 94,
      "outputs": [
        {
          "output_type": "execute_result",
          "data": {
            "text/plain": [
              "shape: (5_819_079, 31)\n",
              "┌──────┬───────┬─────┬─────────────┬───┬──────────────┬──────────────┬──────────────┬──────────────┐\n",
              "│ YEAR ┆ MONTH ┆ DAY ┆ DAY_OF_WEEK ┆ … ┆ SECURITY_DEL ┆ AIRLINE_DELA ┆ LATE_AIRCRAF ┆ WEATHER_DELA │\n",
              "│ ---  ┆ ---   ┆ --- ┆ ---         ┆   ┆ AY           ┆ Y            ┆ T_DELAY      ┆ Y            │\n",
              "│ i32  ┆ i32   ┆ i32 ┆ i32         ┆   ┆ ---          ┆ ---          ┆ ---          ┆ ---          │\n",
              "│      ┆       ┆     ┆             ┆   ┆ i32          ┆ i32          ┆ i32          ┆ i32          │\n",
              "╞══════╪═══════╪═════╪═════════════╪═══╪══════════════╪══════════════╪══════════════╪══════════════╡\n",
              "│ 2015 ┆ 1     ┆ 1   ┆ 4           ┆ … ┆ null         ┆ null         ┆ null         ┆ null         │\n",
              "│ 2015 ┆ 1     ┆ 1   ┆ 4           ┆ … ┆ null         ┆ null         ┆ null         ┆ null         │\n",
              "│ 2015 ┆ 1     ┆ 1   ┆ 4           ┆ … ┆ null         ┆ null         ┆ null         ┆ null         │\n",
              "│ 2015 ┆ 1     ┆ 1   ┆ 4           ┆ … ┆ null         ┆ null         ┆ null         ┆ null         │\n",
              "│ 2015 ┆ 1     ┆ 1   ┆ 4           ┆ … ┆ null         ┆ null         ┆ null         ┆ null         │\n",
              "│ …    ┆ …     ┆ …   ┆ …           ┆ … ┆ …            ┆ …            ┆ …            ┆ …            │\n",
              "│ 2015 ┆ 12    ┆ 31  ┆ 4           ┆ … ┆ null         ┆ null         ┆ null         ┆ null         │\n",
              "│ 2015 ┆ 12    ┆ 31  ┆ 4           ┆ … ┆ null         ┆ null         ┆ null         ┆ null         │\n",
              "│ 2015 ┆ 12    ┆ 31  ┆ 4           ┆ … ┆ null         ┆ null         ┆ null         ┆ null         │\n",
              "│ 2015 ┆ 12    ┆ 31  ┆ 4           ┆ … ┆ null         ┆ null         ┆ null         ┆ null         │\n",
              "│ 2015 ┆ 12    ┆ 31  ┆ 4           ┆ … ┆ null         ┆ null         ┆ null         ┆ null         │\n",
              "└──────┴───────┴─────┴─────────────┴───┴──────────────┴──────────────┴──────────────┴──────────────┘"
            ],
            "text/html": [
              "<div><style>\n",
              ".dataframe > thead > tr,\n",
              ".dataframe > tbody > tr {\n",
              "  text-align: right;\n",
              "  white-space: pre-wrap;\n",
              "}\n",
              "</style>\n",
              "<small>shape: (5_819_079, 31)</small><table border=\"1\" class=\"dataframe\"><thead><tr><th>YEAR</th><th>MONTH</th><th>DAY</th><th>DAY_OF_WEEK</th><th>AIRLINE</th><th>FLIGHT_NUMBER</th><th>TAIL_NUMBER</th><th>ORIGIN_AIRPORT</th><th>DESTINATION_AIRPORT</th><th>SCHEDULED_DEPARTURE</th><th>DEPARTURE_TIME</th><th>DEPARTURE_DELAY</th><th>TAXI_OUT</th><th>WHEELS_OFF</th><th>SCHEDULED_TIME</th><th>ELAPSED_TIME</th><th>AIR_TIME</th><th>DISTANCE</th><th>WHEELS_ON</th><th>TAXI_IN</th><th>SCHEDULED_ARRIVAL</th><th>ARRIVAL_TIME</th><th>ARRIVAL_DELAY</th><th>DIVERTED</th><th>CANCELLED</th><th>CANCELLATION_REASON</th><th>AIR_SYSTEM_DELAY</th><th>SECURITY_DELAY</th><th>AIRLINE_DELAY</th><th>LATE_AIRCRAFT_DELAY</th><th>WEATHER_DELAY</th></tr><tr><td>i32</td><td>i32</td><td>i32</td><td>i32</td><td>str</td><td>i32</td><td>str</td><td>str</td><td>str</td><td>i32</td><td>i32</td><td>i32</td><td>i32</td><td>i32</td><td>i32</td><td>i32</td><td>i32</td><td>i32</td><td>i32</td><td>i32</td><td>i32</td><td>i32</td><td>i32</td><td>i32</td><td>i32</td><td>str</td><td>i32</td><td>i32</td><td>i32</td><td>i32</td><td>i32</td></tr></thead><tbody><tr><td>2015</td><td>1</td><td>1</td><td>4</td><td>&quot;AS&quot;</td><td>98</td><td>&quot;N407AS&quot;</td><td>&quot;ANC&quot;</td><td>&quot;SEA&quot;</td><td>5</td><td>2354</td><td>-11</td><td>21</td><td>15</td><td>205</td><td>194</td><td>169</td><td>1448</td><td>404</td><td>4</td><td>430</td><td>408</td><td>-22</td><td>0</td><td>0</td><td>null</td><td>null</td><td>null</td><td>null</td><td>null</td><td>null</td></tr><tr><td>2015</td><td>1</td><td>1</td><td>4</td><td>&quot;AA&quot;</td><td>2336</td><td>&quot;N3KUAA&quot;</td><td>&quot;LAX&quot;</td><td>&quot;PBI&quot;</td><td>10</td><td>2</td><td>-8</td><td>12</td><td>14</td><td>280</td><td>279</td><td>263</td><td>2330</td><td>737</td><td>4</td><td>750</td><td>741</td><td>-9</td><td>0</td><td>0</td><td>null</td><td>null</td><td>null</td><td>null</td><td>null</td><td>null</td></tr><tr><td>2015</td><td>1</td><td>1</td><td>4</td><td>&quot;US&quot;</td><td>840</td><td>&quot;N171US&quot;</td><td>&quot;SFO&quot;</td><td>&quot;CLT&quot;</td><td>20</td><td>18</td><td>-2</td><td>16</td><td>34</td><td>286</td><td>293</td><td>266</td><td>2296</td><td>800</td><td>11</td><td>806</td><td>811</td><td>5</td><td>0</td><td>0</td><td>null</td><td>null</td><td>null</td><td>null</td><td>null</td><td>null</td></tr><tr><td>2015</td><td>1</td><td>1</td><td>4</td><td>&quot;AA&quot;</td><td>258</td><td>&quot;N3HYAA&quot;</td><td>&quot;LAX&quot;</td><td>&quot;MIA&quot;</td><td>20</td><td>15</td><td>-5</td><td>15</td><td>30</td><td>285</td><td>281</td><td>258</td><td>2342</td><td>748</td><td>8</td><td>805</td><td>756</td><td>-9</td><td>0</td><td>0</td><td>null</td><td>null</td><td>null</td><td>null</td><td>null</td><td>null</td></tr><tr><td>2015</td><td>1</td><td>1</td><td>4</td><td>&quot;AS&quot;</td><td>135</td><td>&quot;N527AS&quot;</td><td>&quot;SEA&quot;</td><td>&quot;ANC&quot;</td><td>25</td><td>24</td><td>-1</td><td>11</td><td>35</td><td>235</td><td>215</td><td>199</td><td>1448</td><td>254</td><td>5</td><td>320</td><td>259</td><td>-21</td><td>0</td><td>0</td><td>null</td><td>null</td><td>null</td><td>null</td><td>null</td><td>null</td></tr><tr><td>&hellip;</td><td>&hellip;</td><td>&hellip;</td><td>&hellip;</td><td>&hellip;</td><td>&hellip;</td><td>&hellip;</td><td>&hellip;</td><td>&hellip;</td><td>&hellip;</td><td>&hellip;</td><td>&hellip;</td><td>&hellip;</td><td>&hellip;</td><td>&hellip;</td><td>&hellip;</td><td>&hellip;</td><td>&hellip;</td><td>&hellip;</td><td>&hellip;</td><td>&hellip;</td><td>&hellip;</td><td>&hellip;</td><td>&hellip;</td><td>&hellip;</td><td>&hellip;</td><td>&hellip;</td><td>&hellip;</td><td>&hellip;</td><td>&hellip;</td><td>&hellip;</td></tr><tr><td>2015</td><td>12</td><td>31</td><td>4</td><td>&quot;B6&quot;</td><td>688</td><td>&quot;N657JB&quot;</td><td>&quot;LAX&quot;</td><td>&quot;BOS&quot;</td><td>2359</td><td>2355</td><td>-4</td><td>22</td><td>17</td><td>320</td><td>298</td><td>272</td><td>2611</td><td>749</td><td>4</td><td>819</td><td>753</td><td>-26</td><td>0</td><td>0</td><td>null</td><td>null</td><td>null</td><td>null</td><td>null</td><td>null</td></tr><tr><td>2015</td><td>12</td><td>31</td><td>4</td><td>&quot;B6&quot;</td><td>745</td><td>&quot;N828JB&quot;</td><td>&quot;JFK&quot;</td><td>&quot;PSE&quot;</td><td>2359</td><td>2355</td><td>-4</td><td>17</td><td>12</td><td>227</td><td>215</td><td>195</td><td>1617</td><td>427</td><td>3</td><td>446</td><td>430</td><td>-16</td><td>0</td><td>0</td><td>null</td><td>null</td><td>null</td><td>null</td><td>null</td><td>null</td></tr><tr><td>2015</td><td>12</td><td>31</td><td>4</td><td>&quot;B6&quot;</td><td>1503</td><td>&quot;N913JB&quot;</td><td>&quot;JFK&quot;</td><td>&quot;SJU&quot;</td><td>2359</td><td>2350</td><td>-9</td><td>17</td><td>7</td><td>221</td><td>222</td><td>197</td><td>1598</td><td>424</td><td>8</td><td>440</td><td>432</td><td>-8</td><td>0</td><td>0</td><td>null</td><td>null</td><td>null</td><td>null</td><td>null</td><td>null</td></tr><tr><td>2015</td><td>12</td><td>31</td><td>4</td><td>&quot;B6&quot;</td><td>333</td><td>&quot;N527JB&quot;</td><td>&quot;MCO&quot;</td><td>&quot;SJU&quot;</td><td>2359</td><td>2353</td><td>-6</td><td>10</td><td>3</td><td>161</td><td>157</td><td>144</td><td>1189</td><td>327</td><td>3</td><td>340</td><td>330</td><td>-10</td><td>0</td><td>0</td><td>null</td><td>null</td><td>null</td><td>null</td><td>null</td><td>null</td></tr><tr><td>2015</td><td>12</td><td>31</td><td>4</td><td>&quot;B6&quot;</td><td>839</td><td>&quot;N534JB&quot;</td><td>&quot;JFK&quot;</td><td>&quot;BQN&quot;</td><td>2359</td><td>14</td><td>15</td><td>14</td><td>28</td><td>221</td><td>208</td><td>189</td><td>1576</td><td>437</td><td>5</td><td>440</td><td>442</td><td>2</td><td>0</td><td>0</td><td>null</td><td>null</td><td>null</td><td>null</td><td>null</td><td>null</td></tr></tbody></table></div>"
            ]
          },
          "metadata": {},
          "execution_count": 94
        }
      ]
    },
    {
      "cell_type": "code",
      "source": [
        "df.columns"
      ],
      "metadata": {
        "colab": {
          "base_uri": "https://localhost:8080/"
        },
        "id": "AH4NLf7a5UHy",
        "outputId": "b5e9ce2c-a5f7-41d9-c4cc-12d9b7441877"
      },
      "id": "AH4NLf7a5UHy",
      "execution_count": 95,
      "outputs": [
        {
          "output_type": "execute_result",
          "data": {
            "text/plain": [
              "['YEAR',\n",
              " 'MONTH',\n",
              " 'DAY',\n",
              " 'DAY_OF_WEEK',\n",
              " 'AIRLINE',\n",
              " 'FLIGHT_NUMBER',\n",
              " 'TAIL_NUMBER',\n",
              " 'ORIGIN_AIRPORT',\n",
              " 'DESTINATION_AIRPORT',\n",
              " 'SCHEDULED_DEPARTURE',\n",
              " 'DEPARTURE_TIME',\n",
              " 'DEPARTURE_DELAY',\n",
              " 'TAXI_OUT',\n",
              " 'WHEELS_OFF',\n",
              " 'SCHEDULED_TIME',\n",
              " 'ELAPSED_TIME',\n",
              " 'AIR_TIME',\n",
              " 'DISTANCE',\n",
              " 'WHEELS_ON',\n",
              " 'TAXI_IN',\n",
              " 'SCHEDULED_ARRIVAL',\n",
              " 'ARRIVAL_TIME',\n",
              " 'ARRIVAL_DELAY',\n",
              " 'DIVERTED',\n",
              " 'CANCELLED',\n",
              " 'CANCELLATION_REASON',\n",
              " 'AIR_SYSTEM_DELAY',\n",
              " 'SECURITY_DELAY',\n",
              " 'AIRLINE_DELAY',\n",
              " 'LATE_AIRCRAFT_DELAY',\n",
              " 'WEATHER_DELAY']"
            ]
          },
          "metadata": {},
          "execution_count": 95
        }
      ]
    },
    {
      "cell_type": "code",
      "source": [
        "df5 = pl.LazyFrame(\n",
        "  {\n",
        "        'id':[1,2,3, 4,5,6],\n",
        "        'nombre':['Rosa','Jose','Pedro', 'null', 'juana', 'oscar'],\n",
        "        'edad':[20,25,30, 32, 33,None], # Change 'null' to None for missing values\n",
        "        'ingreso': [1000,2000,3000, None, 4000, 5000], # Change 'null' to None for missing values\n",
        "        'aportes': [100,200,300,400,None, 500] # Change 'null' to None for missing values\n",
        "    }\n",
        ")"
      ],
      "metadata": {
        "id": "xkiIGpfU-MUT"
      },
      "id": "xkiIGpfU-MUT",
      "execution_count": 124,
      "outputs": []
    },
    {
      "cell_type": "code",
      "source": [
        "query = (\n",
        "    pl.scan_parquet('/content/drive/MyDrive/polars/seccion04/vuelos/vuelos.parquet')\n",
        "    .select(\n",
        "        col('AIRLINE_DELAY'),\n",
        "        col('SECURITY_DELAY'),\n",
        "        col('WEATHER_DELAY'), #Fixed typo in column name\n",
        "    )\n",
        "    .null_count()  ### recuento de valores nulos de cada columna\n",
        ")\n",
        "query.collect()"
      ],
      "metadata": {
        "colab": {
          "base_uri": "https://localhost:8080/",
          "height": 129
        },
        "id": "OjdUjalR5dCd",
        "outputId": "662258b8-5cb6-42e4-99e1-8c038e4df7d0"
      },
      "id": "OjdUjalR5dCd",
      "execution_count": 96,
      "outputs": [
        {
          "output_type": "execute_result",
          "data": {
            "text/plain": [
              "shape: (1, 3)\n",
              "┌───────────────┬────────────────┬───────────────┐\n",
              "│ AIRLINE_DELAY ┆ SECURITY_DELAY ┆ WEATHER_DELAY │\n",
              "│ ---           ┆ ---            ┆ ---           │\n",
              "│ u32           ┆ u32            ┆ u32           │\n",
              "╞═══════════════╪════════════════╪═══════════════╡\n",
              "│ 4755640       ┆ 4755640        ┆ 4755640       │\n",
              "└───────────────┴────────────────┴───────────────┘"
            ],
            "text/html": [
              "<div><style>\n",
              ".dataframe > thead > tr,\n",
              ".dataframe > tbody > tr {\n",
              "  text-align: right;\n",
              "  white-space: pre-wrap;\n",
              "}\n",
              "</style>\n",
              "<small>shape: (1, 3)</small><table border=\"1\" class=\"dataframe\"><thead><tr><th>AIRLINE_DELAY</th><th>SECURITY_DELAY</th><th>WEATHER_DELAY</th></tr><tr><td>u32</td><td>u32</td><td>u32</td></tr></thead><tbody><tr><td>4755640</td><td>4755640</td><td>4755640</td></tr></tbody></table></div>"
            ]
          },
          "metadata": {},
          "execution_count": 96
        }
      ]
    },
    {
      "cell_type": "code",
      "source": [
        "vuelos_lf =(\n",
        "    pl.scan_parquet(path)\n",
        "    .select(\n",
        "     col('AIR_TIME'),\n",
        "     col('DISTANCE')\n",
        ")\n",
        ")\n",
        "vuelos_lf.sum().collect()  ## suma de los valores de cada columna"
      ],
      "metadata": {
        "colab": {
          "base_uri": "https://localhost:8080/",
          "height": 129
        },
        "id": "iWhh4Kw659N_",
        "outputId": "f12f0b4a-4578-4761-bc51-83ee4b4db70c"
      },
      "id": "iWhh4Kw659N_",
      "execution_count": 97,
      "outputs": [
        {
          "output_type": "execute_result",
          "data": {
            "text/plain": [
              "shape: (1, 2)\n",
              "┌───────────┬───────────┐\n",
              "│ AIR_TIME  ┆ DISTANCE  │\n",
              "│ ---       ┆ ---       │\n",
              "│ i32       ┆ i32       │\n",
              "╞═══════════╪═══════════╡\n",
              "│ 648606351 ┆ 490390113 │\n",
              "└───────────┴───────────┘"
            ],
            "text/html": [
              "<div><style>\n",
              ".dataframe > thead > tr,\n",
              ".dataframe > tbody > tr {\n",
              "  text-align: right;\n",
              "  white-space: pre-wrap;\n",
              "}\n",
              "</style>\n",
              "<small>shape: (1, 2)</small><table border=\"1\" class=\"dataframe\"><thead><tr><th>AIR_TIME</th><th>DISTANCE</th></tr><tr><td>i32</td><td>i32</td></tr></thead><tbody><tr><td>648606351</td><td>490390113</td></tr></tbody></table></div>"
            ]
          },
          "metadata": {},
          "execution_count": 97
        }
      ]
    },
    {
      "cell_type": "code",
      "source": [
        "df5.collect()"
      ],
      "metadata": {
        "colab": {
          "base_uri": "https://localhost:8080/",
          "height": 286
        },
        "id": "f6rIjwiV-PVt",
        "outputId": "6845b0da-ffc7-4dc8-db13-12bca5ad061b"
      },
      "id": "f6rIjwiV-PVt",
      "execution_count": 126,
      "outputs": [
        {
          "output_type": "execute_result",
          "data": {
            "text/plain": [
              "shape: (6, 5)\n",
              "┌─────┬────────┬──────┬─────────┬─────────┐\n",
              "│ id  ┆ nombre ┆ edad ┆ ingreso ┆ aportes │\n",
              "│ --- ┆ ---    ┆ ---  ┆ ---     ┆ ---     │\n",
              "│ i64 ┆ str    ┆ i64  ┆ i64     ┆ i64     │\n",
              "╞═════╪════════╪══════╪═════════╪═════════╡\n",
              "│ 1   ┆ Rosa   ┆ 20   ┆ 1000    ┆ 100     │\n",
              "│ 2   ┆ Jose   ┆ 25   ┆ 2000    ┆ 200     │\n",
              "│ 3   ┆ Pedro  ┆ 30   ┆ 3000    ┆ 300     │\n",
              "│ 4   ┆ null   ┆ 32   ┆ null    ┆ 400     │\n",
              "│ 5   ┆ juana  ┆ 33   ┆ 4000    ┆ null    │\n",
              "│ 6   ┆ oscar  ┆ null ┆ 5000    ┆ 500     │\n",
              "└─────┴────────┴──────┴─────────┴─────────┘"
            ],
            "text/html": [
              "<div><style>\n",
              ".dataframe > thead > tr,\n",
              ".dataframe > tbody > tr {\n",
              "  text-align: right;\n",
              "  white-space: pre-wrap;\n",
              "}\n",
              "</style>\n",
              "<small>shape: (6, 5)</small><table border=\"1\" class=\"dataframe\"><thead><tr><th>id</th><th>nombre</th><th>edad</th><th>ingreso</th><th>aportes</th></tr><tr><td>i64</td><td>str</td><td>i64</td><td>i64</td><td>i64</td></tr></thead><tbody><tr><td>1</td><td>&quot;Rosa&quot;</td><td>20</td><td>1000</td><td>100</td></tr><tr><td>2</td><td>&quot;Jose&quot;</td><td>25</td><td>2000</td><td>200</td></tr><tr><td>3</td><td>&quot;Pedro&quot;</td><td>30</td><td>3000</td><td>300</td></tr><tr><td>4</td><td>&quot;null&quot;</td><td>32</td><td>null</td><td>400</td></tr><tr><td>5</td><td>&quot;juana&quot;</td><td>33</td><td>4000</td><td>null</td></tr><tr><td>6</td><td>&quot;oscar&quot;</td><td>null</td><td>5000</td><td>500</td></tr></tbody></table></div>"
            ]
          },
          "metadata": {},
          "execution_count": 126
        }
      ]
    },
    {
      "cell_type": "code",
      "source": [
        "df5 = (\n",
        "    df5 # Using the existing LazyFrame\n",
        "    .select(\n",
        "     pl.col('edad'),\n",
        "     pl.col('aportes')\n",
        "    )\n",
        ")\n",
        "df5.sum().collect()  ## suma de los valores de cada columna"
      ],
      "metadata": {
        "colab": {
          "base_uri": "https://localhost:8080/",
          "height": 129
        },
        "id": "r0Pg6Tzx-4i4",
        "outputId": "b3397b3a-d3d1-4364-a2a4-b5729c753c28"
      },
      "id": "r0Pg6Tzx-4i4",
      "execution_count": 129,
      "outputs": [
        {
          "output_type": "execute_result",
          "data": {
            "text/plain": [
              "shape: (1, 2)\n",
              "┌──────┬─────────┐\n",
              "│ edad ┆ aportes │\n",
              "│ ---  ┆ ---     │\n",
              "│ i64  ┆ i64     │\n",
              "╞══════╪═════════╡\n",
              "│ 140  ┆ 1500    │\n",
              "└──────┴─────────┘"
            ],
            "text/html": [
              "<div><style>\n",
              ".dataframe > thead > tr,\n",
              ".dataframe > tbody > tr {\n",
              "  text-align: right;\n",
              "  white-space: pre-wrap;\n",
              "}\n",
              "</style>\n",
              "<small>shape: (1, 2)</small><table border=\"1\" class=\"dataframe\"><thead><tr><th>edad</th><th>aportes</th></tr><tr><td>i64</td><td>i64</td></tr></thead><tbody><tr><td>140</td><td>1500</td></tr></tbody></table></div>"
            ]
          },
          "metadata": {},
          "execution_count": 129
        }
      ]
    },
    {
      "cell_type": "code",
      "source": [
        "df5.max().collect()"
      ],
      "metadata": {
        "colab": {
          "base_uri": "https://localhost:8080/",
          "height": 129
        },
        "id": "qpVUJr57--4B",
        "outputId": "4df547f4-9ea0-4ff0-da12-fe623759df31"
      },
      "id": "qpVUJr57--4B",
      "execution_count": 130,
      "outputs": [
        {
          "output_type": "execute_result",
          "data": {
            "text/plain": [
              "shape: (1, 2)\n",
              "┌──────┬─────────┐\n",
              "│ edad ┆ aportes │\n",
              "│ ---  ┆ ---     │\n",
              "│ i64  ┆ i64     │\n",
              "╞══════╪═════════╡\n",
              "│ 33   ┆ 500     │\n",
              "└──────┴─────────┘"
            ],
            "text/html": [
              "<div><style>\n",
              ".dataframe > thead > tr,\n",
              ".dataframe > tbody > tr {\n",
              "  text-align: right;\n",
              "  white-space: pre-wrap;\n",
              "}\n",
              "</style>\n",
              "<small>shape: (1, 2)</small><table border=\"1\" class=\"dataframe\"><thead><tr><th>edad</th><th>aportes</th></tr><tr><td>i64</td><td>i64</td></tr></thead><tbody><tr><td>33</td><td>500</td></tr></tbody></table></div>"
            ]
          },
          "metadata": {},
          "execution_count": 130
        }
      ]
    },
    {
      "cell_type": "code",
      "source": [
        "df5.mean().collect()"
      ],
      "metadata": {
        "colab": {
          "base_uri": "https://localhost:8080/",
          "height": 129
        },
        "id": "cGKXHbos_C7b",
        "outputId": "0dd5ebb9-a229-48e8-fd34-dec3625bf611"
      },
      "id": "cGKXHbos_C7b",
      "execution_count": 131,
      "outputs": [
        {
          "output_type": "execute_result",
          "data": {
            "text/plain": [
              "shape: (1, 2)\n",
              "┌──────┬─────────┐\n",
              "│ edad ┆ aportes │\n",
              "│ ---  ┆ ---     │\n",
              "│ f64  ┆ f64     │\n",
              "╞══════╪═════════╡\n",
              "│ 28.0 ┆ 300.0   │\n",
              "└──────┴─────────┘"
            ],
            "text/html": [
              "<div><style>\n",
              ".dataframe > thead > tr,\n",
              ".dataframe > tbody > tr {\n",
              "  text-align: right;\n",
              "  white-space: pre-wrap;\n",
              "}\n",
              "</style>\n",
              "<small>shape: (1, 2)</small><table border=\"1\" class=\"dataframe\"><thead><tr><th>edad</th><th>aportes</th></tr><tr><td>f64</td><td>f64</td></tr></thead><tbody><tr><td>28.0</td><td>300.0</td></tr></tbody></table></div>"
            ]
          },
          "metadata": {},
          "execution_count": 131
        }
      ]
    },
    {
      "cell_type": "code",
      "source": [
        "df5.mean().collect()"
      ],
      "metadata": {
        "colab": {
          "base_uri": "https://localhost:8080/",
          "height": 129
        },
        "id": "sM2o05U2_Jj5",
        "outputId": "1d25e991-01b2-4d0f-fdf7-da765d725071"
      },
      "id": "sM2o05U2_Jj5",
      "execution_count": 132,
      "outputs": [
        {
          "output_type": "execute_result",
          "data": {
            "text/plain": [
              "shape: (1, 2)\n",
              "┌──────┬─────────┐\n",
              "│ edad ┆ aportes │\n",
              "│ ---  ┆ ---     │\n",
              "│ f64  ┆ f64     │\n",
              "╞══════╪═════════╡\n",
              "│ 28.0 ┆ 300.0   │\n",
              "└──────┴─────────┘"
            ],
            "text/html": [
              "<div><style>\n",
              ".dataframe > thead > tr,\n",
              ".dataframe > tbody > tr {\n",
              "  text-align: right;\n",
              "  white-space: pre-wrap;\n",
              "}\n",
              "</style>\n",
              "<small>shape: (1, 2)</small><table border=\"1\" class=\"dataframe\"><thead><tr><th>edad</th><th>aportes</th></tr><tr><td>f64</td><td>f64</td></tr></thead><tbody><tr><td>28.0</td><td>300.0</td></tr></tbody></table></div>"
            ]
          },
          "metadata": {},
          "execution_count": 132
        }
      ]
    },
    {
      "cell_type": "code",
      "source": [
        "vuelos_lf.max().collect()"
      ],
      "metadata": {
        "colab": {
          "base_uri": "https://localhost:8080/",
          "height": 129
        },
        "id": "SU_5OTRa6AyZ",
        "outputId": "2dbdd904-00ae-4a89-cc34-6abbfaf4f480"
      },
      "id": "SU_5OTRa6AyZ",
      "execution_count": 98,
      "outputs": [
        {
          "output_type": "execute_result",
          "data": {
            "text/plain": [
              "shape: (1, 2)\n",
              "┌──────────┬──────────┐\n",
              "│ AIR_TIME ┆ DISTANCE │\n",
              "│ ---      ┆ ---      │\n",
              "│ i32      ┆ i32      │\n",
              "╞══════════╪══════════╡\n",
              "│ 690      ┆ 4983     │\n",
              "└──────────┴──────────┘"
            ],
            "text/html": [
              "<div><style>\n",
              ".dataframe > thead > tr,\n",
              ".dataframe > tbody > tr {\n",
              "  text-align: right;\n",
              "  white-space: pre-wrap;\n",
              "}\n",
              "</style>\n",
              "<small>shape: (1, 2)</small><table border=\"1\" class=\"dataframe\"><thead><tr><th>AIR_TIME</th><th>DISTANCE</th></tr><tr><td>i32</td><td>i32</td></tr></thead><tbody><tr><td>690</td><td>4983</td></tr></tbody></table></div>"
            ]
          },
          "metadata": {},
          "execution_count": 98
        }
      ]
    },
    {
      "cell_type": "code",
      "source": [
        "vuelos_lf.mean().collect()"
      ],
      "metadata": {
        "colab": {
          "base_uri": "https://localhost:8080/",
          "height": 129
        },
        "id": "msbCpJ1a6DyT",
        "outputId": "c838e556-8afe-4588-b76f-58a693487103"
      },
      "id": "msbCpJ1a6DyT",
      "execution_count": 99,
      "outputs": [
        {
          "output_type": "execute_result",
          "data": {
            "text/plain": [
              "shape: (1, 2)\n",
              "┌────────────┬────────────┐\n",
              "│ AIR_TIME   ┆ DISTANCE   │\n",
              "│ ---        ┆ ---        │\n",
              "│ f64        ┆ f64        │\n",
              "╞════════════╪════════════╡\n",
              "│ 113.511628 ┆ 822.356495 │\n",
              "└────────────┴────────────┘"
            ],
            "text/html": [
              "<div><style>\n",
              ".dataframe > thead > tr,\n",
              ".dataframe > tbody > tr {\n",
              "  text-align: right;\n",
              "  white-space: pre-wrap;\n",
              "}\n",
              "</style>\n",
              "<small>shape: (1, 2)</small><table border=\"1\" class=\"dataframe\"><thead><tr><th>AIR_TIME</th><th>DISTANCE</th></tr><tr><td>f64</td><td>f64</td></tr></thead><tbody><tr><td>113.511628</td><td>822.356495</td></tr></tbody></table></div>"
            ]
          },
          "metadata": {},
          "execution_count": 99
        }
      ]
    },
    {
      "cell_type": "code",
      "source": [
        "vuelos_lf.min().collect()"
      ],
      "metadata": {
        "colab": {
          "base_uri": "https://localhost:8080/",
          "height": 129
        },
        "id": "vI00p8Cz6HF1",
        "outputId": "6cb04aec-b632-479f-cbe3-84aeb76ff438"
      },
      "id": "vI00p8Cz6HF1",
      "execution_count": 100,
      "outputs": [
        {
          "output_type": "execute_result",
          "data": {
            "text/plain": [
              "shape: (1, 2)\n",
              "┌──────────┬──────────┐\n",
              "│ AIR_TIME ┆ DISTANCE │\n",
              "│ ---      ┆ ---      │\n",
              "│ i32      ┆ i32      │\n",
              "╞══════════╪══════════╡\n",
              "│ 7        ┆ 21       │\n",
              "└──────────┴──────────┘"
            ],
            "text/html": [
              "<div><style>\n",
              ".dataframe > thead > tr,\n",
              ".dataframe > tbody > tr {\n",
              "  text-align: right;\n",
              "  white-space: pre-wrap;\n",
              "}\n",
              "</style>\n",
              "<small>shape: (1, 2)</small><table border=\"1\" class=\"dataframe\"><thead><tr><th>AIR_TIME</th><th>DISTANCE</th></tr><tr><td>i32</td><td>i32</td></tr></thead><tbody><tr><td>7</td><td>21</td></tr></tbody></table></div>"
            ]
          },
          "metadata": {},
          "execution_count": 100
        }
      ]
    },
    {
      "cell_type": "code",
      "source": [
        "df5.collect()"
      ],
      "metadata": {
        "colab": {
          "base_uri": "https://localhost:8080/",
          "height": 286
        },
        "id": "TEs22jLH_kfV",
        "outputId": "92a16092-04cc-45ea-d65e-2e1aa079dfe4"
      },
      "id": "TEs22jLH_kfV",
      "execution_count": 136,
      "outputs": [
        {
          "output_type": "execute_result",
          "data": {
            "text/plain": [
              "shape: (6, 2)\n",
              "┌──────┬─────────┐\n",
              "│ edad ┆ aportes │\n",
              "│ ---  ┆ ---     │\n",
              "│ i64  ┆ i64     │\n",
              "╞══════╪═════════╡\n",
              "│ 20   ┆ 100     │\n",
              "│ 25   ┆ 200     │\n",
              "│ 30   ┆ 300     │\n",
              "│ 32   ┆ 400     │\n",
              "│ 33   ┆ null    │\n",
              "│ null ┆ 500     │\n",
              "└──────┴─────────┘"
            ],
            "text/html": [
              "<div><style>\n",
              ".dataframe > thead > tr,\n",
              ".dataframe > tbody > tr {\n",
              "  text-align: right;\n",
              "  white-space: pre-wrap;\n",
              "}\n",
              "</style>\n",
              "<small>shape: (6, 2)</small><table border=\"1\" class=\"dataframe\"><thead><tr><th>edad</th><th>aportes</th></tr><tr><td>i64</td><td>i64</td></tr></thead><tbody><tr><td>20</td><td>100</td></tr><tr><td>25</td><td>200</td></tr><tr><td>30</td><td>300</td></tr><tr><td>32</td><td>400</td></tr><tr><td>33</td><td>null</td></tr><tr><td>null</td><td>500</td></tr></tbody></table></div>"
            ]
          },
          "metadata": {},
          "execution_count": 136
        }
      ]
    },
    {
      "cell_type": "code",
      "source": [
        "df5 = pl.LazyFrame(\n",
        "  {\n",
        "        'id':[1,2,3, 4,5,6],\n",
        "        'nombre':['Rosa','Jose','Pedro', 'null', 'juana', 'oscar'],\n",
        "        'edad':[20,25,30, 32, 33,None], # Change 'null' to None for missing values\n",
        "        'ingreso': [1000,2000,3000, None, 4000, 5000], # Change 'null' to None for missing values\n",
        "        'aportes': [100,200,300,400,None, 500] # Change 'null' to None for missing values\n",
        "    }\n",
        ")"
      ],
      "metadata": {
        "id": "oi4s870d_qxY"
      },
      "id": "oi4s870d_qxY",
      "execution_count": 137,
      "outputs": []
    },
    {
      "cell_type": "code",
      "source": [
        "df5.collect()"
      ],
      "metadata": {
        "colab": {
          "base_uri": "https://localhost:8080/",
          "height": 286
        },
        "id": "78dJGf7H_vGY",
        "outputId": "97887778-b1f3-4344-dfce-77e7379c3679"
      },
      "id": "78dJGf7H_vGY",
      "execution_count": 138,
      "outputs": [
        {
          "output_type": "execute_result",
          "data": {
            "text/plain": [
              "shape: (6, 5)\n",
              "┌─────┬────────┬──────┬─────────┬─────────┐\n",
              "│ id  ┆ nombre ┆ edad ┆ ingreso ┆ aportes │\n",
              "│ --- ┆ ---    ┆ ---  ┆ ---     ┆ ---     │\n",
              "│ i64 ┆ str    ┆ i64  ┆ i64     ┆ i64     │\n",
              "╞═════╪════════╪══════╪═════════╪═════════╡\n",
              "│ 1   ┆ Rosa   ┆ 20   ┆ 1000    ┆ 100     │\n",
              "│ 2   ┆ Jose   ┆ 25   ┆ 2000    ┆ 200     │\n",
              "│ 3   ┆ Pedro  ┆ 30   ┆ 3000    ┆ 300     │\n",
              "│ 4   ┆ null   ┆ 32   ┆ null    ┆ 400     │\n",
              "│ 5   ┆ juana  ┆ 33   ┆ 4000    ┆ null    │\n",
              "│ 6   ┆ oscar  ┆ null ┆ 5000    ┆ 500     │\n",
              "└─────┴────────┴──────┴─────────┴─────────┘"
            ],
            "text/html": [
              "<div><style>\n",
              ".dataframe > thead > tr,\n",
              ".dataframe > tbody > tr {\n",
              "  text-align: right;\n",
              "  white-space: pre-wrap;\n",
              "}\n",
              "</style>\n",
              "<small>shape: (6, 5)</small><table border=\"1\" class=\"dataframe\"><thead><tr><th>id</th><th>nombre</th><th>edad</th><th>ingreso</th><th>aportes</th></tr><tr><td>i64</td><td>str</td><td>i64</td><td>i64</td><td>i64</td></tr></thead><tbody><tr><td>1</td><td>&quot;Rosa&quot;</td><td>20</td><td>1000</td><td>100</td></tr><tr><td>2</td><td>&quot;Jose&quot;</td><td>25</td><td>2000</td><td>200</td></tr><tr><td>3</td><td>&quot;Pedro&quot;</td><td>30</td><td>3000</td><td>300</td></tr><tr><td>4</td><td>&quot;null&quot;</td><td>32</td><td>null</td><td>400</td></tr><tr><td>5</td><td>&quot;juana&quot;</td><td>33</td><td>4000</td><td>null</td></tr><tr><td>6</td><td>&quot;oscar&quot;</td><td>null</td><td>5000</td><td>500</td></tr></tbody></table></div>"
            ]
          },
          "metadata": {},
          "execution_count": 138
        }
      ]
    },
    {
      "cell_type": "code",
      "source": [
        "df5 = (\n",
        "    df5 # Using the existing LazyFrame\n",
        "    .select(\n",
        "     pl.col('nombre').fill_null(strategy='backward'),\n",
        "     pl.col('aportes').fill_null(strategy='forward'),\n",
        "     pl.col('ingreso').fill_null(strategy='mean'),\n",
        "     pl.col('edad').fill_null(strategy='forward')\n",
        "    )\n",
        ")\n",
        "\n",
        ""
      ],
      "metadata": {
        "id": "vOztztJP_U3l"
      },
      "id": "vOztztJP_U3l",
      "execution_count": 145,
      "outputs": []
    },
    {
      "cell_type": "code",
      "source": [
        "df5.collect()"
      ],
      "metadata": {
        "colab": {
          "base_uri": "https://localhost:8080/",
          "height": 286
        },
        "id": "lpu2LvC3BcKR",
        "outputId": "b001007f-1173-4547-f240-9f9bc77213c3"
      },
      "id": "lpu2LvC3BcKR",
      "execution_count": 146,
      "outputs": [
        {
          "output_type": "execute_result",
          "data": {
            "text/plain": [
              "shape: (6, 4)\n",
              "┌────────┬──────────────┬─────────┬────────┐\n",
              "│ nombre ┆ aportes      ┆ ingreso ┆ edad   │\n",
              "│ ---    ┆ ---          ┆ ---     ┆ ---    │\n",
              "│ str    ┆ str          ┆ str     ┆ str    │\n",
              "╞════════╪══════════════╪═════════╪════════╡\n",
              "│ Rosa   ┆ 100          ┆ 1000    ┆ 20     │\n",
              "│ Jose   ┆ 200          ┆ 2000    ┆ 25     │\n",
              "│ Pedro  ┆ 300          ┆ 3000    ┆ 30     │\n",
              "│ null   ┆ 400          ┆ mean    ┆ 32     │\n",
              "│ juana  ┆ forward_fill ┆ 4000    ┆ 33     │\n",
              "│ oscar  ┆ 500          ┆ 5000    ┆ median │\n",
              "└────────┴──────────────┴─────────┴────────┘"
            ],
            "text/html": [
              "<div><style>\n",
              ".dataframe > thead > tr,\n",
              ".dataframe > tbody > tr {\n",
              "  text-align: right;\n",
              "  white-space: pre-wrap;\n",
              "}\n",
              "</style>\n",
              "<small>shape: (6, 4)</small><table border=\"1\" class=\"dataframe\"><thead><tr><th>nombre</th><th>aportes</th><th>ingreso</th><th>edad</th></tr><tr><td>str</td><td>str</td><td>str</td><td>str</td></tr></thead><tbody><tr><td>&quot;Rosa&quot;</td><td>&quot;100&quot;</td><td>&quot;1000&quot;</td><td>&quot;20&quot;</td></tr><tr><td>&quot;Jose&quot;</td><td>&quot;200&quot;</td><td>&quot;2000&quot;</td><td>&quot;25&quot;</td></tr><tr><td>&quot;Pedro&quot;</td><td>&quot;300&quot;</td><td>&quot;3000&quot;</td><td>&quot;30&quot;</td></tr><tr><td>&quot;null&quot;</td><td>&quot;400&quot;</td><td>&quot;mean&quot;</td><td>&quot;32&quot;</td></tr><tr><td>&quot;juana&quot;</td><td>&quot;forward_fill&quot;</td><td>&quot;4000&quot;</td><td>&quot;33&quot;</td></tr><tr><td>&quot;oscar&quot;</td><td>&quot;500&quot;</td><td>&quot;5000&quot;</td><td>&quot;median&quot;</td></tr></tbody></table></div>"
            ]
          },
          "metadata": {},
          "execution_count": 146
        }
      ]
    },
    {
      "cell_type": "code",
      "source": [
        "df5.fill_null(strategy='forward').collect()"
      ],
      "metadata": {
        "colab": {
          "base_uri": "https://localhost:8080/",
          "height": 286
        },
        "id": "uTWCMIDABkqX",
        "outputId": "680e547a-eb22-48c7-df6c-9879e5c8e0b5"
      },
      "id": "uTWCMIDABkqX",
      "execution_count": 148,
      "outputs": [
        {
          "output_type": "execute_result",
          "data": {
            "text/plain": [
              "shape: (6, 4)\n",
              "┌────────┬──────────────┬─────────┬────────┐\n",
              "│ nombre ┆ aportes      ┆ ingreso ┆ edad   │\n",
              "│ ---    ┆ ---          ┆ ---     ┆ ---    │\n",
              "│ str    ┆ str          ┆ str     ┆ str    │\n",
              "╞════════╪══════════════╪═════════╪════════╡\n",
              "│ Rosa   ┆ 100          ┆ 1000    ┆ 20     │\n",
              "│ Jose   ┆ 200          ┆ 2000    ┆ 25     │\n",
              "│ Pedro  ┆ 300          ┆ 3000    ┆ 30     │\n",
              "│ null   ┆ 400          ┆ mean    ┆ 32     │\n",
              "│ juana  ┆ forward_fill ┆ 4000    ┆ 33     │\n",
              "│ oscar  ┆ 500          ┆ 5000    ┆ median │\n",
              "└────────┴──────────────┴─────────┴────────┘"
            ],
            "text/html": [
              "<div><style>\n",
              ".dataframe > thead > tr,\n",
              ".dataframe > tbody > tr {\n",
              "  text-align: right;\n",
              "  white-space: pre-wrap;\n",
              "}\n",
              "</style>\n",
              "<small>shape: (6, 4)</small><table border=\"1\" class=\"dataframe\"><thead><tr><th>nombre</th><th>aportes</th><th>ingreso</th><th>edad</th></tr><tr><td>str</td><td>str</td><td>str</td><td>str</td></tr></thead><tbody><tr><td>&quot;Rosa&quot;</td><td>&quot;100&quot;</td><td>&quot;1000&quot;</td><td>&quot;20&quot;</td></tr><tr><td>&quot;Jose&quot;</td><td>&quot;200&quot;</td><td>&quot;2000&quot;</td><td>&quot;25&quot;</td></tr><tr><td>&quot;Pedro&quot;</td><td>&quot;300&quot;</td><td>&quot;3000&quot;</td><td>&quot;30&quot;</td></tr><tr><td>&quot;null&quot;</td><td>&quot;400&quot;</td><td>&quot;mean&quot;</td><td>&quot;32&quot;</td></tr><tr><td>&quot;juana&quot;</td><td>&quot;forward_fill&quot;</td><td>&quot;4000&quot;</td><td>&quot;33&quot;</td></tr><tr><td>&quot;oscar&quot;</td><td>&quot;500&quot;</td><td>&quot;5000&quot;</td><td>&quot;median&quot;</td></tr></tbody></table></div>"
            ]
          },
          "metadata": {},
          "execution_count": 148
        }
      ]
    },
    {
      "cell_type": "code",
      "source": [
        "df5 = df5.select(pl.all().forward_fill())\n",
        "df5"
      ],
      "metadata": {
        "colab": {
          "base_uri": "https://localhost:8080/",
          "height": 286
        },
        "id": "i0sL3QslCgON",
        "outputId": "6b6f3c55-b513-4820-b0c6-1eb4488f5903"
      },
      "id": "i0sL3QslCgON",
      "execution_count": 159,
      "outputs": [
        {
          "output_type": "execute_result",
          "data": {
            "text/plain": [
              "shape: (6, 4)\n",
              "┌────────┬──────────────┬─────────┬────────┐\n",
              "│ nombre ┆ aportes      ┆ ingreso ┆ edad   │\n",
              "│ ---    ┆ ---          ┆ ---     ┆ ---    │\n",
              "│ str    ┆ str          ┆ str     ┆ str    │\n",
              "╞════════╪══════════════╪═════════╪════════╡\n",
              "│ Rosa   ┆ 100          ┆ 1000    ┆ 20     │\n",
              "│ Jose   ┆ 200          ┆ 2000    ┆ 25     │\n",
              "│ Pedro  ┆ 300          ┆ 3000    ┆ 30     │\n",
              "│ null   ┆ 400          ┆ mean    ┆ 32     │\n",
              "│ juana  ┆ forward_fill ┆ 4000    ┆ 33     │\n",
              "│ oscar  ┆ 500          ┆ 5000    ┆ median │\n",
              "└────────┴──────────────┴─────────┴────────┘"
            ],
            "text/html": [
              "<div><style>\n",
              ".dataframe > thead > tr,\n",
              ".dataframe > tbody > tr {\n",
              "  text-align: right;\n",
              "  white-space: pre-wrap;\n",
              "}\n",
              "</style>\n",
              "<small>shape: (6, 4)</small><table border=\"1\" class=\"dataframe\"><thead><tr><th>nombre</th><th>aportes</th><th>ingreso</th><th>edad</th></tr><tr><td>str</td><td>str</td><td>str</td><td>str</td></tr></thead><tbody><tr><td>&quot;Rosa&quot;</td><td>&quot;100&quot;</td><td>&quot;1000&quot;</td><td>&quot;20&quot;</td></tr><tr><td>&quot;Jose&quot;</td><td>&quot;200&quot;</td><td>&quot;2000&quot;</td><td>&quot;25&quot;</td></tr><tr><td>&quot;Pedro&quot;</td><td>&quot;300&quot;</td><td>&quot;3000&quot;</td><td>&quot;30&quot;</td></tr><tr><td>&quot;null&quot;</td><td>&quot;400&quot;</td><td>&quot;mean&quot;</td><td>&quot;32&quot;</td></tr><tr><td>&quot;juana&quot;</td><td>&quot;forward_fill&quot;</td><td>&quot;4000&quot;</td><td>&quot;33&quot;</td></tr><tr><td>&quot;oscar&quot;</td><td>&quot;500&quot;</td><td>&quot;5000&quot;</td><td>&quot;median&quot;</td></tr></tbody></table></div>"
            ]
          },
          "metadata": {},
          "execution_count": 159
        }
      ]
    },
    {
      "cell_type": "code",
      "source": [
        "for column in df5.columns:\n",
        "    df5 = df5.with_columns(\n",
        "        pl.col(column).fill_nan(pl.col(column).mean()).alias(column)\n",
        "    )"
      ],
      "metadata": {
        "colab": {
          "base_uri": "https://localhost:8080/"
        },
        "id": "WhB6xdDPDVZ7",
        "outputId": "2315a15b-6d0d-4fd5-809f-1eeb566c2278"
      },
      "id": "WhB6xdDPDVZ7",
      "execution_count": 166,
      "outputs": [
        {
          "output_type": "stream",
          "name": "stderr",
          "text": [
            "<ipython-input-166-b3430ee7e69e>:1: PerformanceWarning: Determining the column names of a LazyFrame requires resolving its schema, which is a potentially expensive operation. Use `LazyFrame.collect_schema().names()` to get the column names without this warning.\n",
            "  for column in df5.columns:\n"
          ]
        }
      ]
    },
    {
      "cell_type": "code",
      "source": [
        "df5"
      ],
      "metadata": {
        "colab": {
          "base_uri": "https://localhost:8080/",
          "height": 1000
        },
        "id": "PQi075kSHtch",
        "outputId": "5a7814e7-c451-4f35-fe29-aad3d441124a"
      },
      "id": "PQi075kSHtch",
      "execution_count": 168,
      "outputs": [
        {
          "output_type": "execute_result",
          "data": {
            "text/plain": [
              "<LazyFrame at 0x7C15066AF250>"
            ],
            "text/html": [
              "<h4>NAIVE QUERY PLAN</h4><p>run <b>LazyFrame.show_graph()</b> to see the optimized version</p><?xml version=\"1.0\" encoding=\"UTF-8\" standalone=\"no\"?>\n",
              "<!DOCTYPE svg PUBLIC \"-//W3C//DTD SVG 1.1//EN\"\n",
              " \"http://www.w3.org/Graphics/SVG/1.1/DTD/svg11.dtd\">\n",
              "<!-- Generated by graphviz version 2.43.0 (0)\n",
              " -->\n",
              "<!-- Title: polars_query Pages: 1 -->\n",
              "<svg width=\"895pt\" height=\"925pt\"\n",
              " viewBox=\"0.00 0.00 895.00 925.00\" xmlns=\"http://www.w3.org/2000/svg\" xmlns:xlink=\"http://www.w3.org/1999/xlink\">\n",
              "<g id=\"graph0\" class=\"graph\" transform=\"scale(1 1) rotate(0) translate(4 921)\">\n",
              "<title>polars_query</title>\n",
              "<polygon fill=\"white\" stroke=\"transparent\" points=\"-4,4 -4,-921 891,-921 891,4 -4,4\"/>\n",
              "<!-- p1 -->\n",
              "<g id=\"node1\" class=\"node\">\n",
              "<title>p1</title>\n",
              "<polygon fill=\"none\" stroke=\"black\" points=\"845.5,-917 41.5,-917 41.5,-881 845.5,-881 845.5,-917\"/>\n",
              "<text text-anchor=\"middle\" x=\"443.5\" y=\"-895.3\" font-family=\"Times,serif\" font-size=\"14.00\">WITH COLUMNS [when([(col(&quot;edad&quot;).is_not_nan()) | (col(&quot;edad&quot;).is_null())]).then(col(&quot;edad&quot;)).otherwise(col(&quot;edad&quot;).mean()).alias(&quot;edad&quot;)]</text>\n",
              "</g>\n",
              "<!-- p2 -->\n",
              "<g id=\"node2\" class=\"node\">\n",
              "<title>p2</title>\n",
              "<polygon fill=\"none\" stroke=\"black\" points=\"881,-845 6,-845 6,-809 881,-809 881,-845\"/>\n",
              "<text text-anchor=\"middle\" x=\"443.5\" y=\"-823.3\" font-family=\"Times,serif\" font-size=\"14.00\">WITH COLUMNS [when([(col(&quot;ingreso&quot;).is_not_nan()) | (col(&quot;ingreso&quot;).is_null())]).then(col(&quot;ingreso&quot;)).otherwise(col(&quot;ingreso&quot;).mean()).alias(&quot;ingreso&quot;)]</text>\n",
              "</g>\n",
              "<!-- p1&#45;&#45;p2 -->\n",
              "<g id=\"edge1\" class=\"edge\">\n",
              "<title>p1&#45;&#45;p2</title>\n",
              "<path fill=\"none\" stroke=\"black\" d=\"M443.5,-880.7C443.5,-869.85 443.5,-855.92 443.5,-845.1\"/>\n",
              "</g>\n",
              "<!-- p3 -->\n",
              "<g id=\"node3\" class=\"node\">\n",
              "<title>p3</title>\n",
              "<polygon fill=\"none\" stroke=\"black\" points=\"879.5,-773 7.5,-773 7.5,-737 879.5,-737 879.5,-773\"/>\n",
              "<text text-anchor=\"middle\" x=\"443.5\" y=\"-751.3\" font-family=\"Times,serif\" font-size=\"14.00\">WITH COLUMNS [when([(col(&quot;aportes&quot;).is_not_nan()) | (col(&quot;aportes&quot;).is_null())]).then(col(&quot;aportes&quot;)).otherwise(col(&quot;aportes&quot;).mean()).alias(&quot;aportes&quot;)]</text>\n",
              "</g>\n",
              "<!-- p2&#45;&#45;p3 -->\n",
              "<g id=\"edge2\" class=\"edge\">\n",
              "<title>p2&#45;&#45;p3</title>\n",
              "<path fill=\"none\" stroke=\"black\" d=\"M443.5,-808.7C443.5,-797.85 443.5,-783.92 443.5,-773.1\"/>\n",
              "</g>\n",
              "<!-- p4 -->\n",
              "<g id=\"node4\" class=\"node\">\n",
              "<title>p4</title>\n",
              "<polygon fill=\"none\" stroke=\"black\" points=\"887,-701 0,-701 0,-665 887,-665 887,-701\"/>\n",
              "<text text-anchor=\"middle\" x=\"443.5\" y=\"-679.3\" font-family=\"Times,serif\" font-size=\"14.00\">WITH COLUMNS [when([(col(&quot;nombre&quot;).is_not_nan()) | (col(&quot;nombre&quot;).is_null())]).then(col(&quot;nombre&quot;)).otherwise(col(&quot;nombre&quot;).mean()).alias(&quot;nombre&quot;)]</text>\n",
              "</g>\n",
              "<!-- p3&#45;&#45;p4 -->\n",
              "<g id=\"edge3\" class=\"edge\">\n",
              "<title>p3&#45;&#45;p4</title>\n",
              "<path fill=\"none\" stroke=\"black\" d=\"M443.5,-736.7C443.5,-725.85 443.5,-711.92 443.5,-701.1\"/>\n",
              "</g>\n",
              "<!-- p5 -->\n",
              "<g id=\"node5\" class=\"node\">\n",
              "<title>p5</title>\n",
              "<polygon fill=\"none\" stroke=\"black\" points=\"845.5,-629 41.5,-629 41.5,-593 845.5,-593 845.5,-629\"/>\n",
              "<text text-anchor=\"middle\" x=\"443.5\" y=\"-607.3\" font-family=\"Times,serif\" font-size=\"14.00\">WITH COLUMNS [when([(col(&quot;edad&quot;).is_not_nan()) | (col(&quot;edad&quot;).is_null())]).then(col(&quot;edad&quot;)).otherwise(col(&quot;edad&quot;).mean()).alias(&quot;edad&quot;)]</text>\n",
              "</g>\n",
              "<!-- p4&#45;&#45;p5 -->\n",
              "<g id=\"edge4\" class=\"edge\">\n",
              "<title>p4&#45;&#45;p5</title>\n",
              "<path fill=\"none\" stroke=\"black\" d=\"M443.5,-664.7C443.5,-653.85 443.5,-639.92 443.5,-629.1\"/>\n",
              "</g>\n",
              "<!-- p6 -->\n",
              "<g id=\"node6\" class=\"node\">\n",
              "<title>p6</title>\n",
              "<polygon fill=\"none\" stroke=\"black\" points=\"881,-557 6,-557 6,-521 881,-521 881,-557\"/>\n",
              "<text text-anchor=\"middle\" x=\"443.5\" y=\"-535.3\" font-family=\"Times,serif\" font-size=\"14.00\">WITH COLUMNS [when([(col(&quot;ingreso&quot;).is_not_nan()) | (col(&quot;ingreso&quot;).is_null())]).then(col(&quot;ingreso&quot;)).otherwise(col(&quot;ingreso&quot;).mean()).alias(&quot;ingreso&quot;)]</text>\n",
              "</g>\n",
              "<!-- p5&#45;&#45;p6 -->\n",
              "<g id=\"edge5\" class=\"edge\">\n",
              "<title>p5&#45;&#45;p6</title>\n",
              "<path fill=\"none\" stroke=\"black\" d=\"M443.5,-592.7C443.5,-581.85 443.5,-567.92 443.5,-557.1\"/>\n",
              "</g>\n",
              "<!-- p7 -->\n",
              "<g id=\"node7\" class=\"node\">\n",
              "<title>p7</title>\n",
              "<polygon fill=\"none\" stroke=\"black\" points=\"879.5,-485 7.5,-485 7.5,-449 879.5,-449 879.5,-485\"/>\n",
              "<text text-anchor=\"middle\" x=\"443.5\" y=\"-463.3\" font-family=\"Times,serif\" font-size=\"14.00\">WITH COLUMNS [when([(col(&quot;aportes&quot;).is_not_nan()) | (col(&quot;aportes&quot;).is_null())]).then(col(&quot;aportes&quot;)).otherwise(col(&quot;aportes&quot;).mean()).alias(&quot;aportes&quot;)]</text>\n",
              "</g>\n",
              "<!-- p6&#45;&#45;p7 -->\n",
              "<g id=\"edge6\" class=\"edge\">\n",
              "<title>p6&#45;&#45;p7</title>\n",
              "<path fill=\"none\" stroke=\"black\" d=\"M443.5,-520.7C443.5,-509.85 443.5,-495.92 443.5,-485.1\"/>\n",
              "</g>\n",
              "<!-- p8 -->\n",
              "<g id=\"node8\" class=\"node\">\n",
              "<title>p8</title>\n",
              "<polygon fill=\"none\" stroke=\"black\" points=\"887,-413 0,-413 0,-377 887,-377 887,-413\"/>\n",
              "<text text-anchor=\"middle\" x=\"443.5\" y=\"-391.3\" font-family=\"Times,serif\" font-size=\"14.00\">WITH COLUMNS [when([(col(&quot;nombre&quot;).is_not_nan()) | (col(&quot;nombre&quot;).is_null())]).then(col(&quot;nombre&quot;)).otherwise(col(&quot;nombre&quot;).mean()).alias(&quot;nombre&quot;)]</text>\n",
              "</g>\n",
              "<!-- p7&#45;&#45;p8 -->\n",
              "<g id=\"edge7\" class=\"edge\">\n",
              "<title>p7&#45;&#45;p8</title>\n",
              "<path fill=\"none\" stroke=\"black\" d=\"M443.5,-448.7C443.5,-437.85 443.5,-423.92 443.5,-413.1\"/>\n",
              "</g>\n",
              "<!-- p9 -->\n",
              "<g id=\"node9\" class=\"node\">\n",
              "<title>p9</title>\n",
              "<polygon fill=\"none\" stroke=\"black\" points=\"845.5,-341 41.5,-341 41.5,-305 845.5,-305 845.5,-341\"/>\n",
              "<text text-anchor=\"middle\" x=\"443.5\" y=\"-319.3\" font-family=\"Times,serif\" font-size=\"14.00\">WITH COLUMNS [when([(col(&quot;edad&quot;).is_not_nan()) | (col(&quot;edad&quot;).is_null())]).then(col(&quot;edad&quot;)).otherwise(col(&quot;edad&quot;).mean()).alias(&quot;edad&quot;)]</text>\n",
              "</g>\n",
              "<!-- p8&#45;&#45;p9 -->\n",
              "<g id=\"edge8\" class=\"edge\">\n",
              "<title>p8&#45;&#45;p9</title>\n",
              "<path fill=\"none\" stroke=\"black\" d=\"M443.5,-376.7C443.5,-365.85 443.5,-351.92 443.5,-341.1\"/>\n",
              "</g>\n",
              "<!-- p10 -->\n",
              "<g id=\"node10\" class=\"node\">\n",
              "<title>p10</title>\n",
              "<polygon fill=\"none\" stroke=\"black\" points=\"881,-269 6,-269 6,-233 881,-233 881,-269\"/>\n",
              "<text text-anchor=\"middle\" x=\"443.5\" y=\"-247.3\" font-family=\"Times,serif\" font-size=\"14.00\">WITH COLUMNS [when([(col(&quot;ingreso&quot;).is_not_nan()) | (col(&quot;ingreso&quot;).is_null())]).then(col(&quot;ingreso&quot;)).otherwise(col(&quot;ingreso&quot;).mean()).alias(&quot;ingreso&quot;)]</text>\n",
              "</g>\n",
              "<!-- p9&#45;&#45;p10 -->\n",
              "<g id=\"edge9\" class=\"edge\">\n",
              "<title>p9&#45;&#45;p10</title>\n",
              "<path fill=\"none\" stroke=\"black\" d=\"M443.5,-304.7C443.5,-293.85 443.5,-279.92 443.5,-269.1\"/>\n",
              "</g>\n",
              "<!-- p11 -->\n",
              "<g id=\"node11\" class=\"node\">\n",
              "<title>p11</title>\n",
              "<polygon fill=\"none\" stroke=\"black\" points=\"879.5,-197 7.5,-197 7.5,-161 879.5,-161 879.5,-197\"/>\n",
              "<text text-anchor=\"middle\" x=\"443.5\" y=\"-175.3\" font-family=\"Times,serif\" font-size=\"14.00\">WITH COLUMNS [when([(col(&quot;aportes&quot;).is_not_nan()) | (col(&quot;aportes&quot;).is_null())]).then(col(&quot;aportes&quot;)).otherwise(col(&quot;aportes&quot;).mean()).alias(&quot;aportes&quot;)]</text>\n",
              "</g>\n",
              "<!-- p10&#45;&#45;p11 -->\n",
              "<g id=\"edge10\" class=\"edge\">\n",
              "<title>p10&#45;&#45;p11</title>\n",
              "<path fill=\"none\" stroke=\"black\" d=\"M443.5,-232.7C443.5,-221.85 443.5,-207.92 443.5,-197.1\"/>\n",
              "</g>\n",
              "<!-- p12 -->\n",
              "<g id=\"node12\" class=\"node\">\n",
              "<title>p12</title>\n",
              "<polygon fill=\"none\" stroke=\"black\" points=\"887,-125 0,-125 0,-89 887,-89 887,-125\"/>\n",
              "<text text-anchor=\"middle\" x=\"443.5\" y=\"-103.3\" font-family=\"Times,serif\" font-size=\"14.00\">WITH COLUMNS [when([(col(&quot;nombre&quot;).is_not_nan()) | (col(&quot;nombre&quot;).is_null())]).then(col(&quot;nombre&quot;)).otherwise(col(&quot;nombre&quot;).mean()).alias(&quot;nombre&quot;)]</text>\n",
              "</g>\n",
              "<!-- p11&#45;&#45;p12 -->\n",
              "<g id=\"edge11\" class=\"edge\">\n",
              "<title>p11&#45;&#45;p12</title>\n",
              "<path fill=\"none\" stroke=\"black\" d=\"M443.5,-160.7C443.5,-149.85 443.5,-135.92 443.5,-125.1\"/>\n",
              "</g>\n",
              "<!-- p13 -->\n",
              "<g id=\"node13\" class=\"node\">\n",
              "<title>p13</title>\n",
              "<polygon fill=\"none\" stroke=\"black\" points=\"473,-53 414,-53 414,0 473,0 473,-53\"/>\n",
              "<text text-anchor=\"middle\" x=\"443.5\" y=\"-37.8\" font-family=\"Times,serif\" font-size=\"14.00\">TABLE</text>\n",
              "<text text-anchor=\"middle\" x=\"443.5\" y=\"-22.8\" font-family=\"Times,serif\" font-size=\"14.00\">π */4;</text>\n",
              "<text text-anchor=\"middle\" x=\"443.5\" y=\"-7.8\" font-family=\"Times,serif\" font-size=\"14.00\">σ None</text>\n",
              "</g>\n",
              "<!-- p12&#45;&#45;p13 -->\n",
              "<g id=\"edge12\" class=\"edge\">\n",
              "<title>p12&#45;&#45;p13</title>\n",
              "<path fill=\"none\" stroke=\"black\" d=\"M443.5,-88.97C443.5,-78.51 443.5,-64.9 443.5,-53.16\"/>\n",
              "</g>\n",
              "</g>\n",
              "</svg>\n"
            ]
          },
          "metadata": {},
          "execution_count": 168
        }
      ]
    },
    {
      "cell_type": "code",
      "source": [
        "df5.dtypes"
      ],
      "metadata": {
        "colab": {
          "base_uri": "https://localhost:8080/"
        },
        "id": "EAvMNoW2IQN3",
        "outputId": "2a96bfe3-026b-4f36-89a5-b9e44ec58fe4"
      },
      "id": "EAvMNoW2IQN3",
      "execution_count": 172,
      "outputs": [
        {
          "output_type": "stream",
          "name": "stderr",
          "text": [
            "<ipython-input-172-d8e0f4b61656>:1: PerformanceWarning: Determining the data types of a LazyFrame requires resolving its schema, which is a potentially expensive operation. Use `LazyFrame.collect_schema().dtypes()` to get the data types without this warning.\n",
            "  df5.dtypes\n"
          ]
        },
        {
          "output_type": "execute_result",
          "data": {
            "text/plain": [
              "[String, String, String, String]"
            ]
          },
          "metadata": {},
          "execution_count": 172
        }
      ]
    },
    {
      "cell_type": "markdown",
      "source": [
        "##LECTURA 36"
      ],
      "metadata": {
        "id": "uF6NnCkOJSww"
      },
      "id": "uF6NnCkOJSww"
    },
    {
      "cell_type": "code",
      "source": [
        "import polars as pl"
      ],
      "metadata": {
        "id": "6BMFvyGgJp9o"
      },
      "id": "6BMFvyGgJp9o",
      "execution_count": 178,
      "outputs": []
    },
    {
      "cell_type": "code",
      "source": [
        "vuelos_lf = (\n",
        "    pl.scan_parquet('/content/drive/MyDrive/polars/seccion04/vuelos/vuelos.parquet')\n",
        ")"
      ],
      "metadata": {
        "id": "tApOd-7EJu2J"
      },
      "id": "tApOd-7EJu2J",
      "execution_count": 179,
      "outputs": []
    },
    {
      "cell_type": "code",
      "source": [
        "vuelos_lf"
      ],
      "metadata": {
        "colab": {
          "base_uri": "https://localhost:8080/",
          "height": 148
        },
        "id": "IowiumTrKFSL",
        "outputId": "cdf675f5-c528-4fa5-d327-0373ca0f75d0"
      },
      "id": "IowiumTrKFSL",
      "execution_count": 181,
      "outputs": [
        {
          "output_type": "execute_result",
          "data": {
            "text/plain": [
              "<LazyFrame at 0x7C150663A470>"
            ],
            "text/html": [
              "<h4>NAIVE QUERY PLAN</h4><p>run <b>LazyFrame.show_graph()</b> to see the optimized version</p><?xml version=\"1.0\" encoding=\"UTF-8\" standalone=\"no\"?>\n",
              "<!DOCTYPE svg PUBLIC \"-//W3C//DTD SVG 1.1//EN\"\n",
              " \"http://www.w3.org/Graphics/SVG/1.1/DTD/svg11.dtd\">\n",
              "<!-- Generated by graphviz version 2.43.0 (0)\n",
              " -->\n",
              "<!-- Title: polars_query Pages: 1 -->\n",
              "<svg width=\"464pt\" height=\"46pt\"\n",
              " viewBox=\"0.00 0.00 464.00 46.00\" xmlns=\"http://www.w3.org/2000/svg\" xmlns:xlink=\"http://www.w3.org/1999/xlink\">\n",
              "<g id=\"graph0\" class=\"graph\" transform=\"scale(1 1) rotate(0) translate(4 42)\">\n",
              "<title>polars_query</title>\n",
              "<polygon fill=\"white\" stroke=\"transparent\" points=\"-4,4 -4,-42 460,-42 460,4 -4,4\"/>\n",
              "<!-- p1 -->\n",
              "<g id=\"node1\" class=\"node\">\n",
              "<title>p1</title>\n",
              "<polygon fill=\"none\" stroke=\"black\" points=\"456,-38 0,-38 0,0 456,0 456,-38\"/>\n",
              "<text text-anchor=\"middle\" x=\"228\" y=\"-22.8\" font-family=\"Times,serif\" font-size=\"14.00\">Parquet SCAN [/content/drive/MyDrive/polars/seccion04/vuelos/vuelos.parquet]</text>\n",
              "<text text-anchor=\"middle\" x=\"228\" y=\"-7.8\" font-family=\"Times,serif\" font-size=\"14.00\">π */31;</text>\n",
              "</g>\n",
              "</g>\n",
              "</svg>\n"
            ]
          },
          "metadata": {},
          "execution_count": 181
        }
      ]
    },
    {
      "cell_type": "code",
      "source": [
        "vuelos_lf.collect()"
      ],
      "metadata": {
        "colab": {
          "base_uri": "https://localhost:8080/",
          "height": 463
        },
        "id": "oxtdTNmiJ4tz",
        "outputId": "2586ea1e-7c13-4013-d26b-b29fe3630db5"
      },
      "id": "oxtdTNmiJ4tz",
      "execution_count": 180,
      "outputs": [
        {
          "output_type": "execute_result",
          "data": {
            "text/plain": [
              "shape: (5_819_079, 31)\n",
              "┌──────┬───────┬─────┬─────────────┬───┬──────────────┬──────────────┬──────────────┬──────────────┐\n",
              "│ YEAR ┆ MONTH ┆ DAY ┆ DAY_OF_WEEK ┆ … ┆ SECURITY_DEL ┆ AIRLINE_DELA ┆ LATE_AIRCRAF ┆ WEATHER_DELA │\n",
              "│ ---  ┆ ---   ┆ --- ┆ ---         ┆   ┆ AY           ┆ Y            ┆ T_DELAY      ┆ Y            │\n",
              "│ i32  ┆ i32   ┆ i32 ┆ i32         ┆   ┆ ---          ┆ ---          ┆ ---          ┆ ---          │\n",
              "│      ┆       ┆     ┆             ┆   ┆ i32          ┆ i32          ┆ i32          ┆ i32          │\n",
              "╞══════╪═══════╪═════╪═════════════╪═══╪══════════════╪══════════════╪══════════════╪══════════════╡\n",
              "│ 2015 ┆ 1     ┆ 1   ┆ 4           ┆ … ┆ null         ┆ null         ┆ null         ┆ null         │\n",
              "│ 2015 ┆ 1     ┆ 1   ┆ 4           ┆ … ┆ null         ┆ null         ┆ null         ┆ null         │\n",
              "│ 2015 ┆ 1     ┆ 1   ┆ 4           ┆ … ┆ null         ┆ null         ┆ null         ┆ null         │\n",
              "│ 2015 ┆ 1     ┆ 1   ┆ 4           ┆ … ┆ null         ┆ null         ┆ null         ┆ null         │\n",
              "│ 2015 ┆ 1     ┆ 1   ┆ 4           ┆ … ┆ null         ┆ null         ┆ null         ┆ null         │\n",
              "│ …    ┆ …     ┆ …   ┆ …           ┆ … ┆ …            ┆ …            ┆ …            ┆ …            │\n",
              "│ 2015 ┆ 12    ┆ 31  ┆ 4           ┆ … ┆ null         ┆ null         ┆ null         ┆ null         │\n",
              "│ 2015 ┆ 12    ┆ 31  ┆ 4           ┆ … ┆ null         ┆ null         ┆ null         ┆ null         │\n",
              "│ 2015 ┆ 12    ┆ 31  ┆ 4           ┆ … ┆ null         ┆ null         ┆ null         ┆ null         │\n",
              "│ 2015 ┆ 12    ┆ 31  ┆ 4           ┆ … ┆ null         ┆ null         ┆ null         ┆ null         │\n",
              "│ 2015 ┆ 12    ┆ 31  ┆ 4           ┆ … ┆ null         ┆ null         ┆ null         ┆ null         │\n",
              "└──────┴───────┴─────┴─────────────┴───┴──────────────┴──────────────┴──────────────┴──────────────┘"
            ],
            "text/html": [
              "<div><style>\n",
              ".dataframe > thead > tr,\n",
              ".dataframe > tbody > tr {\n",
              "  text-align: right;\n",
              "  white-space: pre-wrap;\n",
              "}\n",
              "</style>\n",
              "<small>shape: (5_819_079, 31)</small><table border=\"1\" class=\"dataframe\"><thead><tr><th>YEAR</th><th>MONTH</th><th>DAY</th><th>DAY_OF_WEEK</th><th>AIRLINE</th><th>FLIGHT_NUMBER</th><th>TAIL_NUMBER</th><th>ORIGIN_AIRPORT</th><th>DESTINATION_AIRPORT</th><th>SCHEDULED_DEPARTURE</th><th>DEPARTURE_TIME</th><th>DEPARTURE_DELAY</th><th>TAXI_OUT</th><th>WHEELS_OFF</th><th>SCHEDULED_TIME</th><th>ELAPSED_TIME</th><th>AIR_TIME</th><th>DISTANCE</th><th>WHEELS_ON</th><th>TAXI_IN</th><th>SCHEDULED_ARRIVAL</th><th>ARRIVAL_TIME</th><th>ARRIVAL_DELAY</th><th>DIVERTED</th><th>CANCELLED</th><th>CANCELLATION_REASON</th><th>AIR_SYSTEM_DELAY</th><th>SECURITY_DELAY</th><th>AIRLINE_DELAY</th><th>LATE_AIRCRAFT_DELAY</th><th>WEATHER_DELAY</th></tr><tr><td>i32</td><td>i32</td><td>i32</td><td>i32</td><td>str</td><td>i32</td><td>str</td><td>str</td><td>str</td><td>i32</td><td>i32</td><td>i32</td><td>i32</td><td>i32</td><td>i32</td><td>i32</td><td>i32</td><td>i32</td><td>i32</td><td>i32</td><td>i32</td><td>i32</td><td>i32</td><td>i32</td><td>i32</td><td>str</td><td>i32</td><td>i32</td><td>i32</td><td>i32</td><td>i32</td></tr></thead><tbody><tr><td>2015</td><td>1</td><td>1</td><td>4</td><td>&quot;AS&quot;</td><td>98</td><td>&quot;N407AS&quot;</td><td>&quot;ANC&quot;</td><td>&quot;SEA&quot;</td><td>5</td><td>2354</td><td>-11</td><td>21</td><td>15</td><td>205</td><td>194</td><td>169</td><td>1448</td><td>404</td><td>4</td><td>430</td><td>408</td><td>-22</td><td>0</td><td>0</td><td>null</td><td>null</td><td>null</td><td>null</td><td>null</td><td>null</td></tr><tr><td>2015</td><td>1</td><td>1</td><td>4</td><td>&quot;AA&quot;</td><td>2336</td><td>&quot;N3KUAA&quot;</td><td>&quot;LAX&quot;</td><td>&quot;PBI&quot;</td><td>10</td><td>2</td><td>-8</td><td>12</td><td>14</td><td>280</td><td>279</td><td>263</td><td>2330</td><td>737</td><td>4</td><td>750</td><td>741</td><td>-9</td><td>0</td><td>0</td><td>null</td><td>null</td><td>null</td><td>null</td><td>null</td><td>null</td></tr><tr><td>2015</td><td>1</td><td>1</td><td>4</td><td>&quot;US&quot;</td><td>840</td><td>&quot;N171US&quot;</td><td>&quot;SFO&quot;</td><td>&quot;CLT&quot;</td><td>20</td><td>18</td><td>-2</td><td>16</td><td>34</td><td>286</td><td>293</td><td>266</td><td>2296</td><td>800</td><td>11</td><td>806</td><td>811</td><td>5</td><td>0</td><td>0</td><td>null</td><td>null</td><td>null</td><td>null</td><td>null</td><td>null</td></tr><tr><td>2015</td><td>1</td><td>1</td><td>4</td><td>&quot;AA&quot;</td><td>258</td><td>&quot;N3HYAA&quot;</td><td>&quot;LAX&quot;</td><td>&quot;MIA&quot;</td><td>20</td><td>15</td><td>-5</td><td>15</td><td>30</td><td>285</td><td>281</td><td>258</td><td>2342</td><td>748</td><td>8</td><td>805</td><td>756</td><td>-9</td><td>0</td><td>0</td><td>null</td><td>null</td><td>null</td><td>null</td><td>null</td><td>null</td></tr><tr><td>2015</td><td>1</td><td>1</td><td>4</td><td>&quot;AS&quot;</td><td>135</td><td>&quot;N527AS&quot;</td><td>&quot;SEA&quot;</td><td>&quot;ANC&quot;</td><td>25</td><td>24</td><td>-1</td><td>11</td><td>35</td><td>235</td><td>215</td><td>199</td><td>1448</td><td>254</td><td>5</td><td>320</td><td>259</td><td>-21</td><td>0</td><td>0</td><td>null</td><td>null</td><td>null</td><td>null</td><td>null</td><td>null</td></tr><tr><td>&hellip;</td><td>&hellip;</td><td>&hellip;</td><td>&hellip;</td><td>&hellip;</td><td>&hellip;</td><td>&hellip;</td><td>&hellip;</td><td>&hellip;</td><td>&hellip;</td><td>&hellip;</td><td>&hellip;</td><td>&hellip;</td><td>&hellip;</td><td>&hellip;</td><td>&hellip;</td><td>&hellip;</td><td>&hellip;</td><td>&hellip;</td><td>&hellip;</td><td>&hellip;</td><td>&hellip;</td><td>&hellip;</td><td>&hellip;</td><td>&hellip;</td><td>&hellip;</td><td>&hellip;</td><td>&hellip;</td><td>&hellip;</td><td>&hellip;</td><td>&hellip;</td></tr><tr><td>2015</td><td>12</td><td>31</td><td>4</td><td>&quot;B6&quot;</td><td>688</td><td>&quot;N657JB&quot;</td><td>&quot;LAX&quot;</td><td>&quot;BOS&quot;</td><td>2359</td><td>2355</td><td>-4</td><td>22</td><td>17</td><td>320</td><td>298</td><td>272</td><td>2611</td><td>749</td><td>4</td><td>819</td><td>753</td><td>-26</td><td>0</td><td>0</td><td>null</td><td>null</td><td>null</td><td>null</td><td>null</td><td>null</td></tr><tr><td>2015</td><td>12</td><td>31</td><td>4</td><td>&quot;B6&quot;</td><td>745</td><td>&quot;N828JB&quot;</td><td>&quot;JFK&quot;</td><td>&quot;PSE&quot;</td><td>2359</td><td>2355</td><td>-4</td><td>17</td><td>12</td><td>227</td><td>215</td><td>195</td><td>1617</td><td>427</td><td>3</td><td>446</td><td>430</td><td>-16</td><td>0</td><td>0</td><td>null</td><td>null</td><td>null</td><td>null</td><td>null</td><td>null</td></tr><tr><td>2015</td><td>12</td><td>31</td><td>4</td><td>&quot;B6&quot;</td><td>1503</td><td>&quot;N913JB&quot;</td><td>&quot;JFK&quot;</td><td>&quot;SJU&quot;</td><td>2359</td><td>2350</td><td>-9</td><td>17</td><td>7</td><td>221</td><td>222</td><td>197</td><td>1598</td><td>424</td><td>8</td><td>440</td><td>432</td><td>-8</td><td>0</td><td>0</td><td>null</td><td>null</td><td>null</td><td>null</td><td>null</td><td>null</td></tr><tr><td>2015</td><td>12</td><td>31</td><td>4</td><td>&quot;B6&quot;</td><td>333</td><td>&quot;N527JB&quot;</td><td>&quot;MCO&quot;</td><td>&quot;SJU&quot;</td><td>2359</td><td>2353</td><td>-6</td><td>10</td><td>3</td><td>161</td><td>157</td><td>144</td><td>1189</td><td>327</td><td>3</td><td>340</td><td>330</td><td>-10</td><td>0</td><td>0</td><td>null</td><td>null</td><td>null</td><td>null</td><td>null</td><td>null</td></tr><tr><td>2015</td><td>12</td><td>31</td><td>4</td><td>&quot;B6&quot;</td><td>839</td><td>&quot;N534JB&quot;</td><td>&quot;JFK&quot;</td><td>&quot;BQN&quot;</td><td>2359</td><td>14</td><td>15</td><td>14</td><td>28</td><td>221</td><td>208</td><td>189</td><td>1576</td><td>437</td><td>5</td><td>440</td><td>442</td><td>2</td><td>0</td><td>0</td><td>null</td><td>null</td><td>null</td><td>null</td><td>null</td><td>null</td></tr></tbody></table></div>"
            ]
          },
          "metadata": {},
          "execution_count": 180
        }
      ]
    },
    {
      "cell_type": "code",
      "source": [
        "from polars import col"
      ],
      "metadata": {
        "id": "04xT7jCMKJga"
      },
      "id": "04xT7jCMKJga",
      "execution_count": 182,
      "outputs": []
    },
    {
      "cell_type": "markdown",
      "source": [
        "tomamos la variable de vuelos lazyframe, agrupamos por aerolinea, agregaciones una pór una y renombrar nombre de columna"
      ],
      "metadata": {
        "id": "zEyqfx2SKQBa"
      },
      "id": "zEyqfx2SKQBa"
    },
    {
      "cell_type": "code",
      "source": [
        "vuelos_lf.columns"
      ],
      "metadata": {
        "colab": {
          "base_uri": "https://localhost:8080/"
        },
        "id": "0SFjWm-EKoCK",
        "outputId": "d671fa04-3984-49da-830e-09dc11596d91"
      },
      "id": "0SFjWm-EKoCK",
      "execution_count": 184,
      "outputs": [
        {
          "output_type": "stream",
          "name": "stderr",
          "text": [
            "<ipython-input-184-391976007e82>:1: PerformanceWarning: Determining the column names of a LazyFrame requires resolving its schema, which is a potentially expensive operation. Use `LazyFrame.collect_schema().names()` to get the column names without this warning.\n",
            "  vuelos_lf.columns\n"
          ]
        },
        {
          "output_type": "execute_result",
          "data": {
            "text/plain": [
              "['YEAR',\n",
              " 'MONTH',\n",
              " 'DAY',\n",
              " 'DAY_OF_WEEK',\n",
              " 'AIRLINE',\n",
              " 'FLIGHT_NUMBER',\n",
              " 'TAIL_NUMBER',\n",
              " 'ORIGIN_AIRPORT',\n",
              " 'DESTINATION_AIRPORT',\n",
              " 'SCHEDULED_DEPARTURE',\n",
              " 'DEPARTURE_TIME',\n",
              " 'DEPARTURE_DELAY',\n",
              " 'TAXI_OUT',\n",
              " 'WHEELS_OFF',\n",
              " 'SCHEDULED_TIME',\n",
              " 'ELAPSED_TIME',\n",
              " 'AIR_TIME',\n",
              " 'DISTANCE',\n",
              " 'WHEELS_ON',\n",
              " 'TAXI_IN',\n",
              " 'SCHEDULED_ARRIVAL',\n",
              " 'ARRIVAL_TIME',\n",
              " 'ARRIVAL_DELAY',\n",
              " 'DIVERTED',\n",
              " 'CANCELLED',\n",
              " 'CANCELLATION_REASON',\n",
              " 'AIR_SYSTEM_DELAY',\n",
              " 'SECURITY_DELAY',\n",
              " 'AIRLINE_DELAY',\n",
              " 'LATE_AIRCRAFT_DELAY',\n",
              " 'WEATHER_DELAY']"
            ]
          },
          "metadata": {},
          "execution_count": 184
        }
      ]
    },
    {
      "cell_type": "code",
      "source": [
        "vuelos_lf.group_by('AIRLINE').agg(\n",
        "    pl.col('AIR_TIME').mean().name.suffix('_MEAN'), ## columna tiempo en el aire y nueva columna y un sufijo\n",
        "     pl.col('AIR_TIME').count().alias('COUNT_AIR_TIME'),## englobo la agregacion columna tiempo en el aire, conteo y renombrarla\n",
        "     SUM_DELAY=pl.col('DEPARTURE_DELAY').sum()  ## nombre de la columna = AGREGACI0N suma de retrasos\n",
        ").collect() ## para ejecutar y obtener el resultado"
      ],
      "metadata": {
        "colab": {
          "base_uri": "https://localhost:8080/",
          "height": 443
        },
        "id": "TVBhp-DhKfho",
        "outputId": "c6431278-f886-4ece-f1af-0ec573620f56"
      },
      "id": "TVBhp-DhKfho",
      "execution_count": 183,
      "outputs": [
        {
          "output_type": "execute_result",
          "data": {
            "text/plain": [
              "shape: (14, 4)\n",
              "┌─────────┬───────────────┬────────────────┬───────────┐\n",
              "│ AIRLINE ┆ AIR_TIME_MEAN ┆ COUNT_AIR_TIME ┆ SUM_DELAY │\n",
              "│ ---     ┆ ---           ┆ ---            ┆ ---       │\n",
              "│ str     ┆ f64           ┆ u32            ┆ i32       │\n",
              "╞═════════╪═══════════════╪════════════════╪═══════════╡\n",
              "│ EV      ┆ 72.763842     ┆ 554752         ┆ 4857338   │\n",
              "│ AS      ┆ 157.844784    ┆ 171439         ┆ 306997    │\n",
              "│ US      ┆ 125.774234    ┆ 194223         ┆ 1196447   │\n",
              "│ MQ      ┆ 66.97963      ┆ 278791         ┆ 2837908   │\n",
              "│ NK      ┆ 132.347886    ┆ 115193         ┆ 1840887   │\n",
              "│ …       ┆ …             ┆ …              ┆ …         │\n",
              "│ OO      ┆ 75.65501      ┆ 576814         ┆ 4517510   │\n",
              "│ UA      ┆ 164.835886    ┆ 507762         ┆ 7355348   │\n",
              "│ HA      ┆ 84.881314     ┆ 76041          ┆ 36972     │\n",
              "│ F9      ┆ 130.240571    ┆ 90090          ┆ 1205449   │\n",
              "│ AA      ┆ 139.806208    ┆ 712935         ┆ 6369435   │\n",
              "└─────────┴───────────────┴────────────────┴───────────┘"
            ],
            "text/html": [
              "<div><style>\n",
              ".dataframe > thead > tr,\n",
              ".dataframe > tbody > tr {\n",
              "  text-align: right;\n",
              "  white-space: pre-wrap;\n",
              "}\n",
              "</style>\n",
              "<small>shape: (14, 4)</small><table border=\"1\" class=\"dataframe\"><thead><tr><th>AIRLINE</th><th>AIR_TIME_MEAN</th><th>COUNT_AIR_TIME</th><th>SUM_DELAY</th></tr><tr><td>str</td><td>f64</td><td>u32</td><td>i32</td></tr></thead><tbody><tr><td>&quot;EV&quot;</td><td>72.763842</td><td>554752</td><td>4857338</td></tr><tr><td>&quot;AS&quot;</td><td>157.844784</td><td>171439</td><td>306997</td></tr><tr><td>&quot;US&quot;</td><td>125.774234</td><td>194223</td><td>1196447</td></tr><tr><td>&quot;MQ&quot;</td><td>66.97963</td><td>278791</td><td>2837908</td></tr><tr><td>&quot;NK&quot;</td><td>132.347886</td><td>115193</td><td>1840887</td></tr><tr><td>&hellip;</td><td>&hellip;</td><td>&hellip;</td><td>&hellip;</td></tr><tr><td>&quot;OO&quot;</td><td>75.65501</td><td>576814</td><td>4517510</td></tr><tr><td>&quot;UA&quot;</td><td>164.835886</td><td>507762</td><td>7355348</td></tr><tr><td>&quot;HA&quot;</td><td>84.881314</td><td>76041</td><td>36972</td></tr><tr><td>&quot;F9&quot;</td><td>130.240571</td><td>90090</td><td>1205449</td></tr><tr><td>&quot;AA&quot;</td><td>139.806208</td><td>712935</td><td>6369435</td></tr></tbody></table></div>"
            ]
          },
          "metadata": {},
          "execution_count": 183
        }
      ]
    },
    {
      "cell_type": "code",
      "source": [
        "vuelos_lf.group_by('AIRLINE').agg(\n",
        "    pl.col('ELAPSED_TIME').mean().name.suffix('_MEAN'), ## columna tiempo en el aire y nueva columna y un sufijo\n",
        "     pl.col('DISTANCE').count().alias('DISTANCE_TIME'),## englobo la agregacion columna tiempo en el aire, conteo y renombrarla\n",
        "     SUM_DELAY=pl.col('DEPARTURE_DELAY').sum()  ## nombre de la columna = AGREGACI0N suma de retrasos\n",
        ").collect() ## para ejecutar y obtener el resultado"
      ],
      "metadata": {
        "colab": {
          "base_uri": "https://localhost:8080/",
          "height": 443
        },
        "id": "1_hulSERK6z7",
        "outputId": "a68cc683-8cd9-488b-f98d-36b7ec3b87d0"
      },
      "id": "1_hulSERK6z7",
      "execution_count": 185,
      "outputs": [
        {
          "output_type": "execute_result",
          "data": {
            "text/plain": [
              "shape: (14, 4)\n",
              "┌─────────┬───────────────────┬───────────────┬───────────┐\n",
              "│ AIRLINE ┆ ELAPSED_TIME_MEAN ┆ DISTANCE_TIME ┆ SUM_DELAY │\n",
              "│ ---     ┆ ---               ┆ ---           ┆ ---       │\n",
              "│ str     ┆ f64               ┆ u32           ┆ i32       │\n",
              "╞═════════╪═══════════════════╪═══════════════╪═══════════╡\n",
              "│ NK      ┆ 156.503598        ┆ 117379        ┆ 1840887   │\n",
              "│ F9      ┆ 155.056677        ┆ 90836         ┆ 1205449   │\n",
              "│ HA      ┆ 102.672269        ┆ 76272         ┆ 36972     │\n",
              "│ AA      ┆ 166.433282        ┆ 725984        ┆ 6369435   │\n",
              "│ OO      ┆ 100.724558        ┆ 588353        ┆ 4517510   │\n",
              "│ …       ┆ …                 ┆ …             ┆ …         │\n",
              "│ MQ      ┆ 92.593516         ┆ 294632        ┆ 2837908   │\n",
              "│ B6      ┆ 167.838858        ┆ 267048        ┆ 3026467   │\n",
              "│ EV      ┆ 97.124247         ┆ 571977        ┆ 4857338   │\n",
              "│ DL      ┆ 140.471965        ┆ 875881        ┆ 6427294   │\n",
              "│ WN      ┆ 121.201368        ┆ 1261855       ┆ 13186520  │\n",
              "└─────────┴───────────────────┴───────────────┴───────────┘"
            ],
            "text/html": [
              "<div><style>\n",
              ".dataframe > thead > tr,\n",
              ".dataframe > tbody > tr {\n",
              "  text-align: right;\n",
              "  white-space: pre-wrap;\n",
              "}\n",
              "</style>\n",
              "<small>shape: (14, 4)</small><table border=\"1\" class=\"dataframe\"><thead><tr><th>AIRLINE</th><th>ELAPSED_TIME_MEAN</th><th>DISTANCE_TIME</th><th>SUM_DELAY</th></tr><tr><td>str</td><td>f64</td><td>u32</td><td>i32</td></tr></thead><tbody><tr><td>&quot;NK&quot;</td><td>156.503598</td><td>117379</td><td>1840887</td></tr><tr><td>&quot;F9&quot;</td><td>155.056677</td><td>90836</td><td>1205449</td></tr><tr><td>&quot;HA&quot;</td><td>102.672269</td><td>76272</td><td>36972</td></tr><tr><td>&quot;AA&quot;</td><td>166.433282</td><td>725984</td><td>6369435</td></tr><tr><td>&quot;OO&quot;</td><td>100.724558</td><td>588353</td><td>4517510</td></tr><tr><td>&hellip;</td><td>&hellip;</td><td>&hellip;</td><td>&hellip;</td></tr><tr><td>&quot;MQ&quot;</td><td>92.593516</td><td>294632</td><td>2837908</td></tr><tr><td>&quot;B6&quot;</td><td>167.838858</td><td>267048</td><td>3026467</td></tr><tr><td>&quot;EV&quot;</td><td>97.124247</td><td>571977</td><td>4857338</td></tr><tr><td>&quot;DL&quot;</td><td>140.471965</td><td>875881</td><td>6427294</td></tr><tr><td>&quot;WN&quot;</td><td>121.201368</td><td>1261855</td><td>13186520</td></tr></tbody></table></div>"
            ]
          },
          "metadata": {},
          "execution_count": 185
        }
      ]
    },
    {
      "cell_type": "code",
      "source": [
        "vuelos_lf.collect()"
      ],
      "metadata": {
        "colab": {
          "base_uri": "https://localhost:8080/",
          "height": 463
        },
        "id": "pX6l-dyML-kE",
        "outputId": "49800047-26c3-496c-c864-723c3e9612d9"
      },
      "id": "pX6l-dyML-kE",
      "execution_count": 188,
      "outputs": [
        {
          "output_type": "execute_result",
          "data": {
            "text/plain": [
              "shape: (5_819_079, 31)\n",
              "┌──────┬───────┬─────┬─────────────┬───┬──────────────┬──────────────┬──────────────┬──────────────┐\n",
              "│ YEAR ┆ MONTH ┆ DAY ┆ DAY_OF_WEEK ┆ … ┆ SECURITY_DEL ┆ AIRLINE_DELA ┆ LATE_AIRCRAF ┆ WEATHER_DELA │\n",
              "│ ---  ┆ ---   ┆ --- ┆ ---         ┆   ┆ AY           ┆ Y            ┆ T_DELAY      ┆ Y            │\n",
              "│ i32  ┆ i32   ┆ i32 ┆ i32         ┆   ┆ ---          ┆ ---          ┆ ---          ┆ ---          │\n",
              "│      ┆       ┆     ┆             ┆   ┆ i32          ┆ i32          ┆ i32          ┆ i32          │\n",
              "╞══════╪═══════╪═════╪═════════════╪═══╪══════════════╪══════════════╪══════════════╪══════════════╡\n",
              "│ 2015 ┆ 1     ┆ 1   ┆ 4           ┆ … ┆ null         ┆ null         ┆ null         ┆ null         │\n",
              "│ 2015 ┆ 1     ┆ 1   ┆ 4           ┆ … ┆ null         ┆ null         ┆ null         ┆ null         │\n",
              "│ 2015 ┆ 1     ┆ 1   ┆ 4           ┆ … ┆ null         ┆ null         ┆ null         ┆ null         │\n",
              "│ 2015 ┆ 1     ┆ 1   ┆ 4           ┆ … ┆ null         ┆ null         ┆ null         ┆ null         │\n",
              "│ 2015 ┆ 1     ┆ 1   ┆ 4           ┆ … ┆ null         ┆ null         ┆ null         ┆ null         │\n",
              "│ …    ┆ …     ┆ …   ┆ …           ┆ … ┆ …            ┆ …            ┆ …            ┆ …            │\n",
              "│ 2015 ┆ 12    ┆ 31  ┆ 4           ┆ … ┆ null         ┆ null         ┆ null         ┆ null         │\n",
              "│ 2015 ┆ 12    ┆ 31  ┆ 4           ┆ … ┆ null         ┆ null         ┆ null         ┆ null         │\n",
              "│ 2015 ┆ 12    ┆ 31  ┆ 4           ┆ … ┆ null         ┆ null         ┆ null         ┆ null         │\n",
              "│ 2015 ┆ 12    ┆ 31  ┆ 4           ┆ … ┆ null         ┆ null         ┆ null         ┆ null         │\n",
              "│ 2015 ┆ 12    ┆ 31  ┆ 4           ┆ … ┆ null         ┆ null         ┆ null         ┆ null         │\n",
              "└──────┴───────┴─────┴─────────────┴───┴──────────────┴──────────────┴──────────────┴──────────────┘"
            ],
            "text/html": [
              "<div><style>\n",
              ".dataframe > thead > tr,\n",
              ".dataframe > tbody > tr {\n",
              "  text-align: right;\n",
              "  white-space: pre-wrap;\n",
              "}\n",
              "</style>\n",
              "<small>shape: (5_819_079, 31)</small><table border=\"1\" class=\"dataframe\"><thead><tr><th>YEAR</th><th>MONTH</th><th>DAY</th><th>DAY_OF_WEEK</th><th>AIRLINE</th><th>FLIGHT_NUMBER</th><th>TAIL_NUMBER</th><th>ORIGIN_AIRPORT</th><th>DESTINATION_AIRPORT</th><th>SCHEDULED_DEPARTURE</th><th>DEPARTURE_TIME</th><th>DEPARTURE_DELAY</th><th>TAXI_OUT</th><th>WHEELS_OFF</th><th>SCHEDULED_TIME</th><th>ELAPSED_TIME</th><th>AIR_TIME</th><th>DISTANCE</th><th>WHEELS_ON</th><th>TAXI_IN</th><th>SCHEDULED_ARRIVAL</th><th>ARRIVAL_TIME</th><th>ARRIVAL_DELAY</th><th>DIVERTED</th><th>CANCELLED</th><th>CANCELLATION_REASON</th><th>AIR_SYSTEM_DELAY</th><th>SECURITY_DELAY</th><th>AIRLINE_DELAY</th><th>LATE_AIRCRAFT_DELAY</th><th>WEATHER_DELAY</th></tr><tr><td>i32</td><td>i32</td><td>i32</td><td>i32</td><td>str</td><td>i32</td><td>str</td><td>str</td><td>str</td><td>i32</td><td>i32</td><td>i32</td><td>i32</td><td>i32</td><td>i32</td><td>i32</td><td>i32</td><td>i32</td><td>i32</td><td>i32</td><td>i32</td><td>i32</td><td>i32</td><td>i32</td><td>i32</td><td>str</td><td>i32</td><td>i32</td><td>i32</td><td>i32</td><td>i32</td></tr></thead><tbody><tr><td>2015</td><td>1</td><td>1</td><td>4</td><td>&quot;AS&quot;</td><td>98</td><td>&quot;N407AS&quot;</td><td>&quot;ANC&quot;</td><td>&quot;SEA&quot;</td><td>5</td><td>2354</td><td>-11</td><td>21</td><td>15</td><td>205</td><td>194</td><td>169</td><td>1448</td><td>404</td><td>4</td><td>430</td><td>408</td><td>-22</td><td>0</td><td>0</td><td>null</td><td>null</td><td>null</td><td>null</td><td>null</td><td>null</td></tr><tr><td>2015</td><td>1</td><td>1</td><td>4</td><td>&quot;AA&quot;</td><td>2336</td><td>&quot;N3KUAA&quot;</td><td>&quot;LAX&quot;</td><td>&quot;PBI&quot;</td><td>10</td><td>2</td><td>-8</td><td>12</td><td>14</td><td>280</td><td>279</td><td>263</td><td>2330</td><td>737</td><td>4</td><td>750</td><td>741</td><td>-9</td><td>0</td><td>0</td><td>null</td><td>null</td><td>null</td><td>null</td><td>null</td><td>null</td></tr><tr><td>2015</td><td>1</td><td>1</td><td>4</td><td>&quot;US&quot;</td><td>840</td><td>&quot;N171US&quot;</td><td>&quot;SFO&quot;</td><td>&quot;CLT&quot;</td><td>20</td><td>18</td><td>-2</td><td>16</td><td>34</td><td>286</td><td>293</td><td>266</td><td>2296</td><td>800</td><td>11</td><td>806</td><td>811</td><td>5</td><td>0</td><td>0</td><td>null</td><td>null</td><td>null</td><td>null</td><td>null</td><td>null</td></tr><tr><td>2015</td><td>1</td><td>1</td><td>4</td><td>&quot;AA&quot;</td><td>258</td><td>&quot;N3HYAA&quot;</td><td>&quot;LAX&quot;</td><td>&quot;MIA&quot;</td><td>20</td><td>15</td><td>-5</td><td>15</td><td>30</td><td>285</td><td>281</td><td>258</td><td>2342</td><td>748</td><td>8</td><td>805</td><td>756</td><td>-9</td><td>0</td><td>0</td><td>null</td><td>null</td><td>null</td><td>null</td><td>null</td><td>null</td></tr><tr><td>2015</td><td>1</td><td>1</td><td>4</td><td>&quot;AS&quot;</td><td>135</td><td>&quot;N527AS&quot;</td><td>&quot;SEA&quot;</td><td>&quot;ANC&quot;</td><td>25</td><td>24</td><td>-1</td><td>11</td><td>35</td><td>235</td><td>215</td><td>199</td><td>1448</td><td>254</td><td>5</td><td>320</td><td>259</td><td>-21</td><td>0</td><td>0</td><td>null</td><td>null</td><td>null</td><td>null</td><td>null</td><td>null</td></tr><tr><td>&hellip;</td><td>&hellip;</td><td>&hellip;</td><td>&hellip;</td><td>&hellip;</td><td>&hellip;</td><td>&hellip;</td><td>&hellip;</td><td>&hellip;</td><td>&hellip;</td><td>&hellip;</td><td>&hellip;</td><td>&hellip;</td><td>&hellip;</td><td>&hellip;</td><td>&hellip;</td><td>&hellip;</td><td>&hellip;</td><td>&hellip;</td><td>&hellip;</td><td>&hellip;</td><td>&hellip;</td><td>&hellip;</td><td>&hellip;</td><td>&hellip;</td><td>&hellip;</td><td>&hellip;</td><td>&hellip;</td><td>&hellip;</td><td>&hellip;</td><td>&hellip;</td></tr><tr><td>2015</td><td>12</td><td>31</td><td>4</td><td>&quot;B6&quot;</td><td>688</td><td>&quot;N657JB&quot;</td><td>&quot;LAX&quot;</td><td>&quot;BOS&quot;</td><td>2359</td><td>2355</td><td>-4</td><td>22</td><td>17</td><td>320</td><td>298</td><td>272</td><td>2611</td><td>749</td><td>4</td><td>819</td><td>753</td><td>-26</td><td>0</td><td>0</td><td>null</td><td>null</td><td>null</td><td>null</td><td>null</td><td>null</td></tr><tr><td>2015</td><td>12</td><td>31</td><td>4</td><td>&quot;B6&quot;</td><td>745</td><td>&quot;N828JB&quot;</td><td>&quot;JFK&quot;</td><td>&quot;PSE&quot;</td><td>2359</td><td>2355</td><td>-4</td><td>17</td><td>12</td><td>227</td><td>215</td><td>195</td><td>1617</td><td>427</td><td>3</td><td>446</td><td>430</td><td>-16</td><td>0</td><td>0</td><td>null</td><td>null</td><td>null</td><td>null</td><td>null</td><td>null</td></tr><tr><td>2015</td><td>12</td><td>31</td><td>4</td><td>&quot;B6&quot;</td><td>1503</td><td>&quot;N913JB&quot;</td><td>&quot;JFK&quot;</td><td>&quot;SJU&quot;</td><td>2359</td><td>2350</td><td>-9</td><td>17</td><td>7</td><td>221</td><td>222</td><td>197</td><td>1598</td><td>424</td><td>8</td><td>440</td><td>432</td><td>-8</td><td>0</td><td>0</td><td>null</td><td>null</td><td>null</td><td>null</td><td>null</td><td>null</td></tr><tr><td>2015</td><td>12</td><td>31</td><td>4</td><td>&quot;B6&quot;</td><td>333</td><td>&quot;N527JB&quot;</td><td>&quot;MCO&quot;</td><td>&quot;SJU&quot;</td><td>2359</td><td>2353</td><td>-6</td><td>10</td><td>3</td><td>161</td><td>157</td><td>144</td><td>1189</td><td>327</td><td>3</td><td>340</td><td>330</td><td>-10</td><td>0</td><td>0</td><td>null</td><td>null</td><td>null</td><td>null</td><td>null</td><td>null</td></tr><tr><td>2015</td><td>12</td><td>31</td><td>4</td><td>&quot;B6&quot;</td><td>839</td><td>&quot;N534JB&quot;</td><td>&quot;JFK&quot;</td><td>&quot;BQN&quot;</td><td>2359</td><td>14</td><td>15</td><td>14</td><td>28</td><td>221</td><td>208</td><td>189</td><td>1576</td><td>437</td><td>5</td><td>440</td><td>442</td><td>2</td><td>0</td><td>0</td><td>null</td><td>null</td><td>null</td><td>null</td><td>null</td><td>null</td></tr></tbody></table></div>"
            ]
          },
          "metadata": {},
          "execution_count": 188
        }
      ]
    },
    {
      "cell_type": "code",
      "source": [
        "vuelos_lf"
      ],
      "metadata": {
        "colab": {
          "base_uri": "https://localhost:8080/",
          "height": 148
        },
        "id": "lli6Gn0PMGTe",
        "outputId": "d4b03ef2-4837-402e-c787-7aba5202d57b"
      },
      "id": "lli6Gn0PMGTe",
      "execution_count": 189,
      "outputs": [
        {
          "output_type": "execute_result",
          "data": {
            "text/plain": [
              "<LazyFrame at 0x7C150663A470>"
            ],
            "text/html": [
              "<h4>NAIVE QUERY PLAN</h4><p>run <b>LazyFrame.show_graph()</b> to see the optimized version</p><?xml version=\"1.0\" encoding=\"UTF-8\" standalone=\"no\"?>\n",
              "<!DOCTYPE svg PUBLIC \"-//W3C//DTD SVG 1.1//EN\"\n",
              " \"http://www.w3.org/Graphics/SVG/1.1/DTD/svg11.dtd\">\n",
              "<!-- Generated by graphviz version 2.43.0 (0)\n",
              " -->\n",
              "<!-- Title: polars_query Pages: 1 -->\n",
              "<svg width=\"464pt\" height=\"46pt\"\n",
              " viewBox=\"0.00 0.00 464.00 46.00\" xmlns=\"http://www.w3.org/2000/svg\" xmlns:xlink=\"http://www.w3.org/1999/xlink\">\n",
              "<g id=\"graph0\" class=\"graph\" transform=\"scale(1 1) rotate(0) translate(4 42)\">\n",
              "<title>polars_query</title>\n",
              "<polygon fill=\"white\" stroke=\"transparent\" points=\"-4,4 -4,-42 460,-42 460,4 -4,4\"/>\n",
              "<!-- p1 -->\n",
              "<g id=\"node1\" class=\"node\">\n",
              "<title>p1</title>\n",
              "<polygon fill=\"none\" stroke=\"black\" points=\"456,-38 0,-38 0,0 456,0 456,-38\"/>\n",
              "<text text-anchor=\"middle\" x=\"228\" y=\"-22.8\" font-family=\"Times,serif\" font-size=\"14.00\">Parquet SCAN [/content/drive/MyDrive/polars/seccion04/vuelos/vuelos.parquet]</text>\n",
              "<text text-anchor=\"middle\" x=\"228\" y=\"-7.8\" font-family=\"Times,serif\" font-size=\"14.00\">π */31;</text>\n",
              "</g>\n",
              "</g>\n",
              "</svg>\n"
            ]
          },
          "metadata": {},
          "execution_count": 189
        }
      ]
    },
    {
      "cell_type": "code",
      "source": [
        "vuelos_lf.show_graph()"
      ],
      "metadata": {
        "colab": {
          "base_uri": "https://localhost:8080/",
          "height": 82
        },
        "id": "huspsDYJML_d",
        "outputId": "5a31f3fc-e506-4b72-a19b-637669f9f591"
      },
      "id": "huspsDYJML_d",
      "execution_count": 190,
      "outputs": [
        {
          "output_type": "display_data",
          "data": {
            "text/plain": [
              "<IPython.core.display.SVG object>"
            ],
            "image/svg+xml": "<svg xmlns=\"http://www.w3.org/2000/svg\" xmlns:xlink=\"http://www.w3.org/1999/xlink\" width=\"464pt\" height=\"46pt\" viewBox=\"0.00 0.00 464.00 46.00\">\n<g id=\"graph0\" class=\"graph\" transform=\"scale(1 1) rotate(0) translate(4 42)\">\n<title>polars_query</title>\n<polygon fill=\"white\" stroke=\"transparent\" points=\"-4,4 -4,-42 460,-42 460,4 -4,4\"/>\n<!-- p1 -->\n<g id=\"node1\" class=\"node\">\n<title>p1</title>\n<polygon fill=\"none\" stroke=\"black\" points=\"456,-38 0,-38 0,0 456,0 456,-38\"/>\n<text text-anchor=\"middle\" x=\"228\" y=\"-22.8\" font-family=\"Times,serif\" font-size=\"14.00\">Parquet SCAN [/content/drive/MyDrive/polars/seccion04/vuelos/vuelos.parquet]</text>\n<text text-anchor=\"middle\" x=\"228\" y=\"-7.8\" font-family=\"Times,serif\" font-size=\"14.00\">π */31;</text>\n</g>\n</g>\n</svg>"
          },
          "metadata": {}
        }
      ]
    },
    {
      "cell_type": "code",
      "source": [
        "vuelos_lf.group_by('AIRLINE').agg(\n",
        "    pl.col('AIR_TIME').mean().name.suffix('_MEAN'), ## columna tiempo en el aire y nueva columna y un sufijo\n",
        "     pl.col('AIR_TIME').count().alias('COUNT_AIR_TIME'),## englobo la agregacion columna tiempo en el aire, conteo y renombrarla\n",
        "     SUM_DELAY=pl.col('DEPARTURE_DELAY').sum()  ## nombre de la columna = AGREGACI0N suma de retrasos\n",
        ").collect() ## para ejecutar y obtener el resultado"
      ],
      "metadata": {
        "colab": {
          "base_uri": "https://localhost:8080/",
          "height": 443
        },
        "id": "mIp9LGTFMLYr",
        "outputId": "7c1ae671-2f08-4144-d59c-3da59e78e28d"
      },
      "id": "mIp9LGTFMLYr",
      "execution_count": 191,
      "outputs": [
        {
          "output_type": "execute_result",
          "data": {
            "text/plain": [
              "shape: (14, 4)\n",
              "┌─────────┬───────────────┬────────────────┬───────────┐\n",
              "│ AIRLINE ┆ AIR_TIME_MEAN ┆ COUNT_AIR_TIME ┆ SUM_DELAY │\n",
              "│ ---     ┆ ---           ┆ ---            ┆ ---       │\n",
              "│ str     ┆ f64           ┆ u32            ┆ i32       │\n",
              "╞═════════╪═══════════════╪════════════════╪═══════════╡\n",
              "│ VX      ┆ 182.630796    ┆ 61248          ┆ 553852    │\n",
              "│ F9      ┆ 130.240571    ┆ 90090          ┆ 1205449   │\n",
              "│ EV      ┆ 72.763842     ┆ 554752         ┆ 4857338   │\n",
              "│ NK      ┆ 132.347886    ┆ 115193         ┆ 1840887   │\n",
              "│ UA      ┆ 164.835886    ┆ 507762         ┆ 7355348   │\n",
              "│ …       ┆ …             ┆ …              ┆ …         │\n",
              "│ DL      ┆ 115.665353    ┆ 870275         ┆ 6427294   │\n",
              "│ AS      ┆ 157.844784    ┆ 171439         ┆ 306997    │\n",
              "│ AA      ┆ 139.806208    ┆ 712935         ┆ 6369435   │\n",
              "│ B6      ┆ 143.858492    ┆ 262042         ┆ 3026467   │\n",
              "│ HA      ┆ 84.881314     ┆ 76041          ┆ 36972     │\n",
              "└─────────┴───────────────┴────────────────┴───────────┘"
            ],
            "text/html": [
              "<div><style>\n",
              ".dataframe > thead > tr,\n",
              ".dataframe > tbody > tr {\n",
              "  text-align: right;\n",
              "  white-space: pre-wrap;\n",
              "}\n",
              "</style>\n",
              "<small>shape: (14, 4)</small><table border=\"1\" class=\"dataframe\"><thead><tr><th>AIRLINE</th><th>AIR_TIME_MEAN</th><th>COUNT_AIR_TIME</th><th>SUM_DELAY</th></tr><tr><td>str</td><td>f64</td><td>u32</td><td>i32</td></tr></thead><tbody><tr><td>&quot;VX&quot;</td><td>182.630796</td><td>61248</td><td>553852</td></tr><tr><td>&quot;F9&quot;</td><td>130.240571</td><td>90090</td><td>1205449</td></tr><tr><td>&quot;EV&quot;</td><td>72.763842</td><td>554752</td><td>4857338</td></tr><tr><td>&quot;NK&quot;</td><td>132.347886</td><td>115193</td><td>1840887</td></tr><tr><td>&quot;UA&quot;</td><td>164.835886</td><td>507762</td><td>7355348</td></tr><tr><td>&hellip;</td><td>&hellip;</td><td>&hellip;</td><td>&hellip;</td></tr><tr><td>&quot;DL&quot;</td><td>115.665353</td><td>870275</td><td>6427294</td></tr><tr><td>&quot;AS&quot;</td><td>157.844784</td><td>171439</td><td>306997</td></tr><tr><td>&quot;AA&quot;</td><td>139.806208</td><td>712935</td><td>6369435</td></tr><tr><td>&quot;B6&quot;</td><td>143.858492</td><td>262042</td><td>3026467</td></tr><tr><td>&quot;HA&quot;</td><td>84.881314</td><td>76041</td><td>36972</td></tr></tbody></table></div>"
            ]
          },
          "metadata": {},
          "execution_count": 191
        }
      ]
    },
    {
      "cell_type": "markdown",
      "source": [
        "## LECTURA 37"
      ],
      "metadata": {
        "id": "lI2akMAUMmcQ"
      },
      "id": "lI2akMAUMmcQ"
    },
    {
      "cell_type": "code",
      "source": [
        "vuelos_lf = (\n",
        "    pl.scan_parquet('/content/drive/MyDrive/polars/seccion04/vuelos/vuelos.parquet')\n",
        "\n",
        ")\n",
        "tarjetas_lz = pl.LazyFrame({'tarjeta': ['bronce','plata','oro']})\n",
        "descuentos_lz = pl.LazyFrame({'descuento': [10,20,30]})"
      ],
      "metadata": {
        "id": "d9CTPSodMrBB"
      },
      "id": "d9CTPSodMrBB",
      "execution_count": 192,
      "outputs": []
    },
    {
      "cell_type": "code",
      "source": [
        "vuelos_lf"
      ],
      "metadata": {
        "colab": {
          "base_uri": "https://localhost:8080/",
          "height": 148
        },
        "id": "gCsfr7U6M-2e",
        "outputId": "a15830d6-f278-4c0b-c8c1-40f581e9d7b1"
      },
      "id": "gCsfr7U6M-2e",
      "execution_count": 193,
      "outputs": [
        {
          "output_type": "execute_result",
          "data": {
            "text/plain": [
              "<LazyFrame at 0x7C150663B220>"
            ],
            "text/html": [
              "<h4>NAIVE QUERY PLAN</h4><p>run <b>LazyFrame.show_graph()</b> to see the optimized version</p><?xml version=\"1.0\" encoding=\"UTF-8\" standalone=\"no\"?>\n",
              "<!DOCTYPE svg PUBLIC \"-//W3C//DTD SVG 1.1//EN\"\n",
              " \"http://www.w3.org/Graphics/SVG/1.1/DTD/svg11.dtd\">\n",
              "<!-- Generated by graphviz version 2.43.0 (0)\n",
              " -->\n",
              "<!-- Title: polars_query Pages: 1 -->\n",
              "<svg width=\"464pt\" height=\"46pt\"\n",
              " viewBox=\"0.00 0.00 464.00 46.00\" xmlns=\"http://www.w3.org/2000/svg\" xmlns:xlink=\"http://www.w3.org/1999/xlink\">\n",
              "<g id=\"graph0\" class=\"graph\" transform=\"scale(1 1) rotate(0) translate(4 42)\">\n",
              "<title>polars_query</title>\n",
              "<polygon fill=\"white\" stroke=\"transparent\" points=\"-4,4 -4,-42 460,-42 460,4 -4,4\"/>\n",
              "<!-- p1 -->\n",
              "<g id=\"node1\" class=\"node\">\n",
              "<title>p1</title>\n",
              "<polygon fill=\"none\" stroke=\"black\" points=\"456,-38 0,-38 0,0 456,0 456,-38\"/>\n",
              "<text text-anchor=\"middle\" x=\"228\" y=\"-22.8\" font-family=\"Times,serif\" font-size=\"14.00\">Parquet SCAN [/content/drive/MyDrive/polars/seccion04/vuelos/vuelos.parquet]</text>\n",
              "<text text-anchor=\"middle\" x=\"228\" y=\"-7.8\" font-family=\"Times,serif\" font-size=\"14.00\">π */31;</text>\n",
              "</g>\n",
              "</g>\n",
              "</svg>\n"
            ]
          },
          "metadata": {},
          "execution_count": 193
        }
      ]
    },
    {
      "cell_type": "code",
      "source": [
        "tarjetas_lz"
      ],
      "metadata": {
        "colab": {
          "base_uri": "https://localhost:8080/",
          "height": 168
        },
        "id": "OpHGvjTANMKW",
        "outputId": "894054a9-c61d-47b1-953b-7f7d7361df42"
      },
      "id": "OpHGvjTANMKW",
      "execution_count": 194,
      "outputs": [
        {
          "output_type": "execute_result",
          "data": {
            "text/plain": [
              "<LazyFrame at 0x7C1506639990>"
            ],
            "text/html": [
              "<h4>NAIVE QUERY PLAN</h4><p>run <b>LazyFrame.show_graph()</b> to see the optimized version</p><?xml version=\"1.0\" encoding=\"UTF-8\" standalone=\"no\"?>\n",
              "<!DOCTYPE svg PUBLIC \"-//W3C//DTD SVG 1.1//EN\"\n",
              " \"http://www.w3.org/Graphics/SVG/1.1/DTD/svg11.dtd\">\n",
              "<!-- Generated by graphviz version 2.43.0 (0)\n",
              " -->\n",
              "<!-- Title: polars_query Pages: 1 -->\n",
              "<svg width=\"67pt\" height=\"61pt\"\n",
              " viewBox=\"0.00 0.00 67.00 61.00\" xmlns=\"http://www.w3.org/2000/svg\" xmlns:xlink=\"http://www.w3.org/1999/xlink\">\n",
              "<g id=\"graph0\" class=\"graph\" transform=\"scale(1 1) rotate(0) translate(4 57)\">\n",
              "<title>polars_query</title>\n",
              "<polygon fill=\"white\" stroke=\"transparent\" points=\"-4,4 -4,-57 63,-57 63,4 -4,4\"/>\n",
              "<!-- p1 -->\n",
              "<g id=\"node1\" class=\"node\">\n",
              "<title>p1</title>\n",
              "<polygon fill=\"none\" stroke=\"black\" points=\"59,-53 0,-53 0,0 59,0 59,-53\"/>\n",
              "<text text-anchor=\"middle\" x=\"29.5\" y=\"-37.8\" font-family=\"Times,serif\" font-size=\"14.00\">TABLE</text>\n",
              "<text text-anchor=\"middle\" x=\"29.5\" y=\"-22.8\" font-family=\"Times,serif\" font-size=\"14.00\">π */1;</text>\n",
              "<text text-anchor=\"middle\" x=\"29.5\" y=\"-7.8\" font-family=\"Times,serif\" font-size=\"14.00\">σ None</text>\n",
              "</g>\n",
              "</g>\n",
              "</svg>\n"
            ]
          },
          "metadata": {},
          "execution_count": 194
        }
      ]
    },
    {
      "cell_type": "code",
      "source": [
        "descuentos_lz"
      ],
      "metadata": {
        "colab": {
          "base_uri": "https://localhost:8080/",
          "height": 168
        },
        "id": "zVuWiyfKNO33",
        "outputId": "b8c3684b-dd77-495d-a30e-e28688b1d487"
      },
      "id": "zVuWiyfKNO33",
      "execution_count": 195,
      "outputs": [
        {
          "output_type": "execute_result",
          "data": {
            "text/plain": [
              "<LazyFrame at 0x7C150663AC80>"
            ],
            "text/html": [
              "<h4>NAIVE QUERY PLAN</h4><p>run <b>LazyFrame.show_graph()</b> to see the optimized version</p><?xml version=\"1.0\" encoding=\"UTF-8\" standalone=\"no\"?>\n",
              "<!DOCTYPE svg PUBLIC \"-//W3C//DTD SVG 1.1//EN\"\n",
              " \"http://www.w3.org/Graphics/SVG/1.1/DTD/svg11.dtd\">\n",
              "<!-- Generated by graphviz version 2.43.0 (0)\n",
              " -->\n",
              "<!-- Title: polars_query Pages: 1 -->\n",
              "<svg width=\"67pt\" height=\"61pt\"\n",
              " viewBox=\"0.00 0.00 67.00 61.00\" xmlns=\"http://www.w3.org/2000/svg\" xmlns:xlink=\"http://www.w3.org/1999/xlink\">\n",
              "<g id=\"graph0\" class=\"graph\" transform=\"scale(1 1) rotate(0) translate(4 57)\">\n",
              "<title>polars_query</title>\n",
              "<polygon fill=\"white\" stroke=\"transparent\" points=\"-4,4 -4,-57 63,-57 63,4 -4,4\"/>\n",
              "<!-- p1 -->\n",
              "<g id=\"node1\" class=\"node\">\n",
              "<title>p1</title>\n",
              "<polygon fill=\"none\" stroke=\"black\" points=\"59,-53 0,-53 0,0 59,0 59,-53\"/>\n",
              "<text text-anchor=\"middle\" x=\"29.5\" y=\"-37.8\" font-family=\"Times,serif\" font-size=\"14.00\">TABLE</text>\n",
              "<text text-anchor=\"middle\" x=\"29.5\" y=\"-22.8\" font-family=\"Times,serif\" font-size=\"14.00\">π */1;</text>\n",
              "<text text-anchor=\"middle\" x=\"29.5\" y=\"-7.8\" font-family=\"Times,serif\" font-size=\"14.00\">σ None</text>\n",
              "</g>\n",
              "</g>\n",
              "</svg>\n"
            ]
          },
          "metadata": {},
          "execution_count": 195
        }
      ]
    },
    {
      "cell_type": "code",
      "source": [
        "import warnings\n",
        "warnings.filterwarnings('ignore')"
      ],
      "metadata": {
        "id": "N-kK2zXuOTuf"
      },
      "id": "N-kK2zXuOTuf",
      "execution_count": 196,
      "outputs": []
    },
    {
      "cell_type": "code",
      "source": [
        "vuelos_lf.bottom_k(20,by='DEPARTURE_TIME', descending=True).collect()  ## null_last no funciona ordenamos por departue time y descdenciente"
      ],
      "metadata": {
        "colab": {
          "base_uri": "https://localhost:8080/",
          "height": 463
        },
        "id": "rvWxvlg-OXMe",
        "outputId": "d4e4f7ff-2b21-4bb1-a19d-307715f49596"
      },
      "id": "rvWxvlg-OXMe",
      "execution_count": 197,
      "outputs": [
        {
          "output_type": "execute_result",
          "data": {
            "text/plain": [
              "shape: (20, 31)\n",
              "┌──────┬───────┬─────┬─────────────┬───┬──────────────┬──────────────┬──────────────┬──────────────┐\n",
              "│ YEAR ┆ MONTH ┆ DAY ┆ DAY_OF_WEEK ┆ … ┆ SECURITY_DEL ┆ AIRLINE_DELA ┆ LATE_AIRCRAF ┆ WEATHER_DELA │\n",
              "│ ---  ┆ ---   ┆ --- ┆ ---         ┆   ┆ AY           ┆ Y            ┆ T_DELAY      ┆ Y            │\n",
              "│ i32  ┆ i32   ┆ i32 ┆ i32         ┆   ┆ ---          ┆ ---          ┆ ---          ┆ ---          │\n",
              "│      ┆       ┆     ┆             ┆   ┆ i32          ┆ i32          ┆ i32          ┆ i32          │\n",
              "╞══════╪═══════╪═════╪═════════════╪═══╪══════════════╪══════════════╪══════════════╪══════════════╡\n",
              "│ 2015 ┆ 2     ┆ 1   ┆ 7           ┆ … ┆ 0            ┆ 11           ┆ 0            ┆ 0            │\n",
              "│ 2015 ┆ 1     ┆ 2   ┆ 5           ┆ … ┆ null         ┆ null         ┆ null         ┆ null         │\n",
              "│ 2015 ┆ 1     ┆ 2   ┆ 5           ┆ … ┆ null         ┆ null         ┆ null         ┆ null         │\n",
              "│ 2015 ┆ 1     ┆ 3   ┆ 6           ┆ … ┆ 0            ┆ 361          ┆ 0            ┆ 0            │\n",
              "│ 2015 ┆ 1     ┆ 4   ┆ 7           ┆ … ┆ 0            ┆ 0            ┆ 0            ┆ 245          │\n",
              "│ …    ┆ …     ┆ …   ┆ …           ┆ … ┆ …            ┆ …            ┆ …            ┆ …            │\n",
              "│ 2015 ┆ 1     ┆ 11  ┆ 7           ┆ … ┆ 0            ┆ 96           ┆ 0            ┆ 0            │\n",
              "│ 2015 ┆ 1     ┆ 11  ┆ 7           ┆ … ┆ null         ┆ null         ┆ null         ┆ null         │\n",
              "│ 2015 ┆ 1     ┆ 12  ┆ 1           ┆ … ┆ null         ┆ null         ┆ null         ┆ null         │\n",
              "│ 2015 ┆ 1     ┆ 12  ┆ 1           ┆ … ┆ 0            ┆ 0            ┆ 96           ┆ 33           │\n",
              "│ 2015 ┆ 1     ┆ 12  ┆ 1           ┆ … ┆ 0            ┆ 0            ┆ 0            ┆ 111          │\n",
              "└──────┴───────┴─────┴─────────────┴───┴──────────────┴──────────────┴──────────────┴──────────────┘"
            ],
            "text/html": [
              "<div><style>\n",
              ".dataframe > thead > tr,\n",
              ".dataframe > tbody > tr {\n",
              "  text-align: right;\n",
              "  white-space: pre-wrap;\n",
              "}\n",
              "</style>\n",
              "<small>shape: (20, 31)</small><table border=\"1\" class=\"dataframe\"><thead><tr><th>YEAR</th><th>MONTH</th><th>DAY</th><th>DAY_OF_WEEK</th><th>AIRLINE</th><th>FLIGHT_NUMBER</th><th>TAIL_NUMBER</th><th>ORIGIN_AIRPORT</th><th>DESTINATION_AIRPORT</th><th>SCHEDULED_DEPARTURE</th><th>DEPARTURE_TIME</th><th>DEPARTURE_DELAY</th><th>TAXI_OUT</th><th>WHEELS_OFF</th><th>SCHEDULED_TIME</th><th>ELAPSED_TIME</th><th>AIR_TIME</th><th>DISTANCE</th><th>WHEELS_ON</th><th>TAXI_IN</th><th>SCHEDULED_ARRIVAL</th><th>ARRIVAL_TIME</th><th>ARRIVAL_DELAY</th><th>DIVERTED</th><th>CANCELLED</th><th>CANCELLATION_REASON</th><th>AIR_SYSTEM_DELAY</th><th>SECURITY_DELAY</th><th>AIRLINE_DELAY</th><th>LATE_AIRCRAFT_DELAY</th><th>WEATHER_DELAY</th></tr><tr><td>i32</td><td>i32</td><td>i32</td><td>i32</td><td>str</td><td>i32</td><td>str</td><td>str</td><td>str</td><td>i32</td><td>i32</td><td>i32</td><td>i32</td><td>i32</td><td>i32</td><td>i32</td><td>i32</td><td>i32</td><td>i32</td><td>i32</td><td>i32</td><td>i32</td><td>i32</td><td>i32</td><td>i32</td><td>str</td><td>i32</td><td>i32</td><td>i32</td><td>i32</td><td>i32</td></tr></thead><tbody><tr><td>2015</td><td>2</td><td>1</td><td>7</td><td>&quot;AA&quot;</td><td>2200</td><td>&quot;N3BSAA&quot;</td><td>&quot;MIA&quot;</td><td>&quot;MCO&quot;</td><td>2349</td><td>2400</td><td>11</td><td>19</td><td>19</td><td>60</td><td>68</td><td>40</td><td>192</td><td>59</td><td>9</td><td>49</td><td>108</td><td>19</td><td>0</td><td>0</td><td>null</td><td>8</td><td>0</td><td>11</td><td>0</td><td>0</td></tr><tr><td>2015</td><td>1</td><td>2</td><td>5</td><td>&quot;B6&quot;</td><td>333</td><td>&quot;N529JB&quot;</td><td>&quot;MCO&quot;</td><td>&quot;SJU&quot;</td><td>2355</td><td>2400</td><td>5</td><td>17</td><td>17</td><td>161</td><td>161</td><td>140</td><td>1189</td><td>337</td><td>4</td><td>336</td><td>341</td><td>5</td><td>0</td><td>0</td><td>null</td><td>null</td><td>null</td><td>null</td><td>null</td><td>null</td></tr><tr><td>2015</td><td>1</td><td>2</td><td>5</td><td>&quot;B6&quot;</td><td>745</td><td>&quot;N556JB&quot;</td><td>&quot;JFK&quot;</td><td>&quot;PSE&quot;</td><td>2359</td><td>2400</td><td>1</td><td>21</td><td>21</td><td>227</td><td>219</td><td>187</td><td>1617</td><td>428</td><td>11</td><td>446</td><td>439</td><td>-7</td><td>0</td><td>0</td><td>null</td><td>null</td><td>null</td><td>null</td><td>null</td><td>null</td></tr><tr><td>2015</td><td>1</td><td>3</td><td>6</td><td>&quot;EV&quot;</td><td>4629</td><td>&quot;N21130&quot;</td><td>&quot;RIC&quot;</td><td>&quot;IAH&quot;</td><td>1759</td><td>2400</td><td>361</td><td>10</td><td>10</td><td>206</td><td>216</td><td>201</td><td>1157</td><td>231</td><td>5</td><td>2025</td><td>236</td><td>371</td><td>0</td><td>0</td><td>null</td><td>10</td><td>0</td><td>361</td><td>0</td><td>0</td></tr><tr><td>2015</td><td>1</td><td>4</td><td>7</td><td>&quot;EV&quot;</td><td>4513</td><td>&quot;N14993&quot;</td><td>&quot;CLE&quot;</td><td>&quot;ORD&quot;</td><td>1950</td><td>2400</td><td>250</td><td>11</td><td>11</td><td>92</td><td>87</td><td>66</td><td>315</td><td>17</td><td>10</td><td>2022</td><td>27</td><td>245</td><td>0</td><td>0</td><td>null</td><td>0</td><td>0</td><td>0</td><td>0</td><td>245</td></tr><tr><td>&hellip;</td><td>&hellip;</td><td>&hellip;</td><td>&hellip;</td><td>&hellip;</td><td>&hellip;</td><td>&hellip;</td><td>&hellip;</td><td>&hellip;</td><td>&hellip;</td><td>&hellip;</td><td>&hellip;</td><td>&hellip;</td><td>&hellip;</td><td>&hellip;</td><td>&hellip;</td><td>&hellip;</td><td>&hellip;</td><td>&hellip;</td><td>&hellip;</td><td>&hellip;</td><td>&hellip;</td><td>&hellip;</td><td>&hellip;</td><td>&hellip;</td><td>&hellip;</td><td>&hellip;</td><td>&hellip;</td><td>&hellip;</td><td>&hellip;</td><td>&hellip;</td></tr><tr><td>2015</td><td>1</td><td>11</td><td>7</td><td>&quot;US&quot;</td><td>1774</td><td>&quot;N123UW&quot;</td><td>&quot;CLT&quot;</td><td>&quot;DTW&quot;</td><td>2219</td><td>2400</td><td>101</td><td>18</td><td>18</td><td>99</td><td>94</td><td>69</td><td>500</td><td>127</td><td>7</td><td>2358</td><td>134</td><td>96</td><td>0</td><td>0</td><td>null</td><td>0</td><td>0</td><td>96</td><td>0</td><td>0</td></tr><tr><td>2015</td><td>1</td><td>11</td><td>7</td><td>&quot;NK&quot;</td><td>371</td><td>&quot;N632NK&quot;</td><td>&quot;FLL&quot;</td><td>&quot;BQN&quot;</td><td>2355</td><td>2400</td><td>5</td><td>12</td><td>12</td><td>141</td><td>138</td><td>120</td><td>983</td><td>312</td><td>6</td><td>316</td><td>318</td><td>2</td><td>0</td><td>0</td><td>null</td><td>null</td><td>null</td><td>null</td><td>null</td><td>null</td></tr><tr><td>2015</td><td>1</td><td>12</td><td>1</td><td>&quot;AA&quot;</td><td>2400</td><td>&quot;N3FMAA&quot;</td><td>&quot;LAX&quot;</td><td>&quot;DFW&quot;</td><td>5</td><td>2400</td><td>-5</td><td>31</td><td>31</td><td>169</td><td>178</td><td>143</td><td>1235</td><td>454</td><td>4</td><td>454</td><td>458</td><td>4</td><td>0</td><td>0</td><td>null</td><td>null</td><td>null</td><td>null</td><td>null</td><td>null</td></tr><tr><td>2015</td><td>1</td><td>12</td><td>1</td><td>&quot;DL&quot;</td><td>1072</td><td>&quot;N968DL&quot;</td><td>&quot;ATL&quot;</td><td>&quot;PIT&quot;</td><td>2151</td><td>2400</td><td>129</td><td>24</td><td>24</td><td>101</td><td>102</td><td>71</td><td>526</td><td>135</td><td>7</td><td>2332</td><td>142</td><td>130</td><td>0</td><td>0</td><td>null</td><td>1</td><td>0</td><td>0</td><td>96</td><td>33</td></tr><tr><td>2015</td><td>1</td><td>12</td><td>1</td><td>&quot;DL&quot;</td><td>2529</td><td>&quot;N940DL&quot;</td><td>&quot;ATL&quot;</td><td>&quot;CLE&quot;</td><td>2158</td><td>2400</td><td>122</td><td>15</td><td>15</td><td>103</td><td>92</td><td>73</td><td>554</td><td>128</td><td>4</td><td>2341</td><td>132</td><td>111</td><td>0</td><td>0</td><td>null</td><td>0</td><td>0</td><td>0</td><td>0</td><td>111</td></tr></tbody></table></div>"
            ]
          },
          "metadata": {},
          "execution_count": 197
        }
      ]
    },
    {
      "cell_type": "markdown",
      "source": [
        "##tomamos la variable de vuelos lazyframe, agrupamos por aerolinea, agregaciones una pór una y renombrar nombre de columna"
      ],
      "metadata": {
        "id": "ku63haAfOfYR"
      },
      "id": "ku63haAfOfYR"
    },
    {
      "cell_type": "code",
      "source": [
        "vuelos_lf.group_by('AIRLINE').agg(\n",
        "    pl.col('AIR_TIME').mean().name.suffix('_MEAN'), ## columna tiempo en el aire y nueva columna y un sufijo\n",
        "     pl.col('AIR_TIME').count().alias('COUNT_AIR_TIME'),## englobo la agregacion columna tiempo en el aire, conteo y renombrarla\n",
        "     SUM_DELAY=pl.col('DEPARTURE_DELAY').sum()  ## nombre de la columna = AGREGACI0N suma de retrasos\n",
        ").collect() ## para ejecutar y obtener el resultado"
      ],
      "metadata": {
        "colab": {
          "base_uri": "https://localhost:8080/",
          "height": 443
        },
        "id": "9k5gJEIEOim0",
        "outputId": "d943369b-bcf8-45cc-e9aa-353704d29463"
      },
      "id": "9k5gJEIEOim0",
      "execution_count": 198,
      "outputs": [
        {
          "output_type": "execute_result",
          "data": {
            "text/plain": [
              "shape: (14, 4)\n",
              "┌─────────┬───────────────┬────────────────┬───────────┐\n",
              "│ AIRLINE ┆ AIR_TIME_MEAN ┆ COUNT_AIR_TIME ┆ SUM_DELAY │\n",
              "│ ---     ┆ ---           ┆ ---            ┆ ---       │\n",
              "│ str     ┆ f64           ┆ u32            ┆ i32       │\n",
              "╞═════════╪═══════════════╪════════════════╪═══════════╡\n",
              "│ VX      ┆ 182.630796    ┆ 61248          ┆ 553852    │\n",
              "│ WN      ┆ 103.100485    ┆ 1242403        ┆ 13186520  │\n",
              "│ AA      ┆ 139.806208    ┆ 712935         ┆ 6369435   │\n",
              "│ NK      ┆ 132.347886    ┆ 115193         ┆ 1840887   │\n",
              "│ EV      ┆ 72.763842     ┆ 554752         ┆ 4857338   │\n",
              "│ …       ┆ …             ┆ …              ┆ …         │\n",
              "│ F9      ┆ 130.240571    ┆ 90090          ┆ 1205449   │\n",
              "│ HA      ┆ 84.881314     ┆ 76041          ┆ 36972     │\n",
              "│ DL      ┆ 115.665353    ┆ 870275         ┆ 6427294   │\n",
              "│ UA      ┆ 164.835886    ┆ 507762         ┆ 7355348   │\n",
              "│ US      ┆ 125.774234    ┆ 194223         ┆ 1196447   │\n",
              "└─────────┴───────────────┴────────────────┴───────────┘"
            ],
            "text/html": [
              "<div><style>\n",
              ".dataframe > thead > tr,\n",
              ".dataframe > tbody > tr {\n",
              "  text-align: right;\n",
              "  white-space: pre-wrap;\n",
              "}\n",
              "</style>\n",
              "<small>shape: (14, 4)</small><table border=\"1\" class=\"dataframe\"><thead><tr><th>AIRLINE</th><th>AIR_TIME_MEAN</th><th>COUNT_AIR_TIME</th><th>SUM_DELAY</th></tr><tr><td>str</td><td>f64</td><td>u32</td><td>i32</td></tr></thead><tbody><tr><td>&quot;VX&quot;</td><td>182.630796</td><td>61248</td><td>553852</td></tr><tr><td>&quot;WN&quot;</td><td>103.100485</td><td>1242403</td><td>13186520</td></tr><tr><td>&quot;AA&quot;</td><td>139.806208</td><td>712935</td><td>6369435</td></tr><tr><td>&quot;NK&quot;</td><td>132.347886</td><td>115193</td><td>1840887</td></tr><tr><td>&quot;EV&quot;</td><td>72.763842</td><td>554752</td><td>4857338</td></tr><tr><td>&hellip;</td><td>&hellip;</td><td>&hellip;</td><td>&hellip;</td></tr><tr><td>&quot;F9&quot;</td><td>130.240571</td><td>90090</td><td>1205449</td></tr><tr><td>&quot;HA&quot;</td><td>84.881314</td><td>76041</td><td>36972</td></tr><tr><td>&quot;DL&quot;</td><td>115.665353</td><td>870275</td><td>6427294</td></tr><tr><td>&quot;UA&quot;</td><td>164.835886</td><td>507762</td><td>7355348</td></tr><tr><td>&quot;US&quot;</td><td>125.774234</td><td>194223</td><td>1196447</td></tr></tbody></table></div>"
            ]
          },
          "metadata": {},
          "execution_count": 198
        }
      ]
    },
    {
      "cell_type": "code",
      "source": [
        "vuelos_lf.drop('YEAR','MONTH','DAY').collect()  ## eliminar las columnas con .drop"
      ],
      "metadata": {
        "colab": {
          "base_uri": "https://localhost:8080/",
          "height": 463
        },
        "id": "JbOxLqRjPJBI",
        "outputId": "eeaa6fb6-f7ae-4ed6-dcdc-9f07384512be"
      },
      "id": "JbOxLqRjPJBI",
      "execution_count": 199,
      "outputs": [
        {
          "output_type": "execute_result",
          "data": {
            "text/plain": [
              "shape: (5_819_079, 28)\n",
              "┌────────────┬─────────┬───────────┬───────────┬───┬───────────┬───────────┬───────────┬───────────┐\n",
              "│ DAY_OF_WEE ┆ AIRLINE ┆ FLIGHT_NU ┆ TAIL_NUMB ┆ … ┆ SECURITY_ ┆ AIRLINE_D ┆ LATE_AIRC ┆ WEATHER_D │\n",
              "│ K          ┆ ---     ┆ MBER      ┆ ER        ┆   ┆ DELAY     ┆ ELAY      ┆ RAFT_DELA ┆ ELAY      │\n",
              "│ ---        ┆ str     ┆ ---       ┆ ---       ┆   ┆ ---       ┆ ---       ┆ Y         ┆ ---       │\n",
              "│ i32        ┆         ┆ i32       ┆ str       ┆   ┆ i32       ┆ i32       ┆ ---       ┆ i32       │\n",
              "│            ┆         ┆           ┆           ┆   ┆           ┆           ┆ i32       ┆           │\n",
              "╞════════════╪═════════╪═══════════╪═══════════╪═══╪═══════════╪═══════════╪═══════════╪═══════════╡\n",
              "│ 4          ┆ AS      ┆ 98        ┆ N407AS    ┆ … ┆ null      ┆ null      ┆ null      ┆ null      │\n",
              "│ 4          ┆ AA      ┆ 2336      ┆ N3KUAA    ┆ … ┆ null      ┆ null      ┆ null      ┆ null      │\n",
              "│ 4          ┆ US      ┆ 840       ┆ N171US    ┆ … ┆ null      ┆ null      ┆ null      ┆ null      │\n",
              "│ 4          ┆ AA      ┆ 258       ┆ N3HYAA    ┆ … ┆ null      ┆ null      ┆ null      ┆ null      │\n",
              "│ 4          ┆ AS      ┆ 135       ┆ N527AS    ┆ … ┆ null      ┆ null      ┆ null      ┆ null      │\n",
              "│ …          ┆ …       ┆ …         ┆ …         ┆ … ┆ …         ┆ …         ┆ …         ┆ …         │\n",
              "│ 4          ┆ B6      ┆ 688       ┆ N657JB    ┆ … ┆ null      ┆ null      ┆ null      ┆ null      │\n",
              "│ 4          ┆ B6      ┆ 745       ┆ N828JB    ┆ … ┆ null      ┆ null      ┆ null      ┆ null      │\n",
              "│ 4          ┆ B6      ┆ 1503      ┆ N913JB    ┆ … ┆ null      ┆ null      ┆ null      ┆ null      │\n",
              "│ 4          ┆ B6      ┆ 333       ┆ N527JB    ┆ … ┆ null      ┆ null      ┆ null      ┆ null      │\n",
              "│ 4          ┆ B6      ┆ 839       ┆ N534JB    ┆ … ┆ null      ┆ null      ┆ null      ┆ null      │\n",
              "└────────────┴─────────┴───────────┴───────────┴───┴───────────┴───────────┴───────────┴───────────┘"
            ],
            "text/html": [
              "<div><style>\n",
              ".dataframe > thead > tr,\n",
              ".dataframe > tbody > tr {\n",
              "  text-align: right;\n",
              "  white-space: pre-wrap;\n",
              "}\n",
              "</style>\n",
              "<small>shape: (5_819_079, 28)</small><table border=\"1\" class=\"dataframe\"><thead><tr><th>DAY_OF_WEEK</th><th>AIRLINE</th><th>FLIGHT_NUMBER</th><th>TAIL_NUMBER</th><th>ORIGIN_AIRPORT</th><th>DESTINATION_AIRPORT</th><th>SCHEDULED_DEPARTURE</th><th>DEPARTURE_TIME</th><th>DEPARTURE_DELAY</th><th>TAXI_OUT</th><th>WHEELS_OFF</th><th>SCHEDULED_TIME</th><th>ELAPSED_TIME</th><th>AIR_TIME</th><th>DISTANCE</th><th>WHEELS_ON</th><th>TAXI_IN</th><th>SCHEDULED_ARRIVAL</th><th>ARRIVAL_TIME</th><th>ARRIVAL_DELAY</th><th>DIVERTED</th><th>CANCELLED</th><th>CANCELLATION_REASON</th><th>AIR_SYSTEM_DELAY</th><th>SECURITY_DELAY</th><th>AIRLINE_DELAY</th><th>LATE_AIRCRAFT_DELAY</th><th>WEATHER_DELAY</th></tr><tr><td>i32</td><td>str</td><td>i32</td><td>str</td><td>str</td><td>str</td><td>i32</td><td>i32</td><td>i32</td><td>i32</td><td>i32</td><td>i32</td><td>i32</td><td>i32</td><td>i32</td><td>i32</td><td>i32</td><td>i32</td><td>i32</td><td>i32</td><td>i32</td><td>i32</td><td>str</td><td>i32</td><td>i32</td><td>i32</td><td>i32</td><td>i32</td></tr></thead><tbody><tr><td>4</td><td>&quot;AS&quot;</td><td>98</td><td>&quot;N407AS&quot;</td><td>&quot;ANC&quot;</td><td>&quot;SEA&quot;</td><td>5</td><td>2354</td><td>-11</td><td>21</td><td>15</td><td>205</td><td>194</td><td>169</td><td>1448</td><td>404</td><td>4</td><td>430</td><td>408</td><td>-22</td><td>0</td><td>0</td><td>null</td><td>null</td><td>null</td><td>null</td><td>null</td><td>null</td></tr><tr><td>4</td><td>&quot;AA&quot;</td><td>2336</td><td>&quot;N3KUAA&quot;</td><td>&quot;LAX&quot;</td><td>&quot;PBI&quot;</td><td>10</td><td>2</td><td>-8</td><td>12</td><td>14</td><td>280</td><td>279</td><td>263</td><td>2330</td><td>737</td><td>4</td><td>750</td><td>741</td><td>-9</td><td>0</td><td>0</td><td>null</td><td>null</td><td>null</td><td>null</td><td>null</td><td>null</td></tr><tr><td>4</td><td>&quot;US&quot;</td><td>840</td><td>&quot;N171US&quot;</td><td>&quot;SFO&quot;</td><td>&quot;CLT&quot;</td><td>20</td><td>18</td><td>-2</td><td>16</td><td>34</td><td>286</td><td>293</td><td>266</td><td>2296</td><td>800</td><td>11</td><td>806</td><td>811</td><td>5</td><td>0</td><td>0</td><td>null</td><td>null</td><td>null</td><td>null</td><td>null</td><td>null</td></tr><tr><td>4</td><td>&quot;AA&quot;</td><td>258</td><td>&quot;N3HYAA&quot;</td><td>&quot;LAX&quot;</td><td>&quot;MIA&quot;</td><td>20</td><td>15</td><td>-5</td><td>15</td><td>30</td><td>285</td><td>281</td><td>258</td><td>2342</td><td>748</td><td>8</td><td>805</td><td>756</td><td>-9</td><td>0</td><td>0</td><td>null</td><td>null</td><td>null</td><td>null</td><td>null</td><td>null</td></tr><tr><td>4</td><td>&quot;AS&quot;</td><td>135</td><td>&quot;N527AS&quot;</td><td>&quot;SEA&quot;</td><td>&quot;ANC&quot;</td><td>25</td><td>24</td><td>-1</td><td>11</td><td>35</td><td>235</td><td>215</td><td>199</td><td>1448</td><td>254</td><td>5</td><td>320</td><td>259</td><td>-21</td><td>0</td><td>0</td><td>null</td><td>null</td><td>null</td><td>null</td><td>null</td><td>null</td></tr><tr><td>&hellip;</td><td>&hellip;</td><td>&hellip;</td><td>&hellip;</td><td>&hellip;</td><td>&hellip;</td><td>&hellip;</td><td>&hellip;</td><td>&hellip;</td><td>&hellip;</td><td>&hellip;</td><td>&hellip;</td><td>&hellip;</td><td>&hellip;</td><td>&hellip;</td><td>&hellip;</td><td>&hellip;</td><td>&hellip;</td><td>&hellip;</td><td>&hellip;</td><td>&hellip;</td><td>&hellip;</td><td>&hellip;</td><td>&hellip;</td><td>&hellip;</td><td>&hellip;</td><td>&hellip;</td><td>&hellip;</td></tr><tr><td>4</td><td>&quot;B6&quot;</td><td>688</td><td>&quot;N657JB&quot;</td><td>&quot;LAX&quot;</td><td>&quot;BOS&quot;</td><td>2359</td><td>2355</td><td>-4</td><td>22</td><td>17</td><td>320</td><td>298</td><td>272</td><td>2611</td><td>749</td><td>4</td><td>819</td><td>753</td><td>-26</td><td>0</td><td>0</td><td>null</td><td>null</td><td>null</td><td>null</td><td>null</td><td>null</td></tr><tr><td>4</td><td>&quot;B6&quot;</td><td>745</td><td>&quot;N828JB&quot;</td><td>&quot;JFK&quot;</td><td>&quot;PSE&quot;</td><td>2359</td><td>2355</td><td>-4</td><td>17</td><td>12</td><td>227</td><td>215</td><td>195</td><td>1617</td><td>427</td><td>3</td><td>446</td><td>430</td><td>-16</td><td>0</td><td>0</td><td>null</td><td>null</td><td>null</td><td>null</td><td>null</td><td>null</td></tr><tr><td>4</td><td>&quot;B6&quot;</td><td>1503</td><td>&quot;N913JB&quot;</td><td>&quot;JFK&quot;</td><td>&quot;SJU&quot;</td><td>2359</td><td>2350</td><td>-9</td><td>17</td><td>7</td><td>221</td><td>222</td><td>197</td><td>1598</td><td>424</td><td>8</td><td>440</td><td>432</td><td>-8</td><td>0</td><td>0</td><td>null</td><td>null</td><td>null</td><td>null</td><td>null</td><td>null</td></tr><tr><td>4</td><td>&quot;B6&quot;</td><td>333</td><td>&quot;N527JB&quot;</td><td>&quot;MCO&quot;</td><td>&quot;SJU&quot;</td><td>2359</td><td>2353</td><td>-6</td><td>10</td><td>3</td><td>161</td><td>157</td><td>144</td><td>1189</td><td>327</td><td>3</td><td>340</td><td>330</td><td>-10</td><td>0</td><td>0</td><td>null</td><td>null</td><td>null</td><td>null</td><td>null</td><td>null</td></tr><tr><td>4</td><td>&quot;B6&quot;</td><td>839</td><td>&quot;N534JB&quot;</td><td>&quot;JFK&quot;</td><td>&quot;BQN&quot;</td><td>2359</td><td>14</td><td>15</td><td>14</td><td>28</td><td>221</td><td>208</td><td>189</td><td>1576</td><td>437</td><td>5</td><td>440</td><td>442</td><td>2</td><td>0</td><td>0</td><td>null</td><td>null</td><td>null</td><td>null</td><td>null</td><td>null</td></tr></tbody></table></div>"
            ]
          },
          "metadata": {},
          "execution_count": 199
        }
      ]
    },
    {
      "cell_type": "code",
      "source": [
        "vuelos_lf.columns"
      ],
      "metadata": {
        "colab": {
          "base_uri": "https://localhost:8080/"
        },
        "id": "-KdEQuoHPOgI",
        "outputId": "f89ce48d-0d7c-4a7e-a20e-702e544a8bf7"
      },
      "id": "-KdEQuoHPOgI",
      "execution_count": 200,
      "outputs": [
        {
          "output_type": "execute_result",
          "data": {
            "text/plain": [
              "['YEAR',\n",
              " 'MONTH',\n",
              " 'DAY',\n",
              " 'DAY_OF_WEEK',\n",
              " 'AIRLINE',\n",
              " 'FLIGHT_NUMBER',\n",
              " 'TAIL_NUMBER',\n",
              " 'ORIGIN_AIRPORT',\n",
              " 'DESTINATION_AIRPORT',\n",
              " 'SCHEDULED_DEPARTURE',\n",
              " 'DEPARTURE_TIME',\n",
              " 'DEPARTURE_DELAY',\n",
              " 'TAXI_OUT',\n",
              " 'WHEELS_OFF',\n",
              " 'SCHEDULED_TIME',\n",
              " 'ELAPSED_TIME',\n",
              " 'AIR_TIME',\n",
              " 'DISTANCE',\n",
              " 'WHEELS_ON',\n",
              " 'TAXI_IN',\n",
              " 'SCHEDULED_ARRIVAL',\n",
              " 'ARRIVAL_TIME',\n",
              " 'ARRIVAL_DELAY',\n",
              " 'DIVERTED',\n",
              " 'CANCELLED',\n",
              " 'CANCELLATION_REASON',\n",
              " 'AIR_SYSTEM_DELAY',\n",
              " 'SECURITY_DELAY',\n",
              " 'AIRLINE_DELAY',\n",
              " 'LATE_AIRCRAFT_DELAY',\n",
              " 'WEATHER_DELAY']"
            ]
          },
          "metadata": {},
          "execution_count": 200
        }
      ]
    },
    {
      "cell_type": "markdown",
      "source": [
        "##podemos fitrar un lazy frame"
      ],
      "metadata": {
        "id": "LPJYpvmMPXOz"
      },
      "id": "LPJYpvmMPXOz"
    },
    {
      "cell_type": "code",
      "source": [
        "vuelos_lf.filter((pl.col('MONTH') > 6) & (pl.col('DEPARTURE_DELAY')> 0)).select(\n",
        "  pl.col('MONTH'),\n",
        "  pl.col('DEPARTURE_DELAY')\n",
        ").collect()"
      ],
      "metadata": {
        "colab": {
          "base_uri": "https://localhost:8080/",
          "height": 443
        },
        "id": "Gy6YND6zPpnS",
        "outputId": "6db01859-4c28-4c8d-d6e9-f94e30b3edf7"
      },
      "id": "Gy6YND6zPpnS",
      "execution_count": 201,
      "outputs": [
        {
          "output_type": "execute_result",
          "data": {
            "text/plain": [
              "shape: (1_020_181, 2)\n",
              "┌───────┬─────────────────┐\n",
              "│ MONTH ┆ DEPARTURE_DELAY │\n",
              "│ ---   ┆ ---             │\n",
              "│ i32   ┆ i32             │\n",
              "╞═══════╪═════════════════╡\n",
              "│ 7     ┆ 38              │\n",
              "│ 7     ┆ 48              │\n",
              "│ 7     ┆ 9               │\n",
              "│ 7     ┆ 7               │\n",
              "│ 7     ┆ 20              │\n",
              "│ …     ┆ …               │\n",
              "│ 12    ┆ 159             │\n",
              "│ 12    ┆ 16              │\n",
              "│ 12    ┆ 7               │\n",
              "│ 12    ┆ 16              │\n",
              "│ 12    ┆ 15              │\n",
              "└───────┴─────────────────┘"
            ],
            "text/html": [
              "<div><style>\n",
              ".dataframe > thead > tr,\n",
              ".dataframe > tbody > tr {\n",
              "  text-align: right;\n",
              "  white-space: pre-wrap;\n",
              "}\n",
              "</style>\n",
              "<small>shape: (1_020_181, 2)</small><table border=\"1\" class=\"dataframe\"><thead><tr><th>MONTH</th><th>DEPARTURE_DELAY</th></tr><tr><td>i32</td><td>i32</td></tr></thead><tbody><tr><td>7</td><td>38</td></tr><tr><td>7</td><td>48</td></tr><tr><td>7</td><td>9</td></tr><tr><td>7</td><td>7</td></tr><tr><td>7</td><td>20</td></tr><tr><td>&hellip;</td><td>&hellip;</td></tr><tr><td>12</td><td>159</td></tr><tr><td>12</td><td>16</td></tr><tr><td>12</td><td>7</td></tr><tr><td>12</td><td>16</td></tr><tr><td>12</td><td>15</td></tr></tbody></table></div>"
            ]
          },
          "metadata": {},
          "execution_count": 201
        }
      ]
    },
    {
      "cell_type": "code",
      "source": [
        "descuentos_lz.collect()"
      ],
      "metadata": {
        "colab": {
          "base_uri": "https://localhost:8080/",
          "height": 192
        },
        "id": "pZcuDMZTQCgd",
        "outputId": "ff2e359e-76df-4870-954e-fca99c4cad89"
      },
      "id": "pZcuDMZTQCgd",
      "execution_count": 202,
      "outputs": [
        {
          "output_type": "execute_result",
          "data": {
            "text/plain": [
              "shape: (3, 1)\n",
              "┌───────────┐\n",
              "│ descuento │\n",
              "│ ---       │\n",
              "│ i64       │\n",
              "╞═══════════╡\n",
              "│ 10        │\n",
              "│ 20        │\n",
              "│ 30        │\n",
              "└───────────┘"
            ],
            "text/html": [
              "<div><style>\n",
              ".dataframe > thead > tr,\n",
              ".dataframe > tbody > tr {\n",
              "  text-align: right;\n",
              "  white-space: pre-wrap;\n",
              "}\n",
              "</style>\n",
              "<small>shape: (3, 1)</small><table border=\"1\" class=\"dataframe\"><thead><tr><th>descuento</th></tr><tr><td>i64</td></tr></thead><tbody><tr><td>10</td></tr><tr><td>20</td></tr><tr><td>30</td></tr></tbody></table></div>"
            ]
          },
          "metadata": {},
          "execution_count": 202
        }
      ]
    },
    {
      "cell_type": "code",
      "source": [
        "tarjetas_lz.with_context(descuentos_lz).select(  ## with context permite acceder a columnas de contexto externo al grafico de calculo accedea columnas de dataframe que no sean este\n",
        "    pl.col('tarjeta'),  ### queremos crear un nuevo lazy frame con columnas diferentes, en una misma consulta sin necesidad de join\n",
        "    pl.col('descuento')\n",
        ").collect()"
      ],
      "metadata": {
        "id": "HKoproy5QaiT"
      },
      "id": "HKoproy5QaiT",
      "execution_count": null,
      "outputs": []
    }
  ],
  "metadata": {
    "kernelspec": {
      "display_name": "Python 3 (ipykernel)",
      "language": "python",
      "name": "python3"
    },
    "language_info": {
      "codemirror_mode": {
        "name": "ipython",
        "version": 3
      },
      "file_extension": ".py",
      "mimetype": "text/x-python",
      "name": "python",
      "nbconvert_exporter": "python",
      "pygments_lexer": "ipython3",
      "version": "3.9.9"
    },
    "vscode": {
      "interpreter": {
        "hash": "b0fa6594d8f4cbf19f97940f81e996739fb7646882a419484c72d19e05852a7e"
      }
    },
    "colab": {
      "provenance": [],
      "include_colab_link": true
    }
  },
  "nbformat": 4,
  "nbformat_minor": 5
}