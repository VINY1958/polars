{
  "cells": [
    {
      "cell_type": "markdown",
      "metadata": {
        "id": "view-in-github",
        "colab_type": "text"
      },
      "source": [
        "<a href=\"https://colab.research.google.com/github/VINY1958/polars/blob/main/propiedades_02.ipynb\" target=\"_parent\"><img src=\"https://colab.research.google.com/assets/colab-badge.svg\" alt=\"Open In Colab\"/></a>"
      ]
    },
    {
      "cell_type": "markdown",
      "source": [
        "<p align=\"center\">\n",
        "<img src=\"https://github.com/cristiandarioortegayubro/BDS/blob/main/images/Logo%20Pandas.png?raw=true\">\n",
        "</p>\n"
      ],
      "metadata": {
        "id": "mogSPUfQhyTK"
      },
      "id": "mogSPUfQhyTK"
    },
    {
      "cell_type": "markdown",
      "source": [
        "#<font color=\"DeepPink\">**Análisis de datos de propiedades inmuebles**</font>"
      ],
      "metadata": {
        "id": "G6F-bbUnZov7"
      },
      "id": "G6F-bbUnZov7"
    },
    {
      "cell_type": "markdown",
      "source": [
        "- http://blog.properati.com.ar/properati-tools/\n",
        "- https://www.properati.com.ar/data"
      ],
      "metadata": {
        "id": "PAxBnjV1aJlK"
      },
      "id": "PAxBnjV1aJlK"
    },
    {
      "cell_type": "markdown",
      "source": [
        "![](https://blog.properati.com.ar/wp-content/uploads/2023/01/barrio-norte-buenos-aires-1128x484.jpg)"
      ],
      "metadata": {
        "id": "H2Zq_77_s72E"
      },
      "id": "H2Zq_77_s72E"
    },
    {
      "cell_type": "markdown",
      "id": "c6549ba7-e07b-4ace-bd81-e8f81e9d6bcd",
      "metadata": {
        "id": "c6549ba7-e07b-4ace-bd81-e8f81e9d6bcd"
      },
      "source": [
        "# <font color=\"DeepPink\">**Limpiar y graficar...**"
      ]
    },
    {
      "cell_type": "markdown",
      "source": [
        "<p align=\"justify\">\n",
        "👀 Nos encontramos iniciando un nuevo proyecto, nuestra empresa es una pequeña inmobiliaria que quiere fusionar el potencial del manejo de datos con la venta/alquiler de propiedades.\n",
        "<br><br>\n",
        "Al ser una pequeña empresa el <mark>Departamento de Datos</mark> esta compuesto por una persona: nosotros 🥶 .\n",
        "<br><br>\n",
        "Esto quiere decir que vamos a absorber los roles de:\n",
        "\n",
        "- Ingeniero de Datos, y\n",
        "- Analista de Datos.\n"
      ],
      "metadata": {
        "id": "Mi4H1Ydsy9gh"
      },
      "id": "Mi4H1Ydsy9gh"
    },
    {
      "cell_type": "markdown",
      "id": "9c77b7d0-bea3-4772-a168-60349409b1a3",
      "metadata": {
        "id": "9c77b7d0-bea3-4772-a168-60349409b1a3"
      },
      "source": [
        "## <font color=\"DeepPink\">**Ingesta de datos de propiedades**"
      ]
    },
    {
      "cell_type": "markdown",
      "id": "614cb164",
      "metadata": {
        "id": "614cb164"
      },
      "source": [
        "<p align=\"jusfify\">\n",
        "✅ El dataset central de este proyecto de propiedades de Argentina, tiene la siguientes columnas:\n",
        "<br><br>\n",
        "\n",
        "- **id** - Identificador del aviso. No es único: si el aviso es actualizado por la inmobiliaria (nueva versión del aviso) se crea un nuevo registro con la misma id pero distintas fechas: de alta y de baja.\n",
        "- **ad_type** - Tipo de aviso (Propiedad, Desarrollo/Proyecto).\n",
        "- **start_date** - Fecha de alta del aviso.\n",
        "- **end_date** - Fecha de baja del aviso.\n",
        "- **created_on** - Fecha de alta de la primera versión del aviso.\n",
        "- **lat** - Latitud.\n",
        "- **lon** - Longitud.\n",
        "- **l1** - Nivel administrativo 1: país.\n",
        "- **l2** - Nivel administrativo 2: usualmente provincia.\n",
        "- **l3** - Nivel administrativo 3: usualmente ciudad.\n",
        "- **l4** - Nivel administrativo 4: usualmente barrio.\n",
        "- **l5** - sin informacion\n",
        "- **l6** - sin informacion\n",
        "- **rooms** - Cantidad de ambientes\n",
        "- **bedrooms** - Cantidad de dormitorios\n",
        "- **bathrooms** - Cantidad de baños.\n",
        "- **surface_total** - Superficie total en m².\n",
        "- **surface_covered** - Superficie cubierta en m².\n",
        "- **price** - Precio publicado en el anuncio.\n",
        "- **currency** - Moneda del precio publicado.\n",
        "- **price_period** - Periodo del precio (Diario, Semanal, Mensual)\n",
        "- **title** - Título del anuncio.\n",
        "- **description** - Descripción del anuncio.\n",
        "- **property_type**: - Caracteristicas de la propiedad\n",
        "- **operation_type**: - Caracteristicas de la operacion ['Venta', 'Alquiler', 'Alquiler temporal']"
      ]
    },
    {
      "cell_type": "markdown",
      "source": [
        "## <font color=\"DeepPink\">**Habilitando módulos para el proyecto**"
      ],
      "metadata": {
        "id": "akkMOa8Lz0TL"
      },
      "id": "akkMOa8Lz0TL"
    },
    {
      "cell_type": "markdown",
      "source": [
        "###<font color=\"DeepPink\">**Para analisis de datos**"
      ],
      "metadata": {
        "id": "KHhKEDMu2KUK"
      },
      "id": "KHhKEDMu2KUK"
    },
    {
      "cell_type": "code",
      "source": [
        "import pandas as pd\n",
        "import numpy as np"
      ],
      "metadata": {
        "id": "8YyzmxiMz8Nx"
      },
      "id": "8YyzmxiMz8Nx",
      "execution_count": 1,
      "outputs": []
    },
    {
      "cell_type": "markdown",
      "source": [
        "###<font color=\"DeepPink\">**Para gráficos**"
      ],
      "metadata": {
        "id": "pEZgoAZb2RVp"
      },
      "id": "pEZgoAZb2RVp"
    },
    {
      "cell_type": "code",
      "source": [
        "import plotly.express as px"
      ],
      "metadata": {
        "id": "v7UBjDaV0OQY"
      },
      "id": "v7UBjDaV0OQY",
      "execution_count": 2,
      "outputs": []
    },
    {
      "cell_type": "markdown",
      "id": "d546b882-c289-4cae-99cb-2ea5e3072f71",
      "metadata": {
        "id": "d546b882-c289-4cae-99cb-2ea5e3072f71"
      },
      "source": [
        "# <font color=\"DeepPink\">**Ingesta de los datos...**"
      ]
    },
    {
      "cell_type": "markdown",
      "source": [
        "## <font color=\"DeepPink\">**Conexión y lectura de los datos...**"
      ],
      "metadata": {
        "id": "JXfhWFY6rXWD"
      },
      "id": "JXfhWFY6rXWD"
    },
    {
      "cell_type": "code",
      "source": [
        "from google.colab import drive\n",
        "drive.mount('/content/drive')"
      ],
      "metadata": {
        "id": "Ez3FblDTjZlq",
        "colab": {
          "base_uri": "https://localhost:8080/"
        },
        "outputId": "67ec843f-abc1-4b87-d0e6-8fb18d31bd09"
      },
      "id": "Ez3FblDTjZlq",
      "execution_count": 4,
      "outputs": [
        {
          "output_type": "stream",
          "name": "stdout",
          "text": [
            "Mounted at /content/drive\n"
          ]
        }
      ]
    },
    {
      "cell_type": "markdown",
      "source": [
        "## <font color=\"DeepPink\">**Dataframe de Pandas 🐼**"
      ],
      "metadata": {
        "id": "mOhmI4FrrdKc"
      },
      "id": "mOhmI4FrrdKc"
    },
    {
      "cell_type": "code",
      "source": [
        "prop = pd.read_csv('/content/drive/MyDrive/polars/ar_properties.csv.gz',\n",
        "                   #compression='gzip',\n",
        "                   header=0,\n",
        "                   sep=',',\n",
        "                   quotechar='\"')"
      ],
      "metadata": {
        "id": "QuXzmGm6f8oO"
      },
      "id": "QuXzmGm6f8oO",
      "execution_count": 6,
      "outputs": []
    },
    {
      "cell_type": "code",
      "source": [
        "prop"
      ],
      "metadata": {
        "id": "Gp_N_y0_r7Nb"
      },
      "id": "Gp_N_y0_r7Nb",
      "execution_count": null,
      "outputs": []
    },
    {
      "cell_type": "code",
      "execution_count": 7,
      "id": "25b04fa1",
      "metadata": {
        "id": "25b04fa1",
        "colab": {
          "base_uri": "https://localhost:8080/",
          "height": 550
        },
        "outputId": "c3f37c9e-a23c-40bb-a055-7ec8abcf71e8"
      },
      "outputs": [
        {
          "output_type": "execute_result",
          "data": {
            "text/plain": [
              "                         id    ad_type  start_date    end_date  created_on  \\\n",
              "0  DyVXfkpKygVBKuUk5olH+A==  Propiedad  2020-08-22  2020-09-03  2020-08-22   \n",
              "1  9naojilaMecJN4jlQiTkGg==  Propiedad  2020-08-22  2020-09-04  2020-08-22   \n",
              "2  tlCPRJPjoDEUzuuCelemAQ==  Propiedad  2020-08-22  2020-08-31  2020-08-22   \n",
              "3  Zw3b91glQUO3HNrM5fPYlQ==  Propiedad  2020-08-22  2020-09-04  2020-08-22   \n",
              "4  bsU81gm9JEgtZCbTYgvykg==  Propiedad  2020-08-22  2020-09-04  2020-08-22   \n",
              "\n",
              "         lat        lon         l1                            l2  \\\n",
              "0 -34.407468 -58.957367  Argentina      Bs.As. G.B.A. Zona Norte   \n",
              "1 -37.996039 -57.542509  Argentina  Buenos Aires Costa Atlántica   \n",
              "2 -31.380187 -58.009182  Argentina                    Entre Ríos   \n",
              "3 -27.494106 -55.123455  Argentina                      Misiones   \n",
              "4 -32.948856 -60.630464  Argentina                      Santa Fe   \n",
              "\n",
              "              l3  ... bathrooms surface_total  surface_covered  price  \\\n",
              "0          Pilar  ...       NaN      133139.0              NaN    NaN   \n",
              "1  Mar del Plata  ...       NaN         687.0            687.0    NaN   \n",
              "2      Concordia  ...       1.0          80.0             80.0    NaN   \n",
              "3          Oberá  ...       1.0           NaN              NaN    NaN   \n",
              "4        Rosario  ...       1.0          76.0             66.0    NaN   \n",
              "\n",
              "   currency  price_period                                              title  \\\n",
              "0       NaN       Mensual  VENTA - Lote Industrial 130.000m2 - Parque Ind...   \n",
              "1       NaN       Mensual                               Casa - Santa Cecilia   \n",
              "2       NaN       Mensual                                   Casa - Concordia   \n",
              "3       NaN       Mensual                                    Terreno - Obera   \n",
              "4       NaN       Mensual                             Departamento - Rosario   \n",
              "\n",
              "                                         description  property_type  \\\n",
              "0  Lote (Nro.50) mide 133.139 m2\\n<br>Valor: U$S ...           Lote   \n",
              "1  Conjunto edilicio de casa y departamentos en b...           Otro   \n",
              "2  Casa de un dormitorio, cocina, baño, living co...           Casa   \n",
              "3  IMPORTANTE PROPIEDAD EN VENTA EN OBERA MISIONE...           Lote   \n",
              "4  PORTAL DE LOS MARINOS<br>Es un complejo de viv...   Departamento   \n",
              "\n",
              "  operation_type  \n",
              "0          Venta  \n",
              "1          Venta  \n",
              "2       Alquiler  \n",
              "3          Venta  \n",
              "4          Venta  \n",
              "\n",
              "[5 rows x 25 columns]"
            ],
            "text/html": [
              "\n",
              "  <div id=\"df-6d5bb8b3-91ee-46bd-8397-0b7d912ec813\" class=\"colab-df-container\">\n",
              "    <div>\n",
              "<style scoped>\n",
              "    .dataframe tbody tr th:only-of-type {\n",
              "        vertical-align: middle;\n",
              "    }\n",
              "\n",
              "    .dataframe tbody tr th {\n",
              "        vertical-align: top;\n",
              "    }\n",
              "\n",
              "    .dataframe thead th {\n",
              "        text-align: right;\n",
              "    }\n",
              "</style>\n",
              "<table border=\"1\" class=\"dataframe\">\n",
              "  <thead>\n",
              "    <tr style=\"text-align: right;\">\n",
              "      <th></th>\n",
              "      <th>id</th>\n",
              "      <th>ad_type</th>\n",
              "      <th>start_date</th>\n",
              "      <th>end_date</th>\n",
              "      <th>created_on</th>\n",
              "      <th>lat</th>\n",
              "      <th>lon</th>\n",
              "      <th>l1</th>\n",
              "      <th>l2</th>\n",
              "      <th>l3</th>\n",
              "      <th>...</th>\n",
              "      <th>bathrooms</th>\n",
              "      <th>surface_total</th>\n",
              "      <th>surface_covered</th>\n",
              "      <th>price</th>\n",
              "      <th>currency</th>\n",
              "      <th>price_period</th>\n",
              "      <th>title</th>\n",
              "      <th>description</th>\n",
              "      <th>property_type</th>\n",
              "      <th>operation_type</th>\n",
              "    </tr>\n",
              "  </thead>\n",
              "  <tbody>\n",
              "    <tr>\n",
              "      <th>0</th>\n",
              "      <td>DyVXfkpKygVBKuUk5olH+A==</td>\n",
              "      <td>Propiedad</td>\n",
              "      <td>2020-08-22</td>\n",
              "      <td>2020-09-03</td>\n",
              "      <td>2020-08-22</td>\n",
              "      <td>-34.407468</td>\n",
              "      <td>-58.957367</td>\n",
              "      <td>Argentina</td>\n",
              "      <td>Bs.As. G.B.A. Zona Norte</td>\n",
              "      <td>Pilar</td>\n",
              "      <td>...</td>\n",
              "      <td>NaN</td>\n",
              "      <td>133139.0</td>\n",
              "      <td>NaN</td>\n",
              "      <td>NaN</td>\n",
              "      <td>NaN</td>\n",
              "      <td>Mensual</td>\n",
              "      <td>VENTA - Lote Industrial 130.000m2 - Parque Ind...</td>\n",
              "      <td>Lote (Nro.50) mide 133.139 m2\\n&lt;br&gt;Valor: U$S ...</td>\n",
              "      <td>Lote</td>\n",
              "      <td>Venta</td>\n",
              "    </tr>\n",
              "    <tr>\n",
              "      <th>1</th>\n",
              "      <td>9naojilaMecJN4jlQiTkGg==</td>\n",
              "      <td>Propiedad</td>\n",
              "      <td>2020-08-22</td>\n",
              "      <td>2020-09-04</td>\n",
              "      <td>2020-08-22</td>\n",
              "      <td>-37.996039</td>\n",
              "      <td>-57.542509</td>\n",
              "      <td>Argentina</td>\n",
              "      <td>Buenos Aires Costa Atlántica</td>\n",
              "      <td>Mar del Plata</td>\n",
              "      <td>...</td>\n",
              "      <td>NaN</td>\n",
              "      <td>687.0</td>\n",
              "      <td>687.0</td>\n",
              "      <td>NaN</td>\n",
              "      <td>NaN</td>\n",
              "      <td>Mensual</td>\n",
              "      <td>Casa - Santa Cecilia</td>\n",
              "      <td>Conjunto edilicio de casa y departamentos en b...</td>\n",
              "      <td>Otro</td>\n",
              "      <td>Venta</td>\n",
              "    </tr>\n",
              "    <tr>\n",
              "      <th>2</th>\n",
              "      <td>tlCPRJPjoDEUzuuCelemAQ==</td>\n",
              "      <td>Propiedad</td>\n",
              "      <td>2020-08-22</td>\n",
              "      <td>2020-08-31</td>\n",
              "      <td>2020-08-22</td>\n",
              "      <td>-31.380187</td>\n",
              "      <td>-58.009182</td>\n",
              "      <td>Argentina</td>\n",
              "      <td>Entre Ríos</td>\n",
              "      <td>Concordia</td>\n",
              "      <td>...</td>\n",
              "      <td>1.0</td>\n",
              "      <td>80.0</td>\n",
              "      <td>80.0</td>\n",
              "      <td>NaN</td>\n",
              "      <td>NaN</td>\n",
              "      <td>Mensual</td>\n",
              "      <td>Casa - Concordia</td>\n",
              "      <td>Casa de un dormitorio, cocina, baño, living co...</td>\n",
              "      <td>Casa</td>\n",
              "      <td>Alquiler</td>\n",
              "    </tr>\n",
              "    <tr>\n",
              "      <th>3</th>\n",
              "      <td>Zw3b91glQUO3HNrM5fPYlQ==</td>\n",
              "      <td>Propiedad</td>\n",
              "      <td>2020-08-22</td>\n",
              "      <td>2020-09-04</td>\n",
              "      <td>2020-08-22</td>\n",
              "      <td>-27.494106</td>\n",
              "      <td>-55.123455</td>\n",
              "      <td>Argentina</td>\n",
              "      <td>Misiones</td>\n",
              "      <td>Oberá</td>\n",
              "      <td>...</td>\n",
              "      <td>1.0</td>\n",
              "      <td>NaN</td>\n",
              "      <td>NaN</td>\n",
              "      <td>NaN</td>\n",
              "      <td>NaN</td>\n",
              "      <td>Mensual</td>\n",
              "      <td>Terreno - Obera</td>\n",
              "      <td>IMPORTANTE PROPIEDAD EN VENTA EN OBERA MISIONE...</td>\n",
              "      <td>Lote</td>\n",
              "      <td>Venta</td>\n",
              "    </tr>\n",
              "    <tr>\n",
              "      <th>4</th>\n",
              "      <td>bsU81gm9JEgtZCbTYgvykg==</td>\n",
              "      <td>Propiedad</td>\n",
              "      <td>2020-08-22</td>\n",
              "      <td>2020-09-04</td>\n",
              "      <td>2020-08-22</td>\n",
              "      <td>-32.948856</td>\n",
              "      <td>-60.630464</td>\n",
              "      <td>Argentina</td>\n",
              "      <td>Santa Fe</td>\n",
              "      <td>Rosario</td>\n",
              "      <td>...</td>\n",
              "      <td>1.0</td>\n",
              "      <td>76.0</td>\n",
              "      <td>66.0</td>\n",
              "      <td>NaN</td>\n",
              "      <td>NaN</td>\n",
              "      <td>Mensual</td>\n",
              "      <td>Departamento - Rosario</td>\n",
              "      <td>PORTAL DE LOS MARINOS&lt;br&gt;Es un complejo de viv...</td>\n",
              "      <td>Departamento</td>\n",
              "      <td>Venta</td>\n",
              "    </tr>\n",
              "  </tbody>\n",
              "</table>\n",
              "<p>5 rows × 25 columns</p>\n",
              "</div>\n",
              "    <div class=\"colab-df-buttons\">\n",
              "\n",
              "  <div class=\"colab-df-container\">\n",
              "    <button class=\"colab-df-convert\" onclick=\"convertToInteractive('df-6d5bb8b3-91ee-46bd-8397-0b7d912ec813')\"\n",
              "            title=\"Convert this dataframe to an interactive table.\"\n",
              "            style=\"display:none;\">\n",
              "\n",
              "  <svg xmlns=\"http://www.w3.org/2000/svg\" height=\"24px\" viewBox=\"0 -960 960 960\">\n",
              "    <path d=\"M120-120v-720h720v720H120Zm60-500h600v-160H180v160Zm220 220h160v-160H400v160Zm0 220h160v-160H400v160ZM180-400h160v-160H180v160Zm440 0h160v-160H620v160ZM180-180h160v-160H180v160Zm440 0h160v-160H620v160Z\"/>\n",
              "  </svg>\n",
              "    </button>\n",
              "\n",
              "  <style>\n",
              "    .colab-df-container {\n",
              "      display:flex;\n",
              "      gap: 12px;\n",
              "    }\n",
              "\n",
              "    .colab-df-convert {\n",
              "      background-color: #E8F0FE;\n",
              "      border: none;\n",
              "      border-radius: 50%;\n",
              "      cursor: pointer;\n",
              "      display: none;\n",
              "      fill: #1967D2;\n",
              "      height: 32px;\n",
              "      padding: 0 0 0 0;\n",
              "      width: 32px;\n",
              "    }\n",
              "\n",
              "    .colab-df-convert:hover {\n",
              "      background-color: #E2EBFA;\n",
              "      box-shadow: 0px 1px 2px rgba(60, 64, 67, 0.3), 0px 1px 3px 1px rgba(60, 64, 67, 0.15);\n",
              "      fill: #174EA6;\n",
              "    }\n",
              "\n",
              "    .colab-df-buttons div {\n",
              "      margin-bottom: 4px;\n",
              "    }\n",
              "\n",
              "    [theme=dark] .colab-df-convert {\n",
              "      background-color: #3B4455;\n",
              "      fill: #D2E3FC;\n",
              "    }\n",
              "\n",
              "    [theme=dark] .colab-df-convert:hover {\n",
              "      background-color: #434B5C;\n",
              "      box-shadow: 0px 1px 3px 1px rgba(0, 0, 0, 0.15);\n",
              "      filter: drop-shadow(0px 1px 2px rgba(0, 0, 0, 0.3));\n",
              "      fill: #FFFFFF;\n",
              "    }\n",
              "  </style>\n",
              "\n",
              "    <script>\n",
              "      const buttonEl =\n",
              "        document.querySelector('#df-6d5bb8b3-91ee-46bd-8397-0b7d912ec813 button.colab-df-convert');\n",
              "      buttonEl.style.display =\n",
              "        google.colab.kernel.accessAllowed ? 'block' : 'none';\n",
              "\n",
              "      async function convertToInteractive(key) {\n",
              "        const element = document.querySelector('#df-6d5bb8b3-91ee-46bd-8397-0b7d912ec813');\n",
              "        const dataTable =\n",
              "          await google.colab.kernel.invokeFunction('convertToInteractive',\n",
              "                                                    [key], {});\n",
              "        if (!dataTable) return;\n",
              "\n",
              "        const docLinkHtml = 'Like what you see? Visit the ' +\n",
              "          '<a target=\"_blank\" href=https://colab.research.google.com/notebooks/data_table.ipynb>data table notebook</a>'\n",
              "          + ' to learn more about interactive tables.';\n",
              "        element.innerHTML = '';\n",
              "        dataTable['output_type'] = 'display_data';\n",
              "        await google.colab.output.renderOutput(dataTable, element);\n",
              "        const docLink = document.createElement('div');\n",
              "        docLink.innerHTML = docLinkHtml;\n",
              "        element.appendChild(docLink);\n",
              "      }\n",
              "    </script>\n",
              "  </div>\n",
              "\n",
              "\n",
              "<div id=\"df-bbd8f14c-9eef-4fe7-a887-9165c151e799\">\n",
              "  <button class=\"colab-df-quickchart\" onclick=\"quickchart('df-bbd8f14c-9eef-4fe7-a887-9165c151e799')\"\n",
              "            title=\"Suggest charts\"\n",
              "            style=\"display:none;\">\n",
              "\n",
              "<svg xmlns=\"http://www.w3.org/2000/svg\" height=\"24px\"viewBox=\"0 0 24 24\"\n",
              "     width=\"24px\">\n",
              "    <g>\n",
              "        <path d=\"M19 3H5c-1.1 0-2 .9-2 2v14c0 1.1.9 2 2 2h14c1.1 0 2-.9 2-2V5c0-1.1-.9-2-2-2zM9 17H7v-7h2v7zm4 0h-2V7h2v10zm4 0h-2v-4h2v4z\"/>\n",
              "    </g>\n",
              "</svg>\n",
              "  </button>\n",
              "\n",
              "<style>\n",
              "  .colab-df-quickchart {\n",
              "      --bg-color: #E8F0FE;\n",
              "      --fill-color: #1967D2;\n",
              "      --hover-bg-color: #E2EBFA;\n",
              "      --hover-fill-color: #174EA6;\n",
              "      --disabled-fill-color: #AAA;\n",
              "      --disabled-bg-color: #DDD;\n",
              "  }\n",
              "\n",
              "  [theme=dark] .colab-df-quickchart {\n",
              "      --bg-color: #3B4455;\n",
              "      --fill-color: #D2E3FC;\n",
              "      --hover-bg-color: #434B5C;\n",
              "      --hover-fill-color: #FFFFFF;\n",
              "      --disabled-bg-color: #3B4455;\n",
              "      --disabled-fill-color: #666;\n",
              "  }\n",
              "\n",
              "  .colab-df-quickchart {\n",
              "    background-color: var(--bg-color);\n",
              "    border: none;\n",
              "    border-radius: 50%;\n",
              "    cursor: pointer;\n",
              "    display: none;\n",
              "    fill: var(--fill-color);\n",
              "    height: 32px;\n",
              "    padding: 0;\n",
              "    width: 32px;\n",
              "  }\n",
              "\n",
              "  .colab-df-quickchart:hover {\n",
              "    background-color: var(--hover-bg-color);\n",
              "    box-shadow: 0 1px 2px rgba(60, 64, 67, 0.3), 0 1px 3px 1px rgba(60, 64, 67, 0.15);\n",
              "    fill: var(--button-hover-fill-color);\n",
              "  }\n",
              "\n",
              "  .colab-df-quickchart-complete:disabled,\n",
              "  .colab-df-quickchart-complete:disabled:hover {\n",
              "    background-color: var(--disabled-bg-color);\n",
              "    fill: var(--disabled-fill-color);\n",
              "    box-shadow: none;\n",
              "  }\n",
              "\n",
              "  .colab-df-spinner {\n",
              "    border: 2px solid var(--fill-color);\n",
              "    border-color: transparent;\n",
              "    border-bottom-color: var(--fill-color);\n",
              "    animation:\n",
              "      spin 1s steps(1) infinite;\n",
              "  }\n",
              "\n",
              "  @keyframes spin {\n",
              "    0% {\n",
              "      border-color: transparent;\n",
              "      border-bottom-color: var(--fill-color);\n",
              "      border-left-color: var(--fill-color);\n",
              "    }\n",
              "    20% {\n",
              "      border-color: transparent;\n",
              "      border-left-color: var(--fill-color);\n",
              "      border-top-color: var(--fill-color);\n",
              "    }\n",
              "    30% {\n",
              "      border-color: transparent;\n",
              "      border-left-color: var(--fill-color);\n",
              "      border-top-color: var(--fill-color);\n",
              "      border-right-color: var(--fill-color);\n",
              "    }\n",
              "    40% {\n",
              "      border-color: transparent;\n",
              "      border-right-color: var(--fill-color);\n",
              "      border-top-color: var(--fill-color);\n",
              "    }\n",
              "    60% {\n",
              "      border-color: transparent;\n",
              "      border-right-color: var(--fill-color);\n",
              "    }\n",
              "    80% {\n",
              "      border-color: transparent;\n",
              "      border-right-color: var(--fill-color);\n",
              "      border-bottom-color: var(--fill-color);\n",
              "    }\n",
              "    90% {\n",
              "      border-color: transparent;\n",
              "      border-bottom-color: var(--fill-color);\n",
              "    }\n",
              "  }\n",
              "</style>\n",
              "\n",
              "  <script>\n",
              "    async function quickchart(key) {\n",
              "      const quickchartButtonEl =\n",
              "        document.querySelector('#' + key + ' button');\n",
              "      quickchartButtonEl.disabled = true;  // To prevent multiple clicks.\n",
              "      quickchartButtonEl.classList.add('colab-df-spinner');\n",
              "      try {\n",
              "        const charts = await google.colab.kernel.invokeFunction(\n",
              "            'suggestCharts', [key], {});\n",
              "      } catch (error) {\n",
              "        console.error('Error during call to suggestCharts:', error);\n",
              "      }\n",
              "      quickchartButtonEl.classList.remove('colab-df-spinner');\n",
              "      quickchartButtonEl.classList.add('colab-df-quickchart-complete');\n",
              "    }\n",
              "    (() => {\n",
              "      let quickchartButtonEl =\n",
              "        document.querySelector('#df-bbd8f14c-9eef-4fe7-a887-9165c151e799 button');\n",
              "      quickchartButtonEl.style.display =\n",
              "        google.colab.kernel.accessAllowed ? 'block' : 'none';\n",
              "    })();\n",
              "  </script>\n",
              "</div>\n",
              "\n",
              "    </div>\n",
              "  </div>\n"
            ],
            "application/vnd.google.colaboratory.intrinsic+json": {
              "type": "dataframe",
              "variable_name": "prop"
            }
          },
          "metadata": {},
          "execution_count": 7
        }
      ],
      "source": [
        "prop.head()"
      ]
    },
    {
      "cell_type": "code",
      "source": [
        "prop.tail()"
      ],
      "metadata": {
        "id": "Dh437zE40u9k",
        "colab": {
          "base_uri": "https://localhost:8080/",
          "height": 654
        },
        "outputId": "21c9826d-0546-4ef5-da13-0de3042a4102"
      },
      "id": "Dh437zE40u9k",
      "execution_count": 9,
      "outputs": [
        {
          "output_type": "execute_result",
          "data": {
            "text/plain": [
              "                              id    ad_type  start_date    end_date  \\\n",
              "999995  jMYhwydKqUje8HCx7RzwJQ==  Propiedad  2020-12-04  9999-12-31   \n",
              "999996  FsP7ornzqnK1CvUL8quQ9Q==  Propiedad  2020-12-04  9999-12-31   \n",
              "999997  fJLVUIziPl31ACoaE/fj1g==  Propiedad  2020-12-04  9999-12-31   \n",
              "999998  7mW3bUSJFA0RBOj2xtBi+w==  Propiedad  2020-12-04  9999-12-31   \n",
              "999999  rEynGyGrrsxNeG0ib5vUBA==  Propiedad  2020-12-04  2020-12-21   \n",
              "\n",
              "        created_on        lat        lon         l1                        l2  \\\n",
              "999995  2020-12-04 -32.958863 -60.665633  Argentina                  Santa Fe   \n",
              "999996  2020-12-04 -34.596587 -58.376893  Argentina           Capital Federal   \n",
              "999997  2020-12-04 -34.576445 -58.432603  Argentina           Capital Federal   \n",
              "999998  2020-12-04 -32.866636 -68.841144  Argentina                   Mendoza   \n",
              "999999  2020-12-04 -34.447524 -58.631552  Argentina  Bs.As. G.B.A. Zona Norte   \n",
              "\n",
              "             l3  ... bathrooms surface_total  surface_covered     price  \\\n",
              "999995  Rosario  ...       7.0         400.0            300.0  400000.0   \n",
              "999996   Retiro  ...       5.0         465.0            465.0    3700.0   \n",
              "999997  Palermo  ...       2.0         615.0            425.0  570000.0   \n",
              "999998      NaN  ...      20.0         450.0            450.0  800000.0   \n",
              "999999    Tigre  ...       4.0         350.0            300.0    7000.0   \n",
              "\n",
              "        currency  price_period  \\\n",
              "999995       USD       Mensual   \n",
              "999996       USD       Mensual   \n",
              "999997       USD       Mensual   \n",
              "999998       USD       Mensual   \n",
              "999999       USD       Mensual   \n",
              "\n",
              "                                                    title  \\\n",
              "999995  Se vende imponente casa a minutos del centro d...   \n",
              "999996                        Edificio Comercial - Retiro   \n",
              "999997  Edificio Comercial  en excelente zona de Paler...   \n",
              "999998                       Edificio Comercial - Capital   \n",
              "999999  INCREÍBLE ECASA A LA LAGUNA DESDE DIC a FEBRER...   \n",
              "\n",
              "                                              description    property_type  \\\n",
              "999995  Esta excelente propiedad se encuentra ubicada ...             Casa   \n",
              "999996  GRAN EDIFICIO PETIT HOTEL ESTILO FRANCÉS  CON ...  Local comercial   \n",
              "999997  Edificio Comercial CON ENTRADA INDEPENDIENTE S...  Local comercial   \n",
              "999998  Local 450m² con Cloaca en 25 de mayo, Argentin...  Local comercial   \n",
              "999999  ESPECTACULAR CASA A LA LAGUNA  -BARRIO SANTA B...             Casa   \n",
              "\n",
              "           operation_type  \n",
              "999995              Venta  \n",
              "999996           Alquiler  \n",
              "999997              Venta  \n",
              "999998              Venta  \n",
              "999999  Alquiler temporal  \n",
              "\n",
              "[5 rows x 25 columns]"
            ],
            "text/html": [
              "\n",
              "  <div id=\"df-84fdc6a7-ac64-404a-9b29-d861e2e8b33b\" class=\"colab-df-container\">\n",
              "    <div>\n",
              "<style scoped>\n",
              "    .dataframe tbody tr th:only-of-type {\n",
              "        vertical-align: middle;\n",
              "    }\n",
              "\n",
              "    .dataframe tbody tr th {\n",
              "        vertical-align: top;\n",
              "    }\n",
              "\n",
              "    .dataframe thead th {\n",
              "        text-align: right;\n",
              "    }\n",
              "</style>\n",
              "<table border=\"1\" class=\"dataframe\">\n",
              "  <thead>\n",
              "    <tr style=\"text-align: right;\">\n",
              "      <th></th>\n",
              "      <th>id</th>\n",
              "      <th>ad_type</th>\n",
              "      <th>start_date</th>\n",
              "      <th>end_date</th>\n",
              "      <th>created_on</th>\n",
              "      <th>lat</th>\n",
              "      <th>lon</th>\n",
              "      <th>l1</th>\n",
              "      <th>l2</th>\n",
              "      <th>l3</th>\n",
              "      <th>...</th>\n",
              "      <th>bathrooms</th>\n",
              "      <th>surface_total</th>\n",
              "      <th>surface_covered</th>\n",
              "      <th>price</th>\n",
              "      <th>currency</th>\n",
              "      <th>price_period</th>\n",
              "      <th>title</th>\n",
              "      <th>description</th>\n",
              "      <th>property_type</th>\n",
              "      <th>operation_type</th>\n",
              "    </tr>\n",
              "  </thead>\n",
              "  <tbody>\n",
              "    <tr>\n",
              "      <th>999995</th>\n",
              "      <td>jMYhwydKqUje8HCx7RzwJQ==</td>\n",
              "      <td>Propiedad</td>\n",
              "      <td>2020-12-04</td>\n",
              "      <td>9999-12-31</td>\n",
              "      <td>2020-12-04</td>\n",
              "      <td>-32.958863</td>\n",
              "      <td>-60.665633</td>\n",
              "      <td>Argentina</td>\n",
              "      <td>Santa Fe</td>\n",
              "      <td>Rosario</td>\n",
              "      <td>...</td>\n",
              "      <td>7.0</td>\n",
              "      <td>400.0</td>\n",
              "      <td>300.0</td>\n",
              "      <td>400000.0</td>\n",
              "      <td>USD</td>\n",
              "      <td>Mensual</td>\n",
              "      <td>Se vende imponente casa a minutos del centro d...</td>\n",
              "      <td>Esta excelente propiedad se encuentra ubicada ...</td>\n",
              "      <td>Casa</td>\n",
              "      <td>Venta</td>\n",
              "    </tr>\n",
              "    <tr>\n",
              "      <th>999996</th>\n",
              "      <td>FsP7ornzqnK1CvUL8quQ9Q==</td>\n",
              "      <td>Propiedad</td>\n",
              "      <td>2020-12-04</td>\n",
              "      <td>9999-12-31</td>\n",
              "      <td>2020-12-04</td>\n",
              "      <td>-34.596587</td>\n",
              "      <td>-58.376893</td>\n",
              "      <td>Argentina</td>\n",
              "      <td>Capital Federal</td>\n",
              "      <td>Retiro</td>\n",
              "      <td>...</td>\n",
              "      <td>5.0</td>\n",
              "      <td>465.0</td>\n",
              "      <td>465.0</td>\n",
              "      <td>3700.0</td>\n",
              "      <td>USD</td>\n",
              "      <td>Mensual</td>\n",
              "      <td>Edificio Comercial - Retiro</td>\n",
              "      <td>GRAN EDIFICIO PETIT HOTEL ESTILO FRANCÉS  CON ...</td>\n",
              "      <td>Local comercial</td>\n",
              "      <td>Alquiler</td>\n",
              "    </tr>\n",
              "    <tr>\n",
              "      <th>999997</th>\n",
              "      <td>fJLVUIziPl31ACoaE/fj1g==</td>\n",
              "      <td>Propiedad</td>\n",
              "      <td>2020-12-04</td>\n",
              "      <td>9999-12-31</td>\n",
              "      <td>2020-12-04</td>\n",
              "      <td>-34.576445</td>\n",
              "      <td>-58.432603</td>\n",
              "      <td>Argentina</td>\n",
              "      <td>Capital Federal</td>\n",
              "      <td>Palermo</td>\n",
              "      <td>...</td>\n",
              "      <td>2.0</td>\n",
              "      <td>615.0</td>\n",
              "      <td>425.0</td>\n",
              "      <td>570000.0</td>\n",
              "      <td>USD</td>\n",
              "      <td>Mensual</td>\n",
              "      <td>Edificio Comercial  en excelente zona de Paler...</td>\n",
              "      <td>Edificio Comercial CON ENTRADA INDEPENDIENTE S...</td>\n",
              "      <td>Local comercial</td>\n",
              "      <td>Venta</td>\n",
              "    </tr>\n",
              "    <tr>\n",
              "      <th>999998</th>\n",
              "      <td>7mW3bUSJFA0RBOj2xtBi+w==</td>\n",
              "      <td>Propiedad</td>\n",
              "      <td>2020-12-04</td>\n",
              "      <td>9999-12-31</td>\n",
              "      <td>2020-12-04</td>\n",
              "      <td>-32.866636</td>\n",
              "      <td>-68.841144</td>\n",
              "      <td>Argentina</td>\n",
              "      <td>Mendoza</td>\n",
              "      <td>NaN</td>\n",
              "      <td>...</td>\n",
              "      <td>20.0</td>\n",
              "      <td>450.0</td>\n",
              "      <td>450.0</td>\n",
              "      <td>800000.0</td>\n",
              "      <td>USD</td>\n",
              "      <td>Mensual</td>\n",
              "      <td>Edificio Comercial - Capital</td>\n",
              "      <td>Local 450m² con Cloaca en 25 de mayo, Argentin...</td>\n",
              "      <td>Local comercial</td>\n",
              "      <td>Venta</td>\n",
              "    </tr>\n",
              "    <tr>\n",
              "      <th>999999</th>\n",
              "      <td>rEynGyGrrsxNeG0ib5vUBA==</td>\n",
              "      <td>Propiedad</td>\n",
              "      <td>2020-12-04</td>\n",
              "      <td>2020-12-21</td>\n",
              "      <td>2020-12-04</td>\n",
              "      <td>-34.447524</td>\n",
              "      <td>-58.631552</td>\n",
              "      <td>Argentina</td>\n",
              "      <td>Bs.As. G.B.A. Zona Norte</td>\n",
              "      <td>Tigre</td>\n",
              "      <td>...</td>\n",
              "      <td>4.0</td>\n",
              "      <td>350.0</td>\n",
              "      <td>300.0</td>\n",
              "      <td>7000.0</td>\n",
              "      <td>USD</td>\n",
              "      <td>Mensual</td>\n",
              "      <td>INCREÍBLE ECASA A LA LAGUNA DESDE DIC a FEBRER...</td>\n",
              "      <td>ESPECTACULAR CASA A LA LAGUNA  -BARRIO SANTA B...</td>\n",
              "      <td>Casa</td>\n",
              "      <td>Alquiler temporal</td>\n",
              "    </tr>\n",
              "  </tbody>\n",
              "</table>\n",
              "<p>5 rows × 25 columns</p>\n",
              "</div>\n",
              "    <div class=\"colab-df-buttons\">\n",
              "\n",
              "  <div class=\"colab-df-container\">\n",
              "    <button class=\"colab-df-convert\" onclick=\"convertToInteractive('df-84fdc6a7-ac64-404a-9b29-d861e2e8b33b')\"\n",
              "            title=\"Convert this dataframe to an interactive table.\"\n",
              "            style=\"display:none;\">\n",
              "\n",
              "  <svg xmlns=\"http://www.w3.org/2000/svg\" height=\"24px\" viewBox=\"0 -960 960 960\">\n",
              "    <path d=\"M120-120v-720h720v720H120Zm60-500h600v-160H180v160Zm220 220h160v-160H400v160Zm0 220h160v-160H400v160ZM180-400h160v-160H180v160Zm440 0h160v-160H620v160ZM180-180h160v-160H180v160Zm440 0h160v-160H620v160Z\"/>\n",
              "  </svg>\n",
              "    </button>\n",
              "\n",
              "  <style>\n",
              "    .colab-df-container {\n",
              "      display:flex;\n",
              "      gap: 12px;\n",
              "    }\n",
              "\n",
              "    .colab-df-convert {\n",
              "      background-color: #E8F0FE;\n",
              "      border: none;\n",
              "      border-radius: 50%;\n",
              "      cursor: pointer;\n",
              "      display: none;\n",
              "      fill: #1967D2;\n",
              "      height: 32px;\n",
              "      padding: 0 0 0 0;\n",
              "      width: 32px;\n",
              "    }\n",
              "\n",
              "    .colab-df-convert:hover {\n",
              "      background-color: #E2EBFA;\n",
              "      box-shadow: 0px 1px 2px rgba(60, 64, 67, 0.3), 0px 1px 3px 1px rgba(60, 64, 67, 0.15);\n",
              "      fill: #174EA6;\n",
              "    }\n",
              "\n",
              "    .colab-df-buttons div {\n",
              "      margin-bottom: 4px;\n",
              "    }\n",
              "\n",
              "    [theme=dark] .colab-df-convert {\n",
              "      background-color: #3B4455;\n",
              "      fill: #D2E3FC;\n",
              "    }\n",
              "\n",
              "    [theme=dark] .colab-df-convert:hover {\n",
              "      background-color: #434B5C;\n",
              "      box-shadow: 0px 1px 3px 1px rgba(0, 0, 0, 0.15);\n",
              "      filter: drop-shadow(0px 1px 2px rgba(0, 0, 0, 0.3));\n",
              "      fill: #FFFFFF;\n",
              "    }\n",
              "  </style>\n",
              "\n",
              "    <script>\n",
              "      const buttonEl =\n",
              "        document.querySelector('#df-84fdc6a7-ac64-404a-9b29-d861e2e8b33b button.colab-df-convert');\n",
              "      buttonEl.style.display =\n",
              "        google.colab.kernel.accessAllowed ? 'block' : 'none';\n",
              "\n",
              "      async function convertToInteractive(key) {\n",
              "        const element = document.querySelector('#df-84fdc6a7-ac64-404a-9b29-d861e2e8b33b');\n",
              "        const dataTable =\n",
              "          await google.colab.kernel.invokeFunction('convertToInteractive',\n",
              "                                                    [key], {});\n",
              "        if (!dataTable) return;\n",
              "\n",
              "        const docLinkHtml = 'Like what you see? Visit the ' +\n",
              "          '<a target=\"_blank\" href=https://colab.research.google.com/notebooks/data_table.ipynb>data table notebook</a>'\n",
              "          + ' to learn more about interactive tables.';\n",
              "        element.innerHTML = '';\n",
              "        dataTable['output_type'] = 'display_data';\n",
              "        await google.colab.output.renderOutput(dataTable, element);\n",
              "        const docLink = document.createElement('div');\n",
              "        docLink.innerHTML = docLinkHtml;\n",
              "        element.appendChild(docLink);\n",
              "      }\n",
              "    </script>\n",
              "  </div>\n",
              "\n",
              "\n",
              "<div id=\"df-d98a690f-ed65-47db-853c-8dcc1a9fc6c4\">\n",
              "  <button class=\"colab-df-quickchart\" onclick=\"quickchart('df-d98a690f-ed65-47db-853c-8dcc1a9fc6c4')\"\n",
              "            title=\"Suggest charts\"\n",
              "            style=\"display:none;\">\n",
              "\n",
              "<svg xmlns=\"http://www.w3.org/2000/svg\" height=\"24px\"viewBox=\"0 0 24 24\"\n",
              "     width=\"24px\">\n",
              "    <g>\n",
              "        <path d=\"M19 3H5c-1.1 0-2 .9-2 2v14c0 1.1.9 2 2 2h14c1.1 0 2-.9 2-2V5c0-1.1-.9-2-2-2zM9 17H7v-7h2v7zm4 0h-2V7h2v10zm4 0h-2v-4h2v4z\"/>\n",
              "    </g>\n",
              "</svg>\n",
              "  </button>\n",
              "\n",
              "<style>\n",
              "  .colab-df-quickchart {\n",
              "      --bg-color: #E8F0FE;\n",
              "      --fill-color: #1967D2;\n",
              "      --hover-bg-color: #E2EBFA;\n",
              "      --hover-fill-color: #174EA6;\n",
              "      --disabled-fill-color: #AAA;\n",
              "      --disabled-bg-color: #DDD;\n",
              "  }\n",
              "\n",
              "  [theme=dark] .colab-df-quickchart {\n",
              "      --bg-color: #3B4455;\n",
              "      --fill-color: #D2E3FC;\n",
              "      --hover-bg-color: #434B5C;\n",
              "      --hover-fill-color: #FFFFFF;\n",
              "      --disabled-bg-color: #3B4455;\n",
              "      --disabled-fill-color: #666;\n",
              "  }\n",
              "\n",
              "  .colab-df-quickchart {\n",
              "    background-color: var(--bg-color);\n",
              "    border: none;\n",
              "    border-radius: 50%;\n",
              "    cursor: pointer;\n",
              "    display: none;\n",
              "    fill: var(--fill-color);\n",
              "    height: 32px;\n",
              "    padding: 0;\n",
              "    width: 32px;\n",
              "  }\n",
              "\n",
              "  .colab-df-quickchart:hover {\n",
              "    background-color: var(--hover-bg-color);\n",
              "    box-shadow: 0 1px 2px rgba(60, 64, 67, 0.3), 0 1px 3px 1px rgba(60, 64, 67, 0.15);\n",
              "    fill: var(--button-hover-fill-color);\n",
              "  }\n",
              "\n",
              "  .colab-df-quickchart-complete:disabled,\n",
              "  .colab-df-quickchart-complete:disabled:hover {\n",
              "    background-color: var(--disabled-bg-color);\n",
              "    fill: var(--disabled-fill-color);\n",
              "    box-shadow: none;\n",
              "  }\n",
              "\n",
              "  .colab-df-spinner {\n",
              "    border: 2px solid var(--fill-color);\n",
              "    border-color: transparent;\n",
              "    border-bottom-color: var(--fill-color);\n",
              "    animation:\n",
              "      spin 1s steps(1) infinite;\n",
              "  }\n",
              "\n",
              "  @keyframes spin {\n",
              "    0% {\n",
              "      border-color: transparent;\n",
              "      border-bottom-color: var(--fill-color);\n",
              "      border-left-color: var(--fill-color);\n",
              "    }\n",
              "    20% {\n",
              "      border-color: transparent;\n",
              "      border-left-color: var(--fill-color);\n",
              "      border-top-color: var(--fill-color);\n",
              "    }\n",
              "    30% {\n",
              "      border-color: transparent;\n",
              "      border-left-color: var(--fill-color);\n",
              "      border-top-color: var(--fill-color);\n",
              "      border-right-color: var(--fill-color);\n",
              "    }\n",
              "    40% {\n",
              "      border-color: transparent;\n",
              "      border-right-color: var(--fill-color);\n",
              "      border-top-color: var(--fill-color);\n",
              "    }\n",
              "    60% {\n",
              "      border-color: transparent;\n",
              "      border-right-color: var(--fill-color);\n",
              "    }\n",
              "    80% {\n",
              "      border-color: transparent;\n",
              "      border-right-color: var(--fill-color);\n",
              "      border-bottom-color: var(--fill-color);\n",
              "    }\n",
              "    90% {\n",
              "      border-color: transparent;\n",
              "      border-bottom-color: var(--fill-color);\n",
              "    }\n",
              "  }\n",
              "</style>\n",
              "\n",
              "  <script>\n",
              "    async function quickchart(key) {\n",
              "      const quickchartButtonEl =\n",
              "        document.querySelector('#' + key + ' button');\n",
              "      quickchartButtonEl.disabled = true;  // To prevent multiple clicks.\n",
              "      quickchartButtonEl.classList.add('colab-df-spinner');\n",
              "      try {\n",
              "        const charts = await google.colab.kernel.invokeFunction(\n",
              "            'suggestCharts', [key], {});\n",
              "      } catch (error) {\n",
              "        console.error('Error during call to suggestCharts:', error);\n",
              "      }\n",
              "      quickchartButtonEl.classList.remove('colab-df-spinner');\n",
              "      quickchartButtonEl.classList.add('colab-df-quickchart-complete');\n",
              "    }\n",
              "    (() => {\n",
              "      let quickchartButtonEl =\n",
              "        document.querySelector('#df-d98a690f-ed65-47db-853c-8dcc1a9fc6c4 button');\n",
              "      quickchartButtonEl.style.display =\n",
              "        google.colab.kernel.accessAllowed ? 'block' : 'none';\n",
              "    })();\n",
              "  </script>\n",
              "</div>\n",
              "\n",
              "    </div>\n",
              "  </div>\n"
            ],
            "application/vnd.google.colaboratory.intrinsic+json": {
              "type": "dataframe"
            }
          },
          "metadata": {},
          "execution_count": 9
        }
      ]
    },
    {
      "cell_type": "code",
      "execution_count": null,
      "id": "be399657",
      "metadata": {
        "id": "be399657"
      },
      "outputs": [],
      "source": [
        "# Constatando la dimensionalidad del dataframe\n",
        "prop.shape\n",
        "print(f\"El conjunto de datos contiene {prop.shape[0]} filas y {prop.shape[1]} columnas\")"
      ]
    },
    {
      "cell_type": "code",
      "source": [
        "# Resumen del dataframe\n",
        "prop.info()"
      ],
      "metadata": {
        "id": "3uG9R1_o1gPQ"
      },
      "id": "3uG9R1_o1gPQ",
      "execution_count": null,
      "outputs": []
    },
    {
      "cell_type": "markdown",
      "source": [
        "### <font color=\"DeepPink\">**DataFrame de Polars**"
      ],
      "metadata": {
        "id": "4hv8rj8vwjvw"
      },
      "id": "4hv8rj8vwjvw"
    },
    {
      "cell_type": "markdown",
      "source": [
        "### <font color=\"DeepPink\">**Transformo el Dataset de Pandas a Polars**"
      ],
      "metadata": {
        "id": "VRQZh62a1YRf"
      },
      "id": "VRQZh62a1YRf"
    },
    {
      "cell_type": "code",
      "source": [
        "import polars as pl ## importo modulo polars"
      ],
      "metadata": {
        "id": "NwaBwHdTfk4q"
      },
      "id": "NwaBwHdTfk4q",
      "execution_count": 13,
      "outputs": []
    },
    {
      "cell_type": "code",
      "source": [
        "# Convertir  dataset de Pandas  a  dataset de Polars\n",
        "prop_polars = pl.from_pandas(prop)"
      ],
      "metadata": {
        "id": "k_0tnNAT1h6o"
      },
      "id": "k_0tnNAT1h6o",
      "execution_count": 12,
      "outputs": []
    },
    {
      "cell_type": "code",
      "source": [
        "prop_polars.head(3)"
      ],
      "metadata": {
        "colab": {
          "base_uri": "https://localhost:8080/",
          "height": 368
        },
        "id": "i4bGiAE01_Pj",
        "outputId": "96247911-85e0-40cd-aa57-542aaa127edf"
      },
      "id": "i4bGiAE01_Pj",
      "execution_count": 14,
      "outputs": [
        {
          "output_type": "execute_result",
          "data": {
            "text/plain": [
              "shape: (3, 25)\n",
              "┌───────────┬───────────┬───────────┬───────────┬───┬───────────┬───────────┬───────────┬──────────┐\n",
              "│ id        ┆ ad_type   ┆ start_dat ┆ end_date  ┆ … ┆ title     ┆ descripti ┆ property_ ┆ operatio │\n",
              "│ ---       ┆ ---       ┆ e         ┆ ---       ┆   ┆ ---       ┆ on        ┆ type      ┆ n_type   │\n",
              "│ str       ┆ str       ┆ ---       ┆ str       ┆   ┆ str       ┆ ---       ┆ ---       ┆ ---      │\n",
              "│           ┆           ┆ str       ┆           ┆   ┆           ┆ str       ┆ str       ┆ str      │\n",
              "╞═══════════╪═══════════╪═══════════╪═══════════╪═══╪═══════════╪═══════════╪═══════════╪══════════╡\n",
              "│ DyVXfkpKy ┆ Propiedad ┆ 2020-08-2 ┆ 2020-09-0 ┆ … ┆ VENTA -   ┆ Lote      ┆ Lote      ┆ Venta    │\n",
              "│ gVBKuUk5o ┆           ┆ 2         ┆ 3         ┆   ┆ Lote Indu ┆ (Nro.50)  ┆           ┆          │\n",
              "│ lH+A==    ┆           ┆           ┆           ┆   ┆ strial    ┆ mide      ┆           ┆          │\n",
              "│           ┆           ┆           ┆           ┆   ┆ 130.00…   ┆ 133.139   ┆           ┆          │\n",
              "│           ┆           ┆           ┆           ┆   ┆           ┆ m2        ┆           ┆          │\n",
              "│           ┆           ┆           ┆           ┆   ┆           ┆ …         ┆           ┆          │\n",
              "│ 9naojilaM ┆ Propiedad ┆ 2020-08-2 ┆ 2020-09-0 ┆ … ┆ Casa -    ┆ Conjunto  ┆ Otro      ┆ Venta    │\n",
              "│ ecJN4jlQi ┆           ┆ 2         ┆ 4         ┆   ┆ Santa     ┆ edilicio  ┆           ┆          │\n",
              "│ TkGg==    ┆           ┆           ┆           ┆   ┆ Cecilia   ┆ de casa y ┆           ┆          │\n",
              "│           ┆           ┆           ┆           ┆   ┆           ┆ de…       ┆           ┆          │\n",
              "│ tlCPRJPjo ┆ Propiedad ┆ 2020-08-2 ┆ 2020-08-3 ┆ … ┆ Casa -    ┆ Casa de   ┆ Casa      ┆ Alquiler │\n",
              "│ DEUzuuCel ┆           ┆ 2         ┆ 1         ┆   ┆ Concordia ┆ un dormit ┆           ┆          │\n",
              "│ emAQ==    ┆           ┆           ┆           ┆   ┆           ┆ orio,     ┆           ┆          │\n",
              "│           ┆           ┆           ┆           ┆   ┆           ┆ cocina,…  ┆           ┆          │\n",
              "└───────────┴───────────┴───────────┴───────────┴───┴───────────┴───────────┴───────────┴──────────┘"
            ],
            "text/html": [
              "<div><style>\n",
              ".dataframe > thead > tr,\n",
              ".dataframe > tbody > tr {\n",
              "  text-align: right;\n",
              "  white-space: pre-wrap;\n",
              "}\n",
              "</style>\n",
              "<small>shape: (3, 25)</small><table border=\"1\" class=\"dataframe\"><thead><tr><th>id</th><th>ad_type</th><th>start_date</th><th>end_date</th><th>created_on</th><th>lat</th><th>lon</th><th>l1</th><th>l2</th><th>l3</th><th>l4</th><th>l5</th><th>l6</th><th>rooms</th><th>bedrooms</th><th>bathrooms</th><th>surface_total</th><th>surface_covered</th><th>price</th><th>currency</th><th>price_period</th><th>title</th><th>description</th><th>property_type</th><th>operation_type</th></tr><tr><td>str</td><td>str</td><td>str</td><td>str</td><td>str</td><td>f64</td><td>f64</td><td>str</td><td>str</td><td>str</td><td>str</td><td>str</td><td>f64</td><td>f64</td><td>f64</td><td>f64</td><td>f64</td><td>f64</td><td>f64</td><td>str</td><td>str</td><td>str</td><td>str</td><td>str</td><td>str</td></tr></thead><tbody><tr><td>&quot;DyVXfkpKygVBKuUk5olH+A==&quot;</td><td>&quot;Propiedad&quot;</td><td>&quot;2020-08-22&quot;</td><td>&quot;2020-09-03&quot;</td><td>&quot;2020-08-22&quot;</td><td>-34.407468</td><td>-58.957367</td><td>&quot;Argentina&quot;</td><td>&quot;Bs.As. G.B.A. Zona Norte&quot;</td><td>&quot;Pilar&quot;</td><td>null</td><td>null</td><td>null</td><td>null</td><td>null</td><td>null</td><td>133139.0</td><td>null</td><td>null</td><td>null</td><td>&quot;Mensual&quot;</td><td>&quot;VENTA - Lote Industrial 130.00…</td><td>&quot;Lote (Nro.50) mide 133.139 m2\n",
              "…</td><td>&quot;Lote&quot;</td><td>&quot;Venta&quot;</td></tr><tr><td>&quot;9naojilaMecJN4jlQiTkGg==&quot;</td><td>&quot;Propiedad&quot;</td><td>&quot;2020-08-22&quot;</td><td>&quot;2020-09-04&quot;</td><td>&quot;2020-08-22&quot;</td><td>-37.996039</td><td>-57.542509</td><td>&quot;Argentina&quot;</td><td>&quot;Buenos Aires Costa Atlántica&quot;</td><td>&quot;Mar del Plata&quot;</td><td>null</td><td>null</td><td>null</td><td>8.0</td><td>null</td><td>null</td><td>687.0</td><td>687.0</td><td>null</td><td>null</td><td>&quot;Mensual&quot;</td><td>&quot;Casa - Santa Cecilia&quot;</td><td>&quot;Conjunto edilicio de casa y de…</td><td>&quot;Otro&quot;</td><td>&quot;Venta&quot;</td></tr><tr><td>&quot;tlCPRJPjoDEUzuuCelemAQ==&quot;</td><td>&quot;Propiedad&quot;</td><td>&quot;2020-08-22&quot;</td><td>&quot;2020-08-31&quot;</td><td>&quot;2020-08-22&quot;</td><td>-31.380187</td><td>-58.009182</td><td>&quot;Argentina&quot;</td><td>&quot;Entre Ríos&quot;</td><td>&quot;Concordia&quot;</td><td>null</td><td>null</td><td>null</td><td>2.0</td><td>1.0</td><td>1.0</td><td>80.0</td><td>80.0</td><td>null</td><td>null</td><td>&quot;Mensual&quot;</td><td>&quot;Casa - Concordia&quot;</td><td>&quot;Casa de un dormitorio, cocina,…</td><td>&quot;Casa&quot;</td><td>&quot;Alquiler&quot;</td></tr></tbody></table></div>"
            ]
          },
          "metadata": {},
          "execution_count": 14
        }
      ]
    },
    {
      "cell_type": "code",
      "source": [
        "print(f\"El conjunto de datos contiene {prop_polars.shape[0]} filas y {prop_polars.shape[1]} columnas\") ## detalle de filas y columnas en polars"
      ],
      "metadata": {
        "colab": {
          "base_uri": "https://localhost:8080/"
        },
        "id": "76xiXWfw2H2V",
        "outputId": "9c1bc6f2-c09b-496d-e02d-b5cd1248d0d4"
      },
      "id": "76xiXWfw2H2V",
      "execution_count": 15,
      "outputs": [
        {
          "output_type": "stream",
          "name": "stdout",
          "text": [
            "El conjunto de datos contiene 1000000 filas y 25 columnas\n"
          ]
        }
      ]
    },
    {
      "cell_type": "code",
      "source": [
        "prop_polars.tail() ## ultimas cinco filas del dataset de polars"
      ],
      "metadata": {
        "colab": {
          "base_uri": "https://localhost:8080/",
          "height": 518
        },
        "id": "lMpI-VUl2Rhe",
        "outputId": "3d04ee55-5836-4e0c-9f12-14fcf2055e96"
      },
      "id": "lMpI-VUl2Rhe",
      "execution_count": 16,
      "outputs": [
        {
          "output_type": "execute_result",
          "data": {
            "text/plain": [
              "shape: (5, 25)\n",
              "┌───────────┬───────────┬───────────┬───────────┬───┬───────────┬───────────┬───────────┬──────────┐\n",
              "│ id        ┆ ad_type   ┆ start_dat ┆ end_date  ┆ … ┆ title     ┆ descripti ┆ property_ ┆ operatio │\n",
              "│ ---       ┆ ---       ┆ e         ┆ ---       ┆   ┆ ---       ┆ on        ┆ type      ┆ n_type   │\n",
              "│ str       ┆ str       ┆ ---       ┆ str       ┆   ┆ str       ┆ ---       ┆ ---       ┆ ---      │\n",
              "│           ┆           ┆ str       ┆           ┆   ┆           ┆ str       ┆ str       ┆ str      │\n",
              "╞═══════════╪═══════════╪═══════════╪═══════════╪═══╪═══════════╪═══════════╪═══════════╪══════════╡\n",
              "│ jMYhwydKq ┆ Propiedad ┆ 2020-12-0 ┆ 9999-12-3 ┆ … ┆ Se vende  ┆ Esta      ┆ Casa      ┆ Venta    │\n",
              "│ Uje8HCx7R ┆           ┆ 4         ┆ 1         ┆   ┆ imponente ┆ excelente ┆           ┆          │\n",
              "│ zwJQ==    ┆           ┆           ┆           ┆   ┆ casa a    ┆ propiedad ┆           ┆          │\n",
              "│           ┆           ┆           ┆           ┆   ┆ minu…     ┆ se en…    ┆           ┆          │\n",
              "│ FsP7ornzq ┆ Propiedad ┆ 2020-12-0 ┆ 9999-12-3 ┆ … ┆ Edificio  ┆ GRAN      ┆ Local     ┆ Alquiler │\n",
              "│ nK1CvUL8q ┆           ┆ 4         ┆ 1         ┆   ┆ Comercial ┆ EDIFICIO  ┆ comercial ┆          │\n",
              "│ uQ9Q==    ┆           ┆           ┆           ┆   ┆ - Retiro  ┆ PETIT     ┆           ┆          │\n",
              "│           ┆           ┆           ┆           ┆   ┆           ┆ HOTEL     ┆           ┆          │\n",
              "│           ┆           ┆           ┆           ┆   ┆           ┆ ESTI…     ┆           ┆          │\n",
              "│ fJLVUIziP ┆ Propiedad ┆ 2020-12-0 ┆ 9999-12-3 ┆ … ┆ Edificio  ┆ Edificio  ┆ Local     ┆ Venta    │\n",
              "│ l31ACoaE/ ┆           ┆ 4         ┆ 1         ┆   ┆ Comercial ┆ Comercial ┆ comercial ┆          │\n",
              "│ fj1g==    ┆           ┆           ┆           ┆   ┆ en        ┆ CON       ┆           ┆          │\n",
              "│           ┆           ┆           ┆           ┆   ┆ excelen…  ┆ ENTRADA…  ┆           ┆          │\n",
              "│ 7mW3bUSJF ┆ Propiedad ┆ 2020-12-0 ┆ 9999-12-3 ┆ … ┆ Edificio  ┆ Local     ┆ Local     ┆ Venta    │\n",
              "│ A0RBOj2xt ┆           ┆ 4         ┆ 1         ┆   ┆ Comercial ┆ 450m² con ┆ comercial ┆          │\n",
              "│ Bi+w==    ┆           ┆           ┆           ┆   ┆ - Capital ┆ Cloaca en ┆           ┆          │\n",
              "│           ┆           ┆           ┆           ┆   ┆           ┆ 25 d…     ┆           ┆          │\n",
              "│ rEynGyGrr ┆ Propiedad ┆ 2020-12-0 ┆ 2020-12-2 ┆ … ┆ INCREÍBLE ┆ ESPECTACU ┆ Casa      ┆ Alquiler │\n",
              "│ sxNeG0ib5 ┆           ┆ 4         ┆ 1         ┆   ┆ ECASA A   ┆ LAR CASA  ┆           ┆ temporal │\n",
              "│ vUBA==    ┆           ┆           ┆           ┆   ┆ LA LAGUNA ┆ A LA      ┆           ┆          │\n",
              "│           ┆           ┆           ┆           ┆   ┆ DE…       ┆ LAGUNA …  ┆           ┆          │\n",
              "└───────────┴───────────┴───────────┴───────────┴───┴───────────┴───────────┴───────────┴──────────┘"
            ],
            "text/html": [
              "<div><style>\n",
              ".dataframe > thead > tr,\n",
              ".dataframe > tbody > tr {\n",
              "  text-align: right;\n",
              "  white-space: pre-wrap;\n",
              "}\n",
              "</style>\n",
              "<small>shape: (5, 25)</small><table border=\"1\" class=\"dataframe\"><thead><tr><th>id</th><th>ad_type</th><th>start_date</th><th>end_date</th><th>created_on</th><th>lat</th><th>lon</th><th>l1</th><th>l2</th><th>l3</th><th>l4</th><th>l5</th><th>l6</th><th>rooms</th><th>bedrooms</th><th>bathrooms</th><th>surface_total</th><th>surface_covered</th><th>price</th><th>currency</th><th>price_period</th><th>title</th><th>description</th><th>property_type</th><th>operation_type</th></tr><tr><td>str</td><td>str</td><td>str</td><td>str</td><td>str</td><td>f64</td><td>f64</td><td>str</td><td>str</td><td>str</td><td>str</td><td>str</td><td>f64</td><td>f64</td><td>f64</td><td>f64</td><td>f64</td><td>f64</td><td>f64</td><td>str</td><td>str</td><td>str</td><td>str</td><td>str</td><td>str</td></tr></thead><tbody><tr><td>&quot;jMYhwydKqUje8HCx7RzwJQ==&quot;</td><td>&quot;Propiedad&quot;</td><td>&quot;2020-12-04&quot;</td><td>&quot;9999-12-31&quot;</td><td>&quot;2020-12-04&quot;</td><td>-32.958863</td><td>-60.665633</td><td>&quot;Argentina&quot;</td><td>&quot;Santa Fe&quot;</td><td>&quot;Rosario&quot;</td><td>null</td><td>null</td><td>null</td><td>null</td><td>9.0</td><td>7.0</td><td>400.0</td><td>300.0</td><td>400000.0</td><td>&quot;USD&quot;</td><td>&quot;Mensual&quot;</td><td>&quot;Se vende imponente casa a minu…</td><td>&quot;Esta excelente propiedad se en…</td><td>&quot;Casa&quot;</td><td>&quot;Venta&quot;</td></tr><tr><td>&quot;FsP7ornzqnK1CvUL8quQ9Q==&quot;</td><td>&quot;Propiedad&quot;</td><td>&quot;2020-12-04&quot;</td><td>&quot;9999-12-31&quot;</td><td>&quot;2020-12-04&quot;</td><td>-34.596587</td><td>-58.376893</td><td>&quot;Argentina&quot;</td><td>&quot;Capital Federal&quot;</td><td>&quot;Retiro&quot;</td><td>null</td><td>null</td><td>null</td><td>12.0</td><td>12.0</td><td>5.0</td><td>465.0</td><td>465.0</td><td>3700.0</td><td>&quot;USD&quot;</td><td>&quot;Mensual&quot;</td><td>&quot;Edificio Comercial - Retiro&quot;</td><td>&quot;GRAN EDIFICIO PETIT HOTEL ESTI…</td><td>&quot;Local comercial&quot;</td><td>&quot;Alquiler&quot;</td></tr><tr><td>&quot;fJLVUIziPl31ACoaE/fj1g==&quot;</td><td>&quot;Propiedad&quot;</td><td>&quot;2020-12-04&quot;</td><td>&quot;9999-12-31&quot;</td><td>&quot;2020-12-04&quot;</td><td>-34.576445</td><td>-58.432603</td><td>&quot;Argentina&quot;</td><td>&quot;Capital Federal&quot;</td><td>&quot;Palermo&quot;</td><td>null</td><td>null</td><td>null</td><td>14.0</td><td>13.0</td><td>2.0</td><td>615.0</td><td>425.0</td><td>570000.0</td><td>&quot;USD&quot;</td><td>&quot;Mensual&quot;</td><td>&quot;Edificio Comercial  en excelen…</td><td>&quot;Edificio Comercial CON ENTRADA…</td><td>&quot;Local comercial&quot;</td><td>&quot;Venta&quot;</td></tr><tr><td>&quot;7mW3bUSJFA0RBOj2xtBi+w==&quot;</td><td>&quot;Propiedad&quot;</td><td>&quot;2020-12-04&quot;</td><td>&quot;9999-12-31&quot;</td><td>&quot;2020-12-04&quot;</td><td>-32.866636</td><td>-68.841144</td><td>&quot;Argentina&quot;</td><td>&quot;Mendoza&quot;</td><td>null</td><td>null</td><td>null</td><td>null</td><td>null</td><td>20.0</td><td>20.0</td><td>450.0</td><td>450.0</td><td>800000.0</td><td>&quot;USD&quot;</td><td>&quot;Mensual&quot;</td><td>&quot;Edificio Comercial - Capital&quot;</td><td>&quot;Local 450m² con Cloaca en 25 d…</td><td>&quot;Local comercial&quot;</td><td>&quot;Venta&quot;</td></tr><tr><td>&quot;rEynGyGrrsxNeG0ib5vUBA==&quot;</td><td>&quot;Propiedad&quot;</td><td>&quot;2020-12-04&quot;</td><td>&quot;2020-12-21&quot;</td><td>&quot;2020-12-04&quot;</td><td>-34.447524</td><td>-58.631552</td><td>&quot;Argentina&quot;</td><td>&quot;Bs.As. G.B.A. Zona Norte&quot;</td><td>&quot;Tigre&quot;</td><td>&quot;Santa Barbara Barrio Cerrado&quot;</td><td>null</td><td>null</td><td>5.0</td><td>40.0</td><td>4.0</td><td>350.0</td><td>300.0</td><td>7000.0</td><td>&quot;USD&quot;</td><td>&quot;Mensual&quot;</td><td>&quot;INCREÍBLE ECASA A LA LAGUNA DE…</td><td>&quot;ESPECTACULAR CASA A LA LAGUNA …</td><td>&quot;Casa&quot;</td><td>&quot;Alquiler temporal&quot;</td></tr></tbody></table></div>"
            ]
          },
          "metadata": {},
          "execution_count": 16
        }
      ]
    },
    {
      "cell_type": "code",
      "source": [
        "print(prop_polars) #### Imprimir el dataset en polars"
      ],
      "metadata": {
        "colab": {
          "base_uri": "https://localhost:8080/"
        },
        "id": "7naa0wSz2Ucv",
        "outputId": "4cd284a1-300d-46c0-cedc-b00672bda9b6"
      },
      "id": "7naa0wSz2Ucv",
      "execution_count": 17,
      "outputs": [
        {
          "output_type": "stream",
          "name": "stdout",
          "text": [
            "shape: (1_000_000, 25)\n",
            "┌───────────┬───────────┬───────────┬───────────┬───┬───────────┬───────────┬───────────┬──────────┐\n",
            "│ id        ┆ ad_type   ┆ start_dat ┆ end_date  ┆ … ┆ title     ┆ descripti ┆ property_ ┆ operatio │\n",
            "│ ---       ┆ ---       ┆ e         ┆ ---       ┆   ┆ ---       ┆ on        ┆ type      ┆ n_type   │\n",
            "│ str       ┆ str       ┆ ---       ┆ str       ┆   ┆ str       ┆ ---       ┆ ---       ┆ ---      │\n",
            "│           ┆           ┆ str       ┆           ┆   ┆           ┆ str       ┆ str       ┆ str      │\n",
            "╞═══════════╪═══════════╪═══════════╪═══════════╪═══╪═══════════╪═══════════╪═══════════╪══════════╡\n",
            "│ DyVXfkpKy ┆ Propiedad ┆ 2020-08-2 ┆ 2020-09-0 ┆ … ┆ VENTA -   ┆ Lote      ┆ Lote      ┆ Venta    │\n",
            "│ gVBKuUk5o ┆           ┆ 2         ┆ 3         ┆   ┆ Lote Indu ┆ (Nro.50)  ┆           ┆          │\n",
            "│ lH+A==    ┆           ┆           ┆           ┆   ┆ strial    ┆ mide      ┆           ┆          │\n",
            "│           ┆           ┆           ┆           ┆   ┆ 130.00…   ┆ 133.139   ┆           ┆          │\n",
            "│           ┆           ┆           ┆           ┆   ┆           ┆ m2        ┆           ┆          │\n",
            "│           ┆           ┆           ┆           ┆   ┆           ┆ …         ┆           ┆          │\n",
            "│ 9naojilaM ┆ Propiedad ┆ 2020-08-2 ┆ 2020-09-0 ┆ … ┆ Casa -    ┆ Conjunto  ┆ Otro      ┆ Venta    │\n",
            "│ ecJN4jlQi ┆           ┆ 2         ┆ 4         ┆   ┆ Santa     ┆ edilicio  ┆           ┆          │\n",
            "│ TkGg==    ┆           ┆           ┆           ┆   ┆ Cecilia   ┆ de casa y ┆           ┆          │\n",
            "│           ┆           ┆           ┆           ┆   ┆           ┆ de…       ┆           ┆          │\n",
            "│ tlCPRJPjo ┆ Propiedad ┆ 2020-08-2 ┆ 2020-08-3 ┆ … ┆ Casa -    ┆ Casa de   ┆ Casa      ┆ Alquiler │\n",
            "│ DEUzuuCel ┆           ┆ 2         ┆ 1         ┆   ┆ Concordia ┆ un dormit ┆           ┆          │\n",
            "│ emAQ==    ┆           ┆           ┆           ┆   ┆           ┆ orio,     ┆           ┆          │\n",
            "│           ┆           ┆           ┆           ┆   ┆           ┆ cocina,…  ┆           ┆          │\n",
            "│ Zw3b91glQ ┆ Propiedad ┆ 2020-08-2 ┆ 2020-09-0 ┆ … ┆ Terreno - ┆ IMPORTANT ┆ Lote      ┆ Venta    │\n",
            "│ UO3HNrM5f ┆           ┆ 2         ┆ 4         ┆   ┆ Obera     ┆ E         ┆           ┆          │\n",
            "│ PYlQ==    ┆           ┆           ┆           ┆   ┆           ┆ PROPIEDAD ┆           ┆          │\n",
            "│           ┆           ┆           ┆           ┆   ┆           ┆ EN VENTA  ┆           ┆          │\n",
            "│           ┆           ┆           ┆           ┆   ┆           ┆ …         ┆           ┆          │\n",
            "│ bsU81gm9J ┆ Propiedad ┆ 2020-08-2 ┆ 2020-09-0 ┆ … ┆ Departame ┆ PORTAL DE ┆ Departame ┆ Venta    │\n",
            "│ EgtZCbTYg ┆           ┆ 2         ┆ 4         ┆   ┆ nto -     ┆ LOS MARIN ┆ nto       ┆          │\n",
            "│ vykg==    ┆           ┆           ┆           ┆   ┆ Rosario   ┆ OS<br>Es  ┆           ┆          │\n",
            "│           ┆           ┆           ┆           ┆   ┆           ┆ un…       ┆           ┆          │\n",
            "│ …         ┆ …         ┆ …         ┆ …         ┆ … ┆ …         ┆ …         ┆ …         ┆ …        │\n",
            "│ jMYhwydKq ┆ Propiedad ┆ 2020-12-0 ┆ 9999-12-3 ┆ … ┆ Se vende  ┆ Esta      ┆ Casa      ┆ Venta    │\n",
            "│ Uje8HCx7R ┆           ┆ 4         ┆ 1         ┆   ┆ imponente ┆ excelente ┆           ┆          │\n",
            "│ zwJQ==    ┆           ┆           ┆           ┆   ┆ casa a    ┆ propiedad ┆           ┆          │\n",
            "│           ┆           ┆           ┆           ┆   ┆ minu…     ┆ se en…    ┆           ┆          │\n",
            "│ FsP7ornzq ┆ Propiedad ┆ 2020-12-0 ┆ 9999-12-3 ┆ … ┆ Edificio  ┆ GRAN      ┆ Local     ┆ Alquiler │\n",
            "│ nK1CvUL8q ┆           ┆ 4         ┆ 1         ┆   ┆ Comercial ┆ EDIFICIO  ┆ comercial ┆          │\n",
            "│ uQ9Q==    ┆           ┆           ┆           ┆   ┆ - Retiro  ┆ PETIT     ┆           ┆          │\n",
            "│           ┆           ┆           ┆           ┆   ┆           ┆ HOTEL     ┆           ┆          │\n",
            "│           ┆           ┆           ┆           ┆   ┆           ┆ ESTI…     ┆           ┆          │\n",
            "│ fJLVUIziP ┆ Propiedad ┆ 2020-12-0 ┆ 9999-12-3 ┆ … ┆ Edificio  ┆ Edificio  ┆ Local     ┆ Venta    │\n",
            "│ l31ACoaE/ ┆           ┆ 4         ┆ 1         ┆   ┆ Comercial ┆ Comercial ┆ comercial ┆          │\n",
            "│ fj1g==    ┆           ┆           ┆           ┆   ┆ en        ┆ CON       ┆           ┆          │\n",
            "│           ┆           ┆           ┆           ┆   ┆ excelen…  ┆ ENTRADA…  ┆           ┆          │\n",
            "│ 7mW3bUSJF ┆ Propiedad ┆ 2020-12-0 ┆ 9999-12-3 ┆ … ┆ Edificio  ┆ Local     ┆ Local     ┆ Venta    │\n",
            "│ A0RBOj2xt ┆           ┆ 4         ┆ 1         ┆   ┆ Comercial ┆ 450m² con ┆ comercial ┆          │\n",
            "│ Bi+w==    ┆           ┆           ┆           ┆   ┆ - Capital ┆ Cloaca en ┆           ┆          │\n",
            "│           ┆           ┆           ┆           ┆   ┆           ┆ 25 d…     ┆           ┆          │\n",
            "│ rEynGyGrr ┆ Propiedad ┆ 2020-12-0 ┆ 2020-12-2 ┆ … ┆ INCREÍBLE ┆ ESPECTACU ┆ Casa      ┆ Alquiler │\n",
            "│ sxNeG0ib5 ┆           ┆ 4         ┆ 1         ┆   ┆ ECASA A   ┆ LAR CASA  ┆           ┆ temporal │\n",
            "│ vUBA==    ┆           ┆           ┆           ┆   ┆ LA LAGUNA ┆ A LA      ┆           ┆          │\n",
            "│           ┆           ┆           ┆           ┆   ┆ DE…       ┆ LAGUNA …  ┆           ┆          │\n",
            "└───────────┴───────────┴───────────┴───────────┴───┴───────────┴───────────┴───────────┴──────────┘\n"
          ]
        }
      ]
    },
    {
      "cell_type": "code",
      "source": [
        "prop_polars.schema # detalle de columna y su tipo de dato"
      ],
      "metadata": {
        "colab": {
          "base_uri": "https://localhost:8080/"
        },
        "id": "-Vghf8pg2c3I",
        "outputId": "61017026-db2a-4532-8320-a3583ed4fc17"
      },
      "id": "-Vghf8pg2c3I",
      "execution_count": 18,
      "outputs": [
        {
          "output_type": "execute_result",
          "data": {
            "text/plain": [
              "Schema([('id', String),\n",
              "        ('ad_type', String),\n",
              "        ('start_date', String),\n",
              "        ('end_date', String),\n",
              "        ('created_on', String),\n",
              "        ('lat', Float64),\n",
              "        ('lon', Float64),\n",
              "        ('l1', String),\n",
              "        ('l2', String),\n",
              "        ('l3', String),\n",
              "        ('l4', String),\n",
              "        ('l5', String),\n",
              "        ('l6', Float64),\n",
              "        ('rooms', Float64),\n",
              "        ('bedrooms', Float64),\n",
              "        ('bathrooms', Float64),\n",
              "        ('surface_total', Float64),\n",
              "        ('surface_covered', Float64),\n",
              "        ('price', Float64),\n",
              "        ('currency', String),\n",
              "        ('price_period', String),\n",
              "        ('title', String),\n",
              "        ('description', String),\n",
              "        ('property_type', String),\n",
              "        ('operation_type', String)])"
            ]
          },
          "metadata": {},
          "execution_count": 18
        }
      ]
    },
    {
      "cell_type": "markdown",
      "source": [],
      "metadata": {
        "id": "1IzQvB1V1WXy"
      },
      "id": "1IzQvB1V1WXy"
    },
    {
      "cell_type": "code",
      "source": [
        "prop_polars.shape # detalle de filas y columnas"
      ],
      "metadata": {
        "colab": {
          "base_uri": "https://localhost:8080/"
        },
        "id": "HyW-494p2-OM",
        "outputId": "f156f3ec-1f0e-4603-a119-fbec10925a3f"
      },
      "id": "HyW-494p2-OM",
      "execution_count": 19,
      "outputs": [
        {
          "output_type": "execute_result",
          "data": {
            "text/plain": [
              "(1000000, 25)"
            ]
          },
          "metadata": {},
          "execution_count": 19
        }
      ]
    },
    {
      "cell_type": "code",
      "source": [
        "out = prop_polars.select(pl.col(\"*\"))\n",
        "\n",
        "# Is equivalent to\n",
        "out = prop_polars.select(pl.all())\n",
        "print(out)"
      ],
      "metadata": {
        "colab": {
          "base_uri": "https://localhost:8080/"
        },
        "id": "GBJWA42gf87I",
        "outputId": "e05c0393-aa84-428d-a3eb-a2294db763a0"
      },
      "id": "GBJWA42gf87I",
      "execution_count": 20,
      "outputs": [
        {
          "output_type": "stream",
          "name": "stdout",
          "text": [
            "shape: (1_000_000, 25)\n",
            "┌───────────┬───────────┬───────────┬───────────┬───┬───────────┬───────────┬───────────┬──────────┐\n",
            "│ id        ┆ ad_type   ┆ start_dat ┆ end_date  ┆ … ┆ title     ┆ descripti ┆ property_ ┆ operatio │\n",
            "│ ---       ┆ ---       ┆ e         ┆ ---       ┆   ┆ ---       ┆ on        ┆ type      ┆ n_type   │\n",
            "│ str       ┆ str       ┆ ---       ┆ str       ┆   ┆ str       ┆ ---       ┆ ---       ┆ ---      │\n",
            "│           ┆           ┆ str       ┆           ┆   ┆           ┆ str       ┆ str       ┆ str      │\n",
            "╞═══════════╪═══════════╪═══════════╪═══════════╪═══╪═══════════╪═══════════╪═══════════╪══════════╡\n",
            "│ DyVXfkpKy ┆ Propiedad ┆ 2020-08-2 ┆ 2020-09-0 ┆ … ┆ VENTA -   ┆ Lote      ┆ Lote      ┆ Venta    │\n",
            "│ gVBKuUk5o ┆           ┆ 2         ┆ 3         ┆   ┆ Lote Indu ┆ (Nro.50)  ┆           ┆          │\n",
            "│ lH+A==    ┆           ┆           ┆           ┆   ┆ strial    ┆ mide      ┆           ┆          │\n",
            "│           ┆           ┆           ┆           ┆   ┆ 130.00…   ┆ 133.139   ┆           ┆          │\n",
            "│           ┆           ┆           ┆           ┆   ┆           ┆ m2        ┆           ┆          │\n",
            "│           ┆           ┆           ┆           ┆   ┆           ┆ …         ┆           ┆          │\n",
            "│ 9naojilaM ┆ Propiedad ┆ 2020-08-2 ┆ 2020-09-0 ┆ … ┆ Casa -    ┆ Conjunto  ┆ Otro      ┆ Venta    │\n",
            "│ ecJN4jlQi ┆           ┆ 2         ┆ 4         ┆   ┆ Santa     ┆ edilicio  ┆           ┆          │\n",
            "│ TkGg==    ┆           ┆           ┆           ┆   ┆ Cecilia   ┆ de casa y ┆           ┆          │\n",
            "│           ┆           ┆           ┆           ┆   ┆           ┆ de…       ┆           ┆          │\n",
            "│ tlCPRJPjo ┆ Propiedad ┆ 2020-08-2 ┆ 2020-08-3 ┆ … ┆ Casa -    ┆ Casa de   ┆ Casa      ┆ Alquiler │\n",
            "│ DEUzuuCel ┆           ┆ 2         ┆ 1         ┆   ┆ Concordia ┆ un dormit ┆           ┆          │\n",
            "│ emAQ==    ┆           ┆           ┆           ┆   ┆           ┆ orio,     ┆           ┆          │\n",
            "│           ┆           ┆           ┆           ┆   ┆           ┆ cocina,…  ┆           ┆          │\n",
            "│ Zw3b91glQ ┆ Propiedad ┆ 2020-08-2 ┆ 2020-09-0 ┆ … ┆ Terreno - ┆ IMPORTANT ┆ Lote      ┆ Venta    │\n",
            "│ UO3HNrM5f ┆           ┆ 2         ┆ 4         ┆   ┆ Obera     ┆ E         ┆           ┆          │\n",
            "│ PYlQ==    ┆           ┆           ┆           ┆   ┆           ┆ PROPIEDAD ┆           ┆          │\n",
            "│           ┆           ┆           ┆           ┆   ┆           ┆ EN VENTA  ┆           ┆          │\n",
            "│           ┆           ┆           ┆           ┆   ┆           ┆ …         ┆           ┆          │\n",
            "│ bsU81gm9J ┆ Propiedad ┆ 2020-08-2 ┆ 2020-09-0 ┆ … ┆ Departame ┆ PORTAL DE ┆ Departame ┆ Venta    │\n",
            "│ EgtZCbTYg ┆           ┆ 2         ┆ 4         ┆   ┆ nto -     ┆ LOS MARIN ┆ nto       ┆          │\n",
            "│ vykg==    ┆           ┆           ┆           ┆   ┆ Rosario   ┆ OS<br>Es  ┆           ┆          │\n",
            "│           ┆           ┆           ┆           ┆   ┆           ┆ un…       ┆           ┆          │\n",
            "│ …         ┆ …         ┆ …         ┆ …         ┆ … ┆ …         ┆ …         ┆ …         ┆ …        │\n",
            "│ jMYhwydKq ┆ Propiedad ┆ 2020-12-0 ┆ 9999-12-3 ┆ … ┆ Se vende  ┆ Esta      ┆ Casa      ┆ Venta    │\n",
            "│ Uje8HCx7R ┆           ┆ 4         ┆ 1         ┆   ┆ imponente ┆ excelente ┆           ┆          │\n",
            "│ zwJQ==    ┆           ┆           ┆           ┆   ┆ casa a    ┆ propiedad ┆           ┆          │\n",
            "│           ┆           ┆           ┆           ┆   ┆ minu…     ┆ se en…    ┆           ┆          │\n",
            "│ FsP7ornzq ┆ Propiedad ┆ 2020-12-0 ┆ 9999-12-3 ┆ … ┆ Edificio  ┆ GRAN      ┆ Local     ┆ Alquiler │\n",
            "│ nK1CvUL8q ┆           ┆ 4         ┆ 1         ┆   ┆ Comercial ┆ EDIFICIO  ┆ comercial ┆          │\n",
            "│ uQ9Q==    ┆           ┆           ┆           ┆   ┆ - Retiro  ┆ PETIT     ┆           ┆          │\n",
            "│           ┆           ┆           ┆           ┆   ┆           ┆ HOTEL     ┆           ┆          │\n",
            "│           ┆           ┆           ┆           ┆   ┆           ┆ ESTI…     ┆           ┆          │\n",
            "│ fJLVUIziP ┆ Propiedad ┆ 2020-12-0 ┆ 9999-12-3 ┆ … ┆ Edificio  ┆ Edificio  ┆ Local     ┆ Venta    │\n",
            "│ l31ACoaE/ ┆           ┆ 4         ┆ 1         ┆   ┆ Comercial ┆ Comercial ┆ comercial ┆          │\n",
            "│ fj1g==    ┆           ┆           ┆           ┆   ┆ en        ┆ CON       ┆           ┆          │\n",
            "│           ┆           ┆           ┆           ┆   ┆ excelen…  ┆ ENTRADA…  ┆           ┆          │\n",
            "│ 7mW3bUSJF ┆ Propiedad ┆ 2020-12-0 ┆ 9999-12-3 ┆ … ┆ Edificio  ┆ Local     ┆ Local     ┆ Venta    │\n",
            "│ A0RBOj2xt ┆           ┆ 4         ┆ 1         ┆   ┆ Comercial ┆ 450m² con ┆ comercial ┆          │\n",
            "│ Bi+w==    ┆           ┆           ┆           ┆   ┆ - Capital ┆ Cloaca en ┆           ┆          │\n",
            "│           ┆           ┆           ┆           ┆   ┆           ┆ 25 d…     ┆           ┆          │\n",
            "│ rEynGyGrr ┆ Propiedad ┆ 2020-12-0 ┆ 2020-12-2 ┆ … ┆ INCREÍBLE ┆ ESPECTACU ┆ Casa      ┆ Alquiler │\n",
            "│ sxNeG0ib5 ┆           ┆ 4         ┆ 1         ┆   ┆ ECASA A   ┆ LAR CASA  ┆           ┆ temporal │\n",
            "│ vUBA==    ┆           ┆           ┆           ┆   ┆ LA LAGUNA ┆ A LA      ┆           ┆          │\n",
            "│           ┆           ┆           ┆           ┆   ┆ DE…       ┆ LAGUNA …  ┆           ┆          │\n",
            "└───────────┴───────────┴───────────┴───────────┴───┴───────────┴───────────┴───────────┴──────────┘\n"
          ]
        }
      ]
    },
    {
      "cell_type": "code",
      "source": [
        "out = prop_polars.select(pl.col(\"*\").exclude(\"logged_at\", \"index\"))\n",
        "print(out)"
      ],
      "metadata": {
        "colab": {
          "base_uri": "https://localhost:8080/"
        },
        "id": "coqkErV6gJ0I",
        "outputId": "cdcaa217-a895-493e-8cd2-19365e2b6534"
      },
      "id": "coqkErV6gJ0I",
      "execution_count": 22,
      "outputs": [
        {
          "output_type": "stream",
          "name": "stdout",
          "text": [
            "shape: (1_000_000, 25)\n",
            "┌───────────┬───────────┬───────────┬───────────┬───┬───────────┬───────────┬───────────┬──────────┐\n",
            "│ id        ┆ ad_type   ┆ start_dat ┆ end_date  ┆ … ┆ title     ┆ descripti ┆ property_ ┆ operatio │\n",
            "│ ---       ┆ ---       ┆ e         ┆ ---       ┆   ┆ ---       ┆ on        ┆ type      ┆ n_type   │\n",
            "│ str       ┆ str       ┆ ---       ┆ str       ┆   ┆ str       ┆ ---       ┆ ---       ┆ ---      │\n",
            "│           ┆           ┆ str       ┆           ┆   ┆           ┆ str       ┆ str       ┆ str      │\n",
            "╞═══════════╪═══════════╪═══════════╪═══════════╪═══╪═══════════╪═══════════╪═══════════╪══════════╡\n",
            "│ DyVXfkpKy ┆ Propiedad ┆ 2020-08-2 ┆ 2020-09-0 ┆ … ┆ VENTA -   ┆ Lote      ┆ Lote      ┆ Venta    │\n",
            "│ gVBKuUk5o ┆           ┆ 2         ┆ 3         ┆   ┆ Lote Indu ┆ (Nro.50)  ┆           ┆          │\n",
            "│ lH+A==    ┆           ┆           ┆           ┆   ┆ strial    ┆ mide      ┆           ┆          │\n",
            "│           ┆           ┆           ┆           ┆   ┆ 130.00…   ┆ 133.139   ┆           ┆          │\n",
            "│           ┆           ┆           ┆           ┆   ┆           ┆ m2        ┆           ┆          │\n",
            "│           ┆           ┆           ┆           ┆   ┆           ┆ …         ┆           ┆          │\n",
            "│ 9naojilaM ┆ Propiedad ┆ 2020-08-2 ┆ 2020-09-0 ┆ … ┆ Casa -    ┆ Conjunto  ┆ Otro      ┆ Venta    │\n",
            "│ ecJN4jlQi ┆           ┆ 2         ┆ 4         ┆   ┆ Santa     ┆ edilicio  ┆           ┆          │\n",
            "│ TkGg==    ┆           ┆           ┆           ┆   ┆ Cecilia   ┆ de casa y ┆           ┆          │\n",
            "│           ┆           ┆           ┆           ┆   ┆           ┆ de…       ┆           ┆          │\n",
            "│ tlCPRJPjo ┆ Propiedad ┆ 2020-08-2 ┆ 2020-08-3 ┆ … ┆ Casa -    ┆ Casa de   ┆ Casa      ┆ Alquiler │\n",
            "│ DEUzuuCel ┆           ┆ 2         ┆ 1         ┆   ┆ Concordia ┆ un dormit ┆           ┆          │\n",
            "│ emAQ==    ┆           ┆           ┆           ┆   ┆           ┆ orio,     ┆           ┆          │\n",
            "│           ┆           ┆           ┆           ┆   ┆           ┆ cocina,…  ┆           ┆          │\n",
            "│ Zw3b91glQ ┆ Propiedad ┆ 2020-08-2 ┆ 2020-09-0 ┆ … ┆ Terreno - ┆ IMPORTANT ┆ Lote      ┆ Venta    │\n",
            "│ UO3HNrM5f ┆           ┆ 2         ┆ 4         ┆   ┆ Obera     ┆ E         ┆           ┆          │\n",
            "│ PYlQ==    ┆           ┆           ┆           ┆   ┆           ┆ PROPIEDAD ┆           ┆          │\n",
            "│           ┆           ┆           ┆           ┆   ┆           ┆ EN VENTA  ┆           ┆          │\n",
            "│           ┆           ┆           ┆           ┆   ┆           ┆ …         ┆           ┆          │\n",
            "│ bsU81gm9J ┆ Propiedad ┆ 2020-08-2 ┆ 2020-09-0 ┆ … ┆ Departame ┆ PORTAL DE ┆ Departame ┆ Venta    │\n",
            "│ EgtZCbTYg ┆           ┆ 2         ┆ 4         ┆   ┆ nto -     ┆ LOS MARIN ┆ nto       ┆          │\n",
            "│ vykg==    ┆           ┆           ┆           ┆   ┆ Rosario   ┆ OS<br>Es  ┆           ┆          │\n",
            "│           ┆           ┆           ┆           ┆   ┆           ┆ un…       ┆           ┆          │\n",
            "│ …         ┆ …         ┆ …         ┆ …         ┆ … ┆ …         ┆ …         ┆ …         ┆ …        │\n",
            "│ jMYhwydKq ┆ Propiedad ┆ 2020-12-0 ┆ 9999-12-3 ┆ … ┆ Se vende  ┆ Esta      ┆ Casa      ┆ Venta    │\n",
            "│ Uje8HCx7R ┆           ┆ 4         ┆ 1         ┆   ┆ imponente ┆ excelente ┆           ┆          │\n",
            "│ zwJQ==    ┆           ┆           ┆           ┆   ┆ casa a    ┆ propiedad ┆           ┆          │\n",
            "│           ┆           ┆           ┆           ┆   ┆ minu…     ┆ se en…    ┆           ┆          │\n",
            "│ FsP7ornzq ┆ Propiedad ┆ 2020-12-0 ┆ 9999-12-3 ┆ … ┆ Edificio  ┆ GRAN      ┆ Local     ┆ Alquiler │\n",
            "│ nK1CvUL8q ┆           ┆ 4         ┆ 1         ┆   ┆ Comercial ┆ EDIFICIO  ┆ comercial ┆          │\n",
            "│ uQ9Q==    ┆           ┆           ┆           ┆   ┆ - Retiro  ┆ PETIT     ┆           ┆          │\n",
            "│           ┆           ┆           ┆           ┆   ┆           ┆ HOTEL     ┆           ┆          │\n",
            "│           ┆           ┆           ┆           ┆   ┆           ┆ ESTI…     ┆           ┆          │\n",
            "│ fJLVUIziP ┆ Propiedad ┆ 2020-12-0 ┆ 9999-12-3 ┆ … ┆ Edificio  ┆ Edificio  ┆ Local     ┆ Venta    │\n",
            "│ l31ACoaE/ ┆           ┆ 4         ┆ 1         ┆   ┆ Comercial ┆ Comercial ┆ comercial ┆          │\n",
            "│ fj1g==    ┆           ┆           ┆           ┆   ┆ en        ┆ CON       ┆           ┆          │\n",
            "│           ┆           ┆           ┆           ┆   ┆ excelen…  ┆ ENTRADA…  ┆           ┆          │\n",
            "│ 7mW3bUSJF ┆ Propiedad ┆ 2020-12-0 ┆ 9999-12-3 ┆ … ┆ Edificio  ┆ Local     ┆ Local     ┆ Venta    │\n",
            "│ A0RBOj2xt ┆           ┆ 4         ┆ 1         ┆   ┆ Comercial ┆ 450m² con ┆ comercial ┆          │\n",
            "│ Bi+w==    ┆           ┆           ┆           ┆   ┆ - Capital ┆ Cloaca en ┆           ┆          │\n",
            "│           ┆           ┆           ┆           ┆   ┆           ┆ 25 d…     ┆           ┆          │\n",
            "│ rEynGyGrr ┆ Propiedad ┆ 2020-12-0 ┆ 2020-12-2 ┆ … ┆ INCREÍBLE ┆ ESPECTACU ┆ Casa      ┆ Alquiler │\n",
            "│ sxNeG0ib5 ┆           ┆ 4         ┆ 1         ┆   ┆ ECASA A   ┆ LAR CASA  ┆           ┆ temporal │\n",
            "│ vUBA==    ┆           ┆           ┆           ┆   ┆ LA LAGUNA ┆ A LA      ┆           ┆          │\n",
            "│           ┆           ┆           ┆           ┆   ┆ DE…       ┆ LAGUNA …  ┆           ┆          │\n",
            "└───────────┴───────────┴───────────┴───────────┴───┴───────────┴───────────┴───────────┴──────────┘\n"
          ]
        }
      ]
    },
    {
      "cell_type": "code",
      "source": [
        "import polars.selectors as cs\n",
        "\n",
        "out = prop_polars.select(cs.integer(), cs.string())\n",
        "print(out)"
      ],
      "metadata": {
        "colab": {
          "base_uri": "https://localhost:8080/"
        },
        "id": "aYGFx9s4pX_E",
        "outputId": "49082c28-2b49-4ece-b820-3cec081fbd0c"
      },
      "id": "aYGFx9s4pX_E",
      "execution_count": 27,
      "outputs": [
        {
          "output_type": "stream",
          "name": "stdout",
          "text": [
            "shape: (1_000_000, 16)\n",
            "┌───────────┬───────────┬───────────┬───────────┬───┬───────────┬───────────┬───────────┬──────────┐\n",
            "│ id        ┆ ad_type   ┆ start_dat ┆ end_date  ┆ … ┆ title     ┆ descripti ┆ property_ ┆ operatio │\n",
            "│ ---       ┆ ---       ┆ e         ┆ ---       ┆   ┆ ---       ┆ on        ┆ type      ┆ n_type   │\n",
            "│ str       ┆ str       ┆ ---       ┆ str       ┆   ┆ str       ┆ ---       ┆ ---       ┆ ---      │\n",
            "│           ┆           ┆ str       ┆           ┆   ┆           ┆ str       ┆ str       ┆ str      │\n",
            "╞═══════════╪═══════════╪═══════════╪═══════════╪═══╪═══════════╪═══════════╪═══════════╪══════════╡\n",
            "│ DyVXfkpKy ┆ Propiedad ┆ 2020-08-2 ┆ 2020-09-0 ┆ … ┆ VENTA -   ┆ Lote      ┆ Lote      ┆ Venta    │\n",
            "│ gVBKuUk5o ┆           ┆ 2         ┆ 3         ┆   ┆ Lote Indu ┆ (Nro.50)  ┆           ┆          │\n",
            "│ lH+A==    ┆           ┆           ┆           ┆   ┆ strial    ┆ mide      ┆           ┆          │\n",
            "│           ┆           ┆           ┆           ┆   ┆ 130.00…   ┆ 133.139   ┆           ┆          │\n",
            "│           ┆           ┆           ┆           ┆   ┆           ┆ m2        ┆           ┆          │\n",
            "│           ┆           ┆           ┆           ┆   ┆           ┆ …         ┆           ┆          │\n",
            "│ 9naojilaM ┆ Propiedad ┆ 2020-08-2 ┆ 2020-09-0 ┆ … ┆ Casa -    ┆ Conjunto  ┆ Otro      ┆ Venta    │\n",
            "│ ecJN4jlQi ┆           ┆ 2         ┆ 4         ┆   ┆ Santa     ┆ edilicio  ┆           ┆          │\n",
            "│ TkGg==    ┆           ┆           ┆           ┆   ┆ Cecilia   ┆ de casa y ┆           ┆          │\n",
            "│           ┆           ┆           ┆           ┆   ┆           ┆ de…       ┆           ┆          │\n",
            "│ tlCPRJPjo ┆ Propiedad ┆ 2020-08-2 ┆ 2020-08-3 ┆ … ┆ Casa -    ┆ Casa de   ┆ Casa      ┆ Alquiler │\n",
            "│ DEUzuuCel ┆           ┆ 2         ┆ 1         ┆   ┆ Concordia ┆ un dormit ┆           ┆          │\n",
            "│ emAQ==    ┆           ┆           ┆           ┆   ┆           ┆ orio,     ┆           ┆          │\n",
            "│           ┆           ┆           ┆           ┆   ┆           ┆ cocina,…  ┆           ┆          │\n",
            "│ Zw3b91glQ ┆ Propiedad ┆ 2020-08-2 ┆ 2020-09-0 ┆ … ┆ Terreno - ┆ IMPORTANT ┆ Lote      ┆ Venta    │\n",
            "│ UO3HNrM5f ┆           ┆ 2         ┆ 4         ┆   ┆ Obera     ┆ E         ┆           ┆          │\n",
            "│ PYlQ==    ┆           ┆           ┆           ┆   ┆           ┆ PROPIEDAD ┆           ┆          │\n",
            "│           ┆           ┆           ┆           ┆   ┆           ┆ EN VENTA  ┆           ┆          │\n",
            "│           ┆           ┆           ┆           ┆   ┆           ┆ …         ┆           ┆          │\n",
            "│ bsU81gm9J ┆ Propiedad ┆ 2020-08-2 ┆ 2020-09-0 ┆ … ┆ Departame ┆ PORTAL DE ┆ Departame ┆ Venta    │\n",
            "│ EgtZCbTYg ┆           ┆ 2         ┆ 4         ┆   ┆ nto -     ┆ LOS MARIN ┆ nto       ┆          │\n",
            "│ vykg==    ┆           ┆           ┆           ┆   ┆ Rosario   ┆ OS<br>Es  ┆           ┆          │\n",
            "│           ┆           ┆           ┆           ┆   ┆           ┆ un…       ┆           ┆          │\n",
            "│ …         ┆ …         ┆ …         ┆ …         ┆ … ┆ …         ┆ …         ┆ …         ┆ …        │\n",
            "│ jMYhwydKq ┆ Propiedad ┆ 2020-12-0 ┆ 9999-12-3 ┆ … ┆ Se vende  ┆ Esta      ┆ Casa      ┆ Venta    │\n",
            "│ Uje8HCx7R ┆           ┆ 4         ┆ 1         ┆   ┆ imponente ┆ excelente ┆           ┆          │\n",
            "│ zwJQ==    ┆           ┆           ┆           ┆   ┆ casa a    ┆ propiedad ┆           ┆          │\n",
            "│           ┆           ┆           ┆           ┆   ┆ minu…     ┆ se en…    ┆           ┆          │\n",
            "│ FsP7ornzq ┆ Propiedad ┆ 2020-12-0 ┆ 9999-12-3 ┆ … ┆ Edificio  ┆ GRAN      ┆ Local     ┆ Alquiler │\n",
            "│ nK1CvUL8q ┆           ┆ 4         ┆ 1         ┆   ┆ Comercial ┆ EDIFICIO  ┆ comercial ┆          │\n",
            "│ uQ9Q==    ┆           ┆           ┆           ┆   ┆ - Retiro  ┆ PETIT     ┆           ┆          │\n",
            "│           ┆           ┆           ┆           ┆   ┆           ┆ HOTEL     ┆           ┆          │\n",
            "│           ┆           ┆           ┆           ┆   ┆           ┆ ESTI…     ┆           ┆          │\n",
            "│ fJLVUIziP ┆ Propiedad ┆ 2020-12-0 ┆ 9999-12-3 ┆ … ┆ Edificio  ┆ Edificio  ┆ Local     ┆ Venta    │\n",
            "│ l31ACoaE/ ┆           ┆ 4         ┆ 1         ┆   ┆ Comercial ┆ Comercial ┆ comercial ┆          │\n",
            "│ fj1g==    ┆           ┆           ┆           ┆   ┆ en        ┆ CON       ┆           ┆          │\n",
            "│           ┆           ┆           ┆           ┆   ┆ excelen…  ┆ ENTRADA…  ┆           ┆          │\n",
            "│ 7mW3bUSJF ┆ Propiedad ┆ 2020-12-0 ┆ 9999-12-3 ┆ … ┆ Edificio  ┆ Local     ┆ Local     ┆ Venta    │\n",
            "│ A0RBOj2xt ┆           ┆ 4         ┆ 1         ┆   ┆ Comercial ┆ 450m² con ┆ comercial ┆          │\n",
            "│ Bi+w==    ┆           ┆           ┆           ┆   ┆ - Capital ┆ Cloaca en ┆           ┆          │\n",
            "│           ┆           ┆           ┆           ┆   ┆           ┆ 25 d…     ┆           ┆          │\n",
            "│ rEynGyGrr ┆ Propiedad ┆ 2020-12-0 ┆ 2020-12-2 ┆ … ┆ INCREÍBLE ┆ ESPECTACU ┆ Casa      ┆ Alquiler │\n",
            "│ sxNeG0ib5 ┆           ┆ 4         ┆ 1         ┆   ┆ ECASA A   ┆ LAR CASA  ┆           ┆ temporal │\n",
            "│ vUBA==    ┆           ┆           ┆           ┆   ┆ LA LAGUNA ┆ A LA      ┆           ┆          │\n",
            "│           ┆           ┆           ┆           ┆   ┆ DE…       ┆ LAGUNA …  ┆           ┆          │\n",
            "└───────────┴───────────┴───────────┴───────────┴───┴───────────┴───────────┴───────────┴──────────┘\n"
          ]
        }
      ]
    },
    {
      "cell_type": "markdown",
      "source": [
        "### <font color=\"DeepPink\">**Análisis descriptivo de variables numéricas...**"
      ],
      "metadata": {
        "id": "AKvQpRPZtIOu"
      },
      "id": "AKvQpRPZtIOu"
    },
    {
      "cell_type": "code",
      "source": [
        "# analisis descriptivo del archivo\n",
        "prop.describe().round(2).T"
      ],
      "metadata": {
        "id": "DUa-RYCz1Htb"
      },
      "id": "DUa-RYCz1Htb",
      "execution_count": null,
      "outputs": []
    },
    {
      "cell_type": "markdown",
      "source": [
        "### <font color=\"DeepPink\">**Análisis descriptivo de variables numéricas en Polars.**"
      ],
      "metadata": {
        "id": "c3MXI_E73avw"
      },
      "id": "c3MXI_E73avw"
    },
    {
      "cell_type": "code",
      "source": [
        "print(prop_polars.describe())"
      ],
      "metadata": {
        "id": "x-Y5k3DZ4Y9Q"
      },
      "id": "x-Y5k3DZ4Y9Q",
      "execution_count": null,
      "outputs": []
    },
    {
      "cell_type": "code",
      "source": [
        "print(prop_polars.describe().transpose())"
      ],
      "metadata": {
        "id": "K7qU_AsH4jRh"
      },
      "id": "K7qU_AsH4jRh",
      "execution_count": null,
      "outputs": []
    },
    {
      "cell_type": "markdown",
      "source": [
        "### <font color=\"DeepPink\">**Análisis descriptivo de variables categóricas...**"
      ],
      "metadata": {
        "id": "_3Y9Etp61Q5N"
      },
      "id": "_3Y9Etp61Q5N"
    },
    {
      "cell_type": "code",
      "source": [
        "# analisis descriptivo del archivo con variables no numéricas\n",
        "prop.describe(include=[object]).T"
      ],
      "metadata": {
        "id": "AcEaEYMY1RUr"
      },
      "id": "AcEaEYMY1RUr",
      "execution_count": null,
      "outputs": []
    },
    {
      "cell_type": "code",
      "source": [
        "categorical_cols = prop_polars.select(\n",
        "    [\n",
        "        pl.col(name)\n",
        "        for name, dtype in prop_polars.schema.items()\n",
        "        if dtype == pl.Utf8\n",
        "    ]\n",
        ").columns\n",
        "# Calcular estadísticas para cada columna categórica\n",
        "for col in categorical_cols:\n",
        "    print(f\"Columna: {col}\")\n",
        "    print(f\"Valores únicos: {prop_polars[col].n_unique()}\")\n",
        "    ###print(f\"Valor más frecuente: {prop_polars[col].mode()[col][0]}\")\n",
        "    print(f\"Conteo de cada valor:\\n{prop_polars[col].value_counts()}\")\n",
        "    print(\"-\" * 20)"
      ],
      "metadata": {
        "id": "oskQvWDc7Zk_"
      },
      "id": "oskQvWDc7Zk_",
      "execution_count": null,
      "outputs": []
    },
    {
      "cell_type": "markdown",
      "source": [
        "### <font color=\"DeepPink\">**Verificando valores nulos...**"
      ],
      "metadata": {
        "id": "WD0CC_fe16mq"
      },
      "id": "WD0CC_fe16mq"
    },
    {
      "cell_type": "code",
      "source": [
        "# Verificar valores nulos del dataframe prop\n",
        "nulos =  prop.isna().sum().sort_values(ascending = False)\n",
        "nulos.name = \"Cantidad de nulos\"\n",
        "nulos"
      ],
      "metadata": {
        "id": "YJqevOJq87cQ"
      },
      "id": "YJqevOJq87cQ",
      "execution_count": null,
      "outputs": []
    },
    {
      "cell_type": "markdown",
      "source": [
        "### <font color=\"DeepPink\">**Verificando valores nulos. an Polars..**"
      ],
      "metadata": {
        "id": "UGyrlRHZ8Ere"
      },
      "id": "UGyrlRHZ8Ere"
    },
    {
      "cell_type": "code",
      "source": [
        "prop_polars.null_count()  ### verificando valores nulos en dataset de Polars"
      ],
      "metadata": {
        "id": "lS4q5CO19SwQ"
      },
      "id": "lS4q5CO19SwQ",
      "execution_count": null,
      "outputs": []
    },
    {
      "cell_type": "markdown",
      "source": [
        "### <font color=\"DeepPink\">**Verificando valores duplicados...**"
      ],
      "metadata": {
        "id": "8TTCzbtq2A45"
      },
      "id": "8TTCzbtq2A45"
    },
    {
      "cell_type": "code",
      "source": [
        "# Verificar si hay duplicados\n",
        "prop.duplicated().sum()"
      ],
      "metadata": {
        "id": "tDliPtfl2EhG"
      },
      "id": "tDliPtfl2EhG",
      "execution_count": null,
      "outputs": []
    },
    {
      "cell_type": "markdown",
      "source": [
        "### <font color=\"DeepPink\">**Verificando valores duplicados.. en Polars.**"
      ],
      "metadata": {
        "id": "tpMlcb5v9l7r"
      },
      "id": "tpMlcb5v9l7r"
    },
    {
      "cell_type": "code",
      "source": [
        "prop_polars.is_duplicated().sum() ## verificando valores duplicados en Polars"
      ],
      "metadata": {
        "id": "fD_uJw-o9pTC"
      },
      "id": "fD_uJw-o9pTC",
      "execution_count": null,
      "outputs": []
    },
    {
      "cell_type": "markdown",
      "source": [
        "#<font color=\"DeepPink\">**Limpieza de los Datos**"
      ],
      "metadata": {
        "id": "CHx_L_R11kcs"
      },
      "id": "CHx_L_R11kcs"
    },
    {
      "cell_type": "markdown",
      "source": [
        "#<font color=\"DeepPink\">**Porcentaje de nulos**"
      ],
      "metadata": {
        "id": "QZojGvtD-sSV"
      },
      "id": "QZojGvtD-sSV"
    },
    {
      "cell_type": "markdown",
      "id": "42978649",
      "metadata": {
        "id": "42978649"
      },
      "source": []
    },
    {
      "cell_type": "code",
      "source": [
        "# Porcentaje de los nulos\n",
        "porcentaje_nulo = round((prop.isna().sum()/prop.shape[0])*100, 2).sort_values(ascending = False)\n",
        "porcentaje_nulo.name = \"Porcentaje de nulos\"\n",
        "porcentaje_nulo"
      ],
      "metadata": {
        "id": "swWvj34C_HQ8"
      },
      "id": "swWvj34C_HQ8",
      "execution_count": null,
      "outputs": []
    },
    {
      "cell_type": "markdown",
      "source": [],
      "metadata": {
        "id": "ofiQOk2g-mob"
      },
      "id": "ofiQOk2g-mob"
    },
    {
      "cell_type": "markdown",
      "source": [
        "#<font color=\"DeepPink\">**Porcentaje de nulos en Polars**"
      ],
      "metadata": {
        "id": "LfSg67ZY-01k"
      },
      "id": "LfSg67ZY-01k"
    },
    {
      "cell_type": "code",
      "source": [
        "porcentaje_nulo_polars = (prop_polars.null_count()/prop_polars.shape[0] )*100 ### verificando valores nulos en dataset de Polars\n",
        "porcentaje_nulo_polars"
      ],
      "metadata": {
        "id": "j-O1YDRR-K-I"
      },
      "id": "j-O1YDRR-K-I",
      "execution_count": null,
      "outputs": []
    },
    {
      "cell_type": "markdown",
      "source": [
        "### <font color=\"DeepPink\">**Tratamiento de nulos...**"
      ],
      "metadata": {
        "id": "BBq2RB8hvmK1"
      },
      "id": "BBq2RB8hvmK1"
    },
    {
      "cell_type": "markdown",
      "id": "c0f5c3ed",
      "metadata": {
        "id": "c0f5c3ed"
      },
      "source": [
        "✅ **Eliminar columnas que tengan mas del $30$% de nulos**"
      ]
    },
    {
      "cell_type": "code",
      "source": [
        "# Elimino columnas que tienen mas del 30% de nulos (análisis por columna)\n",
        "prop.dropna(axis=1, thresh = (1000000*0.7), inplace = True)"
      ],
      "metadata": {
        "id": "9a7_ha_8ARAV"
      },
      "id": "9a7_ha_8ARAV",
      "execution_count": null,
      "outputs": []
    },
    {
      "cell_type": "code",
      "source": [
        "# Porcentaje de los nulos\n",
        "porcentaje_nulo = round((prop.isna().sum()/prop.shape[0])*100, 2).sort_values(ascending = False)\n",
        "porcentaje_nulo.name = \"Porcentaje de nulos\"\n",
        "porcentaje_nulo"
      ],
      "metadata": {
        "id": "hRmYswHxQmP5"
      },
      "id": "hRmYswHxQmP5",
      "execution_count": null,
      "outputs": []
    },
    {
      "cell_type": "code",
      "source": [
        "prop.info()"
      ],
      "metadata": {
        "id": "ie_f3kvlCIhk"
      },
      "id": "ie_f3kvlCIhk",
      "execution_count": null,
      "outputs": []
    },
    {
      "cell_type": "code",
      "source": [
        "for i in prop_polars.columns:\n",
        "    new_var = prop_polars.filter(pl.col(i).is_null()>0.7)\n",
        "    new_var"
      ],
      "metadata": {
        "id": "sq56u10QbBAe"
      },
      "id": "sq56u10QbBAe",
      "execution_count": null,
      "outputs": []
    },
    {
      "cell_type": "code",
      "source": [
        "prop_polars"
      ],
      "metadata": {
        "id": "s811d18bbt8K"
      },
      "id": "s811d18bbt8K",
      "execution_count": null,
      "outputs": []
    },
    {
      "cell_type": "code",
      "source": [
        "prop_polars.select(\n",
        "    [(pl.col(name).is_null().sum() / prop_polars.shape[0]) > 0.7 for name in prop_polars.columns]\n",
        ")"
      ],
      "metadata": {
        "id": "8wqecEdOXhS8"
      },
      "id": "8wqecEdOXhS8",
      "execution_count": null,
      "outputs": []
    },
    {
      "cell_type": "code",
      "source": [
        "query = prop_polars.select(\n",
        "    [pl.col(name).is_null() for name in prop_polars.columns]\n",
        ")"
      ],
      "metadata": {
        "id": "BqwJ_kv-XrS5"
      },
      "id": "BqwJ_kv-XrS5",
      "execution_count": null,
      "outputs": []
    },
    {
      "cell_type": "code",
      "source": [
        "query"
      ],
      "metadata": {
        "id": "_2XAiB97Xz9u"
      },
      "id": "_2XAiB97Xz9u",
      "execution_count": null,
      "outputs": []
    },
    {
      "cell_type": "code",
      "source": [
        "query = prop_polars.filter(\n",
        "    [pl.col(name).is_null() for name in prop_polars.columns]\n",
        ")"
      ],
      "metadata": {
        "id": "yOa3MvS5ZXbW"
      },
      "id": "yOa3MvS5ZXbW",
      "execution_count": null,
      "outputs": []
    },
    {
      "cell_type": "code",
      "source": [
        "query"
      ],
      "metadata": {
        "id": "VJQH2AziZapg"
      },
      "id": "VJQH2AziZapg",
      "execution_count": null,
      "outputs": []
    },
    {
      "cell_type": "code",
      "source": [
        "query2 = prop_polars.filter(\n",
        "    [\n",
        "        (pl.col(name).is_null() > 0.70)\n",
        "        for name in prop_polars.columns\n",
        "    ]\n",
        ")\n",
        "\n",
        "\n"
      ],
      "metadata": {
        "id": "Fy-acMjQYDDt"
      },
      "id": "Fy-acMjQYDDt",
      "execution_count": null,
      "outputs": []
    },
    {
      "cell_type": "code",
      "source": [
        "query2"
      ],
      "metadata": {
        "id": "Cd702EiMY9kc"
      },
      "id": "Cd702EiMY9kc",
      "execution_count": null,
      "outputs": []
    },
    {
      "cell_type": "markdown",
      "id": "080fb4a6",
      "metadata": {
        "id": "080fb4a6"
      },
      "source": [
        "✅ **Quedarse con solo los registros que tienen un $90$%**"
      ]
    },
    {
      "cell_type": "code",
      "source": [
        "prop.dropna(axis = 0, inplace = True, thresh = int(18 * 0.9))"
      ],
      "metadata": {
        "id": "B8YEa7eCjHr-"
      },
      "id": "B8YEa7eCjHr-",
      "execution_count": null,
      "outputs": []
    },
    {
      "cell_type": "code",
      "source": [
        "prop.shape"
      ],
      "metadata": {
        "id": "-1ex4iUKOI33"
      },
      "id": "-1ex4iUKOI33",
      "execution_count": null,
      "outputs": []
    },
    {
      "cell_type": "code",
      "source": [
        "prop.info()"
      ],
      "metadata": {
        "id": "5NKt6YfgDdg_"
      },
      "id": "5NKt6YfgDdg_",
      "execution_count": null,
      "outputs": []
    },
    {
      "cell_type": "markdown",
      "source": [
        "### <font color=\"DeepPink\">**Filtrando a Mendoza...**"
      ],
      "metadata": {
        "id": "ur7cwO5h0_YJ"
      },
      "id": "ur7cwO5h0_YJ"
    },
    {
      "cell_type": "markdown",
      "id": "586f9ec0",
      "metadata": {
        "id": "586f9ec0"
      },
      "source": [
        "✅ **El analisis se realizará sobre la Provincia de Mendoza**"
      ]
    },
    {
      "cell_type": "code",
      "source": [
        "# Valores unicos de la serie l2 (localidad 2)\n",
        "prop.l2.unique()"
      ],
      "metadata": {
        "id": "TsTKVIaZn_8I"
      },
      "id": "TsTKVIaZn_8I",
      "execution_count": null,
      "outputs": []
    },
    {
      "cell_type": "code",
      "source": [
        "# filtrado por localidad = Mendoza\n",
        "prop = prop.query('l2 == \"Mendoza\"')"
      ],
      "metadata": {
        "id": "XZq7oWfCD7Xp"
      },
      "id": "XZq7oWfCD7Xp",
      "execution_count": null,
      "outputs": []
    },
    {
      "cell_type": "code",
      "source": [
        "# Otra forma de filtrar\n",
        "# prop = prop[(prop.l2 == \"Mendoza\")]"
      ],
      "metadata": {
        "id": "4PElUCwinjw5"
      },
      "id": "4PElUCwinjw5",
      "execution_count": null,
      "outputs": []
    },
    {
      "cell_type": "code",
      "source": [
        "# dimensionalidad del dataframe\n",
        "prop.shape"
      ],
      "metadata": {
        "id": "NdbMat21nrMH"
      },
      "id": "NdbMat21nrMH",
      "execution_count": null,
      "outputs": []
    },
    {
      "cell_type": "code",
      "source": [
        "prop"
      ],
      "metadata": {
        "id": "ZRSaX_AbDWW9"
      },
      "id": "ZRSaX_AbDWW9",
      "execution_count": null,
      "outputs": []
    },
    {
      "cell_type": "markdown",
      "source": [
        "✅ **El analisis se realizará sobre la Provincia de Mendoza en Polars**"
      ],
      "metadata": {
        "id": "MJtajPVCCIzT"
      },
      "id": "MJtajPVCCIzT"
    },
    {
      "cell_type": "code",
      "source": [
        "prop_polars.columns"
      ],
      "metadata": {
        "id": "ObVL5AUgCU9Y"
      },
      "id": "ObVL5AUgCU9Y",
      "execution_count": null,
      "outputs": []
    },
    {
      "cell_type": "code",
      "source": [
        "prop_polars['l2'].unique()"
      ],
      "metadata": {
        "id": "mBXMa2k0CMQh"
      },
      "id": "mBXMa2k0CMQh",
      "execution_count": null,
      "outputs": []
    },
    {
      "cell_type": "code",
      "source": [
        "# filtrado por localidad = Mendoza\n",
        "prop_polars_Mendoza = prop_polars.filter(prop_polars[\"l2\"] == \"Mendoza\")"
      ],
      "metadata": {
        "id": "hnRzB7dXC3jg"
      },
      "id": "hnRzB7dXC3jg",
      "execution_count": null,
      "outputs": []
    },
    {
      "cell_type": "code",
      "source": [
        "prop_polars_Mendoza"
      ],
      "metadata": {
        "id": "EzXxr_JTC8vP"
      },
      "id": "EzXxr_JTC8vP",
      "execution_count": null,
      "outputs": []
    },
    {
      "cell_type": "markdown",
      "id": "586fa634",
      "metadata": {
        "id": "586fa634"
      },
      "source": [
        "✅ **Chequear que en columna l1 que representa al pais, deberia existir solo un valor: Argentina. Si hay otros valores eliminarlos...***"
      ]
    },
    {
      "cell_type": "code",
      "execution_count": null,
      "id": "30f98095",
      "metadata": {
        "id": "30f98095"
      },
      "outputs": [],
      "source": [
        "# Chequeando que solo exista el valor Argentina\n",
        "prop.l1.unique()"
      ]
    },
    {
      "cell_type": "code",
      "source": [
        "prop.l1.value_counts()"
      ],
      "metadata": {
        "id": "CFARlKLioaqt"
      },
      "id": "CFARlKLioaqt",
      "execution_count": null,
      "outputs": []
    },
    {
      "cell_type": "markdown",
      "source": [
        "✅ **Chequear que en columna l1 que representa al pais, deberia existir solo un valor: Argentina. Si hay otros valores eliminarlos..en Polars.***"
      ],
      "metadata": {
        "id": "osmg-S3_Db9q"
      },
      "id": "osmg-S3_Db9q"
    },
    {
      "cell_type": "code",
      "source": [
        "prop_polars_Mendoza.filter(prop_polars_Mendoza[\"l1\"] == \"Argentina\")"
      ],
      "metadata": {
        "id": "AdfOezDADgA8"
      },
      "id": "AdfOezDADgA8",
      "execution_count": null,
      "outputs": []
    },
    {
      "cell_type": "code",
      "source": [
        "(prop_polars_Mendoza.null_count()/prop_polars_Mendoza.shape[0])>0.9"
      ],
      "metadata": {
        "id": "ecDe1yl6Grrv"
      },
      "id": "ecDe1yl6Grrv",
      "execution_count": null,
      "outputs": []
    },
    {
      "cell_type": "markdown",
      "id": "7c5da49a",
      "metadata": {
        "id": "7c5da49a"
      },
      "source": [
        "✅ **Eliminar las columnas:**\n",
        "\n",
        "- **id** porque ya sabemos que todos los registros son diferentes y no vamos a usar esta columna para identificarlos.\n",
        "- **l1** porque solo tiene un valor: Argentina. No aporta informacion a los datos.\n",
        "- **description** y **title** porque no contamos con herramientas de NLP para volverlas informacion para visualizar o modelizar.\n"
      ]
    },
    {
      "cell_type": "code",
      "source": [
        "prop.shape"
      ],
      "metadata": {
        "id": "G1Srjdt111ip"
      },
      "id": "G1Srjdt111ip",
      "execution_count": null,
      "outputs": []
    },
    {
      "cell_type": "code",
      "source": [
        "prop.columns"
      ],
      "metadata": {
        "id": "x4CiHf3LLeLD"
      },
      "id": "x4CiHf3LLeLD",
      "execution_count": null,
      "outputs": []
    },
    {
      "cell_type": "code",
      "source": [
        "# Eliminando las columnas\n",
        "prop = prop.drop(columns=[\"id\",\"l1\",\"description\",\"title\"])"
      ],
      "metadata": {
        "id": "9JBQyFq0pakB"
      },
      "id": "9JBQyFq0pakB",
      "execution_count": null,
      "outputs": []
    },
    {
      "cell_type": "code",
      "source": [
        "prop.columns"
      ],
      "metadata": {
        "id": "uInOJiMCqq2y"
      },
      "id": "uInOJiMCqq2y",
      "execution_count": null,
      "outputs": []
    },
    {
      "cell_type": "code",
      "source": [
        "prop.shape"
      ],
      "metadata": {
        "id": "eJ-pLWaXq4Kv"
      },
      "id": "eJ-pLWaXq4Kv",
      "execution_count": null,
      "outputs": []
    },
    {
      "cell_type": "markdown",
      "id": "e415e0d3",
      "metadata": {
        "id": "e415e0d3"
      },
      "source": [
        "✅ **Sospechamos que las columnas ```start_date``` y ```created_on``` en este caso tienen los mismos valores, chequearlo, si son iguales eliminar la columna ```created_on```...**"
      ]
    },
    {
      "cell_type": "code",
      "source": [
        "prop.columns"
      ],
      "metadata": {
        "id": "ZXPjuuIGsdOI"
      },
      "id": "ZXPjuuIGsdOI",
      "execution_count": null,
      "outputs": []
    },
    {
      "cell_type": "code",
      "source": [
        "prop.shape"
      ],
      "metadata": {
        "id": "6gbVOW9nsjS-"
      },
      "id": "6gbVOW9nsjS-",
      "execution_count": null,
      "outputs": []
    },
    {
      "cell_type": "code",
      "execution_count": null,
      "id": "69cf434a",
      "metadata": {
        "id": "69cf434a"
      },
      "outputs": [],
      "source": [
        "(prop.loc[:,'start_date'] == prop.loc[:,'created_on']).sum()"
      ]
    },
    {
      "cell_type": "code",
      "source": [
        "prop = prop.drop(columns=[\"created_on\"]) # por mas que sea un solo elemento, colocarlo como lista"
      ],
      "metadata": {
        "id": "WvM_mUe5stqh"
      },
      "id": "WvM_mUe5stqh",
      "execution_count": null,
      "outputs": []
    },
    {
      "cell_type": "code",
      "source": [
        "prop.shape"
      ],
      "metadata": {
        "id": "IzKdpjuFs3S4"
      },
      "id": "IzKdpjuFs3S4",
      "execution_count": null,
      "outputs": []
    },
    {
      "cell_type": "markdown",
      "id": "7e53fc57",
      "metadata": {
        "id": "7e53fc57"
      },
      "source": [
        "✅ **Vamos a analizar la columna ```ad_type```, que tipos de datos unicos tiene, si solo tiene un tipo de dato categorico eliminarla porque no aporta información...**"
      ]
    },
    {
      "cell_type": "code",
      "source": [
        "prop.ad_type.unique()"
      ],
      "metadata": {
        "id": "XWXykTCG2lAN"
      },
      "id": "XWXykTCG2lAN",
      "execution_count": null,
      "outputs": []
    },
    {
      "cell_type": "code",
      "execution_count": null,
      "id": "b30193f1",
      "metadata": {
        "id": "b30193f1"
      },
      "outputs": [],
      "source": [
        "prop.ad_type.value_counts()"
      ]
    },
    {
      "cell_type": "code",
      "source": [
        "prop = prop.drop(columns=[\"ad_type\"])"
      ],
      "metadata": {
        "id": "SCTVjfgVtLan"
      },
      "id": "SCTVjfgVtLan",
      "execution_count": null,
      "outputs": []
    },
    {
      "cell_type": "code",
      "source": [
        "prop.shape"
      ],
      "metadata": {
        "id": "Qe13fPpjtk-o"
      },
      "id": "Qe13fPpjtk-o",
      "execution_count": null,
      "outputs": []
    },
    {
      "cell_type": "code",
      "source": [
        "prop.info()"
      ],
      "metadata": {
        "id": "yo_39eUOM6E3"
      },
      "id": "yo_39eUOM6E3",
      "execution_count": null,
      "outputs": []
    },
    {
      "cell_type": "markdown",
      "source": [
        "## <font color=\"DeepPink\"> **Latitud y longitud**"
      ],
      "metadata": {
        "id": "uzxsAsS8F6zJ"
      },
      "id": "uzxsAsS8F6zJ"
    },
    {
      "cell_type": "markdown",
      "id": "3d20ff22",
      "metadata": {
        "id": "3d20ff22"
      },
      "source": [
        "✅ **Vamos a analizar la calidad de los datos en las columnas de lat y lon. Buscaremos posibles outliers o datos incorrectos, para eso calcula para Mendozas columnas: el promedio, el maximo y el minimo...**"
      ]
    },
    {
      "cell_type": "code",
      "execution_count": null,
      "id": "116fa060",
      "metadata": {
        "id": "116fa060"
      },
      "outputs": [],
      "source": [
        "round(prop.lat.describe(),2)"
      ]
    },
    {
      "cell_type": "code",
      "source": [
        "round(prop.lon.describe(),2)"
      ],
      "metadata": {
        "id": "0MZ7IHCWZR0R"
      },
      "id": "0MZ7IHCWZR0R",
      "execution_count": null,
      "outputs": []
    },
    {
      "cell_type": "code",
      "source": [
        "px.box(prop, y=\"lat\", template=\"gridon\")"
      ],
      "metadata": {
        "id": "cfYzxZZO3FbO"
      },
      "id": "cfYzxZZO3FbO",
      "execution_count": null,
      "outputs": []
    },
    {
      "cell_type": "code",
      "source": [
        "px.box(prop, y=\"lon\", template=\"gridon\")"
      ],
      "metadata": {
        "id": "vSC-wRV-3rss"
      },
      "id": "vSC-wRV-3rss",
      "execution_count": null,
      "outputs": []
    },
    {
      "cell_type": "markdown",
      "id": "87f32a7b",
      "metadata": {
        "id": "87f32a7b"
      },
      "source": [
        "✅ **Evidentemente hay ciertos puntos que son incorrectos, sus coordenadas caen fuera de la Provincia de Mendoza. Para eso buscamos cuales son los valores frontera para la latitud y longitud**\n",
        "\n",
        "✅ **Estimamos un segmentos de latitudes de [-34, -32] y longitudes de [-69 a -68]**\n",
        "\n",
        "✅ **Eliminar todo lo que este fuera de esos rangos (no eliminar valores NaN)**"
      ]
    },
    {
      "cell_type": "code",
      "execution_count": null,
      "id": "16ed77a5",
      "metadata": {
        "id": "16ed77a5"
      },
      "outputs": [],
      "source": [
        "prop = prop[prop.lat.between(-34, -32) & prop.lon.between(-69, -68)]"
      ]
    },
    {
      "cell_type": "code",
      "source": [
        "prop.shape"
      ],
      "metadata": {
        "id": "Z4p6xrN-sptf"
      },
      "id": "Z4p6xrN-sptf",
      "execution_count": null,
      "outputs": []
    },
    {
      "cell_type": "code",
      "source": [
        "round(prop.lat.describe(),2)"
      ],
      "metadata": {
        "id": "C_Y3wEftbybl"
      },
      "id": "C_Y3wEftbybl",
      "execution_count": null,
      "outputs": []
    },
    {
      "cell_type": "code",
      "source": [
        "round(prop.lon.describe(),2)"
      ],
      "metadata": {
        "id": "FR80JjzAcD7G"
      },
      "id": "FR80JjzAcD7G",
      "execution_count": null,
      "outputs": []
    },
    {
      "cell_type": "code",
      "source": [
        "px.box(prop, y=\"lat\", template=\"gridon\")"
      ],
      "metadata": {
        "id": "CmryQ76v4Qf-"
      },
      "id": "CmryQ76v4Qf-",
      "execution_count": null,
      "outputs": []
    },
    {
      "cell_type": "code",
      "source": [
        "px.box(prop, y=\"lon\", template=\"gridon\")"
      ],
      "metadata": {
        "id": "D8VVwRbd4WqB"
      },
      "id": "D8VVwRbd4WqB",
      "execution_count": null,
      "outputs": []
    },
    {
      "cell_type": "markdown",
      "source": [
        "## <font color=\"DeepPink\">**Otras tareas puntuales de limpieza...**"
      ],
      "metadata": {
        "id": "D2GncUg-5TwW"
      },
      "id": "D2GncUg-5TwW"
    },
    {
      "cell_type": "markdown",
      "id": "9eba570e",
      "metadata": {
        "id": "9eba570e"
      },
      "source": [
        "✅ **Vamos a eliminar los NaN de la columna l3**"
      ]
    },
    {
      "cell_type": "code",
      "execution_count": null,
      "id": "ee1e510a",
      "metadata": {
        "id": "ee1e510a"
      },
      "outputs": [],
      "source": [
        "prop.isna().sum().sort_values(ascending = False)"
      ]
    },
    {
      "cell_type": "code",
      "source": [
        "round((prop.isna().sum()*100/prop.shape[0]),2).sort_values(ascending = False)"
      ],
      "metadata": {
        "id": "m5-XDO8tdS75"
      },
      "id": "m5-XDO8tdS75",
      "execution_count": null,
      "outputs": []
    },
    {
      "cell_type": "code",
      "source": [
        "prop.shape"
      ],
      "metadata": {
        "id": "hc1glC0NQwEB"
      },
      "id": "hc1glC0NQwEB",
      "execution_count": null,
      "outputs": []
    },
    {
      "cell_type": "code",
      "source": [
        "# Eliminar una columna\n",
        "prop.dropna(subset=[\"l3\"], inplace = True)"
      ],
      "metadata": {
        "id": "nHMevBamc0Zt"
      },
      "id": "nHMevBamc0Zt",
      "execution_count": null,
      "outputs": []
    },
    {
      "cell_type": "code",
      "source": [
        "prop.shape"
      ],
      "metadata": {
        "id": "rVl0BhhCtfVF"
      },
      "id": "rVl0BhhCtfVF",
      "execution_count": null,
      "outputs": []
    },
    {
      "cell_type": "code",
      "source": [
        "6301-777"
      ],
      "metadata": {
        "id": "SxbTP431Q4tG"
      },
      "id": "SxbTP431Q4tG",
      "execution_count": null,
      "outputs": []
    },
    {
      "cell_type": "markdown",
      "id": "2f583013",
      "metadata": {
        "id": "2f583013"
      },
      "source": [
        "✅ **Volvemos a ver el porcentaje de nulos de cada columna...**"
      ]
    },
    {
      "cell_type": "code",
      "execution_count": null,
      "id": "0f2da68b",
      "metadata": {
        "id": "0f2da68b"
      },
      "outputs": [],
      "source": [
        "round((prop.isna().sum()*100/prop.shape[0]),2).sort_values(ascending = False)"
      ]
    },
    {
      "cell_type": "markdown",
      "id": "47fb5b49",
      "metadata": {
        "id": "47fb5b49"
      },
      "source": [
        "✅ **Veamos los valores unicos de la columna ```property_type```**"
      ]
    },
    {
      "cell_type": "code",
      "execution_count": null,
      "id": "044b4d81",
      "metadata": {
        "id": "044b4d81"
      },
      "outputs": [],
      "source": [
        "prop.property_type.unique()"
      ]
    },
    {
      "cell_type": "code",
      "source": [
        "prop.property_type.value_counts()"
      ],
      "metadata": {
        "id": "WAR7zrjT6TII"
      },
      "id": "WAR7zrjT6TII",
      "execution_count": null,
      "outputs": []
    },
    {
      "cell_type": "markdown",
      "id": "661f9634",
      "metadata": {
        "id": "661f9634"
      },
      "source": [
        "✅ **La columna se ve bien, hacemos lo mismo con ```operation_type```**"
      ]
    },
    {
      "cell_type": "code",
      "execution_count": null,
      "id": "2ab77001",
      "metadata": {
        "id": "2ab77001"
      },
      "outputs": [],
      "source": [
        "prop.operation_type.unique()"
      ]
    },
    {
      "cell_type": "code",
      "source": [
        "prop.operation_type.value_counts()"
      ],
      "metadata": {
        "id": "qqCNGTcC6jw8"
      },
      "id": "qqCNGTcC6jw8",
      "execution_count": null,
      "outputs": []
    },
    {
      "cell_type": "markdown",
      "id": "ad8b991b",
      "metadata": {
        "id": "ad8b991b"
      },
      "source": [
        "✅ **La columna se ve bien. Nos quedan price, currency, bathrooms y rooms.**\n",
        "\n",
        "✅ **Vamos a currency, veamos los valores unicos de esta columna...**"
      ]
    },
    {
      "cell_type": "code",
      "execution_count": null,
      "id": "76faf2c0",
      "metadata": {
        "id": "76faf2c0"
      },
      "outputs": [],
      "source": [
        "prop.currency.unique()"
      ]
    },
    {
      "cell_type": "code",
      "source": [
        "prop.currency.value_counts()"
      ],
      "metadata": {
        "id": "PQkqkaxbRXXN"
      },
      "id": "PQkqkaxbRXXN",
      "execution_count": null,
      "outputs": []
    },
    {
      "cell_type": "markdown",
      "id": "22b47d75",
      "metadata": {
        "id": "22b47d75"
      },
      "source": [
        "✅ **Tenemos el peso argentino y el dolar. Veamos los registros con NaN.**"
      ]
    },
    {
      "cell_type": "code",
      "execution_count": null,
      "id": "afe4d858",
      "metadata": {
        "id": "afe4d858"
      },
      "outputs": [],
      "source": [
        "prop[(prop.currency != \"ARS\") & (prop.currency != \"USD\")]"
      ]
    },
    {
      "cell_type": "markdown",
      "id": "1a699d94",
      "metadata": {
        "id": "1a699d94"
      },
      "source": [
        "✅ **Decidimos eliminar los registros con NaN de la columna currency.**"
      ]
    },
    {
      "cell_type": "code",
      "execution_count": null,
      "id": "c73a4908",
      "metadata": {
        "id": "c73a4908"
      },
      "outputs": [],
      "source": [
        "prop.dropna(subset=[\"currency\"], inplace = True)"
      ]
    },
    {
      "cell_type": "code",
      "source": [
        "prop.currency.unique()"
      ],
      "metadata": {
        "id": "CL0mm7dRHheQ"
      },
      "id": "CL0mm7dRHheQ",
      "execution_count": null,
      "outputs": []
    },
    {
      "cell_type": "code",
      "source": [
        "prop.shape"
      ],
      "metadata": {
        "id": "3d9oXgM3t3L7"
      },
      "id": "3d9oXgM3t3L7",
      "execution_count": null,
      "outputs": []
    },
    {
      "cell_type": "code",
      "source": [
        "prop.currency.value_counts()"
      ],
      "metadata": {
        "id": "1FMTfAVnR2VL"
      },
      "id": "1FMTfAVnR2VL",
      "execution_count": null,
      "outputs": []
    },
    {
      "cell_type": "markdown",
      "id": "bebf4f8e",
      "metadata": {
        "id": "bebf4f8e"
      },
      "source": [
        "✅ **Volvemos a analizar el porcentaje de NaN de cada columna.**"
      ]
    },
    {
      "cell_type": "code",
      "execution_count": null,
      "id": "0095cc40",
      "metadata": {
        "scrolled": true,
        "id": "0095cc40"
      },
      "outputs": [],
      "source": [
        "round((prop.isna().sum()*100/prop.shape[0]),2).sort_values(ascending = False)"
      ]
    },
    {
      "cell_type": "markdown",
      "id": "e301f86c",
      "metadata": {
        "id": "e301f86c"
      },
      "source": [
        "✅ **Ahora vamos a crear una nueva columna llamada precio con el valor de las propiedades en dolares. Utilizar estas cotizaciones**\n",
        "\n",
        "1 dolar = $ 1280 pesos argentinos"
      ]
    },
    {
      "cell_type": "code",
      "source": [
        "cotizacion = 1280"
      ],
      "metadata": {
        "id": "39zQjbv-So-q"
      },
      "id": "39zQjbv-So-q",
      "execution_count": null,
      "outputs": []
    },
    {
      "cell_type": "code",
      "execution_count": null,
      "id": "071c6155",
      "metadata": {
        "id": "071c6155"
      },
      "outputs": [],
      "source": [
        "prop.currency.unique()"
      ]
    },
    {
      "cell_type": "code",
      "source": [
        "condicion = [(prop.currency == \"ARS\"),\n",
        "             (prop.currency == \"USD\")]"
      ],
      "metadata": {
        "id": "MZYi_xz08KeK"
      },
      "id": "MZYi_xz08KeK",
      "execution_count": null,
      "outputs": []
    },
    {
      "cell_type": "code",
      "source": [
        "eleccion = [(prop.price / cotizacion), (prop.price)]"
      ],
      "metadata": {
        "id": "jMlzGHxI8f2N"
      },
      "id": "jMlzGHxI8f2N",
      "execution_count": null,
      "outputs": []
    },
    {
      "cell_type": "code",
      "source": [
        "prop[\"precio\"] = np.select(condicion, eleccion)"
      ],
      "metadata": {
        "id": "X8WRoWyp8wl8"
      },
      "id": "X8WRoWyp8wl8",
      "execution_count": null,
      "outputs": []
    },
    {
      "cell_type": "code",
      "source": [
        "prop.shape"
      ],
      "metadata": {
        "id": "JAYX82wGmMy1"
      },
      "id": "JAYX82wGmMy1",
      "execution_count": null,
      "outputs": []
    },
    {
      "cell_type": "markdown",
      "source": [
        "## <font color=\"DeepPink\"> **Alquiler y Alquiler temporal**"
      ],
      "metadata": {
        "id": "Qxf2-NcZH4yy"
      },
      "id": "Qxf2-NcZH4yy"
    },
    {
      "cell_type": "markdown",
      "id": "c7bfbe47",
      "metadata": {
        "id": "c7bfbe47"
      },
      "source": [
        "✅ **Vamos a centrar el analisis en Venta, eliminamos los registros de Alquiler y Alquiler temporal...**"
      ]
    },
    {
      "cell_type": "code",
      "execution_count": null,
      "id": "4d2f8a44",
      "metadata": {
        "id": "4d2f8a44"
      },
      "outputs": [],
      "source": [
        "prop.operation_type.unique()"
      ]
    },
    {
      "cell_type": "code",
      "source": [
        "prop = prop.query(\"operation_type == 'Venta'\")"
      ],
      "metadata": {
        "id": "5BTjRQz29Wtl"
      },
      "id": "5BTjRQz29Wtl",
      "execution_count": null,
      "outputs": []
    },
    {
      "cell_type": "code",
      "source": [
        "prop.operation_type.unique()"
      ],
      "metadata": {
        "id": "ANRijyson_oa"
      },
      "id": "ANRijyson_oa",
      "execution_count": null,
      "outputs": []
    },
    {
      "cell_type": "code",
      "source": [
        "prop.shape"
      ],
      "metadata": {
        "id": "XZp3rW7Fn1cp"
      },
      "id": "XZp3rW7Fn1cp",
      "execution_count": null,
      "outputs": []
    },
    {
      "cell_type": "markdown",
      "source": [
        "## <font color=\"DeepPink\"> **Precios de las propiedades**"
      ],
      "metadata": {
        "id": "K9id7zD7-RX9"
      },
      "id": "K9id7zD7-RX9"
    },
    {
      "cell_type": "markdown",
      "id": "21e1b4b9",
      "metadata": {
        "id": "21e1b4b9"
      },
      "source": [
        "✅ **Ordenar por la columna precio de forma tanto ascendente como descendente y ver los registros mas caros y mas baratos para buscar posibles datos incorrectos...**"
      ]
    },
    {
      "cell_type": "code",
      "execution_count": null,
      "id": "b01eb0f1",
      "metadata": {
        "id": "b01eb0f1"
      },
      "outputs": [],
      "source": [
        "prop.sort_values(by=[\"precio\"], ascending=False)"
      ]
    },
    {
      "cell_type": "code",
      "source": [
        "prop.sort_values(by=[\"precio\"], ascending=True)"
      ],
      "metadata": {
        "id": "6Gx6vNPt92x0"
      },
      "id": "6Gx6vNPt92x0",
      "execution_count": null,
      "outputs": []
    },
    {
      "cell_type": "markdown",
      "source": [
        "## <font color=\"DeepPink\"> **Registros entre 20000 dolares o 120000**"
      ],
      "metadata": {
        "id": "gXZ7Cwu5Ibp-"
      },
      "id": "gXZ7Cwu5Ibp-"
    },
    {
      "cell_type": "code",
      "source": [
        "precio_describe = round(prop.precio.describe(),2)"
      ],
      "metadata": {
        "id": "fyyjL6TqQDeS"
      },
      "id": "fyyjL6TqQDeS",
      "execution_count": null,
      "outputs": []
    },
    {
      "cell_type": "code",
      "source": [
        "precio_describe"
      ],
      "metadata": {
        "id": "uBiTI7atQJ9i"
      },
      "id": "uBiTI7atQJ9i",
      "execution_count": null,
      "outputs": []
    },
    {
      "cell_type": "code",
      "source": [
        "precio_describe[\"25%\"]"
      ],
      "metadata": {
        "id": "P25tesCkQOYm"
      },
      "id": "P25tesCkQOYm",
      "execution_count": null,
      "outputs": []
    },
    {
      "cell_type": "code",
      "source": [
        "precio_describe[\"75%\"]"
      ],
      "metadata": {
        "id": "Lt4JAJP9QTnW"
      },
      "id": "Lt4JAJP9QTnW",
      "execution_count": null,
      "outputs": []
    },
    {
      "cell_type": "markdown",
      "id": "3cdfdbe6",
      "metadata": {
        "id": "3cdfdbe6"
      },
      "source": [
        "✅ **Eliminar los registros cuyo precio sea inferior a 20000 dolares o mayor a 120000 dolares...**"
      ]
    },
    {
      "cell_type": "code",
      "source": [
        "prop.shape"
      ],
      "metadata": {
        "id": "eggcQYhl_AX-"
      },
      "id": "eggcQYhl_AX-",
      "execution_count": null,
      "outputs": []
    },
    {
      "cell_type": "code",
      "source": [
        "prop = prop[~((prop.precio <= precio_describe[\"25%\"]) | (prop.precio >= precio_describe[\"75%\"]))]"
      ],
      "metadata": {
        "id": "LN9dvvzenLmz"
      },
      "id": "LN9dvvzenLmz",
      "execution_count": null,
      "outputs": []
    },
    {
      "cell_type": "code",
      "source": [
        "prop.shape"
      ],
      "metadata": {
        "id": "UrELgrFv_IYi"
      },
      "id": "UrELgrFv_IYi",
      "execution_count": null,
      "outputs": []
    },
    {
      "cell_type": "code",
      "source": [
        "prop.precio.describe()"
      ],
      "metadata": {
        "id": "WxaNN_EeUzAY"
      },
      "id": "WxaNN_EeUzAY",
      "execution_count": null,
      "outputs": []
    },
    {
      "cell_type": "markdown",
      "source": [
        "## <font color=\"DeepPink\"> **Analizando otras variables...**"
      ],
      "metadata": {
        "id": "tA7OugOv_H-k"
      },
      "id": "tA7OugOv_H-k"
    },
    {
      "cell_type": "markdown",
      "id": "d7932dd9",
      "metadata": {
        "id": "d7932dd9"
      },
      "source": [
        "✅ **Vamos ahora a la columna bathrooms, eliminamos los registros cuyo valor en bathrooms sea mayor al de rooms + 1**"
      ]
    },
    {
      "cell_type": "code",
      "source": [
        "prop.rooms.unique()"
      ],
      "metadata": {
        "id": "uBToxUjLC6N3"
      },
      "id": "uBToxUjLC6N3",
      "execution_count": null,
      "outputs": []
    },
    {
      "cell_type": "code",
      "execution_count": null,
      "id": "e63b97c9",
      "metadata": {
        "id": "e63b97c9"
      },
      "outputs": [],
      "source": [
        "prop.bathrooms.unique()"
      ]
    },
    {
      "cell_type": "code",
      "source": [
        "prop = prop[~(prop.bathrooms > (prop.rooms + 1))]"
      ],
      "metadata": {
        "id": "cEfEJ0EuDETZ"
      },
      "id": "cEfEJ0EuDETZ",
      "execution_count": null,
      "outputs": []
    },
    {
      "cell_type": "code",
      "source": [
        "prop.shape"
      ],
      "metadata": {
        "id": "ydNsiFvJFHIg"
      },
      "id": "ydNsiFvJFHIg",
      "execution_count": null,
      "outputs": []
    },
    {
      "cell_type": "markdown",
      "id": "0eb97f4f",
      "metadata": {
        "id": "0eb97f4f"
      },
      "source": [
        "✅ **Ordenar el dataset por la cantidad de baños tanto ascendente como de forma descendente para ver posibles registros incorrectos...**"
      ]
    },
    {
      "cell_type": "code",
      "execution_count": null,
      "id": "99d48de8",
      "metadata": {
        "id": "99d48de8"
      },
      "outputs": [],
      "source": [
        "prop.sort_values(by=[\"bathrooms\"], ascending=False)"
      ]
    },
    {
      "cell_type": "code",
      "source": [
        "prop.sort_values(by=[\"bathrooms\"], ascending=True)"
      ],
      "metadata": {
        "id": "2wR7ZZtHPvIe"
      },
      "id": "2wR7ZZtHPvIe",
      "execution_count": null,
      "outputs": []
    },
    {
      "cell_type": "markdown",
      "id": "2b6f1cd1",
      "metadata": {
        "id": "2b6f1cd1"
      },
      "source": [
        "✅ **Eliminar los registros que tengan mas de $6$ baños o mas de $10$ habitaciones...**"
      ]
    },
    {
      "cell_type": "code",
      "source": [
        "prop.shape"
      ],
      "metadata": {
        "id": "qQSv5Bg7Qfs8"
      },
      "id": "qQSv5Bg7Qfs8",
      "execution_count": null,
      "outputs": []
    },
    {
      "cell_type": "code",
      "execution_count": null,
      "id": "b78acd68",
      "metadata": {
        "id": "b78acd68"
      },
      "outputs": [],
      "source": [
        "prop = prop.loc[~((prop.bathrooms > 6) | (prop.rooms > 10)),:]"
      ]
    },
    {
      "cell_type": "markdown",
      "id": "e9d2167f",
      "metadata": {
        "id": "e9d2167f"
      },
      "source": [
        "✅ **Eliminar la columna ```price``` y ```currency```, ya que vamos a utilizar la columna precio...**"
      ]
    },
    {
      "cell_type": "code",
      "execution_count": null,
      "id": "07f1e1f0",
      "metadata": {
        "id": "07f1e1f0"
      },
      "outputs": [],
      "source": [
        "prop = prop.drop(columns=[\"price\", \"currency\"])"
      ]
    },
    {
      "cell_type": "code",
      "source": [
        "prop.shape"
      ],
      "metadata": {
        "id": "MIR4H6ZcQsXc"
      },
      "id": "MIR4H6ZcQsXc",
      "execution_count": null,
      "outputs": []
    },
    {
      "cell_type": "markdown",
      "source": [
        "## <font color=\"DeepPink\"> **Rellenando valores faltantes**\n"
      ],
      "metadata": {
        "id": "QiQjjpgZ4kx7"
      },
      "id": "QiQjjpgZ4kx7"
    },
    {
      "cell_type": "markdown",
      "id": "483867c9",
      "metadata": {
        "id": "483867c9"
      },
      "source": [
        "✅ **Rellenar los NaN de bathrooms con la mediana de la columna bathrooms, hacer lo mismo con la columna rooms con la mediana de la columna rooms...**"
      ]
    },
    {
      "cell_type": "code",
      "source": [
        "prop.bathrooms.unique()"
      ],
      "metadata": {
        "id": "TlxxDms4GxFI"
      },
      "id": "TlxxDms4GxFI",
      "execution_count": null,
      "outputs": []
    },
    {
      "cell_type": "code",
      "execution_count": null,
      "id": "f0ef4792",
      "metadata": {
        "id": "f0ef4792"
      },
      "outputs": [],
      "source": [
        "median_bathrooms = prop.bathrooms.median()"
      ]
    },
    {
      "cell_type": "code",
      "source": [
        "median_rooms = prop.rooms.median()"
      ],
      "metadata": {
        "id": "ntK4uk6JWCXR"
      },
      "id": "ntK4uk6JWCXR",
      "execution_count": null,
      "outputs": []
    },
    {
      "cell_type": "code",
      "source": [
        "prop.bathrooms.fillna(value=median_bathrooms, inplace = True)\n",
        "prop.rooms.fillna(value=median_rooms, inplace = True)"
      ],
      "metadata": {
        "id": "ptn6kCmcWSWH"
      },
      "id": "ptn6kCmcWSWH",
      "execution_count": null,
      "outputs": []
    },
    {
      "cell_type": "code",
      "source": [
        "prop.bathrooms = prop.bathrooms.astype(int)\n",
        "prop.rooms = prop.rooms.astype(int)"
      ],
      "metadata": {
        "id": "87QZkNDdQeXq"
      },
      "id": "87QZkNDdQeXq",
      "execution_count": null,
      "outputs": []
    },
    {
      "cell_type": "code",
      "source": [
        "prop.info()"
      ],
      "metadata": {
        "id": "UV7Zy0ROXTMR"
      },
      "id": "UV7Zy0ROXTMR",
      "execution_count": null,
      "outputs": []
    },
    {
      "cell_type": "markdown",
      "id": "de837883",
      "metadata": {
        "id": "de837883"
      },
      "source": [
        "✅ **Volvemos a analizar el porcentaje de NaN de cada columna. No deberia de existir ningun NaN en nuestro dataframe...**"
      ]
    },
    {
      "cell_type": "code",
      "execution_count": null,
      "id": "01c58003",
      "metadata": {
        "id": "01c58003"
      },
      "outputs": [],
      "source": [
        "round((prop.isna().sum()*100/prop.shape[0]),2).sort_values(ascending = False)"
      ]
    },
    {
      "cell_type": "code",
      "source": [
        "prop.shape"
      ],
      "metadata": {
        "id": "Op1ngcqSW0uw"
      },
      "id": "Op1ngcqSW0uw",
      "execution_count": null,
      "outputs": []
    },
    {
      "cell_type": "markdown",
      "id": "5673d40a",
      "metadata": {
        "id": "5673d40a"
      },
      "source": [
        "✅ **Parece ser que el formato se encuentra correcto, vamos a aplicar una pequeña comprobacion logica: la fecha start_date puede ser igual o menor que end_date, nunca mayor. Si ocurre esto, eliminar los registros que contienen estos errores.**"
      ]
    },
    {
      "cell_type": "code",
      "execution_count": null,
      "id": "a17237ca",
      "metadata": {
        "id": "a17237ca"
      },
      "outputs": [],
      "source": [
        "prop[(prop.start_date <= prop.end_date)]"
      ]
    },
    {
      "cell_type": "markdown",
      "id": "9dff95a8",
      "metadata": {
        "id": "9dff95a8"
      },
      "source": [
        "✅ **Vamos a pasar las columnas start_date y end_date, que son strings, a formato datetime. Recorda que el formato de fecha que tenemos en nuestras columnas de fecha es %Y/%m/%d**"
      ]
    },
    {
      "cell_type": "code",
      "source": [
        "prop.info()"
      ],
      "metadata": {
        "id": "SfIdN-8nHzR4"
      },
      "id": "SfIdN-8nHzR4",
      "execution_count": null,
      "outputs": []
    },
    {
      "cell_type": "code",
      "execution_count": null,
      "id": "a1f4dc01",
      "metadata": {
        "id": "a1f4dc01"
      },
      "outputs": [],
      "source": [
        "prop.start_date = pd.to_datetime(prop[\"start_date\"], format = \"mixed\")"
      ]
    },
    {
      "cell_type": "code",
      "source": [
        "prop.end_date = pd.to_datetime(prop[\"end_date\"], format = \"mixed\")"
      ],
      "metadata": {
        "id": "J4LLDjIPZIU0"
      },
      "id": "J4LLDjIPZIU0",
      "execution_count": null,
      "outputs": []
    },
    {
      "cell_type": "markdown",
      "id": "4929e316",
      "metadata": {
        "id": "4929e316"
      },
      "source": [
        "⏰ **Al tratar de pasar la columna end_date a datetime nos sale un error, hay un registro que lo esta causando, investigar que registro causa este error...**"
      ]
    },
    {
      "cell_type": "markdown",
      "id": "91bb3750",
      "metadata": {
        "id": "91bb3750"
      },
      "source": [
        "**Hay muchos registros que tienen como end_date 9999-12-31, como la documentacion es de mala calidad, la misma no especifica que significa que el end_date tenga este valor, pero aplicando un poco de sentido comun deducimos que los registros que tienen esta fecha significa que el aviso no se dio de baja, por lo cual no se vendio.**\n",
        "\n",
        "✅ **Cambiar los registros con esta fecha, cambiandola a la fecha de la primera publicacion de python por parte de Guido van Rossum: 1991-02-20**.\n",
        "\n",
        "✅ **Los registros con esta fecha seran los que aun no se vendieron.**"
      ]
    },
    {
      "cell_type": "code",
      "execution_count": null,
      "id": "c029425f",
      "metadata": {
        "id": "c029425f"
      },
      "outputs": [],
      "source": [
        "prop['end_date'].replace('9999-12-31', '1991-02-20', inplace=True)"
      ]
    },
    {
      "cell_type": "markdown",
      "id": "99b95e37",
      "metadata": {
        "id": "99b95e37"
      },
      "source": [
        "✅ **Ahora si pasar la columna end_date a datetime...**"
      ]
    },
    {
      "cell_type": "code",
      "execution_count": null,
      "id": "909791e0",
      "metadata": {
        "id": "909791e0"
      },
      "outputs": [],
      "source": [
        "prop.end_date = pd.to_datetime(prop[\"end_date\"], format = \"mixed\")"
      ]
    },
    {
      "cell_type": "code",
      "source": [
        "prop.info()"
      ],
      "metadata": {
        "id": "X2BO_tk-sJPG"
      },
      "id": "X2BO_tk-sJPG",
      "execution_count": null,
      "outputs": []
    },
    {
      "cell_type": "markdown",
      "id": "4d758ab6",
      "metadata": {
        "id": "4d758ab6"
      },
      "source": [
        "✅ **Vamos a cambiar el nombre de las columnas de la siguiente manera:...**\n",
        "\n",
        "- start_date => inicio\n",
        "- end_date => fin\n",
        "- lat => lat\n",
        "- lon => lon\n",
        "- l2 => zona\n",
        "- l3 => departamento\n",
        "- rooms => ambientes\n",
        "- bathrooms => baños\n",
        "- property_type => tipo\n",
        "- operation_type => operacion\n",
        "- precio => precio\n"
      ]
    },
    {
      "cell_type": "code",
      "execution_count": null,
      "id": "6926d9f3",
      "metadata": {
        "id": "6926d9f3"
      },
      "outputs": [],
      "source": [
        "columnas = ['Inicio',\n",
        "           'Fin',\n",
        "           'Lat',\n",
        "           'Lon',\n",
        "           'Zona',\n",
        "           'Departamento',\n",
        "           'Ambientes',\n",
        "           'Baños',\n",
        "           'Tipo',\n",
        "           'Operacion',\n",
        "           'Precio']"
      ]
    },
    {
      "cell_type": "code",
      "source": [
        "prop.columns = columnas"
      ],
      "metadata": {
        "id": "I4wkyxQ2s64X"
      },
      "id": "I4wkyxQ2s64X",
      "execution_count": null,
      "outputs": []
    },
    {
      "cell_type": "code",
      "source": [
        "prop.head(3)"
      ],
      "metadata": {
        "id": "mabIUoA2tCD-"
      },
      "id": "mabIUoA2tCD-",
      "execution_count": null,
      "outputs": []
    },
    {
      "cell_type": "markdown",
      "id": "118e13d8",
      "metadata": {
        "id": "118e13d8"
      },
      "source": [
        "✅ **Por ultimo, reinicia el indice...**"
      ]
    },
    {
      "cell_type": "code",
      "execution_count": null,
      "id": "50a8eb9f",
      "metadata": {
        "id": "50a8eb9f"
      },
      "outputs": [],
      "source": [
        "prop.reset_index(drop=True, inplace=True)\n",
        "prop.head(5)"
      ]
    },
    {
      "cell_type": "code",
      "source": [
        "prop.shape"
      ],
      "metadata": {
        "id": "XtElx8sutsO-"
      },
      "id": "XtElx8sutsO-",
      "execution_count": null,
      "outputs": []
    },
    {
      "cell_type": "markdown",
      "id": "19ee256f-503a-42fa-9621-bc3318161eb5",
      "metadata": {
        "id": "19ee256f-503a-42fa-9621-bc3318161eb5"
      },
      "source": [
        "#<font color=\"DeepPink\"> **Análisis gráfico de los Datos**"
      ]
    },
    {
      "cell_type": "markdown",
      "id": "85806571",
      "metadata": {
        "id": "85806571"
      },
      "source": [
        "✅ **El dueño de la inmobiliaria donde pertencemos no sabe lo que quiere, tampoco entiende que datos interesantes podriamos sacar de este dataset.**\n",
        "\n",
        "**Por eso nuestro objetivo es encontrar posibles datos curiosos sobre el mismo. Algunos ejemplos de datos curiosos podrian ser:**\n",
        "\n",
        "- cantidad de propiedades por Departamento\n",
        "- media de precios por Departamento\n",
        "- media de precios por Departamento\n",
        "- promedio de precio por tipo de propiedad\n",
        "- cantidad de ventas\n",
        "- cualquier cosa que te parezca interesante\n",
        "\n",
        "\n"
      ]
    },
    {
      "cell_type": "code",
      "source": [
        "prop.columns"
      ],
      "metadata": {
        "id": "ZG0Uc-qWK4g0"
      },
      "id": "ZG0Uc-qWK4g0",
      "execution_count": null,
      "outputs": []
    },
    {
      "cell_type": "code",
      "source": [
        "prop.head(3)"
      ],
      "metadata": {
        "id": "4YqeZ-xGLg5u"
      },
      "id": "4YqeZ-xGLg5u",
      "execution_count": null,
      "outputs": []
    },
    {
      "cell_type": "markdown",
      "source": [
        "##<font color=\"DeepPink\"> **Gráfico de Dispersión Geográfico**"
      ],
      "metadata": {
        "id": "8r5XgOzeTjd0"
      },
      "id": "8r5XgOzeTjd0"
    },
    {
      "cell_type": "markdown",
      "source": [
        "###<font color=\"DeepPink\"> **Todas las propiedades**"
      ],
      "metadata": {
        "id": "zW1kDcGYYcFF"
      },
      "id": "zW1kDcGYYcFF"
    },
    {
      "cell_type": "code",
      "source": [
        "px.scatter_mapbox(prop,\n",
        "                  title=\"Todas las propiedades\",\n",
        "                  lat=\"Lat\",\n",
        "                  lon=\"Lon\",\n",
        "                  color=\"Precio\",\n",
        "                  size=\"Precio\",\n",
        "                  template=\"gridon\",\n",
        "                  ).update_layout(mapbox_style=\"open-street-map\")"
      ],
      "metadata": {
        "id": "DfpRRif1ZBht"
      },
      "id": "DfpRRif1ZBht",
      "execution_count": null,
      "outputs": []
    },
    {
      "cell_type": "code",
      "source": [
        "fig = px.scatter_mapbox(prop,\n",
        "                        title=\"Todas las propiedades\",\n",
        "                        lat=\"Lat\",\n",
        "                        lon=\"Lon\",\n",
        "                        color=\"Precio\",\n",
        "                        size=\"Precio\",\n",
        "                        template=\"gridon\",\n",
        "                        )\n",
        "\n",
        "fig.update_layout(mapbox_style=\"open-street-map\")\n",
        "fig.show()"
      ],
      "metadata": {
        "id": "NqEkB-tSKh0y"
      },
      "id": "NqEkB-tSKh0y",
      "execution_count": null,
      "outputs": []
    },
    {
      "cell_type": "code",
      "source": [
        "fig = px.scatter_mapbox(prop,\n",
        "                        title=\"Todas las propiedades\",\n",
        "                        lat=\"Lat\",\n",
        "                        lon=\"Lon\",\n",
        "                        color=\"Tipo\",\n",
        "                        size=\"Precio\",\n",
        "                        template=\"gridon\",\n",
        "                        )\n",
        "\n",
        "fig.update_layout(mapbox_style=\"open-street-map\")\n",
        "fig.show()"
      ],
      "metadata": {
        "id": "4JleeAAilVU8"
      },
      "id": "4JleeAAilVU8",
      "execution_count": null,
      "outputs": []
    },
    {
      "cell_type": "markdown",
      "source": [
        "###<font color=\"DeepPink\"> **Propiedades Casas**"
      ],
      "metadata": {
        "id": "0litdJZuYjKs"
      },
      "id": "0litdJZuYjKs"
    },
    {
      "cell_type": "code",
      "source": [
        "prop.query(\"Tipo == 'Casa'\").head(3)"
      ],
      "metadata": {
        "id": "UobVWkPzVE3o"
      },
      "id": "UobVWkPzVE3o",
      "execution_count": null,
      "outputs": []
    },
    {
      "cell_type": "code",
      "source": [
        "prop.query(\"Tipo == 'Casa'\").shape"
      ],
      "metadata": {
        "id": "qWu2EZz9a-pK"
      },
      "id": "qWu2EZz9a-pK",
      "execution_count": null,
      "outputs": []
    },
    {
      "cell_type": "code",
      "source": [
        "fig = px.scatter_mapbox(prop.query(\"Tipo == 'Casa'\"),\n",
        "                        title=\"Todas las Casas\",\n",
        "                        lat=\"Lat\",\n",
        "                        lon=\"Lon\",\n",
        "                        color=\"Precio\",\n",
        "                        size=\"Precio\",\n",
        "                        template=\"gridon\"\n",
        "                        )\n",
        "\n",
        "fig.update_layout(mapbox_style=\"open-street-map\")\n",
        "fig.show()"
      ],
      "metadata": {
        "id": "Vxh1CWA8VCqC"
      },
      "id": "Vxh1CWA8VCqC",
      "execution_count": null,
      "outputs": []
    },
    {
      "cell_type": "markdown",
      "source": [
        "##<font color=\"DeepPink\"> **Histograma**"
      ],
      "metadata": {
        "id": "n5-yFJugYrUd"
      },
      "id": "n5-yFJugYrUd"
    },
    {
      "cell_type": "code",
      "source": [
        "prop.columns"
      ],
      "metadata": {
        "id": "p_YfQmS_itVt"
      },
      "id": "p_YfQmS_itVt",
      "execution_count": null,
      "outputs": []
    },
    {
      "cell_type": "markdown",
      "source": [
        "###<font color=\"DeepPink\"> **Cantidad de Ambientes**"
      ],
      "metadata": {
        "id": "v7FD-N6GT-hd"
      },
      "id": "v7FD-N6GT-hd"
    },
    {
      "cell_type": "code",
      "source": [
        "fig = px.histogram(prop.Ambientes.sort_values(),\n",
        "                   x=\"Ambientes\",\n",
        "                   color=\"Ambientes\",\n",
        "                   text_auto=True,\n",
        "                   title=\"Cantidad de Ambientes\",\n",
        "                   template=\"gridon\").update_layout(bargap=0.2)\n",
        "\n",
        "fig.show()"
      ],
      "metadata": {
        "id": "ys13SO18YyjX"
      },
      "id": "ys13SO18YyjX",
      "execution_count": null,
      "outputs": []
    },
    {
      "cell_type": "markdown",
      "source": [
        "###<font color=\"DeepPink\"> **Cantidad de Baños**"
      ],
      "metadata": {
        "id": "KTHYTpKEUGs8"
      },
      "id": "KTHYTpKEUGs8"
    },
    {
      "cell_type": "code",
      "source": [
        "fig = px.histogram(prop.Baños.sort_values(),\n",
        "                   x=\"Baños\",\n",
        "                   color=\"Baños\",\n",
        "                   text_auto=True,\n",
        "                   title=\"Cantidad de Baños\",\n",
        "                   template=\"gridon\").update_layout(bargap=0.2)\n",
        "\n",
        "fig.show()"
      ],
      "metadata": {
        "id": "yioTIeytTgg3"
      },
      "id": "yioTIeytTgg3",
      "execution_count": null,
      "outputs": []
    },
    {
      "cell_type": "markdown",
      "source": [
        "###<font color=\"DeepPink\"> **Tipo de Propiedades**"
      ],
      "metadata": {
        "id": "5jztQiMTjCCq"
      },
      "id": "5jztQiMTjCCq"
    },
    {
      "cell_type": "code",
      "source": [
        "fig = px.histogram(prop.Tipo,\n",
        "                   x=\"Tipo\",\n",
        "                   color=\"Tipo\",\n",
        "                   text_auto=True,\n",
        "                   title=\"Tipo de Propiedades\",\n",
        "                   template=\"gridon\").update_layout(bargap=0.2)\n",
        "\n",
        "fig.show()"
      ],
      "metadata": {
        "id": "jdH_MqYzi2x8"
      },
      "id": "jdH_MqYzi2x8",
      "execution_count": null,
      "outputs": []
    },
    {
      "cell_type": "markdown",
      "source": [
        "##<font color=\"DeepPink\"> **Gráfico Sunburst**"
      ],
      "metadata": {
        "id": "BjjxgCarnP57"
      },
      "id": "BjjxgCarnP57"
    },
    {
      "cell_type": "code",
      "source": [
        "prop.head(3)\n"
      ],
      "metadata": {
        "id": "bTOb6WJ0ni-B"
      },
      "id": "bTOb6WJ0ni-B",
      "execution_count": null,
      "outputs": []
    },
    {
      "cell_type": "code",
      "source": [
        "df = prop.query(\"Departamento == 'Mendoza' | Departamento == 'Godoy Cruz' | Departamento == 'Las Heras'\")"
      ],
      "metadata": {
        "id": "Dv5CRxqlryPL"
      },
      "id": "Dv5CRxqlryPL",
      "execution_count": null,
      "outputs": []
    },
    {
      "cell_type": "code",
      "source": [
        "fig = px.sunburst(df,\n",
        "                  path=['Zona', 'Departamento','Tipo'],\n",
        "                  values='Precio',\n",
        "                  color='Tipo',\n",
        "                  title=\"Sunburst por Departamento y Tipo de Propiedad\",\n",
        "                  template=\"gridon\")\n",
        "fig.show()"
      ],
      "metadata": {
        "id": "b5U2nDL5nTmO"
      },
      "id": "b5U2nDL5nTmO",
      "execution_count": null,
      "outputs": []
    },
    {
      "cell_type": "code",
      "source": [
        "df = df.query(\"Tipo == 'Lote' or Tipo == 'Departamento' or Tipo == 'Casa'\")"
      ],
      "metadata": {
        "id": "OarcYs3TvH9z"
      },
      "id": "OarcYs3TvH9z",
      "execution_count": null,
      "outputs": []
    },
    {
      "cell_type": "code",
      "source": [
        "fig = px.sunburst(df,\n",
        "                  path=['Operacion','Departamento','Tipo'],\n",
        "                  values='Precio',\n",
        "                  color='Tipo',\n",
        "                  title=\"Sunburst por Departamento y Tipo de Propiedad\",\n",
        "                  template=\"gridon\")\n",
        "fig.show()"
      ],
      "metadata": {
        "id": "zVeIZ0SWuf-f"
      },
      "id": "zVeIZ0SWuf-f",
      "execution_count": null,
      "outputs": []
    }
  ],
  "metadata": {
    "kernelspec": {
      "display_name": "Python 3 (ipykernel)",
      "language": "python",
      "name": "python3"
    },
    "language_info": {
      "codemirror_mode": {
        "name": "ipython",
        "version": 3
      },
      "file_extension": ".py",
      "mimetype": "text/x-python",
      "name": "python",
      "nbconvert_exporter": "python",
      "pygments_lexer": "ipython3",
      "version": "3.9.7"
    },
    "colab": {
      "provenance": [],
      "include_colab_link": true
    }
  },
  "nbformat": 4,
  "nbformat_minor": 5
}