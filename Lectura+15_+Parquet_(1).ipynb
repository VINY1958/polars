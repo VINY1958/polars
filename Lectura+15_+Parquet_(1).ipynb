{
  "cells": [
    {
      "cell_type": "markdown",
      "id": "d565ffe4-463b-4db8-8b9c-1b5c7fa47104",
      "metadata": {
        "id": "d565ffe4-463b-4db8-8b9c-1b5c7fa47104"
      },
      "source": [
        "# Lectura 15: Parquet"
      ]
    },
    {
      "cell_type": "code",
      "source": [
        "from google.colab import drive\n",
        "drive.mount('/content/drive')"
      ],
      "metadata": {
        "colab": {
          "base_uri": "https://localhost:8080/"
        },
        "id": "LoNAkRCup_Nw",
        "outputId": "fbd94865-c015-4940-ef7e-b85bdaf0541d"
      },
      "id": "LoNAkRCup_Nw",
      "execution_count": 2,
      "outputs": [
        {
          "output_type": "stream",
          "name": "stdout",
          "text": [
            "Mounted at /content/drive\n"
          ]
        }
      ]
    },
    {
      "cell_type": "markdown",
      "id": "115577d5-04c3-4faf-b3ba-a09bc652b503",
      "metadata": {
        "id": "115577d5-04c3-4faf-b3ba-a09bc652b503"
      },
      "source": [
        "## `read_parquet`\n",
        "\n",
        "La primera función que vamos a estudiar es `read_parquet`, la cual nos va a permitir crear un DataFrame a partir de la lectura de un archivo parquet."
      ]
    },
    {
      "cell_type": "code",
      "execution_count": 1,
      "id": "e95cee5c-d435-4c68-923b-98f89858e9c9",
      "metadata": {
        "tags": [],
        "id": "e95cee5c-d435-4c68-923b-98f89858e9c9"
      },
      "outputs": [],
      "source": [
        "import polars as pl"
      ]
    },
    {
      "cell_type": "markdown",
      "id": "385435bc-0f6b-4c5a-9767-2bfb6e200d55",
      "metadata": {
        "id": "385435bc-0f6b-4c5a-9767-2bfb6e200d55"
      },
      "source": [
        "### Leer un solo archivo parquet"
      ]
    },
    {
      "cell_type": "code",
      "execution_count": 3,
      "id": "b3bcd79a-e524-40c5-9b6b-2f2707930ced",
      "metadata": {
        "tags": [],
        "id": "b3bcd79a-e524-40c5-9b6b-2f2707930ced"
      },
      "outputs": [],
      "source": [
        "df = pl.read_parquet('/content/drive/MyDrive/polars/seccion03/parquet/datos.parquet')  ## establecemos la ruta del archivo parquet"
      ]
    },
    {
      "cell_type": "code",
      "execution_count": 4,
      "id": "c2160bba-234d-47b4-93ae-99f158c00b49",
      "metadata": {
        "tags": [],
        "colab": {
          "base_uri": "https://localhost:8080/"
        },
        "id": "c2160bba-234d-47b4-93ae-99f158c00b49",
        "outputId": "eb306657-ce46-40ee-908c-cf0d1e0da64b"
      },
      "outputs": [
        {
          "output_type": "stream",
          "name": "stdout",
          "text": [
            "shape: (48_137, 16)\n",
            "┌───────────┬───────────┬───────────┬───────────┬───┬───────────┬───────────┬───────────┬──────────┐\n",
            "│ video_id  ┆ trending_ ┆ title     ┆ channel_t ┆ … ┆ comments_ ┆ ratings_d ┆ video_err ┆ descript │\n",
            "│ ---       ┆ date      ┆ ---       ┆ itle      ┆   ┆ disabled  ┆ isabled   ┆ or_or_rem ┆ ion      │\n",
            "│ str       ┆ ---       ┆ str       ┆ ---       ┆   ┆ ---       ┆ ---       ┆ oved      ┆ ---      │\n",
            "│           ┆ str       ┆           ┆ str       ┆   ┆ str       ┆ str       ┆ ---       ┆ str      │\n",
            "│           ┆           ┆           ┆           ┆   ┆           ┆           ┆ str       ┆          │\n",
            "╞═══════════╪═══════════╪═══════════╪═══════════╪═══╪═══════════╪═══════════╪═══════════╪══════════╡\n",
            "│ 2kyS6SvSY ┆ 17.14.11  ┆ WE WANT   ┆ CaseyNeis ┆ … ┆ False     ┆ False     ┆ False     ┆ SHANTELL │\n",
            "│ SE        ┆           ┆ TO TALK   ┆ tat       ┆   ┆           ┆           ┆           ┆ 'S       │\n",
            "│           ┆           ┆ ABOUT OUR ┆           ┆   ┆           ┆           ┆           ┆ CHANNEL  │\n",
            "│           ┆           ┆ MARR…     ┆           ┆   ┆           ┆           ┆           ┆ - https: │\n",
            "│           ┆           ┆           ┆           ┆   ┆           ┆           ┆           ┆ //w…     │\n",
            "│ 1ZAPwfrtA ┆ 17.14.11  ┆ The Trump ┆ LastWeekT ┆ … ┆ False     ┆ False     ┆ False     ┆ One year │\n",
            "│ FY        ┆           ┆ Presidenc ┆ onight    ┆   ┆           ┆           ┆           ┆ after    │\n",
            "│           ┆           ┆ y: Last   ┆           ┆   ┆           ┆           ┆           ┆ the pres │\n",
            "│           ┆           ┆ Wee…      ┆           ┆   ┆           ┆           ┆           ┆ identia… │\n",
            "│ 5qpjK5DgC ┆ 17.14.11  ┆ Racist    ┆ Rudy      ┆ … ┆ False     ┆ False     ┆ False     ┆ WATCH MY │\n",
            "│ t4        ┆           ┆ Superman  ┆ Mancuso   ┆   ┆           ┆           ┆           ┆ PREVIOUS │\n",
            "│           ┆           ┆ | Rudy    ┆           ┆   ┆           ┆           ┆           ┆ VIDEO ▶  │\n",
            "│           ┆           ┆ Mancuso…  ┆           ┆   ┆           ┆           ┆           ┆ \\n\\n…    │\n",
            "│ puqaWrEC7 ┆ 17.14.11  ┆ Nickelbac ┆ Good      ┆ … ┆ False     ┆ False     ┆ False     ┆ Today we │\n",
            "│ tY        ┆           ┆ k Lyrics: ┆ Mythical  ┆   ┆           ┆           ┆           ┆ find out │\n",
            "│           ┆           ┆ Real or   ┆ Morning   ┆   ┆           ┆           ┆           ┆ if Link  │\n",
            "│           ┆           ┆ Fak…      ┆           ┆   ┆           ┆           ┆           ┆ is a…    │\n",
            "│ d380meD0W ┆ 17.14.11  ┆ I Dare    ┆ nigahiga  ┆ … ┆ False     ┆ False     ┆ False     ┆ I know   │\n",
            "│ 0M        ┆           ┆ You:      ┆           ┆   ┆           ┆           ┆           ┆ it's     │\n",
            "│           ┆           ┆ GOING     ┆           ┆   ┆           ┆           ┆           ┆ been a   │\n",
            "│           ┆           ┆ BALD!?    ┆           ┆   ┆           ┆           ┆           ┆ while    │\n",
            "│           ┆           ┆           ┆           ┆   ┆           ┆           ┆           ┆ since…   │\n",
            "│ …         ┆ …         ┆ …         ┆ …         ┆ … ┆ …         ┆ …         ┆ …         ┆ …        │\n",
            "│ BZt0qjTWN ┆ 18.14.06  ┆ The Cat   ┆ AaronsAni ┆ … ┆ False     ┆ False     ┆ False     ┆ The Cat  │\n",
            "│ hw        ┆           ┆ Who       ┆ mals      ┆   ┆           ┆           ┆           ┆ Who      │\n",
            "│           ┆           ┆ Caught    ┆           ┆   ┆           ┆           ┆           ┆ Caught   │\n",
            "│           ┆           ┆ the Laser ┆           ┆   ┆           ┆           ┆           ┆ the      │\n",
            "│           ┆           ┆           ┆           ┆   ┆           ┆           ┆           ┆ Laser -… │\n",
            "│ 1h7KV2sjU ┆ 18.14.06  ┆ True      ┆ zefrank1  ┆ … ┆ False     ┆ False     ┆ False     ┆ null     │\n",
            "│ WY        ┆           ┆ Facts :   ┆           ┆   ┆           ┆           ┆           ┆          │\n",
            "│           ┆           ┆ Ant       ┆           ┆   ┆           ┆           ┆           ┆          │\n",
            "│           ┆           ┆ Mutualism ┆           ┆   ┆           ┆           ┆           ┆          │\n",
            "│ D6Oy4Lfoq ┆ 18.14.06  ┆ I GAVE    ┆ Brad      ┆ … ┆ False     ┆ False     ┆ False     ┆ I had so │\n",
            "│ sU        ┆           ┆ SAFIYA    ┆ Mondo     ┆   ┆           ┆           ┆           ┆ much fun │\n",
            "│           ┆           ┆ NYGAARD A ┆           ┆   ┆           ┆           ┆           ┆ transfor │\n",
            "│           ┆           ┆ PERFEC…   ┆           ┆   ┆           ┆           ┆           ┆ ming…    │\n",
            "│ oV0zkMe1K ┆ 18.14.06  ┆ How Black ┆ How It    ┆ … ┆ False     ┆ False     ┆ False     ┆ How      │\n",
            "│ 8s        ┆           ┆ Panther   ┆ Should    ┆   ┆           ┆           ┆           ┆ Black    │\n",
            "│           ┆           ┆ Should    ┆ Have      ┆   ┆           ┆           ┆           ┆ Panther  │\n",
            "│           ┆           ┆ Have …    ┆ Ended     ┆   ┆           ┆           ┆           ┆ Should   │\n",
            "│           ┆           ┆           ┆           ┆   ┆           ┆           ┆           ┆ Have …   │\n",
            "│ ooyjaVdt- ┆ 18.14.06  ┆ Official  ┆ Call of   ┆ … ┆ False     ┆ False     ┆ False     ┆ Call of  │\n",
            "│ jA        ┆           ┆ Call of   ┆ Duty      ┆   ┆           ┆           ┆           ┆ Duty:    │\n",
            "│           ┆           ┆ Duty®:    ┆           ┆   ┆           ┆           ┆           ┆ Black    │\n",
            "│           ┆           ┆ Black …   ┆           ┆   ┆           ┆           ┆           ┆ Ops 4    │\n",
            "│           ┆           ┆           ┆           ┆   ┆           ┆           ┆           ┆ Mult…    │\n",
            "└───────────┴───────────┴───────────┴───────────┴───┴───────────┴───────────┴───────────┴──────────┘\n"
          ]
        }
      ],
      "source": [
        "print(df)"
      ]
    },
    {
      "cell_type": "markdown",
      "id": "4a75c964-ab5c-49e7-8d10-31de20988463",
      "metadata": {
        "id": "4a75c964-ab5c-49e7-8d10-31de20988463"
      },
      "source": [
        "#### Otra alternativa que leería todos los archivos parquet dentro de una carpeta"
      ]
    },
    {
      "cell_type": "code",
      "source": [
        "df3 = pl.read_parquet('/content/drive/MyDrive/polars/seccion03/multi_parquet/part-00001-.parquet')"
      ],
      "metadata": {
        "id": "tuPpYM3Gn-D7"
      },
      "id": "tuPpYM3Gn-D7",
      "execution_count": 5,
      "outputs": []
    },
    {
      "cell_type": "code",
      "source": [
        "df3"
      ],
      "metadata": {
        "colab": {
          "base_uri": "https://localhost:8080/",
          "height": 463
        },
        "id": "1bNPk1C3oE-D",
        "outputId": "2092d938-c069-4b51-e2f2-5748ed1ffa2f"
      },
      "id": "1bNPk1C3oE-D",
      "execution_count": 6,
      "outputs": [
        {
          "output_type": "execute_result",
          "data": {
            "text/plain": [
              "shape: (725_984, 30)\n",
              "┌──────┬───────┬─────┬─────────────┬───┬──────────────┬──────────────┬──────────────┬──────────────┐\n",
              "│ YEAR ┆ MONTH ┆ DAY ┆ DAY_OF_WEEK ┆ … ┆ SECURITY_DEL ┆ AIRLINE_DELA ┆ LATE_AIRCRAF ┆ WEATHER_DELA │\n",
              "│ ---  ┆ ---   ┆ --- ┆ ---         ┆   ┆ AY           ┆ Y            ┆ T_DELAY      ┆ Y            │\n",
              "│ i32  ┆ i32   ┆ i32 ┆ i32         ┆   ┆ ---          ┆ ---          ┆ ---          ┆ ---          │\n",
              "│      ┆       ┆     ┆             ┆   ┆ i32          ┆ i32          ┆ i32          ┆ i32          │\n",
              "╞══════╪═══════╪═════╪═════════════╪═══╪══════════════╪══════════════╪══════════════╪══════════════╡\n",
              "│ 2015 ┆ 1     ┆ 1   ┆ 4           ┆ … ┆ null         ┆ null         ┆ null         ┆ null         │\n",
              "│ 2015 ┆ 10    ┆ 25  ┆ 7           ┆ … ┆ null         ┆ null         ┆ null         ┆ null         │\n",
              "│ 2015 ┆ 1     ┆ 1   ┆ 4           ┆ … ┆ null         ┆ null         ┆ null         ┆ null         │\n",
              "│ 2015 ┆ 10    ┆ 25  ┆ 7           ┆ … ┆ null         ┆ null         ┆ null         ┆ null         │\n",
              "│ 2015 ┆ 1     ┆ 1   ┆ 4           ┆ … ┆ null         ┆ null         ┆ null         ┆ null         │\n",
              "│ …    ┆ …     ┆ …   ┆ …           ┆ … ┆ …            ┆ …            ┆ …            ┆ …            │\n",
              "│ 2015 ┆ 8     ┆ 10  ┆ 1           ┆ … ┆ null         ┆ null         ┆ null         ┆ null         │\n",
              "│ 2015 ┆ 8     ┆ 10  ┆ 1           ┆ … ┆ null         ┆ null         ┆ null         ┆ null         │\n",
              "│ 2015 ┆ 8     ┆ 10  ┆ 1           ┆ … ┆ null         ┆ null         ┆ null         ┆ null         │\n",
              "│ 2015 ┆ 8     ┆ 10  ┆ 1           ┆ … ┆ null         ┆ null         ┆ null         ┆ null         │\n",
              "│ 2015 ┆ 8     ┆ 10  ┆ 1           ┆ … ┆ 0            ┆ 0            ┆ 74           ┆ 0            │\n",
              "└──────┴───────┴─────┴─────────────┴───┴──────────────┴──────────────┴──────────────┴──────────────┘"
            ],
            "text/html": [
              "<div><style>\n",
              ".dataframe > thead > tr,\n",
              ".dataframe > tbody > tr {\n",
              "  text-align: right;\n",
              "  white-space: pre-wrap;\n",
              "}\n",
              "</style>\n",
              "<small>shape: (725_984, 30)</small><table border=\"1\" class=\"dataframe\"><thead><tr><th>YEAR</th><th>MONTH</th><th>DAY</th><th>DAY_OF_WEEK</th><th>FLIGHT_NUMBER</th><th>TAIL_NUMBER</th><th>ORIGIN_AIRPORT</th><th>DESTINATION_AIRPORT</th><th>SCHEDULED_DEPARTURE</th><th>DEPARTURE_TIME</th><th>DEPARTURE_DELAY</th><th>TAXI_OUT</th><th>WHEELS_OFF</th><th>SCHEDULED_TIME</th><th>ELAPSED_TIME</th><th>AIR_TIME</th><th>DISTANCE</th><th>WHEELS_ON</th><th>TAXI_IN</th><th>SCHEDULED_ARRIVAL</th><th>ARRIVAL_TIME</th><th>ARRIVAL_DELAY</th><th>DIVERTED</th><th>CANCELLED</th><th>CANCELLATION_REASON</th><th>AIR_SYSTEM_DELAY</th><th>SECURITY_DELAY</th><th>AIRLINE_DELAY</th><th>LATE_AIRCRAFT_DELAY</th><th>WEATHER_DELAY</th></tr><tr><td>i32</td><td>i32</td><td>i32</td><td>i32</td><td>i32</td><td>str</td><td>str</td><td>str</td><td>i32</td><td>i32</td><td>i32</td><td>i32</td><td>i32</td><td>i32</td><td>i32</td><td>i32</td><td>i32</td><td>i32</td><td>i32</td><td>i32</td><td>i32</td><td>i32</td><td>i32</td><td>i32</td><td>str</td><td>i32</td><td>i32</td><td>i32</td><td>i32</td><td>i32</td></tr></thead><tbody><tr><td>2015</td><td>1</td><td>1</td><td>4</td><td>2336</td><td>&quot;N3KUAA&quot;</td><td>&quot;LAX&quot;</td><td>&quot;PBI&quot;</td><td>10</td><td>2</td><td>-8</td><td>12</td><td>14</td><td>280</td><td>279</td><td>263</td><td>2330</td><td>737</td><td>4</td><td>750</td><td>741</td><td>-9</td><td>0</td><td>0</td><td>null</td><td>null</td><td>null</td><td>null</td><td>null</td><td>null</td></tr><tr><td>2015</td><td>10</td><td>25</td><td>7</td><td>159</td><td>&quot;N3FLAA&quot;</td><td>&quot;11298&quot;</td><td>&quot;14771&quot;</td><td>815</td><td>810</td><td>-5</td><td>14</td><td>824</td><td>222</td><td>216</td><td>199</td><td>1464</td><td>943</td><td>3</td><td>957</td><td>946</td><td>-11</td><td>0</td><td>0</td><td>null</td><td>null</td><td>null</td><td>null</td><td>null</td><td>null</td></tr><tr><td>2015</td><td>1</td><td>1</td><td>4</td><td>258</td><td>&quot;N3HYAA&quot;</td><td>&quot;LAX&quot;</td><td>&quot;MIA&quot;</td><td>20</td><td>15</td><td>-5</td><td>15</td><td>30</td><td>285</td><td>281</td><td>258</td><td>2342</td><td>748</td><td>8</td><td>805</td><td>756</td><td>-9</td><td>0</td><td>0</td><td>null</td><td>null</td><td>null</td><td>null</td><td>null</td><td>null</td></tr><tr><td>2015</td><td>10</td><td>25</td><td>7</td><td>937</td><td>&quot;N3GPAA&quot;</td><td>&quot;12478&quot;</td><td>&quot;14843&quot;</td><td>815</td><td>808</td><td>-7</td><td>18</td><td>826</td><td>243</td><td>214</td><td>192</td><td>1598</td><td>1138</td><td>4</td><td>1218</td><td>1142</td><td>-36</td><td>0</td><td>0</td><td>null</td><td>null</td><td>null</td><td>null</td><td>null</td><td>null</td></tr><tr><td>2015</td><td>1</td><td>1</td><td>4</td><td>1112</td><td>&quot;N3LAAA&quot;</td><td>&quot;SFO&quot;</td><td>&quot;DFW&quot;</td><td>30</td><td>19</td><td>-11</td><td>17</td><td>36</td><td>195</td><td>193</td><td>173</td><td>1464</td><td>529</td><td>3</td><td>545</td><td>532</td><td>-13</td><td>0</td><td>0</td><td>null</td><td>null</td><td>null</td><td>null</td><td>null</td><td>null</td></tr><tr><td>&hellip;</td><td>&hellip;</td><td>&hellip;</td><td>&hellip;</td><td>&hellip;</td><td>&hellip;</td><td>&hellip;</td><td>&hellip;</td><td>&hellip;</td><td>&hellip;</td><td>&hellip;</td><td>&hellip;</td><td>&hellip;</td><td>&hellip;</td><td>&hellip;</td><td>&hellip;</td><td>&hellip;</td><td>&hellip;</td><td>&hellip;</td><td>&hellip;</td><td>&hellip;</td><td>&hellip;</td><td>&hellip;</td><td>&hellip;</td><td>&hellip;</td><td>&hellip;</td><td>&hellip;</td><td>&hellip;</td><td>&hellip;</td><td>&hellip;</td></tr><tr><td>2015</td><td>8</td><td>10</td><td>1</td><td>494</td><td>&quot;N197UW&quot;</td><td>&quot;PHX&quot;</td><td>&quot;DEN&quot;</td><td>1855</td><td>1854</td><td>-1</td><td>15</td><td>1909</td><td>110</td><td>107</td><td>83</td><td>602</td><td>2132</td><td>9</td><td>2145</td><td>2141</td><td>-4</td><td>0</td><td>0</td><td>null</td><td>null</td><td>null</td><td>null</td><td>null</td><td>null</td></tr><tr><td>2015</td><td>8</td><td>10</td><td>1</td><td>500</td><td>&quot;N677AW&quot;</td><td>&quot;PHX&quot;</td><td>&quot;IND&quot;</td><td>1855</td><td>1847</td><td>-8</td><td>24</td><td>1911</td><td>207</td><td>210</td><td>180</td><td>1488</td><td>111</td><td>6</td><td>122</td><td>117</td><td>-5</td><td>0</td><td>0</td><td>null</td><td>null</td><td>null</td><td>null</td><td>null</td><td>null</td></tr><tr><td>2015</td><td>8</td><td>10</td><td>1</td><td>545</td><td>&quot;N561UW&quot;</td><td>&quot;PHX&quot;</td><td>&quot;DFW&quot;</td><td>1855</td><td>1901</td><td>6</td><td>21</td><td>1922</td><td>144</td><td>147</td><td>119</td><td>868</td><td>2321</td><td>7</td><td>2319</td><td>2328</td><td>9</td><td>0</td><td>0</td><td>null</td><td>null</td><td>null</td><td>null</td><td>null</td><td>null</td></tr><tr><td>2015</td><td>8</td><td>10</td><td>1</td><td>596</td><td>&quot;N662AW&quot;</td><td>&quot;PHX&quot;</td><td>&quot;MCI&quot;</td><td>1855</td><td>1850</td><td>-5</td><td>25</td><td>1915</td><td>156</td><td>164</td><td>130</td><td>1044</td><td>2325</td><td>9</td><td>2331</td><td>2334</td><td>3</td><td>0</td><td>0</td><td>null</td><td>null</td><td>null</td><td>null</td><td>null</td><td>null</td></tr><tr><td>2015</td><td>8</td><td>10</td><td>1</td><td>1781</td><td>&quot;N127UW&quot;</td><td>&quot;CLT&quot;</td><td>&quot;MSY&quot;</td><td>1855</td><td>2011</td><td>76</td><td>25</td><td>2036</td><td>114</td><td>112</td><td>84</td><td>651</td><td>2100</td><td>3</td><td>1949</td><td>2103</td><td>74</td><td>0</td><td>0</td><td>null</td><td>0</td><td>0</td><td>0</td><td>74</td><td>0</td></tr></tbody></table></div>"
            ]
          },
          "metadata": {},
          "execution_count": 6
        }
      ]
    },
    {
      "cell_type": "code",
      "source": [
        "df4 = pl.read_parquet('/content/drive/MyDrive/polars/seccion03/multi_parquet/part-00002-.parquet')\n",
        "df4"
      ],
      "metadata": {
        "colab": {
          "base_uri": "https://localhost:8080/",
          "height": 463
        },
        "id": "YNbKDKaZoGnd",
        "outputId": "8633c821-4c1e-4714-877f-ba04707bfe2b"
      },
      "id": "YNbKDKaZoGnd",
      "execution_count": 7,
      "outputs": [
        {
          "output_type": "execute_result",
          "data": {
            "text/plain": [
              "shape: (172_521, 30)\n",
              "┌──────┬───────┬─────┬─────────────┬───┬──────────────┬──────────────┬──────────────┬──────────────┐\n",
              "│ YEAR ┆ MONTH ┆ DAY ┆ DAY_OF_WEEK ┆ … ┆ SECURITY_DEL ┆ AIRLINE_DELA ┆ LATE_AIRCRAF ┆ WEATHER_DELA │\n",
              "│ ---  ┆ ---   ┆ --- ┆ ---         ┆   ┆ AY           ┆ Y            ┆ T_DELAY      ┆ Y            │\n",
              "│ i32  ┆ i32   ┆ i32 ┆ i32         ┆   ┆ ---          ┆ ---          ┆ ---          ┆ ---          │\n",
              "│      ┆       ┆     ┆             ┆   ┆ i32          ┆ i32          ┆ i32          ┆ i32          │\n",
              "╞══════╪═══════╪═════╪═════════════╪═══╪══════════════╪══════════════╪══════════════╪══════════════╡\n",
              "│ 2015 ┆ 10    ┆ 25  ┆ 7           ┆ … ┆ null         ┆ null         ┆ null         ┆ null         │\n",
              "│ 2015 ┆ 5     ┆ 31  ┆ 7           ┆ … ┆ 0            ┆ 0            ┆ 0            ┆ 0            │\n",
              "│ 2015 ┆ 10    ┆ 25  ┆ 7           ┆ … ┆ 0            ┆ 43           ┆ 0            ┆ 0            │\n",
              "│ 2015 ┆ 5     ┆ 31  ┆ 7           ┆ … ┆ null         ┆ null         ┆ null         ┆ null         │\n",
              "│ 2015 ┆ 10    ┆ 25  ┆ 7           ┆ … ┆ null         ┆ null         ┆ null         ┆ null         │\n",
              "│ …    ┆ …     ┆ …   ┆ …           ┆ … ┆ …            ┆ …            ┆ …            ┆ …            │\n",
              "│ 2015 ┆ 5     ┆ 31  ┆ 7           ┆ … ┆ null         ┆ null         ┆ null         ┆ null         │\n",
              "│ 2015 ┆ 5     ┆ 31  ┆ 7           ┆ … ┆ null         ┆ null         ┆ null         ┆ null         │\n",
              "│ 2015 ┆ 5     ┆ 31  ┆ 7           ┆ … ┆ null         ┆ null         ┆ null         ┆ null         │\n",
              "│ 2015 ┆ 5     ┆ 31  ┆ 7           ┆ … ┆ null         ┆ null         ┆ null         ┆ null         │\n",
              "│ 2015 ┆ 5     ┆ 31  ┆ 7           ┆ … ┆ null         ┆ null         ┆ null         ┆ null         │\n",
              "└──────┴───────┴─────┴─────────────┴───┴──────────────┴──────────────┴──────────────┴──────────────┘"
            ],
            "text/html": [
              "<div><style>\n",
              ".dataframe > thead > tr,\n",
              ".dataframe > tbody > tr {\n",
              "  text-align: right;\n",
              "  white-space: pre-wrap;\n",
              "}\n",
              "</style>\n",
              "<small>shape: (172_521, 30)</small><table border=\"1\" class=\"dataframe\"><thead><tr><th>YEAR</th><th>MONTH</th><th>DAY</th><th>DAY_OF_WEEK</th><th>FLIGHT_NUMBER</th><th>TAIL_NUMBER</th><th>ORIGIN_AIRPORT</th><th>DESTINATION_AIRPORT</th><th>SCHEDULED_DEPARTURE</th><th>DEPARTURE_TIME</th><th>DEPARTURE_DELAY</th><th>TAXI_OUT</th><th>WHEELS_OFF</th><th>SCHEDULED_TIME</th><th>ELAPSED_TIME</th><th>AIR_TIME</th><th>DISTANCE</th><th>WHEELS_ON</th><th>TAXI_IN</th><th>SCHEDULED_ARRIVAL</th><th>ARRIVAL_TIME</th><th>ARRIVAL_DELAY</th><th>DIVERTED</th><th>CANCELLED</th><th>CANCELLATION_REASON</th><th>AIR_SYSTEM_DELAY</th><th>SECURITY_DELAY</th><th>AIRLINE_DELAY</th><th>LATE_AIRCRAFT_DELAY</th><th>WEATHER_DELAY</th></tr><tr><td>i32</td><td>i32</td><td>i32</td><td>i32</td><td>i32</td><td>str</td><td>str</td><td>str</td><td>i32</td><td>i32</td><td>i32</td><td>i32</td><td>i32</td><td>i32</td><td>i32</td><td>i32</td><td>i32</td><td>i32</td><td>i32</td><td>i32</td><td>i32</td><td>i32</td><td>i32</td><td>i32</td><td>str</td><td>i32</td><td>i32</td><td>i32</td><td>i32</td><td>i32</td></tr></thead><tbody><tr><td>2015</td><td>10</td><td>25</td><td>7</td><td>16</td><td>&quot;N474AS&quot;</td><td>&quot;14747&quot;</td><td>&quot;13204&quot;</td><td>815</td><td>810</td><td>-5</td><td>14</td><td>824</td><td>325</td><td>313</td><td>293</td><td>2554</td><td>1617</td><td>6</td><td>1640</td><td>1623</td><td>-17</td><td>0</td><td>0</td><td>null</td><td>null</td><td>null</td><td>null</td><td>null</td><td>null</td></tr><tr><td>2015</td><td>5</td><td>31</td><td>7</td><td>893</td><td>&quot;N535AS&quot;</td><td>&quot;SEA&quot;</td><td>&quot;HNL&quot;</td><td>1920</td><td>1918</td><td>-2</td><td>24</td><td>1942</td><td>369</td><td>393</td><td>365</td><td>2677</td><td>2247</td><td>4</td><td>2229</td><td>2251</td><td>22</td><td>0</td><td>0</td><td>null</td><td>22</td><td>0</td><td>0</td><td>0</td><td>0</td></tr><tr><td>2015</td><td>10</td><td>25</td><td>7</td><td>563</td><td>&quot;N548AS&quot;</td><td>&quot;12892&quot;</td><td>&quot;14057&quot;</td><td>815</td><td>914</td><td>59</td><td>15</td><td>929</td><td>149</td><td>133</td><td>114</td><td>834</td><td>1123</td><td>4</td><td>1044</td><td>1127</td><td>43</td><td>0</td><td>0</td><td>null</td><td>0</td><td>0</td><td>43</td><td>0</td><td>0</td></tr><tr><td>2015</td><td>5</td><td>31</td><td>7</td><td>334</td><td>&quot;N786AS&quot;</td><td>&quot;SEA&quot;</td><td>&quot;SJC&quot;</td><td>1925</td><td>1914</td><td>-11</td><td>13</td><td>1927</td><td>116</td><td>129</td><td>112</td><td>697</td><td>2119</td><td>4</td><td>2121</td><td>2123</td><td>2</td><td>0</td><td>0</td><td>null</td><td>null</td><td>null</td><td>null</td><td>null</td><td>null</td></tr><tr><td>2015</td><td>10</td><td>25</td><td>7</td><td>792</td><td>&quot;N508AS&quot;</td><td>&quot;14747&quot;</td><td>&quot;11433&quot;</td><td>815</td><td>818</td><td>3</td><td>12</td><td>830</td><td>269</td><td>234</td><td>215</td><td>1927</td><td>1505</td><td>7</td><td>1544</td><td>1512</td><td>-32</td><td>0</td><td>0</td><td>null</td><td>null</td><td>null</td><td>null</td><td>null</td><td>null</td></tr><tr><td>&hellip;</td><td>&hellip;</td><td>&hellip;</td><td>&hellip;</td><td>&hellip;</td><td>&hellip;</td><td>&hellip;</td><td>&hellip;</td><td>&hellip;</td><td>&hellip;</td><td>&hellip;</td><td>&hellip;</td><td>&hellip;</td><td>&hellip;</td><td>&hellip;</td><td>&hellip;</td><td>&hellip;</td><td>&hellip;</td><td>&hellip;</td><td>&hellip;</td><td>&hellip;</td><td>&hellip;</td><td>&hellip;</td><td>&hellip;</td><td>&hellip;</td><td>&hellip;</td><td>&hellip;</td><td>&hellip;</td><td>&hellip;</td><td>&hellip;</td></tr><tr><td>2015</td><td>5</td><td>31</td><td>7</td><td>479</td><td>&quot;N615AS&quot;</td><td>&quot;LAX&quot;</td><td>&quot;SEA&quot;</td><td>1900</td><td>1858</td><td>-2</td><td>15</td><td>1913</td><td>154</td><td>135</td><td>115</td><td>954</td><td>2108</td><td>5</td><td>2134</td><td>2113</td><td>-21</td><td>0</td><td>0</td><td>null</td><td>null</td><td>null</td><td>null</td><td>null</td><td>null</td></tr><tr><td>2015</td><td>5</td><td>31</td><td>7</td><td>645</td><td>&quot;N315AS&quot;</td><td>&quot;PHX&quot;</td><td>&quot;SEA&quot;</td><td>1900</td><td>1859</td><td>-1</td><td>12</td><td>1911</td><td>176</td><td>163</td><td>139</td><td>1107</td><td>2130</td><td>12</td><td>2156</td><td>2142</td><td>-14</td><td>0</td><td>0</td><td>null</td><td>null</td><td>null</td><td>null</td><td>null</td><td>null</td></tr><tr><td>2015</td><td>5</td><td>31</td><td>7</td><td>153</td><td>&quot;N767AS&quot;</td><td>&quot;OTZ&quot;</td><td>&quot;OME&quot;</td><td>1902</td><td>1908</td><td>6</td><td>8</td><td>1916</td><td>42</td><td>43</td><td>32</td><td>183</td><td>1948</td><td>3</td><td>1944</td><td>1951</td><td>7</td><td>0</td><td>0</td><td>null</td><td>null</td><td>null</td><td>null</td><td>null</td><td>null</td></tr><tr><td>2015</td><td>5</td><td>31</td><td>7</td><td>45</td><td>&quot;N768AS&quot;</td><td>&quot;ANC&quot;</td><td>&quot;BET&quot;</td><td>1915</td><td>1908</td><td>-7</td><td>9</td><td>1917</td><td>70</td><td>72</td><td>59</td><td>399</td><td>2016</td><td>4</td><td>2025</td><td>2020</td><td>-5</td><td>0</td><td>0</td><td>null</td><td>null</td><td>null</td><td>null</td><td>null</td><td>null</td></tr><tr><td>2015</td><td>5</td><td>31</td><td>7</td><td>368</td><td>&quot;N323AS&quot;</td><td>&quot;SEA&quot;</td><td>&quot;SMF&quot;</td><td>1915</td><td>1908</td><td>-7</td><td>15</td><td>1923</td><td>101</td><td>113</td><td>90</td><td>605</td><td>2053</td><td>8</td><td>2056</td><td>2101</td><td>5</td><td>0</td><td>0</td><td>null</td><td>null</td><td>null</td><td>null</td><td>null</td><td>null</td></tr></tbody></table></div>"
            ]
          },
          "metadata": {},
          "execution_count": 7
        }
      ]
    },
    {
      "cell_type": "code",
      "execution_count": 8,
      "id": "c15bab81-cb79-453c-b424-2d5139905011",
      "metadata": {
        "tags": [],
        "id": "c15bab81-cb79-453c-b424-2d5139905011"
      },
      "outputs": [],
      "source": [
        "df1 = pl.read_parquet('/content/drive/MyDrive/polars/seccion03/multi_parquet/*.parquet')"
      ]
    },
    {
      "cell_type": "code",
      "execution_count": 9,
      "id": "3f402440-69fb-4fe0-b86f-8f1609bb7bab",
      "metadata": {
        "tags": [],
        "id": "3f402440-69fb-4fe0-b86f-8f1609bb7bab",
        "colab": {
          "base_uri": "https://localhost:8080/"
        },
        "outputId": "f072cdeb-f675-4e2f-b1a4-6fafb6c8b14f"
      },
      "outputs": [
        {
          "output_type": "stream",
          "name": "stdout",
          "text": [
            "shape: (898_505, 30)\n",
            "┌──────┬───────┬─────┬─────────────┬───┬──────────────┬──────────────┬──────────────┬──────────────┐\n",
            "│ YEAR ┆ MONTH ┆ DAY ┆ DAY_OF_WEEK ┆ … ┆ SECURITY_DEL ┆ AIRLINE_DELA ┆ LATE_AIRCRAF ┆ WEATHER_DELA │\n",
            "│ ---  ┆ ---   ┆ --- ┆ ---         ┆   ┆ AY           ┆ Y            ┆ T_DELAY      ┆ Y            │\n",
            "│ i32  ┆ i32   ┆ i32 ┆ i32         ┆   ┆ ---          ┆ ---          ┆ ---          ┆ ---          │\n",
            "│      ┆       ┆     ┆             ┆   ┆ i32          ┆ i32          ┆ i32          ┆ i32          │\n",
            "╞══════╪═══════╪═════╪═════════════╪═══╪══════════════╪══════════════╪══════════════╪══════════════╡\n",
            "│ 2015 ┆ 1     ┆ 1   ┆ 4           ┆ … ┆ null         ┆ null         ┆ null         ┆ null         │\n",
            "│ 2015 ┆ 10    ┆ 25  ┆ 7           ┆ … ┆ null         ┆ null         ┆ null         ┆ null         │\n",
            "│ 2015 ┆ 1     ┆ 1   ┆ 4           ┆ … ┆ null         ┆ null         ┆ null         ┆ null         │\n",
            "│ 2015 ┆ 10    ┆ 25  ┆ 7           ┆ … ┆ null         ┆ null         ┆ null         ┆ null         │\n",
            "│ 2015 ┆ 1     ┆ 1   ┆ 4           ┆ … ┆ null         ┆ null         ┆ null         ┆ null         │\n",
            "│ …    ┆ …     ┆ …   ┆ …           ┆ … ┆ …            ┆ …            ┆ …            ┆ …            │\n",
            "│ 2015 ┆ 5     ┆ 31  ┆ 7           ┆ … ┆ null         ┆ null         ┆ null         ┆ null         │\n",
            "│ 2015 ┆ 5     ┆ 31  ┆ 7           ┆ … ┆ null         ┆ null         ┆ null         ┆ null         │\n",
            "│ 2015 ┆ 5     ┆ 31  ┆ 7           ┆ … ┆ null         ┆ null         ┆ null         ┆ null         │\n",
            "│ 2015 ┆ 5     ┆ 31  ┆ 7           ┆ … ┆ null         ┆ null         ┆ null         ┆ null         │\n",
            "│ 2015 ┆ 5     ┆ 31  ┆ 7           ┆ … ┆ null         ┆ null         ┆ null         ┆ null         │\n",
            "└──────┴───────┴─────┴─────────────┴───┴──────────────┴──────────────┴──────────────┴──────────────┘\n"
          ]
        }
      ],
      "source": [
        "print(df1)"
      ]
    },
    {
      "cell_type": "markdown",
      "id": "7ed2f8f1-d07b-454a-b89d-6db9e08da9f6",
      "metadata": {
        "tags": [],
        "id": "7ed2f8f1-d07b-454a-b89d-6db9e08da9f6"
      },
      "source": [
        "La forma recomendada de leer un archivo parquet cuando existan varios archivos parquet en una sola carpeta es utilizar el parámetro `use_pyarrow=True`. El propio Polars en su documentación expresa que esta opción es más estable que la que la opción de parquet reader que trae Rust que es la opción por defecto."
      ]
    },
    {
      "cell_type": "markdown",
      "source": [],
      "metadata": {
        "id": "3-cXuMROBXdF"
      },
      "id": "3-cXuMROBXdF"
    },
    {
      "cell_type": "code",
      "execution_count": 10,
      "id": "e8e43809-8768-4104-ba68-8c4cc459145b",
      "metadata": {
        "tags": [],
        "id": "e8e43809-8768-4104-ba68-8c4cc459145b"
      },
      "outputs": [],
      "source": [
        "df2 = pl.read_parquet('/content/drive/MyDrive/polars/seccion03/multi_parquet/part-00001-.parquet', use_pyarrow=True)"
      ]
    },
    {
      "cell_type": "code",
      "execution_count": 11,
      "id": "d8ab4a6a-be27-4deb-84c5-dcd687f3b508",
      "metadata": {
        "tags": [],
        "colab": {
          "base_uri": "https://localhost:8080/"
        },
        "id": "d8ab4a6a-be27-4deb-84c5-dcd687f3b508",
        "outputId": "86574bd6-8ea1-47b4-a8c3-66355f7f85dd"
      },
      "outputs": [
        {
          "output_type": "stream",
          "name": "stdout",
          "text": [
            "shape: (725_984, 30)\n",
            "┌──────┬───────┬─────┬─────────────┬───┬──────────────┬──────────────┬──────────────┬──────────────┐\n",
            "│ YEAR ┆ MONTH ┆ DAY ┆ DAY_OF_WEEK ┆ … ┆ SECURITY_DEL ┆ AIRLINE_DELA ┆ LATE_AIRCRAF ┆ WEATHER_DELA │\n",
            "│ ---  ┆ ---   ┆ --- ┆ ---         ┆   ┆ AY           ┆ Y            ┆ T_DELAY      ┆ Y            │\n",
            "│ i32  ┆ i32   ┆ i32 ┆ i32         ┆   ┆ ---          ┆ ---          ┆ ---          ┆ ---          │\n",
            "│      ┆       ┆     ┆             ┆   ┆ i32          ┆ i32          ┆ i32          ┆ i32          │\n",
            "╞══════╪═══════╪═════╪═════════════╪═══╪══════════════╪══════════════╪══════════════╪══════════════╡\n",
            "│ 2015 ┆ 1     ┆ 1   ┆ 4           ┆ … ┆ null         ┆ null         ┆ null         ┆ null         │\n",
            "│ 2015 ┆ 10    ┆ 25  ┆ 7           ┆ … ┆ null         ┆ null         ┆ null         ┆ null         │\n",
            "│ 2015 ┆ 1     ┆ 1   ┆ 4           ┆ … ┆ null         ┆ null         ┆ null         ┆ null         │\n",
            "│ 2015 ┆ 10    ┆ 25  ┆ 7           ┆ … ┆ null         ┆ null         ┆ null         ┆ null         │\n",
            "│ 2015 ┆ 1     ┆ 1   ┆ 4           ┆ … ┆ null         ┆ null         ┆ null         ┆ null         │\n",
            "│ …    ┆ …     ┆ …   ┆ …           ┆ … ┆ …            ┆ …            ┆ …            ┆ …            │\n",
            "│ 2015 ┆ 8     ┆ 10  ┆ 1           ┆ … ┆ null         ┆ null         ┆ null         ┆ null         │\n",
            "│ 2015 ┆ 8     ┆ 10  ┆ 1           ┆ … ┆ null         ┆ null         ┆ null         ┆ null         │\n",
            "│ 2015 ┆ 8     ┆ 10  ┆ 1           ┆ … ┆ null         ┆ null         ┆ null         ┆ null         │\n",
            "│ 2015 ┆ 8     ┆ 10  ┆ 1           ┆ … ┆ null         ┆ null         ┆ null         ┆ null         │\n",
            "│ 2015 ┆ 8     ┆ 10  ┆ 1           ┆ … ┆ 0            ┆ 0            ┆ 74           ┆ 0            │\n",
            "└──────┴───────┴─────┴─────────────┴───┴──────────────┴──────────────┴──────────────┴──────────────┘\n"
          ]
        }
      ],
      "source": [
        "print(df2)"
      ]
    },
    {
      "cell_type": "code",
      "source": [
        "df5 = pl.read_parquet('/content/drive/MyDrive/polars/seccion03/multi_parquet', use_pyarrow=True, columns=['YEAR', 'MONTH', 'DAY'])"
      ],
      "metadata": {
        "id": "ToSFjFt3pjiy"
      },
      "id": "ToSFjFt3pjiy",
      "execution_count": 12,
      "outputs": []
    },
    {
      "cell_type": "code",
      "source": [
        "df5"
      ],
      "metadata": {
        "colab": {
          "base_uri": "https://localhost:8080/",
          "height": 443
        },
        "id": "GAGKmstupoZg",
        "outputId": "2d4e2952-2162-4c67-95ba-4737ea969b3a"
      },
      "id": "GAGKmstupoZg",
      "execution_count": 13,
      "outputs": [
        {
          "output_type": "execute_result",
          "data": {
            "text/plain": [
              "shape: (898_505, 3)\n",
              "┌──────┬───────┬─────┐\n",
              "│ YEAR ┆ MONTH ┆ DAY │\n",
              "│ ---  ┆ ---   ┆ --- │\n",
              "│ i32  ┆ i32   ┆ i32 │\n",
              "╞══════╪═══════╪═════╡\n",
              "│ 2015 ┆ 1     ┆ 1   │\n",
              "│ 2015 ┆ 10    ┆ 25  │\n",
              "│ 2015 ┆ 1     ┆ 1   │\n",
              "│ 2015 ┆ 10    ┆ 25  │\n",
              "│ 2015 ┆ 1     ┆ 1   │\n",
              "│ …    ┆ …     ┆ …   │\n",
              "│ 2015 ┆ 5     ┆ 31  │\n",
              "│ 2015 ┆ 5     ┆ 31  │\n",
              "│ 2015 ┆ 5     ┆ 31  │\n",
              "│ 2015 ┆ 5     ┆ 31  │\n",
              "│ 2015 ┆ 5     ┆ 31  │\n",
              "└──────┴───────┴─────┘"
            ],
            "text/html": [
              "<div><style>\n",
              ".dataframe > thead > tr,\n",
              ".dataframe > tbody > tr {\n",
              "  text-align: right;\n",
              "  white-space: pre-wrap;\n",
              "}\n",
              "</style>\n",
              "<small>shape: (898_505, 3)</small><table border=\"1\" class=\"dataframe\"><thead><tr><th>YEAR</th><th>MONTH</th><th>DAY</th></tr><tr><td>i32</td><td>i32</td><td>i32</td></tr></thead><tbody><tr><td>2015</td><td>1</td><td>1</td></tr><tr><td>2015</td><td>10</td><td>25</td></tr><tr><td>2015</td><td>1</td><td>1</td></tr><tr><td>2015</td><td>10</td><td>25</td></tr><tr><td>2015</td><td>1</td><td>1</td></tr><tr><td>&hellip;</td><td>&hellip;</td><td>&hellip;</td></tr><tr><td>2015</td><td>5</td><td>31</td></tr><tr><td>2015</td><td>5</td><td>31</td></tr><tr><td>2015</td><td>5</td><td>31</td></tr><tr><td>2015</td><td>5</td><td>31</td></tr><tr><td>2015</td><td>5</td><td>31</td></tr></tbody></table></div>"
            ]
          },
          "metadata": {},
          "execution_count": 13
        }
      ]
    },
    {
      "cell_type": "markdown",
      "id": "adb0e56c-b97e-42a6-a138-e77220152e44",
      "metadata": {
        "id": "adb0e56c-b97e-42a6-a138-e77220152e44"
      },
      "source": [
        "### Leer un archivo parquet que esté particionado.\n",
        "Aquí volvemos a usar el parámetro `use_pyarrow=True`."
      ]
    },
    {
      "cell_type": "code",
      "execution_count": 14,
      "id": "0c263dcc-3656-4c16-8849-635afb75012e",
      "metadata": {
        "tags": [],
        "id": "0c263dcc-3656-4c16-8849-635afb75012e"
      },
      "outputs": [],
      "source": [
        "df3 = pl.read_parquet('/content/drive/MyDrive/polars/seccion03/vuelos', use_pyarrow=True)"
      ]
    },
    {
      "cell_type": "code",
      "execution_count": 15,
      "id": "fdcb1c56-5731-4047-8d1b-4cdb9259359a",
      "metadata": {
        "tags": [],
        "id": "fdcb1c56-5731-4047-8d1b-4cdb9259359a",
        "colab": {
          "base_uri": "https://localhost:8080/"
        },
        "outputId": "ed621062-3c93-4229-de1b-6efbca626b7c"
      },
      "outputs": [
        {
          "output_type": "stream",
          "name": "stdout",
          "text": [
            "shape: (5_819_079, 31)\n",
            "┌──────┬───────┬─────┬─────────────┬───┬───────────────┬─────────────────┬───────────────┬─────────┐\n",
            "│ YEAR ┆ MONTH ┆ DAY ┆ DAY_OF_WEEK ┆ … ┆ AIRLINE_DELAY ┆ LATE_AIRCRAFT_D ┆ WEATHER_DELAY ┆ AIRLINE │\n",
            "│ ---  ┆ ---   ┆ --- ┆ ---         ┆   ┆ ---           ┆ ELAY            ┆ ---           ┆ ---     │\n",
            "│ i32  ┆ i32   ┆ i32 ┆ i32         ┆   ┆ i32           ┆ ---             ┆ i32           ┆ cat     │\n",
            "│      ┆       ┆     ┆             ┆   ┆               ┆ i32             ┆               ┆         │\n",
            "╞══════╪═══════╪═════╪═════════════╪═══╪═══════════════╪═════════════════╪═══════════════╪═════════╡\n",
            "│ 2015 ┆ 1     ┆ 1   ┆ 4           ┆ … ┆ null          ┆ null            ┆ null          ┆ AA      │\n",
            "│ 2015 ┆ 10    ┆ 25  ┆ 7           ┆ … ┆ null          ┆ null            ┆ null          ┆ AA      │\n",
            "│ 2015 ┆ 1     ┆ 1   ┆ 4           ┆ … ┆ null          ┆ null            ┆ null          ┆ AA      │\n",
            "│ 2015 ┆ 10    ┆ 25  ┆ 7           ┆ … ┆ null          ┆ null            ┆ null          ┆ AA      │\n",
            "│ 2015 ┆ 1     ┆ 1   ┆ 4           ┆ … ┆ null          ┆ null            ┆ null          ┆ AA      │\n",
            "│ …    ┆ …     ┆ …   ┆ …           ┆ … ┆ …             ┆ …               ┆ …             ┆ …       │\n",
            "│ 2015 ┆ 10    ┆ 25  ┆ 7           ┆ … ┆ null          ┆ null            ┆ null          ┆ WN      │\n",
            "│ 2015 ┆ 10    ┆ 25  ┆ 7           ┆ … ┆ null          ┆ null            ┆ null          ┆ WN      │\n",
            "│ 2015 ┆ 10    ┆ 25  ┆ 7           ┆ … ┆ null          ┆ null            ┆ null          ┆ WN      │\n",
            "│ 2015 ┆ 10    ┆ 25  ┆ 7           ┆ … ┆ null          ┆ null            ┆ null          ┆ WN      │\n",
            "│ 2015 ┆ 10    ┆ 25  ┆ 7           ┆ … ┆ null          ┆ null            ┆ null          ┆ WN      │\n",
            "└──────┴───────┴─────┴─────────────┴───┴───────────────┴─────────────────┴───────────────┴─────────┘\n"
          ]
        }
      ],
      "source": [
        "print(df3)  ### la ultima columna es la columna de particion"
      ]
    },
    {
      "cell_type": "markdown",
      "id": "4d35e841-ec10-4ff0-bdba-4c0e27930547",
      "metadata": {
        "id": "4d35e841-ec10-4ff0-bdba-4c0e27930547"
      },
      "source": [
        "### Seleccionar solo un conjunto de columnas del archivo parquet\n",
        "Si deseamos seleccionar un conjunto de columnas del archivo parquet que vamos a leer debemos usar el parámetro `columns`."
      ]
    },
    {
      "cell_type": "code",
      "execution_count": 16,
      "id": "9f25981c-8805-4377-91f6-1882be915159",
      "metadata": {
        "tags": [],
        "id": "9f25981c-8805-4377-91f6-1882be915159",
        "colab": {
          "base_uri": "https://localhost:8080/"
        },
        "outputId": "885144a3-33fc-4589-9679-083a171c3b86"
      },
      "outputs": [
        {
          "output_type": "stream",
          "name": "stdout",
          "text": [
            "shape: (5_819_079, 3)\n",
            "┌──────┬───────┬─────┐\n",
            "│ YEAR ┆ MONTH ┆ DAY │\n",
            "│ ---  ┆ ---   ┆ --- │\n",
            "│ i32  ┆ i32   ┆ i32 │\n",
            "╞══════╪═══════╪═════╡\n",
            "│ 2015 ┆ 1     ┆ 1   │\n",
            "│ 2015 ┆ 10    ┆ 25  │\n",
            "│ 2015 ┆ 1     ┆ 1   │\n",
            "│ 2015 ┆ 10    ┆ 25  │\n",
            "│ 2015 ┆ 1     ┆ 1   │\n",
            "│ …    ┆ …     ┆ …   │\n",
            "│ 2015 ┆ 10    ┆ 25  │\n",
            "│ 2015 ┆ 10    ┆ 25  │\n",
            "│ 2015 ┆ 10    ┆ 25  │\n",
            "│ 2015 ┆ 10    ┆ 25  │\n",
            "│ 2015 ┆ 10    ┆ 25  │\n",
            "└──────┴───────┴─────┘\n"
          ]
        }
      ],
      "source": [
        "df4 = pl.read_parquet('/content/drive/MyDrive/polars/seccion03/vuelos', use_pyarrow=True, columns=['YEAR', 'MONTH', 'DAY'])\n",
        "\n",
        "print(df4)"
      ]
    },
    {
      "cell_type": "markdown",
      "id": "c4bcb8b2-3dbd-487a-a611-429c7a966811",
      "metadata": {
        "id": "c4bcb8b2-3dbd-487a-a611-429c7a966811"
      },
      "source": [
        "## `scan_parquet`\n",
        "\n",
        "Lee de forma laizy desde un archivo(o archivos) parquet. Estos archivos pueden estar alojados localmente o en la nube. Esta función permite que el optimizador de consultas baje los predicados y las proyecciones al nivel del escaneo, lo que generalmente aumenta el rendimiento y reduce la sobrecarga de memoria."
      ]
    },
    {
      "cell_type": "code",
      "source": [
        "df5 = pl.scan_parquet('/content/drive/MyDrive/polars/multi_parquet/*.parquet') ## el *.parquet es para que lea todos los archivos parquet\n",
        "\n"
      ],
      "metadata": {
        "id": "YQy8y2U_5CyY"
      },
      "id": "YQy8y2U_5CyY",
      "execution_count": 18,
      "outputs": []
    },
    {
      "cell_type": "code",
      "source": [
        "import polars as pl\n",
        "import os\n",
        "\n",
        "# Check if the directory and files exist\n",
        "directory_path = ('/content/drive/MyDrive/polars/seccion03/multi_parquet/*.parquet')\n",
        "if not os.path.exists(directory_path):\n",
        "    print(f\"Error: Directory '{directory_path}' does not exist.\")\n",
        "else:\n",
        "    files = [f for f in os.listdir(directory_path) if f.endswith('.parquet')]\n",
        "    if not files:\n",
        "        print(f\"Error: No parquet files found in '{directory_path}'.\")\n",
        "    else:\n",
        "        # If directory and files exist, proceed with reading the data\n",
        "        df5 = pl.scan_parquet('/content/drive/MyDrive/polars/seccion03/multi_parquet*.parquet')\n",
        "        df5 = df5.collect()\n",
        "        print(df5)"
      ],
      "metadata": {
        "colab": {
          "base_uri": "https://localhost:8080/"
        },
        "id": "VUN29Fd4xCnV",
        "outputId": "2ce2d7af-ebff-4ac0-b3df-0e400eb30826"
      },
      "id": "VUN29Fd4xCnV",
      "execution_count": 29,
      "outputs": [
        {
          "output_type": "stream",
          "name": "stdout",
          "text": [
            "Error: Directory '/content/drive/MyDrive/polars/seccion03/multi_parquet/*.parquet' does not exist.\n"
          ]
        }
      ]
    },
    {
      "cell_type": "code",
      "execution_count": 31,
      "id": "1bbb4dc1-ba15-4028-83c0-de90b94d947a",
      "metadata": {
        "tags": [],
        "id": "1bbb4dc1-ba15-4028-83c0-de90b94d947a"
      },
      "outputs": [],
      "source": [
        "df6 = pl.scan_parquet('/content/drive/MyDrive/polars/multi_parquet/*.parquet')\n",
        "\n"
      ]
    },
    {
      "cell_type": "markdown",
      "id": "e52745a6-1410-4849-a129-51cffc2f4fe9",
      "metadata": {
        "id": "e52745a6-1410-4849-a129-51cffc2f4fe9"
      },
      "source": [
        "## `read_parquet_schema`\n",
        "\n",
        "Con esta función obtendremos un diccionario con el schema del archivo parquet sin necesidad de leerlo."
      ]
    },
    {
      "cell_type": "markdown",
      "source": [
        "## Correcto"
      ],
      "metadata": {
        "id": "J9iRUuG79gvd"
      },
      "id": "J9iRUuG79gvd"
    },
    {
      "cell_type": "code",
      "source": [
        "import polars as pl\n",
        "import glob\n",
        "\n",
        "# Use glob to expand the wildcard and get a list of parquet files\n",
        "files = glob.glob('/content/drive/MyDrive/polars/multi_parquet/*.parquet')\n",
        "\n",
        "# Check if any parquet files were found\n",
        "if files:\n",
        "  # Read the schema of the first parquet file\n",
        "  schema = pl.read_parquet_schema(files[0])\n",
        "\n",
        "  print(schema)\n",
        "else:\n",
        "  print(\"No parquet files found in the specified directory.\")"
      ],
      "metadata": {
        "colab": {
          "base_uri": "https://localhost:8080/"
        },
        "id": "BppdEr269X9b",
        "outputId": "5e4907dc-2a08-4007-fc43-6772d336137a"
      },
      "id": "BppdEr269X9b",
      "execution_count": 32,
      "outputs": [
        {
          "output_type": "stream",
          "name": "stdout",
          "text": [
            "No parquet files found in the specified directory.\n"
          ]
        }
      ]
    },
    {
      "cell_type": "code",
      "source": [
        "##schema"
      ],
      "metadata": {
        "id": "cbkbL-ZA9bgt"
      },
      "id": "cbkbL-ZA9bgt",
      "execution_count": 34,
      "outputs": []
    },
    {
      "cell_type": "code",
      "execution_count": null,
      "id": "90009a79-8872-45a4-9cc9-69eb9dd332aa",
      "metadata": {
        "tags": [],
        "id": "90009a79-8872-45a4-9cc9-69eb9dd332aa"
      },
      "outputs": [],
      "source": [
        "###schema = pl.read_parquet_schema('/content/drive/MyDrive/polars/multi_parquet/*.parquet')\n",
        "\n",
        "##schema"
      ]
    },
    {
      "cell_type": "markdown",
      "id": "60b9944b-8c12-444b-b131-ee09451d78f7",
      "metadata": {
        "id": "60b9944b-8c12-444b-b131-ee09451d78f7"
      },
      "source": [
        "## `write_parquet`\n",
        "\n",
        "Con esta función escribiremos un archivo parquet. Para este ejemplo usaremos el parámetro `use_pyarrow=True` lo cual utilizará la implementación de parquet C++ en vez de la implementación de parquet Rust."
      ]
    },
    {
      "cell_type": "code",
      "execution_count": 35,
      "id": "b29f5b1f-8e4b-41e1-bdb1-469d6ac92d3b",
      "metadata": {
        "tags": [],
        "id": "b29f5b1f-8e4b-41e1-bdb1-469d6ac92d3b"
      },
      "outputs": [],
      "source": [
        "df.write_parquet('/content/drive/MyDrive/polars/seccion03/parquet/salida.parquet', use_pyarrow=True)"
      ]
    },
    {
      "cell_type": "code",
      "source": [
        "df3 = pl.read_parquet('/content/drive/MyDrive/polars/seccion03/parquet/salida.parquet')"
      ],
      "metadata": {
        "id": "D1jf6Wcb9wmf"
      },
      "id": "D1jf6Wcb9wmf",
      "execution_count": 36,
      "outputs": []
    },
    {
      "cell_type": "code",
      "source": [
        "df3"
      ],
      "metadata": {
        "colab": {
          "base_uri": "https://localhost:8080/",
          "height": 949
        },
        "id": "EunRxTMu-yK3",
        "outputId": "96568b6d-97f8-4fda-dc17-2a41889c7841"
      },
      "id": "EunRxTMu-yK3",
      "execution_count": 37,
      "outputs": [
        {
          "output_type": "execute_result",
          "data": {
            "text/plain": [
              "shape: (48_137, 16)\n",
              "┌───────────┬───────────┬───────────┬───────────┬───┬───────────┬───────────┬───────────┬──────────┐\n",
              "│ video_id  ┆ trending_ ┆ title     ┆ channel_t ┆ … ┆ comments_ ┆ ratings_d ┆ video_err ┆ descript │\n",
              "│ ---       ┆ date      ┆ ---       ┆ itle      ┆   ┆ disabled  ┆ isabled   ┆ or_or_rem ┆ ion      │\n",
              "│ str       ┆ ---       ┆ str       ┆ ---       ┆   ┆ ---       ┆ ---       ┆ oved      ┆ ---      │\n",
              "│           ┆ str       ┆           ┆ str       ┆   ┆ str       ┆ str       ┆ ---       ┆ str      │\n",
              "│           ┆           ┆           ┆           ┆   ┆           ┆           ┆ str       ┆          │\n",
              "╞═══════════╪═══════════╪═══════════╪═══════════╪═══╪═══════════╪═══════════╪═══════════╪══════════╡\n",
              "│ 2kyS6SvSY ┆ 17.14.11  ┆ WE WANT   ┆ CaseyNeis ┆ … ┆ False     ┆ False     ┆ False     ┆ SHANTELL │\n",
              "│ SE        ┆           ┆ TO TALK   ┆ tat       ┆   ┆           ┆           ┆           ┆ 'S       │\n",
              "│           ┆           ┆ ABOUT OUR ┆           ┆   ┆           ┆           ┆           ┆ CHANNEL  │\n",
              "│           ┆           ┆ MARR…     ┆           ┆   ┆           ┆           ┆           ┆ - https: │\n",
              "│           ┆           ┆           ┆           ┆   ┆           ┆           ┆           ┆ //w…     │\n",
              "│ 1ZAPwfrtA ┆ 17.14.11  ┆ The Trump ┆ LastWeekT ┆ … ┆ False     ┆ False     ┆ False     ┆ One year │\n",
              "│ FY        ┆           ┆ Presidenc ┆ onight    ┆   ┆           ┆           ┆           ┆ after    │\n",
              "│           ┆           ┆ y: Last   ┆           ┆   ┆           ┆           ┆           ┆ the pres │\n",
              "│           ┆           ┆ Wee…      ┆           ┆   ┆           ┆           ┆           ┆ identia… │\n",
              "│ 5qpjK5DgC ┆ 17.14.11  ┆ Racist    ┆ Rudy      ┆ … ┆ False     ┆ False     ┆ False     ┆ WATCH MY │\n",
              "│ t4        ┆           ┆ Superman  ┆ Mancuso   ┆   ┆           ┆           ┆           ┆ PREVIOUS │\n",
              "│           ┆           ┆ | Rudy    ┆           ┆   ┆           ┆           ┆           ┆ VIDEO ▶  │\n",
              "│           ┆           ┆ Mancuso…  ┆           ┆   ┆           ┆           ┆           ┆ \\n\\n…    │\n",
              "│ puqaWrEC7 ┆ 17.14.11  ┆ Nickelbac ┆ Good      ┆ … ┆ False     ┆ False     ┆ False     ┆ Today we │\n",
              "│ tY        ┆           ┆ k Lyrics: ┆ Mythical  ┆   ┆           ┆           ┆           ┆ find out │\n",
              "│           ┆           ┆ Real or   ┆ Morning   ┆   ┆           ┆           ┆           ┆ if Link  │\n",
              "│           ┆           ┆ Fak…      ┆           ┆   ┆           ┆           ┆           ┆ is a…    │\n",
              "│ d380meD0W ┆ 17.14.11  ┆ I Dare    ┆ nigahiga  ┆ … ┆ False     ┆ False     ┆ False     ┆ I know   │\n",
              "│ 0M        ┆           ┆ You:      ┆           ┆   ┆           ┆           ┆           ┆ it's     │\n",
              "│           ┆           ┆ GOING     ┆           ┆   ┆           ┆           ┆           ┆ been a   │\n",
              "│           ┆           ┆ BALD!?    ┆           ┆   ┆           ┆           ┆           ┆ while    │\n",
              "│           ┆           ┆           ┆           ┆   ┆           ┆           ┆           ┆ since…   │\n",
              "│ …         ┆ …         ┆ …         ┆ …         ┆ … ┆ …         ┆ …         ┆ …         ┆ …        │\n",
              "│ BZt0qjTWN ┆ 18.14.06  ┆ The Cat   ┆ AaronsAni ┆ … ┆ False     ┆ False     ┆ False     ┆ The Cat  │\n",
              "│ hw        ┆           ┆ Who       ┆ mals      ┆   ┆           ┆           ┆           ┆ Who      │\n",
              "│           ┆           ┆ Caught    ┆           ┆   ┆           ┆           ┆           ┆ Caught   │\n",
              "│           ┆           ┆ the Laser ┆           ┆   ┆           ┆           ┆           ┆ the      │\n",
              "│           ┆           ┆           ┆           ┆   ┆           ┆           ┆           ┆ Laser -… │\n",
              "│ 1h7KV2sjU ┆ 18.14.06  ┆ True      ┆ zefrank1  ┆ … ┆ False     ┆ False     ┆ False     ┆ null     │\n",
              "│ WY        ┆           ┆ Facts :   ┆           ┆   ┆           ┆           ┆           ┆          │\n",
              "│           ┆           ┆ Ant       ┆           ┆   ┆           ┆           ┆           ┆          │\n",
              "│           ┆           ┆ Mutualism ┆           ┆   ┆           ┆           ┆           ┆          │\n",
              "│ D6Oy4Lfoq ┆ 18.14.06  ┆ I GAVE    ┆ Brad      ┆ … ┆ False     ┆ False     ┆ False     ┆ I had so │\n",
              "│ sU        ┆           ┆ SAFIYA    ┆ Mondo     ┆   ┆           ┆           ┆           ┆ much fun │\n",
              "│           ┆           ┆ NYGAARD A ┆           ┆   ┆           ┆           ┆           ┆ transfor │\n",
              "│           ┆           ┆ PERFEC…   ┆           ┆   ┆           ┆           ┆           ┆ ming…    │\n",
              "│ oV0zkMe1K ┆ 18.14.06  ┆ How Black ┆ How It    ┆ … ┆ False     ┆ False     ┆ False     ┆ How      │\n",
              "│ 8s        ┆           ┆ Panther   ┆ Should    ┆   ┆           ┆           ┆           ┆ Black    │\n",
              "│           ┆           ┆ Should    ┆ Have      ┆   ┆           ┆           ┆           ┆ Panther  │\n",
              "│           ┆           ┆ Have …    ┆ Ended     ┆   ┆           ┆           ┆           ┆ Should   │\n",
              "│           ┆           ┆           ┆           ┆   ┆           ┆           ┆           ┆ Have …   │\n",
              "│ ooyjaVdt- ┆ 18.14.06  ┆ Official  ┆ Call of   ┆ … ┆ False     ┆ False     ┆ False     ┆ Call of  │\n",
              "│ jA        ┆           ┆ Call of   ┆ Duty      ┆   ┆           ┆           ┆           ┆ Duty:    │\n",
              "│           ┆           ┆ Duty®:    ┆           ┆   ┆           ┆           ┆           ┆ Black    │\n",
              "│           ┆           ┆ Black …   ┆           ┆   ┆           ┆           ┆           ┆ Ops 4    │\n",
              "│           ┆           ┆           ┆           ┆   ┆           ┆           ┆           ┆ Mult…    │\n",
              "└───────────┴───────────┴───────────┴───────────┴───┴───────────┴───────────┴───────────┴──────────┘"
            ],
            "text/html": [
              "<div><style>\n",
              ".dataframe > thead > tr,\n",
              ".dataframe > tbody > tr {\n",
              "  text-align: right;\n",
              "  white-space: pre-wrap;\n",
              "}\n",
              "</style>\n",
              "<small>shape: (48_137, 16)</small><table border=\"1\" class=\"dataframe\"><thead><tr><th>video_id</th><th>trending_date</th><th>title</th><th>channel_title</th><th>category_id</th><th>publish_time</th><th>tags</th><th>views</th><th>likes</th><th>dislikes</th><th>comment_count</th><th>thumbnail_link</th><th>comments_disabled</th><th>ratings_disabled</th><th>video_error_or_removed</th><th>description</th></tr><tr><td>str</td><td>str</td><td>str</td><td>str</td><td>str</td><td>datetime[ns]</td><td>str</td><td>i32</td><td>i32</td><td>i32</td><td>i32</td><td>str</td><td>str</td><td>str</td><td>str</td><td>str</td></tr></thead><tbody><tr><td>&quot;2kyS6SvSYSE&quot;</td><td>&quot;17.14.11&quot;</td><td>&quot;WE WANT TO TALK ABOUT OUR MARR…</td><td>&quot;CaseyNeistat&quot;</td><td>&quot;22&quot;</td><td>2017-11-13 17:13:01</td><td>&quot;SHANtell martin&quot;</td><td>748374</td><td>57527</td><td>2966</td><td>15954</td><td>&quot;https://i.ytimg.com/vi/2kyS6Sv…</td><td>&quot;False&quot;</td><td>&quot;False&quot;</td><td>&quot;False&quot;</td><td>&quot;SHANTELL&#x27;S CHANNEL - https://w…</td></tr><tr><td>&quot;1ZAPwfrtAFY&quot;</td><td>&quot;17.14.11&quot;</td><td>&quot;The Trump Presidency: Last Wee…</td><td>&quot;LastWeekTonight&quot;</td><td>&quot;24&quot;</td><td>2017-11-13 07:30:00</td><td>&quot;&quot;last week tonight trump presi…</td><td>2418783</td><td>97185</td><td>6146</td><td>12703</td><td>&quot;https://i.ytimg.com/vi/1ZAPwfr…</td><td>&quot;False&quot;</td><td>&quot;False&quot;</td><td>&quot;False&quot;</td><td>&quot;One year after the presidentia…</td></tr><tr><td>&quot;5qpjK5DgCt4&quot;</td><td>&quot;17.14.11&quot;</td><td>&quot;Racist Superman | Rudy Mancuso…</td><td>&quot;Rudy Mancuso&quot;</td><td>&quot;23&quot;</td><td>2017-11-12 19:05:24</td><td>&quot;&quot;racist superman&quot;|&quot;rudy&quot;|&quot;manc…</td><td>3191434</td><td>146033</td><td>5339</td><td>8181</td><td>&quot;https://i.ytimg.com/vi/5qpjK5D…</td><td>&quot;False&quot;</td><td>&quot;False&quot;</td><td>&quot;False&quot;</td><td>&quot;WATCH MY PREVIOUS VIDEO ▶ \\n\\n…</td></tr><tr><td>&quot;puqaWrEC7tY&quot;</td><td>&quot;17.14.11&quot;</td><td>&quot;Nickelback Lyrics: Real or Fak…</td><td>&quot;Good Mythical Morning&quot;</td><td>&quot;24&quot;</td><td>2017-11-13 11:00:04</td><td>&quot;&quot;rhett and link&quot;|&quot;gmm&quot;|&quot;good m…</td><td>343168</td><td>10172</td><td>666</td><td>2146</td><td>&quot;https://i.ytimg.com/vi/puqaWrE…</td><td>&quot;False&quot;</td><td>&quot;False&quot;</td><td>&quot;False&quot;</td><td>&quot;Today we find out if Link is a…</td></tr><tr><td>&quot;d380meD0W0M&quot;</td><td>&quot;17.14.11&quot;</td><td>&quot;I Dare You: GOING BALD!?&quot;</td><td>&quot;nigahiga&quot;</td><td>&quot;24&quot;</td><td>2017-11-12 18:01:41</td><td>&quot;&quot;ryan&quot;|&quot;higa&quot;|&quot;higatv&quot;|&quot;nigahi…</td><td>2095731</td><td>132235</td><td>1989</td><td>17518</td><td>&quot;https://i.ytimg.com/vi/d380meD…</td><td>&quot;False&quot;</td><td>&quot;False&quot;</td><td>&quot;False&quot;</td><td>&quot;I know it&#x27;s been a while since…</td></tr><tr><td>&hellip;</td><td>&hellip;</td><td>&hellip;</td><td>&hellip;</td><td>&hellip;</td><td>&hellip;</td><td>&hellip;</td><td>&hellip;</td><td>&hellip;</td><td>&hellip;</td><td>&hellip;</td><td>&hellip;</td><td>&hellip;</td><td>&hellip;</td><td>&hellip;</td><td>&hellip;</td></tr><tr><td>&quot;BZt0qjTWNhw&quot;</td><td>&quot;18.14.06&quot;</td><td>&quot;The Cat Who Caught the Laser&quot;</td><td>&quot;AaronsAnimals&quot;</td><td>&quot;15&quot;</td><td>2018-05-18 13:00:04</td><td>&quot;&quot;aarons animals&quot;|&quot;aarons&quot;|&quot;ani…</td><td>1685609</td><td>38160</td><td>1385</td><td>2657</td><td>&quot;https://i.ytimg.com/vi/BZt0qjT…</td><td>&quot;False&quot;</td><td>&quot;False&quot;</td><td>&quot;False&quot;</td><td>&quot;The Cat Who Caught the Laser -…</td></tr><tr><td>&quot;1h7KV2sjUWY&quot;</td><td>&quot;18.14.06&quot;</td><td>&quot;True Facts : Ant Mutualism&quot;</td><td>&quot;zefrank1&quot;</td><td>&quot;22&quot;</td><td>2018-05-18 01:00:06</td><td>&quot;[none]&quot;</td><td>1064798</td><td>60008</td><td>382</td><td>3936</td><td>&quot;https://i.ytimg.com/vi/1h7KV2s…</td><td>&quot;False&quot;</td><td>&quot;False&quot;</td><td>&quot;False&quot;</td><td>null</td></tr><tr><td>&quot;D6Oy4LfoqsU&quot;</td><td>&quot;18.14.06&quot;</td><td>&quot;I GAVE SAFIYA NYGAARD A PERFEC…</td><td>&quot;Brad Mondo&quot;</td><td>&quot;24&quot;</td><td>2018-05-18 17:34:22</td><td>&quot;&quot;I gave safiya nygaard a perfe…</td><td>1066451</td><td>48068</td><td>1032</td><td>3992</td><td>&quot;https://i.ytimg.com/vi/D6Oy4Lf…</td><td>&quot;False&quot;</td><td>&quot;False&quot;</td><td>&quot;False&quot;</td><td>&quot;I had so much fun transforming…</td></tr><tr><td>&quot;oV0zkMe1K8s&quot;</td><td>&quot;18.14.06&quot;</td><td>&quot;How Black Panther Should Have …</td><td>&quot;How It Should Have Ended&quot;</td><td>&quot;1&quot;</td><td>2018-05-17 17:00:04</td><td>&quot;&quot;Black Panther&quot;|&quot;HISHE&quot;|&quot;Marve…</td><td>5660813</td><td>192957</td><td>2846</td><td>13088</td><td>&quot;https://i.ytimg.com/vi/oV0zkMe…</td><td>&quot;False&quot;</td><td>&quot;False&quot;</td><td>&quot;False&quot;</td><td>&quot;How Black Panther Should Have …</td></tr><tr><td>&quot;ooyjaVdt-jA&quot;</td><td>&quot;18.14.06&quot;</td><td>&quot;Official Call of Duty®: Black …</td><td>&quot;Call of Duty&quot;</td><td>&quot;20&quot;</td><td>2018-05-17 17:09:38</td><td>&quot;&quot;call of duty&quot;|&quot;cod&quot;|&quot;activisi…</td><td>10306119</td><td>357079</td><td>212976</td><td>144795</td><td>&quot;https://i.ytimg.com/vi/ooyjaVd…</td><td>&quot;False&quot;</td><td>&quot;False&quot;</td><td>&quot;False&quot;</td><td>&quot;Call of Duty: Black Ops 4 Mult…</td></tr></tbody></table></div>"
            ]
          },
          "metadata": {},
          "execution_count": 37
        }
      ]
    },
    {
      "cell_type": "markdown",
      "id": "80d297b4-0330-4bf0-be83-66f3a1321cf7",
      "metadata": {
        "id": "80d297b4-0330-4bf0-be83-66f3a1321cf7"
      },
      "source": [
        "A continuación vamos a escribir un parquet particionado, para ello vamos a utilizar el `df3` que previamente hemos creado y lo escribiremos particionado por la columna `MONTH`. Por último, cambiaremos el formato de compresión a snappy con el parámetro `compression='snappy'`.\n",
        "\n",
        "Respecto a la compresión en su documentación Polars nos dice lo siguiente:\n",
        "- Seleccionar `zstd` (opción por defecto) par un un buen desempeño de compresión.\n",
        "- Seleccionar `lz4` para una rápida compresión/descompresión.\n",
        "- Seleccionar `snappy` para garantizar una mayor compatibilidad con lectores de parquet más antigüos"
      ]
    },
    {
      "cell_type": "code",
      "source": [
        "import polars as pl\n",
        "\n",
        "# Create a sample DataFrame\n",
        "data = {\"col1\": [1, 2, 3], \"col2\": [\"a\", \"b\", \"c\"], \"MONTH\":[1,2,3]}\n",
        "df = pl.DataFrame(data)\n",
        "\n",
        "# Create df5 based on 'df' with some operations, for example, filtering\n",
        "df5 = df.lazy().filter(pl.col(\"col1\") > 1)\n",
        "\n",
        "# Now you can collect and write to parquet\n",
        "df5.collect().write_parquet(\n",
        "    '/content/drive/MyDrive/polars/seccion04/vuelos_particionado',\n",
        "    use_pyarrow=True,\n",
        "    pyarrow_options={\"partition_cols\": ['MONTH']},\n",
        "    compression='snappy'\n",
        ")"
      ],
      "metadata": {
        "id": "hsjEhu04y9Jd"
      },
      "id": "hsjEhu04y9Jd",
      "execution_count": 41,
      "outputs": []
    },
    {
      "cell_type": "code",
      "source": [
        "df5"
      ],
      "metadata": {
        "colab": {
          "base_uri": "https://localhost:8080/",
          "height": 263
        },
        "id": "TTDz-SMeCWZV",
        "outputId": "035acb39-7dab-4ad0-9492-0145fc71932e"
      },
      "id": "TTDz-SMeCWZV",
      "execution_count": 42,
      "outputs": [
        {
          "output_type": "execute_result",
          "data": {
            "text/plain": [
              "<LazyFrame at 0x7E8312C24940>"
            ],
            "text/html": [
              "<h4>NAIVE QUERY PLAN</h4><p>run <b>LazyFrame.show_graph()</b> to see the optimized version</p><?xml version=\"1.0\" encoding=\"UTF-8\" standalone=\"no\"?>\n",
              "<!DOCTYPE svg PUBLIC \"-//W3C//DTD SVG 1.1//EN\"\n",
              " \"http://www.w3.org/Graphics/SVG/1.1/DTD/svg11.dtd\">\n",
              "<!-- Generated by graphviz version 2.43.0 (0)\n",
              " -->\n",
              "<!-- Title: polars_query Pages: 1 -->\n",
              "<svg width=\"206pt\" height=\"133pt\"\n",
              " viewBox=\"0.00 0.00 206.00 133.00\" xmlns=\"http://www.w3.org/2000/svg\" xmlns:xlink=\"http://www.w3.org/1999/xlink\">\n",
              "<g id=\"graph0\" class=\"graph\" transform=\"scale(1 1) rotate(0) translate(4 129)\">\n",
              "<title>polars_query</title>\n",
              "<polygon fill=\"white\" stroke=\"transparent\" points=\"-4,4 -4,-129 202,-129 202,4 -4,4\"/>\n",
              "<!-- p1 -->\n",
              "<g id=\"node1\" class=\"node\">\n",
              "<title>p1</title>\n",
              "<polygon fill=\"none\" stroke=\"black\" points=\"198,-125 0,-125 0,-89 198,-89 198,-125\"/>\n",
              "<text text-anchor=\"middle\" x=\"99\" y=\"-103.3\" font-family=\"Times,serif\" font-size=\"14.00\">FILTER BY [(col(&quot;col1&quot;)) &gt; (1)]</text>\n",
              "</g>\n",
              "<!-- p2 -->\n",
              "<g id=\"node2\" class=\"node\">\n",
              "<title>p2</title>\n",
              "<polygon fill=\"none\" stroke=\"black\" points=\"128.5,-53 69.5,-53 69.5,0 128.5,0 128.5,-53\"/>\n",
              "<text text-anchor=\"middle\" x=\"99\" y=\"-37.8\" font-family=\"Times,serif\" font-size=\"14.00\">TABLE</text>\n",
              "<text text-anchor=\"middle\" x=\"99\" y=\"-22.8\" font-family=\"Times,serif\" font-size=\"14.00\">π */3;</text>\n",
              "<text text-anchor=\"middle\" x=\"99\" y=\"-7.8\" font-family=\"Times,serif\" font-size=\"14.00\">σ None</text>\n",
              "</g>\n",
              "<!-- p1&#45;&#45;p2 -->\n",
              "<g id=\"edge1\" class=\"edge\">\n",
              "<title>p1&#45;&#45;p2</title>\n",
              "<path fill=\"none\" stroke=\"black\" d=\"M99,-88.97C99,-78.51 99,-64.9 99,-53.16\"/>\n",
              "</g>\n",
              "</g>\n",
              "</svg>\n"
            ]
          },
          "metadata": {},
          "execution_count": 42
        }
      ]
    },
    {
      "cell_type": "markdown",
      "id": "c77dcccf-fea6-45a1-9a38-5f0fd7c10b05",
      "metadata": {
        "id": "c77dcccf-fea6-45a1-9a38-5f0fd7c10b05"
      },
      "source": [
        "## `sink_parquet`\n",
        "\n",
        "Esta función nos permitirá evaluar la query que define al lazyframe y escribirla en un archivo parquet. Esto permite que los resultados que sean más grandes que la memoria RAM puedan ser escribidos en disco."
      ]
    },
    {
      "cell_type": "code",
      "source": [
        "import os\n",
        "\n",
        "# Create the directory if it doesn't exist\n",
        "os.makedirs('content/drive/MyDrive/polars/', exist_ok=True)\n",
        "\n",
        "# Now try writing the Parquet file again\n",
        "df5.sink_parquet('content/drive/MyDrive/polars/salida_lazy.parquet')"
      ],
      "metadata": {
        "id": "xCc3RMOlzPT1"
      },
      "id": "xCc3RMOlzPT1",
      "execution_count": 44,
      "outputs": []
    },
    {
      "cell_type": "code",
      "source": [
        "df5"
      ],
      "metadata": {
        "colab": {
          "base_uri": "https://localhost:8080/",
          "height": 263
        },
        "id": "kNyOizcsCi5_",
        "outputId": "29bcbc2d-412b-4af1-bbdd-ca8063222134"
      },
      "id": "kNyOizcsCi5_",
      "execution_count": 45,
      "outputs": [
        {
          "output_type": "execute_result",
          "data": {
            "text/plain": [
              "<LazyFrame at 0x7E8312C24940>"
            ],
            "text/html": [
              "<h4>NAIVE QUERY PLAN</h4><p>run <b>LazyFrame.show_graph()</b> to see the optimized version</p><?xml version=\"1.0\" encoding=\"UTF-8\" standalone=\"no\"?>\n",
              "<!DOCTYPE svg PUBLIC \"-//W3C//DTD SVG 1.1//EN\"\n",
              " \"http://www.w3.org/Graphics/SVG/1.1/DTD/svg11.dtd\">\n",
              "<!-- Generated by graphviz version 2.43.0 (0)\n",
              " -->\n",
              "<!-- Title: polars_query Pages: 1 -->\n",
              "<svg width=\"206pt\" height=\"133pt\"\n",
              " viewBox=\"0.00 0.00 206.00 133.00\" xmlns=\"http://www.w3.org/2000/svg\" xmlns:xlink=\"http://www.w3.org/1999/xlink\">\n",
              "<g id=\"graph0\" class=\"graph\" transform=\"scale(1 1) rotate(0) translate(4 129)\">\n",
              "<title>polars_query</title>\n",
              "<polygon fill=\"white\" stroke=\"transparent\" points=\"-4,4 -4,-129 202,-129 202,4 -4,4\"/>\n",
              "<!-- p1 -->\n",
              "<g id=\"node1\" class=\"node\">\n",
              "<title>p1</title>\n",
              "<polygon fill=\"none\" stroke=\"black\" points=\"198,-125 0,-125 0,-89 198,-89 198,-125\"/>\n",
              "<text text-anchor=\"middle\" x=\"99\" y=\"-103.3\" font-family=\"Times,serif\" font-size=\"14.00\">FILTER BY [(col(&quot;col1&quot;)) &gt; (1)]</text>\n",
              "</g>\n",
              "<!-- p2 -->\n",
              "<g id=\"node2\" class=\"node\">\n",
              "<title>p2</title>\n",
              "<polygon fill=\"none\" stroke=\"black\" points=\"128.5,-53 69.5,-53 69.5,0 128.5,0 128.5,-53\"/>\n",
              "<text text-anchor=\"middle\" x=\"99\" y=\"-37.8\" font-family=\"Times,serif\" font-size=\"14.00\">TABLE</text>\n",
              "<text text-anchor=\"middle\" x=\"99\" y=\"-22.8\" font-family=\"Times,serif\" font-size=\"14.00\">π */3;</text>\n",
              "<text text-anchor=\"middle\" x=\"99\" y=\"-7.8\" font-family=\"Times,serif\" font-size=\"14.00\">σ None</text>\n",
              "</g>\n",
              "<!-- p1&#45;&#45;p2 -->\n",
              "<g id=\"edge1\" class=\"edge\">\n",
              "<title>p1&#45;&#45;p2</title>\n",
              "<path fill=\"none\" stroke=\"black\" d=\"M99,-88.97C99,-78.51 99,-64.9 99,-53.16\"/>\n",
              "</g>\n",
              "</g>\n",
              "</svg>\n"
            ]
          },
          "metadata": {},
          "execution_count": 45
        }
      ]
    }
  ],
  "metadata": {
    "kernelspec": {
      "display_name": "Python 3 (ipykernel)",
      "language": "python",
      "name": "python3"
    },
    "language_info": {
      "codemirror_mode": {
        "name": "ipython",
        "version": 3
      },
      "file_extension": ".py",
      "mimetype": "text/x-python",
      "name": "python",
      "nbconvert_exporter": "python",
      "pygments_lexer": "ipython3",
      "version": "3.9.6"
    },
    "colab": {
      "provenance": []
    }
  },
  "nbformat": 4,
  "nbformat_minor": 5
}