{
  "cells": [
    {
      "cell_type": "markdown",
      "id": "b88d38dd-0362-45b0-9763-b92091971115",
      "metadata": {
        "id": "b88d38dd-0362-45b0-9763-b92091971115"
      },
      "source": [
        "# Lectura 17: Excel"
      ]
    },
    {
      "cell_type": "markdown",
      "id": "d26c84fa-bc4c-49ba-ae29-6b307181b0c5",
      "metadata": {
        "id": "d26c84fa-bc4c-49ba-ae29-6b307181b0c5"
      },
      "source": [
        "## `read_excel`\n",
        "\n",
        "Esta función permite leer un archivo excel en un DataFrame de Polars."
      ]
    },
    {
      "cell_type": "code",
      "source": [
        "import polars as pl"
      ],
      "metadata": {
        "id": "2z7DyKH4OQe9"
      },
      "id": "2z7DyKH4OQe9",
      "execution_count": 1,
      "outputs": []
    },
    {
      "cell_type": "code",
      "source": [
        "from google.colab import drive\n",
        "drive.mount('/content/drive')"
      ],
      "metadata": {
        "colab": {
          "base_uri": "https://localhost:8080/"
        },
        "id": "3O4PcPKlHWC5",
        "outputId": "5537ac83-5a8a-40a8-d74f-82680a6146af"
      },
      "id": "3O4PcPKlHWC5",
      "execution_count": 3,
      "outputs": [
        {
          "output_type": "stream",
          "name": "stdout",
          "text": [
            "Mounted at /content/drive\n"
          ]
        }
      ]
    },
    {
      "cell_type": "code",
      "source": [
        "!pip install fastexcel"
      ],
      "metadata": {
        "colab": {
          "base_uri": "https://localhost:8080/"
        },
        "id": "cuH0NXns3Y1o",
        "outputId": "b1f8ee50-647e-42bd-e724-e4b9db6e11df"
      },
      "id": "cuH0NXns3Y1o",
      "execution_count": 5,
      "outputs": [
        {
          "output_type": "stream",
          "name": "stdout",
          "text": [
            "Collecting fastexcel\n",
            "  Downloading fastexcel-0.11.6-cp38-abi3-manylinux_2_17_x86_64.manylinux2014_x86_64.whl.metadata (2.8 kB)\n",
            "Requirement already satisfied: pyarrow>=8.0.0 in /usr/local/lib/python3.10/dist-packages (from fastexcel) (16.1.0)\n",
            "Requirement already satisfied: numpy>=1.16.6 in /usr/local/lib/python3.10/dist-packages (from pyarrow>=8.0.0->fastexcel) (1.26.4)\n",
            "Downloading fastexcel-0.11.6-cp38-abi3-manylinux_2_17_x86_64.manylinux2014_x86_64.whl (1.2 MB)\n",
            "\u001b[2K   \u001b[90m━━━━━━━━━━━━━━━━━━━━━━━━━━━━━━━━━━━━━━━━\u001b[0m \u001b[32m1.2/1.2 MB\u001b[0m \u001b[31m13.1 MB/s\u001b[0m eta \u001b[36m0:00:00\u001b[0m\n",
            "\u001b[?25hInstalling collected packages: fastexcel\n",
            "Successfully installed fastexcel-0.11.6\n"
          ]
        }
      ]
    },
    {
      "cell_type": "code",
      "source": [
        "# Mount Google Drive\n",
        "drive.mount('/content/drive')\n",
        "\n",
        "# Verify the file path and try reading the Excel file\n",
        "try:\n",
        "  df = pl.read_excel('/content/drive/MyDrive/polars/seccion04/data.xlsx')\n",
        "  print(df)\n",
        "except FileNotFoundError:\n",
        "  print(\"File not found. Please check the file path and ensure the file exists.\")"
      ],
      "metadata": {
        "colab": {
          "base_uri": "https://localhost:8080/"
        },
        "id": "cc8fObTGH-3D",
        "outputId": "6328c3b7-7b98-492c-f447-398ca9f47cda"
      },
      "id": "cc8fObTGH-3D",
      "execution_count": 6,
      "outputs": [
        {
          "output_type": "stream",
          "name": "stdout",
          "text": [
            "Drive already mounted at /content/drive; to attempt to forcibly remount, call drive.mount(\"/content/drive\", force_remount=True).\n",
            "shape: (5, 3)\n",
            "┌─────┬───────┬─────────┐\n",
            "│ ID  ┆ MONTO ┆ TARJETA │\n",
            "│ --- ┆ ---   ┆ ---     │\n",
            "│ i64 ┆ f64   ┆ str     │\n",
            "╞═════╪═══════╪═════════╡\n",
            "│ 12  ┆ 126.8 ┆ ORO     │\n",
            "│ 45  ┆ 456.3 ┆ PLATA   │\n",
            "│ 23  ┆ 109.0 ┆ ORO     │\n",
            "│ 47  ┆ 67.0  ┆ BRONCE  │\n",
            "│ 54  ┆ 25.9  ┆ ORO     │\n",
            "└─────┴───────┴─────────┘\n"
          ]
        }
      ]
    },
    {
      "cell_type": "code",
      "source": [
        "!pip install fastexcel\n"
      ],
      "metadata": {
        "colab": {
          "base_uri": "https://localhost:8080/"
        },
        "id": "3uENSYlfIR72",
        "outputId": "43c13660-750e-4c97-c131-4a9169c53ab1"
      },
      "id": "3uENSYlfIR72",
      "execution_count": null,
      "outputs": [
        {
          "output_type": "stream",
          "name": "stdout",
          "text": [
            "Collecting fastexcel\n",
            "  Downloading fastexcel-0.11.6-cp38-abi3-manylinux_2_17_x86_64.manylinux2014_x86_64.whl.metadata (2.8 kB)\n",
            "Requirement already satisfied: pyarrow>=8.0.0 in /usr/local/lib/python3.10/dist-packages (from fastexcel) (14.0.2)\n",
            "Requirement already satisfied: numpy>=1.16.6 in /usr/local/lib/python3.10/dist-packages (from pyarrow>=8.0.0->fastexcel) (1.26.4)\n",
            "Downloading fastexcel-0.11.6-cp38-abi3-manylinux_2_17_x86_64.manylinux2014_x86_64.whl (1.2 MB)\n",
            "\u001b[2K   \u001b[90m━━━━━━━━━━━━━━━━━━━━━━━━━━━━━━━━━━━━━━━━\u001b[0m \u001b[32m1.2/1.2 MB\u001b[0m \u001b[31m12.2 MB/s\u001b[0m eta \u001b[36m0:00:00\u001b[0m\n",
            "\u001b[?25hInstalling collected packages: fastexcel\n",
            "Successfully installed fastexcel-0.11.6\n"
          ]
        }
      ]
    },
    {
      "cell_type": "code",
      "execution_count": 7,
      "id": "e0d3fb0f-8b33-4062-bcac-9cc9f553e64a",
      "metadata": {
        "tags": [],
        "colab": {
          "base_uri": "https://localhost:8080/"
        },
        "id": "e0d3fb0f-8b33-4062-bcac-9cc9f553e64a",
        "outputId": "a499ddce-c546-406f-b7a9-41bdb4bed049"
      },
      "outputs": [
        {
          "output_type": "stream",
          "name": "stdout",
          "text": [
            "shape: (5, 3)\n",
            "┌─────┬───────┬─────────┐\n",
            "│ ID  ┆ MONTO ┆ TARJETA │\n",
            "│ --- ┆ ---   ┆ ---     │\n",
            "│ i64 ┆ f64   ┆ str     │\n",
            "╞═════╪═══════╪═════════╡\n",
            "│ 12  ┆ 126.8 ┆ ORO     │\n",
            "│ 45  ┆ 456.3 ┆ PLATA   │\n",
            "│ 23  ┆ 109.0 ┆ ORO     │\n",
            "│ 47  ┆ 67.0  ┆ BRONCE  │\n",
            "│ 54  ┆ 25.9  ┆ ORO     │\n",
            "└─────┴───────┴─────────┘\n"
          ]
        }
      ],
      "source": [
        "df = pl.read_excel('/content/drive/MyDrive/polars/seccion04/data.xlsx')  ### funcion que lee archivos excel\n",
        "\n",
        "print(df)"
      ]
    },
    {
      "cell_type": "markdown",
      "id": "1221a2e5-b120-4c7c-a03d-8a2f20de3196",
      "metadata": {
        "id": "1221a2e5-b120-4c7c-a03d-8a2f20de3196"
      },
      "source": [
        "Por defecto la función `read_excel` lee la primera hoja del archivo excel, si deseamos seleccionar alguna otra hoja tenemos dos opciones:\n",
        "\n",
        "- Usar el parámetro `sheet_id`\n",
        "- Usar el parámetro `sheet_name`\n",
        "\n",
        "Veamos como usar estos dos parámetros. Solo debe tener en cuenta que estos parámetros no pueden ser usados conjuntamente. Debemos seleccionar uno de ellos para seleccionar la hoja deseada."
      ]
    },
    {
      "cell_type": "code",
      "execution_count": 8,
      "id": "32a4e3b9-7a33-4aa8-8421-fb5f5334569c",
      "metadata": {
        "tags": [],
        "colab": {
          "base_uri": "https://localhost:8080/"
        },
        "id": "32a4e3b9-7a33-4aa8-8421-fb5f5334569c",
        "outputId": "1c095038-57b2-44eb-90b2-d02bfe7a9fe7"
      },
      "outputs": [
        {
          "output_type": "stream",
          "name": "stdout",
          "text": [
            "shape: (3, 3)\n",
            "┌─────────┬───────────────┬───────────┐\n",
            "│ TARJETA ┆ IDENTIFICADOR ┆ CATEGORIA │\n",
            "│ ---     ┆ ---           ┆ ---       │\n",
            "│ str     ┆ str           ┆ str       │\n",
            "╞═════════╪═══════════════╪═══════════╡\n",
            "│ ORO     ┆ ORO           ┆ SUPREMA   │\n",
            "│ PLATA   ┆ PLT           ┆ SUPREMA   │\n",
            "│ BRONCE  ┆ BRO           ┆ MEDIA     │\n",
            "└─────────┴───────────────┴───────────┘\n"
          ]
        }
      ],
      "source": [
        "sheet_2 = pl.read_excel('/content/drive/MyDrive/polars/seccion04/data.xlsx', sheet_id=2)  ## sheet_id pasar numero de hoja\n",
        "\n",
        "\n",
        "\n",
        "print(sheet_2)\n",
        "\n"
      ]
    },
    {
      "cell_type": "code",
      "source": [
        "sheet_3 = pl.read_excel('/content/drive/MyDrive/polars/seccion04/data.xlsx', sheet_name='tarjetas')  ##leer de diferente nombre de hoja"
      ],
      "metadata": {
        "id": "wnkvgDdOOgkK"
      },
      "id": "wnkvgDdOOgkK",
      "execution_count": 9,
      "outputs": []
    },
    {
      "cell_type": "code",
      "source": [
        "print(sheet_3)"
      ],
      "metadata": {
        "colab": {
          "base_uri": "https://localhost:8080/"
        },
        "id": "9FbPt_X4Ol-U",
        "outputId": "a2542e91-5657-48cd-8ddc-ffb06ad303c6"
      },
      "id": "9FbPt_X4Ol-U",
      "execution_count": 10,
      "outputs": [
        {
          "output_type": "stream",
          "name": "stdout",
          "text": [
            "shape: (3, 3)\n",
            "┌─────────┬───────────────┬───────────┐\n",
            "│ TARJETA ┆ IDENTIFICADOR ┆ CATEGORIA │\n",
            "│ ---     ┆ ---           ┆ ---       │\n",
            "│ str     ┆ str           ┆ str       │\n",
            "╞═════════╪═══════════════╪═══════════╡\n",
            "│ ORO     ┆ ORO           ┆ SUPREMA   │\n",
            "│ PLATA   ┆ PLT           ┆ SUPREMA   │\n",
            "│ BRONCE  ┆ BRO           ┆ MEDIA     │\n",
            "└─────────┴───────────────┴───────────┘\n"
          ]
        }
      ]
    },
    {
      "cell_type": "markdown",
      "id": "ab14d72c-6d00-4b27-a88d-330fb48b8bcd",
      "metadata": {
        "id": "ab14d72c-6d00-4b27-a88d-330fb48b8bcd"
      },
      "source": [
        "## `read_ods`\n",
        "\n",
        "Esta función permite leer un archivo Open Office en un DataFrame de Polars. Para utilizar esta función es posible que deban instalar las siguientes librerías:\n",
        "- `ezodf`\n",
        "- `lxml`\n",
        "\n",
        "Si fuera ese el caso en una celda de código ejecutamos el siguiente comando `!pip install ezodf lxml`."
      ]
    },
    {
      "cell_type": "code",
      "execution_count": 11,
      "id": "8dd77f96-727f-4bb7-b0ed-04719b29c223",
      "metadata": {
        "tags": [],
        "colab": {
          "base_uri": "https://localhost:8080/"
        },
        "id": "8dd77f96-727f-4bb7-b0ed-04719b29c223",
        "outputId": "05ba921f-2b1d-46db-aa31-fe0b8b52af54"
      },
      "outputs": [
        {
          "output_type": "stream",
          "name": "stdout",
          "text": [
            "shape: (5, 3)\n",
            "┌─────┬───────┬─────────┐\n",
            "│ ID  ┆ MONTO ┆ TARJETA │\n",
            "│ --- ┆ ---   ┆ ---     │\n",
            "│ i64 ┆ f64   ┆ str     │\n",
            "╞═════╪═══════╪═════════╡\n",
            "│ 12  ┆ 126.8 ┆ ORO     │\n",
            "│ 45  ┆ 456.3 ┆ PLATA   │\n",
            "│ 23  ┆ 109.0 ┆ ORO     │\n",
            "│ 47  ┆ 67.0  ┆ BRONCE  │\n",
            "│ 54  ┆ 25.9  ┆ ORO     │\n",
            "└─────┴───────┴─────────┘\n"
          ]
        }
      ],
      "source": [
        "df1 = pl.read_ods('/content/drive/MyDrive/polars/seccion04/open_office.ods')\n",
        "\n",
        "print(df1)"
      ]
    },
    {
      "cell_type": "markdown",
      "id": "b15ff042-f7e0-4a79-9f0a-19a179a343e4",
      "metadata": {
        "id": "b15ff042-f7e0-4a79-9f0a-19a179a343e4"
      },
      "source": [
        "De manera similar a la función `read_excel` podemos utilizar los parámetros `sheet_id` y `sheet_name` para seleccionar la hoja que deseamos leer."
      ]
    },
    {
      "cell_type": "code",
      "execution_count": 12,
      "id": "c1120a4b-b6d3-4c8b-a172-c2d159054a9e",
      "metadata": {
        "tags": [],
        "colab": {
          "base_uri": "https://localhost:8080/"
        },
        "id": "c1120a4b-b6d3-4c8b-a172-c2d159054a9e",
        "outputId": "bfa437cd-a9d9-41e3-975c-c44d706caef5"
      },
      "outputs": [
        {
          "output_type": "stream",
          "name": "stdout",
          "text": [
            "shape: (3, 3)\n",
            "┌─────────┬───────────────┬───────────┐\n",
            "│ TARJETA ┆ IDENTIFICADOR ┆ CATEGORIA │\n",
            "│ ---     ┆ ---           ┆ ---       │\n",
            "│ str     ┆ str           ┆ str       │\n",
            "╞═════════╪═══════════════╪═══════════╡\n",
            "│ ORO     ┆ ORO           ┆ SUPREMA   │\n",
            "│ PLATA   ┆ PLT           ┆ SUPREMA   │\n",
            "│ BRONCE  ┆ BRO           ┆ MEDIA     │\n",
            "└─────────┴───────────────┴───────────┘\n",
            "shape: (3, 3)\n",
            "┌─────────┬───────────────┬───────────┐\n",
            "│ TARJETA ┆ IDENTIFICADOR ┆ CATEGORIA │\n",
            "│ ---     ┆ ---           ┆ ---       │\n",
            "│ str     ┆ str           ┆ str       │\n",
            "╞═════════╪═══════════════╪═══════════╡\n",
            "│ ORO     ┆ ORO           ┆ SUPREMA   │\n",
            "│ PLATA   ┆ PLT           ┆ SUPREMA   │\n",
            "│ BRONCE  ┆ BRO           ┆ MEDIA     │\n",
            "└─────────┴───────────────┴───────────┘\n"
          ]
        }
      ],
      "source": [
        "df3 = pl.read_ods('/content/drive/MyDrive/polars/seccion04/open_office.ods', sheet_id=2)\n",
        "\n",
        "df4 = pl.read_ods('/content/drive/MyDrive/polars/seccion04/open_office.ods', sheet_name='tarjetas')\n",
        "\n",
        "print(df3)\n",
        "\n",
        "print(df4)"
      ]
    },
    {
      "cell_type": "markdown",
      "id": "f53c85fe-4407-43a9-bc75-b0cc9c7b4ab2",
      "metadata": {
        "id": "f53c85fe-4407-43a9-bc75-b0cc9c7b4ab2"
      },
      "source": [
        "## `write_excel`\n",
        "\n",
        "Esta función escribe un DataFrame a una tabla de Excel. Vamos a crear primeramente la carpeta `salida` y dentro escribiremos el archivo de salida. Con el parámetro `worksheet` podemos especificar el nombre de la hoja de cálculo."
      ]
    },
    {
      "cell_type": "code",
      "source": [
        "!pip install xlsxwriter"
      ],
      "metadata": {
        "colab": {
          "base_uri": "https://localhost:8080/"
        },
        "id": "b5oypAZEJGIF",
        "outputId": "b6576f2c-5f0e-4d0b-eeb3-5cc3588bfd88"
      },
      "id": "b5oypAZEJGIF",
      "execution_count": 13,
      "outputs": [
        {
          "output_type": "stream",
          "name": "stdout",
          "text": [
            "Collecting xlsxwriter\n",
            "  Downloading XlsxWriter-3.2.0-py3-none-any.whl.metadata (2.6 kB)\n",
            "Downloading XlsxWriter-3.2.0-py3-none-any.whl (159 kB)\n",
            "\u001b[?25l   \u001b[90m━━━━━━━━━━━━━━━━━━━━━━━━━━━━━━━━━━━━━━━━\u001b[0m \u001b[32m0.0/159.9 kB\u001b[0m \u001b[31m?\u001b[0m eta \u001b[36m-:--:--\u001b[0m\r\u001b[2K   \u001b[91m━━━━━━━━━━━━━━━━━━━━━━━━━━━━━━━━━━━━━━\u001b[0m\u001b[90m╺\u001b[0m\u001b[90m━\u001b[0m \u001b[32m153.6/159.9 kB\u001b[0m \u001b[31m5.2 MB/s\u001b[0m eta \u001b[36m0:00:01\u001b[0m\r\u001b[2K   \u001b[90m━━━━━━━━━━━━━━━━━━━━━━━━━━━━━━━━━━━━━━━━\u001b[0m \u001b[32m159.9/159.9 kB\u001b[0m \u001b[31m3.6 MB/s\u001b[0m eta \u001b[36m0:00:00\u001b[0m\n",
            "\u001b[?25hInstalling collected packages: xlsxwriter\n",
            "Successfully installed xlsxwriter-3.2.0\n"
          ]
        }
      ]
    },
    {
      "cell_type": "code",
      "execution_count": 14,
      "id": "22f4c466-720e-41bb-9d8e-30e1716f7850",
      "metadata": {
        "tags": [],
        "colab": {
          "base_uri": "https://localhost:8080/"
        },
        "id": "22f4c466-720e-41bb-9d8e-30e1716f7850",
        "outputId": "8f18a8cc-a3d0-4e26-998c-3e88cd1402e7"
      },
      "outputs": [
        {
          "output_type": "execute_result",
          "data": {
            "text/plain": [
              "<xlsxwriter.workbook.Workbook at 0x7b6e34feefe0>"
            ]
          },
          "metadata": {},
          "execution_count": 14
        }
      ],
      "source": [
        "df.write_excel('/content/drive/MyDrive/polars/seccion04/data.xlsx', worksheet='compras')"
      ]
    },
    {
      "cell_type": "code",
      "source": [
        "type(df)"
      ],
      "metadata": {
        "colab": {
          "base_uri": "https://localhost:8080/",
          "height": 220
        },
        "id": "FSwAYIeHKCW9",
        "outputId": "7e0c2a19-c84a-4d97-d12a-64c32f52732e"
      },
      "id": "FSwAYIeHKCW9",
      "execution_count": 15,
      "outputs": [
        {
          "output_type": "execute_result",
          "data": {
            "text/plain": [
              "polars.dataframe.frame.DataFrame"
            ],
            "text/html": [
              "<div style=\"max-width:800px; border: 1px solid var(--colab-border-color);\"><style>\n",
              "      pre.function-repr-contents {\n",
              "        overflow-x: auto;\n",
              "        padding: 8px 12px;\n",
              "        max-height: 500px;\n",
              "      }\n",
              "\n",
              "      pre.function-repr-contents.function-repr-contents-collapsed {\n",
              "        cursor: pointer;\n",
              "        max-height: 100px;\n",
              "      }\n",
              "    </style>\n",
              "    <pre style=\"white-space: initial; background:\n",
              "         var(--colab-secondary-surface-color); padding: 8px 12px;\n",
              "         border-bottom: 1px solid var(--colab-border-color);\"><b>polars.dataframe.frame.DataFrame</b><br/>def __init__(data: FrameInitTypes | None=None, schema: SchemaDefinition | None=None, *, schema_overrides: SchemaDict | None=None, strict: bool=True, orient: Orientation | None=None, infer_schema_length: int | None=N_INFER_DEFAULT, nan_to_null: bool=False)</pre><pre class=\"function-repr-contents function-repr-contents-collapsed\" style=\"\"><a class=\"filepath\" style=\"display:none\" href=\"#\">/usr/local/lib/python3.10/dist-packages/polars/dataframe/frame.py</a>Two-dimensional data structure representing data as a table with rows and columns.\n",
              "\n",
              "Parameters\n",
              "----------\n",
              "data : dict, Sequence, ndarray, Series, or pandas.DataFrame\n",
              "    Two-dimensional data in various forms; dict input must contain Sequences,\n",
              "    Generators, or a `range`. Sequence may contain Series or other Sequences.\n",
              "schema : Sequence of str, (str,DataType) pairs, or a {str:DataType,} dict\n",
              "    The schema of the resulting DataFrame. The schema may be declared in several\n",
              "    ways:\n",
              "\n",
              "    * As a dict of {name:type} pairs; if type is None, it will be auto-inferred.\n",
              "    * As a list of column names; in this case types are automatically inferred.\n",
              "    * As a list of (name,type) pairs; this is equivalent to the dictionary form.\n",
              "\n",
              "    If you supply a list of column names that does not match the names in the\n",
              "    underlying data, the names given here will overwrite them. The number\n",
              "    of names given in the schema should match the underlying data dimensions.\n",
              "\n",
              "    If set to `None` (default), the schema is inferred from the data.\n",
              "schema_overrides : dict, default None\n",
              "    Support type specification or override of one or more columns; note that\n",
              "    any dtypes inferred from the schema param will be overridden.\n",
              "\n",
              "    The number of entries in the schema should match the underlying data\n",
              "    dimensions, unless a sequence of dictionaries is being passed, in which case\n",
              "    a *partial* schema can be declared to prevent specific fields from being loaded.\n",
              "strict : bool, default True\n",
              "    Throw an error if any `data` value does not exactly match the given or inferred\n",
              "    data type for that column. If set to `False`, values that do not match the data\n",
              "    type are cast to that data type or, if casting is not possible, set to null\n",
              "    instead.\n",
              "orient : {&#x27;col&#x27;, &#x27;row&#x27;}, default None\n",
              "    Whether to interpret two-dimensional data as columns or as rows. If None,\n",
              "    the orientation is inferred by matching the columns and data dimensions. If\n",
              "    this does not yield conclusive results, column orientation is used.\n",
              "infer_schema_length : int or None\n",
              "    The maximum number of rows to scan for schema inference. If set to `None`, the\n",
              "    full data may be scanned *(this can be slow)*. This parameter only applies if\n",
              "    the input data is a sequence or generator of rows; other input is read as-is.\n",
              "nan_to_null : bool, default False\n",
              "    If the data comes from one or more numpy arrays, can optionally convert input\n",
              "    data np.nan values to null instead. This is a no-op for all other input data.\n",
              "\n",
              "Notes\n",
              "-----\n",
              "Polars explicitly does not support subclassing of its core data types. See\n",
              "the following GitHub issue for possible workarounds:\n",
              "https://github.com/pola-rs/polars/issues/2846#issuecomment-1711799869\n",
              "\n",
              "Examples\n",
              "--------\n",
              "Constructing a DataFrame from a dictionary:\n",
              "\n",
              "&gt;&gt;&gt; data = {&quot;a&quot;: [1, 2], &quot;b&quot;: [3, 4]}\n",
              "&gt;&gt;&gt; df = pl.DataFrame(data)\n",
              "&gt;&gt;&gt; df\n",
              "shape: (2, 2)\n",
              "┌─────┬─────┐\n",
              "│ a   ┆ b   │\n",
              "│ --- ┆ --- │\n",
              "│ i64 ┆ i64 │\n",
              "╞═════╪═════╡\n",
              "│ 1   ┆ 3   │\n",
              "│ 2   ┆ 4   │\n",
              "└─────┴─────┘\n",
              "\n",
              "Notice that the dtypes are automatically inferred as polars Int64:\n",
              "\n",
              "&gt;&gt;&gt; df.dtypes\n",
              "[Int64, Int64]\n",
              "\n",
              "To specify a more detailed/specific frame schema you can supply the `schema`\n",
              "parameter with a dictionary of (name,dtype) pairs...\n",
              "\n",
              "&gt;&gt;&gt; data = {&quot;col1&quot;: [0, 2], &quot;col2&quot;: [3, 7]}\n",
              "&gt;&gt;&gt; df2 = pl.DataFrame(data, schema={&quot;col1&quot;: pl.Float32, &quot;col2&quot;: pl.Int64})\n",
              "&gt;&gt;&gt; df2\n",
              "shape: (2, 2)\n",
              "┌──────┬──────┐\n",
              "│ col1 ┆ col2 │\n",
              "│ ---  ┆ ---  │\n",
              "│ f32  ┆ i64  │\n",
              "╞══════╪══════╡\n",
              "│ 0.0  ┆ 3    │\n",
              "│ 2.0  ┆ 7    │\n",
              "└──────┴──────┘\n",
              "\n",
              "...a sequence of (name,dtype) pairs...\n",
              "\n",
              "&gt;&gt;&gt; data = {&quot;col1&quot;: [1, 2], &quot;col2&quot;: [3, 4]}\n",
              "&gt;&gt;&gt; df3 = pl.DataFrame(data, schema=[(&quot;col1&quot;, pl.Float32), (&quot;col2&quot;, pl.Int64)])\n",
              "&gt;&gt;&gt; df3\n",
              "shape: (2, 2)\n",
              "┌──────┬──────┐\n",
              "│ col1 ┆ col2 │\n",
              "│ ---  ┆ ---  │\n",
              "│ f32  ┆ i64  │\n",
              "╞══════╪══════╡\n",
              "│ 1.0  ┆ 3    │\n",
              "│ 2.0  ┆ 4    │\n",
              "└──────┴──────┘\n",
              "\n",
              "...or a list of typed Series.\n",
              "\n",
              "&gt;&gt;&gt; data = [\n",
              "...     pl.Series(&quot;col1&quot;, [1, 2], dtype=pl.Float32),\n",
              "...     pl.Series(&quot;col2&quot;, [3, 4], dtype=pl.Int64),\n",
              "... ]\n",
              "&gt;&gt;&gt; df4 = pl.DataFrame(data)\n",
              "&gt;&gt;&gt; df4\n",
              "shape: (2, 2)\n",
              "┌──────┬──────┐\n",
              "│ col1 ┆ col2 │\n",
              "│ ---  ┆ ---  │\n",
              "│ f32  ┆ i64  │\n",
              "╞══════╪══════╡\n",
              "│ 1.0  ┆ 3    │\n",
              "│ 2.0  ┆ 4    │\n",
              "└──────┴──────┘\n",
              "\n",
              "Constructing a DataFrame from a numpy ndarray, specifying column names:\n",
              "\n",
              "&gt;&gt;&gt; import numpy as np\n",
              "&gt;&gt;&gt; data = np.array([(1, 2), (3, 4)], dtype=np.int64)\n",
              "&gt;&gt;&gt; df5 = pl.DataFrame(data, schema=[&quot;a&quot;, &quot;b&quot;], orient=&quot;col&quot;)\n",
              "&gt;&gt;&gt; df5\n",
              "shape: (2, 2)\n",
              "┌─────┬─────┐\n",
              "│ a   ┆ b   │\n",
              "│ --- ┆ --- │\n",
              "│ i64 ┆ i64 │\n",
              "╞═════╪═════╡\n",
              "│ 1   ┆ 3   │\n",
              "│ 2   ┆ 4   │\n",
              "└─────┴─────┘\n",
              "\n",
              "Constructing a DataFrame from a list of lists, row orientation specified:\n",
              "\n",
              "&gt;&gt;&gt; data = [[1, 2, 3], [4, 5, 6]]\n",
              "&gt;&gt;&gt; df6 = pl.DataFrame(data, schema=[&quot;a&quot;, &quot;b&quot;, &quot;c&quot;], orient=&quot;row&quot;)\n",
              "&gt;&gt;&gt; df6\n",
              "shape: (2, 3)\n",
              "┌─────┬─────┬─────┐\n",
              "│ a   ┆ b   ┆ c   │\n",
              "│ --- ┆ --- ┆ --- │\n",
              "│ i64 ┆ i64 ┆ i64 │\n",
              "╞═════╪═════╪═════╡\n",
              "│ 1   ┆ 2   ┆ 3   │\n",
              "│ 4   ┆ 5   ┆ 6   │\n",
              "└─────┴─────┴─────┘</pre>\n",
              "      <script>\n",
              "      if (google.colab.kernel.accessAllowed && google.colab.files && google.colab.files.view) {\n",
              "        for (const element of document.querySelectorAll('.filepath')) {\n",
              "          element.style.display = 'block'\n",
              "          element.onclick = (event) => {\n",
              "            event.preventDefault();\n",
              "            event.stopPropagation();\n",
              "            google.colab.files.view(element.textContent, 186);\n",
              "          };\n",
              "        }\n",
              "      }\n",
              "      for (const element of document.querySelectorAll('.function-repr-contents')) {\n",
              "        element.onclick = (event) => {\n",
              "          event.preventDefault();\n",
              "          event.stopPropagation();\n",
              "          element.classList.toggle('function-repr-contents-collapsed');\n",
              "        };\n",
              "      }\n",
              "      </script>\n",
              "      </div>"
            ]
          },
          "metadata": {},
          "execution_count": 15
        }
      ]
    },
    {
      "cell_type": "code",
      "source": [
        "df.head(3)"
      ],
      "metadata": {
        "colab": {
          "base_uri": "https://localhost:8080/",
          "height": 192
        },
        "id": "S2OHVwK_KYTA",
        "outputId": "7842b3f1-0161-42aa-8a65-df0a174c985c"
      },
      "id": "S2OHVwK_KYTA",
      "execution_count": 16,
      "outputs": [
        {
          "output_type": "execute_result",
          "data": {
            "text/plain": [
              "shape: (3, 3)\n",
              "┌─────┬───────┬─────────┐\n",
              "│ ID  ┆ MONTO ┆ TARJETA │\n",
              "│ --- ┆ ---   ┆ ---     │\n",
              "│ i64 ┆ f64   ┆ str     │\n",
              "╞═════╪═══════╪═════════╡\n",
              "│ 12  ┆ 126.8 ┆ ORO     │\n",
              "│ 45  ┆ 456.3 ┆ PLATA   │\n",
              "│ 23  ┆ 109.0 ┆ ORO     │\n",
              "└─────┴───────┴─────────┘"
            ],
            "text/html": [
              "<div><style>\n",
              ".dataframe > thead > tr,\n",
              ".dataframe > tbody > tr {\n",
              "  text-align: right;\n",
              "  white-space: pre-wrap;\n",
              "}\n",
              "</style>\n",
              "<small>shape: (3, 3)</small><table border=\"1\" class=\"dataframe\"><thead><tr><th>ID</th><th>MONTO</th><th>TARJETA</th></tr><tr><td>i64</td><td>f64</td><td>str</td></tr></thead><tbody><tr><td>12</td><td>126.8</td><td>&quot;ORO&quot;</td></tr><tr><td>45</td><td>456.3</td><td>&quot;PLATA&quot;</td></tr><tr><td>23</td><td>109.0</td><td>&quot;ORO&quot;</td></tr></tbody></table></div>"
            ]
          },
          "metadata": {},
          "execution_count": 16
        }
      ]
    },
    {
      "cell_type": "code",
      "source": [],
      "metadata": {
        "id": "Ga5clz8T4PtX"
      },
      "id": "Ga5clz8T4PtX",
      "execution_count": null,
      "outputs": []
    }
  ],
  "metadata": {
    "kernelspec": {
      "display_name": "Python 3 (ipykernel)",
      "language": "python",
      "name": "python3"
    },
    "language_info": {
      "codemirror_mode": {
        "name": "ipython",
        "version": 3
      },
      "file_extension": ".py",
      "mimetype": "text/x-python",
      "name": "python",
      "nbconvert_exporter": "python",
      "pygments_lexer": "ipython3",
      "version": "3.9.6"
    },
    "colab": {
      "provenance": []
    }
  },
  "nbformat": 4,
  "nbformat_minor": 5
}