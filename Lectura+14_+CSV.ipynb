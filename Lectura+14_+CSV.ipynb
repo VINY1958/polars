{
  "cells": [
    {
      "cell_type": "markdown",
      "id": "69e07164-b8e0-4635-8b20-b8507d636716",
      "metadata": {
        "id": "69e07164-b8e0-4635-8b20-b8507d636716"
      },
      "source": [
        "# Lectura 14: CSV"
      ]
    },
    {
      "cell_type": "code",
      "source": [
        "from google.colab import drive\n",
        "drive.mount('/content/drive')"
      ],
      "metadata": {
        "colab": {
          "base_uri": "https://localhost:8080/"
        },
        "id": "isreZ-iOqeUs",
        "outputId": "f717bd17-9221-4a87-e86a-89ef92fa9e2c"
      },
      "id": "isreZ-iOqeUs",
      "execution_count": 1,
      "outputs": [
        {
          "output_type": "stream",
          "name": "stdout",
          "text": [
            "Mounted at /content/drive\n"
          ]
        }
      ]
    },
    {
      "cell_type": "markdown",
      "id": "3890045c-d40f-4c3c-b403-257dc2a83932",
      "metadata": {
        "id": "3890045c-d40f-4c3c-b403-257dc2a83932"
      },
      "source": [
        "### Leer un archivo CSV: `read_csv`"
      ]
    },
    {
      "cell_type": "markdown",
      "id": "2d39c38f-c05c-4581-942d-d358dd6a1e7f",
      "metadata": {
        "id": "2d39c38f-c05c-4581-942d-d358dd6a1e7f"
      },
      "source": [
        "La función `read_csv` tiene un parámetro llamado `has_header` que por defecto está establecido como `True`. Con esto indicamos que la primera fila del archivo contiene los nombres de columnas. En caso de que no sea así podemos establecer este parámetro igual a `False` y los nombres de columnas serán generados de forma automática por Polars."
      ]
    },
    {
      "cell_type": "code",
      "execution_count": 2,
      "id": "559db2d2-fcb6-473e-967b-c05c1fec5430",
      "metadata": {
        "tags": [],
        "id": "559db2d2-fcb6-473e-967b-c05c1fec5430"
      },
      "outputs": [],
      "source": [
        "import polars as pl\n",
        "\n",
        "df = pl.read_csv('/content/drive/MyDrive/polars/seccion03/dataCSV.csv', has_header=False)  ## con has_header establece nombres de parametros genericos false"
      ]
    },
    {
      "cell_type": "code",
      "source": [
        "print(df)"
      ],
      "metadata": {
        "colab": {
          "base_uri": "https://localhost:8080/"
        },
        "id": "5sABWFIUHelB",
        "outputId": "8de49077-5ee9-49c9-8166-a95755b9f8fc"
      },
      "id": "5sABWFIUHelB",
      "execution_count": 3,
      "outputs": [
        {
          "output_type": "stream",
          "name": "stdout",
          "text": [
            "shape: (40_950, 16)\n",
            "┌───────────┬───────────┬───────────┬───────────┬───┬───────────┬───────────┬───────────┬──────────┐\n",
            "│ column_1  ┆ column_2  ┆ column_3  ┆ column_4  ┆ … ┆ column_13 ┆ column_14 ┆ column_15 ┆ column_1 │\n",
            "│ ---       ┆ ---       ┆ ---       ┆ ---       ┆   ┆ ---       ┆ ---       ┆ ---       ┆ 6        │\n",
            "│ str       ┆ str       ┆ str       ┆ str       ┆   ┆ str       ┆ str       ┆ str       ┆ ---      │\n",
            "│           ┆           ┆           ┆           ┆   ┆           ┆           ┆           ┆ str      │\n",
            "╞═══════════╪═══════════╪═══════════╪═══════════╪═══╪═══════════╪═══════════╪═══════════╪══════════╡\n",
            "│ video_id  ┆ trending_ ┆ title     ┆ channel_t ┆ … ┆ comments_ ┆ ratings_d ┆ video_err ┆ descript │\n",
            "│           ┆ date      ┆           ┆ itle      ┆   ┆ disabled  ┆ isabled   ┆ or_or_rem ┆ ion      │\n",
            "│           ┆           ┆           ┆           ┆   ┆           ┆           ┆ oved      ┆          │\n",
            "│ 2kyS6SvSY ┆ 17.14.11  ┆ WE WANT   ┆ CaseyNeis ┆ … ┆ False     ┆ False     ┆ False     ┆ SHANTELL │\n",
            "│ SE        ┆           ┆ TO TALK   ┆ tat       ┆   ┆           ┆           ┆           ┆ 'S       │\n",
            "│           ┆           ┆ ABOUT OUR ┆           ┆   ┆           ┆           ┆           ┆ CHANNEL  │\n",
            "│           ┆           ┆ MARR…     ┆           ┆   ┆           ┆           ┆           ┆ - https: │\n",
            "│           ┆           ┆           ┆           ┆   ┆           ┆           ┆           ┆ //w…     │\n",
            "│ 1ZAPwfrtA ┆ 17.14.11  ┆ The Trump ┆ LastWeekT ┆ … ┆ False     ┆ False     ┆ False     ┆ One year │\n",
            "│ FY        ┆           ┆ Presidenc ┆ onight    ┆   ┆           ┆           ┆           ┆ after    │\n",
            "│           ┆           ┆ y: Last   ┆           ┆   ┆           ┆           ┆           ┆ the pres │\n",
            "│           ┆           ┆ Wee…      ┆           ┆   ┆           ┆           ┆           ┆ identia… │\n",
            "│ 5qpjK5DgC ┆ 17.14.11  ┆ Racist    ┆ Rudy      ┆ … ┆ False     ┆ False     ┆ False     ┆ WATCH MY │\n",
            "│ t4        ┆           ┆ Superman  ┆ Mancuso   ┆   ┆           ┆           ┆           ┆ PREVIOUS │\n",
            "│           ┆           ┆ | Rudy    ┆           ┆   ┆           ┆           ┆           ┆ VIDEO ▶  │\n",
            "│           ┆           ┆ Mancuso…  ┆           ┆   ┆           ┆           ┆           ┆ \\n\\n…    │\n",
            "│ puqaWrEC7 ┆ 17.14.11  ┆ Nickelbac ┆ Good      ┆ … ┆ False     ┆ False     ┆ False     ┆ Today we │\n",
            "│ tY        ┆           ┆ k Lyrics: ┆ Mythical  ┆   ┆           ┆           ┆           ┆ find out │\n",
            "│           ┆           ┆ Real or   ┆ Morning   ┆   ┆           ┆           ┆           ┆ if Link  │\n",
            "│           ┆           ┆ Fak…      ┆           ┆   ┆           ┆           ┆           ┆ is a…    │\n",
            "│ …         ┆ …         ┆ …         ┆ …         ┆ … ┆ …         ┆ …         ┆ …         ┆ …        │\n",
            "│ BZt0qjTWN ┆ 18.14.06  ┆ The Cat   ┆ AaronsAni ┆ … ┆ False     ┆ False     ┆ False     ┆ The Cat  │\n",
            "│ hw        ┆           ┆ Who       ┆ mals      ┆   ┆           ┆           ┆           ┆ Who      │\n",
            "│           ┆           ┆ Caught    ┆           ┆   ┆           ┆           ┆           ┆ Caught   │\n",
            "│           ┆           ┆ the Laser ┆           ┆   ┆           ┆           ┆           ┆ the      │\n",
            "│           ┆           ┆           ┆           ┆   ┆           ┆           ┆           ┆ Laser -… │\n",
            "│ 1h7KV2sjU ┆ 18.14.06  ┆ True      ┆ zefrank1  ┆ … ┆ False     ┆ False     ┆ False     ┆          │\n",
            "│ WY        ┆           ┆ Facts :   ┆           ┆   ┆           ┆           ┆           ┆          │\n",
            "│           ┆           ┆ Ant       ┆           ┆   ┆           ┆           ┆           ┆          │\n",
            "│           ┆           ┆ Mutualism ┆           ┆   ┆           ┆           ┆           ┆          │\n",
            "│ D6Oy4Lfoq ┆ 18.14.06  ┆ I GAVE    ┆ Brad      ┆ … ┆ False     ┆ False     ┆ False     ┆ I had so │\n",
            "│ sU        ┆           ┆ SAFIYA    ┆ Mondo     ┆   ┆           ┆           ┆           ┆ much fun │\n",
            "│           ┆           ┆ NYGAARD A ┆           ┆   ┆           ┆           ┆           ┆ transfor │\n",
            "│           ┆           ┆ PERFEC…   ┆           ┆   ┆           ┆           ┆           ┆ ming…    │\n",
            "│ oV0zkMe1K ┆ 18.14.06  ┆ How Black ┆ How It    ┆ … ┆ False     ┆ False     ┆ False     ┆ How      │\n",
            "│ 8s        ┆           ┆ Panther   ┆ Should    ┆   ┆           ┆           ┆           ┆ Black    │\n",
            "│           ┆           ┆ Should    ┆ Have      ┆   ┆           ┆           ┆           ┆ Panther  │\n",
            "│           ┆           ┆ Have …    ┆ Ended     ┆   ┆           ┆           ┆           ┆ Should   │\n",
            "│           ┆           ┆           ┆           ┆   ┆           ┆           ┆           ┆ Have …   │\n",
            "│ ooyjaVdt- ┆ 18.14.06  ┆ Official  ┆ Call of   ┆ … ┆ False     ┆ False     ┆ False     ┆ Call of  │\n",
            "│ jA        ┆           ┆ Call of   ┆ Duty      ┆   ┆           ┆           ┆           ┆ Duty:    │\n",
            "│           ┆           ┆ Duty®:    ┆           ┆   ┆           ┆           ┆           ┆ Black    │\n",
            "│           ┆           ┆ Black …   ┆           ┆   ┆           ┆           ┆           ┆ Ops 4    │\n",
            "│           ┆           ┆           ┆           ┆   ┆           ┆           ┆           ┆ Mult…    │\n",
            "└───────────┴───────────┴───────────┴───────────┴───┴───────────┴───────────┴───────────┴──────────┘\n"
          ]
        }
      ]
    },
    {
      "cell_type": "code",
      "source": [
        "df = pl.read_csv('/content/drive/MyDrive/polars/seccion03/dataCSV.csv') ## alli toma los nombres de parametros de cada columna\n",
        "df"
      ],
      "metadata": {
        "colab": {
          "base_uri": "https://localhost:8080/",
          "height": 949
        },
        "id": "ksldeOCKiiNf",
        "outputId": "1945e725-36ce-4f05-adb9-ae6aaea82539"
      },
      "id": "ksldeOCKiiNf",
      "execution_count": 4,
      "outputs": [
        {
          "output_type": "execute_result",
          "data": {
            "text/plain": [
              "shape: (40_949, 16)\n",
              "┌───────────┬───────────┬───────────┬───────────┬───┬───────────┬───────────┬───────────┬──────────┐\n",
              "│ video_id  ┆ trending_ ┆ title     ┆ channel_t ┆ … ┆ comments_ ┆ ratings_d ┆ video_err ┆ descript │\n",
              "│ ---       ┆ date      ┆ ---       ┆ itle      ┆   ┆ disabled  ┆ isabled   ┆ or_or_rem ┆ ion      │\n",
              "│ str       ┆ ---       ┆ str       ┆ ---       ┆   ┆ ---       ┆ ---       ┆ oved      ┆ ---      │\n",
              "│           ┆ str       ┆           ┆ str       ┆   ┆ bool      ┆ bool      ┆ ---       ┆ str      │\n",
              "│           ┆           ┆           ┆           ┆   ┆           ┆           ┆ bool      ┆          │\n",
              "╞═══════════╪═══════════╪═══════════╪═══════════╪═══╪═══════════╪═══════════╪═══════════╪══════════╡\n",
              "│ 2kyS6SvSY ┆ 17.14.11  ┆ WE WANT   ┆ CaseyNeis ┆ … ┆ false     ┆ false     ┆ false     ┆ SHANTELL │\n",
              "│ SE        ┆           ┆ TO TALK   ┆ tat       ┆   ┆           ┆           ┆           ┆ 'S       │\n",
              "│           ┆           ┆ ABOUT OUR ┆           ┆   ┆           ┆           ┆           ┆ CHANNEL  │\n",
              "│           ┆           ┆ MARR…     ┆           ┆   ┆           ┆           ┆           ┆ - https: │\n",
              "│           ┆           ┆           ┆           ┆   ┆           ┆           ┆           ┆ //w…     │\n",
              "│ 1ZAPwfrtA ┆ 17.14.11  ┆ The Trump ┆ LastWeekT ┆ … ┆ false     ┆ false     ┆ false     ┆ One year │\n",
              "│ FY        ┆           ┆ Presidenc ┆ onight    ┆   ┆           ┆           ┆           ┆ after    │\n",
              "│           ┆           ┆ y: Last   ┆           ┆   ┆           ┆           ┆           ┆ the pres │\n",
              "│           ┆           ┆ Wee…      ┆           ┆   ┆           ┆           ┆           ┆ identia… │\n",
              "│ 5qpjK5DgC ┆ 17.14.11  ┆ Racist    ┆ Rudy      ┆ … ┆ false     ┆ false     ┆ false     ┆ WATCH MY │\n",
              "│ t4        ┆           ┆ Superman  ┆ Mancuso   ┆   ┆           ┆           ┆           ┆ PREVIOUS │\n",
              "│           ┆           ┆ | Rudy    ┆           ┆   ┆           ┆           ┆           ┆ VIDEO ▶  │\n",
              "│           ┆           ┆ Mancuso…  ┆           ┆   ┆           ┆           ┆           ┆ \\n\\n…    │\n",
              "│ puqaWrEC7 ┆ 17.14.11  ┆ Nickelbac ┆ Good      ┆ … ┆ false     ┆ false     ┆ false     ┆ Today we │\n",
              "│ tY        ┆           ┆ k Lyrics: ┆ Mythical  ┆   ┆           ┆           ┆           ┆ find out │\n",
              "│           ┆           ┆ Real or   ┆ Morning   ┆   ┆           ┆           ┆           ┆ if Link  │\n",
              "│           ┆           ┆ Fak…      ┆           ┆   ┆           ┆           ┆           ┆ is a…    │\n",
              "│ d380meD0W ┆ 17.14.11  ┆ I Dare    ┆ nigahiga  ┆ … ┆ false     ┆ false     ┆ false     ┆ I know   │\n",
              "│ 0M        ┆           ┆ You:      ┆           ┆   ┆           ┆           ┆           ┆ it's     │\n",
              "│           ┆           ┆ GOING     ┆           ┆   ┆           ┆           ┆           ┆ been a   │\n",
              "│           ┆           ┆ BALD!?    ┆           ┆   ┆           ┆           ┆           ┆ while    │\n",
              "│           ┆           ┆           ┆           ┆   ┆           ┆           ┆           ┆ since…   │\n",
              "│ …         ┆ …         ┆ …         ┆ …         ┆ … ┆ …         ┆ …         ┆ …         ┆ …        │\n",
              "│ BZt0qjTWN ┆ 18.14.06  ┆ The Cat   ┆ AaronsAni ┆ … ┆ false     ┆ false     ┆ false     ┆ The Cat  │\n",
              "│ hw        ┆           ┆ Who       ┆ mals      ┆   ┆           ┆           ┆           ┆ Who      │\n",
              "│           ┆           ┆ Caught    ┆           ┆   ┆           ┆           ┆           ┆ Caught   │\n",
              "│           ┆           ┆ the Laser ┆           ┆   ┆           ┆           ┆           ┆ the      │\n",
              "│           ┆           ┆           ┆           ┆   ┆           ┆           ┆           ┆ Laser -… │\n",
              "│ 1h7KV2sjU ┆ 18.14.06  ┆ True      ┆ zefrank1  ┆ … ┆ false     ┆ false     ┆ false     ┆          │\n",
              "│ WY        ┆           ┆ Facts :   ┆           ┆   ┆           ┆           ┆           ┆          │\n",
              "│           ┆           ┆ Ant       ┆           ┆   ┆           ┆           ┆           ┆          │\n",
              "│           ┆           ┆ Mutualism ┆           ┆   ┆           ┆           ┆           ┆          │\n",
              "│ D6Oy4Lfoq ┆ 18.14.06  ┆ I GAVE    ┆ Brad      ┆ … ┆ false     ┆ false     ┆ false     ┆ I had so │\n",
              "│ sU        ┆           ┆ SAFIYA    ┆ Mondo     ┆   ┆           ┆           ┆           ┆ much fun │\n",
              "│           ┆           ┆ NYGAARD A ┆           ┆   ┆           ┆           ┆           ┆ transfor │\n",
              "│           ┆           ┆ PERFEC…   ┆           ┆   ┆           ┆           ┆           ┆ ming…    │\n",
              "│ oV0zkMe1K ┆ 18.14.06  ┆ How Black ┆ How It    ┆ … ┆ false     ┆ false     ┆ false     ┆ How      │\n",
              "│ 8s        ┆           ┆ Panther   ┆ Should    ┆   ┆           ┆           ┆           ┆ Black    │\n",
              "│           ┆           ┆ Should    ┆ Have      ┆   ┆           ┆           ┆           ┆ Panther  │\n",
              "│           ┆           ┆ Have …    ┆ Ended     ┆   ┆           ┆           ┆           ┆ Should   │\n",
              "│           ┆           ┆           ┆           ┆   ┆           ┆           ┆           ┆ Have …   │\n",
              "│ ooyjaVdt- ┆ 18.14.06  ┆ Official  ┆ Call of   ┆ … ┆ false     ┆ false     ┆ false     ┆ Call of  │\n",
              "│ jA        ┆           ┆ Call of   ┆ Duty      ┆   ┆           ┆           ┆           ┆ Duty:    │\n",
              "│           ┆           ┆ Duty®:    ┆           ┆   ┆           ┆           ┆           ┆ Black    │\n",
              "│           ┆           ┆ Black …   ┆           ┆   ┆           ┆           ┆           ┆ Ops 4    │\n",
              "│           ┆           ┆           ┆           ┆   ┆           ┆           ┆           ┆ Mult…    │\n",
              "└───────────┴───────────┴───────────┴───────────┴───┴───────────┴───────────┴───────────┴──────────┘"
            ],
            "text/html": [
              "<div><style>\n",
              ".dataframe > thead > tr,\n",
              ".dataframe > tbody > tr {\n",
              "  text-align: right;\n",
              "  white-space: pre-wrap;\n",
              "}\n",
              "</style>\n",
              "<small>shape: (40_949, 16)</small><table border=\"1\" class=\"dataframe\"><thead><tr><th>video_id</th><th>trending_date</th><th>title</th><th>channel_title</th><th>category_id</th><th>publish_time</th><th>tags</th><th>views</th><th>likes</th><th>dislikes</th><th>comment_count</th><th>thumbnail_link</th><th>comments_disabled</th><th>ratings_disabled</th><th>video_error_or_removed</th><th>description</th></tr><tr><td>str</td><td>str</td><td>str</td><td>str</td><td>i64</td><td>str</td><td>str</td><td>i64</td><td>i64</td><td>i64</td><td>i64</td><td>str</td><td>bool</td><td>bool</td><td>bool</td><td>str</td></tr></thead><tbody><tr><td>&quot;2kyS6SvSYSE&quot;</td><td>&quot;17.14.11&quot;</td><td>&quot;WE WANT TO TALK ABOUT OUR MARR…</td><td>&quot;CaseyNeistat&quot;</td><td>22</td><td>&quot;2017-11-13T17:13:01.000Z&quot;</td><td>&quot;SHANtell martin&quot;</td><td>748374</td><td>57527</td><td>2966</td><td>15954</td><td>&quot;https://i.ytimg.com/vi/2kyS6Sv…</td><td>false</td><td>false</td><td>false</td><td>&quot;SHANTELL&#x27;S CHANNEL - https://w…</td></tr><tr><td>&quot;1ZAPwfrtAFY&quot;</td><td>&quot;17.14.11&quot;</td><td>&quot;The Trump Presidency: Last Wee…</td><td>&quot;LastWeekTonight&quot;</td><td>24</td><td>&quot;2017-11-13T07:30:00.000Z&quot;</td><td>&quot;last week tonight trump presid…</td><td>2418783</td><td>97185</td><td>6146</td><td>12703</td><td>&quot;https://i.ytimg.com/vi/1ZAPwfr…</td><td>false</td><td>false</td><td>false</td><td>&quot;One year after the presidentia…</td></tr><tr><td>&quot;5qpjK5DgCt4&quot;</td><td>&quot;17.14.11&quot;</td><td>&quot;Racist Superman | Rudy Mancuso…</td><td>&quot;Rudy Mancuso&quot;</td><td>23</td><td>&quot;2017-11-12T19:05:24.000Z&quot;</td><td>&quot;racist superman|rudy|mancuso|k…</td><td>3191434</td><td>146033</td><td>5339</td><td>8181</td><td>&quot;https://i.ytimg.com/vi/5qpjK5D…</td><td>false</td><td>false</td><td>false</td><td>&quot;WATCH MY PREVIOUS VIDEO ▶ \\n\\n…</td></tr><tr><td>&quot;puqaWrEC7tY&quot;</td><td>&quot;17.14.11&quot;</td><td>&quot;Nickelback Lyrics: Real or Fak…</td><td>&quot;Good Mythical Morning&quot;</td><td>24</td><td>&quot;2017-11-13T11:00:04.000Z&quot;</td><td>&quot;rhett and link|gmm|good mythic…</td><td>343168</td><td>10172</td><td>666</td><td>2146</td><td>&quot;https://i.ytimg.com/vi/puqaWrE…</td><td>false</td><td>false</td><td>false</td><td>&quot;Today we find out if Link is a…</td></tr><tr><td>&quot;d380meD0W0M&quot;</td><td>&quot;17.14.11&quot;</td><td>&quot;I Dare You: GOING BALD!?&quot;</td><td>&quot;nigahiga&quot;</td><td>24</td><td>&quot;2017-11-12T18:01:41.000Z&quot;</td><td>&quot;ryan|higa|higatv|nigahiga|i da…</td><td>2095731</td><td>132235</td><td>1989</td><td>17518</td><td>&quot;https://i.ytimg.com/vi/d380meD…</td><td>false</td><td>false</td><td>false</td><td>&quot;I know it&#x27;s been a while since…</td></tr><tr><td>&hellip;</td><td>&hellip;</td><td>&hellip;</td><td>&hellip;</td><td>&hellip;</td><td>&hellip;</td><td>&hellip;</td><td>&hellip;</td><td>&hellip;</td><td>&hellip;</td><td>&hellip;</td><td>&hellip;</td><td>&hellip;</td><td>&hellip;</td><td>&hellip;</td><td>&hellip;</td></tr><tr><td>&quot;BZt0qjTWNhw&quot;</td><td>&quot;18.14.06&quot;</td><td>&quot;The Cat Who Caught the Laser&quot;</td><td>&quot;AaronsAnimals&quot;</td><td>15</td><td>&quot;2018-05-18T13:00:04.000Z&quot;</td><td>&quot;aarons animals|aarons|animals|…</td><td>1685609</td><td>38160</td><td>1385</td><td>2657</td><td>&quot;https://i.ytimg.com/vi/BZt0qjT…</td><td>false</td><td>false</td><td>false</td><td>&quot;The Cat Who Caught the Laser -…</td></tr><tr><td>&quot;1h7KV2sjUWY&quot;</td><td>&quot;18.14.06&quot;</td><td>&quot;True Facts : Ant Mutualism&quot;</td><td>&quot;zefrank1&quot;</td><td>22</td><td>&quot;2018-05-18T01:00:06.000Z&quot;</td><td>&quot;[none]&quot;</td><td>1064798</td><td>60008</td><td>382</td><td>3936</td><td>&quot;https://i.ytimg.com/vi/1h7KV2s…</td><td>false</td><td>false</td><td>false</td><td>&quot;&quot;</td></tr><tr><td>&quot;D6Oy4LfoqsU&quot;</td><td>&quot;18.14.06&quot;</td><td>&quot;I GAVE SAFIYA NYGAARD A PERFEC…</td><td>&quot;Brad Mondo&quot;</td><td>24</td><td>&quot;2018-05-18T17:34:22.000Z&quot;</td><td>&quot;I gave safiya nygaard a perfec…</td><td>1066451</td><td>48068</td><td>1032</td><td>3992</td><td>&quot;https://i.ytimg.com/vi/D6Oy4Lf…</td><td>false</td><td>false</td><td>false</td><td>&quot;I had so much fun transforming…</td></tr><tr><td>&quot;oV0zkMe1K8s&quot;</td><td>&quot;18.14.06&quot;</td><td>&quot;How Black Panther Should Have …</td><td>&quot;How It Should Have Ended&quot;</td><td>1</td><td>&quot;2018-05-17T17:00:04.000Z&quot;</td><td>&quot;Black Panther|HISHE|Marvel|Inf…</td><td>5660813</td><td>192957</td><td>2846</td><td>13088</td><td>&quot;https://i.ytimg.com/vi/oV0zkMe…</td><td>false</td><td>false</td><td>false</td><td>&quot;How Black Panther Should Have …</td></tr><tr><td>&quot;ooyjaVdt-jA&quot;</td><td>&quot;18.14.06&quot;</td><td>&quot;Official Call of Duty®: Black …</td><td>&quot;Call of Duty&quot;</td><td>20</td><td>&quot;2018-05-17T17:09:38.000Z&quot;</td><td>&quot;call of duty|cod|activision|Bl…</td><td>10306119</td><td>357079</td><td>212976</td><td>144795</td><td>&quot;https://i.ytimg.com/vi/ooyjaVd…</td><td>false</td><td>false</td><td>false</td><td>&quot;Call of Duty: Black Ops 4 Mult…</td></tr></tbody></table></div>"
            ]
          },
          "metadata": {},
          "execution_count": 4
        }
      ]
    },
    {
      "cell_type": "code",
      "source": [
        "df.dtypes ## devuelve los tipos de datos del dataframe por columna"
      ],
      "metadata": {
        "colab": {
          "base_uri": "https://localhost:8080/"
        },
        "id": "BV9RM1xlDm0C",
        "outputId": "8d4bbac3-f3ab-488f-ebc1-dd483e976f68"
      },
      "id": "BV9RM1xlDm0C",
      "execution_count": 5,
      "outputs": [
        {
          "output_type": "execute_result",
          "data": {
            "text/plain": [
              "[String,\n",
              " String,\n",
              " String,\n",
              " String,\n",
              " Int64,\n",
              " String,\n",
              " String,\n",
              " Int64,\n",
              " Int64,\n",
              " Int64,\n",
              " Int64,\n",
              " String,\n",
              " Boolean,\n",
              " Boolean,\n",
              " Boolean,\n",
              " String]"
            ]
          },
          "metadata": {},
          "execution_count": 5
        }
      ]
    },
    {
      "cell_type": "code",
      "source": [
        "df.height ## devuelve la cantidad de registros del df"
      ],
      "metadata": {
        "colab": {
          "base_uri": "https://localhost:8080/"
        },
        "id": "YiZR2S0xD5os",
        "outputId": "5ced5a4a-f02f-4ca9-cd53-5856062873b6"
      },
      "id": "YiZR2S0xD5os",
      "execution_count": 6,
      "outputs": [
        {
          "output_type": "execute_result",
          "data": {
            "text/plain": [
              "40949"
            ]
          },
          "metadata": {},
          "execution_count": 6
        }
      ]
    },
    {
      "cell_type": "code",
      "source": [
        "df.schema ## devuelve un esquema columna y tipo de dato"
      ],
      "metadata": {
        "colab": {
          "base_uri": "https://localhost:8080/"
        },
        "id": "1ic4wLfzD9db",
        "outputId": "0a0671a6-efed-41ae-e51f-0122ff6fbe9a"
      },
      "id": "1ic4wLfzD9db",
      "execution_count": 7,
      "outputs": [
        {
          "output_type": "execute_result",
          "data": {
            "text/plain": [
              "Schema([('video_id', String),\n",
              "        ('trending_date', String),\n",
              "        ('title', String),\n",
              "        ('channel_title', String),\n",
              "        ('category_id', Int64),\n",
              "        ('publish_time', String),\n",
              "        ('tags', String),\n",
              "        ('views', Int64),\n",
              "        ('likes', Int64),\n",
              "        ('dislikes', Int64),\n",
              "        ('comment_count', Int64),\n",
              "        ('thumbnail_link', String),\n",
              "        ('comments_disabled', Boolean),\n",
              "        ('ratings_disabled', Boolean),\n",
              "        ('video_error_or_removed', Boolean),\n",
              "        ('description', String)])"
            ]
          },
          "metadata": {},
          "execution_count": 7
        }
      ]
    },
    {
      "cell_type": "code",
      "source": [
        "df.approx_n_unique() ## devuelve la cantidad de valores unicos"
      ],
      "metadata": {
        "colab": {
          "base_uri": "https://localhost:8080/",
          "height": 221
        },
        "id": "Gv__W1J_Eivw",
        "outputId": "f552d633-2025-4be3-9141-e50973dc47a9"
      },
      "id": "Gv__W1J_Eivw",
      "execution_count": 8,
      "outputs": [
        {
          "output_type": "stream",
          "name": "stderr",
          "text": [
            "<ipython-input-8-b690b1debf04>:1: DeprecationWarning: `DataFrame.approx_n_unique` is deprecated. Use `select(pl.all().approx_n_unique())` instead.\n",
            "  df.approx_n_unique() ## devuelve la cantidad de valores unicos\n",
            "<ipython-input-8-b690b1debf04>:1: DeprecationWarning: `LazyFrame.approx_n_unique` is deprecated. Use `select(pl.all().approx_n_unique())` instead.\n",
            "  df.approx_n_unique() ## devuelve la cantidad de valores unicos\n"
          ]
        },
        {
          "output_type": "execute_result",
          "data": {
            "text/plain": [
              "shape: (1, 16)\n",
              "┌──────────┬────────────┬───────┬────────────┬───┬────────────┬────────────┬───────────┬───────────┐\n",
              "│ video_id ┆ trending_d ┆ title ┆ channel_ti ┆ … ┆ comments_d ┆ ratings_di ┆ video_err ┆ descripti │\n",
              "│ ---      ┆ ate        ┆ ---   ┆ tle        ┆   ┆ isabled    ┆ sabled     ┆ or_or_rem ┆ on        │\n",
              "│ u32      ┆ ---        ┆ u32   ┆ ---        ┆   ┆ ---        ┆ ---        ┆ oved      ┆ ---       │\n",
              "│          ┆ u32        ┆       ┆ u32        ┆   ┆ u32        ┆ u32        ┆ ---       ┆ u32       │\n",
              "│          ┆            ┆       ┆            ┆   ┆            ┆            ┆ u32       ┆           │\n",
              "╞══════════╪════════════╪═══════╪════════════╪═══╪════════════╪════════════╪═══════════╪═══════════╡\n",
              "│ 6398     ┆ 205        ┆ 6482  ┆ 2207       ┆ … ┆ 2          ┆ 2          ┆ 2         ┆ 6884      │\n",
              "└──────────┴────────────┴───────┴────────────┴───┴────────────┴────────────┴───────────┴───────────┘"
            ],
            "text/html": [
              "<div><style>\n",
              ".dataframe > thead > tr,\n",
              ".dataframe > tbody > tr {\n",
              "  text-align: right;\n",
              "  white-space: pre-wrap;\n",
              "}\n",
              "</style>\n",
              "<small>shape: (1, 16)</small><table border=\"1\" class=\"dataframe\"><thead><tr><th>video_id</th><th>trending_date</th><th>title</th><th>channel_title</th><th>category_id</th><th>publish_time</th><th>tags</th><th>views</th><th>likes</th><th>dislikes</th><th>comment_count</th><th>thumbnail_link</th><th>comments_disabled</th><th>ratings_disabled</th><th>video_error_or_removed</th><th>description</th></tr><tr><td>u32</td><td>u32</td><td>u32</td><td>u32</td><td>u32</td><td>u32</td><td>u32</td><td>u32</td><td>u32</td><td>u32</td><td>u32</td><td>u32</td><td>u32</td><td>u32</td><td>u32</td><td>u32</td></tr></thead><tbody><tr><td>6398</td><td>205</td><td>6482</td><td>2207</td><td>16</td><td>6246</td><td>6016</td><td>40325</td><td>29702</td><td>8535</td><td>13694</td><td>6293</td><td>2</td><td>2</td><td>2</td><td>6884</td></tr></tbody></table></div>"
            ]
          },
          "metadata": {},
          "execution_count": 8
        }
      ]
    },
    {
      "cell_type": "code",
      "source": [
        "df.describe().transpose() ## devuelve la estadistica del df transpuesta"
      ],
      "metadata": {
        "colab": {
          "base_uri": "https://localhost:8080/",
          "height": 443
        },
        "id": "zmdVSdJeEpGS",
        "outputId": "60cbb67d-1fdb-4d3a-898a-a09a6d1c7456"
      },
      "id": "zmdVSdJeEpGS",
      "execution_count": 9,
      "outputs": [
        {
          "output_type": "execute_result",
          "data": {
            "text/plain": [
              "shape: (17, 9)\n",
              "┌──────────┬────────────┬─────────────┬──────────┬───┬──────────┬──────────┬──────────┬────────────┐\n",
              "│ column_0 ┆ column_1   ┆ column_2    ┆ column_3 ┆ … ┆ column_5 ┆ column_6 ┆ column_7 ┆ column_8   │\n",
              "│ ---      ┆ ---        ┆ ---         ┆ ---      ┆   ┆ ---      ┆ ---      ┆ ---      ┆ ---        │\n",
              "│ str      ┆ str        ┆ str         ┆ str      ┆   ┆ str      ┆ str      ┆ str      ┆ str        │\n",
              "╞══════════╪════════════╪═════════════╪══════════╪═══╪══════════╪══════════╪══════════╪════════════╡\n",
              "│ count    ┆ null_count ┆ mean        ┆ std      ┆ … ┆ 25%      ┆ 50%      ┆ 75%      ┆ max        │\n",
              "│ 40949    ┆ 0          ┆ null        ┆ null     ┆ … ┆ null     ┆ null     ┆ null     ┆ zzQsGL_F9_ │\n",
              "│          ┆            ┆             ┆          ┆   ┆          ┆          ┆          ┆ c          │\n",
              "│ 40949    ┆ 0          ┆ null        ┆ null     ┆ … ┆ null     ┆ null     ┆ null     ┆ 18.31.05   │\n",
              "│ 40949    ┆ 0          ┆ null        ┆ null     ┆ … ┆ null     ┆ null     ┆ null     ┆ 😱 $1,145  │\n",
              "│          ┆            ┆             ┆          ┆   ┆          ┆          ┆          ┆ iPhone     │\n",
              "│          ┆            ┆             ┆          ┆   ┆          ┆          ┆          ┆ Case!!     │\n",
              "│ 40949    ┆ 0          ┆ null        ┆ null     ┆ … ┆ null     ┆ null     ┆ null     ┆ 영국남자   │\n",
              "│          ┆            ┆             ┆          ┆   ┆          ┆          ┆          ┆ Korean     │\n",
              "│          ┆            ┆             ┆          ┆   ┆          ┆          ┆          ┆ Englishman │\n",
              "│ …        ┆ …          ┆ …           ┆ …        ┆ … ┆ …        ┆ …        ┆ …        ┆ …          │\n",
              "│ 40949    ┆ 0          ┆ null        ┆ null     ┆ … ┆ null     ┆ null     ┆ null     ┆ https://i. │\n",
              "│          ┆            ┆             ┆          ┆   ┆          ┆          ┆          ┆ ytimg.com/ │\n",
              "│          ┆            ┆             ┆          ┆   ┆          ┆          ┆          ┆ vi/zzQsGL_ │\n",
              "│          ┆            ┆             ┆          ┆   ┆          ┆          ┆          ┆ …          │\n",
              "│ 40949.0  ┆ 0.0        ┆ 0.015458252 ┆ null     ┆ … ┆ null     ┆ null     ┆ null     ┆ 1.0        │\n",
              "│          ┆            ┆ 948789959   ┆          ┆   ┆          ┆          ┆          ┆            │\n",
              "│ 40949.0  ┆ 0.0        ┆ 0.004127084 ┆ null     ┆ … ┆ null     ┆ null     ┆ null     ┆ 1.0        │\n",
              "│          ┆            ┆ 9104984245  ┆          ┆   ┆          ┆          ┆          ┆            │\n",
              "│ 40949.0  ┆ 0.0        ┆ 0.000561674 ┆ null     ┆ … ┆ null     ┆ null     ┆ null     ┆ 1.0        │\n",
              "│          ┆            ┆ 2777601407  ┆          ┆   ┆          ┆          ┆          ┆            │\n",
              "│ 40949    ┆ 0          ┆ null        ┆ null     ┆ … ┆ null     ┆ null     ┆ null     ┆ 😍         │\n",
              "│          ┆            ┆             ┆          ┆   ┆          ┆          ┆          ┆ Subscribe  │\n",
              "│          ┆            ┆             ┆          ┆   ┆          ┆          ┆          ┆ to my      │\n",
              "│          ┆            ┆             ┆          ┆   ┆          ┆          ┆          ┆ channel :  │\n",
              "│          ┆            ┆             ┆          ┆   ┆          ┆          ┆          ┆ ht…        │\n",
              "└──────────┴────────────┴─────────────┴──────────┴───┴──────────┴──────────┴──────────┴────────────┘"
            ],
            "text/html": [
              "<div><style>\n",
              ".dataframe > thead > tr,\n",
              ".dataframe > tbody > tr {\n",
              "  text-align: right;\n",
              "  white-space: pre-wrap;\n",
              "}\n",
              "</style>\n",
              "<small>shape: (17, 9)</small><table border=\"1\" class=\"dataframe\"><thead><tr><th>column_0</th><th>column_1</th><th>column_2</th><th>column_3</th><th>column_4</th><th>column_5</th><th>column_6</th><th>column_7</th><th>column_8</th></tr><tr><td>str</td><td>str</td><td>str</td><td>str</td><td>str</td><td>str</td><td>str</td><td>str</td><td>str</td></tr></thead><tbody><tr><td>&quot;count&quot;</td><td>&quot;null_count&quot;</td><td>&quot;mean&quot;</td><td>&quot;std&quot;</td><td>&quot;min&quot;</td><td>&quot;25%&quot;</td><td>&quot;50%&quot;</td><td>&quot;75%&quot;</td><td>&quot;max&quot;</td></tr><tr><td>&quot;40949&quot;</td><td>&quot;0&quot;</td><td>null</td><td>null</td><td>&quot;-0CMnp02rNY&quot;</td><td>null</td><td>null</td><td>null</td><td>&quot;zzQsGL_F9_c&quot;</td></tr><tr><td>&quot;40949&quot;</td><td>&quot;0&quot;</td><td>null</td><td>null</td><td>&quot;17.01.12&quot;</td><td>null</td><td>null</td><td>null</td><td>&quot;18.31.05&quot;</td></tr><tr><td>&quot;40949&quot;</td><td>&quot;0&quot;</td><td>null</td><td>null</td><td>&quot;#184 Making a PCB using EasyED…</td><td>null</td><td>null</td><td>null</td><td>&quot;😱 $1,145 iPhone Case!!&quot;</td></tr><tr><td>&quot;40949&quot;</td><td>&quot;0&quot;</td><td>null</td><td>null</td><td>&quot;12 News&quot;</td><td>null</td><td>null</td><td>null</td><td>&quot;영국남자 Korean Englishman&quot;</td></tr><tr><td>&hellip;</td><td>&hellip;</td><td>&hellip;</td><td>&hellip;</td><td>&hellip;</td><td>&hellip;</td><td>&hellip;</td><td>&hellip;</td><td>&hellip;</td></tr><tr><td>&quot;40949&quot;</td><td>&quot;0&quot;</td><td>null</td><td>null</td><td>&quot;https://i.ytimg.com/vi/-0CMnp0…</td><td>null</td><td>null</td><td>null</td><td>&quot;https://i.ytimg.com/vi/zzQsGL_…</td></tr><tr><td>&quot;40949.0&quot;</td><td>&quot;0.0&quot;</td><td>&quot;0.015458252948789959&quot;</td><td>null</td><td>&quot;0.0&quot;</td><td>null</td><td>null</td><td>null</td><td>&quot;1.0&quot;</td></tr><tr><td>&quot;40949.0&quot;</td><td>&quot;0.0&quot;</td><td>&quot;0.0041270849104984245&quot;</td><td>null</td><td>&quot;0.0&quot;</td><td>null</td><td>null</td><td>null</td><td>&quot;1.0&quot;</td></tr><tr><td>&quot;40949.0&quot;</td><td>&quot;0.0&quot;</td><td>&quot;0.0005616742777601407&quot;</td><td>null</td><td>&quot;0.0&quot;</td><td>null</td><td>null</td><td>null</td><td>&quot;1.0&quot;</td></tr><tr><td>&quot;40949&quot;</td><td>&quot;0&quot;</td><td>null</td><td>null</td><td>&quot;&quot;</td><td>null</td><td>null</td><td>null</td><td>&quot;😍 Subscribe to my channel : ht…</td></tr></tbody></table></div>"
            ]
          },
          "metadata": {},
          "execution_count": 9
        }
      ]
    },
    {
      "cell_type": "code",
      "source": [
        "df.estimated_size() ## devuelve la cantidad de bytes del df"
      ],
      "metadata": {
        "colab": {
          "base_uri": "https://localhost:8080/"
        },
        "id": "yBSszXN2EyVr",
        "outputId": "90fd3164-ed9b-4bda-a924-7913e575374b"
      },
      "id": "yBSszXN2EyVr",
      "execution_count": 10,
      "outputs": [
        {
          "output_type": "execute_result",
          "data": {
            "text/plain": [
              "60450959"
            ]
          },
          "metadata": {},
          "execution_count": 10
        }
      ]
    },
    {
      "cell_type": "code",
      "source": [
        "40950*16"
      ],
      "metadata": {
        "colab": {
          "base_uri": "https://localhost:8080/"
        },
        "id": "zcliXh1QH6Ns",
        "outputId": "87e1780d-55c2-4e9f-df60-90bb5edf5995"
      },
      "id": "zcliXh1QH6Ns",
      "execution_count": 11,
      "outputs": [
        {
          "output_type": "execute_result",
          "data": {
            "text/plain": [
              "655200"
            ]
          },
          "metadata": {},
          "execution_count": 11
        }
      ]
    },
    {
      "cell_type": "code",
      "source": [
        "df.glimpse() ### muestra una vista previa del df"
      ],
      "metadata": {
        "colab": {
          "base_uri": "https://localhost:8080/"
        },
        "id": "-74uWYiJFijh",
        "outputId": "7cf5dc3b-2476-4f0d-e156-704220516deb"
      },
      "id": "-74uWYiJFijh",
      "execution_count": 12,
      "outputs": [
        {
          "output_type": "stream",
          "name": "stdout",
          "text": [
            "Rows: 40949\n",
            "Columns: 16\n",
            "$ video_id                <str> '2kyS6SvSYSE', '1ZAPwfrtAFY', '5qpjK5DgCt4', 'puqaWrEC7tY', 'd380meD0W0M', 'gHZ1Qz0KiKM', '39idVpFF7NQ', 'nc99ccSXST0', 'jr9QtXwC9vc', 'TUmyygCMMGA'\n",
            "$ trending_date           <str> '17.14.11', '17.14.11', '17.14.11', '17.14.11', '17.14.11', '17.14.11', '17.14.11', '17.14.11', '17.14.11', '17.14.11'\n",
            "$ title                   <str> 'WE WANT TO TALK ABOUT OUR MARRIAGE', 'The Trump Presidency: Last Week Tonight with John Oliver (HBO)', 'Racist Superman | Rudy Mancuso, King Bach & Lele Pons', 'Nickelback Lyrics: Real or Fake?', 'I Dare You: GOING BALD!?', '2 Weeks with iPhone X', 'Roy Moore & Jeff Sessions Cold Open - SNL', '5 Ice Cream Gadgets put to the Test', 'The Greatest Showman | Official Trailer 2 [HD] | 20th Century FOX', 'Why the rise of the robots won’t mean the end of work'\n",
            "$ channel_title           <str> 'CaseyNeistat', 'LastWeekTonight', 'Rudy Mancuso', 'Good Mythical Morning', 'nigahiga', 'iJustine', 'Saturday Night Live', 'CrazyRussianHacker', '20th Century Fox', 'Vox'\n",
            "$ category_id             <i64> 22, 24, 23, 24, 24, 28, 24, 28, 1, 25\n",
            "$ publish_time            <str> '2017-11-13T17:13:01.000Z', '2017-11-13T07:30:00.000Z', '2017-11-12T19:05:24.000Z', '2017-11-13T11:00:04.000Z', '2017-11-12T18:01:41.000Z', '2017-11-13T19:07:23.000Z', '2017-11-12T05:37:17.000Z', '2017-11-12T21:50:37.000Z', '2017-11-13T14:00:23.000Z', '2017-11-13T13:45:16.000Z'\n",
            "$ tags                    <str> 'SHANtell martin', 'last week tonight trump presidency|last week tonight donald trump|john oliver trump|donald trump', \"racist superman|rudy|mancuso|king|bach|racist|superman|love|rudy mancuso poo bear black white official music video|iphone x by pineapple|lelepons|hannahstocking|rudymancuso|inanna|anwar|sarkis|shots|shotsstudios|alesso|anitta|brazil|Getting My Driver's License | Lele Pons\", 'rhett and link|gmm|good mythical morning|rhett and link good mythical morning|good mythical morning rhett and link|mythical morning|Season 12|nickelback lyrics|nickelback lyrics real or fake|nickelback|nickelback songs|nickelback song|rhett link nickelback|gmm nickelback|lyrics (website category)|nickelback (musical group)|rock|music|lyrics|chad kroeger|canada|music (industry)|mythical|gmm challenge|comedy|funny|challenge', 'ryan|higa|higatv|nigahiga|i dare you|idy|rhpc|dares|no truth|comments|comedy|funny|stupid|fail', 'ijustine|week with iPhone X|iphone x|apple|iphone|iphone x review|iphone x unboxing', 'SNL|Saturday Night Live|SNL Season 43|Episode 1730|Tiffany Haddish|Roy Moore|Mikey Day|Mike Pence|Beck Bennett|Jeff Sessions|Kate McKinnon|s43|s43e5|episode 5|live|new york|comedy|sketch|funny|hilarious|late night|host|music|guest|laugh|impersonation|actor|improv|musician|comedian|actress|If Loving You Is Wrong|Oprah Winfrey|OWN|Girls Trip|The Carmichael Show|Keanu|Taylor Swift|Reputation|Look What You Made Me Do|ready for it?|cold open', '5 Ice Cream Gadgets|Ice Cream|Cream Sandwich Maker|gadgets|gadget review|review|unboxing|kitchen gadgets|Gadgets put to the Test|testing|10 Kitchen Gadgets|7 Camping Coffee Gadgets|10 Kitchen Gadgets put to the Test', 'Trailer|Hugh Jackman|Michelle Williams|Zac Efron|Zendaya|Rebecca Ferguson|pasek and paul|la la land|moulin rouge|high school musical|hugh jackman musical|zac efron musical|musical|the greatest showman|greatest showman|Michael Gracey|P.T. Barnum|Barnum and Bailey|Barnum Circus|Barnum and Bailey Circus|20th century fox|greatest showman trailer|trailer|official trailer|the greatest showman trailer|logan|Benj Pasek|Justin Paul', 'vox.com|vox|explain|shift change|future of work|automation|robots|jobs|technological unemployment|joss fong|heidi shierholz|martin ford|rise of the robots|humans|workers|employment|economics|macroeconomics|silicon valley|basic income'\n",
            "$ views                   <i64> 748374, 2418783, 3191434, 343168, 2095731, 119180, 2103417, 817732, 826059, 256426\n",
            "$ likes                   <i64> 57527, 97185, 146033, 10172, 132235, 9763, 15993, 23663, 3543, 12654\n",
            "$ dislikes                <i64> 2966, 6146, 5339, 666, 1989, 511, 2445, 778, 119, 1363\n",
            "$ comment_count           <i64> 15954, 12703, 8181, 2146, 17518, 1434, 1970, 3432, 340, 2368\n",
            "$ thumbnail_link          <str> 'https://i.ytimg.com/vi/2kyS6SvSYSE/default.jpg', 'https://i.ytimg.com/vi/1ZAPwfrtAFY/default.jpg', 'https://i.ytimg.com/vi/5qpjK5DgCt4/default.jpg', 'https://i.ytimg.com/vi/puqaWrEC7tY/default.jpg', 'https://i.ytimg.com/vi/d380meD0W0M/default.jpg', 'https://i.ytimg.com/vi/gHZ1Qz0KiKM/default.jpg', 'https://i.ytimg.com/vi/39idVpFF7NQ/default.jpg', 'https://i.ytimg.com/vi/nc99ccSXST0/default.jpg', 'https://i.ytimg.com/vi/jr9QtXwC9vc/default.jpg', 'https://i.ytimg.com/vi/TUmyygCMMGA/default.jpg'\n",
            "$ comments_disabled      <bool> False, False, False, False, False, False, False, False, False, False\n",
            "$ ratings_disabled       <bool> False, False, False, False, False, False, False, False, False, False\n",
            "$ video_error_or_removed <bool> False, False, False, False, False, False, False, False, False, False\n",
            "$ description             <str> \"SHANTELL'S CHANNEL - https://www.youtube.com/shantellmartin\\\\nCANDICE - https://www.lovebilly.com\\\\n\\\\nfilmed this video in 4k on this -- http://amzn.to/2sTDnRZ\\\\nwith this lens -- http://amzn.to/2rUJOmD\\\\nbig drone - http://tinyurl.com/h4ft3oy\\\\nOTHER GEAR ---  http://amzn.to/2o3GLX5\\\\nSony CAMERA http://amzn.to/2nOBmnv\\\\nOLD CAMERA; http://amzn.to/2o2cQBT\\\\nMAIN LENS; http://amzn.to/2od5gBJ\\\\nBIG SONY CAMERA; http://amzn.to/2nrdJRO\\\\nBIG Canon CAMERA; http://tinyurl.com/jn4q4vz\\\\nBENDY TRIPOD THING; http://tinyurl.com/gw3ylz2\\\\nYOU NEED THIS FOR THE BENDY TRIPOD; http://tinyurl.com/j8mzzua\\\\nWIDE LENS; http://tinyurl.com/jkfcm8t\\\\nMORE EXPENSIVE WIDE LENS; http://tinyurl.com/zrdgtou\\\\nSMALL CAMERA; http://tinyurl.com/hrrzhor\\\\nMICROPHONE; http://tinyurl.com/zefm4jy\\\\nOTHER MICROPHONE; http://tinyurl.com/jxgpj86\\\\nOLD DRONE (cheaper but still great);http://tinyurl.com/zcfmnmd\\\\n\\\\nfollow me; on http://instagram.com/caseyneistat\\\\non https://www.facebook.com/cneistat\\\\non https://twitter.com/CaseyNeistat\\\\n\\\\namazing intro song by https://soundcloud.com/discoteeth\\\\n\\\\nad disclosure.  THIS IS NOT AN AD.  not selling or promoting anything.  but samsung did produce the Shantell Video as a 'GALAXY PROJECT' which is an initiative that enables creators like Shantell and me to make projects we might otherwise not have the opportunity to make.  hope that's clear.  if not ask in the comments and i'll answer any specifics.\", \"One year after the presidential election, John Oliver discusses what we've learned so far and enlists our catheter cowboy to teach Donald Trump what he hasn't.\\\\n\\\\nConnect with Last Week Tonight online...\\\\n\\\\nSubscribe to the Last Week Tonight YouTube channel for more almost news as it almost happens: www.youtube.com/user/LastWeekTonight\\\\n\\\\nFind Last Week Tonight on Facebook like your mom would: http://Facebook.com/LastWeekTonight\\\\n\\\\nFollow us on Twitter for news about jokes and jokes about news: http://Twitter.com/LastWeekTonight\\\\n\\\\nVisit our official site for all that other stuff at once: http://www.hbo.com/lastweektonight\", 'WATCH MY PREVIOUS VIDEO ▶ \\\\n\\\\nSUBSCRIBE ► https://www.youtube.com/channel/UC5jkXpfnBhlDjqh0ir5FsIQ?sub_confirmation=1\\\\n\\\\nTHANKS FOR WATCHING! LIKE & SUBSCRIBE FOR MORE VIDEOS!\\\\n-----------------------------------------------------------\\\\nFIND ME ON: \\\\nInstagram | http://instagram.com/rudymancuso\\\\nTwitter | http://twitter.com/rudymancuso\\\\nFacebook | http://facebook.com/rudymancuso\\\\n\\\\nCAST: \\\\nRudy Mancuso | http://youtube.com/c/rudymancuso\\\\nLele Pons | http://youtube.com/c/lelepons\\\\nKing Bach | https://youtube.com/user/BachelorsPadTv\\\\n\\\\nVideo Effects: \\\\nCaleb Natale | https://instagram.com/calebnatale\\\\n\\\\nPA:\\\\nPaulina Gregory\\\\n\\\\n\\\\nShots Studios Channels:\\\\nAlesso | https://youtube.com/c/alesso\\\\nAnitta | http://youtube.com/c/anitta\\\\nAnwar Jibawi | http://youtube.com/c/anwar\\\\nAwkward Puppets | http://youtube.com/c/awkwardpuppets\\\\nHannah Stocking | http://youtube.com/c/hannahstocking\\\\nInanna Sarkis | http://youtube.com/c/inanna\\\\nLele Pons | http://youtube.com/c/lelepons\\\\nMaejor | http://youtube.com/c/maejor\\\\nMike Tyson | http://youtube.com/c/miketyson \\\\nRudy Mancuso | http://youtube.com/c/rudymancuso\\\\nShots Studios | http://youtube.com/c/shots\\\\n\\\\n#Rudy\\\\n#RudyMancuso', \"Today we find out if Link is a Nickelback amateur or a secret Nickelback devotee. GMM #1218\\\\nDon't miss an all new Ear Biscuits: https://goo.gl/xeZNQt\\\\nWatch Part 4: https://youtu.be/MhCdiiB8CQg | Watch Part 2: https://youtu.be/7qiOrNao9fg\\\\nWatch today's episode from the start: http://bit.ly/GMM1218\\\\n\\\\nPick up all of the official GMM merch only at https://mythical.store\\\\n\\\\nFollow Rhett & Link: \\\\nInstagram: https://instagram.com/rhettandlink\\\\nFacebook: https://facebook.com/rhettandlink\\\\nTwitter: https://twitter.com/rhettandlink\\\\nTumblr: https://rhettandlink.tumblr.com\\\\nSnapchat: @realrhettlink\\\\nWebsite: https://mythical.co/\\\\n\\\\nCheck Out Our Other Mythical Channels:\\\\nGood Mythical MORE: https://youtube.com/goodmythicalmore\\\\nRhett & Link: https://youtube.com/rhettandlink\\\\nThis Is Mythical: https://youtube.com/thisismythical\\\\nEar Biscuits: https://applepodcasts.com/earbiscuits\\\\n\\\\nWant to send us something? https://mythical.co/contact\\\\nHave you made a Wheel of Mythicality intro video? Submit it here: https://bit.ly/GMMWheelIntro\\\\n\\\\nIntro Animation by Digital Twigs: https://www.digitaltwigs.com\\\\nIntro & Outro Music by Jeff Zeigler & Sarah Schimeneck https://www.jeffzeigler.com\\\\nWheel of Mythicality theme: https://www.royaltyfreemusiclibrary.com/\\\\nAll Supplemental Music fromOpus 1 Music: https://opus1.sourceaudio.com/\\\\nWe use ‘The Mouse’ by Blue Microphones https://www.bluemic.com/mouse/\", \"I know it's been a while since we did this show, but we're back with what might be the best episode yet!\\\\nLeave your dares in the comment section! \\\\n\\\\nOrder my book how to write good \\\\nhttp://higatv.com/ryan-higas-how-to-write-good-pre-order-links/\\\\n\\\\nJust Launched New Official Store\\\\nhttps://www.gianthugs.com/collections/ryan\\\\n\\\\nHigaTV Channel\\\\nhttp://www.youtube.com/higatv\\\\n\\\\nTwitter\\\\nhttp://www.twitter.com/therealryanhiga\\\\n\\\\nFacebook\\\\nhttp://www.facebook.com/higatv\\\\n\\\\nWebsite\\\\nhttp://www.higatv.com\\\\n\\\\nInstagram\\\\nhttp://www.instagram.com/notryanhiga\\\\n\\\\nSend us mail or whatever you want here!\\\\nPO Box 232355\\\\nLas Vegas, NV 89105\", \"Using the iPhone for the past two weeks -- here's my thoughts!\\\\nAll my iPhone X Videos: https://www.youtube.com/watch?v=vqztGUwhRlQ&list=PLoYRB6C09WUDbCndtEDELX-Fpk_pgATvF\\\\n► SUBSCRIBE FOR MORE VIDEOS: http://www.youtube.com/subscription_center?add_user=ijustine\\\\n► Get my BOOK! http://ijustinebook.com\\\\n► Get my iOS 10 STICKERS! http://ijustinestickers.com\\\\n\\\\n▼ SOCIAL\\\\nhttp://instagram.com/ijustine\\\\nhttp://facebook.com/ijustine\\\\nhttp://twitter.com/ijustine\\\\nSnapchat: iJustine\\\\n\\\\n————————————\\\\n\\\\n▼ STUFF I USE TO MAKE VIDEOS\\\\n\\\\nSony rx100 V - http://amzn.to/2jesbxA\\\\nG7X ii - http://amzn.to/2f6n2Bs\\\\nCanon 80D - http://amzn.to/2eRKhQo\\\\nSony A7s ii - http://amzn.to/2ebLR16\\\\nSony a6500 - http://amzn.to/2okeG2a\\\\nGoPro Hero 5 - http://amzn.to/2e1KyhM\\\\nGoPro Hero 5 Session - http://amzn.to/2oksMQT\\\\nEpidemic Sound - https://goo.gl/Pe7GTL \\\\n\\\\nFavorite lenses: \\\\nCanon EF 24-70mm - http://amzn.to/2dT7mFr\\\\nCanon EF-S 10-18mm - http://amzn.to/2dT62SU\\\\nSony 16-35mm (full frame) - http://amzn.to/2ftPaTf\\\\nSony Distagon 35mm (full frame) - http://amzn.to/2oB0XQj\\\\nSony 10-18mm wide angle - http://amzn.to/2e1Myqz\\\\n\\\\nRode Small on camera microphone - http://amzn.to/2fkiVGJ\\\\nRode Larger (battery required) microphone - http://amzn.to/2ftNkl8\\\\nSony XLR adapter Microphone - http://amzn.to/2kCcIDH\\\\nSmall Sony Microphone - http://amzn.to/2oX7Eih\\\\n\\\\nFavorite SD Card - http://amzn.to/2oWRGoD\\\\n\\\\nDJI Mavic Pro - http://amzn.to/2f6nL5E\\\\nPhantom 4 Pro - http://amzn.to/2pbDrN1\\\\nPhantom 4 Pro Plus  - http://amzn.to/2oX63Jz\", 'Embattled Alabama Senate candidate Roy Moore (Mikey Day) meets with Vice President Mike Pence (Beck Bennett) and Attorney General Jeff Sessions (Kate McKinnon).\\\\n\\\\n#SNL #SNL43\\\\n\\\\nGet more SNL: http://www.nbc.com/saturday-night-live\\\\nFull Episodes: http://www.nbc.com/saturday-night-liv...\\\\n\\\\nLike SNL: https://www.facebook.com/snl\\\\nFollow SNL: https://twitter.com/nbcsnl\\\\nSNL Tumblr: http://nbcsnl.tumblr.com/\\\\nSNL Instagram: http://instagram.com/nbcsnl \\\\nSNL Pinterest: http://www.pinterest.com/nbcsnl/', \"Ice Cream Pint Combination Lock - http://amzn.to/2ACipdI\\\\nMini Ice Cream Sandwich Maker - http://amzn.to/2ACiX3g\\\\nMotorized Ice Cream Cone - http://amzn.to/2jkrYdg\\\\nBall Ice Cream Maker - http://amzn.to/2AEbtwE\\\\nScoop and Stack - http://amzn.to/2zEMhGo\\\\n\\\\nSubscribe to: \\\\n2nd channel - https://www.youtube.com/user/origami768\\\\ninstagram https://instagram.com/crazyrussianhacker/\\\\nfacebook - https://www.facebook.com/CrazyRussianHacker\\\\n\\\\nDON'T TRY THIS AT HOME!\\\\n\\\\nBusiness email: crh.inquire@gmail.com\\\\n\\\\nFAN MAIL:  \\\\nCRAZY RUSSIAN HACKER\\\\nP.O. Box 49\\\\nWaynesville, NC 28786\\\\n\\\\nDISCLAIMER: In this video description contains affiliate links, which means that if you click on one of the product links, I’ll receive a small commission.\", 'Inspired by the imagination of P.T. Barnum, The Greatest Showman is an original musical that celebrates the birth of show business & tells of a visionary who rose from nothing to create a spectacle that became a worldwide sensation.\\\\n\\\\nIn Theaters This Christmas\\\\n\\\\nDirected By Michael Gracey\\\\nCast: Hugh Jackman, Michelle Williams, Zac Efron, Zendaya, Rebecca Ferguson\\\\n\\\\nSUBSCRIBE: http://bit.ly/FOXSubscribe\\\\n\\\\n\\\\nVisit the Official Site Here: http://www.foxmovies.com/movies/the-greatest-showman\\\\nLike The Greatest Showman on FACEBOOK: http://fox.co/GreatestShowmanFB\\\\nFollow The Greatest Showman on TWITTER: http://fox.co/GreatestShowmanTW\\\\nFollow The Greatest Showman on INSTAGRAM: http://fox.co/GreatestShowmanIG\\\\n\\\\n#GreatestShowman\\\\n\\\\nAbout 20th Century FOX:\\\\nOfficial YouTube Channel for 20th Century Fox Movies. Home of Avatar, Aliens, X-Men, Die Hard, Deadpool, Ice Age, Alvin and the Chipmunks, Rio, Peanuts, Maze Runner, Planet of the Apes, Wolverine and many more.\\\\n\\\\nConnect with 20th Century FOX Online:\\\\nVisit the 20th Century FOX WEBSITE: http://bit.ly/FOXMovie\\\\nLike 20th Century FOX on FACEBOOK: http://bit.ly/FOXFacebook\\\\nFollow 20th Century FOX on TWITTER: http://bit.ly/TwitterFOX\\\\n\\\\nThe Greatest Showman | Official Trailer 2 [HD] | 20th Century FOX\\\\nhttp://www.youtube.com/user/FoxMovies', \"For now, at least, we have better things to worry about.\\\\n\\\\n\\\\nSubscribe to our channel! http://goo.gl/0bsAjO\\\\n\\\\nSources: \\\\nhttps://economics.mit.edu/files/11563\\\\nhttps://www.aeaweb.org/full_issue.php?doi=10.1257/jep.29.3#page=33\\\\nhttp://voxeu.org/article/how-computer-automation-affects-occupations\\\\nhttps://www.opensocietyfoundations.org/sites/default/files/future-work-lit-review-20150428.pdf\\\\nhttps://obamawhitehouse.archives.gov/sites/whitehouse.gov/files/documents/Artificial-Intelligence-Automation-Economy.PDF\\\\nhttps://www.vox.com/2015/7/27/9038829/automation-myth\\\\nhttps://www.amazon.com/dp/B00PWX7RPG/ref=dp-kindle-redirect\\\\nhttps://www.amazon.com/Second-Machine-Age-Prosperity-Technologies-ebook/dp/B00D97HPQI/ref=sr_1_1\\\\nhttps://www.amazon.com/New-Division-Labor-Computers-Creating/dp/0691124027/ref=sr_1_1?\\\\nhttps://www.oxfordmartin.ox.ac.uk/downloads/academic/The_Future_of_Employment.pdf\\\\n\\\\nClips:\\\\nhttps://www.youtube.com/watch?v=VTlV0Y5yAww\\\\nhttps://www.youtube.com/watch?v=_luhn7TLfWU\\\\nhttps://www.youtube.com/watch?v=rVlhMGQgDkY\\\\nhttps://www.youtube.com/watch?v=rCoFKUJ_8Yo\\\\nhttps://www.youtube.com/watch?v=yeyn9zzrC84\\\\nhttps://www.youtube.com/watch?v=7Pq-S557XQU\\\\nhttps://www.youtube.com/watch?v=WSKi8HfcxEk\\\\n\\\\n///\\\\n\\\\nRecent advancements in artificial intelligence and robotics have commentators worrying about the coming obsolescence of the human worker. Some in Silicon Valley are even calling for a basic minimum income provided by the government for everyone, under the assumption that work will become scarce. But many economists are skeptical of these claims, because the notion that the the economy offers a fixed amount of work has been debunked time and time again over the centuries and current economic data show no signs of a productivity boom. Fortunately, we don't need to divine the future of the labor market in order to prepare for it. \\\\n\\\\n///\\\\n\\\\nVox.com is a news website that helps you cut through the noise and understand what's really driving the events in the headlines. Check out http://www.vox.com to get up to speed on everything from Kurdistan to the Kim Kardashian app. \\\\n\\\\nCheck out our full video catalog: http://goo.gl/IZONyE\\\\nFollow Vox on Twitter: http://goo.gl/XFrZ5H\\\\nOr on Facebook: http://goo.gl/U2g06o\"\n",
            "\n"
          ]
        }
      ]
    },
    {
      "cell_type": "code",
      "source": [
        "df.is_duplicated() ## devuelve los duplicados del df"
      ],
      "metadata": {
        "colab": {
          "base_uri": "https://localhost:8080/",
          "height": 425
        },
        "id": "l_MNy_c9FpOq",
        "outputId": "b4f05ccf-e8b5-4174-8730-a887fa343c29"
      },
      "id": "l_MNy_c9FpOq",
      "execution_count": 14,
      "outputs": [
        {
          "output_type": "execute_result",
          "data": {
            "text/plain": [
              "shape: (40_949,)\n",
              "Series: '' [bool]\n",
              "[\n",
              "\tfalse\n",
              "\tfalse\n",
              "\tfalse\n",
              "\tfalse\n",
              "\tfalse\n",
              "\t…\n",
              "\tfalse\n",
              "\tfalse\n",
              "\tfalse\n",
              "\tfalse\n",
              "\tfalse\n",
              "]"
            ],
            "text/html": [
              "<div><style>\n",
              ".dataframe > thead > tr,\n",
              ".dataframe > tbody > tr {\n",
              "  text-align: right;\n",
              "  white-space: pre-wrap;\n",
              "}\n",
              "</style>\n",
              "<small>shape: (40_949,)</small><table border=\"1\" class=\"dataframe\"><thead><tr><th></th></tr><tr><td>bool</td></tr></thead><tbody><tr><td>false</td></tr><tr><td>false</td></tr><tr><td>false</td></tr><tr><td>false</td></tr><tr><td>false</td></tr><tr><td>&hellip;</td></tr><tr><td>false</td></tr><tr><td>false</td></tr><tr><td>false</td></tr><tr><td>false</td></tr><tr><td>false</td></tr></tbody></table></div>"
            ]
          },
          "metadata": {},
          "execution_count": 14
        }
      ]
    },
    {
      "cell_type": "code",
      "source": [
        "df.filter(df.is_duplicated())"
      ],
      "metadata": {
        "colab": {
          "base_uri": "https://localhost:8080/",
          "height": 1000
        },
        "id": "bcm6RyhWIq_7",
        "outputId": "a0438153-b67b-4258-f7df-38d161c14a0f"
      },
      "id": "bcm6RyhWIq_7",
      "execution_count": 15,
      "outputs": [
        {
          "output_type": "execute_result",
          "data": {
            "text/plain": [
              "shape: (96, 16)\n",
              "┌───────────┬───────────┬───────────┬───────────┬───┬───────────┬───────────┬───────────┬──────────┐\n",
              "│ video_id  ┆ trending_ ┆ title     ┆ channel_t ┆ … ┆ comments_ ┆ ratings_d ┆ video_err ┆ descript │\n",
              "│ ---       ┆ date      ┆ ---       ┆ itle      ┆   ┆ disabled  ┆ isabled   ┆ or_or_rem ┆ ion      │\n",
              "│ str       ┆ ---       ┆ str       ┆ ---       ┆   ┆ ---       ┆ ---       ┆ oved      ┆ ---      │\n",
              "│           ┆ str       ┆           ┆ str       ┆   ┆ bool      ┆ bool      ┆ ---       ┆ str      │\n",
              "│           ┆           ┆           ┆           ┆   ┆           ┆           ┆ bool      ┆          │\n",
              "╞═══════════╪═══════════╪═══════════╪═══════════╪═══╪═══════════╪═══════════╪═══════════╪══════════╡\n",
              "│ QBL8IRJ5y ┆ 18.15.05  ┆ Why I'm   ┆ grav3yard ┆ … ┆ false     ┆ false     ┆ false     ┆ I will   │\n",
              "│ HU        ┆           ┆ So Scared ┆ girl      ┆   ┆           ┆           ┆           ┆ never be │\n",
              "│           ┆           ┆ (being    ┆           ┆   ┆           ┆           ┆           ┆ able to  │\n",
              "│           ┆           ┆ mysel…    ┆           ┆   ┆           ┆           ┆           ┆ say Th…  │\n",
              "│ t4pRQ0jn2 ┆ 18.15.05  ┆ YoungBoy  ┆ Complex   ┆ … ┆ false     ┆ false     ┆ false     ┆ YoungBoy │\n",
              "│ 3Q        ┆           ┆ Never     ┆           ┆   ┆           ┆           ┆           ┆ Never    │\n",
              "│           ┆           ┆ Broke     ┆           ┆   ┆           ┆           ┆           ┆ Broke    │\n",
              "│           ┆           ┆ Again     ┆           ┆   ┆           ┆           ┆           ┆ Again    │\n",
              "│           ┆           ┆ Goe…      ┆           ┆   ┆           ┆           ┆           ┆ goe…     │\n",
              "│ j4KvrAUjn ┆ 18.15.05  ┆ WE MADE   ┆ Lucas and ┆ … ┆ false     ┆ false     ┆ false     ┆ BEST MOM │\n",
              "│ 6c        ┆           ┆ OUR MOM   ┆ Marcus    ┆   ┆           ┆           ┆           ┆ EVER!    │\n",
              "│           ┆           ┆ CRY...HER ┆           ┆   ┆           ┆           ┆           ┆ WANT TO  │\n",
              "│           ┆           ┆ DREA…     ┆           ┆   ┆           ┆           ┆           ┆ SEE US … │\n",
              "│ MAjY8mCTX ┆ 18.15.05  ┆ 周杰倫    ┆ 杰威爾音  ┆ … ┆ false     ┆ false     ┆ false     ┆ 詞：周杰 │\n",
              "│ Wk        ┆           ┆ Jay Chou  ┆ 樂 JVR    ┆   ┆           ┆           ┆           ┆ 倫、宋健 │\n",
              "│           ┆           ┆ 【不愛我  ┆ Music     ┆   ┆           ┆           ┆           ┆ 彰（彈頭 │\n",
              "│           ┆           ┆ 就拉倒 If ┆           ┆   ┆           ┆           ┆           ┆ ）  曲： │\n",
              "│           ┆           ┆ You Don…  ┆           ┆   ┆           ┆           ┆           ┆ 周杰倫憂 │\n",
              "│           ┆           ┆           ┆           ┆   ┆           ┆           ┆           ┆ 鬱型男的 │\n",
              "│           ┆           ┆           ┆           ┆   ┆           ┆           ┆           ┆ 走心旋律 │\n",
              "│           ┆           ┆           ┆           ┆   ┆           ┆           ┆           ┆ …        │\n",
              "│ xhs8tf1v_ ┆ 18.15.05  ┆ Terry     ┆ WIRED     ┆ … ┆ false     ┆ false     ┆ false     ┆ Terry    │\n",
              "│ _w        ┆           ┆ Crews     ┆           ┆   ┆           ┆           ┆           ┆ Crews    │\n",
              "│           ┆           ┆ Answers   ┆           ┆   ┆           ┆           ┆           ┆ takes    │\n",
              "│           ┆           ┆ the Web's ┆           ┆   ┆           ┆           ┆           ┆ the      │\n",
              "│           ┆           ┆ …         ┆           ┆   ┆           ┆           ┆           ┆ WIRED    │\n",
              "│           ┆           ┆           ┆           ┆   ┆           ┆           ┆           ┆ Au…      │\n",
              "│ …         ┆ …         ┆ …         ┆ …         ┆ … ┆ …         ┆ …         ┆ …         ┆ …        │\n",
              "│ iILJvqrAQ ┆ 18.15.05  ┆ Charlie   ┆ Charlie   ┆ … ┆ false     ┆ false     ┆ false     ┆ Voicenot │\n",
              "│ _w        ┆           ┆ Puth -    ┆ Puth      ┆   ┆           ┆           ┆           ┆ es Avail │\n",
              "│           ┆           ┆ BOY       ┆           ┆   ┆           ┆           ┆           ┆ able     │\n",
              "│           ┆           ┆ [Official ┆           ┆   ┆           ┆           ┆           ┆ Now:     │\n",
              "│           ┆           ┆ A…        ┆           ┆   ┆           ┆           ┆           ┆ http…    │\n",
              "│ zcEE8J2Bq ┆ 18.15.05  ┆ The       ┆ Jack and  ┆ … ┆ false     ┆ false     ┆ false     ┆ That?    │\n",
              "│ a8        ┆           ┆ Goblin -  ┆ Dean      ┆   ┆           ┆           ┆           ┆ That's a │\n",
              "│           ┆           ┆ JACK AND  ┆           ┆   ┆           ┆           ┆           ┆ goblin   │\n",
              "│           ┆           ┆ DEAN      ┆           ┆   ┆           ┆           ┆           ┆ living   │\n",
              "│           ┆           ┆           ┆           ┆   ┆           ┆           ┆           ┆ u…       │\n",
              "│ q1jzwV_s8 ┆ 18.15.05  ┆ Christina ┆ CAguilera ┆ … ┆ false     ┆ false     ┆ false     ┆ Pre-orde │\n",
              "│ _Y        ┆           ┆ Aguilera  ┆ VEVO      ┆   ┆           ┆           ┆           ┆ r Christ │\n",
              "│           ┆           ┆ - Twice   ┆           ┆   ┆           ┆           ┆           ┆ ina Agui │\n",
              "│           ┆           ┆ (Au…      ┆           ┆   ┆           ┆           ┆           ┆ lera’s…  │\n",
              "│ mkz1zoo15 ┆ 18.15.05  ┆ Richard   ┆ ESPN      ┆ … ┆ false     ┆ false     ┆ false     ┆ Richard  │\n",
              "│ zI        ┆           ┆ Jefferson ┆           ┆   ┆           ┆           ┆           ┆ Jefferso │\n",
              "│           ┆           ┆ and Tracy ┆           ┆   ┆           ┆           ┆           ┆ n and    │\n",
              "│           ┆           ┆ Mc…       ┆           ┆   ┆           ┆           ┆           ┆ Tracy    │\n",
              "│           ┆           ┆           ┆           ┆   ┆           ┆           ┆           ┆ Mc…      │\n",
              "│ 2PH7dK6SL ┆ 18.15.05  ┆ John      ┆ johnmayer ┆ … ┆ false     ┆ false     ┆ false     ┆ Spotify: │\n",
              "│ C8        ┆           ┆ Mayer -   ┆ VEVO      ┆   ┆           ┆           ┆           ┆ http://r │\n",
              "│           ┆           ┆ New Light ┆           ┆   ┆           ┆           ┆           ┆ adi.al/N │\n",
              "│           ┆           ┆           ┆           ┆   ┆           ┆           ┆           ┆ ewLig…   │\n",
              "└───────────┴───────────┴───────────┴───────────┴───┴───────────┴───────────┴───────────┴──────────┘"
            ],
            "text/html": [
              "<div><style>\n",
              ".dataframe > thead > tr,\n",
              ".dataframe > tbody > tr {\n",
              "  text-align: right;\n",
              "  white-space: pre-wrap;\n",
              "}\n",
              "</style>\n",
              "<small>shape: (96, 16)</small><table border=\"1\" class=\"dataframe\"><thead><tr><th>video_id</th><th>trending_date</th><th>title</th><th>channel_title</th><th>category_id</th><th>publish_time</th><th>tags</th><th>views</th><th>likes</th><th>dislikes</th><th>comment_count</th><th>thumbnail_link</th><th>comments_disabled</th><th>ratings_disabled</th><th>video_error_or_removed</th><th>description</th></tr><tr><td>str</td><td>str</td><td>str</td><td>str</td><td>i64</td><td>str</td><td>str</td><td>i64</td><td>i64</td><td>i64</td><td>i64</td><td>str</td><td>bool</td><td>bool</td><td>bool</td><td>str</td></tr></thead><tbody><tr><td>&quot;QBL8IRJ5yHU&quot;</td><td>&quot;18.15.05&quot;</td><td>&quot;Why I&#x27;m So Scared (being mysel…</td><td>&quot;grav3yardgirl&quot;</td><td>26</td><td>&quot;2018-05-14T19:00:01.000Z&quot;</td><td>&quot;beauty|how to|makeup|howto|sty…</td><td>1469627</td><td>188652</td><td>3124</td><td>33032</td><td>&quot;https://i.ytimg.com/vi/QBL8IRJ…</td><td>false</td><td>false</td><td>false</td><td>&quot;I will never be able to say Th…</td></tr><tr><td>&quot;t4pRQ0jn23Q&quot;</td><td>&quot;18.15.05&quot;</td><td>&quot;YoungBoy Never Broke Again Goe…</td><td>&quot;Complex&quot;</td><td>24</td><td>&quot;2018-05-14T14:00:03.000Z&quot;</td><td>&quot;sneakerhead|complex|complex or…</td><td>1199587</td><td>49709</td><td>2380</td><td>7261</td><td>&quot;https://i.ytimg.com/vi/t4pRQ0j…</td><td>false</td><td>false</td><td>false</td><td>&quot;YoungBoy Never Broke Again goe…</td></tr><tr><td>&quot;j4KvrAUjn6c&quot;</td><td>&quot;18.15.05&quot;</td><td>&quot;WE MADE OUR MOM CRY...HER DREA…</td><td>&quot;Lucas and Marcus&quot;</td><td>24</td><td>&quot;2018-05-13T18:03:56.000Z&quot;</td><td>&quot;Lucas and Marcus|Marcus and Lu…</td><td>3906727</td><td>77378</td><td>12160</td><td>15874</td><td>&quot;https://i.ytimg.com/vi/j4KvrAU…</td><td>false</td><td>false</td><td>false</td><td>&quot;BEST MOM EVER! WANT TO SEE US …</td></tr><tr><td>&quot;MAjY8mCTXWk&quot;</td><td>&quot;18.15.05&quot;</td><td>&quot;周杰倫 Jay Chou【不愛我就拉倒 If You Don…</td><td>&quot;杰威爾音樂 JVR Music&quot;</td><td>10</td><td>&quot;2018-05-14T15:59:47.000Z&quot;</td><td>&quot;周杰倫|Jay|Chou|周董|周杰伦|周傑倫|杰威尔|周周…</td><td>916128</td><td>40485</td><td>1042</td><td>4746</td><td>&quot;https://i.ytimg.com/vi/MAjY8mC…</td><td>false</td><td>false</td><td>false</td><td>&quot;詞：周杰倫、宋健彰（彈頭）  曲：周杰倫憂鬱型男的走心旋律 …</td></tr><tr><td>&quot;xhs8tf1v__w&quot;</td><td>&quot;18.15.05&quot;</td><td>&quot;Terry Crews Answers the Web&#x27;s …</td><td>&quot;WIRED&quot;</td><td>24</td><td>&quot;2018-05-14T16:00:29.000Z&quot;</td><td>&quot;autocomplete|deadpool 2|google…</td><td>343967</td><td>16988</td><td>132</td><td>1308</td><td>&quot;https://i.ytimg.com/vi/xhs8tf1…</td><td>false</td><td>false</td><td>false</td><td>&quot;Terry Crews takes the WIRED Au…</td></tr><tr><td>&hellip;</td><td>&hellip;</td><td>&hellip;</td><td>&hellip;</td><td>&hellip;</td><td>&hellip;</td><td>&hellip;</td><td>&hellip;</td><td>&hellip;</td><td>&hellip;</td><td>&hellip;</td><td>&hellip;</td><td>&hellip;</td><td>&hellip;</td><td>&hellip;</td><td>&hellip;</td></tr><tr><td>&quot;iILJvqrAQ_w&quot;</td><td>&quot;18.15.05&quot;</td><td>&quot;Charlie Puth - BOY [Official A…</td><td>&quot;Charlie Puth&quot;</td><td>10</td><td>&quot;2018-05-11T04:00:34.000Z&quot;</td><td>&quot;charlie puth|boy|charlie|puth|…</td><td>2124177</td><td>81085</td><td>1321</td><td>4019</td><td>&quot;https://i.ytimg.com/vi/iILJvqr…</td><td>false</td><td>false</td><td>false</td><td>&quot;Voicenotes Available Now: http…</td></tr><tr><td>&quot;zcEE8J2Bqa8&quot;</td><td>&quot;18.15.05&quot;</td><td>&quot;The Goblin - JACK AND DEAN&quot;</td><td>&quot;Jack and Dean&quot;</td><td>23</td><td>&quot;2018-05-11T18:27:01.000Z&quot;</td><td>&quot;Jack and Dean|OMFGItsJackAndDe…</td><td>165617</td><td>20572</td><td>140</td><td>1407</td><td>&quot;https://i.ytimg.com/vi/zcEE8J2…</td><td>false</td><td>false</td><td>false</td><td>&quot;That? That&#x27;s a goblin living u…</td></tr><tr><td>&quot;q1jzwV_s8_Y&quot;</td><td>&quot;18.15.05&quot;</td><td>&quot;Christina Aguilera - Twice (Au…</td><td>&quot;CAguileraVEVO&quot;</td><td>10</td><td>&quot;2018-05-11T07:00:01.000Z&quot;</td><td>&quot;Christina Aguilera|Pop|RCA Rec…</td><td>1869585</td><td>64523</td><td>1891</td><td>5903</td><td>&quot;https://i.ytimg.com/vi/q1jzwV_…</td><td>false</td><td>false</td><td>false</td><td>&quot;Pre-order Christina Aguilera’s…</td></tr><tr><td>&quot;mkz1zoo15zI&quot;</td><td>&quot;18.15.05&quot;</td><td>&quot;Richard Jefferson and Tracy Mc…</td><td>&quot;ESPN&quot;</td><td>17</td><td>&quot;2018-05-11T19:21:53.000Z&quot;</td><td>&quot;espn|espn live|dwane casey|rap…</td><td>472999</td><td>3505</td><td>163</td><td>1511</td><td>&quot;https://i.ytimg.com/vi/mkz1zoo…</td><td>false</td><td>false</td><td>false</td><td>&quot;Richard Jefferson and Tracy Mc…</td></tr><tr><td>&quot;2PH7dK6SLC8&quot;</td><td>&quot;18.15.05&quot;</td><td>&quot;John Mayer - New Light&quot;</td><td>&quot;johnmayerVEVO&quot;</td><td>10</td><td>&quot;2018-05-10T17:00:01.000Z&quot;</td><td>&quot;John|Mayer|New|Light|Snack|Mon…</td><td>1201548</td><td>51670</td><td>964</td><td>4264</td><td>&quot;https://i.ytimg.com/vi/2PH7dK6…</td><td>false</td><td>false</td><td>false</td><td>&quot;Spotify: http://radi.al/NewLig…</td></tr></tbody></table></div>"
            ]
          },
          "metadata": {},
          "execution_count": 15
        }
      ]
    },
    {
      "cell_type": "code",
      "source": [
        "df.is_empty() ### devuelve si el df esta vacio"
      ],
      "metadata": {
        "colab": {
          "base_uri": "https://localhost:8080/"
        },
        "id": "YClxicD7Ftiy",
        "outputId": "4990c00e-7f11-4fce-b47a-66699d864204"
      },
      "id": "YClxicD7Ftiy",
      "execution_count": 16,
      "outputs": [
        {
          "output_type": "execute_result",
          "data": {
            "text/plain": [
              "False"
            ]
          },
          "metadata": {},
          "execution_count": 16
        }
      ]
    },
    {
      "cell_type": "code",
      "source": [
        "df.is_unique() ### devuelve los vaores unicos"
      ],
      "metadata": {
        "colab": {
          "base_uri": "https://localhost:8080/",
          "height": 425
        },
        "id": "bri_QaokFyk0",
        "outputId": "90154b98-0cca-47a5-e697-301b35e89524"
      },
      "id": "bri_QaokFyk0",
      "execution_count": 17,
      "outputs": [
        {
          "output_type": "execute_result",
          "data": {
            "text/plain": [
              "shape: (40_949,)\n",
              "Series: '' [bool]\n",
              "[\n",
              "\ttrue\n",
              "\ttrue\n",
              "\ttrue\n",
              "\ttrue\n",
              "\ttrue\n",
              "\t…\n",
              "\ttrue\n",
              "\ttrue\n",
              "\ttrue\n",
              "\ttrue\n",
              "\ttrue\n",
              "]"
            ],
            "text/html": [
              "<div><style>\n",
              ".dataframe > thead > tr,\n",
              ".dataframe > tbody > tr {\n",
              "  text-align: right;\n",
              "  white-space: pre-wrap;\n",
              "}\n",
              "</style>\n",
              "<small>shape: (40_949,)</small><table border=\"1\" class=\"dataframe\"><thead><tr><th></th></tr><tr><td>bool</td></tr></thead><tbody><tr><td>true</td></tr><tr><td>true</td></tr><tr><td>true</td></tr><tr><td>true</td></tr><tr><td>true</td></tr><tr><td>&hellip;</td></tr><tr><td>true</td></tr><tr><td>true</td></tr><tr><td>true</td></tr><tr><td>true</td></tr><tr><td>true</td></tr></tbody></table></div>"
            ]
          },
          "metadata": {},
          "execution_count": 17
        }
      ]
    },
    {
      "cell_type": "code",
      "source": [
        "df.filter(df.is_unique())"
      ],
      "metadata": {
        "colab": {
          "base_uri": "https://localhost:8080/",
          "height": 914
        },
        "id": "ZH17SUwfJW3N",
        "outputId": "1038c88e-63f6-474e-c475-be485b539654"
      },
      "id": "ZH17SUwfJW3N",
      "execution_count": null,
      "outputs": [
        {
          "output_type": "execute_result",
          "data": {
            "text/plain": [
              "shape: (40_854, 16)\n",
              "┌───────────┬───────────┬───────────┬───────────┬───┬───────────┬───────────┬───────────┬──────────┐\n",
              "│ column_1  ┆ column_2  ┆ column_3  ┆ column_4  ┆ … ┆ column_13 ┆ column_14 ┆ column_15 ┆ column_1 │\n",
              "│ ---       ┆ ---       ┆ ---       ┆ ---       ┆   ┆ ---       ┆ ---       ┆ ---       ┆ 6        │\n",
              "│ str       ┆ str       ┆ str       ┆ str       ┆   ┆ str       ┆ str       ┆ str       ┆ ---      │\n",
              "│           ┆           ┆           ┆           ┆   ┆           ┆           ┆           ┆ str      │\n",
              "╞═══════════╪═══════════╪═══════════╪═══════════╪═══╪═══════════╪═══════════╪═══════════╪══════════╡\n",
              "│ video_id  ┆ trending_ ┆ title     ┆ channel_t ┆ … ┆ comments_ ┆ ratings_d ┆ video_err ┆ descript │\n",
              "│           ┆ date      ┆           ┆ itle      ┆   ┆ disabled  ┆ isabled   ┆ or_or_rem ┆ ion      │\n",
              "│           ┆           ┆           ┆           ┆   ┆           ┆           ┆ oved      ┆          │\n",
              "│ 2kyS6SvSY ┆ 17.14.11  ┆ WE WANT   ┆ CaseyNeis ┆ … ┆ False     ┆ False     ┆ False     ┆ SHANTELL │\n",
              "│ SE        ┆           ┆ TO TALK   ┆ tat       ┆   ┆           ┆           ┆           ┆ 'S       │\n",
              "│           ┆           ┆ ABOUT OUR ┆           ┆   ┆           ┆           ┆           ┆ CHANNEL  │\n",
              "│           ┆           ┆ MARR…     ┆           ┆   ┆           ┆           ┆           ┆ - https: │\n",
              "│           ┆           ┆           ┆           ┆   ┆           ┆           ┆           ┆ //w…     │\n",
              "│ 1ZAPwfrtA ┆ 17.14.11  ┆ The Trump ┆ LastWeekT ┆ … ┆ False     ┆ False     ┆ False     ┆ One year │\n",
              "│ FY        ┆           ┆ Presidenc ┆ onight    ┆   ┆           ┆           ┆           ┆ after    │\n",
              "│           ┆           ┆ y: Last   ┆           ┆   ┆           ┆           ┆           ┆ the pres │\n",
              "│           ┆           ┆ Wee…      ┆           ┆   ┆           ┆           ┆           ┆ identia… │\n",
              "│ 5qpjK5DgC ┆ 17.14.11  ┆ Racist    ┆ Rudy      ┆ … ┆ False     ┆ False     ┆ False     ┆ WATCH MY │\n",
              "│ t4        ┆           ┆ Superman  ┆ Mancuso   ┆   ┆           ┆           ┆           ┆ PREVIOUS │\n",
              "│           ┆           ┆ | Rudy    ┆           ┆   ┆           ┆           ┆           ┆ VIDEO ▶  │\n",
              "│           ┆           ┆ Mancuso…  ┆           ┆   ┆           ┆           ┆           ┆ \\n\\n…    │\n",
              "│ puqaWrEC7 ┆ 17.14.11  ┆ Nickelbac ┆ Good      ┆ … ┆ False     ┆ False     ┆ False     ┆ Today we │\n",
              "│ tY        ┆           ┆ k Lyrics: ┆ Mythical  ┆   ┆           ┆           ┆           ┆ find out │\n",
              "│           ┆           ┆ Real or   ┆ Morning   ┆   ┆           ┆           ┆           ┆ if Link  │\n",
              "│           ┆           ┆ Fak…      ┆           ┆   ┆           ┆           ┆           ┆ is a…    │\n",
              "│ …         ┆ …         ┆ …         ┆ …         ┆ … ┆ …         ┆ …         ┆ …         ┆ …        │\n",
              "│ BZt0qjTWN ┆ 18.14.06  ┆ The Cat   ┆ AaronsAni ┆ … ┆ False     ┆ False     ┆ False     ┆ The Cat  │\n",
              "│ hw        ┆           ┆ Who       ┆ mals      ┆   ┆           ┆           ┆           ┆ Who      │\n",
              "│           ┆           ┆ Caught    ┆           ┆   ┆           ┆           ┆           ┆ Caught   │\n",
              "│           ┆           ┆ the Laser ┆           ┆   ┆           ┆           ┆           ┆ the      │\n",
              "│           ┆           ┆           ┆           ┆   ┆           ┆           ┆           ┆ Laser -… │\n",
              "│ 1h7KV2sjU ┆ 18.14.06  ┆ True      ┆ zefrank1  ┆ … ┆ False     ┆ False     ┆ False     ┆          │\n",
              "│ WY        ┆           ┆ Facts :   ┆           ┆   ┆           ┆           ┆           ┆          │\n",
              "│           ┆           ┆ Ant       ┆           ┆   ┆           ┆           ┆           ┆          │\n",
              "│           ┆           ┆ Mutualism ┆           ┆   ┆           ┆           ┆           ┆          │\n",
              "│ D6Oy4Lfoq ┆ 18.14.06  ┆ I GAVE    ┆ Brad      ┆ … ┆ False     ┆ False     ┆ False     ┆ I had so │\n",
              "│ sU        ┆           ┆ SAFIYA    ┆ Mondo     ┆   ┆           ┆           ┆           ┆ much fun │\n",
              "│           ┆           ┆ NYGAARD A ┆           ┆   ┆           ┆           ┆           ┆ transfor │\n",
              "│           ┆           ┆ PERFEC…   ┆           ┆   ┆           ┆           ┆           ┆ ming…    │\n",
              "│ oV0zkMe1K ┆ 18.14.06  ┆ How Black ┆ How It    ┆ … ┆ False     ┆ False     ┆ False     ┆ How      │\n",
              "│ 8s        ┆           ┆ Panther   ┆ Should    ┆   ┆           ┆           ┆           ┆ Black    │\n",
              "│           ┆           ┆ Should    ┆ Have      ┆   ┆           ┆           ┆           ┆ Panther  │\n",
              "│           ┆           ┆ Have …    ┆ Ended     ┆   ┆           ┆           ┆           ┆ Should   │\n",
              "│           ┆           ┆           ┆           ┆   ┆           ┆           ┆           ┆ Have …   │\n",
              "│ ooyjaVdt- ┆ 18.14.06  ┆ Official  ┆ Call of   ┆ … ┆ False     ┆ False     ┆ False     ┆ Call of  │\n",
              "│ jA        ┆           ┆ Call of   ┆ Duty      ┆   ┆           ┆           ┆           ┆ Duty:    │\n",
              "│           ┆           ┆ Duty®:    ┆           ┆   ┆           ┆           ┆           ┆ Black    │\n",
              "│           ┆           ┆ Black …   ┆           ┆   ┆           ┆           ┆           ┆ Ops 4    │\n",
              "│           ┆           ┆           ┆           ┆   ┆           ┆           ┆           ┆ Mult…    │\n",
              "└───────────┴───────────┴───────────┴───────────┴───┴───────────┴───────────┴───────────┴──────────┘"
            ],
            "text/html": [
              "<div><style>\n",
              ".dataframe > thead > tr,\n",
              ".dataframe > tbody > tr {\n",
              "  text-align: right;\n",
              "  white-space: pre-wrap;\n",
              "}\n",
              "</style>\n",
              "<small>shape: (40_854, 16)</small><table border=\"1\" class=\"dataframe\"><thead><tr><th>column_1</th><th>column_2</th><th>column_3</th><th>column_4</th><th>column_5</th><th>column_6</th><th>column_7</th><th>column_8</th><th>column_9</th><th>column_10</th><th>column_11</th><th>column_12</th><th>column_13</th><th>column_14</th><th>column_15</th><th>column_16</th></tr><tr><td>str</td><td>str</td><td>str</td><td>str</td><td>str</td><td>str</td><td>str</td><td>str</td><td>str</td><td>str</td><td>str</td><td>str</td><td>str</td><td>str</td><td>str</td><td>str</td></tr></thead><tbody><tr><td>&quot;video_id&quot;</td><td>&quot;trending_date&quot;</td><td>&quot;title&quot;</td><td>&quot;channel_title&quot;</td><td>&quot;category_id&quot;</td><td>&quot;publish_time&quot;</td><td>&quot;tags&quot;</td><td>&quot;views&quot;</td><td>&quot;likes&quot;</td><td>&quot;dislikes&quot;</td><td>&quot;comment_count&quot;</td><td>&quot;thumbnail_link&quot;</td><td>&quot;comments_disabled&quot;</td><td>&quot;ratings_disabled&quot;</td><td>&quot;video_error_or_removed&quot;</td><td>&quot;description&quot;</td></tr><tr><td>&quot;2kyS6SvSYSE&quot;</td><td>&quot;17.14.11&quot;</td><td>&quot;WE WANT TO TALK ABOUT OUR MARR…</td><td>&quot;CaseyNeistat&quot;</td><td>&quot;22&quot;</td><td>&quot;2017-11-13T17:13:01.000Z&quot;</td><td>&quot;SHANtell martin&quot;</td><td>&quot;748374&quot;</td><td>&quot;57527&quot;</td><td>&quot;2966&quot;</td><td>&quot;15954&quot;</td><td>&quot;https://i.ytimg.com/vi/2kyS6Sv…</td><td>&quot;False&quot;</td><td>&quot;False&quot;</td><td>&quot;False&quot;</td><td>&quot;SHANTELL&#x27;S CHANNEL - https://w…</td></tr><tr><td>&quot;1ZAPwfrtAFY&quot;</td><td>&quot;17.14.11&quot;</td><td>&quot;The Trump Presidency: Last Wee…</td><td>&quot;LastWeekTonight&quot;</td><td>&quot;24&quot;</td><td>&quot;2017-11-13T07:30:00.000Z&quot;</td><td>&quot;last week tonight trump presid…</td><td>&quot;2418783&quot;</td><td>&quot;97185&quot;</td><td>&quot;6146&quot;</td><td>&quot;12703&quot;</td><td>&quot;https://i.ytimg.com/vi/1ZAPwfr…</td><td>&quot;False&quot;</td><td>&quot;False&quot;</td><td>&quot;False&quot;</td><td>&quot;One year after the presidentia…</td></tr><tr><td>&quot;5qpjK5DgCt4&quot;</td><td>&quot;17.14.11&quot;</td><td>&quot;Racist Superman | Rudy Mancuso…</td><td>&quot;Rudy Mancuso&quot;</td><td>&quot;23&quot;</td><td>&quot;2017-11-12T19:05:24.000Z&quot;</td><td>&quot;racist superman|rudy|mancuso|k…</td><td>&quot;3191434&quot;</td><td>&quot;146033&quot;</td><td>&quot;5339&quot;</td><td>&quot;8181&quot;</td><td>&quot;https://i.ytimg.com/vi/5qpjK5D…</td><td>&quot;False&quot;</td><td>&quot;False&quot;</td><td>&quot;False&quot;</td><td>&quot;WATCH MY PREVIOUS VIDEO ▶ \\n\\n…</td></tr><tr><td>&quot;puqaWrEC7tY&quot;</td><td>&quot;17.14.11&quot;</td><td>&quot;Nickelback Lyrics: Real or Fak…</td><td>&quot;Good Mythical Morning&quot;</td><td>&quot;24&quot;</td><td>&quot;2017-11-13T11:00:04.000Z&quot;</td><td>&quot;rhett and link|gmm|good mythic…</td><td>&quot;343168&quot;</td><td>&quot;10172&quot;</td><td>&quot;666&quot;</td><td>&quot;2146&quot;</td><td>&quot;https://i.ytimg.com/vi/puqaWrE…</td><td>&quot;False&quot;</td><td>&quot;False&quot;</td><td>&quot;False&quot;</td><td>&quot;Today we find out if Link is a…</td></tr><tr><td>&hellip;</td><td>&hellip;</td><td>&hellip;</td><td>&hellip;</td><td>&hellip;</td><td>&hellip;</td><td>&hellip;</td><td>&hellip;</td><td>&hellip;</td><td>&hellip;</td><td>&hellip;</td><td>&hellip;</td><td>&hellip;</td><td>&hellip;</td><td>&hellip;</td><td>&hellip;</td></tr><tr><td>&quot;BZt0qjTWNhw&quot;</td><td>&quot;18.14.06&quot;</td><td>&quot;The Cat Who Caught the Laser&quot;</td><td>&quot;AaronsAnimals&quot;</td><td>&quot;15&quot;</td><td>&quot;2018-05-18T13:00:04.000Z&quot;</td><td>&quot;aarons animals|aarons|animals|…</td><td>&quot;1685609&quot;</td><td>&quot;38160&quot;</td><td>&quot;1385&quot;</td><td>&quot;2657&quot;</td><td>&quot;https://i.ytimg.com/vi/BZt0qjT…</td><td>&quot;False&quot;</td><td>&quot;False&quot;</td><td>&quot;False&quot;</td><td>&quot;The Cat Who Caught the Laser -…</td></tr><tr><td>&quot;1h7KV2sjUWY&quot;</td><td>&quot;18.14.06&quot;</td><td>&quot;True Facts : Ant Mutualism&quot;</td><td>&quot;zefrank1&quot;</td><td>&quot;22&quot;</td><td>&quot;2018-05-18T01:00:06.000Z&quot;</td><td>&quot;[none]&quot;</td><td>&quot;1064798&quot;</td><td>&quot;60008&quot;</td><td>&quot;382&quot;</td><td>&quot;3936&quot;</td><td>&quot;https://i.ytimg.com/vi/1h7KV2s…</td><td>&quot;False&quot;</td><td>&quot;False&quot;</td><td>&quot;False&quot;</td><td>&quot;&quot;</td></tr><tr><td>&quot;D6Oy4LfoqsU&quot;</td><td>&quot;18.14.06&quot;</td><td>&quot;I GAVE SAFIYA NYGAARD A PERFEC…</td><td>&quot;Brad Mondo&quot;</td><td>&quot;24&quot;</td><td>&quot;2018-05-18T17:34:22.000Z&quot;</td><td>&quot;I gave safiya nygaard a perfec…</td><td>&quot;1066451&quot;</td><td>&quot;48068&quot;</td><td>&quot;1032&quot;</td><td>&quot;3992&quot;</td><td>&quot;https://i.ytimg.com/vi/D6Oy4Lf…</td><td>&quot;False&quot;</td><td>&quot;False&quot;</td><td>&quot;False&quot;</td><td>&quot;I had so much fun transforming…</td></tr><tr><td>&quot;oV0zkMe1K8s&quot;</td><td>&quot;18.14.06&quot;</td><td>&quot;How Black Panther Should Have …</td><td>&quot;How It Should Have Ended&quot;</td><td>&quot;1&quot;</td><td>&quot;2018-05-17T17:00:04.000Z&quot;</td><td>&quot;Black Panther|HISHE|Marvel|Inf…</td><td>&quot;5660813&quot;</td><td>&quot;192957&quot;</td><td>&quot;2846&quot;</td><td>&quot;13088&quot;</td><td>&quot;https://i.ytimg.com/vi/oV0zkMe…</td><td>&quot;False&quot;</td><td>&quot;False&quot;</td><td>&quot;False&quot;</td><td>&quot;How Black Panther Should Have …</td></tr><tr><td>&quot;ooyjaVdt-jA&quot;</td><td>&quot;18.14.06&quot;</td><td>&quot;Official Call of Duty®: Black …</td><td>&quot;Call of Duty&quot;</td><td>&quot;20&quot;</td><td>&quot;2018-05-17T17:09:38.000Z&quot;</td><td>&quot;call of duty|cod|activision|Bl…</td><td>&quot;10306119&quot;</td><td>&quot;357079&quot;</td><td>&quot;212976&quot;</td><td>&quot;144795&quot;</td><td>&quot;https://i.ytimg.com/vi/ooyjaVd…</td><td>&quot;False&quot;</td><td>&quot;False&quot;</td><td>&quot;False&quot;</td><td>&quot;Call of Duty: Black Ops 4 Mult…</td></tr></tbody></table></div>"
            ]
          },
          "metadata": {},
          "execution_count": 89
        }
      ]
    },
    {
      "cell_type": "code",
      "source": [
        "df.n_chunks() ## Obtenga la cantidad de fragmentos utilizados por los ChunkedArrays de este DataFrame."
      ],
      "metadata": {
        "colab": {
          "base_uri": "https://localhost:8080/"
        },
        "id": "kSmstkFkF3vd",
        "outputId": "84a842a5-7b6e-49f4-e041-a252a6716643"
      },
      "id": "kSmstkFkF3vd",
      "execution_count": 18,
      "outputs": [
        {
          "output_type": "execute_result",
          "data": {
            "text/plain": [
              "2"
            ]
          },
          "metadata": {},
          "execution_count": 18
        }
      ]
    },
    {
      "cell_type": "code",
      "source": [
        "df.n_unique() ## Obtenga la cantidad de fragmentos utilizados por los ChunkedArrays de este DataFrame."
      ],
      "metadata": {
        "colab": {
          "base_uri": "https://localhost:8080/"
        },
        "id": "7peCEgV4GB5H",
        "outputId": "de71b258-3f67-4044-ca10-744a8055f939"
      },
      "id": "7peCEgV4GB5H",
      "execution_count": 19,
      "outputs": [
        {
          "output_type": "execute_result",
          "data": {
            "text/plain": [
              "40901"
            ]
          },
          "metadata": {},
          "execution_count": 19
        }
      ]
    },
    {
      "cell_type": "code",
      "source": [
        "df.null_count() ##Cree un nuevo DataFrame que muestre los recuentos nulos por columna."
      ],
      "metadata": {
        "colab": {
          "base_uri": "https://localhost:8080/",
          "height": 149
        },
        "id": "VCo6mksZGFg-",
        "outputId": "7e1c27e6-effb-42fc-baff-a43ef03ef685"
      },
      "id": "VCo6mksZGFg-",
      "execution_count": 20,
      "outputs": [
        {
          "output_type": "execute_result",
          "data": {
            "text/plain": [
              "shape: (1, 16)\n",
              "┌──────────┬────────────┬───────┬────────────┬───┬────────────┬────────────┬───────────┬───────────┐\n",
              "│ video_id ┆ trending_d ┆ title ┆ channel_ti ┆ … ┆ comments_d ┆ ratings_di ┆ video_err ┆ descripti │\n",
              "│ ---      ┆ ate        ┆ ---   ┆ tle        ┆   ┆ isabled    ┆ sabled     ┆ or_or_rem ┆ on        │\n",
              "│ u32      ┆ ---        ┆ u32   ┆ ---        ┆   ┆ ---        ┆ ---        ┆ oved      ┆ ---       │\n",
              "│          ┆ u32        ┆       ┆ u32        ┆   ┆ u32        ┆ u32        ┆ ---       ┆ u32       │\n",
              "│          ┆            ┆       ┆            ┆   ┆            ┆            ┆ u32       ┆           │\n",
              "╞══════════╪════════════╪═══════╪════════════╪═══╪════════════╪════════════╪═══════════╪═══════════╡\n",
              "│ 0        ┆ 0          ┆ 0     ┆ 0          ┆ … ┆ 0          ┆ 0          ┆ 0         ┆ 0         │\n",
              "└──────────┴────────────┴───────┴────────────┴───┴────────────┴────────────┴───────────┴───────────┘"
            ],
            "text/html": [
              "<div><style>\n",
              ".dataframe > thead > tr,\n",
              ".dataframe > tbody > tr {\n",
              "  text-align: right;\n",
              "  white-space: pre-wrap;\n",
              "}\n",
              "</style>\n",
              "<small>shape: (1, 16)</small><table border=\"1\" class=\"dataframe\"><thead><tr><th>video_id</th><th>trending_date</th><th>title</th><th>channel_title</th><th>category_id</th><th>publish_time</th><th>tags</th><th>views</th><th>likes</th><th>dislikes</th><th>comment_count</th><th>thumbnail_link</th><th>comments_disabled</th><th>ratings_disabled</th><th>video_error_or_removed</th><th>description</th></tr><tr><td>u32</td><td>u32</td><td>u32</td><td>u32</td><td>u32</td><td>u32</td><td>u32</td><td>u32</td><td>u32</td><td>u32</td><td>u32</td><td>u32</td><td>u32</td><td>u32</td><td>u32</td><td>u32</td></tr></thead><tbody><tr><td>0</td><td>0</td><td>0</td><td>0</td><td>0</td><td>0</td><td>0</td><td>0</td><td>0</td><td>0</td><td>0</td><td>0</td><td>0</td><td>0</td><td>0</td><td>0</td></tr></tbody></table></div>"
            ]
          },
          "metadata": {},
          "execution_count": 20
        }
      ]
    },
    {
      "cell_type": "code",
      "source": [
        "df.hash_rows() ### Cree un nuevo DataFrame que muestre los recuentos nulos por columna."
      ],
      "metadata": {
        "colab": {
          "base_uri": "https://localhost:8080/",
          "height": 425
        },
        "id": "POrVZB8-EYYA",
        "outputId": "a783d477-95b3-47cf-b160-c4141c24a985"
      },
      "id": "POrVZB8-EYYA",
      "execution_count": 21,
      "outputs": [
        {
          "output_type": "execute_result",
          "data": {
            "text/plain": [
              "shape: (40_949,)\n",
              "Series: '' [u64]\n",
              "[\n",
              "\t16480531353416546718\n",
              "\t11297530119355974383\n",
              "\t10915395521864469011\n",
              "\t3169111226397241051\n",
              "\t8921183306122112462\n",
              "\t…\n",
              "\t3691199149167656060\n",
              "\t9454077054499132568\n",
              "\t3404599452452133066\n",
              "\t2370261568618334314\n",
              "\t5396683775599468688\n",
              "]"
            ],
            "text/html": [
              "<div><style>\n",
              ".dataframe > thead > tr,\n",
              ".dataframe > tbody > tr {\n",
              "  text-align: right;\n",
              "  white-space: pre-wrap;\n",
              "}\n",
              "</style>\n",
              "<small>shape: (40_949,)</small><table border=\"1\" class=\"dataframe\"><thead><tr><th></th></tr><tr><td>u64</td></tr></thead><tbody><tr><td>16480531353416546718</td></tr><tr><td>11297530119355974383</td></tr><tr><td>10915395521864469011</td></tr><tr><td>3169111226397241051</td></tr><tr><td>8921183306122112462</td></tr><tr><td>&hellip;</td></tr><tr><td>3691199149167656060</td></tr><tr><td>9454077054499132568</td></tr><tr><td>3404599452452133066</td></tr><tr><td>2370261568618334314</td></tr><tr><td>5396683775599468688</td></tr></tbody></table></div>"
            ]
          },
          "metadata": {},
          "execution_count": 21
        }
      ]
    },
    {
      "cell_type": "code",
      "source": [
        "df.fold(lambda s1, s2: s1 + s2) ### cree un dataframe"
      ],
      "metadata": {
        "colab": {
          "base_uri": "https://localhost:8080/",
          "height": 443
        },
        "id": "FSpQLHgzEJDt",
        "outputId": "37cacaaf-ee7e-491f-981b-f62545f2ecad"
      },
      "id": "FSpQLHgzEJDt",
      "execution_count": 22,
      "outputs": [
        {
          "output_type": "execute_result",
          "data": {
            "text/plain": [
              "shape: (40_949,)\n",
              "Series: 'video_id' [str]\n",
              "[\n",
              "\t\"2kyS6SvSYSE17.14.11WE WANT TO …\n",
              "\t\"1ZAPwfrtAFY17.14.11The Trump P…\n",
              "\t\"5qpjK5DgCt417.14.11Racist Supe…\n",
              "\t\"puqaWrEC7tY17.14.11Nickelback …\n",
              "\t\"d380meD0W0M17.14.11I Dare You:…\n",
              "\t…\n",
              "\t\"BZt0qjTWNhw18.14.06The Cat Who…\n",
              "\t\"1h7KV2sjUWY18.14.06True Facts …\n",
              "\t\"D6Oy4LfoqsU18.14.06I GAVE SAFI…\n",
              "\t\"oV0zkMe1K8s18.14.06How Black P…\n",
              "\t\"ooyjaVdt-jA18.14.06Official Ca…\n",
              "]"
            ],
            "text/html": [
              "<div><style>\n",
              ".dataframe > thead > tr,\n",
              ".dataframe > tbody > tr {\n",
              "  text-align: right;\n",
              "  white-space: pre-wrap;\n",
              "}\n",
              "</style>\n",
              "<small>shape: (40_949,)</small><table border=\"1\" class=\"dataframe\"><thead><tr><th>video_id</th></tr><tr><td>str</td></tr></thead><tbody><tr><td>&quot;2kyS6SvSYSE17.14.11WE WANT TO …</td></tr><tr><td>&quot;1ZAPwfrtAFY17.14.11The Trump P…</td></tr><tr><td>&quot;5qpjK5DgCt417.14.11Racist Supe…</td></tr><tr><td>&quot;puqaWrEC7tY17.14.11Nickelback …</td></tr><tr><td>&quot;d380meD0W0M17.14.11I Dare You:…</td></tr><tr><td>&hellip;</td></tr><tr><td>&quot;BZt0qjTWNhw18.14.06The Cat Who…</td></tr><tr><td>&quot;1h7KV2sjUWY18.14.06True Facts …</td></tr><tr><td>&quot;D6Oy4LfoqsU18.14.06I GAVE SAFI…</td></tr><tr><td>&quot;oV0zkMe1K8s18.14.06How Black P…</td></tr><tr><td>&quot;ooyjaVdt-jA18.14.06Official Ca…</td></tr></tbody></table></div>"
            ]
          },
          "metadata": {},
          "execution_count": 22
        }
      ]
    },
    {
      "cell_type": "markdown",
      "source": [
        "# **Aplicar una reducción horizontal en un DataFrame.**\n",
        "\n",
        "Esto se puede usar para determinar de manera efectiva agregaciones a nivel de fila y se puede aplicar a cualquier tipo de datos que pueda superconvertirse (convertirse a un tipo padre similar).\n",
        "\n",
        "Un ejemplo de las reglas de superconversión al aplicar una operación aritmética en dos tipos de datos son, por ejemplo:\n",
        "\n",
        "Int8 + Cadena = Cadena\n",
        "\n",
        "Flotador32 + Int64 = Flotador32\n",
        "\n",
        "Flotador32 + Flotador64 = Flotador64"
      ],
      "metadata": {
        "id": "FQOKg12wK8vN"
      },
      "id": "FQOKg12wK8vN"
    },
    {
      "cell_type": "code",
      "source": [
        "df.width ## Get the number of columns"
      ],
      "metadata": {
        "colab": {
          "base_uri": "https://localhost:8080/"
        },
        "id": "G9WNuxNrEEPz",
        "outputId": "82e861f2-714e-44b9-c46a-139382f5329a"
      },
      "id": "G9WNuxNrEEPz",
      "execution_count": 23,
      "outputs": [
        {
          "output_type": "execute_result",
          "data": {
            "text/plain": [
              "16"
            ]
          },
          "metadata": {},
          "execution_count": 23
        }
      ]
    },
    {
      "cell_type": "code",
      "source": [
        "df.shape ## filas y columnas"
      ],
      "metadata": {
        "colab": {
          "base_uri": "https://localhost:8080/"
        },
        "id": "oq9Am8zaEAts",
        "outputId": "f5b6d7cf-cf33-43f9-ac37-5d5fe669c2f2"
      },
      "id": "oq9Am8zaEAts",
      "execution_count": 24,
      "outputs": [
        {
          "output_type": "execute_result",
          "data": {
            "text/plain": [
              "(40949, 16)"
            ]
          },
          "metadata": {},
          "execution_count": 24
        }
      ]
    },
    {
      "cell_type": "code",
      "source": [
        "df.flags ## Asignación de nombres de columnas a indicadores de columnas ."
      ],
      "metadata": {
        "colab": {
          "base_uri": "https://localhost:8080/"
        },
        "id": "NogDNpTFD0ZD",
        "outputId": "8499c3cb-d490-49c4-c471-f51e0b2b3317"
      },
      "id": "NogDNpTFD0ZD",
      "execution_count": 25,
      "outputs": [
        {
          "output_type": "execute_result",
          "data": {
            "text/plain": [
              "{'video_id': {'SORTED_ASC': False, 'SORTED_DESC': False},\n",
              " 'trending_date': {'SORTED_ASC': False, 'SORTED_DESC': False},\n",
              " 'title': {'SORTED_ASC': False, 'SORTED_DESC': False},\n",
              " 'channel_title': {'SORTED_ASC': False, 'SORTED_DESC': False},\n",
              " 'category_id': {'SORTED_ASC': False, 'SORTED_DESC': False},\n",
              " 'publish_time': {'SORTED_ASC': False, 'SORTED_DESC': False},\n",
              " 'tags': {'SORTED_ASC': False, 'SORTED_DESC': False},\n",
              " 'views': {'SORTED_ASC': False, 'SORTED_DESC': False},\n",
              " 'likes': {'SORTED_ASC': False, 'SORTED_DESC': False},\n",
              " 'dislikes': {'SORTED_ASC': False, 'SORTED_DESC': False},\n",
              " 'comment_count': {'SORTED_ASC': False, 'SORTED_DESC': False},\n",
              " 'thumbnail_link': {'SORTED_ASC': False, 'SORTED_DESC': False},\n",
              " 'comments_disabled': {'SORTED_ASC': False, 'SORTED_DESC': False},\n",
              " 'ratings_disabled': {'SORTED_ASC': False, 'SORTED_DESC': False},\n",
              " 'video_error_or_removed': {'SORTED_ASC': False, 'SORTED_DESC': False},\n",
              " 'description': {'SORTED_ASC': False, 'SORTED_DESC': False}}"
            ]
          },
          "metadata": {},
          "execution_count": 25
        }
      ]
    },
    {
      "cell_type": "code",
      "source": [
        "df.columns"
      ],
      "metadata": {
        "colab": {
          "base_uri": "https://localhost:8080/"
        },
        "id": "227vvCVeDuW8",
        "outputId": "2462799e-e20f-45cc-ef73-66884979d947"
      },
      "id": "227vvCVeDuW8",
      "execution_count": 27,
      "outputs": [
        {
          "output_type": "execute_result",
          "data": {
            "text/plain": [
              "['video_id',\n",
              " 'trending_date',\n",
              " 'title',\n",
              " 'channel_title',\n",
              " 'category_id',\n",
              " 'publish_time',\n",
              " 'tags',\n",
              " 'views',\n",
              " 'likes',\n",
              " 'dislikes',\n",
              " 'comment_count',\n",
              " 'thumbnail_link',\n",
              " 'comments_disabled',\n",
              " 'ratings_disabled',\n",
              " 'video_error_or_removed',\n",
              " 'description']"
            ]
          },
          "metadata": {},
          "execution_count": 27
        }
      ]
    },
    {
      "cell_type": "code",
      "source": [
        "df.head(3)"
      ],
      "metadata": {
        "colab": {
          "base_uri": "https://localhost:8080/",
          "height": 368
        },
        "id": "5cB6tNGqDSaW",
        "outputId": "ba01e9f8-687a-4bb8-a02a-9ee45bff8348"
      },
      "id": "5cB6tNGqDSaW",
      "execution_count": 28,
      "outputs": [
        {
          "output_type": "execute_result",
          "data": {
            "text/plain": [
              "shape: (3, 16)\n",
              "┌───────────┬───────────┬───────────┬───────────┬───┬───────────┬───────────┬───────────┬──────────┐\n",
              "│ video_id  ┆ trending_ ┆ title     ┆ channel_t ┆ … ┆ comments_ ┆ ratings_d ┆ video_err ┆ descript │\n",
              "│ ---       ┆ date      ┆ ---       ┆ itle      ┆   ┆ disabled  ┆ isabled   ┆ or_or_rem ┆ ion      │\n",
              "│ str       ┆ ---       ┆ str       ┆ ---       ┆   ┆ ---       ┆ ---       ┆ oved      ┆ ---      │\n",
              "│           ┆ str       ┆           ┆ str       ┆   ┆ bool      ┆ bool      ┆ ---       ┆ str      │\n",
              "│           ┆           ┆           ┆           ┆   ┆           ┆           ┆ bool      ┆          │\n",
              "╞═══════════╪═══════════╪═══════════╪═══════════╪═══╪═══════════╪═══════════╪═══════════╪══════════╡\n",
              "│ 2kyS6SvSY ┆ 17.14.11  ┆ WE WANT   ┆ CaseyNeis ┆ … ┆ false     ┆ false     ┆ false     ┆ SHANTELL │\n",
              "│ SE        ┆           ┆ TO TALK   ┆ tat       ┆   ┆           ┆           ┆           ┆ 'S       │\n",
              "│           ┆           ┆ ABOUT OUR ┆           ┆   ┆           ┆           ┆           ┆ CHANNEL  │\n",
              "│           ┆           ┆ MARR…     ┆           ┆   ┆           ┆           ┆           ┆ - https: │\n",
              "│           ┆           ┆           ┆           ┆   ┆           ┆           ┆           ┆ //w…     │\n",
              "│ 1ZAPwfrtA ┆ 17.14.11  ┆ The Trump ┆ LastWeekT ┆ … ┆ false     ┆ false     ┆ false     ┆ One year │\n",
              "│ FY        ┆           ┆ Presidenc ┆ onight    ┆   ┆           ┆           ┆           ┆ after    │\n",
              "│           ┆           ┆ y: Last   ┆           ┆   ┆           ┆           ┆           ┆ the pres │\n",
              "│           ┆           ┆ Wee…      ┆           ┆   ┆           ┆           ┆           ┆ identia… │\n",
              "│ 5qpjK5DgC ┆ 17.14.11  ┆ Racist    ┆ Rudy      ┆ … ┆ false     ┆ false     ┆ false     ┆ WATCH MY │\n",
              "│ t4        ┆           ┆ Superman  ┆ Mancuso   ┆   ┆           ┆           ┆           ┆ PREVIOUS │\n",
              "│           ┆           ┆ | Rudy    ┆           ┆   ┆           ┆           ┆           ┆ VIDEO ▶  │\n",
              "│           ┆           ┆ Mancuso…  ┆           ┆   ┆           ┆           ┆           ┆ \\n\\n…    │\n",
              "└───────────┴───────────┴───────────┴───────────┴───┴───────────┴───────────┴───────────┴──────────┘"
            ],
            "text/html": [
              "<div><style>\n",
              ".dataframe > thead > tr,\n",
              ".dataframe > tbody > tr {\n",
              "  text-align: right;\n",
              "  white-space: pre-wrap;\n",
              "}\n",
              "</style>\n",
              "<small>shape: (3, 16)</small><table border=\"1\" class=\"dataframe\"><thead><tr><th>video_id</th><th>trending_date</th><th>title</th><th>channel_title</th><th>category_id</th><th>publish_time</th><th>tags</th><th>views</th><th>likes</th><th>dislikes</th><th>comment_count</th><th>thumbnail_link</th><th>comments_disabled</th><th>ratings_disabled</th><th>video_error_or_removed</th><th>description</th></tr><tr><td>str</td><td>str</td><td>str</td><td>str</td><td>i64</td><td>str</td><td>str</td><td>i64</td><td>i64</td><td>i64</td><td>i64</td><td>str</td><td>bool</td><td>bool</td><td>bool</td><td>str</td></tr></thead><tbody><tr><td>&quot;2kyS6SvSYSE&quot;</td><td>&quot;17.14.11&quot;</td><td>&quot;WE WANT TO TALK ABOUT OUR MARR…</td><td>&quot;CaseyNeistat&quot;</td><td>22</td><td>&quot;2017-11-13T17:13:01.000Z&quot;</td><td>&quot;SHANtell martin&quot;</td><td>748374</td><td>57527</td><td>2966</td><td>15954</td><td>&quot;https://i.ytimg.com/vi/2kyS6Sv…</td><td>false</td><td>false</td><td>false</td><td>&quot;SHANTELL&#x27;S CHANNEL - https://w…</td></tr><tr><td>&quot;1ZAPwfrtAFY&quot;</td><td>&quot;17.14.11&quot;</td><td>&quot;The Trump Presidency: Last Wee…</td><td>&quot;LastWeekTonight&quot;</td><td>24</td><td>&quot;2017-11-13T07:30:00.000Z&quot;</td><td>&quot;last week tonight trump presid…</td><td>2418783</td><td>97185</td><td>6146</td><td>12703</td><td>&quot;https://i.ytimg.com/vi/1ZAPwfr…</td><td>false</td><td>false</td><td>false</td><td>&quot;One year after the presidentia…</td></tr><tr><td>&quot;5qpjK5DgCt4&quot;</td><td>&quot;17.14.11&quot;</td><td>&quot;Racist Superman | Rudy Mancuso…</td><td>&quot;Rudy Mancuso&quot;</td><td>23</td><td>&quot;2017-11-12T19:05:24.000Z&quot;</td><td>&quot;racist superman|rudy|mancuso|k…</td><td>3191434</td><td>146033</td><td>5339</td><td>8181</td><td>&quot;https://i.ytimg.com/vi/5qpjK5D…</td><td>false</td><td>false</td><td>false</td><td>&quot;WATCH MY PREVIOUS VIDEO ▶ \\n\\n…</td></tr></tbody></table></div>"
            ]
          },
          "metadata": {},
          "execution_count": 28
        }
      ]
    },
    {
      "cell_type": "code",
      "source": [
        "type(df)"
      ],
      "metadata": {
        "colab": {
          "base_uri": "https://localhost:8080/",
          "height": 220
        },
        "id": "S0CbvGsDC71z",
        "outputId": "4b2bc23e-7018-4a86-aac7-cfdc115d4897"
      },
      "id": "S0CbvGsDC71z",
      "execution_count": 29,
      "outputs": [
        {
          "output_type": "execute_result",
          "data": {
            "text/plain": [
              "polars.dataframe.frame.DataFrame"
            ],
            "text/html": [
              "<div style=\"max-width:800px; border: 1px solid var(--colab-border-color);\"><style>\n",
              "      pre.function-repr-contents {\n",
              "        overflow-x: auto;\n",
              "        padding: 8px 12px;\n",
              "        max-height: 500px;\n",
              "      }\n",
              "\n",
              "      pre.function-repr-contents.function-repr-contents-collapsed {\n",
              "        cursor: pointer;\n",
              "        max-height: 100px;\n",
              "      }\n",
              "    </style>\n",
              "    <pre style=\"white-space: initial; background:\n",
              "         var(--colab-secondary-surface-color); padding: 8px 12px;\n",
              "         border-bottom: 1px solid var(--colab-border-color);\"><b>polars.dataframe.frame.DataFrame</b><br/>def __init__(data: FrameInitTypes | None=None, schema: SchemaDefinition | None=None, *, schema_overrides: SchemaDict | None=None, strict: bool=True, orient: Orientation | None=None, infer_schema_length: int | None=N_INFER_DEFAULT, nan_to_null: bool=False)</pre><pre class=\"function-repr-contents function-repr-contents-collapsed\" style=\"\"><a class=\"filepath\" style=\"display:none\" href=\"#\">/usr/local/lib/python3.10/dist-packages/polars/dataframe/frame.py</a>Two-dimensional data structure representing data as a table with rows and columns.\n",
              "\n",
              "Parameters\n",
              "----------\n",
              "data : dict, Sequence, ndarray, Series, or pandas.DataFrame\n",
              "    Two-dimensional data in various forms; dict input must contain Sequences,\n",
              "    Generators, or a `range`. Sequence may contain Series or other Sequences.\n",
              "schema : Sequence of str, (str,DataType) pairs, or a {str:DataType,} dict\n",
              "    The schema of the resulting DataFrame. The schema may be declared in several\n",
              "    ways:\n",
              "\n",
              "    * As a dict of {name:type} pairs; if type is None, it will be auto-inferred.\n",
              "    * As a list of column names; in this case types are automatically inferred.\n",
              "    * As a list of (name,type) pairs; this is equivalent to the dictionary form.\n",
              "\n",
              "    If you supply a list of column names that does not match the names in the\n",
              "    underlying data, the names given here will overwrite them. The number\n",
              "    of names given in the schema should match the underlying data dimensions.\n",
              "\n",
              "    If set to `None` (default), the schema is inferred from the data.\n",
              "schema_overrides : dict, default None\n",
              "    Support type specification or override of one or more columns; note that\n",
              "    any dtypes inferred from the schema param will be overridden.\n",
              "\n",
              "    The number of entries in the schema should match the underlying data\n",
              "    dimensions, unless a sequence of dictionaries is being passed, in which case\n",
              "    a *partial* schema can be declared to prevent specific fields from being loaded.\n",
              "strict : bool, default True\n",
              "    Throw an error if any `data` value does not exactly match the given or inferred\n",
              "    data type for that column. If set to `False`, values that do not match the data\n",
              "    type are cast to that data type or, if casting is not possible, set to null\n",
              "    instead.\n",
              "orient : {&#x27;col&#x27;, &#x27;row&#x27;}, default None\n",
              "    Whether to interpret two-dimensional data as columns or as rows. If None,\n",
              "    the orientation is inferred by matching the columns and data dimensions. If\n",
              "    this does not yield conclusive results, column orientation is used.\n",
              "infer_schema_length : int or None\n",
              "    The maximum number of rows to scan for schema inference. If set to `None`, the\n",
              "    full data may be scanned *(this can be slow)*. This parameter only applies if\n",
              "    the input data is a sequence or generator of rows; other input is read as-is.\n",
              "nan_to_null : bool, default False\n",
              "    If the data comes from one or more numpy arrays, can optionally convert input\n",
              "    data np.nan values to null instead. This is a no-op for all other input data.\n",
              "\n",
              "Notes\n",
              "-----\n",
              "Polars explicitly does not support subclassing of its core data types. See\n",
              "the following GitHub issue for possible workarounds:\n",
              "https://github.com/pola-rs/polars/issues/2846#issuecomment-1711799869\n",
              "\n",
              "Examples\n",
              "--------\n",
              "Constructing a DataFrame from a dictionary:\n",
              "\n",
              "&gt;&gt;&gt; data = {&quot;a&quot;: [1, 2], &quot;b&quot;: [3, 4]}\n",
              "&gt;&gt;&gt; df = pl.DataFrame(data)\n",
              "&gt;&gt;&gt; df\n",
              "shape: (2, 2)\n",
              "┌─────┬─────┐\n",
              "│ a   ┆ b   │\n",
              "│ --- ┆ --- │\n",
              "│ i64 ┆ i64 │\n",
              "╞═════╪═════╡\n",
              "│ 1   ┆ 3   │\n",
              "│ 2   ┆ 4   │\n",
              "└─────┴─────┘\n",
              "\n",
              "Notice that the dtypes are automatically inferred as polars Int64:\n",
              "\n",
              "&gt;&gt;&gt; df.dtypes\n",
              "[Int64, Int64]\n",
              "\n",
              "To specify a more detailed/specific frame schema you can supply the `schema`\n",
              "parameter with a dictionary of (name,dtype) pairs...\n",
              "\n",
              "&gt;&gt;&gt; data = {&quot;col1&quot;: [0, 2], &quot;col2&quot;: [3, 7]}\n",
              "&gt;&gt;&gt; df2 = pl.DataFrame(data, schema={&quot;col1&quot;: pl.Float32, &quot;col2&quot;: pl.Int64})\n",
              "&gt;&gt;&gt; df2\n",
              "shape: (2, 2)\n",
              "┌──────┬──────┐\n",
              "│ col1 ┆ col2 │\n",
              "│ ---  ┆ ---  │\n",
              "│ f32  ┆ i64  │\n",
              "╞══════╪══════╡\n",
              "│ 0.0  ┆ 3    │\n",
              "│ 2.0  ┆ 7    │\n",
              "└──────┴──────┘\n",
              "\n",
              "...a sequence of (name,dtype) pairs...\n",
              "\n",
              "&gt;&gt;&gt; data = {&quot;col1&quot;: [1, 2], &quot;col2&quot;: [3, 4]}\n",
              "&gt;&gt;&gt; df3 = pl.DataFrame(data, schema=[(&quot;col1&quot;, pl.Float32), (&quot;col2&quot;, pl.Int64)])\n",
              "&gt;&gt;&gt; df3\n",
              "shape: (2, 2)\n",
              "┌──────┬──────┐\n",
              "│ col1 ┆ col2 │\n",
              "│ ---  ┆ ---  │\n",
              "│ f32  ┆ i64  │\n",
              "╞══════╪══════╡\n",
              "│ 1.0  ┆ 3    │\n",
              "│ 2.0  ┆ 4    │\n",
              "└──────┴──────┘\n",
              "\n",
              "...or a list of typed Series.\n",
              "\n",
              "&gt;&gt;&gt; data = [\n",
              "...     pl.Series(&quot;col1&quot;, [1, 2], dtype=pl.Float32),\n",
              "...     pl.Series(&quot;col2&quot;, [3, 4], dtype=pl.Int64),\n",
              "... ]\n",
              "&gt;&gt;&gt; df4 = pl.DataFrame(data)\n",
              "&gt;&gt;&gt; df4\n",
              "shape: (2, 2)\n",
              "┌──────┬──────┐\n",
              "│ col1 ┆ col2 │\n",
              "│ ---  ┆ ---  │\n",
              "│ f32  ┆ i64  │\n",
              "╞══════╪══════╡\n",
              "│ 1.0  ┆ 3    │\n",
              "│ 2.0  ┆ 4    │\n",
              "└──────┴──────┘\n",
              "\n",
              "Constructing a DataFrame from a numpy ndarray, specifying column names:\n",
              "\n",
              "&gt;&gt;&gt; import numpy as np\n",
              "&gt;&gt;&gt; data = np.array([(1, 2), (3, 4)], dtype=np.int64)\n",
              "&gt;&gt;&gt; df5 = pl.DataFrame(data, schema=[&quot;a&quot;, &quot;b&quot;], orient=&quot;col&quot;)\n",
              "&gt;&gt;&gt; df5\n",
              "shape: (2, 2)\n",
              "┌─────┬─────┐\n",
              "│ a   ┆ b   │\n",
              "│ --- ┆ --- │\n",
              "│ i64 ┆ i64 │\n",
              "╞═════╪═════╡\n",
              "│ 1   ┆ 3   │\n",
              "│ 2   ┆ 4   │\n",
              "└─────┴─────┘\n",
              "\n",
              "Constructing a DataFrame from a list of lists, row orientation specified:\n",
              "\n",
              "&gt;&gt;&gt; data = [[1, 2, 3], [4, 5, 6]]\n",
              "&gt;&gt;&gt; df6 = pl.DataFrame(data, schema=[&quot;a&quot;, &quot;b&quot;, &quot;c&quot;], orient=&quot;row&quot;)\n",
              "&gt;&gt;&gt; df6\n",
              "shape: (2, 3)\n",
              "┌─────┬─────┬─────┐\n",
              "│ a   ┆ b   ┆ c   │\n",
              "│ --- ┆ --- ┆ --- │\n",
              "│ i64 ┆ i64 ┆ i64 │\n",
              "╞═════╪═════╪═════╡\n",
              "│ 1   ┆ 2   ┆ 3   │\n",
              "│ 4   ┆ 5   ┆ 6   │\n",
              "└─────┴─────┴─────┘</pre>\n",
              "      <script>\n",
              "      if (google.colab.kernel.accessAllowed && google.colab.files && google.colab.files.view) {\n",
              "        for (const element of document.querySelectorAll('.filepath')) {\n",
              "          element.style.display = 'block'\n",
              "          element.onclick = (event) => {\n",
              "            event.preventDefault();\n",
              "            event.stopPropagation();\n",
              "            google.colab.files.view(element.textContent, 186);\n",
              "          };\n",
              "        }\n",
              "      }\n",
              "      for (const element of document.querySelectorAll('.function-repr-contents')) {\n",
              "        element.onclick = (event) => {\n",
              "          event.preventDefault();\n",
              "          event.stopPropagation();\n",
              "          element.classList.toggle('function-repr-contents-collapsed');\n",
              "        };\n",
              "      }\n",
              "      </script>\n",
              "      </div>"
            ]
          },
          "metadata": {},
          "execution_count": 29
        }
      ]
    },
    {
      "cell_type": "code",
      "source": [
        "help(pl.read_csv)"
      ],
      "metadata": {
        "colab": {
          "base_uri": "https://localhost:8080/"
        },
        "id": "bdYCuxp_5X20",
        "outputId": "bd54700e-c569-43c9-8343-653e99d47e81"
      },
      "id": "bdYCuxp_5X20",
      "execution_count": 30,
      "outputs": [
        {
          "output_type": "stream",
          "name": "stdout",
          "text": [
            "Help on function read_csv in module polars.io.csv.functions:\n",
            "\n",
            "read_csv(source: 'str | Path | IO[str] | IO[bytes] | bytes', *, has_header: 'bool' = True, columns: 'Sequence[int] | Sequence[str] | None' = None, new_columns: 'Sequence[str] | None' = None, separator: 'str' = ',', comment_prefix: 'str | None' = None, quote_char: 'str | None' = '\"', skip_rows: 'int' = 0, schema: 'SchemaDict | None' = None, schema_overrides: 'Mapping[str, PolarsDataType] | Sequence[PolarsDataType] | None' = None, null_values: 'str | Sequence[str] | dict[str, str] | None' = None, missing_utf8_is_empty_string: 'bool' = False, ignore_errors: 'bool' = False, try_parse_dates: 'bool' = False, n_threads: 'int | None' = None, infer_schema: 'bool' = True, infer_schema_length: 'int | None' = 100, batch_size: 'int' = 8192, n_rows: 'int | None' = None, encoding: 'CsvEncoding | str' = 'utf8', low_memory: 'bool' = False, rechunk: 'bool' = False, use_pyarrow: 'bool' = False, storage_options: 'dict[str, Any] | None' = None, skip_rows_after_header: 'int' = 0, row_index_name: 'str | None' = None, row_index_offset: 'int' = 0, sample_size: 'int' = 1024, eol_char: 'str' = '\\n', raise_if_empty: 'bool' = True, truncate_ragged_lines: 'bool' = False, decimal_comma: 'bool' = False, glob: 'bool' = True) -> 'DataFrame'\n",
            "    Read a CSV file into a DataFrame.\n",
            "    \n",
            "    Parameters\n",
            "    ----------\n",
            "    source\n",
            "        Path to a file or a file-like object (by \"file-like object\" we refer to objects\n",
            "        that have a `read()` method, such as a file handler like the builtin `open`\n",
            "        function, or a `BytesIO` instance). If `fsspec` is installed, it will be used\n",
            "        to open remote files.\n",
            "        For file-like objects,\n",
            "        stream position may not be updated accordingly after reading.\n",
            "    has_header\n",
            "        Indicate if the first row of the dataset is a header or not. If set to False,\n",
            "        column names will be autogenerated in the following format: `column_x`, with\n",
            "        `x` being an enumeration over every column in the dataset, starting at 1.\n",
            "    columns\n",
            "        Columns to select. Accepts a list of column indices (starting\n",
            "        at zero) or a list of column names.\n",
            "    new_columns\n",
            "        Rename columns right after parsing the CSV file. If the given\n",
            "        list is shorter than the width of the DataFrame the remaining\n",
            "        columns will have their original name.\n",
            "    separator\n",
            "        Single byte character to use as separator in the file.\n",
            "    comment_prefix\n",
            "        A string used to indicate the start of a comment line. Comment lines are skipped\n",
            "        during parsing. Common examples of comment prefixes are `#` and `//`.\n",
            "    quote_char\n",
            "        Single byte character used for csv quoting, default = `\"`.\n",
            "        Set to None to turn off special handling and escaping of quotes.\n",
            "    skip_rows\n",
            "        Start reading after `skip_rows` lines.\n",
            "    schema\n",
            "        Provide the schema. This means that polars doesn't do schema inference.\n",
            "        This argument expects the complete schema, whereas `schema_overrides` can be\n",
            "        used to partially overwrite a schema.\n",
            "    schema_overrides\n",
            "        Overwrite dtypes for specific or all columns during schema inference.\n",
            "    null_values\n",
            "        Values to interpret as null values. You can provide a:\n",
            "    \n",
            "        - `str`: All values equal to this string will be null.\n",
            "        - `List[str]`: All values equal to any string in this list will be null.\n",
            "        - `Dict[str, str]`: A dictionary that maps column name to a\n",
            "          null value string.\n",
            "    \n",
            "    missing_utf8_is_empty_string\n",
            "        By default a missing value is considered to be null; if you would prefer missing\n",
            "        utf8 values to be treated as the empty string you can set this param True.\n",
            "    ignore_errors\n",
            "        Try to keep reading lines if some lines yield errors.\n",
            "        Before using this option, try to increase the number of lines used for schema\n",
            "        inference with e.g `infer_schema_length=10000` or override automatic dtype\n",
            "        inference for specific columns with the `schema_overrides` option or use\n",
            "        `infer_schema=False` to read all columns as `pl.String` to check which\n",
            "        values might cause an issue.\n",
            "    try_parse_dates\n",
            "        Try to automatically parse dates. Most ISO8601-like formats can\n",
            "        be inferred, as well as a handful of others. If this does not succeed,\n",
            "        the column remains of data type `pl.String`.\n",
            "        If `use_pyarrow=True`, dates will always be parsed.\n",
            "    n_threads\n",
            "        Number of threads to use in csv parsing.\n",
            "        Defaults to the number of physical cpu's of your system.\n",
            "    infer_schema\n",
            "        When `True`, the schema is inferred from the data using the first\n",
            "        `infer_schema_length` rows.\n",
            "        When `False`, the schema is not inferred and will be `pl.String` if not\n",
            "        specified in `schema` or `schema_overrides`.\n",
            "    infer_schema_length\n",
            "        The maximum number of rows to scan for schema inference.\n",
            "        If set to `None`, the full data may be scanned *(this is slow)*.\n",
            "        Set `infer_schema=False` to read all columns as `pl.String`.\n",
            "    batch_size\n",
            "        Number of lines to read into the buffer at once.\n",
            "        Modify this to change performance.\n",
            "    n_rows\n",
            "        Stop reading from CSV file after reading `n_rows`.\n",
            "        During multi-threaded parsing, an upper bound of `n_rows`\n",
            "        rows cannot be guaranteed.\n",
            "    encoding : {'utf8', 'utf8-lossy', ...}\n",
            "        Lossy means that invalid utf8 values are replaced with `�`\n",
            "        characters. When using other encodings than `utf8` or\n",
            "        `utf8-lossy`, the input is first decoded in memory with\n",
            "        python. Defaults to `utf8`.\n",
            "    low_memory\n",
            "        Reduce memory pressure at the expense of performance.\n",
            "    rechunk\n",
            "        Make sure that all columns are contiguous in memory by\n",
            "        aggregating the chunks into a single array.\n",
            "    use_pyarrow\n",
            "        Try to use pyarrow's native CSV parser. This will always\n",
            "        parse dates, even if `try_parse_dates=False`.\n",
            "        This is not always possible. The set of arguments given to\n",
            "        this function determines if it is possible to use pyarrow's\n",
            "        native parser. Note that pyarrow and polars may have a\n",
            "        different strategy regarding type inference.\n",
            "    storage_options\n",
            "        Extra options that make sense for `fsspec.open()` or a\n",
            "        particular storage connection.\n",
            "        e.g. host, port, username, password, etc.\n",
            "    skip_rows_after_header\n",
            "        Skip this number of rows when the header is parsed.\n",
            "    row_index_name\n",
            "        Insert a row index column with the given name into the DataFrame as the first\n",
            "        column. If set to `None` (default), no row index column is created.\n",
            "    row_index_offset\n",
            "        Start the row index at this offset. Cannot be negative.\n",
            "        Only used if `row_index_name` is set.\n",
            "    sample_size\n",
            "        Set the sample size. This is used to sample statistics to estimate the\n",
            "        allocation needed.\n",
            "    eol_char\n",
            "        Single byte end of line character (default: `\\n`). When encountering a file\n",
            "        with windows line endings (`\\r\\n`), one can go with the default `\\n`. The extra\n",
            "        `\\r` will be removed when processed.\n",
            "    raise_if_empty\n",
            "        When there is no data in the source, `NoDataError` is raised. If this parameter\n",
            "        is set to False, an empty DataFrame (with no columns) is returned instead.\n",
            "    truncate_ragged_lines\n",
            "        Truncate lines that are longer than the schema.\n",
            "    decimal_comma\n",
            "        Parse floats using a comma as the decimal separator instead of a period.\n",
            "    glob\n",
            "        Expand path given via globbing rules.\n",
            "    \n",
            "    Returns\n",
            "    -------\n",
            "    DataFrame\n",
            "    \n",
            "    See Also\n",
            "    --------\n",
            "    scan_csv : Lazily read from a CSV file or multiple files via glob patterns.\n",
            "    \n",
            "    Notes\n",
            "    -----\n",
            "    If the schema is inferred incorrectly (e.g. as `pl.Int64` instead of `pl.Float64`),\n",
            "    try to increase the number of lines used to infer the schema with\n",
            "    `infer_schema_length` or override the inferred dtype for those columns with\n",
            "    `schema_overrides`.\n",
            "    \n",
            "    This operation defaults to a `rechunk` operation at the end, meaning that all data\n",
            "    will be stored continuously in memory. Set `rechunk=False` if you are benchmarking\n",
            "    the csv-reader. A `rechunk` is an expensive operation.\n",
            "    \n",
            "    Examples\n",
            "    --------\n",
            "    >>> pl.read_csv(\"data.csv\", separator=\"|\")  # doctest: +SKIP\n",
            "    \n",
            "    Demonstrate use against a BytesIO object, parsing string dates.\n",
            "    \n",
            "    >>> from io import BytesIO\n",
            "    >>> data = BytesIO(\n",
            "    ...     b\"ID,Name,Birthday\\n\"\n",
            "    ...     b\"1,Alice,1995-07-12\\n\"\n",
            "    ...     b\"2,Bob,1990-09-20\\n\"\n",
            "    ...     b\"3,Charlie,2002-03-08\\n\"\n",
            "    ... )\n",
            "    >>> pl.read_csv(data, try_parse_dates=True)\n",
            "    shape: (3, 3)\n",
            "    ┌─────┬─────────┬────────────┐\n",
            "    │ ID  ┆ Name    ┆ Birthday   │\n",
            "    │ --- ┆ ---     ┆ ---        │\n",
            "    │ i64 ┆ str     ┆ date       │\n",
            "    ╞═════╪═════════╪════════════╡\n",
            "    │ 1   ┆ Alice   ┆ 1995-07-12 │\n",
            "    │ 2   ┆ Bob     ┆ 1990-09-20 │\n",
            "    │ 3   ┆ Charlie ┆ 2002-03-08 │\n",
            "    └─────┴─────────┴────────────┘\n",
            "\n"
          ]
        }
      ]
    },
    {
      "cell_type": "markdown",
      "source": [
        "##source= Ruta a un archivo o un objeto similar a un archivo (por \"objeto tipo archivo\" nos referimos a los objetos\n",
        " que tienen un método `read ()`, como un controlador de archivos como el 'Open' de Builtin\n",
        " función, o una instancia de `bytesio`). Si se instala `FSSPEC`, se utilizará\n",
        " para abrir archivos remotos.\n",
        " Para objetos similares a los archivos,\n",
        " La posición de la transmisión no puede actualizarse en consecuencia después de la lectura."
      ],
      "metadata": {
        "id": "CMZhq-PU5ycO"
      },
      "id": "CMZhq-PU5ycO"
    },
    {
      "cell_type": "markdown",
      "source": [
        "# has_header\n",
        "       \n",
        "       #Indique si la primera fila del conjunto de datos es un encabezado o no. Si se establece en falso,\n",
        " Los nombres de la columna se autogeneizarán en el siguiente formato: `column_x`, con\n",
        " `X` es una enumeración sobre cada columna en el conjunto de datos, comenzando en 1.\n",
        "#    columns\n",
        "        #Columnas para seleccionar. Acepta una lista de índices de columna (comenzando\n",
        " en cero) o una lista de nombres de columnas.\n",
        "#    new_columns\n",
        "       #Cambie el nombre de las columnas justo después de analizar el archivo CSV. Si el dado\n",
        "       La lista es más corta que el ancho del marco de datos el restante\n",
        "       Las columnas tendrán su nombre original.\n",
        "#    separator\n",
        "        ##Carácter de byte único para usar como separador en el archivo.\n",
        "#    comment_prefix\n",
        "        ##Una cadena utilizada para indicar el comienzo de una línea de comentarios. Se omiten las líneas de comentarios\n",
        "        durante el análisis. Los ejemplos comunes de prefijos de comentarios son `#` y `//`.\n",
        "#    quote_char\n",
        "        #Carácter de byte único utilizado para cotización de CSV, default = `\" `.\n",
        "        Establecer en ninguno para apagar el manejo especial y la escapada de citas.\n",
        "#    skip_rows\n",
        "        #Comience a leer después de las líneas `skip_rows`.\n",
        "#    schema\n",
        "        #Proporcionar el esquema. Esto significa que los polares no hacen inferencia de esquema.\n",
        "        Este argumento espera el esquema completo, mientras que `schema_overrides` puede ser\n",
        "        Se usa para sobrescribir parcialmente un esquema.\n",
        "#    schema_overrides\n",
        "        #Sobrescribe dtypes para columnas específicas o todas las columnas durante la inferencia de esquema.\n",
        "#    null_values\n",
        "        #Valores para interpretar como valores nulos. Puede proporcionar un:\n",
        "        - `str`: todos los valores iguales a esta cadena serán nulos.\n",
        "        - `List [STR]`: Todos los valores iguales a cualquier cadena en esta lista serán nulos.\n",
        "        - `dict [str, str]`: un diccionario que mapea el nombre de la columna a un\n",
        "        cadena de valor nulo.\n",
        "    \n",
        "#    missing_utf8_is_empty_string\n",
        "        #Por defecto, se considera que un valor faltante es nulo; Si prefiere faltar\n",
        "        Los valores de UTF8 se tratarán como la cadena vacía, puede establecer este parámetro verdadero.\n",
        "#    ignore_errors\n",
        "        #Intente mantener las líneas de lectura si algunas líneas producen errores.\n",
        "        Antes de usar esta opción, intente aumentar el número de líneas utilizadas para el esquema\n",
        "        inferencia con, por ejemplo, `infer_schema_length = 10000` o anular dtype automático\n",
        "        inferencia por columnas específicas con la opción 'schema_overrides'\n",
        "        `infer_schema = false` para leer todas las columnas como` pl.string` para verificar qué\n",
        "        Los valores pueden causar un problema.\n",
        "\n",
        "#    try_parse_dates\n",
        "        #Intente analizar automáticamente las fechas. La mayoría de los formatos tipo ISO8601 pueden\n",
        "        ser inferido, así como un puñado de otros. Si esto no tiene éxito\n",
        "        La columna permanece del tipo de datos `pl.string`.\n",
        "        Si `use_pyarrow = true`, las fechas siempre se analizarán.\n",
        "#    n_threads\n",
        "        #Número de hilos para usar en el análisis de CSV.\n",
        "        El valor predeterminado es el número de CPU físicas de su sistema.\n",
        "#    infer_schema\n",
        "        #Cuando `verdadero`, el esquema se infiere de los datos utilizando el primero\n",
        "        `infer_schema_length` filas.\n",
        "        Cuando `falso`, el esquema no se infiere y será 'pl.string` si no\n",
        "        especificado en `Schema` o` Schema_overrides`.\n",
        "#    infer_schema_length\n",
        "       El número máximo de filas para escanear en busca de inferencia de esquema.\n",
        "       Si se establece en `None`, los datos completos se pueden escanear *(esto es lento) *.\n",
        "       Establecer `infer_schema = false` para leer todas las columnas como` pl.string`.\n",
        "#    batch_size\n",
        "        #Número de líneas para leer en el búfer a la vez.\n",
        "        Modifique esto para cambiar el rendimiento.\n",
        "#    n_rows\n",
        "        Deje de leer desde el archivo CSV después de leer `n_rows`.\n",
        "        Durante el análisis multiproceso, un límite superior de `n_rows`\n",
        "        Las filas no pueden garantizarse.\n",
        "#    encoding : {'utf8', 'utf8-lossy', ...}\n",
        "        Lossys significa que los valores no válidos de UTF8 se reemplazan con `` `\n",
        "        personajes. Cuando se usa otras codificaciones que `UTF8` o\n",
        "        `UTF8-LOSSY`, la entrada se decodifica primero en la memoria con\n",
        "        pitón. El valor predeterminado es `UTF8`.\n",
        "#    low_memory\n",
        "        Reduzca la presión de la memoria a expensas del rendimiento.\n",
        "#    rechunk\n",
        "       Asegúrese de que todas las columnas sean contiguas en la memoria por agregando los trozos en una sola matriz.\n",
        "#    use_pyarrow\n",
        "        Intenta usar el analizador CSV nativo de Pyarrow. Esto siempre\n",
        "        Fechas de análisis, incluso si `try_parse_dates = false`.\n",
        "        Esto no siempre es posible. El conjunto de argumentos dados a\n",
        "       Esta función determina si es posible usar pyarrow\n",
        "       analizador nativo. Tenga en cuenta que Pyarrow y Polars pueden tener un\n",
        "       Diferente estrategia con respecto a la inferencia de tipo.\n",
        "#    storage_options\n",
        "       Opciones adicionales que tienen sentido para `fsspec.open ()` o un\n",
        "       conexión de almacenamiento particular.\n",
        "        p.ej. host, puerto, nombre de usuario, contraseña, etc.\n",
        "#    skip_rows_after_header\n",
        "        Omita este número de filas cuando se analice el encabezado.\n",
        "#    row_index_name\n",
        "        Inserte una columna de índice de fila con el nombre de determinación en el marco de datos como el primero columna. Si se establece en `None` (predeterminado), no se crea una columna de índice de fila.\n",
        "#    row_index_offset\n",
        "       Inicie el índice de fila en este desplazamiento. No puede ser negativo. Solo se usa si se establece `Row_index_Name`.\n",
        "#    sample_size\n",
        "      Establezca el tamaño de la muestra. Esto se utiliza para probar estadísticas para estimar el\n",
        "      asignación necesaria.\n",
        "#    eol_char\n",
        "       #Establezca El Tamaño de la Maja. Este se utiliza para probar estadínsticas para estimar el\n",
        "      Asignacia Necesaria.\n",
        "#    raise_if_empty\n",
        "       #Cuando no hay datos en la fuente, se eleva `nodataError`. Si este parámetro\n",
        "        se establece en falso, en su lugar se devuelve un marcador de datos vacío (sin columnas).\n",
        "#    truncate_ragged_lines\n",
        "        #Corte los segmentos de datos que no se pueden analizar.\n",
        "#    decimal_comma\n",
        "       #Analizar flotadores usando una coma como separador decimal en lugar de un período.\n",
        "#    glob\n",
        "       #Expandir el camino dado a través de reglas de globos.\n",
        "    "
      ],
      "metadata": {
        "id": "1_qFqiae6InZ"
      },
      "id": "1_qFqiae6InZ"
    },
    {
      "cell_type": "code",
      "execution_count": 31,
      "id": "c0cccb46-6c8b-443a-b127-5b0555438af0",
      "metadata": {
        "tags": [],
        "colab": {
          "base_uri": "https://localhost:8080/",
          "height": 368
        },
        "id": "c0cccb46-6c8b-443a-b127-5b0555438af0",
        "outputId": "d8afbc07-b18d-410a-8439-e4e029eb3ab7"
      },
      "outputs": [
        {
          "output_type": "execute_result",
          "data": {
            "text/plain": [
              "shape: (3, 16)\n",
              "┌───────────┬───────────┬───────────┬───────────┬───┬───────────┬───────────┬───────────┬──────────┐\n",
              "│ video_id  ┆ trending_ ┆ title     ┆ channel_t ┆ … ┆ comments_ ┆ ratings_d ┆ video_err ┆ descript │\n",
              "│ ---       ┆ date      ┆ ---       ┆ itle      ┆   ┆ disabled  ┆ isabled   ┆ or_or_rem ┆ ion      │\n",
              "│ str       ┆ ---       ┆ str       ┆ ---       ┆   ┆ ---       ┆ ---       ┆ oved      ┆ ---      │\n",
              "│           ┆ str       ┆           ┆ str       ┆   ┆ bool      ┆ bool      ┆ ---       ┆ str      │\n",
              "│           ┆           ┆           ┆           ┆   ┆           ┆           ┆ bool      ┆          │\n",
              "╞═══════════╪═══════════╪═══════════╪═══════════╪═══╪═══════════╪═══════════╪═══════════╪══════════╡\n",
              "│ 2kyS6SvSY ┆ 17.14.11  ┆ WE WANT   ┆ CaseyNeis ┆ … ┆ false     ┆ false     ┆ false     ┆ SHANTELL │\n",
              "│ SE        ┆           ┆ TO TALK   ┆ tat       ┆   ┆           ┆           ┆           ┆ 'S       │\n",
              "│           ┆           ┆ ABOUT OUR ┆           ┆   ┆           ┆           ┆           ┆ CHANNEL  │\n",
              "│           ┆           ┆ MARR…     ┆           ┆   ┆           ┆           ┆           ┆ - https: │\n",
              "│           ┆           ┆           ┆           ┆   ┆           ┆           ┆           ┆ //w…     │\n",
              "│ 1ZAPwfrtA ┆ 17.14.11  ┆ The Trump ┆ LastWeekT ┆ … ┆ false     ┆ false     ┆ false     ┆ One year │\n",
              "│ FY        ┆           ┆ Presidenc ┆ onight    ┆   ┆           ┆           ┆           ┆ after    │\n",
              "│           ┆           ┆ y: Last   ┆           ┆   ┆           ┆           ┆           ┆ the pres │\n",
              "│           ┆           ┆ Wee…      ┆           ┆   ┆           ┆           ┆           ┆ identia… │\n",
              "│ 5qpjK5DgC ┆ 17.14.11  ┆ Racist    ┆ Rudy      ┆ … ┆ false     ┆ false     ┆ false     ┆ WATCH MY │\n",
              "│ t4        ┆           ┆ Superman  ┆ Mancuso   ┆   ┆           ┆           ┆           ┆ PREVIOUS │\n",
              "│           ┆           ┆ | Rudy    ┆           ┆   ┆           ┆           ┆           ┆ VIDEO ▶  │\n",
              "│           ┆           ┆ Mancuso…  ┆           ┆   ┆           ┆           ┆           ┆ \\n\\n…    │\n",
              "└───────────┴───────────┴───────────┴───────────┴───┴───────────┴───────────┴───────────┴──────────┘"
            ],
            "text/html": [
              "<div><style>\n",
              ".dataframe > thead > tr,\n",
              ".dataframe > tbody > tr {\n",
              "  text-align: right;\n",
              "  white-space: pre-wrap;\n",
              "}\n",
              "</style>\n",
              "<small>shape: (3, 16)</small><table border=\"1\" class=\"dataframe\"><thead><tr><th>video_id</th><th>trending_date</th><th>title</th><th>channel_title</th><th>category_id</th><th>publish_time</th><th>tags</th><th>views</th><th>likes</th><th>dislikes</th><th>comment_count</th><th>thumbnail_link</th><th>comments_disabled</th><th>ratings_disabled</th><th>video_error_or_removed</th><th>description</th></tr><tr><td>str</td><td>str</td><td>str</td><td>str</td><td>i64</td><td>str</td><td>str</td><td>i64</td><td>i64</td><td>i64</td><td>i64</td><td>str</td><td>bool</td><td>bool</td><td>bool</td><td>str</td></tr></thead><tbody><tr><td>&quot;2kyS6SvSYSE&quot;</td><td>&quot;17.14.11&quot;</td><td>&quot;WE WANT TO TALK ABOUT OUR MARR…</td><td>&quot;CaseyNeistat&quot;</td><td>22</td><td>&quot;2017-11-13T17:13:01.000Z&quot;</td><td>&quot;SHANtell martin&quot;</td><td>748374</td><td>57527</td><td>2966</td><td>15954</td><td>&quot;https://i.ytimg.com/vi/2kyS6Sv…</td><td>false</td><td>false</td><td>false</td><td>&quot;SHANTELL&#x27;S CHANNEL - https://w…</td></tr><tr><td>&quot;1ZAPwfrtAFY&quot;</td><td>&quot;17.14.11&quot;</td><td>&quot;The Trump Presidency: Last Wee…</td><td>&quot;LastWeekTonight&quot;</td><td>24</td><td>&quot;2017-11-13T07:30:00.000Z&quot;</td><td>&quot;last week tonight trump presid…</td><td>2418783</td><td>97185</td><td>6146</td><td>12703</td><td>&quot;https://i.ytimg.com/vi/1ZAPwfr…</td><td>false</td><td>false</td><td>false</td><td>&quot;One year after the presidentia…</td></tr><tr><td>&quot;5qpjK5DgCt4&quot;</td><td>&quot;17.14.11&quot;</td><td>&quot;Racist Superman | Rudy Mancuso…</td><td>&quot;Rudy Mancuso&quot;</td><td>23</td><td>&quot;2017-11-12T19:05:24.000Z&quot;</td><td>&quot;racist superman|rudy|mancuso|k…</td><td>3191434</td><td>146033</td><td>5339</td><td>8181</td><td>&quot;https://i.ytimg.com/vi/5qpjK5D…</td><td>false</td><td>false</td><td>false</td><td>&quot;WATCH MY PREVIOUS VIDEO ▶ \\n\\n…</td></tr></tbody></table></div>"
            ]
          },
          "metadata": {},
          "execution_count": 31
        }
      ],
      "source": [
        "df.head(3)"
      ]
    },
    {
      "cell_type": "code",
      "execution_count": 32,
      "id": "c7f87951-f4eb-468c-b0bb-7253bc18148b",
      "metadata": {
        "tags": [],
        "colab": {
          "base_uri": "https://localhost:8080/"
        },
        "id": "c7f87951-f4eb-468c-b0bb-7253bc18148b",
        "outputId": "c7f48e2e-0333-4689-890f-e9fc11e8e7d8"
      },
      "outputs": [
        {
          "output_type": "stream",
          "name": "stdout",
          "text": [
            "shape: (40_949, 16)\n",
            "┌───────────┬───────────┬───────────┬───────────┬───┬───────────┬───────────┬───────────┬──────────┐\n",
            "│ video_id  ┆ trending_ ┆ title     ┆ channel_t ┆ … ┆ comments_ ┆ ratings_d ┆ video_err ┆ descript │\n",
            "│ ---       ┆ date      ┆ ---       ┆ itle      ┆   ┆ disabled  ┆ isabled   ┆ or_or_rem ┆ ion      │\n",
            "│ str       ┆ ---       ┆ str       ┆ ---       ┆   ┆ ---       ┆ ---       ┆ oved      ┆ ---      │\n",
            "│           ┆ str       ┆           ┆ str       ┆   ┆ bool      ┆ bool      ┆ ---       ┆ str      │\n",
            "│           ┆           ┆           ┆           ┆   ┆           ┆           ┆ bool      ┆          │\n",
            "╞═══════════╪═══════════╪═══════════╪═══════════╪═══╪═══════════╪═══════════╪═══════════╪══════════╡\n",
            "│ 2kyS6SvSY ┆ 17.14.11  ┆ WE WANT   ┆ CaseyNeis ┆ … ┆ false     ┆ false     ┆ false     ┆ SHANTELL │\n",
            "│ SE        ┆           ┆ TO TALK   ┆ tat       ┆   ┆           ┆           ┆           ┆ 'S       │\n",
            "│           ┆           ┆ ABOUT OUR ┆           ┆   ┆           ┆           ┆           ┆ CHANNEL  │\n",
            "│           ┆           ┆ MARR…     ┆           ┆   ┆           ┆           ┆           ┆ - https: │\n",
            "│           ┆           ┆           ┆           ┆   ┆           ┆           ┆           ┆ //w…     │\n",
            "│ 1ZAPwfrtA ┆ 17.14.11  ┆ The Trump ┆ LastWeekT ┆ … ┆ false     ┆ false     ┆ false     ┆ One year │\n",
            "│ FY        ┆           ┆ Presidenc ┆ onight    ┆   ┆           ┆           ┆           ┆ after    │\n",
            "│           ┆           ┆ y: Last   ┆           ┆   ┆           ┆           ┆           ┆ the pres │\n",
            "│           ┆           ┆ Wee…      ┆           ┆   ┆           ┆           ┆           ┆ identia… │\n",
            "│ 5qpjK5DgC ┆ 17.14.11  ┆ Racist    ┆ Rudy      ┆ … ┆ false     ┆ false     ┆ false     ┆ WATCH MY │\n",
            "│ t4        ┆           ┆ Superman  ┆ Mancuso   ┆   ┆           ┆           ┆           ┆ PREVIOUS │\n",
            "│           ┆           ┆ | Rudy    ┆           ┆   ┆           ┆           ┆           ┆ VIDEO ▶  │\n",
            "│           ┆           ┆ Mancuso…  ┆           ┆   ┆           ┆           ┆           ┆ \\n\\n…    │\n",
            "│ puqaWrEC7 ┆ 17.14.11  ┆ Nickelbac ┆ Good      ┆ … ┆ false     ┆ false     ┆ false     ┆ Today we │\n",
            "│ tY        ┆           ┆ k Lyrics: ┆ Mythical  ┆   ┆           ┆           ┆           ┆ find out │\n",
            "│           ┆           ┆ Real or   ┆ Morning   ┆   ┆           ┆           ┆           ┆ if Link  │\n",
            "│           ┆           ┆ Fak…      ┆           ┆   ┆           ┆           ┆           ┆ is a…    │\n",
            "│ d380meD0W ┆ 17.14.11  ┆ I Dare    ┆ nigahiga  ┆ … ┆ false     ┆ false     ┆ false     ┆ I know   │\n",
            "│ 0M        ┆           ┆ You:      ┆           ┆   ┆           ┆           ┆           ┆ it's     │\n",
            "│           ┆           ┆ GOING     ┆           ┆   ┆           ┆           ┆           ┆ been a   │\n",
            "│           ┆           ┆ BALD!?    ┆           ┆   ┆           ┆           ┆           ┆ while    │\n",
            "│           ┆           ┆           ┆           ┆   ┆           ┆           ┆           ┆ since…   │\n",
            "│ …         ┆ …         ┆ …         ┆ …         ┆ … ┆ …         ┆ …         ┆ …         ┆ …        │\n",
            "│ BZt0qjTWN ┆ 18.14.06  ┆ The Cat   ┆ AaronsAni ┆ … ┆ false     ┆ false     ┆ false     ┆ The Cat  │\n",
            "│ hw        ┆           ┆ Who       ┆ mals      ┆   ┆           ┆           ┆           ┆ Who      │\n",
            "│           ┆           ┆ Caught    ┆           ┆   ┆           ┆           ┆           ┆ Caught   │\n",
            "│           ┆           ┆ the Laser ┆           ┆   ┆           ┆           ┆           ┆ the      │\n",
            "│           ┆           ┆           ┆           ┆   ┆           ┆           ┆           ┆ Laser -… │\n",
            "│ 1h7KV2sjU ┆ 18.14.06  ┆ True      ┆ zefrank1  ┆ … ┆ false     ┆ false     ┆ false     ┆          │\n",
            "│ WY        ┆           ┆ Facts :   ┆           ┆   ┆           ┆           ┆           ┆          │\n",
            "│           ┆           ┆ Ant       ┆           ┆   ┆           ┆           ┆           ┆          │\n",
            "│           ┆           ┆ Mutualism ┆           ┆   ┆           ┆           ┆           ┆          │\n",
            "│ D6Oy4Lfoq ┆ 18.14.06  ┆ I GAVE    ┆ Brad      ┆ … ┆ false     ┆ false     ┆ false     ┆ I had so │\n",
            "│ sU        ┆           ┆ SAFIYA    ┆ Mondo     ┆   ┆           ┆           ┆           ┆ much fun │\n",
            "│           ┆           ┆ NYGAARD A ┆           ┆   ┆           ┆           ┆           ┆ transfor │\n",
            "│           ┆           ┆ PERFEC…   ┆           ┆   ┆           ┆           ┆           ┆ ming…    │\n",
            "│ oV0zkMe1K ┆ 18.14.06  ┆ How Black ┆ How It    ┆ … ┆ false     ┆ false     ┆ false     ┆ How      │\n",
            "│ 8s        ┆           ┆ Panther   ┆ Should    ┆   ┆           ┆           ┆           ┆ Black    │\n",
            "│           ┆           ┆ Should    ┆ Have      ┆   ┆           ┆           ┆           ┆ Panther  │\n",
            "│           ┆           ┆ Have …    ┆ Ended     ┆   ┆           ┆           ┆           ┆ Should   │\n",
            "│           ┆           ┆           ┆           ┆   ┆           ┆           ┆           ┆ Have …   │\n",
            "│ ooyjaVdt- ┆ 18.14.06  ┆ Official  ┆ Call of   ┆ … ┆ false     ┆ false     ┆ false     ┆ Call of  │\n",
            "│ jA        ┆           ┆ Call of   ┆ Duty      ┆   ┆           ┆           ┆           ┆ Duty:    │\n",
            "│           ┆           ┆ Duty®:    ┆           ┆   ┆           ┆           ┆           ┆ Black    │\n",
            "│           ┆           ┆ Black …   ┆           ┆   ┆           ┆           ┆           ┆ Ops 4    │\n",
            "│           ┆           ┆           ┆           ┆   ┆           ┆           ┆           ┆ Mult…    │\n",
            "└───────────┴───────────┴───────────┴───────────┴───┴───────────┴───────────┴───────────┴──────────┘\n"
          ]
        }
      ],
      "source": [
        "df = pl.read_csv('/content/drive/MyDrive/polars/seccion03/dataCSV.csv')\n",
        "\n",
        "print(df)"
      ]
    },
    {
      "cell_type": "code",
      "source": [
        "df = pl.DataFrame(df)"
      ],
      "metadata": {
        "id": "WSOeY4frBsn2"
      },
      "id": "WSOeY4frBsn2",
      "execution_count": null,
      "outputs": []
    },
    {
      "cell_type": "markdown",
      "id": "3e70a895-d620-40b4-9e9c-8367f671f915",
      "metadata": {
        "id": "3e70a895-d620-40b4-9e9c-8367f671f915"
      },
      "source": [
        "El parámetro `separator` lo podemos utilizar para indicar el separador del archivo que estamos leyendo, por defecto es la coma. Por ejemplo, tratemos de leer un archivo cuyo separador es un pip."
      ]
    },
    {
      "cell_type": "code",
      "execution_count": 33,
      "id": "16e099e7-b19d-4570-958d-e3cca09162ac",
      "metadata": {
        "tags": [],
        "colab": {
          "base_uri": "https://localhost:8080/"
        },
        "id": "16e099e7-b19d-4570-958d-e3cca09162ac",
        "outputId": "125b8225-3796-42eb-e338-d5bd66a9c3e9"
      },
      "outputs": [
        {
          "output_type": "stream",
          "name": "stdout",
          "text": [
            "shape: (3, 1)\n",
            "┌────────────────────────┐\n",
            "│ pais|edad|fecha|color  │\n",
            "│ ---                    │\n",
            "│ str                    │\n",
            "╞════════════════════════╡\n",
            "│ MX|23|2021-02-21|rojo  │\n",
            "│ CA|56|2021-06-10|azul  │\n",
            "│ US|32|2020-06-02|verde │\n",
            "└────────────────────────┘\n"
          ]
        }
      ],
      "source": [
        "df1 = pl.read_csv('/content/drive/MyDrive/polars/seccion03/dataTab.txt')  ## no le indico separador\n",
        "\n",
        "print(df1)"
      ]
    },
    {
      "cell_type": "code",
      "execution_count": 34,
      "id": "42c8ef59-6728-448e-b0a7-e4047587a563",
      "metadata": {
        "tags": [],
        "colab": {
          "base_uri": "https://localhost:8080/"
        },
        "id": "42c8ef59-6728-448e-b0a7-e4047587a563",
        "outputId": "42717637-d014-4061-b6fc-bd96de81cf75"
      },
      "outputs": [
        {
          "output_type": "stream",
          "name": "stdout",
          "text": [
            "shape: (3, 4)\n",
            "┌──────┬──────┬────────────┬───────┐\n",
            "│ pais ┆ edad ┆ fecha      ┆ color │\n",
            "│ ---  ┆ ---  ┆ ---        ┆ ---   │\n",
            "│ str  ┆ i64  ┆ str        ┆ str   │\n",
            "╞══════╪══════╪════════════╪═══════╡\n",
            "│ MX   ┆ 23   ┆ 2021-02-21 ┆ rojo  │\n",
            "│ CA   ┆ 56   ┆ 2021-06-10 ┆ azul  │\n",
            "│ US   ┆ 32   ┆ 2020-06-02 ┆ verde │\n",
            "└──────┴──────┴────────────┴───────┘\n"
          ]
        }
      ],
      "source": [
        "df1 = pl.read_csv('/content/drive/MyDrive/polars/seccion03/dataTab.txt', separator='|')  ## parametro separador le indica a la funcion read_csv un pipe como separador\n",
        "\n",
        "print(df1) ### un dataframe con 4 columnas"
      ]
    },
    {
      "cell_type": "markdown",
      "id": "11d85841-95d4-43a0-8a81-a7991cd08342",
      "metadata": {
        "id": "11d85841-95d4-43a0-8a81-a7991cd08342"
      },
      "source": [
        "Veamos ahora como podemos seleccionar las columnas que deseamos leer solamente del archivo con el parámetro `columns`. Por ejemplo, vamos a leer el archivo dataCSV.csv y solo deseamos las columnas:\n",
        "- video_id\n",
        "- trending_date\n",
        "- title"
      ]
    },
    {
      "cell_type": "code",
      "execution_count": 35,
      "id": "679d25f9-bfdd-4b40-a426-cdf22eb3a208",
      "metadata": {
        "tags": [],
        "colab": {
          "base_uri": "https://localhost:8080/"
        },
        "id": "679d25f9-bfdd-4b40-a426-cdf22eb3a208",
        "outputId": "f8a7beeb-b3ea-4dad-b6c9-6b8bf371ad83"
      },
      "outputs": [
        {
          "output_type": "stream",
          "name": "stdout",
          "text": [
            "shape: (40_949, 3)\n",
            "┌─────────────┬───────────────┬─────────────────────────────────┐\n",
            "│ video_id    ┆ trending_date ┆ title                           │\n",
            "│ ---         ┆ ---           ┆ ---                             │\n",
            "│ str         ┆ str           ┆ str                             │\n",
            "╞═════════════╪═══════════════╪═════════════════════════════════╡\n",
            "│ 2kyS6SvSYSE ┆ 17.14.11      ┆ WE WANT TO TALK ABOUT OUR MARR… │\n",
            "│ 1ZAPwfrtAFY ┆ 17.14.11      ┆ The Trump Presidency: Last Wee… │\n",
            "│ 5qpjK5DgCt4 ┆ 17.14.11      ┆ Racist Superman | Rudy Mancuso… │\n",
            "│ puqaWrEC7tY ┆ 17.14.11      ┆ Nickelback Lyrics: Real or Fak… │\n",
            "│ d380meD0W0M ┆ 17.14.11      ┆ I Dare You: GOING BALD!?        │\n",
            "│ …           ┆ …             ┆ …                               │\n",
            "│ BZt0qjTWNhw ┆ 18.14.06      ┆ The Cat Who Caught the Laser    │\n",
            "│ 1h7KV2sjUWY ┆ 18.14.06      ┆ True Facts : Ant Mutualism      │\n",
            "│ D6Oy4LfoqsU ┆ 18.14.06      ┆ I GAVE SAFIYA NYGAARD A PERFEC… │\n",
            "│ oV0zkMe1K8s ┆ 18.14.06      ┆ How Black Panther Should Have … │\n",
            "│ ooyjaVdt-jA ┆ 18.14.06      ┆ Official Call of Duty®: Black … │\n",
            "└─────────────┴───────────────┴─────────────────────────────────┘\n"
          ]
        }
      ],
      "source": [
        "df2 = pl.read_csv('/content/drive/MyDrive/polars/seccion03/dataCSV.csv', columns=['video_id', 'trending_date', 'title']) ### creamos un df2 y le agregamos columnas parametros , recibe un alista con los parametros que\n",
        "### queremos seleccionar\n",
        "print(df2)"
      ]
    },
    {
      "cell_type": "markdown",
      "id": "d4a659af-4915-4ccc-b8c8-75a3e2e834cd",
      "metadata": {
        "id": "d4a659af-4915-4ccc-b8c8-75a3e2e834cd"
      },
      "source": [
        "La función `read_csv` tiene muchos más parámetros que nos permiten flexibilizar la lectura de los archivos csv. Para mayor información consultar la documentación al respecto.\n",
        "\n",
        "[Ver documentación](https://pola-rs.github.io/polars/py-polars/html/reference/api/polars.read_csv.html#polars.read_csv)"
      ]
    },
    {
      "cell_type": "markdown",
      "id": "6cf6cd0b-109f-4f11-acde-53ab2b235811",
      "metadata": {
        "id": "6cf6cd0b-109f-4f11-acde-53ab2b235811"
      },
      "source": [
        "### Leer un archivo CSV de forma perezosa(Lazily): `scan_csv`"
      ]
    },
    {
      "cell_type": "markdown",
      "id": "2c70649c-8d2c-42ed-b3ea-8c14c6b6b54f",
      "metadata": {
        "id": "2c70649c-8d2c-42ed-b3ea-8c14c6b6b54f"
      },
      "source": [
        "La función `scan_csv` lee de forma perezosa(lazily) un archivo CSV. Esto permite que el optimizador de consultas baje los predicados y las proyecciones al nivel de escaneo, lo que reduce potencialmente la sobrecarga de memoria."
      ]
    },
    {
      "cell_type": "markdown",
      "source": [
        "### reduce potencialmente la carga de memoria"
      ],
      "metadata": {
        "id": "K72Jt3YNkAKs"
      },
      "id": "K72Jt3YNkAKs"
    },
    {
      "cell_type": "markdown",
      "source": [
        "##scan_csv recibe ,selecciono columnas, ademas vamos a hacer un filtro que la columna likes sea mayor a 50000 likes"
      ],
      "metadata": {
        "id": "m4RJF6n2kK2s"
      },
      "id": "m4RJF6n2kK2s"
    },
    {
      "cell_type": "code",
      "execution_count": 36,
      "id": "f537d93f-df0c-4c1f-a160-a85750a359bd",
      "metadata": {
        "tags": [],
        "colab": {
          "base_uri": "https://localhost:8080/",
          "height": 443
        },
        "id": "f537d93f-df0c-4c1f-a160-a85750a359bd",
        "outputId": "d867fab0-5048-40a4-8474-ef83e13d41c7"
      },
      "outputs": [
        {
          "output_type": "execute_result",
          "data": {
            "text/plain": [
              "shape: (11_065, 3)\n",
              "┌─────────────┬────────┬──────────┐\n",
              "│ video_id    ┆ likes  ┆ dislikes │\n",
              "│ ---         ┆ ---    ┆ ---      │\n",
              "│ str         ┆ i64    ┆ i64      │\n",
              "╞═════════════╪════════╪══════════╡\n",
              "│ 2kyS6SvSYSE ┆ 57527  ┆ 2966     │\n",
              "│ 1ZAPwfrtAFY ┆ 97185  ┆ 6146     │\n",
              "│ 5qpjK5DgCt4 ┆ 146033 ┆ 5339     │\n",
              "│ d380meD0W0M ┆ 132235 ┆ 1989     │\n",
              "│ 5E4ZBSInqUU ┆ 114188 ┆ 1333     │\n",
              "│ …           ┆ …      ┆ …        │\n",
              "│ ju_inUnrLc4 ┆ 676467 ┆ 15993    │\n",
              "│ 1PhPYr_9zRY ┆ 645888 ┆ 4052     │\n",
              "│ 1h7KV2sjUWY ┆ 60008  ┆ 382      │\n",
              "│ oV0zkMe1K8s ┆ 192957 ┆ 2846     │\n",
              "│ ooyjaVdt-jA ┆ 357079 ┆ 212976   │\n",
              "└─────────────┴────────┴──────────┘"
            ],
            "text/html": [
              "<div><style>\n",
              ".dataframe > thead > tr,\n",
              ".dataframe > tbody > tr {\n",
              "  text-align: right;\n",
              "  white-space: pre-wrap;\n",
              "}\n",
              "</style>\n",
              "<small>shape: (11_065, 3)</small><table border=\"1\" class=\"dataframe\"><thead><tr><th>video_id</th><th>likes</th><th>dislikes</th></tr><tr><td>str</td><td>i64</td><td>i64</td></tr></thead><tbody><tr><td>&quot;2kyS6SvSYSE&quot;</td><td>57527</td><td>2966</td></tr><tr><td>&quot;1ZAPwfrtAFY&quot;</td><td>97185</td><td>6146</td></tr><tr><td>&quot;5qpjK5DgCt4&quot;</td><td>146033</td><td>5339</td></tr><tr><td>&quot;d380meD0W0M&quot;</td><td>132235</td><td>1989</td></tr><tr><td>&quot;5E4ZBSInqUU&quot;</td><td>114188</td><td>1333</td></tr><tr><td>&hellip;</td><td>&hellip;</td><td>&hellip;</td></tr><tr><td>&quot;ju_inUnrLc4&quot;</td><td>676467</td><td>15993</td></tr><tr><td>&quot;1PhPYr_9zRY&quot;</td><td>645888</td><td>4052</td></tr><tr><td>&quot;1h7KV2sjUWY&quot;</td><td>60008</td><td>382</td></tr><tr><td>&quot;oV0zkMe1K8s&quot;</td><td>192957</td><td>2846</td></tr><tr><td>&quot;ooyjaVdt-jA&quot;</td><td>357079</td><td>212976</td></tr></tbody></table></div>"
            ]
          },
          "metadata": {},
          "execution_count": 36
        }
      ],
      "source": [
        "from polars import col  ### se importa la funcion columna y encapsulo en parentesis,\n",
        "\n",
        "df3 = (\n",
        "    pl.scan_csv('/content/drive/MyDrive/polars/seccion03/dataCSV.csv') # lectura lazily no hace nada\n",
        "    .select(col('video_id'), col('likes'), col('dislikes')) ## seleccionamos las columnas nos interesan a nosotros\n",
        "    .filter(col('likes') > 50000) # el filtro se realiza durante el escaneo, por lo que se leen menos datos en la memoria\n",
        ")\n",
        "\n",
        "df3.collect() ### debemos llamar a la funcion collect para realizar el escaneo"
      ]
    },
    {
      "cell_type": "markdown",
      "id": "0cf728d1-bdf8-4bfd-aa7c-c7ace8e6dd37",
      "metadata": {
        "id": "0cf728d1-bdf8-4bfd-aa7c-c7ace8e6dd37"
      },
      "source": [
        "La función `scan_csv` también posee una gran variedad de parámetros que se pueden consultar en su docuemntación.\n",
        "\n",
        "[Ver documentación](https://pola-rs.github.io/polars/py-polars/html/reference/api/polars.scan_csv.html#polars.scan_csv)"
      ]
    },
    {
      "cell_type": "markdown",
      "id": "01911338-f169-4550-ba8a-7eb92b804442",
      "metadata": {
        "id": "01911338-f169-4550-ba8a-7eb92b804442"
      },
      "source": [
        "### Escribir un CSV: `write_csv`"
      ]
    },
    {
      "cell_type": "markdown",
      "id": "495e5343-6709-4f17-b19d-77de4f222e76",
      "metadata": {
        "id": "495e5343-6709-4f17-b19d-77de4f222e76"
      },
      "source": [
        "La función `write_csv` nos permite escribir nuestro DataFrame como un archivo CSV. Por ejemplo, escribamos el df2 creado con anterioridad e indiquémosle que el separador será un pip."
      ]
    },
    {
      "cell_type": "code",
      "execution_count": 37,
      "id": "57a8c57f-9f40-4a79-ad97-9bf5e84c74da",
      "metadata": {
        "tags": [],
        "id": "57a8c57f-9f40-4a79-ad97-9bf5e84c74da"
      },
      "outputs": [],
      "source": [
        "df2.write_csv('./df2.csv', separator='|')  ### nos permite escribir un archivo de polars como csv, segun el separador"
      ]
    },
    {
      "cell_type": "code",
      "source": [
        "df2"
      ],
      "metadata": {
        "colab": {
          "base_uri": "https://localhost:8080/",
          "height": 443
        },
        "id": "XMKWeimmlBik",
        "outputId": "58f2be42-05ca-42d2-ca75-1157fdd75fc0"
      },
      "id": "XMKWeimmlBik",
      "execution_count": 38,
      "outputs": [
        {
          "output_type": "execute_result",
          "data": {
            "text/plain": [
              "shape: (40_949, 3)\n",
              "┌─────────────┬───────────────┬─────────────────────────────────┐\n",
              "│ video_id    ┆ trending_date ┆ title                           │\n",
              "│ ---         ┆ ---           ┆ ---                             │\n",
              "│ str         ┆ str           ┆ str                             │\n",
              "╞═════════════╪═══════════════╪═════════════════════════════════╡\n",
              "│ 2kyS6SvSYSE ┆ 17.14.11      ┆ WE WANT TO TALK ABOUT OUR MARR… │\n",
              "│ 1ZAPwfrtAFY ┆ 17.14.11      ┆ The Trump Presidency: Last Wee… │\n",
              "│ 5qpjK5DgCt4 ┆ 17.14.11      ┆ Racist Superman | Rudy Mancuso… │\n",
              "│ puqaWrEC7tY ┆ 17.14.11      ┆ Nickelback Lyrics: Real or Fak… │\n",
              "│ d380meD0W0M ┆ 17.14.11      ┆ I Dare You: GOING BALD!?        │\n",
              "│ …           ┆ …             ┆ …                               │\n",
              "│ BZt0qjTWNhw ┆ 18.14.06      ┆ The Cat Who Caught the Laser    │\n",
              "│ 1h7KV2sjUWY ┆ 18.14.06      ┆ True Facts : Ant Mutualism      │\n",
              "│ D6Oy4LfoqsU ┆ 18.14.06      ┆ I GAVE SAFIYA NYGAARD A PERFEC… │\n",
              "│ oV0zkMe1K8s ┆ 18.14.06      ┆ How Black Panther Should Have … │\n",
              "│ ooyjaVdt-jA ┆ 18.14.06      ┆ Official Call of Duty®: Black … │\n",
              "└─────────────┴───────────────┴─────────────────────────────────┘"
            ],
            "text/html": [
              "<div><style>\n",
              ".dataframe > thead > tr,\n",
              ".dataframe > tbody > tr {\n",
              "  text-align: right;\n",
              "  white-space: pre-wrap;\n",
              "}\n",
              "</style>\n",
              "<small>shape: (40_949, 3)</small><table border=\"1\" class=\"dataframe\"><thead><tr><th>video_id</th><th>trending_date</th><th>title</th></tr><tr><td>str</td><td>str</td><td>str</td></tr></thead><tbody><tr><td>&quot;2kyS6SvSYSE&quot;</td><td>&quot;17.14.11&quot;</td><td>&quot;WE WANT TO TALK ABOUT OUR MARR…</td></tr><tr><td>&quot;1ZAPwfrtAFY&quot;</td><td>&quot;17.14.11&quot;</td><td>&quot;The Trump Presidency: Last Wee…</td></tr><tr><td>&quot;5qpjK5DgCt4&quot;</td><td>&quot;17.14.11&quot;</td><td>&quot;Racist Superman | Rudy Mancuso…</td></tr><tr><td>&quot;puqaWrEC7tY&quot;</td><td>&quot;17.14.11&quot;</td><td>&quot;Nickelback Lyrics: Real or Fak…</td></tr><tr><td>&quot;d380meD0W0M&quot;</td><td>&quot;17.14.11&quot;</td><td>&quot;I Dare You: GOING BALD!?&quot;</td></tr><tr><td>&hellip;</td><td>&hellip;</td><td>&hellip;</td></tr><tr><td>&quot;BZt0qjTWNhw&quot;</td><td>&quot;18.14.06&quot;</td><td>&quot;The Cat Who Caught the Laser&quot;</td></tr><tr><td>&quot;1h7KV2sjUWY&quot;</td><td>&quot;18.14.06&quot;</td><td>&quot;True Facts : Ant Mutualism&quot;</td></tr><tr><td>&quot;D6Oy4LfoqsU&quot;</td><td>&quot;18.14.06&quot;</td><td>&quot;I GAVE SAFIYA NYGAARD A PERFEC…</td></tr><tr><td>&quot;oV0zkMe1K8s&quot;</td><td>&quot;18.14.06&quot;</td><td>&quot;How Black Panther Should Have …</td></tr><tr><td>&quot;ooyjaVdt-jA&quot;</td><td>&quot;18.14.06&quot;</td><td>&quot;Official Call of Duty®: Black …</td></tr></tbody></table></div>"
            ]
          },
          "metadata": {},
          "execution_count": 38
        }
      ]
    },
    {
      "cell_type": "code",
      "execution_count": 39,
      "id": "de9b10a4-895b-44e1-be73-8d64f963458f",
      "metadata": {
        "tags": [],
        "colab": {
          "base_uri": "https://localhost:8080/",
          "height": 443
        },
        "id": "de9b10a4-895b-44e1-be73-8d64f963458f",
        "outputId": "81bd47bd-4d7f-4fd2-8c48-27701ace55a5"
      },
      "outputs": [
        {
          "output_type": "execute_result",
          "data": {
            "text/plain": [
              "shape: (40_949, 3)\n",
              "┌─────────────┬───────────────┬─────────────────────────────────┐\n",
              "│ video_id    ┆ trending_date ┆ title                           │\n",
              "│ ---         ┆ ---           ┆ ---                             │\n",
              "│ str         ┆ str           ┆ str                             │\n",
              "╞═════════════╪═══════════════╪═════════════════════════════════╡\n",
              "│ 2kyS6SvSYSE ┆ 17.14.11      ┆ WE WANT TO TALK ABOUT OUR MARR… │\n",
              "│ 1ZAPwfrtAFY ┆ 17.14.11      ┆ The Trump Presidency: Last Wee… │\n",
              "│ 5qpjK5DgCt4 ┆ 17.14.11      ┆ Racist Superman | Rudy Mancuso… │\n",
              "│ puqaWrEC7tY ┆ 17.14.11      ┆ Nickelback Lyrics: Real or Fak… │\n",
              "│ d380meD0W0M ┆ 17.14.11      ┆ I Dare You: GOING BALD!?        │\n",
              "│ …           ┆ …             ┆ …                               │\n",
              "│ BZt0qjTWNhw ┆ 18.14.06      ┆ The Cat Who Caught the Laser    │\n",
              "│ 1h7KV2sjUWY ┆ 18.14.06      ┆ True Facts : Ant Mutualism      │\n",
              "│ D6Oy4LfoqsU ┆ 18.14.06      ┆ I GAVE SAFIYA NYGAARD A PERFEC… │\n",
              "│ oV0zkMe1K8s ┆ 18.14.06      ┆ How Black Panther Should Have … │\n",
              "│ ooyjaVdt-jA ┆ 18.14.06      ┆ Official Call of Duty®: Black … │\n",
              "└─────────────┴───────────────┴─────────────────────────────────┘"
            ],
            "text/html": [
              "<div><style>\n",
              ".dataframe > thead > tr,\n",
              ".dataframe > tbody > tr {\n",
              "  text-align: right;\n",
              "  white-space: pre-wrap;\n",
              "}\n",
              "</style>\n",
              "<small>shape: (40_949, 3)</small><table border=\"1\" class=\"dataframe\"><thead><tr><th>video_id</th><th>trending_date</th><th>title</th></tr><tr><td>str</td><td>str</td><td>str</td></tr></thead><tbody><tr><td>&quot;2kyS6SvSYSE&quot;</td><td>&quot;17.14.11&quot;</td><td>&quot;WE WANT TO TALK ABOUT OUR MARR…</td></tr><tr><td>&quot;1ZAPwfrtAFY&quot;</td><td>&quot;17.14.11&quot;</td><td>&quot;The Trump Presidency: Last Wee…</td></tr><tr><td>&quot;5qpjK5DgCt4&quot;</td><td>&quot;17.14.11&quot;</td><td>&quot;Racist Superman | Rudy Mancuso…</td></tr><tr><td>&quot;puqaWrEC7tY&quot;</td><td>&quot;17.14.11&quot;</td><td>&quot;Nickelback Lyrics: Real or Fak…</td></tr><tr><td>&quot;d380meD0W0M&quot;</td><td>&quot;17.14.11&quot;</td><td>&quot;I Dare You: GOING BALD!?&quot;</td></tr><tr><td>&hellip;</td><td>&hellip;</td><td>&hellip;</td></tr><tr><td>&quot;BZt0qjTWNhw&quot;</td><td>&quot;18.14.06&quot;</td><td>&quot;The Cat Who Caught the Laser&quot;</td></tr><tr><td>&quot;1h7KV2sjUWY&quot;</td><td>&quot;18.14.06&quot;</td><td>&quot;True Facts : Ant Mutualism&quot;</td></tr><tr><td>&quot;D6Oy4LfoqsU&quot;</td><td>&quot;18.14.06&quot;</td><td>&quot;I GAVE SAFIYA NYGAARD A PERFEC…</td></tr><tr><td>&quot;oV0zkMe1K8s&quot;</td><td>&quot;18.14.06&quot;</td><td>&quot;How Black Panther Should Have …</td></tr><tr><td>&quot;ooyjaVdt-jA&quot;</td><td>&quot;18.14.06&quot;</td><td>&quot;Official Call of Duty®: Black …</td></tr></tbody></table></div>"
            ]
          },
          "metadata": {},
          "execution_count": 39
        }
      ],
      "source": [
        "pl.read_csv('./df2.csv', separator='|')  ##debemos establecerle separador tipo pipe"
      ]
    },
    {
      "cell_type": "markdown",
      "id": "f1b015d4-7078-4fb0-a542-fc207657f269",
      "metadata": {
        "id": "f1b015d4-7078-4fb0-a542-fc207657f269"
      },
      "source": [
        "El resto de parámetros que admite la función `read_csv` se pueden encontrar en su documentación.\n",
        "\n",
        "[Ver documentación](https://pola-rs.github.io/polars/py-polars/html/reference/api/polars.DataFrame.write_csv.html#polars.DataFrame.write_csv)"
      ]
    },
    {
      "cell_type": "code",
      "source": [
        "type(df2)"
      ],
      "metadata": {
        "colab": {
          "base_uri": "https://localhost:8080/",
          "height": 220
        },
        "id": "fJo0G6T2CjBX",
        "outputId": "aaab66f2-3c42-4a11-9e03-0b8ba4a41985"
      },
      "id": "fJo0G6T2CjBX",
      "execution_count": 40,
      "outputs": [
        {
          "output_type": "execute_result",
          "data": {
            "text/plain": [
              "polars.dataframe.frame.DataFrame"
            ],
            "text/html": [
              "<div style=\"max-width:800px; border: 1px solid var(--colab-border-color);\"><style>\n",
              "      pre.function-repr-contents {\n",
              "        overflow-x: auto;\n",
              "        padding: 8px 12px;\n",
              "        max-height: 500px;\n",
              "      }\n",
              "\n",
              "      pre.function-repr-contents.function-repr-contents-collapsed {\n",
              "        cursor: pointer;\n",
              "        max-height: 100px;\n",
              "      }\n",
              "    </style>\n",
              "    <pre style=\"white-space: initial; background:\n",
              "         var(--colab-secondary-surface-color); padding: 8px 12px;\n",
              "         border-bottom: 1px solid var(--colab-border-color);\"><b>polars.dataframe.frame.DataFrame</b><br/>def __init__(data: FrameInitTypes | None=None, schema: SchemaDefinition | None=None, *, schema_overrides: SchemaDict | None=None, strict: bool=True, orient: Orientation | None=None, infer_schema_length: int | None=N_INFER_DEFAULT, nan_to_null: bool=False)</pre><pre class=\"function-repr-contents function-repr-contents-collapsed\" style=\"\"><a class=\"filepath\" style=\"display:none\" href=\"#\">/usr/local/lib/python3.10/dist-packages/polars/dataframe/frame.py</a>Two-dimensional data structure representing data as a table with rows and columns.\n",
              "\n",
              "Parameters\n",
              "----------\n",
              "data : dict, Sequence, ndarray, Series, or pandas.DataFrame\n",
              "    Two-dimensional data in various forms; dict input must contain Sequences,\n",
              "    Generators, or a `range`. Sequence may contain Series or other Sequences.\n",
              "schema : Sequence of str, (str,DataType) pairs, or a {str:DataType,} dict\n",
              "    The schema of the resulting DataFrame. The schema may be declared in several\n",
              "    ways:\n",
              "\n",
              "    * As a dict of {name:type} pairs; if type is None, it will be auto-inferred.\n",
              "    * As a list of column names; in this case types are automatically inferred.\n",
              "    * As a list of (name,type) pairs; this is equivalent to the dictionary form.\n",
              "\n",
              "    If you supply a list of column names that does not match the names in the\n",
              "    underlying data, the names given here will overwrite them. The number\n",
              "    of names given in the schema should match the underlying data dimensions.\n",
              "\n",
              "    If set to `None` (default), the schema is inferred from the data.\n",
              "schema_overrides : dict, default None\n",
              "    Support type specification or override of one or more columns; note that\n",
              "    any dtypes inferred from the schema param will be overridden.\n",
              "\n",
              "    The number of entries in the schema should match the underlying data\n",
              "    dimensions, unless a sequence of dictionaries is being passed, in which case\n",
              "    a *partial* schema can be declared to prevent specific fields from being loaded.\n",
              "strict : bool, default True\n",
              "    Throw an error if any `data` value does not exactly match the given or inferred\n",
              "    data type for that column. If set to `False`, values that do not match the data\n",
              "    type are cast to that data type or, if casting is not possible, set to null\n",
              "    instead.\n",
              "orient : {&#x27;col&#x27;, &#x27;row&#x27;}, default None\n",
              "    Whether to interpret two-dimensional data as columns or as rows. If None,\n",
              "    the orientation is inferred by matching the columns and data dimensions. If\n",
              "    this does not yield conclusive results, column orientation is used.\n",
              "infer_schema_length : int or None\n",
              "    The maximum number of rows to scan for schema inference. If set to `None`, the\n",
              "    full data may be scanned *(this can be slow)*. This parameter only applies if\n",
              "    the input data is a sequence or generator of rows; other input is read as-is.\n",
              "nan_to_null : bool, default False\n",
              "    If the data comes from one or more numpy arrays, can optionally convert input\n",
              "    data np.nan values to null instead. This is a no-op for all other input data.\n",
              "\n",
              "Notes\n",
              "-----\n",
              "Polars explicitly does not support subclassing of its core data types. See\n",
              "the following GitHub issue for possible workarounds:\n",
              "https://github.com/pola-rs/polars/issues/2846#issuecomment-1711799869\n",
              "\n",
              "Examples\n",
              "--------\n",
              "Constructing a DataFrame from a dictionary:\n",
              "\n",
              "&gt;&gt;&gt; data = {&quot;a&quot;: [1, 2], &quot;b&quot;: [3, 4]}\n",
              "&gt;&gt;&gt; df = pl.DataFrame(data)\n",
              "&gt;&gt;&gt; df\n",
              "shape: (2, 2)\n",
              "┌─────┬─────┐\n",
              "│ a   ┆ b   │\n",
              "│ --- ┆ --- │\n",
              "│ i64 ┆ i64 │\n",
              "╞═════╪═════╡\n",
              "│ 1   ┆ 3   │\n",
              "│ 2   ┆ 4   │\n",
              "└─────┴─────┘\n",
              "\n",
              "Notice that the dtypes are automatically inferred as polars Int64:\n",
              "\n",
              "&gt;&gt;&gt; df.dtypes\n",
              "[Int64, Int64]\n",
              "\n",
              "To specify a more detailed/specific frame schema you can supply the `schema`\n",
              "parameter with a dictionary of (name,dtype) pairs...\n",
              "\n",
              "&gt;&gt;&gt; data = {&quot;col1&quot;: [0, 2], &quot;col2&quot;: [3, 7]}\n",
              "&gt;&gt;&gt; df2 = pl.DataFrame(data, schema={&quot;col1&quot;: pl.Float32, &quot;col2&quot;: pl.Int64})\n",
              "&gt;&gt;&gt; df2\n",
              "shape: (2, 2)\n",
              "┌──────┬──────┐\n",
              "│ col1 ┆ col2 │\n",
              "│ ---  ┆ ---  │\n",
              "│ f32  ┆ i64  │\n",
              "╞══════╪══════╡\n",
              "│ 0.0  ┆ 3    │\n",
              "│ 2.0  ┆ 7    │\n",
              "└──────┴──────┘\n",
              "\n",
              "...a sequence of (name,dtype) pairs...\n",
              "\n",
              "&gt;&gt;&gt; data = {&quot;col1&quot;: [1, 2], &quot;col2&quot;: [3, 4]}\n",
              "&gt;&gt;&gt; df3 = pl.DataFrame(data, schema=[(&quot;col1&quot;, pl.Float32), (&quot;col2&quot;, pl.Int64)])\n",
              "&gt;&gt;&gt; df3\n",
              "shape: (2, 2)\n",
              "┌──────┬──────┐\n",
              "│ col1 ┆ col2 │\n",
              "│ ---  ┆ ---  │\n",
              "│ f32  ┆ i64  │\n",
              "╞══════╪══════╡\n",
              "│ 1.0  ┆ 3    │\n",
              "│ 2.0  ┆ 4    │\n",
              "└──────┴──────┘\n",
              "\n",
              "...or a list of typed Series.\n",
              "\n",
              "&gt;&gt;&gt; data = [\n",
              "...     pl.Series(&quot;col1&quot;, [1, 2], dtype=pl.Float32),\n",
              "...     pl.Series(&quot;col2&quot;, [3, 4], dtype=pl.Int64),\n",
              "... ]\n",
              "&gt;&gt;&gt; df4 = pl.DataFrame(data)\n",
              "&gt;&gt;&gt; df4\n",
              "shape: (2, 2)\n",
              "┌──────┬──────┐\n",
              "│ col1 ┆ col2 │\n",
              "│ ---  ┆ ---  │\n",
              "│ f32  ┆ i64  │\n",
              "╞══════╪══════╡\n",
              "│ 1.0  ┆ 3    │\n",
              "│ 2.0  ┆ 4    │\n",
              "└──────┴──────┘\n",
              "\n",
              "Constructing a DataFrame from a numpy ndarray, specifying column names:\n",
              "\n",
              "&gt;&gt;&gt; import numpy as np\n",
              "&gt;&gt;&gt; data = np.array([(1, 2), (3, 4)], dtype=np.int64)\n",
              "&gt;&gt;&gt; df5 = pl.DataFrame(data, schema=[&quot;a&quot;, &quot;b&quot;], orient=&quot;col&quot;)\n",
              "&gt;&gt;&gt; df5\n",
              "shape: (2, 2)\n",
              "┌─────┬─────┐\n",
              "│ a   ┆ b   │\n",
              "│ --- ┆ --- │\n",
              "│ i64 ┆ i64 │\n",
              "╞═════╪═════╡\n",
              "│ 1   ┆ 3   │\n",
              "│ 2   ┆ 4   │\n",
              "└─────┴─────┘\n",
              "\n",
              "Constructing a DataFrame from a list of lists, row orientation specified:\n",
              "\n",
              "&gt;&gt;&gt; data = [[1, 2, 3], [4, 5, 6]]\n",
              "&gt;&gt;&gt; df6 = pl.DataFrame(data, schema=[&quot;a&quot;, &quot;b&quot;, &quot;c&quot;], orient=&quot;row&quot;)\n",
              "&gt;&gt;&gt; df6\n",
              "shape: (2, 3)\n",
              "┌─────┬─────┬─────┐\n",
              "│ a   ┆ b   ┆ c   │\n",
              "│ --- ┆ --- ┆ --- │\n",
              "│ i64 ┆ i64 ┆ i64 │\n",
              "╞═════╪═════╪═════╡\n",
              "│ 1   ┆ 2   ┆ 3   │\n",
              "│ 4   ┆ 5   ┆ 6   │\n",
              "└─────┴─────┴─────┘</pre>\n",
              "      <script>\n",
              "      if (google.colab.kernel.accessAllowed && google.colab.files && google.colab.files.view) {\n",
              "        for (const element of document.querySelectorAll('.filepath')) {\n",
              "          element.style.display = 'block'\n",
              "          element.onclick = (event) => {\n",
              "            event.preventDefault();\n",
              "            event.stopPropagation();\n",
              "            google.colab.files.view(element.textContent, 186);\n",
              "          };\n",
              "        }\n",
              "      }\n",
              "      for (const element of document.querySelectorAll('.function-repr-contents')) {\n",
              "        element.onclick = (event) => {\n",
              "          event.preventDefault();\n",
              "          event.stopPropagation();\n",
              "          element.classList.toggle('function-repr-contents-collapsed');\n",
              "        };\n",
              "      }\n",
              "      </script>\n",
              "      </div>"
            ]
          },
          "metadata": {},
          "execution_count": 40
        }
      ]
    },
    {
      "cell_type": "code",
      "source": [
        "df2.collect_schema()"
      ],
      "metadata": {
        "colab": {
          "base_uri": "https://localhost:8080/"
        },
        "id": "1oiVRuubCuBy",
        "outputId": "511c01b0-4842-4142-94f6-98ac851e2908"
      },
      "id": "1oiVRuubCuBy",
      "execution_count": 41,
      "outputs": [
        {
          "output_type": "execute_result",
          "data": {
            "text/plain": [
              "Schema([('video_id', String), ('trending_date', String), ('title', String)])"
            ]
          },
          "metadata": {},
          "execution_count": 41
        }
      ]
    }
  ],
  "metadata": {
    "kernelspec": {
      "display_name": "Python 3 (ipykernel)",
      "language": "python",
      "name": "python3"
    },
    "language_info": {
      "codemirror_mode": {
        "name": "ipython",
        "version": 3
      },
      "file_extension": ".py",
      "mimetype": "text/x-python",
      "name": "python",
      "nbconvert_exporter": "python",
      "pygments_lexer": "ipython3",
      "version": "3.9.6"
    },
    "colab": {
      "provenance": []
    }
  },
  "nbformat": 4,
  "nbformat_minor": 5
}