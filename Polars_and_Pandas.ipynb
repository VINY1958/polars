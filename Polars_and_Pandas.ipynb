{
  "metadata": {
    "kernelspec": {
      "language": "python",
      "display_name": "Python 3",
      "name": "python3"
    },
    "language_info": {
      "name": "python",
      "version": "3.10.14",
      "mimetype": "text/x-python",
      "codemirror_mode": {
        "name": "ipython",
        "version": 3
      },
      "pygments_lexer": "ipython3",
      "nbconvert_exporter": "python",
      "file_extension": ".py"
    },
    "kaggle": {
      "accelerator": "none",
      "dataSources": [
        {
          "sourceId": 8077862,
          "sourceType": "datasetVersion",
          "datasetId": 4767363
        }
      ],
      "isInternetEnabled": true,
      "language": "python",
      "sourceType": "notebook",
      "isGpuEnabled": false
    },
    "colab": {
      "provenance": [],
      "include_colab_link": true
    }
  },
  "nbformat_minor": 0,
  "nbformat": 4,
  "cells": [
    {
      "cell_type": "markdown",
      "metadata": {
        "id": "view-in-github",
        "colab_type": "text"
      },
      "source": [
        "<a href=\"https://colab.research.google.com/github/Viny2030/polars/blob/main/Polars_and_Pandas.ipynb\" target=\"_parent\"><img src=\"https://colab.research.google.com/assets/colab-badge.svg\" alt=\"Open In Colab\"/></a>"
      ]
    },
    {
      "cell_type": "markdown",
      "source": [
        "https://github.com/rapidsai\n"
      ],
      "metadata": {
        "id": "HIAU6mApxDrl"
      }
    },
    {
      "cell_type": "markdown",
      "source": [
        "https://hub.docker.com/r/rapidsai/rapidsai/\n"
      ],
      "metadata": {
        "id": "m1PBlHnKzaXI"
      }
    },
    {
      "source": [
        "# IMPORTANT: RUN THIS CELL IN ORDER TO IMPORT YOUR KAGGLE DATA SOURCES,\n",
        "# THEN FEEL FREE TO DELETE THIS CELL.\n",
        "# NOTE: THIS NOTEBOOK ENVIRONMENT DIFFERS FROM KAGGLE'S PYTHON\n",
        "# ENVIRONMENT SO THERE MAY BE MISSING LIBRARIES USED BY YOUR\n",
        "# NOTEBOOK.\n",
        "import kagglehub\n",
        "phamletunhi_data_analysis2024_test_data_polars_vs_pandas_path = kagglehub.dataset_download('phamletunhi/data-analysis2024-test-data-polars-vs-pandas')\n",
        "\n",
        "print('Data source import complete.')"
      ],
      "metadata": {
        "id": "38eXiVGbCfy7",
        "colab": {
          "base_uri": "https://localhost:8080/"
        },
        "outputId": "7f68a7d2-b1a8-4b29-a2ef-cfa614a74c54"
      },
      "cell_type": "code",
      "outputs": [
        {
          "output_type": "stream",
          "name": "stdout",
          "text": [
            "Downloading from https://www.kaggle.com/api/v1/datasets/download/phamletunhi/data-analysis2024-test-data-polars-vs-pandas?dataset_version_number=1...\n"
          ]
        },
        {
          "output_type": "stream",
          "name": "stderr",
          "text": [
            "100%|██████████| 2.02G/2.02G [00:29<00:00, 73.7MB/s]"
          ]
        },
        {
          "output_type": "stream",
          "name": "stdout",
          "text": [
            "Extracting files...\n"
          ]
        },
        {
          "output_type": "stream",
          "name": "stderr",
          "text": [
            "\n"
          ]
        },
        {
          "output_type": "stream",
          "name": "stdout",
          "text": [
            "Data source import complete.\n"
          ]
        }
      ],
      "execution_count": null
    },
    {
      "cell_type": "markdown",
      "source": [
        "# Polars & Pandas\n",
        "## Similarities\n",
        "### DataFrame Creation:"
      ],
      "metadata": {
        "id": "hftU4ZbDCfzR"
      }
    },
    {
      "cell_type": "code",
      "source": [
        "# Pandas\n",
        "import pandas as pd\n",
        "data = {'A': [1, 2, 3], 'B': [4, 5, 6]}\n",
        "df_pandas = pd.DataFrame(data)\n",
        "\n",
        "# Polars\n",
        "import polars as pl\n",
        "data = {'A': [1, 2, 3], 'B': [4, 5, 6]}\n",
        "df_polars = pl.DataFrame(data)"
      ],
      "metadata": {
        "trusted": true,
        "execution": {
          "iopub.status.busy": "2024-10-19T22:38:45.040841Z",
          "iopub.execute_input": "2024-10-19T22:38:45.041323Z",
          "iopub.status.idle": "2024-10-19T22:38:45.155383Z",
          "shell.execute_reply.started": "2024-10-19T22:38:45.041275Z",
          "shell.execute_reply": "2024-10-19T22:38:45.154044Z"
        },
        "id": "2pHO8TfqCfzc"
      },
      "outputs": [],
      "execution_count": null
    },
    {
      "cell_type": "code",
      "source": [
        "print(df_pandas)\n",
        "print(df_polars)"
      ],
      "metadata": {
        "trusted": true,
        "execution": {
          "iopub.status.busy": "2024-10-19T22:39:07.757545Z",
          "iopub.execute_input": "2024-10-19T22:39:07.758048Z",
          "iopub.status.idle": "2024-10-19T22:39:07.775017Z",
          "shell.execute_reply.started": "2024-10-19T22:39:07.757969Z",
          "shell.execute_reply": "2024-10-19T22:39:07.773514Z"
        },
        "id": "iFaPSTtSCfzh",
        "colab": {
          "base_uri": "https://localhost:8080/"
        },
        "outputId": "72c34039-1e2d-4a9a-94a7-86e60d5c9cc2"
      },
      "outputs": [
        {
          "output_type": "stream",
          "name": "stdout",
          "text": [
            "   A  B\n",
            "0  1  4\n",
            "1  2  5\n",
            "2  3  6\n",
            "shape: (3, 2)\n",
            "┌─────┬─────┐\n",
            "│ A   ┆ B   │\n",
            "│ --- ┆ --- │\n",
            "│ i64 ┆ i64 │\n",
            "╞═════╪═════╡\n",
            "│ 1   ┆ 4   │\n",
            "│ 2   ┆ 5   │\n",
            "│ 3   ┆ 6   │\n",
            "└─────┴─────┘\n"
          ]
        }
      ],
      "execution_count": null
    },
    {
      "cell_type": "markdown",
      "source": [
        "### Column Selection:\n",
        "\n"
      ],
      "metadata": {
        "id": "gxbTESOyCfzk"
      }
    },
    {
      "cell_type": "code",
      "source": [
        "# Pandas\n",
        "column_pandas = df_pandas['A']\n",
        "\n",
        "# Polars\n",
        "column_polars = df_polars['A']\n",
        "\n",
        "print(\"pandas: \",column_pandas)\n",
        "print(\"-----------------------------------\")\n",
        "print(\"polars: \",column_polars)"
      ],
      "metadata": {
        "trusted": true,
        "execution": {
          "iopub.status.busy": "2024-10-19T22:41:04.123564Z",
          "iopub.execute_input": "2024-10-19T22:41:04.124182Z",
          "iopub.status.idle": "2024-10-19T22:41:04.131535Z",
          "shell.execute_reply.started": "2024-10-19T22:41:04.124133Z",
          "shell.execute_reply": "2024-10-19T22:41:04.130404Z"
        },
        "id": "DTJA1KfjCfzo",
        "colab": {
          "base_uri": "https://localhost:8080/"
        },
        "outputId": "11a75c1d-c89d-4115-80dd-9549001b00e6"
      },
      "outputs": [
        {
          "output_type": "stream",
          "name": "stdout",
          "text": [
            "pandas:  0    1\n",
            "1    2\n",
            "2    3\n",
            "Name: A, dtype: int64\n",
            "-----------------------------------\n",
            "polars:  shape: (3,)\n",
            "Series: 'A' [i64]\n",
            "[\n",
            "\t1\n",
            "\t2\n",
            "\t3\n",
            "]\n"
          ]
        }
      ],
      "execution_count": null
    },
    {
      "cell_type": "markdown",
      "source": [
        "## Differences\n",
        "### Adding Columns:\n",
        "\n"
      ],
      "metadata": {
        "id": "ciskXoylCfzs"
      }
    },
    {
      "cell_type": "code",
      "source": [
        "# Pandas\n",
        "df_pandas['C'] = df_pandas['A'] + df_pandas['B']\n",
        "\n",
        "# Polars\n",
        "df_polars = df_polars.with_columns((pl.col('A') + pl.col('B')).alias('C'))\n",
        "\n",
        "print(\"Pandas: \\n\", df_pandas)\n",
        "print(\"Polars: \",df_polars)"
      ],
      "metadata": {
        "trusted": true,
        "execution": {
          "iopub.status.busy": "2024-10-19T22:43:59.481463Z",
          "iopub.execute_input": "2024-10-19T22:43:59.481921Z",
          "iopub.status.idle": "2024-10-19T22:43:59.492778Z",
          "shell.execute_reply.started": "2024-10-19T22:43:59.481876Z",
          "shell.execute_reply": "2024-10-19T22:43:59.491255Z"
        },
        "id": "60Zzi50PCfzx",
        "colab": {
          "base_uri": "https://localhost:8080/"
        },
        "outputId": "aaa6d654-6abd-4d44-eef7-060cc4a6ec70"
      },
      "outputs": [
        {
          "output_type": "stream",
          "name": "stdout",
          "text": [
            "Pandas: \n",
            "    A  B  C\n",
            "0  1  4  5\n",
            "1  2  5  7\n",
            "2  3  6  9\n",
            "Polars:  shape: (3, 3)\n",
            "┌─────┬─────┬─────┐\n",
            "│ A   ┆ B   ┆ C   │\n",
            "│ --- ┆ --- ┆ --- │\n",
            "│ i64 ┆ i64 ┆ i64 │\n",
            "╞═════╪═════╪═════╡\n",
            "│ 1   ┆ 4   ┆ 5   │\n",
            "│ 2   ┆ 5   ┆ 7   │\n",
            "│ 3   ┆ 6   ┆ 9   │\n",
            "└─────┴─────┴─────┘\n"
          ]
        }
      ],
      "execution_count": null
    },
    {
      "cell_type": "markdown",
      "source": [
        "### Filtering Rows:\n"
      ],
      "metadata": {
        "id": "__ue0X1hCfz2"
      }
    },
    {
      "cell_type": "code",
      "source": [
        "# Pandas\n",
        "filtered_pandas = df_pandas[df_pandas['A'] > 2]\n",
        "\n",
        "# Polars\n",
        "filtered_polars = df_polars.filter(pl.col('A') > 2)\n",
        "\n",
        "print(\"Pandas: \\n\",filtered_pandas)\n",
        "\n",
        "print(\"Polars: \",filtered_polars)"
      ],
      "metadata": {
        "trusted": true,
        "execution": {
          "iopub.status.busy": "2024-10-19T22:45:50.774359Z",
          "iopub.execute_input": "2024-10-19T22:45:50.775291Z",
          "iopub.status.idle": "2024-10-19T22:45:50.786754Z",
          "shell.execute_reply.started": "2024-10-19T22:45:50.775239Z",
          "shell.execute_reply": "2024-10-19T22:45:50.785234Z"
        },
        "id": "tLRR9Wn2Cfz5",
        "colab": {
          "base_uri": "https://localhost:8080/"
        },
        "outputId": "b96236fa-4d7e-4aae-d444-2053b794d721"
      },
      "outputs": [
        {
          "output_type": "stream",
          "name": "stdout",
          "text": [
            "Pandas: \n",
            "    A  B  C\n",
            "2  3  6  9\n",
            "Polars:  shape: (1, 3)\n",
            "┌─────┬─────┬─────┐\n",
            "│ A   ┆ B   ┆ C   │\n",
            "│ --- ┆ --- ┆ --- │\n",
            "│ i64 ┆ i64 ┆ i64 │\n",
            "╞═════╪═════╪═════╡\n",
            "│ 3   ┆ 6   ┆ 9   │\n",
            "└─────┴─────┴─────┘\n"
          ]
        }
      ],
      "execution_count": null
    },
    {
      "cell_type": "markdown",
      "source": [
        "### Group By and Aggregation:\n"
      ],
      "metadata": {
        "id": "oEWQ73WNCfz-"
      }
    },
    {
      "cell_type": "code",
      "source": [
        "# Pandas\n",
        "grouped_pandas = df_pandas.groupby('A').agg({'B': 'mean'})\n",
        "\n",
        "# Polars\n",
        "grouped_polars = df_polars.group_by('A').agg(pl.mean('B').alias('mean_B'))\n",
        "\n",
        "print(grouped_pandas)\n",
        "print(grouped_polars)"
      ],
      "metadata": {
        "trusted": true,
        "execution": {
          "iopub.status.busy": "2024-10-19T22:46:51.737635Z",
          "iopub.execute_input": "2024-10-19T22:46:51.738126Z",
          "iopub.status.idle": "2024-10-19T22:46:51.75609Z",
          "shell.execute_reply.started": "2024-10-19T22:46:51.738081Z",
          "shell.execute_reply": "2024-10-19T22:46:51.754622Z"
        },
        "id": "JOsxwnzTCf0A",
        "colab": {
          "base_uri": "https://localhost:8080/"
        },
        "outputId": "de457877-8c26-484b-a53e-7f46b923e020"
      },
      "outputs": [
        {
          "output_type": "stream",
          "name": "stdout",
          "text": [
            "     B\n",
            "A     \n",
            "1  4.0\n",
            "2  5.0\n",
            "3  6.0\n",
            "shape: (3, 2)\n",
            "┌─────┬────────┐\n",
            "│ A   ┆ mean_B │\n",
            "│ --- ┆ ---    │\n",
            "│ i64 ┆ f64    │\n",
            "╞═════╪════════╡\n",
            "│ 3   ┆ 6.0    │\n",
            "│ 1   ┆ 4.0    │\n",
            "│ 2   ┆ 5.0    │\n",
            "└─────┴────────┘\n"
          ]
        }
      ],
      "execution_count": null
    },
    {
      "cell_type": "markdown",
      "source": [
        "### Chaining Operations:\n",
        "\n"
      ],
      "metadata": {
        "id": "KKdJzyGyCf0D"
      }
    },
    {
      "cell_type": "code",
      "source": [
        "# Pandas\n",
        "df_pandas['C'] = df_pandas['A'] + df_pandas['B']\n",
        "result_pandas = df_pandas.groupby('C').agg({'B': 'mean'})\n",
        "\n",
        "# Polars\n",
        "result_polars = (df_polars.with_columns((pl.col('A') + pl.col('B')).alias('C'))\n",
        "           .group_by('C')\n",
        "           .agg(pl.mean('B').alias('mean_B')))\n",
        "\n",
        "print(result_pandas)\n",
        "print(result_polars)"
      ],
      "metadata": {
        "trusted": true,
        "execution": {
          "iopub.status.busy": "2024-10-19T22:48:01.320577Z",
          "iopub.execute_input": "2024-10-19T22:48:01.321091Z",
          "iopub.status.idle": "2024-10-19T22:48:01.339147Z",
          "shell.execute_reply.started": "2024-10-19T22:48:01.321042Z",
          "shell.execute_reply": "2024-10-19T22:48:01.337681Z"
        },
        "id": "4Mf2_r9rCf0F",
        "colab": {
          "base_uri": "https://localhost:8080/"
        },
        "outputId": "e598b35f-f95c-4d58-9086-435475be0af7"
      },
      "outputs": [
        {
          "output_type": "stream",
          "name": "stdout",
          "text": [
            "     B\n",
            "C     \n",
            "5  4.0\n",
            "7  5.0\n",
            "9  6.0\n",
            "shape: (3, 2)\n",
            "┌─────┬────────┐\n",
            "│ C   ┆ mean_B │\n",
            "│ --- ┆ ---    │\n",
            "│ i64 ┆ f64    │\n",
            "╞═════╪════════╡\n",
            "│ 7   ┆ 5.0    │\n",
            "│ 9   ┆ 6.0    │\n",
            "│ 5   ┆ 4.0    │\n",
            "└─────┴────────┘\n"
          ]
        }
      ],
      "execution_count": null
    },
    {
      "cell_type": "markdown",
      "source": [
        "### Conversion to CSV Files:\n"
      ],
      "metadata": {
        "id": "61zYn426Cf0I"
      }
    },
    {
      "cell_type": "code",
      "source": [
        "# Pandas\n",
        "df_pandas.to_csv('pandas.csv')\n",
        "\n",
        "# Polars\n",
        "df_polars.write_csv('polars.csv')"
      ],
      "metadata": {
        "trusted": true,
        "execution": {
          "iopub.status.busy": "2024-10-19T22:49:17.487686Z",
          "iopub.execute_input": "2024-10-19T22:49:17.488206Z",
          "iopub.status.idle": "2024-10-19T22:49:17.498028Z",
          "shell.execute_reply.started": "2024-10-19T22:49:17.488157Z",
          "shell.execute_reply": "2024-10-19T22:49:17.496579Z"
        },
        "id": "36TQ5xHdCf0K"
      },
      "outputs": [],
      "execution_count": null
    },
    {
      "cell_type": "markdown",
      "source": [
        "## **Compare pandas vs polars**"
      ],
      "metadata": {
        "id": "LIJEtemlCf0N"
      }
    },
    {
      "cell_type": "code",
      "source": [
        "import time\n",
        "import matplotlib.pyplot as plt\n",
        "\n",
        "start_time = time.time()\n",
        "df_pandas = df_pandas\n",
        "end_time = time.time()\n",
        "pandas_load_time = end_time - start_time\n",
        "\n",
        "start_time = time.time()\n",
        "df_polars = df_polars\n",
        "end_time = time.time()\n",
        "polars_load_time = end_time - start_time"
      ],
      "metadata": {
        "trusted": true,
        "execution": {
          "iopub.status.busy": "2024-10-19T22:50:26.915038Z",
          "iopub.execute_input": "2024-10-19T22:50:26.916332Z",
          "iopub.status.idle": "2024-10-19T22:50:50.043486Z",
          "shell.execute_reply.started": "2024-10-19T22:50:26.916273Z",
          "shell.execute_reply": "2024-10-19T22:50:50.042271Z"
        },
        "id": "XdrK24KlCf0Q"
      },
      "outputs": [],
      "execution_count": null
    },
    {
      "cell_type": "code",
      "source": [
        "libraries = ['Pandas', 'Polars']\n",
        "load_times = [pandas_load_time, polars_load_time]\n",
        "\n",
        "plt.figure(figsize=(10, 6))\n",
        "plt.bar(libraries, load_times, color=['#f7bc48', '#69b6cc'])\n",
        "plt.xlabel('Library')\n",
        "plt.ylabel('Load Time (seconds)')\n",
        "plt.title('Load Time Comparison Between Pandas and Polars')\n",
        "plt.show()"
      ],
      "metadata": {
        "trusted": true,
        "execution": {
          "iopub.status.busy": "2024-10-19T22:50:50.045604Z",
          "iopub.execute_input": "2024-10-19T22:50:50.046211Z",
          "iopub.status.idle": "2024-10-19T22:50:50.339245Z",
          "shell.execute_reply.started": "2024-10-19T22:50:50.046151Z",
          "shell.execute_reply": "2024-10-19T22:50:50.337963Z"
        },
        "id": "nTMy2Hf9Cf0T",
        "colab": {
          "base_uri": "https://localhost:8080/",
          "height": 564
        },
        "outputId": "5fe23f02-756a-4c48-a8a8-60f3f5f2f0d1"
      },
      "outputs": [
        {
          "output_type": "display_data",
          "data": {
            "text/plain": [
              "<Figure size 1000x600 with 1 Axes>"
            ],
            "image/png": "[encoded data removed]"
          },
          "metadata": {}
        }
      ],
      "execution_count": null
    }
  ]
}