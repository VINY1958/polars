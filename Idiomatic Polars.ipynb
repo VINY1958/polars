{
 "cells": [
  {
   "cell_type": "markdown",
   "metadata": {
    "lines_to_next_cell": 0,
    "pycharm": {
     "name": "#%% md\n"
    }
   },
   "source": [
    "# Idiomatic Polars \n",
    "\n",
    "## Matt Harrison - PyData NYC 2024\n",
    "\n",
    "## https://github.com/mattharrison/pydata_nyc_2024\n",
    "\n",
    "\n",
    "\n",
    "<!-- https://github.com/mattharrison/talks>"
   ]
  },
  {
   "cell_type": "code",
   "execution_count": null,
   "metadata": {},
   "outputs": [],
   "source": []
  },
  {
   "cell_type": "code",
   "execution_count": null,
   "metadata": {},
   "outputs": [],
   "source": []
  },
  {
   "cell_type": "code",
   "execution_count": null,
   "metadata": {},
   "outputs": [],
   "source": []
  },
  {
   "cell_type": "code",
   "execution_count": null,
   "metadata": {},
   "outputs": [],
   "source": []
  },
  {
   "cell_type": "code",
   "execution_count": null,
   "metadata": {},
   "outputs": [],
   "source": []
  },
  {
   "cell_type": "code",
   "execution_count": null,
   "metadata": {},
   "outputs": [],
   "source": []
  },
  {
   "cell_type": "code",
   "execution_count": null,
   "metadata": {},
   "outputs": [],
   "source": []
  },
  {
   "cell_type": "code",
   "execution_count": null,
   "metadata": {},
   "outputs": [],
   "source": []
  },
  {
   "cell_type": "code",
   "execution_count": null,
   "metadata": {},
   "outputs": [],
   "source": []
  },
  {
   "cell_type": "code",
   "execution_count": null,
   "metadata": {
    "lines_to_next_cell": 2
   },
   "outputs": [],
   "source": []
  },
  {
   "cell_type": "markdown",
   "metadata": {
    "lines_to_next_cell": 0,
    "pycharm": {
     "name": "#%% md\n"
    }
   },
   "source": [
    "## About Matt  Harrison @\\_\\_mharrison\\_\\_\n",
    "\n",
    "* Author of *Effective Polars*, *Effective Pandas*, *Effective XGBoost*, *Learning Python for Data*, *Machine Learning Pocket Reference*, and *Illustrated Guide to Python 3*\n",
    "* Advisor and consultant.\n",
    "* Corporate trainer at MetaSnake. Taught Pandas to 1000's of students.\n"
   ]
  },
  {
   "cell_type": "code",
   "execution_count": null,
   "metadata": {},
   "outputs": [],
   "source": []
  },
  {
   "cell_type": "code",
   "execution_count": null,
   "metadata": {},
   "outputs": [],
   "source": []
  },
  {
   "cell_type": "code",
   "execution_count": null,
   "metadata": {},
   "outputs": [],
   "source": []
  },
  {
   "cell_type": "code",
   "execution_count": null,
   "metadata": {
    "lines_to_next_cell": 2
   },
   "outputs": [],
   "source": []
  },
  {
   "cell_type": "code",
   "execution_count": null,
   "metadata": {
    "lines_to_next_cell": 2,
    "pycharm": {
     "name": "#%%\n"
    }
   },
   "outputs": [],
   "source": []
  },
  {
   "cell_type": "code",
   "execution_count": null,
   "metadata": {
    "lines_to_next_cell": 2,
    "pycharm": {
     "name": "#%%\n"
    }
   },
   "outputs": [],
   "source": []
  },
  {
   "cell_type": "code",
   "execution_count": null,
   "metadata": {
    "lines_to_next_cell": 2,
    "pycharm": {
     "name": "#%%\n"
    }
   },
   "outputs": [],
   "source": []
  },
  {
   "cell_type": "code",
   "execution_count": null,
   "metadata": {
    "lines_to_next_cell": 2,
    "pycharm": {
     "name": "#%%\n"
    }
   },
   "outputs": [],
   "source": []
  },
  {
   "cell_type": "markdown",
   "metadata": {
    "lines_to_next_cell": 0,
    "pycharm": {
     "name": "#%%\n"
    }
   },
   "source": [
    "## Relevant Background\n",
    "\n",
    "* 1999 NLP\n",
    "* 2006 Created Python OLAP Engine\n",
    "* 2009 Heard about Pandas\n",
    "* Used Pandas for failure modeling, analytics, and ml\n",
    "* 2016 Learning the Pandas Library\n",
    "* 2019 Spark\n",
    "* 2020 Pandas Cookbook\n",
    "* 2021 Effective Pandas\n",
    "* 2022 CuDf, Modin, Polars\n",
    "* 2023 Effective Pandas 2\n",
    "* 2024 Effective Polars\n",
    "* 2024 Effective Polars 1.0\n",
    "* 2024 NVidia Polars backend\n"
   ]
  },
  {
   "cell_type": "code",
   "execution_count": null,
   "metadata": {},
   "outputs": [],
   "source": []
  },
  {
   "cell_type": "code",
   "execution_count": null,
   "metadata": {},
   "outputs": [],
   "source": []
  },
  {
   "cell_type": "code",
   "execution_count": null,
   "metadata": {},
   "outputs": [],
   "source": []
  },
  {
   "cell_type": "code",
   "execution_count": null,
   "metadata": {},
   "outputs": [],
   "source": []
  },
  {
   "cell_type": "markdown",
   "metadata": {},
   "source": [
    "## Why Tabular?\n",
    "\n",
    "- Deep learning and video/audio are popular but the crown jewels are in Excel or SQL.\n",
    "\n",
    "- My focus on tabular tooling (Pandas, Polars, XGBoost, CatBoost, etc)\n"
   ]
  },
  {
   "cell_type": "code",
   "execution_count": null,
   "metadata": {},
   "outputs": [],
   "source": []
  },
  {
   "cell_type": "code",
   "execution_count": null,
   "metadata": {},
   "outputs": [],
   "source": []
  },
  {
   "cell_type": "code",
   "execution_count": null,
   "metadata": {},
   "outputs": [],
   "source": []
  },
  {
   "cell_type": "markdown",
   "metadata": {},
   "source": [
    "## Sad News\n",
    "\n",
    "- Python is slow\n",
    "- Pandas gets around this with NumPy (v1) and PyArrow (v2)\n",
    "- Polars gets around this with Arrow (Rust)\n",
    "- Stay in the playground"
   ]
  },
  {
   "cell_type": "code",
   "execution_count": null,
   "metadata": {},
   "outputs": [],
   "source": []
  },
  {
   "cell_type": "code",
   "execution_count": null,
   "metadata": {
    "lines_to_next_cell": 2
   },
   "outputs": [],
   "source": []
  },
  {
   "cell_type": "code",
   "execution_count": null,
   "metadata": {
    "lines_to_next_cell": 2,
    "pycharm": {
     "name": "#%%\n"
    }
   },
   "outputs": [],
   "source": []
  },
  {
   "cell_type": "code",
   "execution_count": null,
   "metadata": {
    "lines_to_next_cell": 2,
    "pycharm": {
     "name": "#%%\n"
    }
   },
   "outputs": [],
   "source": []
  },
  {
   "cell_type": "code",
   "execution_count": null,
   "metadata": {
    "lines_to_next_cell": 2,
    "pycharm": {
     "name": "#%%\n"
    }
   },
   "outputs": [],
   "source": []
  },
  {
   "cell_type": "markdown",
   "metadata": {
    "lines_to_next_cell": 0,
    "pycharm": {
     "name": "#%% md\n"
    }
   },
   "source": [
    "## Outline of Opinions\n",
    "\n",
    "* Load Data\n",
    "* Types\n",
    "* Chaining\n",
    "* Apply\n",
    "* Aggregation"
   ]
  },
  {
   "cell_type": "code",
   "execution_count": null,
   "metadata": {},
   "outputs": [],
   "source": []
  },
  {
   "cell_type": "code",
   "execution_count": null,
   "metadata": {},
   "outputs": [],
   "source": []
  },
  {
   "cell_type": "code",
   "execution_count": null,
   "metadata": {},
   "outputs": [],
   "source": []
  },
  {
   "cell_type": "code",
   "execution_count": null,
   "metadata": {
    "lines_to_next_cell": 2
   },
   "outputs": [],
   "source": []
  },
  {
   "cell_type": "markdown",
   "metadata": {},
   "source": [
    "## Polars Overview\n",
    "\n",
    "* Polars is a Rust library with Python bindings\n",
    "* Polars has expressions and contexts\n",
    "  - Contexts - `.select`, `.with_columns`, `.filter`\n",
    "  - Expressions - done w/ `pl.col(\"col_name\")` or `pl.lit(1)`\n",
    "* Lazy evaluation\n",
    "* Query optimization\n",
    "* Multi-threaded\n"
   ]
  },
  {
   "cell_type": "code",
   "execution_count": null,
   "metadata": {},
   "outputs": [],
   "source": []
  },
  {
   "cell_type": "code",
   "execution_count": null,
   "metadata": {},
   "outputs": [],
   "source": []
  },
  {
   "cell_type": "code",
   "execution_count": null,
   "metadata": {},
   "outputs": [],
   "source": []
  },
  {
   "cell_type": "markdown",
   "metadata": {
    "pycharm": {
     "name": "#%% md\n"
    }
   },
   "source": [
    "## Data"
   ]
  },
  {
   "cell_type": "code",
   "execution_count": null,
   "metadata": {},
   "outputs": [],
   "source": [
    "!pip install -U polars"
   ]
  },
  {
   "cell_type": "code",
   "execution_count": null,
   "metadata": {},
   "outputs": [],
   "source": [
    "!uv add gpxpy"
   ]
  },
  {
   "cell_type": "code",
   "execution_count": 61,
   "metadata": {
    "lines_to_next_cell": 2,
    "pycharm": {
     "name": "#%%\n"
    }
   },
   "outputs": [],
   "source": [
    "import gpxpy\n",
    "import numpy as np\n",
    "import polars as pl\n",
    "import polars.selectors as cs\n",
    "import pandas as pd"
   ]
  },
  {
   "cell_type": "code",
   "execution_count": 62,
   "metadata": {
    "pycharm": {
     "name": "#%%\n"
    }
   },
   "outputs": [
    {
     "data": {
      "text/plain": [
       "'1.12.0'"
      ]
     },
     "execution_count": 62,
     "metadata": {},
     "output_type": "execute_result"
    }
   ],
   "source": [
    "pl.__version__"
   ]
  },
  {
   "cell_type": "code",
   "execution_count": 63,
   "metadata": {},
   "outputs": [
    {
     "name": "stdout",
     "output_type": "stream",
     "text": [
      "shape: (10_430, 14)\n",
      "┌────────┬────────────┬───────────┬────────────┬───┬───────────┬───────────┬───────────┬───────────┐\n",
      "│ course ┆ distance_2 ┆ latitude  ┆ longitude  ┆ … ┆ rolling_t ┆ rolling_e ┆ rolling_v ┆ rolling_b │\n",
      "│ ---    ┆ d          ┆ ---       ┆ ---        ┆   ┆ ravelled  ┆ lapsed    ┆ elocity   ┆ etween    │\n",
      "│ null   ┆ ---        ┆ f64       ┆ f64        ┆   ┆ ---       ┆ ---       ┆ ---       ┆ ---       │\n",
      "│        ┆ f64        ┆           ┆            ┆   ┆ f64       ┆ f64       ┆ f64       ┆ f64       │\n",
      "╞════════╪════════════╪═══════════╪════════════╪═══╪═══════════╪═══════════╪═══════════╪═══════════╡\n",
      "│ null   ┆ 0.0        ┆ 40.879161 ┆ -111.85516 ┆ … ┆ null      ┆ null      ┆ null      ┆ null      │\n",
      "│        ┆            ┆           ┆ 9          ┆   ┆           ┆           ┆           ┆           │\n",
      "│ null   ┆ 1.210883   ┆ 40.879167 ┆ -111.85518 ┆ … ┆ null      ┆ null      ┆ null      ┆ null      │\n",
      "│        ┆            ┆           ┆ 1          ┆   ┆           ┆           ┆           ┆           │\n",
      "│ null   ┆ 1.227612   ┆ 40.879172 ┆ -111.85519 ┆ … ┆ null      ┆ null      ┆ null      ┆ null      │\n",
      "│        ┆            ┆           ┆ 4          ┆   ┆           ┆           ┆           ┆           │\n",
      "│ null   ┆ 0.952238   ┆ 40.879174 ┆ -111.85520 ┆ … ┆ null      ┆ null      ┆ null      ┆ null      │\n",
      "│        ┆            ┆           ┆ 5          ┆   ┆           ┆           ┆           ┆           │\n",
      "│ null   ┆ 0.90551    ┆ 40.879177 ┆ -111.85521 ┆ … ┆ 2.267271  ┆ 2.8       ┆ 0.80974   ┆ null      │\n",
      "│        ┆            ┆           ┆ 5          ┆   ┆           ┆           ┆           ┆           │\n",
      "│ …      ┆ …          ┆ …         ┆ …          ┆ … ┆ …         ┆ …         ┆ …         ┆ …         │\n",
      "│ null   ┆ 4.085147   ┆ 40.857847 ┆ -111.82389 ┆ … ┆ 18634.600 ┆ 10680.0   ┆ 1.744813  ┆ 3.177668  │\n",
      "│        ┆            ┆           ┆ 9          ┆   ┆ 04        ┆           ┆           ┆           │\n",
      "│ null   ┆ 1.535726   ┆ 40.857852 ┆ -111.82391 ┆ … ┆ 18637.420 ┆ 10681.0   ┆ 1.744913  ┆ 2.821613  │\n",
      "│        ┆            ┆           ┆ 6          ┆   ┆ 852       ┆           ┆           ┆           │\n",
      "│ null   ┆ 3.156134   ┆ 40.857869 ┆ -111.82394 ┆ … ┆ 18640.220 ┆ 10682.0   ┆ 1.745012  ┆ 2.800696  │\n",
      "│        ┆            ┆           ┆ 6          ┆   ┆ 738       ┆           ┆           ┆           │\n",
      "│ null   ┆ 3.626488   ┆ 40.857889 ┆ -111.82398 ┆ … ┆ 18642.943 ┆ 10683.0   ┆ 1.745104  ┆ 2.724433  │\n",
      "│        ┆            ┆           ┆            ┆   ┆ 507       ┆           ┆           ┆           │\n",
      "│ null   ┆ 3.760829   ┆ 40.857909 ┆ -111.82401 ┆ … ┆ 18646.176 ┆ 10684.0   ┆ 1.745243  ┆ 3.235592  │\n",
      "│        ┆            ┆           ┆ 6          ┆   ┆ 372       ┆           ┆           ┆           │\n",
      "└────────┴────────────┴───────────┴────────────┴───┴───────────┴───────────┴───────────┴───────────┘\n"
     ]
    }
   ],
   "source": [
    "import polars as pl\n",
    "import gpxpy\n",
    "import numpy as np\n",
    "\n",
    "def gpx_to_polars(fname):\n",
    "    # Parse the GPX file\n",
    "    data = gpxpy.parse(open(fname))\n",
    "    prev = None\n",
    "    data_dict = {'course': [],\n",
    "                 'distance_2d': [],\n",
    "                 'latitude': [],\n",
    "                 'longitude': [],\n",
    "                 'time': [],\n",
    "                 'elevation': [],\n",
    "                 'speed_between': [],\n",
    "                }\n",
    "    \n",
    "    # Iterate through tracks, segments, and points\n",
    "    for track in data.tracks:\n",
    "        for seg in track.segments:\n",
    "            for i, pt in enumerate(seg.points):\n",
    "                if prev is None:\n",
    "                    prev = pt\n",
    "                for key in data_dict:\n",
    "                    attr = getattr(pt, key)\n",
    "                    if callable(attr):\n",
    "                        data_dict[key].append(attr(prev))\n",
    "                    else:\n",
    "                        data_dict[key].append(attr)\n",
    "                prev = pt\n",
    "\n",
    "    # Create a Polars DataFrame\n",
    "    df = (pl.DataFrame(data_dict)\n",
    "\n",
    "        #.with_columns([pl.col(\"time\").str.strptime(pl.Datetime, \"%Y-%m-%dT%H:%M:%SZ\", strict=False)])\n",
    "        .with_columns(\n",
    "            travelled= pl.col(\"distance_2d\").cum_sum(),\n",
    "            elapsed=(pl.col(\"time\") - pl.col(\"time\").min()).dt.total_seconds()\n",
    "        )\n",
    "        .with_columns(        \n",
    "            avg_velocity=pl.col(\"travelled\") / pl.col(\"elapsed\"),\n",
    "            rolling_travelled=pl.col(\"travelled\").rolling_mean(window_size=5),\n",
    "            rolling_elapsed=pl.col(\"elapsed\").rolling_mean(window_size=5),\n",
    "        )\n",
    "        .with_columns(\n",
    "            rolling_velocity=pl.col(\"rolling_travelled\") / pl.col(\"rolling_elapsed\"),\n",
    "            rolling_between=pl.col(\"speed_between\").rolling_mean(window_size=5),\n",
    "        )\n",
    "    )\n",
    "\n",
    "    return df\n",
    "\n",
    "df = gpx_to_polars('Face_plant.gpx')\n",
    "print(df)\n"
   ]
  },
  {
   "cell_type": "code",
   "execution_count": 64,
   "metadata": {
    "lines_to_next_cell": 2
   },
   "outputs": [
    {
     "data": {
      "text/plain": [
       "1091240"
      ]
     },
     "execution_count": 64,
     "metadata": {},
     "output_type": "execute_result"
    }
   ],
   "source": [
    "# 1.09 Megabytes\n",
    "df.estimated_size()"
   ]
  },
  {
   "cell_type": "code",
   "execution_count": 65,
   "metadata": {
    "lines_to_next_cell": 2,
    "pycharm": {
     "name": "#%%\n"
    },
    "scrolled": true
   },
   "outputs": [
    {
     "data": {
      "text/html": [
       "<div><style>\n",
       ".dataframe > thead > tr,\n",
       ".dataframe > tbody > tr {\n",
       "  text-align: right;\n",
       "  white-space: pre-wrap;\n",
       "}\n",
       "</style>\n",
       "<small>shape: (10_430, 14)</small><table border=\"1\" class=\"dataframe\"><thead><tr><th>course</th><th>distance_2d</th><th>latitude</th><th>longitude</th><th>time</th><th>elevation</th><th>speed_between</th><th>travelled</th><th>elapsed</th><th>avg_velocity</th><th>rolling_travelled</th><th>rolling_elapsed</th><th>rolling_velocity</th><th>rolling_between</th></tr><tr><td>null</td><td>f64</td><td>f64</td><td>f64</td><td>datetime[μs, UTC]</td><td>f64</td><td>f64</td><td>f64</td><td>i64</td><td>f64</td><td>f64</td><td>f64</td><td>f64</td><td>f64</td></tr></thead><tbody><tr><td>null</td><td>0.0</td><td>40.879161</td><td>-111.855169</td><td>2024-09-10 23:41:56 UTC</td><td>1480.0</td><td>null</td><td>0.0</td><td>0</td><td>NaN</td><td>null</td><td>null</td><td>null</td><td>null</td></tr><tr><td>null</td><td>1.210883</td><td>40.879167</td><td>-111.855181</td><td>2024-09-10 23:41:58 UTC</td><td>1480.1</td><td>0.607503</td><td>1.210883</td><td>2</td><td>0.605442</td><td>null</td><td>null</td><td>null</td><td>null</td></tr><tr><td>null</td><td>1.227612</td><td>40.879172</td><td>-111.855194</td><td>2024-09-10 23:41:59 UTC</td><td>1480.1</td><td>1.227612</td><td>2.438495</td><td>3</td><td>0.812832</td><td>null</td><td>null</td><td>null</td><td>null</td></tr><tr><td>null</td><td>0.952238</td><td>40.879174</td><td>-111.855205</td><td>2024-09-10 23:42:00 UTC</td><td>1480.1</td><td>0.952238</td><td>3.390733</td><td>4</td><td>0.847683</td><td>null</td><td>null</td><td>null</td><td>null</td></tr><tr><td>null</td><td>0.90551</td><td>40.879177</td><td>-111.855215</td><td>2024-09-10 23:42:01 UTC</td><td>1480.1</td><td>0.90551</td><td>4.296243</td><td>5</td><td>0.859249</td><td>2.267271</td><td>2.8</td><td>0.80974</td><td>null</td></tr><tr><td>&hellip;</td><td>&hellip;</td><td>&hellip;</td><td>&hellip;</td><td>&hellip;</td><td>&hellip;</td><td>&hellip;</td><td>&hellip;</td><td>&hellip;</td><td>&hellip;</td><td>&hellip;</td><td>&hellip;</td><td>&hellip;</td><td>&hellip;</td></tr><tr><td>null</td><td>4.085147</td><td>40.857847</td><td>-111.823899</td><td>2024-09-11 02:39:58 UTC</td><td>1696.8</td><td>4.086371</td><td>18640.85135</td><td>10682</td><td>1.745071</td><td>18634.60004</td><td>10680.0</td><td>1.744813</td><td>3.177668</td></tr><tr><td>null</td><td>1.535726</td><td>40.857852</td><td>-111.823916</td><td>2024-09-11 02:39:59 UTC</td><td>1696.8</td><td>1.535726</td><td>18642.387076</td><td>10683</td><td>1.745052</td><td>18637.420852</td><td>10681.0</td><td>1.744913</td><td>2.821613</td></tr><tr><td>null</td><td>3.156134</td><td>40.857869</td><td>-111.823946</td><td>2024-09-11 02:40:00 UTC</td><td>1696.7</td><td>3.157718</td><td>18645.54321</td><td>10684</td><td>1.745184</td><td>18640.220738</td><td>10682.0</td><td>1.745012</td><td>2.800696</td></tr><tr><td>null</td><td>3.626488</td><td>40.857889</td><td>-111.82398</td><td>2024-09-11 02:40:01 UTC</td><td>1696.5</td><td>3.631999</td><td>18649.169698</td><td>10685</td><td>1.74536</td><td>18642.943507</td><td>10683.0</td><td>1.745104</td><td>2.724433</td></tr><tr><td>null</td><td>3.760829</td><td>40.857909</td><td>-111.824016</td><td>2024-09-11 02:40:02 UTC</td><td>1696.3</td><td>3.766144</td><td>18652.930528</td><td>10686</td><td>1.745548</td><td>18646.176372</td><td>10684.0</td><td>1.745243</td><td>3.235592</td></tr></tbody></table></div>"
      ],
      "text/plain": [
       "shape: (10_430, 14)\n",
       "┌────────┬────────────┬───────────┬────────────┬───┬───────────┬───────────┬───────────┬───────────┐\n",
       "│ course ┆ distance_2 ┆ latitude  ┆ longitude  ┆ … ┆ rolling_t ┆ rolling_e ┆ rolling_v ┆ rolling_b │\n",
       "│ ---    ┆ d          ┆ ---       ┆ ---        ┆   ┆ ravelled  ┆ lapsed    ┆ elocity   ┆ etween    │\n",
       "│ null   ┆ ---        ┆ f64       ┆ f64        ┆   ┆ ---       ┆ ---       ┆ ---       ┆ ---       │\n",
       "│        ┆ f64        ┆           ┆            ┆   ┆ f64       ┆ f64       ┆ f64       ┆ f64       │\n",
       "╞════════╪════════════╪═══════════╪════════════╪═══╪═══════════╪═══════════╪═══════════╪═══════════╡\n",
       "│ null   ┆ 0.0        ┆ 40.879161 ┆ -111.85516 ┆ … ┆ null      ┆ null      ┆ null      ┆ null      │\n",
       "│        ┆            ┆           ┆ 9          ┆   ┆           ┆           ┆           ┆           │\n",
       "│ null   ┆ 1.210883   ┆ 40.879167 ┆ -111.85518 ┆ … ┆ null      ┆ null      ┆ null      ┆ null      │\n",
       "│        ┆            ┆           ┆ 1          ┆   ┆           ┆           ┆           ┆           │\n",
       "│ null   ┆ 1.227612   ┆ 40.879172 ┆ -111.85519 ┆ … ┆ null      ┆ null      ┆ null      ┆ null      │\n",
       "│        ┆            ┆           ┆ 4          ┆   ┆           ┆           ┆           ┆           │\n",
       "│ null   ┆ 0.952238   ┆ 40.879174 ┆ -111.85520 ┆ … ┆ null      ┆ null      ┆ null      ┆ null      │\n",
       "│        ┆            ┆           ┆ 5          ┆   ┆           ┆           ┆           ┆           │\n",
       "│ null   ┆ 0.90551    ┆ 40.879177 ┆ -111.85521 ┆ … ┆ 2.267271  ┆ 2.8       ┆ 0.80974   ┆ null      │\n",
       "│        ┆            ┆           ┆ 5          ┆   ┆           ┆           ┆           ┆           │\n",
       "│ …      ┆ …          ┆ …         ┆ …          ┆ … ┆ …         ┆ …         ┆ …         ┆ …         │\n",
       "│ null   ┆ 4.085147   ┆ 40.857847 ┆ -111.82389 ┆ … ┆ 18634.600 ┆ 10680.0   ┆ 1.744813  ┆ 3.177668  │\n",
       "│        ┆            ┆           ┆ 9          ┆   ┆ 04        ┆           ┆           ┆           │\n",
       "│ null   ┆ 1.535726   ┆ 40.857852 ┆ -111.82391 ┆ … ┆ 18637.420 ┆ 10681.0   ┆ 1.744913  ┆ 2.821613  │\n",
       "│        ┆            ┆           ┆ 6          ┆   ┆ 852       ┆           ┆           ┆           │\n",
       "│ null   ┆ 3.156134   ┆ 40.857869 ┆ -111.82394 ┆ … ┆ 18640.220 ┆ 10682.0   ┆ 1.745012  ┆ 2.800696  │\n",
       "│        ┆            ┆           ┆ 6          ┆   ┆ 738       ┆           ┆           ┆           │\n",
       "│ null   ┆ 3.626488   ┆ 40.857889 ┆ -111.82398 ┆ … ┆ 18642.943 ┆ 10683.0   ┆ 1.745104  ┆ 2.724433  │\n",
       "│        ┆            ┆           ┆            ┆   ┆ 507       ┆           ┆           ┆           │\n",
       "│ null   ┆ 3.760829   ┆ 40.857909 ┆ -111.82401 ┆ … ┆ 18646.176 ┆ 10684.0   ┆ 1.745243  ┆ 3.235592  │\n",
       "│        ┆            ┆           ┆ 6          ┆   ┆ 372       ┆           ┆           ┆           │\n",
       "└────────┴────────────┴───────────┴────────────┴───┴───────────┴───────────┴───────────┴───────────┘"
      ]
     },
     "execution_count": 65,
     "metadata": {},
     "output_type": "execute_result"
    }
   ],
   "source": [
    "# no index!\n",
    "df"
   ]
  },
  {
   "cell_type": "code",
   "execution_count": 66,
   "metadata": {},
   "outputs": [
    {
     "data": {
      "text/html": [
       "<div><style>\n",
       ".dataframe > thead > tr,\n",
       ".dataframe > tbody > tr {\n",
       "  text-align: right;\n",
       "  white-space: pre-wrap;\n",
       "}\n",
       "</style>\n",
       "<small>shape: (10_430, 15)</small><table border=\"1\" class=\"dataframe\"><thead><tr><th>index</th><th>course</th><th>distance_2d</th><th>latitude</th><th>longitude</th><th>time</th><th>elevation</th><th>speed_between</th><th>travelled</th><th>elapsed</th><th>avg_velocity</th><th>rolling_travelled</th><th>rolling_elapsed</th><th>rolling_velocity</th><th>rolling_between</th></tr><tr><td>u32</td><td>null</td><td>f64</td><td>f64</td><td>f64</td><td>datetime[μs, UTC]</td><td>f64</td><td>f64</td><td>f64</td><td>i64</td><td>f64</td><td>f64</td><td>f64</td><td>f64</td><td>f64</td></tr></thead><tbody><tr><td>0</td><td>null</td><td>0.0</td><td>40.879161</td><td>-111.855169</td><td>2024-09-10 23:41:56 UTC</td><td>1480.0</td><td>null</td><td>0.0</td><td>0</td><td>NaN</td><td>null</td><td>null</td><td>null</td><td>null</td></tr><tr><td>1</td><td>null</td><td>1.210883</td><td>40.879167</td><td>-111.855181</td><td>2024-09-10 23:41:58 UTC</td><td>1480.1</td><td>0.607503</td><td>1.210883</td><td>2</td><td>0.605442</td><td>null</td><td>null</td><td>null</td><td>null</td></tr><tr><td>2</td><td>null</td><td>1.227612</td><td>40.879172</td><td>-111.855194</td><td>2024-09-10 23:41:59 UTC</td><td>1480.1</td><td>1.227612</td><td>2.438495</td><td>3</td><td>0.812832</td><td>null</td><td>null</td><td>null</td><td>null</td></tr><tr><td>3</td><td>null</td><td>0.952238</td><td>40.879174</td><td>-111.855205</td><td>2024-09-10 23:42:00 UTC</td><td>1480.1</td><td>0.952238</td><td>3.390733</td><td>4</td><td>0.847683</td><td>null</td><td>null</td><td>null</td><td>null</td></tr><tr><td>4</td><td>null</td><td>0.90551</td><td>40.879177</td><td>-111.855215</td><td>2024-09-10 23:42:01 UTC</td><td>1480.1</td><td>0.90551</td><td>4.296243</td><td>5</td><td>0.859249</td><td>2.267271</td><td>2.8</td><td>0.80974</td><td>null</td></tr><tr><td>&hellip;</td><td>&hellip;</td><td>&hellip;</td><td>&hellip;</td><td>&hellip;</td><td>&hellip;</td><td>&hellip;</td><td>&hellip;</td><td>&hellip;</td><td>&hellip;</td><td>&hellip;</td><td>&hellip;</td><td>&hellip;</td><td>&hellip;</td><td>&hellip;</td></tr><tr><td>10425</td><td>null</td><td>4.085147</td><td>40.857847</td><td>-111.823899</td><td>2024-09-11 02:39:58 UTC</td><td>1696.8</td><td>4.086371</td><td>18640.85135</td><td>10682</td><td>1.745071</td><td>18634.60004</td><td>10680.0</td><td>1.744813</td><td>3.177668</td></tr><tr><td>10426</td><td>null</td><td>1.535726</td><td>40.857852</td><td>-111.823916</td><td>2024-09-11 02:39:59 UTC</td><td>1696.8</td><td>1.535726</td><td>18642.387076</td><td>10683</td><td>1.745052</td><td>18637.420852</td><td>10681.0</td><td>1.744913</td><td>2.821613</td></tr><tr><td>10427</td><td>null</td><td>3.156134</td><td>40.857869</td><td>-111.823946</td><td>2024-09-11 02:40:00 UTC</td><td>1696.7</td><td>3.157718</td><td>18645.54321</td><td>10684</td><td>1.745184</td><td>18640.220738</td><td>10682.0</td><td>1.745012</td><td>2.800696</td></tr><tr><td>10428</td><td>null</td><td>3.626488</td><td>40.857889</td><td>-111.82398</td><td>2024-09-11 02:40:01 UTC</td><td>1696.5</td><td>3.631999</td><td>18649.169698</td><td>10685</td><td>1.74536</td><td>18642.943507</td><td>10683.0</td><td>1.745104</td><td>2.724433</td></tr><tr><td>10429</td><td>null</td><td>3.760829</td><td>40.857909</td><td>-111.824016</td><td>2024-09-11 02:40:02 UTC</td><td>1696.3</td><td>3.766144</td><td>18652.930528</td><td>10686</td><td>1.745548</td><td>18646.176372</td><td>10684.0</td><td>1.745243</td><td>3.235592</td></tr></tbody></table></div>"
      ],
      "text/plain": [
       "shape: (10_430, 15)\n",
       "┌───────┬────────┬─────────────┬───────────┬───┬────────────┬────────────┬────────────┬────────────┐\n",
       "│ index ┆ course ┆ distance_2d ┆ latitude  ┆ … ┆ rolling_tr ┆ rolling_el ┆ rolling_ve ┆ rolling_be │\n",
       "│ ---   ┆ ---    ┆ ---         ┆ ---       ┆   ┆ avelled    ┆ apsed      ┆ locity     ┆ tween      │\n",
       "│ u32   ┆ null   ┆ f64         ┆ f64       ┆   ┆ ---        ┆ ---        ┆ ---        ┆ ---        │\n",
       "│       ┆        ┆             ┆           ┆   ┆ f64        ┆ f64        ┆ f64        ┆ f64        │\n",
       "╞═══════╪════════╪═════════════╪═══════════╪═══╪════════════╪════════════╪════════════╪════════════╡\n",
       "│ 0     ┆ null   ┆ 0.0         ┆ 40.879161 ┆ … ┆ null       ┆ null       ┆ null       ┆ null       │\n",
       "│ 1     ┆ null   ┆ 1.210883    ┆ 40.879167 ┆ … ┆ null       ┆ null       ┆ null       ┆ null       │\n",
       "│ 2     ┆ null   ┆ 1.227612    ┆ 40.879172 ┆ … ┆ null       ┆ null       ┆ null       ┆ null       │\n",
       "│ 3     ┆ null   ┆ 0.952238    ┆ 40.879174 ┆ … ┆ null       ┆ null       ┆ null       ┆ null       │\n",
       "│ 4     ┆ null   ┆ 0.90551     ┆ 40.879177 ┆ … ┆ 2.267271   ┆ 2.8        ┆ 0.80974    ┆ null       │\n",
       "│ …     ┆ …      ┆ …           ┆ …         ┆ … ┆ …          ┆ …          ┆ …          ┆ …          │\n",
       "│ 10425 ┆ null   ┆ 4.085147    ┆ 40.857847 ┆ … ┆ 18634.6000 ┆ 10680.0    ┆ 1.744813   ┆ 3.177668   │\n",
       "│       ┆        ┆             ┆           ┆   ┆ 4          ┆            ┆            ┆            │\n",
       "│ 10426 ┆ null   ┆ 1.535726    ┆ 40.857852 ┆ … ┆ 18637.4208 ┆ 10681.0    ┆ 1.744913   ┆ 2.821613   │\n",
       "│       ┆        ┆             ┆           ┆   ┆ 52         ┆            ┆            ┆            │\n",
       "│ 10427 ┆ null   ┆ 3.156134    ┆ 40.857869 ┆ … ┆ 18640.2207 ┆ 10682.0    ┆ 1.745012   ┆ 2.800696   │\n",
       "│       ┆        ┆             ┆           ┆   ┆ 38         ┆            ┆            ┆            │\n",
       "│ 10428 ┆ null   ┆ 3.626488    ┆ 40.857889 ┆ … ┆ 18642.9435 ┆ 10683.0    ┆ 1.745104   ┆ 2.724433   │\n",
       "│       ┆        ┆             ┆           ┆   ┆ 07         ┆            ┆            ┆            │\n",
       "│ 10429 ┆ null   ┆ 3.760829    ┆ 40.857909 ┆ … ┆ 18646.1763 ┆ 10684.0    ┆ 1.745243   ┆ 3.235592   │\n",
       "│       ┆        ┆             ┆           ┆   ┆ 72         ┆            ┆            ┆            │\n",
       "└───────┴────────┴─────────────┴───────────┴───┴────────────┴────────────┴────────────┴────────────┘"
      ]
     },
     "execution_count": 66,
     "metadata": {},
     "output_type": "execute_result"
    }
   ],
   "source": [
    "(df.with_row_index())"
   ]
  },
  {
   "cell_type": "code",
   "execution_count": null,
   "metadata": {
    "lines_to_next_cell": 2,
    "pycharm": {
     "name": "#%%\n"
    }
   },
   "outputs": [],
   "source": []
  },
  {
   "cell_type": "code",
   "execution_count": null,
   "metadata": {
    "lines_to_next_cell": 2,
    "pycharm": {
     "name": "#%%\n"
    }
   },
   "outputs": [],
   "source": []
  },
  {
   "cell_type": "markdown",
   "metadata": {
    "pycharm": {
     "name": "#%% md\n"
    }
   },
   "source": [
    "## Types\n",
    "Getting the right types will enable analysis and correctness."
   ]
  },
  {
   "cell_type": "code",
   "execution_count": 67,
   "metadata": {},
   "outputs": [
    {
     "name": "stdout",
     "output_type": "stream",
     "text": [
      "['course', 'distance_2d', 'latitude', 'longitude', 'time', 'elevation', 'speed_between', 'travelled', 'elapsed', 'avg_velocity', 'rolling_travelled', 'rolling_elapsed', 'rolling_velocity', 'rolling_between']\n"
     ]
    }
   ],
   "source": [
    "print(df.columns)"
   ]
  },
  {
   "cell_type": "code",
   "execution_count": 68,
   "metadata": {
    "lines_to_next_cell": 2
   },
   "outputs": [],
   "source": [
    "cols = ['course', 'distance_2d', 'latitude', 'longitude', 'time', 'elevation', 'speed_between', 'travelled', \n",
    "        'elapsed', 'avg_velocity', 'rolling_travelled', 'rolling_elapsed', 'rolling_velocity', 'rolling_between']"
   ]
  },
  {
   "cell_type": "code",
   "execution_count": 69,
   "metadata": {
    "pycharm": {
     "name": "#%%\n"
    }
   },
   "outputs": [
    {
     "data": {
      "text/plain": [
       "[Null,\n",
       " Float64,\n",
       " Float64,\n",
       " Float64,\n",
       " Datetime(time_unit='us', time_zone='UTC'),\n",
       " Float64,\n",
       " Float64,\n",
       " Float64,\n",
       " Int64,\n",
       " Float64,\n",
       " Float64,\n",
       " Float64,\n",
       " Float64,\n",
       " Float64]"
      ]
     },
     "execution_count": 69,
     "metadata": {},
     "output_type": "execute_result"
    }
   ],
   "source": [
    "df[cols].dtypes"
   ]
  },
  {
   "cell_type": "code",
   "execution_count": 70,
   "metadata": {
    "pycharm": {
     "name": "#%%\n"
    }
   },
   "outputs": [
    {
     "data": {
      "text/plain": [
       "1091240"
      ]
     },
     "execution_count": 70,
     "metadata": {},
     "output_type": "execute_result"
    }
   ],
   "source": [
    "# 1.09 Megabytes\n",
    "df[cols].estimated_size()"
   ]
  },
  {
   "cell_type": "code",
   "execution_count": null,
   "metadata": {
    "lines_to_next_cell": 2,
    "pycharm": {
     "name": "#%%\n"
    }
   },
   "outputs": [],
   "source": []
  },
  {
   "cell_type": "markdown",
   "metadata": {
    "pycharm": {
     "name": "#%% md\n"
    }
   },
   "source": [
    "### Ints"
   ]
  },
  {
   "cell_type": "code",
   "execution_count": 71,
   "metadata": {
    "pycharm": {
     "name": "#%%\n"
    },
    "scrolled": true
   },
   "outputs": [
    {
     "data": {
      "text/html": [
       "<div><style>\n",
       ".dataframe > thead > tr,\n",
       ".dataframe > tbody > tr {\n",
       "  text-align: right;\n",
       "  white-space: pre-wrap;\n",
       "}\n",
       "</style>\n",
       "<small>shape: (10_430, 1)</small><table border=\"1\" class=\"dataframe\"><thead><tr><th>elapsed</th></tr><tr><td>i64</td></tr></thead><tbody><tr><td>0</td></tr><tr><td>2</td></tr><tr><td>3</td></tr><tr><td>4</td></tr><tr><td>5</td></tr><tr><td>&hellip;</td></tr><tr><td>10682</td></tr><tr><td>10683</td></tr><tr><td>10684</td></tr><tr><td>10685</td></tr><tr><td>10686</td></tr></tbody></table></div>"
      ],
      "text/plain": [
       "shape: (10_430, 1)\n",
       "┌─────────┐\n",
       "│ elapsed │\n",
       "│ ---     │\n",
       "│ i64     │\n",
       "╞═════════╡\n",
       "│ 0       │\n",
       "│ 2       │\n",
       "│ 3       │\n",
       "│ 4       │\n",
       "│ 5       │\n",
       "│ …       │\n",
       "│ 10682   │\n",
       "│ 10683   │\n",
       "│ 10684   │\n",
       "│ 10685   │\n",
       "│ 10686   │\n",
       "└─────────┘"
      ]
     },
     "execution_count": 71,
     "metadata": {},
     "output_type": "execute_result"
    }
   ],
   "source": [
    "# select is a context\n",
    "# pl.col is an expression\n",
    "df[cols].select(pl.col(pl.Int64))"
   ]
  },
  {
   "cell_type": "code",
   "execution_count": 72,
   "metadata": {
    "collapsed": true,
    "jupyter": {
     "outputs_hidden": true
    },
    "pycharm": {
     "name": "#%%\n"
    }
   },
   "outputs": [
    {
     "data": {
      "text/html": [
       "<div><style>\n",
       ".dataframe > thead > tr,\n",
       ".dataframe > tbody > tr {\n",
       "  text-align: right;\n",
       "  white-space: pre-wrap;\n",
       "}\n",
       "</style>\n",
       "<small>shape: (9, 2)</small><table border=\"1\" class=\"dataframe\"><thead><tr><th>statistic</th><th>elapsed</th></tr><tr><td>str</td><td>f64</td></tr></thead><tbody><tr><td>&quot;count&quot;</td><td>10430.0</td></tr><tr><td>&quot;null_count&quot;</td><td>0.0</td></tr><tr><td>&quot;mean&quot;</td><td>5403.773921</td></tr><tr><td>&quot;std&quot;</td><td>3067.406074</td></tr><tr><td>&quot;min&quot;</td><td>0.0</td></tr><tr><td>&quot;25%&quot;</td><td>2760.0</td></tr><tr><td>&quot;50%&quot;</td><td>5424.0</td></tr><tr><td>&quot;75%&quot;</td><td>8069.0</td></tr><tr><td>&quot;max&quot;</td><td>10686.0</td></tr></tbody></table></div>"
      ],
      "text/plain": [
       "shape: (9, 2)\n",
       "┌────────────┬─────────────┐\n",
       "│ statistic  ┆ elapsed     │\n",
       "│ ---        ┆ ---         │\n",
       "│ str        ┆ f64         │\n",
       "╞════════════╪═════════════╡\n",
       "│ count      ┆ 10430.0     │\n",
       "│ null_count ┆ 0.0         │\n",
       "│ mean       ┆ 5403.773921 │\n",
       "│ std        ┆ 3067.406074 │\n",
       "│ min        ┆ 0.0         │\n",
       "│ 25%        ┆ 2760.0      │\n",
       "│ 50%        ┆ 5424.0      │\n",
       "│ 75%        ┆ 8069.0      │\n",
       "│ max        ┆ 10686.0     │\n",
       "└────────────┴─────────────┘"
      ]
     },
     "execution_count": 72,
     "metadata": {},
     "output_type": "execute_result"
    }
   ],
   "source": [
    "df[cols].select(pl.col(pl.Int64)).describe()"
   ]
  },
  {
   "cell_type": "code",
   "execution_count": 76,
   "metadata": {
    "pycharm": {
     "name": "#%%\n"
    }
   },
   "outputs": [
    {
     "data": {
      "text/html": [
       "<div><style>\n",
       ".dataframe > thead > tr,\n",
       ".dataframe > tbody > tr {\n",
       "  text-align: right;\n",
       "  white-space: pre-wrap;\n",
       "}\n",
       "</style>\n",
       "<small>shape: (9, 2)</small><table border=\"1\" class=\"dataframe\"><thead><tr><th>statistic</th><th>elapsed</th></tr><tr><td>str</td><td>f64</td></tr></thead><tbody><tr><td>&quot;count&quot;</td><td>10430.0</td></tr><tr><td>&quot;null_count&quot;</td><td>0.0</td></tr><tr><td>&quot;mean&quot;</td><td>5403.773921</td></tr><tr><td>&quot;std&quot;</td><td>3067.406074</td></tr><tr><td>&quot;min&quot;</td><td>0.0</td></tr><tr><td>&quot;25%&quot;</td><td>2760.0</td></tr><tr><td>&quot;50%&quot;</td><td>5424.0</td></tr><tr><td>&quot;75%&quot;</td><td>8069.0</td></tr><tr><td>&quot;max&quot;</td><td>10686.0</td></tr></tbody></table></div>"
      ],
      "text/plain": [
       "shape: (9, 2)\n",
       "┌────────────┬─────────────┐\n",
       "│ statistic  ┆ elapsed     │\n",
       "│ ---        ┆ ---         │\n",
       "│ str        ┆ f64         │\n",
       "╞════════════╪═════════════╡\n",
       "│ count      ┆ 10430.0     │\n",
       "│ null_count ┆ 0.0         │\n",
       "│ mean       ┆ 5403.773921 │\n",
       "│ std        ┆ 3067.406074 │\n",
       "│ min        ┆ 0.0         │\n",
       "│ 25%        ┆ 2760.0      │\n",
       "│ 50%        ┆ 5424.0      │\n",
       "│ 75%        ┆ 8069.0      │\n",
       "│ max        ┆ 10686.0     │\n",
       "└────────────┴─────────────┘"
      ]
     },
     "execution_count": 76,
     "metadata": {},
     "output_type": "execute_result"
    }
   ],
   "source": [
    "# chaining\n",
    "(df\n",
    " .select(cols)\n",
    " .select(pl.col(pl.Int64))\n",
    " .describe()\n",
    ")"
   ]
  },
  {
   "cell_type": "code",
   "execution_count": 77,
   "metadata": {
    "pycharm": {
     "name": "#%%\n"
    },
    "scrolled": true
   },
   "outputs": [
    {
     "data": {
      "text/plain": [
       "iinfo(min=-128, max=127, dtype=int8)"
      ]
     },
     "execution_count": 77,
     "metadata": {},
     "output_type": "execute_result"
    }
   ],
   "source": [
    "# can elapsed be an int8?\n",
    "np.iinfo(np.int8)"
   ]
  },
  {
   "cell_type": "code",
   "execution_count": 78,
   "metadata": {},
   "outputs": [
    {
     "data": {
      "text/plain": [
       "iinfo(min=-32768, max=32767, dtype=int16)"
      ]
     },
     "execution_count": 78,
     "metadata": {},
     "output_type": "execute_result"
    }
   ],
   "source": [
    "# can elapsed be an int16?\n",
    "np.iinfo(np.int16)"
   ]
  },
  {
   "cell_type": "code",
   "execution_count": 79,
   "metadata": {
    "pycharm": {
     "name": "#%%\n"
    },
    "scrolled": true
   },
   "outputs": [
    {
     "ename": "InvalidOperationError",
     "evalue": "conversion from `i64` to `i8` failed in column 'elapsed' for 10321 out of 10430 values: [128, 129, … 10686]",
     "output_type": "error",
     "traceback": [
      "\u001b[0;31m---------------------------------------------------------------------------\u001b[0m",
      "\u001b[0;31mInvalidOperationError\u001b[0m                     Traceback (most recent call last)",
      "Cell \u001b[0;32mIn[79], line 5\u001b[0m\n\u001b[1;32m      1\u001b[0m \u001b[38;5;66;03m# chaining\u001b[39;00m\n\u001b[1;32m      2\u001b[0m \u001b[38;5;66;03m# polars prevents illegal casts\u001b[39;00m\n\u001b[1;32m      3\u001b[0m (\u001b[43mdf\u001b[49m\n\u001b[1;32m      4\u001b[0m \u001b[43m \u001b[49m\u001b[38;5;241;43m.\u001b[39;49m\u001b[43mselect\u001b[49m\u001b[43m(\u001b[49m\u001b[43mcols\u001b[49m\u001b[43m)\u001b[49m\n\u001b[0;32m----> 5\u001b[0m \u001b[43m \u001b[49m\u001b[38;5;241;43m.\u001b[39;49m\u001b[43mwith_columns\u001b[49m\u001b[43m(\u001b[49m\u001b[43mpl\u001b[49m\u001b[38;5;241;43m.\u001b[39;49m\u001b[43mcol\u001b[49m\u001b[43m(\u001b[49m\u001b[38;5;124;43m'\u001b[39;49m\u001b[38;5;124;43melapsed\u001b[39;49m\u001b[38;5;124;43m'\u001b[39;49m\u001b[43m)\u001b[49m\u001b[38;5;241;43m.\u001b[39;49m\u001b[43mcast\u001b[49m\u001b[43m(\u001b[49m\u001b[43mpl\u001b[49m\u001b[38;5;241;43m.\u001b[39;49m\u001b[43mInt8\u001b[49m\u001b[43m)\u001b[49m\u001b[43m)\u001b[49m\n\u001b[1;32m      6\u001b[0m  \u001b[38;5;66;03m#.describe()\u001b[39;00m\n\u001b[1;32m      7\u001b[0m )\n",
      "File \u001b[0;32m~/.envs/menv/lib/python3.10/site-packages/polars/dataframe/frame.py:9194\u001b[0m, in \u001b[0;36mDataFrame.with_columns\u001b[0;34m(self, *exprs, **named_exprs)\u001b[0m\n\u001b[1;32m   9048\u001b[0m \u001b[38;5;28;01mdef\u001b[39;00m \u001b[38;5;21mwith_columns\u001b[39m(\n\u001b[1;32m   9049\u001b[0m     \u001b[38;5;28mself\u001b[39m,\n\u001b[1;32m   9050\u001b[0m     \u001b[38;5;241m*\u001b[39mexprs: IntoExpr \u001b[38;5;241m|\u001b[39m Iterable[IntoExpr],\n\u001b[1;32m   9051\u001b[0m     \u001b[38;5;241m*\u001b[39m\u001b[38;5;241m*\u001b[39mnamed_exprs: IntoExpr,\n\u001b[1;32m   9052\u001b[0m ) \u001b[38;5;241m-\u001b[39m\u001b[38;5;241m>\u001b[39m DataFrame:\n\u001b[1;32m   9053\u001b[0m \u001b[38;5;250m    \u001b[39m\u001b[38;5;124;03m\"\"\"\u001b[39;00m\n\u001b[1;32m   9054\u001b[0m \u001b[38;5;124;03m    Add columns to this DataFrame.\u001b[39;00m\n\u001b[1;32m   9055\u001b[0m \n\u001b[0;32m   (...)\u001b[0m\n\u001b[1;32m   9192\u001b[0m \u001b[38;5;124;03m    └─────┴──────┴─────────────┘\u001b[39;00m\n\u001b[1;32m   9193\u001b[0m \u001b[38;5;124;03m    \"\"\"\u001b[39;00m\n\u001b[0;32m-> 9194\u001b[0m     \u001b[38;5;28;01mreturn\u001b[39;00m \u001b[38;5;28;43mself\u001b[39;49m\u001b[38;5;241;43m.\u001b[39;49m\u001b[43mlazy\u001b[49m\u001b[43m(\u001b[49m\u001b[43m)\u001b[49m\u001b[38;5;241;43m.\u001b[39;49m\u001b[43mwith_columns\u001b[49m\u001b[43m(\u001b[49m\u001b[38;5;241;43m*\u001b[39;49m\u001b[43mexprs\u001b[49m\u001b[43m,\u001b[49m\u001b[43m \u001b[49m\u001b[38;5;241;43m*\u001b[39;49m\u001b[38;5;241;43m*\u001b[39;49m\u001b[43mnamed_exprs\u001b[49m\u001b[43m)\u001b[49m\u001b[38;5;241;43m.\u001b[39;49m\u001b[43mcollect\u001b[49m\u001b[43m(\u001b[49m\u001b[43m_eager\u001b[49m\u001b[38;5;241;43m=\u001b[39;49m\u001b[38;5;28;43;01mTrue\u001b[39;49;00m\u001b[43m)\u001b[49m\n",
      "File \u001b[0;32m~/.envs/menv/lib/python3.10/site-packages/polars/lazyframe/frame.py:2055\u001b[0m, in \u001b[0;36mLazyFrame.collect\u001b[0;34m(self, type_coercion, predicate_pushdown, projection_pushdown, simplify_expression, slice_pushdown, comm_subplan_elim, comm_subexpr_elim, cluster_with_columns, collapse_joins, no_optimization, streaming, engine, background, _eager, **_kwargs)\u001b[0m\n\u001b[1;32m   2053\u001b[0m \u001b[38;5;66;03m# Only for testing purposes\u001b[39;00m\n\u001b[1;32m   2054\u001b[0m callback \u001b[38;5;241m=\u001b[39m _kwargs\u001b[38;5;241m.\u001b[39mget(\u001b[38;5;124m\"\u001b[39m\u001b[38;5;124mpost_opt_callback\u001b[39m\u001b[38;5;124m\"\u001b[39m, callback)\n\u001b[0;32m-> 2055\u001b[0m \u001b[38;5;28;01mreturn\u001b[39;00m wrap_df(\u001b[43mldf\u001b[49m\u001b[38;5;241;43m.\u001b[39;49m\u001b[43mcollect\u001b[49m\u001b[43m(\u001b[49m\u001b[43mcallback\u001b[49m\u001b[43m)\u001b[49m)\n",
      "\u001b[0;31mInvalidOperationError\u001b[0m: conversion from `i64` to `i8` failed in column 'elapsed' for 10321 out of 10430 values: [128, 129, … 10686]"
     ]
    }
   ],
   "source": [
    "# chaining\n",
    "# polars prevents illegal casts\n",
    "(df\n",
    " .select(cols)\n",
    " .with_columns(pl.col('elapsed').cast(pl.Int8))\n",
    " #.describe()\n",
    ")"
   ]
  },
  {
   "cell_type": "code",
   "execution_count": 80,
   "metadata": {
    "pycharm": {
     "name": "#%%\n"
    },
    "scrolled": true
   },
   "outputs": [
    {
     "data": {
      "text/html": [
       "<div><style>\n",
       ".dataframe > thead > tr,\n",
       ".dataframe > tbody > tr {\n",
       "  text-align: right;\n",
       "  white-space: pre-wrap;\n",
       "}\n",
       "</style>\n",
       "<small>shape: (9, 15)</small><table border=\"1\" class=\"dataframe\"><thead><tr><th>statistic</th><th>course</th><th>distance_2d</th><th>latitude</th><th>longitude</th><th>time</th><th>elevation</th><th>speed_between</th><th>travelled</th><th>elapsed</th><th>avg_velocity</th><th>rolling_travelled</th><th>rolling_elapsed</th><th>rolling_velocity</th><th>rolling_between</th></tr><tr><td>str</td><td>f64</td><td>f64</td><td>f64</td><td>f64</td><td>str</td><td>f64</td><td>f64</td><td>f64</td><td>f64</td><td>f64</td><td>f64</td><td>f64</td><td>f64</td><td>f64</td></tr></thead><tbody><tr><td>&quot;count&quot;</td><td>0.0</td><td>10430.0</td><td>10430.0</td><td>10430.0</td><td>&quot;10430&quot;</td><td>10430.0</td><td>10429.0</td><td>10430.0</td><td>10430.0</td><td>10430.0</td><td>10426.0</td><td>10426.0</td><td>10426.0</td><td>10425.0</td></tr><tr><td>&quot;null_count&quot;</td><td>10430.0</td><td>0.0</td><td>0.0</td><td>0.0</td><td>&quot;0&quot;</td><td>0.0</td><td>1.0</td><td>0.0</td><td>0.0</td><td>0.0</td><td>4.0</td><td>4.0</td><td>4.0</td><td>5.0</td></tr><tr><td>&quot;mean&quot;</td><td>null</td><td>1.788392</td><td>40.859662</td><td>-111.822538</td><td>&quot;2024-09-11 01:11:59.773921+00:…</td><td>1788.95372</td><td>1.811534</td><td>10644.58751</td><td>5403.773921</td><td>NaN</td><td>10645.09369</td><td>5403.797123</td><td>2.065183</td><td>1.81141</td></tr><tr><td>&quot;std&quot;</td><td>null</td><td>1.710749</td><td>0.005536</td><td>0.0137</td><td>null</td><td>141.492882</td><td>1.657749</td><td>5393.503724</td><td>3067.406074</td><td>NaN</td><td>5391.382656</td><td>3066.209114</td><td>0.418829</td><td>1.506718</td></tr><tr><td>&quot;min&quot;</td><td>null</td><td>0.0</td><td>40.848371</td><td>-111.855371</td><td>&quot;2024-09-10 23:41:56+00:00&quot;</td><td>1480.0</td><td>0.0</td><td>0.0</td><td>0.0</td><td>0.374262</td><td>2.267271</td><td>2.8</td><td>0.376911</td><td>-1.0081e-14</td></tr><tr><td>&quot;25%&quot;</td><td>null</td><td>0.611231</td><td>40.856748</td><td>-111.829785</td><td>&quot;2024-09-11 00:27:56+00:00&quot;</td><td>1696.0</td><td>0.675361</td><td>5810.431187</td><td>2760.0</td><td>1.848393</td><td>5812.456847</td><td>2761.0</td><td>1.848439</td><td>0.776866</td></tr><tr><td>&quot;50%&quot;</td><td>null</td><td>1.324637</td><td>40.859156</td><td>-111.82222</td><td>&quot;2024-09-11 01:12:20+00:00&quot;</td><td>1816.5</td><td>1.392097</td><td>12239.423704</td><td>5424.0</td><td>1.981256</td><td>12239.47112</td><td>5424.0</td><td>1.981257</td><td>1.582638</td></tr><tr><td>&quot;75%&quot;</td><td>null</td><td>2.424472</td><td>40.86085</td><td>-111.813012</td><td>&quot;2024-09-11 01:56:25+00:00&quot;</td><td>1924.9</td><td>2.506978</td><td>15087.566241</td><td>8069.0</td><td>2.231917</td><td>15086.449322</td><td>8068.0</td><td>2.231922</td><td>2.428585</td></tr><tr><td>&quot;max&quot;</td><td>null</td><td>15.32443</td><td>40.879271</td><td>-111.801421</td><td>&quot;2024-09-11 02:40:02+00:00&quot;</td><td>1984.0</td><td>12.871382</td><td>18652.930528</td><td>10686.0</td><td>3.828152</td><td>18646.176372</td><td>10684.0</td><td>3.827216</td><td>12.491514</td></tr></tbody></table></div>"
      ],
      "text/plain": [
       "shape: (9, 15)\n",
       "┌────────────┬─────────┬───────────┬───────────┬───┬───────────┬───────────┬───────────┬───────────┐\n",
       "│ statistic  ┆ course  ┆ distance_ ┆ latitude  ┆ … ┆ rolling_t ┆ rolling_e ┆ rolling_v ┆ rolling_b │\n",
       "│ ---        ┆ ---     ┆ 2d        ┆ ---       ┆   ┆ ravelled  ┆ lapsed    ┆ elocity   ┆ etween    │\n",
       "│ str        ┆ f64     ┆ ---       ┆ f64       ┆   ┆ ---       ┆ ---       ┆ ---       ┆ ---       │\n",
       "│            ┆         ┆ f64       ┆           ┆   ┆ f64       ┆ f64       ┆ f64       ┆ f64       │\n",
       "╞════════════╪═════════╪═══════════╪═══════════╪═══╪═══════════╪═══════════╪═══════════╪═══════════╡\n",
       "│ count      ┆ 0.0     ┆ 10430.0   ┆ 10430.0   ┆ … ┆ 10426.0   ┆ 10426.0   ┆ 10426.0   ┆ 10425.0   │\n",
       "│ null_count ┆ 10430.0 ┆ 0.0       ┆ 0.0       ┆ … ┆ 4.0       ┆ 4.0       ┆ 4.0       ┆ 5.0       │\n",
       "│ mean       ┆ null    ┆ 1.788392  ┆ 40.859662 ┆ … ┆ 10645.093 ┆ 5403.7971 ┆ 2.065183  ┆ 1.81141   │\n",
       "│            ┆         ┆           ┆           ┆   ┆ 69        ┆ 23        ┆           ┆           │\n",
       "│ std        ┆ null    ┆ 1.710749  ┆ 0.005536  ┆ … ┆ 5391.3826 ┆ 3066.2091 ┆ 0.418829  ┆ 1.506718  │\n",
       "│            ┆         ┆           ┆           ┆   ┆ 56        ┆ 14        ┆           ┆           │\n",
       "│ min        ┆ null    ┆ 0.0       ┆ 40.848371 ┆ … ┆ 2.267271  ┆ 2.8       ┆ 0.376911  ┆ -1.0081e- │\n",
       "│            ┆         ┆           ┆           ┆   ┆           ┆           ┆           ┆ 14        │\n",
       "│ 25%        ┆ null    ┆ 0.611231  ┆ 40.856748 ┆ … ┆ 5812.4568 ┆ 2761.0    ┆ 1.848439  ┆ 0.776866  │\n",
       "│            ┆         ┆           ┆           ┆   ┆ 47        ┆           ┆           ┆           │\n",
       "│ 50%        ┆ null    ┆ 1.324637  ┆ 40.859156 ┆ … ┆ 12239.471 ┆ 5424.0    ┆ 1.981257  ┆ 1.582638  │\n",
       "│            ┆         ┆           ┆           ┆   ┆ 12        ┆           ┆           ┆           │\n",
       "│ 75%        ┆ null    ┆ 2.424472  ┆ 40.86085  ┆ … ┆ 15086.449 ┆ 8068.0    ┆ 2.231922  ┆ 2.428585  │\n",
       "│            ┆         ┆           ┆           ┆   ┆ 322       ┆           ┆           ┆           │\n",
       "│ max        ┆ null    ┆ 15.32443  ┆ 40.879271 ┆ … ┆ 18646.176 ┆ 10684.0   ┆ 3.827216  ┆ 12.491514 │\n",
       "│            ┆         ┆           ┆           ┆   ┆ 372       ┆           ┆           ┆           │\n",
       "└────────────┴─────────┴───────────┴───────────┴───┴───────────┴───────────┴───────────┴───────────┘"
      ]
     },
     "execution_count": 80,
     "metadata": {},
     "output_type": "execute_result"
    }
   ],
   "source": [
    "# chaining\n",
    "(df\n",
    " .select(cols)\n",
    " .with_columns(pl.col('elapsed').cast(pl.Int16))\n",
    " .describe()               \n",
    ")"
   ]
  },
  {
   "cell_type": "code",
   "execution_count": 81,
   "metadata": {
    "lines_to_next_cell": 0,
    "pycharm": {
     "name": "#%%\n"
    },
    "scrolled": true
   },
   "outputs": [
    {
     "data": {
      "text/plain": [
       "1028660"
      ]
     },
     "execution_count": 81,
     "metadata": {},
     "output_type": "execute_result"
    }
   ],
   "source": [
    "# chaining\n",
    "(df\n",
    " .select(cols)\n",
    " .with_columns(pl.col('elapsed').cast(pl.Int16)) \n",
    " .estimated_size()\n",
    ")"
   ]
  },
  {
   "cell_type": "code",
   "execution_count": 82,
   "metadata": {},
   "outputs": [
    {
     "data": {
      "text/plain": [
       "1091240"
      ]
     },
     "execution_count": 82,
     "metadata": {},
     "output_type": "execute_result"
    }
   ],
   "source": [
    "(df\n",
    " .select(cols)\n",
    " .estimated_size()\n",
    ")"
   ]
  },
  {
   "cell_type": "code",
   "execution_count": null,
   "metadata": {},
   "outputs": [],
   "source": []
  },
  {
   "cell_type": "code",
   "execution_count": null,
   "metadata": {},
   "outputs": [],
   "source": []
  },
  {
   "cell_type": "code",
   "execution_count": null,
   "metadata": {
    "lines_to_next_cell": 2,
    "pycharm": {
     "name": "#%%\n"
    }
   },
   "outputs": [],
   "source": []
  },
  {
   "cell_type": "code",
   "execution_count": null,
   "metadata": {
    "lines_to_next_cell": 2,
    "pycharm": {
     "name": "#%%\n"
    }
   },
   "outputs": [],
   "source": []
  },
  {
   "cell_type": "markdown",
   "metadata": {
    "pycharm": {
     "name": "#%% md\n"
    }
   },
   "source": [
    "### Strings"
   ]
  },
  {
   "cell_type": "code",
   "execution_count": 83,
   "metadata": {
    "pycharm": {
     "name": "#%%\n"
    },
    "scrolled": true
   },
   "outputs": [
    {
     "data": {
      "text/html": [
       "<div><style>\n",
       ".dataframe > thead > tr,\n",
       ".dataframe > tbody > tr {\n",
       "  text-align: right;\n",
       "  white-space: pre-wrap;\n",
       "}\n",
       "</style>\n",
       "<small>shape: (0, 0)</small><table border=\"1\" class=\"dataframe\"><thead><tr></tr><tr></tr></thead><tbody></tbody></table></div>"
      ],
      "text/plain": [
       "shape: (0, 0)\n",
       "┌┐\n",
       "╞╡\n",
       "└┘"
      ]
     },
     "execution_count": 83,
     "metadata": {},
     "output_type": "execute_result"
    }
   ],
   "source": [
    "df.select(cols).select(pl.col(pl.String))"
   ]
  },
  {
   "cell_type": "code",
   "execution_count": 84,
   "metadata": {
    "scrolled": true
   },
   "outputs": [
    {
     "data": {
      "text/html": [
       "<div><style>\n",
       ".dataframe > thead > tr,\n",
       ".dataframe > tbody > tr {\n",
       "  text-align: right;\n",
       "  white-space: pre-wrap;\n",
       "}\n",
       "</style>\n",
       "<small>shape: (10_430, 14)</small><table border=\"1\" class=\"dataframe\"><thead><tr><th>course</th><th>distance_2d</th><th>latitude</th><th>longitude</th><th>time</th><th>elevation</th><th>speed_between</th><th>travelled</th><th>elapsed</th><th>avg_velocity</th><th>rolling_travelled</th><th>rolling_elapsed</th><th>rolling_velocity</th><th>rolling_between</th></tr><tr><td>str</td><td>f64</td><td>f64</td><td>f64</td><td>datetime[μs, UTC]</td><td>f64</td><td>f64</td><td>f64</td><td>i16</td><td>f64</td><td>f64</td><td>f64</td><td>f64</td><td>f64</td></tr></thead><tbody><tr><td>&quot;Maple Syrup&quot;</td><td>0.0</td><td>40.879161</td><td>-111.855169</td><td>2024-09-10 23:41:56 UTC</td><td>1480.0</td><td>null</td><td>0.0</td><td>0</td><td>NaN</td><td>null</td><td>null</td><td>null</td><td>null</td></tr><tr><td>&quot;Maple Syrup&quot;</td><td>1.210883</td><td>40.879167</td><td>-111.855181</td><td>2024-09-10 23:41:58 UTC</td><td>1480.1</td><td>0.607503</td><td>1.210883</td><td>2</td><td>0.605442</td><td>null</td><td>null</td><td>null</td><td>null</td></tr><tr><td>&quot;Maple Syrup&quot;</td><td>1.227612</td><td>40.879172</td><td>-111.855194</td><td>2024-09-10 23:41:59 UTC</td><td>1480.1</td><td>1.227612</td><td>2.438495</td><td>3</td><td>0.812832</td><td>null</td><td>null</td><td>null</td><td>null</td></tr><tr><td>&quot;Maple Syrup&quot;</td><td>0.952238</td><td>40.879174</td><td>-111.855205</td><td>2024-09-10 23:42:00 UTC</td><td>1480.1</td><td>0.952238</td><td>3.390733</td><td>4</td><td>0.847683</td><td>null</td><td>null</td><td>null</td><td>null</td></tr><tr><td>&quot;Maple Syrup&quot;</td><td>0.90551</td><td>40.879177</td><td>-111.855215</td><td>2024-09-10 23:42:01 UTC</td><td>1480.1</td><td>0.90551</td><td>4.296243</td><td>5</td><td>0.859249</td><td>2.267271</td><td>2.8</td><td>0.80974</td><td>null</td></tr><tr><td>&hellip;</td><td>&hellip;</td><td>&hellip;</td><td>&hellip;</td><td>&hellip;</td><td>&hellip;</td><td>&hellip;</td><td>&hellip;</td><td>&hellip;</td><td>&hellip;</td><td>&hellip;</td><td>&hellip;</td><td>&hellip;</td><td>&hellip;</td></tr><tr><td>&quot;Maple Syrup&quot;</td><td>4.085147</td><td>40.857847</td><td>-111.823899</td><td>2024-09-11 02:39:58 UTC</td><td>1696.8</td><td>4.086371</td><td>18640.85135</td><td>10682</td><td>1.745071</td><td>18634.60004</td><td>10680.0</td><td>1.744813</td><td>3.177668</td></tr><tr><td>&quot;Maple Syrup&quot;</td><td>1.535726</td><td>40.857852</td><td>-111.823916</td><td>2024-09-11 02:39:59 UTC</td><td>1696.8</td><td>1.535726</td><td>18642.387076</td><td>10683</td><td>1.745052</td><td>18637.420852</td><td>10681.0</td><td>1.744913</td><td>2.821613</td></tr><tr><td>&quot;Maple Syrup&quot;</td><td>3.156134</td><td>40.857869</td><td>-111.823946</td><td>2024-09-11 02:40:00 UTC</td><td>1696.7</td><td>3.157718</td><td>18645.54321</td><td>10684</td><td>1.745184</td><td>18640.220738</td><td>10682.0</td><td>1.745012</td><td>2.800696</td></tr><tr><td>&quot;Maple Syrup&quot;</td><td>3.626488</td><td>40.857889</td><td>-111.82398</td><td>2024-09-11 02:40:01 UTC</td><td>1696.5</td><td>3.631999</td><td>18649.169698</td><td>10685</td><td>1.74536</td><td>18642.943507</td><td>10683.0</td><td>1.745104</td><td>2.724433</td></tr><tr><td>&quot;Maple Syrup&quot;</td><td>3.760829</td><td>40.857909</td><td>-111.824016</td><td>2024-09-11 02:40:02 UTC</td><td>1696.3</td><td>3.766144</td><td>18652.930528</td><td>10686</td><td>1.745548</td><td>18646.176372</td><td>10684.0</td><td>1.745243</td><td>3.235592</td></tr></tbody></table></div>"
      ],
      "text/plain": [
       "shape: (10_430, 14)\n",
       "┌───────────┬───────────┬───────────┬───────────┬───┬───────────┬───────────┬───────────┬──────────┐\n",
       "│ course    ┆ distance_ ┆ latitude  ┆ longitude ┆ … ┆ rolling_t ┆ rolling_e ┆ rolling_v ┆ rolling_ │\n",
       "│ ---       ┆ 2d        ┆ ---       ┆ ---       ┆   ┆ ravelled  ┆ lapsed    ┆ elocity   ┆ between  │\n",
       "│ str       ┆ ---       ┆ f64       ┆ f64       ┆   ┆ ---       ┆ ---       ┆ ---       ┆ ---      │\n",
       "│           ┆ f64       ┆           ┆           ┆   ┆ f64       ┆ f64       ┆ f64       ┆ f64      │\n",
       "╞═══════════╪═══════════╪═══════════╪═══════════╪═══╪═══════════╪═══════════╪═══════════╪══════════╡\n",
       "│ Maple     ┆ 0.0       ┆ 40.879161 ┆ -111.8551 ┆ … ┆ null      ┆ null      ┆ null      ┆ null     │\n",
       "│ Syrup     ┆           ┆           ┆ 69        ┆   ┆           ┆           ┆           ┆          │\n",
       "│ Maple     ┆ 1.210883  ┆ 40.879167 ┆ -111.8551 ┆ … ┆ null      ┆ null      ┆ null      ┆ null     │\n",
       "│ Syrup     ┆           ┆           ┆ 81        ┆   ┆           ┆           ┆           ┆          │\n",
       "│ Maple     ┆ 1.227612  ┆ 40.879172 ┆ -111.8551 ┆ … ┆ null      ┆ null      ┆ null      ┆ null     │\n",
       "│ Syrup     ┆           ┆           ┆ 94        ┆   ┆           ┆           ┆           ┆          │\n",
       "│ Maple     ┆ 0.952238  ┆ 40.879174 ┆ -111.8552 ┆ … ┆ null      ┆ null      ┆ null      ┆ null     │\n",
       "│ Syrup     ┆           ┆           ┆ 05        ┆   ┆           ┆           ┆           ┆          │\n",
       "│ Maple     ┆ 0.90551   ┆ 40.879177 ┆ -111.8552 ┆ … ┆ 2.267271  ┆ 2.8       ┆ 0.80974   ┆ null     │\n",
       "│ Syrup     ┆           ┆           ┆ 15        ┆   ┆           ┆           ┆           ┆          │\n",
       "│ …         ┆ …         ┆ …         ┆ …         ┆ … ┆ …         ┆ …         ┆ …         ┆ …        │\n",
       "│ Maple     ┆ 4.085147  ┆ 40.857847 ┆ -111.8238 ┆ … ┆ 18634.600 ┆ 10680.0   ┆ 1.744813  ┆ 3.177668 │\n",
       "│ Syrup     ┆           ┆           ┆ 99        ┆   ┆ 04        ┆           ┆           ┆          │\n",
       "│ Maple     ┆ 1.535726  ┆ 40.857852 ┆ -111.8239 ┆ … ┆ 18637.420 ┆ 10681.0   ┆ 1.744913  ┆ 2.821613 │\n",
       "│ Syrup     ┆           ┆           ┆ 16        ┆   ┆ 852       ┆           ┆           ┆          │\n",
       "│ Maple     ┆ 3.156134  ┆ 40.857869 ┆ -111.8239 ┆ … ┆ 18640.220 ┆ 10682.0   ┆ 1.745012  ┆ 2.800696 │\n",
       "│ Syrup     ┆           ┆           ┆ 46        ┆   ┆ 738       ┆           ┆           ┆          │\n",
       "│ Maple     ┆ 3.626488  ┆ 40.857889 ┆ -111.8239 ┆ … ┆ 18642.943 ┆ 10683.0   ┆ 1.745104  ┆ 2.724433 │\n",
       "│ Syrup     ┆           ┆           ┆ 8         ┆   ┆ 507       ┆           ┆           ┆          │\n",
       "│ Maple     ┆ 3.760829  ┆ 40.857909 ┆ -111.8240 ┆ … ┆ 18646.176 ┆ 10684.0   ┆ 1.745243  ┆ 3.235592 │\n",
       "│ Syrup     ┆           ┆           ┆ 16        ┆   ┆ 372       ┆           ┆           ┆          │\n",
       "└───────────┴───────────┴───────────┴───────────┴───┴───────────┴───────────┴───────────┴──────────┘"
      ]
     },
     "execution_count": 84,
     "metadata": {},
     "output_type": "execute_result"
    }
   ],
   "source": [
    "# chaining\n",
    "(df\n",
    " .select(cols)\n",
    " .with_columns(pl.col('elapsed').cast(pl.Int16),\n",
    "               course=pl.lit('Maple Syrup'))\n",
    ")"
   ]
  },
  {
   "cell_type": "code",
   "execution_count": 85,
   "metadata": {
    "scrolled": true
   },
   "outputs": [
    {
     "data": {
      "text/html": [
       "<div><style>\n",
       ".dataframe > thead > tr,\n",
       ".dataframe > tbody > tr {\n",
       "  text-align: right;\n",
       "  white-space: pre-wrap;\n",
       "}\n",
       "</style>\n",
       "<small>shape: (10_430, 15)</small><table border=\"1\" class=\"dataframe\"><thead><tr><th>course</th><th>distance_2d</th><th>latitude</th><th>longitude</th><th>time</th><th>elevation</th><th>speed_between</th><th>travelled</th><th>elapsed</th><th>avg_velocity</th><th>rolling_travelled</th><th>rolling_elapsed</th><th>rolling_velocity</th><th>rolling_between</th><th>alt_name</th></tr><tr><td>str</td><td>f64</td><td>f64</td><td>f64</td><td>datetime[μs, UTC]</td><td>f64</td><td>f64</td><td>f64</td><td>i16</td><td>f64</td><td>f64</td><td>f64</td><td>f64</td><td>f64</td><td>str</td></tr></thead><tbody><tr><td>&quot;Maple Syrup&quot;</td><td>0.0</td><td>40.879161</td><td>-111.855169</td><td>2024-09-10 23:41:56 UTC</td><td>1480.0</td><td>null</td><td>0.0</td><td>0</td><td>NaN</td><td>null</td><td>null</td><td>null</td><td>null</td><td>&quot;MAPLE SYRUP&quot;</td></tr><tr><td>&quot;Maple Syrup&quot;</td><td>1.210883</td><td>40.879167</td><td>-111.855181</td><td>2024-09-10 23:41:58 UTC</td><td>1480.1</td><td>0.607503</td><td>1.210883</td><td>2</td><td>0.605442</td><td>null</td><td>null</td><td>null</td><td>null</td><td>&quot;MAPLE SYRUP&quot;</td></tr><tr><td>&quot;Maple Syrup&quot;</td><td>1.227612</td><td>40.879172</td><td>-111.855194</td><td>2024-09-10 23:41:59 UTC</td><td>1480.1</td><td>1.227612</td><td>2.438495</td><td>3</td><td>0.812832</td><td>null</td><td>null</td><td>null</td><td>null</td><td>&quot;MAPLE SYRUP&quot;</td></tr><tr><td>&quot;Maple Syrup&quot;</td><td>0.952238</td><td>40.879174</td><td>-111.855205</td><td>2024-09-10 23:42:00 UTC</td><td>1480.1</td><td>0.952238</td><td>3.390733</td><td>4</td><td>0.847683</td><td>null</td><td>null</td><td>null</td><td>null</td><td>&quot;MAPLE SYRUP&quot;</td></tr><tr><td>&quot;Maple Syrup&quot;</td><td>0.90551</td><td>40.879177</td><td>-111.855215</td><td>2024-09-10 23:42:01 UTC</td><td>1480.1</td><td>0.90551</td><td>4.296243</td><td>5</td><td>0.859249</td><td>2.267271</td><td>2.8</td><td>0.80974</td><td>null</td><td>&quot;MAPLE SYRUP&quot;</td></tr><tr><td>&hellip;</td><td>&hellip;</td><td>&hellip;</td><td>&hellip;</td><td>&hellip;</td><td>&hellip;</td><td>&hellip;</td><td>&hellip;</td><td>&hellip;</td><td>&hellip;</td><td>&hellip;</td><td>&hellip;</td><td>&hellip;</td><td>&hellip;</td><td>&hellip;</td></tr><tr><td>&quot;Maple Syrup&quot;</td><td>4.085147</td><td>40.857847</td><td>-111.823899</td><td>2024-09-11 02:39:58 UTC</td><td>1696.8</td><td>4.086371</td><td>18640.85135</td><td>10682</td><td>1.745071</td><td>18634.60004</td><td>10680.0</td><td>1.744813</td><td>3.177668</td><td>&quot;MAPLE SYRUP&quot;</td></tr><tr><td>&quot;Maple Syrup&quot;</td><td>1.535726</td><td>40.857852</td><td>-111.823916</td><td>2024-09-11 02:39:59 UTC</td><td>1696.8</td><td>1.535726</td><td>18642.387076</td><td>10683</td><td>1.745052</td><td>18637.420852</td><td>10681.0</td><td>1.744913</td><td>2.821613</td><td>&quot;MAPLE SYRUP&quot;</td></tr><tr><td>&quot;Maple Syrup&quot;</td><td>3.156134</td><td>40.857869</td><td>-111.823946</td><td>2024-09-11 02:40:00 UTC</td><td>1696.7</td><td>3.157718</td><td>18645.54321</td><td>10684</td><td>1.745184</td><td>18640.220738</td><td>10682.0</td><td>1.745012</td><td>2.800696</td><td>&quot;MAPLE SYRUP&quot;</td></tr><tr><td>&quot;Maple Syrup&quot;</td><td>3.626488</td><td>40.857889</td><td>-111.82398</td><td>2024-09-11 02:40:01 UTC</td><td>1696.5</td><td>3.631999</td><td>18649.169698</td><td>10685</td><td>1.74536</td><td>18642.943507</td><td>10683.0</td><td>1.745104</td><td>2.724433</td><td>&quot;MAPLE SYRUP&quot;</td></tr><tr><td>&quot;Maple Syrup&quot;</td><td>3.760829</td><td>40.857909</td><td>-111.824016</td><td>2024-09-11 02:40:02 UTC</td><td>1696.3</td><td>3.766144</td><td>18652.930528</td><td>10686</td><td>1.745548</td><td>18646.176372</td><td>10684.0</td><td>1.745243</td><td>3.235592</td><td>&quot;MAPLE SYRUP&quot;</td></tr></tbody></table></div>"
      ],
      "text/plain": [
       "shape: (10_430, 15)\n",
       "┌───────────┬───────────┬───────────┬───────────┬───┬───────────┬───────────┬───────────┬──────────┐\n",
       "│ course    ┆ distance_ ┆ latitude  ┆ longitude ┆ … ┆ rolling_e ┆ rolling_v ┆ rolling_b ┆ alt_name │\n",
       "│ ---       ┆ 2d        ┆ ---       ┆ ---       ┆   ┆ lapsed    ┆ elocity   ┆ etween    ┆ ---      │\n",
       "│ str       ┆ ---       ┆ f64       ┆ f64       ┆   ┆ ---       ┆ ---       ┆ ---       ┆ str      │\n",
       "│           ┆ f64       ┆           ┆           ┆   ┆ f64       ┆ f64       ┆ f64       ┆          │\n",
       "╞═══════════╪═══════════╪═══════════╪═══════════╪═══╪═══════════╪═══════════╪═══════════╪══════════╡\n",
       "│ Maple     ┆ 0.0       ┆ 40.879161 ┆ -111.8551 ┆ … ┆ null      ┆ null      ┆ null      ┆ MAPLE    │\n",
       "│ Syrup     ┆           ┆           ┆ 69        ┆   ┆           ┆           ┆           ┆ SYRUP    │\n",
       "│ Maple     ┆ 1.210883  ┆ 40.879167 ┆ -111.8551 ┆ … ┆ null      ┆ null      ┆ null      ┆ MAPLE    │\n",
       "│ Syrup     ┆           ┆           ┆ 81        ┆   ┆           ┆           ┆           ┆ SYRUP    │\n",
       "│ Maple     ┆ 1.227612  ┆ 40.879172 ┆ -111.8551 ┆ … ┆ null      ┆ null      ┆ null      ┆ MAPLE    │\n",
       "│ Syrup     ┆           ┆           ┆ 94        ┆   ┆           ┆           ┆           ┆ SYRUP    │\n",
       "│ Maple     ┆ 0.952238  ┆ 40.879174 ┆ -111.8552 ┆ … ┆ null      ┆ null      ┆ null      ┆ MAPLE    │\n",
       "│ Syrup     ┆           ┆           ┆ 05        ┆   ┆           ┆           ┆           ┆ SYRUP    │\n",
       "│ Maple     ┆ 0.90551   ┆ 40.879177 ┆ -111.8552 ┆ … ┆ 2.8       ┆ 0.80974   ┆ null      ┆ MAPLE    │\n",
       "│ Syrup     ┆           ┆           ┆ 15        ┆   ┆           ┆           ┆           ┆ SYRUP    │\n",
       "│ …         ┆ …         ┆ …         ┆ …         ┆ … ┆ …         ┆ …         ┆ …         ┆ …        │\n",
       "│ Maple     ┆ 4.085147  ┆ 40.857847 ┆ -111.8238 ┆ … ┆ 10680.0   ┆ 1.744813  ┆ 3.177668  ┆ MAPLE    │\n",
       "│ Syrup     ┆           ┆           ┆ 99        ┆   ┆           ┆           ┆           ┆ SYRUP    │\n",
       "│ Maple     ┆ 1.535726  ┆ 40.857852 ┆ -111.8239 ┆ … ┆ 10681.0   ┆ 1.744913  ┆ 2.821613  ┆ MAPLE    │\n",
       "│ Syrup     ┆           ┆           ┆ 16        ┆   ┆           ┆           ┆           ┆ SYRUP    │\n",
       "│ Maple     ┆ 3.156134  ┆ 40.857869 ┆ -111.8239 ┆ … ┆ 10682.0   ┆ 1.745012  ┆ 2.800696  ┆ MAPLE    │\n",
       "│ Syrup     ┆           ┆           ┆ 46        ┆   ┆           ┆           ┆           ┆ SYRUP    │\n",
       "│ Maple     ┆ 3.626488  ┆ 40.857889 ┆ -111.8239 ┆ … ┆ 10683.0   ┆ 1.745104  ┆ 2.724433  ┆ MAPLE    │\n",
       "│ Syrup     ┆           ┆           ┆ 8         ┆   ┆           ┆           ┆           ┆ SYRUP    │\n",
       "│ Maple     ┆ 3.760829  ┆ 40.857909 ┆ -111.8240 ┆ … ┆ 10684.0   ┆ 1.745243  ┆ 3.235592  ┆ MAPLE    │\n",
       "│ Syrup     ┆           ┆           ┆ 16        ┆   ┆           ┆           ┆           ┆ SYRUP    │\n",
       "└───────────┴───────────┴───────────┴───────────┴───┴───────────┴───────────┴───────────┴──────────┘"
      ]
     },
     "execution_count": 85,
     "metadata": {},
     "output_type": "execute_result"
    }
   ],
   "source": [
    "# an example of a string operation\n",
    "(df\n",
    " .select(cols)\n",
    " .with_columns(pl.col('elapsed').cast(pl.Int16),\n",
    "               course=pl.lit('Maple Syrup'))\n",
    " .with_columns(alt_name=pl.col('course').str.to_uppercase()) \n",
    " \n",
    ")"
   ]
  },
  {
   "cell_type": "code",
   "execution_count": 86,
   "metadata": {},
   "outputs": [
    {
     "name": "stdout",
     "output_type": "stream",
     "text": [
      "['__class__', '__delattr__', '__dict__', '__dir__', '__doc__', '__eq__', '__format__', '__ge__', '__getattribute__', '__gt__', '__hash__', '__init__', '__init_subclass__', '__le__', '__lt__', '__module__', '__ne__', '__new__', '__reduce__', '__reduce_ex__', '__repr__', '__setattr__', '__sizeof__', '__str__', '__subclasshook__', '__weakref__', '_accessor', '_pyexpr', 'concat', 'contains', 'contains_any', 'count_matches', 'decode', 'encode', 'ends_with', 'escape_regex', 'explode', 'extract', 'extract_all', 'extract_groups', 'extract_many', 'find', 'head', 'join', 'json_decode', 'json_path_match', 'len_bytes', 'len_chars', 'pad_end', 'pad_start', 'replace', 'replace_all', 'replace_many', 'reverse', 'slice', 'split', 'split_exact', 'splitn', 'starts_with', 'strip_chars', 'strip_chars_end', 'strip_chars_start', 'strip_prefix', 'strip_suffix', 'strptime', 'tail', 'to_date', 'to_datetime', 'to_decimal', 'to_integer', 'to_lowercase', 'to_time', 'to_titlecase', 'to_uppercase', 'zfill']\n"
     ]
    }
   ],
   "source": [
    "# a bunch of string methods off of .str\n",
    "# note that the spelling might be different from python/pandas\n",
    "col = pl.col('')\n",
    "print(dir(col.str))"
   ]
  },
  {
   "cell_type": "code",
   "execution_count": 87,
   "metadata": {
    "lines_to_next_cell": 0
   },
   "outputs": [],
   "source": [
    "col.str.to_uppercase?"
   ]
  },
  {
   "cell_type": "code",
   "execution_count": null,
   "metadata": {},
   "outputs": [],
   "source": []
  },
  {
   "cell_type": "code",
   "execution_count": null,
   "metadata": {},
   "outputs": [],
   "source": []
  },
  {
   "cell_type": "markdown",
   "metadata": {},
   "source": [
    "## Convert Date to Local Time"
   ]
  },
  {
   "cell_type": "code",
   "execution_count": 88,
   "metadata": {},
   "outputs": [
    {
     "data": {
      "text/html": [
       "<div><style>\n",
       ".dataframe > thead > tr,\n",
       ".dataframe > tbody > tr {\n",
       "  text-align: right;\n",
       "  white-space: pre-wrap;\n",
       "}\n",
       "</style>\n",
       "<small>shape: (10_430, 14)</small><table border=\"1\" class=\"dataframe\"><thead><tr><th>course</th><th>distance_2d</th><th>latitude</th><th>longitude</th><th>time</th><th>elevation</th><th>speed_between</th><th>travelled</th><th>elapsed</th><th>avg_velocity</th><th>rolling_travelled</th><th>rolling_elapsed</th><th>rolling_velocity</th><th>rolling_between</th></tr><tr><td>cat</td><td>f64</td><td>f64</td><td>f64</td><td>datetime[μs, America/Denver]</td><td>f64</td><td>f64</td><td>f64</td><td>i16</td><td>f64</td><td>f64</td><td>f64</td><td>f64</td><td>f64</td></tr></thead><tbody><tr><td>&quot;Maple Syrup&quot;</td><td>0.0</td><td>40.879161</td><td>-111.855169</td><td>2024-09-10 17:41:56 MDT</td><td>1480.0</td><td>null</td><td>0.0</td><td>0</td><td>NaN</td><td>null</td><td>null</td><td>null</td><td>null</td></tr><tr><td>&quot;Maple Syrup&quot;</td><td>1.210883</td><td>40.879167</td><td>-111.855181</td><td>2024-09-10 17:41:58 MDT</td><td>1480.1</td><td>0.607503</td><td>1.210883</td><td>2</td><td>0.605442</td><td>null</td><td>null</td><td>null</td><td>null</td></tr><tr><td>&quot;Maple Syrup&quot;</td><td>1.227612</td><td>40.879172</td><td>-111.855194</td><td>2024-09-10 17:41:59 MDT</td><td>1480.1</td><td>1.227612</td><td>2.438495</td><td>3</td><td>0.812832</td><td>null</td><td>null</td><td>null</td><td>null</td></tr><tr><td>&quot;Maple Syrup&quot;</td><td>0.952238</td><td>40.879174</td><td>-111.855205</td><td>2024-09-10 17:42:00 MDT</td><td>1480.1</td><td>0.952238</td><td>3.390733</td><td>4</td><td>0.847683</td><td>null</td><td>null</td><td>null</td><td>null</td></tr><tr><td>&quot;Maple Syrup&quot;</td><td>0.90551</td><td>40.879177</td><td>-111.855215</td><td>2024-09-10 17:42:01 MDT</td><td>1480.1</td><td>0.90551</td><td>4.296243</td><td>5</td><td>0.859249</td><td>2.267271</td><td>2.8</td><td>0.80974</td><td>null</td></tr><tr><td>&hellip;</td><td>&hellip;</td><td>&hellip;</td><td>&hellip;</td><td>&hellip;</td><td>&hellip;</td><td>&hellip;</td><td>&hellip;</td><td>&hellip;</td><td>&hellip;</td><td>&hellip;</td><td>&hellip;</td><td>&hellip;</td><td>&hellip;</td></tr><tr><td>&quot;Maple Syrup&quot;</td><td>4.085147</td><td>40.857847</td><td>-111.823899</td><td>2024-09-10 20:39:58 MDT</td><td>1696.8</td><td>4.086371</td><td>18640.85135</td><td>10682</td><td>1.745071</td><td>18634.60004</td><td>10680.0</td><td>1.744813</td><td>3.177668</td></tr><tr><td>&quot;Maple Syrup&quot;</td><td>1.535726</td><td>40.857852</td><td>-111.823916</td><td>2024-09-10 20:39:59 MDT</td><td>1696.8</td><td>1.535726</td><td>18642.387076</td><td>10683</td><td>1.745052</td><td>18637.420852</td><td>10681.0</td><td>1.744913</td><td>2.821613</td></tr><tr><td>&quot;Maple Syrup&quot;</td><td>3.156134</td><td>40.857869</td><td>-111.823946</td><td>2024-09-10 20:40:00 MDT</td><td>1696.7</td><td>3.157718</td><td>18645.54321</td><td>10684</td><td>1.745184</td><td>18640.220738</td><td>10682.0</td><td>1.745012</td><td>2.800696</td></tr><tr><td>&quot;Maple Syrup&quot;</td><td>3.626488</td><td>40.857889</td><td>-111.82398</td><td>2024-09-10 20:40:01 MDT</td><td>1696.5</td><td>3.631999</td><td>18649.169698</td><td>10685</td><td>1.74536</td><td>18642.943507</td><td>10683.0</td><td>1.745104</td><td>2.724433</td></tr><tr><td>&quot;Maple Syrup&quot;</td><td>3.760829</td><td>40.857909</td><td>-111.824016</td><td>2024-09-10 20:40:02 MDT</td><td>1696.3</td><td>3.766144</td><td>18652.930528</td><td>10686</td><td>1.745548</td><td>18646.176372</td><td>10684.0</td><td>1.745243</td><td>3.235592</td></tr></tbody></table></div>"
      ],
      "text/plain": [
       "shape: (10_430, 14)\n",
       "┌───────────┬───────────┬───────────┬───────────┬───┬───────────┬───────────┬───────────┬──────────┐\n",
       "│ course    ┆ distance_ ┆ latitude  ┆ longitude ┆ … ┆ rolling_t ┆ rolling_e ┆ rolling_v ┆ rolling_ │\n",
       "│ ---       ┆ 2d        ┆ ---       ┆ ---       ┆   ┆ ravelled  ┆ lapsed    ┆ elocity   ┆ between  │\n",
       "│ cat       ┆ ---       ┆ f64       ┆ f64       ┆   ┆ ---       ┆ ---       ┆ ---       ┆ ---      │\n",
       "│           ┆ f64       ┆           ┆           ┆   ┆ f64       ┆ f64       ┆ f64       ┆ f64      │\n",
       "╞═══════════╪═══════════╪═══════════╪═══════════╪═══╪═══════════╪═══════════╪═══════════╪══════════╡\n",
       "│ Maple     ┆ 0.0       ┆ 40.879161 ┆ -111.8551 ┆ … ┆ null      ┆ null      ┆ null      ┆ null     │\n",
       "│ Syrup     ┆           ┆           ┆ 69        ┆   ┆           ┆           ┆           ┆          │\n",
       "│ Maple     ┆ 1.210883  ┆ 40.879167 ┆ -111.8551 ┆ … ┆ null      ┆ null      ┆ null      ┆ null     │\n",
       "│ Syrup     ┆           ┆           ┆ 81        ┆   ┆           ┆           ┆           ┆          │\n",
       "│ Maple     ┆ 1.227612  ┆ 40.879172 ┆ -111.8551 ┆ … ┆ null      ┆ null      ┆ null      ┆ null     │\n",
       "│ Syrup     ┆           ┆           ┆ 94        ┆   ┆           ┆           ┆           ┆          │\n",
       "│ Maple     ┆ 0.952238  ┆ 40.879174 ┆ -111.8552 ┆ … ┆ null      ┆ null      ┆ null      ┆ null     │\n",
       "│ Syrup     ┆           ┆           ┆ 05        ┆   ┆           ┆           ┆           ┆          │\n",
       "│ Maple     ┆ 0.90551   ┆ 40.879177 ┆ -111.8552 ┆ … ┆ 2.267271  ┆ 2.8       ┆ 0.80974   ┆ null     │\n",
       "│ Syrup     ┆           ┆           ┆ 15        ┆   ┆           ┆           ┆           ┆          │\n",
       "│ …         ┆ …         ┆ …         ┆ …         ┆ … ┆ …         ┆ …         ┆ …         ┆ …        │\n",
       "│ Maple     ┆ 4.085147  ┆ 40.857847 ┆ -111.8238 ┆ … ┆ 18634.600 ┆ 10680.0   ┆ 1.744813  ┆ 3.177668 │\n",
       "│ Syrup     ┆           ┆           ┆ 99        ┆   ┆ 04        ┆           ┆           ┆          │\n",
       "│ Maple     ┆ 1.535726  ┆ 40.857852 ┆ -111.8239 ┆ … ┆ 18637.420 ┆ 10681.0   ┆ 1.744913  ┆ 2.821613 │\n",
       "│ Syrup     ┆           ┆           ┆ 16        ┆   ┆ 852       ┆           ┆           ┆          │\n",
       "│ Maple     ┆ 3.156134  ┆ 40.857869 ┆ -111.8239 ┆ … ┆ 18640.220 ┆ 10682.0   ┆ 1.745012  ┆ 2.800696 │\n",
       "│ Syrup     ┆           ┆           ┆ 46        ┆   ┆ 738       ┆           ┆           ┆          │\n",
       "│ Maple     ┆ 3.626488  ┆ 40.857889 ┆ -111.8239 ┆ … ┆ 18642.943 ┆ 10683.0   ┆ 1.745104  ┆ 2.724433 │\n",
       "│ Syrup     ┆           ┆           ┆ 8         ┆   ┆ 507       ┆           ┆           ┆          │\n",
       "│ Maple     ┆ 3.760829  ┆ 40.857909 ┆ -111.8240 ┆ … ┆ 18646.176 ┆ 10684.0   ┆ 1.745243  ┆ 3.235592 │\n",
       "│ Syrup     ┆           ┆           ┆ 16        ┆   ┆ 372       ┆           ┆           ┆          │\n",
       "└───────────┴───────────┴───────────┴───────────┴───┴───────────┴───────────┴───────────┴──────────┘"
      ]
     },
     "execution_count": 88,
     "metadata": {},
     "output_type": "execute_result"
    }
   ],
   "source": [
    "(df\n",
    " .select(cols)\n",
    " .with_columns(pl.col('elapsed').cast(pl.Int16),\n",
    "               course=pl.lit('Maple Syrup').cast(pl.Categorical),\n",
    "               time=pl.col('time').dt.convert_time_zone('America/Denver')\n",
    "              )\n",
    ")"
   ]
  },
  {
   "cell_type": "code",
   "execution_count": 89,
   "metadata": {},
   "outputs": [
    {
     "name": "stdout",
     "output_type": "stream",
     "text": [
      "['__abs__', '__add__', '__and__', '__annotations__', '__array_ufunc__', '__bool__', '__class__', '__delattr__', '__dict__', '__dir__', '__doc__', '__eq__', '__floordiv__', '__format__', '__ge__', '__getattribute__', '__getstate__', '__gt__', '__hash__', '__init__', '__init_subclass__', '__invert__', '__le__', '__lt__', '__mod__', '__module__', '__mul__', '__ne__', '__neg__', '__new__', '__or__', '__pos__', '__pow__', '__radd__', '__rand__', '__reduce__', '__reduce_ex__', '__repr__', '__rfloordiv__', '__rmod__', '__rmul__', '__ror__', '__rpow__', '__rsub__', '__rtruediv__', '__rxor__', '__setattr__', '__setstate__', '__sizeof__', '__str__', '__sub__', '__subclasshook__', '__truediv__', '__weakref__', '__xor__', '_accessors', '_from_pyexpr', '_map_batches_wrapper', '_pyexpr', '_repr_html_', 'abs', 'add', 'agg_groups', 'alias', 'all', 'and_', 'any', 'append', 'approx_n_unique', 'arccos', 'arccosh', 'arcsin', 'arcsinh', 'arctan', 'arctanh', 'arg_max', 'arg_min', 'arg_sort', 'arg_true', 'arg_unique', 'arr', 'backward_fill', 'bin', 'bitwise_and', 'bitwise_count_ones', 'bitwise_count_zeros', 'bitwise_leading_ones', 'bitwise_leading_zeros', 'bitwise_or', 'bitwise_trailing_ones', 'bitwise_trailing_zeros', 'bitwise_xor', 'bottom_k', 'bottom_k_by', 'cast', 'cat', 'cbrt', 'ceil', 'clip', 'cos', 'cosh', 'cot', 'count', 'cum_count', 'cum_max', 'cum_min', 'cum_prod', 'cum_sum', 'cumulative_eval', 'cut', 'degrees', 'deserialize', 'diff', 'dot', 'drop_nans', 'drop_nulls', 'dt', 'entropy', 'eq', 'eq_missing', 'ewm_mean', 'ewm_mean_by', 'ewm_std', 'ewm_var', 'exclude', 'exp', 'explode', 'extend_constant', 'fill_nan', 'fill_null', 'filter', 'first', 'flatten', 'floor', 'floordiv', 'forward_fill', 'from_json', 'gather', 'gather_every', 'ge', 'get', 'gt', 'has_nulls', 'hash', 'head', 'hist', 'implode', 'inspect', 'interpolate', 'interpolate_by', 'is_between', 'is_duplicated', 'is_finite', 'is_first_distinct', 'is_in', 'is_infinite', 'is_last_distinct', 'is_nan', 'is_not_nan', 'is_not_null', 'is_null', 'is_unique', 'kurtosis', 'last', 'le', 'len', 'limit', 'list', 'log', 'log10', 'log1p', 'lower_bound', 'lt', 'map_batches', 'map_elements', 'max', 'mean', 'median', 'meta', 'min', 'mod', 'mode', 'mul', 'n_unique', 'name', 'nan_max', 'nan_min', 'ne', 'ne_missing', 'neg', 'not_', 'null_count', 'or_', 'over', 'pct_change', 'peak_max', 'peak_min', 'pipe', 'pow', 'product', 'qcut', 'quantile', 'radians', 'rank', 'rechunk', 'register_plugin', 'reinterpret', 'repeat_by', 'replace', 'replace_strict', 'reshape', 'reverse', 'rle', 'rle_id', 'rolling', 'rolling_map', 'rolling_max', 'rolling_max_by', 'rolling_mean', 'rolling_mean_by', 'rolling_median', 'rolling_median_by', 'rolling_min', 'rolling_min_by', 'rolling_quantile', 'rolling_quantile_by', 'rolling_skew', 'rolling_std', 'rolling_std_by', 'rolling_sum', 'rolling_sum_by', 'rolling_var', 'rolling_var_by', 'round', 'round_sig_figs', 'sample', 'search_sorted', 'set_sorted', 'shift', 'shrink_dtype', 'shuffle', 'sign', 'sin', 'sinh', 'skew', 'slice', 'sort', 'sort_by', 'sqrt', 'std', 'str', 'struct', 'sub', 'sum', 'tail', 'tan', 'tanh', 'to_physical', 'top_k', 'top_k_by', 'truediv', 'unique', 'unique_counts', 'upper_bound', 'value_counts', 'var', 'where', 'xor']\n"
     ]
    }
   ],
   "source": [
    "col = pl.col('time')\n",
    "print(dir(col))"
   ]
  },
  {
   "cell_type": "code",
   "execution_count": 90,
   "metadata": {},
   "outputs": [
    {
     "name": "stdout",
     "output_type": "stream",
     "text": [
      "268\n"
     ]
    }
   ],
   "source": [
    "print(len(dir(col)))"
   ]
  },
  {
   "cell_type": "code",
   "execution_count": 91,
   "metadata": {},
   "outputs": [
    {
     "name": "stdout",
     "output_type": "stream",
     "text": [
      "['__class__', '__delattr__', '__dict__', '__dir__', '__doc__', '__eq__', '__format__', '__ge__', '__getattribute__', '__gt__', '__hash__', '__init__', '__init_subclass__', '__le__', '__lt__', '__module__', '__ne__', '__new__', '__reduce__', '__reduce_ex__', '__repr__', '__setattr__', '__sizeof__', '__str__', '__subclasshook__', '__weakref__', '_accessor', '_pyexpr', 'add_business_days', 'base_utc_offset', 'cast_time_unit', 'century', 'combine', 'convert_time_zone', 'date', 'datetime', 'day', 'dst_offset', 'epoch', 'hour', 'is_leap_year', 'iso_year', 'microsecond', 'millennium', 'millisecond', 'minute', 'month', 'month_end', 'month_start', 'nanosecond', 'offset_by', 'ordinal_day', 'quarter', 'replace_time_zone', 'round', 'second', 'strftime', 'time', 'timestamp', 'to_string', 'total_days', 'total_hours', 'total_microseconds', 'total_milliseconds', 'total_minutes', 'total_nanoseconds', 'total_seconds', 'truncate', 'week', 'weekday', 'with_time_unit', 'year']\n"
     ]
    }
   ],
   "source": [
    "print(dir(col.dt))"
   ]
  },
  {
   "cell_type": "code",
   "execution_count": 92,
   "metadata": {},
   "outputs": [
    {
     "name": "stdout",
     "output_type": "stream",
     "text": [
      "72\n"
     ]
    }
   ],
   "source": [
    "print(len(dir(col.dt)))"
   ]
  },
  {
   "cell_type": "code",
   "execution_count": null,
   "metadata": {},
   "outputs": [],
   "source": []
  },
  {
   "cell_type": "code",
   "execution_count": null,
   "metadata": {},
   "outputs": [],
   "source": []
  },
  {
   "cell_type": "code",
   "execution_count": null,
   "metadata": {},
   "outputs": [],
   "source": []
  },
  {
   "cell_type": "code",
   "execution_count": null,
   "metadata": {},
   "outputs": [],
   "source": []
  },
  {
   "cell_type": "markdown",
   "metadata": {},
   "source": [
    "## Missing Data\n",
    "\n",
    "- Use `.fill_null` to address\n",
    "- Use `.filter` to filter rows\n",
    "- Use `.select` to select columns\n",
    "\n",
    "To view rows with missing data use `.filter(pl.col(\"col_name\").is_null())`"
   ]
  },
  {
   "cell_type": "code",
   "execution_count": 93,
   "metadata": {},
   "outputs": [
    {
     "data": {
      "text/html": [
       "<div><style>\n",
       ".dataframe > thead > tr,\n",
       ".dataframe > tbody > tr {\n",
       "  text-align: right;\n",
       "  white-space: pre-wrap;\n",
       "}\n",
       "</style>\n",
       "<small>shape: (1, 14)</small><table border=\"1\" class=\"dataframe\"><thead><tr><th>course</th><th>distance_2d</th><th>latitude</th><th>longitude</th><th>time</th><th>elevation</th><th>speed_between</th><th>travelled</th><th>elapsed</th><th>avg_velocity</th><th>rolling_travelled</th><th>rolling_elapsed</th><th>rolling_velocity</th><th>rolling_between</th></tr><tr><td>u32</td><td>u32</td><td>u32</td><td>u32</td><td>u32</td><td>u32</td><td>u32</td><td>u32</td><td>u32</td><td>u32</td><td>u32</td><td>u32</td><td>u32</td><td>u32</td></tr></thead><tbody><tr><td>0</td><td>0</td><td>0</td><td>0</td><td>0</td><td>0</td><td>1</td><td>0</td><td>0</td><td>0</td><td>4</td><td>4</td><td>4</td><td>5</td></tr></tbody></table></div>"
      ],
      "text/plain": [
       "shape: (1, 14)\n",
       "┌────────┬────────────┬──────────┬───────────┬───┬────────────┬────────────┬───────────┬───────────┐\n",
       "│ course ┆ distance_2 ┆ latitude ┆ longitude ┆ … ┆ rolling_tr ┆ rolling_el ┆ rolling_v ┆ rolling_b │\n",
       "│ ---    ┆ d          ┆ ---      ┆ ---       ┆   ┆ avelled    ┆ apsed      ┆ elocity   ┆ etween    │\n",
       "│ u32    ┆ ---        ┆ u32      ┆ u32       ┆   ┆ ---        ┆ ---        ┆ ---       ┆ ---       │\n",
       "│        ┆ u32        ┆          ┆           ┆   ┆ u32        ┆ u32        ┆ u32       ┆ u32       │\n",
       "╞════════╪════════════╪══════════╪═══════════╪═══╪════════════╪════════════╪═══════════╪═══════════╡\n",
       "│ 0      ┆ 0          ┆ 0        ┆ 0         ┆ … ┆ 4          ┆ 4          ┆ 4         ┆ 5         │\n",
       "└────────┴────────────┴──────────┴───────────┴───┴────────────┴────────────┴───────────┴───────────┘"
      ]
     },
     "execution_count": 93,
     "metadata": {},
     "output_type": "execute_result"
    }
   ],
   "source": [
    "(df\n",
    " .select(cols)\n",
    " .with_columns(pl.col('elapsed').cast(pl.Int16),\n",
    "               course=pl.lit('Maple Syrup').cast(pl.Categorical),\n",
    "               time=pl.col('time').dt.convert_time_zone('America/Denver'))\n",
    " .null_count()\n",
    ")"
   ]
  },
  {
   "cell_type": "code",
   "execution_count": 94,
   "metadata": {
    "collapsed": true,
    "jupyter": {
     "outputs_hidden": true
    }
   },
   "outputs": [
    {
     "data": {
      "text/html": [
       "<div><style>\n",
       ".dataframe > thead > tr,\n",
       ".dataframe > tbody > tr {\n",
       "  text-align: right;\n",
       "  white-space: pre-wrap;\n",
       "}\n",
       "</style>\n",
       "<small>shape: (10_430, 1)</small><table border=\"1\" class=\"dataframe\"><thead><tr><th>rolling_between</th></tr><tr><td>bool</td></tr></thead><tbody><tr><td>true</td></tr><tr><td>true</td></tr><tr><td>true</td></tr><tr><td>true</td></tr><tr><td>true</td></tr><tr><td>&hellip;</td></tr><tr><td>false</td></tr><tr><td>false</td></tr><tr><td>false</td></tr><tr><td>false</td></tr><tr><td>false</td></tr></tbody></table></div>"
      ],
      "text/plain": [
       "shape: (10_430, 1)\n",
       "┌─────────────────┐\n",
       "│ rolling_between │\n",
       "│ ---             │\n",
       "│ bool            │\n",
       "╞═════════════════╡\n",
       "│ true            │\n",
       "│ true            │\n",
       "│ true            │\n",
       "│ true            │\n",
       "│ true            │\n",
       "│ …               │\n",
       "│ false           │\n",
       "│ false           │\n",
       "│ false           │\n",
       "│ false           │\n",
       "│ false           │\n",
       "└─────────────────┘"
      ]
     },
     "execution_count": 94,
     "metadata": {},
     "output_type": "execute_result"
    }
   ],
   "source": [
    "# use .select to find where rows are missing\n",
    "(df\n",
    " .select(cols)\n",
    " .with_columns(pl.col('elapsed').cast(pl.Int16),\n",
    "               course=pl.lit('Maple Syrup').cast(pl.Categorical),\n",
    "               time=pl.col('time').dt.convert_time_zone('America/Denver'))\n",
    " .select(pl.col('rolling_between').is_null())\n",
    ")"
   ]
  },
  {
   "cell_type": "code",
   "execution_count": 95,
   "metadata": {},
   "outputs": [
    {
     "data": {
      "text/html": [
       "<div><style>\n",
       ".dataframe > thead > tr,\n",
       ".dataframe > tbody > tr {\n",
       "  text-align: right;\n",
       "  white-space: pre-wrap;\n",
       "}\n",
       "</style>\n",
       "<small>shape: (5, 15)</small><table border=\"1\" class=\"dataframe\"><thead><tr><th>index</th><th>course</th><th>distance_2d</th><th>latitude</th><th>longitude</th><th>time</th><th>elevation</th><th>speed_between</th><th>travelled</th><th>elapsed</th><th>avg_velocity</th><th>rolling_travelled</th><th>rolling_elapsed</th><th>rolling_velocity</th><th>rolling_between</th></tr><tr><td>u32</td><td>cat</td><td>f64</td><td>f64</td><td>f64</td><td>datetime[μs, America/Denver]</td><td>f64</td><td>f64</td><td>f64</td><td>i16</td><td>f64</td><td>f64</td><td>f64</td><td>f64</td><td>f64</td></tr></thead><tbody><tr><td>0</td><td>&quot;Maple Syrup&quot;</td><td>0.0</td><td>40.879161</td><td>-111.855169</td><td>2024-09-10 17:41:56 MDT</td><td>1480.0</td><td>null</td><td>0.0</td><td>0</td><td>NaN</td><td>null</td><td>null</td><td>null</td><td>null</td></tr><tr><td>1</td><td>&quot;Maple Syrup&quot;</td><td>1.210883</td><td>40.879167</td><td>-111.855181</td><td>2024-09-10 17:41:58 MDT</td><td>1480.1</td><td>0.607503</td><td>1.210883</td><td>2</td><td>0.605442</td><td>null</td><td>null</td><td>null</td><td>null</td></tr><tr><td>2</td><td>&quot;Maple Syrup&quot;</td><td>1.227612</td><td>40.879172</td><td>-111.855194</td><td>2024-09-10 17:41:59 MDT</td><td>1480.1</td><td>1.227612</td><td>2.438495</td><td>3</td><td>0.812832</td><td>null</td><td>null</td><td>null</td><td>null</td></tr><tr><td>3</td><td>&quot;Maple Syrup&quot;</td><td>0.952238</td><td>40.879174</td><td>-111.855205</td><td>2024-09-10 17:42:00 MDT</td><td>1480.1</td><td>0.952238</td><td>3.390733</td><td>4</td><td>0.847683</td><td>null</td><td>null</td><td>null</td><td>null</td></tr><tr><td>4</td><td>&quot;Maple Syrup&quot;</td><td>0.90551</td><td>40.879177</td><td>-111.855215</td><td>2024-09-10 17:42:01 MDT</td><td>1480.1</td><td>0.90551</td><td>4.296243</td><td>5</td><td>0.859249</td><td>2.267271</td><td>2.8</td><td>0.80974</td><td>null</td></tr></tbody></table></div>"
      ],
      "text/plain": [
       "shape: (5, 15)\n",
       "┌───────┬────────┬─────────────┬───────────┬───┬────────────┬────────────┬────────────┬────────────┐\n",
       "│ index ┆ course ┆ distance_2d ┆ latitude  ┆ … ┆ rolling_tr ┆ rolling_el ┆ rolling_ve ┆ rolling_be │\n",
       "│ ---   ┆ ---    ┆ ---         ┆ ---       ┆   ┆ avelled    ┆ apsed      ┆ locity     ┆ tween      │\n",
       "│ u32   ┆ cat    ┆ f64         ┆ f64       ┆   ┆ ---        ┆ ---        ┆ ---        ┆ ---        │\n",
       "│       ┆        ┆             ┆           ┆   ┆ f64        ┆ f64        ┆ f64        ┆ f64        │\n",
       "╞═══════╪════════╪═════════════╪═══════════╪═══╪════════════╪════════════╪════════════╪════════════╡\n",
       "│ 0     ┆ Maple  ┆ 0.0         ┆ 40.879161 ┆ … ┆ null       ┆ null       ┆ null       ┆ null       │\n",
       "│       ┆ Syrup  ┆             ┆           ┆   ┆            ┆            ┆            ┆            │\n",
       "│ 1     ┆ Maple  ┆ 1.210883    ┆ 40.879167 ┆ … ┆ null       ┆ null       ┆ null       ┆ null       │\n",
       "│       ┆ Syrup  ┆             ┆           ┆   ┆            ┆            ┆            ┆            │\n",
       "│ 2     ┆ Maple  ┆ 1.227612    ┆ 40.879172 ┆ … ┆ null       ┆ null       ┆ null       ┆ null       │\n",
       "│       ┆ Syrup  ┆             ┆           ┆   ┆            ┆            ┆            ┆            │\n",
       "│ 3     ┆ Maple  ┆ 0.952238    ┆ 40.879174 ┆ … ┆ null       ┆ null       ┆ null       ┆ null       │\n",
       "│       ┆ Syrup  ┆             ┆           ┆   ┆            ┆            ┆            ┆            │\n",
       "│ 4     ┆ Maple  ┆ 0.90551     ┆ 40.879177 ┆ … ┆ 2.267271   ┆ 2.8        ┆ 0.80974    ┆ null       │\n",
       "│       ┆ Syrup  ┆             ┆           ┆   ┆            ┆            ┆            ┆            │\n",
       "└───────┴────────┴─────────────┴───────────┴───┴────────────┴────────────┴────────────┴────────────┘"
      ]
     },
     "execution_count": 95,
     "metadata": {},
     "output_type": "execute_result"
    }
   ],
   "source": [
    "# change .select to .filter to view the rows\n",
    "(df\n",
    " .select(cols)\n",
    " .with_row_index()\n",
    " .with_columns(pl.col('elapsed').cast(pl.Int16),\n",
    "               course=pl.lit('Maple Syrup').cast(pl.Categorical),\n",
    "               time=pl.col('time').dt.convert_time_zone('America/Denver'))               \n",
    " .filter(pl.col('rolling_between').is_null())\n",
    ")"
   ]
  },
  {
   "cell_type": "code",
   "execution_count": 96,
   "metadata": {},
   "outputs": [
    {
     "data": {
      "text/html": [
       "<div><style>\n",
       ".dataframe > thead > tr,\n",
       ".dataframe > tbody > tr {\n",
       "  text-align: right;\n",
       "  white-space: pre-wrap;\n",
       "}\n",
       "</style>\n",
       "<small>shape: (1, 12)</small><table border=\"1\" class=\"dataframe\"><thead><tr><th>distance_2d</th><th>latitude</th><th>longitude</th><th>elevation</th><th>speed_between</th><th>travelled</th><th>elapsed</th><th>avg_velocity</th><th>rolling_travelled</th><th>rolling_elapsed</th><th>rolling_velocity</th><th>rolling_between</th></tr><tr><td>u32</td><td>u32</td><td>u32</td><td>u32</td><td>u32</td><td>u32</td><td>u32</td><td>u32</td><td>u32</td><td>u32</td><td>u32</td><td>u32</td></tr></thead><tbody><tr><td>0</td><td>0</td><td>0</td><td>0</td><td>0</td><td>0</td><td>0</td><td>1</td><td>0</td><td>0</td><td>0</td><td>0</td></tr></tbody></table></div>"
      ],
      "text/plain": [
       "shape: (1, 12)\n",
       "┌───────────┬──────────┬───────────┬───────────┬───┬───────────┬───────────┬───────────┬───────────┐\n",
       "│ distance_ ┆ latitude ┆ longitude ┆ elevation ┆ … ┆ rolling_t ┆ rolling_e ┆ rolling_v ┆ rolling_b │\n",
       "│ 2d        ┆ ---      ┆ ---       ┆ ---       ┆   ┆ ravelled  ┆ lapsed    ┆ elocity   ┆ etween    │\n",
       "│ ---       ┆ u32      ┆ u32       ┆ u32       ┆   ┆ ---       ┆ ---       ┆ ---       ┆ ---       │\n",
       "│ u32       ┆          ┆           ┆           ┆   ┆ u32       ┆ u32       ┆ u32       ┆ u32       │\n",
       "╞═══════════╪══════════╪═══════════╪═══════════╪═══╪═══════════╪═══════════╪═══════════╪═══════════╡\n",
       "│ 0         ┆ 0        ┆ 0         ┆ 0         ┆ … ┆ 0         ┆ 0         ┆ 0         ┆ 0         │\n",
       "└───────────┴──────────┴───────────┴───────────┴───┴───────────┴───────────┴───────────┴───────────┘"
      ]
     },
     "execution_count": 96,
     "metadata": {},
     "output_type": "execute_result"
    }
   ],
   "source": [
    "# what about nans?\n",
    "# note that nan and null are different in polars\n",
    "# nan means not a number\n",
    "# null means missing data\n",
    "(df\n",
    " .select(cols)\n",
    " .with_columns(pl.col('elapsed').cast(pl.Int16),\n",
    "               course=pl.lit('Maple Syrup').cast(pl.Categorical),\n",
    "               time=pl.col('time').dt.convert_time_zone('America/Denver'))               \n",
    " .select(cs.numeric().is_nan().sum())\n",
    ")"
   ]
  },
  {
   "cell_type": "code",
   "execution_count": 97,
   "metadata": {},
   "outputs": [
    {
     "data": {
      "text/html": [
       "<div><style>\n",
       ".dataframe > thead > tr,\n",
       ".dataframe > tbody > tr {\n",
       "  text-align: right;\n",
       "  white-space: pre-wrap;\n",
       "}\n",
       "</style>\n",
       "<small>shape: (10_430, 1)</small><table border=\"1\" class=\"dataframe\"><thead><tr><th>avg_velocity</th></tr><tr><td>bool</td></tr></thead><tbody><tr><td>true</td></tr><tr><td>false</td></tr><tr><td>false</td></tr><tr><td>false</td></tr><tr><td>false</td></tr><tr><td>&hellip;</td></tr><tr><td>false</td></tr><tr><td>false</td></tr><tr><td>false</td></tr><tr><td>false</td></tr><tr><td>false</td></tr></tbody></table></div>"
      ],
      "text/plain": [
       "shape: (10_430, 1)\n",
       "┌──────────────┐\n",
       "│ avg_velocity │\n",
       "│ ---          │\n",
       "│ bool         │\n",
       "╞══════════════╡\n",
       "│ true         │\n",
       "│ false        │\n",
       "│ false        │\n",
       "│ false        │\n",
       "│ false        │\n",
       "│ …            │\n",
       "│ false        │\n",
       "│ false        │\n",
       "│ false        │\n",
       "│ false        │\n",
       "│ false        │\n",
       "└──────────────┘"
      ]
     },
     "execution_count": 97,
     "metadata": {},
     "output_type": "execute_result"
    }
   ],
   "source": [
    "(df\n",
    " .select(cols)\n",
    " .with_columns(pl.col('elapsed').cast(pl.Int16),\n",
    "               course=pl.lit('Maple Syrup').cast(pl.Categorical),\n",
    "               time=pl.col('time').dt.convert_time_zone('America/Denver'))               \n",
    " .select(pl.col('avg_velocity').is_nan())\n",
    ")"
   ]
  },
  {
   "cell_type": "code",
   "execution_count": 98,
   "metadata": {
    "scrolled": true
   },
   "outputs": [
    {
     "data": {
      "text/html": [
       "<div><style>\n",
       ".dataframe > thead > tr,\n",
       ".dataframe > tbody > tr {\n",
       "  text-align: right;\n",
       "  white-space: pre-wrap;\n",
       "}\n",
       "</style>\n",
       "<small>shape: (1, 15)</small><table border=\"1\" class=\"dataframe\"><thead><tr><th>index</th><th>course</th><th>distance_2d</th><th>latitude</th><th>longitude</th><th>time</th><th>elevation</th><th>speed_between</th><th>travelled</th><th>elapsed</th><th>avg_velocity</th><th>rolling_travelled</th><th>rolling_elapsed</th><th>rolling_velocity</th><th>rolling_between</th></tr><tr><td>u32</td><td>cat</td><td>f64</td><td>f64</td><td>f64</td><td>datetime[μs, America/Denver]</td><td>f64</td><td>f64</td><td>f64</td><td>i16</td><td>f64</td><td>f64</td><td>f64</td><td>f64</td><td>f64</td></tr></thead><tbody><tr><td>0</td><td>&quot;Maple Syrup&quot;</td><td>0.0</td><td>40.879161</td><td>-111.855169</td><td>2024-09-10 17:41:56 MDT</td><td>1480.0</td><td>null</td><td>0.0</td><td>0</td><td>NaN</td><td>null</td><td>null</td><td>null</td><td>null</td></tr></tbody></table></div>"
      ],
      "text/plain": [
       "shape: (1, 15)\n",
       "┌───────┬────────┬─────────────┬───────────┬───┬────────────┬────────────┬────────────┬────────────┐\n",
       "│ index ┆ course ┆ distance_2d ┆ latitude  ┆ … ┆ rolling_tr ┆ rolling_el ┆ rolling_ve ┆ rolling_be │\n",
       "│ ---   ┆ ---    ┆ ---         ┆ ---       ┆   ┆ avelled    ┆ apsed      ┆ locity     ┆ tween      │\n",
       "│ u32   ┆ cat    ┆ f64         ┆ f64       ┆   ┆ ---        ┆ ---        ┆ ---        ┆ ---        │\n",
       "│       ┆        ┆             ┆           ┆   ┆ f64        ┆ f64        ┆ f64        ┆ f64        │\n",
       "╞═══════╪════════╪═════════════╪═══════════╪═══╪════════════╪════════════╪════════════╪════════════╡\n",
       "│ 0     ┆ Maple  ┆ 0.0         ┆ 40.879161 ┆ … ┆ null       ┆ null       ┆ null       ┆ null       │\n",
       "│       ┆ Syrup  ┆             ┆           ┆   ┆            ┆            ┆            ┆            │\n",
       "└───────┴────────┴─────────────┴───────────┴───┴────────────┴────────────┴────────────┴────────────┘"
      ]
     },
     "execution_count": 98,
     "metadata": {},
     "output_type": "execute_result"
    }
   ],
   "source": [
    "(df\n",
    " .select(cols)\n",
    " .with_row_index()  \n",
    " .with_columns(pl.col('elapsed').cast(pl.Int16),\n",
    "               course=pl.lit('Maple Syrup').cast(pl.Categorical),\n",
    "               time=pl.col('time').dt.convert_time_zone('America/Denver'))               \n",
    " .filter(pl.col('avg_velocity').is_nan())\n",
    ")"
   ]
  },
  {
   "cell_type": "code",
   "execution_count": 99,
   "metadata": {},
   "outputs": [
    {
     "data": {
      "text/html": [
       "<div><style>\n",
       ".dataframe > thead > tr,\n",
       ".dataframe > tbody > tr {\n",
       "  text-align: right;\n",
       "  white-space: pre-wrap;\n",
       "}\n",
       "</style>\n",
       "<small>shape: (10_430, 15)</small><table border=\"1\" class=\"dataframe\"><thead><tr><th>index</th><th>course</th><th>distance_2d</th><th>latitude</th><th>longitude</th><th>time</th><th>elevation</th><th>speed_between</th><th>travelled</th><th>elapsed</th><th>avg_velocity</th><th>rolling_travelled</th><th>rolling_elapsed</th><th>rolling_velocity</th><th>rolling_between</th></tr><tr><td>u32</td><td>cat</td><td>f64</td><td>f64</td><td>f64</td><td>datetime[μs, America/Denver]</td><td>f64</td><td>f64</td><td>f64</td><td>i16</td><td>f64</td><td>f64</td><td>f64</td><td>f64</td><td>f64</td></tr></thead><tbody><tr><td>0</td><td>&quot;Maple Syrup&quot;</td><td>0.0</td><td>40.879161</td><td>-111.855169</td><td>2024-09-10 17:41:56 MDT</td><td>1480.0</td><td>null</td><td>0.0</td><td>0</td><td>NaN</td><td>null</td><td>null</td><td>null</td><td>null</td></tr><tr><td>1</td><td>&quot;Maple Syrup&quot;</td><td>1.210883</td><td>40.879167</td><td>-111.855181</td><td>2024-09-10 17:41:58 MDT</td><td>1480.1</td><td>0.607503</td><td>1.210883</td><td>2</td><td>0.605442</td><td>null</td><td>null</td><td>null</td><td>null</td></tr><tr><td>2</td><td>&quot;Maple Syrup&quot;</td><td>1.227612</td><td>40.879172</td><td>-111.855194</td><td>2024-09-10 17:41:59 MDT</td><td>1480.1</td><td>1.227612</td><td>2.438495</td><td>3</td><td>0.812832</td><td>null</td><td>null</td><td>null</td><td>null</td></tr><tr><td>3</td><td>&quot;Maple Syrup&quot;</td><td>0.952238</td><td>40.879174</td><td>-111.855205</td><td>2024-09-10 17:42:00 MDT</td><td>1480.1</td><td>0.952238</td><td>3.390733</td><td>4</td><td>0.847683</td><td>null</td><td>null</td><td>null</td><td>null</td></tr><tr><td>4</td><td>&quot;Maple Syrup&quot;</td><td>0.90551</td><td>40.879177</td><td>-111.855215</td><td>2024-09-10 17:42:01 MDT</td><td>1480.1</td><td>0.90551</td><td>4.296243</td><td>5</td><td>0.859249</td><td>2.267271</td><td>2.8</td><td>0.80974</td><td>null</td></tr><tr><td>&hellip;</td><td>&hellip;</td><td>&hellip;</td><td>&hellip;</td><td>&hellip;</td><td>&hellip;</td><td>&hellip;</td><td>&hellip;</td><td>&hellip;</td><td>&hellip;</td><td>&hellip;</td><td>&hellip;</td><td>&hellip;</td><td>&hellip;</td><td>&hellip;</td></tr><tr><td>10425</td><td>&quot;Maple Syrup&quot;</td><td>4.085147</td><td>40.857847</td><td>-111.823899</td><td>2024-09-10 20:39:58 MDT</td><td>1696.8</td><td>4.086371</td><td>18640.85135</td><td>10682</td><td>1.745071</td><td>18634.60004</td><td>10680.0</td><td>1.744813</td><td>3.177668</td></tr><tr><td>10426</td><td>&quot;Maple Syrup&quot;</td><td>1.535726</td><td>40.857852</td><td>-111.823916</td><td>2024-09-10 20:39:59 MDT</td><td>1696.8</td><td>1.535726</td><td>18642.387076</td><td>10683</td><td>1.745052</td><td>18637.420852</td><td>10681.0</td><td>1.744913</td><td>2.821613</td></tr><tr><td>10427</td><td>&quot;Maple Syrup&quot;</td><td>3.156134</td><td>40.857869</td><td>-111.823946</td><td>2024-09-10 20:40:00 MDT</td><td>1696.7</td><td>3.157718</td><td>18645.54321</td><td>10684</td><td>1.745184</td><td>18640.220738</td><td>10682.0</td><td>1.745012</td><td>2.800696</td></tr><tr><td>10428</td><td>&quot;Maple Syrup&quot;</td><td>3.626488</td><td>40.857889</td><td>-111.82398</td><td>2024-09-10 20:40:01 MDT</td><td>1696.5</td><td>3.631999</td><td>18649.169698</td><td>10685</td><td>1.74536</td><td>18642.943507</td><td>10683.0</td><td>1.745104</td><td>2.724433</td></tr><tr><td>10429</td><td>&quot;Maple Syrup&quot;</td><td>3.760829</td><td>40.857909</td><td>-111.824016</td><td>2024-09-10 20:40:02 MDT</td><td>1696.3</td><td>3.766144</td><td>18652.930528</td><td>10686</td><td>1.745548</td><td>18646.176372</td><td>10684.0</td><td>1.745243</td><td>3.235592</td></tr></tbody></table></div>"
      ],
      "text/plain": [
       "shape: (10_430, 15)\n",
       "┌───────┬────────┬─────────────┬───────────┬───┬────────────┬────────────┬────────────┬────────────┐\n",
       "│ index ┆ course ┆ distance_2d ┆ latitude  ┆ … ┆ rolling_tr ┆ rolling_el ┆ rolling_ve ┆ rolling_be │\n",
       "│ ---   ┆ ---    ┆ ---         ┆ ---       ┆   ┆ avelled    ┆ apsed      ┆ locity     ┆ tween      │\n",
       "│ u32   ┆ cat    ┆ f64         ┆ f64       ┆   ┆ ---        ┆ ---        ┆ ---        ┆ ---        │\n",
       "│       ┆        ┆             ┆           ┆   ┆ f64        ┆ f64        ┆ f64        ┆ f64        │\n",
       "╞═══════╪════════╪═════════════╪═══════════╪═══╪════════════╪════════════╪════════════╪════════════╡\n",
       "│ 0     ┆ Maple  ┆ 0.0         ┆ 40.879161 ┆ … ┆ null       ┆ null       ┆ null       ┆ null       │\n",
       "│       ┆ Syrup  ┆             ┆           ┆   ┆            ┆            ┆            ┆            │\n",
       "│ 1     ┆ Maple  ┆ 1.210883    ┆ 40.879167 ┆ … ┆ null       ┆ null       ┆ null       ┆ null       │\n",
       "│       ┆ Syrup  ┆             ┆           ┆   ┆            ┆            ┆            ┆            │\n",
       "│ 2     ┆ Maple  ┆ 1.227612    ┆ 40.879172 ┆ … ┆ null       ┆ null       ┆ null       ┆ null       │\n",
       "│       ┆ Syrup  ┆             ┆           ┆   ┆            ┆            ┆            ┆            │\n",
       "│ 3     ┆ Maple  ┆ 0.952238    ┆ 40.879174 ┆ … ┆ null       ┆ null       ┆ null       ┆ null       │\n",
       "│       ┆ Syrup  ┆             ┆           ┆   ┆            ┆            ┆            ┆            │\n",
       "│ 4     ┆ Maple  ┆ 0.90551     ┆ 40.879177 ┆ … ┆ 2.267271   ┆ 2.8        ┆ 0.80974    ┆ null       │\n",
       "│       ┆ Syrup  ┆             ┆           ┆   ┆            ┆            ┆            ┆            │\n",
       "│ …     ┆ …      ┆ …           ┆ …         ┆ … ┆ …          ┆ …          ┆ …          ┆ …          │\n",
       "│ 10425 ┆ Maple  ┆ 4.085147    ┆ 40.857847 ┆ … ┆ 18634.6000 ┆ 10680.0    ┆ 1.744813   ┆ 3.177668   │\n",
       "│       ┆ Syrup  ┆             ┆           ┆   ┆ 4          ┆            ┆            ┆            │\n",
       "│ 10426 ┆ Maple  ┆ 1.535726    ┆ 40.857852 ┆ … ┆ 18637.4208 ┆ 10681.0    ┆ 1.744913   ┆ 2.821613   │\n",
       "│       ┆ Syrup  ┆             ┆           ┆   ┆ 52         ┆            ┆            ┆            │\n",
       "│ 10427 ┆ Maple  ┆ 3.156134    ┆ 40.857869 ┆ … ┆ 18640.2207 ┆ 10682.0    ┆ 1.745012   ┆ 2.800696   │\n",
       "│       ┆ Syrup  ┆             ┆           ┆   ┆ 38         ┆            ┆            ┆            │\n",
       "│ 10428 ┆ Maple  ┆ 3.626488    ┆ 40.857889 ┆ … ┆ 18642.9435 ┆ 10683.0    ┆ 1.745104   ┆ 2.724433   │\n",
       "│       ┆ Syrup  ┆             ┆           ┆   ┆ 07         ┆            ┆            ┆            │\n",
       "│ 10429 ┆ Maple  ┆ 3.760829    ┆ 40.857909 ┆ … ┆ 18646.1763 ┆ 10684.0    ┆ 1.745243   ┆ 3.235592   │\n",
       "│       ┆ Syrup  ┆             ┆           ┆   ┆ 72         ┆            ┆            ┆            │\n",
       "└───────┴────────┴─────────────┴───────────┴───┴────────────┴────────────┴────────────┴────────────┘"
      ]
     },
     "execution_count": 99,
     "metadata": {},
     "output_type": "execute_result"
    }
   ],
   "source": [
    "# a glorious function\n",
    "\n",
    "def tweak_gpx(df_):\n",
    "    return (df_\n",
    "        .select(cols)\n",
    "        .with_row_index()  \n",
    "        .with_columns(pl.col('elapsed').cast(pl.Int16),\n",
    "                    course=pl.lit('Maple Syrup').cast(pl.Categorical),\n",
    "                    time=pl.col('time').dt.convert_time_zone('America/Denver'))               \n",
    "        )\n",
    "\n",
    "tweak_gpx(df)"
   ]
  },
  {
   "cell_type": "code",
   "execution_count": null,
   "metadata": {
    "lines_to_next_cell": 2,
    "pycharm": {
     "name": "#%%\n"
    }
   },
   "outputs": [],
   "source": []
  },
  {
   "cell_type": "code",
   "execution_count": null,
   "metadata": {
    "lines_to_next_cell": 0,
    "pycharm": {
     "name": "#%%\n"
    }
   },
   "outputs": [],
   "source": []
  },
  {
   "cell_type": "code",
   "execution_count": null,
   "metadata": {},
   "outputs": [],
   "source": []
  },
  {
   "cell_type": "code",
   "execution_count": null,
   "metadata": {},
   "outputs": [],
   "source": []
  },
  {
   "cell_type": "markdown",
   "metadata": {
    "pycharm": {
     "name": "#%% md\n"
    }
   },
   "source": [
    "## Chain\n",
    "\n",
    "Chaining is also called \"flow\" programming. Rather than making intermediate variables, just leverage the fact that most operations return a new object and work on that.\n",
    "\n",
    "The chain should read like a recipe of ordered steps.\n",
    "\n",
    "(BTW, this is actually what we did above.)"
   ]
  },
  {
   "cell_type": "code",
   "execution_count": 100,
   "metadata": {},
   "outputs": [],
   "source": [
    "# a glorious function\n",
    "\n",
    "def tweak_gpx(df_):\n",
    "    return (df_\n",
    "        .select(cols)\n",
    "        .with_row_index()  \n",
    "        .with_columns(pl.col('elapsed').cast(pl.Int16),\n",
    "                    course=pl.lit('Maple Syrup').cast(pl.Categorical),\n",
    "                    time=pl.col('time').dt.convert_time_zone('America/Denver'))               \n",
    "        )\n",
    "\n",
    "tweak_gpx(df).write_parquet('Face_plant.parquet')"
   ]
  },
  {
   "cell_type": "code",
   "execution_count": 101,
   "metadata": {},
   "outputs": [
    {
     "data": {
      "text/html": [
       "<h4>NAIVE QUERY PLAN</h4><p>run <b>LazyFrame.show_graph()</b> to see the optimized version</p><?xml version=\"1.0\" encoding=\"UTF-8\" standalone=\"no\"?>\n",
       "<!DOCTYPE svg PUBLIC \"-//W3C//DTD SVG 1.1//EN\"\n",
       " \"http://www.w3.org/Graphics/SVG/1.1/DTD/svg11.dtd\">\n",
       "<!-- Generated by graphviz version 12.1.2 (20240928.0832)\n",
       " -->\n",
       "<!-- Title: polars_query Pages: 1 -->\n",
       "<svg width=\"1019pt\" height=\"265pt\"\n",
       " viewBox=\"0.00 0.00 1019.25 265.00\" xmlns=\"http://www.w3.org/2000/svg\" xmlns:xlink=\"http://www.w3.org/1999/xlink\">\n",
       "<g id=\"graph0\" class=\"graph\" transform=\"scale(1 1) rotate(0) translate(4 261)\">\n",
       "<title>polars_query</title>\n",
       "<polygon fill=\"white\" stroke=\"none\" points=\"-4,4 -4,-261 1015.25,-261 1015.25,4 -4,4\"/>\n",
       "<!-- p1 -->\n",
       "<g id=\"node1\" class=\"node\">\n",
       "<title>p1</title>\n",
       "<polygon fill=\"none\" stroke=\"black\" points=\"1011.25,-257 0,-257 0,-221 1011.25,-221 1011.25,-257\"/>\n",
       "<text text-anchor=\"middle\" x=\"505.63\" y=\"-233.95\" font-family=\"Times,serif\" font-size=\"14.00\">WITH COLUMNS [col(&quot;elapsed&quot;).strict_cast(Int16), String(Maple Syrup).strict_cast(Categorical(None, Physical)).alias(&quot;course&quot;), col(&quot;time&quot;).dt.convert_time_zone().alias(&quot;time&quot;)]</text>\n",
       "</g>\n",
       "<!-- p2 -->\n",
       "<g id=\"node2\" class=\"node\">\n",
       "<title>p2</title>\n",
       "<polygon fill=\"none\" stroke=\"black\" points=\"554.12,-185 457.13,-185 457.13,-149 554.12,-149 554.12,-185\"/>\n",
       "<text text-anchor=\"middle\" x=\"505.63\" y=\"-161.95\" font-family=\"Times,serif\" font-size=\"14.00\">ROW_INDEX</text>\n",
       "</g>\n",
       "<!-- p1&#45;&#45;p2 -->\n",
       "<g id=\"edge1\" class=\"edge\">\n",
       "<title>p1&#45;&#45;p2</title>\n",
       "<path fill=\"none\" stroke=\"black\" d=\"M505.63,-220.7C505.63,-209.85 505.63,-195.92 505.63,-185.1\"/>\n",
       "</g>\n",
       "<!-- p3 -->\n",
       "<g id=\"node3\" class=\"node\">\n",
       "<title>p3</title>\n",
       "<polygon fill=\"none\" stroke=\"black\" points=\"534.25,-113 477,-113 477,-77 534.25,-77 534.25,-113\"/>\n",
       "<text text-anchor=\"middle\" x=\"505.63\" y=\"-89.95\" font-family=\"Times,serif\" font-size=\"14.00\">π 14/14</text>\n",
       "</g>\n",
       "<!-- p2&#45;&#45;p3 -->\n",
       "<g id=\"edge2\" class=\"edge\">\n",
       "<title>p2&#45;&#45;p3</title>\n",
       "<path fill=\"none\" stroke=\"black\" d=\"M505.63,-148.7C505.63,-137.85 505.63,-123.92 505.63,-113.1\"/>\n",
       "</g>\n",
       "<!-- p4 -->\n",
       "<g id=\"node4\" class=\"node\">\n",
       "<title>p4</title>\n",
       "<polygon fill=\"none\" stroke=\"black\" points=\"612.25,-41 399,-41 399,0 612.25,0 612.25,-41\"/>\n",
       "<text text-anchor=\"middle\" x=\"505.63\" y=\"-23.7\" font-family=\"Times,serif\" font-size=\"14.00\">Parquet SCAN [Face_plant.parquet]</text>\n",
       "<text text-anchor=\"middle\" x=\"505.63\" y=\"-7.2\" font-family=\"Times,serif\" font-size=\"14.00\">π */15;</text>\n",
       "</g>\n",
       "<!-- p3&#45;&#45;p4 -->\n",
       "<g id=\"edge3\" class=\"edge\">\n",
       "<title>p3&#45;&#45;p4</title>\n",
       "<path fill=\"none\" stroke=\"black\" d=\"M505.63,-76.82C505.63,-66.18 505.63,-52.49 505.63,-41.38\"/>\n",
       "</g>\n",
       "</g>\n",
       "</svg>\n"
      ],
      "text/plain": [
       "<LazyFrame at 0x168C7A680>"
      ]
     },
     "execution_count": 101,
     "metadata": {},
     "output_type": "execute_result"
    }
   ],
   "source": [
    "# laziness\n",
    "gpx_lazy = pl.scan_parquet('Face_plant.parquet') \n",
    "tweak_gpx(gpx_lazy)"
   ]
  },
  {
   "cell_type": "code",
   "execution_count": 102,
   "metadata": {},
   "outputs": [
    {
     "data": {
      "text/html": [
       "<div><style>\n",
       ".dataframe > thead > tr,\n",
       ".dataframe > tbody > tr {\n",
       "  text-align: right;\n",
       "  white-space: pre-wrap;\n",
       "}\n",
       "</style>\n",
       "<small>shape: (10_430, 15)</small><table border=\"1\" class=\"dataframe\"><thead><tr><th>index</th><th>course</th><th>distance_2d</th><th>latitude</th><th>longitude</th><th>time</th><th>elevation</th><th>speed_between</th><th>travelled</th><th>elapsed</th><th>avg_velocity</th><th>rolling_travelled</th><th>rolling_elapsed</th><th>rolling_velocity</th><th>rolling_between</th></tr><tr><td>u32</td><td>cat</td><td>f64</td><td>f64</td><td>f64</td><td>datetime[μs, America/Denver]</td><td>f64</td><td>f64</td><td>f64</td><td>i16</td><td>f64</td><td>f64</td><td>f64</td><td>f64</td><td>f64</td></tr></thead><tbody><tr><td>0</td><td>&quot;Maple Syrup&quot;</td><td>0.0</td><td>40.879161</td><td>-111.855169</td><td>2024-09-10 17:41:56 MDT</td><td>1480.0</td><td>null</td><td>0.0</td><td>0</td><td>NaN</td><td>null</td><td>null</td><td>null</td><td>null</td></tr><tr><td>1</td><td>&quot;Maple Syrup&quot;</td><td>1.210883</td><td>40.879167</td><td>-111.855181</td><td>2024-09-10 17:41:58 MDT</td><td>1480.1</td><td>0.607503</td><td>1.210883</td><td>2</td><td>0.605442</td><td>null</td><td>null</td><td>null</td><td>null</td></tr><tr><td>2</td><td>&quot;Maple Syrup&quot;</td><td>1.227612</td><td>40.879172</td><td>-111.855194</td><td>2024-09-10 17:41:59 MDT</td><td>1480.1</td><td>1.227612</td><td>2.438495</td><td>3</td><td>0.812832</td><td>null</td><td>null</td><td>null</td><td>null</td></tr><tr><td>3</td><td>&quot;Maple Syrup&quot;</td><td>0.952238</td><td>40.879174</td><td>-111.855205</td><td>2024-09-10 17:42:00 MDT</td><td>1480.1</td><td>0.952238</td><td>3.390733</td><td>4</td><td>0.847683</td><td>null</td><td>null</td><td>null</td><td>null</td></tr><tr><td>4</td><td>&quot;Maple Syrup&quot;</td><td>0.90551</td><td>40.879177</td><td>-111.855215</td><td>2024-09-10 17:42:01 MDT</td><td>1480.1</td><td>0.90551</td><td>4.296243</td><td>5</td><td>0.859249</td><td>2.267271</td><td>2.8</td><td>0.80974</td><td>null</td></tr><tr><td>&hellip;</td><td>&hellip;</td><td>&hellip;</td><td>&hellip;</td><td>&hellip;</td><td>&hellip;</td><td>&hellip;</td><td>&hellip;</td><td>&hellip;</td><td>&hellip;</td><td>&hellip;</td><td>&hellip;</td><td>&hellip;</td><td>&hellip;</td><td>&hellip;</td></tr><tr><td>10425</td><td>&quot;Maple Syrup&quot;</td><td>4.085147</td><td>40.857847</td><td>-111.823899</td><td>2024-09-10 20:39:58 MDT</td><td>1696.8</td><td>4.086371</td><td>18640.85135</td><td>10682</td><td>1.745071</td><td>18634.60004</td><td>10680.0</td><td>1.744813</td><td>3.177668</td></tr><tr><td>10426</td><td>&quot;Maple Syrup&quot;</td><td>1.535726</td><td>40.857852</td><td>-111.823916</td><td>2024-09-10 20:39:59 MDT</td><td>1696.8</td><td>1.535726</td><td>18642.387076</td><td>10683</td><td>1.745052</td><td>18637.420852</td><td>10681.0</td><td>1.744913</td><td>2.821613</td></tr><tr><td>10427</td><td>&quot;Maple Syrup&quot;</td><td>3.156134</td><td>40.857869</td><td>-111.823946</td><td>2024-09-10 20:40:00 MDT</td><td>1696.7</td><td>3.157718</td><td>18645.54321</td><td>10684</td><td>1.745184</td><td>18640.220738</td><td>10682.0</td><td>1.745012</td><td>2.800696</td></tr><tr><td>10428</td><td>&quot;Maple Syrup&quot;</td><td>3.626488</td><td>40.857889</td><td>-111.82398</td><td>2024-09-10 20:40:01 MDT</td><td>1696.5</td><td>3.631999</td><td>18649.169698</td><td>10685</td><td>1.74536</td><td>18642.943507</td><td>10683.0</td><td>1.745104</td><td>2.724433</td></tr><tr><td>10429</td><td>&quot;Maple Syrup&quot;</td><td>3.760829</td><td>40.857909</td><td>-111.824016</td><td>2024-09-10 20:40:02 MDT</td><td>1696.3</td><td>3.766144</td><td>18652.930528</td><td>10686</td><td>1.745548</td><td>18646.176372</td><td>10684.0</td><td>1.745243</td><td>3.235592</td></tr></tbody></table></div>"
      ],
      "text/plain": [
       "shape: (10_430, 15)\n",
       "┌───────┬────────┬─────────────┬───────────┬───┬────────────┬────────────┬────────────┬────────────┐\n",
       "│ index ┆ course ┆ distance_2d ┆ latitude  ┆ … ┆ rolling_tr ┆ rolling_el ┆ rolling_ve ┆ rolling_be │\n",
       "│ ---   ┆ ---    ┆ ---         ┆ ---       ┆   ┆ avelled    ┆ apsed      ┆ locity     ┆ tween      │\n",
       "│ u32   ┆ cat    ┆ f64         ┆ f64       ┆   ┆ ---        ┆ ---        ┆ ---        ┆ ---        │\n",
       "│       ┆        ┆             ┆           ┆   ┆ f64        ┆ f64        ┆ f64        ┆ f64        │\n",
       "╞═══════╪════════╪═════════════╪═══════════╪═══╪════════════╪════════════╪════════════╪════════════╡\n",
       "│ 0     ┆ Maple  ┆ 0.0         ┆ 40.879161 ┆ … ┆ null       ┆ null       ┆ null       ┆ null       │\n",
       "│       ┆ Syrup  ┆             ┆           ┆   ┆            ┆            ┆            ┆            │\n",
       "│ 1     ┆ Maple  ┆ 1.210883    ┆ 40.879167 ┆ … ┆ null       ┆ null       ┆ null       ┆ null       │\n",
       "│       ┆ Syrup  ┆             ┆           ┆   ┆            ┆            ┆            ┆            │\n",
       "│ 2     ┆ Maple  ┆ 1.227612    ┆ 40.879172 ┆ … ┆ null       ┆ null       ┆ null       ┆ null       │\n",
       "│       ┆ Syrup  ┆             ┆           ┆   ┆            ┆            ┆            ┆            │\n",
       "│ 3     ┆ Maple  ┆ 0.952238    ┆ 40.879174 ┆ … ┆ null       ┆ null       ┆ null       ┆ null       │\n",
       "│       ┆ Syrup  ┆             ┆           ┆   ┆            ┆            ┆            ┆            │\n",
       "│ 4     ┆ Maple  ┆ 0.90551     ┆ 40.879177 ┆ … ┆ 2.267271   ┆ 2.8        ┆ 0.80974    ┆ null       │\n",
       "│       ┆ Syrup  ┆             ┆           ┆   ┆            ┆            ┆            ┆            │\n",
       "│ …     ┆ …      ┆ …           ┆ …         ┆ … ┆ …          ┆ …          ┆ …          ┆ …          │\n",
       "│ 10425 ┆ Maple  ┆ 4.085147    ┆ 40.857847 ┆ … ┆ 18634.6000 ┆ 10680.0    ┆ 1.744813   ┆ 3.177668   │\n",
       "│       ┆ Syrup  ┆             ┆           ┆   ┆ 4          ┆            ┆            ┆            │\n",
       "│ 10426 ┆ Maple  ┆ 1.535726    ┆ 40.857852 ┆ … ┆ 18637.4208 ┆ 10681.0    ┆ 1.744913   ┆ 2.821613   │\n",
       "│       ┆ Syrup  ┆             ┆           ┆   ┆ 52         ┆            ┆            ┆            │\n",
       "│ 10427 ┆ Maple  ┆ 3.156134    ┆ 40.857869 ┆ … ┆ 18640.2207 ┆ 10682.0    ┆ 1.745012   ┆ 2.800696   │\n",
       "│       ┆ Syrup  ┆             ┆           ┆   ┆ 38         ┆            ┆            ┆            │\n",
       "│ 10428 ┆ Maple  ┆ 3.626488    ┆ 40.857889 ┆ … ┆ 18642.9435 ┆ 10683.0    ┆ 1.745104   ┆ 2.724433   │\n",
       "│       ┆ Syrup  ┆             ┆           ┆   ┆ 07         ┆            ┆            ┆            │\n",
       "│ 10429 ┆ Maple  ┆ 3.760829    ┆ 40.857909 ┆ … ┆ 18646.1763 ┆ 10684.0    ┆ 1.745243   ┆ 3.235592   │\n",
       "│       ┆ Syrup  ┆             ┆           ┆   ┆ 72         ┆            ┆            ┆            │\n",
       "└───────┴────────┴─────────────┴───────────┴───┴────────────┴────────────┴────────────┴────────────┘"
      ]
     },
     "execution_count": 102,
     "metadata": {},
     "output_type": "execute_result"
    }
   ],
   "source": [
    "# use .collect to generate plan and materialize\n",
    "tweak_gpx(gpx_lazy).collect()"
   ]
  },
  {
   "cell_type": "code",
   "execution_count": 103,
   "metadata": {},
   "outputs": [
    {
     "ename": "TypeError",
     "evalue": "LazyFrame.collect() takes 1 positional argument but 2 were given",
     "output_type": "error",
     "traceback": [
      "\u001b[0;31m---------------------------------------------------------------------------\u001b[0m",
      "\u001b[0;31mTypeError\u001b[0m                                 Traceback (most recent call last)",
      "Cell \u001b[0;32mIn[103], line 2\u001b[0m\n\u001b[1;32m      1\u001b[0m \u001b[38;5;66;03m# using GPU!\u001b[39;00m\n\u001b[0;32m----> 2\u001b[0m \u001b[43mtweak_gpx\u001b[49m\u001b[43m(\u001b[49m\u001b[43mgpx_lazy\u001b[49m\u001b[43m)\u001b[49m\u001b[38;5;241;43m.\u001b[39;49m\u001b[43mcollect\u001b[49m\u001b[43m(\u001b[49m\u001b[38;5;124;43m'\u001b[39;49m\u001b[38;5;124;43mgpu\u001b[39;49m\u001b[38;5;124;43m'\u001b[39;49m\u001b[43m)\u001b[49m\n",
      "\u001b[0;31mTypeError\u001b[0m: LazyFrame.collect() takes 1 positional argument but 2 were given"
     ]
    }
   ],
   "source": [
    "# using GPU!\n",
    "tweak_gpx(gpx_lazy).collect('gpu')"
   ]
  },
  {
   "cell_type": "code",
   "execution_count": 104,
   "metadata": {},
   "outputs": [
    {
     "name": "stdout",
     "output_type": "stream",
     "text": [
      "(10430, 15)\n"
     ]
    },
    {
     "data": {
      "text/html": [
       "<div><style>\n",
       ".dataframe > thead > tr,\n",
       ".dataframe > tbody > tr {\n",
       "  text-align: right;\n",
       "  white-space: pre-wrap;\n",
       "}\n",
       "</style>\n",
       "<small>shape: (10_430, 15)</small><table border=\"1\" class=\"dataframe\"><thead><tr><th>index</th><th>course</th><th>distance_2d</th><th>latitude</th><th>longitude</th><th>time</th><th>elevation</th><th>speed_between</th><th>travelled</th><th>elapsed</th><th>avg_velocity</th><th>rolling_travelled</th><th>rolling_elapsed</th><th>rolling_velocity</th><th>rolling_between</th></tr><tr><td>u32</td><td>cat</td><td>f64</td><td>f64</td><td>f64</td><td>datetime[μs, America/Denver]</td><td>f64</td><td>f64</td><td>f64</td><td>i16</td><td>f64</td><td>f64</td><td>f64</td><td>f64</td><td>f64</td></tr></thead><tbody><tr><td>0</td><td>&quot;Maple Syrup&quot;</td><td>0.0</td><td>40.879161</td><td>-111.855169</td><td>2024-09-10 17:41:56 MDT</td><td>1480.0</td><td>null</td><td>0.0</td><td>0</td><td>NaN</td><td>null</td><td>null</td><td>null</td><td>null</td></tr><tr><td>1</td><td>&quot;Maple Syrup&quot;</td><td>1.210883</td><td>40.879167</td><td>-111.855181</td><td>2024-09-10 17:41:58 MDT</td><td>1480.1</td><td>0.607503</td><td>1.210883</td><td>2</td><td>0.605442</td><td>null</td><td>null</td><td>null</td><td>null</td></tr><tr><td>2</td><td>&quot;Maple Syrup&quot;</td><td>1.227612</td><td>40.879172</td><td>-111.855194</td><td>2024-09-10 17:41:59 MDT</td><td>1480.1</td><td>1.227612</td><td>2.438495</td><td>3</td><td>0.812832</td><td>null</td><td>null</td><td>null</td><td>null</td></tr><tr><td>3</td><td>&quot;Maple Syrup&quot;</td><td>0.952238</td><td>40.879174</td><td>-111.855205</td><td>2024-09-10 17:42:00 MDT</td><td>1480.1</td><td>0.952238</td><td>3.390733</td><td>4</td><td>0.847683</td><td>null</td><td>null</td><td>null</td><td>null</td></tr><tr><td>4</td><td>&quot;Maple Syrup&quot;</td><td>0.90551</td><td>40.879177</td><td>-111.855215</td><td>2024-09-10 17:42:01 MDT</td><td>1480.1</td><td>0.90551</td><td>4.296243</td><td>5</td><td>0.859249</td><td>2.267271</td><td>2.8</td><td>0.80974</td><td>null</td></tr><tr><td>&hellip;</td><td>&hellip;</td><td>&hellip;</td><td>&hellip;</td><td>&hellip;</td><td>&hellip;</td><td>&hellip;</td><td>&hellip;</td><td>&hellip;</td><td>&hellip;</td><td>&hellip;</td><td>&hellip;</td><td>&hellip;</td><td>&hellip;</td><td>&hellip;</td></tr><tr><td>10425</td><td>&quot;Maple Syrup&quot;</td><td>4.085147</td><td>40.857847</td><td>-111.823899</td><td>2024-09-10 20:39:58 MDT</td><td>1696.8</td><td>4.086371</td><td>18640.85135</td><td>10682</td><td>1.745071</td><td>18634.60004</td><td>10680.0</td><td>1.744813</td><td>3.177668</td></tr><tr><td>10426</td><td>&quot;Maple Syrup&quot;</td><td>1.535726</td><td>40.857852</td><td>-111.823916</td><td>2024-09-10 20:39:59 MDT</td><td>1696.8</td><td>1.535726</td><td>18642.387076</td><td>10683</td><td>1.745052</td><td>18637.420852</td><td>10681.0</td><td>1.744913</td><td>2.821613</td></tr><tr><td>10427</td><td>&quot;Maple Syrup&quot;</td><td>3.156134</td><td>40.857869</td><td>-111.823946</td><td>2024-09-10 20:40:00 MDT</td><td>1696.7</td><td>3.157718</td><td>18645.54321</td><td>10684</td><td>1.745184</td><td>18640.220738</td><td>10682.0</td><td>1.745012</td><td>2.800696</td></tr><tr><td>10428</td><td>&quot;Maple Syrup&quot;</td><td>3.626488</td><td>40.857889</td><td>-111.82398</td><td>2024-09-10 20:40:01 MDT</td><td>1696.5</td><td>3.631999</td><td>18649.169698</td><td>10685</td><td>1.74536</td><td>18642.943507</td><td>10683.0</td><td>1.745104</td><td>2.724433</td></tr><tr><td>10429</td><td>&quot;Maple Syrup&quot;</td><td>3.760829</td><td>40.857909</td><td>-111.824016</td><td>2024-09-10 20:40:02 MDT</td><td>1696.3</td><td>3.766144</td><td>18652.930528</td><td>10686</td><td>1.745548</td><td>18646.176372</td><td>10684.0</td><td>1.745243</td><td>3.235592</td></tr></tbody></table></div>"
      ],
      "text/plain": [
       "shape: (10_430, 15)\n",
       "┌───────┬────────┬─────────────┬───────────┬───┬────────────┬────────────┬────────────┬────────────┐\n",
       "│ index ┆ course ┆ distance_2d ┆ latitude  ┆ … ┆ rolling_tr ┆ rolling_el ┆ rolling_ve ┆ rolling_be │\n",
       "│ ---   ┆ ---    ┆ ---         ┆ ---       ┆   ┆ avelled    ┆ apsed      ┆ locity     ┆ tween      │\n",
       "│ u32   ┆ cat    ┆ f64         ┆ f64       ┆   ┆ ---        ┆ ---        ┆ ---        ┆ ---        │\n",
       "│       ┆        ┆             ┆           ┆   ┆ f64        ┆ f64        ┆ f64        ┆ f64        │\n",
       "╞═══════╪════════╪═════════════╪═══════════╪═══╪════════════╪════════════╪════════════╪════════════╡\n",
       "│ 0     ┆ Maple  ┆ 0.0         ┆ 40.879161 ┆ … ┆ null       ┆ null       ┆ null       ┆ null       │\n",
       "│       ┆ Syrup  ┆             ┆           ┆   ┆            ┆            ┆            ┆            │\n",
       "│ 1     ┆ Maple  ┆ 1.210883    ┆ 40.879167 ┆ … ┆ null       ┆ null       ┆ null       ┆ null       │\n",
       "│       ┆ Syrup  ┆             ┆           ┆   ┆            ┆            ┆            ┆            │\n",
       "│ 2     ┆ Maple  ┆ 1.227612    ┆ 40.879172 ┆ … ┆ null       ┆ null       ┆ null       ┆ null       │\n",
       "│       ┆ Syrup  ┆             ┆           ┆   ┆            ┆            ┆            ┆            │\n",
       "│ 3     ┆ Maple  ┆ 0.952238    ┆ 40.879174 ┆ … ┆ null       ┆ null       ┆ null       ┆ null       │\n",
       "│       ┆ Syrup  ┆             ┆           ┆   ┆            ┆            ┆            ┆            │\n",
       "│ 4     ┆ Maple  ┆ 0.90551     ┆ 40.879177 ┆ … ┆ 2.267271   ┆ 2.8        ┆ 0.80974    ┆ null       │\n",
       "│       ┆ Syrup  ┆             ┆           ┆   ┆            ┆            ┆            ┆            │\n",
       "│ …     ┆ …      ┆ …           ┆ …         ┆ … ┆ …          ┆ …          ┆ …          ┆ …          │\n",
       "│ 10425 ┆ Maple  ┆ 4.085147    ┆ 40.857847 ┆ … ┆ 18634.6000 ┆ 10680.0    ┆ 1.744813   ┆ 3.177668   │\n",
       "│       ┆ Syrup  ┆             ┆           ┆   ┆ 4          ┆            ┆            ┆            │\n",
       "│ 10426 ┆ Maple  ┆ 1.535726    ┆ 40.857852 ┆ … ┆ 18637.4208 ┆ 10681.0    ┆ 1.744913   ┆ 2.821613   │\n",
       "│       ┆ Syrup  ┆             ┆           ┆   ┆ 52         ┆            ┆            ┆            │\n",
       "│ 10427 ┆ Maple  ┆ 3.156134    ┆ 40.857869 ┆ … ┆ 18640.2207 ┆ 10682.0    ┆ 1.745012   ┆ 2.800696   │\n",
       "│       ┆ Syrup  ┆             ┆           ┆   ┆ 38         ┆            ┆            ┆            │\n",
       "│ 10428 ┆ Maple  ┆ 3.626488    ┆ 40.857889 ┆ … ┆ 18642.9435 ┆ 10683.0    ┆ 1.745104   ┆ 2.724433   │\n",
       "│       ┆ Syrup  ┆             ┆           ┆   ┆ 07         ┆            ┆            ┆            │\n",
       "│ 10429 ┆ Maple  ┆ 3.760829    ┆ 40.857909 ┆ … ┆ 18646.1763 ┆ 10684.0    ┆ 1.745243   ┆ 3.235592   │\n",
       "│       ┆ Syrup  ┆             ┆           ┆   ┆ 72         ┆            ┆            ┆            │\n",
       "└───────┴────────┴─────────────┴───────────┴───┴────────────┴────────────┴────────────┴────────────┘"
      ]
     },
     "execution_count": 104,
     "metadata": {},
     "output_type": "execute_result"
    }
   ],
   "source": [
    "# debugging\n",
    "# some folks really want the intermediate data...\n",
    "def get_var(df, var_name):\n",
    "   globals()[var_name] = df\n",
    "   return df\n",
    "\n",
    "def tweak_gpx(df_):\n",
    "    return (df_\n",
    "        .pipe(lambda df: print(df.shape) or df)  # Look! 🤯\n",
    "        .select(cols)\n",
    "        .with_row_index()  \n",
    "        .pipe(get_var, 'intermediate')  # Debugging! 💪\n",
    "        .with_columns(pl.col('elapsed').cast(pl.Int16),\n",
    "                    course=pl.lit('Maple Syrup').cast(pl.Categorical),\n",
    "                    time=pl.col('time').dt.convert_time_zone('America/Denver'))               \n",
    "        )\n",
    "\n",
    "raw = pl.read_parquet('Face_plant.parquet')\n",
    "tweak_gpx(raw)"
   ]
  },
  {
   "cell_type": "code",
   "execution_count": 105,
   "metadata": {
    "scrolled": true
   },
   "outputs": [
    {
     "data": {
      "text/html": [
       "<div><style>\n",
       ".dataframe > thead > tr,\n",
       ".dataframe > tbody > tr {\n",
       "  text-align: right;\n",
       "  white-space: pre-wrap;\n",
       "}\n",
       "</style>\n",
       "<small>shape: (10_430, 15)</small><table border=\"1\" class=\"dataframe\"><thead><tr><th>index</th><th>course</th><th>distance_2d</th><th>latitude</th><th>longitude</th><th>time</th><th>elevation</th><th>speed_between</th><th>travelled</th><th>elapsed</th><th>avg_velocity</th><th>rolling_travelled</th><th>rolling_elapsed</th><th>rolling_velocity</th><th>rolling_between</th></tr><tr><td>u32</td><td>cat</td><td>f64</td><td>f64</td><td>f64</td><td>datetime[μs, America/Denver]</td><td>f64</td><td>f64</td><td>f64</td><td>i16</td><td>f64</td><td>f64</td><td>f64</td><td>f64</td><td>f64</td></tr></thead><tbody><tr><td>0</td><td>&quot;Maple Syrup&quot;</td><td>0.0</td><td>40.879161</td><td>-111.855169</td><td>2024-09-10 17:41:56 MDT</td><td>1480.0</td><td>null</td><td>0.0</td><td>0</td><td>NaN</td><td>null</td><td>null</td><td>null</td><td>null</td></tr><tr><td>1</td><td>&quot;Maple Syrup&quot;</td><td>1.210883</td><td>40.879167</td><td>-111.855181</td><td>2024-09-10 17:41:58 MDT</td><td>1480.1</td><td>0.607503</td><td>1.210883</td><td>2</td><td>0.605442</td><td>null</td><td>null</td><td>null</td><td>null</td></tr><tr><td>2</td><td>&quot;Maple Syrup&quot;</td><td>1.227612</td><td>40.879172</td><td>-111.855194</td><td>2024-09-10 17:41:59 MDT</td><td>1480.1</td><td>1.227612</td><td>2.438495</td><td>3</td><td>0.812832</td><td>null</td><td>null</td><td>null</td><td>null</td></tr><tr><td>3</td><td>&quot;Maple Syrup&quot;</td><td>0.952238</td><td>40.879174</td><td>-111.855205</td><td>2024-09-10 17:42:00 MDT</td><td>1480.1</td><td>0.952238</td><td>3.390733</td><td>4</td><td>0.847683</td><td>null</td><td>null</td><td>null</td><td>null</td></tr><tr><td>4</td><td>&quot;Maple Syrup&quot;</td><td>0.90551</td><td>40.879177</td><td>-111.855215</td><td>2024-09-10 17:42:01 MDT</td><td>1480.1</td><td>0.90551</td><td>4.296243</td><td>5</td><td>0.859249</td><td>2.267271</td><td>2.8</td><td>0.80974</td><td>null</td></tr><tr><td>&hellip;</td><td>&hellip;</td><td>&hellip;</td><td>&hellip;</td><td>&hellip;</td><td>&hellip;</td><td>&hellip;</td><td>&hellip;</td><td>&hellip;</td><td>&hellip;</td><td>&hellip;</td><td>&hellip;</td><td>&hellip;</td><td>&hellip;</td><td>&hellip;</td></tr><tr><td>10425</td><td>&quot;Maple Syrup&quot;</td><td>4.085147</td><td>40.857847</td><td>-111.823899</td><td>2024-09-10 20:39:58 MDT</td><td>1696.8</td><td>4.086371</td><td>18640.85135</td><td>10682</td><td>1.745071</td><td>18634.60004</td><td>10680.0</td><td>1.744813</td><td>3.177668</td></tr><tr><td>10426</td><td>&quot;Maple Syrup&quot;</td><td>1.535726</td><td>40.857852</td><td>-111.823916</td><td>2024-09-10 20:39:59 MDT</td><td>1696.8</td><td>1.535726</td><td>18642.387076</td><td>10683</td><td>1.745052</td><td>18637.420852</td><td>10681.0</td><td>1.744913</td><td>2.821613</td></tr><tr><td>10427</td><td>&quot;Maple Syrup&quot;</td><td>3.156134</td><td>40.857869</td><td>-111.823946</td><td>2024-09-10 20:40:00 MDT</td><td>1696.7</td><td>3.157718</td><td>18645.54321</td><td>10684</td><td>1.745184</td><td>18640.220738</td><td>10682.0</td><td>1.745012</td><td>2.800696</td></tr><tr><td>10428</td><td>&quot;Maple Syrup&quot;</td><td>3.626488</td><td>40.857889</td><td>-111.82398</td><td>2024-09-10 20:40:01 MDT</td><td>1696.5</td><td>3.631999</td><td>18649.169698</td><td>10685</td><td>1.74536</td><td>18642.943507</td><td>10683.0</td><td>1.745104</td><td>2.724433</td></tr><tr><td>10429</td><td>&quot;Maple Syrup&quot;</td><td>3.760829</td><td>40.857909</td><td>-111.824016</td><td>2024-09-10 20:40:02 MDT</td><td>1696.3</td><td>3.766144</td><td>18652.930528</td><td>10686</td><td>1.745548</td><td>18646.176372</td><td>10684.0</td><td>1.745243</td><td>3.235592</td></tr></tbody></table></div>"
      ],
      "text/plain": [
       "shape: (10_430, 15)\n",
       "┌───────┬────────┬─────────────┬───────────┬───┬────────────┬────────────┬────────────┬────────────┐\n",
       "│ index ┆ course ┆ distance_2d ┆ latitude  ┆ … ┆ rolling_tr ┆ rolling_el ┆ rolling_ve ┆ rolling_be │\n",
       "│ ---   ┆ ---    ┆ ---         ┆ ---       ┆   ┆ avelled    ┆ apsed      ┆ locity     ┆ tween      │\n",
       "│ u32   ┆ cat    ┆ f64         ┆ f64       ┆   ┆ ---        ┆ ---        ┆ ---        ┆ ---        │\n",
       "│       ┆        ┆             ┆           ┆   ┆ f64        ┆ f64        ┆ f64        ┆ f64        │\n",
       "╞═══════╪════════╪═════════════╪═══════════╪═══╪════════════╪════════════╪════════════╪════════════╡\n",
       "│ 0     ┆ Maple  ┆ 0.0         ┆ 40.879161 ┆ … ┆ null       ┆ null       ┆ null       ┆ null       │\n",
       "│       ┆ Syrup  ┆             ┆           ┆   ┆            ┆            ┆            ┆            │\n",
       "│ 1     ┆ Maple  ┆ 1.210883    ┆ 40.879167 ┆ … ┆ null       ┆ null       ┆ null       ┆ null       │\n",
       "│       ┆ Syrup  ┆             ┆           ┆   ┆            ┆            ┆            ┆            │\n",
       "│ 2     ┆ Maple  ┆ 1.227612    ┆ 40.879172 ┆ … ┆ null       ┆ null       ┆ null       ┆ null       │\n",
       "│       ┆ Syrup  ┆             ┆           ┆   ┆            ┆            ┆            ┆            │\n",
       "│ 3     ┆ Maple  ┆ 0.952238    ┆ 40.879174 ┆ … ┆ null       ┆ null       ┆ null       ┆ null       │\n",
       "│       ┆ Syrup  ┆             ┆           ┆   ┆            ┆            ┆            ┆            │\n",
       "│ 4     ┆ Maple  ┆ 0.90551     ┆ 40.879177 ┆ … ┆ 2.267271   ┆ 2.8        ┆ 0.80974    ┆ null       │\n",
       "│       ┆ Syrup  ┆             ┆           ┆   ┆            ┆            ┆            ┆            │\n",
       "│ …     ┆ …      ┆ …           ┆ …         ┆ … ┆ …          ┆ …          ┆ …          ┆ …          │\n",
       "│ 10425 ┆ Maple  ┆ 4.085147    ┆ 40.857847 ┆ … ┆ 18634.6000 ┆ 10680.0    ┆ 1.744813   ┆ 3.177668   │\n",
       "│       ┆ Syrup  ┆             ┆           ┆   ┆ 4          ┆            ┆            ┆            │\n",
       "│ 10426 ┆ Maple  ┆ 1.535726    ┆ 40.857852 ┆ … ┆ 18637.4208 ┆ 10681.0    ┆ 1.744913   ┆ 2.821613   │\n",
       "│       ┆ Syrup  ┆             ┆           ┆   ┆ 52         ┆            ┆            ┆            │\n",
       "│ 10427 ┆ Maple  ┆ 3.156134    ┆ 40.857869 ┆ … ┆ 18640.2207 ┆ 10682.0    ┆ 1.745012   ┆ 2.800696   │\n",
       "│       ┆ Syrup  ┆             ┆           ┆   ┆ 38         ┆            ┆            ┆            │\n",
       "│ 10428 ┆ Maple  ┆ 3.626488    ┆ 40.857889 ┆ … ┆ 18642.9435 ┆ 10683.0    ┆ 1.745104   ┆ 2.724433   │\n",
       "│       ┆ Syrup  ┆             ┆           ┆   ┆ 07         ┆            ┆            ┆            │\n",
       "│ 10429 ┆ Maple  ┆ 3.760829    ┆ 40.857909 ┆ … ┆ 18646.1763 ┆ 10684.0    ┆ 1.745243   ┆ 3.235592   │\n",
       "│       ┆ Syrup  ┆             ┆           ┆   ┆ 72         ┆            ┆            ┆            │\n",
       "└───────┴────────┴─────────────┴───────────┴───┴────────────┴────────────┴────────────┴────────────┘"
      ]
     },
     "execution_count": 105,
     "metadata": {},
     "output_type": "execute_result"
    }
   ],
   "source": [
    "intermediate"
   ]
  },
  {
   "cell_type": "code",
   "execution_count": null,
   "metadata": {
    "lines_to_next_cell": 2,
    "pycharm": {
     "name": "#%%\n"
    }
   },
   "outputs": [],
   "source": []
  },
  {
   "cell_type": "code",
   "execution_count": null,
   "metadata": {
    "lines_to_next_cell": 2,
    "pycharm": {
     "name": "#%%\n"
    }
   },
   "outputs": [],
   "source": []
  },
  {
   "cell_type": "code",
   "execution_count": null,
   "metadata": {
    "lines_to_next_cell": 2,
    "pycharm": {
     "name": "#%%\n"
    }
   },
   "outputs": [],
   "source": []
  },
  {
   "cell_type": "code",
   "execution_count": null,
   "metadata": {
    "lines_to_next_cell": 2,
    "pycharm": {
     "name": "#%%\n"
    }
   },
   "outputs": [],
   "source": []
  },
  {
   "cell_type": "code",
   "execution_count": null,
   "metadata": {
    "lines_to_next_cell": 2,
    "pycharm": {
     "name": "#%%\n"
    }
   },
   "outputs": [],
   "source": []
  },
  {
   "cell_type": "markdown",
   "metadata": {
    "pycharm": {
     "name": "#%% md\n"
    }
   },
   "source": [
    "## Don't Apply (map_elements) if you can"
   ]
  },
  {
   "cell_type": "code",
   "execution_count": 106,
   "metadata": {},
   "outputs": [
    {
     "name": "stdout",
     "output_type": "stream",
     "text": [
      "(10430, 15)\n"
     ]
    }
   ],
   "source": [
    "# debugging\n",
    "def get_var(df, var_name):\n",
    "   globals()[var_name] = df\n",
    "   return df\n",
    "\n",
    "def tweak_gpx(df_):\n",
    "    return (df_\n",
    "             .pipe(lambda df: print(df.shape) or df)\n",
    "        .select(cols)\n",
    "        .with_row_index()  \n",
    "         .pipe(get_var, 'intermediate')\n",
    "        .with_columns(pl.col('elapsed').cast(pl.Int16),\n",
    "                    course=pl.lit('Maple Syrup').cast(pl.Categorical),\n",
    "                    time=pl.col('time').dt.convert_time_zone('America/Denver'))               \n",
    "        )\n",
    "\n",
    "raw = pl.read_parquet('Face_plant.parquet')\n",
    "df = tweak_gpx(raw)"
   ]
  },
  {
   "cell_type": "code",
   "execution_count": 107,
   "metadata": {},
   "outputs": [
    {
     "name": "stderr",
     "output_type": "stream",
     "text": [
      "/var/folders/qn/r8_0pgj1645dn1w69vqls6cw0000gn/T/ipykernel_70391/613516876.py:7: PolarsInefficientMapWarning: \n",
      "Expr.map_elements is significantly slower than the native expressions API.\n",
      "Only use if you absolutely CANNOT implement your logic otherwise.\n",
      "Replace this expression...\n",
      "  - pl.col(\"elevation\").map_elements(meters_to_feet)\n",
      "with this one instead:\n",
      "  + pl.col(\"elevation\") * 3.28084\n",
      "\n",
      "  ele_ft=pl.col('elevation').map_elements(meters_to_feet))\n",
      "sys:1: MapWithoutReturnDtypeWarning: Calling `map_elements` without specifying `return_dtype` can lead to unpredictable results. Specify `return_dtype` to silence this warning.\n"
     ]
    },
    {
     "data": {
      "text/html": [
       "<div><style>\n",
       ".dataframe > thead > tr,\n",
       ".dataframe > tbody > tr {\n",
       "  text-align: right;\n",
       "  white-space: pre-wrap;\n",
       "}\n",
       "</style>\n",
       "<small>shape: (10_430, 2)</small><table border=\"1\" class=\"dataframe\"><thead><tr><th>elevation</th><th>ele_ft</th></tr><tr><td>f64</td><td>f64</td></tr></thead><tbody><tr><td>1480.0</td><td>4855.6432</td></tr><tr><td>1480.1</td><td>4855.971284</td></tr><tr><td>1480.1</td><td>4855.971284</td></tr><tr><td>1480.1</td><td>4855.971284</td></tr><tr><td>1480.1</td><td>4855.971284</td></tr><tr><td>&hellip;</td><td>&hellip;</td></tr><tr><td>1696.8</td><td>5566.929312</td></tr><tr><td>1696.8</td><td>5566.929312</td></tr><tr><td>1696.7</td><td>5566.601228</td></tr><tr><td>1696.5</td><td>5565.94506</td></tr><tr><td>1696.3</td><td>5565.288892</td></tr></tbody></table></div>"
      ],
      "text/plain": [
       "shape: (10_430, 2)\n",
       "┌───────────┬─────────────┐\n",
       "│ elevation ┆ ele_ft      │\n",
       "│ ---       ┆ ---         │\n",
       "│ f64       ┆ f64         │\n",
       "╞═══════════╪═════════════╡\n",
       "│ 1480.0    ┆ 4855.6432   │\n",
       "│ 1480.1    ┆ 4855.971284 │\n",
       "│ 1480.1    ┆ 4855.971284 │\n",
       "│ 1480.1    ┆ 4855.971284 │\n",
       "│ 1480.1    ┆ 4855.971284 │\n",
       "│ …         ┆ …           │\n",
       "│ 1696.8    ┆ 5566.929312 │\n",
       "│ 1696.8    ┆ 5566.929312 │\n",
       "│ 1696.7    ┆ 5566.601228 │\n",
       "│ 1696.5    ┆ 5565.94506  │\n",
       "│ 1696.3    ┆ 5565.288892 │\n",
       "└───────────┴─────────────┘"
      ]
     },
     "execution_count": 107,
     "metadata": {},
     "output_type": "execute_result"
    }
   ],
   "source": [
    "# convert elevation from meters to feet\n",
    "def meters_to_feet(m):\n",
    "    return m * 3.28084\n",
    "\n",
    "(df\n",
    " .select('elevation', \n",
    "         ele_ft=pl.col('elevation').map_elements(meters_to_feet)) \n",
    ")"
   ]
  },
  {
   "cell_type": "code",
   "execution_count": 108,
   "metadata": {},
   "outputs": [
    {
     "data": {
      "text/html": [
       "<div><style>\n",
       ".dataframe > thead > tr,\n",
       ".dataframe > tbody > tr {\n",
       "  text-align: right;\n",
       "  white-space: pre-wrap;\n",
       "}\n",
       "</style>\n",
       "<small>shape: (10_430, 2)</small><table border=\"1\" class=\"dataframe\"><thead><tr><th>elevation</th><th>ele_ft</th></tr><tr><td>f64</td><td>f64</td></tr></thead><tbody><tr><td>1480.0</td><td>4855.6432</td></tr><tr><td>1480.1</td><td>4855.971284</td></tr><tr><td>1480.1</td><td>4855.971284</td></tr><tr><td>1480.1</td><td>4855.971284</td></tr><tr><td>1480.1</td><td>4855.971284</td></tr><tr><td>&hellip;</td><td>&hellip;</td></tr><tr><td>1696.8</td><td>5566.929312</td></tr><tr><td>1696.8</td><td>5566.929312</td></tr><tr><td>1696.7</td><td>5566.601228</td></tr><tr><td>1696.5</td><td>5565.94506</td></tr><tr><td>1696.3</td><td>5565.288892</td></tr></tbody></table></div>"
      ],
      "text/plain": [
       "shape: (10_430, 2)\n",
       "┌───────────┬─────────────┐\n",
       "│ elevation ┆ ele_ft      │\n",
       "│ ---       ┆ ---         │\n",
       "│ f64       ┆ f64         │\n",
       "╞═══════════╪═════════════╡\n",
       "│ 1480.0    ┆ 4855.6432   │\n",
       "│ 1480.1    ┆ 4855.971284 │\n",
       "│ 1480.1    ┆ 4855.971284 │\n",
       "│ 1480.1    ┆ 4855.971284 │\n",
       "│ 1480.1    ┆ 4855.971284 │\n",
       "│ …         ┆ …           │\n",
       "│ 1696.8    ┆ 5566.929312 │\n",
       "│ 1696.8    ┆ 5566.929312 │\n",
       "│ 1696.7    ┆ 5566.601228 │\n",
       "│ 1696.5    ┆ 5565.94506  │\n",
       "│ 1696.3    ┆ 5565.288892 │\n",
       "└───────────┴─────────────┘"
      ]
     },
     "execution_count": 108,
     "metadata": {},
     "output_type": "execute_result"
    }
   ],
   "source": [
    "# convert elevation from meters to feet\n",
    "def meters_to_feet(m):\n",
    "    return m * 3.28084\n",
    "\n",
    "(df\n",
    " .select('elevation', \n",
    "         ele_ft=meters_to_feet(pl.col('elevation')))\n",
    ")"
   ]
  },
  {
   "cell_type": "code",
   "execution_count": 109,
   "metadata": {},
   "outputs": [
    {
     "data": {
      "text/html": [
       "<div><style>\n",
       ".dataframe > thead > tr,\n",
       ".dataframe > tbody > tr {\n",
       "  text-align: right;\n",
       "  white-space: pre-wrap;\n",
       "}\n",
       "</style>\n",
       "<small>shape: (10_430, 2)</small><table border=\"1\" class=\"dataframe\"><thead><tr><th>elevation</th><th>ele_ft</th></tr><tr><td>f64</td><td>f64</td></tr></thead><tbody><tr><td>1480.0</td><td>4855.6432</td></tr><tr><td>1480.1</td><td>4855.971284</td></tr><tr><td>1480.1</td><td>4855.971284</td></tr><tr><td>1480.1</td><td>4855.971284</td></tr><tr><td>1480.1</td><td>4855.971284</td></tr><tr><td>&hellip;</td><td>&hellip;</td></tr><tr><td>1696.8</td><td>5566.929312</td></tr><tr><td>1696.8</td><td>5566.929312</td></tr><tr><td>1696.7</td><td>5566.601228</td></tr><tr><td>1696.5</td><td>5565.94506</td></tr><tr><td>1696.3</td><td>5565.288892</td></tr></tbody></table></div>"
      ],
      "text/plain": [
       "shape: (10_430, 2)\n",
       "┌───────────┬─────────────┐\n",
       "│ elevation ┆ ele_ft      │\n",
       "│ ---       ┆ ---         │\n",
       "│ f64       ┆ f64         │\n",
       "╞═══════════╪═════════════╡\n",
       "│ 1480.0    ┆ 4855.6432   │\n",
       "│ 1480.1    ┆ 4855.971284 │\n",
       "│ 1480.1    ┆ 4855.971284 │\n",
       "│ 1480.1    ┆ 4855.971284 │\n",
       "│ 1480.1    ┆ 4855.971284 │\n",
       "│ …         ┆ …           │\n",
       "│ 1696.8    ┆ 5566.929312 │\n",
       "│ 1696.8    ┆ 5566.929312 │\n",
       "│ 1696.7    ┆ 5566.601228 │\n",
       "│ 1696.5    ┆ 5565.94506  │\n",
       "│ 1696.3    ┆ 5565.288892 │\n",
       "└───────────┴─────────────┘"
      ]
     },
     "execution_count": 109,
     "metadata": {},
     "output_type": "execute_result"
    }
   ],
   "source": [
    "# Perhaps more readable\n",
    "# convert elevation from meters to feet\n",
    "def meters_to_feet(m):\n",
    "    return m * 3.28084\n",
    "\n",
    "(df\n",
    " .select('elevation', \n",
    "         ele_ft=pl.col('elevation').pipe(meters_to_feet))\n",
    ")"
   ]
  },
  {
   "cell_type": "code",
   "execution_count": null,
   "metadata": {
    "collapsed": true,
    "jupyter": {
     "outputs_hidden": true
    }
   },
   "outputs": [],
   "source": [
    "%%timeit\n",
    "# takes 965 µs on my machine\n",
    "(df\n",
    " .select('elevation', ele_ft=pl.col('elevation').map_elements(meters_to_feet)) \n",
    ")"
   ]
  },
  {
   "cell_type": "code",
   "execution_count": 110,
   "metadata": {},
   "outputs": [
    {
     "name": "stdout",
     "output_type": "stream",
     "text": [
      "38 µs ± 514 ns per loop (mean ± std. dev. of 7 runs, 10,000 loops each)\n"
     ]
    }
   ],
   "source": [
    "%%timeit\n",
    "(df\n",
    " .select('elevation', \n",
    "         ele_ft=pl.col('elevation').pipe(meters_to_feet))\n",
    ")"
   ]
  },
  {
   "cell_type": "code",
   "execution_count": 111,
   "metadata": {},
   "outputs": [
    {
     "name": "stdout",
     "output_type": "stream",
     "text": [
      "37.7 µs ± 1.11 µs per loop (mean ± std. dev. of 7 runs, 10,000 loops each)\n"
     ]
    }
   ],
   "source": [
    "%%timeit\n",
    "(df\n",
    " .select('elevation', \n",
    "         ele_ft=pl.col('elevation')*3.28084)\n",
    ")"
   ]
  },
  {
   "cell_type": "code",
   "execution_count": 112,
   "metadata": {},
   "outputs": [
    {
     "data": {
      "text/plain": [
       "24.125"
      ]
     },
     "execution_count": 112,
     "metadata": {},
     "output_type": "execute_result"
    }
   ],
   "source": [
    "965/40"
   ]
  },
  {
   "cell_type": "code",
   "execution_count": null,
   "metadata": {
    "lines_to_next_cell": 2,
    "pycharm": {
     "name": "#%%\n"
    }
   },
   "outputs": [],
   "source": []
  },
  {
   "cell_type": "markdown",
   "metadata": {
    "lines_to_next_cell": 2,
    "pycharm": {
     "name": "#%%\n"
    }
   },
   "source": [
    "## benchmark caveat\n",
    "- Use the size of data you are using in the real world"
   ]
  },
  {
   "cell_type": "code",
   "execution_count": null,
   "metadata": {
    "lines_to_next_cell": 2,
    "pycharm": {
     "name": "#%%\n"
    }
   },
   "outputs": [],
   "source": []
  },
  {
   "cell_type": "code",
   "execution_count": null,
   "metadata": {
    "lines_to_next_cell": 2,
    "pycharm": {
     "name": "#%%\n"
    }
   },
   "outputs": [],
   "source": []
  },
  {
   "cell_type": "code",
   "execution_count": null,
   "metadata": {
    "lines_to_next_cell": 2,
    "pycharm": {
     "name": "#%%\n"
    }
   },
   "outputs": [],
   "source": []
  },
  {
   "cell_type": "code",
   "execution_count": null,
   "metadata": {
    "lines_to_next_cell": 2,
    "pycharm": {
     "name": "#%%\n"
    }
   },
   "outputs": [],
   "source": []
  },
  {
   "cell_type": "code",
   "execution_count": null,
   "metadata": {
    "lines_to_next_cell": 2,
    "pycharm": {
     "name": "#%%\n"
    }
   },
   "outputs": [],
   "source": []
  },
  {
   "cell_type": "markdown",
   "metadata": {
    "pycharm": {
     "name": "#%% md\n"
    }
   },
   "source": [
    "## Master Aggregation\n",
    "\n",
    "Let's speed (and distance) by 10 minute intervals"
   ]
  },
  {
   "cell_type": "code",
   "execution_count": 113,
   "metadata": {},
   "outputs": [
    {
     "name": "stdout",
     "output_type": "stream",
     "text": [
      "(10430, 15)\n"
     ]
    },
    {
     "data": {
      "text/html": [
       "<div><style>\n",
       ".dataframe > thead > tr,\n",
       ".dataframe > tbody > tr {\n",
       "  text-align: right;\n",
       "  white-space: pre-wrap;\n",
       "}\n",
       "</style>\n",
       "<small>shape: (19, 4)</small><table border=\"1\" class=\"dataframe\"><thead><tr><th>time</th><th>travelled</th><th>speed</th><th>mph</th></tr><tr><td>datetime[μs, America/Denver]</td><td>f64</td><td>f64</td><td>f64</td></tr></thead><tbody><tr><td>2024-09-10 17:40:00 MDT</td><td>1620.956003</td><td>3.356017</td><td>7.507208</td></tr><tr><td>2024-09-10 17:50:00 MDT</td><td>1081.973828</td><td>1.8063</td><td>4.040585</td></tr><tr><td>2024-09-10 18:00:00 MDT</td><td>99.724838</td><td>0.166486</td><td>0.372418</td></tr><tr><td>2024-09-10 18:10:00 MDT</td><td>1703.006885</td><td>2.843083</td><td>6.359807</td></tr><tr><td>2024-09-10 18:20:00 MDT</td><td>1602.514698</td><td>2.675317</td><td>5.984523</td></tr><tr><td>&hellip;</td><td>&hellip;</td><td>&hellip;</td><td>&hellip;</td></tr><tr><td>2024-09-10 20:00:00 MDT</td><td>973.953159</td><td>1.625965</td><td>3.637187</td></tr><tr><td>2024-09-10 20:10:00 MDT</td><td>680.118068</td><td>1.135422</td><td>2.539872</td></tr><tr><td>2024-09-10 20:20:00 MDT</td><td>796.69377</td><td>1.33004</td><td>2.975219</td></tr><tr><td>2024-09-10 20:30:00 MDT</td><td>763.967062</td><td>1.275404</td><td>2.853002</td></tr><tr><td>2024-09-10 20:40:00 MDT</td><td>7.387318</td><td>3.693659</td><td>8.262493</td></tr></tbody></table></div>"
      ],
      "text/plain": [
       "shape: (19, 4)\n",
       "┌──────────────────────────────┬─────────────┬──────────┬──────────┐\n",
       "│ time                         ┆ travelled   ┆ speed    ┆ mph      │\n",
       "│ ---                          ┆ ---         ┆ ---      ┆ ---      │\n",
       "│ datetime[μs, America/Denver] ┆ f64         ┆ f64      ┆ f64      │\n",
       "╞══════════════════════════════╪═════════════╪══════════╪══════════╡\n",
       "│ 2024-09-10 17:40:00 MDT      ┆ 1620.956003 ┆ 3.356017 ┆ 7.507208 │\n",
       "│ 2024-09-10 17:50:00 MDT      ┆ 1081.973828 ┆ 1.8063   ┆ 4.040585 │\n",
       "│ 2024-09-10 18:00:00 MDT      ┆ 99.724838   ┆ 0.166486 ┆ 0.372418 │\n",
       "│ 2024-09-10 18:10:00 MDT      ┆ 1703.006885 ┆ 2.843083 ┆ 6.359807 │\n",
       "│ 2024-09-10 18:20:00 MDT      ┆ 1602.514698 ┆ 2.675317 ┆ 5.984523 │\n",
       "│ …                            ┆ …           ┆ …        ┆ …        │\n",
       "│ 2024-09-10 20:00:00 MDT      ┆ 973.953159  ┆ 1.625965 ┆ 3.637187 │\n",
       "│ 2024-09-10 20:10:00 MDT      ┆ 680.118068  ┆ 1.135422 ┆ 2.539872 │\n",
       "│ 2024-09-10 20:20:00 MDT      ┆ 796.69377   ┆ 1.33004  ┆ 2.975219 │\n",
       "│ 2024-09-10 20:30:00 MDT      ┆ 763.967062  ┆ 1.275404 ┆ 2.853002 │\n",
       "│ 2024-09-10 20:40:00 MDT      ┆ 7.387318    ┆ 3.693659 ┆ 8.262493 │\n",
       "└──────────────────────────────┴─────────────┴──────────┴──────────┘"
      ]
     },
     "execution_count": 113,
     "metadata": {},
     "output_type": "execute_result"
    }
   ],
   "source": [
    "def meters_per_second_to_mph(mps):\n",
    "    return mps * 2.23694\n",
    "\n",
    "(tweak_gpx(raw)\n",
    " .group_by_dynamic(index_column='time', every='10m')\n",
    " .agg(pl.col('travelled').last() - pl.col('travelled').first(),\n",
    "      speed=(pl.col('travelled').last() - pl.col('travelled').first()) / \n",
    "          ((pl.col('time').last() - pl.col('time').first()).dt.total_seconds())\n",
    "    ) \n",
    " .with_columns(mph=pl.col('speed').pipe(meters_per_second_to_mph))\n",
    " )"
   ]
  },
  {
   "cell_type": "code",
   "execution_count": 114,
   "metadata": {},
   "outputs": [
    {
     "name": "stdout",
     "output_type": "stream",
     "text": [
      "(10430, 15)\n"
     ]
    },
    {
     "data": {
      "text/html": [
       "\n",
       "<style>\n",
       "  #altair-viz-75a8c67be43048848e898469ed13a3d9.vega-embed {\n",
       "    width: 100%;\n",
       "    display: flex;\n",
       "  }\n",
       "\n",
       "  #altair-viz-75a8c67be43048848e898469ed13a3d9.vega-embed details,\n",
       "  #altair-viz-75a8c67be43048848e898469ed13a3d9.vega-embed details summary {\n",
       "    position: relative;\n",
       "  }\n",
       "</style>\n",
       "<div id=\"altair-viz-75a8c67be43048848e898469ed13a3d9\"></div>\n",
       "<script type=\"text/javascript\">\n",
       "  var VEGA_DEBUG = (typeof VEGA_DEBUG == \"undefined\") ? {} : VEGA_DEBUG;\n",
       "  (function(spec, embedOpt){\n",
       "    let outputDiv = document.currentScript.previousElementSibling;\n",
       "    if (outputDiv.id !== \"altair-viz-75a8c67be43048848e898469ed13a3d9\") {\n",
       "      outputDiv = document.getElementById(\"altair-viz-75a8c67be43048848e898469ed13a3d9\");\n",
       "    }\n",
       "    const paths = {\n",
       "      \"vega\": \"https://cdn.jsdelivr.net/npm/vega@5?noext\",\n",
       "      \"vega-lib\": \"https://cdn.jsdelivr.net/npm/vega-lib?noext\",\n",
       "      \"vega-lite\": \"https://cdn.jsdelivr.net/npm/vega-lite@5.20.1?noext\",\n",
       "      \"vega-embed\": \"https://cdn.jsdelivr.net/npm/vega-embed@6?noext\",\n",
       "    };\n",
       "\n",
       "    function maybeLoadScript(lib, version) {\n",
       "      var key = `${lib.replace(\"-\", \"\")}_version`;\n",
       "      return (VEGA_DEBUG[key] == version) ?\n",
       "        Promise.resolve(paths[lib]) :\n",
       "        new Promise(function(resolve, reject) {\n",
       "          var s = document.createElement('script');\n",
       "          document.getElementsByTagName(\"head\")[0].appendChild(s);\n",
       "          s.async = true;\n",
       "          s.onload = () => {\n",
       "            VEGA_DEBUG[key] = version;\n",
       "            return resolve(paths[lib]);\n",
       "          };\n",
       "          s.onerror = () => reject(`Error loading script: ${paths[lib]}`);\n",
       "          s.src = paths[lib];\n",
       "        });\n",
       "    }\n",
       "\n",
       "    function showError(err) {\n",
       "      outputDiv.innerHTML = `<div class=\"error\" style=\"color:red;\">${err}</div>`;\n",
       "      throw err;\n",
       "    }\n",
       "\n",
       "    function displayChart(vegaEmbed) {\n",
       "      vegaEmbed(outputDiv, spec, embedOpt)\n",
       "        .catch(err => showError(`Javascript Error: ${err.message}<br>This usually means there's a typo in your chart specification. See the javascript console for the full traceback.`));\n",
       "    }\n",
       "\n",
       "    if(typeof define === \"function\" && define.amd) {\n",
       "      requirejs.config({paths});\n",
       "      require([\"vega-embed\"], displayChart, err => showError(`Error loading script: ${err.message}`));\n",
       "    } else {\n",
       "      maybeLoadScript(\"vega\", \"5\")\n",
       "        .then(() => maybeLoadScript(\"vega-lite\", \"5.20.1\"))\n",
       "        .then(() => maybeLoadScript(\"vega-embed\", \"6\"))\n",
       "        .catch(showError)\n",
       "        .then(() => displayChart(vegaEmbed));\n",
       "    }\n",
       "  })({\"config\": {\"view\": {\"continuousWidth\": 300, \"continuousHeight\": 300}}, \"data\": {\"name\": \"data-dde53ea8d68aabb606cb44237c824633\"}, \"mark\": {\"type\": \"bar\", \"tooltip\": true}, \"encoding\": {\"x\": {\"field\": \"time\", \"type\": \"temporal\"}, \"y\": {\"field\": \"mph\", \"type\": \"quantitative\"}}, \"params\": [{\"name\": \"param_3\", \"select\": {\"type\": \"interval\", \"encodings\": [\"x\", \"y\"]}, \"bind\": \"scales\"}], \"$schema\": \"https://vega.github.io/schema/vega-lite/v5.20.1.json\", \"datasets\": {\"data-dde53ea8d68aabb606cb44237c824633\": [{\"time\": \"2024-09-10T17:40:00\", \"travelled\": 1620.9560026245795, \"speed\": 3.35601656858091, \"mph\": 7.507207702921381}, {\"time\": \"2024-09-10T17:50:00\", \"travelled\": 1081.9738275945356, \"speed\": 1.8063002130125803, \"mph\": 4.040585198496362}, {\"time\": \"2024-09-10T18:00:00\", \"travelled\": 99.72483824627443, \"speed\": 0.16648553964319604, \"mph\": 0.37241816304945097}, {\"time\": \"2024-09-10T18:10:00\", \"travelled\": 1703.0068847118791, \"speed\": 2.8430832799864425, \"mph\": 6.359806712332873}, {\"time\": \"2024-09-10T18:20:00\", \"travelled\": 1602.5146979661376, \"speed\": 2.6753166910953885, \"mph\": 5.984522918978919}, {\"time\": \"2024-09-10T18:30:00\", \"travelled\": 1205.7663366969791, \"speed\": 2.0129655036677447, \"mph\": 4.502883053774525}, {\"time\": \"2024-09-10T18:40:00\", \"travelled\": 2148.063229414681, \"speed\": 3.5860821860011365, \"mph\": 8.021850685153384}, {\"time\": \"2024-09-10T18:50:00\", \"travelled\": 1188.4244243195917, \"speed\": 1.9840140639726072, \"mph\": 4.438120420262885}, {\"time\": \"2024-09-10T19:00:00\", \"travelled\": 1466.630765646527, \"speed\": 2.4484653850526326, \"mph\": 5.477070158439636}, {\"time\": \"2024-09-10T19:10:00\", \"travelled\": 524.2675582715146, \"speed\": 0.8752379937754835, \"mph\": 1.9578548777961302}, {\"time\": \"2024-09-10T19:20:00\", \"travelled\": 391.18184052131073, \"speed\": 0.6530581644763117, \"mph\": 1.460851930443641}, {\"time\": \"2024-09-10T19:30:00\", \"travelled\": 600.4802113730711, \"speed\": 1.002471137517648, \"mph\": 2.242467786358728}, {\"time\": \"2024-09-10T19:40:00\", \"travelled\": 901.3069527354601, \"speed\": 1.5046860646668783, \"mph\": 3.365892445495927}, {\"time\": \"2024-09-10T19:50:00\", \"travelled\": 857.2264924135434, \"speed\": 1.4334891177484004, \"mph\": 3.206629147056107}, {\"time\": \"2024-09-10T20:00:00\", \"travelled\": 973.9531590590195, \"speed\": 1.6259652071102162, \"mph\": 3.6371866103931274}, {\"time\": \"2024-09-10T20:10:00\", \"travelled\": 680.1180679084864, \"speed\": 1.1354224839874565, \"mph\": 2.5398719713309013}, {\"time\": \"2024-09-10T20:20:00\", \"travelled\": 796.6937697614521, \"speed\": 1.330039682406431, \"mph\": 2.9752189671622418}, {\"time\": \"2024-09-10T20:30:00\", \"travelled\": 763.9670617254778, \"speed\": 1.2754041097253386, \"mph\": 2.8530024692089992}, {\"time\": \"2024-09-10T20:40:00\", \"travelled\": 7.38731771572202, \"speed\": 3.69365885786101, \"mph\": 8.262493245503608}]}}, {\"mode\": \"vega-lite\"});\n",
       "</script>"
      ],
      "text/plain": [
       "alt.Chart(...)"
      ]
     },
     "execution_count": 114,
     "metadata": {},
     "output_type": "execute_result"
    }
   ],
   "source": [
    "def meters_per_second_to_mph(mps):\n",
    "    return mps * 2.23694\n",
    "\n",
    "(tweak_gpx(raw)\n",
    " .group_by_dynamic(index_column='time', every='10m')\n",
    " .agg(pl.col('travelled').last() - pl.col('travelled').first(),\n",
    "      speed=(pl.col('travelled').last() - pl.col('travelled').first()) / \n",
    "      ((pl.col('time').last() - pl.col('time').first()).dt.total_seconds())\n",
    "    ) \n",
    " .with_columns(mph=pl.col('speed').pipe(meters_per_second_to_mph))\n",
    " .plot.bar(x='time', y='mph')\n",
    " )"
   ]
  },
  {
   "cell_type": "code",
   "execution_count": 115,
   "metadata": {},
   "outputs": [
    {
     "name": "stdout",
     "output_type": "stream",
     "text": [
      "(10430, 15)\n"
     ]
    },
    {
     "data": {
      "text/html": [
       "<div><style>\n",
       ".dataframe > thead > tr,\n",
       ".dataframe > tbody > tr {\n",
       "  text-align: right;\n",
       "  white-space: pre-wrap;\n",
       "}\n",
       "</style>\n",
       "<small>shape: (2, 2)</small><table border=\"1\" class=\"dataframe\"><thead><tr><th>climbing</th><th>distance_2d</th></tr><tr><td>bool</td><td>f64</td></tr></thead><tbody><tr><td>false</td><td>5.46702</td></tr><tr><td>true</td><td>6.123374</td></tr></tbody></table></div>"
      ],
      "text/plain": [
       "shape: (2, 2)\n",
       "┌──────────┬─────────────┐\n",
       "│ climbing ┆ distance_2d │\n",
       "│ ---      ┆ ---         │\n",
       "│ bool     ┆ f64         │\n",
       "╞══════════╪═════════════╡\n",
       "│ false    ┆ 5.46702     │\n",
       "│ true     ┆ 6.123374    │\n",
       "└──────────┴─────────────┘"
      ]
     },
     "execution_count": 115,
     "metadata": {},
     "output_type": "execute_result"
    }
   ],
   "source": [
    "# uphill vs downhill\n",
    "def meters_to_feet(m):\n",
    "    return m * 3.28084\n",
    "\n",
    "def feet_to_miles(f):\n",
    "    return f / 5280\n",
    "\n",
    "(tweak_gpx(raw)\n",
    " .with_columns(climbing=pl.col('elevation').diff().gt(0))\n",
    " .group_by('climbing')\n",
    " .agg(pl.col('distance_2d').sum().pipe(meters_to_feet).pipe(feet_to_miles))\n",
    " .filter(~pl.col('climbing').is_null())\n",
    ")"
   ]
  },
  {
   "cell_type": "code",
   "execution_count": 116,
   "metadata": {},
   "outputs": [
    {
     "name": "stdout",
     "output_type": "stream",
     "text": [
      "(10430, 15)\n"
     ]
    },
    {
     "data": {
      "text/html": [
       "\n",
       "<style>\n",
       "  #altair-viz-07ed9d08e3f64ff99ced0fcefa7c9949.vega-embed {\n",
       "    width: 100%;\n",
       "    display: flex;\n",
       "  }\n",
       "\n",
       "  #altair-viz-07ed9d08e3f64ff99ced0fcefa7c9949.vega-embed details,\n",
       "  #altair-viz-07ed9d08e3f64ff99ced0fcefa7c9949.vega-embed details summary {\n",
       "    position: relative;\n",
       "  }\n",
       "</style>\n",
       "<div id=\"altair-viz-07ed9d08e3f64ff99ced0fcefa7c9949\"></div>\n",
       "<script type=\"text/javascript\">\n",
       "  var VEGA_DEBUG = (typeof VEGA_DEBUG == \"undefined\") ? {} : VEGA_DEBUG;\n",
       "  (function(spec, embedOpt){\n",
       "    let outputDiv = document.currentScript.previousElementSibling;\n",
       "    if (outputDiv.id !== \"altair-viz-07ed9d08e3f64ff99ced0fcefa7c9949\") {\n",
       "      outputDiv = document.getElementById(\"altair-viz-07ed9d08e3f64ff99ced0fcefa7c9949\");\n",
       "    }\n",
       "    const paths = {\n",
       "      \"vega\": \"https://cdn.jsdelivr.net/npm/vega@5?noext\",\n",
       "      \"vega-lib\": \"https://cdn.jsdelivr.net/npm/vega-lib?noext\",\n",
       "      \"vega-lite\": \"https://cdn.jsdelivr.net/npm/vega-lite@5.20.1?noext\",\n",
       "      \"vega-embed\": \"https://cdn.jsdelivr.net/npm/vega-embed@6?noext\",\n",
       "    };\n",
       "\n",
       "    function maybeLoadScript(lib, version) {\n",
       "      var key = `${lib.replace(\"-\", \"\")}_version`;\n",
       "      return (VEGA_DEBUG[key] == version) ?\n",
       "        Promise.resolve(paths[lib]) :\n",
       "        new Promise(function(resolve, reject) {\n",
       "          var s = document.createElement('script');\n",
       "          document.getElementsByTagName(\"head\")[0].appendChild(s);\n",
       "          s.async = true;\n",
       "          s.onload = () => {\n",
       "            VEGA_DEBUG[key] = version;\n",
       "            return resolve(paths[lib]);\n",
       "          };\n",
       "          s.onerror = () => reject(`Error loading script: ${paths[lib]}`);\n",
       "          s.src = paths[lib];\n",
       "        });\n",
       "    }\n",
       "\n",
       "    function showError(err) {\n",
       "      outputDiv.innerHTML = `<div class=\"error\" style=\"color:red;\">${err}</div>`;\n",
       "      throw err;\n",
       "    }\n",
       "\n",
       "    function displayChart(vegaEmbed) {\n",
       "      vegaEmbed(outputDiv, spec, embedOpt)\n",
       "        .catch(err => showError(`Javascript Error: ${err.message}<br>This usually means there's a typo in your chart specification. See the javascript console for the full traceback.`));\n",
       "    }\n",
       "\n",
       "    if(typeof define === \"function\" && define.amd) {\n",
       "      requirejs.config({paths});\n",
       "      require([\"vega-embed\"], displayChart, err => showError(`Error loading script: ${err.message}`));\n",
       "    } else {\n",
       "      maybeLoadScript(\"vega\", \"5\")\n",
       "        .then(() => maybeLoadScript(\"vega-lite\", \"5.20.1\"))\n",
       "        .then(() => maybeLoadScript(\"vega-embed\", \"6\"))\n",
       "        .catch(showError)\n",
       "        .then(() => displayChart(vegaEmbed));\n",
       "    }\n",
       "  })({\"config\": {\"view\": {\"continuousWidth\": 300, \"continuousHeight\": 300}}, \"data\": {\"name\": \"data-e4e19aba2467744e723e84d286797c3d\"}, \"mark\": {\"type\": \"bar\", \"tooltip\": true}, \"encoding\": {\"x\": {\"field\": \"climbing\", \"type\": \"nominal\"}, \"y\": {\"field\": \"distance_2d\", \"type\": \"quantitative\"}}, \"params\": [{\"name\": \"param_4\", \"select\": {\"type\": \"interval\", \"encodings\": [\"x\", \"y\"]}, \"bind\": \"scales\"}], \"$schema\": \"https://vega.github.io/schema/vega-lite/v5.20.1.json\", \"datasets\": {\"data-e4e19aba2467744e723e84d286797c3d\": [{\"climbing\": false, \"distance_2d\": 5.46702000577112}, {\"climbing\": true, \"distance_2d\": 6.123374045821385}]}}, {\"mode\": \"vega-lite\"});\n",
       "</script>"
      ],
      "text/plain": [
       "alt.Chart(...)"
      ]
     },
     "execution_count": 116,
     "metadata": {},
     "output_type": "execute_result"
    }
   ],
   "source": [
    "# uphill vs downhill\n",
    "def meters_to_feet(m):\n",
    "    return m * 3.28084\n",
    "\n",
    "def feet_to_miles(f):\n",
    "    return f / 5280\n",
    "\n",
    "(tweak_gpx(raw)\n",
    " .with_columns(climbing=pl.col('elevation').diff().gt(0))\n",
    " .group_by('climbing')\n",
    " .agg(pl.col('distance_2d').sum().pipe(meters_to_feet).pipe(feet_to_miles))\n",
    " .filter(~pl.col('climbing').is_null())\n",
    " .plot.bar(x='climbing', y='distance_2d')\n",
    ")"
   ]
  },
  {
   "cell_type": "code",
   "execution_count": null,
   "metadata": {
    "lines_to_next_cell": 2,
    "pycharm": {
     "name": "#%%\n"
    }
   },
   "outputs": [],
   "source": []
  },
  {
   "cell_type": "code",
   "execution_count": null,
   "metadata": {
    "lines_to_next_cell": 2,
    "pycharm": {
     "name": "#%%\n"
    }
   },
   "outputs": [],
   "source": []
  },
  {
   "cell_type": "code",
   "execution_count": null,
   "metadata": {
    "lines_to_next_cell": 2,
    "pycharm": {
     "name": "#%%\n"
    }
   },
   "outputs": [],
   "source": []
  },
  {
   "cell_type": "code",
   "execution_count": null,
   "metadata": {
    "lines_to_next_cell": 2,
    "pycharm": {
     "name": "#%%\n"
    }
   },
   "outputs": [],
   "source": []
  },
  {
   "cell_type": "code",
   "execution_count": null,
   "metadata": {
    "lines_to_next_cell": 2,
    "pycharm": {
     "name": "#%%\n"
    }
   },
   "outputs": [],
   "source": []
  },
  {
   "cell_type": "code",
   "execution_count": null,
   "metadata": {
    "lines_to_next_cell": 2,
    "pycharm": {
     "name": "#%%\n"
    }
   },
   "outputs": [],
   "source": []
  },
  {
   "cell_type": "code",
   "execution_count": null,
   "metadata": {
    "lines_to_next_cell": 2,
    "pycharm": {
     "name": "#%%\n"
    }
   },
   "outputs": [],
   "source": []
  },
  {
   "cell_type": "code",
   "execution_count": null,
   "metadata": {
    "lines_to_next_cell": 2,
    "pycharm": {
     "name": "#%%\n"
    }
   },
   "outputs": [],
   "source": []
  },
  {
   "cell_type": "markdown",
   "metadata": {
    "pycharm": {
     "name": "#%% md\n"
    }
   },
   "source": [
    "## Summary\n",
    "\n",
    "* Correct types save space and enable convenient math, string, and date functionality\n",
    "* Chaining operations will:\n",
    "   * Make code readable\n",
    "   * Remove bugs\n",
    "   * Easier to debug\n",
    "* ``.map_elements`` is slow for math\n",
    "* Aggregations are powerful. Play with them until they make sense\n",
    "\n",
    "\n",
    "Let's connect! Happy to discuss how your team can better leverage tabular technologies.\n",
    "\n",
    "Twitter ``@__mharrison__``, LinkedIn\n",
    "\n",
    "Book giveaway"
   ]
  },
  {
   "cell_type": "code",
   "execution_count": 117,
   "metadata": {},
   "outputs": [],
   "source": [
    "import random"
   ]
  },
  {
   "cell_type": "code",
   "execution_count": 118,
   "metadata": {},
   "outputs": [
    {
     "data": {
      "text/plain": [
       "10"
      ]
     },
     "execution_count": 118,
     "metadata": {},
     "output_type": "execute_result"
    }
   ],
   "source": [
    "random.randrange(0, 12)"
   ]
  },
  {
   "cell_type": "code",
   "execution_count": null,
   "metadata": {},
   "outputs": [],
   "source": [
    "random.randrange(0, 3)"
   ]
  },
  {
   "cell_type": "code",
   "execution_count": null,
   "metadata": {},
   "outputs": [],
   "source": [
    "import random\n",
    "random.choice([0,1])"
   ]
  },
  {
   "cell_type": "code",
   "execution_count": null,
   "metadata": {
    "lines_to_next_cell": 2,
    "pycharm": {
     "name": "#%%\n"
    }
   },
   "outputs": [],
   "source": [
    "import random\n",
    "random.randrange(1,4)"
   ]
  },
  {
   "cell_type": "code",
   "execution_count": null,
   "metadata": {
    "lines_to_next_cell": 2,
    "pycharm": {
     "name": "#%%\n"
    }
   },
   "outputs": [],
   "source": []
  },
  {
   "cell_type": "code",
   "execution_count": null,
   "metadata": {
    "lines_to_next_cell": 2,
    "pycharm": {
     "name": "#%%\n"
    }
   },
   "outputs": [],
   "source": []
  },
  {
   "cell_type": "code",
   "execution_count": null,
   "metadata": {
    "pycharm": {
     "name": "#%%\n"
    }
   },
   "outputs": [],
   "source": []
  }
 ],
 "metadata": {
  "jupytext": {
   "encoding": "# -*- coding: utf-8 -*-",
   "formats": "ipynb,py:light"
  },
  "kernelspec": {
   "display_name": "Python 3 (ipykernel)",
   "language": "python",
   "name": "python3"
  },
  "language_info": {
   "codemirror_mode": {
    "name": "ipython",
    "version": 3
   },
   "file_extension": ".py",
   "mimetype": "text/x-python",
   "name": "python",
   "nbconvert_exporter": "python",
   "pygments_lexer": "ipython3",
   "version": "3.10.15"
  }
 },
 "nbformat": 4,
 "nbformat_minor": 4
}
