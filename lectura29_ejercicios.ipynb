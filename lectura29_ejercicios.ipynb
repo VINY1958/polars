{
  "nbformat": 4,
  "nbformat_minor": 0,
  "metadata": {
    "colab": {
      "provenance": []
    },
    "kernelspec": {
      "name": "python3",
      "display_name": "Python 3"
    },
    "language_info": {
      "name": "python"
    }
  },
  "cells": [
    {
      "cell_type": "code",
      "execution_count": 1,
      "metadata": {
        "id": "321jEJKDcJzn"
      },
      "outputs": [],
      "source": [
        "import polars as pl"
      ]
    },
    {
      "cell_type": "code",
      "source": [],
      "metadata": {
        "id": "35QcQATwqaG4"
      },
      "execution_count": null,
      "outputs": []
    },
    {
      "cell_type": "code",
      "source": [
        "df_reviews = pl.read_parquet('/content/datos.parquet')\n",
        "df_reviews"
      ],
      "metadata": {
        "colab": {
          "base_uri": "https://localhost:8080/",
          "height": 949
        },
        "id": "2uMy5w0LqYHY",
        "outputId": "d99783c0-ac45-4689-f86e-ce09d94f65a6"
      },
      "execution_count": 12,
      "outputs": [
        {
          "output_type": "execute_result",
          "data": {
            "text/plain": [
              "shape: (48_137, 16)\n",
              "┌───────────┬───────────┬───────────┬───────────┬───┬───────────┬───────────┬───────────┬──────────┐\n",
              "│ video_id  ┆ trending_ ┆ title     ┆ channel_t ┆ … ┆ comments_ ┆ ratings_d ┆ video_err ┆ descript │\n",
              "│ ---       ┆ date      ┆ ---       ┆ itle      ┆   ┆ disabled  ┆ isabled   ┆ or_or_rem ┆ ion      │\n",
              "│ str       ┆ ---       ┆ str       ┆ ---       ┆   ┆ ---       ┆ ---       ┆ oved      ┆ ---      │\n",
              "│           ┆ str       ┆           ┆ str       ┆   ┆ str       ┆ str       ┆ ---       ┆ str      │\n",
              "│           ┆           ┆           ┆           ┆   ┆           ┆           ┆ str       ┆          │\n",
              "╞═══════════╪═══════════╪═══════════╪═══════════╪═══╪═══════════╪═══════════╪═══════════╪══════════╡\n",
              "│ 2kyS6SvSY ┆ 17.14.11  ┆ WE WANT   ┆ CaseyNeis ┆ … ┆ False     ┆ False     ┆ False     ┆ SHANTELL │\n",
              "│ SE        ┆           ┆ TO TALK   ┆ tat       ┆   ┆           ┆           ┆           ┆ 'S       │\n",
              "│           ┆           ┆ ABOUT OUR ┆           ┆   ┆           ┆           ┆           ┆ CHANNEL  │\n",
              "│           ┆           ┆ MARR…     ┆           ┆   ┆           ┆           ┆           ┆ - https: │\n",
              "│           ┆           ┆           ┆           ┆   ┆           ┆           ┆           ┆ //w…     │\n",
              "│ 1ZAPwfrtA ┆ 17.14.11  ┆ The Trump ┆ LastWeekT ┆ … ┆ False     ┆ False     ┆ False     ┆ One year │\n",
              "│ FY        ┆           ┆ Presidenc ┆ onight    ┆   ┆           ┆           ┆           ┆ after    │\n",
              "│           ┆           ┆ y: Last   ┆           ┆   ┆           ┆           ┆           ┆ the pres │\n",
              "│           ┆           ┆ Wee…      ┆           ┆   ┆           ┆           ┆           ┆ identia… │\n",
              "│ 5qpjK5DgC ┆ 17.14.11  ┆ Racist    ┆ Rudy      ┆ … ┆ False     ┆ False     ┆ False     ┆ WATCH MY │\n",
              "│ t4        ┆           ┆ Superman  ┆ Mancuso   ┆   ┆           ┆           ┆           ┆ PREVIOUS │\n",
              "│           ┆           ┆ | Rudy    ┆           ┆   ┆           ┆           ┆           ┆ VIDEO ▶  │\n",
              "│           ┆           ┆ Mancuso…  ┆           ┆   ┆           ┆           ┆           ┆ \\n\\n…    │\n",
              "│ puqaWrEC7 ┆ 17.14.11  ┆ Nickelbac ┆ Good      ┆ … ┆ False     ┆ False     ┆ False     ┆ Today we │\n",
              "│ tY        ┆           ┆ k Lyrics: ┆ Mythical  ┆   ┆           ┆           ┆           ┆ find out │\n",
              "│           ┆           ┆ Real or   ┆ Morning   ┆   ┆           ┆           ┆           ┆ if Link  │\n",
              "│           ┆           ┆ Fak…      ┆           ┆   ┆           ┆           ┆           ┆ is a…    │\n",
              "│ d380meD0W ┆ 17.14.11  ┆ I Dare    ┆ nigahiga  ┆ … ┆ False     ┆ False     ┆ False     ┆ I know   │\n",
              "│ 0M        ┆           ┆ You:      ┆           ┆   ┆           ┆           ┆           ┆ it's     │\n",
              "│           ┆           ┆ GOING     ┆           ┆   ┆           ┆           ┆           ┆ been a   │\n",
              "│           ┆           ┆ BALD!?    ┆           ┆   ┆           ┆           ┆           ┆ while    │\n",
              "│           ┆           ┆           ┆           ┆   ┆           ┆           ┆           ┆ since…   │\n",
              "│ …         ┆ …         ┆ …         ┆ …         ┆ … ┆ …         ┆ …         ┆ …         ┆ …        │\n",
              "│ BZt0qjTWN ┆ 18.14.06  ┆ The Cat   ┆ AaronsAni ┆ … ┆ False     ┆ False     ┆ False     ┆ The Cat  │\n",
              "│ hw        ┆           ┆ Who       ┆ mals      ┆   ┆           ┆           ┆           ┆ Who      │\n",
              "│           ┆           ┆ Caught    ┆           ┆   ┆           ┆           ┆           ┆ Caught   │\n",
              "│           ┆           ┆ the Laser ┆           ┆   ┆           ┆           ┆           ┆ the      │\n",
              "│           ┆           ┆           ┆           ┆   ┆           ┆           ┆           ┆ Laser -… │\n",
              "│ 1h7KV2sjU ┆ 18.14.06  ┆ True      ┆ zefrank1  ┆ … ┆ False     ┆ False     ┆ False     ┆ null     │\n",
              "│ WY        ┆           ┆ Facts :   ┆           ┆   ┆           ┆           ┆           ┆          │\n",
              "│           ┆           ┆ Ant       ┆           ┆   ┆           ┆           ┆           ┆          │\n",
              "│           ┆           ┆ Mutualism ┆           ┆   ┆           ┆           ┆           ┆          │\n",
              "│ D6Oy4Lfoq ┆ 18.14.06  ┆ I GAVE    ┆ Brad      ┆ … ┆ False     ┆ False     ┆ False     ┆ I had so │\n",
              "│ sU        ┆           ┆ SAFIYA    ┆ Mondo     ┆   ┆           ┆           ┆           ┆ much fun │\n",
              "│           ┆           ┆ NYGAARD A ┆           ┆   ┆           ┆           ┆           ┆ transfor │\n",
              "│           ┆           ┆ PERFEC…   ┆           ┆   ┆           ┆           ┆           ┆ ming…    │\n",
              "│ oV0zkMe1K ┆ 18.14.06  ┆ How Black ┆ How It    ┆ … ┆ False     ┆ False     ┆ False     ┆ How      │\n",
              "│ 8s        ┆           ┆ Panther   ┆ Should    ┆   ┆           ┆           ┆           ┆ Black    │\n",
              "│           ┆           ┆ Should    ┆ Have      ┆   ┆           ┆           ┆           ┆ Panther  │\n",
              "│           ┆           ┆ Have …    ┆ Ended     ┆   ┆           ┆           ┆           ┆ Should   │\n",
              "│           ┆           ┆           ┆           ┆   ┆           ┆           ┆           ┆ Have …   │\n",
              "│ ooyjaVdt- ┆ 18.14.06  ┆ Official  ┆ Call of   ┆ … ┆ False     ┆ False     ┆ False     ┆ Call of  │\n",
              "│ jA        ┆           ┆ Call of   ┆ Duty      ┆   ┆           ┆           ┆           ┆ Duty:    │\n",
              "│           ┆           ┆ Duty®:    ┆           ┆   ┆           ┆           ┆           ┆ Black    │\n",
              "│           ┆           ┆ Black …   ┆           ┆   ┆           ┆           ┆           ┆ Ops 4    │\n",
              "│           ┆           ┆           ┆           ┆   ┆           ┆           ┆           ┆ Mult…    │\n",
              "└───────────┴───────────┴───────────┴───────────┴───┴───────────┴───────────┴───────────┴──────────┘"
            ],
            "text/html": [
              "<div><style>\n",
              ".dataframe > thead > tr,\n",
              ".dataframe > tbody > tr {\n",
              "  text-align: right;\n",
              "  white-space: pre-wrap;\n",
              "}\n",
              "</style>\n",
              "<small>shape: (48_137, 16)</small><table border=\"1\" class=\"dataframe\"><thead><tr><th>video_id</th><th>trending_date</th><th>title</th><th>channel_title</th><th>category_id</th><th>publish_time</th><th>tags</th><th>views</th><th>likes</th><th>dislikes</th><th>comment_count</th><th>thumbnail_link</th><th>comments_disabled</th><th>ratings_disabled</th><th>video_error_or_removed</th><th>description</th></tr><tr><td>str</td><td>str</td><td>str</td><td>str</td><td>str</td><td>datetime[ns]</td><td>str</td><td>i32</td><td>i32</td><td>i32</td><td>i32</td><td>str</td><td>str</td><td>str</td><td>str</td><td>str</td></tr></thead><tbody><tr><td>&quot;2kyS6SvSYSE&quot;</td><td>&quot;17.14.11&quot;</td><td>&quot;WE WANT TO TALK ABOUT OUR MARR…</td><td>&quot;CaseyNeistat&quot;</td><td>&quot;22&quot;</td><td>2017-11-13 17:13:01</td><td>&quot;SHANtell martin&quot;</td><td>748374</td><td>57527</td><td>2966</td><td>15954</td><td>&quot;https://i.ytimg.com/vi/2kyS6Sv…</td><td>&quot;False&quot;</td><td>&quot;False&quot;</td><td>&quot;False&quot;</td><td>&quot;SHANTELL&#x27;S CHANNEL - https://w…</td></tr><tr><td>&quot;1ZAPwfrtAFY&quot;</td><td>&quot;17.14.11&quot;</td><td>&quot;The Trump Presidency: Last Wee…</td><td>&quot;LastWeekTonight&quot;</td><td>&quot;24&quot;</td><td>2017-11-13 07:30:00</td><td>&quot;&quot;last week tonight trump presi…</td><td>2418783</td><td>97185</td><td>6146</td><td>12703</td><td>&quot;https://i.ytimg.com/vi/1ZAPwfr…</td><td>&quot;False&quot;</td><td>&quot;False&quot;</td><td>&quot;False&quot;</td><td>&quot;One year after the presidentia…</td></tr><tr><td>&quot;5qpjK5DgCt4&quot;</td><td>&quot;17.14.11&quot;</td><td>&quot;Racist Superman | Rudy Mancuso…</td><td>&quot;Rudy Mancuso&quot;</td><td>&quot;23&quot;</td><td>2017-11-12 19:05:24</td><td>&quot;&quot;racist superman&quot;|&quot;rudy&quot;|&quot;manc…</td><td>3191434</td><td>146033</td><td>5339</td><td>8181</td><td>&quot;https://i.ytimg.com/vi/5qpjK5D…</td><td>&quot;False&quot;</td><td>&quot;False&quot;</td><td>&quot;False&quot;</td><td>&quot;WATCH MY PREVIOUS VIDEO ▶ \\n\\n…</td></tr><tr><td>&quot;puqaWrEC7tY&quot;</td><td>&quot;17.14.11&quot;</td><td>&quot;Nickelback Lyrics: Real or Fak…</td><td>&quot;Good Mythical Morning&quot;</td><td>&quot;24&quot;</td><td>2017-11-13 11:00:04</td><td>&quot;&quot;rhett and link&quot;|&quot;gmm&quot;|&quot;good m…</td><td>343168</td><td>10172</td><td>666</td><td>2146</td><td>&quot;https://i.ytimg.com/vi/puqaWrE…</td><td>&quot;False&quot;</td><td>&quot;False&quot;</td><td>&quot;False&quot;</td><td>&quot;Today we find out if Link is a…</td></tr><tr><td>&quot;d380meD0W0M&quot;</td><td>&quot;17.14.11&quot;</td><td>&quot;I Dare You: GOING BALD!?&quot;</td><td>&quot;nigahiga&quot;</td><td>&quot;24&quot;</td><td>2017-11-12 18:01:41</td><td>&quot;&quot;ryan&quot;|&quot;higa&quot;|&quot;higatv&quot;|&quot;nigahi…</td><td>2095731</td><td>132235</td><td>1989</td><td>17518</td><td>&quot;https://i.ytimg.com/vi/d380meD…</td><td>&quot;False&quot;</td><td>&quot;False&quot;</td><td>&quot;False&quot;</td><td>&quot;I know it&#x27;s been a while since…</td></tr><tr><td>&hellip;</td><td>&hellip;</td><td>&hellip;</td><td>&hellip;</td><td>&hellip;</td><td>&hellip;</td><td>&hellip;</td><td>&hellip;</td><td>&hellip;</td><td>&hellip;</td><td>&hellip;</td><td>&hellip;</td><td>&hellip;</td><td>&hellip;</td><td>&hellip;</td><td>&hellip;</td></tr><tr><td>&quot;BZt0qjTWNhw&quot;</td><td>&quot;18.14.06&quot;</td><td>&quot;The Cat Who Caught the Laser&quot;</td><td>&quot;AaronsAnimals&quot;</td><td>&quot;15&quot;</td><td>2018-05-18 13:00:04</td><td>&quot;&quot;aarons animals&quot;|&quot;aarons&quot;|&quot;ani…</td><td>1685609</td><td>38160</td><td>1385</td><td>2657</td><td>&quot;https://i.ytimg.com/vi/BZt0qjT…</td><td>&quot;False&quot;</td><td>&quot;False&quot;</td><td>&quot;False&quot;</td><td>&quot;The Cat Who Caught the Laser -…</td></tr><tr><td>&quot;1h7KV2sjUWY&quot;</td><td>&quot;18.14.06&quot;</td><td>&quot;True Facts : Ant Mutualism&quot;</td><td>&quot;zefrank1&quot;</td><td>&quot;22&quot;</td><td>2018-05-18 01:00:06</td><td>&quot;[none]&quot;</td><td>1064798</td><td>60008</td><td>382</td><td>3936</td><td>&quot;https://i.ytimg.com/vi/1h7KV2s…</td><td>&quot;False&quot;</td><td>&quot;False&quot;</td><td>&quot;False&quot;</td><td>null</td></tr><tr><td>&quot;D6Oy4LfoqsU&quot;</td><td>&quot;18.14.06&quot;</td><td>&quot;I GAVE SAFIYA NYGAARD A PERFEC…</td><td>&quot;Brad Mondo&quot;</td><td>&quot;24&quot;</td><td>2018-05-18 17:34:22</td><td>&quot;&quot;I gave safiya nygaard a perfe…</td><td>1066451</td><td>48068</td><td>1032</td><td>3992</td><td>&quot;https://i.ytimg.com/vi/D6Oy4Lf…</td><td>&quot;False&quot;</td><td>&quot;False&quot;</td><td>&quot;False&quot;</td><td>&quot;I had so much fun transforming…</td></tr><tr><td>&quot;oV0zkMe1K8s&quot;</td><td>&quot;18.14.06&quot;</td><td>&quot;How Black Panther Should Have …</td><td>&quot;How It Should Have Ended&quot;</td><td>&quot;1&quot;</td><td>2018-05-17 17:00:04</td><td>&quot;&quot;Black Panther&quot;|&quot;HISHE&quot;|&quot;Marve…</td><td>5660813</td><td>192957</td><td>2846</td><td>13088</td><td>&quot;https://i.ytimg.com/vi/oV0zkMe…</td><td>&quot;False&quot;</td><td>&quot;False&quot;</td><td>&quot;False&quot;</td><td>&quot;How Black Panther Should Have …</td></tr><tr><td>&quot;ooyjaVdt-jA&quot;</td><td>&quot;18.14.06&quot;</td><td>&quot;Official Call of Duty®: Black …</td><td>&quot;Call of Duty&quot;</td><td>&quot;20&quot;</td><td>2018-05-17 17:09:38</td><td>&quot;&quot;call of duty&quot;|&quot;cod&quot;|&quot;activisi…</td><td>10306119</td><td>357079</td><td>212976</td><td>144795</td><td>&quot;https://i.ytimg.com/vi/ooyjaVd…</td><td>&quot;False&quot;</td><td>&quot;False&quot;</td><td>&quot;False&quot;</td><td>&quot;Call of Duty: Black Ops 4 Mult…</td></tr></tbody></table></div>"
            ]
          },
          "metadata": {},
          "execution_count": 12
        }
      ]
    },
    {
      "cell_type": "code",
      "source": [
        "all = pl.read_parquet('/content/all_reviews.parquet')"
      ],
      "metadata": {
        "id": "z7_NNtPJcWoE"
      },
      "execution_count": 2,
      "outputs": []
    },
    {
      "cell_type": "code",
      "source": [
        "all.head(3)"
      ],
      "metadata": {
        "colab": {
          "base_uri": "https://localhost:8080/",
          "height": 403
        },
        "id": "0UGTlDsxiLYb",
        "outputId": "a671272d-859b-458a-e252-224f855ed6a7"
      },
      "execution_count": 3,
      "outputs": [
        {
          "output_type": "execute_result",
          "data": {
            "text/plain": [
              "shape: (3, 19)\n",
              "┌────────┬─────────────┬─────────────┬─────────────┬───┬────────────┬─────────┬────────────┬───────┐\n",
              "│ rating ┆ title       ┆ status      ┆ pros        ┆ … ┆ firm_link  ┆ date    ┆ job        ┆ index │\n",
              "│ ---    ┆ ---         ┆ ---         ┆ ---         ┆   ┆ ---        ┆ ---     ┆ ---        ┆ ---   │\n",
              "│ f64    ┆ str         ┆ str         ┆ str         ┆   ┆ str        ┆ str     ┆ str        ┆ str   │\n",
              "╞════════╪═════════════╪═════════════╪═════════════╪═══╪════════════╪═════════╪════════════╪═══════╡\n",
              "│ 5.0    ┆ Good        ┆ Current     ┆ Knowledge   ┆ … ┆ Reviews/Ba ┆ Nov 19, ┆ Manager    ┆ null  │\n",
              "│        ┆             ┆ Employee,   ┆ gain of     ┆   ┆ ja-Steel-a ┆ 2022    ┆ Design     ┆       │\n",
              "│        ┆             ┆ more than   ┆ complete    ┆   ┆ nd-Fence-R ┆         ┆            ┆       │\n",
              "│        ┆             ┆ 10…         ┆ pr…         ┆   ┆ …          ┆         ┆            ┆       │\n",
              "│ 4.0    ┆ Good        ┆ Former      ┆ Good        ┆ … ┆ Reviews/Ba ┆ Jan 29, ┆ Anonymous  ┆ null  │\n",
              "│        ┆             ┆ Employee,   ┆ work,good   ┆   ┆ ja-Steel-a ┆ 2022    ┆ Employee   ┆       │\n",
              "│        ┆             ┆ less than 1 ┆ work ,      ┆   ┆ nd-Fence-R ┆         ┆            ┆       │\n",
              "│        ┆             ┆ y…          ┆ flexible…   ┆   ┆ …          ┆         ┆            ┆       │\n",
              "│ 4.0    ┆ Supervising ┆ Current     ┆ This        ┆ … ┆ Reviews/Ba ┆ Aug 12, ┆ Production ┆ null  │\n",
              "│        ┆ the manufac ┆ Employee,   ┆ company is  ┆   ┆ ja-Steel-a ┆ 2021    ┆ Engineer   ┆       │\n",
              "│        ┆ turing …    ┆ more than 1 ┆ a best      ┆   ┆ nd-Fence-R ┆         ┆            ┆       │\n",
              "│        ┆             ┆ …           ┆ opportu…    ┆   ┆ …          ┆         ┆            ┆       │\n",
              "└────────┴─────────────┴─────────────┴─────────────┴───┴────────────┴─────────┴────────────┴───────┘"
            ],
            "text/html": [
              "<div><style>\n",
              ".dataframe > thead > tr,\n",
              ".dataframe > tbody > tr {\n",
              "  text-align: right;\n",
              "  white-space: pre-wrap;\n",
              "}\n",
              "</style>\n",
              "<small>shape: (3, 19)</small><table border=\"1\" class=\"dataframe\"><thead><tr><th>rating</th><th>title</th><th>status</th><th>pros</th><th>cons</th><th>advice</th><th>Recommend</th><th>CEO Approval</th><th>Business Outlook</th><th>Career Opportunities</th><th>Compensation and Benefits</th><th>Senior Management</th><th>Work/Life Balance</th><th>Culture &amp; Values</th><th>Diversity &amp; Inclusion</th><th>firm_link</th><th>date</th><th>job</th><th>index</th></tr><tr><td>f64</td><td>str</td><td>str</td><td>str</td><td>str</td><td>str</td><td>str</td><td>str</td><td>str</td><td>str</td><td>str</td><td>str</td><td>str</td><td>f64</td><td>f64</td><td>str</td><td>str</td><td>str</td><td>str</td></tr></thead><tbody><tr><td>5.0</td><td>&quot;Good&quot;</td><td>&quot;Current Employee, more than 10…</td><td>&quot;Knowledge gain of complete  pr…</td><td>&quot;Financial growth  and personal…</td><td>null</td><td>&quot;v&quot;</td><td>&quot;o&quot;</td><td>&quot;v&quot;</td><td>&quot;3&quot;</td><td>&quot;3&quot;</td><td>&quot;3&quot;</td><td>&quot;3&quot;</td><td>3.0</td><td>3.0</td><td>&quot;Reviews/Baja-Steel-and-Fence-R…</td><td>&quot;Nov 19, 2022 &quot;</td><td>&quot; Manager Design&quot;</td><td>null</td></tr><tr><td>4.0</td><td>&quot;Good&quot;</td><td>&quot;Former Employee, less than 1 y…</td><td>&quot;Good work,good work , flexible…</td><td>&quot;Good,work, flexible,good suppo…</td><td>null</td><td>&quot;v&quot;</td><td>&quot;o&quot;</td><td>&quot;o&quot;</td><td>&quot;4&quot;</td><td>&quot;4&quot;</td><td>&quot;4&quot;</td><td>&quot;4&quot;</td><td>4.0</td><td>4.0</td><td>&quot;Reviews/Baja-Steel-and-Fence-R…</td><td>&quot;Jan 29, 2022 &quot;</td><td>&quot; Anonymous Employee&quot;</td><td>null</td></tr><tr><td>4.0</td><td>&quot;Supervising the manufacturing …</td><td>&quot;Current Employee, more than 1 …</td><td>&quot;This company is a best opportu…</td><td>&quot;Monthly Target work,Maintain p…</td><td>null</td><td>&quot;v&quot;</td><td>&quot;o&quot;</td><td>&quot;v&quot;</td><td>&quot;2&quot;</td><td>&quot;3&quot;</td><td>&quot;2&quot;</td><td>&quot;2&quot;</td><td>2.0</td><td>2.0</td><td>&quot;Reviews/Baja-Steel-and-Fence-R…</td><td>&quot;Aug 12, 2021 &quot;</td><td>&quot; Production Engineer&quot;</td><td>null</td></tr></tbody></table></div>"
            ]
          },
          "metadata": {},
          "execution_count": 3
        }
      ]
    },
    {
      "cell_type": "code",
      "source": [
        "all.columns"
      ],
      "metadata": {
        "colab": {
          "base_uri": "https://localhost:8080/"
        },
        "id": "rQ4HraPiinjg",
        "outputId": "2d9ac97b-da85-448e-dee9-212579613c7c"
      },
      "execution_count": 4,
      "outputs": [
        {
          "output_type": "execute_result",
          "data": {
            "text/plain": [
              "['rating',\n",
              " 'title',\n",
              " 'status',\n",
              " 'pros',\n",
              " 'cons',\n",
              " 'advice',\n",
              " 'Recommend',\n",
              " 'CEO Approval',\n",
              " 'Business Outlook',\n",
              " 'Career Opportunities',\n",
              " 'Compensation and Benefits',\n",
              " 'Senior Management',\n",
              " 'Work/Life Balance',\n",
              " 'Culture & Values',\n",
              " 'Diversity & Inclusion',\n",
              " 'firm_link',\n",
              " 'date',\n",
              " 'job',\n",
              " 'index']"
            ]
          },
          "metadata": {},
          "execution_count": 4
        }
      ]
    },
    {
      "cell_type": "code",
      "source": [
        "def transform_columns_names(columns):\n",
        "    new_columns= []\n",
        "    for c in columns:\n",
        "        new_columns.append(\n",
        "        c.lower()\n",
        "        .replace(' ', '_')\n",
        "        .replace('/', '_')\n",
        "        .replace('&', 'and')\n",
        "        )\n",
        "    return new_columns\n",
        "\n",
        "new_columns = transform_columns_names(all.columns)\n",
        "df_reviews = df_reviews.rename({key:value for key, value in zip(df_reviews.columns, new_columns)})\n",
        "\n",
        "print(df_reviews.columns)\n",
        "print('')\n",
        "df_reviews"
      ],
      "metadata": {
        "colab": {
          "base_uri": "https://localhost:8080/",
          "height": 986
        },
        "id": "aNy0oo16oxgj",
        "outputId": "1053e7dd-2afb-4ad5-cb33-e41586fc32bb"
      },
      "execution_count": 11,
      "outputs": [
        {
          "output_type": "stream",
          "name": "stdout",
          "text": [
            "['rating', 'title', 'status', 'pros', 'cons', 'advice', 'recommend', 'ceo_approval', 'business_outlook', 'career_opportunities', 'compensation_and_benefits', 'senior_management', 'work_life_balance', 'culture_and_values', 'diversity_and_inclusion', 'firm_link']\n",
            "\n"
          ]
        },
        {
          "output_type": "execute_result",
          "data": {
            "text/plain": [
              "shape: (48_137, 16)\n",
              "┌───────────┬──────────┬───────────┬───────────┬───┬───────────┬───────────┬───────────┬───────────┐\n",
              "│ rating    ┆ title    ┆ status    ┆ pros      ┆ … ┆ work_life ┆ culture_a ┆ diversity ┆ firm_link │\n",
              "│ ---       ┆ ---      ┆ ---       ┆ ---       ┆   ┆ _balance  ┆ nd_values ┆ _and_incl ┆ ---       │\n",
              "│ str       ┆ str      ┆ str       ┆ str       ┆   ┆ ---       ┆ ---       ┆ usion     ┆ str       │\n",
              "│           ┆          ┆           ┆           ┆   ┆ str       ┆ str       ┆ ---       ┆           │\n",
              "│           ┆          ┆           ┆           ┆   ┆           ┆           ┆ str       ┆           │\n",
              "╞═══════════╪══════════╪═══════════╪═══════════╪═══╪═══════════╪═══════════╪═══════════╪═══════════╡\n",
              "│ 2kyS6SvSY ┆ 17.14.11 ┆ WE WANT   ┆ CaseyNeis ┆ … ┆ False     ┆ False     ┆ False     ┆ SHANTELL' │\n",
              "│ SE        ┆          ┆ TO TALK   ┆ tat       ┆   ┆           ┆           ┆           ┆ S CHANNEL │\n",
              "│           ┆          ┆ ABOUT OUR ┆           ┆   ┆           ┆           ┆           ┆ - https:/ │\n",
              "│           ┆          ┆ MARR…     ┆           ┆   ┆           ┆           ┆           ┆ /w…       │\n",
              "│ 1ZAPwfrtA ┆ 17.14.11 ┆ The Trump ┆ LastWeekT ┆ … ┆ False     ┆ False     ┆ False     ┆ One year  │\n",
              "│ FY        ┆          ┆ Presidenc ┆ onight    ┆   ┆           ┆           ┆           ┆ after the │\n",
              "│           ┆          ┆ y: Last   ┆           ┆   ┆           ┆           ┆           ┆ president │\n",
              "│           ┆          ┆ Wee…      ┆           ┆   ┆           ┆           ┆           ┆ ia…       │\n",
              "│ 5qpjK5DgC ┆ 17.14.11 ┆ Racist    ┆ Rudy      ┆ … ┆ False     ┆ False     ┆ False     ┆ WATCH MY  │\n",
              "│ t4        ┆          ┆ Superman  ┆ Mancuso   ┆   ┆           ┆           ┆           ┆ PREVIOUS  │\n",
              "│           ┆          ┆ | Rudy    ┆           ┆   ┆           ┆           ┆           ┆ VIDEO ▶   │\n",
              "│           ┆          ┆ Mancuso…  ┆           ┆   ┆           ┆           ┆           ┆ \\n\\n…     │\n",
              "│ puqaWrEC7 ┆ 17.14.11 ┆ Nickelbac ┆ Good      ┆ … ┆ False     ┆ False     ┆ False     ┆ Today we  │\n",
              "│ tY        ┆          ┆ k Lyrics: ┆ Mythical  ┆   ┆           ┆           ┆           ┆ find out  │\n",
              "│           ┆          ┆ Real or   ┆ Morning   ┆   ┆           ┆           ┆           ┆ if Link   │\n",
              "│           ┆          ┆ Fak…      ┆           ┆   ┆           ┆           ┆           ┆ is a…     │\n",
              "│ d380meD0W ┆ 17.14.11 ┆ I Dare    ┆ nigahiga  ┆ … ┆ False     ┆ False     ┆ False     ┆ I know    │\n",
              "│ 0M        ┆          ┆ You:      ┆           ┆   ┆           ┆           ┆           ┆ it's been │\n",
              "│           ┆          ┆ GOING     ┆           ┆   ┆           ┆           ┆           ┆ a while   │\n",
              "│           ┆          ┆ BALD!?    ┆           ┆   ┆           ┆           ┆           ┆ since…    │\n",
              "│ …         ┆ …        ┆ …         ┆ …         ┆ … ┆ …         ┆ …         ┆ …         ┆ …         │\n",
              "│ BZt0qjTWN ┆ 18.14.06 ┆ The Cat   ┆ AaronsAni ┆ … ┆ False     ┆ False     ┆ False     ┆ The Cat   │\n",
              "│ hw        ┆          ┆ Who       ┆ mals      ┆   ┆           ┆           ┆           ┆ Who       │\n",
              "│           ┆          ┆ Caught    ┆           ┆   ┆           ┆           ┆           ┆ Caught    │\n",
              "│           ┆          ┆ the Laser ┆           ┆   ┆           ┆           ┆           ┆ the Laser │\n",
              "│           ┆          ┆           ┆           ┆   ┆           ┆           ┆           ┆ -…        │\n",
              "│ 1h7KV2sjU ┆ 18.14.06 ┆ True      ┆ zefrank1  ┆ … ┆ False     ┆ False     ┆ False     ┆ null      │\n",
              "│ WY        ┆          ┆ Facts :   ┆           ┆   ┆           ┆           ┆           ┆           │\n",
              "│           ┆          ┆ Ant       ┆           ┆   ┆           ┆           ┆           ┆           │\n",
              "│           ┆          ┆ Mutualism ┆           ┆   ┆           ┆           ┆           ┆           │\n",
              "│ D6Oy4Lfoq ┆ 18.14.06 ┆ I GAVE    ┆ Brad      ┆ … ┆ False     ┆ False     ┆ False     ┆ I had so  │\n",
              "│ sU        ┆          ┆ SAFIYA    ┆ Mondo     ┆   ┆           ┆           ┆           ┆ much fun  │\n",
              "│           ┆          ┆ NYGAARD A ┆           ┆   ┆           ┆           ┆           ┆ transform │\n",
              "│           ┆          ┆ PERFEC…   ┆           ┆   ┆           ┆           ┆           ┆ ing…      │\n",
              "│ oV0zkMe1K ┆ 18.14.06 ┆ How Black ┆ How It    ┆ … ┆ False     ┆ False     ┆ False     ┆ How Black │\n",
              "│ 8s        ┆          ┆ Panther   ┆ Should    ┆   ┆           ┆           ┆           ┆ Panther   │\n",
              "│           ┆          ┆ Should    ┆ Have      ┆   ┆           ┆           ┆           ┆ Should    │\n",
              "│           ┆          ┆ Have …    ┆ Ended     ┆   ┆           ┆           ┆           ┆ Have …    │\n",
              "│ ooyjaVdt- ┆ 18.14.06 ┆ Official  ┆ Call of   ┆ … ┆ False     ┆ False     ┆ False     ┆ Call of   │\n",
              "│ jA        ┆          ┆ Call of   ┆ Duty      ┆   ┆           ┆           ┆           ┆ Duty:     │\n",
              "│           ┆          ┆ Duty®:    ┆           ┆   ┆           ┆           ┆           ┆ Black Ops │\n",
              "│           ┆          ┆ Black …   ┆           ┆   ┆           ┆           ┆           ┆ 4 Mult…   │\n",
              "└───────────┴──────────┴───────────┴───────────┴───┴───────────┴───────────┴───────────┴───────────┘"
            ],
            "text/html": [
              "<div><style>\n",
              ".dataframe > thead > tr,\n",
              ".dataframe > tbody > tr {\n",
              "  text-align: right;\n",
              "  white-space: pre-wrap;\n",
              "}\n",
              "</style>\n",
              "<small>shape: (48_137, 16)</small><table border=\"1\" class=\"dataframe\"><thead><tr><th>rating</th><th>title</th><th>status</th><th>pros</th><th>cons</th><th>advice</th><th>recommend</th><th>ceo_approval</th><th>business_outlook</th><th>career_opportunities</th><th>compensation_and_benefits</th><th>senior_management</th><th>work_life_balance</th><th>culture_and_values</th><th>diversity_and_inclusion</th><th>firm_link</th></tr><tr><td>str</td><td>str</td><td>str</td><td>str</td><td>str</td><td>datetime[ns]</td><td>str</td><td>i32</td><td>i32</td><td>i32</td><td>i32</td><td>str</td><td>str</td><td>str</td><td>str</td><td>str</td></tr></thead><tbody><tr><td>&quot;2kyS6SvSYSE&quot;</td><td>&quot;17.14.11&quot;</td><td>&quot;WE WANT TO TALK ABOUT OUR MARR…</td><td>&quot;CaseyNeistat&quot;</td><td>&quot;22&quot;</td><td>2017-11-13 17:13:01</td><td>&quot;SHANtell martin&quot;</td><td>748374</td><td>57527</td><td>2966</td><td>15954</td><td>&quot;https://i.ytimg.com/vi/2kyS6Sv…</td><td>&quot;False&quot;</td><td>&quot;False&quot;</td><td>&quot;False&quot;</td><td>&quot;SHANTELL&#x27;S CHANNEL - https://w…</td></tr><tr><td>&quot;1ZAPwfrtAFY&quot;</td><td>&quot;17.14.11&quot;</td><td>&quot;The Trump Presidency: Last Wee…</td><td>&quot;LastWeekTonight&quot;</td><td>&quot;24&quot;</td><td>2017-11-13 07:30:00</td><td>&quot;&quot;last week tonight trump presi…</td><td>2418783</td><td>97185</td><td>6146</td><td>12703</td><td>&quot;https://i.ytimg.com/vi/1ZAPwfr…</td><td>&quot;False&quot;</td><td>&quot;False&quot;</td><td>&quot;False&quot;</td><td>&quot;One year after the presidentia…</td></tr><tr><td>&quot;5qpjK5DgCt4&quot;</td><td>&quot;17.14.11&quot;</td><td>&quot;Racist Superman | Rudy Mancuso…</td><td>&quot;Rudy Mancuso&quot;</td><td>&quot;23&quot;</td><td>2017-11-12 19:05:24</td><td>&quot;&quot;racist superman&quot;|&quot;rudy&quot;|&quot;manc…</td><td>3191434</td><td>146033</td><td>5339</td><td>8181</td><td>&quot;https://i.ytimg.com/vi/5qpjK5D…</td><td>&quot;False&quot;</td><td>&quot;False&quot;</td><td>&quot;False&quot;</td><td>&quot;WATCH MY PREVIOUS VIDEO ▶ \\n\\n…</td></tr><tr><td>&quot;puqaWrEC7tY&quot;</td><td>&quot;17.14.11&quot;</td><td>&quot;Nickelback Lyrics: Real or Fak…</td><td>&quot;Good Mythical Morning&quot;</td><td>&quot;24&quot;</td><td>2017-11-13 11:00:04</td><td>&quot;&quot;rhett and link&quot;|&quot;gmm&quot;|&quot;good m…</td><td>343168</td><td>10172</td><td>666</td><td>2146</td><td>&quot;https://i.ytimg.com/vi/puqaWrE…</td><td>&quot;False&quot;</td><td>&quot;False&quot;</td><td>&quot;False&quot;</td><td>&quot;Today we find out if Link is a…</td></tr><tr><td>&quot;d380meD0W0M&quot;</td><td>&quot;17.14.11&quot;</td><td>&quot;I Dare You: GOING BALD!?&quot;</td><td>&quot;nigahiga&quot;</td><td>&quot;24&quot;</td><td>2017-11-12 18:01:41</td><td>&quot;&quot;ryan&quot;|&quot;higa&quot;|&quot;higatv&quot;|&quot;nigahi…</td><td>2095731</td><td>132235</td><td>1989</td><td>17518</td><td>&quot;https://i.ytimg.com/vi/d380meD…</td><td>&quot;False&quot;</td><td>&quot;False&quot;</td><td>&quot;False&quot;</td><td>&quot;I know it&#x27;s been a while since…</td></tr><tr><td>&hellip;</td><td>&hellip;</td><td>&hellip;</td><td>&hellip;</td><td>&hellip;</td><td>&hellip;</td><td>&hellip;</td><td>&hellip;</td><td>&hellip;</td><td>&hellip;</td><td>&hellip;</td><td>&hellip;</td><td>&hellip;</td><td>&hellip;</td><td>&hellip;</td><td>&hellip;</td></tr><tr><td>&quot;BZt0qjTWNhw&quot;</td><td>&quot;18.14.06&quot;</td><td>&quot;The Cat Who Caught the Laser&quot;</td><td>&quot;AaronsAnimals&quot;</td><td>&quot;15&quot;</td><td>2018-05-18 13:00:04</td><td>&quot;&quot;aarons animals&quot;|&quot;aarons&quot;|&quot;ani…</td><td>1685609</td><td>38160</td><td>1385</td><td>2657</td><td>&quot;https://i.ytimg.com/vi/BZt0qjT…</td><td>&quot;False&quot;</td><td>&quot;False&quot;</td><td>&quot;False&quot;</td><td>&quot;The Cat Who Caught the Laser -…</td></tr><tr><td>&quot;1h7KV2sjUWY&quot;</td><td>&quot;18.14.06&quot;</td><td>&quot;True Facts : Ant Mutualism&quot;</td><td>&quot;zefrank1&quot;</td><td>&quot;22&quot;</td><td>2018-05-18 01:00:06</td><td>&quot;[none]&quot;</td><td>1064798</td><td>60008</td><td>382</td><td>3936</td><td>&quot;https://i.ytimg.com/vi/1h7KV2s…</td><td>&quot;False&quot;</td><td>&quot;False&quot;</td><td>&quot;False&quot;</td><td>null</td></tr><tr><td>&quot;D6Oy4LfoqsU&quot;</td><td>&quot;18.14.06&quot;</td><td>&quot;I GAVE SAFIYA NYGAARD A PERFEC…</td><td>&quot;Brad Mondo&quot;</td><td>&quot;24&quot;</td><td>2018-05-18 17:34:22</td><td>&quot;&quot;I gave safiya nygaard a perfe…</td><td>1066451</td><td>48068</td><td>1032</td><td>3992</td><td>&quot;https://i.ytimg.com/vi/D6Oy4Lf…</td><td>&quot;False&quot;</td><td>&quot;False&quot;</td><td>&quot;False&quot;</td><td>&quot;I had so much fun transforming…</td></tr><tr><td>&quot;oV0zkMe1K8s&quot;</td><td>&quot;18.14.06&quot;</td><td>&quot;How Black Panther Should Have …</td><td>&quot;How It Should Have Ended&quot;</td><td>&quot;1&quot;</td><td>2018-05-17 17:00:04</td><td>&quot;&quot;Black Panther&quot;|&quot;HISHE&quot;|&quot;Marve…</td><td>5660813</td><td>192957</td><td>2846</td><td>13088</td><td>&quot;https://i.ytimg.com/vi/oV0zkMe…</td><td>&quot;False&quot;</td><td>&quot;False&quot;</td><td>&quot;False&quot;</td><td>&quot;How Black Panther Should Have …</td></tr><tr><td>&quot;ooyjaVdt-jA&quot;</td><td>&quot;18.14.06&quot;</td><td>&quot;Official Call of Duty®: Black …</td><td>&quot;Call of Duty&quot;</td><td>&quot;20&quot;</td><td>2018-05-17 17:09:38</td><td>&quot;&quot;call of duty&quot;|&quot;cod&quot;|&quot;activisi…</td><td>10306119</td><td>357079</td><td>212976</td><td>144795</td><td>&quot;https://i.ytimg.com/vi/ooyjaVd…</td><td>&quot;False&quot;</td><td>&quot;False&quot;</td><td>&quot;False&quot;</td><td>&quot;Call of Duty: Black Ops 4 Mult…</td></tr></tbody></table></div>"
            ]
          },
          "metadata": {},
          "execution_count": 11
        }
      ]
    },
    {
      "cell_type": "markdown",
      "source": [
        "##2do ejercicio  categorias recommend\tceo_approval\tbusiness_outlook-columna con mayor promedio de referencia tomando la recomendacion"
      ],
      "metadata": {
        "id": "wpvhYRPuqsuK"
      }
    },
    {
      "cell_type": "code",
      "source": [
        " (\n",
        "     df_reviews\n",
        ".groupby('recommend')\n",
        "    .agg(\n",
        "         avg=('rating', 'mean')\n",
        "    ))"
      ],
      "metadata": {
        "colab": {
          "base_uri": "https://localhost:8080/",
          "height": 223
        },
        "id": "qdc8AVm1t-Mu",
        "outputId": "43613840-e524-4b25-ff2d-6539265e923c"
      },
      "execution_count": 33,
      "outputs": [
        {
          "output_type": "error",
          "ename": "AttributeError",
          "evalue": "'DataFrame' object has no attribute 'groupby'",
          "traceback": [
            "\u001b[0;31m---------------------------------------------------------------------------\u001b[0m",
            "\u001b[0;31mAttributeError\u001b[0m                            Traceback (most recent call last)",
            "\u001b[0;32m<ipython-input-33-dbb9e61b4530>\u001b[0m in \u001b[0;36m<cell line: 2>\u001b[0;34m()\u001b[0m\n\u001b[1;32m      1\u001b[0m (  \n\u001b[1;32m      2\u001b[0m     \u001b[0mdf_reviews\u001b[0m\u001b[0;34m\u001b[0m\u001b[0;34m\u001b[0m\u001b[0m\n\u001b[0;32m----> 3\u001b[0;31m \u001b[0;34m.\u001b[0m\u001b[0mgroupby\u001b[0m\u001b[0;34m(\u001b[0m\u001b[0;34m'recommend'\u001b[0m\u001b[0;34m)\u001b[0m\u001b[0;34m\u001b[0m\u001b[0;34m\u001b[0m\u001b[0m\n\u001b[0m\u001b[1;32m      4\u001b[0m    .agg( \n\u001b[1;32m      5\u001b[0m         \u001b[0mavg\u001b[0m\u001b[0;34m=\u001b[0m\u001b[0;34m(\u001b[0m\u001b[0;34m'rating'\u001b[0m\u001b[0;34m,\u001b[0m \u001b[0;34m'mean'\u001b[0m\u001b[0;34m)\u001b[0m\u001b[0;34m\u001b[0m\u001b[0;34m\u001b[0m\u001b[0m\n",
            "\u001b[0;31mAttributeError\u001b[0m: 'DataFrame' object has no attribute 'groupby'"
          ]
        }
      ]
    },
    {
      "cell_type": "code",
      "source": [
        "(\n",
        "    df_reviews\n",
        "    .groupby('recommend')\n",
        "    .agg(\n",
        "         avg=col('rating').mean()\n",
        "\n",
        ".sort(col('avg'), ascending=False) \\\n",
        "    .filter(col('avg').isNotNull())"
      ],
      "metadata": {
        "colab": {
          "base_uri": "https://localhost:8080/",
          "height": 111
        },
        "id": "PrILMnyrsKG-",
        "outputId": "50e68fae-5011-49e9-dbc9-786944fbf578"
      },
      "execution_count": 30,
      "outputs": [
        {
          "output_type": "error",
          "ename": "SyntaxError",
          "evalue": "incomplete input (<ipython-input-30-ffaeaf308679>, line 8)",
          "traceback": [
            "\u001b[0;36m  File \u001b[0;32m\"<ipython-input-30-ffaeaf308679>\"\u001b[0;36m, line \u001b[0;32m8\u001b[0m\n\u001b[0;31m    .filter(col('avg').isNotNull())\u001b[0m\n\u001b[0m                                   ^\u001b[0m\n\u001b[0;31mSyntaxError\u001b[0m\u001b[0;31m:\u001b[0m incomplete input\n"
          ]
        }
      ]
    },
    {
      "cell_type": "code",
      "source": [
        "df_reviews.head(3)"
      ],
      "metadata": {
        "colab": {
          "base_uri": "https://localhost:8080/",
          "height": 368
        },
        "id": "sAox0_GyuyT-",
        "outputId": "021402c0-50ca-4e0d-996d-b0a356d15c2c"
      },
      "execution_count": 37,
      "outputs": [
        {
          "output_type": "execute_result",
          "data": {
            "text/plain": [
              "shape: (3, 16)\n",
              "┌───────────┬───────────┬───────────┬───────────┬───┬───────────┬───────────┬───────────┬──────────┐\n",
              "│ video_id  ┆ trending_ ┆ title     ┆ channel_t ┆ … ┆ comments_ ┆ ratings_d ┆ video_err ┆ descript │\n",
              "│ ---       ┆ date      ┆ ---       ┆ itle      ┆   ┆ disabled  ┆ isabled   ┆ or_or_rem ┆ ion      │\n",
              "│ str       ┆ ---       ┆ str       ┆ ---       ┆   ┆ ---       ┆ ---       ┆ oved      ┆ ---      │\n",
              "│           ┆ str       ┆           ┆ str       ┆   ┆ str       ┆ str       ┆ ---       ┆ str      │\n",
              "│           ┆           ┆           ┆           ┆   ┆           ┆           ┆ str       ┆          │\n",
              "╞═══════════╪═══════════╪═══════════╪═══════════╪═══╪═══════════╪═══════════╪═══════════╪══════════╡\n",
              "│ 2kyS6SvSY ┆ 17.14.11  ┆ WE WANT   ┆ CaseyNeis ┆ … ┆ False     ┆ False     ┆ False     ┆ SHANTELL │\n",
              "│ SE        ┆           ┆ TO TALK   ┆ tat       ┆   ┆           ┆           ┆           ┆ 'S       │\n",
              "│           ┆           ┆ ABOUT OUR ┆           ┆   ┆           ┆           ┆           ┆ CHANNEL  │\n",
              "│           ┆           ┆ MARR…     ┆           ┆   ┆           ┆           ┆           ┆ - https: │\n",
              "│           ┆           ┆           ┆           ┆   ┆           ┆           ┆           ┆ //w…     │\n",
              "│ 1ZAPwfrtA ┆ 17.14.11  ┆ The Trump ┆ LastWeekT ┆ … ┆ False     ┆ False     ┆ False     ┆ One year │\n",
              "│ FY        ┆           ┆ Presidenc ┆ onight    ┆   ┆           ┆           ┆           ┆ after    │\n",
              "│           ┆           ┆ y: Last   ┆           ┆   ┆           ┆           ┆           ┆ the pres │\n",
              "│           ┆           ┆ Wee…      ┆           ┆   ┆           ┆           ┆           ┆ identia… │\n",
              "│ 5qpjK5DgC ┆ 17.14.11  ┆ Racist    ┆ Rudy      ┆ … ┆ False     ┆ False     ┆ False     ┆ WATCH MY │\n",
              "│ t4        ┆           ┆ Superman  ┆ Mancuso   ┆   ┆           ┆           ┆           ┆ PREVIOUS │\n",
              "│           ┆           ┆ | Rudy    ┆           ┆   ┆           ┆           ┆           ┆ VIDEO ▶  │\n",
              "│           ┆           ┆ Mancuso…  ┆           ┆   ┆           ┆           ┆           ┆ \\n\\n…    │\n",
              "└───────────┴───────────┴───────────┴───────────┴───┴───────────┴───────────┴───────────┴──────────┘"
            ],
            "text/html": [
              "<div><style>\n",
              ".dataframe > thead > tr,\n",
              ".dataframe > tbody > tr {\n",
              "  text-align: right;\n",
              "  white-space: pre-wrap;\n",
              "}\n",
              "</style>\n",
              "<small>shape: (3, 16)</small><table border=\"1\" class=\"dataframe\"><thead><tr><th>video_id</th><th>trending_date</th><th>title</th><th>channel_title</th><th>category_id</th><th>publish_time</th><th>tags</th><th>views</th><th>likes</th><th>dislikes</th><th>comment_count</th><th>thumbnail_link</th><th>comments_disabled</th><th>ratings_disabled</th><th>video_error_or_removed</th><th>description</th></tr><tr><td>str</td><td>str</td><td>str</td><td>str</td><td>str</td><td>datetime[ns]</td><td>str</td><td>i32</td><td>i32</td><td>i32</td><td>i32</td><td>str</td><td>str</td><td>str</td><td>str</td><td>str</td></tr></thead><tbody><tr><td>&quot;2kyS6SvSYSE&quot;</td><td>&quot;17.14.11&quot;</td><td>&quot;WE WANT TO TALK ABOUT OUR MARR…</td><td>&quot;CaseyNeistat&quot;</td><td>&quot;22&quot;</td><td>2017-11-13 17:13:01</td><td>&quot;SHANtell martin&quot;</td><td>748374</td><td>57527</td><td>2966</td><td>15954</td><td>&quot;https://i.ytimg.com/vi/2kyS6Sv…</td><td>&quot;False&quot;</td><td>&quot;False&quot;</td><td>&quot;False&quot;</td><td>&quot;SHANTELL&#x27;S CHANNEL - https://w…</td></tr><tr><td>&quot;1ZAPwfrtAFY&quot;</td><td>&quot;17.14.11&quot;</td><td>&quot;The Trump Presidency: Last Wee…</td><td>&quot;LastWeekTonight&quot;</td><td>&quot;24&quot;</td><td>2017-11-13 07:30:00</td><td>&quot;&quot;last week tonight trump presi…</td><td>2418783</td><td>97185</td><td>6146</td><td>12703</td><td>&quot;https://i.ytimg.com/vi/1ZAPwfr…</td><td>&quot;False&quot;</td><td>&quot;False&quot;</td><td>&quot;False&quot;</td><td>&quot;One year after the presidentia…</td></tr><tr><td>&quot;5qpjK5DgCt4&quot;</td><td>&quot;17.14.11&quot;</td><td>&quot;Racist Superman | Rudy Mancuso…</td><td>&quot;Rudy Mancuso&quot;</td><td>&quot;23&quot;</td><td>2017-11-12 19:05:24</td><td>&quot;&quot;racist superman&quot;|&quot;rudy&quot;|&quot;manc…</td><td>3191434</td><td>146033</td><td>5339</td><td>8181</td><td>&quot;https://i.ytimg.com/vi/5qpjK5D…</td><td>&quot;False&quot;</td><td>&quot;False&quot;</td><td>&quot;False&quot;</td><td>&quot;WATCH MY PREVIOUS VIDEO ▶ \\n\\n…</td></tr></tbody></table></div>"
            ]
          },
          "metadata": {},
          "execution_count": 37
        }
      ]
    },
    {
      "cell_type": "code",
      "source": [
        "good_reviews = df_reviews.filter(\n",
        "    pl.col('title').str.contains('Good'),\n",
        "    pl.col('views') > 400\n",
        ")\n",
        "good_reviews\n"
      ],
      "metadata": {
        "colab": {
          "base_uri": "https://localhost:8080/",
          "height": 1000
        },
        "id": "zf0X0t9EuJqA",
        "outputId": "86bc642f-e449-4a1e-e0f5-0c431cada763"
      },
      "execution_count": 38,
      "outputs": [
        {
          "output_type": "execute_result",
          "data": {
            "text/plain": [
              "shape: (113, 16)\n",
              "┌───────────┬───────────┬───────────┬───────────┬───┬───────────┬───────────┬───────────┬──────────┐\n",
              "│ video_id  ┆ trending_ ┆ title     ┆ channel_t ┆ … ┆ comments_ ┆ ratings_d ┆ video_err ┆ descript │\n",
              "│ ---       ┆ date      ┆ ---       ┆ itle      ┆   ┆ disabled  ┆ isabled   ┆ or_or_rem ┆ ion      │\n",
              "│ str       ┆ ---       ┆ str       ┆ ---       ┆   ┆ ---       ┆ ---       ┆ oved      ┆ ---      │\n",
              "│           ┆ str       ┆           ┆ str       ┆   ┆ str       ┆ str       ┆ ---       ┆ str      │\n",
              "│           ┆           ┆           ┆           ┆   ┆           ┆           ┆ str       ┆          │\n",
              "╞═══════════╪═══════════╪═══════════╪═══════════╪═══╪═══════════╪═══════════╪═══════════╪══════════╡\n",
              "│ 1Wk8ZRgXQ ┆ 17.14.11  ┆ Andy      ┆ Andy      ┆ … ┆ False     ┆ False     ┆ False     ┆ Get “The │\n",
              "│ nY        ┆           ┆ Grammer - ┆ Grammer   ┆   ┆           ┆           ┆           ┆ Good     │\n",
              "│           ┆           ┆ The Good  ┆           ┆   ┆           ┆           ┆           ┆ Parts”   │\n",
              "│           ┆           ┆ Parts …   ┆           ┆   ┆           ┆           ┆           ┆ and      │\n",
              "│           ┆           ┆           ┆           ┆   ┆           ┆           ┆           ┆ pre-o…   │\n",
              "│ jGiqc3HSx ┆ 17.15.11  ┆ A Study   ┆ Now You   ┆ … ┆ False     ┆ False     ┆ False     ┆ Why do   │\n",
              "│ Eg        ┆           ┆ of So Bad ┆ See It    ┆   ┆           ┆           ┆           ┆ we love  │\n",
              "│           ┆           ┆ It's Good ┆           ┆   ┆           ┆           ┆           ┆ movies   │\n",
              "│           ┆           ┆ Mo…       ┆           ┆   ┆           ┆           ┆           ┆ that     │\n",
              "│           ┆           ┆           ┆           ┆   ┆           ┆           ┆           ┆ are…     │\n",
              "│ 1Wk8ZRgXQ ┆ 17.15.11  ┆ Andy      ┆ Andy      ┆ … ┆ False     ┆ False     ┆ False     ┆ Get “The │\n",
              "│ nY        ┆           ┆ Grammer - ┆ Grammer   ┆   ┆           ┆           ┆           ┆ Good     │\n",
              "│           ┆           ┆ The Good  ┆           ┆   ┆           ┆           ┆           ┆ Parts”   │\n",
              "│           ┆           ┆ Parts …   ┆           ┆   ┆           ┆           ┆           ┆ and      │\n",
              "│           ┆           ┆           ┆           ┆   ┆           ┆           ┆           ┆ pre-o…   │\n",
              "│ jGiqc3HSx ┆ 17.16.11  ┆ A Study   ┆ Now You   ┆ … ┆ False     ┆ False     ┆ False     ┆ Why do   │\n",
              "│ Eg        ┆           ┆ of So Bad ┆ See It    ┆   ┆           ┆           ┆           ┆ we love  │\n",
              "│           ┆           ┆ It's Good ┆           ┆   ┆           ┆           ┆           ┆ movies   │\n",
              "│           ┆           ┆ Mo…       ┆           ┆   ┆           ┆           ┆           ┆ that     │\n",
              "│           ┆           ┆           ┆           ┆   ┆           ┆           ┆           ┆ are…     │\n",
              "│ jGiqc3HSx ┆ 17.17.11  ┆ A Study   ┆ Now You   ┆ … ┆ False     ┆ False     ┆ False     ┆ Why do   │\n",
              "│ Eg        ┆           ┆ of So Bad ┆ See It    ┆   ┆           ┆           ┆           ┆ we love  │\n",
              "│           ┆           ┆ It's Good ┆           ┆   ┆           ┆           ┆           ┆ movies   │\n",
              "│           ┆           ┆ Mo…       ┆           ┆   ┆           ┆           ┆           ┆ that     │\n",
              "│           ┆           ┆           ┆           ┆   ┆           ┆           ┆           ┆ are…     │\n",
              "│ …         ┆ …         ┆ …         ┆ …         ┆ … ┆ …         ┆ …         ┆ …         ┆ …        │\n",
              "│ xVU8nEIsa ┆ 18.06.05  ┆ You're    ┆ CollegeHu ┆ … ┆ False     ┆ False     ┆ False     ┆ Raph and │\n",
              "│ pY        ┆           ┆ Too Good  ┆ mor       ┆   ┆           ┆           ┆           ┆ Jess say │\n",
              "│           ┆           ┆ To Date   ┆           ┆   ┆           ┆           ┆           ┆ Rekha is │\n",
              "│           ┆           ┆ My Fri…   ┆           ┆   ┆           ┆           ┆           ┆ too…     │\n",
              "│ xVU8nEIsa ┆ 18.07.05  ┆ You're    ┆ CollegeHu ┆ … ┆ False     ┆ False     ┆ False     ┆ Raph and │\n",
              "│ pY        ┆           ┆ Too Good  ┆ mor       ┆   ┆           ┆           ┆           ┆ Jess say │\n",
              "│           ┆           ┆ To Date   ┆           ┆   ┆           ┆           ┆           ┆ Rekha is │\n",
              "│           ┆           ┆ My Fri…   ┆           ┆   ┆           ┆           ┆           ┆ too…     │\n",
              "│ xVU8nEIsa ┆ 18.08.05  ┆ You're    ┆ CollegeHu ┆ … ┆ False     ┆ False     ┆ False     ┆ Raph and │\n",
              "│ pY        ┆           ┆ Too Good  ┆ mor       ┆   ┆           ┆           ┆           ┆ Jess say │\n",
              "│           ┆           ┆ To Date   ┆           ┆   ┆           ┆           ┆           ┆ Rekha is │\n",
              "│           ┆           ┆ My Fri…   ┆           ┆   ┆           ┆           ┆           ┆ too…     │\n",
              "│ xVU8nEIsa ┆ 18.09.05  ┆ You're    ┆ CollegeHu ┆ … ┆ False     ┆ False     ┆ False     ┆ Raph and │\n",
              "│ pY        ┆           ┆ Too Good  ┆ mor       ┆   ┆           ┆           ┆           ┆ Jess say │\n",
              "│           ┆           ┆ To Date   ┆           ┆   ┆           ┆           ┆           ┆ Rekha is │\n",
              "│           ┆           ┆ My Fri…   ┆           ┆   ┆           ┆           ┆           ┆ too…     │\n",
              "│ xVU8nEIsa ┆ 18.14.05  ┆ You're    ┆ CollegeHu ┆ … ┆ False     ┆ False     ┆ False     ┆ Raph and │\n",
              "│ pY        ┆           ┆ Too Good  ┆ mor       ┆   ┆           ┆           ┆           ┆ Jess say │\n",
              "│           ┆           ┆ To Date   ┆           ┆   ┆           ┆           ┆           ┆ Rekha is │\n",
              "│           ┆           ┆ My Fri…   ┆           ┆   ┆           ┆           ┆           ┆ too…     │\n",
              "└───────────┴───────────┴───────────┴───────────┴───┴───────────┴───────────┴───────────┴──────────┘"
            ],
            "text/html": [
              "<div><style>\n",
              ".dataframe > thead > tr,\n",
              ".dataframe > tbody > tr {\n",
              "  text-align: right;\n",
              "  white-space: pre-wrap;\n",
              "}\n",
              "</style>\n",
              "<small>shape: (113, 16)</small><table border=\"1\" class=\"dataframe\"><thead><tr><th>video_id</th><th>trending_date</th><th>title</th><th>channel_title</th><th>category_id</th><th>publish_time</th><th>tags</th><th>views</th><th>likes</th><th>dislikes</th><th>comment_count</th><th>thumbnail_link</th><th>comments_disabled</th><th>ratings_disabled</th><th>video_error_or_removed</th><th>description</th></tr><tr><td>str</td><td>str</td><td>str</td><td>str</td><td>str</td><td>datetime[ns]</td><td>str</td><td>i32</td><td>i32</td><td>i32</td><td>i32</td><td>str</td><td>str</td><td>str</td><td>str</td><td>str</td></tr></thead><tbody><tr><td>&quot;1Wk8ZRgXQnY&quot;</td><td>&quot;17.14.11&quot;</td><td>&quot;Andy Grammer - The Good Parts …</td><td>&quot;Andy Grammer&quot;</td><td>&quot;10&quot;</td><td>2017-11-09 22:27:45</td><td>&quot;&quot;andy&quot;|&quot;grammer&quot;|&quot;the&quot;|&quot;good&quot;|…</td><td>33315</td><td>1365</td><td>24</td><td>91</td><td>&quot;https://i.ytimg.com/vi/1Wk8ZRg…</td><td>&quot;False&quot;</td><td>&quot;False&quot;</td><td>&quot;False&quot;</td><td>&quot;Get “The Good Parts” and pre-o…</td></tr><tr><td>&quot;jGiqc3HSxEg&quot;</td><td>&quot;17.15.11&quot;</td><td>&quot;A Study of So Bad It&#x27;s Good Mo…</td><td>&quot;Now You See It&quot;</td><td>&quot;27&quot;</td><td>2017-11-13 15:30:01</td><td>&quot;&quot;the room&quot;|&quot;so bad its good&quot;|&quot;…</td><td>206319</td><td>11131</td><td>209</td><td>553</td><td>&quot;https://i.ytimg.com/vi/jGiqc3H…</td><td>&quot;False&quot;</td><td>&quot;False&quot;</td><td>&quot;False&quot;</td><td>&quot;Why do we love movies that are…</td></tr><tr><td>&quot;1Wk8ZRgXQnY&quot;</td><td>&quot;17.15.11&quot;</td><td>&quot;Andy Grammer - The Good Parts …</td><td>&quot;Andy Grammer&quot;</td><td>&quot;10&quot;</td><td>2017-11-09 22:27:45</td><td>&quot;&quot;andy&quot;|&quot;grammer&quot;|&quot;the&quot;|&quot;good&quot;|…</td><td>41251</td><td>1561</td><td>29</td><td>96</td><td>&quot;https://i.ytimg.com/vi/1Wk8ZRg…</td><td>&quot;False&quot;</td><td>&quot;False&quot;</td><td>&quot;False&quot;</td><td>&quot;Get “The Good Parts” and pre-o…</td></tr><tr><td>&quot;jGiqc3HSxEg&quot;</td><td>&quot;17.16.11&quot;</td><td>&quot;A Study of So Bad It&#x27;s Good Mo…</td><td>&quot;Now You See It&quot;</td><td>&quot;27&quot;</td><td>2017-11-13 15:30:01</td><td>&quot;&quot;the room&quot;|&quot;so bad its good&quot;|&quot;…</td><td>232532</td><td>11933</td><td>231</td><td>607</td><td>&quot;https://i.ytimg.com/vi/jGiqc3H…</td><td>&quot;False&quot;</td><td>&quot;False&quot;</td><td>&quot;False&quot;</td><td>&quot;Why do we love movies that are…</td></tr><tr><td>&quot;jGiqc3HSxEg&quot;</td><td>&quot;17.17.11&quot;</td><td>&quot;A Study of So Bad It&#x27;s Good Mo…</td><td>&quot;Now You See It&quot;</td><td>&quot;27&quot;</td><td>2017-11-13 15:30:01</td><td>&quot;&quot;the room&quot;|&quot;so bad its good&quot;|&quot;…</td><td>244538</td><td>12392</td><td>236</td><td>598</td><td>&quot;https://i.ytimg.com/vi/jGiqc3H…</td><td>&quot;False&quot;</td><td>&quot;False&quot;</td><td>&quot;False&quot;</td><td>&quot;Why do we love movies that are…</td></tr><tr><td>&hellip;</td><td>&hellip;</td><td>&hellip;</td><td>&hellip;</td><td>&hellip;</td><td>&hellip;</td><td>&hellip;</td><td>&hellip;</td><td>&hellip;</td><td>&hellip;</td><td>&hellip;</td><td>&hellip;</td><td>&hellip;</td><td>&hellip;</td><td>&hellip;</td><td>&hellip;</td></tr><tr><td>&quot;xVU8nEIsapY&quot;</td><td>&quot;18.06.05&quot;</td><td>&quot;You&#x27;re Too Good To Date My Fri…</td><td>&quot;CollegeHumor&quot;</td><td>&quot;23&quot;</td><td>2018-04-21 17:30:03</td><td>&quot;&quot;Collegehumor&quot;|&quot;CH originals&quot;|…</td><td>1151064</td><td>34444</td><td>1290</td><td>1991</td><td>&quot;https://i.ytimg.com/vi/xVU8nEI…</td><td>&quot;False&quot;</td><td>&quot;False&quot;</td><td>&quot;False&quot;</td><td>&quot;Raph and Jess say Rekha is too…</td></tr><tr><td>&quot;xVU8nEIsapY&quot;</td><td>&quot;18.07.05&quot;</td><td>&quot;You&#x27;re Too Good To Date My Fri…</td><td>&quot;CollegeHumor&quot;</td><td>&quot;23&quot;</td><td>2018-04-21 17:30:03</td><td>&quot;&quot;Collegehumor&quot;|&quot;CH originals&quot;|…</td><td>1156961</td><td>34556</td><td>1290</td><td>1992</td><td>&quot;https://i.ytimg.com/vi/xVU8nEI…</td><td>&quot;False&quot;</td><td>&quot;False&quot;</td><td>&quot;False&quot;</td><td>&quot;Raph and Jess say Rekha is too…</td></tr><tr><td>&quot;xVU8nEIsapY&quot;</td><td>&quot;18.08.05&quot;</td><td>&quot;You&#x27;re Too Good To Date My Fri…</td><td>&quot;CollegeHumor&quot;</td><td>&quot;23&quot;</td><td>2018-04-21 17:30:03</td><td>&quot;&quot;Collegehumor&quot;|&quot;CH originals&quot;|…</td><td>1161472</td><td>34641</td><td>1294</td><td>1993</td><td>&quot;https://i.ytimg.com/vi/xVU8nEI…</td><td>&quot;False&quot;</td><td>&quot;False&quot;</td><td>&quot;False&quot;</td><td>&quot;Raph and Jess say Rekha is too…</td></tr><tr><td>&quot;xVU8nEIsapY&quot;</td><td>&quot;18.09.05&quot;</td><td>&quot;You&#x27;re Too Good To Date My Fri…</td><td>&quot;CollegeHumor&quot;</td><td>&quot;23&quot;</td><td>2018-04-21 17:30:03</td><td>&quot;&quot;Collegehumor&quot;|&quot;CH originals&quot;|…</td><td>1165987</td><td>34750</td><td>1296</td><td>1994</td><td>&quot;https://i.ytimg.com/vi/xVU8nEI…</td><td>&quot;False&quot;</td><td>&quot;False&quot;</td><td>&quot;False&quot;</td><td>&quot;Raph and Jess say Rekha is too…</td></tr><tr><td>&quot;xVU8nEIsapY&quot;</td><td>&quot;18.14.05&quot;</td><td>&quot;You&#x27;re Too Good To Date My Fri…</td><td>&quot;CollegeHumor&quot;</td><td>&quot;23&quot;</td><td>2018-04-21 17:30:03</td><td>&quot;&quot;Collegehumor&quot;|&quot;CH originals&quot;|…</td><td>1191039</td><td>35371</td><td>1308</td><td>2003</td><td>&quot;https://i.ytimg.com/vi/xVU8nEI…</td><td>&quot;False&quot;</td><td>&quot;False&quot;</td><td>&quot;False&quot;</td><td>&quot;Raph and Jess say Rekha is too…</td></tr></tbody></table></div>"
            ]
          },
          "metadata": {},
          "execution_count": 38
        }
      ]
    },
    {
      "cell_type": "code",
      "source": [
        "!mkdir -p content/drive/Mydrive/polars/seccion04/"
      ],
      "metadata": {
        "id": "1GjC8QqtvnzD"
      },
      "execution_count": 41,
      "outputs": []
    },
    {
      "cell_type": "code",
      "source": [
        "good_reviews.write_csv('content/drive/Mydrive/polars/seccion04/good_reviews.csv')"
      ],
      "metadata": {
        "id": "7fotFg46u-bm"
      },
      "execution_count": 42,
      "outputs": []
    },
    {
      "cell_type": "markdown",
      "source": [
        "##  columna date año mes dia"
      ],
      "metadata": {
        "id": "ia4KnhzUwCtF"
      }
    },
    {
      "cell_type": "code",
      "source": [
        "df_reviews.head(3)"
      ],
      "metadata": {
        "colab": {
          "base_uri": "https://localhost:8080/",
          "height": 368
        },
        "id": "AEVDfj55z3s5",
        "outputId": "28b291d8-8e3d-4a48-acc6-4277463c3d1c"
      },
      "execution_count": 46,
      "outputs": [
        {
          "output_type": "execute_result",
          "data": {
            "text/plain": [
              "shape: (3, 16)\n",
              "┌───────────┬───────────┬───────────┬───────────┬───┬───────────┬───────────┬───────────┬──────────┐\n",
              "│ video_id  ┆ trending_ ┆ title     ┆ channel_t ┆ … ┆ comments_ ┆ ratings_d ┆ video_err ┆ descript │\n",
              "│ ---       ┆ date      ┆ ---       ┆ itle      ┆   ┆ disabled  ┆ isabled   ┆ or_or_rem ┆ ion      │\n",
              "│ str       ┆ ---       ┆ str       ┆ ---       ┆   ┆ ---       ┆ ---       ┆ oved      ┆ ---      │\n",
              "│           ┆ str       ┆           ┆ str       ┆   ┆ str       ┆ str       ┆ ---       ┆ str      │\n",
              "│           ┆           ┆           ┆           ┆   ┆           ┆           ┆ str       ┆          │\n",
              "╞═══════════╪═══════════╪═══════════╪═══════════╪═══╪═══════════╪═══════════╪═══════════╪══════════╡\n",
              "│ 2kyS6SvSY ┆ 17.14.11  ┆ WE WANT   ┆ CaseyNeis ┆ … ┆ False     ┆ False     ┆ False     ┆ SHANTELL │\n",
              "│ SE        ┆           ┆ TO TALK   ┆ tat       ┆   ┆           ┆           ┆           ┆ 'S       │\n",
              "│           ┆           ┆ ABOUT OUR ┆           ┆   ┆           ┆           ┆           ┆ CHANNEL  │\n",
              "│           ┆           ┆ MARR…     ┆           ┆   ┆           ┆           ┆           ┆ - https: │\n",
              "│           ┆           ┆           ┆           ┆   ┆           ┆           ┆           ┆ //w…     │\n",
              "│ 1ZAPwfrtA ┆ 17.14.11  ┆ The Trump ┆ LastWeekT ┆ … ┆ False     ┆ False     ┆ False     ┆ One year │\n",
              "│ FY        ┆           ┆ Presidenc ┆ onight    ┆   ┆           ┆           ┆           ┆ after    │\n",
              "│           ┆           ┆ y: Last   ┆           ┆   ┆           ┆           ┆           ┆ the pres │\n",
              "│           ┆           ┆ Wee…      ┆           ┆   ┆           ┆           ┆           ┆ identia… │\n",
              "│ 5qpjK5DgC ┆ 17.14.11  ┆ Racist    ┆ Rudy      ┆ … ┆ False     ┆ False     ┆ False     ┆ WATCH MY │\n",
              "│ t4        ┆           ┆ Superman  ┆ Mancuso   ┆   ┆           ┆           ┆           ┆ PREVIOUS │\n",
              "│           ┆           ┆ | Rudy    ┆           ┆   ┆           ┆           ┆           ┆ VIDEO ▶  │\n",
              "│           ┆           ┆ Mancuso…  ┆           ┆   ┆           ┆           ┆           ┆ \\n\\n…    │\n",
              "└───────────┴───────────┴───────────┴───────────┴───┴───────────┴───────────┴───────────┴──────────┘"
            ],
            "text/html": [
              "<div><style>\n",
              ".dataframe > thead > tr,\n",
              ".dataframe > tbody > tr {\n",
              "  text-align: right;\n",
              "  white-space: pre-wrap;\n",
              "}\n",
              "</style>\n",
              "<small>shape: (3, 16)</small><table border=\"1\" class=\"dataframe\"><thead><tr><th>video_id</th><th>trending_date</th><th>title</th><th>channel_title</th><th>category_id</th><th>publish_time</th><th>tags</th><th>views</th><th>likes</th><th>dislikes</th><th>comment_count</th><th>thumbnail_link</th><th>comments_disabled</th><th>ratings_disabled</th><th>video_error_or_removed</th><th>description</th></tr><tr><td>str</td><td>str</td><td>str</td><td>str</td><td>str</td><td>datetime[ns]</td><td>str</td><td>i32</td><td>i32</td><td>i32</td><td>i32</td><td>str</td><td>str</td><td>str</td><td>str</td><td>str</td></tr></thead><tbody><tr><td>&quot;2kyS6SvSYSE&quot;</td><td>&quot;17.14.11&quot;</td><td>&quot;WE WANT TO TALK ABOUT OUR MARR…</td><td>&quot;CaseyNeistat&quot;</td><td>&quot;22&quot;</td><td>2017-11-13 17:13:01</td><td>&quot;SHANtell martin&quot;</td><td>748374</td><td>57527</td><td>2966</td><td>15954</td><td>&quot;https://i.ytimg.com/vi/2kyS6Sv…</td><td>&quot;False&quot;</td><td>&quot;False&quot;</td><td>&quot;False&quot;</td><td>&quot;SHANTELL&#x27;S CHANNEL - https://w…</td></tr><tr><td>&quot;1ZAPwfrtAFY&quot;</td><td>&quot;17.14.11&quot;</td><td>&quot;The Trump Presidency: Last Wee…</td><td>&quot;LastWeekTonight&quot;</td><td>&quot;24&quot;</td><td>2017-11-13 07:30:00</td><td>&quot;&quot;last week tonight trump presi…</td><td>2418783</td><td>97185</td><td>6146</td><td>12703</td><td>&quot;https://i.ytimg.com/vi/1ZAPwfr…</td><td>&quot;False&quot;</td><td>&quot;False&quot;</td><td>&quot;False&quot;</td><td>&quot;One year after the presidentia…</td></tr><tr><td>&quot;5qpjK5DgCt4&quot;</td><td>&quot;17.14.11&quot;</td><td>&quot;Racist Superman | Rudy Mancuso…</td><td>&quot;Rudy Mancuso&quot;</td><td>&quot;23&quot;</td><td>2017-11-12 19:05:24</td><td>&quot;&quot;racist superman&quot;|&quot;rudy&quot;|&quot;manc…</td><td>3191434</td><td>146033</td><td>5339</td><td>8181</td><td>&quot;https://i.ytimg.com/vi/5qpjK5D…</td><td>&quot;False&quot;</td><td>&quot;False&quot;</td><td>&quot;False&quot;</td><td>&quot;WATCH MY PREVIOUS VIDEO ▶ \\n\\n…</td></tr></tbody></table></div>"
            ]
          },
          "metadata": {},
          "execution_count": 46
        }
      ]
    },
    {
      "cell_type": "code",
      "source": [
        "df_reviews.columns"
      ],
      "metadata": {
        "colab": {
          "base_uri": "https://localhost:8080/"
        },
        "id": "e971V116z8vv",
        "outputId": "783f17da-8916-4c5e-b154-ceb993800172"
      },
      "execution_count": 47,
      "outputs": [
        {
          "output_type": "execute_result",
          "data": {
            "text/plain": [
              "['video_id',\n",
              " 'trending_date',\n",
              " 'title',\n",
              " 'channel_title',\n",
              " 'category_id',\n",
              " 'publish_time',\n",
              " 'tags',\n",
              " 'views',\n",
              " 'likes',\n",
              " 'dislikes',\n",
              " 'comment_count',\n",
              " 'thumbnail_link',\n",
              " 'comments_disabled',\n",
              " 'ratings_disabled',\n",
              " 'video_error_or_removed',\n",
              " 'description']"
            ]
          },
          "metadata": {},
          "execution_count": 47
        }
      ]
    },
    {
      "cell_type": "code",
      "source": [
        "df_reviews = df_reviews.with_columns(\n",
        "pl.col('trending_date').str.strip_chars().str.strptime(pl.Date, format='%B %d, %Y', strict=False)\n",
        ")\n",
        "df_reviews"
      ],
      "metadata": {
        "colab": {
          "base_uri": "https://localhost:8080/",
          "height": 949
        },
        "id": "2UdGbUjZwCat",
        "outputId": "d82c5342-25e5-4e06-f606-89e057b1149d"
      },
      "execution_count": 48,
      "outputs": [
        {
          "output_type": "execute_result",
          "data": {
            "text/plain": [
              "shape: (48_137, 16)\n",
              "┌───────────┬───────────┬───────────┬───────────┬───┬───────────┬───────────┬───────────┬──────────┐\n",
              "│ video_id  ┆ trending_ ┆ title     ┆ channel_t ┆ … ┆ comments_ ┆ ratings_d ┆ video_err ┆ descript │\n",
              "│ ---       ┆ date      ┆ ---       ┆ itle      ┆   ┆ disabled  ┆ isabled   ┆ or_or_rem ┆ ion      │\n",
              "│ str       ┆ ---       ┆ str       ┆ ---       ┆   ┆ ---       ┆ ---       ┆ oved      ┆ ---      │\n",
              "│           ┆ date      ┆           ┆ str       ┆   ┆ str       ┆ str       ┆ ---       ┆ str      │\n",
              "│           ┆           ┆           ┆           ┆   ┆           ┆           ┆ str       ┆          │\n",
              "╞═══════════╪═══════════╪═══════════╪═══════════╪═══╪═══════════╪═══════════╪═══════════╪══════════╡\n",
              "│ 2kyS6SvSY ┆ null      ┆ WE WANT   ┆ CaseyNeis ┆ … ┆ False     ┆ False     ┆ False     ┆ SHANTELL │\n",
              "│ SE        ┆           ┆ TO TALK   ┆ tat       ┆   ┆           ┆           ┆           ┆ 'S       │\n",
              "│           ┆           ┆ ABOUT OUR ┆           ┆   ┆           ┆           ┆           ┆ CHANNEL  │\n",
              "│           ┆           ┆ MARR…     ┆           ┆   ┆           ┆           ┆           ┆ - https: │\n",
              "│           ┆           ┆           ┆           ┆   ┆           ┆           ┆           ┆ //w…     │\n",
              "│ 1ZAPwfrtA ┆ null      ┆ The Trump ┆ LastWeekT ┆ … ┆ False     ┆ False     ┆ False     ┆ One year │\n",
              "│ FY        ┆           ┆ Presidenc ┆ onight    ┆   ┆           ┆           ┆           ┆ after    │\n",
              "│           ┆           ┆ y: Last   ┆           ┆   ┆           ┆           ┆           ┆ the pres │\n",
              "│           ┆           ┆ Wee…      ┆           ┆   ┆           ┆           ┆           ┆ identia… │\n",
              "│ 5qpjK5DgC ┆ null      ┆ Racist    ┆ Rudy      ┆ … ┆ False     ┆ False     ┆ False     ┆ WATCH MY │\n",
              "│ t4        ┆           ┆ Superman  ┆ Mancuso   ┆   ┆           ┆           ┆           ┆ PREVIOUS │\n",
              "│           ┆           ┆ | Rudy    ┆           ┆   ┆           ┆           ┆           ┆ VIDEO ▶  │\n",
              "│           ┆           ┆ Mancuso…  ┆           ┆   ┆           ┆           ┆           ┆ \\n\\n…    │\n",
              "│ puqaWrEC7 ┆ null      ┆ Nickelbac ┆ Good      ┆ … ┆ False     ┆ False     ┆ False     ┆ Today we │\n",
              "│ tY        ┆           ┆ k Lyrics: ┆ Mythical  ┆   ┆           ┆           ┆           ┆ find out │\n",
              "│           ┆           ┆ Real or   ┆ Morning   ┆   ┆           ┆           ┆           ┆ if Link  │\n",
              "│           ┆           ┆ Fak…      ┆           ┆   ┆           ┆           ┆           ┆ is a…    │\n",
              "│ d380meD0W ┆ null      ┆ I Dare    ┆ nigahiga  ┆ … ┆ False     ┆ False     ┆ False     ┆ I know   │\n",
              "│ 0M        ┆           ┆ You:      ┆           ┆   ┆           ┆           ┆           ┆ it's     │\n",
              "│           ┆           ┆ GOING     ┆           ┆   ┆           ┆           ┆           ┆ been a   │\n",
              "│           ┆           ┆ BALD!?    ┆           ┆   ┆           ┆           ┆           ┆ while    │\n",
              "│           ┆           ┆           ┆           ┆   ┆           ┆           ┆           ┆ since…   │\n",
              "│ …         ┆ …         ┆ …         ┆ …         ┆ … ┆ …         ┆ …         ┆ …         ┆ …        │\n",
              "│ BZt0qjTWN ┆ null      ┆ The Cat   ┆ AaronsAni ┆ … ┆ False     ┆ False     ┆ False     ┆ The Cat  │\n",
              "│ hw        ┆           ┆ Who       ┆ mals      ┆   ┆           ┆           ┆           ┆ Who      │\n",
              "│           ┆           ┆ Caught    ┆           ┆   ┆           ┆           ┆           ┆ Caught   │\n",
              "│           ┆           ┆ the Laser ┆           ┆   ┆           ┆           ┆           ┆ the      │\n",
              "│           ┆           ┆           ┆           ┆   ┆           ┆           ┆           ┆ Laser -… │\n",
              "│ 1h7KV2sjU ┆ null      ┆ True      ┆ zefrank1  ┆ … ┆ False     ┆ False     ┆ False     ┆ null     │\n",
              "│ WY        ┆           ┆ Facts :   ┆           ┆   ┆           ┆           ┆           ┆          │\n",
              "│           ┆           ┆ Ant       ┆           ┆   ┆           ┆           ┆           ┆          │\n",
              "│           ┆           ┆ Mutualism ┆           ┆   ┆           ┆           ┆           ┆          │\n",
              "│ D6Oy4Lfoq ┆ null      ┆ I GAVE    ┆ Brad      ┆ … ┆ False     ┆ False     ┆ False     ┆ I had so │\n",
              "│ sU        ┆           ┆ SAFIYA    ┆ Mondo     ┆   ┆           ┆           ┆           ┆ much fun │\n",
              "│           ┆           ┆ NYGAARD A ┆           ┆   ┆           ┆           ┆           ┆ transfor │\n",
              "│           ┆           ┆ PERFEC…   ┆           ┆   ┆           ┆           ┆           ┆ ming…    │\n",
              "│ oV0zkMe1K ┆ null      ┆ How Black ┆ How It    ┆ … ┆ False     ┆ False     ┆ False     ┆ How      │\n",
              "│ 8s        ┆           ┆ Panther   ┆ Should    ┆   ┆           ┆           ┆           ┆ Black    │\n",
              "│           ┆           ┆ Should    ┆ Have      ┆   ┆           ┆           ┆           ┆ Panther  │\n",
              "│           ┆           ┆ Have …    ┆ Ended     ┆   ┆           ┆           ┆           ┆ Should   │\n",
              "│           ┆           ┆           ┆           ┆   ┆           ┆           ┆           ┆ Have …   │\n",
              "│ ooyjaVdt- ┆ null      ┆ Official  ┆ Call of   ┆ … ┆ False     ┆ False     ┆ False     ┆ Call of  │\n",
              "│ jA        ┆           ┆ Call of   ┆ Duty      ┆   ┆           ┆           ┆           ┆ Duty:    │\n",
              "│           ┆           ┆ Duty®:    ┆           ┆   ┆           ┆           ┆           ┆ Black    │\n",
              "│           ┆           ┆ Black …   ┆           ┆   ┆           ┆           ┆           ┆ Ops 4    │\n",
              "│           ┆           ┆           ┆           ┆   ┆           ┆           ┆           ┆ Mult…    │\n",
              "└───────────┴───────────┴───────────┴───────────┴───┴───────────┴───────────┴───────────┴──────────┘"
            ],
            "text/html": [
              "<div><style>\n",
              ".dataframe > thead > tr,\n",
              ".dataframe > tbody > tr {\n",
              "  text-align: right;\n",
              "  white-space: pre-wrap;\n",
              "}\n",
              "</style>\n",
              "<small>shape: (48_137, 16)</small><table border=\"1\" class=\"dataframe\"><thead><tr><th>video_id</th><th>trending_date</th><th>title</th><th>channel_title</th><th>category_id</th><th>publish_time</th><th>tags</th><th>views</th><th>likes</th><th>dislikes</th><th>comment_count</th><th>thumbnail_link</th><th>comments_disabled</th><th>ratings_disabled</th><th>video_error_or_removed</th><th>description</th></tr><tr><td>str</td><td>date</td><td>str</td><td>str</td><td>str</td><td>datetime[ns]</td><td>str</td><td>i32</td><td>i32</td><td>i32</td><td>i32</td><td>str</td><td>str</td><td>str</td><td>str</td><td>str</td></tr></thead><tbody><tr><td>&quot;2kyS6SvSYSE&quot;</td><td>null</td><td>&quot;WE WANT TO TALK ABOUT OUR MARR…</td><td>&quot;CaseyNeistat&quot;</td><td>&quot;22&quot;</td><td>2017-11-13 17:13:01</td><td>&quot;SHANtell martin&quot;</td><td>748374</td><td>57527</td><td>2966</td><td>15954</td><td>&quot;https://i.ytimg.com/vi/2kyS6Sv…</td><td>&quot;False&quot;</td><td>&quot;False&quot;</td><td>&quot;False&quot;</td><td>&quot;SHANTELL&#x27;S CHANNEL - https://w…</td></tr><tr><td>&quot;1ZAPwfrtAFY&quot;</td><td>null</td><td>&quot;The Trump Presidency: Last Wee…</td><td>&quot;LastWeekTonight&quot;</td><td>&quot;24&quot;</td><td>2017-11-13 07:30:00</td><td>&quot;&quot;last week tonight trump presi…</td><td>2418783</td><td>97185</td><td>6146</td><td>12703</td><td>&quot;https://i.ytimg.com/vi/1ZAPwfr…</td><td>&quot;False&quot;</td><td>&quot;False&quot;</td><td>&quot;False&quot;</td><td>&quot;One year after the presidentia…</td></tr><tr><td>&quot;5qpjK5DgCt4&quot;</td><td>null</td><td>&quot;Racist Superman | Rudy Mancuso…</td><td>&quot;Rudy Mancuso&quot;</td><td>&quot;23&quot;</td><td>2017-11-12 19:05:24</td><td>&quot;&quot;racist superman&quot;|&quot;rudy&quot;|&quot;manc…</td><td>3191434</td><td>146033</td><td>5339</td><td>8181</td><td>&quot;https://i.ytimg.com/vi/5qpjK5D…</td><td>&quot;False&quot;</td><td>&quot;False&quot;</td><td>&quot;False&quot;</td><td>&quot;WATCH MY PREVIOUS VIDEO ▶ \\n\\n…</td></tr><tr><td>&quot;puqaWrEC7tY&quot;</td><td>null</td><td>&quot;Nickelback Lyrics: Real or Fak…</td><td>&quot;Good Mythical Morning&quot;</td><td>&quot;24&quot;</td><td>2017-11-13 11:00:04</td><td>&quot;&quot;rhett and link&quot;|&quot;gmm&quot;|&quot;good m…</td><td>343168</td><td>10172</td><td>666</td><td>2146</td><td>&quot;https://i.ytimg.com/vi/puqaWrE…</td><td>&quot;False&quot;</td><td>&quot;False&quot;</td><td>&quot;False&quot;</td><td>&quot;Today we find out if Link is a…</td></tr><tr><td>&quot;d380meD0W0M&quot;</td><td>null</td><td>&quot;I Dare You: GOING BALD!?&quot;</td><td>&quot;nigahiga&quot;</td><td>&quot;24&quot;</td><td>2017-11-12 18:01:41</td><td>&quot;&quot;ryan&quot;|&quot;higa&quot;|&quot;higatv&quot;|&quot;nigahi…</td><td>2095731</td><td>132235</td><td>1989</td><td>17518</td><td>&quot;https://i.ytimg.com/vi/d380meD…</td><td>&quot;False&quot;</td><td>&quot;False&quot;</td><td>&quot;False&quot;</td><td>&quot;I know it&#x27;s been a while since…</td></tr><tr><td>&hellip;</td><td>&hellip;</td><td>&hellip;</td><td>&hellip;</td><td>&hellip;</td><td>&hellip;</td><td>&hellip;</td><td>&hellip;</td><td>&hellip;</td><td>&hellip;</td><td>&hellip;</td><td>&hellip;</td><td>&hellip;</td><td>&hellip;</td><td>&hellip;</td><td>&hellip;</td></tr><tr><td>&quot;BZt0qjTWNhw&quot;</td><td>null</td><td>&quot;The Cat Who Caught the Laser&quot;</td><td>&quot;AaronsAnimals&quot;</td><td>&quot;15&quot;</td><td>2018-05-18 13:00:04</td><td>&quot;&quot;aarons animals&quot;|&quot;aarons&quot;|&quot;ani…</td><td>1685609</td><td>38160</td><td>1385</td><td>2657</td><td>&quot;https://i.ytimg.com/vi/BZt0qjT…</td><td>&quot;False&quot;</td><td>&quot;False&quot;</td><td>&quot;False&quot;</td><td>&quot;The Cat Who Caught the Laser -…</td></tr><tr><td>&quot;1h7KV2sjUWY&quot;</td><td>null</td><td>&quot;True Facts : Ant Mutualism&quot;</td><td>&quot;zefrank1&quot;</td><td>&quot;22&quot;</td><td>2018-05-18 01:00:06</td><td>&quot;[none]&quot;</td><td>1064798</td><td>60008</td><td>382</td><td>3936</td><td>&quot;https://i.ytimg.com/vi/1h7KV2s…</td><td>&quot;False&quot;</td><td>&quot;False&quot;</td><td>&quot;False&quot;</td><td>null</td></tr><tr><td>&quot;D6Oy4LfoqsU&quot;</td><td>null</td><td>&quot;I GAVE SAFIYA NYGAARD A PERFEC…</td><td>&quot;Brad Mondo&quot;</td><td>&quot;24&quot;</td><td>2018-05-18 17:34:22</td><td>&quot;&quot;I gave safiya nygaard a perfe…</td><td>1066451</td><td>48068</td><td>1032</td><td>3992</td><td>&quot;https://i.ytimg.com/vi/D6Oy4Lf…</td><td>&quot;False&quot;</td><td>&quot;False&quot;</td><td>&quot;False&quot;</td><td>&quot;I had so much fun transforming…</td></tr><tr><td>&quot;oV0zkMe1K8s&quot;</td><td>null</td><td>&quot;How Black Panther Should Have …</td><td>&quot;How It Should Have Ended&quot;</td><td>&quot;1&quot;</td><td>2018-05-17 17:00:04</td><td>&quot;&quot;Black Panther&quot;|&quot;HISHE&quot;|&quot;Marve…</td><td>5660813</td><td>192957</td><td>2846</td><td>13088</td><td>&quot;https://i.ytimg.com/vi/oV0zkMe…</td><td>&quot;False&quot;</td><td>&quot;False&quot;</td><td>&quot;False&quot;</td><td>&quot;How Black Panther Should Have …</td></tr><tr><td>&quot;ooyjaVdt-jA&quot;</td><td>null</td><td>&quot;Official Call of Duty®: Black …</td><td>&quot;Call of Duty&quot;</td><td>&quot;20&quot;</td><td>2018-05-17 17:09:38</td><td>&quot;&quot;call of duty&quot;|&quot;cod&quot;|&quot;activisi…</td><td>10306119</td><td>357079</td><td>212976</td><td>144795</td><td>&quot;https://i.ytimg.com/vi/ooyjaVd…</td><td>&quot;False&quot;</td><td>&quot;False&quot;</td><td>&quot;False&quot;</td><td>&quot;Call of Duty: Black Ops 4 Mult…</td></tr></tbody></table></div>"
            ]
          },
          "metadata": {},
          "execution_count": 48
        }
      ]
    },
    {
      "cell_type": "code",
      "source": [
        "df_reviews.head(3)"
      ],
      "metadata": {
        "colab": {
          "base_uri": "https://localhost:8080/",
          "height": 368
        },
        "id": "ZKH1X2Kh4OTi",
        "outputId": "df3b1bcb-2e94-40d5-d1a0-a54aa4b6f708"
      },
      "execution_count": 52,
      "outputs": [
        {
          "output_type": "execute_result",
          "data": {
            "text/plain": [
              "shape: (3, 16)\n",
              "┌───────────┬───────────┬───────────┬───────────┬───┬───────────┬───────────┬───────────┬──────────┐\n",
              "│ video_id  ┆ trending_ ┆ title     ┆ channel_t ┆ … ┆ comments_ ┆ ratings_d ┆ video_err ┆ descript │\n",
              "│ ---       ┆ date      ┆ ---       ┆ itle      ┆   ┆ disabled  ┆ isabled   ┆ or_or_rem ┆ ion      │\n",
              "│ str       ┆ ---       ┆ str       ┆ ---       ┆   ┆ ---       ┆ ---       ┆ oved      ┆ ---      │\n",
              "│           ┆ date      ┆           ┆ str       ┆   ┆ str       ┆ str       ┆ ---       ┆ str      │\n",
              "│           ┆           ┆           ┆           ┆   ┆           ┆           ┆ str       ┆          │\n",
              "╞═══════════╪═══════════╪═══════════╪═══════════╪═══╪═══════════╪═══════════╪═══════════╪══════════╡\n",
              "│ 2kyS6SvSY ┆ null      ┆ WE WANT   ┆ CaseyNeis ┆ … ┆ False     ┆ False     ┆ False     ┆ SHANTELL │\n",
              "│ SE        ┆           ┆ TO TALK   ┆ tat       ┆   ┆           ┆           ┆           ┆ 'S       │\n",
              "│           ┆           ┆ ABOUT OUR ┆           ┆   ┆           ┆           ┆           ┆ CHANNEL  │\n",
              "│           ┆           ┆ MARR…     ┆           ┆   ┆           ┆           ┆           ┆ - https: │\n",
              "│           ┆           ┆           ┆           ┆   ┆           ┆           ┆           ┆ //w…     │\n",
              "│ 1ZAPwfrtA ┆ null      ┆ The Trump ┆ LastWeekT ┆ … ┆ False     ┆ False     ┆ False     ┆ One year │\n",
              "│ FY        ┆           ┆ Presidenc ┆ onight    ┆   ┆           ┆           ┆           ┆ after    │\n",
              "│           ┆           ┆ y: Last   ┆           ┆   ┆           ┆           ┆           ┆ the pres │\n",
              "│           ┆           ┆ Wee…      ┆           ┆   ┆           ┆           ┆           ┆ identia… │\n",
              "│ 5qpjK5DgC ┆ null      ┆ Racist    ┆ Rudy      ┆ … ┆ False     ┆ False     ┆ False     ┆ WATCH MY │\n",
              "│ t4        ┆           ┆ Superman  ┆ Mancuso   ┆   ┆           ┆           ┆           ┆ PREVIOUS │\n",
              "│           ┆           ┆ | Rudy    ┆           ┆   ┆           ┆           ┆           ┆ VIDEO ▶  │\n",
              "│           ┆           ┆ Mancuso…  ┆           ┆   ┆           ┆           ┆           ┆ \\n\\n…    │\n",
              "└───────────┴───────────┴───────────┴───────────┴───┴───────────┴───────────┴───────────┴──────────┘"
            ],
            "text/html": [
              "<div><style>\n",
              ".dataframe > thead > tr,\n",
              ".dataframe > tbody > tr {\n",
              "  text-align: right;\n",
              "  white-space: pre-wrap;\n",
              "}\n",
              "</style>\n",
              "<small>shape: (3, 16)</small><table border=\"1\" class=\"dataframe\"><thead><tr><th>video_id</th><th>trending_date</th><th>title</th><th>channel_title</th><th>category_id</th><th>publish_time</th><th>tags</th><th>views</th><th>likes</th><th>dislikes</th><th>comment_count</th><th>thumbnail_link</th><th>comments_disabled</th><th>ratings_disabled</th><th>video_error_or_removed</th><th>description</th></tr><tr><td>str</td><td>date</td><td>str</td><td>str</td><td>str</td><td>datetime[ns]</td><td>str</td><td>i32</td><td>i32</td><td>i32</td><td>i32</td><td>str</td><td>str</td><td>str</td><td>str</td><td>str</td></tr></thead><tbody><tr><td>&quot;2kyS6SvSYSE&quot;</td><td>null</td><td>&quot;WE WANT TO TALK ABOUT OUR MARR…</td><td>&quot;CaseyNeistat&quot;</td><td>&quot;22&quot;</td><td>2017-11-13 17:13:01</td><td>&quot;SHANtell martin&quot;</td><td>748374</td><td>57527</td><td>2966</td><td>15954</td><td>&quot;https://i.ytimg.com/vi/2kyS6Sv…</td><td>&quot;False&quot;</td><td>&quot;False&quot;</td><td>&quot;False&quot;</td><td>&quot;SHANTELL&#x27;S CHANNEL - https://w…</td></tr><tr><td>&quot;1ZAPwfrtAFY&quot;</td><td>null</td><td>&quot;The Trump Presidency: Last Wee…</td><td>&quot;LastWeekTonight&quot;</td><td>&quot;24&quot;</td><td>2017-11-13 07:30:00</td><td>&quot;&quot;last week tonight trump presi…</td><td>2418783</td><td>97185</td><td>6146</td><td>12703</td><td>&quot;https://i.ytimg.com/vi/1ZAPwfr…</td><td>&quot;False&quot;</td><td>&quot;False&quot;</td><td>&quot;False&quot;</td><td>&quot;One year after the presidentia…</td></tr><tr><td>&quot;5qpjK5DgCt4&quot;</td><td>null</td><td>&quot;Racist Superman | Rudy Mancuso…</td><td>&quot;Rudy Mancuso&quot;</td><td>&quot;23&quot;</td><td>2017-11-12 19:05:24</td><td>&quot;&quot;racist superman&quot;|&quot;rudy&quot;|&quot;manc…</td><td>3191434</td><td>146033</td><td>5339</td><td>8181</td><td>&quot;https://i.ytimg.com/vi/5qpjK5D…</td><td>&quot;False&quot;</td><td>&quot;False&quot;</td><td>&quot;False&quot;</td><td>&quot;WATCH MY PREVIOUS VIDEO ▶ \\n\\n…</td></tr></tbody></table></div>"
            ]
          },
          "metadata": {},
          "execution_count": 52
        }
      ]
    },
    {
      "cell_type": "code",
      "source": [
        "df_reviews.columns"
      ],
      "metadata": {
        "colab": {
          "base_uri": "https://localhost:8080/"
        },
        "id": "mc8o0g4I4D3K",
        "outputId": "07ea3219-278c-4a18-ab62-45af6ab803b4"
      },
      "execution_count": 51,
      "outputs": [
        {
          "output_type": "execute_result",
          "data": {
            "text/plain": [
              "['video_id',\n",
              " 'trending_date',\n",
              " 'title',\n",
              " 'channel_title',\n",
              " 'category_id',\n",
              " 'publish_time',\n",
              " 'tags',\n",
              " 'views',\n",
              " 'likes',\n",
              " 'dislikes',\n",
              " 'comment_count',\n",
              " 'thumbnail_link',\n",
              " 'comments_disabled',\n",
              " 'ratings_disabled',\n",
              " 'video_error_or_removed',\n",
              " 'description']"
            ]
          },
          "metadata": {},
          "execution_count": 51
        }
      ]
    },
    {
      "cell_type": "markdown",
      "source": [
        "##obtener los 3 meses con el mayor valoracion por mes incluir columna nombre month"
      ],
      "metadata": {
        "id": "NJKyOUTX0LYB"
      }
    },
    {
      "cell_type": "code",
      "source": [
        "\n",
        "import polars as pl\n",
        "\n",
        "(\n",
        "    df_reviews\n",
        "    .with_columns(\n",
        "        month=pl.col('publish_time').dt.month() # Added pl. before calling col() function\n",
        ")\n",
        ".group_by('publish_time')\n",
        ".agg(\n",
        "    avg.rating_month==pl.col('views').mean() # Added pl. before calling col() function\n",
        ")\n",
        ".filter(\n",
        "    pl.col('avg.rating_month').is_not_nan() # Added pl. before calling col() function\n",
        ")\n",
        ".sort('avg.rating_month', descending=True)\n",
        ".head(3)\n",
        ")"
      ],
      "metadata": {
        "colab": {
          "base_uri": "https://localhost:8080/",
          "height": 223
        },
        "id": "3vtu9oJ64n7H",
        "outputId": "c6fd08a7-a671-4e82-eb80-af9d5f2e7c2d"
      },
      "execution_count": 56,
      "outputs": [
        {
          "output_type": "error",
          "ename": "NameError",
          "evalue": "name 'avg' is not defined",
          "traceback": [
            "\u001b[0;31m---------------------------------------------------------------------------\u001b[0m",
            "\u001b[0;31mNameError\u001b[0m                                 Traceback (most recent call last)",
            "\u001b[0;32m<ipython-input-56-745bbb113997>\u001b[0m in \u001b[0;36m<cell line: 4>\u001b[0;34m()\u001b[0m\n\u001b[1;32m      8\u001b[0m \u001b[0;34m.\u001b[0m\u001b[0mgroup_by\u001b[0m\u001b[0;34m(\u001b[0m\u001b[0;34m'publish_time'\u001b[0m\u001b[0;34m)\u001b[0m\u001b[0;34m\u001b[0m\u001b[0;34m\u001b[0m\u001b[0m\n\u001b[1;32m      9\u001b[0m .agg(\n\u001b[0;32m---> 10\u001b[0;31m     \u001b[0mavg\u001b[0m\u001b[0;34m.\u001b[0m\u001b[0mrating_month\u001b[0m\u001b[0;34m==\u001b[0m\u001b[0mpl\u001b[0m\u001b[0;34m.\u001b[0m\u001b[0mcol\u001b[0m\u001b[0;34m(\u001b[0m\u001b[0;34m'views'\u001b[0m\u001b[0;34m)\u001b[0m\u001b[0;34m.\u001b[0m\u001b[0mmean\u001b[0m\u001b[0;34m(\u001b[0m\u001b[0;34m)\u001b[0m \u001b[0;31m# Added pl. before calling col() function\u001b[0m\u001b[0;34m\u001b[0m\u001b[0;34m\u001b[0m\u001b[0m\n\u001b[0m\u001b[1;32m     11\u001b[0m )\n\u001b[1;32m     12\u001b[0m .filter(\n",
            "\u001b[0;31mNameError\u001b[0m: name 'avg' is not defined"
          ]
        }
      ]
    },
    {
      "cell_type": "code",
      "source": [
        "(\n",
        "    df_reviews\n",
        "    .with_columns(\n",
        "        month=col('publish_time').dt.month()\n",
        ")\n",
        ".groupby('publish_time')\n",
        ".agg(\n",
        "    avg.rating_month==col('views').mean()\n",
        ")\n",
        ".filter(\n",
        "    col('avg.rating_month').is_not_nan()\n",
        ")\n",
        ".sort('avg.rating_month', descending=True)\n",
        ".head(3)\n",
        ")"
      ],
      "metadata": {
        "colab": {
          "base_uri": "https://localhost:8080/",
          "height": 223
        },
        "id": "Ty8J4Puv0R1C",
        "outputId": "42963ede-b06e-4c84-9714-e9921bce1113"
      },
      "execution_count": 54,
      "outputs": [
        {
          "output_type": "error",
          "ename": "NameError",
          "evalue": "name 'col' is not defined",
          "traceback": [
            "\u001b[0;31m---------------------------------------------------------------------------\u001b[0m",
            "\u001b[0;31mNameError\u001b[0m                                 Traceback (most recent call last)",
            "\u001b[0;32m<ipython-input-54-bbef2d9367c1>\u001b[0m in \u001b[0;36m<cell line: 2>\u001b[0;34m()\u001b[0m\n\u001b[1;32m      2\u001b[0m     \u001b[0mdf_reviews\u001b[0m\u001b[0;34m\u001b[0m\u001b[0;34m\u001b[0m\u001b[0m\n\u001b[1;32m      3\u001b[0m     .with_columns(\n\u001b[0;32m----> 4\u001b[0;31m         \u001b[0mmonth\u001b[0m\u001b[0;34m=\u001b[0m\u001b[0mcol\u001b[0m\u001b[0;34m(\u001b[0m\u001b[0;34m'publish_time'\u001b[0m\u001b[0;34m)\u001b[0m\u001b[0;34m.\u001b[0m\u001b[0mdt\u001b[0m\u001b[0;34m.\u001b[0m\u001b[0mmonth\u001b[0m\u001b[0;34m(\u001b[0m\u001b[0;34m)\u001b[0m\u001b[0;34m\u001b[0m\u001b[0;34m\u001b[0m\u001b[0m\n\u001b[0m\u001b[1;32m      5\u001b[0m )      \n\u001b[1;32m      6\u001b[0m \u001b[0;34m.\u001b[0m\u001b[0mgroupby\u001b[0m\u001b[0;34m(\u001b[0m\u001b[0;34m'publish_time'\u001b[0m\u001b[0;34m)\u001b[0m\u001b[0;34m\u001b[0m\u001b[0;34m\u001b[0m\u001b[0m\n",
            "\u001b[0;31mNameError\u001b[0m: name 'col' is not defined"
          ]
        }
      ]
    }
  ]
}