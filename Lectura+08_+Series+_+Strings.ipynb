{
  "cells": [
    {
      "cell_type": "markdown",
      "id": "b1b9987e-6905-4664-8068-ef98c6be2e8b",
      "metadata": {
        "id": "b1b9987e-6905-4664-8068-ef98c6be2e8b"
      },
      "source": [
        "# Lectura 08: Series - Strings"
      ]
    },
    {
      "cell_type": "markdown",
      "id": "0a32058d-4764-4a8d-bf1d-fdf135b0912a",
      "metadata": {
        "id": "0a32058d-4764-4a8d-bf1d-fdf135b0912a"
      },
      "source": [
        "Los siguientes métodos están disponibles bajo el atributo `Series.str`"
      ]
    },
    {
      "cell_type": "markdown",
      "id": "e901873f-c70f-4200-bcde-8ec0f2c07073",
      "metadata": {
        "id": "e901873f-c70f-4200-bcde-8ec0f2c07073"
      },
      "source": [
        "### Concatenar"
      ]
    },
    {
      "cell_type": "code",
      "execution_count": 2,
      "id": "744e6d9f-dfd1-4633-b6a3-66961111d2cf",
      "metadata": {
        "tags": [],
        "id": "744e6d9f-dfd1-4633-b6a3-66961111d2cf"
      },
      "outputs": [],
      "source": [
        "import polars as pl"
      ]
    },
    {
      "cell_type": "code",
      "execution_count": 4,
      "id": "2a78df8e-850a-4d8f-b76c-7c7aad0e12ac",
      "metadata": {
        "tags": [],
        "id": "2a78df8e-850a-4d8f-b76c-7c7aad0e12ac"
      },
      "outputs": [],
      "source": [
        "s1 = pl.Series('texto', ['Polars', 'es', 'rápidooo'])  ## serie de string"
      ]
    },
    {
      "cell_type": "code",
      "execution_count": 6,
      "id": "7f96520d-5abc-4660-b5db-92f89561643e",
      "metadata": {
        "tags": [],
        "colab": {
          "base_uri": "https://localhost:8080/",
          "height": 129
        },
        "id": "7f96520d-5abc-4660-b5db-92f89561643e",
        "outputId": "57914286-7122-4ddc-a6fc-366ffe91bd6f"
      },
      "outputs": [
        {
          "output_type": "execute_result",
          "data": {
            "text/plain": [
              "shape: (1,)\n",
              "Series: 'texto' [str]\n",
              "[\n",
              "\t\"Polars-es-rápi…\n",
              "]"
            ],
            "text/html": [
              "<div><style>\n",
              ".dataframe > thead > tr,\n",
              ".dataframe > tbody > tr {\n",
              "  text-align: right;\n",
              "  white-space: pre-wrap;\n",
              "}\n",
              "</style>\n",
              "<small>shape: (1,)</small><table border=\"1\" class=\"dataframe\"><thead><tr><th>texto</th></tr><tr><td>str</td></tr></thead><tbody><tr><td>&quot;Polars-es-rápi…</td></tr></tbody></table></div>"
            ]
          },
          "metadata": {},
          "execution_count": 6
        }
      ],
      "source": [
        "s1.str.concat()  ### concatenar son metodos serie.str acceso a funciones de string"
      ]
    },
    {
      "cell_type": "markdown",
      "id": "d9f63a9c-ffa9-470f-9613-d7aabc05c8cb",
      "metadata": {
        "id": "d9f63a9c-ffa9-470f-9613-d7aabc05c8cb"
      },
      "source": [
        "Concatenar con un delimitador personalizado"
      ]
    },
    {
      "cell_type": "code",
      "execution_count": 8,
      "id": "7f685cc6-abe8-4ee9-9dea-542822c93b78",
      "metadata": {
        "tags": [],
        "colab": {
          "base_uri": "https://localhost:8080/",
          "height": 129
        },
        "id": "7f685cc6-abe8-4ee9-9dea-542822c93b78",
        "outputId": "ca8263e9-979d-498c-b9f7-064ab642193d"
      },
      "outputs": [
        {
          "output_type": "execute_result",
          "data": {
            "text/plain": [
              "shape: (1,)\n",
              "Series: 'texto' [str]\n",
              "[\n",
              "\t\"Polars es rápi…\n",
              "]"
            ],
            "text/html": [
              "<div><style>\n",
              ".dataframe > thead > tr,\n",
              ".dataframe > tbody > tr {\n",
              "  text-align: right;\n",
              "  white-space: pre-wrap;\n",
              "}\n",
              "</style>\n",
              "<small>shape: (1,)</small><table border=\"1\" class=\"dataframe\"><thead><tr><th>texto</th></tr><tr><td>str</td></tr></thead><tbody><tr><td>&quot;Polars es rápi…</td></tr></tbody></table></div>"
            ]
          },
          "metadata": {},
          "execution_count": 8
        }
      ],
      "source": [
        "s1.str.concat(' ')## concatenar con un delimitador predeterminado"
      ]
    },
    {
      "cell_type": "markdown",
      "id": "78e0426d-b82a-4d76-8c20-51331dd2c059",
      "metadata": {
        "id": "78e0426d-b82a-4d76-8c20-51331dd2c059"
      },
      "source": [
        "### Reemplazo\n",
        "\n",
        "`replace` reemplaza la primera coincidencia de la serie"
      ]
    },
    {
      "cell_type": "code",
      "execution_count": 10,
      "id": "4404160e-bb6b-4897-8e35-51162bc3db84",
      "metadata": {
        "tags": [],
        "colab": {
          "base_uri": "https://localhost:8080/",
          "height": 192
        },
        "id": "4404160e-bb6b-4897-8e35-51162bc3db84",
        "outputId": "23622e11-fc89-4fca-d347-0f6132799725"
      },
      "outputs": [
        {
          "output_type": "execute_result",
          "data": {
            "text/plain": [
              "shape: (3,)\n",
              "Series: 'texto' [str]\n",
              "[\n",
              "\t\"Polars\"\n",
              "\t\"es muy\"\n",
              "\t\"rápidooo\"\n",
              "]"
            ],
            "text/html": [
              "<div><style>\n",
              ".dataframe > thead > tr,\n",
              ".dataframe > tbody > tr {\n",
              "  text-align: right;\n",
              "  white-space: pre-wrap;\n",
              "}\n",
              "</style>\n",
              "<small>shape: (3,)</small><table border=\"1\" class=\"dataframe\"><thead><tr><th>texto</th></tr><tr><td>str</td></tr></thead><tbody><tr><td>&quot;Polars&quot;</td></tr><tr><td>&quot;es muy&quot;</td></tr><tr><td>&quot;rápidooo&quot;</td></tr></tbody></table></div>"
            ]
          },
          "metadata": {},
          "execution_count": 10
        }
      ],
      "source": [
        "s1.str.replace('es', 'es muy')  ## reemplaza la primera coincidencia de la serie"
      ]
    },
    {
      "cell_type": "code",
      "execution_count": 12,
      "id": "aa186cdc-a119-44f6-bcdf-3c0a21903612",
      "metadata": {
        "tags": [],
        "colab": {
          "base_uri": "https://localhost:8080/",
          "height": 192
        },
        "id": "aa186cdc-a119-44f6-bcdf-3c0a21903612",
        "outputId": "6d811413-c474-442d-d069-08301c66a01a"
      },
      "outputs": [
        {
          "output_type": "execute_result",
          "data": {
            "text/plain": [
              "shape: (3,)\n",
              "Series: 'texto' [str]\n",
              "[\n",
              "\t\"Yolars\"\n",
              "\t\"es\"\n",
              "\t\"rápidooo\"\n",
              "]"
            ],
            "text/html": [
              "<div><style>\n",
              ".dataframe > thead > tr,\n",
              ".dataframe > tbody > tr {\n",
              "  text-align: right;\n",
              "  white-space: pre-wrap;\n",
              "}\n",
              "</style>\n",
              "<small>shape: (3,)</small><table border=\"1\" class=\"dataframe\"><thead><tr><th>texto</th></tr><tr><td>str</td></tr></thead><tbody><tr><td>&quot;Yolars&quot;</td></tr><tr><td>&quot;es&quot;</td></tr><tr><td>&quot;rápidooo&quot;</td></tr></tbody></table></div>"
            ]
          },
          "metadata": {},
          "execution_count": 12
        }
      ],
      "source": [
        "s1.str.replace('^P', 'Y') ## reemplaza la primera coincidencia de la serie, patron o pattern"
      ]
    },
    {
      "cell_type": "markdown",
      "id": "cb644e31-cd9b-492c-8704-b656069b241a",
      "metadata": {
        "id": "cb644e31-cd9b-492c-8704-b656069b241a"
      },
      "source": [
        "`replace_all` reeplaza todas las coincidencias que encuentre en la serie"
      ]
    },
    {
      "cell_type": "code",
      "execution_count": 13,
      "id": "e18d28b3-521b-4dea-977b-d4af2371d00b",
      "metadata": {
        "tags": [],
        "colab": {
          "base_uri": "https://localhost:8080/",
          "height": 192
        },
        "id": "e18d28b3-521b-4dea-977b-d4af2371d00b",
        "outputId": "96b614ae-b566-4e6a-b354-09f030a341d8"
      },
      "outputs": [
        {
          "output_type": "execute_result",
          "data": {
            "text/plain": [
              "shape: (3,)\n",
              "Series: 'texto' [str]\n",
              "[\n",
              "\t\"P=lars\"\n",
              "\t\"es\"\n",
              "\t\"rápid=oo\"\n",
              "]"
            ],
            "text/html": [
              "<div><style>\n",
              ".dataframe > thead > tr,\n",
              ".dataframe > tbody > tr {\n",
              "  text-align: right;\n",
              "  white-space: pre-wrap;\n",
              "}\n",
              "</style>\n",
              "<small>shape: (3,)</small><table border=\"1\" class=\"dataframe\"><thead><tr><th>texto</th></tr><tr><td>str</td></tr></thead><tbody><tr><td>&quot;P=lars&quot;</td></tr><tr><td>&quot;es&quot;</td></tr><tr><td>&quot;rápid=oo&quot;</td></tr></tbody></table></div>"
            ]
          },
          "metadata": {},
          "execution_count": 13
        }
      ],
      "source": [
        "s1.str.replace('o', '=')  ## reemplaza la primera coincidencia de la serie, replace o replace_all"
      ]
    },
    {
      "cell_type": "code",
      "execution_count": 15,
      "id": "642ff686-4451-4ff2-88a1-e3524ce8a5ba",
      "metadata": {
        "tags": [],
        "colab": {
          "base_uri": "https://localhost:8080/",
          "height": 192
        },
        "id": "642ff686-4451-4ff2-88a1-e3524ce8a5ba",
        "outputId": "15175cdb-d080-41e0-9613-93995edf6b5d"
      },
      "outputs": [
        {
          "output_type": "execute_result",
          "data": {
            "text/plain": [
              "shape: (3,)\n",
              "Series: 'texto' [str]\n",
              "[\n",
              "\t\"P=lars\"\n",
              "\t\"es\"\n",
              "\t\"rápid===\"\n",
              "]"
            ],
            "text/html": [
              "<div><style>\n",
              ".dataframe > thead > tr,\n",
              ".dataframe > tbody > tr {\n",
              "  text-align: right;\n",
              "  white-space: pre-wrap;\n",
              "}\n",
              "</style>\n",
              "<small>shape: (3,)</small><table border=\"1\" class=\"dataframe\"><thead><tr><th>texto</th></tr><tr><td>str</td></tr></thead><tbody><tr><td>&quot;P=lars&quot;</td></tr><tr><td>&quot;es&quot;</td></tr><tr><td>&quot;rápid===&quot;</td></tr></tbody></table></div>"
            ]
          },
          "metadata": {},
          "execution_count": 15
        }
      ],
      "source": [
        "s1.str.replace_all('o', '=')  ###"
      ]
    },
    {
      "cell_type": "markdown",
      "id": "d2387784-ec08-4621-831e-25c6d62f5caa",
      "metadata": {
        "id": "d2387784-ec08-4621-831e-25c6d62f5caa"
      },
      "source": [
        "### Remover espacios a la izquierza y a la derecha"
      ]
    },
    {
      "cell_type": "code",
      "execution_count": 16,
      "id": "776ed8a9-8f29-46eb-b2d5-de6fa7a0eec9",
      "metadata": {
        "tags": [],
        "id": "776ed8a9-8f29-46eb-b2d5-de6fa7a0eec9"
      },
      "outputs": [],
      "source": [
        "s2 = pl.Series('texto', ['   jose', 'julia '])"
      ]
    },
    {
      "cell_type": "code",
      "execution_count": 24,
      "id": "a1601e09-0030-414c-bceb-43bfbe76a6da",
      "metadata": {
        "tags": [],
        "colab": {
          "base_uri": "https://localhost:8080/",
          "height": 160
        },
        "id": "a1601e09-0030-414c-bceb-43bfbe76a6da",
        "outputId": "6e1cceb2-598d-4fe1-b039-e232b3256975"
      },
      "outputs": [
        {
          "output_type": "execute_result",
          "data": {
            "text/plain": [
              "shape: (2,)\n",
              "Series: 'texto' [str]\n",
              "[\n",
              "\t\"jose\"\n",
              "\t\"julia \"\n",
              "]"
            ],
            "text/html": [
              "<div><style>\n",
              ".dataframe > thead > tr,\n",
              ".dataframe > tbody > tr {\n",
              "  text-align: right;\n",
              "  white-space: pre-wrap;\n",
              "}\n",
              "</style>\n",
              "<small>shape: (2,)</small><table border=\"1\" class=\"dataframe\"><thead><tr><th>texto</th></tr><tr><td>str</td></tr></thead><tbody><tr><td>&quot;jose&quot;</td></tr><tr><td>&quot;julia &quot;</td></tr></tbody></table></div>"
            ]
          },
          "metadata": {},
          "execution_count": 24
        }
      ],
      "source": [
        "s2.str.strip_chars_start() ## remueve espacios en blanco iniciales"
      ]
    },
    {
      "cell_type": "code",
      "execution_count": 20,
      "id": "68f27187-232f-48b3-a96d-12efa4fe8ff3",
      "metadata": {
        "tags": [],
        "colab": {
          "base_uri": "https://localhost:8080/",
          "height": 160
        },
        "id": "68f27187-232f-48b3-a96d-12efa4fe8ff3",
        "outputId": "49df3008-fa1b-43d5-8765-6a22f5e9fe4d"
      },
      "outputs": [
        {
          "output_type": "execute_result",
          "data": {
            "text/plain": [
              "shape: (2,)\n",
              "Series: 'texto' [str]\n",
              "[\n",
              "\t\"   jose\"\n",
              "\t\"julia\"\n",
              "]"
            ],
            "text/html": [
              "<div><style>\n",
              ".dataframe > thead > tr,\n",
              ".dataframe > tbody > tr {\n",
              "  text-align: right;\n",
              "  white-space: pre-wrap;\n",
              "}\n",
              "</style>\n",
              "<small>shape: (2,)</small><table border=\"1\" class=\"dataframe\"><thead><tr><th>texto</th></tr><tr><td>str</td></tr></thead><tbody><tr><td>&quot;   jose&quot;</td></tr><tr><td>&quot;julia&quot;</td></tr></tbody></table></div>"
            ]
          },
          "metadata": {},
          "execution_count": 20
        }
      ],
      "source": [
        "s2.str.strip_chars_end()"
      ]
    },
    {
      "cell_type": "code",
      "execution_count": 25,
      "id": "a52ab2d2-246e-4f61-adca-785a83afde44",
      "metadata": {
        "tags": [],
        "colab": {
          "base_uri": "https://localhost:8080/",
          "height": 160
        },
        "id": "a52ab2d2-246e-4f61-adca-785a83afde44",
        "outputId": "e114f6c9-cd40-42f9-bc9e-9c478fbe5c16"
      },
      "outputs": [
        {
          "output_type": "execute_result",
          "data": {
            "text/plain": [
              "shape: (2,)\n",
              "Series: 'texto' [str]\n",
              "[\n",
              "\t\"jose\"\n",
              "\t\"julia\"\n",
              "]"
            ],
            "text/html": [
              "<div><style>\n",
              ".dataframe > thead > tr,\n",
              ".dataframe > tbody > tr {\n",
              "  text-align: right;\n",
              "  white-space: pre-wrap;\n",
              "}\n",
              "</style>\n",
              "<small>shape: (2,)</small><table border=\"1\" class=\"dataframe\"><thead><tr><th>texto</th></tr><tr><td>str</td></tr></thead><tbody><tr><td>&quot;jose&quot;</td></tr><tr><td>&quot;julia&quot;</td></tr></tbody></table></div>"
            ]
          },
          "metadata": {},
          "execution_count": 25
        }
      ],
      "source": [
        "s2.str.strip_chars() ## remueve espacios en blanco al inicio y al final"
      ]
    },
    {
      "cell_type": "markdown",
      "id": "7e8304a5-f306-4cbb-ba13-5812fb209cbd",
      "metadata": {
        "id": "7e8304a5-f306-4cbb-ba13-5812fb209cbd"
      },
      "source": [
        "### Verificar si un string comienza o termina con un valor"
      ]
    },
    {
      "cell_type": "code",
      "execution_count": 17,
      "id": "2c2f5162-b712-435d-b8be-99f0d949a0df",
      "metadata": {
        "tags": [],
        "colab": {
          "base_uri": "https://localhost:8080/",
          "height": 192
        },
        "id": "2c2f5162-b712-435d-b8be-99f0d949a0df",
        "outputId": "84615f96-2f51-4669-9a29-cfaa753b9e91"
      },
      "outputs": [
        {
          "output_type": "execute_result",
          "data": {
            "text/plain": [
              "shape: (3,)\n",
              "Series: 'color' [bool]\n",
              "[\n",
              "\tfalse\n",
              "\tfalse\n",
              "\ttrue\n",
              "]"
            ],
            "text/html": [
              "<div><style>\n",
              ".dataframe > thead > tr,\n",
              ".dataframe > tbody > tr {\n",
              "  text-align: right;\n",
              "  white-space: pre-wrap;\n",
              "}\n",
              "</style>\n",
              "<small>shape: (3,)</small><table border=\"1\" class=\"dataframe\"><thead><tr><th>color</th></tr><tr><td>bool</td></tr></thead><tbody><tr><td>false</td></tr><tr><td>false</td></tr><tr><td>true</td></tr></tbody></table></div>"
            ]
          },
          "metadata": {},
          "execution_count": 17
        }
      ],
      "source": [
        "s3 = pl.Series('color', ['verde', 'azul', 'rojo'])\n",
        "\n",
        "s3.str.starts_with('r')"
      ]
    },
    {
      "cell_type": "code",
      "execution_count": 22,
      "id": "ffeb2279-aaa2-4a66-a649-8a2b437a7e18",
      "metadata": {
        "tags": [],
        "colab": {
          "base_uri": "https://localhost:8080/",
          "height": 192
        },
        "id": "ffeb2279-aaa2-4a66-a649-8a2b437a7e18",
        "outputId": "4c547daa-7068-4df4-c075-127d055c80c1"
      },
      "outputs": [
        {
          "output_type": "execute_result",
          "data": {
            "text/plain": [
              "shape: (3,)\n",
              "Series: 'color' [bool]\n",
              "[\n",
              "\tfalse\n",
              "\ttrue\n",
              "\tfalse\n",
              "]"
            ],
            "text/html": [
              "<div><style>\n",
              ".dataframe > thead > tr,\n",
              ".dataframe > tbody > tr {\n",
              "  text-align: right;\n",
              "  white-space: pre-wrap;\n",
              "}\n",
              "</style>\n",
              "<small>shape: (3,)</small><table border=\"1\" class=\"dataframe\"><thead><tr><th>color</th></tr><tr><td>bool</td></tr></thead><tbody><tr><td>false</td></tr><tr><td>true</td></tr><tr><td>false</td></tr></tbody></table></div>"
            ]
          },
          "metadata": {},
          "execution_count": 22
        }
      ],
      "source": [
        "s3.str.ends_with('l')  ## verificar si los elementos de la serie finalizan con l"
      ]
    },
    {
      "cell_type": "markdown",
      "id": "086f3663-cd90-44d1-8976-c937c3880d88",
      "metadata": {
        "id": "086f3663-cd90-44d1-8976-c937c3880d88"
      },
      "source": [
        "### Longitud de un string"
      ]
    },
    {
      "cell_type": "code",
      "execution_count": 26,
      "id": "4642ce75-aa74-443d-84a0-5271c9cdaa77",
      "metadata": {
        "tags": [],
        "colab": {
          "base_uri": "https://localhost:8080/",
          "height": 192
        },
        "id": "4642ce75-aa74-443d-84a0-5271c9cdaa77",
        "outputId": "e85926c7-0ed7-48cd-98b1-888ea3afd599"
      },
      "outputs": [
        {
          "output_type": "execute_result",
          "data": {
            "text/plain": [
              "shape: (3,)\n",
              "Series: 'color' [u32]\n",
              "[\n",
              "\t5\n",
              "\t4\n",
              "\t4\n",
              "]"
            ],
            "text/html": [
              "<div><style>\n",
              ".dataframe > thead > tr,\n",
              ".dataframe > tbody > tr {\n",
              "  text-align: right;\n",
              "  white-space: pre-wrap;\n",
              "}\n",
              "</style>\n",
              "<small>shape: (3,)</small><table border=\"1\" class=\"dataframe\"><thead><tr><th>color</th></tr><tr><td>u32</td></tr></thead><tbody><tr><td>5</td></tr><tr><td>4</td></tr><tr><td>4</td></tr></tbody></table></div>"
            ]
          },
          "metadata": {},
          "execution_count": 26
        }
      ],
      "source": [
        "s3.str.len_bytes() ## longitud en byte de cada elemento"
      ]
    },
    {
      "cell_type": "markdown",
      "id": "80ba0aa5-644e-4424-9276-3acfc0f73235",
      "metadata": {
        "id": "80ba0aa5-644e-4424-9276-3acfc0f73235"
      },
      "source": [
        "### Convertie a mayúsculas y minúsculas"
      ]
    },
    {
      "cell_type": "code",
      "execution_count": 27,
      "id": "9d2471e0-0be9-4dec-8e01-ffa577a9d6c2",
      "metadata": {
        "tags": [],
        "id": "9d2471e0-0be9-4dec-8e01-ffa577a9d6c2"
      },
      "outputs": [],
      "source": [
        "s4 = pl.Series('texto', ['JOSE', 'Jose', 'jose'])"
      ]
    },
    {
      "cell_type": "code",
      "execution_count": 28,
      "id": "1cde4df0-7ed7-436c-91ac-721112e4cf56",
      "metadata": {
        "tags": [],
        "colab": {
          "base_uri": "https://localhost:8080/",
          "height": 192
        },
        "id": "1cde4df0-7ed7-436c-91ac-721112e4cf56",
        "outputId": "1264cdb6-492d-426c-ea6a-f6f25d9a6485"
      },
      "outputs": [
        {
          "output_type": "execute_result",
          "data": {
            "text/plain": [
              "shape: (3,)\n",
              "Series: 'texto' [str]\n",
              "[\n",
              "\t\"JOSE\"\n",
              "\t\"JOSE\"\n",
              "\t\"JOSE\"\n",
              "]"
            ],
            "text/html": [
              "<div><style>\n",
              ".dataframe > thead > tr,\n",
              ".dataframe > tbody > tr {\n",
              "  text-align: right;\n",
              "  white-space: pre-wrap;\n",
              "}\n",
              "</style>\n",
              "<small>shape: (3,)</small><table border=\"1\" class=\"dataframe\"><thead><tr><th>texto</th></tr><tr><td>str</td></tr></thead><tbody><tr><td>&quot;JOSE&quot;</td></tr><tr><td>&quot;JOSE&quot;</td></tr><tr><td>&quot;JOSE&quot;</td></tr></tbody></table></div>"
            ]
          },
          "metadata": {},
          "execution_count": 28
        }
      ],
      "source": [
        "s4.str.to_uppercase()"
      ]
    },
    {
      "cell_type": "code",
      "execution_count": 29,
      "id": "bf97c71d-1d56-4fdc-8e0d-649580075d2b",
      "metadata": {
        "tags": [],
        "colab": {
          "base_uri": "https://localhost:8080/",
          "height": 192
        },
        "id": "bf97c71d-1d56-4fdc-8e0d-649580075d2b",
        "outputId": "758cf2a4-b281-47a1-8d41-f4596131cc9a"
      },
      "outputs": [
        {
          "output_type": "execute_result",
          "data": {
            "text/plain": [
              "shape: (3,)\n",
              "Series: 'texto' [str]\n",
              "[\n",
              "\t\"jose\"\n",
              "\t\"jose\"\n",
              "\t\"jose\"\n",
              "]"
            ],
            "text/html": [
              "<div><style>\n",
              ".dataframe > thead > tr,\n",
              ".dataframe > tbody > tr {\n",
              "  text-align: right;\n",
              "  white-space: pre-wrap;\n",
              "}\n",
              "</style>\n",
              "<small>shape: (3,)</small><table border=\"1\" class=\"dataframe\"><thead><tr><th>texto</th></tr><tr><td>str</td></tr></thead><tbody><tr><td>&quot;jose&quot;</td></tr><tr><td>&quot;jose&quot;</td></tr><tr><td>&quot;jose&quot;</td></tr></tbody></table></div>"
            ]
          },
          "metadata": {},
          "execution_count": 29
        }
      ],
      "source": [
        "s4.str.to_lowercase()"
      ]
    },
    {
      "cell_type": "markdown",
      "source": [
        "##datetime"
      ],
      "metadata": {
        "id": "B4d7JuAvjj6k"
      },
      "id": "B4d7JuAvjj6k"
    },
    {
      "cell_type": "code",
      "source": [
        "import polars as pl\n",
        "from datetime import datetime"
      ],
      "metadata": {
        "id": "mb4hxhR1jiFc"
      },
      "id": "mb4hxhR1jiFc",
      "execution_count": 30,
      "outputs": []
    },
    {
      "cell_type": "code",
      "source": [
        "s1 = pl.Series(\"fecha\", [datetime(2023, 2, 10), datetime(2023, 11,23,12,35,56)])"
      ],
      "metadata": {
        "id": "RTfWyMBBjvzu"
      },
      "id": "RTfWyMBBjvzu",
      "execution_count": 32,
      "outputs": []
    },
    {
      "cell_type": "code",
      "source": [
        "print(s1)"
      ],
      "metadata": {
        "colab": {
          "base_uri": "https://localhost:8080/"
        },
        "id": "pggBT_FukHzA",
        "outputId": "d2a7524c-7269-4b1c-d367-d59b27ed46fc"
      },
      "id": "pggBT_FukHzA",
      "execution_count": 33,
      "outputs": [
        {
          "output_type": "stream",
          "name": "stdout",
          "text": [
            "shape: (2,)\n",
            "Series: 'fecha' [datetime[μs]]\n",
            "[\n",
            "\t2023-02-10 00:00:00\n",
            "\t2023-11-23 12:35:56\n",
            "]\n"
          ]
        }
      ]
    },
    {
      "cell_type": "code",
      "source": [
        "s1.dt.date()  ##extraccion de la fecha de los elementos"
      ],
      "metadata": {
        "colab": {
          "base_uri": "https://localhost:8080/",
          "height": 160
        },
        "id": "KY5X2n7rnXTS",
        "outputId": "e8f7a282-6500-4f10-f84d-8b87269b6f55"
      },
      "id": "KY5X2n7rnXTS",
      "execution_count": 35,
      "outputs": [
        {
          "output_type": "execute_result",
          "data": {
            "text/plain": [
              "shape: (2,)\n",
              "Series: 'fecha' [date]\n",
              "[\n",
              "\t2023-02-10\n",
              "\t2023-11-23\n",
              "]"
            ],
            "text/html": [
              "<div><style>\n",
              ".dataframe > thead > tr,\n",
              ".dataframe > tbody > tr {\n",
              "  text-align: right;\n",
              "  white-space: pre-wrap;\n",
              "}\n",
              "</style>\n",
              "<small>shape: (2,)</small><table border=\"1\" class=\"dataframe\"><thead><tr><th>fecha</th></tr><tr><td>date</td></tr></thead><tbody><tr><td>2023-02-10</td></tr><tr><td>2023-11-23</td></tr></tbody></table></div>"
            ]
          },
          "metadata": {},
          "execution_count": 35
        }
      ]
    },
    {
      "cell_type": "code",
      "source": [
        "s1.dt.datetime()##extraccion de la fecha y hora de los elementos"
      ],
      "metadata": {
        "colab": {
          "base_uri": "https://localhost:8080/",
          "height": 160
        },
        "id": "bp-HnnnUoCOg",
        "outputId": "5984a0d2-102f-4eb5-c4b6-b0444fa4f677"
      },
      "id": "bp-HnnnUoCOg",
      "execution_count": 37,
      "outputs": [
        {
          "output_type": "execute_result",
          "data": {
            "text/plain": [
              "shape: (2,)\n",
              "Series: 'fecha' [datetime[μs]]\n",
              "[\n",
              "\t2023-02-10 00:00:00\n",
              "\t2023-11-23 12:35:56\n",
              "]"
            ],
            "text/html": [
              "<div><style>\n",
              ".dataframe > thead > tr,\n",
              ".dataframe > tbody > tr {\n",
              "  text-align: right;\n",
              "  white-space: pre-wrap;\n",
              "}\n",
              "</style>\n",
              "<small>shape: (2,)</small><table border=\"1\" class=\"dataframe\"><thead><tr><th>fecha</th></tr><tr><td>datetime[μs]</td></tr></thead><tbody><tr><td>2023-02-10 00:00:00</td></tr><tr><td>2023-11-23 12:35:56</td></tr></tbody></table></div>"
            ]
          },
          "metadata": {},
          "execution_count": 37
        }
      ]
    },
    {
      "cell_type": "code",
      "source": [
        "s1.dt.time()  ##extraccion de la hora de los elementos"
      ],
      "metadata": {
        "colab": {
          "base_uri": "https://localhost:8080/",
          "height": 160
        },
        "id": "esIFFeJCnlTd",
        "outputId": "c81583eb-cf6d-48d0-89d5-6b2a1be07010"
      },
      "id": "esIFFeJCnlTd",
      "execution_count": 36,
      "outputs": [
        {
          "output_type": "execute_result",
          "data": {
            "text/plain": [
              "shape: (2,)\n",
              "Series: 'fecha' [time]\n",
              "[\n",
              "\t00:00:00\n",
              "\t12:35:56\n",
              "]"
            ],
            "text/html": [
              "<div><style>\n",
              ".dataframe > thead > tr,\n",
              ".dataframe > tbody > tr {\n",
              "  text-align: right;\n",
              "  white-space: pre-wrap;\n",
              "}\n",
              "</style>\n",
              "<small>shape: (2,)</small><table border=\"1\" class=\"dataframe\"><thead><tr><th>fecha</th></tr><tr><td>time</td></tr></thead><tbody><tr><td>00:00:00</td></tr><tr><td>12:35:56</td></tr></tbody></table></div>"
            ]
          },
          "metadata": {},
          "execution_count": 36
        }
      ]
    },
    {
      "cell_type": "markdown",
      "source": [
        "##EXTRACCION AÑO,MES,DIA Y HORA DE LA SERIE"
      ],
      "metadata": {
        "id": "kZWqoOsYoOQy"
      },
      "id": "kZWqoOsYoOQy"
    },
    {
      "cell_type": "code",
      "source": [
        "s1.dt.year()##extraccion del año de los elementos"
      ],
      "metadata": {
        "colab": {
          "base_uri": "https://localhost:8080/",
          "height": 160
        },
        "id": "0v1_IFrmoTvL",
        "outputId": "e6ff0967-f606-49e7-8d42-2f6157235eb1"
      },
      "id": "0v1_IFrmoTvL",
      "execution_count": 38,
      "outputs": [
        {
          "output_type": "execute_result",
          "data": {
            "text/plain": [
              "shape: (2,)\n",
              "Series: 'fecha' [i32]\n",
              "[\n",
              "\t2023\n",
              "\t2023\n",
              "]"
            ],
            "text/html": [
              "<div><style>\n",
              ".dataframe > thead > tr,\n",
              ".dataframe > tbody > tr {\n",
              "  text-align: right;\n",
              "  white-space: pre-wrap;\n",
              "}\n",
              "</style>\n",
              "<small>shape: (2,)</small><table border=\"1\" class=\"dataframe\"><thead><tr><th>fecha</th></tr><tr><td>i32</td></tr></thead><tbody><tr><td>2023</td></tr><tr><td>2023</td></tr></tbody></table></div>"
            ]
          },
          "metadata": {},
          "execution_count": 38
        }
      ]
    },
    {
      "cell_type": "code",
      "source": [
        "s1.dt.month()##extraccion del mes de los elementos"
      ],
      "metadata": {
        "colab": {
          "base_uri": "https://localhost:8080/",
          "height": 160
        },
        "id": "-HHGnNoCoaJF",
        "outputId": "eb74122d-46fc-4ee2-e6c1-c0b6bc4eaa8e"
      },
      "id": "-HHGnNoCoaJF",
      "execution_count": 39,
      "outputs": [
        {
          "output_type": "execute_result",
          "data": {
            "text/plain": [
              "shape: (2,)\n",
              "Series: 'fecha' [i8]\n",
              "[\n",
              "\t2\n",
              "\t11\n",
              "]"
            ],
            "text/html": [
              "<div><style>\n",
              ".dataframe > thead > tr,\n",
              ".dataframe > tbody > tr {\n",
              "  text-align: right;\n",
              "  white-space: pre-wrap;\n",
              "}\n",
              "</style>\n",
              "<small>shape: (2,)</small><table border=\"1\" class=\"dataframe\"><thead><tr><th>fecha</th></tr><tr><td>i8</td></tr></thead><tbody><tr><td>2</td></tr><tr><td>11</td></tr></tbody></table></div>"
            ]
          },
          "metadata": {},
          "execution_count": 39
        }
      ]
    },
    {
      "cell_type": "code",
      "source": [
        "s1.dt.day()##extraccion del dia de los elementos"
      ],
      "metadata": {
        "colab": {
          "base_uri": "https://localhost:8080/",
          "height": 160
        },
        "id": "AYrf-RRkogAN",
        "outputId": "615b3cfe-3abd-4901-d212-cbdbd2641f51"
      },
      "id": "AYrf-RRkogAN",
      "execution_count": 40,
      "outputs": [
        {
          "output_type": "execute_result",
          "data": {
            "text/plain": [
              "shape: (2,)\n",
              "Series: 'fecha' [i8]\n",
              "[\n",
              "\t10\n",
              "\t23\n",
              "]"
            ],
            "text/html": [
              "<div><style>\n",
              ".dataframe > thead > tr,\n",
              ".dataframe > tbody > tr {\n",
              "  text-align: right;\n",
              "  white-space: pre-wrap;\n",
              "}\n",
              "</style>\n",
              "<small>shape: (2,)</small><table border=\"1\" class=\"dataframe\"><thead><tr><th>fecha</th></tr><tr><td>i8</td></tr></thead><tbody><tr><td>10</td></tr><tr><td>23</td></tr></tbody></table></div>"
            ]
          },
          "metadata": {},
          "execution_count": 40
        }
      ]
    },
    {
      "cell_type": "code",
      "source": [
        "s1.dt.hour()##extraccion de la hora de los elementos"
      ],
      "metadata": {
        "colab": {
          "base_uri": "https://localhost:8080/",
          "height": 160
        },
        "id": "CaBUHmf3ov6W",
        "outputId": "854cf2a9-5edf-4566-e5e1-cefb43883cb8"
      },
      "id": "CaBUHmf3ov6W",
      "execution_count": 42,
      "outputs": [
        {
          "output_type": "execute_result",
          "data": {
            "text/plain": [
              "shape: (2,)\n",
              "Series: 'fecha' [i8]\n",
              "[\n",
              "\t0\n",
              "\t12\n",
              "]"
            ],
            "text/html": [
              "<div><style>\n",
              ".dataframe > thead > tr,\n",
              ".dataframe > tbody > tr {\n",
              "  text-align: right;\n",
              "  white-space: pre-wrap;\n",
              "}\n",
              "</style>\n",
              "<small>shape: (2,)</small><table border=\"1\" class=\"dataframe\"><thead><tr><th>fecha</th></tr><tr><td>i8</td></tr></thead><tbody><tr><td>0</td></tr><tr><td>12</td></tr></tbody></table></div>"
            ]
          },
          "metadata": {},
          "execution_count": 42
        }
      ]
    },
    {
      "cell_type": "code",
      "source": [
        "s1.dt.month_start()##extraccion del mes de los elementos"
      ],
      "metadata": {
        "colab": {
          "base_uri": "https://localhost:8080/",
          "height": 160
        },
        "id": "zAkIDQr8olkt",
        "outputId": "02e6ad07-09ec-49ad-bfdc-a13ceb2541a7"
      },
      "id": "zAkIDQr8olkt",
      "execution_count": 45,
      "outputs": [
        {
          "output_type": "execute_result",
          "data": {
            "text/plain": [
              "shape: (2,)\n",
              "Series: 'fecha' [datetime[μs]]\n",
              "[\n",
              "\t2023-02-01 00:00:00\n",
              "\t2023-11-01 12:35:56\n",
              "]"
            ],
            "text/html": [
              "<div><style>\n",
              ".dataframe > thead > tr,\n",
              ".dataframe > tbody > tr {\n",
              "  text-align: right;\n",
              "  white-space: pre-wrap;\n",
              "}\n",
              "</style>\n",
              "<small>shape: (2,)</small><table border=\"1\" class=\"dataframe\"><thead><tr><th>fecha</th></tr><tr><td>datetime[μs]</td></tr></thead><tbody><tr><td>2023-02-01 00:00:00</td></tr><tr><td>2023-11-01 12:35:56</td></tr></tbody></table></div>"
            ]
          },
          "metadata": {},
          "execution_count": 45
        }
      ]
    },
    {
      "cell_type": "code",
      "source": [
        "s1.dt.month_end()##extraccion del mes de los elementos"
      ],
      "metadata": {
        "colab": {
          "base_uri": "https://localhost:8080/",
          "height": 160
        },
        "id": "JYY_4nOxo_Iw",
        "outputId": "14c93d78-1007-48ff-868e-3a5f2401856f"
      },
      "id": "JYY_4nOxo_Iw",
      "execution_count": 46,
      "outputs": [
        {
          "output_type": "execute_result",
          "data": {
            "text/plain": [
              "shape: (2,)\n",
              "Series: 'fecha' [datetime[μs]]\n",
              "[\n",
              "\t2023-02-28 00:00:00\n",
              "\t2023-11-30 12:35:56\n",
              "]"
            ],
            "text/html": [
              "<div><style>\n",
              ".dataframe > thead > tr,\n",
              ".dataframe > tbody > tr {\n",
              "  text-align: right;\n",
              "  white-space: pre-wrap;\n",
              "}\n",
              "</style>\n",
              "<small>shape: (2,)</small><table border=\"1\" class=\"dataframe\"><thead><tr><th>fecha</th></tr><tr><td>datetime[μs]</td></tr></thead><tbody><tr><td>2023-02-28 00:00:00</td></tr><tr><td>2023-11-30 12:35:56</td></tr></tbody></table></div>"
            ]
          },
          "metadata": {},
          "execution_count": 46
        }
      ]
    },
    {
      "cell_type": "code",
      "source": [
        "s1.dt.min()##extraccion fecha minima"
      ],
      "metadata": {
        "colab": {
          "base_uri": "https://localhost:8080/"
        },
        "id": "Lzx9PxEvpMFL",
        "outputId": "555e137d-814d-4d8d-d480-605beac1b954"
      },
      "id": "Lzx9PxEvpMFL",
      "execution_count": 50,
      "outputs": [
        {
          "output_type": "execute_result",
          "data": {
            "text/plain": [
              "datetime.datetime(2023, 2, 10, 0, 0)"
            ]
          },
          "metadata": {},
          "execution_count": 50
        }
      ]
    },
    {
      "cell_type": "code",
      "source": [
        "s1.dt.max()##extraccion fecha maxima"
      ],
      "metadata": {
        "colab": {
          "base_uri": "https://localhost:8080/"
        },
        "id": "29h9QYqFpSXS",
        "outputId": "5a72b18a-e4fc-44e4-b775-5286317bc478"
      },
      "id": "29h9QYqFpSXS",
      "execution_count": 51,
      "outputs": [
        {
          "output_type": "execute_result",
          "data": {
            "text/plain": [
              "datetime.datetime(2023, 11, 23, 12, 35, 56)"
            ]
          },
          "metadata": {},
          "execution_count": 51
        }
      ]
    },
    {
      "cell_type": "code",
      "source": [
        "s1.dt.week()##extraccion de la semana de los elementos"
      ],
      "metadata": {
        "colab": {
          "base_uri": "https://localhost:8080/",
          "height": 160
        },
        "id": "ZO3_25fJpciU",
        "outputId": "cb45e08c-fbd2-43b3-bd06-3511ec73aea8"
      },
      "id": "ZO3_25fJpciU",
      "execution_count": 52,
      "outputs": [
        {
          "output_type": "execute_result",
          "data": {
            "text/plain": [
              "shape: (2,)\n",
              "Series: 'fecha' [i8]\n",
              "[\n",
              "\t6\n",
              "\t47\n",
              "]"
            ],
            "text/html": [
              "<div><style>\n",
              ".dataframe > thead > tr,\n",
              ".dataframe > tbody > tr {\n",
              "  text-align: right;\n",
              "  white-space: pre-wrap;\n",
              "}\n",
              "</style>\n",
              "<small>shape: (2,)</small><table border=\"1\" class=\"dataframe\"><thead><tr><th>fecha</th></tr><tr><td>i8</td></tr></thead><tbody><tr><td>6</td></tr><tr><td>47</td></tr></tbody></table></div>"
            ]
          },
          "metadata": {},
          "execution_count": 52
        }
      ]
    },
    {
      "cell_type": "code",
      "source": [
        "s1.dt.weekday()##extraccion del dia de la semana de los elementos lunes al primer dia y domingo 7mo dia"
      ],
      "metadata": {
        "colab": {
          "base_uri": "https://localhost:8080/",
          "height": 160
        },
        "id": "t_VhsqGApmTG",
        "outputId": "aec7d63a-3313-49ef-87d1-7de3d5861cf6"
      },
      "id": "t_VhsqGApmTG",
      "execution_count": 54,
      "outputs": [
        {
          "output_type": "execute_result",
          "data": {
            "text/plain": [
              "shape: (2,)\n",
              "Series: 'fecha' [i8]\n",
              "[\n",
              "\t5\n",
              "\t4\n",
              "]"
            ],
            "text/html": [
              "<div><style>\n",
              ".dataframe > thead > tr,\n",
              ".dataframe > tbody > tr {\n",
              "  text-align: right;\n",
              "  white-space: pre-wrap;\n",
              "}\n",
              "</style>\n",
              "<small>shape: (2,)</small><table border=\"1\" class=\"dataframe\"><thead><tr><th>fecha</th></tr><tr><td>i8</td></tr></thead><tbody><tr><td>5</td></tr><tr><td>4</td></tr></tbody></table></div>"
            ]
          },
          "metadata": {},
          "execution_count": 54
        }
      ]
    }
  ],
  "metadata": {
    "kernelspec": {
      "display_name": "Python 3 (ipykernel)",
      "language": "python",
      "name": "python3"
    },
    "language_info": {
      "codemirror_mode": {
        "name": "ipython",
        "version": 3
      },
      "file_extension": ".py",
      "mimetype": "text/x-python",
      "name": "python",
      "nbconvert_exporter": "python",
      "pygments_lexer": "ipython3",
      "version": "3.9.6"
    },
    "colab": {
      "provenance": []
    }
  },
  "nbformat": 4,
  "nbformat_minor": 5
}