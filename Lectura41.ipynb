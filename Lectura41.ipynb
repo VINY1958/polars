{
  "nbformat": 4,
  "nbformat_minor": 0,
  "metadata": {
    "colab": {
      "provenance": []
    },
    "kernelspec": {
      "name": "python3",
      "display_name": "Python 3"
    },
    "language_info": {
      "name": "python"
    }
  },
  "cells": [
    {
      "cell_type": "markdown",
      "source": [
        "#### polars tiene un poderoso llamado expresiones que es fundamental"
      ],
      "metadata": {
        "id": "lkuMFHdG7Evn"
      }
    },
    {
      "cell_type": "markdown",
      "source": [
        "## operaciones de ciencia de datos :tomamos una muestra de filas y columnas\n",
        "##multiplicar valores de una columna\n",
        "### Extraer el año de una columna\n",
        "## Convertir una columna de string a mayusculas\n",
        "## otras operaciones\n",
        "## una expresion es un arbol de operaciones que describe como construir una o mas series"
      ],
      "metadata": {
        "id": "wSOL9oRx7d5-"
      }
    },
    {
      "cell_type": "markdown",
      "source": [
        "## el poder de la expresion es que cada expresion produce una nueva expresion que pueden conectarse entre si"
      ],
      "metadata": {
        "id": "nrG9XsbC8s5N"
      }
    },
    {
      "cell_type": "code",
      "execution_count": 4,
      "metadata": {
        "id": "o0iaQRzR8ykH"
      },
      "outputs": [],
      "source": [
        "import polars as pl\n",
        "from polars import when,lit"
      ]
    },
    {
      "cell_type": "code",
      "source": [
        "from google.colab import drive\n",
        "drive.mount('/content/drive')"
      ],
      "metadata": {
        "colab": {
          "base_uri": "https://localhost:8080/"
        },
        "id": "3nvsIl5IYuo3",
        "outputId": "18f28013-a330-4d3f-b199-3388cfd8959b"
      },
      "execution_count": 5,
      "outputs": [
        {
          "output_type": "stream",
          "name": "stdout",
          "text": [
            "Drive already mounted at /content/drive; to attempt to forcibly remount, call drive.mount(\"/content/drive\", force_remount=True).\n"
          ]
        }
      ]
    },
    {
      "cell_type": "code",
      "source": [
        "df = pl.read_parquet('/content/drive/MyDrive/polars/seccion05/vuelos/vuelos.parquet')\n",
        "df.head(3)"
      ],
      "metadata": {
        "colab": {
          "base_uri": "https://localhost:8080/",
          "height": 212
        },
        "id": "LS00Qmt48_4z",
        "outputId": "af72ad40-c4f6-44d4-8d16-3d7d697b3773"
      },
      "execution_count": 3,
      "outputs": [
        {
          "output_type": "execute_result",
          "data": {
            "text/plain": [
              "shape: (3, 31)\n",
              "┌──────┬───────┬─────┬─────────────┬───┬──────────────┬──────────────┬──────────────┬──────────────┐\n",
              "│ YEAR ┆ MONTH ┆ DAY ┆ DAY_OF_WEEK ┆ … ┆ SECURITY_DEL ┆ AIRLINE_DELA ┆ LATE_AIRCRAF ┆ WEATHER_DELA │\n",
              "│ ---  ┆ ---   ┆ --- ┆ ---         ┆   ┆ AY           ┆ Y            ┆ T_DELAY      ┆ Y            │\n",
              "│ i32  ┆ i32   ┆ i32 ┆ i32         ┆   ┆ ---          ┆ ---          ┆ ---          ┆ ---          │\n",
              "│      ┆       ┆     ┆             ┆   ┆ i32          ┆ i32          ┆ i32          ┆ i32          │\n",
              "╞══════╪═══════╪═════╪═════════════╪═══╪══════════════╪══════════════╪══════════════╪══════════════╡\n",
              "│ 2015 ┆ 1     ┆ 1   ┆ 4           ┆ … ┆ null         ┆ null         ┆ null         ┆ null         │\n",
              "│ 2015 ┆ 1     ┆ 1   ┆ 4           ┆ … ┆ null         ┆ null         ┆ null         ┆ null         │\n",
              "│ 2015 ┆ 1     ┆ 1   ┆ 4           ┆ … ┆ null         ┆ null         ┆ null         ┆ null         │\n",
              "└──────┴───────┴─────┴─────────────┴───┴──────────────┴──────────────┴──────────────┴──────────────┘"
            ],
            "text/html": [
              "<div><style>\n",
              ".dataframe > thead > tr,\n",
              ".dataframe > tbody > tr {\n",
              "  text-align: right;\n",
              "  white-space: pre-wrap;\n",
              "}\n",
              "</style>\n",
              "<small>shape: (3, 31)</small><table border=\"1\" class=\"dataframe\"><thead><tr><th>YEAR</th><th>MONTH</th><th>DAY</th><th>DAY_OF_WEEK</th><th>AIRLINE</th><th>FLIGHT_NUMBER</th><th>TAIL_NUMBER</th><th>ORIGIN_AIRPORT</th><th>DESTINATION_AIRPORT</th><th>SCHEDULED_DEPARTURE</th><th>DEPARTURE_TIME</th><th>DEPARTURE_DELAY</th><th>TAXI_OUT</th><th>WHEELS_OFF</th><th>SCHEDULED_TIME</th><th>ELAPSED_TIME</th><th>AIR_TIME</th><th>DISTANCE</th><th>WHEELS_ON</th><th>TAXI_IN</th><th>SCHEDULED_ARRIVAL</th><th>ARRIVAL_TIME</th><th>ARRIVAL_DELAY</th><th>DIVERTED</th><th>CANCELLED</th><th>CANCELLATION_REASON</th><th>AIR_SYSTEM_DELAY</th><th>SECURITY_DELAY</th><th>AIRLINE_DELAY</th><th>LATE_AIRCRAFT_DELAY</th><th>WEATHER_DELAY</th></tr><tr><td>i32</td><td>i32</td><td>i32</td><td>i32</td><td>str</td><td>i32</td><td>str</td><td>str</td><td>str</td><td>i32</td><td>i32</td><td>i32</td><td>i32</td><td>i32</td><td>i32</td><td>i32</td><td>i32</td><td>i32</td><td>i32</td><td>i32</td><td>i32</td><td>i32</td><td>i32</td><td>i32</td><td>i32</td><td>str</td><td>i32</td><td>i32</td><td>i32</td><td>i32</td><td>i32</td></tr></thead><tbody><tr><td>2015</td><td>1</td><td>1</td><td>4</td><td>&quot;AS&quot;</td><td>98</td><td>&quot;N407AS&quot;</td><td>&quot;ANC&quot;</td><td>&quot;SEA&quot;</td><td>5</td><td>2354</td><td>-11</td><td>21</td><td>15</td><td>205</td><td>194</td><td>169</td><td>1448</td><td>404</td><td>4</td><td>430</td><td>408</td><td>-22</td><td>0</td><td>0</td><td>null</td><td>null</td><td>null</td><td>null</td><td>null</td><td>null</td></tr><tr><td>2015</td><td>1</td><td>1</td><td>4</td><td>&quot;AA&quot;</td><td>2336</td><td>&quot;N3KUAA&quot;</td><td>&quot;LAX&quot;</td><td>&quot;PBI&quot;</td><td>10</td><td>2</td><td>-8</td><td>12</td><td>14</td><td>280</td><td>279</td><td>263</td><td>2330</td><td>737</td><td>4</td><td>750</td><td>741</td><td>-9</td><td>0</td><td>0</td><td>null</td><td>null</td><td>null</td><td>null</td><td>null</td><td>null</td></tr><tr><td>2015</td><td>1</td><td>1</td><td>4</td><td>&quot;US&quot;</td><td>840</td><td>&quot;N171US&quot;</td><td>&quot;SFO&quot;</td><td>&quot;CLT&quot;</td><td>20</td><td>18</td><td>-2</td><td>16</td><td>34</td><td>286</td><td>293</td><td>266</td><td>2296</td><td>800</td><td>11</td><td>806</td><td>811</td><td>5</td><td>0</td><td>0</td><td>null</td><td>null</td><td>null</td><td>null</td><td>null</td><td>null</td></tr></tbody></table></div>"
            ]
          },
          "metadata": {},
          "execution_count": 3
        }
      ]
    },
    {
      "cell_type": "code",
      "source": [
        "df.select('*')"
      ],
      "metadata": {
        "colab": {
          "base_uri": "https://localhost:8080/",
          "height": 463
        },
        "id": "OCjpt-Gx93ho",
        "outputId": "5b72f3d6-8eda-443b-9ae0-fa7d2b796038"
      },
      "execution_count": 6,
      "outputs": [
        {
          "output_type": "execute_result",
          "data": {
            "text/plain": [
              "shape: (5_819_079, 31)\n",
              "┌──────┬───────┬─────┬─────────────┬───┬──────────────┬──────────────┬──────────────┬──────────────┐\n",
              "│ YEAR ┆ MONTH ┆ DAY ┆ DAY_OF_WEEK ┆ … ┆ SECURITY_DEL ┆ AIRLINE_DELA ┆ LATE_AIRCRAF ┆ WEATHER_DELA │\n",
              "│ ---  ┆ ---   ┆ --- ┆ ---         ┆   ┆ AY           ┆ Y            ┆ T_DELAY      ┆ Y            │\n",
              "│ i32  ┆ i32   ┆ i32 ┆ i32         ┆   ┆ ---          ┆ ---          ┆ ---          ┆ ---          │\n",
              "│      ┆       ┆     ┆             ┆   ┆ i32          ┆ i32          ┆ i32          ┆ i32          │\n",
              "╞══════╪═══════╪═════╪═════════════╪═══╪══════════════╪══════════════╪══════════════╪══════════════╡\n",
              "│ 2015 ┆ 1     ┆ 1   ┆ 4           ┆ … ┆ null         ┆ null         ┆ null         ┆ null         │\n",
              "│ 2015 ┆ 1     ┆ 1   ┆ 4           ┆ … ┆ null         ┆ null         ┆ null         ┆ null         │\n",
              "│ 2015 ┆ 1     ┆ 1   ┆ 4           ┆ … ┆ null         ┆ null         ┆ null         ┆ null         │\n",
              "│ 2015 ┆ 1     ┆ 1   ┆ 4           ┆ … ┆ null         ┆ null         ┆ null         ┆ null         │\n",
              "│ 2015 ┆ 1     ┆ 1   ┆ 4           ┆ … ┆ null         ┆ null         ┆ null         ┆ null         │\n",
              "│ …    ┆ …     ┆ …   ┆ …           ┆ … ┆ …            ┆ …            ┆ …            ┆ …            │\n",
              "│ 2015 ┆ 12    ┆ 31  ┆ 4           ┆ … ┆ null         ┆ null         ┆ null         ┆ null         │\n",
              "│ 2015 ┆ 12    ┆ 31  ┆ 4           ┆ … ┆ null         ┆ null         ┆ null         ┆ null         │\n",
              "│ 2015 ┆ 12    ┆ 31  ┆ 4           ┆ … ┆ null         ┆ null         ┆ null         ┆ null         │\n",
              "│ 2015 ┆ 12    ┆ 31  ┆ 4           ┆ … ┆ null         ┆ null         ┆ null         ┆ null         │\n",
              "│ 2015 ┆ 12    ┆ 31  ┆ 4           ┆ … ┆ null         ┆ null         ┆ null         ┆ null         │\n",
              "└──────┴───────┴─────┴─────────────┴───┴──────────────┴──────────────┴──────────────┴──────────────┘"
            ],
            "text/html": [
              "<div><style>\n",
              ".dataframe > thead > tr,\n",
              ".dataframe > tbody > tr {\n",
              "  text-align: right;\n",
              "  white-space: pre-wrap;\n",
              "}\n",
              "</style>\n",
              "<small>shape: (5_819_079, 31)</small><table border=\"1\" class=\"dataframe\"><thead><tr><th>YEAR</th><th>MONTH</th><th>DAY</th><th>DAY_OF_WEEK</th><th>AIRLINE</th><th>FLIGHT_NUMBER</th><th>TAIL_NUMBER</th><th>ORIGIN_AIRPORT</th><th>DESTINATION_AIRPORT</th><th>SCHEDULED_DEPARTURE</th><th>DEPARTURE_TIME</th><th>DEPARTURE_DELAY</th><th>TAXI_OUT</th><th>WHEELS_OFF</th><th>SCHEDULED_TIME</th><th>ELAPSED_TIME</th><th>AIR_TIME</th><th>DISTANCE</th><th>WHEELS_ON</th><th>TAXI_IN</th><th>SCHEDULED_ARRIVAL</th><th>ARRIVAL_TIME</th><th>ARRIVAL_DELAY</th><th>DIVERTED</th><th>CANCELLED</th><th>CANCELLATION_REASON</th><th>AIR_SYSTEM_DELAY</th><th>SECURITY_DELAY</th><th>AIRLINE_DELAY</th><th>LATE_AIRCRAFT_DELAY</th><th>WEATHER_DELAY</th></tr><tr><td>i32</td><td>i32</td><td>i32</td><td>i32</td><td>str</td><td>i32</td><td>str</td><td>str</td><td>str</td><td>i32</td><td>i32</td><td>i32</td><td>i32</td><td>i32</td><td>i32</td><td>i32</td><td>i32</td><td>i32</td><td>i32</td><td>i32</td><td>i32</td><td>i32</td><td>i32</td><td>i32</td><td>i32</td><td>str</td><td>i32</td><td>i32</td><td>i32</td><td>i32</td><td>i32</td></tr></thead><tbody><tr><td>2015</td><td>1</td><td>1</td><td>4</td><td>&quot;AS&quot;</td><td>98</td><td>&quot;N407AS&quot;</td><td>&quot;ANC&quot;</td><td>&quot;SEA&quot;</td><td>5</td><td>2354</td><td>-11</td><td>21</td><td>15</td><td>205</td><td>194</td><td>169</td><td>1448</td><td>404</td><td>4</td><td>430</td><td>408</td><td>-22</td><td>0</td><td>0</td><td>null</td><td>null</td><td>null</td><td>null</td><td>null</td><td>null</td></tr><tr><td>2015</td><td>1</td><td>1</td><td>4</td><td>&quot;AA&quot;</td><td>2336</td><td>&quot;N3KUAA&quot;</td><td>&quot;LAX&quot;</td><td>&quot;PBI&quot;</td><td>10</td><td>2</td><td>-8</td><td>12</td><td>14</td><td>280</td><td>279</td><td>263</td><td>2330</td><td>737</td><td>4</td><td>750</td><td>741</td><td>-9</td><td>0</td><td>0</td><td>null</td><td>null</td><td>null</td><td>null</td><td>null</td><td>null</td></tr><tr><td>2015</td><td>1</td><td>1</td><td>4</td><td>&quot;US&quot;</td><td>840</td><td>&quot;N171US&quot;</td><td>&quot;SFO&quot;</td><td>&quot;CLT&quot;</td><td>20</td><td>18</td><td>-2</td><td>16</td><td>34</td><td>286</td><td>293</td><td>266</td><td>2296</td><td>800</td><td>11</td><td>806</td><td>811</td><td>5</td><td>0</td><td>0</td><td>null</td><td>null</td><td>null</td><td>null</td><td>null</td><td>null</td></tr><tr><td>2015</td><td>1</td><td>1</td><td>4</td><td>&quot;AA&quot;</td><td>258</td><td>&quot;N3HYAA&quot;</td><td>&quot;LAX&quot;</td><td>&quot;MIA&quot;</td><td>20</td><td>15</td><td>-5</td><td>15</td><td>30</td><td>285</td><td>281</td><td>258</td><td>2342</td><td>748</td><td>8</td><td>805</td><td>756</td><td>-9</td><td>0</td><td>0</td><td>null</td><td>null</td><td>null</td><td>null</td><td>null</td><td>null</td></tr><tr><td>2015</td><td>1</td><td>1</td><td>4</td><td>&quot;AS&quot;</td><td>135</td><td>&quot;N527AS&quot;</td><td>&quot;SEA&quot;</td><td>&quot;ANC&quot;</td><td>25</td><td>24</td><td>-1</td><td>11</td><td>35</td><td>235</td><td>215</td><td>199</td><td>1448</td><td>254</td><td>5</td><td>320</td><td>259</td><td>-21</td><td>0</td><td>0</td><td>null</td><td>null</td><td>null</td><td>null</td><td>null</td><td>null</td></tr><tr><td>&hellip;</td><td>&hellip;</td><td>&hellip;</td><td>&hellip;</td><td>&hellip;</td><td>&hellip;</td><td>&hellip;</td><td>&hellip;</td><td>&hellip;</td><td>&hellip;</td><td>&hellip;</td><td>&hellip;</td><td>&hellip;</td><td>&hellip;</td><td>&hellip;</td><td>&hellip;</td><td>&hellip;</td><td>&hellip;</td><td>&hellip;</td><td>&hellip;</td><td>&hellip;</td><td>&hellip;</td><td>&hellip;</td><td>&hellip;</td><td>&hellip;</td><td>&hellip;</td><td>&hellip;</td><td>&hellip;</td><td>&hellip;</td><td>&hellip;</td><td>&hellip;</td></tr><tr><td>2015</td><td>12</td><td>31</td><td>4</td><td>&quot;B6&quot;</td><td>688</td><td>&quot;N657JB&quot;</td><td>&quot;LAX&quot;</td><td>&quot;BOS&quot;</td><td>2359</td><td>2355</td><td>-4</td><td>22</td><td>17</td><td>320</td><td>298</td><td>272</td><td>2611</td><td>749</td><td>4</td><td>819</td><td>753</td><td>-26</td><td>0</td><td>0</td><td>null</td><td>null</td><td>null</td><td>null</td><td>null</td><td>null</td></tr><tr><td>2015</td><td>12</td><td>31</td><td>4</td><td>&quot;B6&quot;</td><td>745</td><td>&quot;N828JB&quot;</td><td>&quot;JFK&quot;</td><td>&quot;PSE&quot;</td><td>2359</td><td>2355</td><td>-4</td><td>17</td><td>12</td><td>227</td><td>215</td><td>195</td><td>1617</td><td>427</td><td>3</td><td>446</td><td>430</td><td>-16</td><td>0</td><td>0</td><td>null</td><td>null</td><td>null</td><td>null</td><td>null</td><td>null</td></tr><tr><td>2015</td><td>12</td><td>31</td><td>4</td><td>&quot;B6&quot;</td><td>1503</td><td>&quot;N913JB&quot;</td><td>&quot;JFK&quot;</td><td>&quot;SJU&quot;</td><td>2359</td><td>2350</td><td>-9</td><td>17</td><td>7</td><td>221</td><td>222</td><td>197</td><td>1598</td><td>424</td><td>8</td><td>440</td><td>432</td><td>-8</td><td>0</td><td>0</td><td>null</td><td>null</td><td>null</td><td>null</td><td>null</td><td>null</td></tr><tr><td>2015</td><td>12</td><td>31</td><td>4</td><td>&quot;B6&quot;</td><td>333</td><td>&quot;N527JB&quot;</td><td>&quot;MCO&quot;</td><td>&quot;SJU&quot;</td><td>2359</td><td>2353</td><td>-6</td><td>10</td><td>3</td><td>161</td><td>157</td><td>144</td><td>1189</td><td>327</td><td>3</td><td>340</td><td>330</td><td>-10</td><td>0</td><td>0</td><td>null</td><td>null</td><td>null</td><td>null</td><td>null</td><td>null</td></tr><tr><td>2015</td><td>12</td><td>31</td><td>4</td><td>&quot;B6&quot;</td><td>839</td><td>&quot;N534JB&quot;</td><td>&quot;JFK&quot;</td><td>&quot;BQN&quot;</td><td>2359</td><td>14</td><td>15</td><td>14</td><td>28</td><td>221</td><td>208</td><td>189</td><td>1576</td><td>437</td><td>5</td><td>440</td><td>442</td><td>2</td><td>0</td><td>0</td><td>null</td><td>null</td><td>null</td><td>null</td><td>null</td><td>null</td></tr></tbody></table></div>"
            ]
          },
          "metadata": {},
          "execution_count": 6
        }
      ]
    },
    {
      "cell_type": "code",
      "source": [
        "df.select(pl.all())"
      ],
      "metadata": {
        "colab": {
          "base_uri": "https://localhost:8080/",
          "height": 463
        },
        "id": "iI5gjQoZ98vR",
        "outputId": "0b405b5e-02b3-43d8-9fac-455c7980148c"
      },
      "execution_count": 7,
      "outputs": [
        {
          "output_type": "execute_result",
          "data": {
            "text/plain": [
              "shape: (5_819_079, 31)\n",
              "┌──────┬───────┬─────┬─────────────┬───┬──────────────┬──────────────┬──────────────┬──────────────┐\n",
              "│ YEAR ┆ MONTH ┆ DAY ┆ DAY_OF_WEEK ┆ … ┆ SECURITY_DEL ┆ AIRLINE_DELA ┆ LATE_AIRCRAF ┆ WEATHER_DELA │\n",
              "│ ---  ┆ ---   ┆ --- ┆ ---         ┆   ┆ AY           ┆ Y            ┆ T_DELAY      ┆ Y            │\n",
              "│ i32  ┆ i32   ┆ i32 ┆ i32         ┆   ┆ ---          ┆ ---          ┆ ---          ┆ ---          │\n",
              "│      ┆       ┆     ┆             ┆   ┆ i32          ┆ i32          ┆ i32          ┆ i32          │\n",
              "╞══════╪═══════╪═════╪═════════════╪═══╪══════════════╪══════════════╪══════════════╪══════════════╡\n",
              "│ 2015 ┆ 1     ┆ 1   ┆ 4           ┆ … ┆ null         ┆ null         ┆ null         ┆ null         │\n",
              "│ 2015 ┆ 1     ┆ 1   ┆ 4           ┆ … ┆ null         ┆ null         ┆ null         ┆ null         │\n",
              "│ 2015 ┆ 1     ┆ 1   ┆ 4           ┆ … ┆ null         ┆ null         ┆ null         ┆ null         │\n",
              "│ 2015 ┆ 1     ┆ 1   ┆ 4           ┆ … ┆ null         ┆ null         ┆ null         ┆ null         │\n",
              "│ 2015 ┆ 1     ┆ 1   ┆ 4           ┆ … ┆ null         ┆ null         ┆ null         ┆ null         │\n",
              "│ …    ┆ …     ┆ …   ┆ …           ┆ … ┆ …            ┆ …            ┆ …            ┆ …            │\n",
              "│ 2015 ┆ 12    ┆ 31  ┆ 4           ┆ … ┆ null         ┆ null         ┆ null         ┆ null         │\n",
              "│ 2015 ┆ 12    ┆ 31  ┆ 4           ┆ … ┆ null         ┆ null         ┆ null         ┆ null         │\n",
              "│ 2015 ┆ 12    ┆ 31  ┆ 4           ┆ … ┆ null         ┆ null         ┆ null         ┆ null         │\n",
              "│ 2015 ┆ 12    ┆ 31  ┆ 4           ┆ … ┆ null         ┆ null         ┆ null         ┆ null         │\n",
              "│ 2015 ┆ 12    ┆ 31  ┆ 4           ┆ … ┆ null         ┆ null         ┆ null         ┆ null         │\n",
              "└──────┴───────┴─────┴─────────────┴───┴──────────────┴──────────────┴──────────────┴──────────────┘"
            ],
            "text/html": [
              "<div><style>\n",
              ".dataframe > thead > tr,\n",
              ".dataframe > tbody > tr {\n",
              "  text-align: right;\n",
              "  white-space: pre-wrap;\n",
              "}\n",
              "</style>\n",
              "<small>shape: (5_819_079, 31)</small><table border=\"1\" class=\"dataframe\"><thead><tr><th>YEAR</th><th>MONTH</th><th>DAY</th><th>DAY_OF_WEEK</th><th>AIRLINE</th><th>FLIGHT_NUMBER</th><th>TAIL_NUMBER</th><th>ORIGIN_AIRPORT</th><th>DESTINATION_AIRPORT</th><th>SCHEDULED_DEPARTURE</th><th>DEPARTURE_TIME</th><th>DEPARTURE_DELAY</th><th>TAXI_OUT</th><th>WHEELS_OFF</th><th>SCHEDULED_TIME</th><th>ELAPSED_TIME</th><th>AIR_TIME</th><th>DISTANCE</th><th>WHEELS_ON</th><th>TAXI_IN</th><th>SCHEDULED_ARRIVAL</th><th>ARRIVAL_TIME</th><th>ARRIVAL_DELAY</th><th>DIVERTED</th><th>CANCELLED</th><th>CANCELLATION_REASON</th><th>AIR_SYSTEM_DELAY</th><th>SECURITY_DELAY</th><th>AIRLINE_DELAY</th><th>LATE_AIRCRAFT_DELAY</th><th>WEATHER_DELAY</th></tr><tr><td>i32</td><td>i32</td><td>i32</td><td>i32</td><td>str</td><td>i32</td><td>str</td><td>str</td><td>str</td><td>i32</td><td>i32</td><td>i32</td><td>i32</td><td>i32</td><td>i32</td><td>i32</td><td>i32</td><td>i32</td><td>i32</td><td>i32</td><td>i32</td><td>i32</td><td>i32</td><td>i32</td><td>i32</td><td>str</td><td>i32</td><td>i32</td><td>i32</td><td>i32</td><td>i32</td></tr></thead><tbody><tr><td>2015</td><td>1</td><td>1</td><td>4</td><td>&quot;AS&quot;</td><td>98</td><td>&quot;N407AS&quot;</td><td>&quot;ANC&quot;</td><td>&quot;SEA&quot;</td><td>5</td><td>2354</td><td>-11</td><td>21</td><td>15</td><td>205</td><td>194</td><td>169</td><td>1448</td><td>404</td><td>4</td><td>430</td><td>408</td><td>-22</td><td>0</td><td>0</td><td>null</td><td>null</td><td>null</td><td>null</td><td>null</td><td>null</td></tr><tr><td>2015</td><td>1</td><td>1</td><td>4</td><td>&quot;AA&quot;</td><td>2336</td><td>&quot;N3KUAA&quot;</td><td>&quot;LAX&quot;</td><td>&quot;PBI&quot;</td><td>10</td><td>2</td><td>-8</td><td>12</td><td>14</td><td>280</td><td>279</td><td>263</td><td>2330</td><td>737</td><td>4</td><td>750</td><td>741</td><td>-9</td><td>0</td><td>0</td><td>null</td><td>null</td><td>null</td><td>null</td><td>null</td><td>null</td></tr><tr><td>2015</td><td>1</td><td>1</td><td>4</td><td>&quot;US&quot;</td><td>840</td><td>&quot;N171US&quot;</td><td>&quot;SFO&quot;</td><td>&quot;CLT&quot;</td><td>20</td><td>18</td><td>-2</td><td>16</td><td>34</td><td>286</td><td>293</td><td>266</td><td>2296</td><td>800</td><td>11</td><td>806</td><td>811</td><td>5</td><td>0</td><td>0</td><td>null</td><td>null</td><td>null</td><td>null</td><td>null</td><td>null</td></tr><tr><td>2015</td><td>1</td><td>1</td><td>4</td><td>&quot;AA&quot;</td><td>258</td><td>&quot;N3HYAA&quot;</td><td>&quot;LAX&quot;</td><td>&quot;MIA&quot;</td><td>20</td><td>15</td><td>-5</td><td>15</td><td>30</td><td>285</td><td>281</td><td>258</td><td>2342</td><td>748</td><td>8</td><td>805</td><td>756</td><td>-9</td><td>0</td><td>0</td><td>null</td><td>null</td><td>null</td><td>null</td><td>null</td><td>null</td></tr><tr><td>2015</td><td>1</td><td>1</td><td>4</td><td>&quot;AS&quot;</td><td>135</td><td>&quot;N527AS&quot;</td><td>&quot;SEA&quot;</td><td>&quot;ANC&quot;</td><td>25</td><td>24</td><td>-1</td><td>11</td><td>35</td><td>235</td><td>215</td><td>199</td><td>1448</td><td>254</td><td>5</td><td>320</td><td>259</td><td>-21</td><td>0</td><td>0</td><td>null</td><td>null</td><td>null</td><td>null</td><td>null</td><td>null</td></tr><tr><td>&hellip;</td><td>&hellip;</td><td>&hellip;</td><td>&hellip;</td><td>&hellip;</td><td>&hellip;</td><td>&hellip;</td><td>&hellip;</td><td>&hellip;</td><td>&hellip;</td><td>&hellip;</td><td>&hellip;</td><td>&hellip;</td><td>&hellip;</td><td>&hellip;</td><td>&hellip;</td><td>&hellip;</td><td>&hellip;</td><td>&hellip;</td><td>&hellip;</td><td>&hellip;</td><td>&hellip;</td><td>&hellip;</td><td>&hellip;</td><td>&hellip;</td><td>&hellip;</td><td>&hellip;</td><td>&hellip;</td><td>&hellip;</td><td>&hellip;</td><td>&hellip;</td></tr><tr><td>2015</td><td>12</td><td>31</td><td>4</td><td>&quot;B6&quot;</td><td>688</td><td>&quot;N657JB&quot;</td><td>&quot;LAX&quot;</td><td>&quot;BOS&quot;</td><td>2359</td><td>2355</td><td>-4</td><td>22</td><td>17</td><td>320</td><td>298</td><td>272</td><td>2611</td><td>749</td><td>4</td><td>819</td><td>753</td><td>-26</td><td>0</td><td>0</td><td>null</td><td>null</td><td>null</td><td>null</td><td>null</td><td>null</td></tr><tr><td>2015</td><td>12</td><td>31</td><td>4</td><td>&quot;B6&quot;</td><td>745</td><td>&quot;N828JB&quot;</td><td>&quot;JFK&quot;</td><td>&quot;PSE&quot;</td><td>2359</td><td>2355</td><td>-4</td><td>17</td><td>12</td><td>227</td><td>215</td><td>195</td><td>1617</td><td>427</td><td>3</td><td>446</td><td>430</td><td>-16</td><td>0</td><td>0</td><td>null</td><td>null</td><td>null</td><td>null</td><td>null</td><td>null</td></tr><tr><td>2015</td><td>12</td><td>31</td><td>4</td><td>&quot;B6&quot;</td><td>1503</td><td>&quot;N913JB&quot;</td><td>&quot;JFK&quot;</td><td>&quot;SJU&quot;</td><td>2359</td><td>2350</td><td>-9</td><td>17</td><td>7</td><td>221</td><td>222</td><td>197</td><td>1598</td><td>424</td><td>8</td><td>440</td><td>432</td><td>-8</td><td>0</td><td>0</td><td>null</td><td>null</td><td>null</td><td>null</td><td>null</td><td>null</td></tr><tr><td>2015</td><td>12</td><td>31</td><td>4</td><td>&quot;B6&quot;</td><td>333</td><td>&quot;N527JB&quot;</td><td>&quot;MCO&quot;</td><td>&quot;SJU&quot;</td><td>2359</td><td>2353</td><td>-6</td><td>10</td><td>3</td><td>161</td><td>157</td><td>144</td><td>1189</td><td>327</td><td>3</td><td>340</td><td>330</td><td>-10</td><td>0</td><td>0</td><td>null</td><td>null</td><td>null</td><td>null</td><td>null</td><td>null</td></tr><tr><td>2015</td><td>12</td><td>31</td><td>4</td><td>&quot;B6&quot;</td><td>839</td><td>&quot;N534JB&quot;</td><td>&quot;JFK&quot;</td><td>&quot;BQN&quot;</td><td>2359</td><td>14</td><td>15</td><td>14</td><td>28</td><td>221</td><td>208</td><td>189</td><td>1576</td><td>437</td><td>5</td><td>440</td><td>442</td><td>2</td><td>0</td><td>0</td><td>null</td><td>null</td><td>null</td><td>null</td><td>null</td><td>null</td></tr></tbody></table></div>"
            ]
          },
          "metadata": {},
          "execution_count": 7
        }
      ]
    },
    {
      "cell_type": "code",
      "source": [
        "df.select(pl.col('*').exclude('YEAR','MONTH'))"
      ],
      "metadata": {
        "colab": {
          "base_uri": "https://localhost:8080/",
          "height": 463
        },
        "id": "gmqdsdUW-DEj",
        "outputId": "7d37464e-fa50-43f8-d9fa-f496a33e9822"
      },
      "execution_count": 8,
      "outputs": [
        {
          "output_type": "execute_result",
          "data": {
            "text/plain": [
              "shape: (5_819_079, 29)\n",
              "┌─────┬─────────────┬─────────┬────────────┬───┬────────────┬────────────┬────────────┬────────────┐\n",
              "│ DAY ┆ DAY_OF_WEEK ┆ AIRLINE ┆ FLIGHT_NUM ┆ … ┆ SECURITY_D ┆ AIRLINE_DE ┆ LATE_AIRCR ┆ WEATHER_DE │\n",
              "│ --- ┆ ---         ┆ ---     ┆ BER        ┆   ┆ ELAY       ┆ LAY        ┆ AFT_DELAY  ┆ LAY        │\n",
              "│ i32 ┆ i32         ┆ str     ┆ ---        ┆   ┆ ---        ┆ ---        ┆ ---        ┆ ---        │\n",
              "│     ┆             ┆         ┆ i32        ┆   ┆ i32        ┆ i32        ┆ i32        ┆ i32        │\n",
              "╞═════╪═════════════╪═════════╪════════════╪═══╪════════════╪════════════╪════════════╪════════════╡\n",
              "│ 1   ┆ 4           ┆ AS      ┆ 98         ┆ … ┆ null       ┆ null       ┆ null       ┆ null       │\n",
              "│ 1   ┆ 4           ┆ AA      ┆ 2336       ┆ … ┆ null       ┆ null       ┆ null       ┆ null       │\n",
              "│ 1   ┆ 4           ┆ US      ┆ 840        ┆ … ┆ null       ┆ null       ┆ null       ┆ null       │\n",
              "│ 1   ┆ 4           ┆ AA      ┆ 258        ┆ … ┆ null       ┆ null       ┆ null       ┆ null       │\n",
              "│ 1   ┆ 4           ┆ AS      ┆ 135        ┆ … ┆ null       ┆ null       ┆ null       ┆ null       │\n",
              "│ …   ┆ …           ┆ …       ┆ …          ┆ … ┆ …          ┆ …          ┆ …          ┆ …          │\n",
              "│ 31  ┆ 4           ┆ B6      ┆ 688        ┆ … ┆ null       ┆ null       ┆ null       ┆ null       │\n",
              "│ 31  ┆ 4           ┆ B6      ┆ 745        ┆ … ┆ null       ┆ null       ┆ null       ┆ null       │\n",
              "│ 31  ┆ 4           ┆ B6      ┆ 1503       ┆ … ┆ null       ┆ null       ┆ null       ┆ null       │\n",
              "│ 31  ┆ 4           ┆ B6      ┆ 333        ┆ … ┆ null       ┆ null       ┆ null       ┆ null       │\n",
              "│ 31  ┆ 4           ┆ B6      ┆ 839        ┆ … ┆ null       ┆ null       ┆ null       ┆ null       │\n",
              "└─────┴─────────────┴─────────┴────────────┴───┴────────────┴────────────┴────────────┴────────────┘"
            ],
            "text/html": [
              "<div><style>\n",
              ".dataframe > thead > tr,\n",
              ".dataframe > tbody > tr {\n",
              "  text-align: right;\n",
              "  white-space: pre-wrap;\n",
              "}\n",
              "</style>\n",
              "<small>shape: (5_819_079, 29)</small><table border=\"1\" class=\"dataframe\"><thead><tr><th>DAY</th><th>DAY_OF_WEEK</th><th>AIRLINE</th><th>FLIGHT_NUMBER</th><th>TAIL_NUMBER</th><th>ORIGIN_AIRPORT</th><th>DESTINATION_AIRPORT</th><th>SCHEDULED_DEPARTURE</th><th>DEPARTURE_TIME</th><th>DEPARTURE_DELAY</th><th>TAXI_OUT</th><th>WHEELS_OFF</th><th>SCHEDULED_TIME</th><th>ELAPSED_TIME</th><th>AIR_TIME</th><th>DISTANCE</th><th>WHEELS_ON</th><th>TAXI_IN</th><th>SCHEDULED_ARRIVAL</th><th>ARRIVAL_TIME</th><th>ARRIVAL_DELAY</th><th>DIVERTED</th><th>CANCELLED</th><th>CANCELLATION_REASON</th><th>AIR_SYSTEM_DELAY</th><th>SECURITY_DELAY</th><th>AIRLINE_DELAY</th><th>LATE_AIRCRAFT_DELAY</th><th>WEATHER_DELAY</th></tr><tr><td>i32</td><td>i32</td><td>str</td><td>i32</td><td>str</td><td>str</td><td>str</td><td>i32</td><td>i32</td><td>i32</td><td>i32</td><td>i32</td><td>i32</td><td>i32</td><td>i32</td><td>i32</td><td>i32</td><td>i32</td><td>i32</td><td>i32</td><td>i32</td><td>i32</td><td>i32</td><td>str</td><td>i32</td><td>i32</td><td>i32</td><td>i32</td><td>i32</td></tr></thead><tbody><tr><td>1</td><td>4</td><td>&quot;AS&quot;</td><td>98</td><td>&quot;N407AS&quot;</td><td>&quot;ANC&quot;</td><td>&quot;SEA&quot;</td><td>5</td><td>2354</td><td>-11</td><td>21</td><td>15</td><td>205</td><td>194</td><td>169</td><td>1448</td><td>404</td><td>4</td><td>430</td><td>408</td><td>-22</td><td>0</td><td>0</td><td>null</td><td>null</td><td>null</td><td>null</td><td>null</td><td>null</td></tr><tr><td>1</td><td>4</td><td>&quot;AA&quot;</td><td>2336</td><td>&quot;N3KUAA&quot;</td><td>&quot;LAX&quot;</td><td>&quot;PBI&quot;</td><td>10</td><td>2</td><td>-8</td><td>12</td><td>14</td><td>280</td><td>279</td><td>263</td><td>2330</td><td>737</td><td>4</td><td>750</td><td>741</td><td>-9</td><td>0</td><td>0</td><td>null</td><td>null</td><td>null</td><td>null</td><td>null</td><td>null</td></tr><tr><td>1</td><td>4</td><td>&quot;US&quot;</td><td>840</td><td>&quot;N171US&quot;</td><td>&quot;SFO&quot;</td><td>&quot;CLT&quot;</td><td>20</td><td>18</td><td>-2</td><td>16</td><td>34</td><td>286</td><td>293</td><td>266</td><td>2296</td><td>800</td><td>11</td><td>806</td><td>811</td><td>5</td><td>0</td><td>0</td><td>null</td><td>null</td><td>null</td><td>null</td><td>null</td><td>null</td></tr><tr><td>1</td><td>4</td><td>&quot;AA&quot;</td><td>258</td><td>&quot;N3HYAA&quot;</td><td>&quot;LAX&quot;</td><td>&quot;MIA&quot;</td><td>20</td><td>15</td><td>-5</td><td>15</td><td>30</td><td>285</td><td>281</td><td>258</td><td>2342</td><td>748</td><td>8</td><td>805</td><td>756</td><td>-9</td><td>0</td><td>0</td><td>null</td><td>null</td><td>null</td><td>null</td><td>null</td><td>null</td></tr><tr><td>1</td><td>4</td><td>&quot;AS&quot;</td><td>135</td><td>&quot;N527AS&quot;</td><td>&quot;SEA&quot;</td><td>&quot;ANC&quot;</td><td>25</td><td>24</td><td>-1</td><td>11</td><td>35</td><td>235</td><td>215</td><td>199</td><td>1448</td><td>254</td><td>5</td><td>320</td><td>259</td><td>-21</td><td>0</td><td>0</td><td>null</td><td>null</td><td>null</td><td>null</td><td>null</td><td>null</td></tr><tr><td>&hellip;</td><td>&hellip;</td><td>&hellip;</td><td>&hellip;</td><td>&hellip;</td><td>&hellip;</td><td>&hellip;</td><td>&hellip;</td><td>&hellip;</td><td>&hellip;</td><td>&hellip;</td><td>&hellip;</td><td>&hellip;</td><td>&hellip;</td><td>&hellip;</td><td>&hellip;</td><td>&hellip;</td><td>&hellip;</td><td>&hellip;</td><td>&hellip;</td><td>&hellip;</td><td>&hellip;</td><td>&hellip;</td><td>&hellip;</td><td>&hellip;</td><td>&hellip;</td><td>&hellip;</td><td>&hellip;</td><td>&hellip;</td></tr><tr><td>31</td><td>4</td><td>&quot;B6&quot;</td><td>688</td><td>&quot;N657JB&quot;</td><td>&quot;LAX&quot;</td><td>&quot;BOS&quot;</td><td>2359</td><td>2355</td><td>-4</td><td>22</td><td>17</td><td>320</td><td>298</td><td>272</td><td>2611</td><td>749</td><td>4</td><td>819</td><td>753</td><td>-26</td><td>0</td><td>0</td><td>null</td><td>null</td><td>null</td><td>null</td><td>null</td><td>null</td></tr><tr><td>31</td><td>4</td><td>&quot;B6&quot;</td><td>745</td><td>&quot;N828JB&quot;</td><td>&quot;JFK&quot;</td><td>&quot;PSE&quot;</td><td>2359</td><td>2355</td><td>-4</td><td>17</td><td>12</td><td>227</td><td>215</td><td>195</td><td>1617</td><td>427</td><td>3</td><td>446</td><td>430</td><td>-16</td><td>0</td><td>0</td><td>null</td><td>null</td><td>null</td><td>null</td><td>null</td><td>null</td></tr><tr><td>31</td><td>4</td><td>&quot;B6&quot;</td><td>1503</td><td>&quot;N913JB&quot;</td><td>&quot;JFK&quot;</td><td>&quot;SJU&quot;</td><td>2359</td><td>2350</td><td>-9</td><td>17</td><td>7</td><td>221</td><td>222</td><td>197</td><td>1598</td><td>424</td><td>8</td><td>440</td><td>432</td><td>-8</td><td>0</td><td>0</td><td>null</td><td>null</td><td>null</td><td>null</td><td>null</td><td>null</td></tr><tr><td>31</td><td>4</td><td>&quot;B6&quot;</td><td>333</td><td>&quot;N527JB&quot;</td><td>&quot;MCO&quot;</td><td>&quot;SJU&quot;</td><td>2359</td><td>2353</td><td>-6</td><td>10</td><td>3</td><td>161</td><td>157</td><td>144</td><td>1189</td><td>327</td><td>3</td><td>340</td><td>330</td><td>-10</td><td>0</td><td>0</td><td>null</td><td>null</td><td>null</td><td>null</td><td>null</td><td>null</td></tr><tr><td>31</td><td>4</td><td>&quot;B6&quot;</td><td>839</td><td>&quot;N534JB&quot;</td><td>&quot;JFK&quot;</td><td>&quot;BQN&quot;</td><td>2359</td><td>14</td><td>15</td><td>14</td><td>28</td><td>221</td><td>208</td><td>189</td><td>1576</td><td>437</td><td>5</td><td>440</td><td>442</td><td>2</td><td>0</td><td>0</td><td>null</td><td>null</td><td>null</td><td>null</td><td>null</td><td>null</td></tr></tbody></table></div>"
            ]
          },
          "metadata": {},
          "execution_count": 8
        }
      ]
    },
    {
      "cell_type": "code",
      "source": [
        "import pandas as pd"
      ],
      "metadata": {
        "id": "ZodEMQbDX-L3"
      },
      "execution_count": 9,
      "outputs": []
    },
    {
      "cell_type": "markdown",
      "source": [],
      "metadata": {
        "id": "-b_U6oEuZgHU"
      }
    },
    {
      "cell_type": "markdown",
      "source": [
        "## lectura 42"
      ],
      "metadata": {
        "id": "_XoY30_I9AUi"
      }
    },
    {
      "cell_type": "markdown",
      "source": [
        "## seleccionar las columnas de un dataframe o lazyframe"
      ],
      "metadata": {
        "id": "otSAGBKzThCa"
      }
    },
    {
      "cell_type": "code",
      "source": [
        "from datetime import date, datetime\n",
        "\n"
      ],
      "metadata": {
        "id": "PlfxbZ7g9CCC"
      },
      "execution_count": 10,
      "outputs": []
    },
    {
      "cell_type": "code",
      "source": [
        "df = pl.DataFrame (\n",
        "    {\n",
        "      \"id_ciudad\": [10,7,5],\n",
        "      \"ciudad\": [\"Guadalajara\",\"Monterrey\",\"CDMX\"],\n",
        "      \"fecha\": pl.date_range(date(2024,4,1),date(2024,4,3),\"1d\", eager=True), # Use pl.date_range instead of pl.date.range\n",
        "      \"monto\":[56.90,100.50,1345.30],\n",
        "      \"tiene_aeropuerto\": [False, True, False],\n",
        "      \"log\": pl.datetime_range(\n",
        "        datetime(2024,4,1), datetime(2024,4,1,0,0,2),\"1s\", eager=True\n",
        "    )\n",
        "    }\n",
        ") # Added closing bracket for dictionary\n",
        "\n",
        "print(df)"
      ],
      "metadata": {
        "colab": {
          "base_uri": "https://localhost:8080/"
        },
        "id": "lqKYfx53AbCj",
        "outputId": "28be9ebe-a75e-4889-aa9f-3b2e2f77d7a0"
      },
      "execution_count": 11,
      "outputs": [
        {
          "output_type": "stream",
          "name": "stdout",
          "text": [
            "shape: (3, 6)\n",
            "┌───────────┬─────────────┬────────────┬────────┬──────────────────┬─────────────────────┐\n",
            "│ id_ciudad ┆ ciudad      ┆ fecha      ┆ monto  ┆ tiene_aeropuerto ┆ log                 │\n",
            "│ ---       ┆ ---         ┆ ---        ┆ ---    ┆ ---              ┆ ---                 │\n",
            "│ i64       ┆ str         ┆ date       ┆ f64    ┆ bool             ┆ datetime[μs]        │\n",
            "╞═══════════╪═════════════╪════════════╪════════╪══════════════════╪═════════════════════╡\n",
            "│ 10        ┆ Guadalajara ┆ 2024-04-01 ┆ 56.9   ┆ false            ┆ 2024-04-01 00:00:00 │\n",
            "│ 7         ┆ Monterrey   ┆ 2024-04-02 ┆ 100.5  ┆ true             ┆ 2024-04-01 00:00:01 │\n",
            "│ 5         ┆ CDMX        ┆ 2024-04-03 ┆ 1345.3 ┆ false            ┆ 2024-04-01 00:00:02 │\n",
            "└───────────┴─────────────┴────────────┴────────┴──────────────────┴─────────────────────┘\n"
          ]
        }
      ]
    },
    {
      "cell_type": "code",
      "source": [
        "df.select(pl.col('id_ciudad'),pl.col('fecha'))  ## hemos ejecutado y seleccionamos 2 columnas"
      ],
      "metadata": {
        "colab": {
          "base_uri": "https://localhost:8080/",
          "height": 192
        },
        "id": "o_VCzI2XAf6N",
        "outputId": "a3d4f445-3e75-406c-a30b-93967a893194"
      },
      "execution_count": 12,
      "outputs": [
        {
          "output_type": "execute_result",
          "data": {
            "text/plain": [
              "shape: (3, 2)\n",
              "┌───────────┬────────────┐\n",
              "│ id_ciudad ┆ fecha      │\n",
              "│ ---       ┆ ---        │\n",
              "│ i64       ┆ date       │\n",
              "╞═══════════╪════════════╡\n",
              "│ 10        ┆ 2024-04-01 │\n",
              "│ 7         ┆ 2024-04-02 │\n",
              "│ 5         ┆ 2024-04-03 │\n",
              "└───────────┴────────────┘"
            ],
            "text/html": [
              "<div><style>\n",
              ".dataframe > thead > tr,\n",
              ".dataframe > tbody > tr {\n",
              "  text-align: right;\n",
              "  white-space: pre-wrap;\n",
              "}\n",
              "</style>\n",
              "<small>shape: (3, 2)</small><table border=\"1\" class=\"dataframe\"><thead><tr><th>id_ciudad</th><th>fecha</th></tr><tr><td>i64</td><td>date</td></tr></thead><tbody><tr><td>10</td><td>2024-04-01</td></tr><tr><td>7</td><td>2024-04-02</td></tr><tr><td>5</td><td>2024-04-03</td></tr></tbody></table></div>"
            ]
          },
          "metadata": {},
          "execution_count": 12
        }
      ]
    },
    {
      "cell_type": "code",
      "source": [
        "df.select(pl.col('*'))  ## todas las columnas"
      ],
      "metadata": {
        "colab": {
          "base_uri": "https://localhost:8080/",
          "height": 192
        },
        "id": "9wW84gYBBcI9",
        "outputId": "89b7d588-6b20-43ab-e82d-33a928542969"
      },
      "execution_count": 13,
      "outputs": [
        {
          "output_type": "execute_result",
          "data": {
            "text/plain": [
              "shape: (3, 6)\n",
              "┌───────────┬─────────────┬────────────┬────────┬──────────────────┬─────────────────────┐\n",
              "│ id_ciudad ┆ ciudad      ┆ fecha      ┆ monto  ┆ tiene_aeropuerto ┆ log                 │\n",
              "│ ---       ┆ ---         ┆ ---        ┆ ---    ┆ ---              ┆ ---                 │\n",
              "│ i64       ┆ str         ┆ date       ┆ f64    ┆ bool             ┆ datetime[μs]        │\n",
              "╞═══════════╪═════════════╪════════════╪════════╪══════════════════╪═════════════════════╡\n",
              "│ 10        ┆ Guadalajara ┆ 2024-04-01 ┆ 56.9   ┆ false            ┆ 2024-04-01 00:00:00 │\n",
              "│ 7         ┆ Monterrey   ┆ 2024-04-02 ┆ 100.5  ┆ true             ┆ 2024-04-01 00:00:01 │\n",
              "│ 5         ┆ CDMX        ┆ 2024-04-03 ┆ 1345.3 ┆ false            ┆ 2024-04-01 00:00:02 │\n",
              "└───────────┴─────────────┴────────────┴────────┴──────────────────┴─────────────────────┘"
            ],
            "text/html": [
              "<div><style>\n",
              ".dataframe > thead > tr,\n",
              ".dataframe > tbody > tr {\n",
              "  text-align: right;\n",
              "  white-space: pre-wrap;\n",
              "}\n",
              "</style>\n",
              "<small>shape: (3, 6)</small><table border=\"1\" class=\"dataframe\"><thead><tr><th>id_ciudad</th><th>ciudad</th><th>fecha</th><th>monto</th><th>tiene_aeropuerto</th><th>log</th></tr><tr><td>i64</td><td>str</td><td>date</td><td>f64</td><td>bool</td><td>datetime[μs]</td></tr></thead><tbody><tr><td>10</td><td>&quot;Guadalajara&quot;</td><td>2024-04-01</td><td>56.9</td><td>false</td><td>2024-04-01 00:00:00</td></tr><tr><td>7</td><td>&quot;Monterrey&quot;</td><td>2024-04-02</td><td>100.5</td><td>true</td><td>2024-04-01 00:00:01</td></tr><tr><td>5</td><td>&quot;CDMX&quot;</td><td>2024-04-03</td><td>1345.3</td><td>false</td><td>2024-04-01 00:00:02</td></tr></tbody></table></div>"
            ]
          },
          "metadata": {},
          "execution_count": 13
        }
      ]
    },
    {
      "cell_type": "code",
      "source": [
        "df.select(pl.all())  ## todas las columnas"
      ],
      "metadata": {
        "colab": {
          "base_uri": "https://localhost:8080/",
          "height": 192
        },
        "id": "MqDvalOVBw92",
        "outputId": "da2b39fa-2420-421f-8c7f-420288dfb6ef"
      },
      "execution_count": 14,
      "outputs": [
        {
          "output_type": "execute_result",
          "data": {
            "text/plain": [
              "shape: (3, 6)\n",
              "┌───────────┬─────────────┬────────────┬────────┬──────────────────┬─────────────────────┐\n",
              "│ id_ciudad ┆ ciudad      ┆ fecha      ┆ monto  ┆ tiene_aeropuerto ┆ log                 │\n",
              "│ ---       ┆ ---         ┆ ---        ┆ ---    ┆ ---              ┆ ---                 │\n",
              "│ i64       ┆ str         ┆ date       ┆ f64    ┆ bool             ┆ datetime[μs]        │\n",
              "╞═══════════╪═════════════╪════════════╪════════╪══════════════════╪═════════════════════╡\n",
              "│ 10        ┆ Guadalajara ┆ 2024-04-01 ┆ 56.9   ┆ false            ┆ 2024-04-01 00:00:00 │\n",
              "│ 7         ┆ Monterrey   ┆ 2024-04-02 ┆ 100.5  ┆ true             ┆ 2024-04-01 00:00:01 │\n",
              "│ 5         ┆ CDMX        ┆ 2024-04-03 ┆ 1345.3 ┆ false            ┆ 2024-04-01 00:00:02 │\n",
              "└───────────┴─────────────┴────────────┴────────┴──────────────────┴─────────────────────┘"
            ],
            "text/html": [
              "<div><style>\n",
              ".dataframe > thead > tr,\n",
              ".dataframe > tbody > tr {\n",
              "  text-align: right;\n",
              "  white-space: pre-wrap;\n",
              "}\n",
              "</style>\n",
              "<small>shape: (3, 6)</small><table border=\"1\" class=\"dataframe\"><thead><tr><th>id_ciudad</th><th>ciudad</th><th>fecha</th><th>monto</th><th>tiene_aeropuerto</th><th>log</th></tr><tr><td>i64</td><td>str</td><td>date</td><td>f64</td><td>bool</td><td>datetime[μs]</td></tr></thead><tbody><tr><td>10</td><td>&quot;Guadalajara&quot;</td><td>2024-04-01</td><td>56.9</td><td>false</td><td>2024-04-01 00:00:00</td></tr><tr><td>7</td><td>&quot;Monterrey&quot;</td><td>2024-04-02</td><td>100.5</td><td>true</td><td>2024-04-01 00:00:01</td></tr><tr><td>5</td><td>&quot;CDMX&quot;</td><td>2024-04-03</td><td>1345.3</td><td>false</td><td>2024-04-01 00:00:02</td></tr></tbody></table></div>"
            ]
          },
          "metadata": {},
          "execution_count": 14
        }
      ]
    },
    {
      "cell_type": "code",
      "source": [
        "df.select(pl.col('*').exclude('id_ciudad','log'))  ## excluir dos columnas"
      ],
      "metadata": {
        "colab": {
          "base_uri": "https://localhost:8080/",
          "height": 192
        },
        "id": "GMN3zaMUCFuh",
        "outputId": "47cd00a4-6d7a-4fa2-976f-c52224de40dc"
      },
      "execution_count": 15,
      "outputs": [
        {
          "output_type": "execute_result",
          "data": {
            "text/plain": [
              "shape: (3, 4)\n",
              "┌─────────────┬────────────┬────────┬──────────────────┐\n",
              "│ ciudad      ┆ fecha      ┆ monto  ┆ tiene_aeropuerto │\n",
              "│ ---         ┆ ---        ┆ ---    ┆ ---              │\n",
              "│ str         ┆ date       ┆ f64    ┆ bool             │\n",
              "╞═════════════╪════════════╪════════╪══════════════════╡\n",
              "│ Guadalajara ┆ 2024-04-01 ┆ 56.9   ┆ false            │\n",
              "│ Monterrey   ┆ 2024-04-02 ┆ 100.5  ┆ true             │\n",
              "│ CDMX        ┆ 2024-04-03 ┆ 1345.3 ┆ false            │\n",
              "└─────────────┴────────────┴────────┴──────────────────┘"
            ],
            "text/html": [
              "<div><style>\n",
              ".dataframe > thead > tr,\n",
              ".dataframe > tbody > tr {\n",
              "  text-align: right;\n",
              "  white-space: pre-wrap;\n",
              "}\n",
              "</style>\n",
              "<small>shape: (3, 4)</small><table border=\"1\" class=\"dataframe\"><thead><tr><th>ciudad</th><th>fecha</th><th>monto</th><th>tiene_aeropuerto</th></tr><tr><td>str</td><td>date</td><td>f64</td><td>bool</td></tr></thead><tbody><tr><td>&quot;Guadalajara&quot;</td><td>2024-04-01</td><td>56.9</td><td>false</td></tr><tr><td>&quot;Monterrey&quot;</td><td>2024-04-02</td><td>100.5</td><td>true</td></tr><tr><td>&quot;CDMX&quot;</td><td>2024-04-03</td><td>1345.3</td><td>false</td></tr></tbody></table></div>"
            ]
          },
          "metadata": {},
          "execution_count": 15
        }
      ]
    },
    {
      "cell_type": "code",
      "source": [
        "df.select(pl.col('fecha','log').dt.to_string('%Y-%m-%d')) ## seleccionamos la columna use funcion to_string convertir la fecha en string"
      ],
      "metadata": {
        "colab": {
          "base_uri": "https://localhost:8080/",
          "height": 192
        },
        "id": "X1LHaGreC-_I",
        "outputId": "36aa7c8b-c855-41d8-8b0c-09749b95a59c"
      },
      "execution_count": 16,
      "outputs": [
        {
          "output_type": "execute_result",
          "data": {
            "text/plain": [
              "shape: (3, 2)\n",
              "┌────────────┬────────────┐\n",
              "│ fecha      ┆ log        │\n",
              "│ ---        ┆ ---        │\n",
              "│ str        ┆ str        │\n",
              "╞════════════╪════════════╡\n",
              "│ 2024-04-01 ┆ 2024-04-01 │\n",
              "│ 2024-04-02 ┆ 2024-04-01 │\n",
              "│ 2024-04-03 ┆ 2024-04-01 │\n",
              "└────────────┴────────────┘"
            ],
            "text/html": [
              "<div><style>\n",
              ".dataframe > thead > tr,\n",
              ".dataframe > tbody > tr {\n",
              "  text-align: right;\n",
              "  white-space: pre-wrap;\n",
              "}\n",
              "</style>\n",
              "<small>shape: (3, 2)</small><table border=\"1\" class=\"dataframe\"><thead><tr><th>fecha</th><th>log</th></tr><tr><td>str</td><td>str</td></tr></thead><tbody><tr><td>&quot;2024-04-01&quot;</td><td>&quot;2024-04-01&quot;</td></tr><tr><td>&quot;2024-04-02&quot;</td><td>&quot;2024-04-01&quot;</td></tr><tr><td>&quot;2024-04-03&quot;</td><td>&quot;2024-04-01&quot;</td></tr></tbody></table></div>"
            ]
          },
          "metadata": {},
          "execution_count": 16
        }
      ]
    },
    {
      "cell_type": "code",
      "source": [
        "df.select(pl.col(\"^id.*$\")) ## SELECCION DE COLUMNAS CON EXPRESIONES REGULARES id"
      ],
      "metadata": {
        "colab": {
          "base_uri": "https://localhost:8080/",
          "height": 192
        },
        "id": "_pt5zHnqU02u",
        "outputId": "a8823021-34be-4d3a-d75d-0fded5b7fcd9"
      },
      "execution_count": 17,
      "outputs": [
        {
          "output_type": "execute_result",
          "data": {
            "text/plain": [
              "shape: (3, 1)\n",
              "┌───────────┐\n",
              "│ id_ciudad │\n",
              "│ ---       │\n",
              "│ i64       │\n",
              "╞═══════════╡\n",
              "│ 10        │\n",
              "│ 7         │\n",
              "│ 5         │\n",
              "└───────────┘"
            ],
            "text/html": [
              "<div><style>\n",
              ".dataframe > thead > tr,\n",
              ".dataframe > tbody > tr {\n",
              "  text-align: right;\n",
              "  white-space: pre-wrap;\n",
              "}\n",
              "</style>\n",
              "<small>shape: (3, 1)</small><table border=\"1\" class=\"dataframe\"><thead><tr><th>id_ciudad</th></tr><tr><td>i64</td></tr></thead><tbody><tr><td>10</td></tr><tr><td>7</td></tr><tr><td>5</td></tr></tbody></table></div>"
            ]
          },
          "metadata": {},
          "execution_count": 17
        }
      ]
    },
    {
      "cell_type": "code",
      "source": [
        "df.select((pl.col(pl.Int64, pl.Utf8, pl.Datetime)))  #seleccionamos las columnas con los tipos de datos y vuelven asi"
      ],
      "metadata": {
        "colab": {
          "base_uri": "https://localhost:8080/",
          "height": 192
        },
        "id": "O5lnY-ZLEwGn",
        "outputId": "58fa0da9-cefd-4dd0-aaea-cb2d907cc4bd"
      },
      "execution_count": 18,
      "outputs": [
        {
          "output_type": "execute_result",
          "data": {
            "text/plain": [
              "shape: (3, 3)\n",
              "┌───────────┬─────────────┬─────────────────────┐\n",
              "│ id_ciudad ┆ ciudad      ┆ log                 │\n",
              "│ ---       ┆ ---         ┆ ---                 │\n",
              "│ i64       ┆ str         ┆ datetime[μs]        │\n",
              "╞═══════════╪═════════════╪═════════════════════╡\n",
              "│ 10        ┆ Guadalajara ┆ 2024-04-01 00:00:00 │\n",
              "│ 7         ┆ Monterrey   ┆ 2024-04-01 00:00:01 │\n",
              "│ 5         ┆ CDMX        ┆ 2024-04-01 00:00:02 │\n",
              "└───────────┴─────────────┴─────────────────────┘"
            ],
            "text/html": [
              "<div><style>\n",
              ".dataframe > thead > tr,\n",
              ".dataframe > tbody > tr {\n",
              "  text-align: right;\n",
              "  white-space: pre-wrap;\n",
              "}\n",
              "</style>\n",
              "<small>shape: (3, 3)</small><table border=\"1\" class=\"dataframe\"><thead><tr><th>id_ciudad</th><th>ciudad</th><th>log</th></tr><tr><td>i64</td><td>str</td><td>datetime[μs]</td></tr></thead><tbody><tr><td>10</td><td>&quot;Guadalajara&quot;</td><td>2024-04-01 00:00:00</td></tr><tr><td>7</td><td>&quot;Monterrey&quot;</td><td>2024-04-01 00:00:01</td></tr><tr><td>5</td><td>&quot;CDMX&quot;</td><td>2024-04-01 00:00:02</td></tr></tbody></table></div>"
            ]
          },
          "metadata": {},
          "execution_count": 18
        }
      ]
    },
    {
      "cell_type": "code",
      "source": [
        "import polars.selectors as cs  ## modulo de selectores"
      ],
      "metadata": {
        "id": "F7A_yyenFBih"
      },
      "execution_count": 19,
      "outputs": []
    },
    {
      "cell_type": "code",
      "source": [
        "df.select(cs.integer())  ## disponible de selectores columnas enteras"
      ],
      "metadata": {
        "colab": {
          "base_uri": "https://localhost:8080/",
          "height": 192
        },
        "id": "3Ham6SgpFILS",
        "outputId": "c6ef869a-b34b-4ad8-c4fa-a3cc5d0c22f6"
      },
      "execution_count": 20,
      "outputs": [
        {
          "output_type": "execute_result",
          "data": {
            "text/plain": [
              "shape: (3, 1)\n",
              "┌───────────┐\n",
              "│ id_ciudad │\n",
              "│ ---       │\n",
              "│ i64       │\n",
              "╞═══════════╡\n",
              "│ 10        │\n",
              "│ 7         │\n",
              "│ 5         │\n",
              "└───────────┘"
            ],
            "text/html": [
              "<div><style>\n",
              ".dataframe > thead > tr,\n",
              ".dataframe > tbody > tr {\n",
              "  text-align: right;\n",
              "  white-space: pre-wrap;\n",
              "}\n",
              "</style>\n",
              "<small>shape: (3, 1)</small><table border=\"1\" class=\"dataframe\"><thead><tr><th>id_ciudad</th></tr><tr><td>i64</td></tr></thead><tbody><tr><td>10</td></tr><tr><td>7</td></tr><tr><td>5</td></tr></tbody></table></div>"
            ]
          },
          "metadata": {},
          "execution_count": 20
        }
      ]
    },
    {
      "cell_type": "code",
      "source": [
        "df"
      ],
      "metadata": {
        "colab": {
          "base_uri": "https://localhost:8080/",
          "height": 192
        },
        "id": "wO1tVEJRFeMU",
        "outputId": "ee134dd5-fd0b-4f6d-ae36-f016702c21a8"
      },
      "execution_count": 21,
      "outputs": [
        {
          "output_type": "execute_result",
          "data": {
            "text/plain": [
              "shape: (3, 6)\n",
              "┌───────────┬─────────────┬────────────┬────────┬──────────────────┬─────────────────────┐\n",
              "│ id_ciudad ┆ ciudad      ┆ fecha      ┆ monto  ┆ tiene_aeropuerto ┆ log                 │\n",
              "│ ---       ┆ ---         ┆ ---        ┆ ---    ┆ ---              ┆ ---                 │\n",
              "│ i64       ┆ str         ┆ date       ┆ f64    ┆ bool             ┆ datetime[μs]        │\n",
              "╞═══════════╪═════════════╪════════════╪════════╪══════════════════╪═════════════════════╡\n",
              "│ 10        ┆ Guadalajara ┆ 2024-04-01 ┆ 56.9   ┆ false            ┆ 2024-04-01 00:00:00 │\n",
              "│ 7         ┆ Monterrey   ┆ 2024-04-02 ┆ 100.5  ┆ true             ┆ 2024-04-01 00:00:01 │\n",
              "│ 5         ┆ CDMX        ┆ 2024-04-03 ┆ 1345.3 ┆ false            ┆ 2024-04-01 00:00:02 │\n",
              "└───────────┴─────────────┴────────────┴────────┴──────────────────┴─────────────────────┘"
            ],
            "text/html": [
              "<div><style>\n",
              ".dataframe > thead > tr,\n",
              ".dataframe > tbody > tr {\n",
              "  text-align: right;\n",
              "  white-space: pre-wrap;\n",
              "}\n",
              "</style>\n",
              "<small>shape: (3, 6)</small><table border=\"1\" class=\"dataframe\"><thead><tr><th>id_ciudad</th><th>ciudad</th><th>fecha</th><th>monto</th><th>tiene_aeropuerto</th><th>log</th></tr><tr><td>i64</td><td>str</td><td>date</td><td>f64</td><td>bool</td><td>datetime[μs]</td></tr></thead><tbody><tr><td>10</td><td>&quot;Guadalajara&quot;</td><td>2024-04-01</td><td>56.9</td><td>false</td><td>2024-04-01 00:00:00</td></tr><tr><td>7</td><td>&quot;Monterrey&quot;</td><td>2024-04-02</td><td>100.5</td><td>true</td><td>2024-04-01 00:00:01</td></tr><tr><td>5</td><td>&quot;CDMX&quot;</td><td>2024-04-03</td><td>1345.3</td><td>false</td><td>2024-04-01 00:00:02</td></tr></tbody></table></div>"
            ]
          },
          "metadata": {},
          "execution_count": 21
        }
      ]
    },
    {
      "cell_type": "code",
      "source": [
        "df.select(cs.numeric() -cs.first())  ## todas las columnas numericas pero no la primera columna numerica"
      ],
      "metadata": {
        "colab": {
          "base_uri": "https://localhost:8080/",
          "height": 192
        },
        "id": "7Z-nzCtkMDjM",
        "outputId": "d64f03cf-6c99-4db9-e300-c294227af36c"
      },
      "execution_count": 22,
      "outputs": [
        {
          "output_type": "execute_result",
          "data": {
            "text/plain": [
              "shape: (3, 1)\n",
              "┌────────┐\n",
              "│ monto  │\n",
              "│ ---    │\n",
              "│ f64    │\n",
              "╞════════╡\n",
              "│ 56.9   │\n",
              "│ 100.5  │\n",
              "│ 1345.3 │\n",
              "└────────┘"
            ],
            "text/html": [
              "<div><style>\n",
              ".dataframe > thead > tr,\n",
              ".dataframe > tbody > tr {\n",
              "  text-align: right;\n",
              "  white-space: pre-wrap;\n",
              "}\n",
              "</style>\n",
              "<small>shape: (3, 1)</small><table border=\"1\" class=\"dataframe\"><thead><tr><th>monto</th></tr><tr><td>f64</td></tr></thead><tbody><tr><td>56.9</td></tr><tr><td>100.5</td></tr><tr><td>1345.3</td></tr></tbody></table></div>"
            ]
          },
          "metadata": {},
          "execution_count": 22
        }
      ]
    },
    {
      "cell_type": "markdown",
      "source": [
        "### Lectura 43"
      ],
      "metadata": {
        "id": "IqLWiPoFNUIq"
      }
    },
    {
      "cell_type": "code",
      "source": [
        "import polars as pl\n",
        "from polars import when,lit"
      ],
      "metadata": {
        "id": "EyXlMCqtPD6x"
      },
      "execution_count": 23,
      "outputs": []
    },
    {
      "cell_type": "code",
      "source": [
        "vuelos_lf = (\n",
        "    pl.scan_parquet('/content/drive/MyDrive/polars/seccion05/vuelos/vuelos.parquet')\n",
        ")"
      ],
      "metadata": {
        "id": "hZUFnAXmPLlK"
      },
      "execution_count": 24,
      "outputs": []
    },
    {
      "cell_type": "code",
      "source": [
        "vuelos_lf.select(\n",
        "    pl.col('MONTH'),\n",
        "    when(pl.col('MONTH')<=6)\n",
        "    .then(lit('First Half'))\n",
        "    .otherwise(lit('Second Half'))\n",
        "    .alias('semestre') # Added a value to the lit expression\n",
        ").collect()"
      ],
      "metadata": {
        "colab": {
          "base_uri": "https://localhost:8080/",
          "height": 443
        },
        "id": "-lpzDIFcQmRz",
        "outputId": "e1bef85d-3d73-4bde-a8f9-e6f2323d4327"
      },
      "execution_count": 25,
      "outputs": [
        {
          "output_type": "execute_result",
          "data": {
            "text/plain": [
              "shape: (5_819_079, 2)\n",
              "┌───────┬─────────────┐\n",
              "│ MONTH ┆ semestre    │\n",
              "│ ---   ┆ ---         │\n",
              "│ i32   ┆ str         │\n",
              "╞═══════╪═════════════╡\n",
              "│ 1     ┆ First Half  │\n",
              "│ 1     ┆ First Half  │\n",
              "│ 1     ┆ First Half  │\n",
              "│ 1     ┆ First Half  │\n",
              "│ 1     ┆ First Half  │\n",
              "│ …     ┆ …           │\n",
              "│ 12    ┆ Second Half │\n",
              "│ 12    ┆ Second Half │\n",
              "│ 12    ┆ Second Half │\n",
              "│ 12    ┆ Second Half │\n",
              "│ 12    ┆ Second Half │\n",
              "└───────┴─────────────┘"
            ],
            "text/html": [
              "<div><style>\n",
              ".dataframe > thead > tr,\n",
              ".dataframe > tbody > tr {\n",
              "  text-align: right;\n",
              "  white-space: pre-wrap;\n",
              "}\n",
              "</style>\n",
              "<small>shape: (5_819_079, 2)</small><table border=\"1\" class=\"dataframe\"><thead><tr><th>MONTH</th><th>semestre</th></tr><tr><td>i32</td><td>str</td></tr></thead><tbody><tr><td>1</td><td>&quot;First Half&quot;</td></tr><tr><td>1</td><td>&quot;First Half&quot;</td></tr><tr><td>1</td><td>&quot;First Half&quot;</td></tr><tr><td>1</td><td>&quot;First Half&quot;</td></tr><tr><td>1</td><td>&quot;First Half&quot;</td></tr><tr><td>&hellip;</td><td>&hellip;</td></tr><tr><td>12</td><td>&quot;Second Half&quot;</td></tr><tr><td>12</td><td>&quot;Second Half&quot;</td></tr><tr><td>12</td><td>&quot;Second Half&quot;</td></tr><tr><td>12</td><td>&quot;Second Half&quot;</td></tr><tr><td>12</td><td>&quot;Second Half&quot;</td></tr></tbody></table></div>"
            ]
          },
          "metadata": {},
          "execution_count": 25
        }
      ]
    },
    {
      "cell_type": "code",
      "source": [
        "vuelos_lf.group_by('CANCELLATION_REASON').len().collect()"
      ],
      "metadata": {
        "colab": {
          "base_uri": "https://localhost:8080/",
          "height": 255
        },
        "id": "k7d_8q_UREHI",
        "outputId": "b184562e-524e-4ac7-a723-faa069f3fb0a"
      },
      "execution_count": 26,
      "outputs": [
        {
          "output_type": "execute_result",
          "data": {
            "text/plain": [
              "shape: (5, 2)\n",
              "┌─────────────────────┬─────────┐\n",
              "│ CANCELLATION_REASON ┆ len     │\n",
              "│ ---                 ┆ ---     │\n",
              "│ str                 ┆ u32     │\n",
              "╞═════════════════════╪═════════╡\n",
              "│ D                   ┆ 22      │\n",
              "│ B                   ┆ 48851   │\n",
              "│ A                   ┆ 25262   │\n",
              "│ C                   ┆ 15749   │\n",
              "│ null                ┆ 5729195 │\n",
              "└─────────────────────┴─────────┘"
            ],
            "text/html": [
              "<div><style>\n",
              ".dataframe > thead > tr,\n",
              ".dataframe > tbody > tr {\n",
              "  text-align: right;\n",
              "  white-space: pre-wrap;\n",
              "}\n",
              "</style>\n",
              "<small>shape: (5, 2)</small><table border=\"1\" class=\"dataframe\"><thead><tr><th>CANCELLATION_REASON</th><th>len</th></tr><tr><td>str</td><td>u32</td></tr></thead><tbody><tr><td>&quot;D&quot;</td><td>22</td></tr><tr><td>&quot;B&quot;</td><td>48851</td></tr><tr><td>&quot;A&quot;</td><td>25262</td></tr><tr><td>&quot;C&quot;</td><td>15749</td></tr><tr><td>null</td><td>5729195</td></tr></tbody></table></div>"
            ]
          },
          "metadata": {},
          "execution_count": 26
        }
      ]
    },
    {
      "cell_type": "code",
      "source": [
        "from polars import coalesce"
      ],
      "metadata": {
        "id": "qhrnZeWTTU4T"
      },
      "execution_count": 27,
      "outputs": []
    },
    {
      "cell_type": "code",
      "source": [
        "vuelos_lf.select(\n",
        "    pl.col('*'),\n",
        "    coalesce('CANCELLATION_REASON', lit('NA')).alias('CANCELLATION_REASON_DES') # Removed .alias('CANCELLATION_REASON') from lit('NA')\n",
        ").group_by('CANCELLATION_REASON').len().collect()"
      ],
      "metadata": {
        "colab": {
          "base_uri": "https://localhost:8080/",
          "height": 255
        },
        "id": "1u78uiLurWRv",
        "outputId": "29ccb740-ed5d-4916-ada5-8cc70bd5a4d4"
      },
      "execution_count": 28,
      "outputs": [
        {
          "output_type": "execute_result",
          "data": {
            "text/plain": [
              "shape: (5, 2)\n",
              "┌─────────────────────┬─────────┐\n",
              "│ CANCELLATION_REASON ┆ len     │\n",
              "│ ---                 ┆ ---     │\n",
              "│ str                 ┆ u32     │\n",
              "╞═════════════════════╪═════════╡\n",
              "│ A                   ┆ 25262   │\n",
              "│ B                   ┆ 48851   │\n",
              "│ C                   ┆ 15749   │\n",
              "│ null                ┆ 5729195 │\n",
              "│ D                   ┆ 22      │\n",
              "└─────────────────────┴─────────┘"
            ],
            "text/html": [
              "<div><style>\n",
              ".dataframe > thead > tr,\n",
              ".dataframe > tbody > tr {\n",
              "  text-align: right;\n",
              "  white-space: pre-wrap;\n",
              "}\n",
              "</style>\n",
              "<small>shape: (5, 2)</small><table border=\"1\" class=\"dataframe\"><thead><tr><th>CANCELLATION_REASON</th><th>len</th></tr><tr><td>str</td><td>u32</td></tr></thead><tbody><tr><td>&quot;A&quot;</td><td>25262</td></tr><tr><td>&quot;B&quot;</td><td>48851</td></tr><tr><td>&quot;C&quot;</td><td>15749</td></tr><tr><td>null</td><td>5729195</td></tr><tr><td>&quot;D&quot;</td><td>22</td></tr></tbody></table></div>"
            ]
          },
          "metadata": {},
          "execution_count": 28
        }
      ]
    },
    {
      "cell_type": "markdown",
      "source": [],
      "metadata": {
        "id": "0tfqkulQo0NQ"
      }
    },
    {
      "cell_type": "code",
      "source": [
        "from polars import concat_str"
      ],
      "metadata": {
        "id": "kCm_bavpr-ri"
      },
      "execution_count": 29,
      "outputs": []
    },
    {
      "cell_type": "code",
      "source": [
        "vuelos_lf.select(\n",
        "    concat_str('YEAR','MONTH','DAY')\n",
        ").collect()"
      ],
      "metadata": {
        "colab": {
          "base_uri": "https://localhost:8080/",
          "height": 443
        },
        "id": "T9HTjd3krZz0",
        "outputId": "35d5d46f-ead5-4aee-fab6-07a18aa078bb"
      },
      "execution_count": 30,
      "outputs": [
        {
          "output_type": "execute_result",
          "data": {
            "text/plain": [
              "shape: (5_819_079, 1)\n",
              "┌──────────┐\n",
              "│ YEAR     │\n",
              "│ ---      │\n",
              "│ str      │\n",
              "╞══════════╡\n",
              "│ 201511   │\n",
              "│ 201511   │\n",
              "│ 201511   │\n",
              "│ 201511   │\n",
              "│ 201511   │\n",
              "│ …        │\n",
              "│ 20151231 │\n",
              "│ 20151231 │\n",
              "│ 20151231 │\n",
              "│ 20151231 │\n",
              "│ 20151231 │\n",
              "└──────────┘"
            ],
            "text/html": [
              "<div><style>\n",
              ".dataframe > thead > tr,\n",
              ".dataframe > tbody > tr {\n",
              "  text-align: right;\n",
              "  white-space: pre-wrap;\n",
              "}\n",
              "</style>\n",
              "<small>shape: (5_819_079, 1)</small><table border=\"1\" class=\"dataframe\"><thead><tr><th>YEAR</th></tr><tr><td>str</td></tr></thead><tbody><tr><td>&quot;201511&quot;</td></tr><tr><td>&quot;201511&quot;</td></tr><tr><td>&quot;201511&quot;</td></tr><tr><td>&quot;201511&quot;</td></tr><tr><td>&quot;201511&quot;</td></tr><tr><td>&hellip;</td></tr><tr><td>&quot;20151231&quot;</td></tr><tr><td>&quot;20151231&quot;</td></tr><tr><td>&quot;20151231&quot;</td></tr><tr><td>&quot;20151231&quot;</td></tr><tr><td>&quot;20151231&quot;</td></tr></tbody></table></div>"
            ]
          },
          "metadata": {},
          "execution_count": 30
        }
      ]
    },
    {
      "cell_type": "code",
      "source": [
        "vuelos_lf.select(\n",
        "    concat_str('YEAR','MONTH','DAY', separator='_')\n",
        ").collect()"
      ],
      "metadata": {
        "colab": {
          "base_uri": "https://localhost:8080/",
          "height": 443
        },
        "id": "WGhgAHhWsu4S",
        "outputId": "50928233-e004-40ee-8319-34d42151d854"
      },
      "execution_count": 31,
      "outputs": [
        {
          "output_type": "execute_result",
          "data": {
            "text/plain": [
              "shape: (5_819_079, 1)\n",
              "┌────────────┐\n",
              "│ YEAR       │\n",
              "│ ---        │\n",
              "│ str        │\n",
              "╞════════════╡\n",
              "│ 2015_1_1   │\n",
              "│ 2015_1_1   │\n",
              "│ 2015_1_1   │\n",
              "│ 2015_1_1   │\n",
              "│ 2015_1_1   │\n",
              "│ …          │\n",
              "│ 2015_12_31 │\n",
              "│ 2015_12_31 │\n",
              "│ 2015_12_31 │\n",
              "│ 2015_12_31 │\n",
              "│ 2015_12_31 │\n",
              "└────────────┘"
            ],
            "text/html": [
              "<div><style>\n",
              ".dataframe > thead > tr,\n",
              ".dataframe > tbody > tr {\n",
              "  text-align: right;\n",
              "  white-space: pre-wrap;\n",
              "}\n",
              "</style>\n",
              "<small>shape: (5_819_079, 1)</small><table border=\"1\" class=\"dataframe\"><thead><tr><th>YEAR</th></tr><tr><td>str</td></tr></thead><tbody><tr><td>&quot;2015_1_1&quot;</td></tr><tr><td>&quot;2015_1_1&quot;</td></tr><tr><td>&quot;2015_1_1&quot;</td></tr><tr><td>&quot;2015_1_1&quot;</td></tr><tr><td>&quot;2015_1_1&quot;</td></tr><tr><td>&hellip;</td></tr><tr><td>&quot;2015_12_31&quot;</td></tr><tr><td>&quot;2015_12_31&quot;</td></tr><tr><td>&quot;2015_12_31&quot;</td></tr><tr><td>&quot;2015_12_31&quot;</td></tr><tr><td>&quot;2015_12_31&quot;</td></tr></tbody></table></div>"
            ]
          },
          "metadata": {},
          "execution_count": 31
        }
      ]
    },
    {
      "cell_type": "markdown",
      "source": [
        "# **##Lectura 44**-agregaciones y funciones de ventana"
      ],
      "metadata": {
        "id": "FOFHKtketbQ9"
      }
    },
    {
      "cell_type": "code",
      "source": [
        "vuelos_lf = (\n",
        "    pl.scan_parquet('/content/drive/MyDrive/polars/seccion05/vuelos/vuelos.parquet')\n",
        ")"
      ],
      "metadata": {
        "id": "B7ttUlBot2FR"
      },
      "execution_count": 32,
      "outputs": []
    },
    {
      "cell_type": "code",
      "source": [
        "(\n",
        "    vuelos_lf\n",
        "    .group_by('ORIGIN_AIRPORT')\n",
        "    .agg(\n",
        "        (pl.col('AIRLINE')=='AA').sum().alias('AA')\n",
        "    )\n",
        "    .sort('AA', descending=True)\n",
        "    .limit(3)\n",
        "    ##.collect()\n",
        "\n",
        ")"
      ],
      "metadata": {
        "colab": {
          "base_uri": "https://localhost:8080/",
          "height": 458
        },
        "id": "DlF4e1pLv9WY",
        "outputId": "3b67d553-667a-4ef9-f0f7-cfb23d44aab9"
      },
      "execution_count": 33,
      "outputs": [
        {
          "output_type": "execute_result",
          "data": {
            "text/plain": [
              "<LazyFrame at 0x79C0709A8D90>"
            ],
            "text/html": [
              "<h4>NAIVE QUERY PLAN</h4><p>run <b>LazyFrame.show_graph()</b> to see the optimized version</p><?xml version=\"1.0\" encoding=\"UTF-8\" standalone=\"no\"?>\n",
              "<!DOCTYPE svg PUBLIC \"-//W3C//DTD SVG 1.1//EN\"\n",
              " \"http://www.w3.org/Graphics/SVG/1.1/DTD/svg11.dtd\">\n",
              "<!-- Generated by graphviz version 2.43.0 (0)\n",
              " -->\n",
              "<!-- Title: polars_query Pages: 1 -->\n",
              "<svg width=\"464pt\" height=\"279pt\"\n",
              " viewBox=\"0.00 0.00 464.00 279.00\" xmlns=\"http://www.w3.org/2000/svg\" xmlns:xlink=\"http://www.w3.org/1999/xlink\">\n",
              "<g id=\"graph0\" class=\"graph\" transform=\"scale(1 1) rotate(0) translate(4 275)\">\n",
              "<title>polars_query</title>\n",
              "<polygon fill=\"white\" stroke=\"transparent\" points=\"-4,4 -4,-275 460,-275 460,4 -4,4\"/>\n",
              "<!-- p1 -->\n",
              "<g id=\"node1\" class=\"node\">\n",
              "<title>p1</title>\n",
              "<polygon fill=\"none\" stroke=\"black\" points=\"298.5,-271 157.5,-271 157.5,-235 298.5,-235 298.5,-271\"/>\n",
              "<text text-anchor=\"middle\" x=\"228\" y=\"-249.3\" font-family=\"Times,serif\" font-size=\"14.00\">SLICE offset: 0; len: 3</text>\n",
              "</g>\n",
              "<!-- p2 -->\n",
              "<g id=\"node2\" class=\"node\">\n",
              "<title>p2</title>\n",
              "<polygon fill=\"none\" stroke=\"black\" points=\"299.5,-199 156.5,-199 156.5,-163 299.5,-163 299.5,-199\"/>\n",
              "<text text-anchor=\"middle\" x=\"228\" y=\"-177.3\" font-family=\"Times,serif\" font-size=\"14.00\">SORT BY [col(&quot;AA&quot;)]</text>\n",
              "</g>\n",
              "<!-- p1&#45;&#45;p2 -->\n",
              "<g id=\"edge1\" class=\"edge\">\n",
              "<title>p1&#45;&#45;p2</title>\n",
              "<path fill=\"none\" stroke=\"black\" d=\"M228,-234.7C228,-223.85 228,-209.92 228,-199.1\"/>\n",
              "</g>\n",
              "<!-- p3 -->\n",
              "<g id=\"node3\" class=\"node\">\n",
              "<title>p3</title>\n",
              "<polygon fill=\"none\" stroke=\"black\" points=\"412,-127 44,-127 44,-74 412,-74 412,-127\"/>\n",
              "<text text-anchor=\"middle\" x=\"228\" y=\"-111.8\" font-family=\"Times,serif\" font-size=\"14.00\">AGG [[(col(&quot;AIRLINE&quot;)) == (String(AA))].sum().alias(&quot;AA&quot;)]</text>\n",
              "<text text-anchor=\"middle\" x=\"228\" y=\"-96.8\" font-family=\"Times,serif\" font-size=\"14.00\">BY</text>\n",
              "<text text-anchor=\"middle\" x=\"228\" y=\"-81.8\" font-family=\"Times,serif\" font-size=\"14.00\">[col(&quot;ORIGIN_AIRPORT&quot;)]</text>\n",
              "</g>\n",
              "<!-- p2&#45;&#45;p3 -->\n",
              "<g id=\"edge2\" class=\"edge\">\n",
              "<title>p2&#45;&#45;p3</title>\n",
              "<path fill=\"none\" stroke=\"black\" d=\"M228,-162.97C228,-152.51 228,-138.9 228,-127.16\"/>\n",
              "</g>\n",
              "<!-- p4 -->\n",
              "<g id=\"node4\" class=\"node\">\n",
              "<title>p4</title>\n",
              "<polygon fill=\"none\" stroke=\"black\" points=\"456,-38 0,-38 0,0 456,0 456,-38\"/>\n",
              "<text text-anchor=\"middle\" x=\"228\" y=\"-22.8\" font-family=\"Times,serif\" font-size=\"14.00\">Parquet SCAN [/content/drive/MyDrive/polars/seccion05/vuelos/vuelos.parquet]</text>\n",
              "<text text-anchor=\"middle\" x=\"228\" y=\"-7.8\" font-family=\"Times,serif\" font-size=\"14.00\">π */31;</text>\n",
              "</g>\n",
              "<!-- p3&#45;&#45;p4 -->\n",
              "<g id=\"edge3\" class=\"edge\">\n",
              "<title>p3&#45;&#45;p4</title>\n",
              "<path fill=\"none\" stroke=\"black\" d=\"M228,-73.91C228,-62.29 228,-48.81 228,-38.24\"/>\n",
              "</g>\n",
              "</g>\n",
              "</svg>\n"
            ]
          },
          "metadata": {},
          "execution_count": 33
        }
      ]
    },
    {
      "cell_type": "code",
      "source": [
        "vuelos_lf.select(\n",
        "    pl.col('AIRLINE'),\n",
        "    pl.col('AIR_TIME').mean().over('AIRLINE').alias('AVG_AIR_TIME'),\n",
        "    pl.col('ORIGIN_AIRPORT'),\n",
        "    pl.col('DESTINATION_AIRPORT'),\n",
        "    pl.col('DEPARTURE_DELAY').mean().over(['ORIGIN_AIRPORT','DESTINATION_AIRPORT']).alias('AVG_DEPARTURE_DELAY')\n",
        ").collect()"
      ],
      "metadata": {
        "colab": {
          "base_uri": "https://localhost:8080/",
          "height": 443
        },
        "id": "vzgI5YW9xztw",
        "outputId": "16d370b4-7228-4671-a537-927f6e3e50cd"
      },
      "execution_count": 34,
      "outputs": [
        {
          "output_type": "execute_result",
          "data": {
            "text/plain": [
              "shape: (5_819_079, 5)\n",
              "┌─────────┬──────────────┬────────────────┬─────────────────────┬─────────────────────┐\n",
              "│ AIRLINE ┆ AVG_AIR_TIME ┆ ORIGIN_AIRPORT ┆ DESTINATION_AIRPORT ┆ AVG_DEPARTURE_DELAY │\n",
              "│ ---     ┆ ---          ┆ ---            ┆ ---                 ┆ ---                 │\n",
              "│ str     ┆ f64          ┆ str            ┆ str                 ┆ f64                 │\n",
              "╞═════════╪══════════════╪════════════════╪═════════════════════╪═════════════════════╡\n",
              "│ AS      ┆ 157.844784   ┆ ANC            ┆ SEA                 ┆ 0.979852            │\n",
              "│ AA      ┆ 139.806208   ┆ LAX            ┆ PBI                 ┆ 4.883117            │\n",
              "│ US      ┆ 125.774234   ┆ SFO            ┆ CLT                 ┆ 1.909542            │\n",
              "│ AA      ┆ 139.806208   ┆ LAX            ┆ MIA                 ┆ 6.713811            │\n",
              "│ AS      ┆ 157.844784   ┆ SEA            ┆ ANC                 ┆ 6.243791            │\n",
              "│ …       ┆ …            ┆ …              ┆ …                   ┆ …                   │\n",
              "│ B6      ┆ 143.858492   ┆ LAX            ┆ BOS                 ┆ 7.110834            │\n",
              "│ B6      ┆ 143.858492   ┆ JFK            ┆ PSE                 ┆ 16.759146           │\n",
              "│ B6      ┆ 143.858492   ┆ JFK            ┆ SJU                 ┆ 12.840682           │\n",
              "│ B6      ┆ 143.858492   ┆ MCO            ┆ SJU                 ┆ 11.035048           │\n",
              "│ B6      ┆ 143.858492   ┆ JFK            ┆ BQN                 ┆ 13.634921           │\n",
              "└─────────┴──────────────┴────────────────┴─────────────────────┴─────────────────────┘"
            ],
            "text/html": [
              "<div><style>\n",
              ".dataframe > thead > tr,\n",
              ".dataframe > tbody > tr {\n",
              "  text-align: right;\n",
              "  white-space: pre-wrap;\n",
              "}\n",
              "</style>\n",
              "<small>shape: (5_819_079, 5)</small><table border=\"1\" class=\"dataframe\"><thead><tr><th>AIRLINE</th><th>AVG_AIR_TIME</th><th>ORIGIN_AIRPORT</th><th>DESTINATION_AIRPORT</th><th>AVG_DEPARTURE_DELAY</th></tr><tr><td>str</td><td>f64</td><td>str</td><td>str</td><td>f64</td></tr></thead><tbody><tr><td>&quot;AS&quot;</td><td>157.844784</td><td>&quot;ANC&quot;</td><td>&quot;SEA&quot;</td><td>0.979852</td></tr><tr><td>&quot;AA&quot;</td><td>139.806208</td><td>&quot;LAX&quot;</td><td>&quot;PBI&quot;</td><td>4.883117</td></tr><tr><td>&quot;US&quot;</td><td>125.774234</td><td>&quot;SFO&quot;</td><td>&quot;CLT&quot;</td><td>1.909542</td></tr><tr><td>&quot;AA&quot;</td><td>139.806208</td><td>&quot;LAX&quot;</td><td>&quot;MIA&quot;</td><td>6.713811</td></tr><tr><td>&quot;AS&quot;</td><td>157.844784</td><td>&quot;SEA&quot;</td><td>&quot;ANC&quot;</td><td>6.243791</td></tr><tr><td>&hellip;</td><td>&hellip;</td><td>&hellip;</td><td>&hellip;</td><td>&hellip;</td></tr><tr><td>&quot;B6&quot;</td><td>143.858492</td><td>&quot;LAX&quot;</td><td>&quot;BOS&quot;</td><td>7.110834</td></tr><tr><td>&quot;B6&quot;</td><td>143.858492</td><td>&quot;JFK&quot;</td><td>&quot;PSE&quot;</td><td>16.759146</td></tr><tr><td>&quot;B6&quot;</td><td>143.858492</td><td>&quot;JFK&quot;</td><td>&quot;SJU&quot;</td><td>12.840682</td></tr><tr><td>&quot;B6&quot;</td><td>143.858492</td><td>&quot;MCO&quot;</td><td>&quot;SJU&quot;</td><td>11.035048</td></tr><tr><td>&quot;B6&quot;</td><td>143.858492</td><td>&quot;JFK&quot;</td><td>&quot;BQN&quot;</td><td>13.634921</td></tr></tbody></table></div>"
            ]
          },
          "metadata": {},
          "execution_count": 34
        }
      ]
    },
    {
      "cell_type": "code",
      "source": [
        "vuelos_reducido = vuelos_lf.select(\n",
        "    pl.col('AIRLINE'),\n",
        "    pl.col('DAY_OF_WEEK'),\n",
        "    pl.col('ARRIVAL_DELAY')\n",
        ").collect()"
      ],
      "metadata": {
        "id": "eHzqGqRU1oDn"
      },
      "execution_count": 35,
      "outputs": []
    },
    {
      "cell_type": "code",
      "source": [
        "vuelos_reducido.with_columns(\n",
        "    pl.col(['AIRLINE', 'ARRIVAL_DELAY']).sort_by('ARRIVAL_DELAY').over('DAY_OF_WEEK')\n",
        ")"
      ],
      "metadata": {
        "colab": {
          "base_uri": "https://localhost:8080/",
          "height": 443
        },
        "id": "TUmz8ifQ0cYV",
        "outputId": "cbd47990-451f-4205-c5a6-0c51fd3d074e"
      },
      "execution_count": 36,
      "outputs": [
        {
          "output_type": "execute_result",
          "data": {
            "text/plain": [
              "shape: (5_819_079, 3)\n",
              "┌─────────┬─────────────┬───────────────┐\n",
              "│ AIRLINE ┆ DAY_OF_WEEK ┆ ARRIVAL_DELAY │\n",
              "│ ---     ┆ ---         ┆ ---           │\n",
              "│ str     ┆ i32         ┆ i32           │\n",
              "╞═════════╪═════════════╪═══════════════╡\n",
              "│ AS      ┆ 4           ┆ null          │\n",
              "│ AA      ┆ 4           ┆ null          │\n",
              "│ OO      ┆ 4           ┆ null          │\n",
              "│ MQ      ┆ 4           ┆ null          │\n",
              "│ OO      ┆ 4           ┆ null          │\n",
              "│ …       ┆ …           ┆ …             │\n",
              "│ AA      ┆ 4           ┆ 1371          │\n",
              "│ AA      ┆ 4           ┆ 1381          │\n",
              "│ AA      ┆ 4           ┆ 1456          │\n",
              "│ AA      ┆ 4           ┆ 1480          │\n",
              "│ AA      ┆ 4           ┆ 1636          │\n",
              "└─────────┴─────────────┴───────────────┘"
            ],
            "text/html": [
              "<div><style>\n",
              ".dataframe > thead > tr,\n",
              ".dataframe > tbody > tr {\n",
              "  text-align: right;\n",
              "  white-space: pre-wrap;\n",
              "}\n",
              "</style>\n",
              "<small>shape: (5_819_079, 3)</small><table border=\"1\" class=\"dataframe\"><thead><tr><th>AIRLINE</th><th>DAY_OF_WEEK</th><th>ARRIVAL_DELAY</th></tr><tr><td>str</td><td>i32</td><td>i32</td></tr></thead><tbody><tr><td>&quot;AS&quot;</td><td>4</td><td>null</td></tr><tr><td>&quot;AA&quot;</td><td>4</td><td>null</td></tr><tr><td>&quot;OO&quot;</td><td>4</td><td>null</td></tr><tr><td>&quot;MQ&quot;</td><td>4</td><td>null</td></tr><tr><td>&quot;OO&quot;</td><td>4</td><td>null</td></tr><tr><td>&hellip;</td><td>&hellip;</td><td>&hellip;</td></tr><tr><td>&quot;AA&quot;</td><td>4</td><td>1371</td></tr><tr><td>&quot;AA&quot;</td><td>4</td><td>1381</td></tr><tr><td>&quot;AA&quot;</td><td>4</td><td>1456</td></tr><tr><td>&quot;AA&quot;</td><td>4</td><td>1480</td></tr><tr><td>&quot;AA&quot;</td><td>4</td><td>1636</td></tr></tbody></table></div>"
            ]
          },
          "metadata": {},
          "execution_count": 36
        }
      ]
    },
    {
      "cell_type": "code",
      "source": [
        "vuelos_reducido"
      ],
      "metadata": {
        "colab": {
          "base_uri": "https://localhost:8080/",
          "height": 443
        },
        "id": "t9MZgQqy2VNk",
        "outputId": "97fe820e-deb9-4152-d34e-7c5bbc55f60f"
      },
      "execution_count": 37,
      "outputs": [
        {
          "output_type": "execute_result",
          "data": {
            "text/plain": [
              "shape: (5_819_079, 3)\n",
              "┌─────────┬─────────────┬───────────────┐\n",
              "│ AIRLINE ┆ DAY_OF_WEEK ┆ ARRIVAL_DELAY │\n",
              "│ ---     ┆ ---         ┆ ---           │\n",
              "│ str     ┆ i32         ┆ i32           │\n",
              "╞═════════╪═════════════╪═══════════════╡\n",
              "│ AS      ┆ 4           ┆ -22           │\n",
              "│ AA      ┆ 4           ┆ -9            │\n",
              "│ US      ┆ 4           ┆ 5             │\n",
              "│ AA      ┆ 4           ┆ -9            │\n",
              "│ AS      ┆ 4           ┆ -21           │\n",
              "│ …       ┆ …           ┆ …             │\n",
              "│ B6      ┆ 4           ┆ -26           │\n",
              "│ B6      ┆ 4           ┆ -16           │\n",
              "│ B6      ┆ 4           ┆ -8            │\n",
              "│ B6      ┆ 4           ┆ -10           │\n",
              "│ B6      ┆ 4           ┆ 2             │\n",
              "└─────────┴─────────────┴───────────────┘"
            ],
            "text/html": [
              "<div><style>\n",
              ".dataframe > thead > tr,\n",
              ".dataframe > tbody > tr {\n",
              "  text-align: right;\n",
              "  white-space: pre-wrap;\n",
              "}\n",
              "</style>\n",
              "<small>shape: (5_819_079, 3)</small><table border=\"1\" class=\"dataframe\"><thead><tr><th>AIRLINE</th><th>DAY_OF_WEEK</th><th>ARRIVAL_DELAY</th></tr><tr><td>str</td><td>i32</td><td>i32</td></tr></thead><tbody><tr><td>&quot;AS&quot;</td><td>4</td><td>-22</td></tr><tr><td>&quot;AA&quot;</td><td>4</td><td>-9</td></tr><tr><td>&quot;US&quot;</td><td>4</td><td>5</td></tr><tr><td>&quot;AA&quot;</td><td>4</td><td>-9</td></tr><tr><td>&quot;AS&quot;</td><td>4</td><td>-21</td></tr><tr><td>&hellip;</td><td>&hellip;</td><td>&hellip;</td></tr><tr><td>&quot;B6&quot;</td><td>4</td><td>-26</td></tr><tr><td>&quot;B6&quot;</td><td>4</td><td>-16</td></tr><tr><td>&quot;B6&quot;</td><td>4</td><td>-8</td></tr><tr><td>&quot;B6&quot;</td><td>4</td><td>-10</td></tr><tr><td>&quot;B6&quot;</td><td>4</td><td>2</td></tr></tbody></table></div>"
            ]
          },
          "metadata": {},
          "execution_count": 37
        }
      ]
    },
    {
      "cell_type": "markdown",
      "source": [
        "Lectura 45-listas y arreglos"
      ],
      "metadata": {
        "id": "WmbGc76v3SVc"
      }
    },
    {
      "cell_type": "code",
      "source": [
        "city_temperatures = (\n",
        "    pl.scan_csv('/content/drive/MyDrive/polars/city_temperature.csv')\n",
        ")"
      ],
      "metadata": {
        "id": "BFhf5bqo4lWv"
      },
      "execution_count": 38,
      "outputs": []
    },
    {
      "cell_type": "code",
      "source": [
        "city_temperatures.collect()"
      ],
      "metadata": {
        "colab": {
          "base_uri": "https://localhost:8080/",
          "height": 443
        },
        "id": "XTpaFQeb44Gn",
        "outputId": "25f7b793-08a5-4f70-945d-4b40e64595fe"
      },
      "execution_count": 39,
      "outputs": [
        {
          "output_type": "execute_result",
          "data": {
            "text/plain": [
              "shape: (2_906_327, 8)\n",
              "┌───────────────┬─────────┬─────────────┬─────────────────┬───────┬─────┬──────┬────────────────┐\n",
              "│ Region        ┆ Country ┆ State       ┆ City            ┆ Month ┆ Day ┆ Year ┆ AvgTemperature │\n",
              "│ ---           ┆ ---     ┆ ---         ┆ ---             ┆ ---   ┆ --- ┆ ---  ┆ ---            │\n",
              "│ str           ┆ str     ┆ str         ┆ str             ┆ i64   ┆ i64 ┆ i64  ┆ f64            │\n",
              "╞═══════════════╪═════════╪═════════════╪═════════════════╪═══════╪═════╪══════╪════════════════╡\n",
              "│ Africa        ┆ Algeria ┆ null        ┆ Algiers         ┆ 1     ┆ 1   ┆ 1995 ┆ 64.2           │\n",
              "│ Africa        ┆ Algeria ┆ null        ┆ Algiers         ┆ 1     ┆ 2   ┆ 1995 ┆ 49.4           │\n",
              "│ Africa        ┆ Algeria ┆ null        ┆ Algiers         ┆ 1     ┆ 3   ┆ 1995 ┆ 48.8           │\n",
              "│ Africa        ┆ Algeria ┆ null        ┆ Algiers         ┆ 1     ┆ 4   ┆ 1995 ┆ 46.4           │\n",
              "│ Africa        ┆ Algeria ┆ null        ┆ Algiers         ┆ 1     ┆ 5   ┆ 1995 ┆ 47.9           │\n",
              "│ …             ┆ …       ┆ …           ┆ …               ┆ …     ┆ …   ┆ …    ┆ …              │\n",
              "│ North America ┆ US      ┆ Additional  ┆ San Juan Puerto ┆ 7     ┆ 27  ┆ 2013 ┆ 82.4           │\n",
              "│               ┆         ┆ Territories ┆ Rico            ┆       ┆     ┆      ┆                │\n",
              "│ North America ┆ US      ┆ Additional  ┆ San Juan Puerto ┆ 7     ┆ 28  ┆ 2013 ┆ 81.6           │\n",
              "│               ┆         ┆ Territories ┆ Rico            ┆       ┆     ┆      ┆                │\n",
              "│ North America ┆ US      ┆ Additional  ┆ San Juan Puerto ┆ 7     ┆ 29  ┆ 2013 ┆ 84.2           │\n",
              "│               ┆         ┆ Territories ┆ Rico            ┆       ┆     ┆      ┆                │\n",
              "│ North America ┆ US      ┆ Additional  ┆ San Juan Puerto ┆ 7     ┆ 30  ┆ 2013 ┆ 83.8           │\n",
              "│               ┆         ┆ Territories ┆ Rico            ┆       ┆     ┆      ┆                │\n",
              "│ North America ┆ US      ┆ Additional  ┆ San Juan Puerto ┆ 7     ┆ 31  ┆ 2013 ┆ 83.6           │\n",
              "│               ┆         ┆ Territories ┆ Rico            ┆       ┆     ┆      ┆                │\n",
              "└───────────────┴─────────┴─────────────┴─────────────────┴───────┴─────┴──────┴────────────────┘"
            ],
            "text/html": [
              "<div><style>\n",
              ".dataframe > thead > tr,\n",
              ".dataframe > tbody > tr {\n",
              "  text-align: right;\n",
              "  white-space: pre-wrap;\n",
              "}\n",
              "</style>\n",
              "<small>shape: (2_906_327, 8)</small><table border=\"1\" class=\"dataframe\"><thead><tr><th>Region</th><th>Country</th><th>State</th><th>City</th><th>Month</th><th>Day</th><th>Year</th><th>AvgTemperature</th></tr><tr><td>str</td><td>str</td><td>str</td><td>str</td><td>i64</td><td>i64</td><td>i64</td><td>f64</td></tr></thead><tbody><tr><td>&quot;Africa&quot;</td><td>&quot;Algeria&quot;</td><td>null</td><td>&quot;Algiers&quot;</td><td>1</td><td>1</td><td>1995</td><td>64.2</td></tr><tr><td>&quot;Africa&quot;</td><td>&quot;Algeria&quot;</td><td>null</td><td>&quot;Algiers&quot;</td><td>1</td><td>2</td><td>1995</td><td>49.4</td></tr><tr><td>&quot;Africa&quot;</td><td>&quot;Algeria&quot;</td><td>null</td><td>&quot;Algiers&quot;</td><td>1</td><td>3</td><td>1995</td><td>48.8</td></tr><tr><td>&quot;Africa&quot;</td><td>&quot;Algeria&quot;</td><td>null</td><td>&quot;Algiers&quot;</td><td>1</td><td>4</td><td>1995</td><td>46.4</td></tr><tr><td>&quot;Africa&quot;</td><td>&quot;Algeria&quot;</td><td>null</td><td>&quot;Algiers&quot;</td><td>1</td><td>5</td><td>1995</td><td>47.9</td></tr><tr><td>&hellip;</td><td>&hellip;</td><td>&hellip;</td><td>&hellip;</td><td>&hellip;</td><td>&hellip;</td><td>&hellip;</td><td>&hellip;</td></tr><tr><td>&quot;North America&quot;</td><td>&quot;US&quot;</td><td>&quot;Additional Territories&quot;</td><td>&quot;San Juan Puerto Rico&quot;</td><td>7</td><td>27</td><td>2013</td><td>82.4</td></tr><tr><td>&quot;North America&quot;</td><td>&quot;US&quot;</td><td>&quot;Additional Territories&quot;</td><td>&quot;San Juan Puerto Rico&quot;</td><td>7</td><td>28</td><td>2013</td><td>81.6</td></tr><tr><td>&quot;North America&quot;</td><td>&quot;US&quot;</td><td>&quot;Additional Territories&quot;</td><td>&quot;San Juan Puerto Rico&quot;</td><td>7</td><td>29</td><td>2013</td><td>84.2</td></tr><tr><td>&quot;North America&quot;</td><td>&quot;US&quot;</td><td>&quot;Additional Territories&quot;</td><td>&quot;San Juan Puerto Rico&quot;</td><td>7</td><td>30</td><td>2013</td><td>83.8</td></tr><tr><td>&quot;North America&quot;</td><td>&quot;US&quot;</td><td>&quot;Additional Territories&quot;</td><td>&quot;San Juan Puerto Rico&quot;</td><td>7</td><td>31</td><td>2013</td><td>83.6</td></tr></tbody></table></div>"
            ]
          },
          "metadata": {},
          "execution_count": 39
        }
      ]
    },
    {
      "cell_type": "code",
      "source": [
        "avg_temp_city = (\n",
        "    city_temperatures.group_by('City').agg(\n",
        "        pl.col('AvgTemperature').implode().flatten()\n",
        "    )\n",
        ").collect()"
      ],
      "metadata": {
        "id": "a9h2yxxe5FsI"
      },
      "execution_count": 40,
      "outputs": []
    },
    {
      "cell_type": "code",
      "source": [
        "avg_temp_city"
      ],
      "metadata": {
        "colab": {
          "base_uri": "https://localhost:8080/",
          "height": 443
        },
        "id": "Jp7GTM6p5oUl",
        "outputId": "c268d566-35c8-4c98-ce69-1be3b3308797"
      },
      "execution_count": 41,
      "outputs": [
        {
          "output_type": "execute_result",
          "data": {
            "text/plain": [
              "shape: (321, 2)\n",
              "┌────────────┬──────────────────────┐\n",
              "│ City       ┆ AvgTemperature       │\n",
              "│ ---        ┆ ---                  │\n",
              "│ str        ┆ list[f64]            │\n",
              "╞════════════╪══════════════════════╡\n",
              "│ Melbourne  ┆ [73.1, 63.7, … 61.5] │\n",
              "│ Montvideo  ┆ [79.7, 73.7, … 55.4] │\n",
              "│ Manila     ┆ [78.8, 78.0, … 91.9] │\n",
              "│ Dublin     ┆ [34.3, 34.8, … 38.2] │\n",
              "│ South Bend ┆ [29.5, 13.0, … 46.9] │\n",
              "│ …          ┆ …                    │\n",
              "│ Toledo     ┆ [35.8, 22.8, … 46.8] │\n",
              "│ Lansing    ┆ [30.2, 17.7, … 41.7] │\n",
              "│ Munich     ┆ [33.7, 29.1, … 42.4] │\n",
              "│ Brussels   ┆ [35.1, 35.4, … 39.7] │\n",
              "│ Jakarta    ┆ [85.0, 82.3, … 86.9] │\n",
              "└────────────┴──────────────────────┘"
            ],
            "text/html": [
              "<div><style>\n",
              ".dataframe > thead > tr,\n",
              ".dataframe > tbody > tr {\n",
              "  text-align: right;\n",
              "  white-space: pre-wrap;\n",
              "}\n",
              "</style>\n",
              "<small>shape: (321, 2)</small><table border=\"1\" class=\"dataframe\"><thead><tr><th>City</th><th>AvgTemperature</th></tr><tr><td>str</td><td>list[f64]</td></tr></thead><tbody><tr><td>&quot;Melbourne&quot;</td><td>[73.1, 63.7, … 61.5]</td></tr><tr><td>&quot;Montvideo&quot;</td><td>[79.7, 73.7, … 55.4]</td></tr><tr><td>&quot;Manila&quot;</td><td>[78.8, 78.0, … 91.9]</td></tr><tr><td>&quot;Dublin&quot;</td><td>[34.3, 34.8, … 38.2]</td></tr><tr><td>&quot;South Bend&quot;</td><td>[29.5, 13.0, … 46.9]</td></tr><tr><td>&hellip;</td><td>&hellip;</td></tr><tr><td>&quot;Toledo&quot;</td><td>[35.8, 22.8, … 46.8]</td></tr><tr><td>&quot;Lansing&quot;</td><td>[30.2, 17.7, … 41.7]</td></tr><tr><td>&quot;Munich&quot;</td><td>[33.7, 29.1, … 42.4]</td></tr><tr><td>&quot;Brussels&quot;</td><td>[35.1, 35.4, … 39.7]</td></tr><tr><td>&quot;Jakarta&quot;</td><td>[85.0, 82.3, … 86.9]</td></tr></tbody></table></div>"
            ]
          },
          "metadata": {},
          "execution_count": 41
        }
      ]
    },
    {
      "cell_type": "code",
      "source": [
        "from polars import col"
      ],
      "metadata": {
        "id": "CyqEEYVQ54-o"
      },
      "execution_count": 42,
      "outputs": []
    },
    {
      "cell_type": "code",
      "source": [
        "avg_temp_city.select(\n",
        "    pl.col('City'),\n",
        "    pl.col('AvgTemperature'),\n",
        "    pl.col('AvgTemperature').list.head(3).alias('top_3'),\n",
        "    pl.col('AvgTemperature').list.tail(3).alias('last_3'),\n",
        "    pl.col('AvgTemperature').list.slice(-3).alias('slice'),\n",
        "    pl.col('AvgTemperature').list.contains(3).sum().alias('total') # Use list.contains to find values of 3 in the list and sum to count them\n",
        ")"
      ],
      "metadata": {
        "colab": {
          "base_uri": "https://localhost:8080/",
          "height": 443
        },
        "id": "mX9zDQ9h8HGV",
        "outputId": "5eeea743-86f2-4684-ba83-49e14f6b1954"
      },
      "execution_count": 43,
      "outputs": [
        {
          "output_type": "execute_result",
          "data": {
            "text/plain": [
              "shape: (321, 6)\n",
              "┌────────────┬────────────────┬──────────────┬──────────────────────┬──────────────────────┬───────┐\n",
              "│ City       ┆ AvgTemperature ┆ top_3        ┆ last_3               ┆ slice                ┆ total │\n",
              "│ ---        ┆ ---            ┆ ---          ┆ ---                  ┆ ---                  ┆ ---   │\n",
              "│ str        ┆ list[f64]      ┆ list[f64]    ┆ list[f64]            ┆ list[f64]            ┆ u32   │\n",
              "╞════════════╪════════════════╪══════════════╪══════════════════════╪══════════════════════╪═══════╡\n",
              "│ Melbourne  ┆ [73.1, 63.7, … ┆ [73.1, 63.7, ┆ [55.7, 59.8, 61.5]   ┆ [55.7, 59.8, 61.5]   ┆ 66    │\n",
              "│            ┆ 61.5]          ┆ 69.0]        ┆                      ┆                      ┆       │\n",
              "│ Montvideo  ┆ [79.7, 73.7, … ┆ [79.7, 73.7, ┆ [62.6, 52.7, 55.4]   ┆ [62.6, 52.7, 55.4]   ┆ 66    │\n",
              "│            ┆ 55.4]          ┆ 72.3]        ┆                      ┆                      ┆       │\n",
              "│ Manila     ┆ [78.8, 78.0, … ┆ [78.8, 78.0, ┆ [89.9, 89.8, 91.9]   ┆ [89.9, 89.8, 91.9]   ┆ 66    │\n",
              "│            ┆ 91.9]          ┆ 79.1]        ┆                      ┆                      ┆       │\n",
              "│ Dublin     ┆ [34.3, 34.8, … ┆ [34.3, 34.8, ┆ [42.8, 45.7, 38.2]   ┆ [42.8, 45.7, 38.2]   ┆ 66    │\n",
              "│            ┆ 38.2]          ┆ 40.1]        ┆                      ┆                      ┆       │\n",
              "│ South Bend ┆ [29.5, 13.0, … ┆ [29.5, 13.0, ┆ [40.2, 45.7, 46.9]   ┆ [40.2, 45.7, 46.9]   ┆ 66    │\n",
              "│            ┆ 46.9]          ┆ 14.5]        ┆                      ┆                      ┆       │\n",
              "│ …          ┆ …              ┆ …            ┆ …                    ┆ …                    ┆ …     │\n",
              "│ Toledo     ┆ [35.8, 22.8, … ┆ [35.8, 22.8, ┆ [42.4, 47.3, 46.8]   ┆ [42.4, 47.3, 46.8]   ┆ 66    │\n",
              "│            ┆ 46.8]          ┆ 19.9]        ┆                      ┆                      ┆       │\n",
              "│ Lansing    ┆ [30.2, 17.7, … ┆ [30.2, 17.7, ┆ [38.4, 43.4, 41.7]   ┆ [38.4, 43.4, 41.7]   ┆ 66    │\n",
              "│            ┆ 41.7]          ┆ 18.6]        ┆                      ┆                      ┆       │\n",
              "│ Munich     ┆ [33.7, 29.1, … ┆ [33.7, 29.1, ┆ [52.5, 43.0, 42.4]   ┆ [52.5, 43.0, 42.4]   ┆ 66    │\n",
              "│            ┆ 42.4]          ┆ 25.6]        ┆                      ┆                      ┆       │\n",
              "│ Brussels   ┆ [35.1, 35.4, … ┆ [35.1, 35.4, ┆ [46.5, 45.1, 39.7]   ┆ [46.5, 45.1, 39.7]   ┆ 66    │\n",
              "│            ┆ 39.7]          ┆ 33.4]        ┆                      ┆                      ┆       │\n",
              "│ Jakarta    ┆ [85.0, 82.3, … ┆ [85.0, 82.3, ┆ [84.4, 85.3, 86.9]   ┆ [84.4, 85.3, 86.9]   ┆ 66    │\n",
              "│            ┆ 86.9]          ┆ 81.7]        ┆                      ┆                      ┆       │\n",
              "└────────────┴────────────────┴──────────────┴──────────────────────┴──────────────────────┴───────┘"
            ],
            "text/html": [
              "<div><style>\n",
              ".dataframe > thead > tr,\n",
              ".dataframe > tbody > tr {\n",
              "  text-align: right;\n",
              "  white-space: pre-wrap;\n",
              "}\n",
              "</style>\n",
              "<small>shape: (321, 6)</small><table border=\"1\" class=\"dataframe\"><thead><tr><th>City</th><th>AvgTemperature</th><th>top_3</th><th>last_3</th><th>slice</th><th>total</th></tr><tr><td>str</td><td>list[f64]</td><td>list[f64]</td><td>list[f64]</td><td>list[f64]</td><td>u32</td></tr></thead><tbody><tr><td>&quot;Melbourne&quot;</td><td>[73.1, 63.7, … 61.5]</td><td>[73.1, 63.7, 69.0]</td><td>[55.7, 59.8, 61.5]</td><td>[55.7, 59.8, 61.5]</td><td>66</td></tr><tr><td>&quot;Montvideo&quot;</td><td>[79.7, 73.7, … 55.4]</td><td>[79.7, 73.7, 72.3]</td><td>[62.6, 52.7, 55.4]</td><td>[62.6, 52.7, 55.4]</td><td>66</td></tr><tr><td>&quot;Manila&quot;</td><td>[78.8, 78.0, … 91.9]</td><td>[78.8, 78.0, 79.1]</td><td>[89.9, 89.8, 91.9]</td><td>[89.9, 89.8, 91.9]</td><td>66</td></tr><tr><td>&quot;Dublin&quot;</td><td>[34.3, 34.8, … 38.2]</td><td>[34.3, 34.8, 40.1]</td><td>[42.8, 45.7, 38.2]</td><td>[42.8, 45.7, 38.2]</td><td>66</td></tr><tr><td>&quot;South Bend&quot;</td><td>[29.5, 13.0, … 46.9]</td><td>[29.5, 13.0, 14.5]</td><td>[40.2, 45.7, 46.9]</td><td>[40.2, 45.7, 46.9]</td><td>66</td></tr><tr><td>&hellip;</td><td>&hellip;</td><td>&hellip;</td><td>&hellip;</td><td>&hellip;</td><td>&hellip;</td></tr><tr><td>&quot;Toledo&quot;</td><td>[35.8, 22.8, … 46.8]</td><td>[35.8, 22.8, 19.9]</td><td>[42.4, 47.3, 46.8]</td><td>[42.4, 47.3, 46.8]</td><td>66</td></tr><tr><td>&quot;Lansing&quot;</td><td>[30.2, 17.7, … 41.7]</td><td>[30.2, 17.7, 18.6]</td><td>[38.4, 43.4, 41.7]</td><td>[38.4, 43.4, 41.7]</td><td>66</td></tr><tr><td>&quot;Munich&quot;</td><td>[33.7, 29.1, … 42.4]</td><td>[33.7, 29.1, 25.6]</td><td>[52.5, 43.0, 42.4]</td><td>[52.5, 43.0, 42.4]</td><td>66</td></tr><tr><td>&quot;Brussels&quot;</td><td>[35.1, 35.4, … 39.7]</td><td>[35.1, 35.4, 33.4]</td><td>[46.5, 45.1, 39.7]</td><td>[46.5, 45.1, 39.7]</td><td>66</td></tr><tr><td>&quot;Jakarta&quot;</td><td>[85.0, 82.3, … 86.9]</td><td>[85.0, 82.3, 81.7]</td><td>[84.4, 85.3, 86.9]</td><td>[84.4, 85.3, 86.9]</td><td>66</td></tr></tbody></table></div>"
            ]
          },
          "metadata": {},
          "execution_count": 43
        }
      ]
    },
    {
      "cell_type": "code",
      "source": [
        "avg_temp_city.select(\n",
        "    pl.col('City'),\n",
        "    pl.col('AvgTemperature'),\n",
        "    pl.col('AvgTemperature').list.min().alias('temp_min'),\n",
        "    pl.col('AvgTemperature').list.max().alias('temp_max'),\n",
        "    pl.col('AvgTemperature').list.mean().alias('temp_avg'),\n",
        ").sort('temp_avg', descending=True)"
      ],
      "metadata": {
        "colab": {
          "base_uri": "https://localhost:8080/",
          "height": 443
        },
        "id": "4MsSkAme8QJR",
        "outputId": "5bd7929a-f443-4915-b743-d642c731a202"
      },
      "execution_count": 44,
      "outputs": [
        {
          "output_type": "execute_result",
          "data": {
            "text/plain": [
              "shape: (321, 5)\n",
              "┌──────────────────┬────────────────────────┬──────────┬──────────┬────────────┐\n",
              "│ City             ┆ AvgTemperature         ┆ temp_min ┆ temp_max ┆ temp_avg   │\n",
              "│ ---              ┆ ---                    ┆ ---      ┆ ---      ┆ ---        │\n",
              "│ str              ┆ list[f64]              ┆ f64      ┆ f64      ┆ f64        │\n",
              "╞══════════════════╪════════════════════════╪══════════╪══════════╪════════════╡\n",
              "│ Dubai            ┆ [67.7, 66.9, … 80.4]   ┆ -99.0    ┆ 107.5    ┆ 82.972631  │\n",
              "│ Chennai (Madras) ┆ [72.4, 73.5, … 84.2]   ┆ -99.0    ┆ 97.9     ┆ 82.847021  │\n",
              "│ Doha             ┆ [65.4, 62.2, … 85.4]   ┆ -99.0    ┆ 108.5    ┆ 82.235625  │\n",
              "│ Abu Dhabi        ┆ [64.0, 67.1, … 83.5]   ┆ -99.0    ┆ 107.3    ┆ 82.192499  │\n",
              "│ Niamey           ┆ [74.0, 74.6, … 92.9]   ┆ -99.0    ┆ 102.8    ┆ 81.951619  │\n",
              "│ …                ┆ …                      ┆ …        ┆ …        ┆ …          │\n",
              "│ Frankfurt        ┆ [-99.0, -99.0, … 55.2] ┆ -99.0    ┆ 85.2     ┆ -13.668786 │\n",
              "│ Lilongwe         ┆ [69.5, 69.5, … 61.8]   ┆ -99.0    ┆ 90.7     ┆ -20.585544 │\n",
              "│ Georgetown       ┆ [-99.0, -99.0, … 84.0] ┆ -99.0    ┆ 90.6     ┆ -22.10152  │\n",
              "│ Bonn             ┆ [-99.0, 32.6, … 64.5]  ┆ -99.0    ┆ 86.9     ┆ -46.86805  │\n",
              "│ Bujumbura        ┆ [-99.0, -99.0, … 48.2] ┆ -99.0    ┆ 89.1     ┆ -65.397138 │\n",
              "└──────────────────┴────────────────────────┴──────────┴──────────┴────────────┘"
            ],
            "text/html": [
              "<div><style>\n",
              ".dataframe > thead > tr,\n",
              ".dataframe > tbody > tr {\n",
              "  text-align: right;\n",
              "  white-space: pre-wrap;\n",
              "}\n",
              "</style>\n",
              "<small>shape: (321, 5)</small><table border=\"1\" class=\"dataframe\"><thead><tr><th>City</th><th>AvgTemperature</th><th>temp_min</th><th>temp_max</th><th>temp_avg</th></tr><tr><td>str</td><td>list[f64]</td><td>f64</td><td>f64</td><td>f64</td></tr></thead><tbody><tr><td>&quot;Dubai&quot;</td><td>[67.7, 66.9, … 80.4]</td><td>-99.0</td><td>107.5</td><td>82.972631</td></tr><tr><td>&quot;Chennai (Madras)&quot;</td><td>[72.4, 73.5, … 84.2]</td><td>-99.0</td><td>97.9</td><td>82.847021</td></tr><tr><td>&quot;Doha&quot;</td><td>[65.4, 62.2, … 85.4]</td><td>-99.0</td><td>108.5</td><td>82.235625</td></tr><tr><td>&quot;Abu Dhabi&quot;</td><td>[64.0, 67.1, … 83.5]</td><td>-99.0</td><td>107.3</td><td>82.192499</td></tr><tr><td>&quot;Niamey&quot;</td><td>[74.0, 74.6, … 92.9]</td><td>-99.0</td><td>102.8</td><td>81.951619</td></tr><tr><td>&hellip;</td><td>&hellip;</td><td>&hellip;</td><td>&hellip;</td><td>&hellip;</td></tr><tr><td>&quot;Frankfurt&quot;</td><td>[-99.0, -99.0, … 55.2]</td><td>-99.0</td><td>85.2</td><td>-13.668786</td></tr><tr><td>&quot;Lilongwe&quot;</td><td>[69.5, 69.5, … 61.8]</td><td>-99.0</td><td>90.7</td><td>-20.585544</td></tr><tr><td>&quot;Georgetown&quot;</td><td>[-99.0, -99.0, … 84.0]</td><td>-99.0</td><td>90.6</td><td>-22.10152</td></tr><tr><td>&quot;Bonn&quot;</td><td>[-99.0, 32.6, … 64.5]</td><td>-99.0</td><td>86.9</td><td>-46.86805</td></tr><tr><td>&quot;Bujumbura&quot;</td><td>[-99.0, -99.0, … 48.2]</td><td>-99.0</td><td>89.1</td><td>-65.397138</td></tr></tbody></table></div>"
            ]
          },
          "metadata": {},
          "execution_count": 44
        }
      ]
    },
    {
      "cell_type": "code",
      "source": [
        "avg_temp_city_array = avg_temp_city.with_columns(  ### .cast-- Convierte las columnas DataFrame a los tipos de datos especificados.\n",
        "    temp_array=pl.col('AvgTemperature').list.gather([0,1,2]).cast(pl.Array(inner=pl.Float64, shape=3)))\n"
      ],
      "metadata": {
        "id": "4DlJJuUYRnt2"
      },
      "execution_count": 52,
      "outputs": []
    },
    {
      "cell_type": "code",
      "source": [
        "avg_temp_city_array"
      ],
      "metadata": {
        "colab": {
          "base_uri": "https://localhost:8080/",
          "height": 443
        },
        "id": "5mq1F5E0TZ6T",
        "outputId": "a2e1d1f4-b796-4fc4-ed95-446a3eb50f7a"
      },
      "execution_count": 53,
      "outputs": [
        {
          "output_type": "execute_result",
          "data": {
            "text/plain": [
              "shape: (321, 3)\n",
              "┌────────────┬──────────────────────┬────────────────────┐\n",
              "│ City       ┆ AvgTemperature       ┆ temp_array         │\n",
              "│ ---        ┆ ---                  ┆ ---                │\n",
              "│ str        ┆ list[f64]            ┆ array[f64, 3]      │\n",
              "╞════════════╪══════════════════════╪════════════════════╡\n",
              "│ Melbourne  ┆ [73.1, 63.7, … 61.5] ┆ [73.1, 63.7, 69.0] │\n",
              "│ Montvideo  ┆ [79.7, 73.7, … 55.4] ┆ [79.7, 73.7, 72.3] │\n",
              "│ Manila     ┆ [78.8, 78.0, … 91.9] ┆ [78.8, 78.0, 79.1] │\n",
              "│ Dublin     ┆ [34.3, 34.8, … 38.2] ┆ [34.3, 34.8, 40.1] │\n",
              "│ South Bend ┆ [29.5, 13.0, … 46.9] ┆ [29.5, 13.0, 14.5] │\n",
              "│ …          ┆ …                    ┆ …                  │\n",
              "│ Toledo     ┆ [35.8, 22.8, … 46.8] ┆ [35.8, 22.8, 19.9] │\n",
              "│ Lansing    ┆ [30.2, 17.7, … 41.7] ┆ [30.2, 17.7, 18.6] │\n",
              "│ Munich     ┆ [33.7, 29.1, … 42.4] ┆ [33.7, 29.1, 25.6] │\n",
              "│ Brussels   ┆ [35.1, 35.4, … 39.7] ┆ [35.1, 35.4, 33.4] │\n",
              "│ Jakarta    ┆ [85.0, 82.3, … 86.9] ┆ [85.0, 82.3, 81.7] │\n",
              "└────────────┴──────────────────────┴────────────────────┘"
            ],
            "text/html": [
              "<div><style>\n",
              ".dataframe > thead > tr,\n",
              ".dataframe > tbody > tr {\n",
              "  text-align: right;\n",
              "  white-space: pre-wrap;\n",
              "}\n",
              "</style>\n",
              "<small>shape: (321, 3)</small><table border=\"1\" class=\"dataframe\"><thead><tr><th>City</th><th>AvgTemperature</th><th>temp_array</th></tr><tr><td>str</td><td>list[f64]</td><td>array[f64, 3]</td></tr></thead><tbody><tr><td>&quot;Melbourne&quot;</td><td>[73.1, 63.7, … 61.5]</td><td>[73.1, 63.7, 69.0]</td></tr><tr><td>&quot;Montvideo&quot;</td><td>[79.7, 73.7, … 55.4]</td><td>[79.7, 73.7, 72.3]</td></tr><tr><td>&quot;Manila&quot;</td><td>[78.8, 78.0, … 91.9]</td><td>[78.8, 78.0, 79.1]</td></tr><tr><td>&quot;Dublin&quot;</td><td>[34.3, 34.8, … 38.2]</td><td>[34.3, 34.8, 40.1]</td></tr><tr><td>&quot;South Bend&quot;</td><td>[29.5, 13.0, … 46.9]</td><td>[29.5, 13.0, 14.5]</td></tr><tr><td>&hellip;</td><td>&hellip;</td><td>&hellip;</td></tr><tr><td>&quot;Toledo&quot;</td><td>[35.8, 22.8, … 46.8]</td><td>[35.8, 22.8, 19.9]</td></tr><tr><td>&quot;Lansing&quot;</td><td>[30.2, 17.7, … 41.7]</td><td>[30.2, 17.7, 18.6]</td></tr><tr><td>&quot;Munich&quot;</td><td>[33.7, 29.1, … 42.4]</td><td>[33.7, 29.1, 25.6]</td></tr><tr><td>&quot;Brussels&quot;</td><td>[35.1, 35.4, … 39.7]</td><td>[35.1, 35.4, 33.4]</td></tr><tr><td>&quot;Jakarta&quot;</td><td>[85.0, 82.3, … 86.9]</td><td>[85.0, 82.3, 81.7]</td></tr></tbody></table></div>"
            ]
          },
          "metadata": {},
          "execution_count": 53
        }
      ]
    },
    {
      "cell_type": "code",
      "source": [
        "avg_temp_city_array.select(\n",
        "    pl.col('temp_array').alias('array'),\n",
        "    pl.col('temp_array').arr.min().alias('min'),\n",
        "    pl.col('temp_array').arr.max().alias('max'),\n",
        "    pl.col('temp_array').arr.count_matches(33.0).alias('count_33'), ##Cuente con qué frecuencia ocurre el valor producido element.\n",
        "    pl.col('temp_array').arr.sort().alias('temp_sort'),\n",
        ")"
      ],
      "metadata": {
        "colab": {
          "base_uri": "https://localhost:8080/",
          "height": 443
        },
        "id": "tz0hwpUMTohm",
        "outputId": "ca94e0ee-cf66-44f0-e6e6-2aa00b7a237e"
      },
      "execution_count": 59,
      "outputs": [
        {
          "output_type": "execute_result",
          "data": {
            "text/plain": [
              "shape: (321, 5)\n",
              "┌────────────────────┬──────┬──────┬──────────┬────────────────────┐\n",
              "│ array              ┆ min  ┆ max  ┆ count_33 ┆ temp_sort          │\n",
              "│ ---                ┆ ---  ┆ ---  ┆ ---      ┆ ---                │\n",
              "│ array[f64, 3]      ┆ f64  ┆ f64  ┆ u32      ┆ array[f64, 3]      │\n",
              "╞════════════════════╪══════╪══════╪══════════╪════════════════════╡\n",
              "│ [73.1, 63.7, 69.0] ┆ 63.7 ┆ 73.1 ┆ 0        ┆ [63.7, 69.0, 73.1] │\n",
              "│ [79.7, 73.7, 72.3] ┆ 72.3 ┆ 79.7 ┆ 0        ┆ [72.3, 73.7, 79.7] │\n",
              "│ [78.8, 78.0, 79.1] ┆ 78.0 ┆ 79.1 ┆ 0        ┆ [78.0, 78.8, 79.1] │\n",
              "│ [34.3, 34.8, 40.1] ┆ 34.3 ┆ 40.1 ┆ 0        ┆ [34.3, 34.8, 40.1] │\n",
              "│ [29.5, 13.0, 14.5] ┆ 13.0 ┆ 29.5 ┆ 0        ┆ [13.0, 14.5, 29.5] │\n",
              "│ …                  ┆ …    ┆ …    ┆ …        ┆ …                  │\n",
              "│ [35.8, 22.8, 19.9] ┆ 19.9 ┆ 35.8 ┆ 0        ┆ [19.9, 22.8, 35.8] │\n",
              "│ [30.2, 17.7, 18.6] ┆ 17.7 ┆ 30.2 ┆ 0        ┆ [17.7, 18.6, 30.2] │\n",
              "│ [33.7, 29.1, 25.6] ┆ 25.6 ┆ 33.7 ┆ 0        ┆ [25.6, 29.1, 33.7] │\n",
              "│ [35.1, 35.4, 33.4] ┆ 33.4 ┆ 35.4 ┆ 0        ┆ [33.4, 35.1, 35.4] │\n",
              "│ [85.0, 82.3, 81.7] ┆ 81.7 ┆ 85.0 ┆ 0        ┆ [81.7, 82.3, 85.0] │\n",
              "└────────────────────┴──────┴──────┴──────────┴────────────────────┘"
            ],
            "text/html": [
              "<div><style>\n",
              ".dataframe > thead > tr,\n",
              ".dataframe > tbody > tr {\n",
              "  text-align: right;\n",
              "  white-space: pre-wrap;\n",
              "}\n",
              "</style>\n",
              "<small>shape: (321, 5)</small><table border=\"1\" class=\"dataframe\"><thead><tr><th>array</th><th>min</th><th>max</th><th>count_33</th><th>temp_sort</th></tr><tr><td>array[f64, 3]</td><td>f64</td><td>f64</td><td>u32</td><td>array[f64, 3]</td></tr></thead><tbody><tr><td>[73.1, 63.7, 69.0]</td><td>63.7</td><td>73.1</td><td>0</td><td>[63.7, 69.0, 73.1]</td></tr><tr><td>[79.7, 73.7, 72.3]</td><td>72.3</td><td>79.7</td><td>0</td><td>[72.3, 73.7, 79.7]</td></tr><tr><td>[78.8, 78.0, 79.1]</td><td>78.0</td><td>79.1</td><td>0</td><td>[78.0, 78.8, 79.1]</td></tr><tr><td>[34.3, 34.8, 40.1]</td><td>34.3</td><td>40.1</td><td>0</td><td>[34.3, 34.8, 40.1]</td></tr><tr><td>[29.5, 13.0, 14.5]</td><td>13.0</td><td>29.5</td><td>0</td><td>[13.0, 14.5, 29.5]</td></tr><tr><td>&hellip;</td><td>&hellip;</td><td>&hellip;</td><td>&hellip;</td><td>&hellip;</td></tr><tr><td>[35.8, 22.8, 19.9]</td><td>19.9</td><td>35.8</td><td>0</td><td>[19.9, 22.8, 35.8]</td></tr><tr><td>[30.2, 17.7, 18.6]</td><td>17.7</td><td>30.2</td><td>0</td><td>[17.7, 18.6, 30.2]</td></tr><tr><td>[33.7, 29.1, 25.6]</td><td>25.6</td><td>33.7</td><td>0</td><td>[25.6, 29.1, 33.7]</td></tr><tr><td>[35.1, 35.4, 33.4]</td><td>33.4</td><td>35.4</td><td>0</td><td>[33.4, 35.1, 35.4]</td></tr><tr><td>[85.0, 82.3, 81.7]</td><td>81.7</td><td>85.0</td><td>0</td><td>[81.7, 82.3, 85.0]</td></tr></tbody></table></div>"
            ]
          },
          "metadata": {},
          "execution_count": 59
        }
      ]
    }
  ]
}