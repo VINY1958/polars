{
  "nbformat": 4,
  "nbformat_minor": 0,
  "metadata": {
    "colab": {
      "provenance": []
    },
    "kernelspec": {
      "name": "python3",
      "display_name": "Python 3"
    },
    "language_info": {
      "name": "python"
    }
  },
  "cells": [
    {
      "cell_type": "code",
      "execution_count": 1,
      "metadata": {
        "id": "CyVwxkQWK8mY"
      },
      "outputs": [],
      "source": [
        "import polars as pl"
      ]
    },
    {
      "cell_type": "markdown",
      "source": [
        "## lazy permite que las consultas se ejecuten en forma de streaming collect(streaming=True) se pasa este argumento"
      ],
      "metadata": {
        "id": "ugmUYClvLFmB"
      }
    },
    {
      "cell_type": "code",
      "source": [
        "query = (\n",
        "    pl.scan_parquet('/content/vuelos.parquet')\n",
        "    .filter(pl.col('MONTH')>6)\n",
        "    .group_by('AIRLINE').agg(\n",
        "        media_tiempo_aire=pl.col('AIR_TIME').mean()\n",
        "\n",
        "    )\n",
        ")"
      ],
      "metadata": {
        "id": "GTfvGbofLWJ4"
      },
      "execution_count": 2,
      "outputs": []
    },
    {
      "cell_type": "code",
      "source": [
        "vuelos_agregados= query.collect(streamin=True)"
      ],
      "metadata": {
        "id": "z2Dql-08MH4A"
      },
      "execution_count": 3,
      "outputs": []
    },
    {
      "cell_type": "markdown",
      "source": [
        "# NO TODAS LAS OPERACIONES LAZY ADMITEN streaming=True"
      ],
      "metadata": {
        "id": "OF2MZssmMWM4"
      }
    },
    {
      "cell_type": "code",
      "source": [
        "vuelos_agregados"
      ],
      "metadata": {
        "colab": {
          "base_uri": "https://localhost:8080/",
          "height": 443
        },
        "id": "kzlhWrZ3MQwQ",
        "outputId": "f53e6b69-9087-48d5-96d0-1f19a6d58f72"
      },
      "execution_count": 4,
      "outputs": [
        {
          "output_type": "execute_result",
          "data": {
            "text/plain": [
              "shape: (13, 2)\n",
              "┌─────────┬───────────────────┐\n",
              "│ AIRLINE ┆ media_tiempo_aire │\n",
              "│ ---     ┆ ---               │\n",
              "│ str     ┆ f64               │\n",
              "╞═════════╪═══════════════════╡\n",
              "│ HA      ┆ 85.561475         │\n",
              "│ NK      ┆ 132.105457        │\n",
              "│ MQ      ┆ 64.836925         │\n",
              "│ DL      ┆ 115.037619        │\n",
              "│ F9      ┆ 130.735121        │\n",
              "│ …       ┆ …                 │\n",
              "│ AA      ┆ 136.295891        │\n",
              "│ B6      ┆ 143.185472        │\n",
              "│ AS      ┆ 158.042161        │\n",
              "│ VX      ┆ 180.665156        │\n",
              "│ WN      ┆ 102.733758        │\n",
              "└─────────┴───────────────────┘"
            ],
            "text/html": [
              "<div><style>\n",
              ".dataframe > thead > tr,\n",
              ".dataframe > tbody > tr {\n",
              "  text-align: right;\n",
              "  white-space: pre-wrap;\n",
              "}\n",
              "</style>\n",
              "<small>shape: (13, 2)</small><table border=\"1\" class=\"dataframe\"><thead><tr><th>AIRLINE</th><th>media_tiempo_aire</th></tr><tr><td>str</td><td>f64</td></tr></thead><tbody><tr><td>&quot;HA&quot;</td><td>85.561475</td></tr><tr><td>&quot;NK&quot;</td><td>132.105457</td></tr><tr><td>&quot;MQ&quot;</td><td>64.836925</td></tr><tr><td>&quot;DL&quot;</td><td>115.037619</td></tr><tr><td>&quot;F9&quot;</td><td>130.735121</td></tr><tr><td>&hellip;</td><td>&hellip;</td></tr><tr><td>&quot;AA&quot;</td><td>136.295891</td></tr><tr><td>&quot;B6&quot;</td><td>143.185472</td></tr><tr><td>&quot;AS&quot;</td><td>158.042161</td></tr><tr><td>&quot;VX&quot;</td><td>180.665156</td></tr><tr><td>&quot;WN&quot;</td><td>102.733758</td></tr></tbody></table></div>"
            ]
          },
          "metadata": {},
          "execution_count": 4
        }
      ]
    },
    {
      "cell_type": "markdown",
      "source": [
        "### streaming esta soportado para las siguientes operaciones:\n",
        "##filter, head, tail\n",
        "##with_columns,select\n",
        "##group_by,join\n",
        "##unique, sort\n",
        "##explode\n",
        "##scan_csv, scan_parquet"
      ],
      "metadata": {
        "id": "e56_JAj0MfPK"
      }
    },
    {
      "cell_type": "code",
      "source": [
        "print(query.explain(streaming=True))  ## detalla las operaciones en modo streaming"
      ],
      "metadata": {
        "colab": {
          "base_uri": "https://localhost:8080/"
        },
        "id": "zvqttpAoNA02",
        "outputId": "d571f047-11a3-4711-c02b-8d088e575dbd"
      },
      "execution_count": 6,
      "outputs": [
        {
          "output_type": "stream",
          "name": "stdout",
          "text": [
            "STREAMING:\n",
            "  AGGREGATE\n",
            "  \t[col(\"AIR_TIME\").mean().alias(\"media_tiempo_aire\")] BY [col(\"AIRLINE\")] FROM\n",
            "    Parquet SCAN [/content/vuelos.parquet]\n",
            "    PROJECT 3/31 COLUMNS\n",
            "    SELECTION: [(col(\"MONTH\")) > (6)]\n"
          ]
        }
      ]
    },
    {
      "cell_type": "code",
      "source": [
        "query_2 = (\n",
        "    pl.scan_parquet('/content/vuelos.parquet')\n",
        "    .with_columns(\n",
        "        pl.col('AIR_TIME').mean().over('AIR_TIME')\n",
        "    )\n",
        ")"
      ],
      "metadata": {
        "id": "wiFqCwRTNU7H"
      },
      "execution_count": 7,
      "outputs": []
    },
    {
      "cell_type": "code",
      "source": [
        "print(query_2.explain(streaming=True))"
      ],
      "metadata": {
        "colab": {
          "base_uri": "https://localhost:8080/"
        },
        "id": "AZDdY0v8N8B1",
        "outputId": "f52c0f75-0ba5-4571-86d6-51dc241aa81b"
      },
      "execution_count": 8,
      "outputs": [
        {
          "output_type": "stream",
          "name": "stdout",
          "text": [
            " WITH_COLUMNS:\n",
            " [col(\"AIR_TIME\").mean().over([col(\"AIR_TIME\")])] \n",
            "  STREAMING:\n",
            "    Parquet SCAN [/content/vuelos.parquet]\n",
            "    PROJECT */31 COLUMNS\n"
          ]
        }
      ]
    }
  ]
}