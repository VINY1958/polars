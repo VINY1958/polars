{
  "cells": [
    {
      "cell_type": "markdown",
      "id": "5859f678-c325-4f2c-98f6-9c9673965f6e",
      "metadata": {
        "id": "5859f678-c325-4f2c-98f6-9c9673965f6e"
      },
      "source": [
        "# Lectura 24: DataFrame - GroupBy"
      ]
    },
    {
      "cell_type": "code",
      "source": [
        "from google.colab import drive\n",
        "drive.mount('/content/drive')"
      ],
      "metadata": {
        "colab": {
          "base_uri": "https://localhost:8080/"
        },
        "id": "VbJBGvkrpmbh",
        "outputId": "6e01e492-124b-4d81-8c68-c32a7db5d3ae"
      },
      "id": "VbJBGvkrpmbh",
      "execution_count": 2,
      "outputs": [
        {
          "output_type": "stream",
          "name": "stdout",
          "text": [
            "Mounted at /content/drive\n"
          ]
        }
      ]
    },
    {
      "cell_type": "code",
      "execution_count": 11,
      "id": "8fe740f7-4283-46df-8e0d-cdf8b4c7b772",
      "metadata": {
        "tags": [],
        "colab": {
          "base_uri": "https://localhost:8080/",
          "height": 463
        },
        "id": "8fe740f7-4283-46df-8e0d-cdf8b4c7b772",
        "outputId": "89e6d317-2f55-45d8-b95a-4799649a45ee"
      },
      "outputs": [
        {
          "output_type": "display_data",
          "data": {
            "text/plain": [
              "shape: (5_819_079, 31)\n",
              "┌──────┬───────┬─────┬─────────────┬───┬──────────────┬──────────────┬──────────────┬──────────────┐\n",
              "│ YEAR ┆ MONTH ┆ DAY ┆ DAY_OF_WEEK ┆ … ┆ SECURITY_DEL ┆ AIRLINE_DELA ┆ LATE_AIRCRAF ┆ WEATHER_DELA │\n",
              "│ ---  ┆ ---   ┆ --- ┆ ---         ┆   ┆ AY           ┆ Y            ┆ T_DELAY      ┆ Y            │\n",
              "│ i32  ┆ i32   ┆ i32 ┆ i32         ┆   ┆ ---          ┆ ---          ┆ ---          ┆ ---          │\n",
              "│      ┆       ┆     ┆             ┆   ┆ i32          ┆ i32          ┆ i32          ┆ i32          │\n",
              "╞══════╪═══════╪═════╪═════════════╪═══╪══════════════╪══════════════╪══════════════╪══════════════╡\n",
              "│ 2015 ┆ 1     ┆ 1   ┆ 4           ┆ … ┆ null         ┆ null         ┆ null         ┆ null         │\n",
              "│ 2015 ┆ 1     ┆ 1   ┆ 4           ┆ … ┆ null         ┆ null         ┆ null         ┆ null         │\n",
              "│ 2015 ┆ 1     ┆ 1   ┆ 4           ┆ … ┆ null         ┆ null         ┆ null         ┆ null         │\n",
              "│ 2015 ┆ 1     ┆ 1   ┆ 4           ┆ … ┆ null         ┆ null         ┆ null         ┆ null         │\n",
              "│ 2015 ┆ 1     ┆ 1   ┆ 4           ┆ … ┆ null         ┆ null         ┆ null         ┆ null         │\n",
              "│ …    ┆ …     ┆ …   ┆ …           ┆ … ┆ …            ┆ …            ┆ …            ┆ …            │\n",
              "│ 2015 ┆ 12    ┆ 31  ┆ 4           ┆ … ┆ null         ┆ null         ┆ null         ┆ null         │\n",
              "│ 2015 ┆ 12    ┆ 31  ┆ 4           ┆ … ┆ null         ┆ null         ┆ null         ┆ null         │\n",
              "│ 2015 ┆ 12    ┆ 31  ┆ 4           ┆ … ┆ null         ┆ null         ┆ null         ┆ null         │\n",
              "│ 2015 ┆ 12    ┆ 31  ┆ 4           ┆ … ┆ null         ┆ null         ┆ null         ┆ null         │\n",
              "│ 2015 ┆ 12    ┆ 31  ┆ 4           ┆ … ┆ null         ┆ null         ┆ null         ┆ null         │\n",
              "└──────┴───────┴─────┴─────────────┴───┴──────────────┴──────────────┴──────────────┴──────────────┘"
            ],
            "text/html": [
              "<div><style>\n",
              ".dataframe > thead > tr,\n",
              ".dataframe > tbody > tr {\n",
              "  text-align: right;\n",
              "  white-space: pre-wrap;\n",
              "}\n",
              "</style>\n",
              "<small>shape: (5_819_079, 31)</small><table border=\"1\" class=\"dataframe\"><thead><tr><th>YEAR</th><th>MONTH</th><th>DAY</th><th>DAY_OF_WEEK</th><th>AIRLINE</th><th>FLIGHT_NUMBER</th><th>TAIL_NUMBER</th><th>ORIGIN_AIRPORT</th><th>DESTINATION_AIRPORT</th><th>SCHEDULED_DEPARTURE</th><th>DEPARTURE_TIME</th><th>DEPARTURE_DELAY</th><th>TAXI_OUT</th><th>WHEELS_OFF</th><th>SCHEDULED_TIME</th><th>ELAPSED_TIME</th><th>AIR_TIME</th><th>DISTANCE</th><th>WHEELS_ON</th><th>TAXI_IN</th><th>SCHEDULED_ARRIVAL</th><th>ARRIVAL_TIME</th><th>ARRIVAL_DELAY</th><th>DIVERTED</th><th>CANCELLED</th><th>CANCELLATION_REASON</th><th>AIR_SYSTEM_DELAY</th><th>SECURITY_DELAY</th><th>AIRLINE_DELAY</th><th>LATE_AIRCRAFT_DELAY</th><th>WEATHER_DELAY</th></tr><tr><td>i32</td><td>i32</td><td>i32</td><td>i32</td><td>str</td><td>i32</td><td>str</td><td>str</td><td>str</td><td>i32</td><td>i32</td><td>i32</td><td>i32</td><td>i32</td><td>i32</td><td>i32</td><td>i32</td><td>i32</td><td>i32</td><td>i32</td><td>i32</td><td>i32</td><td>i32</td><td>i32</td><td>i32</td><td>str</td><td>i32</td><td>i32</td><td>i32</td><td>i32</td><td>i32</td></tr></thead><tbody><tr><td>2015</td><td>1</td><td>1</td><td>4</td><td>&quot;AS&quot;</td><td>98</td><td>&quot;N407AS&quot;</td><td>&quot;ANC&quot;</td><td>&quot;SEA&quot;</td><td>5</td><td>2354</td><td>-11</td><td>21</td><td>15</td><td>205</td><td>194</td><td>169</td><td>1448</td><td>404</td><td>4</td><td>430</td><td>408</td><td>-22</td><td>0</td><td>0</td><td>null</td><td>null</td><td>null</td><td>null</td><td>null</td><td>null</td></tr><tr><td>2015</td><td>1</td><td>1</td><td>4</td><td>&quot;AA&quot;</td><td>2336</td><td>&quot;N3KUAA&quot;</td><td>&quot;LAX&quot;</td><td>&quot;PBI&quot;</td><td>10</td><td>2</td><td>-8</td><td>12</td><td>14</td><td>280</td><td>279</td><td>263</td><td>2330</td><td>737</td><td>4</td><td>750</td><td>741</td><td>-9</td><td>0</td><td>0</td><td>null</td><td>null</td><td>null</td><td>null</td><td>null</td><td>null</td></tr><tr><td>2015</td><td>1</td><td>1</td><td>4</td><td>&quot;US&quot;</td><td>840</td><td>&quot;N171US&quot;</td><td>&quot;SFO&quot;</td><td>&quot;CLT&quot;</td><td>20</td><td>18</td><td>-2</td><td>16</td><td>34</td><td>286</td><td>293</td><td>266</td><td>2296</td><td>800</td><td>11</td><td>806</td><td>811</td><td>5</td><td>0</td><td>0</td><td>null</td><td>null</td><td>null</td><td>null</td><td>null</td><td>null</td></tr><tr><td>2015</td><td>1</td><td>1</td><td>4</td><td>&quot;AA&quot;</td><td>258</td><td>&quot;N3HYAA&quot;</td><td>&quot;LAX&quot;</td><td>&quot;MIA&quot;</td><td>20</td><td>15</td><td>-5</td><td>15</td><td>30</td><td>285</td><td>281</td><td>258</td><td>2342</td><td>748</td><td>8</td><td>805</td><td>756</td><td>-9</td><td>0</td><td>0</td><td>null</td><td>null</td><td>null</td><td>null</td><td>null</td><td>null</td></tr><tr><td>2015</td><td>1</td><td>1</td><td>4</td><td>&quot;AS&quot;</td><td>135</td><td>&quot;N527AS&quot;</td><td>&quot;SEA&quot;</td><td>&quot;ANC&quot;</td><td>25</td><td>24</td><td>-1</td><td>11</td><td>35</td><td>235</td><td>215</td><td>199</td><td>1448</td><td>254</td><td>5</td><td>320</td><td>259</td><td>-21</td><td>0</td><td>0</td><td>null</td><td>null</td><td>null</td><td>null</td><td>null</td><td>null</td></tr><tr><td>&hellip;</td><td>&hellip;</td><td>&hellip;</td><td>&hellip;</td><td>&hellip;</td><td>&hellip;</td><td>&hellip;</td><td>&hellip;</td><td>&hellip;</td><td>&hellip;</td><td>&hellip;</td><td>&hellip;</td><td>&hellip;</td><td>&hellip;</td><td>&hellip;</td><td>&hellip;</td><td>&hellip;</td><td>&hellip;</td><td>&hellip;</td><td>&hellip;</td><td>&hellip;</td><td>&hellip;</td><td>&hellip;</td><td>&hellip;</td><td>&hellip;</td><td>&hellip;</td><td>&hellip;</td><td>&hellip;</td><td>&hellip;</td><td>&hellip;</td><td>&hellip;</td></tr><tr><td>2015</td><td>12</td><td>31</td><td>4</td><td>&quot;B6&quot;</td><td>688</td><td>&quot;N657JB&quot;</td><td>&quot;LAX&quot;</td><td>&quot;BOS&quot;</td><td>2359</td><td>2355</td><td>-4</td><td>22</td><td>17</td><td>320</td><td>298</td><td>272</td><td>2611</td><td>749</td><td>4</td><td>819</td><td>753</td><td>-26</td><td>0</td><td>0</td><td>null</td><td>null</td><td>null</td><td>null</td><td>null</td><td>null</td></tr><tr><td>2015</td><td>12</td><td>31</td><td>4</td><td>&quot;B6&quot;</td><td>745</td><td>&quot;N828JB&quot;</td><td>&quot;JFK&quot;</td><td>&quot;PSE&quot;</td><td>2359</td><td>2355</td><td>-4</td><td>17</td><td>12</td><td>227</td><td>215</td><td>195</td><td>1617</td><td>427</td><td>3</td><td>446</td><td>430</td><td>-16</td><td>0</td><td>0</td><td>null</td><td>null</td><td>null</td><td>null</td><td>null</td><td>null</td></tr><tr><td>2015</td><td>12</td><td>31</td><td>4</td><td>&quot;B6&quot;</td><td>1503</td><td>&quot;N913JB&quot;</td><td>&quot;JFK&quot;</td><td>&quot;SJU&quot;</td><td>2359</td><td>2350</td><td>-9</td><td>17</td><td>7</td><td>221</td><td>222</td><td>197</td><td>1598</td><td>424</td><td>8</td><td>440</td><td>432</td><td>-8</td><td>0</td><td>0</td><td>null</td><td>null</td><td>null</td><td>null</td><td>null</td><td>null</td></tr><tr><td>2015</td><td>12</td><td>31</td><td>4</td><td>&quot;B6&quot;</td><td>333</td><td>&quot;N527JB&quot;</td><td>&quot;MCO&quot;</td><td>&quot;SJU&quot;</td><td>2359</td><td>2353</td><td>-6</td><td>10</td><td>3</td><td>161</td><td>157</td><td>144</td><td>1189</td><td>327</td><td>3</td><td>340</td><td>330</td><td>-10</td><td>0</td><td>0</td><td>null</td><td>null</td><td>null</td><td>null</td><td>null</td><td>null</td></tr><tr><td>2015</td><td>12</td><td>31</td><td>4</td><td>&quot;B6&quot;</td><td>839</td><td>&quot;N534JB&quot;</td><td>&quot;JFK&quot;</td><td>&quot;BQN&quot;</td><td>2359</td><td>14</td><td>15</td><td>14</td><td>28</td><td>221</td><td>208</td><td>189</td><td>1576</td><td>437</td><td>5</td><td>440</td><td>442</td><td>2</td><td>0</td><td>0</td><td>null</td><td>null</td><td>null</td><td>null</td><td>null</td><td>null</td></tr></tbody></table></div>"
            ]
          },
          "metadata": {}
        }
      ],
      "source": [
        "import polars as pl\n",
        "\n",
        "vuelos = pl.read_parquet('/content/drive/MyDrive/polars/seccion04/data_l24/vuelos.parquet', use_pyarrow=True) ## archivo .parquet use parametro use_pyarrow\n",
        "\n",
        "display(vuelos) ## retraso de vuelo en e año 2015"
      ]
    },
    {
      "cell_type": "code",
      "source": [
        "vuelos.schema"
      ],
      "metadata": {
        "colab": {
          "base_uri": "https://localhost:8080/"
        },
        "id": "7rCJ_xBjp-JA",
        "outputId": "96ae9741-55ce-4318-ec3c-e77bb168f6a7"
      },
      "id": "7rCJ_xBjp-JA",
      "execution_count": 5,
      "outputs": [
        {
          "output_type": "execute_result",
          "data": {
            "text/plain": [
              "Schema([('YEAR', Int32),\n",
              "        ('MONTH', Int32),\n",
              "        ('DAY', Int32),\n",
              "        ('DAY_OF_WEEK', Int32),\n",
              "        ('AIRLINE', String),\n",
              "        ('FLIGHT_NUMBER', Int32),\n",
              "        ('TAIL_NUMBER', String),\n",
              "        ('ORIGIN_AIRPORT', String),\n",
              "        ('DESTINATION_AIRPORT', String),\n",
              "        ('SCHEDULED_DEPARTURE', Int32),\n",
              "        ('DEPARTURE_TIME', Int32),\n",
              "        ('DEPARTURE_DELAY', Int32),\n",
              "        ('TAXI_OUT', Int32),\n",
              "        ('WHEELS_OFF', Int32),\n",
              "        ('SCHEDULED_TIME', Int32),\n",
              "        ('ELAPSED_TIME', Int32),\n",
              "        ('AIR_TIME', Int32),\n",
              "        ('DISTANCE', Int32),\n",
              "        ('WHEELS_ON', Int32),\n",
              "        ('TAXI_IN', Int32),\n",
              "        ('SCHEDULED_ARRIVAL', Int32),\n",
              "        ('ARRIVAL_TIME', Int32),\n",
              "        ('ARRIVAL_DELAY', Int32),\n",
              "        ('DIVERTED', Int32),\n",
              "        ('CANCELLED', Int32),\n",
              "        ('CANCELLATION_REASON', String),\n",
              "        ('AIR_SYSTEM_DELAY', Int32),\n",
              "        ('SECURITY_DELAY', Int32),\n",
              "        ('AIRLINE_DELAY', Int32),\n",
              "        ('LATE_AIRCRAFT_DELAY', Int32),\n",
              "        ('WEATHER_DELAY', Int32)])"
            ]
          },
          "metadata": {},
          "execution_count": 5
        }
      ]
    },
    {
      "cell_type": "code",
      "source": [
        "vuelos['AIRLINE'].value_counts()"
      ],
      "metadata": {
        "colab": {
          "base_uri": "https://localhost:8080/",
          "height": 443
        },
        "id": "gUTc4q_XqKSq",
        "outputId": "6c7bf2f5-1367-4fad-db5d-b1756b99c927"
      },
      "id": "gUTc4q_XqKSq",
      "execution_count": 8,
      "outputs": [
        {
          "output_type": "execute_result",
          "data": {
            "text/plain": [
              "shape: (14, 2)\n",
              "┌─────────┬─────────┐\n",
              "│ AIRLINE ┆ count   │\n",
              "│ ---     ┆ ---     │\n",
              "│ str     ┆ u32     │\n",
              "╞═════════╪═════════╡\n",
              "│ MQ      ┆ 294632  │\n",
              "│ VX      ┆ 61903   │\n",
              "│ NK      ┆ 117379  │\n",
              "│ HA      ┆ 76272   │\n",
              "│ F9      ┆ 90836   │\n",
              "│ …       ┆ …       │\n",
              "│ AA      ┆ 725984  │\n",
              "│ UA      ┆ 515723  │\n",
              "│ WN      ┆ 1261855 │\n",
              "│ AS      ┆ 172521  │\n",
              "│ B6      ┆ 267048  │\n",
              "└─────────┴─────────┘"
            ],
            "text/html": [
              "<div><style>\n",
              ".dataframe > thead > tr,\n",
              ".dataframe > tbody > tr {\n",
              "  text-align: right;\n",
              "  white-space: pre-wrap;\n",
              "}\n",
              "</style>\n",
              "<small>shape: (14, 2)</small><table border=\"1\" class=\"dataframe\"><thead><tr><th>AIRLINE</th><th>count</th></tr><tr><td>str</td><td>u32</td></tr></thead><tbody><tr><td>&quot;MQ&quot;</td><td>294632</td></tr><tr><td>&quot;VX&quot;</td><td>61903</td></tr><tr><td>&quot;NK&quot;</td><td>117379</td></tr><tr><td>&quot;HA&quot;</td><td>76272</td></tr><tr><td>&quot;F9&quot;</td><td>90836</td></tr><tr><td>&hellip;</td><td>&hellip;</td></tr><tr><td>&quot;AA&quot;</td><td>725984</td></tr><tr><td>&quot;UA&quot;</td><td>515723</td></tr><tr><td>&quot;WN&quot;</td><td>1261855</td></tr><tr><td>&quot;AS&quot;</td><td>172521</td></tr><tr><td>&quot;B6&quot;</td><td>267048</td></tr></tbody></table></div>"
            ]
          },
          "metadata": {},
          "execution_count": 8
        }
      ]
    },
    {
      "cell_type": "code",
      "source": [
        "vuelos['AIRLINE'].value_counts().count()"
      ],
      "metadata": {
        "colab": {
          "base_uri": "https://localhost:8080/",
          "height": 129
        },
        "id": "vuL0khp0qldu",
        "outputId": "6daa1e08-a346-48be-c1d4-de3839f53d84"
      },
      "id": "vuL0khp0qldu",
      "execution_count": 9,
      "outputs": [
        {
          "output_type": "execute_result",
          "data": {
            "text/plain": [
              "shape: (1, 2)\n",
              "┌─────────┬───────┐\n",
              "│ AIRLINE ┆ count │\n",
              "│ ---     ┆ ---   │\n",
              "│ u32     ┆ u32   │\n",
              "╞═════════╪═══════╡\n",
              "│ 14      ┆ 14    │\n",
              "└─────────┴───────┘"
            ],
            "text/html": [
              "<div><style>\n",
              ".dataframe > thead > tr,\n",
              ".dataframe > tbody > tr {\n",
              "  text-align: right;\n",
              "  white-space: pre-wrap;\n",
              "}\n",
              "</style>\n",
              "<small>shape: (1, 2)</small><table border=\"1\" class=\"dataframe\"><thead><tr><th>AIRLINE</th><th>count</th></tr><tr><td>u32</td><td>u32</td></tr></thead><tbody><tr><td>14</td><td>14</td></tr></tbody></table></div>"
            ]
          },
          "metadata": {},
          "execution_count": 9
        }
      ]
    },
    {
      "cell_type": "markdown",
      "id": "bc8672b3-d275-4984-b9fd-d4ff5197c8ac",
      "metadata": {
        "id": "bc8672b3-d275-4984-b9fd-d4ff5197c8ac"
      },
      "source": [
        "### Iterar sobre los grupos luego de un `group_by`"
      ]
    },
    {
      "cell_type": "markdown",
      "id": "d092ffa4-ac2d-4712-adac-8f7cd7f7b6dc",
      "metadata": {
        "id": "d092ffa4-ac2d-4712-adac-8f7cd7f7b6dc"
      },
      "source": [
        "Cuando agrupamos podemos iterar sobre los grupos generados. Cada grupo es representado por una tupla del tipo (nombre, datos)."
      ]
    },
    {
      "cell_type": "markdown",
      "source": [
        "## obtenemos un dataframe de cada una de las aerolineas"
      ],
      "metadata": {
        "id": "xQHieX7xrWU0"
      },
      "id": "xQHieX7xrWU0"
    },
    {
      "cell_type": "code",
      "execution_count": 12,
      "id": "1db58d15-6f3e-4493-bd57-8b9854205c27",
      "metadata": {
        "tags": [],
        "colab": {
          "base_uri": "https://localhost:8080/"
        },
        "id": "1db58d15-6f3e-4493-bd57-8b9854205c27",
        "outputId": "df035e88-c9b7-4793-a468-1e94f065e675"
      },
      "outputs": [
        {
          "output_type": "stream",
          "name": "stdout",
          "text": [
            "('B6',)\n",
            "shape: (267_048, 31)\n",
            "┌──────┬───────┬─────┬─────────────┬───┬──────────────┬──────────────┬──────────────┬──────────────┐\n",
            "│ YEAR ┆ MONTH ┆ DAY ┆ DAY_OF_WEEK ┆ … ┆ SECURITY_DEL ┆ AIRLINE_DELA ┆ LATE_AIRCRAF ┆ WEATHER_DELA │\n",
            "│ ---  ┆ ---   ┆ --- ┆ ---         ┆   ┆ AY           ┆ Y            ┆ T_DELAY      ┆ Y            │\n",
            "│ i32  ┆ i32   ┆ i32 ┆ i32         ┆   ┆ ---          ┆ ---          ┆ ---          ┆ ---          │\n",
            "│      ┆       ┆     ┆             ┆   ┆ i32          ┆ i32          ┆ i32          ┆ i32          │\n",
            "╞══════╪═══════╪═════╪═════════════╪═══╪══════════════╪══════════════╪══════════════╪══════════════╡\n",
            "│ 2015 ┆ 1     ┆ 1   ┆ 4           ┆ … ┆ null         ┆ null         ┆ null         ┆ null         │\n",
            "│ 2015 ┆ 1     ┆ 1   ┆ 4           ┆ … ┆ null         ┆ null         ┆ null         ┆ null         │\n",
            "│ 2015 ┆ 1     ┆ 1   ┆ 4           ┆ … ┆ null         ┆ null         ┆ null         ┆ null         │\n",
            "│ 2015 ┆ 1     ┆ 1   ┆ 4           ┆ … ┆ 0            ┆ 0            ┆ 0            ┆ 0            │\n",
            "│ 2015 ┆ 1     ┆ 1   ┆ 4           ┆ … ┆ null         ┆ null         ┆ null         ┆ null         │\n",
            "│ …    ┆ …     ┆ …   ┆ …           ┆ … ┆ …            ┆ …            ┆ …            ┆ …            │\n",
            "│ 2015 ┆ 12    ┆ 31  ┆ 4           ┆ … ┆ null         ┆ null         ┆ null         ┆ null         │\n",
            "│ 2015 ┆ 12    ┆ 31  ┆ 4           ┆ … ┆ null         ┆ null         ┆ null         ┆ null         │\n",
            "│ 2015 ┆ 12    ┆ 31  ┆ 4           ┆ … ┆ null         ┆ null         ┆ null         ┆ null         │\n",
            "│ 2015 ┆ 12    ┆ 31  ┆ 4           ┆ … ┆ null         ┆ null         ┆ null         ┆ null         │\n",
            "│ 2015 ┆ 12    ┆ 31  ┆ 4           ┆ … ┆ null         ┆ null         ┆ null         ┆ null         │\n",
            "└──────┴───────┴─────┴─────────────┴───┴──────────────┴──────────────┴──────────────┴──────────────┘\n",
            "('US',)\n",
            "shape: (198_715, 31)\n",
            "┌──────┬───────┬─────┬─────────────┬───┬──────────────┬──────────────┬──────────────┬──────────────┐\n",
            "│ YEAR ┆ MONTH ┆ DAY ┆ DAY_OF_WEEK ┆ … ┆ SECURITY_DEL ┆ AIRLINE_DELA ┆ LATE_AIRCRAF ┆ WEATHER_DELA │\n",
            "│ ---  ┆ ---   ┆ --- ┆ ---         ┆   ┆ AY           ┆ Y            ┆ T_DELAY      ┆ Y            │\n",
            "│ i32  ┆ i32   ┆ i32 ┆ i32         ┆   ┆ ---          ┆ ---          ┆ ---          ┆ ---          │\n",
            "│      ┆       ┆     ┆             ┆   ┆ i32          ┆ i32          ┆ i32          ┆ i32          │\n",
            "╞══════╪═══════╪═════╪═════════════╪═══╪══════════════╪══════════════╪══════════════╪══════════════╡\n",
            "│ 2015 ┆ 1     ┆ 1   ┆ 4           ┆ … ┆ null         ┆ null         ┆ null         ┆ null         │\n",
            "│ 2015 ┆ 1     ┆ 1   ┆ 4           ┆ … ┆ null         ┆ null         ┆ null         ┆ null         │\n",
            "│ 2015 ┆ 1     ┆ 1   ┆ 4           ┆ … ┆ null         ┆ null         ┆ null         ┆ null         │\n",
            "│ 2015 ┆ 1     ┆ 1   ┆ 4           ┆ … ┆ null         ┆ null         ┆ null         ┆ null         │\n",
            "│ 2015 ┆ 1     ┆ 1   ┆ 4           ┆ … ┆ null         ┆ null         ┆ null         ┆ null         │\n",
            "│ …    ┆ …     ┆ …   ┆ …           ┆ … ┆ …            ┆ …            ┆ …            ┆ …            │\n",
            "│ 2015 ┆ 6     ┆ 30  ┆ 2           ┆ … ┆ null         ┆ null         ┆ null         ┆ null         │\n",
            "│ 2015 ┆ 6     ┆ 30  ┆ 2           ┆ … ┆ 0            ┆ 12           ┆ 0            ┆ 0            │\n",
            "│ 2015 ┆ 6     ┆ 30  ┆ 2           ┆ … ┆ null         ┆ null         ┆ null         ┆ null         │\n",
            "│ 2015 ┆ 6     ┆ 30  ┆ 2           ┆ … ┆ 0            ┆ 3            ┆ 6            ┆ 0            │\n",
            "│ 2015 ┆ 6     ┆ 30  ┆ 2           ┆ … ┆ 0            ┆ 7            ┆ 0            ┆ 0            │\n",
            "└──────┴───────┴─────┴─────────────┴───┴──────────────┴──────────────┴──────────────┴──────────────┘\n",
            "('MQ',)\n",
            "shape: (294_632, 31)\n",
            "┌──────┬───────┬─────┬─────────────┬───┬──────────────┬──────────────┬──────────────┬──────────────┐\n",
            "│ YEAR ┆ MONTH ┆ DAY ┆ DAY_OF_WEEK ┆ … ┆ SECURITY_DEL ┆ AIRLINE_DELA ┆ LATE_AIRCRAF ┆ WEATHER_DELA │\n",
            "│ ---  ┆ ---   ┆ --- ┆ ---         ┆   ┆ AY           ┆ Y            ┆ T_DELAY      ┆ Y            │\n",
            "│ i32  ┆ i32   ┆ i32 ┆ i32         ┆   ┆ ---          ┆ ---          ┆ ---          ┆ ---          │\n",
            "│      ┆       ┆     ┆             ┆   ┆ i32          ┆ i32          ┆ i32          ┆ i32          │\n",
            "╞══════╪═══════╪═════╪═════════════╪═══╪══════════════╪══════════════╪══════════════╪══════════════╡\n",
            "│ 2015 ┆ 1     ┆ 1   ┆ 4           ┆ … ┆ null         ┆ null         ┆ null         ┆ null         │\n",
            "│ 2015 ┆ 1     ┆ 1   ┆ 4           ┆ … ┆ null         ┆ null         ┆ null         ┆ null         │\n",
            "│ 2015 ┆ 1     ┆ 1   ┆ 4           ┆ … ┆ null         ┆ null         ┆ null         ┆ null         │\n",
            "│ 2015 ┆ 1     ┆ 1   ┆ 4           ┆ … ┆ null         ┆ null         ┆ null         ┆ null         │\n",
            "│ 2015 ┆ 1     ┆ 1   ┆ 4           ┆ … ┆ null         ┆ null         ┆ null         ┆ null         │\n",
            "│ …    ┆ …     ┆ …   ┆ …           ┆ … ┆ …            ┆ …            ┆ …            ┆ …            │\n",
            "│ 2015 ┆ 12    ┆ 31  ┆ 4           ┆ … ┆ null         ┆ null         ┆ null         ┆ null         │\n",
            "│ 2015 ┆ 12    ┆ 31  ┆ 4           ┆ … ┆ null         ┆ null         ┆ null         ┆ null         │\n",
            "│ 2015 ┆ 12    ┆ 31  ┆ 4           ┆ … ┆ 0            ┆ 18           ┆ 0            ┆ 0            │\n",
            "│ 2015 ┆ 12    ┆ 31  ┆ 4           ┆ … ┆ null         ┆ null         ┆ null         ┆ null         │\n",
            "│ 2015 ┆ 12    ┆ 31  ┆ 4           ┆ … ┆ 0            ┆ 0            ┆ 31           ┆ 0            │\n",
            "└──────┴───────┴─────┴─────────────┴───┴──────────────┴──────────────┴──────────────┴──────────────┘\n",
            "('HA',)\n",
            "shape: (76_272, 31)\n",
            "┌──────┬───────┬─────┬─────────────┬───┬──────────────┬──────────────┬──────────────┬──────────────┐\n",
            "│ YEAR ┆ MONTH ┆ DAY ┆ DAY_OF_WEEK ┆ … ┆ SECURITY_DEL ┆ AIRLINE_DELA ┆ LATE_AIRCRAF ┆ WEATHER_DELA │\n",
            "│ ---  ┆ ---   ┆ --- ┆ ---         ┆   ┆ AY           ┆ Y            ┆ T_DELAY      ┆ Y            │\n",
            "│ i32  ┆ i32   ┆ i32 ┆ i32         ┆   ┆ ---          ┆ ---          ┆ ---          ┆ ---          │\n",
            "│      ┆       ┆     ┆             ┆   ┆ i32          ┆ i32          ┆ i32          ┆ i32          │\n",
            "╞══════╪═══════╪═════╪═════════════╪═══╪══════════════╪══════════════╪══════════════╪══════════════╡\n",
            "│ 2015 ┆ 1     ┆ 1   ┆ 4           ┆ … ┆ 0            ┆ 15           ┆ 0            ┆ 0            │\n",
            "│ 2015 ┆ 1     ┆ 1   ┆ 4           ┆ … ┆ null         ┆ null         ┆ null         ┆ null         │\n",
            "│ 2015 ┆ 1     ┆ 1   ┆ 4           ┆ … ┆ null         ┆ null         ┆ null         ┆ null         │\n",
            "│ 2015 ┆ 1     ┆ 1   ┆ 4           ┆ … ┆ null         ┆ null         ┆ null         ┆ null         │\n",
            "│ 2015 ┆ 1     ┆ 1   ┆ 4           ┆ … ┆ null         ┆ null         ┆ null         ┆ null         │\n",
            "│ …    ┆ …     ┆ …   ┆ …           ┆ … ┆ …            ┆ …            ┆ …            ┆ …            │\n",
            "│ 2015 ┆ 12    ┆ 31  ┆ 4           ┆ … ┆ null         ┆ null         ┆ null         ┆ null         │\n",
            "│ 2015 ┆ 12    ┆ 31  ┆ 4           ┆ … ┆ null         ┆ null         ┆ null         ┆ null         │\n",
            "│ 2015 ┆ 12    ┆ 31  ┆ 4           ┆ … ┆ null         ┆ null         ┆ null         ┆ null         │\n",
            "│ 2015 ┆ 12    ┆ 31  ┆ 4           ┆ … ┆ null         ┆ null         ┆ null         ┆ null         │\n",
            "│ 2015 ┆ 12    ┆ 31  ┆ 4           ┆ … ┆ null         ┆ null         ┆ null         ┆ null         │\n",
            "└──────┴───────┴─────┴─────────────┴───┴──────────────┴──────────────┴──────────────┴──────────────┘\n",
            "('UA',)\n",
            "shape: (515_723, 31)\n",
            "┌──────┬───────┬─────┬─────────────┬───┬──────────────┬──────────────┬──────────────┬──────────────┐\n",
            "│ YEAR ┆ MONTH ┆ DAY ┆ DAY_OF_WEEK ┆ … ┆ SECURITY_DEL ┆ AIRLINE_DELA ┆ LATE_AIRCRAF ┆ WEATHER_DELA │\n",
            "│ ---  ┆ ---   ┆ --- ┆ ---         ┆   ┆ AY           ┆ Y            ┆ T_DELAY      ┆ Y            │\n",
            "│ i32  ┆ i32   ┆ i32 ┆ i32         ┆   ┆ ---          ┆ ---          ┆ ---          ┆ ---          │\n",
            "│      ┆       ┆     ┆             ┆   ┆ i32          ┆ i32          ┆ i32          ┆ i32          │\n",
            "╞══════╪═══════╪═════╪═════════════╪═══╪══════════════╪══════════════╪══════════════╪══════════════╡\n",
            "│ 2015 ┆ 1     ┆ 1   ┆ 4           ┆ … ┆ null         ┆ null         ┆ null         ┆ null         │\n",
            "│ 2015 ┆ 1     ┆ 1   ┆ 4           ┆ … ┆ null         ┆ null         ┆ null         ┆ null         │\n",
            "│ 2015 ┆ 1     ┆ 1   ┆ 4           ┆ … ┆ null         ┆ null         ┆ null         ┆ null         │\n",
            "│ 2015 ┆ 1     ┆ 1   ┆ 4           ┆ … ┆ null         ┆ null         ┆ null         ┆ null         │\n",
            "│ 2015 ┆ 1     ┆ 1   ┆ 4           ┆ … ┆ null         ┆ null         ┆ null         ┆ null         │\n",
            "│ …    ┆ …     ┆ …   ┆ …           ┆ … ┆ …            ┆ …            ┆ …            ┆ …            │\n",
            "│ 2015 ┆ 12    ┆ 31  ┆ 4           ┆ … ┆ null         ┆ null         ┆ null         ┆ null         │\n",
            "│ 2015 ┆ 12    ┆ 31  ┆ 4           ┆ … ┆ null         ┆ null         ┆ null         ┆ null         │\n",
            "│ 2015 ┆ 12    ┆ 31  ┆ 4           ┆ … ┆ null         ┆ null         ┆ null         ┆ null         │\n",
            "│ 2015 ┆ 12    ┆ 31  ┆ 4           ┆ … ┆ null         ┆ null         ┆ null         ┆ null         │\n",
            "│ 2015 ┆ 12    ┆ 31  ┆ 4           ┆ … ┆ null         ┆ null         ┆ null         ┆ null         │\n",
            "└──────┴───────┴─────┴─────────────┴───┴──────────────┴──────────────┴──────────────┴──────────────┘\n",
            "('OO',)\n",
            "shape: (588_353, 31)\n",
            "┌──────┬───────┬─────┬─────────────┬───┬──────────────┬──────────────┬──────────────┬──────────────┐\n",
            "│ YEAR ┆ MONTH ┆ DAY ┆ DAY_OF_WEEK ┆ … ┆ SECURITY_DEL ┆ AIRLINE_DELA ┆ LATE_AIRCRAF ┆ WEATHER_DELA │\n",
            "│ ---  ┆ ---   ┆ --- ┆ ---         ┆   ┆ AY           ┆ Y            ┆ T_DELAY      ┆ Y            │\n",
            "│ i32  ┆ i32   ┆ i32 ┆ i32         ┆   ┆ ---          ┆ ---          ┆ ---          ┆ ---          │\n",
            "│      ┆       ┆     ┆             ┆   ┆ i32          ┆ i32          ┆ i32          ┆ i32          │\n",
            "╞══════╪═══════╪═════╪═════════════╪═══╪══════════════╪══════════════╪══════════════╪══════════════╡\n",
            "│ 2015 ┆ 1     ┆ 1   ┆ 4           ┆ … ┆ null         ┆ null         ┆ null         ┆ null         │\n",
            "│ 2015 ┆ 1     ┆ 1   ┆ 4           ┆ … ┆ null         ┆ null         ┆ null         ┆ null         │\n",
            "│ 2015 ┆ 1     ┆ 1   ┆ 4           ┆ … ┆ null         ┆ null         ┆ null         ┆ null         │\n",
            "│ 2015 ┆ 1     ┆ 1   ┆ 4           ┆ … ┆ null         ┆ null         ┆ null         ┆ null         │\n",
            "│ 2015 ┆ 1     ┆ 1   ┆ 4           ┆ … ┆ null         ┆ null         ┆ null         ┆ null         │\n",
            "│ …    ┆ …     ┆ …   ┆ …           ┆ … ┆ …            ┆ …            ┆ …            ┆ …            │\n",
            "│ 2015 ┆ 12    ┆ 31  ┆ 4           ┆ … ┆ null         ┆ null         ┆ null         ┆ null         │\n",
            "│ 2015 ┆ 12    ┆ 31  ┆ 4           ┆ … ┆ null         ┆ null         ┆ null         ┆ null         │\n",
            "│ 2015 ┆ 12    ┆ 31  ┆ 4           ┆ … ┆ null         ┆ null         ┆ null         ┆ null         │\n",
            "│ 2015 ┆ 12    ┆ 31  ┆ 4           ┆ … ┆ null         ┆ null         ┆ null         ┆ null         │\n",
            "│ 2015 ┆ 12    ┆ 31  ┆ 4           ┆ … ┆ null         ┆ null         ┆ null         ┆ null         │\n",
            "└──────┴───────┴─────┴─────────────┴───┴──────────────┴──────────────┴──────────────┴──────────────┘\n",
            "('NK',)\n",
            "shape: (117_379, 31)\n",
            "┌──────┬───────┬─────┬─────────────┬───┬──────────────┬──────────────┬──────────────┬──────────────┐\n",
            "│ YEAR ┆ MONTH ┆ DAY ┆ DAY_OF_WEEK ┆ … ┆ SECURITY_DEL ┆ AIRLINE_DELA ┆ LATE_AIRCRAF ┆ WEATHER_DELA │\n",
            "│ ---  ┆ ---   ┆ --- ┆ ---         ┆   ┆ AY           ┆ Y            ┆ T_DELAY      ┆ Y            │\n",
            "│ i32  ┆ i32   ┆ i32 ┆ i32         ┆   ┆ ---          ┆ ---          ┆ ---          ┆ ---          │\n",
            "│      ┆       ┆     ┆             ┆   ┆ i32          ┆ i32          ┆ i32          ┆ i32          │\n",
            "╞══════╪═══════╪═════╪═════════════╪═══╪══════════════╪══════════════╪══════════════╪══════════════╡\n",
            "│ 2015 ┆ 1     ┆ 1   ┆ 4           ┆ … ┆ null         ┆ null         ┆ null         ┆ null         │\n",
            "│ 2015 ┆ 1     ┆ 1   ┆ 4           ┆ … ┆ null         ┆ null         ┆ null         ┆ null         │\n",
            "│ 2015 ┆ 1     ┆ 1   ┆ 4           ┆ … ┆ null         ┆ null         ┆ null         ┆ null         │\n",
            "│ 2015 ┆ 1     ┆ 1   ┆ 4           ┆ … ┆ 0            ┆ 0            ┆ 0            ┆ 0            │\n",
            "│ 2015 ┆ 1     ┆ 1   ┆ 4           ┆ … ┆ 0            ┆ 0            ┆ 0            ┆ 0            │\n",
            "│ …    ┆ …     ┆ …   ┆ …           ┆ … ┆ …            ┆ …            ┆ …            ┆ …            │\n",
            "│ 2015 ┆ 12    ┆ 31  ┆ 4           ┆ … ┆ null         ┆ null         ┆ null         ┆ null         │\n",
            "│ 2015 ┆ 12    ┆ 31  ┆ 4           ┆ … ┆ null         ┆ null         ┆ null         ┆ null         │\n",
            "│ 2015 ┆ 12    ┆ 31  ┆ 4           ┆ … ┆ null         ┆ null         ┆ null         ┆ null         │\n",
            "│ 2015 ┆ 12    ┆ 31  ┆ 4           ┆ … ┆ null         ┆ null         ┆ null         ┆ null         │\n",
            "│ 2015 ┆ 12    ┆ 31  ┆ 4           ┆ … ┆ 0            ┆ 13           ┆ 0            ┆ 0            │\n",
            "└──────┴───────┴─────┴─────────────┴───┴──────────────┴──────────────┴──────────────┴──────────────┘\n",
            "('F9',)\n",
            "shape: (90_836, 31)\n",
            "┌──────┬───────┬─────┬─────────────┬───┬──────────────┬──────────────┬──────────────┬──────────────┐\n",
            "│ YEAR ┆ MONTH ┆ DAY ┆ DAY_OF_WEEK ┆ … ┆ SECURITY_DEL ┆ AIRLINE_DELA ┆ LATE_AIRCRAF ┆ WEATHER_DELA │\n",
            "│ ---  ┆ ---   ┆ --- ┆ ---         ┆   ┆ AY           ┆ Y            ┆ T_DELAY      ┆ Y            │\n",
            "│ i32  ┆ i32   ┆ i32 ┆ i32         ┆   ┆ ---          ┆ ---          ┆ ---          ┆ ---          │\n",
            "│      ┆       ┆     ┆             ┆   ┆ i32          ┆ i32          ┆ i32          ┆ i32          │\n",
            "╞══════╪═══════╪═════╪═════════════╪═══╪══════════════╪══════════════╪══════════════╪══════════════╡\n",
            "│ 2015 ┆ 1     ┆ 1   ┆ 4           ┆ … ┆ null         ┆ null         ┆ null         ┆ null         │\n",
            "│ 2015 ┆ 1     ┆ 1   ┆ 4           ┆ … ┆ null         ┆ null         ┆ null         ┆ null         │\n",
            "│ 2015 ┆ 1     ┆ 1   ┆ 4           ┆ … ┆ 0            ┆ 17           ┆ 0            ┆ 0            │\n",
            "│ 2015 ┆ 1     ┆ 1   ┆ 4           ┆ … ┆ null         ┆ null         ┆ null         ┆ null         │\n",
            "│ 2015 ┆ 1     ┆ 1   ┆ 4           ┆ … ┆ null         ┆ null         ┆ null         ┆ null         │\n",
            "│ …    ┆ …     ┆ …   ┆ …           ┆ … ┆ …            ┆ …            ┆ …            ┆ …            │\n",
            "│ 2015 ┆ 12    ┆ 31  ┆ 4           ┆ … ┆ null         ┆ null         ┆ null         ┆ null         │\n",
            "│ 2015 ┆ 12    ┆ 31  ┆ 4           ┆ … ┆ null         ┆ null         ┆ null         ┆ null         │\n",
            "│ 2015 ┆ 12    ┆ 31  ┆ 4           ┆ … ┆ null         ┆ null         ┆ null         ┆ null         │\n",
            "│ 2015 ┆ 12    ┆ 31  ┆ 4           ┆ … ┆ null         ┆ null         ┆ null         ┆ null         │\n",
            "│ 2015 ┆ 12    ┆ 31  ┆ 4           ┆ … ┆ null         ┆ null         ┆ null         ┆ null         │\n",
            "└──────┴───────┴─────┴─────────────┴───┴──────────────┴──────────────┴──────────────┴──────────────┘\n",
            "('WN',)\n",
            "shape: (1_261_855, 31)\n",
            "┌──────┬───────┬─────┬─────────────┬───┬──────────────┬──────────────┬──────────────┬──────────────┐\n",
            "│ YEAR ┆ MONTH ┆ DAY ┆ DAY_OF_WEEK ┆ … ┆ SECURITY_DEL ┆ AIRLINE_DELA ┆ LATE_AIRCRAF ┆ WEATHER_DELA │\n",
            "│ ---  ┆ ---   ┆ --- ┆ ---         ┆   ┆ AY           ┆ Y            ┆ T_DELAY      ┆ Y            │\n",
            "│ i32  ┆ i32   ┆ i32 ┆ i32         ┆   ┆ ---          ┆ ---          ┆ ---          ┆ ---          │\n",
            "│      ┆       ┆     ┆             ┆   ┆ i32          ┆ i32          ┆ i32          ┆ i32          │\n",
            "╞══════╪═══════╪═════╪═════════════╪═══╪══════════════╪══════════════╪══════════════╪══════════════╡\n",
            "│ 2015 ┆ 1     ┆ 1   ┆ 4           ┆ … ┆ null         ┆ null         ┆ null         ┆ null         │\n",
            "│ 2015 ┆ 1     ┆ 1   ┆ 4           ┆ … ┆ null         ┆ null         ┆ null         ┆ null         │\n",
            "│ 2015 ┆ 1     ┆ 1   ┆ 4           ┆ … ┆ null         ┆ null         ┆ null         ┆ null         │\n",
            "│ 2015 ┆ 1     ┆ 1   ┆ 4           ┆ … ┆ 0            ┆ 7            ┆ 0            ┆ 0            │\n",
            "│ 2015 ┆ 1     ┆ 1   ┆ 4           ┆ … ┆ null         ┆ null         ┆ null         ┆ null         │\n",
            "│ …    ┆ …     ┆ …   ┆ …           ┆ … ┆ …            ┆ …            ┆ …            ┆ …            │\n",
            "│ 2015 ┆ 12    ┆ 31  ┆ 4           ┆ … ┆ null         ┆ null         ┆ null         ┆ null         │\n",
            "│ 2015 ┆ 12    ┆ 31  ┆ 4           ┆ … ┆ null         ┆ null         ┆ null         ┆ null         │\n",
            "│ 2015 ┆ 12    ┆ 31  ┆ 4           ┆ … ┆ null         ┆ null         ┆ null         ┆ null         │\n",
            "│ 2015 ┆ 12    ┆ 31  ┆ 4           ┆ … ┆ null         ┆ null         ┆ null         ┆ null         │\n",
            "│ 2015 ┆ 12    ┆ 31  ┆ 4           ┆ … ┆ null         ┆ null         ┆ null         ┆ null         │\n",
            "└──────┴───────┴─────┴─────────────┴───┴──────────────┴──────────────┴──────────────┴──────────────┘\n",
            "('VX',)\n",
            "shape: (61_903, 31)\n",
            "┌──────┬───────┬─────┬─────────────┬───┬──────────────┬──────────────┬──────────────┬──────────────┐\n",
            "│ YEAR ┆ MONTH ┆ DAY ┆ DAY_OF_WEEK ┆ … ┆ SECURITY_DEL ┆ AIRLINE_DELA ┆ LATE_AIRCRAF ┆ WEATHER_DELA │\n",
            "│ ---  ┆ ---   ┆ --- ┆ ---         ┆   ┆ AY           ┆ Y            ┆ T_DELAY      ┆ Y            │\n",
            "│ i32  ┆ i32   ┆ i32 ┆ i32         ┆   ┆ ---          ┆ ---          ┆ ---          ┆ ---          │\n",
            "│      ┆       ┆     ┆             ┆   ┆ i32          ┆ i32          ┆ i32          ┆ i32          │\n",
            "╞══════╪═══════╪═════╪═════════════╪═══╪══════════════╪══════════════╪══════════════╪══════════════╡\n",
            "│ 2015 ┆ 1     ┆ 1   ┆ 4           ┆ … ┆ null         ┆ null         ┆ null         ┆ null         │\n",
            "│ 2015 ┆ 1     ┆ 1   ┆ 4           ┆ … ┆ null         ┆ null         ┆ null         ┆ null         │\n",
            "│ 2015 ┆ 1     ┆ 1   ┆ 4           ┆ … ┆ null         ┆ null         ┆ null         ┆ null         │\n",
            "│ 2015 ┆ 1     ┆ 1   ┆ 4           ┆ … ┆ null         ┆ null         ┆ null         ┆ null         │\n",
            "│ 2015 ┆ 1     ┆ 1   ┆ 4           ┆ … ┆ null         ┆ null         ┆ null         ┆ null         │\n",
            "│ …    ┆ …     ┆ …   ┆ …           ┆ … ┆ …            ┆ …            ┆ …            ┆ …            │\n",
            "│ 2015 ┆ 12    ┆ 31  ┆ 4           ┆ … ┆ null         ┆ null         ┆ null         ┆ null         │\n",
            "│ 2015 ┆ 12    ┆ 31  ┆ 4           ┆ … ┆ null         ┆ null         ┆ null         ┆ null         │\n",
            "│ 2015 ┆ 12    ┆ 31  ┆ 4           ┆ … ┆ null         ┆ null         ┆ null         ┆ null         │\n",
            "│ 2015 ┆ 12    ┆ 31  ┆ 4           ┆ … ┆ null         ┆ null         ┆ null         ┆ null         │\n",
            "│ 2015 ┆ 12    ┆ 31  ┆ 4           ┆ … ┆ null         ┆ null         ┆ null         ┆ null         │\n",
            "└──────┴───────┴─────┴─────────────┴───┴──────────────┴──────────────┴──────────────┴──────────────┘\n",
            "('DL',)\n",
            "shape: (875_881, 31)\n",
            "┌──────┬───────┬─────┬─────────────┬───┬──────────────┬──────────────┬──────────────┬──────────────┐\n",
            "│ YEAR ┆ MONTH ┆ DAY ┆ DAY_OF_WEEK ┆ … ┆ SECURITY_DEL ┆ AIRLINE_DELA ┆ LATE_AIRCRAF ┆ WEATHER_DELA │\n",
            "│ ---  ┆ ---   ┆ --- ┆ ---         ┆   ┆ AY           ┆ Y            ┆ T_DELAY      ┆ Y            │\n",
            "│ i32  ┆ i32   ┆ i32 ┆ i32         ┆   ┆ ---          ┆ ---          ┆ ---          ┆ ---          │\n",
            "│      ┆       ┆     ┆             ┆   ┆ i32          ┆ i32          ┆ i32          ┆ i32          │\n",
            "╞══════╪═══════╪═════╪═════════════╪═══╪══════════════╪══════════════╪══════════════╪══════════════╡\n",
            "│ 2015 ┆ 1     ┆ 1   ┆ 4           ┆ … ┆ null         ┆ null         ┆ null         ┆ null         │\n",
            "│ 2015 ┆ 1     ┆ 1   ┆ 4           ┆ … ┆ null         ┆ null         ┆ null         ┆ null         │\n",
            "│ 2015 ┆ 1     ┆ 1   ┆ 4           ┆ … ┆ null         ┆ null         ┆ null         ┆ null         │\n",
            "│ 2015 ┆ 1     ┆ 1   ┆ 4           ┆ … ┆ null         ┆ null         ┆ null         ┆ null         │\n",
            "│ 2015 ┆ 1     ┆ 1   ┆ 4           ┆ … ┆ null         ┆ null         ┆ null         ┆ null         │\n",
            "│ …    ┆ …     ┆ …   ┆ …           ┆ … ┆ …            ┆ …            ┆ …            ┆ …            │\n",
            "│ 2015 ┆ 12    ┆ 31  ┆ 4           ┆ … ┆ null         ┆ null         ┆ null         ┆ null         │\n",
            "│ 2015 ┆ 12    ┆ 31  ┆ 4           ┆ … ┆ null         ┆ null         ┆ null         ┆ null         │\n",
            "│ 2015 ┆ 12    ┆ 31  ┆ 4           ┆ … ┆ null         ┆ null         ┆ null         ┆ null         │\n",
            "│ 2015 ┆ 12    ┆ 31  ┆ 4           ┆ … ┆ null         ┆ null         ┆ null         ┆ null         │\n",
            "│ 2015 ┆ 12    ┆ 31  ┆ 4           ┆ … ┆ null         ┆ null         ┆ null         ┆ null         │\n",
            "└──────┴───────┴─────┴─────────────┴───┴──────────────┴──────────────┴──────────────┴──────────────┘\n",
            "('AS',)\n",
            "shape: (172_521, 31)\n",
            "┌──────┬───────┬─────┬─────────────┬───┬──────────────┬──────────────┬──────────────┬──────────────┐\n",
            "│ YEAR ┆ MONTH ┆ DAY ┆ DAY_OF_WEEK ┆ … ┆ SECURITY_DEL ┆ AIRLINE_DELA ┆ LATE_AIRCRAF ┆ WEATHER_DELA │\n",
            "│ ---  ┆ ---   ┆ --- ┆ ---         ┆   ┆ AY           ┆ Y            ┆ T_DELAY      ┆ Y            │\n",
            "│ i32  ┆ i32   ┆ i32 ┆ i32         ┆   ┆ ---          ┆ ---          ┆ ---          ┆ ---          │\n",
            "│      ┆       ┆     ┆             ┆   ┆ i32          ┆ i32          ┆ i32          ┆ i32          │\n",
            "╞══════╪═══════╪═════╪═════════════╪═══╪══════════════╪══════════════╪══════════════╪══════════════╡\n",
            "│ 2015 ┆ 1     ┆ 1   ┆ 4           ┆ … ┆ null         ┆ null         ┆ null         ┆ null         │\n",
            "│ 2015 ┆ 1     ┆ 1   ┆ 4           ┆ … ┆ null         ┆ null         ┆ null         ┆ null         │\n",
            "│ 2015 ┆ 1     ┆ 1   ┆ 4           ┆ … ┆ null         ┆ null         ┆ null         ┆ null         │\n",
            "│ 2015 ┆ 1     ┆ 1   ┆ 4           ┆ … ┆ null         ┆ null         ┆ null         ┆ null         │\n",
            "│ 2015 ┆ 1     ┆ 1   ┆ 4           ┆ … ┆ null         ┆ null         ┆ null         ┆ null         │\n",
            "│ …    ┆ …     ┆ …   ┆ …           ┆ … ┆ …            ┆ …            ┆ …            ┆ …            │\n",
            "│ 2015 ┆ 12    ┆ 31  ┆ 4           ┆ … ┆ null         ┆ null         ┆ null         ┆ null         │\n",
            "│ 2015 ┆ 12    ┆ 31  ┆ 4           ┆ … ┆ null         ┆ null         ┆ null         ┆ null         │\n",
            "│ 2015 ┆ 12    ┆ 31  ┆ 4           ┆ … ┆ null         ┆ null         ┆ null         ┆ null         │\n",
            "│ 2015 ┆ 12    ┆ 31  ┆ 4           ┆ … ┆ null         ┆ null         ┆ null         ┆ null         │\n",
            "│ 2015 ┆ 12    ┆ 31  ┆ 4           ┆ … ┆ null         ┆ null         ┆ null         ┆ null         │\n",
            "└──────┴───────┴─────┴─────────────┴───┴──────────────┴──────────────┴──────────────┴──────────────┘\n",
            "('AA',)\n",
            "shape: (725_984, 31)\n",
            "┌──────┬───────┬─────┬─────────────┬───┬──────────────┬──────────────┬──────────────┬──────────────┐\n",
            "│ YEAR ┆ MONTH ┆ DAY ┆ DAY_OF_WEEK ┆ … ┆ SECURITY_DEL ┆ AIRLINE_DELA ┆ LATE_AIRCRAF ┆ WEATHER_DELA │\n",
            "│ ---  ┆ ---   ┆ --- ┆ ---         ┆   ┆ AY           ┆ Y            ┆ T_DELAY      ┆ Y            │\n",
            "│ i32  ┆ i32   ┆ i32 ┆ i32         ┆   ┆ ---          ┆ ---          ┆ ---          ┆ ---          │\n",
            "│      ┆       ┆     ┆             ┆   ┆ i32          ┆ i32          ┆ i32          ┆ i32          │\n",
            "╞══════╪═══════╪═════╪═════════════╪═══╪══════════════╪══════════════╪══════════════╪══════════════╡\n",
            "│ 2015 ┆ 1     ┆ 1   ┆ 4           ┆ … ┆ null         ┆ null         ┆ null         ┆ null         │\n",
            "│ 2015 ┆ 1     ┆ 1   ┆ 4           ┆ … ┆ null         ┆ null         ┆ null         ┆ null         │\n",
            "│ 2015 ┆ 1     ┆ 1   ┆ 4           ┆ … ┆ null         ┆ null         ┆ null         ┆ null         │\n",
            "│ 2015 ┆ 1     ┆ 1   ┆ 4           ┆ … ┆ null         ┆ null         ┆ null         ┆ null         │\n",
            "│ 2015 ┆ 1     ┆ 1   ┆ 4           ┆ … ┆ null         ┆ null         ┆ null         ┆ null         │\n",
            "│ …    ┆ …     ┆ …   ┆ …           ┆ … ┆ …            ┆ …            ┆ …            ┆ …            │\n",
            "│ 2015 ┆ 12    ┆ 31  ┆ 4           ┆ … ┆ null         ┆ null         ┆ null         ┆ null         │\n",
            "│ 2015 ┆ 12    ┆ 31  ┆ 4           ┆ … ┆ null         ┆ null         ┆ null         ┆ null         │\n",
            "│ 2015 ┆ 12    ┆ 31  ┆ 4           ┆ … ┆ null         ┆ null         ┆ null         ┆ null         │\n",
            "│ 2015 ┆ 12    ┆ 31  ┆ 4           ┆ … ┆ null         ┆ null         ┆ null         ┆ null         │\n",
            "│ 2015 ┆ 12    ┆ 31  ┆ 4           ┆ … ┆ null         ┆ null         ┆ null         ┆ null         │\n",
            "└──────┴───────┴─────┴─────────────┴───┴──────────────┴──────────────┴──────────────┴──────────────┘\n",
            "('EV',)\n",
            "shape: (571_977, 31)\n",
            "┌──────┬───────┬─────┬─────────────┬───┬──────────────┬──────────────┬──────────────┬──────────────┐\n",
            "│ YEAR ┆ MONTH ┆ DAY ┆ DAY_OF_WEEK ┆ … ┆ SECURITY_DEL ┆ AIRLINE_DELA ┆ LATE_AIRCRAF ┆ WEATHER_DELA │\n",
            "│ ---  ┆ ---   ┆ --- ┆ ---         ┆   ┆ AY           ┆ Y            ┆ T_DELAY      ┆ Y            │\n",
            "│ i32  ┆ i32   ┆ i32 ┆ i32         ┆   ┆ ---          ┆ ---          ┆ ---          ┆ ---          │\n",
            "│      ┆       ┆     ┆             ┆   ┆ i32          ┆ i32          ┆ i32          ┆ i32          │\n",
            "╞══════╪═══════╪═════╪═════════════╪═══╪══════════════╪══════════════╪══════════════╪══════════════╡\n",
            "│ 2015 ┆ 1     ┆ 1   ┆ 4           ┆ … ┆ null         ┆ null         ┆ null         ┆ null         │\n",
            "│ 2015 ┆ 1     ┆ 1   ┆ 4           ┆ … ┆ null         ┆ null         ┆ null         ┆ null         │\n",
            "│ 2015 ┆ 1     ┆ 1   ┆ 4           ┆ … ┆ null         ┆ null         ┆ null         ┆ null         │\n",
            "│ 2015 ┆ 1     ┆ 1   ┆ 4           ┆ … ┆ null         ┆ null         ┆ null         ┆ null         │\n",
            "│ 2015 ┆ 1     ┆ 1   ┆ 4           ┆ … ┆ null         ┆ null         ┆ null         ┆ null         │\n",
            "│ …    ┆ …     ┆ …   ┆ …           ┆ … ┆ …            ┆ …            ┆ …            ┆ …            │\n",
            "│ 2015 ┆ 12    ┆ 31  ┆ 4           ┆ … ┆ null         ┆ null         ┆ null         ┆ null         │\n",
            "│ 2015 ┆ 12    ┆ 31  ┆ 4           ┆ … ┆ 0            ┆ 86           ┆ 0            ┆ 0            │\n",
            "│ 2015 ┆ 12    ┆ 31  ┆ 4           ┆ … ┆ null         ┆ null         ┆ null         ┆ null         │\n",
            "│ 2015 ┆ 12    ┆ 31  ┆ 4           ┆ … ┆ null         ┆ null         ┆ null         ┆ null         │\n",
            "│ 2015 ┆ 12    ┆ 31  ┆ 4           ┆ … ┆ null         ┆ null         ┆ null         ┆ null         │\n",
            "└──────┴───────┴─────┴─────────────┴───┴──────────────┴──────────────┴──────────────┴──────────────┘\n"
          ]
        }
      ],
      "source": [
        "for nombre, datos in vuelos.group_by('AIRLINE'): ## agrupamos poraerolinea e iterar dataframe de vuelos a group_by nombre de columnas que queremos crear los grupos\n",
        "    print(nombre)\n",
        "    print(datos)"
      ]
    },
    {
      "cell_type": "markdown",
      "id": "8952829b-d2fd-4eab-8c13-e29cf84201aa",
      "metadata": {
        "id": "8952829b-d2fd-4eab-8c13-e29cf84201aa"
      },
      "source": [
        "### Varias agregaciones"
      ]
    },
    {
      "cell_type": "code",
      "source": [
        "vuelos.columns"
      ],
      "metadata": {
        "colab": {
          "base_uri": "https://localhost:8080/"
        },
        "id": "R6Y0eHYyrudA",
        "outputId": "8f8a3306-8578-4d8c-8151-afbbb0f518aa"
      },
      "id": "R6Y0eHYyrudA",
      "execution_count": 14,
      "outputs": [
        {
          "output_type": "execute_result",
          "data": {
            "text/plain": [
              "['YEAR',\n",
              " 'MONTH',\n",
              " 'DAY',\n",
              " 'DAY_OF_WEEK',\n",
              " 'AIRLINE',\n",
              " 'FLIGHT_NUMBER',\n",
              " 'TAIL_NUMBER',\n",
              " 'ORIGIN_AIRPORT',\n",
              " 'DESTINATION_AIRPORT',\n",
              " 'SCHEDULED_DEPARTURE',\n",
              " 'DEPARTURE_TIME',\n",
              " 'DEPARTURE_DELAY',\n",
              " 'TAXI_OUT',\n",
              " 'WHEELS_OFF',\n",
              " 'SCHEDULED_TIME',\n",
              " 'ELAPSED_TIME',\n",
              " 'AIR_TIME',\n",
              " 'DISTANCE',\n",
              " 'WHEELS_ON',\n",
              " 'TAXI_IN',\n",
              " 'SCHEDULED_ARRIVAL',\n",
              " 'ARRIVAL_TIME',\n",
              " 'ARRIVAL_DELAY',\n",
              " 'DIVERTED',\n",
              " 'CANCELLED',\n",
              " 'CANCELLATION_REASON',\n",
              " 'AIR_SYSTEM_DELAY',\n",
              " 'SECURITY_DELAY',\n",
              " 'AIRLINE_DELAY',\n",
              " 'LATE_AIRCRAFT_DELAY',\n",
              " 'WEATHER_DELAY']"
            ]
          },
          "metadata": {},
          "execution_count": 14
        }
      ]
    },
    {
      "cell_type": "markdown",
      "id": "a2b840dc-515a-42b6-a8af-aac43dbe49be",
      "metadata": {
        "id": "a2b840dc-515a-42b6-a8af-aac43dbe49be"
      },
      "source": [
        "Para realizar agregaciones sobre un DataFrame primero debemos realizar un agrupado con la función `group_by` y luego utilizar la función `agg`."
      ]
    },
    {
      "cell_type": "code",
      "execution_count": 16,
      "id": "4ce0a3ff-2f6a-44cb-ad6e-18cafd93e280",
      "metadata": {
        "tags": [],
        "colab": {
          "base_uri": "https://localhost:8080/",
          "height": 443
        },
        "id": "4ce0a3ff-2f6a-44cb-ad6e-18cafd93e280",
        "outputId": "168630fc-c397-46f9-9c6b-c718b3c7f48c"
      },
      "outputs": [
        {
          "output_type": "execute_result",
          "data": {
            "text/plain": [
              "shape: (14, 2)\n",
              "┌─────────┬──────────────┐\n",
              "│ AIRLINE ┆ sum_retrasos │\n",
              "│ ---     ┆ ---          │\n",
              "│ str     ┆ i32          │\n",
              "╞═════════╪══════════════╡\n",
              "│ UA      ┆ 7355348      │\n",
              "│ NK      ┆ 1840887      │\n",
              "│ HA      ┆ 36972        │\n",
              "│ US      ┆ 1196447      │\n",
              "│ AA      ┆ 6369435      │\n",
              "│ …       ┆ …            │\n",
              "│ F9      ┆ 1205449      │\n",
              "│ OO      ┆ 4517510      │\n",
              "│ WN      ┆ 13186520     │\n",
              "│ B6      ┆ 3026467      │\n",
              "│ EV      ┆ 4857338      │\n",
              "└─────────┴──────────────┘"
            ],
            "text/html": [
              "<div><style>\n",
              ".dataframe > thead > tr,\n",
              ".dataframe > tbody > tr {\n",
              "  text-align: right;\n",
              "  white-space: pre-wrap;\n",
              "}\n",
              "</style>\n",
              "<small>shape: (14, 2)</small><table border=\"1\" class=\"dataframe\"><thead><tr><th>AIRLINE</th><th>sum_retrasos</th></tr><tr><td>str</td><td>i32</td></tr></thead><tbody><tr><td>&quot;UA&quot;</td><td>7355348</td></tr><tr><td>&quot;NK&quot;</td><td>1840887</td></tr><tr><td>&quot;HA&quot;</td><td>36972</td></tr><tr><td>&quot;US&quot;</td><td>1196447</td></tr><tr><td>&quot;AA&quot;</td><td>6369435</td></tr><tr><td>&hellip;</td><td>&hellip;</td></tr><tr><td>&quot;F9&quot;</td><td>1205449</td></tr><tr><td>&quot;OO&quot;</td><td>4517510</td></tr><tr><td>&quot;WN&quot;</td><td>13186520</td></tr><tr><td>&quot;B6&quot;</td><td>3026467</td></tr><tr><td>&quot;EV&quot;</td><td>4857338</td></tr></tbody></table></div>"
            ]
          },
          "metadata": {},
          "execution_count": 16
        }
      ],
      "source": [
        "from polars import col  ## importamos la funcion columna\n",
        "\n",
        "vuelos.group_by('AIRLINE').agg(  ## aplicamos funcion agg y dentro de parentesis agregamos agre\n",
        "    col('DEPARTURE_DELAY').sum().alias('sum_retrasos') ## le proporcionamos la columna y le decimos la suma de la columna , alias nombre que querramos\n",
        ")"
      ]
    },
    {
      "cell_type": "markdown",
      "id": "04c0c88b-4bab-4aef-ac9a-3db80ca8280d",
      "metadata": {
        "id": "04c0c88b-4bab-4aef-ac9a-3db80ca8280d"
      },
      "source": [
        "Calculemos varias agregaciones. Podemos usar `name.suffix` para agregar un sufijo e identificar las agregaciones."
      ]
    },
    {
      "cell_type": "code",
      "execution_count": 19,
      "id": "53f12fb6-c336-4239-a04e-8a2558b17278",
      "metadata": {
        "tags": [],
        "colab": {
          "base_uri": "https://localhost:8080/",
          "height": 443
        },
        "id": "53f12fb6-c336-4239-a04e-8a2558b17278",
        "outputId": "718c28d0-cb22-4701-c326-daf3d218582a"
      },
      "outputs": [
        {
          "output_type": "execute_result",
          "data": {
            "text/plain": [
              "shape: (14, 3)\n",
              "┌─────────┬─────────────────────┬───────────────┐\n",
              "│ AIRLINE ┆ DEPARTURE_DELAY_SUM ┆ AIR_TIME_MEAN │\n",
              "│ ---     ┆ ---                 ┆ ---           │\n",
              "│ str     ┆ i32                 ┆ f64           │\n",
              "╞═════════╪═════════════════════╪═══════════════╡\n",
              "│ AS      ┆ 306997              ┆ 157.844784    │\n",
              "│ WN      ┆ 13186520            ┆ 103.100485    │\n",
              "│ US      ┆ 1196447             ┆ 125.774234    │\n",
              "│ EV      ┆ 4857338             ┆ 72.763842     │\n",
              "│ AA      ┆ 6369435             ┆ 139.806208    │\n",
              "│ …       ┆ …                   ┆ …             │\n",
              "│ VX      ┆ 553852              ┆ 182.630796    │\n",
              "│ HA      ┆ 36972               ┆ 84.881314     │\n",
              "│ UA      ┆ 7355348             ┆ 164.835886    │\n",
              "│ OO      ┆ 4517510             ┆ 75.65501      │\n",
              "│ NK      ┆ 1840887             ┆ 132.347886    │\n",
              "└─────────┴─────────────────────┴───────────────┘"
            ],
            "text/html": [
              "<div><style>\n",
              ".dataframe > thead > tr,\n",
              ".dataframe > tbody > tr {\n",
              "  text-align: right;\n",
              "  white-space: pre-wrap;\n",
              "}\n",
              "</style>\n",
              "<small>shape: (14, 3)</small><table border=\"1\" class=\"dataframe\"><thead><tr><th>AIRLINE</th><th>DEPARTURE_DELAY_SUM</th><th>AIR_TIME_MEAN</th></tr><tr><td>str</td><td>i32</td><td>f64</td></tr></thead><tbody><tr><td>&quot;AS&quot;</td><td>306997</td><td>157.844784</td></tr><tr><td>&quot;WN&quot;</td><td>13186520</td><td>103.100485</td></tr><tr><td>&quot;US&quot;</td><td>1196447</td><td>125.774234</td></tr><tr><td>&quot;EV&quot;</td><td>4857338</td><td>72.763842</td></tr><tr><td>&quot;AA&quot;</td><td>6369435</td><td>139.806208</td></tr><tr><td>&hellip;</td><td>&hellip;</td><td>&hellip;</td></tr><tr><td>&quot;VX&quot;</td><td>553852</td><td>182.630796</td></tr><tr><td>&quot;HA&quot;</td><td>36972</td><td>84.881314</td></tr><tr><td>&quot;UA&quot;</td><td>7355348</td><td>164.835886</td></tr><tr><td>&quot;OO&quot;</td><td>4517510</td><td>75.65501</td></tr><tr><td>&quot;NK&quot;</td><td>1840887</td><td>132.347886</td></tr></tbody></table></div>"
            ]
          },
          "metadata": {},
          "execution_count": 19
        }
      ],
      "source": [
        "vuelos.group_by('AIRLINE').agg(\n",
        "    col('DEPARTURE_DELAY').sum().name.suffix('_SUM'), ## para ir poniendo varias agregaciones separadas por coma . name.suffix sufijo a la agregacion\n",
        "    col('AIR_TIME').mean().name.suffix('_MEAN') ## metodo renombrar o customizar las columnas\n",
        ")## podemos ir agregando agregaciones"
      ]
    },
    {
      "cell_type": "markdown",
      "id": "21952603-6a8f-4cea-8c6c-a27ad6c5bed1",
      "metadata": {
        "id": "21952603-6a8f-4cea-8c6c-a27ad6c5bed1"
      },
      "source": [
        "Podemos usar palabras claves para nombrar las agregaciones también."
      ]
    },
    {
      "cell_type": "code",
      "execution_count": 20,
      "id": "d2bdfe10-b089-4d1e-b674-8b041c08fe59",
      "metadata": {
        "tags": [],
        "colab": {
          "base_uri": "https://localhost:8080/",
          "height": 443
        },
        "id": "d2bdfe10-b089-4d1e-b674-8b041c08fe59",
        "outputId": "53b1b798-f3a4-4a56-e2d6-6c4e03c26fd1"
      },
      "outputs": [
        {
          "output_type": "execute_result",
          "data": {
            "text/plain": [
              "shape: (14, 3)\n",
              "┌─────────┬────────────────┬──────────────────┐\n",
              "│ AIRLINE ┆ media_retrasos ┆ suma_tiempo_aire │\n",
              "│ ---     ┆ ---            ┆ ---              │\n",
              "│ str     ┆ f64            ┆ i32              │\n",
              "╞═════════╪════════════════╪══════════════════╡\n",
              "│ OO      ┆ 7.801104       ┆ 43638869         │\n",
              "│ AS      ┆ 1.785801       ┆ 27060752         │\n",
              "│ HA      ┆ 0.485713       ┆ 6454460          │\n",
              "│ VX      ┆ 9.022595       ┆ 11185771         │\n",
              "│ AA      ┆ 8.900856       ┆ 99672739         │\n",
              "│ …       ┆ …              ┆ …                │\n",
              "│ NK      ┆ 15.944766      ┆ 15245550         │\n",
              "│ F9      ┆ 13.350858      ┆ 11733373         │\n",
              "│ UA      ┆ 14.435441      ┆ 83697399         │\n",
              "│ DL      ┆ 7.369254       ┆ 100660665        │\n",
              "│ WN      ┆ 10.581986      ┆ 128092352        │\n",
              "└─────────┴────────────────┴──────────────────┘"
            ],
            "text/html": [
              "<div><style>\n",
              ".dataframe > thead > tr,\n",
              ".dataframe > tbody > tr {\n",
              "  text-align: right;\n",
              "  white-space: pre-wrap;\n",
              "}\n",
              "</style>\n",
              "<small>shape: (14, 3)</small><table border=\"1\" class=\"dataframe\"><thead><tr><th>AIRLINE</th><th>media_retrasos</th><th>suma_tiempo_aire</th></tr><tr><td>str</td><td>f64</td><td>i32</td></tr></thead><tbody><tr><td>&quot;OO&quot;</td><td>7.801104</td><td>43638869</td></tr><tr><td>&quot;AS&quot;</td><td>1.785801</td><td>27060752</td></tr><tr><td>&quot;HA&quot;</td><td>0.485713</td><td>6454460</td></tr><tr><td>&quot;VX&quot;</td><td>9.022595</td><td>11185771</td></tr><tr><td>&quot;AA&quot;</td><td>8.900856</td><td>99672739</td></tr><tr><td>&hellip;</td><td>&hellip;</td><td>&hellip;</td></tr><tr><td>&quot;NK&quot;</td><td>15.944766</td><td>15245550</td></tr><tr><td>&quot;F9&quot;</td><td>13.350858</td><td>11733373</td></tr><tr><td>&quot;UA&quot;</td><td>14.435441</td><td>83697399</td></tr><tr><td>&quot;DL&quot;</td><td>7.369254</td><td>100660665</td></tr><tr><td>&quot;WN&quot;</td><td>10.581986</td><td>128092352</td></tr></tbody></table></div>"
            ]
          },
          "metadata": {},
          "execution_count": 20
        }
      ],
      "source": [
        "vuelos.group_by('AIRLINE').agg(\n",
        "    media_retrasos=col('DEPARTURE_DELAY').mean(),## nombre de la columnas\n",
        "    suma_tiempo_aire=pl.col('AIR_TIME').sum()## agregacion de columnas\n",
        ")"
      ]
    },
    {
      "cell_type": "markdown",
      "id": "ca3ef43b-f976-4982-8bad-e4eb7981dcde",
      "metadata": {
        "id": "ca3ef43b-f976-4982-8bad-e4eb7981dcde"
      },
      "source": [
        "### Operaciones sobre grupos"
      ]
    },
    {
      "cell_type": "markdown",
      "id": "0cfd3035-3ddc-4dcf-915a-ca13b252d14f",
      "metadata": {
        "id": "0cfd3035-3ddc-4dcf-915a-ca13b252d14f"
      },
      "source": [
        "#### Agregar los valores de los grupos en una Serie"
      ]
    },
    {
      "cell_type": "code",
      "execution_count": 22,
      "id": "0a18bad7-84df-4df8-9a2c-0510b5775448",
      "metadata": {
        "tags": [],
        "colab": {
          "base_uri": "https://localhost:8080/",
          "height": 810
        },
        "id": "0a18bad7-84df-4df8-9a2c-0510b5775448",
        "outputId": "82730659-dde4-402f-92e3-8bd819ca1d0e"
      },
      "outputs": [
        {
          "output_type": "execute_result",
          "data": {
            "text/plain": [
              "shape: (14, 31)\n",
              "┌─────────┬────────────┬───────────┬───────────┬───┬───────────┬───────────┬───────────┬───────────┐\n",
              "│ AIRLINE ┆ YEAR       ┆ MONTH     ┆ DAY       ┆ … ┆ SECURITY_ ┆ AIRLINE_D ┆ LATE_AIRC ┆ WEATHER_D │\n",
              "│ ---     ┆ ---        ┆ ---       ┆ ---       ┆   ┆ DELAY     ┆ ELAY      ┆ RAFT_DELA ┆ ELAY      │\n",
              "│ str     ┆ list[i32]  ┆ list[i32] ┆ list[i32] ┆   ┆ ---       ┆ ---       ┆ Y         ┆ ---       │\n",
              "│         ┆            ┆           ┆           ┆   ┆ list[i32] ┆ list[i32] ┆ ---       ┆ list[i32] │\n",
              "│         ┆            ┆           ┆           ┆   ┆           ┆           ┆ list[i32] ┆           │\n",
              "╞═════════╪════════════╪═══════════╪═══════════╪═══╪═══════════╪═══════════╪═══════════╪═══════════╡\n",
              "│ AA      ┆ [2015,     ┆ [1, 1, …  ┆ [1, 1, …  ┆ … ┆ [null,    ┆ [null,    ┆ [null,    ┆ [null,    │\n",
              "│         ┆ 2015, …    ┆ 12]       ┆ 31]       ┆   ┆ null, …   ┆ null, …   ┆ null, …   ┆ null, …   │\n",
              "│         ┆ 2015]      ┆           ┆           ┆   ┆ null]     ┆ null]     ┆ null]     ┆ null]     │\n",
              "│ OO      ┆ [2015,     ┆ [1, 1, …  ┆ [1, 1, …  ┆ … ┆ [null,    ┆ [null,    ┆ [null,    ┆ [null,    │\n",
              "│         ┆ 2015, …    ┆ 12]       ┆ 31]       ┆   ┆ null, …   ┆ null, …   ┆ null, …   ┆ null, …   │\n",
              "│         ┆ 2015]      ┆           ┆           ┆   ┆ null]     ┆ null]     ┆ null]     ┆ null]     │\n",
              "│ VX      ┆ [2015,     ┆ [1, 1, …  ┆ [1, 1, …  ┆ … ┆ [null,    ┆ [null,    ┆ [null,    ┆ [null,    │\n",
              "│         ┆ 2015, …    ┆ 12]       ┆ 31]       ┆   ┆ null, …   ┆ null, …   ┆ null, …   ┆ null, …   │\n",
              "│         ┆ 2015]      ┆           ┆           ┆   ┆ null]     ┆ null]     ┆ null]     ┆ null]     │\n",
              "│ MQ      ┆ [2015,     ┆ [1, 1, …  ┆ [1, 1, …  ┆ … ┆ [null,    ┆ [null,    ┆ [null,    ┆ [null,    │\n",
              "│         ┆ 2015, …    ┆ 12]       ┆ 31]       ┆   ┆ null, …   ┆ null, …   ┆ null, …   ┆ null, …   │\n",
              "│         ┆ 2015]      ┆           ┆           ┆   ┆ 0]        ┆ 0]        ┆ 31]       ┆ 0]        │\n",
              "│ WN      ┆ [2015,     ┆ [1, 1, …  ┆ [1, 1, …  ┆ … ┆ [null,    ┆ [null,    ┆ [null,    ┆ [null,    │\n",
              "│         ┆ 2015, …    ┆ 12]       ┆ 31]       ┆   ┆ null, …   ┆ null, …   ┆ null, …   ┆ null, …   │\n",
              "│         ┆ 2015]      ┆           ┆           ┆   ┆ null]     ┆ null]     ┆ null]     ┆ null]     │\n",
              "│ …       ┆ …          ┆ …         ┆ …         ┆ … ┆ …         ┆ …         ┆ …         ┆ …         │\n",
              "│ F9      ┆ [2015,     ┆ [1, 1, …  ┆ [1, 1, …  ┆ … ┆ [null,    ┆ [null,    ┆ [null,    ┆ [null,    │\n",
              "│         ┆ 2015, …    ┆ 12]       ┆ 31]       ┆   ┆ null, …   ┆ null, …   ┆ null, …   ┆ null, …   │\n",
              "│         ┆ 2015]      ┆           ┆           ┆   ┆ null]     ┆ null]     ┆ null]     ┆ null]     │\n",
              "│ US      ┆ [2015,     ┆ [1, 1, …  ┆ [1, 1, …  ┆ … ┆ [null,    ┆ [null,    ┆ [null,    ┆ [null,    │\n",
              "│         ┆ 2015, …    ┆ 6]        ┆ 30]       ┆   ┆ null, …   ┆ null, …   ┆ null, …   ┆ null, …   │\n",
              "│         ┆ 2015]      ┆           ┆           ┆   ┆ 0]        ┆ 7]        ┆ 0]        ┆ 0]        │\n",
              "│ EV      ┆ [2015,     ┆ [1, 1, …  ┆ [1, 1, …  ┆ … ┆ [null,    ┆ [null,    ┆ [null,    ┆ [null,    │\n",
              "│         ┆ 2015, …    ┆ 12]       ┆ 31]       ┆   ┆ null, …   ┆ null, …   ┆ null, …   ┆ null, …   │\n",
              "│         ┆ 2015]      ┆           ┆           ┆   ┆ null]     ┆ null]     ┆ null]     ┆ null]     │\n",
              "│ HA      ┆ [2015,     ┆ [1, 1, …  ┆ [1, 1, …  ┆ … ┆ [0, null, ┆ [15,      ┆ [0, null, ┆ [0, null, │\n",
              "│         ┆ 2015, …    ┆ 12]       ┆ 31]       ┆   ┆ … null]   ┆ null, …   ┆ … null]   ┆ … null]   │\n",
              "│         ┆ 2015]      ┆           ┆           ┆   ┆           ┆ null]     ┆           ┆           │\n",
              "│ DL      ┆ [2015,     ┆ [1, 1, …  ┆ [1, 1, …  ┆ … ┆ [null,    ┆ [null,    ┆ [null,    ┆ [null,    │\n",
              "│         ┆ 2015, …    ┆ 12]       ┆ 31]       ┆   ┆ null, …   ┆ null, …   ┆ null, …   ┆ null, …   │\n",
              "│         ┆ 2015]      ┆           ┆           ┆   ┆ null]     ┆ null]     ┆ null]     ┆ null]     │\n",
              "└─────────┴────────────┴───────────┴───────────┴───┴───────────┴───────────┴───────────┴───────────┘"
            ],
            "text/html": [
              "<div><style>\n",
              ".dataframe > thead > tr,\n",
              ".dataframe > tbody > tr {\n",
              "  text-align: right;\n",
              "  white-space: pre-wrap;\n",
              "}\n",
              "</style>\n",
              "<small>shape: (14, 31)</small><table border=\"1\" class=\"dataframe\"><thead><tr><th>AIRLINE</th><th>YEAR</th><th>MONTH</th><th>DAY</th><th>DAY_OF_WEEK</th><th>FLIGHT_NUMBER</th><th>TAIL_NUMBER</th><th>ORIGIN_AIRPORT</th><th>DESTINATION_AIRPORT</th><th>SCHEDULED_DEPARTURE</th><th>DEPARTURE_TIME</th><th>DEPARTURE_DELAY</th><th>TAXI_OUT</th><th>WHEELS_OFF</th><th>SCHEDULED_TIME</th><th>ELAPSED_TIME</th><th>AIR_TIME</th><th>DISTANCE</th><th>WHEELS_ON</th><th>TAXI_IN</th><th>SCHEDULED_ARRIVAL</th><th>ARRIVAL_TIME</th><th>ARRIVAL_DELAY</th><th>DIVERTED</th><th>CANCELLED</th><th>CANCELLATION_REASON</th><th>AIR_SYSTEM_DELAY</th><th>SECURITY_DELAY</th><th>AIRLINE_DELAY</th><th>LATE_AIRCRAFT_DELAY</th><th>WEATHER_DELAY</th></tr><tr><td>str</td><td>list[i32]</td><td>list[i32]</td><td>list[i32]</td><td>list[i32]</td><td>list[i32]</td><td>list[str]</td><td>list[str]</td><td>list[str]</td><td>list[i32]</td><td>list[i32]</td><td>list[i32]</td><td>list[i32]</td><td>list[i32]</td><td>list[i32]</td><td>list[i32]</td><td>list[i32]</td><td>list[i32]</td><td>list[i32]</td><td>list[i32]</td><td>list[i32]</td><td>list[i32]</td><td>list[i32]</td><td>list[i32]</td><td>list[i32]</td><td>list[str]</td><td>list[i32]</td><td>list[i32]</td><td>list[i32]</td><td>list[i32]</td><td>list[i32]</td></tr></thead><tbody><tr><td>&quot;AA&quot;</td><td>[2015, 2015, … 2015]</td><td>[1, 1, … 12]</td><td>[1, 1, … 31]</td><td>[4, 4, … 4]</td><td>[2336, 258, … 219]</td><td>[&quot;N3KUAA&quot;, &quot;N3HYAA&quot;, … &quot;N3LYAA&quot;]</td><td>[&quot;LAX&quot;, &quot;LAX&quot;, … &quot;LAX&quot;]</td><td>[&quot;PBI&quot;, &quot;MIA&quot;, … &quot;ORD&quot;]</td><td>[10, 20, … 2359]</td><td>[2, 15, … 2358]</td><td>[-8, -5, … -1]</td><td>[12, 15, … 23]</td><td>[14, 30, … 21]</td><td>[280, 285, … 244]</td><td>[279, 281, … 226]</td><td>[263, 258, … 198]</td><td>[2330, 2342, … 1744]</td><td>[737, 748, … 539]</td><td>[4, 8, … 5]</td><td>[750, 805, … 603]</td><td>[741, 756, … 544]</td><td>[-9, -9, … -19]</td><td>[0, 0, … 0]</td><td>[0, 0, … 0]</td><td>[null, null, … null]</td><td>[null, null, … null]</td><td>[null, null, … null]</td><td>[null, null, … null]</td><td>[null, null, … null]</td><td>[null, null, … null]</td></tr><tr><td>&quot;OO&quot;</td><td>[2015, 2015, … 2015]</td><td>[1, 1, … 12]</td><td>[1, 1, … 31]</td><td>[4, 4, … 4]</td><td>[5467, 7404, … 6384]</td><td>[&quot;N701BR&quot;, &quot;N8982A&quot;, … &quot;N118SY&quot;]</td><td>[&quot;ONT&quot;, &quot;HIB&quot;, … &quot;LAX&quot;]</td><td>[&quot;SFO&quot;, &quot;MSP&quot;, … &quot;AUS&quot;]</td><td>[500, 510, … 2355]</td><td>[513, 500, … 2350]</td><td>[13, -10, … -5]</td><td>[19, 37, … 13]</td><td>[532, 537, … 3]</td><td>[89, 68, … 183]</td><td>[85, 78, … 169]</td><td>[61, 35, … 151]</td><td>[363, 174, … 1242]</td><td>[633, 612, … 434]</td><td>[5, 6, … 5]</td><td>[629, 618, … 458]</td><td>[638, 618, … 439]</td><td>[9, 0, … -19]</td><td>[0, 0, … 0]</td><td>[0, 0, … 0]</td><td>[null, null, … null]</td><td>[null, null, … null]</td><td>[null, null, … null]</td><td>[null, null, … null]</td><td>[null, null, … null]</td><td>[null, null, … null]</td></tr><tr><td>&quot;VX&quot;</td><td>[2015, 2015, … 2015]</td><td>[1, 1, … 12]</td><td>[1, 1, … 31]</td><td>[4, 4, … 4]</td><td>[922, 399, … 48]</td><td>[&quot;N361VA&quot;, &quot;N852VA&quot;, … &quot;N281VA&quot;]</td><td>[&quot;SFO&quot;, &quot;JFK&quot;, … &quot;OGG&quot;]</td><td>[&quot;LAX&quot;, &quot;LAX&quot;, … &quot;SFO&quot;]</td><td>[645, 700, … 2320]</td><td>[638, 655, … 2318]</td><td>[-7, -5, … -2]</td><td>[9, 18, … 7]</td><td>[647, 713, … 2325]</td><td>[80, 385, … 305]</td><td>[71, 392, … 270]</td><td>[54, 360, … 258]</td><td>[337, 2475, … 2338]</td><td>[741, 1013, … 543]</td><td>[8, 14, … 5]</td><td>[805, 1025, … 625]</td><td>[749, 1027, … 548]</td><td>[-16, 2, … -37]</td><td>[0, 0, … 0]</td><td>[0, 0, … 0]</td><td>[null, null, … null]</td><td>[null, null, … null]</td><td>[null, null, … null]</td><td>[null, null, … null]</td><td>[null, null, … null]</td><td>[null, null, … null]</td></tr><tr><td>&quot;MQ&quot;</td><td>[2015, 2015, … 2015]</td><td>[1, 1, … 12]</td><td>[1, 1, … 31]</td><td>[4, 4, … 4]</td><td>[2859, 2926, … 3450]</td><td>[&quot;N660MQ&quot;, &quot;N932MQ&quot;, … &quot;N663MQ&quot;]</td><td>[&quot;SGF&quot;, &quot;CHS&quot;, … &quot;MIA&quot;]</td><td>[&quot;DFW&quot;, &quot;DFW&quot;, … &quot;GNV&quot;]</td><td>[525, 545, … 2154]</td><td>[null, null, … 2228]</td><td>[null, null, … 34]</td><td>[null, null, … 15]</td><td>[null, null, … 2243]</td><td>[95, 190, … 71]</td><td>[null, null, … 68]</td><td>[null, null, … 48]</td><td>[364, 987, … 294]</td><td>[null, null, … 2331]</td><td>[null, null, … 5]</td><td>[700, 755, … 2305]</td><td>[null, null, … 2336]</td><td>[null, null, … 31]</td><td>[0, 0, … 0]</td><td>[1, 1, … 0]</td><td>[&quot;B&quot;, &quot;B&quot;, … null]</td><td>[null, null, … 0]</td><td>[null, null, … 0]</td><td>[null, null, … 0]</td><td>[null, null, … 31]</td><td>[null, null, … 0]</td></tr><tr><td>&quot;WN&quot;</td><td>[2015, 2015, … 2015]</td><td>[1, 1, … 12]</td><td>[1, 1, … 31]</td><td>[4, 4, … 4]</td><td>[526, 4122, … 5668]</td><td>[&quot;N742SW&quot;, &quot;N486WN&quot;, … &quot;N7822A&quot;]</td><td>[&quot;SFO&quot;, &quot;BOS&quot;, … &quot;ATL&quot;]</td><td>[&quot;DEN&quot;, &quot;BWI&quot;, … &quot;IND&quot;]</td><td>[555, 600, … 2255]</td><td>[553, 556, … 2252]</td><td>[-2, -4, … -3]</td><td>[11, 17, … 10]</td><td>[604, 613, … 2302]</td><td>[150, 105, … 90]</td><td>[150, 83, … 79]</td><td>[132, 63, … 63]</td><td>[967, 369, … 432]</td><td>[916, 716, … 5]</td><td>[7, 3, … 6]</td><td>[925, 745, … 25]</td><td>[923, 719, … 11]</td><td>[-2, -26, … -14]</td><td>[0, 0, … 0]</td><td>[0, 0, … 0]</td><td>[null, null, … null]</td><td>[null, null, … null]</td><td>[null, null, … null]</td><td>[null, null, … null]</td><td>[null, null, … null]</td><td>[null, null, … null]</td></tr><tr><td>&hellip;</td><td>&hellip;</td><td>&hellip;</td><td>&hellip;</td><td>&hellip;</td><td>&hellip;</td><td>&hellip;</td><td>&hellip;</td><td>&hellip;</td><td>&hellip;</td><td>&hellip;</td><td>&hellip;</td><td>&hellip;</td><td>&hellip;</td><td>&hellip;</td><td>&hellip;</td><td>&hellip;</td><td>&hellip;</td><td>&hellip;</td><td>&hellip;</td><td>&hellip;</td><td>&hellip;</td><td>&hellip;</td><td>&hellip;</td><td>&hellip;</td><td>&hellip;</td><td>&hellip;</td><td>&hellip;</td><td>&hellip;</td><td>&hellip;</td><td>&hellip;</td></tr><tr><td>&quot;F9&quot;</td><td>[2015, 2015, … 2015]</td><td>[1, 1, … 12]</td><td>[1, 1, … 31]</td><td>[4, 4, … 4]</td><td>[1279, 161, … 300]</td><td>[&quot;N918FR&quot;, &quot;N905FR&quot;, … &quot;N949FR&quot;]</td><td>[&quot;PHL&quot;, &quot;MSN&quot;, … &quot;DEN&quot;]</td><td>[&quot;MCO&quot;, &quot;DEN&quot;, … &quot;TPA&quot;]</td><td>[530, 544, … 2359]</td><td>[526, 534, … 5]</td><td>[-4, -10, … 6]</td><td>[12, 7, … 17]</td><td>[538, 541, … 22]</td><td>[160, 145, … 199]</td><td>[146, 144, … 184]</td><td>[128, 128, … 161]</td><td>[861, 826, … 1506]</td><td>[746, 649, … 503]</td><td>[6, 9, … 6]</td><td>[810, 709, … 518]</td><td>[752, 658, … 509]</td><td>[-18, -11, … -9]</td><td>[0, 0, … 0]</td><td>[0, 0, … 0]</td><td>[null, null, … null]</td><td>[null, null, … null]</td><td>[null, null, … null]</td><td>[null, null, … null]</td><td>[null, null, … null]</td><td>[null, null, … null]</td></tr><tr><td>&quot;US&quot;</td><td>[2015, 2015, … 2015]</td><td>[1, 1, … 6]</td><td>[1, 1, … 30]</td><td>[4, 4, … 2]</td><td>[840, 2013, … 1720]</td><td>[&quot;N171US&quot;, &quot;N584UW&quot;, … &quot;N676AW&quot;]</td><td>[&quot;SFO&quot;, &quot;LAX&quot;, … &quot;PHX&quot;]</td><td>[&quot;CLT&quot;, &quot;CLT&quot;, … &quot;MSP&quot;]</td><td>[20, 30, … 2359]</td><td>[18, 44, … 6]</td><td>[-2, 14, … 7]</td><td>[16, 13, … 16]</td><td>[34, 57, … 22]</td><td>[286, 273, … 177]</td><td>[293, 249, … 187]</td><td>[266, 228, … 166]</td><td>[2296, 2125, … 1276]</td><td>[800, 745, … 508]</td><td>[11, 8, … 5]</td><td>[806, 803, … 456]</td><td>[811, 753, … 513]</td><td>[5, -10, … 17]</td><td>[0, 0, … 0]</td><td>[0, 0, … 0]</td><td>[null, null, … null]</td><td>[null, null, … 10]</td><td>[null, null, … 0]</td><td>[null, null, … 7]</td><td>[null, null, … 0]</td><td>[null, null, … 0]</td></tr><tr><td>&quot;EV&quot;</td><td>[2015, 2015, … 2015]</td><td>[1, 1, … 12]</td><td>[1, 1, … 31]</td><td>[4, 4, … 4]</td><td>[4354, 4685, … 5017]</td><td>[&quot;N12142&quot;, &quot;N26545&quot;, … &quot;N870AS&quot;]</td><td>[&quot;MKE&quot;, &quot;BRO&quot;, … &quot;ATL&quot;]</td><td>[&quot;IAH&quot;, &quot;IAH&quot;, … &quot;MOB&quot;]</td><td>[515, 520, … 2219]</td><td>[517, 517, … 2212]</td><td>[2, -3, … -7]</td><td>[12, 15, … 15]</td><td>[529, 532, … 2227]</td><td>[178, 74, … 79]</td><td>[189, 72, … 71]</td><td>[163, 49, … 53]</td><td>[984, 308, … 302]</td><td>[812, 621, … 2220]</td><td>[14, 8, … 3]</td><td>[813, 634, … 2238]</td><td>[826, 629, … 2223]</td><td>[13, -5, … -15]</td><td>[0, 0, … 0]</td><td>[0, 0, … 0]</td><td>[null, null, … null]</td><td>[null, null, … null]</td><td>[null, null, … null]</td><td>[null, null, … null]</td><td>[null, null, … null]</td><td>[null, null, … null]</td></tr><tr><td>&quot;HA&quot;</td><td>[2015, 2015, … 2015]</td><td>[1, 1, … 12]</td><td>[1, 1, … 31]</td><td>[4, 4, … 4]</td><td>[17, 102, … 515]</td><td>[&quot;N389HA&quot;, &quot;N492HA&quot;, … &quot;N489HA&quot;]</td><td>[&quot;LAS&quot;, &quot;HNL&quot;, … &quot;OGG&quot;]</td><td>[&quot;HNL&quot;, &quot;ITO&quot;, … &quot;HNL&quot;]</td><td>[145, 500, … 2302]</td><td>[145, 452, … 2246]</td><td>[0, -8, … -16]</td><td>[16, 10, … 6]</td><td>[201, 502, … 2252]</td><td>[370, 49, … 34]</td><td>[385, 51, … 31]</td><td>[361, 35, … 21]</td><td>[2762, 216, … 100]</td><td>[602, 537, … 2313]</td><td>[8, 6, … 4]</td><td>[555, 549, … 2336]</td><td>[610, 543, … 2317]</td><td>[15, -6, … -19]</td><td>[0, 0, … 0]</td><td>[0, 0, … 0]</td><td>[null, null, … null]</td><td>[0, null, … null]</td><td>[0, null, … null]</td><td>[15, null, … null]</td><td>[0, null, … null]</td><td>[0, null, … null]</td></tr><tr><td>&quot;DL&quot;</td><td>[2015, 2015, … 2015]</td><td>[1, 1, … 12]</td><td>[1, 1, … 31]</td><td>[4, 4, … 4]</td><td>[806, 1173, … 2224]</td><td>[&quot;N3730B&quot;, &quot;N826DN&quot;, … &quot;N332NW&quot;]</td><td>[&quot;SFO&quot;, &quot;LAS&quot;, … &quot;PHX&quot;]</td><td>[&quot;MSP&quot;, &quot;ATL&quot;, … &quot;DTW&quot;]</td><td>[25, 30, … 2359]</td><td>[20, 33, … 2352]</td><td>[-5, 3, … -7]</td><td>[18, 12, … 13]</td><td>[38, 45, … 5]</td><td>[217, 221, … 224]</td><td>[230, 203, … 200]</td><td>[206, 186, … 180]</td><td>[1589, 1747, … 1671]</td><td>[604, 651, … 505]</td><td>[6, 5, … 7]</td><td>[602, 711, … 543]</td><td>[610, 656, … 512]</td><td>[8, -15, … -31]</td><td>[0, 0, … 0]</td><td>[0, 0, … 0]</td><td>[null, null, … null]</td><td>[null, null, … null]</td><td>[null, null, … null]</td><td>[null, null, … null]</td><td>[null, null, … null]</td><td>[null, null, … null]</td></tr></tbody></table></div>"
            ]
          },
          "metadata": {},
          "execution_count": 22
        }
      ],
      "source": [
        "vuelos.group_by('AIRLINE').all()  ## agregar a columnas series de polars"
      ]
    },
    {
      "cell_type": "markdown",
      "id": "c42bc70f-5a53-4575-bd85-24b40656a0ee",
      "metadata": {
        "id": "c42bc70f-5a53-4575-bd85-24b40656a0ee"
      },
      "source": [
        "#### Conteo del número de valores de cada grupo"
      ]
    },
    {
      "cell_type": "code",
      "source": [
        "import warnings\n",
        "warnings.filterwarnings('ignore')"
      ],
      "metadata": {
        "id": "wVfhPtkgtXNe"
      },
      "id": "wVfhPtkgtXNe",
      "execution_count": 24,
      "outputs": []
    },
    {
      "cell_type": "code",
      "execution_count": 25,
      "id": "f9665c10-9a92-419c-9d54-ddf10a87788e",
      "metadata": {
        "tags": [],
        "colab": {
          "base_uri": "https://localhost:8080/",
          "height": 443
        },
        "id": "f9665c10-9a92-419c-9d54-ddf10a87788e",
        "outputId": "e8ecdd89-000b-4140-b2b5-adbdaad5b0e6"
      },
      "outputs": [
        {
          "output_type": "execute_result",
          "data": {
            "text/plain": [
              "shape: (14, 2)\n",
              "┌─────────┬─────────┐\n",
              "│ AIRLINE ┆ count   │\n",
              "│ ---     ┆ ---     │\n",
              "│ str     ┆ u32     │\n",
              "╞═════════╪═════════╡\n",
              "│ MQ      ┆ 294632  │\n",
              "│ F9      ┆ 90836   │\n",
              "│ EV      ┆ 571977  │\n",
              "│ NK      ┆ 117379  │\n",
              "│ AS      ┆ 172521  │\n",
              "│ …       ┆ …       │\n",
              "│ WN      ┆ 1261855 │\n",
              "│ UA      ┆ 515723  │\n",
              "│ HA      ┆ 76272   │\n",
              "│ DL      ┆ 875881  │\n",
              "│ VX      ┆ 61903   │\n",
              "└─────────┴─────────┘"
            ],
            "text/html": [
              "<div><style>\n",
              ".dataframe > thead > tr,\n",
              ".dataframe > tbody > tr {\n",
              "  text-align: right;\n",
              "  white-space: pre-wrap;\n",
              "}\n",
              "</style>\n",
              "<small>shape: (14, 2)</small><table border=\"1\" class=\"dataframe\"><thead><tr><th>AIRLINE</th><th>count</th></tr><tr><td>str</td><td>u32</td></tr></thead><tbody><tr><td>&quot;MQ&quot;</td><td>294632</td></tr><tr><td>&quot;F9&quot;</td><td>90836</td></tr><tr><td>&quot;EV&quot;</td><td>571977</td></tr><tr><td>&quot;NK&quot;</td><td>117379</td></tr><tr><td>&quot;AS&quot;</td><td>172521</td></tr><tr><td>&hellip;</td><td>&hellip;</td></tr><tr><td>&quot;WN&quot;</td><td>1261855</td></tr><tr><td>&quot;UA&quot;</td><td>515723</td></tr><tr><td>&quot;HA&quot;</td><td>76272</td></tr><tr><td>&quot;DL&quot;</td><td>875881</td></tr><tr><td>&quot;VX&quot;</td><td>61903</td></tr></tbody></table></div>"
            ]
          },
          "metadata": {},
          "execution_count": 25
        }
      ],
      "source": [
        "vuelos.group_by('AIRLINE').count()  ##conteo del numero de valores de cada grupo"
      ]
    },
    {
      "cell_type": "markdown",
      "id": "0f811457-7821-4280-9473-547def7b1275",
      "metadata": {
        "id": "0f811457-7821-4280-9473-547def7b1275"
      },
      "source": [
        "#### Conteo del número de valores únicos de cada grupo"
      ]
    },
    {
      "cell_type": "code",
      "execution_count": 26,
      "id": "b9363b2a-8ce9-4233-aae4-84af4e0bd23c",
      "metadata": {
        "tags": [],
        "colab": {
          "base_uri": "https://localhost:8080/",
          "height": 463
        },
        "id": "b9363b2a-8ce9-4233-aae4-84af4e0bd23c",
        "outputId": "a05feadc-20e3-41a7-bb8c-fe490eda90b9"
      },
      "outputs": [
        {
          "output_type": "execute_result",
          "data": {
            "text/plain": [
              "shape: (14, 31)\n",
              "┌─────────┬──────┬───────┬─────┬───┬───────────────┬───────────────┬───────────────┬───────────────┐\n",
              "│ AIRLINE ┆ YEAR ┆ MONTH ┆ DAY ┆ … ┆ SECURITY_DELA ┆ AIRLINE_DELAY ┆ LATE_AIRCRAFT ┆ WEATHER_DELAY │\n",
              "│ ---     ┆ ---  ┆ ---   ┆ --- ┆   ┆ Y             ┆ ---           ┆ _DELAY        ┆ ---           │\n",
              "│ str     ┆ u32  ┆ u32   ┆ u32 ┆   ┆ ---           ┆ u32           ┆ ---           ┆ u32           │\n",
              "│         ┆      ┆       ┆     ┆   ┆ u32           ┆               ┆ u32           ┆               │\n",
              "╞═════════╪══════╪═══════╪═════╪═══╪═══════════════╪═══════════════╪═══════════════╪═══════════════╡\n",
              "│ MQ      ┆ 1    ┆ 12    ┆ 31  ┆ … ┆ 71            ┆ 543           ┆ 342           ┆ 370           │\n",
              "│ UA      ┆ 1    ┆ 12    ┆ 31  ┆ … ┆ 24            ┆ 514           ┆ 499           ┆ 327           │\n",
              "│ VX      ┆ 1    ┆ 12    ┆ 31  ┆ … ┆ 40            ┆ 228           ┆ 265           ┆ 94            │\n",
              "│ AA      ┆ 1    ┆ 12    ┆ 31  ┆ … ┆ 97            ┆ 768           ┆ 565           ┆ 363           │\n",
              "│ NK      ┆ 1    ┆ 12    ┆ 31  ┆ … ┆ 54            ┆ 328           ┆ 355           ┆ 183           │\n",
              "│ …       ┆ …    ┆ …     ┆ …   ┆ … ┆ …             ┆ …             ┆ …             ┆ …             │\n",
              "│ EV      ┆ 1    ┆ 12    ┆ 31  ┆ … ┆ 2             ┆ 544           ┆ 399           ┆ 315           │\n",
              "│ DL      ┆ 1    ┆ 12    ┆ 31  ┆ … ┆ 47            ┆ 764           ┆ 407           ┆ 489           │\n",
              "│ F9      ┆ 1    ┆ 12    ┆ 31  ┆ … ┆ 2             ┆ 363           ┆ 439           ┆ 132           │\n",
              "│ HA      ┆ 1    ┆ 12    ┆ 31  ┆ … ┆ 21            ┆ 258           ┆ 179           ┆ 80            │\n",
              "│ B6      ┆ 1    ┆ 12    ┆ 31  ┆ … ┆ 92            ┆ 382           ┆ 386           ┆ 250           │\n",
              "└─────────┴──────┴───────┴─────┴───┴───────────────┴───────────────┴───────────────┴───────────────┘"
            ],
            "text/html": [
              "<div><style>\n",
              ".dataframe > thead > tr,\n",
              ".dataframe > tbody > tr {\n",
              "  text-align: right;\n",
              "  white-space: pre-wrap;\n",
              "}\n",
              "</style>\n",
              "<small>shape: (14, 31)</small><table border=\"1\" class=\"dataframe\"><thead><tr><th>AIRLINE</th><th>YEAR</th><th>MONTH</th><th>DAY</th><th>DAY_OF_WEEK</th><th>FLIGHT_NUMBER</th><th>TAIL_NUMBER</th><th>ORIGIN_AIRPORT</th><th>DESTINATION_AIRPORT</th><th>SCHEDULED_DEPARTURE</th><th>DEPARTURE_TIME</th><th>DEPARTURE_DELAY</th><th>TAXI_OUT</th><th>WHEELS_OFF</th><th>SCHEDULED_TIME</th><th>ELAPSED_TIME</th><th>AIR_TIME</th><th>DISTANCE</th><th>WHEELS_ON</th><th>TAXI_IN</th><th>SCHEDULED_ARRIVAL</th><th>ARRIVAL_TIME</th><th>ARRIVAL_DELAY</th><th>DIVERTED</th><th>CANCELLED</th><th>CANCELLATION_REASON</th><th>AIR_SYSTEM_DELAY</th><th>SECURITY_DELAY</th><th>AIRLINE_DELAY</th><th>LATE_AIRCRAFT_DELAY</th><th>WEATHER_DELAY</th></tr><tr><td>str</td><td>u32</td><td>u32</td><td>u32</td><td>u32</td><td>u32</td><td>u32</td><td>u32</td><td>u32</td><td>u32</td><td>u32</td><td>u32</td><td>u32</td><td>u32</td><td>u32</td><td>u32</td><td>u32</td><td>u32</td><td>u32</td><td>u32</td><td>u32</td><td>u32</td><td>u32</td><td>u32</td><td>u32</td><td>u32</td><td>u32</td><td>u32</td><td>u32</td><td>u32</td><td>u32</td></tr></thead><tbody><tr><td>&quot;MQ&quot;</td><td>1</td><td>12</td><td>31</td><td>7</td><td>939</td><td>204</td><td>243</td><td>243</td><td>954</td><td>1230</td><td>657</td><td>156</td><td>1251</td><td>174</td><td>272</td><td>202</td><td>198</td><td>1325</td><td>160</td><td>1126</td><td>1323</td><td>691</td><td>2</td><td>2</td><td>5</td><td>323</td><td>71</td><td>543</td><td>342</td><td>370</td></tr><tr><td>&quot;UA&quot;</td><td>1</td><td>12</td><td>31</td><td>7</td><td>1579</td><td>722</td><td>179</td><td>179</td><td>1230</td><td>1409</td><td>674</td><td>164</td><td>1415</td><td>464</td><td>671</td><td>642</td><td>346</td><td>1440</td><td>139</td><td>1399</td><td>1440</td><td>714</td><td>2</td><td>2</td><td>4</td><td>396</td><td>24</td><td>514</td><td>499</td><td>327</td></tr><tr><td>&quot;VX&quot;</td><td>1</td><td>12</td><td>31</td><td>7</td><td>319</td><td>57</td><td>39</td><td>38</td><td>219</td><td>1156</td><td>354</td><td>115</td><td>1161</td><td>115</td><td>432</td><td>389</td><td>38</td><td>1310</td><td>87</td><td>255</td><td>1309</td><td>401</td><td>2</td><td>2</td><td>4</td><td>266</td><td>40</td><td>228</td><td>265</td><td>94</td></tr><tr><td>&quot;AA&quot;</td><td>1</td><td>12</td><td>31</td><td>7</td><td>2441</td><td>1045</td><td>187</td><td>187</td><td>1071</td><td>1374</td><td>946</td><td>177</td><td>1372</td><td>420</td><td>533</td><td>509</td><td>332</td><td>1439</td><td>177</td><td>1317</td><td>1438</td><td>979</td><td>2</td><td>2</td><td>5</td><td>330</td><td>97</td><td>768</td><td>565</td><td>363</td></tr><tr><td>&quot;NK&quot;</td><td>1</td><td>12</td><td>31</td><td>7</td><td>454</td><td>79</td><td>66</td><td>66</td><td>827</td><td>1424</td><td>486</td><td>130</td><td>1423</td><td>276</td><td>360</td><td>341</td><td>152</td><td>1440</td><td>132</td><td>1109</td><td>1435</td><td>510</td><td>2</td><td>2</td><td>5</td><td>355</td><td>54</td><td>328</td><td>355</td><td>183</td></tr><tr><td>&hellip;</td><td>&hellip;</td><td>&hellip;</td><td>&hellip;</td><td>&hellip;</td><td>&hellip;</td><td>&hellip;</td><td>&hellip;</td><td>&hellip;</td><td>&hellip;</td><td>&hellip;</td><td>&hellip;</td><td>&hellip;</td><td>&hellip;</td><td>&hellip;</td><td>&hellip;</td><td>&hellip;</td><td>&hellip;</td><td>&hellip;</td><td>&hellip;</td><td>&hellip;</td><td>&hellip;</td><td>&hellip;</td><td>&hellip;</td><td>&hellip;</td><td>&hellip;</td><td>&hellip;</td><td>&hellip;</td><td>&hellip;</td><td>&hellip;</td><td>&hellip;</td></tr><tr><td>&quot;EV&quot;</td><td>1</td><td>12</td><td>31</td><td>7</td><td>2366</td><td>391</td><td>339</td><td>341</td><td>1127</td><td>1279</td><td>641</td><td>156</td><td>1280</td><td>212</td><td>281</td><td>236</td><td>528</td><td>1348</td><td>136</td><td>1197</td><td>1351</td><td>662</td><td>2</td><td>2</td><td>5</td><td>413</td><td>2</td><td>544</td><td>399</td><td>315</td></tr><tr><td>&quot;DL&quot;</td><td>1</td><td>12</td><td>31</td><td>7</td><td>2449</td><td>829</td><td>299</td><td>299</td><td>1156</td><td>1370</td><td>891</td><td>166</td><td>1369</td><td>438</td><td>619</td><td>607</td><td>441</td><td>1436</td><td>138</td><td>1232</td><td>1434</td><td>911</td><td>2</td><td>2</td><td>4</td><td>393</td><td>47</td><td>764</td><td>407</td><td>489</td></tr><tr><td>&quot;F9&quot;</td><td>1</td><td>12</td><td>31</td><td>7</td><td>822</td><td>63</td><td>112</td><td>112</td><td>599</td><td>1345</td><td>593</td><td>135</td><td>1349</td><td>215</td><td>313</td><td>291</td><td>161</td><td>1431</td><td>106</td><td>1005</td><td>1432</td><td>610</td><td>2</td><td>2</td><td>3</td><td>304</td><td>2</td><td>363</td><td>439</td><td>132</td></tr><tr><td>&quot;HA&quot;</td><td>1</td><td>12</td><td>31</td><td>7</td><td>310</td><td>51</td><td>34</td><td>34</td><td>636</td><td>1221</td><td>313</td><td>62</td><td>1230</td><td>62</td><td>439</td><td>391</td><td>28</td><td>1260</td><td>63</td><td>687</td><td>1254</td><td>347</td><td>2</td><td>2</td><td>3</td><td>56</td><td>21</td><td>258</td><td>179</td><td>80</td></tr><tr><td>&quot;B6&quot;</td><td>1</td><td>12</td><td>31</td><td>7</td><td>1159</td><td>215</td><td>125</td><td>125</td><td>1155</td><td>1440</td><td>515</td><td>154</td><td>1441</td><td>371</td><td>467</td><td>405</td><td>170</td><td>1441</td><td>110</td><td>1324</td><td>1441</td><td>565</td><td>2</td><td>2</td><td>5</td><td>348</td><td>92</td><td>382</td><td>386</td><td>250</td></tr></tbody></table></div>"
            ]
          },
          "metadata": {},
          "execution_count": 26
        }
      ],
      "source": [
        "vuelos.group_by('AIRLINE').n_unique()  ##Conteo del número de valores únicos de cada grupo"
      ]
    },
    {
      "cell_type": "markdown",
      "id": "33e70164-c615-4683-acc5-cd9accd3e63d",
      "metadata": {
        "id": "33e70164-c615-4683-acc5-cd9accd3e63d"
      },
      "source": [
        "#### Obtener el primer y el último valor del grupo"
      ]
    },
    {
      "cell_type": "code",
      "execution_count": 28,
      "id": "52990d68-3968-4c17-bc34-8b8e895eb335",
      "metadata": {
        "tags": [],
        "colab": {
          "base_uri": "https://localhost:8080/",
          "height": 463
        },
        "id": "52990d68-3968-4c17-bc34-8b8e895eb335",
        "outputId": "de884a2a-630d-4a85-f1f9-b2500a4119ea"
      },
      "outputs": [
        {
          "output_type": "execute_result",
          "data": {
            "text/plain": [
              "shape: (14, 31)\n",
              "┌─────────┬──────┬───────┬─────┬───┬───────────────┬───────────────┬───────────────┬───────────────┐\n",
              "│ AIRLINE ┆ YEAR ┆ MONTH ┆ DAY ┆ … ┆ SECURITY_DELA ┆ AIRLINE_DELAY ┆ LATE_AIRCRAFT ┆ WEATHER_DELAY │\n",
              "│ ---     ┆ ---  ┆ ---   ┆ --- ┆   ┆ Y             ┆ ---           ┆ _DELAY        ┆ ---           │\n",
              "│ str     ┆ i32  ┆ i32   ┆ i32 ┆   ┆ ---           ┆ i32           ┆ ---           ┆ i32           │\n",
              "│         ┆      ┆       ┆     ┆   ┆ i32           ┆               ┆ i32           ┆               │\n",
              "╞═════════╪══════╪═══════╪═════╪═══╪═══════════════╪═══════════════╪═══════════════╪═══════════════╡\n",
              "│ VX      ┆ 2015 ┆ 1     ┆ 1   ┆ … ┆ null          ┆ null          ┆ null          ┆ null          │\n",
              "│ AA      ┆ 2015 ┆ 1     ┆ 1   ┆ … ┆ null          ┆ null          ┆ null          ┆ null          │\n",
              "│ EV      ┆ 2015 ┆ 1     ┆ 1   ┆ … ┆ null          ┆ null          ┆ null          ┆ null          │\n",
              "│ HA      ┆ 2015 ┆ 1     ┆ 1   ┆ … ┆ 0             ┆ 15            ┆ 0             ┆ 0             │\n",
              "│ OO      ┆ 2015 ┆ 1     ┆ 1   ┆ … ┆ null          ┆ null          ┆ null          ┆ null          │\n",
              "│ …       ┆ …    ┆ …     ┆ …   ┆ … ┆ …             ┆ …             ┆ …             ┆ …             │\n",
              "│ DL      ┆ 2015 ┆ 1     ┆ 1   ┆ … ┆ null          ┆ null          ┆ null          ┆ null          │\n",
              "│ NK      ┆ 2015 ┆ 1     ┆ 1   ┆ … ┆ null          ┆ null          ┆ null          ┆ null          │\n",
              "│ MQ      ┆ 2015 ┆ 1     ┆ 1   ┆ … ┆ null          ┆ null          ┆ null          ┆ null          │\n",
              "│ UA      ┆ 2015 ┆ 1     ┆ 1   ┆ … ┆ null          ┆ null          ┆ null          ┆ null          │\n",
              "│ B6      ┆ 2015 ┆ 1     ┆ 1   ┆ … ┆ null          ┆ null          ┆ null          ┆ null          │\n",
              "└─────────┴──────┴───────┴─────┴───┴───────────────┴───────────────┴───────────────┴───────────────┘"
            ],
            "text/html": [
              "<div><style>\n",
              ".dataframe > thead > tr,\n",
              ".dataframe > tbody > tr {\n",
              "  text-align: right;\n",
              "  white-space: pre-wrap;\n",
              "}\n",
              "</style>\n",
              "<small>shape: (14, 31)</small><table border=\"1\" class=\"dataframe\"><thead><tr><th>AIRLINE</th><th>YEAR</th><th>MONTH</th><th>DAY</th><th>DAY_OF_WEEK</th><th>FLIGHT_NUMBER</th><th>TAIL_NUMBER</th><th>ORIGIN_AIRPORT</th><th>DESTINATION_AIRPORT</th><th>SCHEDULED_DEPARTURE</th><th>DEPARTURE_TIME</th><th>DEPARTURE_DELAY</th><th>TAXI_OUT</th><th>WHEELS_OFF</th><th>SCHEDULED_TIME</th><th>ELAPSED_TIME</th><th>AIR_TIME</th><th>DISTANCE</th><th>WHEELS_ON</th><th>TAXI_IN</th><th>SCHEDULED_ARRIVAL</th><th>ARRIVAL_TIME</th><th>ARRIVAL_DELAY</th><th>DIVERTED</th><th>CANCELLED</th><th>CANCELLATION_REASON</th><th>AIR_SYSTEM_DELAY</th><th>SECURITY_DELAY</th><th>AIRLINE_DELAY</th><th>LATE_AIRCRAFT_DELAY</th><th>WEATHER_DELAY</th></tr><tr><td>str</td><td>i32</td><td>i32</td><td>i32</td><td>i32</td><td>i32</td><td>str</td><td>str</td><td>str</td><td>i32</td><td>i32</td><td>i32</td><td>i32</td><td>i32</td><td>i32</td><td>i32</td><td>i32</td><td>i32</td><td>i32</td><td>i32</td><td>i32</td><td>i32</td><td>i32</td><td>i32</td><td>i32</td><td>str</td><td>i32</td><td>i32</td><td>i32</td><td>i32</td><td>i32</td></tr></thead><tbody><tr><td>&quot;VX&quot;</td><td>2015</td><td>1</td><td>1</td><td>4</td><td>922</td><td>&quot;N361VA&quot;</td><td>&quot;SFO&quot;</td><td>&quot;LAX&quot;</td><td>645</td><td>638</td><td>-7</td><td>9</td><td>647</td><td>80</td><td>71</td><td>54</td><td>337</td><td>741</td><td>8</td><td>805</td><td>749</td><td>-16</td><td>0</td><td>0</td><td>null</td><td>null</td><td>null</td><td>null</td><td>null</td><td>null</td></tr><tr><td>&quot;AA&quot;</td><td>2015</td><td>1</td><td>1</td><td>4</td><td>2336</td><td>&quot;N3KUAA&quot;</td><td>&quot;LAX&quot;</td><td>&quot;PBI&quot;</td><td>10</td><td>2</td><td>-8</td><td>12</td><td>14</td><td>280</td><td>279</td><td>263</td><td>2330</td><td>737</td><td>4</td><td>750</td><td>741</td><td>-9</td><td>0</td><td>0</td><td>null</td><td>null</td><td>null</td><td>null</td><td>null</td><td>null</td></tr><tr><td>&quot;EV&quot;</td><td>2015</td><td>1</td><td>1</td><td>4</td><td>4354</td><td>&quot;N12142&quot;</td><td>&quot;MKE&quot;</td><td>&quot;IAH&quot;</td><td>515</td><td>517</td><td>2</td><td>12</td><td>529</td><td>178</td><td>189</td><td>163</td><td>984</td><td>812</td><td>14</td><td>813</td><td>826</td><td>13</td><td>0</td><td>0</td><td>null</td><td>null</td><td>null</td><td>null</td><td>null</td><td>null</td></tr><tr><td>&quot;HA&quot;</td><td>2015</td><td>1</td><td>1</td><td>4</td><td>17</td><td>&quot;N389HA&quot;</td><td>&quot;LAS&quot;</td><td>&quot;HNL&quot;</td><td>145</td><td>145</td><td>0</td><td>16</td><td>201</td><td>370</td><td>385</td><td>361</td><td>2762</td><td>602</td><td>8</td><td>555</td><td>610</td><td>15</td><td>0</td><td>0</td><td>null</td><td>0</td><td>0</td><td>15</td><td>0</td><td>0</td></tr><tr><td>&quot;OO&quot;</td><td>2015</td><td>1</td><td>1</td><td>4</td><td>5467</td><td>&quot;N701BR&quot;</td><td>&quot;ONT&quot;</td><td>&quot;SFO&quot;</td><td>500</td><td>513</td><td>13</td><td>19</td><td>532</td><td>89</td><td>85</td><td>61</td><td>363</td><td>633</td><td>5</td><td>629</td><td>638</td><td>9</td><td>0</td><td>0</td><td>null</td><td>null</td><td>null</td><td>null</td><td>null</td><td>null</td></tr><tr><td>&hellip;</td><td>&hellip;</td><td>&hellip;</td><td>&hellip;</td><td>&hellip;</td><td>&hellip;</td><td>&hellip;</td><td>&hellip;</td><td>&hellip;</td><td>&hellip;</td><td>&hellip;</td><td>&hellip;</td><td>&hellip;</td><td>&hellip;</td><td>&hellip;</td><td>&hellip;</td><td>&hellip;</td><td>&hellip;</td><td>&hellip;</td><td>&hellip;</td><td>&hellip;</td><td>&hellip;</td><td>&hellip;</td><td>&hellip;</td><td>&hellip;</td><td>&hellip;</td><td>&hellip;</td><td>&hellip;</td><td>&hellip;</td><td>&hellip;</td><td>&hellip;</td></tr><tr><td>&quot;DL&quot;</td><td>2015</td><td>1</td><td>1</td><td>4</td><td>806</td><td>&quot;N3730B&quot;</td><td>&quot;SFO&quot;</td><td>&quot;MSP&quot;</td><td>25</td><td>20</td><td>-5</td><td>18</td><td>38</td><td>217</td><td>230</td><td>206</td><td>1589</td><td>604</td><td>6</td><td>602</td><td>610</td><td>8</td><td>0</td><td>0</td><td>null</td><td>null</td><td>null</td><td>null</td><td>null</td><td>null</td></tr><tr><td>&quot;NK&quot;</td><td>2015</td><td>1</td><td>1</td><td>4</td><td>612</td><td>&quot;N635NK&quot;</td><td>&quot;LAS&quot;</td><td>&quot;MSP&quot;</td><td>25</td><td>19</td><td>-6</td><td>11</td><td>30</td><td>181</td><td>170</td><td>154</td><td>1299</td><td>504</td><td>5</td><td>526</td><td>509</td><td>-17</td><td>0</td><td>0</td><td>null</td><td>null</td><td>null</td><td>null</td><td>null</td><td>null</td></tr><tr><td>&quot;MQ&quot;</td><td>2015</td><td>1</td><td>1</td><td>4</td><td>2859</td><td>&quot;N660MQ&quot;</td><td>&quot;SGF&quot;</td><td>&quot;DFW&quot;</td><td>525</td><td>null</td><td>null</td><td>null</td><td>null</td><td>95</td><td>null</td><td>null</td><td>364</td><td>null</td><td>null</td><td>700</td><td>null</td><td>null</td><td>0</td><td>1</td><td>&quot;B&quot;</td><td>null</td><td>null</td><td>null</td><td>null</td><td>null</td></tr><tr><td>&quot;UA&quot;</td><td>2015</td><td>1</td><td>1</td><td>4</td><td>1197</td><td>&quot;N78448&quot;</td><td>&quot;SFO&quot;</td><td>&quot;IAH&quot;</td><td>48</td><td>42</td><td>-6</td><td>11</td><td>53</td><td>218</td><td>217</td><td>199</td><td>1635</td><td>612</td><td>7</td><td>626</td><td>619</td><td>-7</td><td>0</td><td>0</td><td>null</td><td>null</td><td>null</td><td>null</td><td>null</td><td>null</td></tr><tr><td>&quot;B6&quot;</td><td>2015</td><td>1</td><td>1</td><td>4</td><td>304</td><td>&quot;N607JB&quot;</td><td>&quot;SJU&quot;</td><td>&quot;JFK&quot;</td><td>155</td><td>153</td><td>-2</td><td>12</td><td>205</td><td>235</td><td>248</td><td>231</td><td>1598</td><td>456</td><td>5</td><td>450</td><td>501</td><td>11</td><td>0</td><td>0</td><td>null</td><td>null</td><td>null</td><td>null</td><td>null</td><td>null</td></tr></tbody></table></div>"
            ]
          },
          "metadata": {},
          "execution_count": 28
        }
      ],
      "source": [
        "vuelos.group_by('AIRLINE').first()\n",
        "\n"
      ]
    },
    {
      "cell_type": "code",
      "source": [
        "vuelos.group_by('AIRLINE').last()"
      ],
      "metadata": {
        "colab": {
          "base_uri": "https://localhost:8080/",
          "height": 463
        },
        "id": "cuMDtZAstwFv",
        "outputId": "d6f43463-f195-4417-f85e-d795080ac18c"
      },
      "id": "cuMDtZAstwFv",
      "execution_count": 29,
      "outputs": [
        {
          "output_type": "execute_result",
          "data": {
            "text/plain": [
              "shape: (14, 31)\n",
              "┌─────────┬──────┬───────┬─────┬───┬───────────────┬───────────────┬───────────────┬───────────────┐\n",
              "│ AIRLINE ┆ YEAR ┆ MONTH ┆ DAY ┆ … ┆ SECURITY_DELA ┆ AIRLINE_DELAY ┆ LATE_AIRCRAFT ┆ WEATHER_DELAY │\n",
              "│ ---     ┆ ---  ┆ ---   ┆ --- ┆   ┆ Y             ┆ ---           ┆ _DELAY        ┆ ---           │\n",
              "│ str     ┆ i32  ┆ i32   ┆ i32 ┆   ┆ ---           ┆ i32           ┆ ---           ┆ i32           │\n",
              "│         ┆      ┆       ┆     ┆   ┆ i32           ┆               ┆ i32           ┆               │\n",
              "╞═════════╪══════╪═══════╪═════╪═══╪═══════════════╪═══════════════╪═══════════════╪═══════════════╡\n",
              "│ AA      ┆ 2015 ┆ 12    ┆ 31  ┆ … ┆ null          ┆ null          ┆ null          ┆ null          │\n",
              "│ NK      ┆ 2015 ┆ 12    ┆ 31  ┆ … ┆ 0             ┆ 13            ┆ 0             ┆ 0             │\n",
              "│ VX      ┆ 2015 ┆ 12    ┆ 31  ┆ … ┆ null          ┆ null          ┆ null          ┆ null          │\n",
              "│ AS      ┆ 2015 ┆ 12    ┆ 31  ┆ … ┆ null          ┆ null          ┆ null          ┆ null          │\n",
              "│ HA      ┆ 2015 ┆ 12    ┆ 31  ┆ … ┆ null          ┆ null          ┆ null          ┆ null          │\n",
              "│ …       ┆ …    ┆ …     ┆ …   ┆ … ┆ …             ┆ …             ┆ …             ┆ …             │\n",
              "│ F9      ┆ 2015 ┆ 12    ┆ 31  ┆ … ┆ null          ┆ null          ┆ null          ┆ null          │\n",
              "│ WN      ┆ 2015 ┆ 12    ┆ 31  ┆ … ┆ null          ┆ null          ┆ null          ┆ null          │\n",
              "│ MQ      ┆ 2015 ┆ 12    ┆ 31  ┆ … ┆ 0             ┆ 0             ┆ 31            ┆ 0             │\n",
              "│ EV      ┆ 2015 ┆ 12    ┆ 31  ┆ … ┆ null          ┆ null          ┆ null          ┆ null          │\n",
              "│ DL      ┆ 2015 ┆ 12    ┆ 31  ┆ … ┆ null          ┆ null          ┆ null          ┆ null          │\n",
              "└─────────┴──────┴───────┴─────┴───┴───────────────┴───────────────┴───────────────┴───────────────┘"
            ],
            "text/html": [
              "<div><style>\n",
              ".dataframe > thead > tr,\n",
              ".dataframe > tbody > tr {\n",
              "  text-align: right;\n",
              "  white-space: pre-wrap;\n",
              "}\n",
              "</style>\n",
              "<small>shape: (14, 31)</small><table border=\"1\" class=\"dataframe\"><thead><tr><th>AIRLINE</th><th>YEAR</th><th>MONTH</th><th>DAY</th><th>DAY_OF_WEEK</th><th>FLIGHT_NUMBER</th><th>TAIL_NUMBER</th><th>ORIGIN_AIRPORT</th><th>DESTINATION_AIRPORT</th><th>SCHEDULED_DEPARTURE</th><th>DEPARTURE_TIME</th><th>DEPARTURE_DELAY</th><th>TAXI_OUT</th><th>WHEELS_OFF</th><th>SCHEDULED_TIME</th><th>ELAPSED_TIME</th><th>AIR_TIME</th><th>DISTANCE</th><th>WHEELS_ON</th><th>TAXI_IN</th><th>SCHEDULED_ARRIVAL</th><th>ARRIVAL_TIME</th><th>ARRIVAL_DELAY</th><th>DIVERTED</th><th>CANCELLED</th><th>CANCELLATION_REASON</th><th>AIR_SYSTEM_DELAY</th><th>SECURITY_DELAY</th><th>AIRLINE_DELAY</th><th>LATE_AIRCRAFT_DELAY</th><th>WEATHER_DELAY</th></tr><tr><td>str</td><td>i32</td><td>i32</td><td>i32</td><td>i32</td><td>i32</td><td>str</td><td>str</td><td>str</td><td>i32</td><td>i32</td><td>i32</td><td>i32</td><td>i32</td><td>i32</td><td>i32</td><td>i32</td><td>i32</td><td>i32</td><td>i32</td><td>i32</td><td>i32</td><td>i32</td><td>i32</td><td>i32</td><td>str</td><td>i32</td><td>i32</td><td>i32</td><td>i32</td><td>i32</td></tr></thead><tbody><tr><td>&quot;AA&quot;</td><td>2015</td><td>12</td><td>31</td><td>4</td><td>219</td><td>&quot;N3LYAA&quot;</td><td>&quot;LAX&quot;</td><td>&quot;ORD&quot;</td><td>2359</td><td>2358</td><td>-1</td><td>23</td><td>21</td><td>244</td><td>226</td><td>198</td><td>1744</td><td>539</td><td>5</td><td>603</td><td>544</td><td>-19</td><td>0</td><td>0</td><td>null</td><td>null</td><td>null</td><td>null</td><td>null</td><td>null</td></tr><tr><td>&quot;NK&quot;</td><td>2015</td><td>12</td><td>31</td><td>4</td><td>371</td><td>&quot;N661NK&quot;</td><td>&quot;FLL&quot;</td><td>&quot;BQN&quot;</td><td>2358</td><td>11</td><td>13</td><td>15</td><td>26</td><td>140</td><td>155</td><td>121</td><td>982</td><td>327</td><td>19</td><td>318</td><td>346</td><td>28</td><td>0</td><td>0</td><td>null</td><td>15</td><td>0</td><td>13</td><td>0</td><td>0</td></tr><tr><td>&quot;VX&quot;</td><td>2015</td><td>12</td><td>31</td><td>4</td><td>48</td><td>&quot;N281VA&quot;</td><td>&quot;OGG&quot;</td><td>&quot;SFO&quot;</td><td>2320</td><td>2318</td><td>-2</td><td>7</td><td>2325</td><td>305</td><td>270</td><td>258</td><td>2338</td><td>543</td><td>5</td><td>625</td><td>548</td><td>-37</td><td>0</td><td>0</td><td>null</td><td>null</td><td>null</td><td>null</td><td>null</td><td>null</td></tr><tr><td>&quot;AS&quot;</td><td>2015</td><td>12</td><td>31</td><td>4</td><td>850</td><td>&quot;N536AS&quot;</td><td>&quot;KOA&quot;</td><td>&quot;SEA&quot;</td><td>2355</td><td>2352</td><td>-3</td><td>16</td><td>8</td><td>355</td><td>320</td><td>298</td><td>2688</td><td>706</td><td>6</td><td>750</td><td>712</td><td>-38</td><td>0</td><td>0</td><td>null</td><td>null</td><td>null</td><td>null</td><td>null</td><td>null</td></tr><tr><td>&quot;HA&quot;</td><td>2015</td><td>12</td><td>31</td><td>4</td><td>515</td><td>&quot;N489HA&quot;</td><td>&quot;OGG&quot;</td><td>&quot;HNL&quot;</td><td>2302</td><td>2246</td><td>-16</td><td>6</td><td>2252</td><td>34</td><td>31</td><td>21</td><td>100</td><td>2313</td><td>4</td><td>2336</td><td>2317</td><td>-19</td><td>0</td><td>0</td><td>null</td><td>null</td><td>null</td><td>null</td><td>null</td><td>null</td></tr><tr><td>&hellip;</td><td>&hellip;</td><td>&hellip;</td><td>&hellip;</td><td>&hellip;</td><td>&hellip;</td><td>&hellip;</td><td>&hellip;</td><td>&hellip;</td><td>&hellip;</td><td>&hellip;</td><td>&hellip;</td><td>&hellip;</td><td>&hellip;</td><td>&hellip;</td><td>&hellip;</td><td>&hellip;</td><td>&hellip;</td><td>&hellip;</td><td>&hellip;</td><td>&hellip;</td><td>&hellip;</td><td>&hellip;</td><td>&hellip;</td><td>&hellip;</td><td>&hellip;</td><td>&hellip;</td><td>&hellip;</td><td>&hellip;</td><td>&hellip;</td><td>&hellip;</td></tr><tr><td>&quot;F9&quot;</td><td>2015</td><td>12</td><td>31</td><td>4</td><td>300</td><td>&quot;N949FR&quot;</td><td>&quot;DEN&quot;</td><td>&quot;TPA&quot;</td><td>2359</td><td>5</td><td>6</td><td>17</td><td>22</td><td>199</td><td>184</td><td>161</td><td>1506</td><td>503</td><td>6</td><td>518</td><td>509</td><td>-9</td><td>0</td><td>0</td><td>null</td><td>null</td><td>null</td><td>null</td><td>null</td><td>null</td></tr><tr><td>&quot;WN&quot;</td><td>2015</td><td>12</td><td>31</td><td>4</td><td>5668</td><td>&quot;N7822A&quot;</td><td>&quot;ATL&quot;</td><td>&quot;IND&quot;</td><td>2255</td><td>2252</td><td>-3</td><td>10</td><td>2302</td><td>90</td><td>79</td><td>63</td><td>432</td><td>5</td><td>6</td><td>25</td><td>11</td><td>-14</td><td>0</td><td>0</td><td>null</td><td>null</td><td>null</td><td>null</td><td>null</td><td>null</td></tr><tr><td>&quot;MQ&quot;</td><td>2015</td><td>12</td><td>31</td><td>4</td><td>3450</td><td>&quot;N663MQ&quot;</td><td>&quot;MIA&quot;</td><td>&quot;GNV&quot;</td><td>2154</td><td>2228</td><td>34</td><td>15</td><td>2243</td><td>71</td><td>68</td><td>48</td><td>294</td><td>2331</td><td>5</td><td>2305</td><td>2336</td><td>31</td><td>0</td><td>0</td><td>null</td><td>0</td><td>0</td><td>0</td><td>31</td><td>0</td></tr><tr><td>&quot;EV&quot;</td><td>2015</td><td>12</td><td>31</td><td>4</td><td>5017</td><td>&quot;N870AS&quot;</td><td>&quot;ATL&quot;</td><td>&quot;MOB&quot;</td><td>2219</td><td>2212</td><td>-7</td><td>15</td><td>2227</td><td>79</td><td>71</td><td>53</td><td>302</td><td>2220</td><td>3</td><td>2238</td><td>2223</td><td>-15</td><td>0</td><td>0</td><td>null</td><td>null</td><td>null</td><td>null</td><td>null</td><td>null</td></tr><tr><td>&quot;DL&quot;</td><td>2015</td><td>12</td><td>31</td><td>4</td><td>2224</td><td>&quot;N332NW&quot;</td><td>&quot;PHX&quot;</td><td>&quot;DTW&quot;</td><td>2359</td><td>2352</td><td>-7</td><td>13</td><td>5</td><td>224</td><td>200</td><td>180</td><td>1671</td><td>505</td><td>7</td><td>543</td><td>512</td><td>-31</td><td>0</td><td>0</td><td>null</td><td>null</td><td>null</td><td>null</td><td>null</td><td>null</td></tr></tbody></table></div>"
            ]
          },
          "metadata": {},
          "execution_count": 29
        }
      ]
    },
    {
      "cell_type": "markdown",
      "id": "44a5c9db-f75a-4e02-8f78-e4187432af9a",
      "metadata": {
        "tags": [],
        "id": "44a5c9db-f75a-4e02-8f78-e4187432af9a"
      },
      "source": [
        "#### Obtener las n primeras filas de cada grupo"
      ]
    },
    {
      "cell_type": "code",
      "execution_count": 31,
      "id": "5d3bf9ac-e4f4-402a-ad3a-16c908164255",
      "metadata": {
        "tags": [],
        "colab": {
          "base_uri": "https://localhost:8080/",
          "height": 463
        },
        "id": "5d3bf9ac-e4f4-402a-ad3a-16c908164255",
        "outputId": "edb0e4b7-d073-4069-db44-b11d8a0e1162"
      },
      "outputs": [
        {
          "output_type": "execute_result",
          "data": {
            "text/plain": [
              "shape: (28, 31)\n",
              "┌─────────┬──────┬───────┬─────┬───┬───────────────┬───────────────┬───────────────┬───────────────┐\n",
              "│ AIRLINE ┆ YEAR ┆ MONTH ┆ DAY ┆ … ┆ SECURITY_DELA ┆ AIRLINE_DELAY ┆ LATE_AIRCRAFT ┆ WEATHER_DELAY │\n",
              "│ ---     ┆ ---  ┆ ---   ┆ --- ┆   ┆ Y             ┆ ---           ┆ _DELAY        ┆ ---           │\n",
              "│ str     ┆ i32  ┆ i32   ┆ i32 ┆   ┆ ---           ┆ i32           ┆ ---           ┆ i32           │\n",
              "│         ┆      ┆       ┆     ┆   ┆ i32           ┆               ┆ i32           ┆               │\n",
              "╞═════════╪══════╪═══════╪═════╪═══╪═══════════════╪═══════════════╪═══════════════╪═══════════════╡\n",
              "│ OO      ┆ 2015 ┆ 1     ┆ 1   ┆ … ┆ null          ┆ null          ┆ null          ┆ null          │\n",
              "│ OO      ┆ 2015 ┆ 1     ┆ 1   ┆ … ┆ null          ┆ null          ┆ null          ┆ null          │\n",
              "│ MQ      ┆ 2015 ┆ 1     ┆ 1   ┆ … ┆ null          ┆ null          ┆ null          ┆ null          │\n",
              "│ MQ      ┆ 2015 ┆ 1     ┆ 1   ┆ … ┆ null          ┆ null          ┆ null          ┆ null          │\n",
              "│ AS      ┆ 2015 ┆ 1     ┆ 1   ┆ … ┆ null          ┆ null          ┆ null          ┆ null          │\n",
              "│ …       ┆ …    ┆ …     ┆ …   ┆ … ┆ …             ┆ …             ┆ …             ┆ …             │\n",
              "│ AA      ┆ 2015 ┆ 1     ┆ 1   ┆ … ┆ null          ┆ null          ┆ null          ┆ null          │\n",
              "│ DL      ┆ 2015 ┆ 1     ┆ 1   ┆ … ┆ null          ┆ null          ┆ null          ┆ null          │\n",
              "│ DL      ┆ 2015 ┆ 1     ┆ 1   ┆ … ┆ null          ┆ null          ┆ null          ┆ null          │\n",
              "│ NK      ┆ 2015 ┆ 1     ┆ 1   ┆ … ┆ null          ┆ null          ┆ null          ┆ null          │\n",
              "│ NK      ┆ 2015 ┆ 1     ┆ 1   ┆ … ┆ null          ┆ null          ┆ null          ┆ null          │\n",
              "└─────────┴──────┴───────┴─────┴───┴───────────────┴───────────────┴───────────────┴───────────────┘"
            ],
            "text/html": [
              "<div><style>\n",
              ".dataframe > thead > tr,\n",
              ".dataframe > tbody > tr {\n",
              "  text-align: right;\n",
              "  white-space: pre-wrap;\n",
              "}\n",
              "</style>\n",
              "<small>shape: (28, 31)</small><table border=\"1\" class=\"dataframe\"><thead><tr><th>AIRLINE</th><th>YEAR</th><th>MONTH</th><th>DAY</th><th>DAY_OF_WEEK</th><th>FLIGHT_NUMBER</th><th>TAIL_NUMBER</th><th>ORIGIN_AIRPORT</th><th>DESTINATION_AIRPORT</th><th>SCHEDULED_DEPARTURE</th><th>DEPARTURE_TIME</th><th>DEPARTURE_DELAY</th><th>TAXI_OUT</th><th>WHEELS_OFF</th><th>SCHEDULED_TIME</th><th>ELAPSED_TIME</th><th>AIR_TIME</th><th>DISTANCE</th><th>WHEELS_ON</th><th>TAXI_IN</th><th>SCHEDULED_ARRIVAL</th><th>ARRIVAL_TIME</th><th>ARRIVAL_DELAY</th><th>DIVERTED</th><th>CANCELLED</th><th>CANCELLATION_REASON</th><th>AIR_SYSTEM_DELAY</th><th>SECURITY_DELAY</th><th>AIRLINE_DELAY</th><th>LATE_AIRCRAFT_DELAY</th><th>WEATHER_DELAY</th></tr><tr><td>str</td><td>i32</td><td>i32</td><td>i32</td><td>i32</td><td>i32</td><td>str</td><td>str</td><td>str</td><td>i32</td><td>i32</td><td>i32</td><td>i32</td><td>i32</td><td>i32</td><td>i32</td><td>i32</td><td>i32</td><td>i32</td><td>i32</td><td>i32</td><td>i32</td><td>i32</td><td>i32</td><td>i32</td><td>str</td><td>i32</td><td>i32</td><td>i32</td><td>i32</td><td>i32</td></tr></thead><tbody><tr><td>&quot;OO&quot;</td><td>2015</td><td>1</td><td>1</td><td>4</td><td>5467</td><td>&quot;N701BR&quot;</td><td>&quot;ONT&quot;</td><td>&quot;SFO&quot;</td><td>500</td><td>513</td><td>13</td><td>19</td><td>532</td><td>89</td><td>85</td><td>61</td><td>363</td><td>633</td><td>5</td><td>629</td><td>638</td><td>9</td><td>0</td><td>0</td><td>null</td><td>null</td><td>null</td><td>null</td><td>null</td><td>null</td></tr><tr><td>&quot;OO&quot;</td><td>2015</td><td>1</td><td>1</td><td>4</td><td>7404</td><td>&quot;N8982A&quot;</td><td>&quot;HIB&quot;</td><td>&quot;MSP&quot;</td><td>510</td><td>500</td><td>-10</td><td>37</td><td>537</td><td>68</td><td>78</td><td>35</td><td>174</td><td>612</td><td>6</td><td>618</td><td>618</td><td>0</td><td>0</td><td>0</td><td>null</td><td>null</td><td>null</td><td>null</td><td>null</td><td>null</td></tr><tr><td>&quot;MQ&quot;</td><td>2015</td><td>1</td><td>1</td><td>4</td><td>2859</td><td>&quot;N660MQ&quot;</td><td>&quot;SGF&quot;</td><td>&quot;DFW&quot;</td><td>525</td><td>null</td><td>null</td><td>null</td><td>null</td><td>95</td><td>null</td><td>null</td><td>364</td><td>null</td><td>null</td><td>700</td><td>null</td><td>null</td><td>0</td><td>1</td><td>&quot;B&quot;</td><td>null</td><td>null</td><td>null</td><td>null</td><td>null</td></tr><tr><td>&quot;MQ&quot;</td><td>2015</td><td>1</td><td>1</td><td>4</td><td>2926</td><td>&quot;N932MQ&quot;</td><td>&quot;CHS&quot;</td><td>&quot;DFW&quot;</td><td>545</td><td>null</td><td>null</td><td>null</td><td>null</td><td>190</td><td>null</td><td>null</td><td>987</td><td>null</td><td>null</td><td>755</td><td>null</td><td>null</td><td>0</td><td>1</td><td>&quot;B&quot;</td><td>null</td><td>null</td><td>null</td><td>null</td><td>null</td></tr><tr><td>&quot;AS&quot;</td><td>2015</td><td>1</td><td>1</td><td>4</td><td>98</td><td>&quot;N407AS&quot;</td><td>&quot;ANC&quot;</td><td>&quot;SEA&quot;</td><td>5</td><td>2354</td><td>-11</td><td>21</td><td>15</td><td>205</td><td>194</td><td>169</td><td>1448</td><td>404</td><td>4</td><td>430</td><td>408</td><td>-22</td><td>0</td><td>0</td><td>null</td><td>null</td><td>null</td><td>null</td><td>null</td><td>null</td></tr><tr><td>&hellip;</td><td>&hellip;</td><td>&hellip;</td><td>&hellip;</td><td>&hellip;</td><td>&hellip;</td><td>&hellip;</td><td>&hellip;</td><td>&hellip;</td><td>&hellip;</td><td>&hellip;</td><td>&hellip;</td><td>&hellip;</td><td>&hellip;</td><td>&hellip;</td><td>&hellip;</td><td>&hellip;</td><td>&hellip;</td><td>&hellip;</td><td>&hellip;</td><td>&hellip;</td><td>&hellip;</td><td>&hellip;</td><td>&hellip;</td><td>&hellip;</td><td>&hellip;</td><td>&hellip;</td><td>&hellip;</td><td>&hellip;</td><td>&hellip;</td><td>&hellip;</td></tr><tr><td>&quot;AA&quot;</td><td>2015</td><td>1</td><td>1</td><td>4</td><td>258</td><td>&quot;N3HYAA&quot;</td><td>&quot;LAX&quot;</td><td>&quot;MIA&quot;</td><td>20</td><td>15</td><td>-5</td><td>15</td><td>30</td><td>285</td><td>281</td><td>258</td><td>2342</td><td>748</td><td>8</td><td>805</td><td>756</td><td>-9</td><td>0</td><td>0</td><td>null</td><td>null</td><td>null</td><td>null</td><td>null</td><td>null</td></tr><tr><td>&quot;DL&quot;</td><td>2015</td><td>1</td><td>1</td><td>4</td><td>806</td><td>&quot;N3730B&quot;</td><td>&quot;SFO&quot;</td><td>&quot;MSP&quot;</td><td>25</td><td>20</td><td>-5</td><td>18</td><td>38</td><td>217</td><td>230</td><td>206</td><td>1589</td><td>604</td><td>6</td><td>602</td><td>610</td><td>8</td><td>0</td><td>0</td><td>null</td><td>null</td><td>null</td><td>null</td><td>null</td><td>null</td></tr><tr><td>&quot;DL&quot;</td><td>2015</td><td>1</td><td>1</td><td>4</td><td>1173</td><td>&quot;N826DN&quot;</td><td>&quot;LAS&quot;</td><td>&quot;ATL&quot;</td><td>30</td><td>33</td><td>3</td><td>12</td><td>45</td><td>221</td><td>203</td><td>186</td><td>1747</td><td>651</td><td>5</td><td>711</td><td>656</td><td>-15</td><td>0</td><td>0</td><td>null</td><td>null</td><td>null</td><td>null</td><td>null</td><td>null</td></tr><tr><td>&quot;NK&quot;</td><td>2015</td><td>1</td><td>1</td><td>4</td><td>612</td><td>&quot;N635NK&quot;</td><td>&quot;LAS&quot;</td><td>&quot;MSP&quot;</td><td>25</td><td>19</td><td>-6</td><td>11</td><td>30</td><td>181</td><td>170</td><td>154</td><td>1299</td><td>504</td><td>5</td><td>526</td><td>509</td><td>-17</td><td>0</td><td>0</td><td>null</td><td>null</td><td>null</td><td>null</td><td>null</td><td>null</td></tr><tr><td>&quot;NK&quot;</td><td>2015</td><td>1</td><td>1</td><td>4</td><td>520</td><td>&quot;N525NK&quot;</td><td>&quot;LAS&quot;</td><td>&quot;MCI&quot;</td><td>55</td><td>120</td><td>25</td><td>11</td><td>131</td><td>162</td><td>143</td><td>128</td><td>1139</td><td>539</td><td>4</td><td>537</td><td>543</td><td>6</td><td>0</td><td>0</td><td>null</td><td>null</td><td>null</td><td>null</td><td>null</td><td>null</td></tr></tbody></table></div>"
            ]
          },
          "metadata": {},
          "execution_count": 31
        }
      ],
      "source": [
        "vuelos.group_by('AIRLINE').head(2)  ## obtenemos 2 elementos de cada grupo"
      ]
    },
    {
      "cell_type": "markdown",
      "id": "1b2f7bbe-1d9b-4d5f-b485-7d35ad32671a",
      "metadata": {
        "tags": [],
        "id": "1b2f7bbe-1d9b-4d5f-b485-7d35ad32671a"
      },
      "source": [
        "### Máximo, mínimo, suma, media y mediana de cada grupo"
      ]
    },
    {
      "cell_type": "markdown",
      "id": "3a4e0719-7278-4668-973d-52e49a2e6213",
      "metadata": {
        "id": "3a4e0719-7278-4668-973d-52e49a2e6213"
      },
      "source": [
        "Las funciones `max`, `min`, `sum`, `mean` y `median` calculan el máximo, mínimo, suma, media y mediana respectivamente de cada grupo."
      ]
    },
    {
      "cell_type": "code",
      "execution_count": 35,
      "id": "20651172-4096-442b-9420-e58f3cd67a0b",
      "metadata": {
        "tags": [],
        "colab": {
          "base_uri": "https://localhost:8080/",
          "height": 463
        },
        "id": "20651172-4096-442b-9420-e58f3cd67a0b",
        "outputId": "5cf37dcf-79e6-436d-84c8-c9a89d12996f"
      },
      "outputs": [
        {
          "output_type": "execute_result",
          "data": {
            "text/plain": [
              "shape: (14, 31)\n",
              "┌─────────┬──────┬───────┬─────┬───┬───────────────┬───────────────┬───────────────┬───────────────┐\n",
              "│ AIRLINE ┆ YEAR ┆ MONTH ┆ DAY ┆ … ┆ SECURITY_DELA ┆ AIRLINE_DELAY ┆ LATE_AIRCRAFT ┆ WEATHER_DELAY │\n",
              "│ ---     ┆ ---  ┆ ---   ┆ --- ┆   ┆ Y             ┆ ---           ┆ _DELAY        ┆ ---           │\n",
              "│ str     ┆ i32  ┆ i32   ┆ i32 ┆   ┆ ---           ┆ i32           ┆ ---           ┆ i32           │\n",
              "│         ┆      ┆       ┆     ┆   ┆ i32           ┆               ┆ i32           ┆               │\n",
              "╞═════════╪══════╪═══════╪═════╪═══╪═══════════════╪═══════════════╪═══════════════╪═══════════════╡\n",
              "│ AS      ┆ 2015 ┆ 12    ┆ 31  ┆ … ┆ 205           ┆ 950           ┆ 730           ┆ 571           │\n",
              "│ MQ      ┆ 2015 ┆ 12    ┆ 31  ┆ … ┆ 190           ┆ 1528          ┆ 1014          ┆ 1152          │\n",
              "│ EV      ┆ 2015 ┆ 12    ┆ 31  ┆ … ┆ 0             ┆ 1218          ┆ 1033          ┆ 601           │\n",
              "│ VX      ┆ 2015 ┆ 12    ┆ 31  ┆ … ┆ 196           ┆ 651           ┆ 572           ┆ 200           │\n",
              "│ WN      ┆ 2015 ┆ 12    ┆ 31  ┆ … ┆ 227           ┆ 659           ┆ 544           ┆ 604           │\n",
              "│ …       ┆ …    ┆ …     ┆ …   ┆ … ┆ …             ┆ …             ┆ …             ┆ …             │\n",
              "│ HA      ┆ 2015 ┆ 12    ┆ 31  ┆ … ┆ 107           ┆ 1467          ┆ 335           ┆ 240           │\n",
              "│ AA      ┆ 2015 ┆ 12    ┆ 31  ┆ … ┆ 171           ┆ 1971          ┆ 1331          ┆ 1021          │\n",
              "│ UA      ┆ 2015 ┆ 12    ┆ 31  ┆ … ┆ 122           ┆ 1185          ┆ 1294          ┆ 767           │\n",
              "│ OO      ┆ 2015 ┆ 12    ┆ 31  ┆ … ┆ 573           ┆ 1233          ┆ 618           ┆ 1120          │\n",
              "│ B6      ┆ 2015 ┆ 12    ┆ 31  ┆ … ┆ 364           ┆ 942           ┆ 605           ┆ 515           │\n",
              "└─────────┴──────┴───────┴─────┴───┴───────────────┴───────────────┴───────────────┴───────────────┘"
            ],
            "text/html": [
              "<div><style>\n",
              ".dataframe > thead > tr,\n",
              ".dataframe > tbody > tr {\n",
              "  text-align: right;\n",
              "  white-space: pre-wrap;\n",
              "}\n",
              "</style>\n",
              "<small>shape: (14, 31)</small><table border=\"1\" class=\"dataframe\"><thead><tr><th>AIRLINE</th><th>YEAR</th><th>MONTH</th><th>DAY</th><th>DAY_OF_WEEK</th><th>FLIGHT_NUMBER</th><th>TAIL_NUMBER</th><th>ORIGIN_AIRPORT</th><th>DESTINATION_AIRPORT</th><th>SCHEDULED_DEPARTURE</th><th>DEPARTURE_TIME</th><th>DEPARTURE_DELAY</th><th>TAXI_OUT</th><th>WHEELS_OFF</th><th>SCHEDULED_TIME</th><th>ELAPSED_TIME</th><th>AIR_TIME</th><th>DISTANCE</th><th>WHEELS_ON</th><th>TAXI_IN</th><th>SCHEDULED_ARRIVAL</th><th>ARRIVAL_TIME</th><th>ARRIVAL_DELAY</th><th>DIVERTED</th><th>CANCELLED</th><th>CANCELLATION_REASON</th><th>AIR_SYSTEM_DELAY</th><th>SECURITY_DELAY</th><th>AIRLINE_DELAY</th><th>LATE_AIRCRAFT_DELAY</th><th>WEATHER_DELAY</th></tr><tr><td>str</td><td>i32</td><td>i32</td><td>i32</td><td>i32</td><td>i32</td><td>str</td><td>str</td><td>str</td><td>i32</td><td>i32</td><td>i32</td><td>i32</td><td>i32</td><td>i32</td><td>i32</td><td>i32</td><td>i32</td><td>i32</td><td>i32</td><td>i32</td><td>i32</td><td>i32</td><td>i32</td><td>i32</td><td>str</td><td>i32</td><td>i32</td><td>i32</td><td>i32</td><td>i32</td></tr></thead><tbody><tr><td>&quot;AS&quot;</td><td>2015</td><td>12</td><td>31</td><td>7</td><td>998</td><td>&quot;N799AS&quot;</td><td>&quot;YAK&quot;</td><td>&quot;YAK&quot;</td><td>2355</td><td>2400</td><td>963</td><td>156</td><td>2400</td><td>436</td><td>500</td><td>422</td><td>2874</td><td>2400</td><td>169</td><td>2359</td><td>2400</td><td>950</td><td>1</td><td>1</td><td>&quot;C&quot;</td><td>418</td><td>205</td><td>950</td><td>730</td><td>571</td></tr><tr><td>&quot;MQ&quot;</td><td>2015</td><td>12</td><td>31</td><td>7</td><td>3723</td><td>&quot;N9EAMQ&quot;</td><td>&quot;XNA&quot;</td><td>&quot;XNA&quot;</td><td>2355</td><td>2400</td><td>1544</td><td>171</td><td>2400</td><td>226</td><td>336</td><td>221</td><td>1250</td><td>2400</td><td>176</td><td>2359</td><td>2400</td><td>1528</td><td>1</td><td>1</td><td>&quot;D&quot;</td><td>1134</td><td>190</td><td>1528</td><td>1014</td><td>1152</td></tr><tr><td>&quot;EV&quot;</td><td>2015</td><td>12</td><td>31</td><td>7</td><td>6189</td><td>&quot;N981EV&quot;</td><td>&quot;XNA&quot;</td><td>&quot;XNA&quot;</td><td>2359</td><td>2400</td><td>1274</td><td>171</td><td>2400</td><td>473</td><td>365</td><td>255</td><td>1330</td><td>2400</td><td>164</td><td>2359</td><td>2400</td><td>1223</td><td>1</td><td>1</td><td>&quot;D&quot;</td><td>728</td><td>0</td><td>1218</td><td>1033</td><td>601</td></tr><tr><td>&quot;VX&quot;</td><td>2015</td><td>12</td><td>31</td><td>7</td><td>1990</td><td>&quot;N855VA&quot;</td><td>&quot;TUL&quot;</td><td>&quot;SFO&quot;</td><td>2359</td><td>2400</td><td>644</td><td>148</td><td>2400</td><td>600</td><td>498</td><td>422</td><td>2704</td><td>2400</td><td>174</td><td>2359</td><td>2400</td><td>651</td><td>1</td><td>1</td><td>&quot;C&quot;</td><td>424</td><td>196</td><td>651</td><td>572</td><td>200</td></tr><tr><td>&quot;WN&quot;</td><td>2015</td><td>12</td><td>31</td><td>7</td><td>6899</td><td>&quot;N969WN&quot;</td><td>&quot;TUS&quot;</td><td>&quot;TUS&quot;</td><td>2345</td><td>2400</td><td>665</td><td>177</td><td>2400</td><td>380</td><td>447</td><td>398</td><td>2447</td><td>2400</td><td>180</td><td>2355</td><td>2400</td><td>659</td><td>1</td><td>1</td><td>&quot;D&quot;</td><td>602</td><td>227</td><td>659</td><td>544</td><td>604</td></tr><tr><td>&hellip;</td><td>&hellip;</td><td>&hellip;</td><td>&hellip;</td><td>&hellip;</td><td>&hellip;</td><td>&hellip;</td><td>&hellip;</td><td>&hellip;</td><td>&hellip;</td><td>&hellip;</td><td>&hellip;</td><td>&hellip;</td><td>&hellip;</td><td>&hellip;</td><td>&hellip;</td><td>&hellip;</td><td>&hellip;</td><td>&hellip;</td><td>&hellip;</td><td>&hellip;</td><td>&hellip;</td><td>&hellip;</td><td>&hellip;</td><td>&hellip;</td><td>&hellip;</td><td>&hellip;</td><td>&hellip;</td><td>&hellip;</td><td>&hellip;</td><td>&hellip;</td></tr><tr><td>&quot;HA&quot;</td><td>2015</td><td>12</td><td>31</td><td>7</td><td>596</td><td>&quot;N594HA&quot;</td><td>&quot;SMF&quot;</td><td>&quot;SMF&quot;</td><td>2325</td><td>2400</td><td>1433</td><td>98</td><td>2359</td><td>680</td><td>733</td><td>690</td><td>4983</td><td>2400</td><td>103</td><td>2355</td><td>2400</td><td>1467</td><td>1</td><td>1</td><td>&quot;B&quot;</td><td>573</td><td>107</td><td>1467</td><td>335</td><td>240</td></tr><tr><td>&quot;AA&quot;</td><td>2015</td><td>12</td><td>31</td><td>7</td><td>2625</td><td>&quot;N982VJ&quot;</td><td>&quot;XNA&quot;</td><td>&quot;XNA&quot;</td><td>2359</td><td>2400</td><td>1988</td><td>225</td><td>2400</td><td>523</td><td>679</td><td>534</td><td>3784</td><td>2400</td><td>248</td><td>2359</td><td>2400</td><td>1971</td><td>1</td><td>1</td><td>&quot;D&quot;</td><td>916</td><td>171</td><td>1971</td><td>1331</td><td>1021</td></tr><tr><td>&quot;UA&quot;</td><td>2015</td><td>12</td><td>31</td><td>7</td><td>2119</td><td>&quot;N87531&quot;</td><td>&quot;TUS&quot;</td><td>&quot;TUS&quot;</td><td>2359</td><td>2359</td><td>1314</td><td>200</td><td>2359</td><td>683</td><td>766</td><td>683</td><td>4962</td><td>2359</td><td>157</td><td>2359</td><td>2359</td><td>1294</td><td>1</td><td>1</td><td>&quot;C&quot;</td><td>798</td><td>122</td><td>1185</td><td>1294</td><td>767</td></tr><tr><td>&quot;OO&quot;</td><td>2015</td><td>12</td><td>31</td><td>7</td><td>9855</td><td>&quot;N988CA&quot;</td><td>&quot;YUM&quot;</td><td>&quot;YUM&quot;</td><td>2359</td><td>2400</td><td>1378</td><td>176</td><td>2400</td><td>585</td><td>358</td><td>319</td><td>1735</td><td>2400</td><td>172</td><td>2400</td><td>2400</td><td>1372</td><td>1</td><td>1</td><td>&quot;C&quot;</td><td>1049</td><td>573</td><td>1233</td><td>618</td><td>1120</td></tr><tr><td>&quot;B6&quot;</td><td>2015</td><td>12</td><td>31</td><td>7</td><td>2998</td><td>&quot;N959JB&quot;</td><td>&quot;TPA&quot;</td><td>&quot;TPA&quot;</td><td>2359</td><td>2400</td><td>1006</td><td>172</td><td>2400</td><td>412</td><td>534</td><td>425</td><td>2704</td><td>2400</td><td>167</td><td>2359</td><td>2400</td><td>1002</td><td>1</td><td>1</td><td>&quot;D&quot;</td><td>600</td><td>364</td><td>942</td><td>605</td><td>515</td></tr></tbody></table></div>"
            ]
          },
          "metadata": {},
          "execution_count": 35
        }
      ],
      "source": [
        "vuelos.group_by('AIRLINE').max()\n",
        "\n"
      ]
    },
    {
      "cell_type": "code",
      "source": [
        "vuelos.group_by('AIRLINE').sum()"
      ],
      "metadata": {
        "colab": {
          "base_uri": "https://localhost:8080/",
          "height": 463
        },
        "id": "I1p0XUwHuBra",
        "outputId": "e6dc2602-603b-4e67-c05b-af7664441021"
      },
      "id": "I1p0XUwHuBra",
      "execution_count": 33,
      "outputs": [
        {
          "output_type": "execute_result",
          "data": {
            "text/plain": [
              "shape: (14, 31)\n",
              "┌─────────┬────────────┬─────────┬──────────┬───┬────────────┬────────────┬────────────┬───────────┐\n",
              "│ AIRLINE ┆ YEAR       ┆ MONTH   ┆ DAY      ┆ … ┆ SECURITY_D ┆ AIRLINE_DE ┆ LATE_AIRCR ┆ WEATHER_D │\n",
              "│ ---     ┆ ---        ┆ ---     ┆ ---      ┆   ┆ ELAY       ┆ LAY        ┆ AFT_DELAY  ┆ ELAY      │\n",
              "│ str     ┆ i32        ┆ i32     ┆ i32      ┆   ┆ ---        ┆ ---        ┆ ---        ┆ ---       │\n",
              "│         ┆            ┆         ┆          ┆   ┆ i32        ┆ i32        ┆ i32        ┆ i32       │\n",
              "╞═════════╪════════════╪═════════╪══════════╪═══╪════════════╪════════════╪════════════╪═══════════╡\n",
              "│ AS      ┆ 347629815  ┆ 1139803 ┆ 2714466  ┆ … ┆ 5825       ┆ 347425     ┆ 381417     ┆ 38832     │\n",
              "│ EV      ┆ 1152533655 ┆ 3630574 ┆ 8957446  ┆ … ┆ 0          ┆ 2363973    ┆ 2628976    ┆ 169313    │\n",
              "│ HA      ┆ 153688080  ┆ 496624  ┆ 1199014  ┆ … ┆ 401        ┆ 196422     ┆ 126699     ┆ 11429     │\n",
              "│ DL      ┆ 1764900215 ┆ 5793998 ┆ 13758845 ┆ … ┆ 3910       ┆ 2707569    ┆ 2136128    ┆ 602901    │\n",
              "│ MQ      ┆ 593683480  ┆ 1800802 ┆ 4601110  ┆ … ┆ 7049       ┆ 1055033    ┆ 1417073    ┆ 402305    │\n",
              "│ …       ┆ …          ┆ …       ┆ …        ┆ … ┆ …          ┆ …          ┆ …          ┆ …         │\n",
              "│ NK      ┆ 236518685  ┆ 787697  ┆ 1853281  ┆ … ┆ 5147       ┆ 471115     ┆ 701218     ┆ 44088     │\n",
              "│ WN      ┆ -175232947 ┆ 8277069 ┆ 19834859 ┆ … ┆ 11888      ┆ 3831371    ┆ 6313558    ┆ 545369    │\n",
              "│         ┆ 1          ┆         ┆          ┆   ┆            ┆            ┆            ┆           │\n",
              "│ AA      ┆ 1462857760 ┆ 5303075 ┆ 11417953 ┆ … ┆ 16158      ┆ 2753994    ┆ 2833302    ┆ 467420    │\n",
              "│ B6      ┆ 538101720  ┆ 1752069 ┆ 4205669  ┆ … ┆ 11417      ┆ 1074056    ┆ 1417496    ┆ 115770    │\n",
              "│ UA      ┆ 1039181845 ┆ 3419626 ┆ 8099912  ┆ … ┆ 1305       ┆ 2214313    ┆ 2724772    ┆ 325044    │\n",
              "└─────────┴────────────┴─────────┴──────────┴───┴────────────┴────────────┴────────────┴───────────┘"
            ],
            "text/html": [
              "<div><style>\n",
              ".dataframe > thead > tr,\n",
              ".dataframe > tbody > tr {\n",
              "  text-align: right;\n",
              "  white-space: pre-wrap;\n",
              "}\n",
              "</style>\n",
              "<small>shape: (14, 31)</small><table border=\"1\" class=\"dataframe\"><thead><tr><th>AIRLINE</th><th>YEAR</th><th>MONTH</th><th>DAY</th><th>DAY_OF_WEEK</th><th>FLIGHT_NUMBER</th><th>TAIL_NUMBER</th><th>ORIGIN_AIRPORT</th><th>DESTINATION_AIRPORT</th><th>SCHEDULED_DEPARTURE</th><th>DEPARTURE_TIME</th><th>DEPARTURE_DELAY</th><th>TAXI_OUT</th><th>WHEELS_OFF</th><th>SCHEDULED_TIME</th><th>ELAPSED_TIME</th><th>AIR_TIME</th><th>DISTANCE</th><th>WHEELS_ON</th><th>TAXI_IN</th><th>SCHEDULED_ARRIVAL</th><th>ARRIVAL_TIME</th><th>ARRIVAL_DELAY</th><th>DIVERTED</th><th>CANCELLED</th><th>CANCELLATION_REASON</th><th>AIR_SYSTEM_DELAY</th><th>SECURITY_DELAY</th><th>AIRLINE_DELAY</th><th>LATE_AIRCRAFT_DELAY</th><th>WEATHER_DELAY</th></tr><tr><td>str</td><td>i32</td><td>i32</td><td>i32</td><td>i32</td><td>i32</td><td>str</td><td>str</td><td>str</td><td>i32</td><td>i32</td><td>i32</td><td>i32</td><td>i32</td><td>i32</td><td>i32</td><td>i32</td><td>i32</td><td>i32</td><td>i32</td><td>i32</td><td>i32</td><td>i32</td><td>i32</td><td>i32</td><td>str</td><td>i32</td><td>i32</td><td>i32</td><td>i32</td><td>i32</td></tr></thead><tbody><tr><td>&quot;AS&quot;</td><td>347629815</td><td>1139803</td><td>2714466</td><td>688475</td><td>73650485</td><td>null</td><td>null</td><td>null</td><td>230292411</td><td>228463970</td><td>306997</td><td>2594361</td><td>230976654</td><td>31375694</td><td>30745834</td><td>27060752</td><td>206579765</td><td>256051961</td><td>1099115</td><td>261624805</td><td>256126476</td><td>-167421</td><td>413</td><td>669</td><td>null</td><td>301478</td><td>5825</td><td>347425</td><td>381417</td><td>38832</td></tr><tr><td>&quot;EV&quot;</td><td>1152533655</td><td>3630574</td><td>8957446</td><td>2226796</td><td>-1602841239</td><td>null</td><td>null</td><td>null</td><td>756187622</td><td>741011344</td><td>4857338</td><td>9320250</td><td>755684002</td><td>56800440</td><td>53879870</td><td>40365887</td><td>264397363</td><td>815326919</td><td>4248589</td><td>847801542</td><td>820910108</td><td>3653252</td><td>1994</td><td>15231</td><td>null</td><td>1687894</td><td>0</td><td>2363973</td><td>2628976</td><td>169313</td></tr><tr><td>&quot;HA&quot;</td><td>153688080</td><td>496624</td><td>1199014</td><td>306118</td><td>16587390</td><td>null</td><td>null</td><td>null</td><td>99534781</td><td>99130871</td><td>36972</td><td>833620</td><td>100552738</td><td>7717959</td><td>7807302</td><td>6454460</td><td>48249045</td><td>107903547</td><td>520567</td><td>109177520</td><td>108584874</td><td>153838</td><td>60</td><td>171</td><td>null</td><td>6241</td><td>401</td><td>196422</td><td>126699</td><td>11429</td></tr><tr><td>&quot;DL&quot;</td><td>1764900215</td><td>5793998</td><td>13758845</td><td>3423218</td><td>1415689021</td><td>null</td><td>null</td><td>null</td><td>1166518126</td><td>1164182263</td><td>6427294</td><td>15355902</td><td>1186406750</td><td>129309270</td><td>122249239</td><td>100660665</td><td>747671138</td><td>1298617952</td><td>6285909</td><td>1324118156</td><td>1303749221</td><td>162527</td><td>1782</td><td>3824</td><td>null</td><td>1779383</td><td>3910</td><td>2707569</td><td>2136128</td><td>602901</td></tr><tr><td>&quot;MQ&quot;</td><td>593683480</td><td>1800802</td><td>4601110</td><td>1155616</td><td>976164658</td><td>null</td><td>null</td><td>null</td><td>390584438</td><td>374274103</td><td>2837908</td><td>4629309</td><td>380885797</td><td>28305173</td><td>25814239</td><td>18673318</td><td>124427633</td><td>406382015</td><td>2538378</td><td>432634751</td><td>409494353</td><td>1800397</td><td>816</td><td>15025</td><td>null</td><td>930774</td><td>7049</td><td>1055033</td><td>1417073</td><td>402305</td></tr><tr><td>&hellip;</td><td>&hellip;</td><td>&hellip;</td><td>&hellip;</td><td>&hellip;</td><td>&hellip;</td><td>&hellip;</td><td>&hellip;</td><td>&hellip;</td><td>&hellip;</td><td>&hellip;</td><td>&hellip;</td><td>&hellip;</td><td>&hellip;</td><td>&hellip;</td><td>&hellip;</td><td>&hellip;</td><td>&hellip;</td><td>&hellip;</td><td>&hellip;</td><td>&hellip;</td><td>&hellip;</td><td>&hellip;</td><td>&hellip;</td><td>&hellip;</td><td>&hellip;</td><td>&hellip;</td><td>&hellip;</td><td>&hellip;</td><td>&hellip;</td><td>&hellip;</td></tr><tr><td>&quot;NK&quot;</td><td>236518685</td><td>787697</td><td>1853281</td><td>471134</td><td>63558819</td><td>null</td><td>null</td><td>null</td><td>159777331</td><td>157316734</td><td>1840887</td><td>1685129</td><td>158876530</td><td>18530870</td><td>18028119</td><td>15245550</td><td>115649669</td><td>165826428</td><td>1102282</td><td>173515440</td><td>165259870</td><td>1667050</td><td>182</td><td>2004</td><td>null</td><td>941423</td><td>5147</td><td>471115</td><td>701218</td><td>44088</td></tr><tr><td>&quot;WN&quot;</td><td>-1752329471</td><td>8277069</td><td>19834859</td><td>4929995</td><td>-2011255838</td><td>null</td><td>null</td><td>null</td><td>1680700625</td><td>1674380515</td><td>13186520</td><td>14880610</td><td>1697755274</td><td>160573205</td><td>150580943</td><td>128092352</td><td>934670301</td><td>1830060495</td><td>7679066</td><td>1884793230</td><td>1833312961</td><td>5435468</td><td>3409</td><td>16043</td><td>null</td><td>1669198</td><td>11888</td><td>3831371</td><td>6313558</td><td>545369</td></tr><tr><td>&quot;AA&quot;</td><td>1462857760</td><td>5303075</td><td>11417953</td><td>2872005</td><td>930458522</td><td>null</td><td>null</td><td>null</td><td>952878336</td><td>942636166</td><td>6369435</td><td>12707213</td><td>957884741</td><td>124654911</td><td>118656112</td><td>99672739</td><td>755995614</td><td>1062923419</td><td>6345176</td><td>1097729747</td><td>1066671915</td><td>2460604</td><td>2130</td><td>10919</td><td>null</td><td>1760561</td><td>16158</td><td>2753994</td><td>2833302</td><td>467420</td></tr><tr><td>&quot;B6&quot;</td><td>538101720</td><td>1752069</td><td>4205669</td><td>1064520</td><td>243401193</td><td>null</td><td>null</td><td>null</td><td>364069282</td><td>355229941</td><td>3026467</td><td>4696559</td><td>357721742</td><td>46081794</td><td>43980830</td><td>37696967</td><td>283651757</td><td>377898015</td><td>1608005</td><td>393149236</td><td>377831180</td><td>1749880</td><td>730</td><td>4276</td><td>null</td><td>991461</td><td>11417</td><td>1074056</td><td>1417496</td><td>115770</td></tr><tr><td>&quot;UA&quot;</td><td>1039181845</td><td>3419626</td><td>8099912</td><td>2006849</td><td>547410018</td><td>null</td><td>null</td><td>null</td><td>678915713</td><td>675062031</td><td>7355348</td><td>8867106</td><td>684900711</td><td>102966702</td><td>96853477</td><td>83697399</td><td>655765355</td><td>742297093</td><td>4329904</td><td>765286095</td><td>744522797</td><td>2757957</td><td>1388</td><td>6573</td><td>null</td><td>1510372</td><td>1305</td><td>2214313</td><td>2724772</td><td>325044</td></tr></tbody></table></div>"
            ]
          },
          "metadata": {},
          "execution_count": 33
        }
      ]
    },
    {
      "cell_type": "code",
      "source": [
        "\n",
        "vuelos.group_by('AIRLINE').mean()"
      ],
      "metadata": {
        "colab": {
          "base_uri": "https://localhost:8080/",
          "height": 463
        },
        "id": "-xTdMbjVuDpK",
        "outputId": "8b3c8d9d-5159-4cb0-d283-7211e34b508c"
      },
      "id": "-xTdMbjVuDpK",
      "execution_count": 34,
      "outputs": [
        {
          "output_type": "execute_result",
          "data": {
            "text/plain": [
              "shape: (14, 31)\n",
              "┌─────────┬────────┬──────────┬───────────┬───┬─────────────┬────────────┬────────────┬────────────┐\n",
              "│ AIRLINE ┆ YEAR   ┆ MONTH    ┆ DAY       ┆ … ┆ SECURITY_DE ┆ AIRLINE_DE ┆ LATE_AIRCR ┆ WEATHER_DE │\n",
              "│ ---     ┆ ---    ┆ ---      ┆ ---       ┆   ┆ LAY         ┆ LAY        ┆ AFT_DELAY  ┆ LAY        │\n",
              "│ str     ┆ f64    ┆ f64      ┆ f64       ┆   ┆ ---         ┆ ---        ┆ ---        ┆ ---        │\n",
              "│         ┆        ┆          ┆           ┆   ┆ f64         ┆ f64        ┆ f64        ┆ f64        │\n",
              "╞═════════╪════════╪══════════╪═══════════╪═══╪═════════════╪════════════╪════════════╪════════════╡\n",
              "│ B6      ┆ 2015.0 ┆ 6.560877 ┆ 15.748738 ┆ … ┆ 0.192936    ┆ 18.150503  ┆ 23.954305  ┆ 1.956401   │\n",
              "│ WN      ┆ 2015.0 ┆ 6.559445 ┆ 15.71881  ┆ … ┆ 0.05024     ┆ 16.191674  ┆ 26.68159   ┆ 2.304772   │\n",
              "│ AA      ┆ 2015.0 ┆ 7.304672 ┆ 15.727555 ┆ … ┆ 0.124026    ┆ 21.139201  ┆ 21.747956  ┆ 3.587838   │\n",
              "│ HA      ┆ 2015.0 ┆ 6.511223 ┆ 15.720238 ┆ … ┆ 0.046531    ┆ 22.792063  ┆ 14.701671  ┆ 1.326178   │\n",
              "│ VX      ┆ 2015.0 ┆ 6.713164 ┆ 15.766764 ┆ … ┆ 0.155035    ┆ 11.097809  ┆ 21.693751  ┆ 2.994057   │\n",
              "│ …       ┆ …      ┆ …        ┆ …         ┆ … ┆ …           ┆ …          ┆ …          ┆ …          │\n",
              "│ AS      ┆ 2015.0 ┆ 6.606749 ┆ 15.734119 ┆ … ┆ 0.260603    ┆ 15.543352  ┆ 17.064111  ┆ 1.737294   │\n",
              "│ OO      ┆ 2015.0 ┆ 6.514847 ┆ 15.699012 ┆ … ┆ 0.091804    ┆ 18.959163  ┆ 26.612403  ┆ 2.322232   │\n",
              "│ MQ      ┆ 2015.0 ┆ 6.112038 ┆ 15.616464 ┆ … ┆ 0.116422    ┆ 17.425025  ┆ 23.404512  ┆ 6.644508   │\n",
              "│ F9      ┆ 2015.0 ┆ 6.740753 ┆ 15.730426 ┆ … ┆ 0.0         ┆ 14.719983  ┆ 26.900255  ┆ 0.917098   │\n",
              "│ UA      ┆ 2015.0 ┆ 6.630742 ┆ 15.705935 ┆ … ┆ 0.012462    ┆ 21.144678  ┆ 26.019098  ┆ 3.103875   │\n",
              "└─────────┴────────┴──────────┴───────────┴───┴─────────────┴────────────┴────────────┴────────────┘"
            ],
            "text/html": [
              "<div><style>\n",
              ".dataframe > thead > tr,\n",
              ".dataframe > tbody > tr {\n",
              "  text-align: right;\n",
              "  white-space: pre-wrap;\n",
              "}\n",
              "</style>\n",
              "<small>shape: (14, 31)</small><table border=\"1\" class=\"dataframe\"><thead><tr><th>AIRLINE</th><th>YEAR</th><th>MONTH</th><th>DAY</th><th>DAY_OF_WEEK</th><th>FLIGHT_NUMBER</th><th>TAIL_NUMBER</th><th>ORIGIN_AIRPORT</th><th>DESTINATION_AIRPORT</th><th>SCHEDULED_DEPARTURE</th><th>DEPARTURE_TIME</th><th>DEPARTURE_DELAY</th><th>TAXI_OUT</th><th>WHEELS_OFF</th><th>SCHEDULED_TIME</th><th>ELAPSED_TIME</th><th>AIR_TIME</th><th>DISTANCE</th><th>WHEELS_ON</th><th>TAXI_IN</th><th>SCHEDULED_ARRIVAL</th><th>ARRIVAL_TIME</th><th>ARRIVAL_DELAY</th><th>DIVERTED</th><th>CANCELLED</th><th>CANCELLATION_REASON</th><th>AIR_SYSTEM_DELAY</th><th>SECURITY_DELAY</th><th>AIRLINE_DELAY</th><th>LATE_AIRCRAFT_DELAY</th><th>WEATHER_DELAY</th></tr><tr><td>str</td><td>f64</td><td>f64</td><td>f64</td><td>f64</td><td>f64</td><td>str</td><td>str</td><td>str</td><td>f64</td><td>f64</td><td>f64</td><td>f64</td><td>f64</td><td>f64</td><td>f64</td><td>f64</td><td>f64</td><td>f64</td><td>f64</td><td>f64</td><td>f64</td><td>f64</td><td>f64</td><td>f64</td><td>str</td><td>f64</td><td>f64</td><td>f64</td><td>f64</td><td>f64</td></tr></thead><tbody><tr><td>&quot;B6&quot;</td><td>2015.0</td><td>6.560877</td><td>15.748738</td><td>3.98625</td><td>911.451099</td><td>null</td><td>null</td><td>null</td><td>1363.310274</td><td>1351.49097</td><td>11.514353</td><td>17.872453</td><td>1361.287082</td><td>172.559967</td><td>167.838858</td><td>143.858492</td><td>1062.175178</td><td>1438.586664</td><td>6.121373</td><td>1472.204383</td><td>1438.332236</td><td>6.677861</td><td>0.002734</td><td>0.016012</td><td>null</td><td>16.754728</td><td>0.192936</td><td>18.150503</td><td>23.954305</td><td>1.956401</td></tr><tr><td>&quot;WN&quot;</td><td>2015.0</td><td>6.559445</td><td>15.71881</td><td>3.906943</td><td>1809.804976</td><td>null</td><td>null</td><td>null</td><td>1331.92849</td><td>1343.665475</td><td>10.581986</td><td>11.943682</td><td>1362.675977</td><td>127.251709</td><td>121.201368</td><td>103.100485</td><td>740.711335</td><td>1469.865536</td><td>6.167662</td><td>1493.668631</td><td>1472.477847</td><td>4.374964</td><td>0.002702</td><td>0.012714</td><td>null</td><td>7.054161</td><td>0.05024</td><td>16.191674</td><td>26.68159</td><td>2.304772</td></tr><tr><td>&quot;AA&quot;</td><td>2015.0</td><td>7.304672</td><td>15.727555</td><td>3.956017</td><td>1281.651554</td><td>null</td><td>null</td><td>null</td><td>1312.533521</td><td>1317.270543</td><td>8.900856</td><td>17.76917</td><td>1339.46102</td><td>171.704763</td><td>166.433282</td><td>139.806208</td><td>1041.339222</td><td>1486.907721</td><td>8.876172</td><td>1512.057768</td><td>1492.151436</td><td>3.451372</td><td>0.002934</td><td>0.01504</td><td>null</td><td>13.513774</td><td>0.124026</td><td>21.139201</td><td>21.747956</td><td>3.587838</td></tr><tr><td>&quot;HA&quot;</td><td>2015.0</td><td>6.511223</td><td>15.720238</td><td>4.013504</td><td>217.476794</td><td>null</td><td>null</td><td>null</td><td>1304.997653</td><td>1302.314416</td><td>0.485713</td><td>10.953551</td><td>1321.236949</td><td>101.189939</td><td>102.672269</td><td>84.881314</td><td>632.591842</td><td>1418.04827</td><td>6.841194</td><td>1431.423327</td><td>1427.002142</td><td>2.023093</td><td>0.000787</td><td>0.002242</td><td>null</td><td>0.724182</td><td>0.046531</td><td>22.792063</td><td>14.701671</td><td>1.326178</td></tr><tr><td>&quot;VX&quot;</td><td>2015.0</td><td>6.713164</td><td>15.766764</td><td>3.913865</td><td>574.940649</td><td>null</td><td>null</td><td>null</td><td>1349.713568</td><td>1356.407152</td><td>9.022595</td><td>14.755854</td><td>1376.237905</td><td>210.068898</td><td>205.558435</td><td>182.630796</td><td>1405.989322</td><td>1545.379614</td><td>8.186914</td><td>1574.010226</td><td>1551.53084</td><td>4.737706</td><td>0.001955</td><td>0.008626</td><td>null</td><td>20.360672</td><td>0.155035</td><td>11.097809</td><td>21.693751</td><td>2.994057</td></tr><tr><td>&hellip;</td><td>&hellip;</td><td>&hellip;</td><td>&hellip;</td><td>&hellip;</td><td>&hellip;</td><td>&hellip;</td><td>&hellip;</td><td>&hellip;</td><td>&hellip;</td><td>&hellip;</td><td>&hellip;</td><td>&hellip;</td><td>&hellip;</td><td>&hellip;</td><td>&hellip;</td><td>&hellip;</td><td>&hellip;</td><td>&hellip;</td><td>&hellip;</td><td>&hellip;</td><td>&hellip;</td><td>&hellip;</td><td>&hellip;</td><td>&hellip;</td><td>&hellip;</td><td>&hellip;</td><td>&hellip;</td><td>&hellip;</td><td>&hellip;</td><td>&hellip;</td></tr><tr><td>&quot;AS&quot;</td><td>2015.0</td><td>6.606749</td><td>15.734119</td><td>3.990674</td><td>426.907362</td><td>null</td><td>null</td><td>null</td><td>1334.865964</td><td>1328.974289</td><td>1.785801</td><td>15.093937</td><td>1343.817257</td><td>181.865941</td><td>179.339788</td><td>157.844784</td><td>1197.418082</td><td>1491.344739</td><td>6.401667</td><td>1516.480921</td><td>1491.778743</td><td>-0.976563</td><td>0.002394</td><td>0.003878</td><td>null</td><td>13.487742</td><td>0.260603</td><td>15.543352</td><td>17.064111</td><td>1.737294</td></tr><tr><td>&quot;OO&quot;</td><td>2015.0</td><td>6.514847</td><td>15.699012</td><td>3.9428</td><td>5149.144097</td><td>null</td><td>null</td><td>null</td><td>1332.211638</td><td>1339.759455</td><td>7.801104</td><td>18.14607</td><td>1368.543683</td><td>102.520543</td><td>100.724558</td><td>75.65501</td><td>496.772164</td><td>1468.520711</td><td>6.93326</td><td>1479.880077</td><td>1476.062404</td><td>5.845652</td><td>0.002684</td><td>0.016929</td><td>null</td><td>12.375082</td><td>0.091804</td><td>18.959163</td><td>26.612403</td><td>2.322232</td></tr><tr><td>&quot;MQ&quot;</td><td>2015.0</td><td>6.112038</td><td>15.616464</td><td>3.922235</td><td>3313.165773</td><td>null</td><td>null</td><td>null</td><td>1325.66876</td><td>1335.348338</td><td>10.125188</td><td>16.549323</td><td>1361.629143</td><td>96.069582</td><td>92.593516</td><td>66.97963</td><td>422.315407</td><td>1454.319725</td><td>9.084096</td><td>1468.390233</td><td>1465.457852</td><td>6.457873</td><td>0.00277</td><td>0.050996</td><td>null</td><td>15.372752</td><td>0.116422</td><td>17.425025</td><td>23.404512</td><td>6.644508</td></tr><tr><td>&quot;F9&quot;</td><td>2015.0</td><td>6.740753</td><td>15.730426</td><td>3.972379</td><td>820.153629</td><td>null</td><td>null</td><td>null</td><td>1387.03492</td><td>1377.829549</td><td>13.350858</td><td>15.674198</td><td>1377.926436</td><td>155.888546</td><td>155.056677</td><td>130.240571</td><td>967.21486</td><td>1471.239086</td><td>9.147244</td><td>1511.008268</td><td>1472.211313</td><td>12.504706</td><td>0.001739</td><td>0.006473</td><td>null</td><td>24.659907</td><td>0.0</td><td>14.719983</td><td>26.900255</td><td>0.917098</td></tr><tr><td>&quot;UA&quot;</td><td>2015.0</td><td>6.630742</td><td>15.705935</td><td>3.891331</td><td>1061.441933</td><td>null</td><td>null</td><td>null</td><td>1316.434817</td><td>1324.861601</td><td>14.435441</td><td>17.414003</td><td>1345.068306</td><td>199.655051</td><td>190.745816</td><td>164.835886</td><td>1271.545684</td><td>1458.584704</td><td>8.508092</td><td>1483.909182</td><td>1462.958125</td><td>5.431594</td><td>0.002691</td><td>0.012745</td><td>null</td><td>14.422681</td><td>0.012462</td><td>21.144678</td><td>26.019098</td><td>3.103875</td></tr></tbody></table></div>"
            ]
          },
          "metadata": {},
          "execution_count": 34
        }
      ]
    }
  ],
  "metadata": {
    "kernelspec": {
      "display_name": "Python 3 (ipykernel)",
      "language": "python",
      "name": "python3"
    },
    "language_info": {
      "codemirror_mode": {
        "name": "ipython",
        "version": 3
      },
      "file_extension": ".py",
      "mimetype": "text/x-python",
      "name": "python",
      "nbconvert_exporter": "python",
      "pygments_lexer": "ipython3",
      "version": "3.9.6"
    },
    "colab": {
      "provenance": []
    }
  },
  "nbformat": 4,
  "nbformat_minor": 5
}