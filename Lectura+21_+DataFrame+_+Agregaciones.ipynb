{
  "cells": [
    {
      "cell_type": "markdown",
      "id": "0734ad8f-b5b6-40c0-91eb-466ce0a9cbdd",
      "metadata": {
        "id": "0734ad8f-b5b6-40c0-91eb-466ce0a9cbdd"
      },
      "source": [
        "# Lectura 21: DataFrame - Agregaciones"
      ]
    },
    {
      "cell_type": "markdown",
      "id": "835710b3-55a1-45ff-ade0-4b2989fba8ab",
      "metadata": {
        "id": "835710b3-55a1-45ff-ade0-4b2989fba8ab"
      },
      "source": [
        "## Máximo y mínimo"
      ]
    },
    {
      "cell_type": "markdown",
      "id": "76bb67de-9e34-417c-afdb-1b22f1e4c90a",
      "metadata": {
        "id": "76bb67de-9e34-417c-afdb-1b22f1e4c90a"
      },
      "source": [
        "- `max`: Obtiene el máximo de cada columna.\n",
        "- `min`: Obtiene el mínimo de cada columna.\n",
        "- `max_horizontal`: Obtiene el máximo de una fila.\n",
        "- `min_horizontal`: Obtiene el mínimo de una fila."
      ]
    },
    {
      "cell_type": "code",
      "source": [
        "from google.colab import drive\n",
        "drive.mount('/content/drive')"
      ],
      "metadata": {
        "colab": {
          "base_uri": "https://localhost:8080/"
        },
        "id": "WJCF0B8AWzOn",
        "outputId": "4d223eac-7989-4313-b860-e14f92641f8f"
      },
      "id": "WJCF0B8AWzOn",
      "execution_count": 2,
      "outputs": [
        {
          "output_type": "stream",
          "name": "stdout",
          "text": [
            "Mounted at /content/drive\n"
          ]
        }
      ]
    },
    {
      "cell_type": "code",
      "execution_count": 5,
      "id": "87734dd5-2559-4b55-9c8d-50df441e770d",
      "metadata": {
        "tags": [],
        "colab": {
          "base_uri": "https://localhost:8080/"
        },
        "id": "87734dd5-2559-4b55-9c8d-50df441e770d",
        "outputId": "27a20052-9b47-40bf-95bd-ec27e560c366"
      },
      "outputs": [
        {
          "output_type": "stream",
          "name": "stdout",
          "text": [
            "shape: (48_137, 3)\n",
            "┌──────────┬────────┬──────────┐\n",
            "│ views    ┆ likes  ┆ dislikes │\n",
            "│ ---      ┆ ---    ┆ ---      │\n",
            "│ i32      ┆ i32    ┆ i32      │\n",
            "╞══════════╪════════╪══════════╡\n",
            "│ 748374   ┆ 57527  ┆ 2966     │\n",
            "│ 2418783  ┆ 97185  ┆ 6146     │\n",
            "│ 3191434  ┆ 146033 ┆ 5339     │\n",
            "│ 343168   ┆ 10172  ┆ 666      │\n",
            "│ 2095731  ┆ 132235 ┆ 1989     │\n",
            "│ …        ┆ …      ┆ …        │\n",
            "│ 1685609  ┆ 38160  ┆ 1385     │\n",
            "│ 1064798  ┆ 60008  ┆ 382      │\n",
            "│ 1066451  ┆ 48068  ┆ 1032     │\n",
            "│ 5660813  ┆ 192957 ┆ 2846     │\n",
            "│ 10306119 ┆ 357079 ┆ 212976   │\n",
            "└──────────┴────────┴──────────┘\n"
          ]
        }
      ],
      "source": [
        "import polars as pl\n",
        "\n",
        "# Lectura de los datos\n",
        "df = pl.read_parquet('/content/datos.parquet', columns=['views', 'likes', 'dislikes'], use_pyarrow=True) ## la columna column determina las columnas a descargar\n",
        "\n",
        "print(df)"
      ]
    },
    {
      "cell_type": "markdown",
      "source": [
        "## polars tiene funciones integradas maximo y minimo"
      ],
      "metadata": {
        "id": "1gaOLRYQXTvf"
      },
      "id": "1gaOLRYQXTvf"
    },
    {
      "cell_type": "code",
      "execution_count": 6,
      "id": "6025322c-c703-46e5-a154-72390b10786d",
      "metadata": {
        "tags": [],
        "colab": {
          "base_uri": "https://localhost:8080/",
          "height": 129
        },
        "id": "6025322c-c703-46e5-a154-72390b10786d",
        "outputId": "56901dc8-8c9d-4d45-96d2-e0b3bd6f0287"
      },
      "outputs": [
        {
          "output_type": "execute_result",
          "data": {
            "text/plain": [
              "shape: (1, 3)\n",
              "┌───────────┬─────────┬──────────┐\n",
              "│ views     ┆ likes   ┆ dislikes │\n",
              "│ ---       ┆ ---     ┆ ---      │\n",
              "│ i32       ┆ i32     ┆ i32      │\n",
              "╞═══════════╪═════════╪══════════╡\n",
              "│ 225211923 ┆ 5613827 ┆ 1674420  │\n",
              "└───────────┴─────────┴──────────┘"
            ],
            "text/html": [
              "<div><style>\n",
              ".dataframe > thead > tr,\n",
              ".dataframe > tbody > tr {\n",
              "  text-align: right;\n",
              "  white-space: pre-wrap;\n",
              "}\n",
              "</style>\n",
              "<small>shape: (1, 3)</small><table border=\"1\" class=\"dataframe\"><thead><tr><th>views</th><th>likes</th><th>dislikes</th></tr><tr><td>i32</td><td>i32</td><td>i32</td></tr></thead><tbody><tr><td>225211923</td><td>5613827</td><td>1674420</td></tr></tbody></table></div>"
            ]
          },
          "metadata": {},
          "execution_count": 6
        }
      ],
      "source": [
        "df.max()  ## maximo de cada columna"
      ]
    },
    {
      "cell_type": "code",
      "execution_count": 7,
      "id": "44d58a4e-1bbd-4aa5-8801-9bec05d48619",
      "metadata": {
        "tags": [],
        "colab": {
          "base_uri": "https://localhost:8080/",
          "height": 129
        },
        "id": "44d58a4e-1bbd-4aa5-8801-9bec05d48619",
        "outputId": "506cbc56-99f9-4655-897d-310254f82894"
      },
      "outputs": [
        {
          "output_type": "execute_result",
          "data": {
            "text/plain": [
              "shape: (1, 3)\n",
              "┌───────┬───────┬──────────┐\n",
              "│ views ┆ likes ┆ dislikes │\n",
              "│ ---   ┆ ---   ┆ ---      │\n",
              "│ i32   ┆ i32   ┆ i32      │\n",
              "╞═══════╪═══════╪══════════╡\n",
              "│ 549   ┆ 0     ┆ 0        │\n",
              "└───────┴───────┴──────────┘"
            ],
            "text/html": [
              "<div><style>\n",
              ".dataframe > thead > tr,\n",
              ".dataframe > tbody > tr {\n",
              "  text-align: right;\n",
              "  white-space: pre-wrap;\n",
              "}\n",
              "</style>\n",
              "<small>shape: (1, 3)</small><table border=\"1\" class=\"dataframe\"><thead><tr><th>views</th><th>likes</th><th>dislikes</th></tr><tr><td>i32</td><td>i32</td><td>i32</td></tr></thead><tbody><tr><td>549</td><td>0</td><td>0</td></tr></tbody></table></div>"
            ]
          },
          "metadata": {},
          "execution_count": 7
        }
      ],
      "source": [
        "df.min()  ## minimo de cada columna"
      ]
    },
    {
      "cell_type": "code",
      "source": [
        "df.max_horizontal()## EL maximo de cada fila del dataframe 48137 filas minimo por cada fila"
      ],
      "metadata": {
        "colab": {
          "base_uri": "https://localhost:8080/",
          "height": 443
        },
        "id": "yEFarKAYXn4B",
        "outputId": "03ccb054-b3a9-4b10-c123-cb439a32f981"
      },
      "id": "yEFarKAYXn4B",
      "execution_count": 16,
      "outputs": [
        {
          "output_type": "execute_result",
          "data": {
            "text/plain": [
              "shape: (48_137,)\n",
              "Series: 'max' [i32]\n",
              "[\n",
              "\t748374\n",
              "\t2418783\n",
              "\t3191434\n",
              "\t343168\n",
              "\t2095731\n",
              "\t…\n",
              "\t1685609\n",
              "\t1064798\n",
              "\t1066451\n",
              "\t5660813\n",
              "\t10306119\n",
              "]"
            ],
            "text/html": [
              "<div><style>\n",
              ".dataframe > thead > tr,\n",
              ".dataframe > tbody > tr {\n",
              "  text-align: right;\n",
              "  white-space: pre-wrap;\n",
              "}\n",
              "</style>\n",
              "<small>shape: (48_137,)</small><table border=\"1\" class=\"dataframe\"><thead><tr><th>max</th></tr><tr><td>i32</td></tr></thead><tbody><tr><td>748374</td></tr><tr><td>2418783</td></tr><tr><td>3191434</td></tr><tr><td>343168</td></tr><tr><td>2095731</td></tr><tr><td>&hellip;</td></tr><tr><td>1685609</td></tr><tr><td>1064798</td></tr><tr><td>1066451</td></tr><tr><td>5660813</td></tr><tr><td>10306119</td></tr></tbody></table></div>"
            ]
          },
          "metadata": {},
          "execution_count": 16
        }
      ]
    },
    {
      "cell_type": "code",
      "execution_count": 14,
      "id": "cbb2dabf-79be-48a4-adc6-fc87dc591c3d",
      "metadata": {
        "tags": [],
        "colab": {
          "base_uri": "https://localhost:8080/",
          "height": 443
        },
        "id": "cbb2dabf-79be-48a4-adc6-fc87dc591c3d",
        "outputId": "dc3c879b-0295-4f56-c0b7-78e6dc72139e"
      },
      "outputs": [
        {
          "output_type": "execute_result",
          "data": {
            "text/plain": [
              "shape: (48_137,)\n",
              "Series: 'min' [i32]\n",
              "[\n",
              "\t2966\n",
              "\t6146\n",
              "\t5339\n",
              "\t666\n",
              "\t1989\n",
              "\t…\n",
              "\t1385\n",
              "\t382\n",
              "\t1032\n",
              "\t2846\n",
              "\t212976\n",
              "]"
            ],
            "text/html": [
              "<div><style>\n",
              ".dataframe > thead > tr,\n",
              ".dataframe > tbody > tr {\n",
              "  text-align: right;\n",
              "  white-space: pre-wrap;\n",
              "}\n",
              "</style>\n",
              "<small>shape: (48_137,)</small><table border=\"1\" class=\"dataframe\"><thead><tr><th>min</th></tr><tr><td>i32</td></tr></thead><tbody><tr><td>2966</td></tr><tr><td>6146</td></tr><tr><td>5339</td></tr><tr><td>666</td></tr><tr><td>1989</td></tr><tr><td>&hellip;</td></tr><tr><td>1385</td></tr><tr><td>382</td></tr><tr><td>1032</td></tr><tr><td>2846</td></tr><tr><td>212976</td></tr></tbody></table></div>"
            ]
          },
          "metadata": {},
          "execution_count": 14
        }
      ],
      "source": [
        "df.min_horizontal()### EL minimo de cada fila del dataframe"
      ]
    },
    {
      "cell_type": "code",
      "execution_count": 18,
      "id": "1c8d1e2c-bed8-435e-b42b-9db517daf7aa",
      "metadata": {
        "colab": {
          "base_uri": "https://localhost:8080/",
          "height": 129
        },
        "id": "1c8d1e2c-bed8-435e-b42b-9db517daf7aa",
        "outputId": "eb4271b3-6a07-4a4a-b415-09becca2f81f"
      },
      "outputs": [
        {
          "output_type": "execute_result",
          "data": {
            "text/plain": [
              "shape: (1,)\n",
              "Series: 'min' [i32]\n",
              "[\n",
              "\t0\n",
              "]"
            ],
            "text/html": [
              "<div><style>\n",
              ".dataframe > thead > tr,\n",
              ".dataframe > tbody > tr {\n",
              "  text-align: right;\n",
              "  white-space: pre-wrap;\n",
              "}\n",
              "</style>\n",
              "<small>shape: (1,)</small><table border=\"1\" class=\"dataframe\"><thead><tr><th>min</th></tr><tr><td>i32</td></tr></thead><tbody><tr><td>0</td></tr></tbody></table></div>"
            ]
          },
          "metadata": {},
          "execution_count": 18
        }
      ],
      "source": [
        "from polars import col  ## importamos la funcion col\n",
        "\n",
        "df.filter(col('views') == 549).min_horizontal()## lo filtramos por el valor minimo horizontal"
      ]
    },
    {
      "cell_type": "code",
      "execution_count": 20,
      "id": "aac1b6bb-4c1c-4356-9d42-8f6af003fea1",
      "metadata": {
        "tags": [],
        "colab": {
          "base_uri": "https://localhost:8080/",
          "height": 443
        },
        "id": "aac1b6bb-4c1c-4356-9d42-8f6af003fea1",
        "outputId": "cc8302d2-a535-4ed8-ad60-cd7c119d5092"
      },
      "outputs": [
        {
          "output_type": "execute_result",
          "data": {
            "text/plain": [
              "shape: (48_137,)\n",
              "Series: 'max' [i32]\n",
              "[\n",
              "\t748374\n",
              "\t2418783\n",
              "\t3191434\n",
              "\t343168\n",
              "\t2095731\n",
              "\t…\n",
              "\t1685609\n",
              "\t1064798\n",
              "\t1066451\n",
              "\t5660813\n",
              "\t10306119\n",
              "]"
            ],
            "text/html": [
              "<div><style>\n",
              ".dataframe > thead > tr,\n",
              ".dataframe > tbody > tr {\n",
              "  text-align: right;\n",
              "  white-space: pre-wrap;\n",
              "}\n",
              "</style>\n",
              "<small>shape: (48_137,)</small><table border=\"1\" class=\"dataframe\"><thead><tr><th>max</th></tr><tr><td>i32</td></tr></thead><tbody><tr><td>748374</td></tr><tr><td>2418783</td></tr><tr><td>3191434</td></tr><tr><td>343168</td></tr><tr><td>2095731</td></tr><tr><td>&hellip;</td></tr><tr><td>1685609</td></tr><tr><td>1064798</td></tr><tr><td>1066451</td></tr><tr><td>5660813</td></tr><tr><td>10306119</td></tr></tbody></table></div>"
            ]
          },
          "metadata": {},
          "execution_count": 20
        }
      ],
      "source": [
        "df.max_horizontal()"
      ]
    },
    {
      "cell_type": "code",
      "execution_count": 19,
      "id": "b92d3117-72dd-49c8-bef4-f6cf194e036c",
      "metadata": {
        "colab": {
          "base_uri": "https://localhost:8080/",
          "height": 129
        },
        "id": "b92d3117-72dd-49c8-bef4-f6cf194e036c",
        "outputId": "a7000159-cac5-4897-e989-2cb7e6738a0c"
      },
      "outputs": [
        {
          "output_type": "execute_result",
          "data": {
            "text/plain": [
              "shape: (1,)\n",
              "Series: 'max' [i32]\n",
              "[\n",
              "\t549\n",
              "]"
            ],
            "text/html": [
              "<div><style>\n",
              ".dataframe > thead > tr,\n",
              ".dataframe > tbody > tr {\n",
              "  text-align: right;\n",
              "  white-space: pre-wrap;\n",
              "}\n",
              "</style>\n",
              "<small>shape: (1,)</small><table border=\"1\" class=\"dataframe\"><thead><tr><th>max</th></tr><tr><td>i32</td></tr></thead><tbody><tr><td>549</td></tr></tbody></table></div>"
            ]
          },
          "metadata": {},
          "execution_count": 19
        }
      ],
      "source": [
        "df.filter(col('views') == 549).max_horizontal()  ## determinamos el maximo de estas funciones"
      ]
    },
    {
      "cell_type": "markdown",
      "source": [
        "##hay maximos y minimos por columna y fila"
      ],
      "metadata": {
        "id": "2mc0TuoIYyDu"
      },
      "id": "2mc0TuoIYyDu"
    },
    {
      "cell_type": "markdown",
      "id": "2205b343-5a1c-4696-89b2-e605121c19e9",
      "metadata": {
        "id": "2205b343-5a1c-4696-89b2-e605121c19e9"
      },
      "source": [
        "### Media, mediana, varianza y desviación estándar"
      ]
    },
    {
      "cell_type": "markdown",
      "id": "077b58c6-4af6-483b-8d99-4a8f538b9ffb",
      "metadata": {
        "id": "077b58c6-4af6-483b-8d99-4a8f538b9ffb"
      },
      "source": [
        "- `mean`: Halla la media de las columnas.\n",
        "- `median`: Halla la mediana de las columnas.\n",
        "- `var`: Halla la varianza de las columnas.\n",
        "- `std`: Halla la varianza de las columnas."
      ]
    },
    {
      "cell_type": "code",
      "execution_count": 23,
      "id": "ae389d06-9af6-42bf-9d3b-478013fbe29e",
      "metadata": {
        "tags": [],
        "colab": {
          "base_uri": "https://localhost:8080/",
          "height": 129
        },
        "id": "ae389d06-9af6-42bf-9d3b-478013fbe29e",
        "outputId": "517fc7f3-2da6-470f-91e2-7bfa11a6a49c"
      },
      "outputs": [
        {
          "output_type": "execute_result",
          "data": {
            "text/plain": [
              "shape: (1, 3)\n",
              "┌──────────┬──────────────┬─────────────┐\n",
              "│ views    ┆ likes        ┆ dislikes    │\n",
              "│ ---      ┆ ---          ┆ ---         │\n",
              "│ f64      ┆ f64          ┆ f64         │\n",
              "╞══════════╪══════════════╪═════════════╡\n",
              "│ 2.3608e6 ┆ 74266.702435 ┆ 3711.400889 │\n",
              "└──────────┴──────────────┴─────────────┘"
            ],
            "text/html": [
              "<div><style>\n",
              ".dataframe > thead > tr,\n",
              ".dataframe > tbody > tr {\n",
              "  text-align: right;\n",
              "  white-space: pre-wrap;\n",
              "}\n",
              "</style>\n",
              "<small>shape: (1, 3)</small><table border=\"1\" class=\"dataframe\"><thead><tr><th>views</th><th>likes</th><th>dislikes</th></tr><tr><td>f64</td><td>f64</td><td>f64</td></tr></thead><tbody><tr><td>2.3608e6</td><td>74266.702435</td><td>3711.400889</td></tr></tbody></table></div>"
            ]
          },
          "metadata": {},
          "execution_count": 23
        }
      ],
      "source": [
        "df.mean()  ## media de cada una de las columnas del dataframe"
      ]
    },
    {
      "cell_type": "code",
      "execution_count": 24,
      "id": "7f5c1607-75b0-4499-867a-885f7321efbc",
      "metadata": {
        "tags": [],
        "colab": {
          "base_uri": "https://localhost:8080/",
          "height": 129
        },
        "id": "7f5c1607-75b0-4499-867a-885f7321efbc",
        "outputId": "5b9caea9-4d09-4fbc-9066-d7d0cb18724d"
      },
      "outputs": [
        {
          "output_type": "execute_result",
          "data": {
            "text/plain": [
              "shape: (1, 3)\n",
              "┌──────────┬─────────┬──────────┐\n",
              "│ views    ┆ likes   ┆ dislikes │\n",
              "│ ---      ┆ ---     ┆ ---      │\n",
              "│ f64      ┆ f64     ┆ f64      │\n",
              "╞══════════╪═════════╪══════════╡\n",
              "│ 681861.0 ┆ 18091.0 ┆ 631.0    │\n",
              "└──────────┴─────────┴──────────┘"
            ],
            "text/html": [
              "<div><style>\n",
              ".dataframe > thead > tr,\n",
              ".dataframe > tbody > tr {\n",
              "  text-align: right;\n",
              "  white-space: pre-wrap;\n",
              "}\n",
              "</style>\n",
              "<small>shape: (1, 3)</small><table border=\"1\" class=\"dataframe\"><thead><tr><th>views</th><th>likes</th><th>dislikes</th></tr><tr><td>f64</td><td>f64</td><td>f64</td></tr></thead><tbody><tr><td>681861.0</td><td>18091.0</td><td>631.0</td></tr></tbody></table></div>"
            ]
          },
          "metadata": {},
          "execution_count": 24
        }
      ],
      "source": [
        "df.median()## mediana de cada una de las columnas del dataframe"
      ]
    },
    {
      "cell_type": "code",
      "execution_count": 25,
      "id": "bb1b839a-43f1-4dbd-81ce-6641f171267b",
      "metadata": {
        "tags": [],
        "colab": {
          "base_uri": "https://localhost:8080/",
          "height": 129
        },
        "id": "bb1b839a-43f1-4dbd-81ce-6641f171267b",
        "outputId": "b5b6ab7b-a883-463d-ec06-2b1723918813"
      },
      "outputs": [
        {
          "output_type": "execute_result",
          "data": {
            "text/plain": [
              "shape: (1, 3)\n",
              "┌───────────┬───────────┬──────────┐\n",
              "│ views     ┆ likes     ┆ dislikes │\n",
              "│ ---       ┆ ---       ┆ ---      │\n",
              "│ f64       ┆ f64       ┆ f64      │\n",
              "╞═══════════╪═══════════╪══════════╡\n",
              "│ 5.4673e13 ┆ 5.2388e10 ┆ 8.4272e8 │\n",
              "└───────────┴───────────┴──────────┘"
            ],
            "text/html": [
              "<div><style>\n",
              ".dataframe > thead > tr,\n",
              ".dataframe > tbody > tr {\n",
              "  text-align: right;\n",
              "  white-space: pre-wrap;\n",
              "}\n",
              "</style>\n",
              "<small>shape: (1, 3)</small><table border=\"1\" class=\"dataframe\"><thead><tr><th>views</th><th>likes</th><th>dislikes</th></tr><tr><td>f64</td><td>f64</td><td>f64</td></tr></thead><tbody><tr><td>5.4673e13</td><td>5.2388e10</td><td>8.4272e8</td></tr></tbody></table></div>"
            ]
          },
          "metadata": {},
          "execution_count": 25
        }
      ],
      "source": [
        "df.var()## varianza de cada una de las columnas del dataframe"
      ]
    },
    {
      "cell_type": "code",
      "execution_count": 26,
      "id": "adbc6100-cdad-4c73-9908-d0bc103e2d8d",
      "metadata": {
        "tags": [],
        "colab": {
          "base_uri": "https://localhost:8080/",
          "height": 129
        },
        "id": "adbc6100-cdad-4c73-9908-d0bc103e2d8d",
        "outputId": "d68d4514-933b-4871-a9d9-fe2f1095f9ce"
      },
      "outputs": [
        {
          "output_type": "execute_result",
          "data": {
            "text/plain": [
              "shape: (1, 3)\n",
              "┌──────────┬───────────────┬──────────────┐\n",
              "│ views    ┆ likes         ┆ dislikes     │\n",
              "│ ---      ┆ ---           ┆ ---          │\n",
              "│ f64      ┆ f64           ┆ f64          │\n",
              "╞══════════╪═══════════════╪══════════════╡\n",
              "│ 7.3941e6 ┆ 228885.338209 ┆ 29029.705945 │\n",
              "└──────────┴───────────────┴──────────────┘"
            ],
            "text/html": [
              "<div><style>\n",
              ".dataframe > thead > tr,\n",
              ".dataframe > tbody > tr {\n",
              "  text-align: right;\n",
              "  white-space: pre-wrap;\n",
              "}\n",
              "</style>\n",
              "<small>shape: (1, 3)</small><table border=\"1\" class=\"dataframe\"><thead><tr><th>views</th><th>likes</th><th>dislikes</th></tr><tr><td>f64</td><td>f64</td><td>f64</td></tr></thead><tbody><tr><td>7.3941e6</td><td>228885.338209</td><td>29029.705945</td></tr></tbody></table></div>"
            ]
          },
          "metadata": {},
          "execution_count": 26
        }
      ],
      "source": [
        "df.std()## desviacion estandar de cada una de las columnas del dataframe"
      ]
    },
    {
      "cell_type": "code",
      "source": [
        "df"
      ],
      "metadata": {
        "colab": {
          "base_uri": "https://localhost:8080/",
          "height": 443
        },
        "id": "MTtDa4btZ3Ck",
        "outputId": "a519f282-7429-470b-cca5-bc53ab93c2c5"
      },
      "id": "MTtDa4btZ3Ck",
      "execution_count": 31,
      "outputs": [
        {
          "output_type": "execute_result",
          "data": {
            "text/plain": [
              "shape: (48_137, 3)\n",
              "┌──────────┬────────┬──────────┐\n",
              "│ views    ┆ likes  ┆ dislikes │\n",
              "│ ---      ┆ ---    ┆ ---      │\n",
              "│ i32      ┆ i32    ┆ i32      │\n",
              "╞══════════╪════════╪══════════╡\n",
              "│ 748374   ┆ 57527  ┆ 2966     │\n",
              "│ 2418783  ┆ 97185  ┆ 6146     │\n",
              "│ 3191434  ┆ 146033 ┆ 5339     │\n",
              "│ 343168   ┆ 10172  ┆ 666      │\n",
              "│ 2095731  ┆ 132235 ┆ 1989     │\n",
              "│ …        ┆ …      ┆ …        │\n",
              "│ 1685609  ┆ 38160  ┆ 1385     │\n",
              "│ 1064798  ┆ 60008  ┆ 382      │\n",
              "│ 1066451  ┆ 48068  ┆ 1032     │\n",
              "│ 5660813  ┆ 192957 ┆ 2846     │\n",
              "│ 10306119 ┆ 357079 ┆ 212976   │\n",
              "└──────────┴────────┴──────────┘"
            ],
            "text/html": [
              "<div><style>\n",
              ".dataframe > thead > tr,\n",
              ".dataframe > tbody > tr {\n",
              "  text-align: right;\n",
              "  white-space: pre-wrap;\n",
              "}\n",
              "</style>\n",
              "<small>shape: (48_137, 3)</small><table border=\"1\" class=\"dataframe\"><thead><tr><th>views</th><th>likes</th><th>dislikes</th></tr><tr><td>i32</td><td>i32</td><td>i32</td></tr></thead><tbody><tr><td>748374</td><td>57527</td><td>2966</td></tr><tr><td>2418783</td><td>97185</td><td>6146</td></tr><tr><td>3191434</td><td>146033</td><td>5339</td></tr><tr><td>343168</td><td>10172</td><td>666</td></tr><tr><td>2095731</td><td>132235</td><td>1989</td></tr><tr><td>&hellip;</td><td>&hellip;</td><td>&hellip;</td></tr><tr><td>1685609</td><td>38160</td><td>1385</td></tr><tr><td>1064798</td><td>60008</td><td>382</td></tr><tr><td>1066451</td><td>48068</td><td>1032</td></tr><tr><td>5660813</td><td>192957</td><td>2846</td></tr><tr><td>10306119</td><td>357079</td><td>212976</td></tr></tbody></table></div>"
            ]
          },
          "metadata": {},
          "execution_count": 31
        }
      ]
    },
    {
      "cell_type": "code",
      "source": [
        "df.product()  ## producto de cada columna del dataframe"
      ],
      "metadata": {
        "colab": {
          "base_uri": "https://localhost:8080/",
          "height": 129
        },
        "id": "fxpbUXjRZQb5",
        "outputId": "163cdce6-0064-4695-ec78-7d6966aa8410"
      },
      "id": "fxpbUXjRZQb5",
      "execution_count": 29,
      "outputs": [
        {
          "output_type": "execute_result",
          "data": {
            "text/plain": [
              "shape: (1, 3)\n",
              "┌───────┬───────┬──────────┐\n",
              "│ views ┆ likes ┆ dislikes │\n",
              "│ ---   ┆ ---   ┆ ---      │\n",
              "│ i64   ┆ i64   ┆ i64      │\n",
              "╞═══════╪═══════╪══════════╡\n",
              "│ 0     ┆ 0     ┆ 0        │\n",
              "└───────┴───────┴──────────┘"
            ],
            "text/html": [
              "<div><style>\n",
              ".dataframe > thead > tr,\n",
              ".dataframe > tbody > tr {\n",
              "  text-align: right;\n",
              "  white-space: pre-wrap;\n",
              "}\n",
              "</style>\n",
              "<small>shape: (1, 3)</small><table border=\"1\" class=\"dataframe\"><thead><tr><th>views</th><th>likes</th><th>dislikes</th></tr><tr><td>i64</td><td>i64</td><td>i64</td></tr></thead><tbody><tr><td>0</td><td>0</td><td>0</td></tr></tbody></table></div>"
            ]
          },
          "metadata": {},
          "execution_count": 29
        }
      ]
    },
    {
      "cell_type": "markdown",
      "id": "daf98343-90c3-493a-8948-e87f5ea1d953",
      "metadata": {
        "id": "daf98343-90c3-493a-8948-e87f5ea1d953"
      },
      "source": [
        "### Producto\n",
        "\n",
        "La función `product` calcula el producto de las columnas del DataFrame. Para demostrar el funcionamiento de esta función vamos a crear primeramente un DataFrame más sencillo."
      ]
    },
    {
      "cell_type": "code",
      "execution_count": 28,
      "id": "1f7a4594-620c-4211-aa0c-8d46dd855d31",
      "metadata": {
        "tags": [],
        "colab": {
          "base_uri": "https://localhost:8080/",
          "height": 129
        },
        "id": "1f7a4594-620c-4211-aa0c-8d46dd855d31",
        "outputId": "aed7a865-d79b-4d99-9926-0b235aeb8e1f"
      },
      "outputs": [
        {
          "output_type": "execute_result",
          "data": {
            "text/plain": [
              "shape: (1, 2)\n",
              "┌─────┬────────┐\n",
              "│ int ┆ float  │\n",
              "│ --- ┆ ---    │\n",
              "│ i64 ┆ f64    │\n",
              "╞═════╪════════╡\n",
              "│ 21  ┆ 37.024 │\n",
              "└─────┴────────┘"
            ],
            "text/html": [
              "<div><style>\n",
              ".dataframe > thead > tr,\n",
              ".dataframe > tbody > tr {\n",
              "  text-align: right;\n",
              "  white-space: pre-wrap;\n",
              "}\n",
              "</style>\n",
              "<small>shape: (1, 2)</small><table border=\"1\" class=\"dataframe\"><thead><tr><th>int</th><th>float</th></tr><tr><td>i64</td><td>f64</td></tr></thead><tbody><tr><td>21</td><td>37.024</td></tr></tbody></table></div>"
            ]
          },
          "metadata": {},
          "execution_count": 28
        }
      ],
      "source": [
        "df1 = pl.DataFrame(\n",
        "    {\n",
        "        'int': [3,1,7],\n",
        "        'float': [3.2, 8.9, 1.3]\n",
        "    }\n",
        ")\n",
        "\n",
        "\n",
        "df1.product()"
      ]
    },
    {
      "cell_type": "code",
      "source": [
        "print(df1)"
      ],
      "metadata": {
        "colab": {
          "base_uri": "https://localhost:8080/"
        },
        "id": "U1yo33waZrZx",
        "outputId": "cecc04b8-e473-4338-9753-fe08ace48ad1"
      },
      "id": "U1yo33waZrZx",
      "execution_count": 30,
      "outputs": [
        {
          "output_type": "stream",
          "name": "stdout",
          "text": [
            "shape: (3, 2)\n",
            "┌─────┬───────┐\n",
            "│ int ┆ float │\n",
            "│ --- ┆ ---   │\n",
            "│ i64 ┆ f64   │\n",
            "╞═════╪═══════╡\n",
            "│ 3   ┆ 3.2   │\n",
            "│ 1   ┆ 8.9   │\n",
            "│ 7   ┆ 1.3   │\n",
            "└─────┴───────┘\n"
          ]
        }
      ]
    },
    {
      "cell_type": "markdown",
      "id": "340a1f68-89b2-4676-90c3-8b03855bc8b5",
      "metadata": {
        "tags": [],
        "id": "340a1f68-89b2-4676-90c3-8b03855bc8b5"
      },
      "source": [
        "### Suma"
      ]
    },
    {
      "cell_type": "markdown",
      "id": "bb4e26af-a558-4cb8-a767-858e5e56a228",
      "metadata": {
        "id": "bb4e26af-a558-4cb8-a767-858e5e56a228"
      },
      "source": [
        "- `sum`: Suma los valores de las columnas.\n",
        "- `sum_horizontal`: Suma los valores de la filas."
      ]
    },
    {
      "cell_type": "code",
      "execution_count": 33,
      "id": "0cecfd48-1cb7-4b7f-8436-978c0255639c",
      "metadata": {
        "tags": [],
        "colab": {
          "base_uri": "https://localhost:8080/",
          "height": 129
        },
        "id": "0cecfd48-1cb7-4b7f-8436-978c0255639c",
        "outputId": "17537d39-236d-4f72-d7e6-2a034b9e08e9"
      },
      "outputs": [
        {
          "output_type": "execute_result",
          "data": {
            "text/plain": [
              "shape: (1, 2)\n",
              "┌─────┬───────┐\n",
              "│ int ┆ float │\n",
              "│ --- ┆ ---   │\n",
              "│ i64 ┆ f64   │\n",
              "╞═════╪═══════╡\n",
              "│ 11  ┆ 13.4  │\n",
              "└─────┴───────┘"
            ],
            "text/html": [
              "<div><style>\n",
              ".dataframe > thead > tr,\n",
              ".dataframe > tbody > tr {\n",
              "  text-align: right;\n",
              "  white-space: pre-wrap;\n",
              "}\n",
              "</style>\n",
              "<small>shape: (1, 2)</small><table border=\"1\" class=\"dataframe\"><thead><tr><th>int</th><th>float</th></tr><tr><td>i64</td><td>f64</td></tr></thead><tbody><tr><td>11</td><td>13.4</td></tr></tbody></table></div>"
            ]
          },
          "metadata": {},
          "execution_count": 33
        }
      ],
      "source": [
        "df1.sum() ##### Suma los valores de las columnas."
      ]
    },
    {
      "cell_type": "code",
      "execution_count": 34,
      "id": "ac9750d3-0106-4706-a52d-13775bf1775c",
      "metadata": {
        "tags": [],
        "colab": {
          "base_uri": "https://localhost:8080/",
          "height": 192
        },
        "id": "ac9750d3-0106-4706-a52d-13775bf1775c",
        "outputId": "55a6b887-6633-4ef9-eaec-0ae3e0709267"
      },
      "outputs": [
        {
          "output_type": "execute_result",
          "data": {
            "text/plain": [
              "shape: (3,)\n",
              "Series: 'sum' [f64]\n",
              "[\n",
              "\t6.2\n",
              "\t9.9\n",
              "\t8.3\n",
              "]"
            ],
            "text/html": [
              "<div><style>\n",
              ".dataframe > thead > tr,\n",
              ".dataframe > tbody > tr {\n",
              "  text-align: right;\n",
              "  white-space: pre-wrap;\n",
              "}\n",
              "</style>\n",
              "<small>shape: (3,)</small><table border=\"1\" class=\"dataframe\"><thead><tr><th>sum</th></tr><tr><td>f64</td></tr></thead><tbody><tr><td>6.2</td></tr><tr><td>9.9</td></tr><tr><td>8.3</td></tr></tbody></table></div>"
            ]
          },
          "metadata": {},
          "execution_count": 34
        }
      ],
      "source": [
        "df1.sum_horizontal() ######## Suma horizontalmente los valores de las columnas."
      ]
    }
  ],
  "metadata": {
    "kernelspec": {
      "display_name": "Python 3 (ipykernel)",
      "language": "python",
      "name": "python3"
    },
    "language_info": {
      "codemirror_mode": {
        "name": "ipython",
        "version": 3
      },
      "file_extension": ".py",
      "mimetype": "text/x-python",
      "name": "python",
      "nbconvert_exporter": "python",
      "pygments_lexer": "ipython3",
      "version": "3.9.6"
    },
    "colab": {
      "provenance": []
    }
  },
  "nbformat": 4,
  "nbformat_minor": 5
}